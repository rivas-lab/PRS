{
 "cells": [
  {
   "cell_type": "code",
   "execution_count": 1,
   "id": "e3d1052c",
   "metadata": {},
   "outputs": [],
   "source": [
    "suppressWarnings(suppressPackageStartupMessages({\n",
    "    library(tidyverse)\n",
    "    library(data.table)\n",
    "}))\n"
   ]
  },
  {
   "cell_type": "code",
   "execution_count": 2,
   "id": "ace61fdc",
   "metadata": {},
   "outputs": [],
   "source": [
    "source('paths.sh')"
   ]
  },
  {
   "cell_type": "code",
   "execution_count": 3,
   "id": "e2a7b46b",
   "metadata": {},
   "outputs": [],
   "source": [
    "file.path(str_replace(out_d, '/scratch', '/oak/stanford'), 'residual_regression.tsv.gz') %>%\n",
    "fread() %>%\n",
    "rename_with(function(x){str_replace(x, '#', '')}, starts_with(\"#\")) -> df\n"
   ]
  },
  {
   "cell_type": "code",
   "execution_count": 4,
   "id": "c2a2a7d6",
   "metadata": {},
   "outputs": [
    {
     "data": {
      "text/html": [
       "<table class=\"dataframe\">\n",
       "<caption>A data.table: 4 × 5</caption>\n",
       "<thead>\n",
       "\t<tr><th scope=col>BHq &lt; 0.05</th><th scope=col>BHq &lt; 0.01</th><th scope=col>P &lt; (0.05/nrow(center_df))</th><th scope=col>n</th><th scope=col>frac</th></tr>\n",
       "\t<tr><th scope=col>&lt;lgl&gt;</th><th scope=col>&lt;lgl&gt;</th><th scope=col>&lt;lgl&gt;</th><th scope=col>&lt;int&gt;</th><th scope=col>&lt;dbl&gt;</th></tr>\n",
       "</thead>\n",
       "<tbody>\n",
       "\t<tr><td>FALSE</td><td>FALSE</td><td>FALSE</td><td>27815</td><td>0.87249059</td></tr>\n",
       "\t<tr><td> TRUE</td><td>FALSE</td><td>FALSE</td><td> 1274</td><td>0.03996236</td></tr>\n",
       "\t<tr><td> TRUE</td><td> TRUE</td><td>FALSE</td><td> 1494</td><td>0.04686324</td></tr>\n",
       "\t<tr><td> TRUE</td><td> TRUE</td><td> TRUE</td><td> 1297</td><td>0.04068381</td></tr>\n",
       "</tbody>\n",
       "</table>\n"
      ],
      "text/latex": [
       "A data.table: 4 × 5\n",
       "\\begin{tabular}{lllll}\n",
       " BHq < 0.05 & BHq < 0.01 & P < (0.05/nrow(center\\_df)) & n & frac\\\\\n",
       " <lgl> & <lgl> & <lgl> & <int> & <dbl>\\\\\n",
       "\\hline\n",
       "\t FALSE & FALSE & FALSE & 27815 & 0.87249059\\\\\n",
       "\t  TRUE & FALSE & FALSE &  1274 & 0.03996236\\\\\n",
       "\t  TRUE &  TRUE & FALSE &  1494 & 0.04686324\\\\\n",
       "\t  TRUE &  TRUE &  TRUE &  1297 & 0.04068381\\\\\n",
       "\\end{tabular}\n"
      ],
      "text/markdown": [
       "\n",
       "A data.table: 4 × 5\n",
       "\n",
       "| BHq &lt; 0.05 &lt;lgl&gt; | BHq &lt; 0.01 &lt;lgl&gt; | P &lt; (0.05/nrow(center_df)) &lt;lgl&gt; | n &lt;int&gt; | frac &lt;dbl&gt; |\n",
       "|---|---|---|---|---|\n",
       "| FALSE | FALSE | FALSE | 27815 | 0.87249059 |\n",
       "|  TRUE | FALSE | FALSE |  1274 | 0.03996236 |\n",
       "|  TRUE |  TRUE | FALSE |  1494 | 0.04686324 |\n",
       "|  TRUE |  TRUE |  TRUE |  1297 | 0.04068381 |\n",
       "\n"
      ],
      "text/plain": [
       "  BHq < 0.05 BHq < 0.01 P < (0.05/nrow(center_df)) n     frac      \n",
       "1 FALSE      FALSE      FALSE                      27815 0.87249059\n",
       "2  TRUE      FALSE      FALSE                       1274 0.03996236\n",
       "3  TRUE       TRUE      FALSE                       1494 0.04686324\n",
       "4  TRUE       TRUE       TRUE                       1297 0.04068381"
      ]
     },
     "metadata": {},
     "output_type": "display_data"
    }
   ],
   "source": [
    "df %>%\n",
    "filter(str_detect(variable, '^center_id') ) -> center_df\n",
    "\n",
    "center_df$BHq <- p.adjust(center_df$P, method = 'BH')\n",
    "\n",
    "center_df %>%\n",
    "count(BHq < 0.05, BHq < 0.01, P < (0.05 / nrow(center_df))) %>%\n",
    "mutate(frac = n / nrow(center_df))\n"
   ]
  },
  {
   "cell_type": "code",
   "execution_count": 5,
   "id": "181e6c72",
   "metadata": {},
   "outputs": [],
   "source": [
    "(\n",
    "    center_df %>%\n",
    "    ggplot(aes(x = -log10(P))) +\n",
    "    stat_bin(binwidth=1)\n",
    ") %>%\n",
    "layer_data(1) %>%\n",
    "arrange(x) %>%\n",
    "mutate(cumsum_y = cumsum(y)) %>%\n",
    "filter(x < 20) %>%\n",
    "ggplot(aes(x = x, y = y)) +\n",
    "theme_bw(base_size=18) +\n",
    "geom_vline(xintercept = -log10(0.05/nrow(center_df)), color='red') +\n",
    "geom_hline(yintercept = nrow(center_df), color='gray') +\n",
    "geom_bar(stat = 'identity') +\n",
    "geom_line(aes(x = x, y = cumsum_y), color='black') +\n",
    "scale_y_continuous(\n",
    "    name = 'Number of (trait, assessment center) pairs', \n",
    "    sec.axis = sec_axis(\n",
    "        ~./nrow(center_df),\n",
    "        name = \"Cumulative frequency\"\n",
    "    )\n",
    ") +\n",
    "labs(\n",
    "    title = 'Significance of the assessment centers\\nin phenotype prediction',\n",
    "    x = latex2exp::TeX('$-\\\\log_{10}(P)$ of assessment center terms in regression model')\n",
    ") -> p_assessment_center\n"
   ]
  },
  {
   "cell_type": "code",
   "execution_count": 6,
   "id": "c57fada0",
   "metadata": {},
   "outputs": [],
   "source": [
    "for(ext in c('png', 'pdf')){ggsave(\n",
    "    sprintf('assessment_center_pvals.%s', ext),\n",
    "    p_assessment_center,\n",
    "    width=8, height=8\n",
    ")}"
   ]
  },
  {
   "cell_type": "code",
   "execution_count": null,
   "id": "e8ca79d0",
   "metadata": {},
   "outputs": [],
   "source": []
  }
 ],
 "metadata": {
  "kernelspec": {
   "display_name": "R",
   "language": "R",
   "name": "ir"
  },
  "language_info": {
   "codemirror_mode": "r",
   "file_extension": ".r",
   "mimetype": "text/x-r-source",
   "name": "R",
   "pygments_lexer": "r",
   "version": "3.6.2"
  }
 },
 "nbformat": 4,
 "nbformat_minor": 5
}

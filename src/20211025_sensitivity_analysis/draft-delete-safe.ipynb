{
 "cells": [
  {
   "cell_type": "code",
   "execution_count": 1,
   "id": "92cf1b83",
   "metadata": {},
   "outputs": [],
   "source": [
    "suppressWarnings(suppressPackageStartupMessages({\n",
    "    library(tidyverse)\n",
    "    library(data.table)\n",
    "}))\n"
   ]
  },
  {
   "cell_type": "code",
   "execution_count": 2,
   "id": "9abf3b88",
   "metadata": {},
   "outputs": [],
   "source": [
    "args <- c(\n",
    "'INI50'\n",
    ")"
   ]
  },
  {
   "cell_type": "code",
   "execution_count": 3,
   "id": "74f06fae",
   "metadata": {},
   "outputs": [],
   "source": [
    "GBE_ID <- args[1]"
   ]
  },
  {
   "cell_type": "code",
   "execution_count": 4,
   "id": "4a7690c6",
   "metadata": {},
   "outputs": [],
   "source": [
    "source('paths.sh')"
   ]
  },
  {
   "cell_type": "code",
   "execution_count": 5,
   "id": "16e020bf",
   "metadata": {},
   "outputs": [],
   "source": [
    "covariates <- c('age','sex','Array',paste0('PC',1:10))"
   ]
  },
  {
   "cell_type": "code",
   "execution_count": 6,
   "id": "02b7f5fd",
   "metadata": {},
   "outputs": [],
   "source": [
    "out_f <- file.path(out_d, 'output', sprintf('%s.tsv', GBE_ID))\n",
    "out_f <- 'dev.tsv'\n"
   ]
  },
  {
   "cell_type": "code",
   "execution_count": 10,
   "id": "50812c7a",
   "metadata": {},
   "outputs": [],
   "source": [
    "cat_or_zcat <- function(f){\n",
    "    ifelse(endsWith(f, '.zst'), 'zstdcat', ifelse(endsWith(f, '.gz'), 'zcat', 'cat'))\n",
    "}\n"
   ]
  },
  {
   "cell_type": "code",
   "execution_count": 8,
   "id": "39c95e8a",
   "metadata": {},
   "outputs": [],
   "source": [
    "covar_model_BETAs_f %>%\n",
    "str_replace_all('__TRAIT__', GBE_ID) %>%\n",
    "fread() %>%\n",
    "rename_with(\n",
    "    function(x){str_replace(x, '#', '')}, starts_with(\"#\")\n",
    ") -> covar_model_BETAs_df\n"
   ]
  },
  {
   "cell_type": "code",
   "execution_count": 9,
   "id": "20f2f8d8",
   "metadata": {},
   "outputs": [],
   "source": [
    "fam <- ifelse(\n",
    "    str_replace(GBE_ID, '[0-9]+$', '') %in% c('INI', 'QT_FC'),\n",
    "    'gaussian', 'binomial'\n",
    ")\n"
   ]
  },
  {
   "cell_type": "code",
   "execution_count": null,
   "id": "d5abe318",
   "metadata": {},
   "outputs": [],
   "source": [
    "# analysis center\n",
    "centers_f %>%\n",
    "fread(colClasses = c('#FID'='character', 'IID'='character')) %>%\n",
    "rename_with(function(x){str_replace(x, '#', '')}, starts_with(\"#\")) %>%\n",
    "drop_na(f.54.0.0) %>%\n",
    "mutate(center_id = relevel(as.factor(f.54.0.0), ref = \"11010\")) -> centers_df\n",
    "# the ref class: 11010 denotes \"Leeds\", which is the most common assessment center\n",
    "\n",
    "# phenotype file\n",
    "fread(\n",
    "    cmd=paste(cat_or_zcat(phe_f), phe_f),\n",
    "    colClasses = c('#FID'='character', 'IID'='character'),\n",
    "    select=c('#FID', 'IID', 'population', 'split', covariates, GBE_ID)\n",
    ") %>%\n",
    "rename_with(\n",
    "    function(x){str_replace(x, '#', '')}, starts_with(\"#\")\n",
    ") %>% \n",
    "na_if(list(GBE_ID = -9)) -> phe_df\n"
   ]
  },
  {
   "cell_type": "code",
   "execution_count": 12,
   "id": "ad08ba30",
   "metadata": {},
   "outputs": [],
   "source": [
    "# PRS\n",
    "fread(\n",
    "    cmd=paste(cat_or_zcat(PRS202110_f), PRS202110_f),\n",
    "    colClasses = c('#FID'='character', 'IID'='character'),\n",
    "    select=c('#FID', 'IID', paste0('PRS_', GBE_ID))\n",
    ") %>%\n",
    "rename_with(\n",
    "    function(x){str_replace(x, '#', '')}, starts_with(\"#\")\n",
    ") -> PRS_df\n",
    "\n",
    "phe_df %>% \n",
    "inner_join(PRS_df, by=c('FID', 'IID')) %>%\n",
    "inner_join(centers_df, by=c('FID', 'IID')) %>%\n",
    "drop_na(all_of(c(GBE_ID, paste0('PRS_', GBE_ID)))) -> full_df\n",
    "\n",
    "full_df %>% \n",
    "filter(population == 'white_british', split == 'test') -> test_df\n",
    "\n",
    "test_df %>%\n",
    "column_to_rownames('IID') %>%\n",
    "select(all_of(covariates)) %>% \n",
    "as.matrix %*% (\n",
    "    covar_model_BETAs_df %>%\n",
    "    filter(split == 'train_val') %>%\n",
    "    filter(variable %in% covariates) %>%\n",
    "    select(variable, estimate) %>%\n",
    "    rename('covar_score' = 'estimate') %>%\n",
    "    column_to_rownames('variable') %>%\n",
    "    as.matrix\n",
    ") %>%\n",
    "as.data.frame %>%\n",
    "rownames_to_column('IID') -> covar_score_df\n",
    "\n",
    "\n",
    "test_df %>%\n",
    "left_join(covar_score_df, by='IID') -> test_df\n"
   ]
  },
  {
   "cell_type": "code",
   "execution_count": 13,
   "id": "7cb7356f",
   "metadata": {},
   "outputs": [],
   "source": [
    "glmfit_center <- glm(\n",
    "    stats::as.formula(\n",
    "        sprintf('(%s - 1) ~ 1 + (1 * covar_score) + %s + %s', GBE_ID, 'center_id', paste0('PRS_', GBE_ID))\n",
    "    ),\n",
    "    family=fam,\n",
    "    data=test_df\n",
    ")"
   ]
  },
  {
   "cell_type": "code",
   "execution_count": 14,
   "id": "4a5d3ef1",
   "metadata": {},
   "outputs": [],
   "source": [
    "summary(glmfit_center)$coefficients %>%\n",
    "as.data.frame() %>% rownames_to_column('variable') %>%\n",
    "rename('variable' = 1, 'estimate' = 2, 'SE' =3, 'z_or_t_value' =4, 'P' = 5) %>%\n",
    "mutate(phenotype = GBE_ID) %>%\n",
    "select(phenotype, variable, estimate, SE, z_or_t_value, P) -> results_df\n"
   ]
  },
  {
   "cell_type": "code",
   "execution_count": 15,
   "id": "cbc1ef5d",
   "metadata": {},
   "outputs": [
    {
     "data": {
      "text/html": [
       "<table class=\"dataframe\">\n",
       "<caption>A data.frame: 23 × 6</caption>\n",
       "<thead>\n",
       "\t<tr><th scope=col>phenotype</th><th scope=col>variable</th><th scope=col>estimate</th><th scope=col>SE</th><th scope=col>z_or_t_value</th><th scope=col>P</th></tr>\n",
       "\t<tr><th scope=col>&lt;chr&gt;</th><th scope=col>&lt;chr&gt;</th><th scope=col>&lt;dbl&gt;</th><th scope=col>&lt;dbl&gt;</th><th scope=col>&lt;dbl&gt;</th><th scope=col>&lt;dbl&gt;</th></tr>\n",
       "</thead>\n",
       "<tbody>\n",
       "\t<tr><td>INI50</td><td>(Intercept)   </td><td>164.90492307</td><td>0.107947421</td><td>1527.6411620</td><td>0.000000e+00</td></tr>\n",
       "\t<tr><td>INI50</td><td>center_id10003</td><td>  2.06775672</td><td>1.109813779</td><td>   1.8631565</td><td>6.244461e-02</td></tr>\n",
       "\t<tr><td>INI50</td><td>center_id11001</td><td> -0.25980243</td><td>0.223322599</td><td>  -1.1633504</td><td>2.446915e-01</td></tr>\n",
       "\t<tr><td>INI50</td><td>center_id11002</td><td>  1.04039764</td><td>0.214613245</td><td>   4.8477793</td><td>1.251292e-06</td></tr>\n",
       "\t<tr><td>INI50</td><td>center_id11003</td><td> -0.06121557</td><td>0.196105759</td><td>  -0.3121559</td><td>7.549230e-01</td></tr>\n",
       "\t<tr><td>INI50</td><td>center_id11004</td><td> -1.08379564</td><td>0.194240695</td><td>  -5.5796528</td><td>2.419237e-08</td></tr>\n",
       "\t<tr><td>INI50</td><td>center_id11005</td><td>  0.06109116</td><td>0.198473874</td><td>   0.3078046</td><td>7.582320e-01</td></tr>\n",
       "\t<tr><td>INI50</td><td>center_id11006</td><td>  0.63910935</td><td>0.191250913</td><td>   3.3417323</td><td>8.330265e-04</td></tr>\n",
       "\t<tr><td>INI50</td><td>center_id11007</td><td>  1.19016504</td><td>0.167003052</td><td>   7.1266065</td><td>1.039028e-12</td></tr>\n",
       "\t<tr><td>INI50</td><td>center_id11008</td><td> -0.78187820</td><td>0.167609409</td><td>  -4.6648825</td><td>3.093864e-06</td></tr>\n",
       "\t<tr><td>INI50</td><td>center_id11009</td><td> -0.41751087</td><td>0.156351058</td><td>  -2.6703425</td><td>7.579213e-03</td></tr>\n",
       "\t<tr><td>INI50</td><td>center_id11011</td><td>  0.75219313</td><td>0.151230315</td><td>   4.9738251</td><td>6.580589e-07</td></tr>\n",
       "\t<tr><td>INI50</td><td>center_id11012</td><td>  1.46403168</td><td>0.269213524</td><td>   5.4381803</td><td>5.401439e-08</td></tr>\n",
       "\t<tr><td>INI50</td><td>center_id11013</td><td>  0.38851757</td><td>0.159764978</td><td>   2.4318069</td><td>1.502631e-02</td></tr>\n",
       "\t<tr><td>INI50</td><td>center_id11014</td><td>  0.25456011</td><td>0.164926129</td><td>   1.5434795</td><td>1.227192e-01</td></tr>\n",
       "\t<tr><td>INI50</td><td>center_id11016</td><td> -0.20882572</td><td>0.162808374</td><td>  -1.2826473</td><td>1.996201e-01</td></tr>\n",
       "\t<tr><td>INI50</td><td>center_id11017</td><td> -0.11836062</td><td>0.185248624</td><td>  -0.6389285</td><td>5.228716e-01</td></tr>\n",
       "\t<tr><td>INI50</td><td>center_id11018</td><td>  1.25189231</td><td>0.188284356</td><td>   6.6489449</td><td>2.974490e-11</td></tr>\n",
       "\t<tr><td>INI50</td><td>center_id11020</td><td>  0.69209020</td><td>0.186973627</td><td>   3.7015391</td><td>2.144665e-04</td></tr>\n",
       "\t<tr><td>INI50</td><td>center_id11021</td><td>  0.08442756</td><td>0.180835436</td><td>   0.4668751</td><td>6.405908e-01</td></tr>\n",
       "\t<tr><td>INI50</td><td>center_id11022</td><td> -1.32827774</td><td>0.480272709</td><td>  -2.7656740</td><td>5.682077e-03</td></tr>\n",
       "\t<tr><td>INI50</td><td>center_id11023</td><td>  0.26552239</td><td>0.905593787</td><td>   0.2932025</td><td>7.693683e-01</td></tr>\n",
       "\t<tr><td>INI50</td><td>PRS_INI50     </td><td>  0.99745858</td><td>0.008344989</td><td> 119.5278478</td><td>0.000000e+00</td></tr>\n",
       "</tbody>\n",
       "</table>\n"
      ],
      "text/latex": [
       "A data.frame: 23 × 6\n",
       "\\begin{tabular}{llllll}\n",
       " phenotype & variable & estimate & SE & z\\_or\\_t\\_value & P\\\\\n",
       " <chr> & <chr> & <dbl> & <dbl> & <dbl> & <dbl>\\\\\n",
       "\\hline\n",
       "\t INI50 & (Intercept)    & 164.90492307 & 0.107947421 & 1527.6411620 & 0.000000e+00\\\\\n",
       "\t INI50 & center\\_id10003 &   2.06775672 & 1.109813779 &    1.8631565 & 6.244461e-02\\\\\n",
       "\t INI50 & center\\_id11001 &  -0.25980243 & 0.223322599 &   -1.1633504 & 2.446915e-01\\\\\n",
       "\t INI50 & center\\_id11002 &   1.04039764 & 0.214613245 &    4.8477793 & 1.251292e-06\\\\\n",
       "\t INI50 & center\\_id11003 &  -0.06121557 & 0.196105759 &   -0.3121559 & 7.549230e-01\\\\\n",
       "\t INI50 & center\\_id11004 &  -1.08379564 & 0.194240695 &   -5.5796528 & 2.419237e-08\\\\\n",
       "\t INI50 & center\\_id11005 &   0.06109116 & 0.198473874 &    0.3078046 & 7.582320e-01\\\\\n",
       "\t INI50 & center\\_id11006 &   0.63910935 & 0.191250913 &    3.3417323 & 8.330265e-04\\\\\n",
       "\t INI50 & center\\_id11007 &   1.19016504 & 0.167003052 &    7.1266065 & 1.039028e-12\\\\\n",
       "\t INI50 & center\\_id11008 &  -0.78187820 & 0.167609409 &   -4.6648825 & 3.093864e-06\\\\\n",
       "\t INI50 & center\\_id11009 &  -0.41751087 & 0.156351058 &   -2.6703425 & 7.579213e-03\\\\\n",
       "\t INI50 & center\\_id11011 &   0.75219313 & 0.151230315 &    4.9738251 & 6.580589e-07\\\\\n",
       "\t INI50 & center\\_id11012 &   1.46403168 & 0.269213524 &    5.4381803 & 5.401439e-08\\\\\n",
       "\t INI50 & center\\_id11013 &   0.38851757 & 0.159764978 &    2.4318069 & 1.502631e-02\\\\\n",
       "\t INI50 & center\\_id11014 &   0.25456011 & 0.164926129 &    1.5434795 & 1.227192e-01\\\\\n",
       "\t INI50 & center\\_id11016 &  -0.20882572 & 0.162808374 &   -1.2826473 & 1.996201e-01\\\\\n",
       "\t INI50 & center\\_id11017 &  -0.11836062 & 0.185248624 &   -0.6389285 & 5.228716e-01\\\\\n",
       "\t INI50 & center\\_id11018 &   1.25189231 & 0.188284356 &    6.6489449 & 2.974490e-11\\\\\n",
       "\t INI50 & center\\_id11020 &   0.69209020 & 0.186973627 &    3.7015391 & 2.144665e-04\\\\\n",
       "\t INI50 & center\\_id11021 &   0.08442756 & 0.180835436 &    0.4668751 & 6.405908e-01\\\\\n",
       "\t INI50 & center\\_id11022 &  -1.32827774 & 0.480272709 &   -2.7656740 & 5.682077e-03\\\\\n",
       "\t INI50 & center\\_id11023 &   0.26552239 & 0.905593787 &    0.2932025 & 7.693683e-01\\\\\n",
       "\t INI50 & PRS\\_INI50      &   0.99745858 & 0.008344989 &  119.5278478 & 0.000000e+00\\\\\n",
       "\\end{tabular}\n"
      ],
      "text/markdown": [
       "\n",
       "A data.frame: 23 × 6\n",
       "\n",
       "| phenotype &lt;chr&gt; | variable &lt;chr&gt; | estimate &lt;dbl&gt; | SE &lt;dbl&gt; | z_or_t_value &lt;dbl&gt; | P &lt;dbl&gt; |\n",
       "|---|---|---|---|---|---|\n",
       "| INI50 | (Intercept)    | 164.90492307 | 0.107947421 | 1527.6411620 | 0.000000e+00 |\n",
       "| INI50 | center_id10003 |   2.06775672 | 1.109813779 |    1.8631565 | 6.244461e-02 |\n",
       "| INI50 | center_id11001 |  -0.25980243 | 0.223322599 |   -1.1633504 | 2.446915e-01 |\n",
       "| INI50 | center_id11002 |   1.04039764 | 0.214613245 |    4.8477793 | 1.251292e-06 |\n",
       "| INI50 | center_id11003 |  -0.06121557 | 0.196105759 |   -0.3121559 | 7.549230e-01 |\n",
       "| INI50 | center_id11004 |  -1.08379564 | 0.194240695 |   -5.5796528 | 2.419237e-08 |\n",
       "| INI50 | center_id11005 |   0.06109116 | 0.198473874 |    0.3078046 | 7.582320e-01 |\n",
       "| INI50 | center_id11006 |   0.63910935 | 0.191250913 |    3.3417323 | 8.330265e-04 |\n",
       "| INI50 | center_id11007 |   1.19016504 | 0.167003052 |    7.1266065 | 1.039028e-12 |\n",
       "| INI50 | center_id11008 |  -0.78187820 | 0.167609409 |   -4.6648825 | 3.093864e-06 |\n",
       "| INI50 | center_id11009 |  -0.41751087 | 0.156351058 |   -2.6703425 | 7.579213e-03 |\n",
       "| INI50 | center_id11011 |   0.75219313 | 0.151230315 |    4.9738251 | 6.580589e-07 |\n",
       "| INI50 | center_id11012 |   1.46403168 | 0.269213524 |    5.4381803 | 5.401439e-08 |\n",
       "| INI50 | center_id11013 |   0.38851757 | 0.159764978 |    2.4318069 | 1.502631e-02 |\n",
       "| INI50 | center_id11014 |   0.25456011 | 0.164926129 |    1.5434795 | 1.227192e-01 |\n",
       "| INI50 | center_id11016 |  -0.20882572 | 0.162808374 |   -1.2826473 | 1.996201e-01 |\n",
       "| INI50 | center_id11017 |  -0.11836062 | 0.185248624 |   -0.6389285 | 5.228716e-01 |\n",
       "| INI50 | center_id11018 |   1.25189231 | 0.188284356 |    6.6489449 | 2.974490e-11 |\n",
       "| INI50 | center_id11020 |   0.69209020 | 0.186973627 |    3.7015391 | 2.144665e-04 |\n",
       "| INI50 | center_id11021 |   0.08442756 | 0.180835436 |    0.4668751 | 6.405908e-01 |\n",
       "| INI50 | center_id11022 |  -1.32827774 | 0.480272709 |   -2.7656740 | 5.682077e-03 |\n",
       "| INI50 | center_id11023 |   0.26552239 | 0.905593787 |    0.2932025 | 7.693683e-01 |\n",
       "| INI50 | PRS_INI50      |   0.99745858 | 0.008344989 |  119.5278478 | 0.000000e+00 |\n",
       "\n"
      ],
      "text/plain": [
       "   phenotype variable       estimate     SE          z_or_t_value P           \n",
       "1  INI50     (Intercept)    164.90492307 0.107947421 1527.6411620 0.000000e+00\n",
       "2  INI50     center_id10003   2.06775672 1.109813779    1.8631565 6.244461e-02\n",
       "3  INI50     center_id11001  -0.25980243 0.223322599   -1.1633504 2.446915e-01\n",
       "4  INI50     center_id11002   1.04039764 0.214613245    4.8477793 1.251292e-06\n",
       "5  INI50     center_id11003  -0.06121557 0.196105759   -0.3121559 7.549230e-01\n",
       "6  INI50     center_id11004  -1.08379564 0.194240695   -5.5796528 2.419237e-08\n",
       "7  INI50     center_id11005   0.06109116 0.198473874    0.3078046 7.582320e-01\n",
       "8  INI50     center_id11006   0.63910935 0.191250913    3.3417323 8.330265e-04\n",
       "9  INI50     center_id11007   1.19016504 0.167003052    7.1266065 1.039028e-12\n",
       "10 INI50     center_id11008  -0.78187820 0.167609409   -4.6648825 3.093864e-06\n",
       "11 INI50     center_id11009  -0.41751087 0.156351058   -2.6703425 7.579213e-03\n",
       "12 INI50     center_id11011   0.75219313 0.151230315    4.9738251 6.580589e-07\n",
       "13 INI50     center_id11012   1.46403168 0.269213524    5.4381803 5.401439e-08\n",
       "14 INI50     center_id11013   0.38851757 0.159764978    2.4318069 1.502631e-02\n",
       "15 INI50     center_id11014   0.25456011 0.164926129    1.5434795 1.227192e-01\n",
       "16 INI50     center_id11016  -0.20882572 0.162808374   -1.2826473 1.996201e-01\n",
       "17 INI50     center_id11017  -0.11836062 0.185248624   -0.6389285 5.228716e-01\n",
       "18 INI50     center_id11018   1.25189231 0.188284356    6.6489449 2.974490e-11\n",
       "19 INI50     center_id11020   0.69209020 0.186973627    3.7015391 2.144665e-04\n",
       "20 INI50     center_id11021   0.08442756 0.180835436    0.4668751 6.405908e-01\n",
       "21 INI50     center_id11022  -1.32827774 0.480272709   -2.7656740 5.682077e-03\n",
       "22 INI50     center_id11023   0.26552239 0.905593787    0.2932025 7.693683e-01\n",
       "23 INI50     PRS_INI50        0.99745858 0.008344989  119.5278478 0.000000e+00"
      ]
     },
     "metadata": {},
     "output_type": "display_data"
    }
   ],
   "source": [
    "results_df"
   ]
  },
  {
   "cell_type": "code",
   "execution_count": null,
   "id": "d7ae9e1f",
   "metadata": {},
   "outputs": [],
   "source": [
    "results_df %>%\n",
    "rename('#model' = 'model') %>%\n",
    "fwrite(out_f, sep='\\t', na = \"NA\", quote=F)"
   ]
  },
  {
   "cell_type": "code",
   "execution_count": null,
   "id": "a8bf2cb0",
   "metadata": {},
   "outputs": [],
   "source": []
  }
 ],
 "metadata": {
  "kernelspec": {
   "display_name": "R",
   "language": "R",
   "name": "ir"
  },
  "language_info": {
   "codemirror_mode": "r",
   "file_extension": ".r",
   "mimetype": "text/x-r-source",
   "name": "R",
   "pygments_lexer": "r",
   "version": "3.6.2"
  }
 },
 "nbformat": 4,
 "nbformat_minor": 5
}

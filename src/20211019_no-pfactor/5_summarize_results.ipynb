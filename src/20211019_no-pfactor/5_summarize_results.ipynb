{
 "cells": [
  {
   "cell_type": "code",
   "execution_count": 1,
   "id": "9724c711",
   "metadata": {},
   "outputs": [],
   "source": [
    "suppressWarnings(suppressPackageStartupMessages({\n",
    "    library(tidyverse)\n",
    "    library(data.table) \n",
    "}))\n"
   ]
  },
  {
   "cell_type": "code",
   "execution_count": 2,
   "id": "e43d0ef7",
   "metadata": {},
   "outputs": [],
   "source": [
    "source('paths.sh')\n",
    "GBE_IDs <- c('INI50', 'INI21001', 'HC269', 'HC382')\n"
   ]
  },
  {
   "cell_type": "code",
   "execution_count": 3,
   "id": "4cbf0012",
   "metadata": {},
   "outputs": [],
   "source": [
    "'../20211028_freeze/PRSmap.eval.tsv.gz' %>%\n",
    "fread %>%\n",
    "rename_with(function(x){str_replace(x, '#', '')}, starts_with(\"#\")) %>%\n",
    "select(\n",
    "    -trait_category, -trait_category_plot,\n",
    "    -WBtest_P, -WBtest_BYq, -WBtest_is_significant\n",
    ") %>%\n",
    "filter(trait %in% GBE_IDs) -> base_results_df\n"
   ]
  },
  {
   "cell_type": "code",
   "execution_count": 4,
   "id": "972b7acb",
   "metadata": {},
   "outputs": [],
   "source": [
    "'predictive_performance.tsv' %>%\n",
    "fread %>%\n",
    "rename_with(function(x){str_replace(x, '#', '')}, starts_with(\"#\")) %>%\n",
    "select(-predictors, -response) -> additional_results_df\n"
   ]
  },
  {
   "cell_type": "code",
   "execution_count": 10,
   "id": "e916bb31",
   "metadata": {},
   "outputs": [],
   "source": [
    "base_results_df %>%\n",
    "select(trait, trait_name, family) %>%\n",
    "unique %>%\n",
    "left_join(\n",
    "    bind_rows(\n",
    "        base_results_df %>%\n",
    "        select(-trait_name, -family) %>%\n",
    "        filter(split != 'train_val', model == 'PRS', metric %in% c('r2', 'auc')) %>%\n",
    "        mutate(genotype = 'with penalty factors'),\n",
    "\n",
    "        additional_results_df %>%\n",
    "        filter(split != 'train_val', model == 'PRS', metric %in% c('r2', 'auc')) %>%\n",
    "        mutate(genotype = 'without penalty factors')\n",
    "\n",
    "    ),\n",
    "    by = \"trait\"\n",
    ") -> combined_df\n"
   ]
  },
  {
   "cell_type": "code",
   "execution_count": 11,
   "id": "531a3035",
   "metadata": {},
   "outputs": [],
   "source": [
    "get_split_order_df <- function(){\n",
    "    data.frame(\n",
    "        split = c(\n",
    "            'train', 'val', 'test', 'non_british_white',\n",
    "            's_asian', 'e_asian', 'african'\n",
    "        ),\n",
    "        split_plot = c(\n",
    "            'Training (WB)', 'Validation (WB)', 'Test (WB)',\n",
    "            'Non-British white', 'South Asian', 'East Asian', 'African'\n",
    "        ),\n",
    "        stringsAsFactors=F\n",
    "    ) %>% mutate(split_order=-1 * 1:n())\n",
    "}\n"
   ]
  },
  {
   "cell_type": "code",
   "execution_count": 12,
   "id": "67bc5f42",
   "metadata": {},
   "outputs": [],
   "source": [
    "base_results_df %>%\n",
    "select(trait, trait_name, family) %>%\n",
    "unique %>%\n",
    "left_join(\n",
    "    combined_df %>%\n",
    "    filter(split == 'test') %>%\n",
    "    mutate(genotype = paste0('metric_', genotype)) %>%\n",
    "    select(trait, `eval`, genotype) %>%\n",
    "    spread(genotype, `eval`),\n",
    "    by = \"trait\"\n",
    ") %>%\n",
    "left_join(\n",
    "    combined_df %>%\n",
    "    filter(split == 'test') %>%\n",
    "    mutate(genotype = paste0('n_variables_', genotype)) %>%\n",
    "    select(trait, n_variables, genotype) %>%\n",
    "    spread(genotype, n_variables),\n",
    "    by = \"trait\"\n",
    ") -> summary_table_df\n"
   ]
  },
  {
   "cell_type": "code",
   "execution_count": 13,
   "id": "54342ac0",
   "metadata": {},
   "outputs": [],
   "source": [
    "summary_table_df %>%\n",
    "rename('#trait' = 'trait') %>%\n",
    "fwrite('penalty_factor_performance.tsv', sep='\\t', na = \"NA\", quote=F)\n"
   ]
  },
  {
   "cell_type": "code",
   "execution_count": 23,
   "id": "3d79ba1e",
   "metadata": {},
   "outputs": [],
   "source": [
    "p_binomial <- combined_df %>%\n",
    "filter(metric == 'auc') %>%\n",
    "left_join(get_split_order_df(), by='split') %>%\n",
    "# filter(GBE_ID %in% GBE_IDs, split != 'train_val') %>%\n",
    "ggplot(aes(x = reorder(split_plot, split_order), y=`eval`, color=genotype, fill=genotype)) +\n",
    "geom_hline(yintercept = .5, color='black') +\n",
    "geom_bar(stat='identity', position = \"dodge2\") +\n",
    "geom_errorbar(aes(ymin = l_eval, ymax = u_eval), color='black', alpha=1, position = \"dodge2\") +\n",
    "coord_flip(ylim = c(.45, NA)) +\n",
    "theme_bw(base_size=14) +\n",
    "theme(legend.position='bottom') +\n",
    "labs(\n",
    "    title = 'Binary traits (Binomial model)',\n",
    "    x = 'Hold-out test set',\n",
    "    y = 'Pedictive performance or snpnet PRS model (AUC)', \n",
    "    fill='Prioritization',\n",
    "    color='Prioritization'\n",
    ") + \n",
    "scale_fill_brewer(palette=\"Dark2\") + \n",
    "scale_color_brewer(palette=\"Dark2\") +\n",
    "facet_wrap(~ trait, nrow = 1)"
   ]
  },
  {
   "cell_type": "code",
   "execution_count": 24,
   "id": "91dc141c",
   "metadata": {},
   "outputs": [],
   "source": [
    "p_gaussian <- combined_df %>%\n",
    "filter(metric == 'r2') %>%\n",
    "left_join(get_split_order_df(), by='split') %>%\n",
    "# filter(GBE_ID %in% GBE_IDs, split != 'train_val') %>%\n",
    "ggplot(aes(x = reorder(split_plot, split_order), y=`eval`, color=genotype, fill=genotype)) +\n",
    "geom_bar(stat='identity', position = \"dodge2\") +\n",
    "geom_errorbar(aes(ymin = l_eval, ymax = u_eval), color='black', alpha=1, position = \"dodge2\") +\n",
    "coord_flip() +\n",
    "theme_bw(base_size=14) +\n",
    "theme(legend.position='bottom') +\n",
    "labs(\n",
    "    title = 'Quantitative traits (Gaussian model)',\n",
    "    x = 'Hold-out test set',\n",
    "    y = latex2exp::TeX('Pedictive performance or snpnet PRS model (\\\\textit{R}$^2$)'), \n",
    "    fill='Prioritization',\n",
    "    color='Prioritization'\n",
    ") + \n",
    "scale_fill_brewer(palette=\"Dark2\") + \n",
    "scale_color_brewer(palette=\"Dark2\") +\n",
    "facet_wrap(~ trait_name, nrow = 1)\n"
   ]
  },
  {
   "cell_type": "code",
   "execution_count": 25,
   "id": "6f656593",
   "metadata": {},
   "outputs": [],
   "source": [
    "for(ext in c('png', 'pdf')){ggsave(\n",
    "    sprintf('penalty_factor_performance.%s', ext),\n",
    "    gridExtra::arrangeGrob(\n",
    "        p_binomial,\n",
    "        p_gaussian,\n",
    "        ncol=1\n",
    "    ),\n",
    "    width=8, height=8\n",
    ")}\n"
   ]
  },
  {
   "cell_type": "code",
   "execution_count": 26,
   "id": "a2f45ffc",
   "metadata": {},
   "outputs": [
    {
     "data": {
      "text/html": [
       "<table class=\"dataframe\">\n",
       "<caption>A data.table: 4 × 7</caption>\n",
       "<thead>\n",
       "\t<tr><th scope=col>trait</th><th scope=col>trait_name</th><th scope=col>family</th><th scope=col>metric_with penalty factors</th><th scope=col>metric_without penalty factors</th><th scope=col>n_variables_with penalty factors</th><th scope=col>n_variables_without penalty factors</th></tr>\n",
       "\t<tr><th scope=col>&lt;chr&gt;</th><th scope=col>&lt;chr&gt;</th><th scope=col>&lt;chr&gt;</th><th scope=col>&lt;dbl&gt;</th><th scope=col>&lt;dbl&gt;</th><th scope=col>&lt;int&gt;</th><th scope=col>&lt;int&gt;</th></tr>\n",
       "</thead>\n",
       "<tbody>\n",
       "\t<tr><td>HC269   </td><td>High cholesterol</td><td>binomial</td><td>0.6197173</td><td>0.6187414</td><td> 5987</td><td> 5506</td></tr>\n",
       "\t<tr><td>HC382   </td><td>Asthma          </td><td>binomial</td><td>0.6166376</td><td>0.6169773</td><td> 6430</td><td> 6819</td></tr>\n",
       "\t<tr><td>INI21001</td><td>BMI             </td><td>gaussian</td><td>0.1105250</td><td>0.1108556</td><td>27126</td><td>28667</td></tr>\n",
       "\t<tr><td>INI50   </td><td>Standing height </td><td>gaussian</td><td>0.1775686</td><td>0.1760525</td><td>51209</td><td>55937</td></tr>\n",
       "</tbody>\n",
       "</table>\n"
      ],
      "text/latex": [
       "A data.table: 4 × 7\n",
       "\\begin{tabular}{lllllll}\n",
       " trait & trait\\_name & family & metric\\_with penalty factors & metric\\_without penalty factors & n\\_variables\\_with penalty factors & n\\_variables\\_without penalty factors\\\\\n",
       " <chr> & <chr> & <chr> & <dbl> & <dbl> & <int> & <int>\\\\\n",
       "\\hline\n",
       "\t HC269    & High cholesterol & binomial & 0.6197173 & 0.6187414 &  5987 &  5506\\\\\n",
       "\t HC382    & Asthma           & binomial & 0.6166376 & 0.6169773 &  6430 &  6819\\\\\n",
       "\t INI21001 & BMI              & gaussian & 0.1105250 & 0.1108556 & 27126 & 28667\\\\\n",
       "\t INI50    & Standing height  & gaussian & 0.1775686 & 0.1760525 & 51209 & 55937\\\\\n",
       "\\end{tabular}\n"
      ],
      "text/markdown": [
       "\n",
       "A data.table: 4 × 7\n",
       "\n",
       "| trait &lt;chr&gt; | trait_name &lt;chr&gt; | family &lt;chr&gt; | metric_with penalty factors &lt;dbl&gt; | metric_without penalty factors &lt;dbl&gt; | n_variables_with penalty factors &lt;int&gt; | n_variables_without penalty factors &lt;int&gt; |\n",
       "|---|---|---|---|---|---|---|\n",
       "| HC269    | High cholesterol | binomial | 0.6197173 | 0.6187414 |  5987 |  5506 |\n",
       "| HC382    | Asthma           | binomial | 0.6166376 | 0.6169773 |  6430 |  6819 |\n",
       "| INI21001 | BMI              | gaussian | 0.1105250 | 0.1108556 | 27126 | 28667 |\n",
       "| INI50    | Standing height  | gaussian | 0.1775686 | 0.1760525 | 51209 | 55937 |\n",
       "\n"
      ],
      "text/plain": [
       "  trait    trait_name       family   metric_with penalty factors\n",
       "1 HC269    High cholesterol binomial 0.6197173                  \n",
       "2 HC382    Asthma           binomial 0.6166376                  \n",
       "3 INI21001 BMI              gaussian 0.1105250                  \n",
       "4 INI50    Standing height  gaussian 0.1775686                  \n",
       "  metric_without penalty factors n_variables_with penalty factors\n",
       "1 0.6187414                       5987                           \n",
       "2 0.6169773                       6430                           \n",
       "3 0.1108556                      27126                           \n",
       "4 0.1760525                      51209                           \n",
       "  n_variables_without penalty factors\n",
       "1  5506                              \n",
       "2  6819                              \n",
       "3 28667                              \n",
       "4 55937                              "
      ]
     },
     "metadata": {},
     "output_type": "display_data"
    }
   ],
   "source": [
    "summary_table_df"
   ]
  },
  {
   "cell_type": "code",
   "execution_count": null,
   "id": "72401030",
   "metadata": {},
   "outputs": [],
   "source": []
  }
 ],
 "metadata": {
  "kernelspec": {
   "display_name": "R",
   "language": "R",
   "name": "ir"
  },
  "language_info": {
   "codemirror_mode": "r",
   "file_extension": ".r",
   "mimetype": "text/x-r-source",
   "name": "R",
   "pygments_lexer": "r",
   "version": "3.6.2"
  }
 },
 "nbformat": 4,
 "nbformat_minor": 5
}

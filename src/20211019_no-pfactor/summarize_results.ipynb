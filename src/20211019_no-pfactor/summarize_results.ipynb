{
 "cells": [
  {
   "cell_type": "code",
   "execution_count": 1,
   "id": "concrete-madonna",
   "metadata": {},
   "outputs": [],
   "source": [
    "suppressWarnings(suppressPackageStartupMessages({\n",
    "    library(tidyverse)\n",
    "    library(data.table)\n",
    "}))\n"
   ]
  },
  {
   "cell_type": "code",
   "execution_count": 2,
   "id": "controlling-wednesday",
   "metadata": {},
   "outputs": [],
   "source": [
    "# reference data\n",
    "var_annot_f <- '/oak/stanford/groups/mrivas/ukbb24983/array-combined/annotation/annotation_20201012/ukb24983_cal_hla_cnv.annot_compact_20201023.tsv.gz'\n",
    "clinvar_f <- '/oak/stanford/groups/mrivas/users/ytanigaw/repos/rivas-lab/ukbb-tools/03_filtering/array-combined/clinvar_20200914_patho.tsv'\n",
    "\n",
    "# without penalty factor\n",
    "dir_wo_pf <- '/oak/stanford/groups/mrivas/projects/PRS/private_output/20211019_no-pfactor'\n",
    "\n",
    "# with penalty factor\n",
    "beta_d <- '/oak/stanford/groups/mrivas/projects/PRS/GBE_data'\n",
    "eval_f <- '/oak/stanford/groups/mrivas/projects/PRS/private_output/202009_batch/snpnet.eval.2_refit.tsv'\n"
   ]
  },
  {
   "cell_type": "code",
   "execution_count": 14,
   "id": "international-knowing",
   "metadata": {},
   "outputs": [],
   "source": [
    "'GBE_ID_list.txt' %>% fread(head=F) %>% pull() -> GBE_IDs\n"
   ]
  },
  {
   "cell_type": "code",
   "execution_count": 34,
   "id": "exact-application",
   "metadata": {},
   "outputs": [],
   "source": [
    "get_split_order_df <- function(){\n",
    "    data.frame(\n",
    "        split = c('train', 'val', 'test', 'non_british_white', 's_asian', 'e_asian', 'african'),\n",
    "        split_plot = c('Training (WB)', 'Validation (WB)', 'Test (WB)', 'Non-British white', 'South Asian', 'East Asian', 'African'),\n",
    "        stringsAsFactors=F\n",
    "    ) %>% mutate(split_order=-1 * 1:n())\n",
    "}\n"
   ]
  },
  {
   "cell_type": "code",
   "execution_count": 3,
   "id": "expected-matter",
   "metadata": {},
   "outputs": [],
   "source": [
    "count_consequence <- function(beta_file, var_annot_df, count_col_name = 'n'){\n",
    "    beta_file %>%\n",
    "    fread(colClasses = c('CHROM'='character'))  %>%\n",
    "    inner_join(\n",
    "        var_annot_df, by = c(\"CHROM\", \"POS\", \"ID\", \"REF\", \"ALT\")\n",
    "    ) %>%\n",
    "    count(\n",
    "        Genotype_or_allelotype, Consequence_group, ClinVar,\n",
    "        name = count_col_name\n",
    "    )\n",
    "}\n"
   ]
  },
  {
   "cell_type": "code",
   "execution_count": 4,
   "id": "million-recording",
   "metadata": {},
   "outputs": [],
   "source": [
    "count_and_compare_consequence <- function(beta_file_wo_pf, beta_file_w_pf, var_annot_df){    \n",
    "    full_join(\n",
    "        beta_file_wo_pf %>%\n",
    "        count_consequence(var_annot_df, count_col_name = 'without_penalty_factor'),\n",
    "\n",
    "        beta_file_w_pf %>%\n",
    "        count_consequence(var_annot_df, count_col_name = 'with_penalty_factor'),\n",
    "\n",
    "        by = c(\"Genotype_or_allelotype\", \"Consequence_group\", \"ClinVar\")\n",
    "    ) %>%\n",
    "    left_join(consequence_sort_df, by='Consequence_group') %>%\n",
    "    arrange(Genotype_or_allelotype, Consequence_order, desc(ClinVar)) %>%\n",
    "    select(-Consequence_order) %>%\n",
    "    replace_na(list(without_penalty_factor = 0, with_penalty_factor = 0))\n",
    "}"
   ]
  },
  {
   "cell_type": "code",
   "execution_count": 5,
   "id": "treated-encoding",
   "metadata": {},
   "outputs": [],
   "source": [
    "clinvar_f %>%\n",
    "fread(colClasses = c('#CHROM'='character')) %>%\n",
    "rename_with(function(x){str_replace(x, '#', '')}, starts_with(\"#\")) %>%\n",
    "mutate(ClinVar = str_replace_all(CLNSIG, '[,/].+', '')) %>%\n",
    "select(-CLNSIG) -> clinvar_df\n"
   ]
  },
  {
   "cell_type": "code",
   "execution_count": 6,
   "id": "competitive-testimony",
   "metadata": {},
   "outputs": [],
   "source": [
    "data.frame(\n",
    "    Consequence_group = c('PTVs', 'PAVs', 'PCVs/Intronic/UTRs/Others', ''),\n",
    "    Consequence_order = 1:4,\n",
    "    stringsAsFactors=F\n",
    ") -> consequence_sort_df\n"
   ]
  },
  {
   "cell_type": "code",
   "execution_count": 7,
   "id": "equal-olive",
   "metadata": {},
   "outputs": [],
   "source": [
    "var_annot_f %>%\n",
    "fread(\n",
    "    colClasses = c('#CHROM'='character'),\n",
    "    select=c('#CHROM', 'POS', 'ID', 'REF', 'ALT', 'Csq', 'geno_data_source')\n",
    ") %>%\n",
    "rename_with(\n",
    "    function(x){str_replace(x, '#', '')}, starts_with(\"#\")\n",
    ") %>%\n",
    "mutate(\n",
    "    Genotype_or_allelotype = case_when(\n",
    "        geno_data_source == 'cal' ~ 'Genotyped variants',\n",
    "        geno_data_source == 'hla' ~ 'HLA allelotype',\n",
    "        geno_data_source == 'cnv' ~ 'Copy number variants',\n",
    "        TRUE ~ 'Others'\n",
    "    ),\n",
    "    Consequence_group = case_when(\n",
    "        (geno_data_source == 'cal') & (Csq == 'ptv') ~ 'PTVs',\n",
    "        (geno_data_source == 'cal') & (Csq == 'pav') ~ 'PAVs',\n",
    "        geno_data_source == 'cal' ~ 'PCVs/Intronic/UTRs/Others',\n",
    "        TRUE ~ ''\n",
    "    )\n",
    ") %>%\n",
    "left_join(consequence_sort_df, by='Consequence_group') %>%\n",
    "left_join(clinvar_df, by=c('CHROM', 'POS', 'REF', 'ALT')) %>%\n",
    "replace_na(list(ClinVar = '')) -> var_annot_df\n"
   ]
  },
  {
   "cell_type": "code",
   "execution_count": 57,
   "id": "egyptian-profit",
   "metadata": {},
   "outputs": [],
   "source": [
    "eval_f %>%\n",
    "fread(\n",
    "    colClasses = c('#GBE_ID'='character'),\n",
    "    select=c('#GBE_ID', 'split', 'geno_delta', 'GBE_short_name')\n",
    ") %>%\n",
    "rename_with(\n",
    "    function(x){str_replace(x, '#', '')}, starts_with(\"#\")\n",
    ") -> eval_w_penalty_factor_df\n"
   ]
  },
  {
   "cell_type": "code",
   "execution_count": 81,
   "id": "necessary-effect",
   "metadata": {},
   "outputs": [],
   "source": [
    "eval_w_penalty_factor_df %>%\n",
    "mutate(Model = 'with penalty factor') %>%\n",
    "bind_rows(\n",
    "    GBE_IDs %>% lapply(function(GBE_ID){    \n",
    "        file.path(dir_wo_pf, GBE_ID, '2_refit', 'snpnet.eval.tsv') %>%\n",
    "        fread(\n",
    "            colClasses = c('#phenotype_name'='character'),\n",
    "            select=c('#phenotype_name', 'split', 'geno_delta')\n",
    "        ) %>%\n",
    "        rename('GBE_ID' = '#phenotype_name')\n",
    "    }) %>% bind_rows() %>%\n",
    "    left_join(\n",
    "        eval_w_penalty_factor_df %>%\n",
    "        select(GBE_ID, GBE_short_name) %>%\n",
    "        unique,\n",
    "        by='GBE_ID'\n",
    "    ) %>%\n",
    "    mutate(Model = 'without penalty factor')\n",
    ") -> eval_comparison_df\n"
   ]
  },
  {
   "cell_type": "code",
   "execution_count": 82,
   "id": "fixed-correspondence",
   "metadata": {},
   "outputs": [],
   "source": [
    "eval_comparison_df %>%\n",
    "left_join(get_split_order_df(), by='split') %>%\n",
    "filter(GBE_ID %in% GBE_IDs, split != 'train_val') %>%\n",
    "ggplot(aes(x = reorder(split_plot, split_order), y=geno_delta, color=Model, fill=Model)) +\n",
    "geom_bar(stat='identity', position = \"dodge2\") +\n",
    "coord_flip() +\n",
    "theme_bw(base_size=14) +\n",
    "theme(legend.position='bottom') +\n",
    "labs(\n",
    "    title = 'Incremental predictive performance',\n",
    "    x = 'Hold-out test set',\n",
    "    y = 'Incremental predictive performance'\n",
    ") +\n",
    "facet_wrap(~ GBE_short_name, nrow = 2) -> p_eval_comparison\n"
   ]
  },
  {
   "cell_type": "code",
   "execution_count": 85,
   "id": "iraqi-caution",
   "metadata": {},
   "outputs": [],
   "source": [
    "eval_comparison_df %>%\n",
    "rename('#GBE_ID' = 'GBE_ID') %>%\n",
    "fwrite('eval_comparison.tsv', sep='\\t', na = \"NA\", quote=F)\n"
   ]
  },
  {
   "cell_type": "code",
   "execution_count": 86,
   "id": "following-arizona",
   "metadata": {},
   "outputs": [],
   "source": [
    "for(ext in c('png', 'pdf')){ggsave(\n",
    "    sprintf('%s.%s', 'eval_comparison', ext),\n",
    "    p_eval_comparison, width=8, height=8\n",
    ")}\n"
   ]
  },
  {
   "cell_type": "code",
   "execution_count": 78,
   "id": "motivated-electric",
   "metadata": {},
   "outputs": [],
   "source": [
    "GBE_IDs %>% lapply(function(id){\n",
    "    count_and_compare_consequence(\n",
    "        file.path(dir_wo_pf, id, '2_refit', 'snpnet.tsv'),\n",
    "\n",
    "        file.path(beta_d, sprintf('%s.tsv', id)),\n",
    "\n",
    "        var_annot_df\n",
    "\n",
    "    ) %>%\n",
    "    mutate(GBE_ID = id)\n",
    "}) %>% bind_rows() %>%\n",
    "left_join(\n",
    "    eval_w_penalty_factor_df %>%\n",
    "    select(GBE_ID, GBE_short_name) %>%\n",
    "    unique,\n",
    "    by='GBE_ID'\n",
    ") %>%\n",
    "mutate(\n",
    "    enrichment = with_penalty_factor / without_penalty_factor\n",
    ") %>%\n",
    "select(\n",
    "    GBE_ID, GBE_short_name,\n",
    "    Genotype_or_allelotype, Consequence_group, ClinVar,\n",
    "    without_penalty_factor, with_penalty_factor, enrichment\n",
    ")-> count_df\n"
   ]
  },
  {
   "cell_type": "code",
   "execution_count": 87,
   "id": "separate-mexico",
   "metadata": {},
   "outputs": [],
   "source": [
    "count_df %>%\n",
    "rename('#GBE_ID' = 'GBE_ID') %>%\n",
    "fwrite('variant_count_comparison.tsv', sep='\\t', na = \"NA\", quote=F)\n"
   ]
  },
  {
   "cell_type": "code",
   "execution_count": null,
   "id": "sorted-dating",
   "metadata": {},
   "outputs": [],
   "source": []
  }
 ],
 "metadata": {
  "kernelspec": {
   "display_name": "R",
   "language": "R",
   "name": "ir"
  },
  "language_info": {
   "codemirror_mode": "r",
   "file_extension": ".r",
   "mimetype": "text/x-r-source",
   "name": "R",
   "pygments_lexer": "r",
   "version": "3.6.2"
  }
 },
 "nbformat": 4,
 "nbformat_minor": 5
}

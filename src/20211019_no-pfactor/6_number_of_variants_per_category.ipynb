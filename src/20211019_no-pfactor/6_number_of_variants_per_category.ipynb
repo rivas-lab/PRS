{
 "cells": [
  {
   "cell_type": "code",
   "execution_count": 1,
   "id": "d8f4a926",
   "metadata": {},
   "outputs": [],
   "source": [
    "suppressWarnings(suppressPackageStartupMessages({\n",
    "    library(tidyverse)\n",
    "    library(data.table)\n",
    "}))\n"
   ]
  },
  {
   "cell_type": "code",
   "execution_count": 8,
   "id": "b03f5b99",
   "metadata": {},
   "outputs": [],
   "source": [
    "# reference data\n",
    "var_annot_f <- '/oak/stanford/groups/mrivas/ukbb24983/array-combined/annotation/annotation_20201012/ukb24983_cal_hla_cnv.annot_compact_20201023.tsv.gz'\n",
    "clinvar_f <- '/oak/stanford/groups/mrivas/users/ytanigaw/repos/rivas-lab/ukbb-tools/03_filtering/array-combined/clinvar_20200914_patho.tsv'\n",
    "\n",
    "# without penalty factor\n",
    "dir_wo_pf <- '/oak/stanford/groups/mrivas/projects/PRS/private_output/20211019_no-pfactor'\n",
    "\n",
    "# with penalty factor\n",
    "beta_d <- '/scratch/groups/mrivas/projects/PRS/20211028_freeze/per_trait'\n"
   ]
  },
  {
   "cell_type": "code",
   "execution_count": 3,
   "id": "49bb381f",
   "metadata": {},
   "outputs": [],
   "source": [
    "'GBE_ID_list.txt' %>% fread(head=F) %>% pull() -> GBE_IDs\n"
   ]
  },
  {
   "cell_type": "code",
   "execution_count": 4,
   "id": "4033e201",
   "metadata": {},
   "outputs": [],
   "source": [
    "count_consequence <- function(beta_file, var_annot_df, count_col_name = 'n'){\n",
    "    beta_file %>%\n",
    "    fread(colClasses = c('CHROM'='character'))  %>%\n",
    "    inner_join(\n",
    "        var_annot_df, by = c(\"CHROM\", \"POS\", \"ID\", \"REF\", \"ALT\")\n",
    "    ) %>%\n",
    "    count(\n",
    "        Genotype_or_allelotype, Consequence_group, ClinVar,\n",
    "        name = count_col_name\n",
    "    )\n",
    "}\n",
    "\n",
    "count_and_compare_consequence <- function(beta_file_wo_pf, beta_file_w_pf, var_annot_df){    \n",
    "    full_join(\n",
    "        beta_file_wo_pf %>%\n",
    "        count_consequence(var_annot_df, count_col_name = 'without_penalty_factor'),\n",
    "\n",
    "        beta_file_w_pf %>%\n",
    "        count_consequence(var_annot_df, count_col_name = 'with_penalty_factor'),\n",
    "\n",
    "        by = c(\"Genotype_or_allelotype\", \"Consequence_group\", \"ClinVar\")\n",
    "    ) %>%\n",
    "    left_join(consequence_sort_df, by='Consequence_group') %>%\n",
    "    arrange(Genotype_or_allelotype, Consequence_order, desc(ClinVar)) %>%\n",
    "    select(-Consequence_order) %>%\n",
    "    replace_na(list(without_penalty_factor = 0, with_penalty_factor = 0))\n",
    "}\n"
   ]
  },
  {
   "cell_type": "code",
   "execution_count": 5,
   "id": "c81d252e",
   "metadata": {},
   "outputs": [],
   "source": [
    "clinvar_f %>%\n",
    "fread(colClasses = c('#CHROM'='character')) %>%\n",
    "rename_with(function(x){str_replace(x, '#', '')}, starts_with(\"#\")) %>%\n",
    "mutate(ClinVar = str_replace_all(CLNSIG, '[,/].+', '')) %>%\n",
    "select(-CLNSIG) -> clinvar_df\n"
   ]
  },
  {
   "cell_type": "code",
   "execution_count": 6,
   "id": "704d5929",
   "metadata": {},
   "outputs": [],
   "source": [
    "data.frame(\n",
    "    Consequence_group = c('PTVs', 'PAVs', 'PCVs/Intronic/UTRs/Others', ''),\n",
    "    Consequence_order = 1:4,\n",
    "    stringsAsFactors=F\n",
    ") -> consequence_sort_df\n"
   ]
  },
  {
   "cell_type": "code",
   "execution_count": 7,
   "id": "c847f668",
   "metadata": {},
   "outputs": [],
   "source": [
    "var_annot_f %>%\n",
    "fread(\n",
    "    colClasses = c('#CHROM'='character'),\n",
    "    select=c('#CHROM', 'POS', 'ID', 'REF', 'ALT', 'Csq', 'geno_data_source')\n",
    ") %>%\n",
    "rename_with(\n",
    "    function(x){str_replace(x, '#', '')}, starts_with(\"#\")\n",
    ") %>%\n",
    "mutate(\n",
    "    Genotype_or_allelotype = case_when(\n",
    "        geno_data_source == 'cal' ~ 'Genotyped variants',\n",
    "        geno_data_source == 'hla' ~ 'HLA allelotype',\n",
    "        geno_data_source == 'cnv' ~ 'Copy number variants',\n",
    "        TRUE ~ 'Others'\n",
    "    ),\n",
    "    Consequence_group = case_when(\n",
    "        (geno_data_source == 'cal') & (Csq == 'ptv') ~ 'PTVs',\n",
    "        (geno_data_source == 'cal') & (Csq == 'pav') ~ 'PAVs',\n",
    "        geno_data_source == 'cal' ~ 'PCVs/Intronic/UTRs/Others',\n",
    "        TRUE ~ ''\n",
    "    )\n",
    ") %>%\n",
    "left_join(consequence_sort_df, by='Consequence_group') %>%\n",
    "left_join(clinvar_df, by=c('CHROM', 'POS', 'REF', 'ALT')) %>%\n",
    "replace_na(list(ClinVar = '')) -> var_annot_df\n"
   ]
  },
  {
   "cell_type": "code",
   "execution_count": 33,
   "id": "f9fd4e8d",
   "metadata": {},
   "outputs": [],
   "source": [
    "GBE_IDs %>% lapply(function(id){\n",
    "    count_and_compare_consequence(\n",
    "        file.path(dir_wo_pf, id, '2_refit', 'snpnet.tsv'),\n",
    "\n",
    "        file.path(beta_d, sprintf('%s.snpnetBETAs.tsv', id)),\n",
    "\n",
    "        var_annot_df\n",
    "\n",
    "    ) %>%\n",
    "    mutate(GBE_ID = id)\n",
    "}) %>% bind_rows() %>%\n",
    "mutate(\n",
    "    enrichment = with_penalty_factor / without_penalty_factor\n",
    ") %>%\n",
    "mutate(\n",
    "    penalty_factor = case_when(\n",
    "        Consequence_group == 'PTVs' ~ 0.5,\n",
    "        ClinVar == 'Pathogenic' ~ 0.5,\n",
    "        Consequence_group == 'PAVs' ~ 0.75,\n",
    "        ClinVar == 'Likely_pathogenic' ~ 0.75,\n",
    "        Genotype_or_allelotype == 'HLA allelotype' ~ 0.75,\n",
    "        TRUE ~ 1\n",
    "    )\n",
    ") %>%\n",
    "arrange(GBE_ID, penalty_factor, Genotype_or_allelotype, Consequence_group, ClinVar) %>%\n",
    "select(\n",
    "    GBE_ID,\n",
    "    Genotype_or_allelotype, Consequence_group, ClinVar,\n",
    "    without_penalty_factor, with_penalty_factor, enrichment, penalty_factor\n",
    ") -> count_df\n"
   ]
  },
  {
   "cell_type": "code",
   "execution_count": 34,
   "id": "8d3d67a9",
   "metadata": {},
   "outputs": [],
   "source": [
    "count_df %>%\n",
    "rename('#GBE_ID' = 'GBE_ID') %>%\n",
    "fwrite('variant_count_comparison.tsv', sep='\\t', na = \"NA\", quote=F)\n"
   ]
  },
  {
   "cell_type": "code",
   "execution_count": 52,
   "id": "480ff6d0",
   "metadata": {},
   "outputs": [],
   "source": [
    "count_df %>%\n",
    "mutate(\n",
    "    is_prioritized = (! penalty_factor == 1)\n",
    ") %>%\n",
    "group_by(GBE_ID, is_prioritized) %>%\n",
    "summarise(\n",
    "    without_penalty_factor = sum(without_penalty_factor),\n",
    "    with_penalty_factor = sum(with_penalty_factor),\n",
    "    .groups='drop'\n",
    ") %>%\n",
    "left_join(\n",
    "    count_df %>%\n",
    "    group_by(GBE_ID) %>%\n",
    "    summarise(\n",
    "        sum_without_penalty_factor = sum(without_penalty_factor),\n",
    "        sum_with_penalty_factor = sum(with_penalty_factor),\n",
    "        .groups='drop'\n",
    "    ),\n",
    "    by = \"GBE_ID\"\n",
    ") %>%\n",
    "mutate(\n",
    "    enrichment = (\n",
    "        (with_penalty_factor / sum_with_penalty_factor) /\n",
    "        (without_penalty_factor / sum_without_penalty_factor)\n",
    "    )\n",
    ") %>%\n",
    "filter(is_prioritized) %>%\n",
    "select(\n",
    "    GBE_ID,\n",
    "    with_penalty_factor,    sum_with_penalty_factor,\n",
    "    without_penalty_factor, sum_without_penalty_factor,\n",
    "    enrichment\n",
    ") -> count_simplified_df"
   ]
  },
  {
   "cell_type": "code",
   "execution_count": 53,
   "id": "1fb7c2fd",
   "metadata": {},
   "outputs": [],
   "source": [
    "count_simplified_df %>%\n",
    "rename('#GBE_ID' = 'GBE_ID') %>%\n",
    "fwrite('variant_count_comparison_simplified.tsv', sep='\\t', na = \"NA\", quote=F)\n"
   ]
  },
  {
   "cell_type": "code",
   "execution_count": null,
   "id": "1e7fc324",
   "metadata": {},
   "outputs": [],
   "source": []
  }
 ],
 "metadata": {
  "kernelspec": {
   "display_name": "R",
   "language": "R",
   "name": "ir"
  },
  "language_info": {
   "codemirror_mode": "r",
   "file_extension": ".r",
   "mimetype": "text/x-r-source",
   "name": "R",
   "pygments_lexer": "r",
   "version": "3.6.2"
  }
 },
 "nbformat": 4,
 "nbformat_minor": 5
}

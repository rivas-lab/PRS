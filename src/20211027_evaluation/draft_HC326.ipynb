{
 "cells": [
  {
   "cell_type": "code",
   "execution_count": 1,
   "id": "1408dd76",
   "metadata": {},
   "outputs": [],
   "source": [
    "suppressWarnings(suppressPackageStartupMessages({\n",
    "    library(tidyverse)\n",
    "    library(data.table)\n",
    "    library(DescTools)\n",
    "}))\n"
   ]
  },
  {
   "cell_type": "code",
   "execution_count": 33,
   "id": "42a13b67",
   "metadata": {},
   "outputs": [],
   "source": [
    "source('paths.sh')\n",
    "source(snpnet_helper)\n",
    "source(fPRS_helper)\n"
   ]
  },
  {
   "cell_type": "code",
   "execution_count": 34,
   "id": "eba03590",
   "metadata": {},
   "outputs": [],
   "source": [
    "args <- c(\n",
    "    'dev.HC326',\n",
    "    phe_f,\n",
    "    'HC326',\n",
    "    'binomial',\n",
    "    'age,sex,Array,PC1,PC2,PC3,PC4,PC5,PC6,PC7,PC8,PC9,PC10',\n",
    "    'train_val=train_val,test=train_val,non_british_white=non_british_white,african=african,s_asian=s_asian,e_asian=e_asian',\n",
    "    file.path(project_d, PRS_f)\n",
    ")\n"
   ]
  },
  {
   "cell_type": "code",
   "execution_count": 35,
   "id": "e834da79",
   "metadata": {},
   "outputs": [],
   "source": [
    "# pase command line args\n",
    "# output\n",
    "performance_eval_prefix <- args[1] # the output file containing the predictive performance\n",
    "## inputs\n",
    "pheno_and_covar_f <- args[2] # the master phenotype file with covariates\n",
    "pheno_col <- args[3] # the phenotype column\n",
    "family <- args[4] # gaussian or binomial\n",
    "covariates_str <- args[5]\n",
    "split_strs <- args[6] # list of split groups to consider\n",
    "sscore_f <- args[7] # the sscore input file\n"
   ]
  },
  {
   "cell_type": "code",
   "execution_count": 36,
   "id": "7c2c8243",
   "metadata": {},
   "outputs": [],
   "source": [
    "GBE_name_f %>%\n",
    "fread() %>%\n",
    "rename_with(function(x){str_replace(x, '#', '')}, starts_with(\"#\")) -> GBE_names_df"
   ]
  },
  {
   "cell_type": "code",
   "execution_count": 38,
   "id": "2d6883c4",
   "metadata": {},
   "outputs": [],
   "source": [
    "GBE_names_dict <- setNames(\n",
    "    GBE_names_df$GBE_short_name,\n",
    "    GBE_names_df$GBE_ID\n",
    ")"
   ]
  },
  {
   "cell_type": "code",
   "execution_count": 47,
   "id": "2d25877a",
   "metadata": {},
   "outputs": [],
   "source": [
    "get_plot_label <- function(GBE_ID, GBE_names=GBE_names_dict) {\n",
    "    if (GBE_ID %in% names(GBE_names))\n",
    "        sprintf('%s: %s', GBE_ID, GBE_names[[GBE_ID]])\n",
    "    else\n",
    "        GBE_ID\n",
    "}\n"
   ]
  },
  {
   "cell_type": "code",
   "execution_count": 5,
   "id": "556077bf",
   "metadata": {},
   "outputs": [],
   "source": [
    "####################################################################\n",
    "# main\n",
    "\n",
    "## parse lists\n",
    "\n",
    "covariates_str %>% split_list_str() -> covariates\n",
    "\n",
    "split_strs %>% split_named_list_str() -> population_splits\n",
    "\n",
    "# set gaussian and binomial phenotype lists\n",
    "stopifnot(family %in% c('gaussian', 'binomial'))\n",
    "if(family == 'gaussian'){\n",
    "    phes_binary <- NULL\n",
    "    phes_quantitative <- c(pheno_col)\n",
    "}else if(family == 'binomial'){\n",
    "    phes_binary <- c(pheno_col)\n",
    "    phes_quantitative <- NULL\n",
    "}\n",
    "\n",
    "# regression formula\n",
    "covar_formula_str <- sprintf(\n",
    "    '%s ~ 1 + %s',\n",
    "    pheno_col, paste(covariates, collapse=' + ')\n",
    ")\n",
    "\n",
    "# list of risk score models we consider in the evaluation\n",
    "score_geno  <- paste0('PRS_', pheno_col)\n",
    "score_covar <- paste0('covar_', pheno_col)\n",
    "score_full  <- paste0('full_', pheno_col)\n"
   ]
  },
  {
   "cell_type": "code",
   "execution_count": 6,
   "id": "ef5c92d2",
   "metadata": {},
   "outputs": [],
   "source": [
    "# read phenotype\n",
    "pheno_and_covar_f %>%\n",
    "read_phenotype_file(c(covariates, phes_binary, phes_quantitative)) %>%\n",
    "recode_pheno_values(phes_binary, phes_quantitative) %>%\n",
    "update_split_column_for_refit() -> pheno_df\n"
   ]
  },
  {
   "cell_type": "code",
   "execution_count": 7,
   "id": "80139227",
   "metadata": {},
   "outputs": [
    {
     "data": {
      "text/html": [
       "<table class=\"dataframe\">\n",
       "<caption>A data.table: 7 × 3</caption>\n",
       "<thead>\n",
       "\t<tr><th scope=col>Array</th><th scope=col>population</th><th scope=col>n</th></tr>\n",
       "\t<tr><th scope=col>&lt;int&gt;</th><th scope=col>&lt;chr&gt;</th><th scope=col>&lt;int&gt;</th></tr>\n",
       "</thead>\n",
       "<tbody>\n",
       "\t<tr><td>0</td><td>non_british_white</td><td>  2499</td></tr>\n",
       "\t<tr><td>0</td><td>white_british    </td><td> 37035</td></tr>\n",
       "\t<tr><td>1</td><td>african          </td><td>  6497</td></tr>\n",
       "\t<tr><td>1</td><td>e_asian          </td><td>  1704</td></tr>\n",
       "\t<tr><td>1</td><td>non_british_white</td><td> 22406</td></tr>\n",
       "\t<tr><td>1</td><td>s_asian          </td><td>  7831</td></tr>\n",
       "\t<tr><td>1</td><td>white_british    </td><td>300094</td></tr>\n",
       "</tbody>\n",
       "</table>\n"
      ],
      "text/latex": [
       "A data.table: 7 × 3\n",
       "\\begin{tabular}{lll}\n",
       " Array & population & n\\\\\n",
       " <int> & <chr> & <int>\\\\\n",
       "\\hline\n",
       "\t 0 & non\\_british\\_white &   2499\\\\\n",
       "\t 0 & white\\_british     &  37035\\\\\n",
       "\t 1 & african           &   6497\\\\\n",
       "\t 1 & e\\_asian           &   1704\\\\\n",
       "\t 1 & non\\_british\\_white &  22406\\\\\n",
       "\t 1 & s\\_asian           &   7831\\\\\n",
       "\t 1 & white\\_british     & 300094\\\\\n",
       "\\end{tabular}\n"
      ],
      "text/markdown": [
       "\n",
       "A data.table: 7 × 3\n",
       "\n",
       "| Array &lt;int&gt; | population &lt;chr&gt; | n &lt;int&gt; |\n",
       "|---|---|---|\n",
       "| 0 | non_british_white |   2499 |\n",
       "| 0 | white_british     |  37035 |\n",
       "| 1 | african           |   6497 |\n",
       "| 1 | e_asian           |   1704 |\n",
       "| 1 | non_british_white |  22406 |\n",
       "| 1 | s_asian           |   7831 |\n",
       "| 1 | white_british     | 300094 |\n",
       "\n"
      ],
      "text/plain": [
       "  Array population        n     \n",
       "1 0     non_british_white   2499\n",
       "2 0     white_british      37035\n",
       "3 1     african             6497\n",
       "4 1     e_asian             1704\n",
       "5 1     non_british_white  22406\n",
       "6 1     s_asian             7831\n",
       "7 1     white_british     300094"
      ]
     },
     "metadata": {},
     "output_type": "display_data"
    }
   ],
   "source": [
    "pheno_df %>%\n",
    "filter(split %in% names(population_splits)) %>%\n",
    "count(Array, population)\n"
   ]
  },
  {
   "cell_type": "code",
   "execution_count": 8,
   "id": "4f5dd4df",
   "metadata": {},
   "outputs": [
    {
     "name": "stderr",
     "output_type": "stream",
     "text": [
      "Warning message:\n",
      "“glm.fit: fitted probabilities numerically 0 or 1 occurred”\n",
      "Warning message:\n",
      "“glm.fit: fitted probabilities numerically 0 or 1 occurred”\n"
     ]
    }
   ],
   "source": [
    "# we fit the specified regression model for each split independently\n",
    "# and aggregate the results into one data frame\n",
    "population_splits %>% unique() %>%\n",
    "lapply(function(s){\n",
    "    pheno_df %>%\n",
    "    filter(split == s) %>%\n",
    "    fit_glm(covar_formula_str, family) %>%\n",
    "    fit_to_df() %>%\n",
    "    mutate(split = s) %>%\n",
    "    select(split, variable, estimate, SE, z_or_t_value, P)\n",
    "}) %>%\n",
    "bind_rows() -> covar_model_BETAs_df\n"
   ]
  },
  {
   "cell_type": "code",
   "execution_count": 26,
   "id": "7ba08533",
   "metadata": {},
   "outputs": [],
   "source": [
    "covar_model_BETAs_df %>%\n",
    "rename('#split' = 'split') %>%\n",
    "fwrite(sprintf('%s.covarBETAs.tsv', performance_eval_prefix), sep='\\t', na = \"NA\", quote=F)\n"
   ]
  },
  {
   "cell_type": "code",
   "execution_count": 11,
   "id": "a603cbc1",
   "metadata": {},
   "outputs": [],
   "source": [
    "# we fit the specified regression model for each split independently\n",
    "# and aggregate the results into one data frame\n",
    "population_splits %>% names() %>%\n",
    "lapply(function(s){\n",
    "    # use the BETAs on a split specified in named list, PRS_model_covar_BETAs_split\n",
    "    covar_score_split <- (population_splits[[s]])\n",
    "    \n",
    "    # get BETAs\n",
    "    covar_model_BETAs_df %>%\n",
    "    filter(split == covar_score_split) %>%\n",
    "    rename(!!score_covar := 'estimate') -> covar_betas_pop_df\n",
    "\n",
    "    # loop across different split\n",
    "    pheno_df %>%\n",
    "    filter(split == s) %>%\n",
    "    FID_IID_to_rownames() %>%\n",
    "    compute_matrix_product(\n",
    "        covar_betas_pop_df,\n",
    "        covar_betas_pop_df %>% pull(variable) %>% intersect(covariates),\n",
    "        beta_estimate_cols=c(score_covar)\n",
    "    ) %>%\n",
    "    mutate(covar_score_computed_on = covar_score_split) %>%\n",
    "    FID_IID_from_rownames()\n",
    "}) %>%\n",
    "bind_rows() -> covar_score_df\n"
   ]
  },
  {
   "cell_type": "code",
   "execution_count": 12,
   "id": "0c8751cd",
   "metadata": {},
   "outputs": [
    {
     "name": "stderr",
     "output_type": "stream",
     "text": [
      ".. reading /scratch/groups/mrivas/projects/PRS/private_output/202009_batch/ukb24983_GWAS_covar.20200828.PRSs.phe.gz\n",
      "\n"
     ]
    }
   ],
   "source": [
    "# read sscore file\n",
    "message(sprintf('.. reading %s', sscore_f))\n",
    "sscore_f %>%\n",
    "read_sscore_file(columns = score_geno) -> sscore_df\n"
   ]
  },
  {
   "cell_type": "code",
   "execution_count": 13,
   "id": "080d1d94",
   "metadata": {},
   "outputs": [],
   "source": [
    "# join all the individual-level data into one data frame\n",
    "pheno_df %>%\n",
    "filter(split %in% names(population_splits)) %>%\n",
    "left_join(sscore_df, by=c('FID', 'IID')) %>%\n",
    "left_join(covar_score_df, by=c(\"FID\", \"IID\")) %>%\n",
    "mutate(!!score_full := rowSums(across(all_of(c(score_covar))))) -> full_df\n"
   ]
  },
  {
   "cell_type": "code",
   "execution_count": 14,
   "id": "e5928e84",
   "metadata": {},
   "outputs": [],
   "source": [
    "# list of \"scores\" we will use in the evaluation\n",
    "c(score_geno, score_covar, score_full) -> risk_score_list\n"
   ]
  },
  {
   "cell_type": "code",
   "execution_count": 15,
   "id": "f6db5820",
   "metadata": {},
   "outputs": [
    {
     "name": "stderr",
     "output_type": "stream",
     "text": [
      "--train_val PRS_HC326\n",
      "\n",
      "--train_val covar_HC326\n",
      "\n",
      "--train_val full_HC326\n",
      "\n",
      "--test PRS_HC326\n",
      "\n",
      "--test covar_HC326\n",
      "\n",
      "--test full_HC326\n",
      "\n",
      "--non_british_white PRS_HC326\n",
      "\n",
      "--non_british_white covar_HC326\n",
      "\n",
      "--non_british_white full_HC326\n",
      "\n",
      "--african PRS_HC326\n",
      "\n",
      "--african covar_HC326\n",
      "\n",
      "Warning message:\n",
      "“glm.fit: fitted probabilities numerically 0 or 1 occurred”\n",
      "Warning message:\n",
      "“glm.fit: fitted probabilities numerically 0 or 1 occurred”\n",
      "--african full_HC326\n",
      "\n",
      "Warning message:\n",
      "“glm.fit: fitted probabilities numerically 0 or 1 occurred”\n",
      "Warning message:\n",
      "“glm.fit: fitted probabilities numerically 0 or 1 occurred”\n",
      "--s_asian PRS_HC326\n",
      "\n",
      "--s_asian covar_HC326\n",
      "\n",
      "--s_asian full_HC326\n",
      "\n",
      "--e_asian PRS_HC326\n",
      "\n",
      "--e_asian covar_HC326\n",
      "\n",
      "Warning message:\n",
      "“glm.fit: fitted probabilities numerically 0 or 1 occurred”\n",
      "Warning message:\n",
      "“glm.fit: fitted probabilities numerically 0 or 1 occurred”\n",
      "--e_asian full_HC326\n",
      "\n",
      "Warning message:\n",
      "“glm.fit: fitted probabilities numerically 0 or 1 occurred”\n",
      "Warning message:\n",
      "“glm.fit: fitted probabilities numerically 0 or 1 occurred”\n"
     ]
    }
   ],
   "source": [
    "# run evaluation\n",
    "names(population_splits) %>% lapply(function(split_str){\n",
    "    risk_score_list %>% lapply(function(predictor){\n",
    "        message(sprintf('--%s %s', split_str, predictor))\n",
    "        tryCatch({\n",
    "            full_df %>% filter(split == split_str) -> filtered_df\n",
    "            if(length(filtered_df %>% pull(all_of(pheno_col)) %>% unique())>1){\n",
    "                filtered_df %>%\n",
    "                eval_CI(pheno_col, c(all_of(predictor)), family) %>%\n",
    "                mutate(split = split_str)\n",
    "            }else{\n",
    "                message(sprintf(' .. skip (the phenotype value is constant in %s', split_str))\n",
    "            }\n",
    "        }, error=function(e){print(e)})\n",
    "    }) %>% bind_rows()\n",
    "}) %>%\n",
    "bind_rows() %>%\n",
    "left_join(\n",
    "    full_df %>% count_n_per_split(pheno_col, family),\n",
    "    by = \"split\"\n",
    ") -> PRS_eval_df\n"
   ]
  },
  {
   "cell_type": "code",
   "execution_count": 27,
   "id": "d06c4750",
   "metadata": {},
   "outputs": [],
   "source": [
    "PRS_eval_df %>%\n",
    "rename('#response' = 'response') %>%\n",
    "fwrite(sprintf('%s.eval.tsv', performance_eval_prefix), sep='\\t', na = \"NA\", quote=F)\n"
   ]
  },
  {
   "cell_type": "code",
   "execution_count": 17,
   "id": "25a879b7",
   "metadata": {},
   "outputs": [],
   "source": [
    "# prepare data frames for the plots\n",
    "full_df %>%\n",
    "filter(split == 'test') %>%\n",
    "drop_na(all_of(c(score_geno, pheno_col))) %>%\n",
    "rename('geno_score' := all_of(score_geno)) %>%\n",
    "rename('phe' := all_of(pheno_col)) %>%\n",
    "mutate(\n",
    "    phe = phe + 1,\n",
    "    geno_score_percentile = rank(-geno_score) / n()\n",
    ") -> plot_df"
   ]
  },
  {
   "cell_type": "code",
   "execution_count": 19,
   "id": "bc2c7db4",
   "metadata": {},
   "outputs": [],
   "source": [
    "summary_plot_df <- plot_df %>%\n",
    "compute_summary_df('geno_score_percentile', 'phe', family=family)\n"
   ]
  },
  {
   "cell_type": "code",
   "execution_count": 28,
   "id": "c2c54ace",
   "metadata": {},
   "outputs": [],
   "source": [
    "summary_plot_df %>%\n",
    "rename('#l_bin' = 'l_bin') %>%\n",
    "fwrite(sprintf('%s.percentile.tsv', performance_eval_prefix), sep='\\t', na = \"NA\", quote=F)\n"
   ]
  },
  {
   "cell_type": "code",
   "execution_count": 50,
   "id": "c195b506",
   "metadata": {},
   "outputs": [],
   "source": [
    "\n",
    "if(family == 'gaussian'){\n",
    "    p1 <- plot_df %>% plot_PRS_vs_phe() +\n",
    "    theme(legend.position=c(.1, .8))+\n",
    "    labs(title = get_plot_label(pheno_col), y = get_plot_label(pheno_col))\n",
    "\n",
    "    p2 <- summary_plot_df %>%\n",
    "    plot_PRS_bin_vs_phe(mean(plot_df$phe))+\n",
    "    labs(title = get_plot_label(pheno_col), y = get_plot_label(pheno_col))\n",
    "}else if(family == 'binomial'){\n",
    "    p1 <- plot_df %>% plot_PRS_binomial() +\n",
    "    labs(title = get_plot_label(pheno_col), x = get_plot_label(pheno_col))\n",
    "\n",
    "    p2 <- summary_plot_df %>% plot_PRS_bin_vs_OR() +\n",
    "    labs(title = get_plot_label(pheno_col))\n",
    "}else{\n",
    "    stop(sprintf('%s family is not supported!', family))\n",
    "}\n",
    "\n",
    "for(ext in c('png', 'pdf')){ggsave(\n",
    "    sprintf('%s.plot.%s', performance_eval_prefix, ext),\n",
    "    gridExtra::arrangeGrob(p1, p2, ncol=2),\n",
    "    width=12, height=6\n",
    ")}\n"
   ]
  },
  {
   "cell_type": "code",
   "execution_count": null,
   "id": "ce0aa11e",
   "metadata": {},
   "outputs": [],
   "source": []
  }
 ],
 "metadata": {
  "kernelspec": {
   "display_name": "R",
   "language": "R",
   "name": "ir"
  },
  "language_info": {
   "codemirror_mode": "r",
   "file_extension": ".r",
   "mimetype": "text/x-r-source",
   "name": "R",
   "pygments_lexer": "r",
   "version": "3.6.2"
  }
 },
 "nbformat": 4,
 "nbformat_minor": 5
}

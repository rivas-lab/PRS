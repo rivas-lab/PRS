{
 "cells": [
  {
   "cell_type": "code",
   "execution_count": 1,
   "id": "d034acee",
   "metadata": {},
   "outputs": [],
   "source": [
    "suppressWarnings(suppressPackageStartupMessages({\n",
    "    library(tidyverse)\n",
    "    library(data.table)\n",
    "    library(DescTools)\n",
    "}))\n"
   ]
  },
  {
   "cell_type": "code",
   "execution_count": 2,
   "id": "cc1012f9",
   "metadata": {},
   "outputs": [],
   "source": [
    "source('paths.sh')\n",
    "source(snpnet_helper)\n",
    "source(fPRS_helper)\n"
   ]
  },
  {
   "cell_type": "code",
   "execution_count": 3,
   "id": "776c7c1a",
   "metadata": {},
   "outputs": [],
   "source": [
    "args <- c(\n",
    "    'dev.BIN4093',\n",
    "    phe_f,\n",
    "    'BIN4093',\n",
    "    'binomial',\n",
    "    'age,sex,Array,PC1,PC2,PC3,PC4,PC5,PC6,PC7,PC8,PC9,PC10',\n",
    "    'train_val=train_val,test=train_val,non_british_white=non_british_white,african=african,s_asian=s_asian,e_asian=e_asian',\n",
    "    file.path(project_d, PRS_f)\n",
    ")\n"
   ]
  },
  {
   "cell_type": "code",
   "execution_count": 4,
   "id": "09cd8f58",
   "metadata": {},
   "outputs": [],
   "source": [
    "# pase command line args\n",
    "# output\n",
    "performance_eval_prefix <- args[1] # the output file containing the predictive performance\n",
    "## inputs\n",
    "pheno_and_covar_f <- args[2] # the master phenotype file with covariates\n",
    "pheno_col <- args[3] # the phenotype column\n",
    "family <- args[4] # gaussian or binomial\n",
    "covariates_str <- args[5]\n",
    "split_strs <- args[6] # list of split groups to consider\n",
    "sscore_f <- args[7] # the sscore input file\n"
   ]
  },
  {
   "cell_type": "code",
   "execution_count": 5,
   "id": "e49c17ce",
   "metadata": {},
   "outputs": [],
   "source": [
    "####################################################################\n",
    "# main\n",
    "\n",
    "## parse lists\n",
    "\n",
    "covariates_str %>% split_list_str() -> covariates\n",
    "\n",
    "split_strs %>% split_named_list_str() -> population_splits\n",
    "\n",
    "# set gaussian and binomial phenotype lists\n",
    "stopifnot(family %in% c('gaussian', 'binomial'))\n",
    "if(family == 'gaussian'){\n",
    "    phes_binary <- NULL\n",
    "    phes_quantitative <- c(pheno_col)\n",
    "}else if(family == 'binomial'){\n",
    "    phes_binary <- c(pheno_col)\n",
    "    phes_quantitative <- NULL\n",
    "}\n",
    "\n",
    "# regression formula\n",
    "covar_formula_str <- sprintf(\n",
    "    '%s ~ 1 + %s',\n",
    "    pheno_col, paste(covariates, collapse=' + ')\n",
    ")\n",
    "\n",
    "# list of risk score models we consider in the evaluation\n",
    "score_geno  <- paste0('PRS_', pheno_col)\n",
    "score_covar <- paste0('covar_', pheno_col)\n",
    "score_full  <- paste0('full_', pheno_col)\n"
   ]
  },
  {
   "cell_type": "code",
   "execution_count": 6,
   "id": "5ea016a0",
   "metadata": {},
   "outputs": [],
   "source": [
    "# read phenotype\n",
    "pheno_and_covar_f %>%\n",
    "read_phenotype_file(c(covariates, phes_binary, phes_quantitative)) %>%\n",
    "recode_pheno_values(phes_binary, phes_quantitative) %>%\n",
    "update_split_column_for_refit() -> pheno_df\n"
   ]
  },
  {
   "cell_type": "code",
   "execution_count": 7,
   "id": "c0501a49",
   "metadata": {},
   "outputs": [
    {
     "data": {
      "text/html": [
       "<table class=\"dataframe\">\n",
       "<caption>A data.table: 7 × 3</caption>\n",
       "<thead>\n",
       "\t<tr><th scope=col>Array</th><th scope=col>population</th><th scope=col>n</th></tr>\n",
       "\t<tr><th scope=col>&lt;int&gt;</th><th scope=col>&lt;chr&gt;</th><th scope=col>&lt;int&gt;</th></tr>\n",
       "</thead>\n",
       "<tbody>\n",
       "\t<tr><td>0</td><td>non_british_white</td><td>  2499</td></tr>\n",
       "\t<tr><td>0</td><td>white_british    </td><td> 37035</td></tr>\n",
       "\t<tr><td>1</td><td>african          </td><td>  6497</td></tr>\n",
       "\t<tr><td>1</td><td>e_asian          </td><td>  1704</td></tr>\n",
       "\t<tr><td>1</td><td>non_british_white</td><td> 22406</td></tr>\n",
       "\t<tr><td>1</td><td>s_asian          </td><td>  7831</td></tr>\n",
       "\t<tr><td>1</td><td>white_british    </td><td>300094</td></tr>\n",
       "</tbody>\n",
       "</table>\n"
      ],
      "text/latex": [
       "A data.table: 7 × 3\n",
       "\\begin{tabular}{lll}\n",
       " Array & population & n\\\\\n",
       " <int> & <chr> & <int>\\\\\n",
       "\\hline\n",
       "\t 0 & non\\_british\\_white &   2499\\\\\n",
       "\t 0 & white\\_british     &  37035\\\\\n",
       "\t 1 & african           &   6497\\\\\n",
       "\t 1 & e\\_asian           &   1704\\\\\n",
       "\t 1 & non\\_british\\_white &  22406\\\\\n",
       "\t 1 & s\\_asian           &   7831\\\\\n",
       "\t 1 & white\\_british     & 300094\\\\\n",
       "\\end{tabular}\n"
      ],
      "text/markdown": [
       "\n",
       "A data.table: 7 × 3\n",
       "\n",
       "| Array &lt;int&gt; | population &lt;chr&gt; | n &lt;int&gt; |\n",
       "|---|---|---|\n",
       "| 0 | non_british_white |   2499 |\n",
       "| 0 | white_british     |  37035 |\n",
       "| 1 | african           |   6497 |\n",
       "| 1 | e_asian           |   1704 |\n",
       "| 1 | non_british_white |  22406 |\n",
       "| 1 | s_asian           |   7831 |\n",
       "| 1 | white_british     | 300094 |\n",
       "\n"
      ],
      "text/plain": [
       "  Array population        n     \n",
       "1 0     non_british_white   2499\n",
       "2 0     white_british      37035\n",
       "3 1     african             6497\n",
       "4 1     e_asian             1704\n",
       "5 1     non_british_white  22406\n",
       "6 1     s_asian             7831\n",
       "7 1     white_british     300094"
      ]
     },
     "metadata": {},
     "output_type": "display_data"
    }
   ],
   "source": [
    "pheno_df %>%\n",
    "filter(split %in% names(population_splits)) %>%\n",
    "count(Array, population)\n"
   ]
  },
  {
   "cell_type": "code",
   "execution_count": 8,
   "id": "b75e2c47",
   "metadata": {},
   "outputs": [
    {
     "name": "stderr",
     "output_type": "stream",
     "text": [
      "Warning message:\n",
      "“glm.fit: fitted probabilities numerically 0 or 1 occurred”\n",
      "Warning message:\n",
      "“glm.fit: fitted probabilities numerically 0 or 1 occurred”\n",
      "Warning message:\n",
      "“glm.fit: algorithm did not converge”\n"
     ]
    }
   ],
   "source": [
    "# we fit the specified regression model for each split independently\n",
    "# and aggregate the results into one data frame\n",
    "population_splits %>% unique() %>%\n",
    "lapply(function(s){\n",
    "    pheno_df %>%\n",
    "    filter(split == s) %>%\n",
    "    fit_glm(covar_formula_str, family) %>%\n",
    "    fit_to_df() %>%\n",
    "    mutate(split = s) %>%\n",
    "    select(split, variable, estimate, SE, z_or_t_value, P)\n",
    "}) %>%\n",
    "bind_rows() -> covar_model_BETAs_df\n"
   ]
  },
  {
   "cell_type": "code",
   "execution_count": 9,
   "id": "ca898554",
   "metadata": {},
   "outputs": [],
   "source": [
    "covar_model_BETAs_df %>%\n",
    "rename('#split' = 'split') %>%\n",
    "fwrite(sprintf('%s.covarBETAs.tsv', performance_eval_prefix), sep='\\t', na = \"NA\", quote=F)\n"
   ]
  },
  {
   "cell_type": "code",
   "execution_count": 10,
   "id": "1c5ec40f",
   "metadata": {},
   "outputs": [],
   "source": [
    "# we fit the specified regression model for each split independently\n",
    "# and aggregate the results into one data frame\n",
    "population_splits %>% names() %>%\n",
    "lapply(function(s){\n",
    "    # use the BETAs on a split specified in named list, PRS_model_covar_BETAs_split\n",
    "    covar_score_split <- (population_splits[[s]])\n",
    "    \n",
    "    # get BETAs\n",
    "    covar_model_BETAs_df %>%\n",
    "    filter(split == covar_score_split) %>%\n",
    "    rename(!!score_covar := 'estimate') -> covar_betas_pop_df\n",
    "\n",
    "    # loop across different split\n",
    "    pheno_df %>%\n",
    "    filter(split == s) %>%\n",
    "    FID_IID_to_rownames() %>%\n",
    "    compute_matrix_product(\n",
    "        covar_betas_pop_df,\n",
    "        covar_betas_pop_df %>% pull(variable) %>% intersect(covariates),\n",
    "        beta_estimate_cols=c(score_covar)\n",
    "    ) %>%\n",
    "    mutate(covar_score_computed_on = covar_score_split) %>%\n",
    "    FID_IID_from_rownames()\n",
    "}) %>%\n",
    "bind_rows() -> covar_score_df\n"
   ]
  },
  {
   "cell_type": "code",
   "execution_count": 11,
   "id": "14e80e76",
   "metadata": {},
   "outputs": [
    {
     "name": "stderr",
     "output_type": "stream",
     "text": [
      ".. reading /scratch/groups/mrivas/projects/PRS/private_output/202009_batch/ukb24983_GWAS_covar.20200828.PRSs.phe.gz\n",
      "\n"
     ]
    }
   ],
   "source": [
    "# read sscore file\n",
    "message(sprintf('.. reading %s', sscore_f))\n",
    "sscore_f %>%\n",
    "read_sscore_file(columns = score_geno) -> sscore_df\n"
   ]
  },
  {
   "cell_type": "code",
   "execution_count": 12,
   "id": "fe40470b",
   "metadata": {},
   "outputs": [],
   "source": [
    "# join all the individual-level data into one data frame\n",
    "pheno_df %>%\n",
    "filter(split %in% names(population_splits)) %>%\n",
    "left_join(sscore_df, by=c('FID', 'IID')) %>%\n",
    "left_join(covar_score_df, by=c(\"FID\", \"IID\")) %>%\n",
    "mutate(!!score_full := rowSums(across(all_of(c(score_covar))))) -> full_df\n"
   ]
  },
  {
   "cell_type": "code",
   "execution_count": 13,
   "id": "4d386e88",
   "metadata": {},
   "outputs": [
    {
     "name": "stderr",
     "output_type": "stream",
     "text": [
      "Warning message:\n",
      "“glm.fit: algorithm did not converge”\n"
     ]
    }
   ],
   "source": [
    "# regression formula\n",
    "covarPRS_formula_str <- sprintf(\n",
    "    '%s ~ 1 + (1*%s) + %s',\n",
    "    pheno_col, score_covar, score_geno\n",
    ")\n",
    "\n",
    "# we fit the specified regression model for each split independently\n",
    "# and aggregate the results into one data frame\n",
    "population_splits %>% names() %>%\n",
    "lapply(function(s){\n",
    "    full_df %>%\n",
    "    filter(split == s) %>%\n",
    "    fit_glm(covarPRS_formula_str, family) %>%\n",
    "    fit_to_df() %>%\n",
    "    mutate(split = s) %>%\n",
    "    select(split, variable, estimate, SE, z_or_t_value, P)\n",
    "}) %>%\n",
    "bind_rows() -> covarPRS_model_BETAs_df\n"
   ]
  },
  {
   "cell_type": "code",
   "execution_count": 14,
   "id": "f4116555",
   "metadata": {},
   "outputs": [
    {
     "data": {
      "text/html": [
       "<table class=\"dataframe\">\n",
       "<caption>A data.frame: 12 × 6</caption>\n",
       "<thead>\n",
       "\t<tr><th scope=col>split</th><th scope=col>variable</th><th scope=col>estimate</th><th scope=col>SE</th><th scope=col>z_or_t_value</th><th scope=col>P</th></tr>\n",
       "\t<tr><th scope=col>&lt;chr&gt;</th><th scope=col>&lt;chr&gt;</th><th scope=col>&lt;dbl&gt;</th><th scope=col>&lt;dbl&gt;</th><th scope=col>&lt;dbl&gt;</th><th scope=col>&lt;dbl&gt;</th></tr>\n",
       "</thead>\n",
       "<tbody>\n",
       "\t<tr><td>train_val        </td><td>(Intercept)</td><td>-6.054701e+00</td><td>6.594923e-02</td><td>-9.180852e+01</td><td> 0.000000e+00</td></tr>\n",
       "\t<tr><td>train_val        </td><td>PRS_BIN4093</td><td> 5.828249e+00</td><td>1.189613e+00</td><td> 4.899281e+00</td><td> 9.618814e-07</td></tr>\n",
       "\t<tr><td>test             </td><td>(Intercept)</td><td>-6.061036e+00</td><td>1.283013e-01</td><td>-4.724065e+01</td><td> 0.000000e+00</td></tr>\n",
       "\t<tr><td>test             </td><td>PRS_BIN4093</td><td>-1.328285e+00</td><td>2.546403e+00</td><td>-5.216320e-01</td><td> 6.019266e-01</td></tr>\n",
       "\t<tr><td>non_british_white</td><td>(Intercept)</td><td>-6.225325e+00</td><td>2.209528e-01</td><td>-2.817491e+01</td><td>1.187288e-174</td></tr>\n",
       "\t<tr><td>non_british_white</td><td>PRS_BIN4093</td><td>-7.453305e+00</td><td>4.446692e+00</td><td>-1.676146e+00</td><td> 9.370960e-02</td></tr>\n",
       "\t<tr><td>african          </td><td>(Intercept)</td><td>-5.904492e+00</td><td>5.855914e-01</td><td>-1.008296e+01</td><td> 6.571919e-24</td></tr>\n",
       "\t<tr><td>african          </td><td>PRS_BIN4093</td><td>-2.935046e+00</td><td>7.472681e+00</td><td>-3.927701e-01</td><td> 6.944893e-01</td></tr>\n",
       "\t<tr><td>s_asian          </td><td>(Intercept)</td><td>-6.910233e+00</td><td>5.139545e-01</td><td>-1.344522e+01</td><td> 3.284142e-41</td></tr>\n",
       "\t<tr><td>s_asian          </td><td>PRS_BIN4093</td><td> 5.744885e+00</td><td>8.399817e+00</td><td> 6.839299e-01</td><td> 4.940195e-01</td></tr>\n",
       "\t<tr><td>e_asian          </td><td>(Intercept)</td><td>-2.656607e+01</td><td>2.188900e+04</td><td>-1.213672e-03</td><td> 9.990316e-01</td></tr>\n",
       "\t<tr><td>e_asian          </td><td>PRS_BIN4093</td><td> 3.296355e-14</td><td>2.580785e+05</td><td> 1.277268e-19</td><td> 1.000000e+00</td></tr>\n",
       "</tbody>\n",
       "</table>\n"
      ],
      "text/latex": [
       "A data.frame: 12 × 6\n",
       "\\begin{tabular}{llllll}\n",
       " split & variable & estimate & SE & z\\_or\\_t\\_value & P\\\\\n",
       " <chr> & <chr> & <dbl> & <dbl> & <dbl> & <dbl>\\\\\n",
       "\\hline\n",
       "\t train\\_val         & (Intercept) & -6.054701e+00 & 6.594923e-02 & -9.180852e+01 &  0.000000e+00\\\\\n",
       "\t train\\_val         & PRS\\_BIN4093 &  5.828249e+00 & 1.189613e+00 &  4.899281e+00 &  9.618814e-07\\\\\n",
       "\t test              & (Intercept) & -6.061036e+00 & 1.283013e-01 & -4.724065e+01 &  0.000000e+00\\\\\n",
       "\t test              & PRS\\_BIN4093 & -1.328285e+00 & 2.546403e+00 & -5.216320e-01 &  6.019266e-01\\\\\n",
       "\t non\\_british\\_white & (Intercept) & -6.225325e+00 & 2.209528e-01 & -2.817491e+01 & 1.187288e-174\\\\\n",
       "\t non\\_british\\_white & PRS\\_BIN4093 & -7.453305e+00 & 4.446692e+00 & -1.676146e+00 &  9.370960e-02\\\\\n",
       "\t african           & (Intercept) & -5.904492e+00 & 5.855914e-01 & -1.008296e+01 &  6.571919e-24\\\\\n",
       "\t african           & PRS\\_BIN4093 & -2.935046e+00 & 7.472681e+00 & -3.927701e-01 &  6.944893e-01\\\\\n",
       "\t s\\_asian           & (Intercept) & -6.910233e+00 & 5.139545e-01 & -1.344522e+01 &  3.284142e-41\\\\\n",
       "\t s\\_asian           & PRS\\_BIN4093 &  5.744885e+00 & 8.399817e+00 &  6.839299e-01 &  4.940195e-01\\\\\n",
       "\t e\\_asian           & (Intercept) & -2.656607e+01 & 2.188900e+04 & -1.213672e-03 &  9.990316e-01\\\\\n",
       "\t e\\_asian           & PRS\\_BIN4093 &  3.296355e-14 & 2.580785e+05 &  1.277268e-19 &  1.000000e+00\\\\\n",
       "\\end{tabular}\n"
      ],
      "text/markdown": [
       "\n",
       "A data.frame: 12 × 6\n",
       "\n",
       "| split &lt;chr&gt; | variable &lt;chr&gt; | estimate &lt;dbl&gt; | SE &lt;dbl&gt; | z_or_t_value &lt;dbl&gt; | P &lt;dbl&gt; |\n",
       "|---|---|---|---|---|---|\n",
       "| train_val         | (Intercept) | -6.054701e+00 | 6.594923e-02 | -9.180852e+01 |  0.000000e+00 |\n",
       "| train_val         | PRS_BIN4093 |  5.828249e+00 | 1.189613e+00 |  4.899281e+00 |  9.618814e-07 |\n",
       "| test              | (Intercept) | -6.061036e+00 | 1.283013e-01 | -4.724065e+01 |  0.000000e+00 |\n",
       "| test              | PRS_BIN4093 | -1.328285e+00 | 2.546403e+00 | -5.216320e-01 |  6.019266e-01 |\n",
       "| non_british_white | (Intercept) | -6.225325e+00 | 2.209528e-01 | -2.817491e+01 | 1.187288e-174 |\n",
       "| non_british_white | PRS_BIN4093 | -7.453305e+00 | 4.446692e+00 | -1.676146e+00 |  9.370960e-02 |\n",
       "| african           | (Intercept) | -5.904492e+00 | 5.855914e-01 | -1.008296e+01 |  6.571919e-24 |\n",
       "| african           | PRS_BIN4093 | -2.935046e+00 | 7.472681e+00 | -3.927701e-01 |  6.944893e-01 |\n",
       "| s_asian           | (Intercept) | -6.910233e+00 | 5.139545e-01 | -1.344522e+01 |  3.284142e-41 |\n",
       "| s_asian           | PRS_BIN4093 |  5.744885e+00 | 8.399817e+00 |  6.839299e-01 |  4.940195e-01 |\n",
       "| e_asian           | (Intercept) | -2.656607e+01 | 2.188900e+04 | -1.213672e-03 |  9.990316e-01 |\n",
       "| e_asian           | PRS_BIN4093 |  3.296355e-14 | 2.580785e+05 |  1.277268e-19 |  1.000000e+00 |\n",
       "\n"
      ],
      "text/plain": [
       "   split             variable    estimate      SE           z_or_t_value \n",
       "1  train_val         (Intercept) -6.054701e+00 6.594923e-02 -9.180852e+01\n",
       "2  train_val         PRS_BIN4093  5.828249e+00 1.189613e+00  4.899281e+00\n",
       "3  test              (Intercept) -6.061036e+00 1.283013e-01 -4.724065e+01\n",
       "4  test              PRS_BIN4093 -1.328285e+00 2.546403e+00 -5.216320e-01\n",
       "5  non_british_white (Intercept) -6.225325e+00 2.209528e-01 -2.817491e+01\n",
       "6  non_british_white PRS_BIN4093 -7.453305e+00 4.446692e+00 -1.676146e+00\n",
       "7  african           (Intercept) -5.904492e+00 5.855914e-01 -1.008296e+01\n",
       "8  african           PRS_BIN4093 -2.935046e+00 7.472681e+00 -3.927701e-01\n",
       "9  s_asian           (Intercept) -6.910233e+00 5.139545e-01 -1.344522e+01\n",
       "10 s_asian           PRS_BIN4093  5.744885e+00 8.399817e+00  6.839299e-01\n",
       "11 e_asian           (Intercept) -2.656607e+01 2.188900e+04 -1.213672e-03\n",
       "12 e_asian           PRS_BIN4093  3.296355e-14 2.580785e+05  1.277268e-19\n",
       "   P            \n",
       "1   0.000000e+00\n",
       "2   9.618814e-07\n",
       "3   0.000000e+00\n",
       "4   6.019266e-01\n",
       "5  1.187288e-174\n",
       "6   9.370960e-02\n",
       "7   6.571919e-24\n",
       "8   6.944893e-01\n",
       "9   3.284142e-41\n",
       "10  4.940195e-01\n",
       "11  9.990316e-01\n",
       "12  1.000000e+00"
      ]
     },
     "metadata": {},
     "output_type": "display_data"
    }
   ],
   "source": [
    "covarPRS_model_BETAs_df"
   ]
  },
  {
   "cell_type": "code",
   "execution_count": 18,
   "id": "20196075",
   "metadata": {},
   "outputs": [],
   "source": [
    "# list of \"scores\" we will use in the evaluation\n",
    "c(score_geno, score_covar, score_full) -> risk_score_list\n"
   ]
  },
  {
   "cell_type": "code",
   "execution_count": 22,
   "id": "8245aa93",
   "metadata": {},
   "outputs": [],
   "source": [
    "full_df %>% count_n_per_split(pheno_col, family) -> split_cnt_df\n",
    "if (family == 'binomial') {\n",
    "    # run evaluation\n",
    "    split_cnt_df %>%\n",
    "    filter(case_n > 0, control_n > 0) %>%\n",
    "    pull(split) -> non_zero_splits\n",
    "} else {\n",
    "    split_cnt_df %>%\n",
    "    filter(n > 0) %>%\n",
    "    pull(split) -> non_zero_splits    \n",
    "}"
   ]
  },
  {
   "cell_type": "code",
   "execution_count": 29,
   "id": "6c14cbc4",
   "metadata": {},
   "outputs": [],
   "source": []
  },
  {
   "cell_type": "code",
   "execution_count": 28,
   "id": "5a5b1d85",
   "metadata": {},
   "outputs": [
    {
     "name": "stderr",
     "output_type": "stream",
     "text": [
      "--train_val PRS_BIN4093\n",
      "\n",
      "--train_val covar_BIN4093\n",
      "\n",
      "--train_val full_BIN4093\n",
      "\n",
      "--test PRS_BIN4093\n",
      "\n",
      "--test covar_BIN4093\n",
      "\n",
      "--test full_BIN4093\n",
      "\n",
      "--non_british_white PRS_BIN4093\n",
      "\n",
      "--non_british_white covar_BIN4093\n",
      "\n",
      "--non_british_white full_BIN4093\n",
      "\n",
      "--african PRS_BIN4093\n",
      "\n",
      "--african covar_BIN4093\n",
      "\n",
      "Warning message:\n",
      "“glm.fit: fitted probabilities numerically 0 or 1 occurred”\n",
      "Warning message:\n",
      "“glm.fit: fitted probabilities numerically 0 or 1 occurred”\n",
      "--african full_BIN4093\n",
      "\n",
      "Warning message:\n",
      "“glm.fit: fitted probabilities numerically 0 or 1 occurred”\n",
      "Warning message:\n",
      "“glm.fit: fitted probabilities numerically 0 or 1 occurred”\n",
      "--s_asian PRS_BIN4093\n",
      "\n",
      "--s_asian covar_BIN4093\n",
      "\n",
      "Warning message:\n",
      "“glm.fit: fitted probabilities numerically 0 or 1 occurred”\n",
      "Warning message:\n",
      "“glm.fit: fitted probabilities numerically 0 or 1 occurred”\n",
      "--s_asian full_BIN4093\n",
      "\n",
      "Warning message:\n",
      "“glm.fit: fitted probabilities numerically 0 or 1 occurred”\n",
      "Warning message:\n",
      "“glm.fit: fitted probabilities numerically 0 or 1 occurred”\n"
     ]
    }
   ],
   "source": [
    "# run evaluation\n",
    "non_zero_splits  %>% \n",
    "intersect(names(population_splits)) %>%\n",
    "lapply(function(split_str){\n",
    "    risk_score_list %>% lapply(function(predictor){\n",
    "        message(sprintf('--%s %s', split_str, predictor))\n",
    "        tryCatch({\n",
    "            full_df %>% filter(split == split_str) -> filtered_df\n",
    "            if(length(filtered_df %>% pull(all_of(pheno_col)) %>% unique())>1){\n",
    "                filtered_df %>%\n",
    "                eval_CI(pheno_col, c(all_of(predictor)), family) %>%\n",
    "                mutate(split = split_str)\n",
    "            }else{\n",
    "                message(sprintf(' .. skip (the phenotype value is constant in %s', split_str))\n",
    "            }\n",
    "        }, error=function(e){print(e)})\n",
    "    }) %>% bind_rows()\n",
    "}) %>%\n",
    "bind_rows() %>%\n",
    "left_join(\n",
    "    full_df %>% count_n_per_split(pheno_col, family),\n",
    "    by = \"split\"\n",
    ") -> PRS_eval_df\n"
   ]
  },
  {
   "cell_type": "code",
   "execution_count": 32,
   "id": "fce29236",
   "metadata": {},
   "outputs": [],
   "source": [
    "PRS_eval_df %>%\n",
    "rename('#response' = 'response') %>%\n",
    "fwrite(sprintf('%s.eval.tsv', performance_eval_prefix), sep='\\t', na = \"NA\", quote=F)\n"
   ]
  },
  {
   "cell_type": "code",
   "execution_count": 33,
   "id": "3664e62e",
   "metadata": {},
   "outputs": [],
   "source": [
    "# prepare data frames for the plots\n",
    "full_df %>%\n",
    "filter(split == 'test') %>%\n",
    "drop_na(all_of(c(score_geno, pheno_col))) %>%\n",
    "rename('geno_score' := all_of(score_geno)) %>%\n",
    "rename('phe' := all_of(pheno_col)) %>%\n",
    "mutate(\n",
    "    phe = phe + 1,\n",
    "    geno_score_percentile = rank(-geno_score) / n()\n",
    ") -> plot_df"
   ]
  },
  {
   "cell_type": "code",
   "execution_count": 34,
   "id": "753e4a20",
   "metadata": {},
   "outputs": [
    {
     "name": "stderr",
     "output_type": "stream",
     "text": [
      "Note: Using an external vector in selections is ambiguous.\n",
      "\u001b[34mℹ\u001b[39m Use `all_of(percentile_col)` instead of `percentile_col` to silence this message.\n",
      "\u001b[34mℹ\u001b[39m See <https://tidyselect.r-lib.org/reference/faq-external-vector.html>.\n",
      "\u001b[90mThis message is displayed once per session.\u001b[39m\n",
      "\n"
     ]
    }
   ],
   "source": [
    "summary_plot_df <- plot_df %>%\n",
    "compute_summary_df('geno_score_percentile', 'phe', family=family)\n"
   ]
  },
  {
   "cell_type": "code",
   "execution_count": 35,
   "id": "6a18fc30",
   "metadata": {},
   "outputs": [],
   "source": [
    "summary_plot_df %>%\n",
    "rename('#l_bin' = 'l_bin') %>%\n",
    "fwrite(sprintf('%s.percentile.tsv', performance_eval_prefix), sep='\\t', na = \"NA\", quote=F)\n"
   ]
  },
  {
   "cell_type": "code",
   "execution_count": 36,
   "id": "605300e4",
   "metadata": {},
   "outputs": [],
   "source": [
    "\n",
    "if(family == 'gaussian'){\n",
    "    p1 <- plot_df %>% plot_PRS_vs_phe() +\n",
    "    theme(legend.position=c(.1, .8))+\n",
    "    labs(title = pheno_col, y = pheno_col)\n",
    "\n",
    "    p2 <- summary_plot_df %>%\n",
    "    plot_PRS_bin_vs_phe(mean(plot_df$phe))+\n",
    "    labs(title = pheno_col, y = pheno_col)\n",
    "}else if(family == 'binomial'){\n",
    "    p1 <- plot_df %>% plot_PRS_binomial() +\n",
    "    labs(title = pheno_col, x = pheno_col)\n",
    "\n",
    "    p2 <- summary_plot_df %>% plot_PRS_bin_vs_OR() +\n",
    "    labs(title = pheno_col)\n",
    "}else{\n",
    "    stop(sprintf('%s family is not supported!', family))\n",
    "}\n",
    "\n",
    "for(ext in c('png', 'pdf')){ggsave(\n",
    "    sprintf('%s.plot.%s', performance_eval_prefix, ext),\n",
    "    gridExtra::arrangeGrob(p1, p2, ncol=2),\n",
    "    width=12, height=6\n",
    ")}\n"
   ]
  },
  {
   "cell_type": "code",
   "execution_count": null,
   "id": "d59b9a32",
   "metadata": {},
   "outputs": [],
   "source": []
  },
  {
   "cell_type": "code",
   "execution_count": null,
   "id": "97db0f44",
   "metadata": {},
   "outputs": [],
   "source": []
  }
 ],
 "metadata": {
  "kernelspec": {
   "display_name": "R",
   "language": "R",
   "name": "ir"
  },
  "language_info": {
   "codemirror_mode": "r",
   "file_extension": ".r",
   "mimetype": "text/x-r-source",
   "name": "R",
   "pygments_lexer": "r",
   "version": "3.6.2"
  }
 },
 "nbformat": 4,
 "nbformat_minor": 5
}

{
 "cells": [
  {
   "cell_type": "code",
   "execution_count": 1,
   "id": "8480645a",
   "metadata": {},
   "outputs": [],
   "source": [
    "suppressWarnings(suppressPackageStartupMessages({\n",
    "    library(tidyverse)\n",
    "    library(data.table)\n",
    "    library(DescTools)\n",
    "}))\n"
   ]
  },
  {
   "cell_type": "code",
   "execution_count": 2,
   "id": "f9874270",
   "metadata": {},
   "outputs": [],
   "source": [
    "source('paths.sh')\n",
    "source(snpnet_helper)\n",
    "source(fPRS_helper)\n"
   ]
  },
  {
   "cell_type": "code",
   "execution_count": 20,
   "id": "675c685e",
   "metadata": {},
   "outputs": [],
   "source": [
    "args <- c(\n",
    "    'dev.INI50',\n",
    "    phe_f,\n",
    "    'INI50',\n",
    "    'gaussian',\n",
    "    'age,sex,Array,PC1,PC2,PC3,PC4,PC5,PC6,PC7,PC8,PC9,PC10',\n",
    "    'train_val=train_val,test=train_val,non_british_white=non_british_white,african=african,s_asian=s_asian,e_asian=e_asian',\n",
    "    file.path(project_d, PRS_f)\n",
    ")\n"
   ]
  },
  {
   "cell_type": "code",
   "execution_count": 21,
   "id": "d200142d",
   "metadata": {},
   "outputs": [],
   "source": [
    "# pase command line args\n",
    "# output\n",
    "performance_eval_prefix <- args[1] # the output file containing the predictive performance\n",
    "## inputs\n",
    "pheno_and_covar_f <- args[2] # the master phenotype file with covariates\n",
    "pheno_col <- args[3] # the phenotype column\n",
    "family <- args[4] # gaussian or binomial\n",
    "covariates_str <- args[5]\n",
    "split_strs <- args[6] # list of split groups to consider\n",
    "sscore_f <- args[7] # the sscore input file\n"
   ]
  },
  {
   "cell_type": "code",
   "execution_count": 22,
   "id": "8a2675b4",
   "metadata": {},
   "outputs": [],
   "source": [
    "####################################################################\n",
    "# main\n",
    "\n",
    "## parse lists\n",
    "\n",
    "covariates_str %>% split_list_str() -> covariates\n",
    "\n",
    "split_strs %>% split_named_list_str() -> population_splits\n",
    "\n",
    "# set gaussian and binomial phenotype lists\n",
    "stopifnot(family %in% c('gaussian', 'binomial'))\n",
    "if(family == 'gaussian'){\n",
    "    phes_binary <- NULL\n",
    "    phes_quantitative <- c(pheno_col)\n",
    "}else if(family == 'binomial'){\n",
    "    phes_binary <- c(pheno_col)\n",
    "    phes_quantitative <- NULL\n",
    "}\n",
    "\n",
    "# regression formula\n",
    "covar_formula_str <- sprintf(\n",
    "    '%s ~ 1 + %s',\n",
    "    pheno_col, paste(covariates, collapse=' + ')\n",
    ")\n",
    "\n",
    "# list of risk score models we consider in the evaluation\n",
    "score_geno  <- paste0('PRS_', pheno_col)\n",
    "score_covar <- paste0('covar_', pheno_col)\n",
    "score_full  <- paste0('full_', pheno_col)\n"
   ]
  },
  {
   "cell_type": "code",
   "execution_count": 23,
   "id": "0a4d4913",
   "metadata": {},
   "outputs": [],
   "source": [
    "# read phenotype\n",
    "pheno_and_covar_f %>%\n",
    "read_phenotype_file(c(covariates, phes_binary, phes_quantitative)) %>%\n",
    "recode_pheno_values(phes_binary, phes_quantitative) %>%\n",
    "update_split_column_for_refit() -> pheno_df\n"
   ]
  },
  {
   "cell_type": "code",
   "execution_count": 24,
   "id": "7744d454",
   "metadata": {},
   "outputs": [
    {
     "data": {
      "text/html": [
       "<table class=\"dataframe\">\n",
       "<caption>A data.table: 7 × 3</caption>\n",
       "<thead>\n",
       "\t<tr><th scope=col>Array</th><th scope=col>population</th><th scope=col>n</th></tr>\n",
       "\t<tr><th scope=col>&lt;int&gt;</th><th scope=col>&lt;chr&gt;</th><th scope=col>&lt;int&gt;</th></tr>\n",
       "</thead>\n",
       "<tbody>\n",
       "\t<tr><td>0</td><td>non_british_white</td><td>  2499</td></tr>\n",
       "\t<tr><td>0</td><td>white_british    </td><td> 37035</td></tr>\n",
       "\t<tr><td>1</td><td>african          </td><td>  6497</td></tr>\n",
       "\t<tr><td>1</td><td>e_asian          </td><td>  1704</td></tr>\n",
       "\t<tr><td>1</td><td>non_british_white</td><td> 22406</td></tr>\n",
       "\t<tr><td>1</td><td>s_asian          </td><td>  7831</td></tr>\n",
       "\t<tr><td>1</td><td>white_british    </td><td>300094</td></tr>\n",
       "</tbody>\n",
       "</table>\n"
      ],
      "text/latex": [
       "A data.table: 7 × 3\n",
       "\\begin{tabular}{lll}\n",
       " Array & population & n\\\\\n",
       " <int> & <chr> & <int>\\\\\n",
       "\\hline\n",
       "\t 0 & non\\_british\\_white &   2499\\\\\n",
       "\t 0 & white\\_british     &  37035\\\\\n",
       "\t 1 & african           &   6497\\\\\n",
       "\t 1 & e\\_asian           &   1704\\\\\n",
       "\t 1 & non\\_british\\_white &  22406\\\\\n",
       "\t 1 & s\\_asian           &   7831\\\\\n",
       "\t 1 & white\\_british     & 300094\\\\\n",
       "\\end{tabular}\n"
      ],
      "text/markdown": [
       "\n",
       "A data.table: 7 × 3\n",
       "\n",
       "| Array &lt;int&gt; | population &lt;chr&gt; | n &lt;int&gt; |\n",
       "|---|---|---|\n",
       "| 0 | non_british_white |   2499 |\n",
       "| 0 | white_british     |  37035 |\n",
       "| 1 | african           |   6497 |\n",
       "| 1 | e_asian           |   1704 |\n",
       "| 1 | non_british_white |  22406 |\n",
       "| 1 | s_asian           |   7831 |\n",
       "| 1 | white_british     | 300094 |\n",
       "\n"
      ],
      "text/plain": [
       "  Array population        n     \n",
       "1 0     non_british_white   2499\n",
       "2 0     white_british      37035\n",
       "3 1     african             6497\n",
       "4 1     e_asian             1704\n",
       "5 1     non_british_white  22406\n",
       "6 1     s_asian             7831\n",
       "7 1     white_british     300094"
      ]
     },
     "metadata": {},
     "output_type": "display_data"
    }
   ],
   "source": [
    "pheno_df %>%\n",
    "filter(split %in% names(population_splits)) %>%\n",
    "count(Array, population)\n"
   ]
  },
  {
   "cell_type": "code",
   "execution_count": 25,
   "id": "48a14e47",
   "metadata": {},
   "outputs": [],
   "source": [
    "# we fit the specified regression model for each split independently\n",
    "# and aggregate the results into one data frame\n",
    "population_splits %>% unique() %>%\n",
    "lapply(function(s){\n",
    "    pheno_df %>%\n",
    "    filter(split == s) %>%\n",
    "    fit_glm(covar_formula_str, family) %>%\n",
    "    fit_to_df() %>%\n",
    "    mutate(split = s) %>%\n",
    "    select(split, variable, estimate, SE, z_or_t_value, P)\n",
    "}) %>%\n",
    "bind_rows() -> covar_model_BETAs_df\n"
   ]
  },
  {
   "cell_type": "code",
   "execution_count": 26,
   "id": "ba2683d9",
   "metadata": {},
   "outputs": [],
   "source": [
    "covar_model_BETAs_df %>%\n",
    "rename('#split' = 'split') %>%\n",
    "fwrite(sprintf('%s.covarBETAs.tsv', performance_eval_prefix), sep='\\t', na = \"NA\", quote=F)\n"
   ]
  },
  {
   "cell_type": "code",
   "execution_count": 27,
   "id": "e5fb6c5c",
   "metadata": {},
   "outputs": [],
   "source": [
    "# we fit the specified regression model for each split independently\n",
    "# and aggregate the results into one data frame\n",
    "population_splits %>% names() %>%\n",
    "lapply(function(s){\n",
    "    # use the BETAs on a split specified in named list, PRS_model_covar_BETAs_split\n",
    "    covar_score_split <- (population_splits[[s]])\n",
    "    \n",
    "    # get BETAs\n",
    "    covar_model_BETAs_df %>%\n",
    "    filter(split == covar_score_split) %>%\n",
    "    rename(!!score_covar := 'estimate') -> covar_betas_pop_df\n",
    "\n",
    "    # loop across different split\n",
    "    pheno_df %>%\n",
    "    filter(split == s) %>%\n",
    "    FID_IID_to_rownames() %>%\n",
    "    compute_matrix_product(\n",
    "        covar_betas_pop_df,\n",
    "        covar_betas_pop_df %>% pull(variable) %>% intersect(covariates),\n",
    "        beta_estimate_cols=c(score_covar)\n",
    "    ) %>%\n",
    "    mutate(covar_score_computed_on = covar_score_split) %>%\n",
    "    FID_IID_from_rownames()\n",
    "}) %>%\n",
    "bind_rows() -> covar_score_df\n"
   ]
  },
  {
   "cell_type": "code",
   "execution_count": 28,
   "id": "29ce8a15",
   "metadata": {},
   "outputs": [
    {
     "name": "stderr",
     "output_type": "stream",
     "text": [
      ".. reading /scratch/groups/mrivas/projects/PRS/private_output/202009_batch/ukb24983_GWAS_covar.20200828.PRSs.phe.gz\n",
      "\n"
     ]
    }
   ],
   "source": [
    "# read sscore file\n",
    "message(sprintf('.. reading %s', sscore_f))\n",
    "sscore_f %>%\n",
    "read_sscore_file(columns = score_geno) -> sscore_df\n"
   ]
  },
  {
   "cell_type": "code",
   "execution_count": 29,
   "id": "cb8c947d",
   "metadata": {},
   "outputs": [],
   "source": [
    "# join all the individual-level data into one data frame\n",
    "pheno_df %>%\n",
    "filter(split %in% names(population_splits)) %>%\n",
    "left_join(sscore_df, by=c('FID', 'IID')) %>%\n",
    "left_join(covar_score_df, by=c(\"FID\", \"IID\")) %>%\n",
    "mutate(!!score_full := rowSums(across(all_of(c(score_covar))))) -> full_df\n"
   ]
  },
  {
   "cell_type": "code",
   "execution_count": null,
   "id": "b5514ffe",
   "metadata": {},
   "outputs": [],
   "source": []
  },
  {
   "cell_type": "code",
   "execution_count": 54,
   "id": "18f8a1a8",
   "metadata": {},
   "outputs": [],
   "source": [
    "# regression formula\n",
    "covarPRS_formula_str <- sprintf(\n",
    "    '%s ~ 1 + (1*%s) + %s',\n",
    "    pheno_col, score_covar, score_geno\n",
    ")\n",
    "\n",
    "# we fit the specified regression model for each split independently\n",
    "# and aggregate the results into one data frame\n",
    "population_splits %>% names() %>%\n",
    "lapply(function(s){\n",
    "    full_df %>%\n",
    "    filter(split == s) %>%\n",
    "    fit_glm(covarPRS_formula_str, family) %>%\n",
    "    fit_to_df() %>%\n",
    "    mutate(split = s) %>%\n",
    "    select(split, variable, estimate, SE, z_or_t_value, P)\n",
    "}) %>%\n",
    "bind_rows() -> covarPRS_model_BETAs_df\n"
   ]
  },
  {
   "cell_type": "code",
   "execution_count": 55,
   "id": "1d53c167",
   "metadata": {},
   "outputs": [
    {
     "data": {
      "text/html": [
       "<table class=\"dataframe\">\n",
       "<caption>A data.frame: 12 × 6</caption>\n",
       "<thead>\n",
       "\t<tr><th scope=col>split</th><th scope=col>variable</th><th scope=col>estimate</th><th scope=col>SE</th><th scope=col>z_or_t_value</th><th scope=col>P</th></tr>\n",
       "\t<tr><th scope=col>&lt;chr&gt;</th><th scope=col>&lt;chr&gt;</th><th scope=col>&lt;dbl&gt;</th><th scope=col>&lt;dbl&gt;</th><th scope=col>&lt;dbl&gt;</th><th scope=col>&lt;dbl&gt;</th></tr>\n",
       "</thead>\n",
       "<tbody>\n",
       "\t<tr><td>train_val        </td><td>(Intercept)</td><td>165.5405808</td><td>0.018002161</td><td>9195.59494</td><td> 0.000000e+00</td></tr>\n",
       "\t<tr><td>train_val        </td><td>PRS_INI50  </td><td>  1.2438412</td><td>0.003769405</td><td> 329.98348</td><td> 0.000000e+00</td></tr>\n",
       "\t<tr><td>test             </td><td>(Intercept)</td><td>166.0814794</td><td>0.039096073</td><td>4248.03482</td><td> 0.000000e+00</td></tr>\n",
       "\t<tr><td>test             </td><td>PRS_INI50  </td><td>  1.0066502</td><td>0.008351234</td><td> 120.53909</td><td> 0.000000e+00</td></tr>\n",
       "\t<tr><td>non_british_white</td><td>(Intercept)</td><td>165.8227759</td><td>0.061893651</td><td>2679.15649</td><td> 0.000000e+00</td></tr>\n",
       "\t<tr><td>non_british_white</td><td>PRS_INI50  </td><td>  1.0006231</td><td>0.013281424</td><td>  75.34004</td><td> 0.000000e+00</td></tr>\n",
       "\t<tr><td>african          </td><td>(Intercept)</td><td>164.8622657</td><td>0.188602237</td><td> 874.12678</td><td> 0.000000e+00</td></tr>\n",
       "\t<tr><td>african          </td><td>PRS_INI50  </td><td>  0.5552861</td><td>0.035572413</td><td>  15.61002</td><td> 6.076984e-54</td></tr>\n",
       "\t<tr><td>s_asian          </td><td>(Intercept)</td><td>161.7250052</td><td>0.128492992</td><td>1258.62899</td><td> 0.000000e+00</td></tr>\n",
       "\t<tr><td>s_asian          </td><td>PRS_INI50  </td><td>  0.7736047</td><td>0.028321044</td><td>  27.31554</td><td>7.717045e-157</td></tr>\n",
       "\t<tr><td>e_asian          </td><td>(Intercept)</td><td>157.3628685</td><td>0.339505193</td><td> 463.50651</td><td> 0.000000e+00</td></tr>\n",
       "\t<tr><td>e_asian          </td><td>PRS_INI50  </td><td>  0.7544999</td><td>0.057828260</td><td>  13.04725</td><td> 3.802680e-37</td></tr>\n",
       "</tbody>\n",
       "</table>\n"
      ],
      "text/latex": [
       "A data.frame: 12 × 6\n",
       "\\begin{tabular}{llllll}\n",
       " split & variable & estimate & SE & z\\_or\\_t\\_value & P\\\\\n",
       " <chr> & <chr> & <dbl> & <dbl> & <dbl> & <dbl>\\\\\n",
       "\\hline\n",
       "\t train\\_val         & (Intercept) & 165.5405808 & 0.018002161 & 9195.59494 &  0.000000e+00\\\\\n",
       "\t train\\_val         & PRS\\_INI50   &   1.2438412 & 0.003769405 &  329.98348 &  0.000000e+00\\\\\n",
       "\t test              & (Intercept) & 166.0814794 & 0.039096073 & 4248.03482 &  0.000000e+00\\\\\n",
       "\t test              & PRS\\_INI50   &   1.0066502 & 0.008351234 &  120.53909 &  0.000000e+00\\\\\n",
       "\t non\\_british\\_white & (Intercept) & 165.8227759 & 0.061893651 & 2679.15649 &  0.000000e+00\\\\\n",
       "\t non\\_british\\_white & PRS\\_INI50   &   1.0006231 & 0.013281424 &   75.34004 &  0.000000e+00\\\\\n",
       "\t african           & (Intercept) & 164.8622657 & 0.188602237 &  874.12678 &  0.000000e+00\\\\\n",
       "\t african           & PRS\\_INI50   &   0.5552861 & 0.035572413 &   15.61002 &  6.076984e-54\\\\\n",
       "\t s\\_asian           & (Intercept) & 161.7250052 & 0.128492992 & 1258.62899 &  0.000000e+00\\\\\n",
       "\t s\\_asian           & PRS\\_INI50   &   0.7736047 & 0.028321044 &   27.31554 & 7.717045e-157\\\\\n",
       "\t e\\_asian           & (Intercept) & 157.3628685 & 0.339505193 &  463.50651 &  0.000000e+00\\\\\n",
       "\t e\\_asian           & PRS\\_INI50   &   0.7544999 & 0.057828260 &   13.04725 &  3.802680e-37\\\\\n",
       "\\end{tabular}\n"
      ],
      "text/markdown": [
       "\n",
       "A data.frame: 12 × 6\n",
       "\n",
       "| split &lt;chr&gt; | variable &lt;chr&gt; | estimate &lt;dbl&gt; | SE &lt;dbl&gt; | z_or_t_value &lt;dbl&gt; | P &lt;dbl&gt; |\n",
       "|---|---|---|---|---|---|\n",
       "| train_val         | (Intercept) | 165.5405808 | 0.018002161 | 9195.59494 |  0.000000e+00 |\n",
       "| train_val         | PRS_INI50   |   1.2438412 | 0.003769405 |  329.98348 |  0.000000e+00 |\n",
       "| test              | (Intercept) | 166.0814794 | 0.039096073 | 4248.03482 |  0.000000e+00 |\n",
       "| test              | PRS_INI50   |   1.0066502 | 0.008351234 |  120.53909 |  0.000000e+00 |\n",
       "| non_british_white | (Intercept) | 165.8227759 | 0.061893651 | 2679.15649 |  0.000000e+00 |\n",
       "| non_british_white | PRS_INI50   |   1.0006231 | 0.013281424 |   75.34004 |  0.000000e+00 |\n",
       "| african           | (Intercept) | 164.8622657 | 0.188602237 |  874.12678 |  0.000000e+00 |\n",
       "| african           | PRS_INI50   |   0.5552861 | 0.035572413 |   15.61002 |  6.076984e-54 |\n",
       "| s_asian           | (Intercept) | 161.7250052 | 0.128492992 | 1258.62899 |  0.000000e+00 |\n",
       "| s_asian           | PRS_INI50   |   0.7736047 | 0.028321044 |   27.31554 | 7.717045e-157 |\n",
       "| e_asian           | (Intercept) | 157.3628685 | 0.339505193 |  463.50651 |  0.000000e+00 |\n",
       "| e_asian           | PRS_INI50   |   0.7544999 | 0.057828260 |   13.04725 |  3.802680e-37 |\n",
       "\n"
      ],
      "text/plain": [
       "   split             variable    estimate    SE          z_or_t_value\n",
       "1  train_val         (Intercept) 165.5405808 0.018002161 9195.59494  \n",
       "2  train_val         PRS_INI50     1.2438412 0.003769405  329.98348  \n",
       "3  test              (Intercept) 166.0814794 0.039096073 4248.03482  \n",
       "4  test              PRS_INI50     1.0066502 0.008351234  120.53909  \n",
       "5  non_british_white (Intercept) 165.8227759 0.061893651 2679.15649  \n",
       "6  non_british_white PRS_INI50     1.0006231 0.013281424   75.34004  \n",
       "7  african           (Intercept) 164.8622657 0.188602237  874.12678  \n",
       "8  african           PRS_INI50     0.5552861 0.035572413   15.61002  \n",
       "9  s_asian           (Intercept) 161.7250052 0.128492992 1258.62899  \n",
       "10 s_asian           PRS_INI50     0.7736047 0.028321044   27.31554  \n",
       "11 e_asian           (Intercept) 157.3628685 0.339505193  463.50651  \n",
       "12 e_asian           PRS_INI50     0.7544999 0.057828260   13.04725  \n",
       "   P            \n",
       "1   0.000000e+00\n",
       "2   0.000000e+00\n",
       "3   0.000000e+00\n",
       "4   0.000000e+00\n",
       "5   0.000000e+00\n",
       "6   0.000000e+00\n",
       "7   0.000000e+00\n",
       "8   6.076984e-54\n",
       "9   0.000000e+00\n",
       "10 7.717045e-157\n",
       "11  0.000000e+00\n",
       "12  3.802680e-37"
      ]
     },
     "metadata": {},
     "output_type": "display_data"
    }
   ],
   "source": [
    "covarPRS_model_BETAs_df"
   ]
  },
  {
   "cell_type": "code",
   "execution_count": 47,
   "id": "4c9261e8",
   "metadata": {},
   "outputs": [],
   "source": []
  },
  {
   "cell_type": "code",
   "execution_count": 48,
   "id": "4cc1c822",
   "metadata": {},
   "outputs": [
    {
     "data": {
      "text/html": [
       "'INI50 ~ 1 + (1*covar_INI50) + PRS_INI50'"
      ],
      "text/latex": [
       "'INI50 \\textasciitilde{} 1 + (1*covar\\_INI50) + PRS\\_INI50'"
      ],
      "text/markdown": [
       "'INI50 ~ 1 + (1*covar_INI50) + PRS_INI50'"
      ],
      "text/plain": [
       "[1] \"INI50 ~ 1 + (1*covar_INI50) + PRS_INI50\""
      ]
     },
     "metadata": {},
     "output_type": "display_data"
    }
   ],
   "source": [
    "covarPRS_formula_str"
   ]
  },
  {
   "cell_type": "code",
   "execution_count": null,
   "id": "63cf5f6e",
   "metadata": {},
   "outputs": [],
   "source": []
  },
  {
   "cell_type": "code",
   "execution_count": 49,
   "id": "1eeb2a4a",
   "metadata": {},
   "outputs": [],
   "source": [
    "test_df %>%\n",
    "fit_glm(covarPRS_formula_str, family) %>%\n",
    "fit_to_df() -> dev\n",
    "\n",
    "# %>%\n",
    "# mutate(split = s) %>%\n",
    "# select(split, variable, estimate, SE, z_or_t_value, P)"
   ]
  },
  {
   "cell_type": "code",
   "execution_count": 50,
   "id": "cca500ec",
   "metadata": {},
   "outputs": [
    {
     "data": {
      "text/html": [
       "<table class=\"dataframe\">\n",
       "<caption>A data.frame: 2 × 5</caption>\n",
       "<thead>\n",
       "\t<tr><th scope=col>variable</th><th scope=col>estimate</th><th scope=col>SE</th><th scope=col>z_or_t_value</th><th scope=col>P</th></tr>\n",
       "\t<tr><th scope=col>&lt;chr&gt;</th><th scope=col>&lt;dbl&gt;</th><th scope=col>&lt;dbl&gt;</th><th scope=col>&lt;dbl&gt;</th><th scope=col>&lt;dbl&gt;</th></tr>\n",
       "</thead>\n",
       "<tbody>\n",
       "\t<tr><td>(Intercept)</td><td>166.08148</td><td>0.039096073</td><td>4248.0348</td><td>0</td></tr>\n",
       "\t<tr><td>PRS_INI50  </td><td>  1.00665</td><td>0.008351234</td><td> 120.5391</td><td>0</td></tr>\n",
       "</tbody>\n",
       "</table>\n"
      ],
      "text/latex": [
       "A data.frame: 2 × 5\n",
       "\\begin{tabular}{lllll}\n",
       " variable & estimate & SE & z\\_or\\_t\\_value & P\\\\\n",
       " <chr> & <dbl> & <dbl> & <dbl> & <dbl>\\\\\n",
       "\\hline\n",
       "\t (Intercept) & 166.08148 & 0.039096073 & 4248.0348 & 0\\\\\n",
       "\t PRS\\_INI50   &   1.00665 & 0.008351234 &  120.5391 & 0\\\\\n",
       "\\end{tabular}\n"
      ],
      "text/markdown": [
       "\n",
       "A data.frame: 2 × 5\n",
       "\n",
       "| variable &lt;chr&gt; | estimate &lt;dbl&gt; | SE &lt;dbl&gt; | z_or_t_value &lt;dbl&gt; | P &lt;dbl&gt; |\n",
       "|---|---|---|---|---|\n",
       "| (Intercept) | 166.08148 | 0.039096073 | 4248.0348 | 0 |\n",
       "| PRS_INI50   |   1.00665 | 0.008351234 |  120.5391 | 0 |\n",
       "\n"
      ],
      "text/plain": [
       "  variable    estimate  SE          z_or_t_value P\n",
       "1 (Intercept) 166.08148 0.039096073 4248.0348    0\n",
       "2 PRS_INI50     1.00665 0.008351234  120.5391    0"
      ]
     },
     "metadata": {},
     "output_type": "display_data"
    }
   ],
   "source": [
    "dev"
   ]
  },
  {
   "cell_type": "code",
   "execution_count": null,
   "id": "e3353fb5",
   "metadata": {},
   "outputs": [],
   "source": []
  },
  {
   "cell_type": "code",
   "execution_count": null,
   "id": "0b67f288",
   "metadata": {},
   "outputs": [],
   "source": []
  },
  {
   "cell_type": "code",
   "execution_count": 30,
   "id": "149788be",
   "metadata": {},
   "outputs": [],
   "source": [
    "# list of \"scores\" we will use in the evaluation\n",
    "c(score_geno, score_covar, score_full) -> risk_score_list\n"
   ]
  },
  {
   "cell_type": "code",
   "execution_count": 31,
   "id": "7c1eb9e2",
   "metadata": {},
   "outputs": [
    {
     "name": "stderr",
     "output_type": "stream",
     "text": [
      "--train_val PRS_INI50\n",
      "\n",
      "--train_val covar_INI50\n",
      "\n",
      "--train_val full_INI50\n",
      "\n",
      "--test PRS_INI50\n",
      "\n",
      "--test covar_INI50\n",
      "\n",
      "--test full_INI50\n",
      "\n",
      "--non_british_white PRS_INI50\n",
      "\n",
      "--non_british_white covar_INI50\n",
      "\n",
      "--non_british_white full_INI50\n",
      "\n",
      "--african PRS_INI50\n",
      "\n",
      "--african covar_INI50\n",
      "\n",
      "--african full_INI50\n",
      "\n",
      "--s_asian PRS_INI50\n",
      "\n",
      "--s_asian covar_INI50\n",
      "\n",
      "--s_asian full_INI50\n",
      "\n",
      "--e_asian PRS_INI50\n",
      "\n",
      "--e_asian covar_INI50\n",
      "\n",
      "--e_asian full_INI50\n",
      "\n"
     ]
    }
   ],
   "source": [
    "# run evaluation\n",
    "names(population_splits) %>% lapply(function(split_str){\n",
    "    risk_score_list %>% lapply(function(predictor){\n",
    "        message(sprintf('--%s %s', split_str, predictor))\n",
    "        tryCatch({\n",
    "            full_df %>% filter(split == split_str) -> filtered_df\n",
    "            if(length(filtered_df %>% pull(all_of(pheno_col)) %>% unique())>1){\n",
    "                filtered_df %>%\n",
    "                eval_CI(pheno_col, c(all_of(predictor)), family) %>%\n",
    "                mutate(split = split_str)\n",
    "            }else{\n",
    "                message(sprintf(' .. skip (the phenotype value is constant in %s', split_str))\n",
    "            }\n",
    "        }, error=function(e){print(e)})\n",
    "    }) %>% bind_rows()\n",
    "}) %>%\n",
    "bind_rows() %>%\n",
    "left_join(\n",
    "    full_df %>% count_n_per_split(pheno_col, family),\n",
    "    by = \"split\"\n",
    ") -> PRS_eval_df\n"
   ]
  },
  {
   "cell_type": "code",
   "execution_count": 32,
   "id": "cbc4dd77",
   "metadata": {},
   "outputs": [],
   "source": [
    "PRS_eval_df %>%\n",
    "rename('#response' = 'response') %>%\n",
    "fwrite(sprintf('%s.eval.tsv', performance_eval_prefix), sep='\\t', na = \"NA\", quote=F)\n"
   ]
  },
  {
   "cell_type": "code",
   "execution_count": 33,
   "id": "59321283",
   "metadata": {},
   "outputs": [],
   "source": [
    "# prepare data frames for the plots\n",
    "full_df %>%\n",
    "filter(split == 'test') %>%\n",
    "drop_na(all_of(c(score_geno, pheno_col))) %>%\n",
    "rename('geno_score' := all_of(score_geno)) %>%\n",
    "rename('phe' := all_of(pheno_col)) %>%\n",
    "mutate(\n",
    "    phe = phe + 1,\n",
    "    geno_score_percentile = rank(-geno_score) / n()\n",
    ") -> plot_df"
   ]
  },
  {
   "cell_type": "code",
   "execution_count": 34,
   "id": "1644a4a6",
   "metadata": {},
   "outputs": [
    {
     "name": "stderr",
     "output_type": "stream",
     "text": [
      "Note: Using an external vector in selections is ambiguous.\n",
      "\u001b[34mℹ\u001b[39m Use `all_of(percentile_col)` instead of `percentile_col` to silence this message.\n",
      "\u001b[34mℹ\u001b[39m See <https://tidyselect.r-lib.org/reference/faq-external-vector.html>.\n",
      "\u001b[90mThis message is displayed once per session.\u001b[39m\n",
      "\n"
     ]
    }
   ],
   "source": [
    "summary_plot_df <- plot_df %>%\n",
    "compute_summary_df('geno_score_percentile', 'phe', family=family)\n"
   ]
  },
  {
   "cell_type": "code",
   "execution_count": 35,
   "id": "9aac7bfe",
   "metadata": {},
   "outputs": [],
   "source": [
    "summary_plot_df %>%\n",
    "rename('#l_bin' = 'l_bin') %>%\n",
    "fwrite(sprintf('%s.percentile.tsv', performance_eval_prefix), sep='\\t', na = \"NA\", quote=F)\n"
   ]
  },
  {
   "cell_type": "code",
   "execution_count": 36,
   "id": "194bbbcc",
   "metadata": {},
   "outputs": [],
   "source": [
    "\n",
    "if(family == 'gaussian'){\n",
    "    p1 <- plot_df %>% plot_PRS_vs_phe() +\n",
    "    theme(legend.position=c(.1, .8))+\n",
    "    labs(title = pheno_col, y = pheno_col)\n",
    "\n",
    "    p2 <- summary_plot_df %>%\n",
    "    plot_PRS_bin_vs_phe(mean(plot_df$phe))+\n",
    "    labs(title = pheno_col, y = pheno_col)\n",
    "}else if(family == 'binomial'){\n",
    "    p1 <- plot_df %>% plot_PRS_binomial() +\n",
    "    labs(title = pheno_col, x = pheno_col)\n",
    "\n",
    "    p2 <- summary_plot_df %>% plot_PRS_bin_vs_OR() +\n",
    "    labs(title = pheno_col)\n",
    "}else{\n",
    "    stop(sprintf('%s family is not supported!', family))\n",
    "}\n",
    "\n",
    "for(ext in c('png', 'pdf')){ggsave(\n",
    "    sprintf('%s.plot.%s', performance_eval_prefix, ext),\n",
    "    gridExtra::arrangeGrob(p1, p2, ncol=2),\n",
    "    width=12, height=6\n",
    ")}\n"
   ]
  },
  {
   "cell_type": "code",
   "execution_count": null,
   "id": "5df7f639",
   "metadata": {},
   "outputs": [],
   "source": []
  },
  {
   "cell_type": "code",
   "execution_count": null,
   "id": "56d95d44",
   "metadata": {},
   "outputs": [],
   "source": []
  }
 ],
 "metadata": {
  "kernelspec": {
   "display_name": "R",
   "language": "R",
   "name": "ir"
  },
  "language_info": {
   "codemirror_mode": "r",
   "file_extension": ".r",
   "mimetype": "text/x-r-source",
   "name": "R",
   "pygments_lexer": "r",
   "version": "3.6.2"
  }
 },
 "nbformat": 4,
 "nbformat_minor": 5
}

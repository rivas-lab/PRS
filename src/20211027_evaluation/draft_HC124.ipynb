{
 "cells": [
  {
   "cell_type": "code",
   "execution_count": 2,
   "id": "1adb8b8d",
   "metadata": {},
   "outputs": [],
   "source": [
    "suppressWarnings(suppressPackageStartupMessages({\n",
    "    library(tidyverse)\n",
    "    library(data.table)\n",
    "    library(DescTools)\n",
    "}))\n"
   ]
  },
  {
   "cell_type": "code",
   "execution_count": 3,
   "id": "6238e59d",
   "metadata": {},
   "outputs": [],
   "source": [
    "source('paths.sh')\n",
    "source(snpnet_helper)\n",
    "source(fPRS_helper)\n"
   ]
  },
  {
   "cell_type": "code",
   "execution_count": 4,
   "id": "8a1bde7d",
   "metadata": {},
   "outputs": [],
   "source": [
    "args <- c(\n",
    "    'dev.HC124',\n",
    "    phe_f,\n",
    "    'HC124',\n",
    "    'binomial',\n",
    "    'age,sex,Array,PC1,PC2,PC3,PC4,PC5,PC6,PC7,PC8,PC9,PC10',\n",
    "    'train_val=train_val,test=train_val,non_british_white=non_british_white,african=african,s_asian=s_asian,e_asian=e_asian',\n",
    "    file.path(project_d, PRS_f)\n",
    ")\n"
   ]
  },
  {
   "cell_type": "code",
   "execution_count": 5,
   "id": "1699dffc",
   "metadata": {},
   "outputs": [],
   "source": [
    "# pase command line args\n",
    "# output\n",
    "performance_eval_prefix <- args[1] # the output file containing the predictive performance\n",
    "## inputs\n",
    "pheno_and_covar_f <- args[2] # the master phenotype file with covariates\n",
    "pheno_col <- args[3] # the phenotype column\n",
    "family <- args[4] # gaussian or binomial\n",
    "covariates_str <- args[5]\n",
    "split_strs <- args[6] # list of split groups to consider\n",
    "sscore_f <- args[7] # the sscore input file\n"
   ]
  },
  {
   "cell_type": "code",
   "execution_count": 6,
   "id": "fae3ae82",
   "metadata": {},
   "outputs": [],
   "source": [
    "####################################################################\n",
    "# main\n",
    "\n",
    "## parse lists\n",
    "\n",
    "covariates_str %>% split_list_str() -> covariates\n",
    "\n",
    "split_strs %>% split_named_list_str() -> population_splits\n",
    "\n",
    "# set gaussian and binomial phenotype lists\n",
    "stopifnot(family %in% c('gaussian', 'binomial'))\n",
    "if(family == 'gaussian'){\n",
    "    phes_binary <- NULL\n",
    "    phes_quantitative <- c(pheno_col)\n",
    "}else if(family == 'binomial'){\n",
    "    phes_binary <- c(pheno_col)\n",
    "    phes_quantitative <- NULL\n",
    "}\n",
    "\n",
    "# regression formula\n",
    "covar_formula_str <- sprintf(\n",
    "    '%s ~ 1 + %s',\n",
    "    pheno_col, paste(covariates, collapse=' + ')\n",
    ")\n",
    "\n",
    "# list of risk score models we consider in the evaluation\n",
    "score_geno  <- paste0('PRS_', pheno_col)\n",
    "score_covar <- paste0('covar_', pheno_col)\n",
    "score_full  <- paste0('full_', pheno_col)\n"
   ]
  },
  {
   "cell_type": "code",
   "execution_count": 7,
   "id": "e635a9cd",
   "metadata": {},
   "outputs": [],
   "source": [
    "# read phenotype\n",
    "pheno_and_covar_f %>%\n",
    "read_phenotype_file(c(covariates, phes_binary, phes_quantitative)) %>%\n",
    "recode_pheno_values(phes_binary, phes_quantitative) %>%\n",
    "update_split_column_for_refit() -> pheno_df\n"
   ]
  },
  {
   "cell_type": "code",
   "execution_count": 21,
   "id": "586b2888",
   "metadata": {},
   "outputs": [],
   "source": [
    "# count the number of individuals\n",
    "pheno_df %>%\n",
    "filter(split %in% names(population_splits)) %>%\n",
    "count_n_per_split(pheno_col, family) -> split_cnt_df\n",
    "if (family == 'binomial') {\n",
    "    split_cnt_df %>%\n",
    "    filter(case_n > 0, control_n > 0) %>%\n",
    "    pull(split) -> non_zero_splits\n",
    "} else {\n",
    "    split_cnt_df %>%\n",
    "    filter(n > 0) %>%\n",
    "    pull(split) -> non_zero_splits    \n",
    "}\n",
    "# focus on the population/split where we have non-zero cases\n",
    "population_splits <- population_splits[non_zero_splits]\n"
   ]
  },
  {
   "cell_type": "code",
   "execution_count": 22,
   "id": "7ad92430",
   "metadata": {},
   "outputs": [
    {
     "data": {
      "text/html": [
       "<table class=\"dataframe\">\n",
       "<caption>A data.table: 6 × 3</caption>\n",
       "<thead>\n",
       "\t<tr><th scope=col>Array</th><th scope=col>population</th><th scope=col>n</th></tr>\n",
       "\t<tr><th scope=col>&lt;int&gt;</th><th scope=col>&lt;chr&gt;</th><th scope=col>&lt;int&gt;</th></tr>\n",
       "</thead>\n",
       "<tbody>\n",
       "\t<tr><td>0</td><td>non_british_white</td><td>  2499</td></tr>\n",
       "\t<tr><td>0</td><td>white_british    </td><td> 37035</td></tr>\n",
       "\t<tr><td>1</td><td>african          </td><td>  6497</td></tr>\n",
       "\t<tr><td>1</td><td>non_british_white</td><td> 22406</td></tr>\n",
       "\t<tr><td>1</td><td>s_asian          </td><td>  7831</td></tr>\n",
       "\t<tr><td>1</td><td>white_british    </td><td>300094</td></tr>\n",
       "</tbody>\n",
       "</table>\n"
      ],
      "text/latex": [
       "A data.table: 6 × 3\n",
       "\\begin{tabular}{lll}\n",
       " Array & population & n\\\\\n",
       " <int> & <chr> & <int>\\\\\n",
       "\\hline\n",
       "\t 0 & non\\_british\\_white &   2499\\\\\n",
       "\t 0 & white\\_british     &  37035\\\\\n",
       "\t 1 & african           &   6497\\\\\n",
       "\t 1 & non\\_british\\_white &  22406\\\\\n",
       "\t 1 & s\\_asian           &   7831\\\\\n",
       "\t 1 & white\\_british     & 300094\\\\\n",
       "\\end{tabular}\n"
      ],
      "text/markdown": [
       "\n",
       "A data.table: 6 × 3\n",
       "\n",
       "| Array &lt;int&gt; | population &lt;chr&gt; | n &lt;int&gt; |\n",
       "|---|---|---|\n",
       "| 0 | non_british_white |   2499 |\n",
       "| 0 | white_british     |  37035 |\n",
       "| 1 | african           |   6497 |\n",
       "| 1 | non_british_white |  22406 |\n",
       "| 1 | s_asian           |   7831 |\n",
       "| 1 | white_british     | 300094 |\n",
       "\n"
      ],
      "text/plain": [
       "  Array population        n     \n",
       "1 0     non_british_white   2499\n",
       "2 0     white_british      37035\n",
       "3 1     african             6497\n",
       "4 1     non_british_white  22406\n",
       "5 1     s_asian             7831\n",
       "6 1     white_british     300094"
      ]
     },
     "metadata": {},
     "output_type": "display_data"
    }
   ],
   "source": [
    "pheno_df %>%\n",
    "filter(split %in% names(population_splits)) %>%\n",
    "count(Array, population)\n"
   ]
  },
  {
   "cell_type": "code",
   "execution_count": 24,
   "id": "8e1b1136",
   "metadata": {},
   "outputs": [
    {
     "data": {
      "text/html": [
       "<table class=\"dataframe\">\n",
       "<caption>A data.table: 11 × 4</caption>\n",
       "<thead>\n",
       "\t<tr><th scope=col>Array</th><th scope=col>population</th><th scope=col>HC124</th><th scope=col>n</th></tr>\n",
       "\t<tr><th scope=col>&lt;int&gt;</th><th scope=col>&lt;chr&gt;</th><th scope=col>&lt;dbl&gt;</th><th scope=col>&lt;int&gt;</th></tr>\n",
       "</thead>\n",
       "<tbody>\n",
       "\t<tr><td>0</td><td>non_british_white</td><td>0</td><td>  2499</td></tr>\n",
       "\t<tr><td>0</td><td>white_british    </td><td>0</td><td> 37010</td></tr>\n",
       "\t<tr><td>0</td><td>white_british    </td><td>1</td><td>    25</td></tr>\n",
       "\t<tr><td>1</td><td>african          </td><td>0</td><td>  6495</td></tr>\n",
       "\t<tr><td>1</td><td>african          </td><td>1</td><td>     2</td></tr>\n",
       "\t<tr><td>1</td><td>non_british_white</td><td>0</td><td> 22391</td></tr>\n",
       "\t<tr><td>1</td><td>non_british_white</td><td>1</td><td>    15</td></tr>\n",
       "\t<tr><td>1</td><td>s_asian          </td><td>0</td><td>  7827</td></tr>\n",
       "\t<tr><td>1</td><td>s_asian          </td><td>1</td><td>     4</td></tr>\n",
       "\t<tr><td>1</td><td>white_british    </td><td>0</td><td>299915</td></tr>\n",
       "\t<tr><td>1</td><td>white_british    </td><td>1</td><td>   179</td></tr>\n",
       "</tbody>\n",
       "</table>\n"
      ],
      "text/latex": [
       "A data.table: 11 × 4\n",
       "\\begin{tabular}{llll}\n",
       " Array & population & HC124 & n\\\\\n",
       " <int> & <chr> & <dbl> & <int>\\\\\n",
       "\\hline\n",
       "\t 0 & non\\_british\\_white & 0 &   2499\\\\\n",
       "\t 0 & white\\_british     & 0 &  37010\\\\\n",
       "\t 0 & white\\_british     & 1 &     25\\\\\n",
       "\t 1 & african           & 0 &   6495\\\\\n",
       "\t 1 & african           & 1 &      2\\\\\n",
       "\t 1 & non\\_british\\_white & 0 &  22391\\\\\n",
       "\t 1 & non\\_british\\_white & 1 &     15\\\\\n",
       "\t 1 & s\\_asian           & 0 &   7827\\\\\n",
       "\t 1 & s\\_asian           & 1 &      4\\\\\n",
       "\t 1 & white\\_british     & 0 & 299915\\\\\n",
       "\t 1 & white\\_british     & 1 &    179\\\\\n",
       "\\end{tabular}\n"
      ],
      "text/markdown": [
       "\n",
       "A data.table: 11 × 4\n",
       "\n",
       "| Array &lt;int&gt; | population &lt;chr&gt; | HC124 &lt;dbl&gt; | n &lt;int&gt; |\n",
       "|---|---|---|---|\n",
       "| 0 | non_british_white | 0 |   2499 |\n",
       "| 0 | white_british     | 0 |  37010 |\n",
       "| 0 | white_british     | 1 |     25 |\n",
       "| 1 | african           | 0 |   6495 |\n",
       "| 1 | african           | 1 |      2 |\n",
       "| 1 | non_british_white | 0 |  22391 |\n",
       "| 1 | non_british_white | 1 |     15 |\n",
       "| 1 | s_asian           | 0 |   7827 |\n",
       "| 1 | s_asian           | 1 |      4 |\n",
       "| 1 | white_british     | 0 | 299915 |\n",
       "| 1 | white_british     | 1 |    179 |\n",
       "\n"
      ],
      "text/plain": [
       "   Array population        HC124 n     \n",
       "1  0     non_british_white 0       2499\n",
       "2  0     white_british     0      37010\n",
       "3  0     white_british     1         25\n",
       "4  1     african           0       6495\n",
       "5  1     african           1          2\n",
       "6  1     non_british_white 0      22391\n",
       "7  1     non_british_white 1         15\n",
       "8  1     s_asian           0       7827\n",
       "9  1     s_asian           1          4\n",
       "10 1     white_british     0     299915\n",
       "11 1     white_british     1        179"
      ]
     },
     "metadata": {},
     "output_type": "display_data"
    }
   ],
   "source": [
    "pheno_df %>%\n",
    "filter(split %in% names(population_splits)) %>%\n",
    "count(Array, population, HC124)\n"
   ]
  },
  {
   "cell_type": "code",
   "execution_count": 25,
   "id": "569188a8",
   "metadata": {},
   "outputs": [
    {
     "name": "stderr",
     "output_type": "stream",
     "text": [
      "Warning message:\n",
      "“glm.fit: fitted probabilities numerically 0 or 1 occurred”\n",
      "Warning message:\n",
      "“glm.fit: fitted probabilities numerically 0 or 1 occurred”\n"
     ]
    }
   ],
   "source": [
    "# we fit the specified regression model for each split independently\n",
    "# and aggregate the results into one data frame\n",
    "population_splits %>% unique() %>%\n",
    "lapply(function(s){\n",
    "    pheno_df %>%\n",
    "    filter(split == s) %>%\n",
    "    fit_glm(covar_formula_str, family) %>%\n",
    "    fit_to_df() %>%\n",
    "    mutate(split = s) %>%\n",
    "    select(split, variable, estimate, SE, z_or_t_value, P)\n",
    "}) %>%\n",
    "bind_rows() -> covar_model_BETAs_df\n"
   ]
  },
  {
   "cell_type": "code",
   "execution_count": 27,
   "id": "f8dd0266",
   "metadata": {},
   "outputs": [],
   "source": [
    "covar_model_BETAs_df %>%\n",
    "rename('#split' = 'split') %>%\n",
    "fwrite(sprintf('%s.covarBETAs.tsv', performance_eval_prefix), sep='\\t', na = \"NA\", quote=F)\n"
   ]
  },
  {
   "cell_type": "code",
   "execution_count": 26,
   "id": "c2ad01f3",
   "metadata": {},
   "outputs": [],
   "source": [
    "# we fit the specified regression model for each split independently\n",
    "# and aggregate the results into one data frame\n",
    "population_splits %>% names() %>%\n",
    "lapply(function(s){\n",
    "    # use the BETAs on a split specified in named list, PRS_model_covar_BETAs_split\n",
    "    covar_score_split <- (population_splits[[s]])\n",
    "    \n",
    "    # get BETAs\n",
    "    covar_model_BETAs_df %>%\n",
    "    filter(split == covar_score_split) %>%\n",
    "    rename(!!score_covar := 'estimate') -> covar_betas_pop_df\n",
    "\n",
    "    # loop across different split\n",
    "    pheno_df %>%\n",
    "    filter(split == s) %>%\n",
    "    FID_IID_to_rownames() %>%\n",
    "    compute_matrix_product(\n",
    "        covar_betas_pop_df,\n",
    "        covar_betas_pop_df %>% pull(variable) %>% intersect(covariates),\n",
    "        beta_estimate_cols=c(score_covar)\n",
    "    ) %>%\n",
    "    mutate(covar_score_computed_on = covar_score_split) %>%\n",
    "    FID_IID_from_rownames()\n",
    "}) %>%\n",
    "bind_rows() -> covar_score_df\n"
   ]
  },
  {
   "cell_type": "code",
   "execution_count": 28,
   "id": "91b50e5d",
   "metadata": {},
   "outputs": [
    {
     "name": "stderr",
     "output_type": "stream",
     "text": [
      ".. reading /scratch/groups/mrivas/projects/PRS/private_output/202009_batch/ukb24983_GWAS_covar.20200828.PRSs.phe.gz\n",
      "\n"
     ]
    }
   ],
   "source": [
    "# read sscore file\n",
    "message(sprintf('.. reading %s', sscore_f))\n",
    "sscore_f %>%\n",
    "read_sscore_file(columns = score_geno) -> sscore_df\n"
   ]
  },
  {
   "cell_type": "code",
   "execution_count": 29,
   "id": "28074f65",
   "metadata": {},
   "outputs": [],
   "source": [
    "# join all the individual-level data into one data frame\n",
    "pheno_df %>%\n",
    "filter(split %in% names(population_splits)) %>%\n",
    "left_join(sscore_df, by=c('FID', 'IID')) %>%\n",
    "left_join(covar_score_df, by=c(\"FID\", \"IID\")) %>%\n",
    "mutate(!!score_full := rowSums(across(all_of(c(score_covar))))) -> full_df\n"
   ]
  },
  {
   "cell_type": "code",
   "execution_count": 30,
   "id": "e53de23b",
   "metadata": {},
   "outputs": [
    {
     "name": "stderr",
     "output_type": "stream",
     "text": [
      "Warning message:\n",
      "“glm.fit: fitted probabilities numerically 0 or 1 occurred”\n",
      "Warning message:\n",
      "“glm.fit: fitted probabilities numerically 0 or 1 occurred”\n"
     ]
    }
   ],
   "source": [
    "# regression formula\n",
    "covarPRS_formula_str <- sprintf(\n",
    "    '%s ~ 1 + (1*%s) + %s',\n",
    "    pheno_col, score_covar, score_geno\n",
    ")\n",
    "\n",
    "# we fit the specified regression model for each split independently\n",
    "# and aggregate the results into one data frame\n",
    "population_splits %>% names() %>%\n",
    "lapply(function(s){\n",
    "    full_df %>%\n",
    "    filter(split == s) %>%\n",
    "    fit_glm(covarPRS_formula_str, family) %>%\n",
    "    fit_to_df() %>%\n",
    "    mutate(split = s) %>%\n",
    "    select(split, variable, estimate, SE, z_or_t_value, P)\n",
    "}) %>%\n",
    "bind_rows() -> covarPRS_model_BETAs_df\n"
   ]
  },
  {
   "cell_type": "code",
   "execution_count": 31,
   "id": "d40d454e",
   "metadata": {},
   "outputs": [
    {
     "data": {
      "text/html": [
       "<table class=\"dataframe\">\n",
       "<caption>A data.frame: 10 × 6</caption>\n",
       "<thead>\n",
       "\t<tr><th scope=col>split</th><th scope=col>variable</th><th scope=col>estimate</th><th scope=col>SE</th><th scope=col>z_or_t_value</th><th scope=col>P</th></tr>\n",
       "\t<tr><th scope=col>&lt;chr&gt;</th><th scope=col>&lt;chr&gt;</th><th scope=col>&lt;dbl&gt;</th><th scope=col>&lt;dbl&gt;</th><th scope=col>&lt;dbl&gt;</th><th scope=col>&lt;dbl&gt;</th></tr>\n",
       "</thead>\n",
       "<tbody>\n",
       "\t<tr><td>train_val        </td><td>(Intercept)</td><td>  -7.003319</td><td>1.067984e-01</td><td>-65.575098324</td><td> 0.000000e+00</td></tr>\n",
       "\t<tr><td>train_val        </td><td>PRS_HC124  </td><td>   3.863172</td><td>9.958305e-01</td><td>  3.879346989</td><td> 1.047373e-04</td></tr>\n",
       "\t<tr><td>test             </td><td>(Intercept)</td><td>  -7.997919</td><td>3.351269e-01</td><td>-23.865347275</td><td>7.017131e-126</td></tr>\n",
       "\t<tr><td>test             </td><td>PRS_HC124  </td><td>  -2.347528</td><td>2.494939e+00</td><td> -0.940915881</td><td> 3.467480e-01</td></tr>\n",
       "\t<tr><td>non_british_white</td><td>(Intercept)</td><td>  -7.857819</td><td>5.075946e-01</td><td>-15.480500335</td><td> 4.698048e-54</td></tr>\n",
       "\t<tr><td>non_british_white</td><td>PRS_HC124  </td><td>  -4.058081</td><td>3.638671e+00</td><td> -1.115264762</td><td> 2.647370e-01</td></tr>\n",
       "\t<tr><td>s_asian          </td><td>(Intercept)</td><td> -39.371397</td><td>3.404635e+03</td><td> -0.011564058</td><td> 9.907734e-01</td></tr>\n",
       "\t<tr><td>s_asian          </td><td>PRS_HC124  </td><td>-179.274322</td><td>1.889805e+04</td><td> -0.009486392</td><td> 9.924311e-01</td></tr>\n",
       "\t<tr><td>african          </td><td>(Intercept)</td><td> -40.981515</td><td>4.634005e+03</td><td> -0.008843650</td><td> 9.929439e-01</td></tr>\n",
       "\t<tr><td>african          </td><td>PRS_HC124  </td><td>-188.528434</td><td>2.572189e+04</td><td> -0.007329493</td><td> 9.941520e-01</td></tr>\n",
       "</tbody>\n",
       "</table>\n"
      ],
      "text/latex": [
       "A data.frame: 10 × 6\n",
       "\\begin{tabular}{llllll}\n",
       " split & variable & estimate & SE & z\\_or\\_t\\_value & P\\\\\n",
       " <chr> & <chr> & <dbl> & <dbl> & <dbl> & <dbl>\\\\\n",
       "\\hline\n",
       "\t train\\_val         & (Intercept) &   -7.003319 & 1.067984e-01 & -65.575098324 &  0.000000e+00\\\\\n",
       "\t train\\_val         & PRS\\_HC124   &    3.863172 & 9.958305e-01 &   3.879346989 &  1.047373e-04\\\\\n",
       "\t test              & (Intercept) &   -7.997919 & 3.351269e-01 & -23.865347275 & 7.017131e-126\\\\\n",
       "\t test              & PRS\\_HC124   &   -2.347528 & 2.494939e+00 &  -0.940915881 &  3.467480e-01\\\\\n",
       "\t non\\_british\\_white & (Intercept) &   -7.857819 & 5.075946e-01 & -15.480500335 &  4.698048e-54\\\\\n",
       "\t non\\_british\\_white & PRS\\_HC124   &   -4.058081 & 3.638671e+00 &  -1.115264762 &  2.647370e-01\\\\\n",
       "\t s\\_asian           & (Intercept) &  -39.371397 & 3.404635e+03 &  -0.011564058 &  9.907734e-01\\\\\n",
       "\t s\\_asian           & PRS\\_HC124   & -179.274322 & 1.889805e+04 &  -0.009486392 &  9.924311e-01\\\\\n",
       "\t african           & (Intercept) &  -40.981515 & 4.634005e+03 &  -0.008843650 &  9.929439e-01\\\\\n",
       "\t african           & PRS\\_HC124   & -188.528434 & 2.572189e+04 &  -0.007329493 &  9.941520e-01\\\\\n",
       "\\end{tabular}\n"
      ],
      "text/markdown": [
       "\n",
       "A data.frame: 10 × 6\n",
       "\n",
       "| split &lt;chr&gt; | variable &lt;chr&gt; | estimate &lt;dbl&gt; | SE &lt;dbl&gt; | z_or_t_value &lt;dbl&gt; | P &lt;dbl&gt; |\n",
       "|---|---|---|---|---|---|\n",
       "| train_val         | (Intercept) |   -7.003319 | 1.067984e-01 | -65.575098324 |  0.000000e+00 |\n",
       "| train_val         | PRS_HC124   |    3.863172 | 9.958305e-01 |   3.879346989 |  1.047373e-04 |\n",
       "| test              | (Intercept) |   -7.997919 | 3.351269e-01 | -23.865347275 | 7.017131e-126 |\n",
       "| test              | PRS_HC124   |   -2.347528 | 2.494939e+00 |  -0.940915881 |  3.467480e-01 |\n",
       "| non_british_white | (Intercept) |   -7.857819 | 5.075946e-01 | -15.480500335 |  4.698048e-54 |\n",
       "| non_british_white | PRS_HC124   |   -4.058081 | 3.638671e+00 |  -1.115264762 |  2.647370e-01 |\n",
       "| s_asian           | (Intercept) |  -39.371397 | 3.404635e+03 |  -0.011564058 |  9.907734e-01 |\n",
       "| s_asian           | PRS_HC124   | -179.274322 | 1.889805e+04 |  -0.009486392 |  9.924311e-01 |\n",
       "| african           | (Intercept) |  -40.981515 | 4.634005e+03 |  -0.008843650 |  9.929439e-01 |\n",
       "| african           | PRS_HC124   | -188.528434 | 2.572189e+04 |  -0.007329493 |  9.941520e-01 |\n",
       "\n"
      ],
      "text/plain": [
       "   split             variable    estimate    SE           z_or_t_value \n",
       "1  train_val         (Intercept)   -7.003319 1.067984e-01 -65.575098324\n",
       "2  train_val         PRS_HC124      3.863172 9.958305e-01   3.879346989\n",
       "3  test              (Intercept)   -7.997919 3.351269e-01 -23.865347275\n",
       "4  test              PRS_HC124     -2.347528 2.494939e+00  -0.940915881\n",
       "5  non_british_white (Intercept)   -7.857819 5.075946e-01 -15.480500335\n",
       "6  non_british_white PRS_HC124     -4.058081 3.638671e+00  -1.115264762\n",
       "7  s_asian           (Intercept)  -39.371397 3.404635e+03  -0.011564058\n",
       "8  s_asian           PRS_HC124   -179.274322 1.889805e+04  -0.009486392\n",
       "9  african           (Intercept)  -40.981515 4.634005e+03  -0.008843650\n",
       "10 african           PRS_HC124   -188.528434 2.572189e+04  -0.007329493\n",
       "   P            \n",
       "1   0.000000e+00\n",
       "2   1.047373e-04\n",
       "3  7.017131e-126\n",
       "4   3.467480e-01\n",
       "5   4.698048e-54\n",
       "6   2.647370e-01\n",
       "7   9.907734e-01\n",
       "8   9.924311e-01\n",
       "9   9.929439e-01\n",
       "10  9.941520e-01"
      ]
     },
     "metadata": {},
     "output_type": "display_data"
    }
   ],
   "source": [
    "covarPRS_model_BETAs_df"
   ]
  },
  {
   "cell_type": "code",
   "execution_count": 32,
   "id": "4c8ec093",
   "metadata": {},
   "outputs": [],
   "source": [
    "# list of \"scores\" we will use in the evaluation\n",
    "c(score_geno, score_covar, score_full) -> risk_score_list\n"
   ]
  },
  {
   "cell_type": "code",
   "execution_count": 33,
   "id": "b43c6813",
   "metadata": {},
   "outputs": [],
   "source": [
    "# full_df %>% count_n_per_split(pheno_col, family) -> split_cnt_df\n",
    "# if (family == 'binomial') {\n",
    "#     # run evaluation\n",
    "#     split_cnt_df %>%\n",
    "#     filter(case_n > 0, control_n > 0) %>%\n",
    "#     pull(split) -> non_zero_splits\n",
    "# } else {\n",
    "#     split_cnt_df %>%\n",
    "#     filter(n > 0) %>%\n",
    "#     pull(split) -> non_zero_splits    \n",
    "# }"
   ]
  },
  {
   "cell_type": "code",
   "execution_count": 34,
   "id": "2b60b8b2",
   "metadata": {},
   "outputs": [
    {
     "name": "stderr",
     "output_type": "stream",
     "text": [
      "--train_val PRS_HC124\n",
      "\n",
      "--train_val covar_HC124\n",
      "\n",
      "--train_val full_HC124\n",
      "\n",
      "--test PRS_HC124\n",
      "\n",
      "--test covar_HC124\n",
      "\n",
      "--test full_HC124\n",
      "\n",
      "--non_british_white PRS_HC124\n",
      "\n",
      "--non_british_white covar_HC124\n",
      "\n",
      "Warning message:\n",
      "“glm.fit: fitted probabilities numerically 0 or 1 occurred”\n",
      "Warning message:\n",
      "“glm.fit: fitted probabilities numerically 0 or 1 occurred”\n",
      "--non_british_white full_HC124\n",
      "\n",
      "Warning message:\n",
      "“glm.fit: fitted probabilities numerically 0 or 1 occurred”\n",
      "Warning message:\n",
      "“glm.fit: fitted probabilities numerically 0 or 1 occurred”\n",
      "--s_asian PRS_HC124\n",
      "\n",
      "Warning message:\n",
      "“glm.fit: fitted probabilities numerically 0 or 1 occurred”\n",
      "Warning message:\n",
      "“glm.fit: fitted probabilities numerically 0 or 1 occurred”\n",
      "--s_asian covar_HC124\n",
      "\n",
      "--s_asian full_HC124\n",
      "\n",
      "--african PRS_HC124\n",
      "\n",
      "Warning message:\n",
      "“glm.fit: fitted probabilities numerically 0 or 1 occurred”\n",
      "Warning message:\n",
      "“glm.fit: fitted probabilities numerically 0 or 1 occurred”\n",
      "--african covar_HC124\n",
      "\n",
      "Warning message:\n",
      "“glm.fit: fitted probabilities numerically 0 or 1 occurred”\n",
      "Warning message:\n",
      "“glm.fit: fitted probabilities numerically 0 or 1 occurred”\n",
      "--african full_HC124\n",
      "\n",
      "Warning message:\n",
      "“glm.fit: fitted probabilities numerically 0 or 1 occurred”\n",
      "Warning message:\n",
      "“glm.fit: fitted probabilities numerically 0 or 1 occurred”\n"
     ]
    }
   ],
   "source": [
    "# run evaluation\n",
    "names(population_splits) %>%\n",
    "lapply(function(split_str){\n",
    "    risk_score_list %>% lapply(function(predictor){\n",
    "        message(sprintf('--%s %s', split_str, predictor))\n",
    "        tryCatch({\n",
    "            full_df %>% filter(split == split_str) -> filtered_df\n",
    "            if(length(filtered_df %>% pull(all_of(pheno_col)) %>% unique())>1){\n",
    "                filtered_df %>%\n",
    "                eval_CI(pheno_col, c(all_of(predictor)), family) %>%\n",
    "                mutate(split = split_str)\n",
    "            }else{\n",
    "                message(sprintf(' .. skip (the phenotype value is constant in %s', split_str))\n",
    "            }\n",
    "        }, error=function(e){print(e)})\n",
    "    }) %>% bind_rows()\n",
    "}) %>%\n",
    "bind_rows() %>%\n",
    "left_join(\n",
    "    full_df %>% count_n_per_split(pheno_col, family),\n",
    "    by = \"split\"\n",
    ") -> PRS_eval_df\n"
   ]
  },
  {
   "cell_type": "code",
   "execution_count": 35,
   "id": "5e550c45",
   "metadata": {},
   "outputs": [],
   "source": [
    "PRS_eval_df %>%\n",
    "rename('#response' = 'response') %>%\n",
    "fwrite(sprintf('%s.eval.tsv', performance_eval_prefix), sep='\\t', na = \"NA\", quote=F)\n"
   ]
  },
  {
   "cell_type": "code",
   "execution_count": 36,
   "id": "7e84415f",
   "metadata": {},
   "outputs": [],
   "source": [
    "# prepare data frames for the plots\n",
    "full_df %>%\n",
    "filter(split == 'test') %>%\n",
    "drop_na(all_of(c(score_geno, pheno_col))) %>%\n",
    "rename('geno_score' := all_of(score_geno)) %>%\n",
    "rename('phe' := all_of(pheno_col)) %>%\n",
    "mutate(\n",
    "    phe = phe + 1,\n",
    "    geno_score_percentile = rank(-geno_score) / n()\n",
    ") -> plot_df"
   ]
  },
  {
   "cell_type": "code",
   "execution_count": 38,
   "id": "e2be262b",
   "metadata": {},
   "outputs": [
    {
     "data": {
      "text/html": [
       "<pre class=language-r><code>function (df, percentile_col, phe_col, bins = NULL, family = \"gaussian\") \n",
       "{\n",
       "<span style=white-space:pre-wrap>    if (family == \"gaussian\") {</span>\n",
       "<span style=white-space:pre-wrap>        compute_summary_mean_df(df, percentile_col, phe_col, </span>\n",
       "<span style=white-space:pre-wrap>            bins)</span>\n",
       "<span style=white-space:pre-wrap>    }</span>\n",
       "<span style=white-space:pre-wrap>    else if (family == \"binomial\") {</span>\n",
       "<span style=white-space:pre-wrap>        compute_summary_OR_df(df, percentile_col, phe_col, bins)</span>\n",
       "<span style=white-space:pre-wrap>    }</span>\n",
       "<span style=white-space:pre-wrap>    else {</span>\n",
       "<span style=white-space:pre-wrap>        stop(sprintf(\"%s family is not supported!\", family))</span>\n",
       "<span style=white-space:pre-wrap>    }</span>\n",
       "}</code></pre>"
      ],
      "text/latex": [
       "\\begin{minted}{r}\n",
       "function (df, percentile\\_col, phe\\_col, bins = NULL, family = \"gaussian\") \n",
       "\\{\n",
       "    if (family == \"gaussian\") \\{\n",
       "        compute\\_summary\\_mean\\_df(df, percentile\\_col, phe\\_col, \n",
       "            bins)\n",
       "    \\}\n",
       "    else if (family == \"binomial\") \\{\n",
       "        compute\\_summary\\_OR\\_df(df, percentile\\_col, phe\\_col, bins)\n",
       "    \\}\n",
       "    else \\{\n",
       "        stop(sprintf(\"\\%s family is not supported!\", family))\n",
       "    \\}\n",
       "\\}\n",
       "\\end{minted}"
      ],
      "text/markdown": [
       "```r\n",
       "function (df, percentile_col, phe_col, bins = NULL, family = \"gaussian\") \n",
       "{\n",
       "    if (family == \"gaussian\") {\n",
       "        compute_summary_mean_df(df, percentile_col, phe_col, \n",
       "            bins)\n",
       "    }\n",
       "    else if (family == \"binomial\") {\n",
       "        compute_summary_OR_df(df, percentile_col, phe_col, bins)\n",
       "    }\n",
       "    else {\n",
       "        stop(sprintf(\"%s family is not supported!\", family))\n",
       "    }\n",
       "}\n",
       "```"
      ],
      "text/plain": [
       "function (df, percentile_col, phe_col, bins = NULL, family = \"gaussian\") \n",
       "{\n",
       "    if (family == \"gaussian\") {\n",
       "        compute_summary_mean_df(df, percentile_col, phe_col, \n",
       "            bins)\n",
       "    }\n",
       "    else if (family == \"binomial\") {\n",
       "        compute_summary_OR_df(df, percentile_col, phe_col, bins)\n",
       "    }\n",
       "    else {\n",
       "        stop(sprintf(\"%s family is not supported!\", family))\n",
       "    }\n",
       "}"
      ]
     },
     "metadata": {},
     "output_type": "display_data"
    }
   ],
   "source": [
    "compute_summary_df"
   ]
  },
  {
   "cell_type": "code",
   "execution_count": 39,
   "id": "1f0aa7f5",
   "metadata": {},
   "outputs": [
    {
     "data": {
      "text/html": [
       "<pre class=language-r><code>function (df, percentile_col, phe_col, bins = NULL) \n",
       "{\n",
       "<span style=white-space:pre-wrap>    if (is.null(bins)) </span>\n",
       "<span style=white-space:pre-wrap>        bins &lt;- ((0:10)/10)</span>\n",
       "<span style=white-space:pre-wrap>    cnt_middle &lt;- df %&gt;% filter_by_percentile_and_count_phe(percentile_col, </span>\n",
       "<span style=white-space:pre-wrap>        phe_col, 0.4, 0.6) %&gt;% rename(n_40_60 = \"n\")</span>\n",
       "<span style=white-space:pre-wrap>    1:(length(bins) - 1) %&gt;% lapply(function(i) {</span>\n",
       "<span style=white-space:pre-wrap>        compute_OR(df, percentile_col, phe_col, bins[i], bins[i + </span>\n",
       "<span style=white-space:pre-wrap>            1], cnt_middle)</span>\n",
       "<span style=white-space:pre-wrap>    }) %&gt;% bind_rows()</span>\n",
       "}</code></pre>"
      ],
      "text/latex": [
       "\\begin{minted}{r}\n",
       "function (df, percentile\\_col, phe\\_col, bins = NULL) \n",
       "\\{\n",
       "    if (is.null(bins)) \n",
       "        bins <- ((0:10)/10)\n",
       "    cnt\\_middle <- df \\%>\\% filter\\_by\\_percentile\\_and\\_count\\_phe(percentile\\_col, \n",
       "        phe\\_col, 0.4, 0.6) \\%>\\% rename(n\\_40\\_60 = \"n\")\n",
       "    1:(length(bins) - 1) \\%>\\% lapply(function(i) \\{\n",
       "        compute\\_OR(df, percentile\\_col, phe\\_col, bins{[}i{]}, bins{[}i + \n",
       "            1{]}, cnt\\_middle)\n",
       "    \\}) \\%>\\% bind\\_rows()\n",
       "\\}\n",
       "\\end{minted}"
      ],
      "text/markdown": [
       "```r\n",
       "function (df, percentile_col, phe_col, bins = NULL) \n",
       "{\n",
       "    if (is.null(bins)) \n",
       "        bins <- ((0:10)/10)\n",
       "    cnt_middle <- df %>% filter_by_percentile_and_count_phe(percentile_col, \n",
       "        phe_col, 0.4, 0.6) %>% rename(n_40_60 = \"n\")\n",
       "    1:(length(bins) - 1) %>% lapply(function(i) {\n",
       "        compute_OR(df, percentile_col, phe_col, bins[i], bins[i + \n",
       "            1], cnt_middle)\n",
       "    }) %>% bind_rows()\n",
       "}\n",
       "```"
      ],
      "text/plain": [
       "function (df, percentile_col, phe_col, bins = NULL) \n",
       "{\n",
       "    if (is.null(bins)) \n",
       "        bins <- ((0:10)/10)\n",
       "    cnt_middle <- df %>% filter_by_percentile_and_count_phe(percentile_col, \n",
       "        phe_col, 0.4, 0.6) %>% rename(n_40_60 = \"n\")\n",
       "    1:(length(bins) - 1) %>% lapply(function(i) {\n",
       "        compute_OR(df, percentile_col, phe_col, bins[i], bins[i + \n",
       "            1], cnt_middle)\n",
       "    }) %>% bind_rows()\n",
       "}\n",
       "<bytecode: 0x55b8077745d8>"
      ]
     },
     "metadata": {},
     "output_type": "display_data"
    }
   ],
   "source": [
    "compute_summary_OR_df"
   ]
  },
  {
   "cell_type": "code",
   "execution_count": 50,
   "id": "f9b7d2c2",
   "metadata": {},
   "outputs": [
    {
     "data": {
      "text/html": [
       "<pre class=language-r><code>function (df, percentile_col, phe_col, l_bin, u_bin) \n",
       "{\n",
       "<span style=white-space:pre-wrap>    df %&gt;% rename(`:=`(!!\"Percentile\", all_of(percentile_col)), </span>\n",
       "<span style=white-space:pre-wrap>        `:=`(!!\"phe\", all_of(phe_col))) %&gt;% filter(l_bin &lt; Percentile, </span>\n",
       "<span style=white-space:pre-wrap>        Percentile &lt;= u_bin) %&gt;% count(phe)</span>\n",
       "}</code></pre>"
      ],
      "text/latex": [
       "\\begin{minted}{r}\n",
       "function (df, percentile\\_col, phe\\_col, l\\_bin, u\\_bin) \n",
       "\\{\n",
       "    df \\%>\\% rename(`:=`(!!\"Percentile\", all\\_of(percentile\\_col)), \n",
       "        `:=`(!!\"phe\", all\\_of(phe\\_col))) \\%>\\% filter(l\\_bin < Percentile, \n",
       "        Percentile <= u\\_bin) \\%>\\% count(phe)\n",
       "\\}\n",
       "\\end{minted}"
      ],
      "text/markdown": [
       "```r\n",
       "function (df, percentile_col, phe_col, l_bin, u_bin) \n",
       "{\n",
       "    df %>% rename(`:=`(!!\"Percentile\", all_of(percentile_col)), \n",
       "        `:=`(!!\"phe\", all_of(phe_col))) %>% filter(l_bin < Percentile, \n",
       "        Percentile <= u_bin) %>% count(phe)\n",
       "}\n",
       "```"
      ],
      "text/plain": [
       "function (df, percentile_col, phe_col, l_bin, u_bin) \n",
       "{\n",
       "    df %>% rename(`:=`(!!\"Percentile\", all_of(percentile_col)), \n",
       "        `:=`(!!\"phe\", all_of(phe_col))) %>% filter(l_bin < Percentile, \n",
       "        Percentile <= u_bin) %>% count(phe)\n",
       "}\n",
       "<bytecode: 0x55b8299dec40>"
      ]
     },
     "metadata": {},
     "output_type": "display_data"
    }
   ],
   "source": [
    "filter_by_percentile_and_count_phe"
   ]
  },
  {
   "cell_type": "code",
   "execution_count": 61,
   "id": "2cd99930",
   "metadata": {},
   "outputs": [],
   "source": [
    "filter_by_percentile_and_count_phe <- function(df, percentile_col, phe_col, l_bin, u_bin){\n",
    "    # a helper function for compute_OR.\n",
    "    # This provides the counts of the descrete phenotype value (phe_col)\n",
    "    # for the specified bin (l_bin, u_bin], based on the percentile of PRS (percentile_col)\n",
    "    df %>%\n",
    "    rename(!!'Percentile' := all_of(percentile_col), !!'phe' := all_of(phe_col)) %>%\n",
    "    filter(l_bin < Percentile, Percentile <= u_bin) %>%\n",
    "    count(phe) %>%\n",
    "    # To cope with sparse bins where case or control counts are zero,\n",
    "    # we add the following dummy counts (zeros)\n",
    "    bind_rows(data.frame(\n",
    "        phe=c(1, 2),\n",
    "        n=as.integer(c(0,0))\n",
    "    )) %>%\n",
    "    group_by(phe) %>%\n",
    "    summarise(n = sum(n)) %>%\n",
    "    ungroup\n",
    "}"
   ]
  },
  {
   "cell_type": "code",
   "execution_count": 60,
   "id": "e560867f",
   "metadata": {},
   "outputs": [
    {
     "data": {
      "text/html": [
       "<table class=\"dataframe\">\n",
       "<caption>A tibble: 2 × 2</caption>\n",
       "<thead>\n",
       "\t<tr><th scope=col>phe</th><th scope=col>n</th></tr>\n",
       "\t<tr><th scope=col>&lt;dbl&gt;</th><th scope=col>&lt;int&gt;</th></tr>\n",
       "</thead>\n",
       "<tbody>\n",
       "\t<tr><td>1</td><td>18081</td></tr>\n",
       "\t<tr><td>2</td><td>    0</td></tr>\n",
       "</tbody>\n",
       "</table>\n"
      ],
      "text/latex": [
       "A tibble: 2 × 2\n",
       "\\begin{tabular}{ll}\n",
       " phe & n\\\\\n",
       " <dbl> & <int>\\\\\n",
       "\\hline\n",
       "\t 1 & 18081\\\\\n",
       "\t 2 &     0\\\\\n",
       "\\end{tabular}\n"
      ],
      "text/markdown": [
       "\n",
       "A tibble: 2 × 2\n",
       "\n",
       "| phe &lt;dbl&gt; | n &lt;int&gt; |\n",
       "|---|---|\n",
       "| 1 | 18081 |\n",
       "| 2 |     0 |\n",
       "\n"
      ],
      "text/plain": [
       "  phe n    \n",
       "1 1   18081\n",
       "2 2       0"
      ]
     },
     "metadata": {},
     "output_type": "display_data"
    }
   ],
   "source": [
    "data.frame(\n",
    "    phe=c(1, 2),\n",
    "    n_40_60=as.integer(c(0,0))\n",
    ") %>%\n",
    "bind_rows(cnt_middle) %>%\n",
    "group_by(phe) %>%\n",
    "summarise(n = sum(n_40_60)) %>%\n",
    "ungroup"
   ]
  },
  {
   "cell_type": "code",
   "execution_count": 44,
   "id": "53d3ccb8",
   "metadata": {},
   "outputs": [],
   "source": [
    "df <- plot_df"
   ]
  },
  {
   "cell_type": "code",
   "execution_count": 40,
   "id": "bb45537e",
   "metadata": {},
   "outputs": [],
   "source": [
    "percentile_col <- 'geno_score_percentile'\n",
    "phe_col <- 'phe'"
   ]
  },
  {
   "cell_type": "code",
   "execution_count": 42,
   "id": "c0c44a9c",
   "metadata": {},
   "outputs": [],
   "source": [
    "bins <- NULL\n",
    "if (is.null(bins))\n",
    "    bins <- ((0:10)/10)"
   ]
  },
  {
   "cell_type": "code",
   "execution_count": 62,
   "id": "698351e1",
   "metadata": {},
   "outputs": [],
   "source": [
    "cnt_middle <- df %>% filter_by_percentile_and_count_phe(percentile_col, \n",
    "phe_col, 0.4, 0.6) %>% rename(n_40_60 = \"n\")"
   ]
  },
  {
   "cell_type": "code",
   "execution_count": 63,
   "id": "4ed98ce1",
   "metadata": {},
   "outputs": [
    {
     "data": {
      "text/html": [
       "<table class=\"dataframe\">\n",
       "<caption>A tibble: 2 × 2</caption>\n",
       "<thead>\n",
       "\t<tr><th scope=col>phe</th><th scope=col>n_40_60</th></tr>\n",
       "\t<tr><th scope=col>&lt;dbl&gt;</th><th scope=col>&lt;int&gt;</th></tr>\n",
       "</thead>\n",
       "<tbody>\n",
       "\t<tr><td>1</td><td>18081</td></tr>\n",
       "\t<tr><td>2</td><td>    0</td></tr>\n",
       "</tbody>\n",
       "</table>\n"
      ],
      "text/latex": [
       "A tibble: 2 × 2\n",
       "\\begin{tabular}{ll}\n",
       " phe & n\\_40\\_60\\\\\n",
       " <dbl> & <int>\\\\\n",
       "\\hline\n",
       "\t 1 & 18081\\\\\n",
       "\t 2 &     0\\\\\n",
       "\\end{tabular}\n"
      ],
      "text/markdown": [
       "\n",
       "A tibble: 2 × 2\n",
       "\n",
       "| phe &lt;dbl&gt; | n_40_60 &lt;int&gt; |\n",
       "|---|---|\n",
       "| 1 | 18081 |\n",
       "| 2 |     0 |\n",
       "\n"
      ],
      "text/plain": [
       "  phe n_40_60\n",
       "1 1   18081  \n",
       "2 2       0  "
      ]
     },
     "metadata": {},
     "output_type": "display_data"
    }
   ],
   "source": [
    "cnt_middle"
   ]
  },
  {
   "cell_type": "code",
   "execution_count": 47,
   "id": "332c5580",
   "metadata": {},
   "outputs": [
    {
     "data": {
      "text/html": [
       "<table class=\"dataframe\">\n",
       "<caption>A data.table: 2 × 2</caption>\n",
       "<thead>\n",
       "\t<tr><th scope=col>phe</th><th scope=col>n</th></tr>\n",
       "\t<tr><th scope=col>&lt;dbl&gt;</th><th scope=col>&lt;int&gt;</th></tr>\n",
       "</thead>\n",
       "<tbody>\n",
       "\t<tr><td>1</td><td>67396</td></tr>\n",
       "\t<tr><td>2</td><td>   29</td></tr>\n",
       "</tbody>\n",
       "</table>\n"
      ],
      "text/latex": [
       "A data.table: 2 × 2\n",
       "\\begin{tabular}{ll}\n",
       " phe & n\\\\\n",
       " <dbl> & <int>\\\\\n",
       "\\hline\n",
       "\t 1 & 67396\\\\\n",
       "\t 2 &    29\\\\\n",
       "\\end{tabular}\n"
      ],
      "text/markdown": [
       "\n",
       "A data.table: 2 × 2\n",
       "\n",
       "| phe &lt;dbl&gt; | n &lt;int&gt; |\n",
       "|---|---|\n",
       "| 1 | 67396 |\n",
       "| 2 |    29 |\n",
       "\n"
      ],
      "text/plain": [
       "  phe n    \n",
       "1 1   67396\n",
       "2 2      29"
      ]
     },
     "metadata": {},
     "output_type": "display_data"
    }
   ],
   "source": [
    "df %>% filter_by_percentile_and_count_phe(percentile_col, \n",
    "phe_col, 0, 1)"
   ]
  },
  {
   "cell_type": "code",
   "execution_count": 49,
   "id": "3f1d2660",
   "metadata": {},
   "outputs": [
    {
     "name": "stderr",
     "output_type": "stream",
     "text": [
      "`stat_bin()` using `bins = 30`. Pick better value with `binwidth`.\n",
      "\n"
     ]
    },
    {
     "data": {
      "image/png": "[encoded data removed]",
      "text/plain": [
       "plot without title"
      ]
     },
     "metadata": {
      "image/png": {
       "height": 420,
       "width": 420
      },
      "text/plain": {
       "height": 420,
       "width": 420
      }
     },
     "output_type": "display_data"
    }
   ],
   "source": [
    "df %>% \n",
    "filter(phe == 1) %>%\n",
    "ggplot(aes(x = geno_score_percentile)) +\n",
    "geom_histogram()"
   ]
  },
  {
   "cell_type": "code",
   "execution_count": 48,
   "id": "8484ddec",
   "metadata": {},
   "outputs": [
    {
     "name": "stderr",
     "output_type": "stream",
     "text": [
      "`stat_bin()` using `bins = 30`. Pick better value with `binwidth`.\n",
      "\n"
     ]
    },
    {
     "data": {
      "image/png": "[encoded data removed]",
      "text/plain": [
       "plot without title"
      ]
     },
     "metadata": {
      "image/png": {
       "height": 420,
       "width": 420
      },
      "text/plain": {
       "height": 420,
       "width": 420
      }
     },
     "output_type": "display_data"
    }
   ],
   "source": [
    "df %>% \n",
    "filter(phe == 2) %>%\n",
    "ggplot(aes(x = geno_score_percentile)) +\n",
    "geom_histogram()"
   ]
  },
  {
   "cell_type": "code",
   "execution_count": 64,
   "id": "15c5ff4d",
   "metadata": {},
   "outputs": [],
   "source": [
    "summary_plot_df <- plot_df %>%\n",
    "compute_summary_df('geno_score_percentile', 'phe', family=family)\n"
   ]
  },
  {
   "cell_type": "code",
   "execution_count": 65,
   "id": "20fbdc9e",
   "metadata": {},
   "outputs": [
    {
     "data": {
      "text/html": [
       "<table class=\"dataframe\">\n",
       "<caption>A data.frame: 10 × 12</caption>\n",
       "<thead>\n",
       "\t<tr><th scope=col>l_bin</th><th scope=col>u_bin</th><th scope=col>n_TP</th><th scope=col>n_FN</th><th scope=col>n_FP</th><th scope=col>n_TN</th><th scope=col>OR</th><th scope=col>SE_LOR</th><th scope=col>l_OR</th><th scope=col>u_OR</th><th scope=col>OR_str</th><th scope=col>bin_str</th></tr>\n",
       "\t<tr><th scope=col>&lt;dbl&gt;</th><th scope=col>&lt;dbl&gt;</th><th scope=col>&lt;dbl&gt;</th><th scope=col>&lt;dbl&gt;</th><th scope=col>&lt;dbl&gt;</th><th scope=col>&lt;dbl&gt;</th><th scope=col>&lt;dbl&gt;</th><th scope=col>&lt;dbl&gt;</th><th scope=col>&lt;dbl&gt;</th><th scope=col>&lt;dbl&gt;</th><th scope=col>&lt;chr&gt;</th><th scope=col>&lt;chr&gt;</th></tr>\n",
       "</thead>\n",
       "<tbody>\n",
       "\t<tr><td>0.0</td><td>0.1</td><td> 0</td><td>0</td><td>    0</td><td>18081</td><td>NaN</td><td>Inf</td><td>NaN</td><td>NaN</td><td>NaN (NaN,NaN)</td><td>0% - 10%  </td></tr>\n",
       "\t<tr><td>0.1</td><td>0.2</td><td>11</td><td>0</td><td>21560</td><td>18081</td><td>Inf</td><td>Inf</td><td>NaN</td><td>Inf</td><td>Inf (NaN,Inf)</td><td>10% - 20% </td></tr>\n",
       "\t<tr><td>0.2</td><td>0.3</td><td> 0</td><td>0</td><td>    0</td><td>18081</td><td>NaN</td><td>Inf</td><td>NaN</td><td>NaN</td><td>NaN (NaN,NaN)</td><td>20% - 30% </td></tr>\n",
       "\t<tr><td>0.3</td><td>0.4</td><td> 0</td><td>0</td><td>    0</td><td>18081</td><td>NaN</td><td>Inf</td><td>NaN</td><td>NaN</td><td>NaN (NaN,NaN)</td><td>30% - 40% </td></tr>\n",
       "\t<tr><td>0.4</td><td>0.5</td><td> 0</td><td>0</td><td>17955</td><td>18081</td><td>NaN</td><td>Inf</td><td>NaN</td><td>NaN</td><td>NaN (NaN,NaN)</td><td>40% - 50% </td></tr>\n",
       "\t<tr><td>0.5</td><td>0.6</td><td> 0</td><td>0</td><td>  126</td><td>18081</td><td>NaN</td><td>Inf</td><td>NaN</td><td>NaN</td><td>NaN (NaN,NaN)</td><td>50% - 60% </td></tr>\n",
       "\t<tr><td>0.6</td><td>0.7</td><td> 0</td><td>0</td><td>    0</td><td>18081</td><td>NaN</td><td>Inf</td><td>NaN</td><td>NaN</td><td>NaN (NaN,NaN)</td><td>60% - 70% </td></tr>\n",
       "\t<tr><td>0.7</td><td>0.8</td><td>18</td><td>0</td><td>27755</td><td>18081</td><td>Inf</td><td>Inf</td><td>NaN</td><td>Inf</td><td>Inf (NaN,Inf)</td><td>70% - 80% </td></tr>\n",
       "\t<tr><td>0.8</td><td>0.9</td><td> 0</td><td>0</td><td>    0</td><td>18081</td><td>NaN</td><td>Inf</td><td>NaN</td><td>NaN</td><td>NaN (NaN,NaN)</td><td>80% - 90% </td></tr>\n",
       "\t<tr><td>0.9</td><td>1.0</td><td> 0</td><td>0</td><td>    0</td><td>18081</td><td>NaN</td><td>Inf</td><td>NaN</td><td>NaN</td><td>NaN (NaN,NaN)</td><td>90% - 100%</td></tr>\n",
       "</tbody>\n",
       "</table>\n"
      ],
      "text/latex": [
       "A data.frame: 10 × 12\n",
       "\\begin{tabular}{llllllllllll}\n",
       " l\\_bin & u\\_bin & n\\_TP & n\\_FN & n\\_FP & n\\_TN & OR & SE\\_LOR & l\\_OR & u\\_OR & OR\\_str & bin\\_str\\\\\n",
       " <dbl> & <dbl> & <dbl> & <dbl> & <dbl> & <dbl> & <dbl> & <dbl> & <dbl> & <dbl> & <chr> & <chr>\\\\\n",
       "\\hline\n",
       "\t 0.0 & 0.1 &  0 & 0 &     0 & 18081 & NaN & Inf & NaN & NaN & NaN (NaN,NaN) & 0\\% - 10\\%  \\\\\n",
       "\t 0.1 & 0.2 & 11 & 0 & 21560 & 18081 & Inf & Inf & NaN & Inf & Inf (NaN,Inf) & 10\\% - 20\\% \\\\\n",
       "\t 0.2 & 0.3 &  0 & 0 &     0 & 18081 & NaN & Inf & NaN & NaN & NaN (NaN,NaN) & 20\\% - 30\\% \\\\\n",
       "\t 0.3 & 0.4 &  0 & 0 &     0 & 18081 & NaN & Inf & NaN & NaN & NaN (NaN,NaN) & 30\\% - 40\\% \\\\\n",
       "\t 0.4 & 0.5 &  0 & 0 & 17955 & 18081 & NaN & Inf & NaN & NaN & NaN (NaN,NaN) & 40\\% - 50\\% \\\\\n",
       "\t 0.5 & 0.6 &  0 & 0 &   126 & 18081 & NaN & Inf & NaN & NaN & NaN (NaN,NaN) & 50\\% - 60\\% \\\\\n",
       "\t 0.6 & 0.7 &  0 & 0 &     0 & 18081 & NaN & Inf & NaN & NaN & NaN (NaN,NaN) & 60\\% - 70\\% \\\\\n",
       "\t 0.7 & 0.8 & 18 & 0 & 27755 & 18081 & Inf & Inf & NaN & Inf & Inf (NaN,Inf) & 70\\% - 80\\% \\\\\n",
       "\t 0.8 & 0.9 &  0 & 0 &     0 & 18081 & NaN & Inf & NaN & NaN & NaN (NaN,NaN) & 80\\% - 90\\% \\\\\n",
       "\t 0.9 & 1.0 &  0 & 0 &     0 & 18081 & NaN & Inf & NaN & NaN & NaN (NaN,NaN) & 90\\% - 100\\%\\\\\n",
       "\\end{tabular}\n"
      ],
      "text/markdown": [
       "\n",
       "A data.frame: 10 × 12\n",
       "\n",
       "| l_bin &lt;dbl&gt; | u_bin &lt;dbl&gt; | n_TP &lt;dbl&gt; | n_FN &lt;dbl&gt; | n_FP &lt;dbl&gt; | n_TN &lt;dbl&gt; | OR &lt;dbl&gt; | SE_LOR &lt;dbl&gt; | l_OR &lt;dbl&gt; | u_OR &lt;dbl&gt; | OR_str &lt;chr&gt; | bin_str &lt;chr&gt; |\n",
       "|---|---|---|---|---|---|---|---|---|---|---|---|\n",
       "| 0.0 | 0.1 |  0 | 0 |     0 | 18081 | NaN | Inf | NaN | NaN | NaN (NaN,NaN) | 0% - 10%   |\n",
       "| 0.1 | 0.2 | 11 | 0 | 21560 | 18081 | Inf | Inf | NaN | Inf | Inf (NaN,Inf) | 10% - 20%  |\n",
       "| 0.2 | 0.3 |  0 | 0 |     0 | 18081 | NaN | Inf | NaN | NaN | NaN (NaN,NaN) | 20% - 30%  |\n",
       "| 0.3 | 0.4 |  0 | 0 |     0 | 18081 | NaN | Inf | NaN | NaN | NaN (NaN,NaN) | 30% - 40%  |\n",
       "| 0.4 | 0.5 |  0 | 0 | 17955 | 18081 | NaN | Inf | NaN | NaN | NaN (NaN,NaN) | 40% - 50%  |\n",
       "| 0.5 | 0.6 |  0 | 0 |   126 | 18081 | NaN | Inf | NaN | NaN | NaN (NaN,NaN) | 50% - 60%  |\n",
       "| 0.6 | 0.7 |  0 | 0 |     0 | 18081 | NaN | Inf | NaN | NaN | NaN (NaN,NaN) | 60% - 70%  |\n",
       "| 0.7 | 0.8 | 18 | 0 | 27755 | 18081 | Inf | Inf | NaN | Inf | Inf (NaN,Inf) | 70% - 80%  |\n",
       "| 0.8 | 0.9 |  0 | 0 |     0 | 18081 | NaN | Inf | NaN | NaN | NaN (NaN,NaN) | 80% - 90%  |\n",
       "| 0.9 | 1.0 |  0 | 0 |     0 | 18081 | NaN | Inf | NaN | NaN | NaN (NaN,NaN) | 90% - 100% |\n",
       "\n"
      ],
      "text/plain": [
       "   l_bin u_bin n_TP n_FN n_FP  n_TN  OR  SE_LOR l_OR u_OR OR_str       \n",
       "1  0.0   0.1    0   0        0 18081 NaN Inf    NaN  NaN  NaN (NaN,NaN)\n",
       "2  0.1   0.2   11   0    21560 18081 Inf Inf    NaN  Inf  Inf (NaN,Inf)\n",
       "3  0.2   0.3    0   0        0 18081 NaN Inf    NaN  NaN  NaN (NaN,NaN)\n",
       "4  0.3   0.4    0   0        0 18081 NaN Inf    NaN  NaN  NaN (NaN,NaN)\n",
       "5  0.4   0.5    0   0    17955 18081 NaN Inf    NaN  NaN  NaN (NaN,NaN)\n",
       "6  0.5   0.6    0   0      126 18081 NaN Inf    NaN  NaN  NaN (NaN,NaN)\n",
       "7  0.6   0.7    0   0        0 18081 NaN Inf    NaN  NaN  NaN (NaN,NaN)\n",
       "8  0.7   0.8   18   0    27755 18081 Inf Inf    NaN  Inf  Inf (NaN,Inf)\n",
       "9  0.8   0.9    0   0        0 18081 NaN Inf    NaN  NaN  NaN (NaN,NaN)\n",
       "10 0.9   1.0    0   0        0 18081 NaN Inf    NaN  NaN  NaN (NaN,NaN)\n",
       "   bin_str   \n",
       "1  0% - 10%  \n",
       "2  10% - 20% \n",
       "3  20% - 30% \n",
       "4  30% - 40% \n",
       "5  40% - 50% \n",
       "6  50% - 60% \n",
       "7  60% - 70% \n",
       "8  70% - 80% \n",
       "9  80% - 90% \n",
       "10 90% - 100%"
      ]
     },
     "metadata": {},
     "output_type": "display_data"
    }
   ],
   "source": [
    "summary_plot_df\n"
   ]
  },
  {
   "cell_type": "code",
   "execution_count": 66,
   "id": "40db381b",
   "metadata": {},
   "outputs": [],
   "source": [
    "summary_plot_df %>%\n",
    "rename('#l_bin' = 'l_bin') %>%\n",
    "fwrite(sprintf('%s.percentile.tsv', performance_eval_prefix), sep='\\t', na = \"NA\", quote=F)\n"
   ]
  },
  {
   "cell_type": "code",
   "execution_count": 67,
   "id": "329a9103",
   "metadata": {},
   "outputs": [
    {
     "name": "stderr",
     "output_type": "stream",
     "text": [
      "Warning message:\n",
      "“Removed 8 rows containing missing values (geom_point).”\n",
      "Warning message:\n",
      "“Removed 8 rows containing missing values (geom_point).”\n"
     ]
    }
   ],
   "source": [
    "\n",
    "if(family == 'gaussian'){\n",
    "    p1 <- plot_df %>% plot_PRS_vs_phe() +\n",
    "    theme(legend.position=c(.1, .8))+\n",
    "    labs(title = pheno_col, y = pheno_col)\n",
    "\n",
    "    p2 <- summary_plot_df %>%\n",
    "    plot_PRS_bin_vs_phe(mean(plot_df$phe))+\n",
    "    labs(title = pheno_col, y = pheno_col)\n",
    "}else if(family == 'binomial'){\n",
    "    p1 <- plot_df %>% plot_PRS_binomial() +\n",
    "    labs(title = pheno_col, x = pheno_col)\n",
    "\n",
    "    p2 <- summary_plot_df %>% plot_PRS_bin_vs_OR() +\n",
    "    labs(title = pheno_col)\n",
    "}else{\n",
    "    stop(sprintf('%s family is not supported!', family))\n",
    "}\n",
    "\n",
    "for(ext in c('png', 'pdf')){ggsave(\n",
    "    sprintf('%s.plot.%s', performance_eval_prefix, ext),\n",
    "    gridExtra::arrangeGrob(p1, p2, ncol=2),\n",
    "    width=12, height=6\n",
    ")}\n"
   ]
  },
  {
   "cell_type": "code",
   "execution_count": 68,
   "id": "3b48ff83",
   "metadata": {},
   "outputs": [
    {
     "data": {
      "image/png": "[encoded data removed]",
      "text/plain": [
       "plot without title"
      ]
     },
     "metadata": {
      "image/png": {
       "height": 420,
       "width": 420
      },
      "text/plain": {
       "height": 420,
       "width": 420
      }
     },
     "output_type": "display_data"
    }
   ],
   "source": [
    "p1"
   ]
  },
  {
   "cell_type": "code",
   "execution_count": 70,
   "id": "15b4f519",
   "metadata": {},
   "outputs": [
    {
     "name": "stderr",
     "output_type": "stream",
     "text": [
      "Warning message:\n",
      "“Removed 8 rows containing missing values (geom_point).”\n"
     ]
    },
    {
     "data": {
      "image/png": "[encoded data removed]",
      "text/plain": [
       "plot without title"
      ]
     },
     "metadata": {
      "image/png": {
       "height": 420,
       "width": 420
      },
      "text/plain": {
       "height": 420,
       "width": 420
      }
     },
     "output_type": "display_data"
    }
   ],
   "source": [
    "p2"
   ]
  },
  {
   "cell_type": "code",
   "execution_count": null,
   "id": "1de9909f",
   "metadata": {},
   "outputs": [],
   "source": []
  }
 ],
 "metadata": {
  "kernelspec": {
   "display_name": "R",
   "language": "R",
   "name": "ir"
  },
  "language_info": {
   "codemirror_mode": "r",
   "file_extension": ".r",
   "mimetype": "text/x-r-source",
   "name": "R",
   "pygments_lexer": "r",
   "version": "3.6.2"
  }
 },
 "nbformat": 4,
 "nbformat_minor": 5
}

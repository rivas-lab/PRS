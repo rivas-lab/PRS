{
 "cells": [
  {
   "cell_type": "code",
   "execution_count": 1,
   "id": "773e3475",
   "metadata": {},
   "outputs": [],
   "source": [
    "suppressWarnings(suppressPackageStartupMessages({\n",
    "    library(tidyverse)\n",
    "    library(data.table) \n",
    "}))\n"
   ]
  },
  {
   "cell_type": "code",
   "execution_count": 2,
   "id": "ccd54a11",
   "metadata": {},
   "outputs": [],
   "source": [
    "source('paths.sh')\n",
    "GBE_IDs <- c('INI50', 'INI21001', 'HC269', 'HC382')\n",
    "\n"
   ]
  },
  {
   "cell_type": "code",
   "execution_count": 3,
   "id": "7d587933",
   "metadata": {},
   "outputs": [],
   "source": [
    "'../20211028_freeze/PRSmap.eval.tsv.gz' %>%\n",
    "fread %>%\n",
    "rename_with(function(x){str_replace(x, '#', '')}, starts_with(\"#\")) %>%\n",
    "select(\n",
    "    -trait_category, -trait_category_plot,\n",
    "    -WBtest_P, -WBtest_BYq, -WBtest_is_significant\n",
    ") %>%\n",
    "filter(trait %in% GBE_IDs) -> base_results_df\n"
   ]
  },
  {
   "cell_type": "code",
   "execution_count": 4,
   "id": "d4569017",
   "metadata": {},
   "outputs": [],
   "source": [
    "'predictive_performance.tsv' %>%\n",
    "fread %>%\n",
    "rename_with(function(x){str_replace(x, '#', '')}, starts_with(\"#\")) %>%\n",
    "select(-predictors, -response) -> additional_results_df\n"
   ]
  },
  {
   "cell_type": "code",
   "execution_count": 48,
   "id": "3b119c43",
   "metadata": {},
   "outputs": [],
   "source": [
    "base_results_df %>%\n",
    "select(trait, trait_name, family) %>%\n",
    "unique %>%\n",
    "left_join(\n",
    "    bind_rows(\n",
    "        base_results_df %>%\n",
    "        select(-trait_name, -family) %>%\n",
    "        filter(split != 'train_val', model == 'PRS', metric %in% c('r2', 'auc')) %>%\n",
    "        mutate(genotype = 'without imputed variants'),\n",
    "\n",
    "        additional_results_df %>%\n",
    "        filter(split != 'train_val', model == 'PRS', metric %in% c('r2', 'auc')) %>%\n",
    "        mutate(genotype = 'with imputed variants')\n",
    "\n",
    "    ),\n",
    "    by = \"trait\"\n",
    ") -> combined_df\n"
   ]
  },
  {
   "cell_type": "code",
   "execution_count": 49,
   "id": "ba29434b",
   "metadata": {},
   "outputs": [],
   "source": [
    "get_split_order_df <- function(){\n",
    "    data.frame(\n",
    "        split = c(\n",
    "            'train', 'val', 'test', 'non_british_white',\n",
    "            's_asian', 'e_asian', 'african'\n",
    "        ),\n",
    "        split_plot = c(\n",
    "            'Training (WB)', 'Validation (WB)', 'Test (WB)',\n",
    "            'Non-British white', 'South Asian', 'East Asian', 'African'\n",
    "        ),\n",
    "        stringsAsFactors=F\n",
    "    ) %>% mutate(split_order=-1 * 1:n())\n",
    "}\n"
   ]
  },
  {
   "cell_type": "code",
   "execution_count": 56,
   "id": "fe43931f",
   "metadata": {},
   "outputs": [],
   "source": [
    "base_results_df %>%\n",
    "select(trait, trait_name, family) %>%\n",
    "unique %>%\n",
    "left_join(\n",
    "    combined_df %>%\n",
    "    filter(split == 'test') %>%\n",
    "    mutate(genotype = paste0('metric_', genotype)) %>%\n",
    "    select(trait, `eval`, genotype) %>%\n",
    "    spread(genotype, `eval`),\n",
    "    by = \"trait\"\n",
    ") %>%\n",
    "left_join(\n",
    "    combined_df %>%\n",
    "    filter(split == 'test') %>%\n",
    "    mutate(genotype = paste0('n_variables_', genotype)) %>%\n",
    "    select(trait, n_variables, genotype) %>%\n",
    "    spread(genotype, n_variables),\n",
    "    by = \"trait\"\n",
    ") -> summary_table_df\n"
   ]
  },
  {
   "cell_type": "code",
   "execution_count": 60,
   "id": "97e99f84",
   "metadata": {},
   "outputs": [],
   "source": [
    "summary_table_df %>%\n",
    "rename('#trait' = 'trait') %>%\n",
    "fwrite('imputed_variants_performance.tsv', sep='\\t', na = \"NA\", quote=F)\n"
   ]
  },
  {
   "cell_type": "code",
   "execution_count": 45,
   "id": "5d18175c",
   "metadata": {},
   "outputs": [],
   "source": [
    "p_binomial <- combined_df %>%\n",
    "filter(metric == 'auc') %>%\n",
    "left_join(get_split_order_df(), by='split') %>%\n",
    "# filter(GBE_ID %in% GBE_IDs, split != 'train_val') %>%\n",
    "ggplot(aes(x = reorder(split_plot, split_order), y=`eval`, color=genotype, fill=genotype)) +\n",
    "geom_hline(yintercept = .5, color='black') +\n",
    "geom_bar(stat='identity', position = \"dodge2\") +\n",
    "geom_errorbar(aes(ymin = l_eval, ymax = u_eval), color='black', alpha=1, position = \"dodge2\") +\n",
    "coord_flip(ylim = c(.45, NA)) +\n",
    "theme_bw(base_size=14) +\n",
    "theme(legend.position='bottom') +\n",
    "labs(\n",
    "    title = 'Binary traits (Binomial model)',\n",
    "    x = 'Hold-out test set',\n",
    "    y = 'Pedictive performance or snpnet PRS model (AUC)', \n",
    "    fill='Genotype data',\n",
    "    color='Genotype data'\n",
    ") +\n",
    "facet_wrap(~ trait, nrow = 1)"
   ]
  },
  {
   "cell_type": "code",
   "execution_count": 46,
   "id": "5c42b671",
   "metadata": {},
   "outputs": [],
   "source": [
    "p_gaussian <- combined_df %>%\n",
    "filter(metric == 'r2') %>%\n",
    "left_join(get_split_order_df(), by='split') %>%\n",
    "# filter(GBE_ID %in% GBE_IDs, split != 'train_val') %>%\n",
    "ggplot(aes(x = reorder(split_plot, split_order), y=`eval`, color=genotype, fill=genotype)) +\n",
    "geom_bar(stat='identity', position = \"dodge2\") +\n",
    "geom_errorbar(aes(ymin = l_eval, ymax = u_eval), color='black', alpha=1, position = \"dodge2\") +\n",
    "coord_flip() +\n",
    "theme_bw(base_size=14) +\n",
    "theme(legend.position='bottom') +\n",
    "labs(\n",
    "    title = 'Quantitative traits (Gaussian model)',\n",
    "    x = 'Hold-out test set',\n",
    "    y = latex2exp::TeX('Pedictive performance or snpnet PRS model (\\\\textit{R}$^2$)'), \n",
    "    fill='Genotype data',\n",
    "    color='Genotype data'\n",
    ") +\n",
    "facet_wrap(~ trait_name, nrow = 1)\n"
   ]
  },
  {
   "cell_type": "code",
   "execution_count": 47,
   "id": "af48f59a",
   "metadata": {},
   "outputs": [],
   "source": [
    "for(ext in c('png', 'pdf')){ggsave(\n",
    "    sprintf('imputed_variants_performance.%s', ext),\n",
    "    gridExtra::arrangeGrob(\n",
    "        p_binomial,\n",
    "        p_gaussian,\n",
    "        ncol=1\n",
    "    ),\n",
    "    width=8, height=8\n",
    ")}\n"
   ]
  },
  {
   "cell_type": "code",
   "execution_count": null,
   "id": "5153a5aa",
   "metadata": {},
   "outputs": [],
   "source": []
  }
 ],
 "metadata": {
  "kernelspec": {
   "display_name": "R",
   "language": "R",
   "name": "ir"
  },
  "language_info": {
   "codemirror_mode": "r",
   "file_extension": ".r",
   "mimetype": "text/x-r-source",
   "name": "R",
   "pygments_lexer": "r",
   "version": "3.6.2"
  }
 },
 "nbformat": 4,
 "nbformat_minor": 5
}

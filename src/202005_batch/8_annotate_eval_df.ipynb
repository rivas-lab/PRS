{
 "cells": [
  {
   "cell_type": "code",
   "execution_count": 1,
   "metadata": {},
   "outputs": [],
   "source": [
    "suppressWarnings(suppressPackageStartupMessages({\n",
    "    library(tidyverse)\n",
    "    library(data.table)\n",
    "    library(googlesheets)\n",
    "}))\n"
   ]
  },
  {
   "cell_type": "code",
   "execution_count": 2,
   "metadata": {},
   "outputs": [
    {
     "name": "stderr",
     "output_type": "stream",
     "text": [
      "Auto-refreshing stale OAuth token.\n"
     ]
    }
   ],
   "source": [
    "gs_token <- \"/home/users/ytanigaw/.googlesheets_token.rds\"\n",
    "gs_auth(token = gs_token)\n"
   ]
  },
  {
   "cell_type": "code",
   "execution_count": 3,
   "metadata": {},
   "outputs": [],
   "source": [
    "# input\n",
    "\n",
    "master_phe_info_f <- '/oak/stanford/groups/mrivas/ukbb24983/phenotypedata/master_phe/master.20200522.phe.info.tsv'\n",
    "in_eval_f <- '6_aggregate_eval.20200609-222737.tsv'\n",
    "GBE_names_sheet <- 'https://docs.google.com/spreadsheets/d/1gwzS0SVZBSKkkHgsoqB5vHo5JpUeYYz8PK2RWrHEq3A'\n",
    "in_count_f <- '7_count_PTVs_PAVs.20200610-145804.tsv'\n",
    "\n",
    "# output\n",
    "\n",
    "annotated_eval_df <- '8_annotate_eval_df.tsv'\n"
   ]
  },
  {
   "cell_type": "code",
   "execution_count": 4,
   "metadata": {},
   "outputs": [
    {
     "name": "stderr",
     "output_type": "stream",
     "text": [
      "Sheet-identifying info appears to be a browser URL.\n",
      "googlesheets will attempt to extract sheet key from the URL.\n",
      "Putative key: 1gwzS0SVZBSKkkHgsoqB5vHo5JpUeYYz8PK2RWrHEq3A\n",
      "Warning message:\n",
      "“`data_frame()` is deprecated as of tibble 1.1.0.\n",
      "Please use `tibble()` instead.\n",
      "\u001b[90mThis warning is displayed once every 8 hours.\u001b[39m\n",
      "\u001b[90mCall `lifecycle::last_warnings()` to see where this warning was generated.\u001b[39m”Sheet successfully identified: \"GBE_names\"\n",
      "Warning message:\n",
      "“`as_data_frame()` is deprecated as of tibble 2.0.0.\n",
      "Please use `as_tibble()` instead.\n",
      "The signature and semantics have changed, see `?as_tibble`.\n",
      "\u001b[90mThis warning is displayed once every 8 hours.\u001b[39m\n",
      "\u001b[90mCall `lifecycle::last_warnings()` to see where this warning was generated.\u001b[39m”Accessing worksheet titled 'GBE_names'.\n"
     ]
    }
   ],
   "source": [
    "GBE_names_df <- GBE_names_sheet %>% gs_url() %>% \n",
    "gs_read(ws = 'GBE_names', col_types = cols('Units_of_measurement' = col_character()))\n"
   ]
  },
  {
   "cell_type": "code",
   "execution_count": 5,
   "metadata": {},
   "outputs": [],
   "source": [
    "phe_info_df <- fread(master_phe_info_f) %>%\n",
    "rename('GBE_ID'='#GBE_ID') %>%\n",
    "filter(str_detect(GBE_ID, '^HC')) %>%\n",
    "filter(!str_detect(GBE_NAME, '^TTE')) %>%\n",
    "rename('N_NBW_'='N_GBE', 'N_GBE'='N_NBW') %>%\n",
    "rename('N_NBW'='N_NBW_')\n"
   ]
  },
  {
   "cell_type": "code",
   "execution_count": 6,
   "metadata": {},
   "outputs": [],
   "source": [
    "count_df <- fread(in_count_f) %>%\n",
    "rename('GBE_ID'='#GBE_ID')"
   ]
  },
  {
   "cell_type": "code",
   "execution_count": 7,
   "metadata": {},
   "outputs": [],
   "source": [
    "df <- fread(in_eval_f) %>%\n",
    "rename('GBE_ID'='#GBE_ID') %>%\n",
    "left_join(\n",
    "    count_df, by='GBE_ID'\n",
    ") %>%\n",
    "left_join(\n",
    "    GBE_names_df %>%\n",
    "    select(GBE_ID, GBE_NAME, GBE_short_name),\n",
    "    by='GBE_ID'\n",
    ") %>%\n",
    "left_join(\n",
    "    phe_info_df %>%\n",
    "    select(GBE_ID, N, N_GBE, N_NBW, N_AFR, N_EAS, N_SAS),\n",
    "    by='GBE_ID'\n",
    ")\n"
   ]
  },
  {
   "cell_type": "code",
   "execution_count": 8,
   "metadata": {},
   "outputs": [
    {
     "data": {
      "text/html": [
       "<style>\n",
       ".list-inline {list-style: none; margin:0; padding: 0}\n",
       ".list-inline>li {display: inline-block}\n",
       ".list-inline>li:not(:last-child)::after {content: \"\\00b7\"; padding: 0 .5ex}\n",
       "</style>\n",
       "<ol class=list-inline><li>'GBE_ID'</li><li>'n_variables'</li><li>'split'</li><li>'geno'</li><li>'covar'</li><li>'geno_covar'</li><li>'geno_delta'</li><li>'PTVs'</li><li>'PAVs'</li><li>'Others'</li><li>'PTVs_novel'</li><li>'PAVs_novel'</li><li>'Others_novel'</li><li>'GBE_NAME'</li><li>'GBE_short_name'</li><li>'N'</li><li>'N_GBE'</li><li>'N_NBW'</li><li>'N_AFR'</li><li>'N_EAS'</li><li>'N_SAS'</li></ol>\n"
      ],
      "text/latex": [
       "\\begin{enumerate*}\n",
       "\\item 'GBE\\_ID'\n",
       "\\item 'n\\_variables'\n",
       "\\item 'split'\n",
       "\\item 'geno'\n",
       "\\item 'covar'\n",
       "\\item 'geno\\_covar'\n",
       "\\item 'geno\\_delta'\n",
       "\\item 'PTVs'\n",
       "\\item 'PAVs'\n",
       "\\item 'Others'\n",
       "\\item 'PTVs\\_novel'\n",
       "\\item 'PAVs\\_novel'\n",
       "\\item 'Others\\_novel'\n",
       "\\item 'GBE\\_NAME'\n",
       "\\item 'GBE\\_short\\_name'\n",
       "\\item 'N'\n",
       "\\item 'N\\_GBE'\n",
       "\\item 'N\\_NBW'\n",
       "\\item 'N\\_AFR'\n",
       "\\item 'N\\_EAS'\n",
       "\\item 'N\\_SAS'\n",
       "\\end{enumerate*}\n"
      ],
      "text/markdown": [
       "1. 'GBE_ID'\n",
       "2. 'n_variables'\n",
       "3. 'split'\n",
       "4. 'geno'\n",
       "5. 'covar'\n",
       "6. 'geno_covar'\n",
       "7. 'geno_delta'\n",
       "8. 'PTVs'\n",
       "9. 'PAVs'\n",
       "10. 'Others'\n",
       "11. 'PTVs_novel'\n",
       "12. 'PAVs_novel'\n",
       "13. 'Others_novel'\n",
       "14. 'GBE_NAME'\n",
       "15. 'GBE_short_name'\n",
       "16. 'N'\n",
       "17. 'N_GBE'\n",
       "18. 'N_NBW'\n",
       "19. 'N_AFR'\n",
       "20. 'N_EAS'\n",
       "21. 'N_SAS'\n",
       "\n",
       "\n"
      ],
      "text/plain": [
       " [1] \"GBE_ID\"         \"n_variables\"    \"split\"          \"geno\"          \n",
       " [5] \"covar\"          \"geno_covar\"     \"geno_delta\"     \"PTVs\"          \n",
       " [9] \"PAVs\"           \"Others\"         \"PTVs_novel\"     \"PAVs_novel\"    \n",
       "[13] \"Others_novel\"   \"GBE_NAME\"       \"GBE_short_name\" \"N\"             \n",
       "[17] \"N_GBE\"          \"N_NBW\"          \"N_AFR\"          \"N_EAS\"         \n",
       "[21] \"N_SAS\"         "
      ]
     },
     "metadata": {},
     "output_type": "display_data"
    }
   ],
   "source": [
    "df %>% colnames()"
   ]
  },
  {
   "cell_type": "code",
   "execution_count": 10,
   "metadata": {},
   "outputs": [],
   "source": [
    "df %>%\n",
    "select(\n",
    "    GBE_ID, GBE_short_name, n_variables,\n",
    "    PTVs, PAVs, Others, PTVs_novel, PAVs_novel, Others_novel,\n",
    "    split, geno, covar, geno_covar, geno_delta,\n",
    "    GBE_NAME, N, N_GBE, N_NBW, N_AFR, N_EAS, N_SAS\n",
    ") %>%\n",
    "rename('#GBE_ID' = 'GBE_ID') %>%\n",
    "fwrite(annotated_eval_df, sep='\\t', na = \"NA\", quote=F)\n"
   ]
  },
  {
   "cell_type": "code",
   "execution_count": null,
   "metadata": {},
   "outputs": [],
   "source": []
  }
 ],
 "metadata": {
  "kernelspec": {
   "display_name": "R",
   "language": "R",
   "name": "ir"
  },
  "language_info": {
   "codemirror_mode": "r",
   "file_extension": ".r",
   "mimetype": "text/x-r-source",
   "name": "R",
   "pygments_lexer": "r",
   "version": "3.6.1"
  }
 },
 "nbformat": 4,
 "nbformat_minor": 4
}

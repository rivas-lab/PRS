{
 "cells": [
  {
   "cell_type": "code",
   "execution_count": 1,
   "id": "valued-midwest",
   "metadata": {},
   "outputs": [],
   "source": [
    "suppressWarnings(suppressPackageStartupMessages({\n",
    "    library(tidyverse)\n",
    "    library(data.table)\n",
    "}))\n"
   ]
  },
  {
   "cell_type": "markdown",
   "id": "written-booking",
   "metadata": {},
   "source": [
    "We focus on the 406 k individuals in one of the following set and prepare `split_400k` column\n"
   ]
  },
  {
   "cell_type": "code",
   "execution_count": 24,
   "id": "european-announcement",
   "metadata": {},
   "outputs": [],
   "source": [
    "phe_in_f=\"/scratch/groups/mrivas/ukbb24983/phenotypedata/master_phe/master.20211020.phe.zst\"\n",
    "phe_out_f<- '/scratch/groups/mrivas/projects/PRS/private_output/20211022_400k/20211022.phe'\n",
    "phe_keep_f<- '/scratch/groups/mrivas/projects/PRS/private_output/20211022_400k/20211022.keep.phe'"
   ]
  },
  {
   "cell_type": "code",
   "execution_count": 5,
   "id": "demonstrated-photograph",
   "metadata": {},
   "outputs": [],
   "source": [
    "'GBE_ID_list.txt' %>% fread(head=F) %>% pull() -> GBE_IDs\n"
   ]
  },
  {
   "cell_type": "code",
   "execution_count": 6,
   "id": "working-atlas",
   "metadata": {},
   "outputs": [],
   "source": [
    "cols <- c('#FID', 'IID', 'population', 'split', 'split_nonWB', 'age', 'sex', paste0('Global_PC', 1:18), GBE_IDs)"
   ]
  },
  {
   "cell_type": "code",
   "execution_count": 16,
   "id": "similar-lending",
   "metadata": {},
   "outputs": [],
   "source": [
    "fread(\n",
    "    cmd=paste('zstdcat', phe_in_f),\n",
    "    colClasses = c('#FID'='character', 'IID'='character'),\n",
    "    select=cols\n",
    ") %>%\n",
    "rename_with(function(x){str_replace(x, '#', '')}, starts_with(\"#\")) -> phe_df\n"
   ]
  },
  {
   "cell_type": "code",
   "execution_count": 17,
   "id": "opening-eugene",
   "metadata": {},
   "outputs": [],
   "source": [
    "phe_df %>%\n",
    "mutate(\n",
    "    split_400k = case_when(\n",
    "        population == 'white_british' ~  split,\n",
    "        population != 'related' ~ split_nonWB,\n",
    "        TRUE ~ 'NA'\n",
    "    )\n",
    ") %>%\n",
    "replace_na(list(split_400k = 'NA')) -> phe_split400k_df\n"
   ]
  },
  {
   "cell_type": "code",
   "execution_count": 23,
   "id": "positive-commission",
   "metadata": {},
   "outputs": [],
   "source": [
    "phe_split400k_df %>% \n",
    "rename('#FID' = 'FID') %>%\n",
    "fwrite(phe_out_f, sep='\\t', na = \"NA\", quote=F)\n"
   ]
  },
  {
   "cell_type": "code",
   "execution_count": 26,
   "id": "married-chocolate",
   "metadata": {},
   "outputs": [],
   "source": [
    "phe_split400k_df %>% filter(split_400k != 'NA') %>%\n",
    "select(FID, IID) %>%\n",
    "fwrite(phe_keep_f, sep='\\t', na = \"NA\", quote=F, col.names = FALSE)\n"
   ]
  },
  {
   "cell_type": "code",
   "execution_count": 20,
   "id": "considerable-victoria",
   "metadata": {},
   "outputs": [
    {
     "data": {
      "text/html": [
       "406722"
      ],
      "text/latex": [
       "406722"
      ],
      "text/markdown": [
       "406722"
      ],
      "text/plain": [
       "[1] 406722"
      ]
     },
     "metadata": {},
     "output_type": "display_data"
    }
   ],
   "source": [
    "phe_split400k_df %>% filter(split_400k != 'NA') %>% nrow"
   ]
  },
  {
   "cell_type": "code",
   "execution_count": 19,
   "id": "boring-roots",
   "metadata": {},
   "outputs": [
    {
     "data": {
      "text/html": [
       "<table class=\"dataframe\">\n",
       "<caption>A data.table: 4 × 2</caption>\n",
       "<thead>\n",
       "\t<tr><th></th><th scope=col>split_400k</th><th scope=col>n</th></tr>\n",
       "\t<tr><th></th><th scope=col>&lt;chr&gt;</th><th scope=col>&lt;int&gt;</th></tr>\n",
       "</thead>\n",
       "<tbody>\n",
       "\t<tr><th scope=row>1</th><td>NA   </td><td>110047</td></tr>\n",
       "\t<tr><th scope=row>2</th><td>test </td><td> 81346</td></tr>\n",
       "\t<tr><th scope=row>3</th><td>train</td><td>284703</td></tr>\n",
       "\t<tr><th scope=row>4</th><td>val  </td><td> 40673</td></tr>\n",
       "</tbody>\n",
       "</table>\n"
      ],
      "text/latex": [
       "A data.table: 4 × 2\n",
       "\\begin{tabular}{r|ll}\n",
       "  & split\\_400k & n\\\\\n",
       "  & <chr> & <int>\\\\\n",
       "\\hline\n",
       "\t1 & NA    & 110047\\\\\n",
       "\t2 & test  &  81346\\\\\n",
       "\t3 & train & 284703\\\\\n",
       "\t4 & val   &  40673\\\\\n",
       "\\end{tabular}\n"
      ],
      "text/markdown": [
       "\n",
       "A data.table: 4 × 2\n",
       "\n",
       "| <!--/--> | split_400k &lt;chr&gt; | n &lt;int&gt; |\n",
       "|---|---|---|\n",
       "| 1 | NA    | 110047 |\n",
       "| 2 | test  |  81346 |\n",
       "| 3 | train | 284703 |\n",
       "| 4 | val   |  40673 |\n",
       "\n"
      ],
      "text/plain": [
       "  split_400k n     \n",
       "1 NA         110047\n",
       "2 test        81346\n",
       "3 train      284703\n",
       "4 val         40673"
      ]
     },
     "metadata": {},
     "output_type": "display_data"
    }
   ],
   "source": [
    "phe_split400k_df %>%\n",
    "count(split_400k)\n"
   ]
  },
  {
   "cell_type": "code",
   "execution_count": 18,
   "id": "nearby-andrew",
   "metadata": {},
   "outputs": [
    {
     "data": {
      "text/html": [
       "<table class=\"dataframe\">\n",
       "<caption>A data.table: 22 × 3</caption>\n",
       "<thead>\n",
       "\t<tr><th scope=col>split_400k</th><th scope=col>population</th><th scope=col>n</th></tr>\n",
       "\t<tr><th scope=col>&lt;chr&gt;</th><th scope=col>&lt;chr&gt;</th><th scope=col>&lt;int&gt;</th></tr>\n",
       "</thead>\n",
       "<tbody>\n",
       "\t<tr><td>NA   </td><td>-9               </td><td> 28497</td></tr>\n",
       "\t<tr><td>NA   </td><td>DO_NOT_PASS_SQC  </td><td>  1826</td></tr>\n",
       "\t<tr><td>NA   </td><td>related          </td><td> 44632</td></tr>\n",
       "\t<tr><td>NA   </td><td>NA               </td><td> 35092</td></tr>\n",
       "\t<tr><td>test </td><td>african          </td><td>  1300</td></tr>\n",
       "\t<tr><td>test </td><td>e_asian          </td><td>   341</td></tr>\n",
       "\t<tr><td>test </td><td>non_british_white</td><td>  4981</td></tr>\n",
       "\t<tr><td>test </td><td>others           </td><td>  5732</td></tr>\n",
       "\t<tr><td>test </td><td>s_asian          </td><td>  1567</td></tr>\n",
       "\t<tr><td>test </td><td>white_british    </td><td> 67425</td></tr>\n",
       "\t<tr><td>train</td><td>african          </td><td>  4547</td></tr>\n",
       "\t<tr><td>train</td><td>e_asian          </td><td>  1192</td></tr>\n",
       "\t<tr><td>train</td><td>non_british_white</td><td> 17433</td></tr>\n",
       "\t<tr><td>train</td><td>others           </td><td> 20059</td></tr>\n",
       "\t<tr><td>train</td><td>s_asian          </td><td>  5481</td></tr>\n",
       "\t<tr><td>train</td><td>white_british    </td><td>235991</td></tr>\n",
       "\t<tr><td>val  </td><td>african          </td><td>   650</td></tr>\n",
       "\t<tr><td>val  </td><td>e_asian          </td><td>   171</td></tr>\n",
       "\t<tr><td>val  </td><td>non_british_white</td><td>  2491</td></tr>\n",
       "\t<tr><td>val  </td><td>others           </td><td>  2865</td></tr>\n",
       "\t<tr><td>val  </td><td>s_asian          </td><td>   783</td></tr>\n",
       "\t<tr><td>val  </td><td>white_british    </td><td> 33713</td></tr>\n",
       "</tbody>\n",
       "</table>\n"
      ],
      "text/latex": [
       "A data.table: 22 × 3\n",
       "\\begin{tabular}{lll}\n",
       " split\\_400k & population & n\\\\\n",
       " <chr> & <chr> & <int>\\\\\n",
       "\\hline\n",
       "\t NA    & -9                &  28497\\\\\n",
       "\t NA    & DO\\_NOT\\_PASS\\_SQC   &   1826\\\\\n",
       "\t NA    & related           &  44632\\\\\n",
       "\t NA    & NA                &  35092\\\\\n",
       "\t test  & african           &   1300\\\\\n",
       "\t test  & e\\_asian           &    341\\\\\n",
       "\t test  & non\\_british\\_white &   4981\\\\\n",
       "\t test  & others            &   5732\\\\\n",
       "\t test  & s\\_asian           &   1567\\\\\n",
       "\t test  & white\\_british     &  67425\\\\\n",
       "\t train & african           &   4547\\\\\n",
       "\t train & e\\_asian           &   1192\\\\\n",
       "\t train & non\\_british\\_white &  17433\\\\\n",
       "\t train & others            &  20059\\\\\n",
       "\t train & s\\_asian           &   5481\\\\\n",
       "\t train & white\\_british     & 235991\\\\\n",
       "\t val   & african           &    650\\\\\n",
       "\t val   & e\\_asian           &    171\\\\\n",
       "\t val   & non\\_british\\_white &   2491\\\\\n",
       "\t val   & others            &   2865\\\\\n",
       "\t val   & s\\_asian           &    783\\\\\n",
       "\t val   & white\\_british     &  33713\\\\\n",
       "\\end{tabular}\n"
      ],
      "text/markdown": [
       "\n",
       "A data.table: 22 × 3\n",
       "\n",
       "| split_400k &lt;chr&gt; | population &lt;chr&gt; | n &lt;int&gt; |\n",
       "|---|---|---|\n",
       "| NA    | -9                |  28497 |\n",
       "| NA    | DO_NOT_PASS_SQC   |   1826 |\n",
       "| NA    | related           |  44632 |\n",
       "| NA    | NA                |  35092 |\n",
       "| test  | african           |   1300 |\n",
       "| test  | e_asian           |    341 |\n",
       "| test  | non_british_white |   4981 |\n",
       "| test  | others            |   5732 |\n",
       "| test  | s_asian           |   1567 |\n",
       "| test  | white_british     |  67425 |\n",
       "| train | african           |   4547 |\n",
       "| train | e_asian           |   1192 |\n",
       "| train | non_british_white |  17433 |\n",
       "| train | others            |  20059 |\n",
       "| train | s_asian           |   5481 |\n",
       "| train | white_british     | 235991 |\n",
       "| val   | african           |    650 |\n",
       "| val   | e_asian           |    171 |\n",
       "| val   | non_british_white |   2491 |\n",
       "| val   | others            |   2865 |\n",
       "| val   | s_asian           |    783 |\n",
       "| val   | white_british     |  33713 |\n",
       "\n"
      ],
      "text/plain": [
       "   split_400k population        n     \n",
       "1  NA         -9                 28497\n",
       "2  NA         DO_NOT_PASS_SQC     1826\n",
       "3  NA         related            44632\n",
       "4  NA         NA                 35092\n",
       "5  test       african             1300\n",
       "6  test       e_asian              341\n",
       "7  test       non_british_white   4981\n",
       "8  test       others              5732\n",
       "9  test       s_asian             1567\n",
       "10 test       white_british      67425\n",
       "11 train      african             4547\n",
       "12 train      e_asian             1192\n",
       "13 train      non_british_white  17433\n",
       "14 train      others             20059\n",
       "15 train      s_asian             5481\n",
       "16 train      white_british     235991\n",
       "17 val        african              650\n",
       "18 val        e_asian              171\n",
       "19 val        non_british_white   2491\n",
       "20 val        others              2865\n",
       "21 val        s_asian              783\n",
       "22 val        white_british      33713"
      ]
     },
     "metadata": {},
     "output_type": "display_data"
    }
   ],
   "source": [
    "phe_split400k_df %>%\n",
    "count(split_400k, population)\n"
   ]
  },
  {
   "cell_type": "code",
   "execution_count": null,
   "id": "northern-national",
   "metadata": {},
   "outputs": [],
   "source": []
  }
 ],
 "metadata": {
  "kernelspec": {
   "display_name": "R",
   "language": "R",
   "name": "ir"
  },
  "language_info": {
   "codemirror_mode": "r",
   "file_extension": ".r",
   "mimetype": "text/x-r-source",
   "name": "R",
   "pygments_lexer": "r",
   "version": "3.6.2"
  }
 },
 "nbformat": 4,
 "nbformat_minor": 5
}

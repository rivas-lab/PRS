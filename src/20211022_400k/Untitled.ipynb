{
 "cells": [
  {
   "cell_type": "code",
   "execution_count": 1,
   "id": "cd78c689",
   "metadata": {},
   "outputs": [],
   "source": [
    "suppressWarnings(suppressPackageStartupMessages({\n",
    "    library(tidyverse)\n",
    "    library(data.table)\n",
    "}))\n"
   ]
  },
  {
   "cell_type": "code",
   "execution_count": 2,
   "id": "3a8b857d",
   "metadata": {},
   "outputs": [],
   "source": [
    "eval_f <- '/scratch/groups/mrivas/projects/PRS/private_output/20211022_400k/snpnet400k/INI50/2_refit/INI50.eval.tsv.gz'\n"
   ]
  },
  {
   "cell_type": "code",
   "execution_count": 15,
   "id": "a6a4274e",
   "metadata": {},
   "outputs": [],
   "source": [
    "eval_f %>%\n",
    "fread() %>%\n",
    "rename_with(function(x){str_replace(x, '#', '')}, starts_with(\"#\")) -> eval_df\n"
   ]
  },
  {
   "cell_type": "code",
   "execution_count": 16,
   "id": "6d2294c8",
   "metadata": {},
   "outputs": [
    {
     "data": {
      "text/html": [
       "<table class=\"dataframe\">\n",
       "<caption>A data.table: 8 × 9</caption>\n",
       "<thead>\n",
       "\t<tr><th scope=col>response</th><th scope=col>model</th><th scope=col>metric</th><th scope=col>eval</th><th scope=col>l_eval</th><th scope=col>u_eval</th><th scope=col>P</th><th scope=col>split</th><th scope=col>n</th></tr>\n",
       "\t<tr><th scope=col>&lt;chr&gt;</th><th scope=col>&lt;chr&gt;</th><th scope=col>&lt;chr&gt;</th><th scope=col>&lt;dbl&gt;</th><th scope=col>&lt;dbl&gt;</th><th scope=col>&lt;dbl&gt;</th><th scope=col>&lt;dbl&gt;</th><th scope=col>&lt;chr&gt;</th><th scope=col>&lt;int&gt;</th></tr>\n",
       "</thead>\n",
       "<tbody>\n",
       "\t<tr><td>INI50</td><td>PRS</td><td>r2</td><td>0.27660783</td><td>0.27399334</td><td>0.27922232</td><td> 0.000000e+00</td><td>train_val             </td><td>324392</td></tr>\n",
       "\t<tr><td>INI50</td><td>PRS</td><td>r2</td><td>0.18276282</td><td>0.17748886</td><td>0.18803678</td><td> 0.000000e+00</td><td>white_british:test    </td><td> 67298</td></tr>\n",
       "\t<tr><td>INI50</td><td>PRS</td><td>r2</td><td>0.18359723</td><td>0.17710703</td><td>0.19008744</td><td> 0.000000e+00</td><td>related               </td><td> 44539</td></tr>\n",
       "\t<tr><td>INI50</td><td>PRS</td><td>r2</td><td>0.15924829</td><td>0.14188768</td><td>0.17660890</td><td>4.874770e-217</td><td>others:test           </td><td>  5703</td></tr>\n",
       "\t<tr><td>INI50</td><td>PRS</td><td>r2</td><td>0.20911799</td><td>0.18904454</td><td>0.22919145</td><td>2.539380e-255</td><td>non_british_white:test</td><td>  4968</td></tr>\n",
       "\t<tr><td>INI50</td><td>PRS</td><td>r2</td><td>0.10011306</td><td>0.07198065</td><td>0.12824548</td><td> 4.418915e-37</td><td>s_asian:test          </td><td>  1537</td></tr>\n",
       "\t<tr><td>INI50</td><td>PRS</td><td>r2</td><td>0.03249444</td><td>0.01358428</td><td>0.05140461</td><td> 7.568307e-11</td><td>african:test          </td><td>  1285</td></tr>\n",
       "\t<tr><td>INI50</td><td>PRS</td><td>r2</td><td>0.10260028</td><td>0.04220455</td><td>0.16299601</td><td> 1.584139e-09</td><td>e_asian:test          </td><td>   339</td></tr>\n",
       "</tbody>\n",
       "</table>\n"
      ],
      "text/latex": [
       "A data.table: 8 × 9\n",
       "\\begin{tabular}{lllllllll}\n",
       " response & model & metric & eval & l\\_eval & u\\_eval & P & split & n\\\\\n",
       " <chr> & <chr> & <chr> & <dbl> & <dbl> & <dbl> & <dbl> & <chr> & <int>\\\\\n",
       "\\hline\n",
       "\t INI50 & PRS & r2 & 0.27660783 & 0.27399334 & 0.27922232 &  0.000000e+00 & train\\_val              & 324392\\\\\n",
       "\t INI50 & PRS & r2 & 0.18276282 & 0.17748886 & 0.18803678 &  0.000000e+00 & white\\_british:test     &  67298\\\\\n",
       "\t INI50 & PRS & r2 & 0.18359723 & 0.17710703 & 0.19008744 &  0.000000e+00 & related                &  44539\\\\\n",
       "\t INI50 & PRS & r2 & 0.15924829 & 0.14188768 & 0.17660890 & 4.874770e-217 & others:test            &   5703\\\\\n",
       "\t INI50 & PRS & r2 & 0.20911799 & 0.18904454 & 0.22919145 & 2.539380e-255 & non\\_british\\_white:test &   4968\\\\\n",
       "\t INI50 & PRS & r2 & 0.10011306 & 0.07198065 & 0.12824548 &  4.418915e-37 & s\\_asian:test           &   1537\\\\\n",
       "\t INI50 & PRS & r2 & 0.03249444 & 0.01358428 & 0.05140461 &  7.568307e-11 & african:test           &   1285\\\\\n",
       "\t INI50 & PRS & r2 & 0.10260028 & 0.04220455 & 0.16299601 &  1.584139e-09 & e\\_asian:test           &    339\\\\\n",
       "\\end{tabular}\n"
      ],
      "text/markdown": [
       "\n",
       "A data.table: 8 × 9\n",
       "\n",
       "| response &lt;chr&gt; | model &lt;chr&gt; | metric &lt;chr&gt; | eval &lt;dbl&gt; | l_eval &lt;dbl&gt; | u_eval &lt;dbl&gt; | P &lt;dbl&gt; | split &lt;chr&gt; | n &lt;int&gt; |\n",
       "|---|---|---|---|---|---|---|---|---|\n",
       "| INI50 | PRS | r2 | 0.27660783 | 0.27399334 | 0.27922232 |  0.000000e+00 | train_val              | 324392 |\n",
       "| INI50 | PRS | r2 | 0.18276282 | 0.17748886 | 0.18803678 |  0.000000e+00 | white_british:test     |  67298 |\n",
       "| INI50 | PRS | r2 | 0.18359723 | 0.17710703 | 0.19008744 |  0.000000e+00 | related                |  44539 |\n",
       "| INI50 | PRS | r2 | 0.15924829 | 0.14188768 | 0.17660890 | 4.874770e-217 | others:test            |   5703 |\n",
       "| INI50 | PRS | r2 | 0.20911799 | 0.18904454 | 0.22919145 | 2.539380e-255 | non_british_white:test |   4968 |\n",
       "| INI50 | PRS | r2 | 0.10011306 | 0.07198065 | 0.12824548 |  4.418915e-37 | s_asian:test           |   1537 |\n",
       "| INI50 | PRS | r2 | 0.03249444 | 0.01358428 | 0.05140461 |  7.568307e-11 | african:test           |   1285 |\n",
       "| INI50 | PRS | r2 | 0.10260028 | 0.04220455 | 0.16299601 |  1.584139e-09 | e_asian:test           |    339 |\n",
       "\n"
      ],
      "text/plain": [
       "  response model metric eval       l_eval     u_eval     P            \n",
       "1 INI50    PRS   r2     0.27660783 0.27399334 0.27922232  0.000000e+00\n",
       "2 INI50    PRS   r2     0.18276282 0.17748886 0.18803678  0.000000e+00\n",
       "3 INI50    PRS   r2     0.18359723 0.17710703 0.19008744  0.000000e+00\n",
       "4 INI50    PRS   r2     0.15924829 0.14188768 0.17660890 4.874770e-217\n",
       "5 INI50    PRS   r2     0.20911799 0.18904454 0.22919145 2.539380e-255\n",
       "6 INI50    PRS   r2     0.10011306 0.07198065 0.12824548  4.418915e-37\n",
       "7 INI50    PRS   r2     0.03249444 0.01358428 0.05140461  7.568307e-11\n",
       "8 INI50    PRS   r2     0.10260028 0.04220455 0.16299601  1.584139e-09\n",
       "  split                  n     \n",
       "1 train_val              324392\n",
       "2 white_british:test      67298\n",
       "3 related                 44539\n",
       "4 others:test              5703\n",
       "5 non_british_white:test   4968\n",
       "6 s_asian:test             1537\n",
       "7 african:test             1285\n",
       "8 e_asian:test              339"
      ]
     },
     "metadata": {},
     "output_type": "display_data"
    }
   ],
   "source": [
    "eval_df %>%\n",
    "# separate(split, c('population', 'split'), sep=':') %>%\n",
    "separate(predictors, c('model', NA), extra='merge', sep='_') %>%\n",
    "# filter(split == 'test') %>%\n",
    "filter(model == 'PRS')"
   ]
  },
  {
   "cell_type": "code",
   "execution_count": null,
   "id": "b29745d6",
   "metadata": {},
   "outputs": [],
   "source": []
  }
 ],
 "metadata": {
  "kernelspec": {
   "display_name": "R",
   "language": "R",
   "name": "ir"
  },
  "language_info": {
   "codemirror_mode": "r",
   "file_extension": ".r",
   "mimetype": "text/x-r-source",
   "name": "R",
   "pygments_lexer": "r",
   "version": "3.6.2"
  }
 },
 "nbformat": 4,
 "nbformat_minor": 5
}

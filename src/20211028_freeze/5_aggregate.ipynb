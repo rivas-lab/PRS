{
 "cells": [
  {
   "cell_type": "code",
   "execution_count": 1,
   "id": "69204ac7",
   "metadata": {},
   "outputs": [],
   "source": [
    "suppressWarnings(suppressPackageStartupMessages({\n",
    "    library(tidyverse)\n",
    "    library(data.table)\n",
    "}))\n"
   ]
  },
  {
   "cell_type": "code",
   "execution_count": 2,
   "id": "9106a7f0",
   "metadata": {},
   "outputs": [],
   "source": [
    "source('paths.sh')\n"
   ]
  },
  {
   "cell_type": "code",
   "execution_count": 3,
   "id": "3a948d26",
   "metadata": {},
   "outputs": [],
   "source": [
    "trait_list_f %>%\n",
    "fread() %>%\n",
    "rename_with(\n",
    "    function(x){str_replace(x, '#', '')}, starts_with(\"#\")\n",
    ") -> trait_list_df\n"
   ]
  },
  {
   "cell_type": "code",
   "execution_count": 4,
   "id": "66cdc0e9",
   "metadata": {},
   "outputs": [],
   "source": [
    "fread(\n",
    "    cmd = paste(\n",
    "        sprintf(\n",
    "            'find %s -name \"*snpnetBETAs.tsv\" -type f -print0',\n",
    "            file.path(PRS202110_d, 'per_trait')\n",
    "        ),\n",
    "        'sort',\n",
    "        'wc -l --files0-from=-',\n",
    "        'tr \" \"  \"\\t\"',\n",
    "        sprintf('sed -e \"s+%s++g\"', file.path(PRS202110_d, 'per_trait')),\n",
    "        sep=' | '\n",
    "    ),\n",
    "    head = F,\n",
    "    col.names = c('wc_l', 'beta_f')\n",
    ") %>%\n",
    "filter(beta_f != 'total') %>%\n",
    "mutate(\n",
    "    GBE_ID = str_replace(str_replace(beta_f, '^/', ''), '.snpnetBETAs.tsv$', ''),\n",
    "    n_variables = wc_l - 1\n",
    ") %>%\n",
    "select(GBE_ID, n_variables) -> n_variables_df\n"
   ]
  },
  {
   "cell_type": "code",
   "execution_count": 5,
   "id": "4ffdea73",
   "metadata": {},
   "outputs": [],
   "source": [
    "trait_list_df %>%\n",
    "pull(trait) %>%\n",
    "lapply(function(t){\n",
    "    file.path(PRS202110_d, 'per_trait', sprintf('%s.eval.tsv.gz', t)) %>%\n",
    "    fread()\n",
    "}) %>%\n",
    "bind_rows %>%\n",
    "rename_with(\n",
    "    function(x){str_replace(x, '#', '')}, starts_with(\"#\")\n",
    ") -> eval_df\n"
   ]
  },
  {
   "cell_type": "code",
   "execution_count": 6,
   "id": "f082e810",
   "metadata": {},
   "outputs": [],
   "source": [
    "trait_list_df %>%\n",
    "pull(trait) %>%\n",
    "lapply(function(t){\n",
    "    file.path(PRS202110_d, 'per_trait', sprintf('%s.PRS_pval.tsv.gz', t)) %>%\n",
    "    fread() %>%\n",
    "    filter(variable != '(Intercept)')\n",
    "}) %>%\n",
    "bind_rows %>%\n",
    "rename_with(\n",
    "    function(x){str_replace(x, '#', '')}, starts_with(\"#\")\n",
    ") -> PRS_pval_df\n"
   ]
  },
  {
   "cell_type": "code",
   "execution_count": 81,
   "id": "dccbaa01",
   "metadata": {},
   "outputs": [],
   "source": [
    "# compute FDR (BH) on the significance (p-value) of the PRS models in the WB test set\n",
    "eval_df %>%\n",
    "filter(\n",
    "    metric %in% c('auc', 'r2'),\n",
    "    str_detect(predictors, '^PRS_'),\n",
    "    split == 'test'\n",
    ") %>%\n",
    "rename('trait'='response', 'WBtest_P'='P') %>%\n",
    "select(trait, WBtest_P) -> WBtestP_df\n",
    "WBtestP_df$WBtest_BHq <- p.adjust(WBtestP_df$WBtest_P, method = 'BH')\n",
    "\n",
    "WBtestP_df %>%\n",
    "mutate(\n",
    "    WBtest_is_significant = (WBtest_BHq) < 0.05\n",
    ") -> WBtestP_df\n"
   ]
  },
  {
   "cell_type": "code",
   "execution_count": 82,
   "id": "78bfc489",
   "metadata": {},
   "outputs": [],
   "source": [
    "# combine all the info\n",
    "trait_list_df %>%\n",
    "right_join(\n",
    "    eval_df %>% \n",
    "    rename('trait'='response') %>%\n",
    "    separate(predictors, c('model', NA), sep='_', extra='drop'),\n",
    "    by=\"trait\"\n",
    ") %>%\n",
    "left_join(\n",
    "    n_variables_df, by=c('trait'='GBE_ID')\n",
    ") %>%\n",
    "left_join(\n",
    "    WBtestP_df, by = \"trait\"\n",
    ") -> full_df\n"
   ]
  },
  {
   "cell_type": "code",
   "execution_count": 83,
   "id": "8473c21e",
   "metadata": {},
   "outputs": [
    {
     "name": "stdout",
     "output_type": "stream",
     "text": [
      "[1] 1565\n",
      "  n_traits\n",
      "1     1565\n"
     ]
    }
   ],
   "source": [
    "trait_list_df %>% nrow %>% print\n",
    "full_df %>% summarise(n_traits = n_distinct(trait)) %>% print"
   ]
  },
  {
   "cell_type": "code",
   "execution_count": 84,
   "id": "42f0de82",
   "metadata": {},
   "outputs": [],
   "source": [
    "full_df %>% \n",
    "rename('#trait' = 'trait') %>%\n",
    "fwrite(eval_full_f, sep='\\t', na = \"NA\", quote=F)\n"
   ]
  },
  {
   "cell_type": "code",
   "execution_count": 85,
   "id": "0b677318",
   "metadata": {},
   "outputs": [],
   "source": [
    "full_df %>% \n",
    "rename('#trait' = 'trait') %>%\n",
    "fwrite(file.path(PRS202110_d, basename(eval_full_f)), sep='\\t', na = \"NA\", quote=F)\n"
   ]
  },
  {
   "cell_type": "code",
   "execution_count": 104,
   "id": "6720beeb",
   "metadata": {},
   "outputs": [],
   "source": [
    "# compute the incremental predictive performance\n",
    "# (pred_delta: defined as difference of the full model vs. covariate-only model)\n",
    "eval_df %>%\n",
    "rename('trait'='response') %>%\n",
    "separate(predictors, c('model', NA), sep='_', extra='drop') %>%\n",
    "filter(\n",
    "    metric %in% c('auc', 'r2'),\n",
    "    split == 'test'\n",
    ") %>% \n",
    "select(all_of(c('trait', 'model', 'eval'))) %>%\n",
    "spread(model, `eval`) %>% \n",
    "mutate(pred_delta = full - covar) %>%\n",
    "rename(\n",
    "    'pred_geno'='PRS',\n",
    "    'pred_covar'='covar',\n",
    "    'pred_full'='full'\n",
    ") -> predictive_performance_in_WBtest_df\n"
   ]
  },
  {
   "cell_type": "code",
   "execution_count": 109,
   "id": "f0b400b7",
   "metadata": {},
   "outputs": [],
   "source": [
    "trait_list_df %>%\n",
    "left_join(\n",
    "    predictive_performance_in_WBtest_df, by = \"trait\"\n",
    ") %>%\n",
    "left_join(\n",
    "    n_variables_df, by=c('trait'='GBE_ID')\n",
    ") %>%\n",
    "left_join(\n",
    "    WBtestP_df, by = \"trait\"\n",
    ") -> traits_w_metrics_df\n"
   ]
  },
  {
   "cell_type": "code",
   "execution_count": 111,
   "id": "ef53fde2",
   "metadata": {},
   "outputs": [
    {
     "name": "stdout",
     "output_type": "stream",
     "text": [
      "[1] 1565\n",
      "[1] 1565\n"
     ]
    }
   ],
   "source": [
    "trait_list_df %>% nrow %>% print\n",
    "traits_w_metrics_df %>% nrow %>% print\n"
   ]
  },
  {
   "cell_type": "code",
   "execution_count": 113,
   "id": "6ee23564",
   "metadata": {},
   "outputs": [],
   "source": [
    "traits_w_metrics_df %>%\n",
    "rename('#trait' = 'trait') %>%\n",
    "fwrite(traits_w_metrics_f, sep='\\t', na = \"NA\", quote=F)\n"
   ]
  },
  {
   "cell_type": "markdown",
   "id": "c6784a41",
   "metadata": {},
   "source": [
    "## appendix"
   ]
  },
  {
   "cell_type": "code",
   "execution_count": 129,
   "id": "c3ad601a",
   "metadata": {},
   "outputs": [],
   "source": [
    "# appendix\n",
    "PRS_pval_df %>% \n",
    "separate(variable, c(NA, 'trait'), sep='_', extra='merge', remove=FALSE) %>%\n",
    "select(all_of(c(\n",
    "    'trait', 'split', 'variable', 'estimate', 'SE', 'z_or_t_value', 'P'\n",
    "))) %>%\n",
    "rename('#trait' = 'trait') %>%\n",
    "fwrite(file.path(PRS202110_d, 'PRS_pval.tsv.gz'), sep='\\t', na = \"NA\", quote=F)\n"
   ]
  },
  {
   "cell_type": "code",
   "execution_count": 139,
   "id": "3c94f78a",
   "metadata": {},
   "outputs": [],
   "source": [
    "eval_df %>%\n",
    "filter(\n",
    "    metric %in% c('auc', 'r2'),\n",
    "    str_detect(predictors, 'PRS_')\n",
    ") %>%\n",
    "left_join(\n",
    "    PRS_pval_df,\n",
    "    by = c(\"predictors\"=\"variable\", \"split\" = \"split\")\n",
    ") -> P_comparison_df"
   ]
  },
  {
   "cell_type": "code",
   "execution_count": 145,
   "id": "38554ede",
   "metadata": {},
   "outputs": [
    {
     "data": {
      "text/html": [
       "<table class=\"dataframe\">\n",
       "<caption>A data.table: 2 × 16</caption>\n",
       "<thead>\n",
       "\t<tr><th scope=col>response</th><th scope=col>predictors</th><th scope=col>metric</th><th scope=col>eval</th><th scope=col>l_eval</th><th scope=col>u_eval</th><th scope=col>P.x</th><th scope=col>split</th><th scope=col>n</th><th scope=col>case_n</th><th scope=col>control_n</th><th scope=col>estimate</th><th scope=col>SE</th><th scope=col>z_or_t_value</th><th scope=col>P.y</th><th scope=col>P.diff</th></tr>\n",
       "\t<tr><th scope=col>&lt;chr&gt;</th><th scope=col>&lt;chr&gt;</th><th scope=col>&lt;chr&gt;</th><th scope=col>&lt;dbl&gt;</th><th scope=col>&lt;dbl&gt;</th><th scope=col>&lt;dbl&gt;</th><th scope=col>&lt;dbl&gt;</th><th scope=col>&lt;chr&gt;</th><th scope=col>&lt;int&gt;</th><th scope=col>&lt;int&gt;</th><th scope=col>&lt;int&gt;</th><th scope=col>&lt;dbl&gt;</th><th scope=col>&lt;dbl&gt;</th><th scope=col>&lt;dbl&gt;</th><th scope=col>&lt;dbl&gt;</th><th scope=col>&lt;dbl&gt;</th></tr>\n",
       "</thead>\n",
       "<tbody>\n",
       "\t<tr><td>INI23034</td><td>PRS_INI23034</td><td>r2</td><td>0</td><td>0</td><td>0</td><td>Inf</td><td>e_asian</td><td>41</td><td>NA</td><td>NA</td><td>NA</td><td>NA</td><td>NA</td><td>NA</td><td>NA</td></tr>\n",
       "\t<tr><td>INI23299</td><td>PRS_INI23299</td><td>r2</td><td>0</td><td>0</td><td>0</td><td>Inf</td><td>e_asian</td><td>15</td><td>NA</td><td>NA</td><td>NA</td><td>NA</td><td>NA</td><td>NA</td><td>NA</td></tr>\n",
       "</tbody>\n",
       "</table>\n"
      ],
      "text/latex": [
       "A data.table: 2 × 16\n",
       "\\begin{tabular}{llllllllllllllll}\n",
       " response & predictors & metric & eval & l\\_eval & u\\_eval & P.x & split & n & case\\_n & control\\_n & estimate & SE & z\\_or\\_t\\_value & P.y & P.diff\\\\\n",
       " <chr> & <chr> & <chr> & <dbl> & <dbl> & <dbl> & <dbl> & <chr> & <int> & <int> & <int> & <dbl> & <dbl> & <dbl> & <dbl> & <dbl>\\\\\n",
       "\\hline\n",
       "\t INI23034 & PRS\\_INI23034 & r2 & 0 & 0 & 0 & Inf & e\\_asian & 41 & NA & NA & NA & NA & NA & NA & NA\\\\\n",
       "\t INI23299 & PRS\\_INI23299 & r2 & 0 & 0 & 0 & Inf & e\\_asian & 15 & NA & NA & NA & NA & NA & NA & NA\\\\\n",
       "\\end{tabular}\n"
      ],
      "text/markdown": [
       "\n",
       "A data.table: 2 × 16\n",
       "\n",
       "| response &lt;chr&gt; | predictors &lt;chr&gt; | metric &lt;chr&gt; | eval &lt;dbl&gt; | l_eval &lt;dbl&gt; | u_eval &lt;dbl&gt; | P.x &lt;dbl&gt; | split &lt;chr&gt; | n &lt;int&gt; | case_n &lt;int&gt; | control_n &lt;int&gt; | estimate &lt;dbl&gt; | SE &lt;dbl&gt; | z_or_t_value &lt;dbl&gt; | P.y &lt;dbl&gt; | P.diff &lt;dbl&gt; |\n",
       "|---|---|---|---|---|---|---|---|---|---|---|---|---|---|---|---|\n",
       "| INI23034 | PRS_INI23034 | r2 | 0 | 0 | 0 | Inf | e_asian | 41 | NA | NA | NA | NA | NA | NA | NA |\n",
       "| INI23299 | PRS_INI23299 | r2 | 0 | 0 | 0 | Inf | e_asian | 15 | NA | NA | NA | NA | NA | NA | NA |\n",
       "\n"
      ],
      "text/plain": [
       "  response predictors   metric eval l_eval u_eval P.x split   n  case_n\n",
       "1 INI23034 PRS_INI23034 r2     0    0      0      Inf e_asian 41 NA    \n",
       "2 INI23299 PRS_INI23299 r2     0    0      0      Inf e_asian 15 NA    \n",
       "  control_n estimate SE z_or_t_value P.y P.diff\n",
       "1 NA        NA       NA NA           NA  NA    \n",
       "2 NA        NA       NA NA           NA  NA    "
      ]
     },
     "metadata": {},
     "output_type": "display_data"
    }
   ],
   "source": [
    "P_comparison_df %>% \n",
    "mutate(P.diff = P.x - P.y) %>%\n",
    "filter(is.na(P.diff))"
   ]
  },
  {
   "cell_type": "code",
   "execution_count": 148,
   "id": "ee5b0de8",
   "metadata": {},
   "outputs": [
    {
     "name": "stdout",
     "output_type": "stream",
     "text": [
      "  max_diff\n",
      "1        0\n"
     ]
    }
   ],
   "source": [
    "P_comparison_df %>% \n",
    "drop_na(P.x, P.y) %>%\n",
    "mutate(P.diff = P.x - P.y) %>%\n",
    "summarise(max_diff = max(abs(P.diff))) %>%\n",
    "print"
   ]
  },
  {
   "cell_type": "code",
   "execution_count": 149,
   "id": "e3340743",
   "metadata": {},
   "outputs": [
    {
     "data": {
      "image/png": "[encoded data removed]",
      "text/plain": [
       "plot without title"
      ]
     },
     "metadata": {
      "image/png": {
       "height": 420,
       "width": 420
      },
      "text/plain": {
       "height": 420,
       "width": 420
      }
     },
     "output_type": "display_data"
    }
   ],
   "source": [
    "P_comparison_df %>% \n",
    "drop_na(P.x, P.y) %>%\n",
    "ggplot(aes(x = -log10(P.x), y = -log10(P.y))) +\n",
    "geom_point() +\n",
    "theme_bw(base_size=16)\n"
   ]
  },
  {
   "cell_type": "code",
   "execution_count": 57,
   "id": "2ebbbcda",
   "metadata": {},
   "outputs": [
    {
     "data": {
      "text/html": [
       "<table class=\"dataframe\">\n",
       "<caption>A data.table: 4 × 4</caption>\n",
       "<thead>\n",
       "\t<tr><th scope=col>WBtest_BHq &lt; 0.05</th><th scope=col>WBtest_P &lt; (0.05/1565)</th><th scope=col>WBtest_P &lt; (0.05/2000)</th><th scope=col>n</th></tr>\n",
       "\t<tr><th scope=col>&lt;lgl&gt;</th><th scope=col>&lt;lgl&gt;</th><th scope=col>&lt;lgl&gt;</th><th scope=col>&lt;int&gt;</th></tr>\n",
       "</thead>\n",
       "<tbody>\n",
       "\t<tr><td>FALSE</td><td>FALSE</td><td>FALSE</td><td>582</td></tr>\n",
       "\t<tr><td> TRUE</td><td>FALSE</td><td>FALSE</td><td>166</td></tr>\n",
       "\t<tr><td> TRUE</td><td> TRUE</td><td>FALSE</td><td>  4</td></tr>\n",
       "\t<tr><td> TRUE</td><td> TRUE</td><td> TRUE</td><td>813</td></tr>\n",
       "</tbody>\n",
       "</table>\n"
      ],
      "text/latex": [
       "A data.table: 4 × 4\n",
       "\\begin{tabular}{llll}\n",
       " WBtest\\_BHq < 0.05 & WBtest\\_P < (0.05/1565) & WBtest\\_P < (0.05/2000) & n\\\\\n",
       " <lgl> & <lgl> & <lgl> & <int>\\\\\n",
       "\\hline\n",
       "\t FALSE & FALSE & FALSE & 582\\\\\n",
       "\t  TRUE & FALSE & FALSE & 166\\\\\n",
       "\t  TRUE &  TRUE & FALSE &   4\\\\\n",
       "\t  TRUE &  TRUE &  TRUE & 813\\\\\n",
       "\\end{tabular}\n"
      ],
      "text/markdown": [
       "\n",
       "A data.table: 4 × 4\n",
       "\n",
       "| WBtest_BHq &lt; 0.05 &lt;lgl&gt; | WBtest_P &lt; (0.05/1565) &lt;lgl&gt; | WBtest_P &lt; (0.05/2000) &lt;lgl&gt; | n &lt;int&gt; |\n",
       "|---|---|---|---|\n",
       "| FALSE | FALSE | FALSE | 582 |\n",
       "|  TRUE | FALSE | FALSE | 166 |\n",
       "|  TRUE |  TRUE | FALSE |   4 |\n",
       "|  TRUE |  TRUE |  TRUE | 813 |\n",
       "\n"
      ],
      "text/plain": [
       "  WBtest_BHq < 0.05 WBtest_P < (0.05/1565) WBtest_P < (0.05/2000) n  \n",
       "1 FALSE             FALSE                  FALSE                  582\n",
       "2  TRUE             FALSE                  FALSE                  166\n",
       "3  TRUE              TRUE                  FALSE                    4\n",
       "4  TRUE              TRUE                   TRUE                  813"
      ]
     },
     "metadata": {},
     "output_type": "display_data"
    }
   ],
   "source": [
    "WBtestP_df %>% count(WBtest_BHq < 0.05, WBtest_P < (0.05/1565), WBtest_P < (0.05/2000))"
   ]
  },
  {
   "cell_type": "code",
   "execution_count": 54,
   "id": "702c604f",
   "metadata": {},
   "outputs": [
    {
     "data": {
      "image/png": "[encoded data removed]",
      "text/plain": [
       "Plot with title “Histogram of -log10(WBtestP_df$WBtest_BHq)”"
      ]
     },
     "metadata": {
      "image/png": {
       "height": 420,
       "width": 420
      },
      "text/plain": {
       "height": 420,
       "width": 420
      }
     },
     "output_type": "display_data"
    }
   ],
   "source": [
    "hist(-log10(WBtestP_df$WBtest_BHq))"
   ]
  },
  {
   "cell_type": "code",
   "execution_count": null,
   "id": "2dd4a539",
   "metadata": {},
   "outputs": [],
   "source": []
  }
 ],
 "metadata": {
  "kernelspec": {
   "display_name": "R",
   "language": "R",
   "name": "ir"
  },
  "language_info": {
   "codemirror_mode": "r",
   "file_extension": ".r",
   "mimetype": "text/x-r-source",
   "name": "R",
   "pygments_lexer": "r",
   "version": "3.6.2"
  }
 },
 "nbformat": 4,
 "nbformat_minor": 5
}

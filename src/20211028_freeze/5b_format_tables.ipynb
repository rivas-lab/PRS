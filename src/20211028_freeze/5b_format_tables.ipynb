{
 "cells": [
  {
   "cell_type": "markdown",
   "metadata": {},
   "source": [
    "# PRS map - format tables\n",
    "\n",
    "Yosuke Tanigawa\n"
   ]
  },
  {
   "cell_type": "markdown",
   "metadata": {},
   "source": [
    "## library, functions, and constants"
   ]
  },
  {
   "cell_type": "code",
   "execution_count": 1,
   "metadata": {},
   "outputs": [],
   "source": [
    "suppressWarnings(suppressPackageStartupMessages({\n",
    "    library(tidyverse)\n",
    "    library(data.table)\n",
    "}))\n"
   ]
  },
  {
   "cell_type": "code",
   "execution_count": 2,
   "metadata": {},
   "outputs": [],
   "source": [
    "source('paths.sh')"
   ]
  },
  {
   "cell_type": "code",
   "execution_count": 3,
   "metadata": {},
   "outputs": [],
   "source": [
    "# GWAS h2 table (heritability)\n",
    "GWAS_h2_f %>% \n",
    "fread() %>%\n",
    "rename_with(\n",
    "    function(x){str_replace(x, '#', '')}, starts_with(\"#\")\n",
    ") -> GWAS_h2_df\n"
   ]
  },
  {
   "cell_type": "code",
   "execution_count": 4,
   "metadata": {},
   "outputs": [],
   "source": [
    "# PGS catalog ID mapping\n",
    "\"PRSmap_PGScatalog_mapping.tsv\" %>%\n",
    "fread() -> PGScatalog_IDs_df"
   ]
  },
  {
   "cell_type": "code",
   "execution_count": 5,
   "metadata": {},
   "outputs": [],
   "source": [
    "# evaluation full results\n",
    "eval_full_f %>%\n",
    "fread() %>%\n",
    "rename_with(\n",
    "    function(x){str_replace(x, '#', '')}, starts_with(\"#\")\n",
    ") -> eval_full_df\n"
   ]
  },
  {
   "cell_type": "code",
   "execution_count": 6,
   "metadata": {},
   "outputs": [],
   "source": [
    "# convert it to a long format\n",
    "eval_full_df %>%\n",
    "select(all_of(c(\n",
    "    \"trait\", \"split\", \"model\", \"metric\", \"eval\"\n",
    "))) %>% \n",
    "pivot_wider(\n",
    "    names_from = c(\"model\"),\n",
    "    values_from = c(\"eval\")\n",
    ") %>%\n",
    "mutate(\n",
    "    delta = full - covar\n",
    ") %>%\n",
    "pivot_longer(\n",
    "    all_of(c(\"PRS\", \"covar\", \"full\", \"delta\")),\n",
    "    names_to = c(\"model\")\n",
    ") -> eval_long_without_trait_info_df\n"
   ]
  },
  {
   "cell_type": "code",
   "execution_count": 7,
   "metadata": {},
   "outputs": [],
   "source": [
    "# complie trait info into one data frame\n",
    "eval_long_without_trait_info_df %>%\n",
    "filter(\n",
    "    split == \"test\",\n",
    "    metric %in% c(\"r2\", \"NagelkerkeR2\")\n",
    ") %>%\n",
    "select(trait, model, value) %>%\n",
    "mutate(model = paste(\"pred\", model, sep=\"_\")) %>%\n",
    "pivot_wider(\n",
    "    names_from = c(\"model\"), \n",
    "    values_from = c(\"value\")\n",
    ") %>%\n",
    "left_join(\n",
    "    eval_full_df %>%\n",
    "    select(all_of(c(\n",
    "        'trait', 'trait_name', 'trait_category', 'trait_category_plot', 'family',\n",
    "        'n_variables', 'WBtest_P', 'WBtest_BYq', \n",
    "        'WBtest_is_significant', 'WBtest_BHq'\n",
    "    ))) %>% unique,\n",
    "    by = \"trait\"\n",
    ") %>%\n",
    "left_join(\n",
    "    PGScatalog_IDs_df %>%\n",
    "    select(trait, PGScatalog_ID, EFO_ID, EFO_label),\n",
    "    by = \"trait\"\n",
    ") %>%\n",
    "mutate(\n",
    "    trait_label=sprintf('%s (%s)', trait_name, trait),\n",
    ") %>%\n",
    "select(all_of(c(\n",
    "    'trait', 'trait_name', 'trait_category', 'trait_category_plot', 'family',\n",
    "    \"pred_PRS\", \"pred_covar\", \"pred_full\", \"pred_delta\",\n",
    "    'n_variables', 'WBtest_P', 'WBtest_BYq', \n",
    "    'WBtest_is_significant', 'WBtest_BHq', \"trait_label\",\n",
    "    'PGScatalog_ID', \"EFO_ID\", \"EFO_label\"\n",
    "))) -> traits_w_metrics_df\n"
   ]
  },
  {
   "cell_type": "code",
   "execution_count": 8,
   "metadata": {},
   "outputs": [],
   "source": [
    "eval_long_without_trait_info_df %>%\n",
    "left_join(\n",
    "    # we add trait characteristics\n",
    "    traits_w_metrics_df %>%\n",
    "    select(-pred_PRS, -pred_covar, -pred_full, -pred_delta),\n",
    "    by = \"trait\"\n",
    ") -> eval_long_df\n"
   ]
  },
  {
   "cell_type": "markdown",
   "metadata": {},
   "source": [
    "## write to files"
   ]
  },
  {
   "cell_type": "code",
   "execution_count": 10,
   "metadata": {},
   "outputs": [],
   "source": [
    "eval_long_df %>%\n",
    "rename('#trait' = 'trait') %>%\n",
    "fwrite(eval_fullwDelta_f, sep='\\t', na = \"NA\", quote=F)\n"
   ]
  },
  {
   "cell_type": "code",
   "execution_count": 11,
   "metadata": {},
   "outputs": [],
   "source": [
    "eval_long_df %>% \n",
    "rename('#trait' = 'trait') %>%\n",
    "fwrite(file.path(PRS202110_d, basename(eval_fullwDelta_f)), sep='\\t', na = \"NA\", quote=F)\n"
   ]
  },
  {
   "cell_type": "code",
   "execution_count": 9,
   "metadata": {},
   "outputs": [
    {
     "data": {
      "text/html": [
       "<style>\n",
       ".list-inline {list-style: none; margin:0; padding: 0}\n",
       ".list-inline>li {display: inline-block}\n",
       ".list-inline>li:not(:last-child)::after {content: \"\\00b7\"; padding: 0 .5ex}\n",
       "</style>\n",
       "<ol class=list-inline><li>1565</li><li>18</li></ol>\n"
      ],
      "text/latex": [
       "\\begin{enumerate*}\n",
       "\\item 1565\n",
       "\\item 18\n",
       "\\end{enumerate*}\n"
      ],
      "text/markdown": [
       "1. 1565\n",
       "2. 18\n",
       "\n",
       "\n"
      ],
      "text/plain": [
       "[1] 1565   18"
      ]
     },
     "metadata": {},
     "output_type": "display_data"
    }
   ],
   "source": [
    "traits_w_metrics_df %>% dim"
   ]
  },
  {
   "cell_type": "code",
   "execution_count": 13,
   "metadata": {},
   "outputs": [],
   "source": [
    "traits_w_metrics_df %>%\n",
    "rename('#trait' = 'trait') %>%\n",
    "fwrite(traits_w_metrics_f, sep='\\t', na = \"NA\", quote=F)\n"
   ]
  },
  {
   "cell_type": "code",
   "execution_count": 52,
   "metadata": {},
   "outputs": [],
   "source": [
    "if(! file.exists('LDSCh2.tsv')) {\n",
    "    eval_full_df %>% \n",
    "    filter(\n",
    "        split %in% c(\"train_val\", \"test\")\n",
    "    ) %>%\n",
    "    select(trait, split, case_n, control_n) %>%\n",
    "    unique() %>% \n",
    "    group_by(trait) %>%\n",
    "    summarise(\n",
    "        WB_case_n = sum(case_n),\n",
    "        WB_control_n = sum(control_n)\n",
    "    ) %>%\n",
    "    mutate(\n",
    "        WB_prev = WB_case_n / (WB_case_n + WB_control_n)\n",
    "    ) -> WB_prev_df\n",
    "    \n",
    "    WB_prev_df$WB_prev_z <- dnorm(qnorm(\n",
    "        WB_prev_df$WB_prev, lower.tail = FALSE\n",
    "    ))\n",
    "    \n",
    "    traits_w_metrics_df %>%\n",
    "    filter(WBtest_is_significant) %>%\n",
    "    select(trait, trait_name, trait_category, family) %>%\n",
    "    left_join(GWAS_h2_df, by=c('trait'='p')) %>%\n",
    "    left_join(WB_prev_df, by=\"trait\") %>%\n",
    "    mutate(\n",
    "        # compute liability-scale heritability\n",
    "        h2_liability = h2_obs * WB_prev * (1 - WB_prev) / (WB_prev_z * WB_prev_z)\n",
    "    ) %>%\n",
    "    rename('#trait' = 'trait') %>%\n",
    "    fwrite('LDSCh2.tsv', sep='\\t', na = \"NA\", quote=F)    \n",
    "}\n"
   ]
  },
  {
   "cell_type": "code",
   "execution_count": 50,
   "metadata": {},
   "outputs": [
    {
     "data": {
      "text/html": [
       "<table class=\"dataframe\">\n",
       "<caption>A tibble: 2 × 3</caption>\n",
       "<thead>\n",
       "\t<tr><th scope=col>WBtest_is_significant</th><th scope=col>binomial</th><th scope=col>gaussian</th></tr>\n",
       "\t<tr><th scope=col>&lt;lgl&gt;</th><th scope=col>&lt;int&gt;</th><th scope=col>&lt;int&gt;</th></tr>\n",
       "</thead>\n",
       "<tbody>\n",
       "\t<tr><td> TRUE</td><td>244</td><td>569</td></tr>\n",
       "\t<tr><td>FALSE</td><td>450</td><td>302</td></tr>\n",
       "</tbody>\n",
       "</table>\n"
      ],
      "text/latex": [
       "A tibble: 2 × 3\n",
       "\\begin{tabular}{lll}\n",
       " WBtest\\_is\\_significant & binomial & gaussian\\\\\n",
       " <lgl> & <int> & <int>\\\\\n",
       "\\hline\n",
       "\t  TRUE & 244 & 569\\\\\n",
       "\t FALSE & 450 & 302\\\\\n",
       "\\end{tabular}\n"
      ],
      "text/markdown": [
       "\n",
       "A tibble: 2 × 3\n",
       "\n",
       "| WBtest_is_significant &lt;lgl&gt; | binomial &lt;int&gt; | gaussian &lt;int&gt; |\n",
       "|---|---|---|\n",
       "|  TRUE | 244 | 569 |\n",
       "| FALSE | 450 | 302 |\n",
       "\n"
      ],
      "text/plain": [
       "  WBtest_is_significant binomial gaussian\n",
       "1  TRUE                 244      569     \n",
       "2 FALSE                 450      302     "
      ]
     },
     "metadata": {},
     "output_type": "display_data"
    }
   ],
   "source": [
    "traits_w_metrics_df%>%\n",
    "count(WBtest_is_significant, family) %>%\n",
    "spread(family, n) %>%\n",
    "arrange(-WBtest_is_significant)\n"
   ]
  },
  {
   "cell_type": "code",
   "execution_count": null,
   "metadata": {},
   "outputs": [],
   "source": []
  }
 ],
 "metadata": {
  "kernelspec": {
   "display_name": "R",
   "language": "R",
   "name": "ir"
  },
  "language_info": {
   "codemirror_mode": "r",
   "file_extension": ".r",
   "mimetype": "text/x-r-source",
   "name": "R",
   "pygments_lexer": "r",
   "version": "4.1.2"
  }
 },
 "nbformat": 4,
 "nbformat_minor": 4
}

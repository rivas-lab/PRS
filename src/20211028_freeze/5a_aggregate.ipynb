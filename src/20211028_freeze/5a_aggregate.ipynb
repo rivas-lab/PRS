{
 "cells": [
  {
   "cell_type": "code",
   "execution_count": 1,
   "id": "4b760ed2",
   "metadata": {},
   "outputs": [],
   "source": [
    "suppressWarnings(suppressPackageStartupMessages({\n",
    "    library(tidyverse)\n",
    "    library(data.table)\n",
    "}))\n"
   ]
  },
  {
   "cell_type": "code",
   "execution_count": 2,
   "id": "fe32269b",
   "metadata": {},
   "outputs": [],
   "source": [
    "source('paths.sh')\n"
   ]
  },
  {
   "cell_type": "code",
   "execution_count": 3,
   "id": "5c44b7df",
   "metadata": {},
   "outputs": [],
   "source": [
    "trait_list_f %>%\n",
    "fread() %>%\n",
    "rename_with(\n",
    "    function(x){str_replace(x, '#', '')}, starts_with(\"#\")\n",
    ") -> trait_list_df\n"
   ]
  },
  {
   "cell_type": "code",
   "execution_count": 4,
   "id": "3971e79a",
   "metadata": {},
   "outputs": [],
   "source": [
    "fread(\n",
    "    cmd = paste(\n",
    "        sprintf(\n",
    "            'find %s -name \"*snpnetBETAs.tsv\" -type f -print0',\n",
    "            file.path(PRS202110_d, 'per_trait')\n",
    "        ),\n",
    "        'sort',\n",
    "        'wc -l --files0-from=-',\n",
    "        'tr \" \"  \"\\t\"',\n",
    "        sprintf('sed -e \"s+%s++g\"', file.path(PRS202110_d, 'per_trait')),\n",
    "        sep=' | '\n",
    "    ),\n",
    "    head = F,\n",
    "    col.names = c('wc_l', 'beta_f')\n",
    ") %>%\n",
    "filter(beta_f != 'total') %>%\n",
    "mutate(\n",
    "    GBE_ID = str_replace(str_replace(beta_f, '^/', ''), '.snpnetBETAs.tsv$', ''),\n",
    "    n_variables = wc_l - 1\n",
    ") %>%\n",
    "select(GBE_ID, n_variables) -> n_variables_df\n"
   ]
  },
  {
   "cell_type": "code",
   "execution_count": 5,
   "id": "c27bf1f6",
   "metadata": {},
   "outputs": [],
   "source": [
    "trait_list_df %>%\n",
    "pull(trait) %>%\n",
    "lapply(function(t){\n",
    "    file.path(PRS202110_d, 'per_trait', sprintf('%s.eval.tsv.gz', t)) %>%\n",
    "    fread()\n",
    "}) %>%\n",
    "bind_rows %>%\n",
    "rename_with(\n",
    "    function(x){str_replace(x, '#', '')}, starts_with(\"#\")\n",
    ") -> eval_df\n"
   ]
  },
  {
   "cell_type": "code",
   "execution_count": 6,
   "id": "8a67e339",
   "metadata": {},
   "outputs": [],
   "source": [
    "trait_list_df %>%\n",
    "pull(trait) %>%\n",
    "lapply(function(t){\n",
    "    file.path(PRS202110_d, 'per_trait', sprintf('%s.PRS_pval.tsv.gz', t)) %>%\n",
    "    fread() %>%\n",
    "    filter(variable != '(Intercept)')\n",
    "}) %>%\n",
    "bind_rows %>%\n",
    "rename_with(\n",
    "    function(x){str_replace(x, '#', '')}, starts_with(\"#\")\n",
    ") -> PRS_pval_df\n"
   ]
  },
  {
   "cell_type": "code",
   "execution_count": 150,
   "id": "81b6e96b",
   "metadata": {},
   "outputs": [],
   "source": [
    "# compute FDR (BY) on the significance (p-value) of the PRS models in the WB test set\n",
    "eval_df %>%\n",
    "filter(\n",
    "    metric %in% c('auc', 'r2'),\n",
    "    str_detect(predictors, '^PRS_'),\n",
    "    split == 'test'\n",
    ") %>%\n",
    "rename('trait'='response', 'WBtest_P'='P') %>%\n",
    "select(trait, WBtest_P) -> WBtestP_df\n",
    "WBtestP_df$WBtest_BYq <- p.adjust(WBtestP_df$WBtest_P, method = 'BY')\n",
    "WBtestP_df$WBtest_BHq <- p.adjust(WBtestP_df$WBtest_P, method = 'BH')\n"
   ]
  },
  {
   "cell_type": "code",
   "execution_count": 189,
   "id": "9a452c3d",
   "metadata": {},
   "outputs": [
    {
     "data": {
      "text/html": [
       "<table class=\"dataframe\">\n",
       "<caption>A data.table: 5 × 5</caption>\n",
       "<thead>\n",
       "\t<tr><th scope=col>WBtest_BHq &lt; 0.01</th><th scope=col>WBtest_BYq &lt; 0.01</th><th scope=col>WBtest_P &lt; (0.05/1565)</th><th scope=col>WBtest_P &lt; (0.05/2000)</th><th scope=col>n</th></tr>\n",
       "\t<tr><th scope=col>&lt;lgl&gt;</th><th scope=col>&lt;lgl&gt;</th><th scope=col>&lt;lgl&gt;</th><th scope=col>&lt;lgl&gt;</th><th scope=col>&lt;int&gt;</th></tr>\n",
       "</thead>\n",
       "<tbody>\n",
       "\t<tr><td>FALSE</td><td>FALSE</td><td>FALSE</td><td>FALSE</td><td>657</td></tr>\n",
       "\t<tr><td> TRUE</td><td>FALSE</td><td>FALSE</td><td>FALSE</td><td> 36</td></tr>\n",
       "\t<tr><td> TRUE</td><td> TRUE</td><td>FALSE</td><td>FALSE</td><td> 55</td></tr>\n",
       "\t<tr><td> TRUE</td><td> TRUE</td><td> TRUE</td><td>FALSE</td><td>  4</td></tr>\n",
       "\t<tr><td> TRUE</td><td> TRUE</td><td> TRUE</td><td> TRUE</td><td>813</td></tr>\n",
       "</tbody>\n",
       "</table>\n"
      ],
      "text/latex": [
       "A data.table: 5 × 5\n",
       "\\begin{tabular}{lllll}\n",
       " WBtest\\_BHq < 0.01 & WBtest\\_BYq < 0.01 & WBtest\\_P < (0.05/1565) & WBtest\\_P < (0.05/2000) & n\\\\\n",
       " <lgl> & <lgl> & <lgl> & <lgl> & <int>\\\\\n",
       "\\hline\n",
       "\t FALSE & FALSE & FALSE & FALSE & 657\\\\\n",
       "\t  TRUE & FALSE & FALSE & FALSE &  36\\\\\n",
       "\t  TRUE &  TRUE & FALSE & FALSE &  55\\\\\n",
       "\t  TRUE &  TRUE &  TRUE & FALSE &   4\\\\\n",
       "\t  TRUE &  TRUE &  TRUE &  TRUE & 813\\\\\n",
       "\\end{tabular}\n"
      ],
      "text/markdown": [
       "\n",
       "A data.table: 5 × 5\n",
       "\n",
       "| WBtest_BHq &lt; 0.01 &lt;lgl&gt; | WBtest_BYq &lt; 0.01 &lt;lgl&gt; | WBtest_P &lt; (0.05/1565) &lt;lgl&gt; | WBtest_P &lt; (0.05/2000) &lt;lgl&gt; | n &lt;int&gt; |\n",
       "|---|---|---|---|---|\n",
       "| FALSE | FALSE | FALSE | FALSE | 657 |\n",
       "|  TRUE | FALSE | FALSE | FALSE |  36 |\n",
       "|  TRUE |  TRUE | FALSE | FALSE |  55 |\n",
       "|  TRUE |  TRUE |  TRUE | FALSE |   4 |\n",
       "|  TRUE |  TRUE |  TRUE |  TRUE | 813 |\n",
       "\n"
      ],
      "text/plain": [
       "  WBtest_BHq < 0.01 WBtest_BYq < 0.01 WBtest_P < (0.05/1565)\n",
       "1 FALSE             FALSE             FALSE                 \n",
       "2  TRUE             FALSE             FALSE                 \n",
       "3  TRUE              TRUE             FALSE                 \n",
       "4  TRUE              TRUE              TRUE                 \n",
       "5  TRUE              TRUE              TRUE                 \n",
       "  WBtest_P < (0.05/2000) n  \n",
       "1 FALSE                  657\n",
       "2 FALSE                   36\n",
       "3 FALSE                   55\n",
       "4 FALSE                    4\n",
       "5  TRUE                  813"
      ]
     },
     "metadata": {},
     "output_type": "display_data"
    }
   ],
   "source": [
    "WBtestP_df %>%\n",
    "count(\n",
    "    WBtest_BHq < .01,\n",
    "    WBtest_BYq < .01,\n",
    "    WBtest_P < (.05 / 1565),\n",
    "    WBtest_P < (.05 / 2000)\n",
    ") \n"
   ]
  },
  {
   "cell_type": "code",
   "execution_count": 190,
   "id": "ce0615f4",
   "metadata": {},
   "outputs": [],
   "source": [
    "WBtestP_df %>%\n",
    "mutate(\n",
    "    WBtest_is_significant = WBtest_P < (.05 / 2000)\n",
    ") -> WBtestP_df\n"
   ]
  },
  {
   "cell_type": "code",
   "execution_count": 191,
   "id": "3123c7cc",
   "metadata": {},
   "outputs": [],
   "source": [
    "# combine all the info\n",
    "trait_list_df %>%\n",
    "right_join(\n",
    "    eval_df %>% \n",
    "    rename('trait'='response') %>%\n",
    "    separate(predictors, c('model', NA), sep='_', extra='drop'),\n",
    "    by=\"trait\"\n",
    ") %>%\n",
    "left_join(\n",
    "    n_variables_df, by=c('trait'='GBE_ID')\n",
    ") %>%\n",
    "left_join(\n",
    "    WBtestP_df, by = \"trait\"\n",
    ") -> full_df\n"
   ]
  },
  {
   "cell_type": "code",
   "execution_count": 192,
   "id": "8e3d0aa8",
   "metadata": {},
   "outputs": [
    {
     "name": "stdout",
     "output_type": "stream",
     "text": [
      "[1] 1565\n",
      "  n_traits\n",
      "1     1565\n"
     ]
    }
   ],
   "source": [
    "trait_list_df %>% nrow %>% print\n",
    "full_df %>% summarise(n_traits = n_distinct(trait)) %>% print"
   ]
  },
  {
   "cell_type": "code",
   "execution_count": 193,
   "id": "c048afa7",
   "metadata": {},
   "outputs": [],
   "source": [
    "full_df %>% \n",
    "rename('#trait' = 'trait') %>%\n",
    "fwrite(eval_full_f, sep='\\t', na = \"NA\", quote=F)\n"
   ]
  },
  {
   "cell_type": "code",
   "execution_count": 194,
   "id": "479206c7",
   "metadata": {},
   "outputs": [],
   "source": [
    "full_df %>% \n",
    "rename('#trait' = 'trait') %>%\n",
    "fwrite(file.path(PRS202110_d, basename(eval_full_f)), sep='\\t', na = \"NA\", quote=F)\n"
   ]
  },
  {
   "cell_type": "markdown",
   "id": "7588bba2",
   "metadata": {},
   "source": [
    "## appendix"
   ]
  },
  {
   "cell_type": "code",
   "execution_count": 5,
   "id": "6e3b5ad8",
   "metadata": {},
   "outputs": [],
   "source": [
    "# # compute the incremental predictive performance\n",
    "# # (pred_delta: defined as difference of the full model vs. covariate-only model)\n",
    "# eval_df %>%\n",
    "# rename('trait'='response') %>%\n",
    "# separate(predictors, c('model', NA), sep='_', extra='drop') %>%\n",
    "# filter(\n",
    "#     metric %in% c('auc', 'r2'),\n",
    "#     split == 'test'\n",
    "# ) %>% \n",
    "# select(all_of(c('trait', 'model', 'eval'))) %>%\n",
    "# spread(model, `eval`) %>% \n",
    "# mutate(pred_delta = full - covar) %>%\n",
    "# rename(\n",
    "#     'pred_geno'='PRS',\n",
    "#     'pred_covar'='covar',\n",
    "#     'pred_full'='full'\n",
    "# ) -> predictive_performance_in_WBtest_df\n"
   ]
  },
  {
   "cell_type": "code",
   "execution_count": 6,
   "id": "b596d957",
   "metadata": {},
   "outputs": [],
   "source": [
    "# trait_list_df %>%\n",
    "# left_join(\n",
    "#     predictive_performance_in_WBtest_df, by = \"trait\"\n",
    "# ) %>%\n",
    "# left_join(\n",
    "#     n_variables_df, by=c('trait'='GBE_ID')\n",
    "# ) %>%\n",
    "# left_join(\n",
    "#     WBtestP_df, by = \"trait\"\n",
    "# ) -> traits_w_metrics_df\n"
   ]
  },
  {
   "cell_type": "code",
   "execution_count": 7,
   "id": "27100945",
   "metadata": {},
   "outputs": [],
   "source": [
    "# trait_list_df %>% nrow %>% print\n",
    "# traits_w_metrics_df %>% nrow %>% print\n"
   ]
  },
  {
   "cell_type": "code",
   "execution_count": 8,
   "id": "486f6c94",
   "metadata": {},
   "outputs": [],
   "source": [
    "# traits_w_metrics_df %>%\n",
    "# rename('#trait' = 'trait') %>%\n",
    "# fwrite(traits_w_metrics_f, sep='\\t', na = \"NA\", quote=F)\n"
   ]
  },
  {
   "cell_type": "code",
   "execution_count": 199,
   "id": "e3b9a5de",
   "metadata": {},
   "outputs": [],
   "source": [
    "# appendix\n",
    "PRS_pval_df %>% \n",
    "separate(variable, c(NA, 'trait'), sep='_', extra='merge', remove=FALSE) %>%\n",
    "select(all_of(c(\n",
    "    'trait', 'split', 'variable', 'estimate', 'SE', 'z_or_t_value', 'P'\n",
    "))) %>%\n",
    "rename('#trait' = 'trait') %>%\n",
    "fwrite(file.path(PRS202110_d, 'PRS_pval.tsv.gz'), sep='\\t', na = \"NA\", quote=F)\n"
   ]
  },
  {
   "cell_type": "code",
   "execution_count": 200,
   "id": "29213418",
   "metadata": {},
   "outputs": [],
   "source": [
    "eval_df %>%\n",
    "filter(\n",
    "    metric %in% c('auc', 'r2'),\n",
    "    str_detect(predictors, 'PRS_')\n",
    ") %>%\n",
    "left_join(\n",
    "    PRS_pval_df,\n",
    "    by = c(\"predictors\"=\"variable\", \"split\" = \"split\")\n",
    ") -> P_comparison_df"
   ]
  },
  {
   "cell_type": "code",
   "execution_count": 201,
   "id": "a1fc5ca0",
   "metadata": {},
   "outputs": [
    {
     "data": {
      "text/html": [
       "<table class=\"dataframe\">\n",
       "<caption>A data.table: 2 × 16</caption>\n",
       "<thead>\n",
       "\t<tr><th scope=col>response</th><th scope=col>predictors</th><th scope=col>metric</th><th scope=col>eval</th><th scope=col>l_eval</th><th scope=col>u_eval</th><th scope=col>P.x</th><th scope=col>split</th><th scope=col>n</th><th scope=col>case_n</th><th scope=col>control_n</th><th scope=col>estimate</th><th scope=col>SE</th><th scope=col>z_or_t_value</th><th scope=col>P.y</th><th scope=col>P.diff</th></tr>\n",
       "\t<tr><th scope=col>&lt;chr&gt;</th><th scope=col>&lt;chr&gt;</th><th scope=col>&lt;chr&gt;</th><th scope=col>&lt;dbl&gt;</th><th scope=col>&lt;dbl&gt;</th><th scope=col>&lt;dbl&gt;</th><th scope=col>&lt;dbl&gt;</th><th scope=col>&lt;chr&gt;</th><th scope=col>&lt;int&gt;</th><th scope=col>&lt;int&gt;</th><th scope=col>&lt;int&gt;</th><th scope=col>&lt;dbl&gt;</th><th scope=col>&lt;dbl&gt;</th><th scope=col>&lt;dbl&gt;</th><th scope=col>&lt;dbl&gt;</th><th scope=col>&lt;dbl&gt;</th></tr>\n",
       "</thead>\n",
       "<tbody>\n",
       "\t<tr><td>INI23034</td><td>PRS_INI23034</td><td>r2</td><td>0</td><td>0</td><td>0</td><td>Inf</td><td>e_asian</td><td>41</td><td>NA</td><td>NA</td><td>NA</td><td>NA</td><td>NA</td><td>NA</td><td>NA</td></tr>\n",
       "\t<tr><td>INI23299</td><td>PRS_INI23299</td><td>r2</td><td>0</td><td>0</td><td>0</td><td>Inf</td><td>e_asian</td><td>15</td><td>NA</td><td>NA</td><td>NA</td><td>NA</td><td>NA</td><td>NA</td><td>NA</td></tr>\n",
       "</tbody>\n",
       "</table>\n"
      ],
      "text/latex": [
       "A data.table: 2 × 16\n",
       "\\begin{tabular}{llllllllllllllll}\n",
       " response & predictors & metric & eval & l\\_eval & u\\_eval & P.x & split & n & case\\_n & control\\_n & estimate & SE & z\\_or\\_t\\_value & P.y & P.diff\\\\\n",
       " <chr> & <chr> & <chr> & <dbl> & <dbl> & <dbl> & <dbl> & <chr> & <int> & <int> & <int> & <dbl> & <dbl> & <dbl> & <dbl> & <dbl>\\\\\n",
       "\\hline\n",
       "\t INI23034 & PRS\\_INI23034 & r2 & 0 & 0 & 0 & Inf & e\\_asian & 41 & NA & NA & NA & NA & NA & NA & NA\\\\\n",
       "\t INI23299 & PRS\\_INI23299 & r2 & 0 & 0 & 0 & Inf & e\\_asian & 15 & NA & NA & NA & NA & NA & NA & NA\\\\\n",
       "\\end{tabular}\n"
      ],
      "text/markdown": [
       "\n",
       "A data.table: 2 × 16\n",
       "\n",
       "| response &lt;chr&gt; | predictors &lt;chr&gt; | metric &lt;chr&gt; | eval &lt;dbl&gt; | l_eval &lt;dbl&gt; | u_eval &lt;dbl&gt; | P.x &lt;dbl&gt; | split &lt;chr&gt; | n &lt;int&gt; | case_n &lt;int&gt; | control_n &lt;int&gt; | estimate &lt;dbl&gt; | SE &lt;dbl&gt; | z_or_t_value &lt;dbl&gt; | P.y &lt;dbl&gt; | P.diff &lt;dbl&gt; |\n",
       "|---|---|---|---|---|---|---|---|---|---|---|---|---|---|---|---|\n",
       "| INI23034 | PRS_INI23034 | r2 | 0 | 0 | 0 | Inf | e_asian | 41 | NA | NA | NA | NA | NA | NA | NA |\n",
       "| INI23299 | PRS_INI23299 | r2 | 0 | 0 | 0 | Inf | e_asian | 15 | NA | NA | NA | NA | NA | NA | NA |\n",
       "\n"
      ],
      "text/plain": [
       "  response predictors   metric eval l_eval u_eval P.x split   n  case_n\n",
       "1 INI23034 PRS_INI23034 r2     0    0      0      Inf e_asian 41 NA    \n",
       "2 INI23299 PRS_INI23299 r2     0    0      0      Inf e_asian 15 NA    \n",
       "  control_n estimate SE z_or_t_value P.y P.diff\n",
       "1 NA        NA       NA NA           NA  NA    \n",
       "2 NA        NA       NA NA           NA  NA    "
      ]
     },
     "metadata": {},
     "output_type": "display_data"
    }
   ],
   "source": [
    "P_comparison_df %>% \n",
    "mutate(P.diff = P.x - P.y) %>%\n",
    "filter(is.na(P.diff))"
   ]
  },
  {
   "cell_type": "code",
   "execution_count": 202,
   "id": "11f42735",
   "metadata": {},
   "outputs": [
    {
     "name": "stdout",
     "output_type": "stream",
     "text": [
      "  max_diff\n",
      "1        0\n"
     ]
    }
   ],
   "source": [
    "P_comparison_df %>% \n",
    "drop_na(P.x, P.y) %>%\n",
    "mutate(P.diff = P.x - P.y) %>%\n",
    "summarise(max_diff = max(abs(P.diff))) %>%\n",
    "print"
   ]
  },
  {
   "cell_type": "code",
   "execution_count": 203,
   "id": "d145802d",
   "metadata": {},
   "outputs": [
    {
     "data": {
      "image/png": "[encoded data removed]",
      "text/plain": [
       "plot without title"
      ]
     },
     "metadata": {
      "image/png": {
       "height": 420,
       "width": 420
      },
      "text/plain": {
       "height": 420,
       "width": 420
      }
     },
     "output_type": "display_data"
    }
   ],
   "source": [
    "P_comparison_df %>% \n",
    "drop_na(P.x, P.y) %>%\n",
    "ggplot(aes(x = -log10(P.x), y = -log10(P.y))) +\n",
    "geom_point() +\n",
    "theme_bw(base_size=16)\n"
   ]
  },
  {
   "cell_type": "code",
   "execution_count": 204,
   "id": "198bf5e7",
   "metadata": {},
   "outputs": [
    {
     "data": {
      "text/html": [
       "<style>\n",
       ".list-inline {list-style: none; margin:0; padding: 0}\n",
       ".list-inline>li {display: inline-block}\n",
       ".list-inline>li:not(:last-child)::after {content: \"\\00b7\"; padding: 0 .5ex}\n",
       "</style>\n",
       "<ol class=list-inline><li>1565</li><li>5</li></ol>\n"
      ],
      "text/latex": [
       "\\begin{enumerate*}\n",
       "\\item 1565\n",
       "\\item 5\n",
       "\\end{enumerate*}\n"
      ],
      "text/markdown": [
       "1. 1565\n",
       "2. 5\n",
       "\n",
       "\n"
      ],
      "text/plain": [
       "[1] 1565    5"
      ]
     },
     "metadata": {},
     "output_type": "display_data"
    }
   ],
   "source": [
    "WBtestP_df %>% dim"
   ]
  },
  {
   "cell_type": "code",
   "execution_count": null,
   "id": "f063e317",
   "metadata": {},
   "outputs": [],
   "source": []
  }
 ],
 "metadata": {
  "kernelspec": {
   "display_name": "R",
   "language": "R",
   "name": "ir"
  },
  "language_info": {
   "codemirror_mode": "r",
   "file_extension": ".r",
   "mimetype": "text/x-r-source",
   "name": "R",
   "pygments_lexer": "r",
   "version": "3.6.2"
  }
 },
 "nbformat": 4,
 "nbformat_minor": 5
}

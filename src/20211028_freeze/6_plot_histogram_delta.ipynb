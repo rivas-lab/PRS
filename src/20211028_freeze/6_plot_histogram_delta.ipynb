{
 "cells": [
  {
   "cell_type": "markdown",
   "metadata": {},
   "source": [
    "# PRS map - summary plots - histogram of incremental predictive performance\n",
    "\n",
    "Yosuke Tanigawa\n"
   ]
  },
  {
   "cell_type": "markdown",
   "metadata": {},
   "source": [
    "## library, functions, and constants"
   ]
  },
  {
   "cell_type": "code",
   "execution_count": 1,
   "metadata": {},
   "outputs": [],
   "source": [
    "suppressWarnings(suppressPackageStartupMessages({\n",
    "    library(tidyverse)\n",
    "    library(data.table)\n",
    "}))\n"
   ]
  },
  {
   "cell_type": "code",
   "execution_count": 2,
   "metadata": {},
   "outputs": [
    {
     "name": "stderr",
     "output_type": "stream",
     "text": [
      "\u001b[36mℹ\u001b[39m Loading \u001b[34m\u001b[34mcud4\u001b[34m\u001b[39m\n",
      "\n",
      "\u001b[36mℹ\u001b[39m Loading \u001b[34m\u001b[34msnpnet\u001b[34m\u001b[39m\n",
      "\n"
     ]
    }
   ],
   "source": [
    "source('paths.sh')\n",
    "devtools::load_all(cud4_d)\n",
    "devtools::load_all(dirname(dirname(snpnet_helper)))\n",
    "source(snpnet_helper)\n"
   ]
  },
  {
   "cell_type": "code",
   "execution_count": 3,
   "metadata": {},
   "outputs": [],
   "source": [
    "traits_w_metrics_f %>%\n",
    "fread() %>%\n",
    "rename_with(\n",
    "    function(x){str_replace(x, '#', '')}, starts_with(\"#\")\n",
    ") -> traits_w_metrics_df\n",
    "\n",
    "\n",
    "eval_fullwDelta_f %>%\n",
    "fread() %>%\n",
    "rename_with(\n",
    "    function(x){str_replace(x, '#', '')}, starts_with(\"#\")\n",
    ") -> eval_long_df\n"
   ]
  },
  {
   "cell_type": "markdown",
   "metadata": {},
   "source": [
    "## Histogram - incremental predictive performance"
   ]
  },
  {
   "cell_type": "code",
   "execution_count": 6,
   "metadata": {},
   "outputs": [],
   "source": [
    "plot_incremental_predictive_performance <- function(eval_long_df, metric_selected){\n",
    "    eval_long_df %>%\n",
    "    filter(\n",
    "        WBtest_is_significant,\n",
    "        metric == metric_selected,\n",
    "        split == \"test\",\n",
    "        model == \"delta\"\n",
    "    ) %>%\n",
    "    ggplot(aes(x = value)) +\n",
    "    geom_vline(xintercept = 0, color='red') +\n",
    "    geom_histogram(bins=30) +\n",
    "    theme_bw(base_size = 16) +\n",
    "    labs(\n",
    "        y = 'Number of traits'\n",
    "    )\n",
    "}\n"
   ]
  },
  {
   "cell_type": "code",
   "execution_count": 24,
   "metadata": {},
   "outputs": [],
   "source": [
    "for(ext in c('png', 'pdf')){\n",
    "    ggsave(\n",
    "        file.path(\"plots\", sprintf('incremental-R2.%s', ext)),\n",
    "        gridExtra::arrangeGrob(\n",
    "            # Nagelkerke's pseudo-R2\n",
    "            eval_long_df %>%\n",
    "            filter(family == 'binomial') %>%\n",
    "            plot_incremental_predictive_performance(\"NagelkerkeR2\") +\n",
    "            labs(\n",
    "                title = 'Binary traits (Binomial model)',\n",
    "                x = latex2exp::TeX(\"Incremental Nagelkerke's $\\\\\\\\textit{R}^{2}$\")\n",
    "            ),\n",
    "            # quantitative traits (R2)\n",
    "            eval_long_df %>%\n",
    "            filter(family == 'gaussian') %>%\n",
    "            plot_incremental_predictive_performance(\"r2\") +\n",
    "            labs(\n",
    "                title = 'Quantitative traits (Gaussian model)',\n",
    "                x = latex2exp::TeX('Incremental \\\\textit{R}$^2$')\n",
    "            ),\n",
    "            ncol=2\n",
    "        ),\n",
    "        width=16, height=8\n",
    "    )\n",
    "    \n",
    "    ggsave(\n",
    "        file.path(\"plots\", sprintf('incremental-R2noBiomarkers.%s', ext)),\n",
    "        # quantitative traits (R2), without biomarker traits\n",
    "        eval_long_df %>%\n",
    "        filter(family == 'gaussian') %>%\n",
    "        filter(trait_category != \"Biomarkers\") %>%\n",
    "        plot_incremental_predictive_performance(\"r2\") +\n",
    "        labs(\n",
    "            title = 'Quantitative traits (Gaussian model)\\n(non-biomarker traits only)',\n",
    "            x = latex2exp::TeX('Incremental \\\\textit{R}$^2$')\n",
    "        ),\n",
    "        width=8, height=8\n",
    "    )\n",
    "\n",
    "    ggsave(\n",
    "        file.path(\"plots\", sprintf('incremental-AUC.%s', ext)),\n",
    "        # binomial traits (AUC)\n",
    "        eval_long_df %>%\n",
    "        filter(family == 'binomial') %>%\n",
    "        plot_incremental_predictive_performance(\"auc\") +\n",
    "        labs(\n",
    "            title = 'Binary traits (Binomial model)',\n",
    "            x = latex2exp::TeX('Incremental AUC')\n",
    "        ),\n",
    "        width=8, height=8\n",
    "    )\n",
    "    \n",
    "    ggsave(\n",
    "        file.path(\"plots\", sprintf('incremental-TjurR2.%s', ext)),\n",
    "        # Tjur's pseudo-R2\n",
    "        eval_long_df %>%\n",
    "        filter(family == 'binomial') %>%\n",
    "        plot_incremental_predictive_performance(\"TjurR2\") +\n",
    "        labs(\n",
    "            title = 'Binary traits (Binomial model)',\n",
    "            x = latex2exp::TeX(\"Incremental Tjur's $\\\\\\\\textit{R}^{2}$\")\n",
    "        ),\n",
    "        width=8, height=8\n",
    "    )\n",
    "}\n"
   ]
  },
  {
   "cell_type": "code",
   "execution_count": null,
   "metadata": {},
   "outputs": [],
   "source": []
  }
 ],
 "metadata": {
  "kernelspec": {
   "display_name": "R",
   "language": "R",
   "name": "ir"
  },
  "language_info": {
   "codemirror_mode": "r",
   "file_extension": ".r",
   "mimetype": "text/x-r-source",
   "name": "R",
   "pygments_lexer": "r",
   "version": "3.6.2"
  }
 },
 "nbformat": 4,
 "nbformat_minor": 4
}

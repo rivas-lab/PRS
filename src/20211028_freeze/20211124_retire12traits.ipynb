{
 "cells": [
  {
   "cell_type": "code",
   "execution_count": 1,
   "id": "00b813eb",
   "metadata": {},
   "outputs": [],
   "source": [
    "suppressWarnings(suppressPackageStartupMessages({\n",
    "    library(tidyverse)\n",
    "    library(data.table)\n",
    "}))\n"
   ]
  },
  {
   "cell_type": "markdown",
   "id": "3358f36c",
   "metadata": {},
   "source": [
    "Sam's list had 791 traits, which was based on our previous request: (41 - 52 + 415).\n",
    "\n",
    "On the other hand, the list should have 779 traits (813 - (35 -1)).\n",
    "\n",
    "The 12 traits in the difference should be removed. 4 traits are due to the change in p-value and 8 were due to trait clean-up."
   ]
  },
  {
   "cell_type": "code",
   "execution_count": 2,
   "id": "19bf3b1e",
   "metadata": {},
   "outputs": [],
   "source": [
    "'PGP000244.20111123.csv' %>%\n",
    "fread %>%\n",
    "rename_with(\n",
    "    function(x){str_replace(x, '#', '')}, starts_with(\"#\")\n",
    ") %>%\n",
    "rename(PGS_ID = id)-> PGP000244_df\n"
   ]
  },
  {
   "cell_type": "code",
   "execution_count": 3,
   "id": "4f908cd1",
   "metadata": {},
   "outputs": [],
   "source": [
    "'traits_w_metrics.tsv' %>%\n",
    "fread %>%\n",
    "rename_with(\n",
    "    function(x){str_replace(x, '#', '')}, starts_with(\"#\")\n",
    ") -> traits_w_metrics_df\n"
   ]
  },
  {
   "cell_type": "code",
   "execution_count": 4,
   "id": "657ea37a",
   "metadata": {},
   "outputs": [],
   "source": [
    "PGP000244_df %>%\n",
    "filter(\n",
    "    ! name %in% (\n",
    "        traits_w_metrics_df %>%\n",
    "        filter(WBtest_is_significant) %>%\n",
    "        mutate(trait = paste0('GBE_', trait)) %>%\n",
    "        pull(trait)\n",
    "    )\n",
    ") -> retire12_df\n"
   ]
  },
  {
   "cell_type": "code",
   "execution_count": 6,
   "id": "c7d8bf15",
   "metadata": {},
   "outputs": [],
   "source": [
    "retire12_df %>%\n",
    "rename('#id' = 'PGS_ID') %>%\n",
    "fwrite('20211124_12traits_retire.tsv', sep='\\t', na = \"NA\", quote=F)\n"
   ]
  },
  {
   "cell_type": "code",
   "execution_count": null,
   "id": "ff23f512",
   "metadata": {},
   "outputs": [],
   "source": []
  }
 ],
 "metadata": {
  "kernelspec": {
   "display_name": "R",
   "language": "R",
   "name": "ir"
  },
  "language_info": {
   "codemirror_mode": "r",
   "file_extension": ".r",
   "mimetype": "text/x-r-source",
   "name": "R",
   "pygments_lexer": "r",
   "version": "3.6.2"
  }
 },
 "nbformat": 4,
 "nbformat_minor": 5
}

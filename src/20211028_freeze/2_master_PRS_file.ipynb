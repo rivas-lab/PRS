{
 "cells": [
  {
   "cell_type": "markdown",
   "id": "graphic-kidney",
   "metadata": {},
   "source": [
    "# master PRS file\n",
    "\n",
    "We will create the master PRS file using the following steps:\n",
    "\n",
    "- read the trait list\n",
    "- read the biomarker trait list\n",
    "- read the PRS files from biomarker project (35 traits)\n",
    "  - rename the columns as needed\n",
    "  - be careful with the handling of 32 + 3 biomarkers\n",
    "  - the following 3 traits does NOT have the original measurement\n",
    "    - AST ALT ratio\n",
    "    - eGFR\n",
    "    - NAP non-alubumin protein\n",
    "    - so we will use the INI300.. number for those\n",
    "- read master PRS file from the previous iteration\n",
    "- join them together\n",
    "- join with covariates\n",
    "- sort the columns\n",
    "- save it to a file\n",
    "- compess it (outside of the notebook)\n"
   ]
  },
  {
   "cell_type": "code",
   "execution_count": 1,
   "id": "innovative-center",
   "metadata": {},
   "outputs": [],
   "source": [
    "suppressWarnings(suppressPackageStartupMessages({\n",
    "    library(tidyverse)\n",
    "    library(data.table)\n",
    "}))\n",
    "\n"
   ]
  },
  {
   "cell_type": "code",
   "execution_count": 40,
   "id": "sought-namibia",
   "metadata": {},
   "outputs": [],
   "source": [
    "source('paths.sh')\n",
    "source(snpnet_helper)\n",
    "source(fPRS_helper)\n"
   ]
  },
  {
   "cell_type": "code",
   "execution_count": 18,
   "id": "upper-innocent",
   "metadata": {},
   "outputs": [],
   "source": [
    "trait_list_f %>%\n",
    "fread() %>%\n",
    "rename_with(function(x){str_replace(x, '#', '')}, starts_with(\"#\")) -> trait_list_df\n",
    "\n",
    "biomarkers_mapping_f %>%\n",
    "fread() %>%\n",
    "rename_with(function(x){str_replace(x, '#', '')}, starts_with(\"#\")) -> biomarkers_mapping_df\n",
    "\n"
   ]
  },
  {
   "cell_type": "code",
   "execution_count": 19,
   "id": "postal-refrigerator",
   "metadata": {},
   "outputs": [
    {
     "name": "stdout",
     "output_type": "stream",
     "text": [
      "[1] 1565    5\n",
      "[1] 35  4\n"
     ]
    }
   ],
   "source": [
    "trait_list_df        %>% dim %>% print\n",
    "biomarkers_mapping_df %>% dim %>% print\n"
   ]
  },
  {
   "cell_type": "code",
   "execution_count": 28,
   "id": "ideal-example",
   "metadata": {},
   "outputs": [],
   "source": [
    "1:nrow(biomarkers_mapping_df) %>%\n",
    "lapply(function(biomarkers_idx){\n",
    "\n",
    "    biomarkers_snpnet_f %>%\n",
    "    str_replace_all(\n",
    "        '__TRAIT__', biomarkers_mapping_df$annotation[biomarkers_idx]\n",
    "    )%>%\n",
    "    read_sscore_file() %>%\n",
    "    rename(\n",
    "        !!sprintf('PRS_%s', biomarkers_mapping_df$trait[biomarkers_idx]) := 3\n",
    "    ) \n",
    "}) %>%\n",
    "reduce(function(x,y){inner_join(x,y,by=c(\"FID\", \"IID\"))}) -> PRS_biomarkers_df\n"
   ]
  },
  {
   "cell_type": "code",
   "execution_count": 35,
   "id": "valid-danger",
   "metadata": {},
   "outputs": [],
   "source": [
    "PRS202009_f %>%\n",
    "read_sscore_file(\n",
    "    columns = paste0(\n",
    "        'PRS_',\n",
    "        trait_list_df %>%\n",
    "        filter(trait_category != 'Biomarkers') %>%\n",
    "        pull(trait)\n",
    "    )\n",
    ") -> PRS_others_df\n"
   ]
  },
  {
   "cell_type": "code",
   "execution_count": 43,
   "id": "freelance-plastic",
   "metadata": {},
   "outputs": [],
   "source": [
    "# read the covariates\n",
    "sample_qc_f %>%\n",
    "fread(\n",
    "    colClasses = c(\n",
    "        '#FID'='character', 'IID'='character', 'population' = \"character\",\n",
    "        'split' = \"character\",\n",
    "        'split_nonWB' = \"character\"\n",
    "    )\n",
    ") %>%\n",
    "rename_with(\n",
    "    function(x){str_replace(x, '#', '')}, starts_with(\"#\")\n",
    ") -> sample_qc_df\n"
   ]
  },
  {
   "cell_type": "code",
   "execution_count": 48,
   "id": "photographic-specification",
   "metadata": {},
   "outputs": [
    {
     "name": "stdout",
     "output_type": "stream",
     "text": [
      "[1] 488377     95\n",
      "[1] 488377   1532\n",
      "[1] 488377     37\n"
     ]
    }
   ],
   "source": [
    "sample_qc_df      %>% dim %>% print\n",
    "PRS_others_df     %>% dim %>% print\n",
    "PRS_biomarkers_df %>% dim %>% print\n"
   ]
  },
  {
   "cell_type": "code",
   "execution_count": 39,
   "id": "hearing-score",
   "metadata": {},
   "outputs": [
    {
     "data": {
      "text/html": [
       "1565"
      ],
      "text/latex": [
       "1565"
      ],
      "text/markdown": [
       "1565"
      ],
      "text/plain": [
       "[1] 1565"
      ]
     },
     "metadata": {},
     "output_type": "display_data"
    }
   ],
   "source": [
    "ncol(PRS_others_df) - 2 + ncol(PRS_biomarkers_df) - 2"
   ]
  },
  {
   "cell_type": "code",
   "execution_count": 50,
   "id": "incoming-berry",
   "metadata": {},
   "outputs": [],
   "source": [
    "sample_qc_df %>%\n",
    "left_join(\n",
    "    PRS_biomarkers_df, by=c(\"FID\", \"IID\")\n",
    ") %>%\n",
    "left_join(\n",
    "    PRS_others_df, by=c(\"FID\", \"IID\")\n",
    ") %>%\n",
    "select(all_of(c(\n",
    "    colnames(sample_qc_df),\n",
    "    paste0(\n",
    "        'PRS_',\n",
    "        trait_list_df %>%\n",
    "        pull(trait)\n",
    "    )\n",
    "))) -> master_PRS_df\n"
   ]
  },
  {
   "cell_type": "code",
   "execution_count": 51,
   "id": "passing-reasoning",
   "metadata": {},
   "outputs": [
    {
     "name": "stdout",
     "output_type": "stream",
     "text": [
      "[1] 488377   1660\n"
     ]
    },
    {
     "data": {
      "text/html": [
       "1660"
      ],
      "text/latex": [
       "1660"
      ],
      "text/markdown": [
       "1660"
      ],
      "text/plain": [
       "[1] 1660"
      ]
     },
     "metadata": {},
     "output_type": "display_data"
    }
   ],
   "source": [
    "master_PRS_df %>% dim %>% print\n",
    "\n",
    "95 + 1565"
   ]
  },
  {
   "cell_type": "code",
   "execution_count": 53,
   "id": "bronze-telling",
   "metadata": {},
   "outputs": [
    {
     "data": {
      "text/html": [
       "'/scratch/groups/mrivas/projects/PRS/20211028_freeze/ukb24983_PRSmap.20211029.phe'"
      ],
      "text/latex": [
       "'/scratch/groups/mrivas/projects/PRS/20211028\\_freeze/ukb24983\\_PRSmap.20211029.phe'"
      ],
      "text/markdown": [
       "'/scratch/groups/mrivas/projects/PRS/20211028_freeze/ukb24983_PRSmap.20211029.phe'"
      ],
      "text/plain": [
       "[1] \"/scratch/groups/mrivas/projects/PRS/20211028_freeze/ukb24983_PRSmap.20211029.phe\""
      ]
     },
     "metadata": {},
     "output_type": "display_data"
    }
   ],
   "source": [
    "str_replace(PRS202110_f, '.gz$', '')"
   ]
  },
  {
   "cell_type": "code",
   "execution_count": 54,
   "id": "thrown-jenny",
   "metadata": {},
   "outputs": [],
   "source": [
    "master_PRS_df %>%\n",
    "rename('#FID' = 'FID') %>%\n",
    "fwrite(\n",
    "    str_replace(PRS202110_f, '.gz$', ''),\n",
    "    sep='\\t', na = \"NA\", quote=F\n",
    ")\n"
   ]
  },
  {
   "cell_type": "code",
   "execution_count": null,
   "id": "weekly-tactics",
   "metadata": {},
   "outputs": [],
   "source": []
  }
 ],
 "metadata": {
  "kernelspec": {
   "display_name": "R",
   "language": "R",
   "name": "ir"
  },
  "language_info": {
   "codemirror_mode": "r",
   "file_extension": ".r",
   "mimetype": "text/x-r-source",
   "name": "R",
   "pygments_lexer": "r",
   "version": "3.6.2"
  }
 },
 "nbformat": 4,
 "nbformat_minor": 5
}

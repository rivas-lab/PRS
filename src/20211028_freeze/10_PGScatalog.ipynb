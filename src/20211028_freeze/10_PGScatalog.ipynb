{
 "cells": [
  {
   "cell_type": "code",
   "execution_count": 1,
   "id": "e60d98a8",
   "metadata": {},
   "outputs": [],
   "source": [
    "suppressWarnings(suppressPackageStartupMessages({\n",
    "    library(tidyverse)\n",
    "    library(data.table)\n",
    "}))\n"
   ]
  },
  {
   "cell_type": "code",
   "execution_count": 2,
   "id": "dc4d3cce",
   "metadata": {},
   "outputs": [],
   "source": [
    "source('paths.sh')"
   ]
  },
  {
   "cell_type": "code",
   "execution_count": 3,
   "id": "0b528a39",
   "metadata": {},
   "outputs": [],
   "source": [
    "traits_w_metrics_f %>%\n",
    "fread() %>%\n",
    "rename_with(\n",
    "    function(x){str_replace(x, '#', '')}, starts_with(\"#\")\n",
    ") -> traits_w_metrics_df\n"
   ]
  },
  {
   "cell_type": "code",
   "execution_count": 4,
   "id": "e2b1761e",
   "metadata": {},
   "outputs": [],
   "source": [
    "eval_full_f %>%\n",
    "fread() %>%\n",
    "rename_with(\n",
    "    function(x){str_replace(x, '#', '')}, starts_with(\"#\")\n",
    ") -> eval_full_df\n"
   ]
  },
  {
   "cell_type": "code",
   "execution_count": 5,
   "id": "16088804",
   "metadata": {},
   "outputs": [],
   "source": [
    "PGS_scores_all_df <- readxl::read_excel(\n",
    "#     \"https://ftp.ebi.ac.uk/pub/databases/spot/pgs/metadata/pgs_all_metadata.xlsx\", \n",
    "    \"pgs_all_metadata.xlsx\",\n",
    "    sheet = \"Scores\"\n",
    ")\n"
   ]
  },
  {
   "cell_type": "code",
   "execution_count": 6,
   "id": "5880f816",
   "metadata": {},
   "outputs": [],
   "source": [
    "biomarkers_mapping_f %>%\n",
    "fread() %>%\n",
    "rename_with(\n",
    "    function(x){str_replace(x, '#', '')}, starts_with(\"#\")\n",
    ") -> biomarkers_mapping_df\n"
   ]
  },
  {
   "cell_type": "code",
   "execution_count": 7,
   "id": "3e6c3912",
   "metadata": {},
   "outputs": [],
   "source": [
    "'Biomarkers_PGS_catalog_mapping.csv' %>%\n",
    "fread() %>%\n",
    "rename_with(\n",
    "    function(x){str_replace(x, '#', '')}, starts_with(\"#\")\n",
    ") %>%\n",
    "select(all_of(c('GBE ID', 'PGS catalog score ID'))) %>%\n",
    "left_join(\n",
    "    PGS_scores_all_df %>%\n",
    "    select(all_of(c('PGS Name', 'Polygenic Score (PGS) ID'))),\n",
    "    by=c('PGS catalog score ID'='Polygenic Score (PGS) ID')\n",
    ") -> biomarkers_PGScatalog_mapping_df\n"
   ]
  },
  {
   "cell_type": "markdown",
   "id": "fda03426",
   "metadata": {},
   "source": [
    "## Biomarker traits\n",
    "\n",
    "- https://www.pgscatalog.org/publication/PGP000128/"
   ]
  },
  {
   "cell_type": "code",
   "execution_count": 8,
   "id": "c70e323f",
   "metadata": {},
   "outputs": [],
   "source": [
    "biomarkers_mapping_df %>%\n",
    "select(trait, Biomarkers_covariate_adjusted_GBE_ID) %>%\n",
    "gather(col, val) %>%\n",
    "mutate(PGS_Name = paste0('GBE_', val)) %>%\n",
    "pull(PGS_Name) %>%\n",
    "unique -> biomarker_PGS_Names\n"
   ]
  },
  {
   "cell_type": "code",
   "execution_count": 9,
   "id": "1b6dc420",
   "metadata": {},
   "outputs": [],
   "source": [
    "PGS_scores_all_df %>%\n",
    "filter(\n",
    "    `PGS Name` %in% biomarker_PGS_Names\n",
    ") -> PGS_drop_request_df\n",
    "\n"
   ]
  },
  {
   "cell_type": "code",
   "execution_count": 10,
   "id": "3439870d",
   "metadata": {},
   "outputs": [
    {
     "name": "stdout",
     "output_type": "stream",
     "text": [
      "[1] 52 19\n"
     ]
    }
   ],
   "source": [
    "PGS_drop_request_df %>% dim %>% print\n"
   ]
  },
  {
   "cell_type": "code",
   "execution_count": 11,
   "id": "c6acbd64",
   "metadata": {},
   "outputs": [],
   "source": [
    "PGS_drop_request_df %>%\n",
    "fwrite('PGScatalog/PGS_drop_request.tsv', sep='\\t', na = \"NA\", quote=F)\n"
   ]
  },
  {
   "cell_type": "markdown",
   "id": "afd79938",
   "metadata": {},
   "source": [
    "## List of PGS scores"
   ]
  },
  {
   "cell_type": "code",
   "execution_count": 12,
   "id": "f3984363",
   "metadata": {},
   "outputs": [
    {
     "data": {
      "text/html": [
       "<table class=\"dataframe\">\n",
       "<caption>A data.table: 4 × 3</caption>\n",
       "<thead>\n",
       "\t<tr><th scope=col>trait_category != \"Biomarkers\"</th><th scope=col>WBtest_is_significant</th><th scope=col>n</th></tr>\n",
       "\t<tr><th scope=col>&lt;lgl&gt;</th><th scope=col>&lt;lgl&gt;</th><th scope=col>&lt;int&gt;</th></tr>\n",
       "</thead>\n",
       "<tbody>\n",
       "\t<tr><td>FALSE</td><td>FALSE</td><td>  1</td></tr>\n",
       "\t<tr><td>FALSE</td><td> TRUE</td><td> 34</td></tr>\n",
       "\t<tr><td> TRUE</td><td>FALSE</td><td>751</td></tr>\n",
       "\t<tr><td> TRUE</td><td> TRUE</td><td>779</td></tr>\n",
       "</tbody>\n",
       "</table>\n"
      ],
      "text/latex": [
       "A data.table: 4 × 3\n",
       "\\begin{tabular}{lll}\n",
       " trait\\_category != \"Biomarkers\" & WBtest\\_is\\_significant & n\\\\\n",
       " <lgl> & <lgl> & <int>\\\\\n",
       "\\hline\n",
       "\t FALSE & FALSE &   1\\\\\n",
       "\t FALSE &  TRUE &  34\\\\\n",
       "\t  TRUE & FALSE & 751\\\\\n",
       "\t  TRUE &  TRUE & 779\\\\\n",
       "\\end{tabular}\n"
      ],
      "text/markdown": [
       "\n",
       "A data.table: 4 × 3\n",
       "\n",
       "| trait_category != \"Biomarkers\" &lt;lgl&gt; | WBtest_is_significant &lt;lgl&gt; | n &lt;int&gt; |\n",
       "|---|---|---|\n",
       "| FALSE | FALSE |   1 |\n",
       "| FALSE |  TRUE |  34 |\n",
       "|  TRUE | FALSE | 751 |\n",
       "|  TRUE |  TRUE | 779 |\n",
       "\n"
      ],
      "text/plain": [
       "  trait_category != \"Biomarkers\" WBtest_is_significant n  \n",
       "1 FALSE                          FALSE                   1\n",
       "2 FALSE                           TRUE                  34\n",
       "3  TRUE                          FALSE                 751\n",
       "4  TRUE                           TRUE                 779"
      ]
     },
     "metadata": {},
     "output_type": "display_data"
    }
   ],
   "source": [
    "traits_w_metrics_df %>%\n",
    "count(\n",
    "    trait_category != 'Biomarkers',\n",
    "    WBtest_is_significant\n",
    ")"
   ]
  },
  {
   "cell_type": "code",
   "execution_count": 13,
   "id": "f0b0ede8",
   "metadata": {},
   "outputs": [],
   "source": [
    "traits_w_metrics_df %>%\n",
    "filter(\n",
    "    # we do not include biomarkers\n",
    "    trait_category != 'Biomarkers',\n",
    "    WBtest_is_significant\n",
    ") %>%\n",
    "select(trait, trait_name, n_variables) %>%\n",
    "unique %>%\n",
    "mutate(\n",
    "    URL = paste0('https://biobankengine.stanford.edu/RIVAS_HG19/snpnet/', trait),\n",
    "    trait = paste0('GBE_', trait)\n",
    ") %>% \n",
    "select(trait, trait_name, URL, n_variables) %>%\n",
    "left_join(\n",
    "    PGS_scores_all_df %>%\n",
    "    select(all_of(c('PGS Name', 'Polygenic Score (PGS) ID', 'Mapped Trait(s) (EFO ID)'))),\n",
    "    by=c('trait'='PGS Name')\n",
    ") %>%\n",
    "mutate(\n",
    "    `PGS Development Method` = 'snpnet',\n",
    "    `Original Genome Build` = 'GRCh37',\n",
    "    `Score Development Details` = '',\n",
    "    `Number of interaction terms` = 0\n",
    ") %>%\n",
    "rename(\n",
    "    'PGS Name' = 'trait',\n",
    "    'Reported Trait' = 'trait_name',\n",
    "    'Number of variants' = 'n_variables'\n",
    ") %>%\n",
    "select(all_of(c(\n",
    "    'Polygenic Score (PGS) ID',\n",
    "    'PGS Name',\n",
    "    'Reported Trait',\n",
    "    'URL',\n",
    "    'Mapped Trait(s) (EFO ID)',\n",
    "    'PGS Development Method',\n",
    "    'Score Development Details',\n",
    "    'Original Genome Build',\n",
    "    'Number of variants',\n",
    "    'Number of interaction terms'\n",
    "))) -> PGS_scores_df\n"
   ]
  },
  {
   "cell_type": "code",
   "execution_count": 14,
   "id": "4923eac2",
   "metadata": {},
   "outputs": [
    {
     "data": {
      "text/html": [
       "<table class=\"dataframe\">\n",
       "<caption>A data.table: 2 × 2</caption>\n",
       "<thead>\n",
       "\t<tr><th scope=col>`Polygenic Score (PGS) ID` == \"\"</th><th scope=col>n</th></tr>\n",
       "\t<tr><th scope=col>&lt;lgl&gt;</th><th scope=col>&lt;int&gt;</th></tr>\n",
       "</thead>\n",
       "<tbody>\n",
       "\t<tr><td>FALSE</td><td>364</td></tr>\n",
       "\t<tr><td>   NA</td><td>415</td></tr>\n",
       "</tbody>\n",
       "</table>\n"
      ],
      "text/latex": [
       "A data.table: 2 × 2\n",
       "\\begin{tabular}{ll}\n",
       " `Polygenic Score (PGS) ID` == \"\" & n\\\\\n",
       " <lgl> & <int>\\\\\n",
       "\\hline\n",
       "\t FALSE & 364\\\\\n",
       "\t    NA & 415\\\\\n",
       "\\end{tabular}\n"
      ],
      "text/markdown": [
       "\n",
       "A data.table: 2 × 2\n",
       "\n",
       "| `Polygenic Score (PGS) ID` == \"\" &lt;lgl&gt; | n &lt;int&gt; |\n",
       "|---|---|\n",
       "| FALSE | 364 |\n",
       "|    NA | 415 |\n",
       "\n"
      ],
      "text/plain": [
       "  `Polygenic Score (PGS) ID` == \"\" n  \n",
       "1 FALSE                            364\n",
       "2    NA                            415"
      ]
     },
     "metadata": {},
     "output_type": "display_data"
    }
   ],
   "source": [
    "PGS_scores_df %>%\n",
    "count(`Polygenic Score (PGS) ID` == '')"
   ]
  },
  {
   "cell_type": "code",
   "execution_count": 15,
   "id": "20dcf214",
   "metadata": {},
   "outputs": [
    {
     "name": "stdout",
     "output_type": "stream",
     "text": [
      "[1] 779  10\n"
     ]
    }
   ],
   "source": [
    "PGS_scores_df %>% dim %>% print\n",
    "PGS_scores_df %>%\n",
    "fwrite('PGScatalog/PGS_scores.tsv', sep='\\t', na = \"NA\", quote=F)\n"
   ]
  },
  {
   "cell_type": "markdown",
   "id": "e576f973",
   "metadata": {},
   "source": [
    "## Sample table"
   ]
  },
  {
   "cell_type": "code",
   "execution_count": 16,
   "id": "45fbfa24",
   "metadata": {},
   "outputs": [],
   "source": [
    "get_ancestry_df <- function(){\n",
    "    data.frame(\n",
    "        split = c('train', 'val', 'train_val', 'test', 'non_british_white', 's_asian', 'e_asian', 'african'),\n",
    "        broad_ancestral_category=c(        \n",
    "            'European',\n",
    "            'European',\n",
    "            'European',\n",
    "            'European',\n",
    "            'European',\n",
    "            'South Asian',\n",
    "            'East Asian',\n",
    "            'African unspecified'\n",
    "        ),\n",
    "        additional_ancestry_description = c(\n",
    "            'white British ancestry',\n",
    "            'white British ancestry',\n",
    "            'white British ancestry',\n",
    "            'white British ancestry',\n",
    "            'non-white British ancestry',\n",
    "            '','',''\n",
    "        ),\n",
    "        additional_sample_cohort_information = c(\n",
    "            'Training cohort (train)',\n",
    "            'Validation cohort (val) to optimize sparsity',            \n",
    "            'Training + validation cohort (train_val)',\n",
    "            'Testing cohort (heldout set)',\n",
    "            '',\n",
    "            '',\n",
    "            '',\n",
    "            ''\n",
    "        ),\n",
    "        stringsAsFactors=F\n",
    "    )\n",
    "}\n"
   ]
  },
  {
   "cell_type": "code",
   "execution_count": 17,
   "id": "e09f3a40",
   "metadata": {},
   "outputs": [],
   "source": [
    "eval_full_df %>%\n",
    "left_join(\n",
    "    biomarkers_PGScatalog_mapping_df %>%\n",
    "    select(all_of(c('GBE ID', 'PGS Name'))),\n",
    "    by=c('trait'='GBE ID')\n",
    ") %>%\n",
    "mutate(\n",
    "    associated_score_name = if_else(\n",
    "        is.na(`PGS Name`),\n",
    "        paste0('GBE_', trait),\n",
    "        `PGS Name`\n",
    "    )\n",
    ") %>%\n",
    "select(-`PGS Name`) -> eval_w_score_name_df\n"
   ]
  },
  {
   "cell_type": "code",
   "execution_count": 18,
   "id": "cd90bea9",
   "metadata": {},
   "outputs": [],
   "source": [
    "eval_w_score_name_df %>%\n",
    "filter(\n",
    "    ((trait_category == 'Biomarkers') & (split != 'train_val')) |\n",
    "    ((trait_category != 'Biomarkers') & WBtest_is_significant)\n",
    ") %>%\n",
    "select(associated_score_name, trait, split, n, case_n, control_n) %>%\n",
    "unique %>%\n",
    "left_join(get_ancestry_df(), by=\"split\") %>%\n",
    "mutate(\n",
    "    study_stage = if_else(split == 'train_val', 'Score development', 'Testing'),\n",
    "    sample_set = if_else(split == 'train_val', '', paste0(trait, '_', split)),\n",
    "    country_of_recruitment = 'UK',\n",
    "    cohort='UKB'\n",
    ") %>%\n",
    "select(\n",
    "    associated_score_name, study_stage, sample_set,\n",
    "    n, case_n, control_n,\n",
    "    broad_ancestral_category,\n",
    "    country_of_recruitment,\n",
    "    additional_ancestry_description,\n",
    "    cohort,\n",
    "    additional_sample_cohort_information\n",
    ") -> PGS_sample_df\n"
   ]
  },
  {
   "cell_type": "code",
   "execution_count": 19,
   "id": "06480f2d",
   "metadata": {},
   "outputs": [
    {
     "name": "stdout",
     "output_type": "stream",
     "text": [
      "[1] 4833   11\n"
     ]
    }
   ],
   "source": [
    "PGS_sample_df %>% dim %>% print\n",
    "PGS_sample_df %>%\n",
    "fwrite('PGScatalog/PGS_sample.tsv', sep='\\t', na = \"NA\", quote=F)\n"
   ]
  },
  {
   "cell_type": "markdown",
   "id": "bb42965b",
   "metadata": {},
   "source": [
    "## Performance metrics"
   ]
  },
  {
   "cell_type": "code",
   "execution_count": 20,
   "id": "50893265",
   "metadata": {},
   "outputs": [],
   "source": [
    "get_split_order_df <- function(){\n",
    "    data.frame(\n",
    "        split = c('train', 'val', 'train_val', 'test', 'non_british_white', 's_asian', 'e_asian', 'african'),\n",
    "        split_order=1:8,\n",
    "        stringsAsFactors=F\n",
    "    )\n",
    "}\n"
   ]
  },
  {
   "cell_type": "code",
   "execution_count": 21,
   "id": "ff1512db",
   "metadata": {},
   "outputs": [],
   "source": [
    "get_covariates_str_df <- function(){\n",
    "    data.frame(\n",
    "        model = c('PRS', 'full'),\n",
    "        covariates = c('', 'age, sex, UKB array type, Genotype PCs'),\n",
    "        stringsAsFactors=F\n",
    "    )\n",
    "}\n"
   ]
  },
  {
   "cell_type": "code",
   "execution_count": 22,
   "id": "124c3f2b",
   "metadata": {},
   "outputs": [],
   "source": [
    "eval_w_score_name_df %>%\n",
    "filter(\n",
    "    split != 'train_val',\n",
    "    (trait_category == 'Biomarkers') | WBtest_is_significant\n",
    ") %>%\n",
    "mutate(\n",
    "    sample_set = paste0(trait, '_', split)\n",
    ") %>%\n",
    "select(\n",
    "    associated_score_name, sample_set, split,\n",
    "    trait_name, model, metric, `eval`, l_eval, u_eval\n",
    ") -> performance_metric_all_df\n"
   ]
  },
  {
   "cell_type": "code",
   "execution_count": 23,
   "id": "7e0f25eb",
   "metadata": {},
   "outputs": [],
   "source": [
    "performance_metric_all_df %>%\n",
    "filter(\n",
    "    metric %in% c('auc', 'r2'),\n",
    "    model %in% c('full', 'PRS')\n",
    ") %>%\n",
    "mutate(eval_95CI = sprintf('%.5f [%.5f, %.5f]', `eval`, l_eval, u_eval)) %>%\n",
    "select(-l_eval, -u_eval, -`eval`) %>%\n",
    "spread(metric, eval_95CI) %>%\n",
    "rename('AUROC'='auc', 'R2'='r2') -> performance_metric_main_df\n"
   ]
  },
  {
   "cell_type": "code",
   "execution_count": 24,
   "id": "27c47f7e",
   "metadata": {},
   "outputs": [],
   "source": [
    "performance_metric_all_df %>%\n",
    "filter(\n",
    "    metric %in% c('auc', 'r2'),\n",
    "    model %in% c('full', 'covar')\n",
    ") %>%\n",
    "select(-l_eval, -u_eval, -split) %>%\n",
    "spread(model, `eval`) %>%\n",
    "mutate(\n",
    "    model = 'full',\n",
    "    other_metric_type = case_when(\n",
    "        metric == 'auc' ~ 'Incremental AUROC (full-covars)',\n",
    "        metric == 'r2'  ~ 'Incremental R2 (full-covars)',\n",
    "        TRUE            ~ 'Incremental (full-covars)'\n",
    "    ),\n",
    "    other_metric_val = full - covar\n",
    ") %>%\n",
    "select(-metric,-covar,-full) -> performance_metric_incremental_df\n"
   ]
  },
  {
   "cell_type": "code",
   "execution_count": 25,
   "id": "9a4bb27d",
   "metadata": {},
   "outputs": [],
   "source": [
    "performance_metric_all_df %>%\n",
    "filter(\n",
    "    ! metric %in% c('auc', 'r2'),\n",
    "    model %in% c('full', 'PRS')\n",
    ") %>%\n",
    "select(-l_eval, -u_eval, -split) %>%\n",
    "mutate(\n",
    "    other_metric_type = case_when(\n",
    "        metric == 'NagelkerkeR2' ~ \"Nagelkerke's R2\",\n",
    "        metric == 'TjurR2'       ~ \"Tjur's R2\",\n",
    "        TRUE                     ~ 'Unknown'\n",
    "    ),\n",
    ") %>%\n",
    "rename('other_metric_val'='eval') %>%\n",
    "select(-metric) -> performance_metric_pseudoR2_df"
   ]
  },
  {
   "cell_type": "code",
   "execution_count": 26,
   "id": "0229e78a",
   "metadata": {},
   "outputs": [],
   "source": [
    "bind_rows(\n",
    "    performance_metric_incremental_df,\n",
    "    performance_metric_pseudoR2_df\n",
    ") %>% \n",
    "mutate(\n",
    "    other_metric_str = sprintf('%s = %.5f', other_metric_type, other_metric_val)\n",
    ") %>%\n",
    "select(-other_metric_type, -other_metric_val) %>%\n",
    "group_by(associated_score_name, sample_set, trait_name, model) %>%\n",
    "summarise(\n",
    "    other_mterics = paste(other_metric_str, collapse=', '),\n",
    "    .groups='drop'\n",
    ") -> performance_metric_others_df\n"
   ]
  },
  {
   "cell_type": "code",
   "execution_count": 27,
   "id": "0f098411",
   "metadata": {},
   "outputs": [],
   "source": [
    "performance_metric_main_df %>%\n",
    "left_join(\n",
    "    performance_metric_others_df,\n",
    "    by = c(\"associated_score_name\", \"sample_set\", \"trait_name\", \"model\")\n",
    ") %>%\n",
    "left_join(\n",
    "    eval_w_score_name_df %>%\n",
    "    select(associated_score_name) %>% \n",
    "    unique %>%\n",
    "    mutate(associated_score_sort_order = 1:n()),\n",
    "    by = \"associated_score_name\"\n",
    ") %>%\n",
    "left_join(\n",
    "    get_split_order_df(),\n",
    "    by = \"split\"\n",
    ") %>%\n",
    "left_join(\n",
    "    get_covariates_str_df(),\n",
    "    by = \"model\"\n",
    ") %>%\n",
    "arrange(associated_score_sort_order, split_order, covariates) %>%\n",
    "select(\n",
    "    -split, -split_order, -associated_score_sort_order, -model\n",
    ") -> PGS_performance_metric_df\n"
   ]
  },
  {
   "cell_type": "code",
   "execution_count": 28,
   "id": "65db78aa",
   "metadata": {},
   "outputs": [
    {
     "data": {
      "text/html": [
       "814"
      ],
      "text/latex": [
       "814"
      ],
      "text/markdown": [
       "814"
      ],
      "text/plain": [
       "[1] 814"
      ]
     },
     "metadata": {},
     "output_type": "display_data"
    }
   ],
   "source": [
    "PGS_performance_metric_df %>%\n",
    "pull(associated_score_name) %>%\n",
    "unique %>%\n",
    "length"
   ]
  },
  {
   "cell_type": "markdown",
   "id": "f7ab9617",
   "metadata": {},
   "source": [
    "813 + micro albumin in urine"
   ]
  },
  {
   "cell_type": "code",
   "execution_count": 29,
   "id": "028e1aa4",
   "metadata": {},
   "outputs": [
    {
     "name": "stdout",
     "output_type": "stream",
     "text": [
      "[1] 8108    7\n"
     ]
    }
   ],
   "source": [
    "PGS_performance_metric_df %>% dim %>% print\n",
    "PGS_performance_metric_df %>%\n",
    "fwrite('PGScatalog/PGS_performance_metric.tsv', sep='\\t', na = \"NA\", quote=F)\n"
   ]
  },
  {
   "cell_type": "code",
   "execution_count": null,
   "id": "2a86dc3a",
   "metadata": {},
   "outputs": [],
   "source": []
  }
 ],
 "metadata": {
  "kernelspec": {
   "display_name": "R",
   "language": "R",
   "name": "ir"
  },
  "language_info": {
   "codemirror_mode": "r",
   "file_extension": ".r",
   "mimetype": "text/x-r-source",
   "name": "R",
   "pygments_lexer": "r",
   "version": "3.6.2"
  }
 },
 "nbformat": 4,
 "nbformat_minor": 5
}

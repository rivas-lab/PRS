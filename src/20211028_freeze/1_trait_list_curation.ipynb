{
 "cells": [
  {
   "cell_type": "code",
   "execution_count": 1,
   "id": "behavioral-journalism",
   "metadata": {},
   "outputs": [],
   "source": [
    "suppressWarnings(suppressPackageStartupMessages({\n",
    "    library(tidyverse)\n",
    "    library(data.table)\n",
    "}))\n"
   ]
  },
  {
   "cell_type": "code",
   "execution_count": 233,
   "id": "according-mozambique",
   "metadata": {},
   "outputs": [],
   "source": [
    "source('paths.sh')\n"
   ]
  },
  {
   "cell_type": "markdown",
   "id": "commercial-poultry",
   "metadata": {},
   "source": [
    "## trait category"
   ]
  },
  {
   "cell_type": "code",
   "execution_count": 217,
   "id": "linear-conversation",
   "metadata": {},
   "outputs": [],
   "source": [
    "trait_rename_df <- data.frame(\n",
    "    trait_new_name = c(\n",
    "        'LDL cholesterol',\n",
    "        'eGFR'\n",
    "    ),\n",
    "    trait = c(\n",
    "        'INI30780',\n",
    "        'INI30030700'\n",
    "        \n",
    "    ),\n",
    "    stringsAsFactors='F'\n",
    ")\n"
   ]
  },
  {
   "cell_type": "code",
   "execution_count": 218,
   "id": "colonial-leadership",
   "metadata": {},
   "outputs": [],
   "source": [
    "GBE_category_f %>%\n",
    "fread(select=c('#GBE_category', 'GBE_ID', 'GBE_short_name')) %>%\n",
    "rename_with(\n",
    "    function(x){str_replace(x, '#', '')}, starts_with(\"#\")\n",
    ") %>%\n",
    "left_join(\n",
    "    trait_rename_df, by=c('GBE_ID'='trait')\n",
    ") %>%\n",
    "mutate(\n",
    "    GBE_short_name = if_else(is.na(trait_new_name), GBE_short_name, trait_new_name)\n",
    ") %>%\n",
    "select(-trait_new_name) -> GBE_category_df\n"
   ]
  },
  {
   "cell_type": "code",
   "execution_count": 219,
   "id": "heavy-hybrid",
   "metadata": {},
   "outputs": [],
   "source": [
    "GBE_category_df %>%\n",
    "filter(GBE_category == 'Biomarkers') %>%\n",
    "rename('Biomarkers_covariate_adjusted_GBE_ID' = 'GBE_ID') %>%\n",
    "mutate(\n",
    "    GBE_ID = str_replace(Biomarkers_covariate_adjusted_GBE_ID, '^INI[12]00', 'INI')\n",
    ") -> biomarkers_df\n"
   ]
  },
  {
   "cell_type": "code",
   "execution_count": 220,
   "id": "oriented-explorer",
   "metadata": {},
   "outputs": [
    {
     "data": {
      "text/html": [
       "<table class=\"dataframe\">\n",
       "<caption>A data.table: 2 × 2</caption>\n",
       "<thead>\n",
       "\t<tr><th></th><th scope=col>GBE_ID == Biomarkers_covariate_adjusted_GBE_ID</th><th scope=col>n</th></tr>\n",
       "\t<tr><th></th><th scope=col>&lt;lgl&gt;</th><th scope=col>&lt;int&gt;</th></tr>\n",
       "</thead>\n",
       "<tbody>\n",
       "\t<tr><th scope=row>1</th><td>FALSE</td><td>32</td></tr>\n",
       "\t<tr><th scope=row>2</th><td> TRUE</td><td> 3</td></tr>\n",
       "</tbody>\n",
       "</table>\n"
      ],
      "text/latex": [
       "A data.table: 2 × 2\n",
       "\\begin{tabular}{r|ll}\n",
       "  & GBE\\_ID == Biomarkers\\_covariate\\_adjusted\\_GBE\\_ID & n\\\\\n",
       "  & <lgl> & <int>\\\\\n",
       "\\hline\n",
       "\t1 & FALSE & 32\\\\\n",
       "\t2 &  TRUE &  3\\\\\n",
       "\\end{tabular}\n"
      ],
      "text/markdown": [
       "\n",
       "A data.table: 2 × 2\n",
       "\n",
       "| <!--/--> | GBE_ID == Biomarkers_covariate_adjusted_GBE_ID &lt;lgl&gt; | n &lt;int&gt; |\n",
       "|---|---|---|\n",
       "| 1 | FALSE | 32 |\n",
       "| 2 |  TRUE |  3 |\n",
       "\n"
      ],
      "text/plain": [
       "  GBE_ID == Biomarkers_covariate_adjusted_GBE_ID n \n",
       "1 FALSE                                          32\n",
       "2  TRUE                                           3"
      ]
     },
     "metadata": {},
     "output_type": "display_data"
    }
   ],
   "source": [
    "biomarkers_df %>%\n",
    "count(GBE_ID == Biomarkers_covariate_adjusted_GBE_ID)\n"
   ]
  },
  {
   "cell_type": "code",
   "execution_count": 221,
   "id": "featured-tourist",
   "metadata": {},
   "outputs": [
    {
     "data": {
      "text/html": [
       "<table class=\"dataframe\">\n",
       "<caption>A data.table: 3 × 4</caption>\n",
       "<thead>\n",
       "\t<tr><th scope=col>GBE_category</th><th scope=col>Biomarkers_covariate_adjusted_GBE_ID</th><th scope=col>GBE_short_name</th><th scope=col>GBE_ID</th></tr>\n",
       "\t<tr><th scope=col>&lt;chr&gt;</th><th scope=col>&lt;chr&gt;</th><th scope=col>&lt;chr&gt;</th><th scope=col>&lt;chr&gt;</th></tr>\n",
       "</thead>\n",
       "<tbody>\n",
       "\t<tr><td>Biomarkers</td><td>INI30030650</td><td>AST to ALT ratio   </td><td>INI30030650</td></tr>\n",
       "\t<tr><td>Biomarkers</td><td>INI30030700</td><td>eGFR               </td><td>INI30030700</td></tr>\n",
       "\t<tr><td>Biomarkers</td><td>INI30030860</td><td>Non-albumin protein</td><td>INI30030860</td></tr>\n",
       "</tbody>\n",
       "</table>\n"
      ],
      "text/latex": [
       "A data.table: 3 × 4\n",
       "\\begin{tabular}{llll}\n",
       " GBE\\_category & Biomarkers\\_covariate\\_adjusted\\_GBE\\_ID & GBE\\_short\\_name & GBE\\_ID\\\\\n",
       " <chr> & <chr> & <chr> & <chr>\\\\\n",
       "\\hline\n",
       "\t Biomarkers & INI30030650 & AST to ALT ratio    & INI30030650\\\\\n",
       "\t Biomarkers & INI30030700 & eGFR                & INI30030700\\\\\n",
       "\t Biomarkers & INI30030860 & Non-albumin protein & INI30030860\\\\\n",
       "\\end{tabular}\n"
      ],
      "text/markdown": [
       "\n",
       "A data.table: 3 × 4\n",
       "\n",
       "| GBE_category &lt;chr&gt; | Biomarkers_covariate_adjusted_GBE_ID &lt;chr&gt; | GBE_short_name &lt;chr&gt; | GBE_ID &lt;chr&gt; |\n",
       "|---|---|---|---|\n",
       "| Biomarkers | INI30030650 | AST to ALT ratio    | INI30030650 |\n",
       "| Biomarkers | INI30030700 | eGFR                | INI30030700 |\n",
       "| Biomarkers | INI30030860 | Non-albumin protein | INI30030860 |\n",
       "\n"
      ],
      "text/plain": [
       "  GBE_category Biomarkers_covariate_adjusted_GBE_ID GBE_short_name     \n",
       "1 Biomarkers   INI30030650                          AST to ALT ratio   \n",
       "2 Biomarkers   INI30030700                          eGFR               \n",
       "3 Biomarkers   INI30030860                          Non-albumin protein\n",
       "  GBE_ID     \n",
       "1 INI30030650\n",
       "2 INI30030700\n",
       "3 INI30030860"
      ]
     },
     "metadata": {},
     "output_type": "display_data"
    }
   ],
   "source": [
    "biomarkers_df %>%\n",
    "filter(GBE_ID == Biomarkers_covariate_adjusted_GBE_ID)\n"
   ]
  },
  {
   "cell_type": "markdown",
   "id": "marked-convertible",
   "metadata": {},
   "source": [
    "Those 3 traits are \"derived\" traits. They are derived based on the covariate-adjusted traits\n"
   ]
  },
  {
   "cell_type": "markdown",
   "id": "outer-structure",
   "metadata": {},
   "source": [
    "## other input files"
   ]
  },
  {
   "cell_type": "code",
   "execution_count": 222,
   "id": "copyrighted-suite",
   "metadata": {},
   "outputs": [],
   "source": [
    "PRS202009_f %>%\n",
    "fread(nrows=0) %>%\n",
    "select(starts_with('PRS_')) %>%\n",
    "colnames() %>%\n",
    "str_replace('PRS_', '') -> list_of_traits_w_PRS\n"
   ]
  },
  {
   "cell_type": "code",
   "execution_count": 73,
   "id": "arabic-halloween",
   "metadata": {},
   "outputs": [
    {
     "name": "stdout",
     "output_type": "stream",
     "text": [
      "[1] 1772\n"
     ]
    }
   ],
   "source": [
    "list_of_traits_w_PRS %>% length %>% print"
   ]
  },
  {
   "cell_type": "code",
   "execution_count": 72,
   "id": "crude-island",
   "metadata": {},
   "outputs": [
    {
     "name": "stdout",
     "output_type": "stream",
     "text": [
      "[1] 552\n"
     ]
    }
   ],
   "source": [
    "mrp_blacklist_f %>% fread(head=F) %>% pull() -> mrp_blacklist\n",
    "mrp_blacklist %>% length %>% print\n"
   ]
  },
  {
   "cell_type": "code",
   "execution_count": 76,
   "id": "norman-newman",
   "metadata": {},
   "outputs": [
    {
     "name": "stdout",
     "output_type": "stream",
     "text": [
      "[1] 3965\n"
     ]
    }
   ],
   "source": [
    "icdinfo_f %>% fread(select='GBE_ID') %>% pull() -> icdinfo_list\n",
    "icdinfo_list %>% length %>% print\n"
   ]
  },
  {
   "cell_type": "markdown",
   "id": "elementary-aaron",
   "metadata": {},
   "source": [
    "## get the list of traits"
   ]
  },
  {
   "cell_type": "code",
   "execution_count": 124,
   "id": "anonymous-output",
   "metadata": {},
   "outputs": [],
   "source": [
    "# for visualization, we collapse some of the trait categories as 'Others'\n",
    "# here, we list the categories that we'd like to keep\n",
    "trait_categories_to_keep <- setNames(\n",
    "    list( \n",
    "        c(\n",
    "            # binary traits (binomial family)\n",
    "            'Disease_outcome',\n",
    "            'Lifestyle_and_environment',\n",
    "            'Health_and_medical_history',\n",
    "            'Cancer',\n",
    "            'Psychosocial_factors',\n",
    "            'Family_history'\n",
    "        ),\n",
    "        c(\n",
    "            # quantitative traits (Gaussian family)\n",
    "            'Blood_assays',\n",
    "            'Anthropometry',\n",
    "            'Lifestyle_and_environment',\n",
    "            'Biomarkers',\n",
    "            'Bone-densitometry_of_heel'\n",
    "        )\n",
    "    ),\n",
    "    c('binomial', 'gaussian')\n",
    ")\n"
   ]
  },
  {
   "cell_type": "code",
   "execution_count": 125,
   "id": "closing-proposal",
   "metadata": {},
   "outputs": [],
   "source": [
    "list_of_traits_w_PRS %>%\n",
    "intersect(icdinfo_list) %>%\n",
    "setdiff(\n",
    "    mrp_blacklist\n",
    ") %>% \n",
    "setdiff(\n",
    "    biomarkers_df %>%\n",
    "    select(GBE_ID, Biomarkers_covariate_adjusted_GBE_ID) %>%\n",
    "    gather() %>%\n",
    "    pull(value) %>%\n",
    "    unique\n",
    ") %>%\n",
    "union(\n",
    "    biomarkers_df %>% pull(GBE_ID)\n",
    ") -> final_list_of_traits\n"
   ]
  },
  {
   "cell_type": "code",
   "execution_count": 126,
   "id": "hazardous-business",
   "metadata": {},
   "outputs": [
    {
     "data": {
      "text/html": [
       "1565"
      ],
      "text/latex": [
       "1565"
      ],
      "text/markdown": [
       "1565"
      ],
      "text/plain": [
       "[1] 1565"
      ]
     },
     "metadata": {},
     "output_type": "display_data"
    }
   ],
   "source": [
    "final_list_of_traits %>% length\n"
   ]
  },
  {
   "cell_type": "code",
   "execution_count": 210,
   "id": "controversial-european",
   "metadata": {},
   "outputs": [],
   "source": [
    "GBE_category_df %>%\n",
    "filter(GBE_ID %in% final_list_of_traits) %>%\n",
    "rename(\n",
    "    'trait' = 'GBE_ID',\n",
    "    'trait_category'='GBE_category',\n",
    "    'trait_name'='GBE_short_name'\n",
    ") %>%\n",
    "mutate(\n",
    "    trait_category = R.utils::capitalize(trait_category),\n",
    "    family = if_else(\n",
    "        str_replace_all(trait, '[0-9]', '') %in% c('INI', 'QT_FC'),\n",
    "        'gaussian', 'binomial'\n",
    "    ),\n",
    "    trait_category = if_else(\n",
    "        trait %in% (biomarkers_df %>% pull(GBE_ID)), \n",
    "        'Biomarkers', trait_category\n",
    "    ),\n",
    "    trait_category_plot = if_else(\n",
    "        (\n",
    "            (family == 'binomial') & \n",
    "            (trait_category %in% trait_categories_to_keep[['binomial']])\n",
    "        ) | (\n",
    "            (family == 'gaussian') &\n",
    "            (trait_category %in% trait_categories_to_keep[['gaussian']])\n",
    "        ),\n",
    "        str_replace_all(trait_category, '_', ' '),\n",
    "        'Others'\n",
    "    )\n",
    ") %>%\n",
    "arrange(family, trait_category_plot, trait_category, trait) %>%\n",
    "select(\n",
    "    trait, trait_name, trait_category, trait_category_plot, family\n",
    ") -> trait_list_df\n"
   ]
  },
  {
   "cell_type": "code",
   "execution_count": 211,
   "id": "proved-sheffield",
   "metadata": {},
   "outputs": [
    {
     "name": "stdout",
     "output_type": "stream",
     "text": [
      "[1] 1565    5\n"
     ]
    }
   ],
   "source": [
    "trait_list_df %>% dim %>% print\n"
   ]
  },
  {
   "cell_type": "code",
   "execution_count": 212,
   "id": "athletic-skirt",
   "metadata": {},
   "outputs": [],
   "source": [
    "trait_list_df %>%\n",
    "rename('#trait' = 'trait') %>%\n",
    "fwrite(trait_list_f, sep='\\t', na = \"NA\", quote=F)\n"
   ]
  },
  {
   "cell_type": "code",
   "execution_count": 213,
   "id": "ordinary-legend",
   "metadata": {},
   "outputs": [
    {
     "data": {
      "text/html": [
       "<table class=\"dataframe\">\n",
       "<caption>A data.table: 2 × 5</caption>\n",
       "<thead>\n",
       "\t<tr><th scope=col>trait</th><th scope=col>trait_name</th><th scope=col>trait_category</th><th scope=col>trait_category_plot</th><th scope=col>family</th></tr>\n",
       "\t<tr><th scope=col>&lt;chr&gt;</th><th scope=col>&lt;chr&gt;</th><th scope=col>&lt;chr&gt;</th><th scope=col>&lt;chr&gt;</th><th scope=col>&lt;chr&gt;</th></tr>\n",
       "</thead>\n",
       "<tbody>\n",
       "\t<tr><td>BIN4093 </td><td>Fractured heel (L)</td><td>Bone-densitometry_of_heel</td><td>Others    </td><td>binomial</td></tr>\n",
       "\t<tr><td>INI30780</td><td>LDL cholesterol   </td><td>Biomarkers               </td><td>Biomarkers</td><td>gaussian</td></tr>\n",
       "</tbody>\n",
       "</table>\n"
      ],
      "text/latex": [
       "A data.table: 2 × 5\n",
       "\\begin{tabular}{lllll}\n",
       " trait & trait\\_name & trait\\_category & trait\\_category\\_plot & family\\\\\n",
       " <chr> & <chr> & <chr> & <chr> & <chr>\\\\\n",
       "\\hline\n",
       "\t BIN4093  & Fractured heel (L) & Bone-densitometry\\_of\\_heel & Others     & binomial\\\\\n",
       "\t INI30780 & LDL cholesterol    & Biomarkers                & Biomarkers & gaussian\\\\\n",
       "\\end{tabular}\n"
      ],
      "text/markdown": [
       "\n",
       "A data.table: 2 × 5\n",
       "\n",
       "| trait &lt;chr&gt; | trait_name &lt;chr&gt; | trait_category &lt;chr&gt; | trait_category_plot &lt;chr&gt; | family &lt;chr&gt; |\n",
       "|---|---|---|---|---|\n",
       "| BIN4093  | Fractured heel (L) | Bone-densitometry_of_heel | Others     | binomial |\n",
       "| INI30780 | LDL cholesterol    | Biomarkers                | Biomarkers | gaussian |\n",
       "\n"
      ],
      "text/plain": [
       "  trait    trait_name         trait_category            trait_category_plot\n",
       "1 BIN4093  Fractured heel (L) Bone-densitometry_of_heel Others             \n",
       "2 INI30780 LDL cholesterol    Biomarkers                Biomarkers         \n",
       "  family  \n",
       "1 binomial\n",
       "2 gaussian"
      ]
     },
     "metadata": {},
     "output_type": "display_data"
    }
   ],
   "source": [
    "trait_list_df %>%\n",
    "filter(trait %in% c('BIN4093', 'INI30780'))"
   ]
  },
  {
   "cell_type": "markdown",
   "id": "accessory-coordinator",
   "metadata": {},
   "source": [
    "## biomarker traits"
   ]
  },
  {
   "cell_type": "code",
   "execution_count": 224,
   "id": "overhead-brazil",
   "metadata": {},
   "outputs": [],
   "source": [
    "biomarker_rename_df <- data.frame(\n",
    "    trait_new_name = c(\n",
    "        'Creatinine_in_urine',\n",
    "        'Glycated_haemoglobin_HbA1c'\n",
    "    ),\n",
    "    trait = c(\n",
    "        'INI10030510',\n",
    "        'INI10030750'\n",
    "        \n",
    "    ),\n",
    "    stringsAsFactors='F'\n",
    ")\n"
   ]
  },
  {
   "cell_type": "code",
   "execution_count": 231,
   "id": "varying-genre",
   "metadata": {},
   "outputs": [
    {
     "data": {
      "text/html": [
       "<table class=\"dataframe\">\n",
       "<caption>A data.table: 35 × 4</caption>\n",
       "<thead>\n",
       "\t<tr><th scope=col>#trait</th><th scope=col>trait_name</th><th scope=col>Biomarkers_covariate_adjusted_GBE_ID</th><th scope=col>annotation</th></tr>\n",
       "\t<tr><th scope=col>&lt;chr&gt;</th><th scope=col>&lt;chr&gt;</th><th scope=col>&lt;chr&gt;</th><th scope=col>&lt;chr&gt;</th></tr>\n",
       "</thead>\n",
       "<tbody>\n",
       "\t<tr><td>INI30030650</td><td>AST to ALT ratio               </td><td>INI30030650</td><td>AST_ALT_ratio              </td></tr>\n",
       "\t<tr><td>INI30030700</td><td>eGFR                           </td><td>INI30030700</td><td>eGFR                       </td></tr>\n",
       "\t<tr><td>INI30030860</td><td>Non-albumin protein            </td><td>INI30030860</td><td>Non_albumin_protein        </td></tr>\n",
       "\t<tr><td>INI30500   </td><td>Microalbumin in urine          </td><td>INI10030500</td><td>Microalbumin_in_urine      </td></tr>\n",
       "\t<tr><td>INI30510   </td><td>Creatinine (enzymatic) in urine</td><td>INI10030510</td><td>Creatinine_in_urine        </td></tr>\n",
       "\t<tr><td>INI30520   </td><td>Potassium in urine             </td><td>INI10030520</td><td>Potassium_in_urine         </td></tr>\n",
       "\t<tr><td>INI30530   </td><td>Sodium in urine                </td><td>INI10030530</td><td>Sodium_in_urine            </td></tr>\n",
       "\t<tr><td>INI30600   </td><td>Albumin                        </td><td>INI10030600</td><td>Albumin                    </td></tr>\n",
       "\t<tr><td>INI30610   </td><td>Alkaline phosphatase           </td><td>INI10030610</td><td>Alkaline_phosphatase       </td></tr>\n",
       "\t<tr><td>INI30620   </td><td>Alanine aminotransferase       </td><td>INI10030620</td><td>Alanine_aminotransferase   </td></tr>\n",
       "\t<tr><td>INI30630   </td><td>Apolipoprotein A               </td><td>INI10030630</td><td>Apolipoprotein_A           </td></tr>\n",
       "\t<tr><td>INI30640   </td><td>Apolipoprotein B               </td><td>INI20030640</td><td>Apolipoprotein_B_adjstatins</td></tr>\n",
       "\t<tr><td>INI30650   </td><td>Aspartate aminotransferase     </td><td>INI10030650</td><td>Aspartate_aminotransferase </td></tr>\n",
       "\t<tr><td>INI30660   </td><td>Direct bilirubin               </td><td>INI10030660</td><td>Direct_bilirubin           </td></tr>\n",
       "\t<tr><td>INI30670   </td><td>Urea                           </td><td>INI10030670</td><td>Urea                       </td></tr>\n",
       "\t<tr><td>INI30680   </td><td>Calcium                        </td><td>INI10030680</td><td>Calcium                    </td></tr>\n",
       "\t<tr><td>INI30690   </td><td>Cholesterol                    </td><td>INI20030690</td><td>Cholesterol_adjstatins     </td></tr>\n",
       "\t<tr><td>INI30700   </td><td>Creatinine                     </td><td>INI10030700</td><td>Creatinine                 </td></tr>\n",
       "\t<tr><td>INI30710   </td><td>C-reactive protein             </td><td>INI10030710</td><td>C_reactive_protein         </td></tr>\n",
       "\t<tr><td>INI30720   </td><td>Cystatin C                     </td><td>INI10030720</td><td>Cystatin_C                 </td></tr>\n",
       "\t<tr><td>INI30730   </td><td>Gamma glutamyltransferase      </td><td>INI10030730</td><td>Gamma_glutamyltransferase  </td></tr>\n",
       "\t<tr><td>INI30740   </td><td>Glucose                        </td><td>INI10030740</td><td>Glucose                    </td></tr>\n",
       "\t<tr><td>INI30750   </td><td>Glycated haemoglobin (HbA1c)   </td><td>INI10030750</td><td>Glycated_haemoglobin_HbA1c </td></tr>\n",
       "\t<tr><td>INI30760   </td><td>HDL cholesterol                </td><td>INI10030760</td><td>HDL_cholesterol            </td></tr>\n",
       "\t<tr><td>INI30770   </td><td>IGF-1                          </td><td>INI10030770</td><td>IGF_1                      </td></tr>\n",
       "\t<tr><td>INI30780   </td><td>LDL cholesterol                </td><td>INI20030780</td><td>LDL_direct_adjstatins      </td></tr>\n",
       "\t<tr><td>INI30790   </td><td>Lipoprotein A                  </td><td>INI10030790</td><td>Lipoprotein_A              </td></tr>\n",
       "\t<tr><td>INI30810   </td><td>Phosphate                      </td><td>INI10030810</td><td>Phosphate                  </td></tr>\n",
       "\t<tr><td>INI30830   </td><td>SHBG                           </td><td>INI10030830</td><td>SHBG                       </td></tr>\n",
       "\t<tr><td>INI30840   </td><td>Total bilirubin                </td><td>INI10030840</td><td>Total_bilirubin            </td></tr>\n",
       "\t<tr><td>INI30850   </td><td>Testosterone                   </td><td>INI10030850</td><td>Testosterone               </td></tr>\n",
       "\t<tr><td>INI30860   </td><td>Total protein                  </td><td>INI10030860</td><td>Total_protein              </td></tr>\n",
       "\t<tr><td>INI30870   </td><td>Triglycerides                  </td><td>INI10030870</td><td>Triglycerides              </td></tr>\n",
       "\t<tr><td>INI30880   </td><td>Urate                          </td><td>INI10030880</td><td>Urate                      </td></tr>\n",
       "\t<tr><td>INI30890   </td><td>Vitamin D                      </td><td>INI10030890</td><td>Vitamin_D                  </td></tr>\n",
       "</tbody>\n",
       "</table>\n"
      ],
      "text/latex": [
       "A data.table: 35 × 4\n",
       "\\begin{tabular}{llll}\n",
       " \\#trait & trait\\_name & Biomarkers\\_covariate\\_adjusted\\_GBE\\_ID & annotation\\\\\n",
       " <chr> & <chr> & <chr> & <chr>\\\\\n",
       "\\hline\n",
       "\t INI30030650 & AST to ALT ratio                & INI30030650 & AST\\_ALT\\_ratio              \\\\\n",
       "\t INI30030700 & eGFR                            & INI30030700 & eGFR                       \\\\\n",
       "\t INI30030860 & Non-albumin protein             & INI30030860 & Non\\_albumin\\_protein        \\\\\n",
       "\t INI30500    & Microalbumin in urine           & INI10030500 & Microalbumin\\_in\\_urine      \\\\\n",
       "\t INI30510    & Creatinine (enzymatic) in urine & INI10030510 & Creatinine\\_in\\_urine        \\\\\n",
       "\t INI30520    & Potassium in urine              & INI10030520 & Potassium\\_in\\_urine         \\\\\n",
       "\t INI30530    & Sodium in urine                 & INI10030530 & Sodium\\_in\\_urine            \\\\\n",
       "\t INI30600    & Albumin                         & INI10030600 & Albumin                    \\\\\n",
       "\t INI30610    & Alkaline phosphatase            & INI10030610 & Alkaline\\_phosphatase       \\\\\n",
       "\t INI30620    & Alanine aminotransferase        & INI10030620 & Alanine\\_aminotransferase   \\\\\n",
       "\t INI30630    & Apolipoprotein A                & INI10030630 & Apolipoprotein\\_A           \\\\\n",
       "\t INI30640    & Apolipoprotein B                & INI20030640 & Apolipoprotein\\_B\\_adjstatins\\\\\n",
       "\t INI30650    & Aspartate aminotransferase      & INI10030650 & Aspartate\\_aminotransferase \\\\\n",
       "\t INI30660    & Direct bilirubin                & INI10030660 & Direct\\_bilirubin           \\\\\n",
       "\t INI30670    & Urea                            & INI10030670 & Urea                       \\\\\n",
       "\t INI30680    & Calcium                         & INI10030680 & Calcium                    \\\\\n",
       "\t INI30690    & Cholesterol                     & INI20030690 & Cholesterol\\_adjstatins     \\\\\n",
       "\t INI30700    & Creatinine                      & INI10030700 & Creatinine                 \\\\\n",
       "\t INI30710    & C-reactive protein              & INI10030710 & C\\_reactive\\_protein         \\\\\n",
       "\t INI30720    & Cystatin C                      & INI10030720 & Cystatin\\_C                 \\\\\n",
       "\t INI30730    & Gamma glutamyltransferase       & INI10030730 & Gamma\\_glutamyltransferase  \\\\\n",
       "\t INI30740    & Glucose                         & INI10030740 & Glucose                    \\\\\n",
       "\t INI30750    & Glycated haemoglobin (HbA1c)    & INI10030750 & Glycated\\_haemoglobin\\_HbA1c \\\\\n",
       "\t INI30760    & HDL cholesterol                 & INI10030760 & HDL\\_cholesterol            \\\\\n",
       "\t INI30770    & IGF-1                           & INI10030770 & IGF\\_1                      \\\\\n",
       "\t INI30780    & LDL cholesterol                 & INI20030780 & LDL\\_direct\\_adjstatins      \\\\\n",
       "\t INI30790    & Lipoprotein A                   & INI10030790 & Lipoprotein\\_A              \\\\\n",
       "\t INI30810    & Phosphate                       & INI10030810 & Phosphate                  \\\\\n",
       "\t INI30830    & SHBG                            & INI10030830 & SHBG                       \\\\\n",
       "\t INI30840    & Total bilirubin                 & INI10030840 & Total\\_bilirubin            \\\\\n",
       "\t INI30850    & Testosterone                    & INI10030850 & Testosterone               \\\\\n",
       "\t INI30860    & Total protein                   & INI10030860 & Total\\_protein              \\\\\n",
       "\t INI30870    & Triglycerides                   & INI10030870 & Triglycerides              \\\\\n",
       "\t INI30880    & Urate                           & INI10030880 & Urate                      \\\\\n",
       "\t INI30890    & Vitamin D                       & INI10030890 & Vitamin\\_D                  \\\\\n",
       "\\end{tabular}\n"
      ],
      "text/markdown": [
       "\n",
       "A data.table: 35 × 4\n",
       "\n",
       "| #trait &lt;chr&gt; | trait_name &lt;chr&gt; | Biomarkers_covariate_adjusted_GBE_ID &lt;chr&gt; | annotation &lt;chr&gt; |\n",
       "|---|---|---|---|\n",
       "| INI30030650 | AST to ALT ratio                | INI30030650 | AST_ALT_ratio               |\n",
       "| INI30030700 | eGFR                            | INI30030700 | eGFR                        |\n",
       "| INI30030860 | Non-albumin protein             | INI30030860 | Non_albumin_protein         |\n",
       "| INI30500    | Microalbumin in urine           | INI10030500 | Microalbumin_in_urine       |\n",
       "| INI30510    | Creatinine (enzymatic) in urine | INI10030510 | Creatinine_in_urine         |\n",
       "| INI30520    | Potassium in urine              | INI10030520 | Potassium_in_urine          |\n",
       "| INI30530    | Sodium in urine                 | INI10030530 | Sodium_in_urine             |\n",
       "| INI30600    | Albumin                         | INI10030600 | Albumin                     |\n",
       "| INI30610    | Alkaline phosphatase            | INI10030610 | Alkaline_phosphatase        |\n",
       "| INI30620    | Alanine aminotransferase        | INI10030620 | Alanine_aminotransferase    |\n",
       "| INI30630    | Apolipoprotein A                | INI10030630 | Apolipoprotein_A            |\n",
       "| INI30640    | Apolipoprotein B                | INI20030640 | Apolipoprotein_B_adjstatins |\n",
       "| INI30650    | Aspartate aminotransferase      | INI10030650 | Aspartate_aminotransferase  |\n",
       "| INI30660    | Direct bilirubin                | INI10030660 | Direct_bilirubin            |\n",
       "| INI30670    | Urea                            | INI10030670 | Urea                        |\n",
       "| INI30680    | Calcium                         | INI10030680 | Calcium                     |\n",
       "| INI30690    | Cholesterol                     | INI20030690 | Cholesterol_adjstatins      |\n",
       "| INI30700    | Creatinine                      | INI10030700 | Creatinine                  |\n",
       "| INI30710    | C-reactive protein              | INI10030710 | C_reactive_protein          |\n",
       "| INI30720    | Cystatin C                      | INI10030720 | Cystatin_C                  |\n",
       "| INI30730    | Gamma glutamyltransferase       | INI10030730 | Gamma_glutamyltransferase   |\n",
       "| INI30740    | Glucose                         | INI10030740 | Glucose                     |\n",
       "| INI30750    | Glycated haemoglobin (HbA1c)    | INI10030750 | Glycated_haemoglobin_HbA1c  |\n",
       "| INI30760    | HDL cholesterol                 | INI10030760 | HDL_cholesterol             |\n",
       "| INI30770    | IGF-1                           | INI10030770 | IGF_1                       |\n",
       "| INI30780    | LDL cholesterol                 | INI20030780 | LDL_direct_adjstatins       |\n",
       "| INI30790    | Lipoprotein A                   | INI10030790 | Lipoprotein_A               |\n",
       "| INI30810    | Phosphate                       | INI10030810 | Phosphate                   |\n",
       "| INI30830    | SHBG                            | INI10030830 | SHBG                        |\n",
       "| INI30840    | Total bilirubin                 | INI10030840 | Total_bilirubin             |\n",
       "| INI30850    | Testosterone                    | INI10030850 | Testosterone                |\n",
       "| INI30860    | Total protein                   | INI10030860 | Total_protein               |\n",
       "| INI30870    | Triglycerides                   | INI10030870 | Triglycerides               |\n",
       "| INI30880    | Urate                           | INI10030880 | Urate                       |\n",
       "| INI30890    | Vitamin D                       | INI10030890 | Vitamin_D                   |\n",
       "\n"
      ],
      "text/plain": [
       "   #trait      trait_name                     \n",
       "1  INI30030650 AST to ALT ratio               \n",
       "2  INI30030700 eGFR                           \n",
       "3  INI30030860 Non-albumin protein            \n",
       "4  INI30500    Microalbumin in urine          \n",
       "5  INI30510    Creatinine (enzymatic) in urine\n",
       "6  INI30520    Potassium in urine             \n",
       "7  INI30530    Sodium in urine                \n",
       "8  INI30600    Albumin                        \n",
       "9  INI30610    Alkaline phosphatase           \n",
       "10 INI30620    Alanine aminotransferase       \n",
       "11 INI30630    Apolipoprotein A               \n",
       "12 INI30640    Apolipoprotein B               \n",
       "13 INI30650    Aspartate aminotransferase     \n",
       "14 INI30660    Direct bilirubin               \n",
       "15 INI30670    Urea                           \n",
       "16 INI30680    Calcium                        \n",
       "17 INI30690    Cholesterol                    \n",
       "18 INI30700    Creatinine                     \n",
       "19 INI30710    C-reactive protein             \n",
       "20 INI30720    Cystatin C                     \n",
       "21 INI30730    Gamma glutamyltransferase      \n",
       "22 INI30740    Glucose                        \n",
       "23 INI30750    Glycated haemoglobin (HbA1c)   \n",
       "24 INI30760    HDL cholesterol                \n",
       "25 INI30770    IGF-1                          \n",
       "26 INI30780    LDL cholesterol                \n",
       "27 INI30790    Lipoprotein A                  \n",
       "28 INI30810    Phosphate                      \n",
       "29 INI30830    SHBG                           \n",
       "30 INI30840    Total bilirubin                \n",
       "31 INI30850    Testosterone                   \n",
       "32 INI30860    Total protein                  \n",
       "33 INI30870    Triglycerides                  \n",
       "34 INI30880    Urate                          \n",
       "35 INI30890    Vitamin D                      \n",
       "   Biomarkers_covariate_adjusted_GBE_ID annotation                 \n",
       "1  INI30030650                          AST_ALT_ratio              \n",
       "2  INI30030700                          eGFR                       \n",
       "3  INI30030860                          Non_albumin_protein        \n",
       "4  INI10030500                          Microalbumin_in_urine      \n",
       "5  INI10030510                          Creatinine_in_urine        \n",
       "6  INI10030520                          Potassium_in_urine         \n",
       "7  INI10030530                          Sodium_in_urine            \n",
       "8  INI10030600                          Albumin                    \n",
       "9  INI10030610                          Alkaline_phosphatase       \n",
       "10 INI10030620                          Alanine_aminotransferase   \n",
       "11 INI10030630                          Apolipoprotein_A           \n",
       "12 INI20030640                          Apolipoprotein_B_adjstatins\n",
       "13 INI10030650                          Aspartate_aminotransferase \n",
       "14 INI10030660                          Direct_bilirubin           \n",
       "15 INI10030670                          Urea                       \n",
       "16 INI10030680                          Calcium                    \n",
       "17 INI20030690                          Cholesterol_adjstatins     \n",
       "18 INI10030700                          Creatinine                 \n",
       "19 INI10030710                          C_reactive_protein         \n",
       "20 INI10030720                          Cystatin_C                 \n",
       "21 INI10030730                          Gamma_glutamyltransferase  \n",
       "22 INI10030740                          Glucose                    \n",
       "23 INI10030750                          Glycated_haemoglobin_HbA1c \n",
       "24 INI10030760                          HDL_cholesterol            \n",
       "25 INI10030770                          IGF_1                      \n",
       "26 INI20030780                          LDL_direct_adjstatins      \n",
       "27 INI10030790                          Lipoprotein_A              \n",
       "28 INI10030810                          Phosphate                  \n",
       "29 INI10030830                          SHBG                       \n",
       "30 INI10030840                          Total_bilirubin            \n",
       "31 INI10030850                          Testosterone               \n",
       "32 INI10030860                          Total_protein              \n",
       "33 INI10030870                          Triglycerides              \n",
       "34 INI10030880                          Urate                      \n",
       "35 INI10030890                          Vitamin_D                  "
      ]
     },
     "metadata": {},
     "output_type": "display_data"
    }
   ],
   "source": [
    "biomarkers_f %>% fread()"
   ]
  },
  {
   "cell_type": "code",
   "execution_count": 234,
   "id": "artistic-chuck",
   "metadata": {},
   "outputs": [],
   "source": [
    "trait_list_df %>%\n",
    "filter(trait_category == 'Biomarkers') %>%\n",
    "left_join(\n",
    "    biomarkers_df %>%\n",
    "    select(GBE_ID, Biomarkers_covariate_adjusted_GBE_ID),\n",
    "    by=c('trait'='GBE_ID')\n",
    ") %>%\n",
    "left_join(\n",
    "    biomarkers_f %>% fread(),\n",
    "    by=c('trait_name'='name')\n",
    ") %>%\n",
    "left_join(\n",
    "    biomarker_rename_df,\n",
    "    by=c('Biomarkers_covariate_adjusted_GBE_ID'='trait')\n",
    ") %>%\n",
    "mutate(\n",
    "    annotation = if_else(is.na(trait_new_name), annotation, trait_new_name)\n",
    ") %>%\n",
    "select(-trait_new_name) %>%\n",
    "select(-trait_category, -trait_category_plot, -family) %>%\n",
    "rename('#trait' = 'trait') %>%\n",
    "fwrite(biomarkers_mapping_f, sep='\\t', na = \"NA\", quote=F)\n"
   ]
  },
  {
   "cell_type": "code",
   "execution_count": null,
   "id": "unique-pillow",
   "metadata": {},
   "outputs": [],
   "source": []
  }
 ],
 "metadata": {
  "kernelspec": {
   "display_name": "R",
   "language": "R",
   "name": "ir"
  },
  "language_info": {
   "codemirror_mode": "r",
   "file_extension": ".r",
   "mimetype": "text/x-r-source",
   "name": "R",
   "pygments_lexer": "r",
   "version": "3.6.2"
  }
 },
 "nbformat": 4,
 "nbformat_minor": 5
}

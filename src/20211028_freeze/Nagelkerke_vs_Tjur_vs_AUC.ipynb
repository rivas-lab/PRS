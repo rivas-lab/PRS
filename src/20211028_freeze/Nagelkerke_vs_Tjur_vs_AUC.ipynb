{
 "cells": [
  {
   "cell_type": "markdown",
   "metadata": {},
   "source": [
    "# PRS map - Nagelkerke_vs_Tjur_vs_AUC\n",
    "\n",
    "Yosuke Tanigawa\n"
   ]
  },
  {
   "cell_type": "markdown",
   "metadata": {},
   "source": [
    "## library, functions, and constants"
   ]
  },
  {
   "cell_type": "code",
   "execution_count": 1,
   "metadata": {},
   "outputs": [],
   "source": [
    "suppressWarnings(suppressPackageStartupMessages({\n",
    "    library(tidyverse)\n",
    "    library(data.table)\n",
    "}))\n"
   ]
  },
  {
   "cell_type": "code",
   "execution_count": 2,
   "metadata": {},
   "outputs": [
    {
     "name": "stderr",
     "output_type": "stream",
     "text": [
      "\u001b[36mℹ\u001b[39m Loading \u001b[34m\u001b[34mcud4\u001b[34m\u001b[39m\n",
      "\n",
      "\u001b[36mℹ\u001b[39m Loading \u001b[34m\u001b[34msnpnet\u001b[34m\u001b[39m\n",
      "\n"
     ]
    }
   ],
   "source": [
    "source('paths.sh')\n",
    "devtools::load_all(cud4_d)\n",
    "devtools::load_all(dirname(dirname(snpnet_helper)))\n",
    "source(snpnet_helper)\n"
   ]
  },
  {
   "cell_type": "code",
   "execution_count": 3,
   "metadata": {},
   "outputs": [],
   "source": [
    "traits_w_metrics_f %>%\n",
    "fread() %>%\n",
    "rename_with(\n",
    "    function(x){str_replace(x, '#', '')}, starts_with(\"#\")\n",
    ") -> traits_w_metrics_df\n",
    "\n",
    "\n",
    "eval_fullwDelta_f %>%\n",
    "fread() %>%\n",
    "rename_with(\n",
    "    function(x){str_replace(x, '#', '')}, starts_with(\"#\")\n",
    ") -> eval_long_df\n"
   ]
  },
  {
   "cell_type": "code",
   "execution_count": 23,
   "metadata": {},
   "outputs": [],
   "source": [
    "eval_long_df %>%\n",
    "filter(\n",
    "    WBtest_is_significant,\n",
    "    split == \"test\",\n",
    "    family == \"binomial\",\n",
    ") %>%\n",
    "select(trait, trait_name, trait_label, trait_category_plot, metric, model, value) %>%\n",
    "pivot_wider(\n",
    "    names_from = c(\"metric\", \"model\"),\n",
    "    values_from = c(\"value\")\n",
    ") -> eval_bin_wide_df\n"
   ]
  },
  {
   "cell_type": "code",
   "execution_count": 27,
   "metadata": {},
   "outputs": [],
   "source": [
    "for(ext in c('png', 'pdf')){ggsave(\n",
    "    file.path(\"plots\", sprintf('Nagelkerke_vs_Tjur_vs_AUC.%s', ext)),\n",
    "    gridExtra::arrangeGrob(\n",
    "        # Nagelkerke's pseudo-R2\n",
    "        eval_bin_wide_df %>%\n",
    "        mutate(\n",
    "            plot_label = if_else(rank(-auc_PRS) <= 5, trait_label, \"\")\n",
    "        ) %>%\n",
    "        ggplot(aes(x = NagelkerkeR2_PRS, y = auc_PRS, color=trait_category_plot, label = trait_label)) +\n",
    "        geom_point() +\n",
    "        theme_bw(base_size = 16) +\n",
    "        labs(\n",
    "            x = latex2exp::TeX(\"Nagelkerke's \\\\textit{R}$^2$ for PRS in white British\"),\n",
    "            y = \"ROC-AUC for PRS in white British\",\n",
    "            color = 'Trait category'\n",
    "        ) + \n",
    "        theme(legend.position = 'bottom') +\n",
    "        guides(\n",
    "          color = guide_legend(\n",
    "            title = 'Trait category',\n",
    "            override.aes = aes(label = \"\", alpha=1),\n",
    "            ncol=2\n",
    "          )\n",
    "        ) +\n",
    "        ggrepel::geom_text_repel(max.overlaps=30, force=20, mapping = aes(label = plot_label)),\n",
    "        # Tjur's pseudo-R2\n",
    "        eval_bin_wide_df %>%\n",
    "        mutate(\n",
    "            plot_label = if_else(rank(-auc_PRS) <= 5, trait_label, \"\")\n",
    "        ) %>%\n",
    "        ggplot(aes(x = TjurR2_PRS, y = auc_PRS, color=trait_category_plot, label = trait_label)) +\n",
    "        geom_point() +\n",
    "        theme_bw(base_size = 16) +\n",
    "        labs(\n",
    "            x = latex2exp::TeX(\"Tjur's \\\\textit{R}$^2$ for PRS in white British\"),\n",
    "            y = \"ROC-AUC for PRS in white British\",\n",
    "            color = 'Trait category'\n",
    "        ) + \n",
    "        theme(legend.position = 'bottom') +\n",
    "        guides(\n",
    "          color = guide_legend(\n",
    "            title = 'Trait category',\n",
    "            override.aes = aes(label = \"\", alpha=1),\n",
    "            ncol=2\n",
    "          )\n",
    "        ) +\n",
    "        ggrepel::geom_text_repel(max.overlaps=30, force=20, mapping = aes(label = plot_label)),\n",
    "        ncol=2\n",
    "    ),\n",
    "    width=16, height=8\n",
    ")}\n",
    "\n"
   ]
  },
  {
   "cell_type": "code",
   "execution_count": null,
   "metadata": {},
   "outputs": [],
   "source": []
  }
 ],
 "metadata": {
  "kernelspec": {
   "display_name": "R",
   "language": "R",
   "name": "ir"
  },
  "language_info": {
   "codemirror_mode": "r",
   "file_extension": ".r",
   "mimetype": "text/x-r-source",
   "name": "R",
   "pygments_lexer": "r",
   "version": "3.6.2"
  }
 },
 "nbformat": 4,
 "nbformat_minor": 4
}

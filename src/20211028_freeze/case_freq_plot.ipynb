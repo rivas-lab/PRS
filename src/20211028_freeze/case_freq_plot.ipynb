{
 "cells": [
  {
   "cell_type": "code",
   "execution_count": 1,
   "id": "6dc45a9a",
   "metadata": {},
   "outputs": [],
   "source": [
    "suppressWarnings(suppressPackageStartupMessages({\n",
    "    library(tidyverse)\n",
    "    library(data.table)\n",
    "}))\n"
   ]
  },
  {
   "cell_type": "code",
   "execution_count": 2,
   "id": "753158af",
   "metadata": {},
   "outputs": [
    {
     "name": "stderr",
     "output_type": "stream",
     "text": [
      "\u001b[36mℹ\u001b[39m Loading \u001b[34m\u001b[34mcud4\u001b[34m\u001b[39m\n",
      "\n",
      "\u001b[36mℹ\u001b[39m Loading \u001b[34m\u001b[34msnpnet\u001b[34m\u001b[39m\n",
      "\n"
     ]
    }
   ],
   "source": [
    "source('paths.sh')\n",
    "devtools::load_all(cud4_d)\n",
    "devtools::load_all(dirname(dirname(snpnet_helper)))\n",
    "source(snpnet_helper)\n"
   ]
  },
  {
   "cell_type": "code",
   "execution_count": 3,
   "id": "712481f0",
   "metadata": {},
   "outputs": [],
   "source": [
    "traits_w_metrics_f %>%\n",
    "fread() %>%\n",
    "rename_with(\n",
    "    function(x){str_replace(x, '#', '')}, starts_with(\"#\")\n",
    ") %>%\n",
    "mutate(\n",
    "    trait_label=sprintf('%s (%s)', trait_name, trait),\n",
    ") -> traits_w_metrics_df\n"
   ]
  },
  {
   "cell_type": "code",
   "execution_count": 4,
   "id": "8a035b18",
   "metadata": {},
   "outputs": [],
   "source": [
    "eval_full_f %>%\n",
    "fread() %>%\n",
    "rename_with(\n",
    "    function(x){str_replace(x, '#', '')}, starts_with(\"#\")\n",
    ") -> eval_full_df\n"
   ]
  },
  {
   "cell_type": "code",
   "execution_count": 27,
   "id": "2ed3951f",
   "metadata": {},
   "outputs": [],
   "source": [
    "eval_full_df %>%\n",
    "filter(\n",
    "    trait %in% (\n",
    "        traits_w_metrics_df %>% \n",
    "        filter(\n",
    "            WBtest_is_significant,\n",
    "            family == \"binomial\"\n",
    "        ) %>%\n",
    "        pull(trait)\n",
    "    )\n",
    ") %>%\n",
    "select(trait, trait_category_plot, trait_name, split, case_n, control_n) %>%\n",
    "unique %>%\n",
    "mutate(\n",
    "    case_ratio = case_n / (case_n + control_n),\n",
    "    case_ratio_sd = (case_ratio * (1 - case_ratio) / (case_n + control_n)) ** 0.5\n",
    ") -> sig_bin_traits_df\n"
   ]
  },
  {
   "cell_type": "code",
   "execution_count": 29,
   "id": "dfa6c658",
   "metadata": {},
   "outputs": [
    {
     "data": {
      "text/html": [
       "<table class=\"dataframe\">\n",
       "<caption>A data.table: 6 × 8</caption>\n",
       "<thead>\n",
       "\t<tr><th scope=col>trait</th><th scope=col>trait_category_plot</th><th scope=col>trait_name</th><th scope=col>split</th><th scope=col>case_n</th><th scope=col>control_n</th><th scope=col>case_ratio</th><th scope=col>case_ratio_sd</th></tr>\n",
       "\t<tr><th scope=col>&lt;chr&gt;</th><th scope=col>&lt;chr&gt;</th><th scope=col>&lt;chr&gt;</th><th scope=col>&lt;chr&gt;</th><th scope=col>&lt;int&gt;</th><th scope=col>&lt;int&gt;</th><th scope=col>&lt;dbl&gt;</th><th scope=col>&lt;dbl&gt;</th></tr>\n",
       "</thead>\n",
       "<tbody>\n",
       "\t<tr><td>BIN_FC30006164</td><td>Lifestyle and environment</td><td>Types of physical activity in last 4 weeks (other exercises)</td><td>test     </td><td> 34031</td><td> 3964</td><td>0.8956705</td><td>0.0015682471</td></tr>\n",
       "\t<tr><td>BIN_FC30006164</td><td>Lifestyle and environment</td><td>Types of physical activity in last 4 weeks (other exercises)</td><td>train_val</td><td>134747</td><td>15874</td><td>0.8946096</td><td>0.0007911785</td></tr>\n",
       "\t<tr><td>BIN_FC7001747 </td><td>Lifestyle and environment</td><td>Hair colour (natural, before greying) brown                 </td><td>train_val</td><td>211969</td><td>57232</td><td>0.7874005</td><td>0.0007885707</td></tr>\n",
       "\t<tr><td>BIN_FC7001747 </td><td>Lifestyle and environment</td><td>Hair colour (natural, before greying) brown                 </td><td>test     </td><td> 52905</td><td>14381</td><td>0.7862705</td><td>0.0015803593</td></tr>\n",
       "\t<tr><td>BIN100240     </td><td>Others                   </td><td>Coffee consumed                                             </td><td>train_val</td><td> 91145</td><td>25785</td><td>0.7794835</td><td>0.0012124423</td></tr>\n",
       "\t<tr><td>BIN100240     </td><td>Others                   </td><td>Coffee consumed                                             </td><td>test     </td><td> 22541</td><td> 6503</td><td>0.7760983</td><td>0.0024460134</td></tr>\n",
       "</tbody>\n",
       "</table>\n"
      ],
      "text/latex": [
       "A data.table: 6 × 8\n",
       "\\begin{tabular}{llllllll}\n",
       " trait & trait\\_category\\_plot & trait\\_name & split & case\\_n & control\\_n & case\\_ratio & case\\_ratio\\_sd\\\\\n",
       " <chr> & <chr> & <chr> & <chr> & <int> & <int> & <dbl> & <dbl>\\\\\n",
       "\\hline\n",
       "\t BIN\\_FC30006164 & Lifestyle and environment & Types of physical activity in last 4 weeks (other exercises) & test      &  34031 &  3964 & 0.8956705 & 0.0015682471\\\\\n",
       "\t BIN\\_FC30006164 & Lifestyle and environment & Types of physical activity in last 4 weeks (other exercises) & train\\_val & 134747 & 15874 & 0.8946096 & 0.0007911785\\\\\n",
       "\t BIN\\_FC7001747  & Lifestyle and environment & Hair colour (natural, before greying) brown                  & train\\_val & 211969 & 57232 & 0.7874005 & 0.0007885707\\\\\n",
       "\t BIN\\_FC7001747  & Lifestyle and environment & Hair colour (natural, before greying) brown                  & test      &  52905 & 14381 & 0.7862705 & 0.0015803593\\\\\n",
       "\t BIN100240      & Others                    & Coffee consumed                                              & train\\_val &  91145 & 25785 & 0.7794835 & 0.0012124423\\\\\n",
       "\t BIN100240      & Others                    & Coffee consumed                                              & test      &  22541 &  6503 & 0.7760983 & 0.0024460134\\\\\n",
       "\\end{tabular}\n"
      ],
      "text/markdown": [
       "\n",
       "A data.table: 6 × 8\n",
       "\n",
       "| trait &lt;chr&gt; | trait_category_plot &lt;chr&gt; | trait_name &lt;chr&gt; | split &lt;chr&gt; | case_n &lt;int&gt; | control_n &lt;int&gt; | case_ratio &lt;dbl&gt; | case_ratio_sd &lt;dbl&gt; |\n",
       "|---|---|---|---|---|---|---|---|\n",
       "| BIN_FC30006164 | Lifestyle and environment | Types of physical activity in last 4 weeks (other exercises) | test      |  34031 |  3964 | 0.8956705 | 0.0015682471 |\n",
       "| BIN_FC30006164 | Lifestyle and environment | Types of physical activity in last 4 weeks (other exercises) | train_val | 134747 | 15874 | 0.8946096 | 0.0007911785 |\n",
       "| BIN_FC7001747  | Lifestyle and environment | Hair colour (natural, before greying) brown                  | train_val | 211969 | 57232 | 0.7874005 | 0.0007885707 |\n",
       "| BIN_FC7001747  | Lifestyle and environment | Hair colour (natural, before greying) brown                  | test      |  52905 | 14381 | 0.7862705 | 0.0015803593 |\n",
       "| BIN100240      | Others                    | Coffee consumed                                              | train_val |  91145 | 25785 | 0.7794835 | 0.0012124423 |\n",
       "| BIN100240      | Others                    | Coffee consumed                                              | test      |  22541 |  6503 | 0.7760983 | 0.0024460134 |\n",
       "\n"
      ],
      "text/plain": [
       "  trait          trait_category_plot      \n",
       "1 BIN_FC30006164 Lifestyle and environment\n",
       "2 BIN_FC30006164 Lifestyle and environment\n",
       "3 BIN_FC7001747  Lifestyle and environment\n",
       "4 BIN_FC7001747  Lifestyle and environment\n",
       "5 BIN100240      Others                   \n",
       "6 BIN100240      Others                   \n",
       "  trait_name                                                   split     case_n\n",
       "1 Types of physical activity in last 4 weeks (other exercises) test       34031\n",
       "2 Types of physical activity in last 4 weeks (other exercises) train_val 134747\n",
       "3 Hair colour (natural, before greying) brown                  train_val 211969\n",
       "4 Hair colour (natural, before greying) brown                  test       52905\n",
       "5 Coffee consumed                                              train_val  91145\n",
       "6 Coffee consumed                                              test       22541\n",
       "  control_n case_ratio case_ratio_sd\n",
       "1  3964     0.8956705  0.0015682471 \n",
       "2 15874     0.8946096  0.0007911785 \n",
       "3 57232     0.7874005  0.0007885707 \n",
       "4 14381     0.7862705  0.0015803593 \n",
       "5 25785     0.7794835  0.0012124423 \n",
       "6  6503     0.7760983  0.0024460134 "
      ]
     },
     "metadata": {},
     "output_type": "display_data"
    }
   ],
   "source": [
    "sig_bin_traits_df %>%\n",
    "filter(\n",
    "    split %in% c(\"train_val\", \"test\")\n",
    ") %>%\n",
    "arrange(-case_n / (case_n + control_n)) %>% head"
   ]
  },
  {
   "cell_type": "code",
   "execution_count": 58,
   "id": "5746dec9",
   "metadata": {},
   "outputs": [],
   "source": [
    "case_freq_plot <- function(sig_bin_traits_df, split_target){\n",
    "    sig_bin_traits_df %>%\n",
    "    filter(\n",
    "        split %in% c(\"train_val\", split_target)\n",
    "    ) %>%\n",
    "    mutate(\n",
    "        split2 = case_when(\n",
    "            split == \"train_val\" ~ \"train_val\",\n",
    "            split == split_target ~ \"target\",\n",
    "            TRUE ~ \"others\"\n",
    "        ),\n",
    "        case_ratio = case_n / (case_n + control_n),\n",
    "        case_ratio_sd = (case_ratio * (1 - case_ratio) / (case_n + control_n)) ** 0.5\n",
    "    ) %>%\n",
    "    select(trait, split2, case_ratio, case_ratio_sd) %>%\n",
    "    pivot_wider(\n",
    "        names_from = split2,\n",
    "        values_from = c(\"case_ratio\", \"case_ratio_sd\")\n",
    "    ) %>%\n",
    "    ggplot(aes(x = case_ratio_train_val, y = case_ratio_target)) +\n",
    "    geom_errorbarh(aes(\n",
    "        xmin = case_ratio_train_val - 1.96 * case_ratio_sd_train_val,\n",
    "        xmax = case_ratio_train_val + 1.96 * case_ratio_sd_train_val,\n",
    "    )) +\n",
    "    geom_errorbar(aes(\n",
    "        ymin = case_ratio_target - 1.96 * case_ratio_sd_target,\n",
    "        ymax = case_ratio_target + 1.96 * case_ratio_sd_target,\n",
    "    )) +\n",
    "    geom_point() +\n",
    "    theme_bw() +\n",
    "    labs(\n",
    "        title = \"Case frequency of binary traits with significant PRS\",\n",
    "        x = \"Score development set (white British)\"\n",
    "    )\n",
    "}\n"
   ]
  },
  {
   "cell_type": "code",
   "execution_count": 66,
   "id": "6b862072",
   "metadata": {},
   "outputs": [],
   "source": [
    "for(ext in c(\"png\", \"pdf\")){ggsave(\n",
    "    sprintf(\"case_freq.test.%s\", ext),\n",
    "    sig_bin_traits_df %>%\n",
    "    case_freq_plot(\"test\") +\n",
    "    labs(\n",
    "        y = \"hold-out test set (white British)\"\n",
    "    ),\n",
    "    width=6, height=6\n",
    ")}\n"
   ]
  },
  {
   "cell_type": "code",
   "execution_count": 67,
   "id": "8a73b9e1",
   "metadata": {},
   "outputs": [
    {
     "name": "stderr",
     "output_type": "stream",
     "text": [
      "Warning message:\n",
      "“Removed 1 rows containing missing values (geom_errorbarh).”\n",
      "Warning message:\n",
      "“Removed 1 rows containing missing values (geom_point).”\n",
      "Warning message:\n",
      "“Removed 15 rows containing missing values (geom_errorbarh).”\n",
      "Warning message:\n",
      "“Removed 15 rows containing missing values (geom_point).”\n",
      "Warning message:\n",
      "“Removed 1 rows containing missing values (geom_errorbarh).”\n",
      "Warning message:\n",
      "“Removed 1 rows containing missing values (geom_point).”\n",
      "Warning message:\n",
      "“Removed 15 rows containing missing values (geom_errorbarh).”\n",
      "Warning message:\n",
      "“Removed 15 rows containing missing values (geom_point).”\n"
     ]
    }
   ],
   "source": [
    "for(ext in c(\"png\", \"pdf\")){ggsave(\n",
    "    sprintf(\"case_freq.4pops.%s\", ext),\n",
    "    gridExtra::arrangeGrob(\n",
    "        sig_bin_traits_df %>%\n",
    "        case_freq_plot(\"non_british_white\") +\n",
    "        labs(\n",
    "            y = \"non-British white\"\n",
    "        ),\n",
    "        sig_bin_traits_df %>%\n",
    "        case_freq_plot(\"african\") +\n",
    "        labs(\n",
    "            y = \"African\"\n",
    "        ),\n",
    "        sig_bin_traits_df %>%\n",
    "        case_freq_plot(\"s_asian\") +\n",
    "        labs(\n",
    "            y = \"South Asian\"\n",
    "        ),\n",
    "        sig_bin_traits_df %>%\n",
    "        case_freq_plot(\"e_asian\") +\n",
    "        labs(\n",
    "            y = \"East Asian\"\n",
    "        ),\n",
    "        # format\n",
    "        ncol=2\n",
    "    ),\n",
    "    width=12, height=12\n",
    ")}\n",
    "\n"
   ]
  },
  {
   "cell_type": "code",
   "execution_count": null,
   "id": "8d0c64fb",
   "metadata": {},
   "outputs": [],
   "source": []
  }
 ],
 "metadata": {
  "kernelspec": {
   "display_name": "R",
   "language": "R",
   "name": "ir"
  },
  "language_info": {
   "codemirror_mode": "r",
   "file_extension": ".r",
   "mimetype": "text/x-r-source",
   "name": "R",
   "pygments_lexer": "r",
   "version": "3.6.2"
  }
 },
 "nbformat": 4,
 "nbformat_minor": 5
}

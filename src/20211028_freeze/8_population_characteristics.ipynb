{
 "cells": [
  {
   "cell_type": "code",
   "execution_count": 1,
   "id": "20f9430e",
   "metadata": {},
   "outputs": [],
   "source": [
    "suppressWarnings(suppressPackageStartupMessages({\n",
    "    library(tidyverse)\n",
    "    library(data.table)\n",
    "}))\n"
   ]
  },
  {
   "cell_type": "code",
   "execution_count": 3,
   "id": "2436be1d",
   "metadata": {},
   "outputs": [],
   "source": [
    "source('paths.sh')"
   ]
  },
  {
   "cell_type": "code",
   "execution_count": 4,
   "id": "92ac54ab",
   "metadata": {},
   "outputs": [],
   "source": [
    "PRS202110_f %>%\n",
    "fread(\n",
    "    colClasses = c('#FID'='character', 'IID'='character'),\n",
    "    select=c('#FID', 'IID', 'population', 'split', 'age', 'age0', 'sex', 'Array')\n",
    ") %>%\n",
    "rename_with(\n",
    "    function(x){str_replace(x, '#', '')}, starts_with(\"#\")\n",
    ") -> phe_all_df\n"
   ]
  },
  {
   "cell_type": "code",
   "execution_count": 12,
   "id": "8491bbd2",
   "metadata": {},
   "outputs": [],
   "source": [
    "pops <- c('white_british', 'non_british_white', 'african', 's_asian', 'e_asian')\n"
   ]
  },
  {
   "cell_type": "code",
   "execution_count": 16,
   "id": "7f93c969",
   "metadata": {},
   "outputs": [],
   "source": [
    "phe_all_df %>%\n",
    "filter(population %in% pops) -> phe_df\n"
   ]
  },
  {
   "cell_type": "code",
   "execution_count": 17,
   "id": "1a9caad5",
   "metadata": {},
   "outputs": [
    {
     "data": {
      "text/html": [
       "378066"
      ],
      "text/latex": [
       "378066"
      ],
      "text/markdown": [
       "378066"
      ],
      "text/plain": [
       "[1] 378066"
      ]
     },
     "metadata": {},
     "output_type": "display_data"
    }
   ],
   "source": [
    "phe_df %>%\n",
    "nrow"
   ]
  },
  {
   "cell_type": "code",
   "execution_count": 20,
   "id": "37b64bc6",
   "metadata": {},
   "outputs": [
    {
     "data": {
      "text/html": [
       "<table class=\"dataframe\">\n",
       "<caption>A data.table: 7 × 3</caption>\n",
       "<thead>\n",
       "\t<tr><th scope=col>population</th><th scope=col>split</th><th scope=col>n</th></tr>\n",
       "\t<tr><th scope=col>&lt;chr&gt;</th><th scope=col>&lt;chr&gt;</th><th scope=col>&lt;int&gt;</th></tr>\n",
       "</thead>\n",
       "<tbody>\n",
       "\t<tr><td>white_british    </td><td>train            </td><td>235991</td></tr>\n",
       "\t<tr><td>white_british    </td><td>test             </td><td> 67425</td></tr>\n",
       "\t<tr><td>white_british    </td><td>val              </td><td> 33713</td></tr>\n",
       "\t<tr><td>non_british_white</td><td>non_british_white</td><td> 24905</td></tr>\n",
       "\t<tr><td>s_asian          </td><td>s_asian          </td><td>  7831</td></tr>\n",
       "\t<tr><td>african          </td><td>african          </td><td>  6497</td></tr>\n",
       "\t<tr><td>e_asian          </td><td>e_asian          </td><td>  1704</td></tr>\n",
       "</tbody>\n",
       "</table>\n"
      ],
      "text/latex": [
       "A data.table: 7 × 3\n",
       "\\begin{tabular}{lll}\n",
       " population & split & n\\\\\n",
       " <chr> & <chr> & <int>\\\\\n",
       "\\hline\n",
       "\t white\\_british     & train             & 235991\\\\\n",
       "\t white\\_british     & test              &  67425\\\\\n",
       "\t white\\_british     & val               &  33713\\\\\n",
       "\t non\\_british\\_white & non\\_british\\_white &  24905\\\\\n",
       "\t s\\_asian           & s\\_asian           &   7831\\\\\n",
       "\t african           & african           &   6497\\\\\n",
       "\t e\\_asian           & e\\_asian           &   1704\\\\\n",
       "\\end{tabular}\n"
      ],
      "text/markdown": [
       "\n",
       "A data.table: 7 × 3\n",
       "\n",
       "| population &lt;chr&gt; | split &lt;chr&gt; | n &lt;int&gt; |\n",
       "|---|---|---|\n",
       "| white_british     | train             | 235991 |\n",
       "| white_british     | test              |  67425 |\n",
       "| white_british     | val               |  33713 |\n",
       "| non_british_white | non_british_white |  24905 |\n",
       "| s_asian           | s_asian           |   7831 |\n",
       "| african           | african           |   6497 |\n",
       "| e_asian           | e_asian           |   1704 |\n",
       "\n"
      ],
      "text/plain": [
       "  population        split             n     \n",
       "1 white_british     train             235991\n",
       "2 white_british     test               67425\n",
       "3 white_british     val                33713\n",
       "4 non_british_white non_british_white  24905\n",
       "5 s_asian           s_asian             7831\n",
       "6 african           african             6497\n",
       "7 e_asian           e_asian             1704"
      ]
     },
     "metadata": {},
     "output_type": "display_data"
    }
   ],
   "source": [
    "phe_df %>% \n",
    "count(population, split) %>% arrange(-n)"
   ]
  },
  {
   "cell_type": "code",
   "execution_count": 8,
   "id": "57a8620e",
   "metadata": {},
   "outputs": [
    {
     "data": {
      "text/html": [
       "269704"
      ],
      "text/latex": [
       "269704"
      ],
      "text/markdown": [
       "269704"
      ],
      "text/plain": [
       "[1] 269704"
      ]
     },
     "metadata": {},
     "output_type": "display_data"
    }
   ],
   "source": [
    "235991 + 33713"
   ]
  },
  {
   "cell_type": "code",
   "execution_count": 9,
   "id": "7f8ceff1",
   "metadata": {},
   "outputs": [
    {
     "data": {
      "text/html": [
       "337129"
      ],
      "text/latex": [
       "337129"
      ],
      "text/markdown": [
       "337129"
      ],
      "text/plain": [
       "[1] 337129"
      ]
     },
     "metadata": {},
     "output_type": "display_data"
    }
   ],
   "source": [
    "235991 + 33713 + 67425"
   ]
  },
  {
   "cell_type": "code",
   "execution_count": 45,
   "id": "bd3db6e1",
   "metadata": {},
   "outputs": [],
   "source": [
    "phe_df %>%\n",
    "group_by(split) %>%\n",
    "summarise(\n",
    "    n = n(),\n",
    "    age0_mean = mean(age0),\n",
    "    age0_sd = sd(age0),\n",
    "    sex_M = mean(sex),\n",
    "    Array_UKBB = mean(Array)\n",
    ") %>%\n",
    "left_join(\n",
    "    phe_df %>% \n",
    "    count(population, split), \n",
    "    by = c(\"split\", \"n\")\n",
    ") %>%\n",
    "arrange(-n) %>%\n",
    "bind_rows(\n",
    "    phe_df %>%\n",
    "    summarise(\n",
    "        n = n(),\n",
    "        age0_mean = mean(age0),\n",
    "        age0_sd = sd(age0),\n",
    "        sex_M = mean(sex),\n",
    "        Array_UKBB = mean(Array)\n",
    "    ) %>%\n",
    "    mutate(population = 'Total', split='N/A')\n",
    ") %>%\n",
    "select(\n",
    "    population, split, n, age0_mean, age0_sd, sex_M, Array_UKBB\n",
    ") -> pops_tbl_df\n"
   ]
  },
  {
   "cell_type": "code",
   "execution_count": 47,
   "id": "1bee02e9",
   "metadata": {},
   "outputs": [],
   "source": [
    "pops_tbl_df %>%\n",
    "rename('#population' = 'population') %>%\n",
    "fwrite('pop_characteristics.tsv', sep='\\t', na = \"NA\", quote=F)\n"
   ]
  },
  {
   "cell_type": "code",
   "execution_count": null,
   "id": "f49a98f3",
   "metadata": {},
   "outputs": [],
   "source": []
  }
 ],
 "metadata": {
  "kernelspec": {
   "display_name": "R",
   "language": "R",
   "name": "ir"
  },
  "language_info": {
   "codemirror_mode": "r",
   "file_extension": ".r",
   "mimetype": "text/x-r-source",
   "name": "R",
   "pygments_lexer": "r",
   "version": "3.6.2"
  }
 },
 "nbformat": 4,
 "nbformat_minor": 5
}

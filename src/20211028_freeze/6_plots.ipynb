{
 "cells": [
  {
   "cell_type": "markdown",
   "metadata": {},
   "source": [
    "# PRS map - summary plots\n",
    "\n",
    "Yosuke Tanigawa\n"
   ]
  },
  {
   "cell_type": "markdown",
   "metadata": {},
   "source": [
    "## library, functions, and constants"
   ]
  },
  {
   "cell_type": "code",
   "execution_count": 1,
   "metadata": {},
   "outputs": [],
   "source": [
    "suppressWarnings(suppressPackageStartupMessages({\n",
    "    library(tidyverse)\n",
    "    library(data.table)\n",
    "}))\n"
   ]
  },
  {
   "cell_type": "code",
   "execution_count": 2,
   "metadata": {},
   "outputs": [
    {
     "name": "stderr",
     "output_type": "stream",
     "text": [
      "\u001b[36mℹ\u001b[39m Loading \u001b[34m\u001b[34mcud4\u001b[34m\u001b[39m\n",
      "\n"
     ]
    }
   ],
   "source": [
    "source('paths.sh')\n",
    "devtools::load_all(cud4_d)\n",
    "source(snpnet_helper)\n"
   ]
  },
  {
   "cell_type": "code",
   "execution_count": 3,
   "metadata": {},
   "outputs": [],
   "source": [
    "traits_w_metrics_f %>%\n",
    "fread() %>%\n",
    "rename_with(\n",
    "    function(x){str_replace(x, '#', '')}, starts_with(\"#\")\n",
    ") %>%\n",
    "mutate(\n",
    "    trait_label=sprintf('%s (%s)', trait_name, trait),\n",
    ") -> traits_w_metrics_df\n"
   ]
  },
  {
   "cell_type": "code",
   "execution_count": 4,
   "metadata": {},
   "outputs": [
    {
     "data": {
      "text/html": [
       "<table class=\"dataframe\">\n",
       "<caption>A data.table: 2 × 3</caption>\n",
       "<thead>\n",
       "\t<tr><th scope=col>WBtest_is_significant</th><th scope=col>binomial</th><th scope=col>gaussian</th></tr>\n",
       "\t<tr><th scope=col>&lt;lgl&gt;</th><th scope=col>&lt;int&gt;</th><th scope=col>&lt;int&gt;</th></tr>\n",
       "</thead>\n",
       "<tbody>\n",
       "\t<tr><td> TRUE</td><td>269</td><td>603</td></tr>\n",
       "\t<tr><td>FALSE</td><td>425</td><td>268</td></tr>\n",
       "</tbody>\n",
       "</table>\n"
      ],
      "text/latex": [
       "A data.table: 2 × 3\n",
       "\\begin{tabular}{lll}\n",
       " WBtest\\_is\\_significant & binomial & gaussian\\\\\n",
       " <lgl> & <int> & <int>\\\\\n",
       "\\hline\n",
       "\t  TRUE & 269 & 603\\\\\n",
       "\t FALSE & 425 & 268\\\\\n",
       "\\end{tabular}\n"
      ],
      "text/markdown": [
       "\n",
       "A data.table: 2 × 3\n",
       "\n",
       "| WBtest_is_significant &lt;lgl&gt; | binomial &lt;int&gt; | gaussian &lt;int&gt; |\n",
       "|---|---|---|\n",
       "|  TRUE | 269 | 603 |\n",
       "| FALSE | 425 | 268 |\n",
       "\n"
      ],
      "text/plain": [
       "  WBtest_is_significant binomial gaussian\n",
       "1  TRUE                 269      603     \n",
       "2 FALSE                 425      268     "
      ]
     },
     "metadata": {},
     "output_type": "display_data"
    }
   ],
   "source": [
    "traits_w_metrics_df%>%\n",
    "count(WBtest_is_significant, family) %>%\n",
    "spread(family, n) %>%\n",
    "arrange(-WBtest_is_significant)\n"
   ]
  },
  {
   "cell_type": "code",
   "execution_count": 5,
   "metadata": {},
   "outputs": [],
   "source": [
    "eval_full_f %>%\n",
    "fread() %>%\n",
    "rename_with(\n",
    "    function(x){str_replace(x, '#', '')}, starts_with(\"#\")\n",
    ") -> eval_full_df\n"
   ]
  },
  {
   "cell_type": "code",
   "execution_count": 6,
   "metadata": {},
   "outputs": [],
   "source": [
    "# GWAS h2 table (heritability)\n",
    "GWAS_h2_f %>% \n",
    "fread() %>%\n",
    "rename_with(\n",
    "    function(x){str_replace(x, '#', '')}, starts_with(\"#\")\n",
    ") -> GWAS_h2_df\n"
   ]
  },
  {
   "cell_type": "markdown",
   "metadata": {},
   "source": [
    "## Histogram - incremental predictive performance"
   ]
  },
  {
   "cell_type": "code",
   "execution_count": 7,
   "metadata": {},
   "outputs": [],
   "source": [
    "p_histo_binomial <- traits_w_metrics_df %>%  \n",
    "filter(\n",
    "    WBtest_is_significant,\n",
    "    family == 'binomial'\n",
    ") %>%\n",
    "ggplot(aes(x = pred_delta)) +\n",
    "geom_vline(xintercept = 0, color='red') +\n",
    "geom_histogram(bins=30) +\n",
    "theme_bw(base_size = 16) +\n",
    "labs(\n",
    "    title = 'Binary traits (Binomial model)',\n",
    "    x = latex2exp::TeX('Incremental AUC'),\n",
    "    y = 'Number of traits'\n",
    ")\n",
    "\n",
    "p_histo_gaussian <- traits_w_metrics_df %>%  \n",
    "filter(\n",
    "    WBtest_is_significant,\n",
    "    family == 'gaussian'\n",
    ") %>%\n",
    "ggplot(aes(x = pred_delta)) +\n",
    "geom_vline(xintercept = 0, color='red') +\n",
    "geom_histogram(bins=30) +\n",
    "theme_bw(base_size = 16) +\n",
    "labs(\n",
    "    title = 'Quantitative traits (Gaussian model)',\n",
    "    x = latex2exp::TeX('Incremental \\\\textit{R}$^2$'),\n",
    "    y = 'Number of traits'\n",
    ")\n"
   ]
  },
  {
   "cell_type": "code",
   "execution_count": 8,
   "metadata": {},
   "outputs": [],
   "source": [
    "for(ext in c('png', 'pdf')){ggsave(\n",
    "    sprintf('incremental-R2AUC.%s', ext),\n",
    "    gridExtra::arrangeGrob(\n",
    "        p_histo_binomial,\n",
    "        p_histo_gaussian,\n",
    "        ncol=2\n",
    "    ),\n",
    "    width=16, height=8\n",
    ")}\n"
   ]
  },
  {
   "cell_type": "markdown",
   "metadata": {},
   "source": [
    "## Predictive performance vs. model size plot\n",
    "\n",
    "- x-axis: log10(number of variants in the PRS model),\n",
    "- y-axis: the delta in predictive performance (do color coding by gaussian, binomial, etc family)\n"
   ]
  },
  {
   "cell_type": "markdown",
   "metadata": {},
   "source": [
    "### relationship between the two variables"
   ]
  },
  {
   "cell_type": "code",
   "execution_count": 9,
   "metadata": {},
   "outputs": [],
   "source": [
    "cor_test_wrapper <- function(df, cor_test_method){cor.test(\n",
    "    df %>% pull(pred_delta),\n",
    "    df %>% pull(n_variables),\n",
    "    method = cor_test_method\n",
    ")}\n"
   ]
  },
  {
   "cell_type": "code",
   "execution_count": 10,
   "metadata": {},
   "outputs": [
    {
     "name": "stderr",
     "output_type": "stream",
     "text": [
      "Warning message in cor.test.default(df %>% pull(pred_delta), df %>% pull(n_variables), :\n",
      "“Cannot compute exact p-value with ties”\n",
      "Warning message in cor.test.default(df %>% pull(pred_delta), df %>% pull(n_variables), :\n",
      "“Cannot compute exact p-value with ties”\n"
     ]
    }
   ],
   "source": [
    "traits_w_metrics_df %>%  \n",
    "filter(\n",
    "    WBtest_is_significant,\n",
    "    family == 'binomial'\n",
    ") %>%\n",
    "cor_test_wrapper('spearman') -> rho_binomial\n",
    "\n",
    "traits_w_metrics_df %>%  \n",
    "filter(\n",
    "    WBtest_is_significant,\n",
    "    family == 'gaussian'\n",
    ") %>%\n",
    "cor_test_wrapper('spearman') -> rho_gaussian\n"
   ]
  },
  {
   "cell_type": "code",
   "execution_count": 11,
   "metadata": {},
   "outputs": [
    {
     "name": "stdout",
     "output_type": "stream",
     "text": [
      "\n",
      "\tSpearman's rank correlation rho\n",
      "\n",
      "data:  df %>% pull(pred_delta) and df %>% pull(n_variables)\n",
      "S = 2917600, p-value = 0.09948\n",
      "alternative hypothesis: true rho is not equal to 0\n",
      "sample estimates:\n",
      "      rho \n",
      "0.1006553 \n",
      "\n",
      "\n",
      "\tSpearman's rank correlation rho\n",
      "\n",
      "data:  df %>% pull(pred_delta) and df %>% pull(n_variables)\n",
      "S = 12978460, p-value < 2.2e-16\n",
      "alternative hypothesis: true rho is not equal to 0\n",
      "sample estimates:\n",
      "      rho \n",
      "0.6448403 \n",
      "\n",
      "[1] 3.542918e-72\n"
     ]
    }
   ],
   "source": [
    "rho_binomial %>% print\n",
    "rho_gaussian %>% print\n",
    "rho_gaussian$p.value %>% print"
   ]
  },
  {
   "cell_type": "markdown",
   "metadata": {},
   "source": [
    "### list of traits to annotate in the plot"
   ]
  },
  {
   "cell_type": "code",
   "execution_count": 12,
   "metadata": {},
   "outputs": [],
   "source": [
    "p_delta_vs_size_labels <- data.frame(\n",
    "    plot_label = c(\n",
    "        # Binary traits\n",
    "        'Iritis',\n",
    "        'Porphyrin and\\nbilirubin metabolism\\ndisorders (TTE)',\n",
    "        'Hair color (red)',\n",
    "        'Hair color (blonde)',\n",
    "        'Hair color (dark brown)',\n",
    "        'Celiac disease',\n",
    "        'Genetic\\nhematological\\ndisorder',\n",
    "        'Type 1 diabetes',\n",
    "        'Ankylosing\\nspondylitis',\n",
    "        'Other coagulation\\ndefects (TTE)',\n",
    "        'Intestinal malabsorption (TTE)',\n",
    "        # Quantitative traits\n",
    "        'Lipoprotein A',\n",
    "        'Total bilirubin',\n",
    "        'Direct billirubin',\n",
    "        'Mean platelet volume',\n",
    "        'Apolipoprotein B',\n",
    "        'EBNA-1 antigen for\\nEpstein-Barr Virus',\n",
    "        'Standing\\nheight'\n",
    "    ),\n",
    "    trait = c(\n",
    "        # Binary traits\n",
    "        'HC26',\n",
    "        'HC702',\n",
    "        'BIN_FC2001747',\n",
    "        'BIN_FC1001747',\n",
    "        'BIN_FC4001747',\n",
    "        'HC303',\n",
    "        'HC413',\n",
    "        'HC337',\n",
    "        'HC422',\n",
    "        'HC624',\n",
    "        'HC1132',\n",
    "        # Quantitative traits\n",
    "        'INI30790',\n",
    "        'INI30840',\n",
    "        'INI30660',\n",
    "        'INI30100',\n",
    "        'INI30640',\n",
    "        'INI23004',\n",
    "        'INI50'\n",
    "    ),\n",
    "    stringsAsFactors=F\n",
    ")\n"
   ]
  },
  {
   "cell_type": "markdown",
   "metadata": {},
   "source": [
    "### plot size vs delta (incremental predictive performance)"
   ]
  },
  {
   "cell_type": "code",
   "execution_count": 13,
   "metadata": {},
   "outputs": [],
   "source": [
    "p_delta_vs_size_binomial <- traits_w_metrics_df %>%  \n",
    "filter(\n",
    "    WBtest_is_significant,\n",
    "    family == 'binomial'\n",
    ") %>%\n",
    "left_join(p_delta_vs_size_labels, by='trait') %>%\n",
    "replace_na(list('plot_label'='')) %>%\n",
    "ggplot(aes(x  = n_variables, y = pred_delta, color=trait_category_plot, label=trait_label)) +\n",
    "geom_point(alpha=.5) + scale_x_continuous(trans='log10') +\n",
    "theme_bw(base_size = 16) + labs(\n",
    "    title = 'Binary traits (Binomial model)',\n",
    "    x = 'Number of genetic variants',\n",
    "    y = 'Incremental AUC',\n",
    "    color = 'Trait category'\n",
    ") + \n",
    "theme(legend.position = 'bottom') +\n",
    "guides(\n",
    "  color = guide_legend(\n",
    "    title = 'Trait category',\n",
    "    override.aes = aes(label = \"\", alpha=1),\n",
    "    ncol=2\n",
    "  )\n",
    ")\n",
    "\n",
    "p_delta_vs_size_gaussian <- traits_w_metrics_df %>%  \n",
    "filter(\n",
    "    WBtest_is_significant,\n",
    "    family == 'gaussian'\n",
    ") %>%\n",
    "left_join(p_delta_vs_size_labels, by='trait') %>%\n",
    "replace_na(list('plot_label'='')) %>%\n",
    "ggplot(aes(x  = n_variables, y = pred_delta, color=trait_category_plot, label=trait_label)) +\n",
    "geom_point(alpha=.5) + scale_x_continuous(trans='log10') +\n",
    "theme_bw(base_size = 16) + labs(\n",
    "    title = 'Quantitative traits (Gaussian model)',\n",
    "    x = 'Number of genetic variants',\n",
    "    y = latex2exp::TeX('Incremental \\\\textit{R}$^2$'),\n",
    "    color = 'Trait category'\n",
    ") + \n",
    "theme(legend.position = 'bottom') +\n",
    "guides(\n",
    "  color = guide_legend(\n",
    "    title = 'Trait category',\n",
    "    override.aes = aes(label = \"\", alpha=1),\n",
    "    ncol=2\n",
    "  )\n",
    ")"
   ]
  },
  {
   "cell_type": "code",
   "execution_count": 14,
   "metadata": {},
   "outputs": [],
   "source": [
    "for(ext in c('png', 'pdf')){ggsave(\n",
    "    sprintf('size_vs_delta.%s', ext),\n",
    "    gridExtra::arrangeGrob(\n",
    "        # binomial\n",
    "        p_delta_vs_size_binomial  +\n",
    "        annotate(\n",
    "            geom=\"text\", x = 1, y = .38, color=\"black\", hjust = 0, parse = TRUE, size = 7,\n",
    "            label=sprintf(\n",
    "                \"\\\"Spearman's\\\" ~ rho == %0.2f\",\n",
    "                round(rho_binomial$estimate, 2)\n",
    "            ),\n",
    "        ) + annotate(\n",
    "            geom=\"text\", x = 1, y = .35, color=\"black\", hjust = 0, parse = TRUE, size = 7,\n",
    "            label = sprintf(\n",
    "                \"\\\"(p-value: \\\" * %.1e * \\\")\\\"\",\n",
    "                rho_binomial$p.value\n",
    "            )\n",
    "        ) +\n",
    "        ggrepel::geom_text_repel(force=20, mapping = aes(label = plot_label)),\n",
    "        # gaussian\n",
    "        p_delta_vs_size_gaussian  +\n",
    "        annotate(\n",
    "            geom=\"text\", x = 1, y = .35, color=\"black\", hjust = 0, parse = TRUE, size = 7,\n",
    "            label=sprintf(\n",
    "                \"\\\"Spearman's\\\" ~ rho == %0.2f\",\n",
    "                round(rho_gaussian$estimate, 2)\n",
    "            ),\n",
    "        ) + annotate(\n",
    "            geom=\"text\", x = 1, y = .32, color=\"black\", hjust = 0, parse = TRUE, size = 7,\n",
    "            label = sprintf(\n",
    "                \"\\\"(p-value: \\\" * %.1e * \\\")\\\"\",\n",
    "                rho_gaussian$p.value\n",
    "            )\n",
    "        ) +\n",
    "        ggrepel::geom_text_repel(force=20, mapping = aes(label = plot_label)),\n",
    "        # format\n",
    "        ncol=2\n",
    "    ),\n",
    "    width=16, height=9\n",
    ")}"
   ]
  },
  {
   "cell_type": "markdown",
   "metadata": {},
   "source": [
    "### export them to plotly plots\n",
    "Those files are now hosted on AFS (/afs/ir.stanford.edu/users/y/t/ytanigaw/WWW/PRSmap)\n",
    "- http://web.stanford.edu/~ytanigaw/PRSmap/size_vs_delta_binomial.html\n",
    "- http://web.stanford.edu/~ytanigaw/PRSmap/size_vs_delta__gaussian.html\n"
   ]
  },
  {
   "cell_type": "code",
   "execution_count": 16,
   "metadata": {},
   "outputs": [],
   "source": [
    "htmlwidgets::saveWidget(\n",
    "    p_delta_vs_size_binomial %>% plotly::ggplotly(),\n",
    "    'ggplotly/size_vs_delta_binomial.html'\n",
    ")\n",
    "\n",
    "htmlwidgets::saveWidget(\n",
    "    (p_delta_vs_size_gaussian +\n",
    "     # ggplotly does not support LaTex equation\n",
    "    labs(y = 'Incremental R^2') )%>% plotly::ggplotly(),\n",
    "    'ggplotly/size_vs_delta_gaussian.html'\n",
    ")\n"
   ]
  },
  {
   "cell_type": "code",
   "execution_count": 17,
   "metadata": {},
   "outputs": [],
   "source": [
    "for(ext in c('png', 'pdf')){\n",
    "    ggsave(\n",
    "        sprintf('size_vs_delta_binomial.%s', ext),\n",
    "        p_delta_vs_size_binomial  +\n",
    "        annotate(\n",
    "            geom=\"text\", x = 1, y = .38, color=\"black\", hjust = 0, parse = TRUE, size = 7,\n",
    "            label=sprintf(\n",
    "                \"\\\"Spearman's\\\" ~ rho == %0.2f\",\n",
    "                round(rho_binomial$estimate, 2)\n",
    "            ),\n",
    "        ) + annotate(\n",
    "            geom=\"text\", x = 1, y = .35, color=\"black\", hjust = 0, parse = TRUE, size = 7,\n",
    "            label = sprintf(\n",
    "                \"\\\"(p-value: \\\" * %.1e * \\\")\\\"\",\n",
    "                rho_binomial$p.value\n",
    "            )\n",
    "        ) +\n",
    "        ggrepel::geom_text_repel(force=20, mapping = aes(label = plot_label)),\n",
    "        width=8, height=9\n",
    "    )\n",
    "    ggsave(\n",
    "        sprintf('size_vs_delta_gaussian.%s', ext),\n",
    "\n",
    "        # gaussian\n",
    "        p_delta_vs_size_gaussian  +\n",
    "        annotate(\n",
    "            geom=\"text\", x = 1, y = .35, color=\"black\", hjust = 0, parse = TRUE, size = 7,\n",
    "            label=sprintf(\n",
    "                \"\\\"Spearman's\\\" ~ rho == %0.2f\",\n",
    "                round(rho_gaussian$estimate, 2)\n",
    "            ),\n",
    "        ) + annotate(\n",
    "            geom=\"text\", x = 1, y = .32, color=\"black\", hjust = 0, parse = TRUE, size = 7,\n",
    "            label = sprintf(\n",
    "                \"\\\"(p-value: \\\" * %.1e * \\\")\\\"\",\n",
    "                rho_gaussian$p.value\n",
    "            )\n",
    "        ) +\n",
    "        ggrepel::geom_text_repel(force=20, mapping = aes(label = plot_label)),\n",
    "        width=8, height=9\n",
    "    )\n",
    "}\n"
   ]
  },
  {
   "cell_type": "markdown",
   "metadata": {},
   "source": [
    "## R2 vs h2 plot"
   ]
  },
  {
   "cell_type": "code",
   "execution_count": 18,
   "metadata": {},
   "outputs": [],
   "source": [
    "p_h2_vs_geno_labels <- data.frame(\n",
    "    plot_label = c(\n",
    "        # Binary traits\n",
    "        'Started insulin within one year diagnosis of diabetes',\n",
    "        'JCV seropositivity for Human Polyomavirus JCV',\n",
    "        'MCV seropositivity for Merkel Cell Polyomavirus',\n",
    "        'Ease of skin tanning\\n(Never tan, only burn)',\n",
    "        'Hair color (red)',\n",
    "        'Hair color (blonde)',\n",
    "        'Hair color\\n(dark brown)',\n",
    "        'Hair color (brown)',\n",
    "        'Hair color (black)',\n",
    "        'Hair color (light brown)',\n",
    "        'Hypertension',\n",
    "        'High Blood Pressure diagnosed by doctor',\n",
    "        # Quantitative traits\n",
    "        'Platelet distribution width',\n",
    "        'Mean corpuscular volume',\n",
    "        'Platelet count',\n",
    "        '6mm weak meridian (left)',\n",
    "        'Lipoprotein A',\n",
    "        'Total bilirubin',\n",
    "        'Direct billirubin',\n",
    "        'Mean platelet volume',\n",
    "        'EBNA-1 antigen for Epstein-Barr Virus',\n",
    "        'Standing height'\n",
    "    ),\n",
    "    trait = c(\n",
    "        # Binary traits\n",
    "        'BIN_FC10002986',\n",
    "        'BIN23066',\n",
    "        'BIN23067',\n",
    "        'BIN_FC40001727',\n",
    "        'BIN_FC2001747',\n",
    "        'BIN_FC1001747',\n",
    "        'BIN_FC4001747',\n",
    "        'BIN_FC7001747',\n",
    "        'BIN_FC5001747',\n",
    "        'BIN_FC3001747',\n",
    "        'HC215',\n",
    "        'BIN_FC4006150',\n",
    "        # Quantitative traits\n",
    "        'INI30110',\n",
    "        'INI30040',\n",
    "        'INI30080',\n",
    "        'INI5097',\n",
    "        'INI30790',\n",
    "        'INI30840',\n",
    "        'INI30660',\n",
    "        'INI30100',\n",
    "        'INI23004',\n",
    "        'INI50'\n",
    "    ),\n",
    "    stringsAsFactors=F\n",
    ")"
   ]
  },
  {
   "cell_type": "code",
   "execution_count": 19,
   "metadata": {},
   "outputs": [],
   "source": [
    "p_h2_vs_geno_sub_labels <- data.frame(\n",
    "    plot_sub_label = c(\n",
    "        # Binary traits\n",
    "        'Asthma diagnosed by doctor',\n",
    "        'Hayfever rhinitis or eczema diagnosed by doctor',\n",
    "        'Hypothyroidism/myxoedema',\n",
    "        'Hayfever allergic rhinitis or eczema',\n",
    "        'Never Smoker',\n",
    "        'TTE disorders of\\nporphyrin and\\nbilirubin metabolism',\n",
    "        'Coeliac disease',\n",
    "        'Non-melanoma skin cancer',\n",
    "        'Skin cancer',\n",
    "        'Diabetes',\n",
    "        'Psoriasis',\n",
    "#         'Snoring',\n",
    "        'Worrier / anxious feelings',\n",
    "#         'Past tobacco smoking\\n(Smoked at least once)',\n",
    "        \n",
    "        # Quantitative traits\n",
    "        'Apolipoprotein B',\n",
    "        'Mean reticulocyte volume',\n",
    "        'Heel BMD', #bone mineral density\n",
    "#         'Apolipoprotein A',\n",
    "        'IGF-1',\n",
    "        'Red blood cell count',\n",
    "#         'High light scatter\\nreticulocyte count'\n",
    "        'LDL cholesterol',\n",
    "        'Cholesterol',\n",
    "        'Neutrophill %',\n",
    "        'Peak expiratory flow\\npredicted ratio',\n",
    "        'Vitamin D',\n",
    "        'Basophill %'\n",
    "    ),\n",
    "    trait = c(\n",
    "        # Binary traits\n",
    "        'BIN_FC4006152',\n",
    "        'BIN_FC5006152',\n",
    "        'HC219',\n",
    "        'BIN_FC10006152',\n",
    "        'BIN_FC10020116',\n",
    "        'HC702',\n",
    "        'HC303',\n",
    "        'cancer1060',\n",
    "        'cancer1003',    \n",
    "        'HC221',\n",
    "        'HC38',\n",
    "#         'BIN1210',\n",
    "        'BIN1980',\n",
    "#         'BIN_FC40001249',\n",
    "        \n",
    "        # Quantitative traits\n",
    "        'INI30640',\n",
    "        'INI30260',\n",
    "        'INI3148',\n",
    "#         'INI30630',\n",
    "        'INI30770',\n",
    "        'INI30010',\n",
    "#         'INI30300'\n",
    "        'INI30780',\n",
    "        'INI30690',\n",
    "        'INI30200',\n",
    "        'INI1003064',\n",
    "        'INI30890',\n",
    "        'INI30220'\n",
    "    ),\n",
    "    stringsAsFactors=F\n",
    ")"
   ]
  },
  {
   "cell_type": "code",
   "execution_count": 20,
   "metadata": {},
   "outputs": [],
   "source": [
    "h2_vs_geno_df <- eval_full_df %>%\n",
    "filter(\n",
    "    WBtest_is_significant,\n",
    "    model=='PRS',\n",
    "    split == 'test',\n",
    "    metric %in% c('r2', 'TjurR2')\n",
    "#     metric == c('r2', 'NagelkerkeR2')\n",
    ") %>%\n",
    "mutate(\n",
    "    trait_label=sprintf('%s (%s)', trait_name, trait),\n",
    ") %>%\n",
    "left_join(\n",
    "    GWAS_h2_df %>%\n",
    "    rename('trait'='p') %>%\n",
    "    select(trait, h2_obs, h2_obs_se) %>%\n",
    "    unique %>%\n",
    "    filter(! is.na(h2_obs)),\n",
    "    by=\"trait\"\n",
    ") %>%\n",
    "left_join(p_h2_vs_geno_labels, by='trait') %>%\n",
    "left_join(p_h2_vs_geno_sub_labels, by='trait') %>%\n",
    "replace_na(list('plot_label'='', 'plot_sub_label'=''))\n"
   ]
  },
  {
   "cell_type": "code",
   "execution_count": 21,
   "metadata": {},
   "outputs": [],
   "source": [
    "c('binomial', 'gaussian') %>%\n",
    "lapply(function(fam){\n",
    "    glm(\n",
    "        `eval` ~ 0 + h2_obs,\n",
    "        data = h2_vs_geno_df %>% filter(family == fam)\n",
    "    ) %>%\n",
    "    fit_to_df() %>%\n",
    "    mutate(family = fam)\n",
    "}) %>% bind_rows -> h2_vs_geno_regression_df\n",
    "\n"
   ]
  },
  {
   "cell_type": "code",
   "execution_count": 22,
   "metadata": {},
   "outputs": [
    {
     "data": {
      "text/html": [
       "<table class=\"dataframe\">\n",
       "<caption>A data.frame: 2 × 6</caption>\n",
       "<thead>\n",
       "\t<tr><th scope=col>variable</th><th scope=col>estimate</th><th scope=col>SE</th><th scope=col>z_or_t_value</th><th scope=col>P</th><th scope=col>family</th></tr>\n",
       "\t<tr><th scope=col>&lt;chr&gt;</th><th scope=col>&lt;dbl&gt;</th><th scope=col>&lt;dbl&gt;</th><th scope=col>&lt;dbl&gt;</th><th scope=col>&lt;dbl&gt;</th><th scope=col>&lt;chr&gt;</th></tr>\n",
       "</thead>\n",
       "<tbody>\n",
       "\t<tr><td>h2_obs</td><td>0.2000167</td><td>0.02764785</td><td> 7.234442</td><td>4.916634e-12</td><td>binomial</td></tr>\n",
       "\t<tr><td>h2_obs</td><td>0.1471976</td><td>0.00776468</td><td>18.957326</td><td>3.400401e-63</td><td>gaussian</td></tr>\n",
       "</tbody>\n",
       "</table>\n"
      ],
      "text/latex": [
       "A data.frame: 2 × 6\n",
       "\\begin{tabular}{llllll}\n",
       " variable & estimate & SE & z\\_or\\_t\\_value & P & family\\\\\n",
       " <chr> & <dbl> & <dbl> & <dbl> & <dbl> & <chr>\\\\\n",
       "\\hline\n",
       "\t h2\\_obs & 0.2000167 & 0.02764785 &  7.234442 & 4.916634e-12 & binomial\\\\\n",
       "\t h2\\_obs & 0.1471976 & 0.00776468 & 18.957326 & 3.400401e-63 & gaussian\\\\\n",
       "\\end{tabular}\n"
      ],
      "text/markdown": [
       "\n",
       "A data.frame: 2 × 6\n",
       "\n",
       "| variable &lt;chr&gt; | estimate &lt;dbl&gt; | SE &lt;dbl&gt; | z_or_t_value &lt;dbl&gt; | P &lt;dbl&gt; | family &lt;chr&gt; |\n",
       "|---|---|---|---|---|---|\n",
       "| h2_obs | 0.2000167 | 0.02764785 |  7.234442 | 4.916634e-12 | binomial |\n",
       "| h2_obs | 0.1471976 | 0.00776468 | 18.957326 | 3.400401e-63 | gaussian |\n",
       "\n"
      ],
      "text/plain": [
       "  variable estimate  SE         z_or_t_value P            family  \n",
       "1 h2_obs   0.2000167 0.02764785  7.234442    4.916634e-12 binomial\n",
       "2 h2_obs   0.1471976 0.00776468 18.957326    3.400401e-63 gaussian"
      ]
     },
     "metadata": {},
     "output_type": "display_data"
    }
   ],
   "source": [
    "h2_vs_geno_regression_df\n"
   ]
  },
  {
   "cell_type": "code",
   "execution_count": 23,
   "metadata": {},
   "outputs": [],
   "source": [
    "p_h2_vs_geno_binomial <- h2_vs_geno_df %>%\n",
    "filter(family == 'binomial') %>%\n",
    "ggplot(aes(x  = h2_obs, y = `eval`, color=trait_category_plot, label=trait_label)) +\n",
    "geom_errorbarh(aes(xmin = h2_obs - h2_obs_se, xmax = h2_obs + h2_obs_se), alpha=.2) +\n",
    "geom_abline(\n",
    "    intercept=0,\n",
    "    slope=h2_vs_geno_regression_df %>% filter(family == 'binomial') %>% pull(estimate),\n",
    "    color='gray',\n",
    "    linetype = \"dashed\"\n",
    ") +\n",
    "geom_abline(intercept=0, slope=1, color='gray') +\n",
    "geom_point(alpha=.5) +\n",
    "theme_bw(base_size = 16) + labs(\n",
    "    title = 'Binary traits (Binomial model)',\n",
    "    x = 'Estimated SNP-based heritability [SE]',\n",
    "    y = latex2exp::TeX('Predictive performance (Tjur\\'s pseudo \\\\textit{R}$^2$)'),\n",
    "    color = 'Trait category'\n",
    ") + \n",
    "theme(legend.position = 'bottom') +\n",
    "guides(\n",
    "  color = guide_legend(\n",
    "    title = 'Trait category',\n",
    "    override.aes = aes(label = \"\", alpha=1),\n",
    "    ncol=2\n",
    "  )\n",
    ")\n",
    "\n",
    "p_h2_vs_geno_gaussian <- h2_vs_geno_df %>%\n",
    "filter(family == 'gaussian') %>%\n",
    "ggplot(aes(x  = h2_obs, y = `eval`, color=trait_category_plot, label=trait_label)) +\n",
    "geom_errorbarh(aes(xmin = h2_obs - h2_obs_se, xmax = h2_obs + h2_obs_se), alpha=.2) +\n",
    "geom_abline(\n",
    "    intercept=0,\n",
    "    slope=h2_vs_geno_regression_df %>% filter(family == 'gaussian') %>% pull(estimate),\n",
    "    color='gray',\n",
    "    linetype = \"dashed\"\n",
    ") +\n",
    "geom_abline(intercept=0, slope=1, color='gray') +\n",
    "geom_point(alpha=.5) +\n",
    "theme_bw(base_size = 16) + labs(\n",
    "    title = 'Quantitative traits (Gaussian model)',\n",
    "    x = 'Estimated SNP-based heritability [SE]',\n",
    "    y = latex2exp::TeX('Predictive performance (\\\\textit{R}$^2$)'),\n",
    "    color = 'Trait category'\n",
    ") + \n",
    "theme(legend.position = 'bottom') +\n",
    "guides(\n",
    "  color = guide_legend(\n",
    "    title = 'Trait category',\n",
    "    override.aes = aes(label = \"\", alpha=1),\n",
    "    ncol=2\n",
    "  )\n",
    ")\n"
   ]
  },
  {
   "cell_type": "code",
   "execution_count": 24,
   "metadata": {},
   "outputs": [
    {
     "name": "stderr",
     "output_type": "stream",
     "text": [
      "Warning message:\n",
      "“Removed 14 rows containing missing values (geom_errorbarh).”\n",
      "Warning message:\n",
      "“Removed 14 rows containing missing values (geom_point).”\n",
      "Warning message:\n",
      "“Removed 14 rows containing missing values (geom_text_repel).”\n",
      "Warning message:\n",
      "“Removed 176 rows containing missing values (geom_errorbarh).”\n",
      "Warning message:\n",
      "“Removed 115 rows containing missing values (geom_point).”\n",
      "Warning message:\n",
      "“Removed 115 rows containing missing values (geom_text_repel).”\n",
      "Warning message:\n",
      "“Removed 14 rows containing missing values (geom_errorbarh).”\n",
      "Warning message:\n",
      "“Removed 14 rows containing missing values (geom_point).”\n",
      "Warning message:\n",
      "“Removed 14 rows containing missing values (geom_text_repel).”\n",
      "Warning message:\n",
      "“Removed 176 rows containing missing values (geom_errorbarh).”\n",
      "Warning message:\n",
      "“Removed 115 rows containing missing values (geom_point).”\n",
      "Warning message:\n",
      "“Removed 115 rows containing missing values (geom_text_repel).”\n"
     ]
    }
   ],
   "source": [
    "for(ext in c('png', 'pdf')){ggsave(\n",
    "    sprintf('h2_vs_geno.%s', ext),\n",
    "    gridExtra::arrangeGrob(\n",
    "        # binomial\n",
    "        p_h2_vs_geno_binomial +\n",
    "        geom_rect(mapping=aes(xmin=0, xmax=.14, ymin=0, ymax=.038), color=\"black\", alpha=0, size=.05) +\n",
    "        annotation_custom(\n",
    "            ggplotGrob(\n",
    "                p_h2_vs_geno_binomial +\n",
    "                theme(\n",
    "                    legend.position = 'none',\n",
    "                    axis.title.x=element_blank(),\n",
    "                    axis.title.y=element_blank(),\n",
    "                    title=element_blank()\n",
    "                ) +\n",
    "                xlim(0, 0.14) + ylim(0, 0.038) +\n",
    "                ggrepel::geom_text_repel(max.overlaps=30, force=20, mapping = aes(label = plot_sub_label))\n",
    "            ), \n",
    "            xmin = .3, xmax = 1.15, ymin = .11, ymax = 0.51\n",
    "        ) +\n",
    "        ggrepel::geom_text_repel(max.overlaps=30, force=20, mapping = aes(label = plot_label)),\n",
    "        # gaussian\n",
    "        p_h2_vs_geno_gaussian  +\n",
    "        geom_rect(mapping=aes(xmin=0, xmax=.3, ymin=0, ymax=.15), color=\"black\", alpha=0, size=.05) +\n",
    "        annotation_custom(\n",
    "            ggplotGrob(\n",
    "                p_h2_vs_geno_gaussian +\n",
    "                theme(\n",
    "                    legend.position = 'none',\n",
    "                    axis.title.x=element_blank(),\n",
    "                    axis.title.y=element_blank(),\n",
    "                    title=element_blank()\n",
    "                ) +\n",
    "                xlim(0, 0.3) + ylim(0, 0.15) +\n",
    "                ggrepel::geom_text_repel(max.overlaps=30, force=20, mapping = aes(label = plot_sub_label))\n",
    "            ), \n",
    "            xmin = .5, xmax = 1.28, ymin = .16, ymax = 0.56\n",
    "        ) +\n",
    "        ggrepel::geom_text_repel(max.overlaps=30, force=20, mapping = aes(label = plot_label)),\n",
    "        # format\n",
    "        ncol=2\n",
    "    ),\n",
    "    width=16, height=9\n",
    ")}"
   ]
  },
  {
   "cell_type": "code",
   "execution_count": 25,
   "metadata": {},
   "outputs": [],
   "source": [
    "htmlwidgets::saveWidget(\n",
    "    (p_h2_vs_geno_binomial +\n",
    "     # ggplotly does not support LaTex equation\n",
    "    labs(y = 'Predictive performance (Tjur\\'s pseudo R^2)') ) %>% plotly::ggplotly(),\n",
    "    'ggplotly/h2_vs_geno_binomial.html'\n",
    ")\n",
    "\n",
    "htmlwidgets::saveWidget(\n",
    "    (p_h2_vs_geno_gaussian +\n",
    "     # ggplotly does not support LaTex equation\n",
    "    labs(y = 'Predictive performance (R^2)') )%>% plotly::ggplotly(),\n",
    "    'ggplotly/h2_vs_geno_gaussian.html'\n",
    ")"
   ]
  },
  {
   "cell_type": "markdown",
   "metadata": {},
   "source": [
    "## Transferability assessment"
   ]
  },
  {
   "cell_type": "code",
   "execution_count": 30,
   "metadata": {},
   "outputs": [],
   "source": [
    "transferability_eval_func <- function(ancestry_group_metric, WB_test_set_metric){\n",
    "    ancestry_group_metric - WB_test_set_metric\n",
    "}\n"
   ]
  },
  {
   "cell_type": "code",
   "execution_count": 31,
   "metadata": {},
   "outputs": [],
   "source": [
    "get_split_order_df <- function(){\n",
    "    data.frame(\n",
    "        split = c('non_british_white', 's_asian', 'e_asian', 'african'),\n",
    "        split_plot = c('Non-British white', 'South Asian', 'East Asian', 'African'),\n",
    "        split_order=1:4, stringsAsFactors=F\n",
    "    )\n",
    "}\n"
   ]
  },
  {
   "cell_type": "code",
   "execution_count": 32,
   "metadata": {},
   "outputs": [],
   "source": [
    "get_split_color_dict <- function(){\n",
    "    setNames(\n",
    "        c(cud4_colors()['gray'], cud4_colors()['purple'], cud4_colors()['sky_blue'], cud4_colors()['orange'] ),\n",
    "        c('Non-British white', 'South Asian', 'East Asian', 'African')\n",
    "    )\n",
    "}\n"
   ]
  },
  {
   "cell_type": "code",
   "execution_count": 33,
   "metadata": {},
   "outputs": [],
   "source": [
    "traits_w_metrics_df %>% \n",
    "select(all_of(c(\n",
    "    'trait', 'trait_name', 'trait_category',\n",
    "    'trait_category_plot', 'trait_label',\n",
    "    'family', 'WBtest_is_significant'\n",
    "))) %>%\n",
    "inner_join(    \n",
    "    eval_full_df %>%\n",
    "    drop_na(`eval`) %>%\n",
    "    filter(metric %in% c('r2', 'auc')) %>%\n",
    "    select(trait, model, split, `eval`) %>%\n",
    "    spread(model, `eval`) %>%\n",
    "    mutate(pred_delta = full - covar) %>%\n",
    "    select(trait, split, pred_delta) %>%\n",
    "    filter(\n",
    "        split %in% c('test', 'non_british_white', 'african', 's_asian', 'e_asian')\n",
    "    ) %>% \n",
    "    spread(split, pred_delta) %>%\n",
    "    mutate(across(\n",
    "        c('non_british_white', 'african', 's_asian', 'e_asian'),\n",
    "        function(x){ transferability_eval_func(x, test) }\n",
    "    )) %>%\n",
    "    gather(split, pred_delta_vs_WBtest, -trait, -test) %>%\n",
    "    drop_na(pred_delta_vs_WBtest) %>%\n",
    "    rename(\n",
    "        'pred_delta_WBtest'='test'\n",
    "    ),\n",
    "    by = \"trait\"\n",
    ") %>%\n",
    "left_join(\n",
    "    get_split_order_df(),\n",
    "    by = \"split\"\n",
    ") -> transferability_df\n"
   ]
  },
  {
   "cell_type": "code",
   "execution_count": 34,
   "metadata": {},
   "outputs": [
    {
     "data": {
      "text/html": [
       "<table class=\"dataframe\">\n",
       "<caption>A data.table: 4 × 3</caption>\n",
       "<thead>\n",
       "\t<tr><th scope=col>split</th><th scope=col>binomial</th><th scope=col>gaussian</th></tr>\n",
       "\t<tr><th scope=col>&lt;chr&gt;</th><th scope=col>&lt;int&gt;</th><th scope=col>&lt;int&gt;</th></tr>\n",
       "</thead>\n",
       "<tbody>\n",
       "\t<tr><td>african          </td><td>266</td><td>603</td></tr>\n",
       "\t<tr><td>e_asian          </td><td>237</td><td>603</td></tr>\n",
       "\t<tr><td>non_british_white</td><td>269</td><td>603</td></tr>\n",
       "\t<tr><td>s_asian          </td><td>267</td><td>603</td></tr>\n",
       "</tbody>\n",
       "</table>\n"
      ],
      "text/latex": [
       "A data.table: 4 × 3\n",
       "\\begin{tabular}{lll}\n",
       " split & binomial & gaussian\\\\\n",
       " <chr> & <int> & <int>\\\\\n",
       "\\hline\n",
       "\t african           & 266 & 603\\\\\n",
       "\t e\\_asian           & 237 & 603\\\\\n",
       "\t non\\_british\\_white & 269 & 603\\\\\n",
       "\t s\\_asian           & 267 & 603\\\\\n",
       "\\end{tabular}\n"
      ],
      "text/markdown": [
       "\n",
       "A data.table: 4 × 3\n",
       "\n",
       "| split &lt;chr&gt; | binomial &lt;int&gt; | gaussian &lt;int&gt; |\n",
       "|---|---|---|\n",
       "| african           | 266 | 603 |\n",
       "| e_asian           | 237 | 603 |\n",
       "| non_british_white | 269 | 603 |\n",
       "| s_asian           | 267 | 603 |\n",
       "\n"
      ],
      "text/plain": [
       "  split             binomial gaussian\n",
       "1 african           266      603     \n",
       "2 e_asian           237      603     \n",
       "3 non_british_white 269      603     \n",
       "4 s_asian           267      603     "
      ]
     },
     "metadata": {},
     "output_type": "display_data"
    }
   ],
   "source": [
    "transferability_df %>%\n",
    "filter(WBtest_is_significant) %>%\n",
    "count(split, family) %>%\n",
    "spread(family, n)\n"
   ]
  },
  {
   "cell_type": "markdown",
   "metadata": {},
   "source": [
    "This is consistent with what we have"
   ]
  },
  {
   "cell_type": "code",
   "execution_count": 35,
   "metadata": {},
   "outputs": [
    {
     "data": {
      "text/html": [
       "<table class=\"dataframe\">\n",
       "<caption>A data.table: 4 × 3</caption>\n",
       "<thead>\n",
       "\t<tr><th scope=col>split</th><th scope=col>binomial</th><th scope=col>gaussian</th></tr>\n",
       "\t<tr><th scope=col>&lt;chr&gt;</th><th scope=col>&lt;int&gt;</th><th scope=col>&lt;int&gt;</th></tr>\n",
       "</thead>\n",
       "<tbody>\n",
       "\t<tr><td>african          </td><td>266</td><td>603</td></tr>\n",
       "\t<tr><td>e_asian          </td><td>237</td><td>603</td></tr>\n",
       "\t<tr><td>non_british_white</td><td>269</td><td>603</td></tr>\n",
       "\t<tr><td>s_asian          </td><td>267</td><td>603</td></tr>\n",
       "</tbody>\n",
       "</table>\n"
      ],
      "text/latex": [
       "A data.table: 4 × 3\n",
       "\\begin{tabular}{lll}\n",
       " split & binomial & gaussian\\\\\n",
       " <chr> & <int> & <int>\\\\\n",
       "\\hline\n",
       "\t african           & 266 & 603\\\\\n",
       "\t e\\_asian           & 237 & 603\\\\\n",
       "\t non\\_british\\_white & 269 & 603\\\\\n",
       "\t s\\_asian           & 267 & 603\\\\\n",
       "\\end{tabular}\n"
      ],
      "text/markdown": [
       "\n",
       "A data.table: 4 × 3\n",
       "\n",
       "| split &lt;chr&gt; | binomial &lt;int&gt; | gaussian &lt;int&gt; |\n",
       "|---|---|---|\n",
       "| african           | 266 | 603 |\n",
       "| e_asian           | 237 | 603 |\n",
       "| non_british_white | 269 | 603 |\n",
       "| s_asian           | 267 | 603 |\n",
       "\n"
      ],
      "text/plain": [
       "  split             binomial gaussian\n",
       "1 african           266      603     \n",
       "2 e_asian           237      603     \n",
       "3 non_british_white 269      603     \n",
       "4 s_asian           267      603     "
      ]
     },
     "metadata": {},
     "output_type": "display_data"
    }
   ],
   "source": [
    "eval_full_df %>%\n",
    "drop_na(`eval`) %>%\n",
    "filter(\n",
    "    WBtest_is_significant,\n",
    "    model %in% c('full'),\n",
    "    split %in% c('non_british_white', 'african', 's_asian', 'e_asian'),\n",
    "    metric %in% c('r2', 'auc')\n",
    ") %>%\n",
    "count(split, family) %>%\n",
    "spread(family, n)\n"
   ]
  },
  {
   "cell_type": "markdown",
   "metadata": {},
   "source": [
    "### median of the diff(incremental predictive performance in other ancestry group vs WB)"
   ]
  },
  {
   "cell_type": "code",
   "execution_count": 36,
   "metadata": {},
   "outputs": [
    {
     "data": {
      "text/html": [
       "<table class=\"dataframe\">\n",
       "<caption>A tibble: 4 × 5</caption>\n",
       "<thead>\n",
       "\t<tr><th scope=col>split</th><th scope=col>binomial</th><th scope=col>gaussian</th><th scope=col>split_plot</th><th scope=col>split_order</th></tr>\n",
       "\t<tr><th scope=col>&lt;chr&gt;</th><th scope=col>&lt;dbl&gt;</th><th scope=col>&lt;dbl&gt;</th><th scope=col>&lt;chr&gt;</th><th scope=col>&lt;int&gt;</th></tr>\n",
       "</thead>\n",
       "<tbody>\n",
       "\t<tr><td>non_british_white</td><td>-0.0005767017</td><td>-0.0002677496</td><td>Non-British white</td><td>1</td></tr>\n",
       "\t<tr><td>s_asian          </td><td>-0.0011065331</td><td>-0.0038936344</td><td>South Asian      </td><td>2</td></tr>\n",
       "\t<tr><td>e_asian          </td><td>-0.0016157189</td><td>-0.0018617157</td><td>East Asian       </td><td>3</td></tr>\n",
       "\t<tr><td>african          </td><td>-0.0019864951</td><td>-0.0060910854</td><td>African          </td><td>4</td></tr>\n",
       "</tbody>\n",
       "</table>\n"
      ],
      "text/latex": [
       "A tibble: 4 × 5\n",
       "\\begin{tabular}{lllll}\n",
       " split & binomial & gaussian & split\\_plot & split\\_order\\\\\n",
       " <chr> & <dbl> & <dbl> & <chr> & <int>\\\\\n",
       "\\hline\n",
       "\t non\\_british\\_white & -0.0005767017 & -0.0002677496 & Non-British white & 1\\\\\n",
       "\t s\\_asian           & -0.0011065331 & -0.0038936344 & South Asian       & 2\\\\\n",
       "\t e\\_asian           & -0.0016157189 & -0.0018617157 & East Asian        & 3\\\\\n",
       "\t african           & -0.0019864951 & -0.0060910854 & African           & 4\\\\\n",
       "\\end{tabular}\n"
      ],
      "text/markdown": [
       "\n",
       "A tibble: 4 × 5\n",
       "\n",
       "| split &lt;chr&gt; | binomial &lt;dbl&gt; | gaussian &lt;dbl&gt; | split_plot &lt;chr&gt; | split_order &lt;int&gt; |\n",
       "|---|---|---|---|---|\n",
       "| non_british_white | -0.0005767017 | -0.0002677496 | Non-British white | 1 |\n",
       "| s_asian           | -0.0011065331 | -0.0038936344 | South Asian       | 2 |\n",
       "| e_asian           | -0.0016157189 | -0.0018617157 | East Asian        | 3 |\n",
       "| african           | -0.0019864951 | -0.0060910854 | African           | 4 |\n",
       "\n"
      ],
      "text/plain": [
       "  split             binomial      gaussian      split_plot        split_order\n",
       "1 non_british_white -0.0005767017 -0.0002677496 Non-British white 1          \n",
       "2 s_asian           -0.0011065331 -0.0038936344 South Asian       2          \n",
       "3 e_asian           -0.0016157189 -0.0018617157 East Asian        3          \n",
       "4 african           -0.0019864951 -0.0060910854 African           4          "
      ]
     },
     "metadata": {},
     "output_type": "display_data"
    }
   ],
   "source": [
    "transferability_df %>%\n",
    "group_by(family, split) %>% \n",
    "summarise(median = median(pred_delta_vs_WBtest), `.groups` = 'drop') %>% \n",
    "spread(family, median) %>%\n",
    "left_join(\n",
    "    get_split_order_df(),\n",
    "    by = \"split\"\n",
    ") %>%\n",
    "arrange(split_order)"
   ]
  },
  {
   "cell_type": "markdown",
   "metadata": {},
   "source": [
    "### get the slope of regression"
   ]
  },
  {
   "cell_type": "code",
   "execution_count": 37,
   "metadata": {},
   "outputs": [],
   "source": [
    "c('binomial', 'gaussian') %>%\n",
    "lapply(function(fam){\n",
    "    c('non_british_white', 'african', 's_asian', 'e_asian') %>%\n",
    "    lapply(function(pop){\n",
    "        glm(\n",
    "            (pred_delta_WBtest + pred_delta_vs_WBtest) ~ 0 + pred_delta_WBtest,\n",
    "            data = transferability_df %>%\n",
    "            filter(family == fam, WBtest_is_significant) %>%\n",
    "            filter(split == pop)\n",
    "        ) %>%\n",
    "        fit_to_df() %>%\n",
    "        mutate(split = pop, family=fam)        \n",
    "    }) %>%\n",
    "    bind_rows\n",
    "}) %>%\n",
    "bind_rows %>%\n",
    "select(family, split, variable, estimate, SE, z_or_t_value, P) %>%\n",
    "left_join(\n",
    "    get_split_order_df(),\n",
    "    by = \"split\"\n",
    ") %>%\n",
    "arrange(family, -estimate) -> regression_slopes_df\n"
   ]
  },
  {
   "cell_type": "code",
   "execution_count": 38,
   "metadata": {},
   "outputs": [
    {
     "data": {
      "text/html": [
       "<table class=\"dataframe\">\n",
       "<caption>A data.frame: 8 × 9</caption>\n",
       "<thead>\n",
       "\t<tr><th scope=col>family</th><th scope=col>split</th><th scope=col>variable</th><th scope=col>estimate</th><th scope=col>SE</th><th scope=col>z_or_t_value</th><th scope=col>P</th><th scope=col>split_plot</th><th scope=col>split_order</th></tr>\n",
       "\t<tr><th scope=col>&lt;chr&gt;</th><th scope=col>&lt;chr&gt;</th><th scope=col>&lt;chr&gt;</th><th scope=col>&lt;dbl&gt;</th><th scope=col>&lt;dbl&gt;</th><th scope=col>&lt;dbl&gt;</th><th scope=col>&lt;dbl&gt;</th><th scope=col>&lt;chr&gt;</th><th scope=col>&lt;int&gt;</th></tr>\n",
       "</thead>\n",
       "<tbody>\n",
       "\t<tr><td>binomial</td><td>non_british_white</td><td>pred_delta_WBtest</td><td> 0.58946255</td><td>0.013412904</td><td> 43.9474231</td><td>1.649654e-124</td><td>Non-British white</td><td>1</td></tr>\n",
       "\t<tr><td>binomial</td><td>s_asian          </td><td>pred_delta_WBtest</td><td> 0.09488588</td><td>0.018662079</td><td>  5.0844216</td><td> 6.963999e-07</td><td>South Asian      </td><td>2</td></tr>\n",
       "\t<tr><td>binomial</td><td>e_asian          </td><td>pred_delta_WBtest</td><td> 0.01143427</td><td>0.023792621</td><td>  0.4805805</td><td> 6.312599e-01</td><td>East Asian       </td><td>3</td></tr>\n",
       "\t<tr><td>binomial</td><td>african          </td><td>pred_delta_WBtest</td><td>-0.08279623</td><td>0.017876985</td><td> -4.6314427</td><td> 5.696180e-06</td><td>African          </td><td>4</td></tr>\n",
       "\t<tr><td>gaussian</td><td>non_british_white</td><td>pred_delta_WBtest</td><td> 0.91909897</td><td>0.006789488</td><td>135.3708760</td><td> 0.000000e+00</td><td>Non-British white</td><td>1</td></tr>\n",
       "\t<tr><td>gaussian</td><td>s_asian          </td><td>pred_delta_WBtest</td><td> 0.55952069</td><td>0.009658784</td><td> 57.9286898</td><td>2.370329e-248</td><td>South Asian      </td><td>2</td></tr>\n",
       "\t<tr><td>gaussian</td><td>e_asian          </td><td>pred_delta_WBtest</td><td> 0.47443201</td><td>0.015425524</td><td> 30.7562976</td><td>1.446009e-125</td><td>East Asian       </td><td>3</td></tr>\n",
       "\t<tr><td>gaussian</td><td>african          </td><td>pred_delta_WBtest</td><td> 0.13207352</td><td>0.011369280</td><td> 11.6167004</td><td> 2.738724e-28</td><td>African          </td><td>4</td></tr>\n",
       "</tbody>\n",
       "</table>\n"
      ],
      "text/latex": [
       "A data.frame: 8 × 9\n",
       "\\begin{tabular}{lllllllll}\n",
       " family & split & variable & estimate & SE & z\\_or\\_t\\_value & P & split\\_plot & split\\_order\\\\\n",
       " <chr> & <chr> & <chr> & <dbl> & <dbl> & <dbl> & <dbl> & <chr> & <int>\\\\\n",
       "\\hline\n",
       "\t binomial & non\\_british\\_white & pred\\_delta\\_WBtest &  0.58946255 & 0.013412904 &  43.9474231 & 1.649654e-124 & Non-British white & 1\\\\\n",
       "\t binomial & s\\_asian           & pred\\_delta\\_WBtest &  0.09488588 & 0.018662079 &   5.0844216 &  6.963999e-07 & South Asian       & 2\\\\\n",
       "\t binomial & e\\_asian           & pred\\_delta\\_WBtest &  0.01143427 & 0.023792621 &   0.4805805 &  6.312599e-01 & East Asian        & 3\\\\\n",
       "\t binomial & african           & pred\\_delta\\_WBtest & -0.08279623 & 0.017876985 &  -4.6314427 &  5.696180e-06 & African           & 4\\\\\n",
       "\t gaussian & non\\_british\\_white & pred\\_delta\\_WBtest &  0.91909897 & 0.006789488 & 135.3708760 &  0.000000e+00 & Non-British white & 1\\\\\n",
       "\t gaussian & s\\_asian           & pred\\_delta\\_WBtest &  0.55952069 & 0.009658784 &  57.9286898 & 2.370329e-248 & South Asian       & 2\\\\\n",
       "\t gaussian & e\\_asian           & pred\\_delta\\_WBtest &  0.47443201 & 0.015425524 &  30.7562976 & 1.446009e-125 & East Asian        & 3\\\\\n",
       "\t gaussian & african           & pred\\_delta\\_WBtest &  0.13207352 & 0.011369280 &  11.6167004 &  2.738724e-28 & African           & 4\\\\\n",
       "\\end{tabular}\n"
      ],
      "text/markdown": [
       "\n",
       "A data.frame: 8 × 9\n",
       "\n",
       "| family &lt;chr&gt; | split &lt;chr&gt; | variable &lt;chr&gt; | estimate &lt;dbl&gt; | SE &lt;dbl&gt; | z_or_t_value &lt;dbl&gt; | P &lt;dbl&gt; | split_plot &lt;chr&gt; | split_order &lt;int&gt; |\n",
       "|---|---|---|---|---|---|---|---|---|\n",
       "| binomial | non_british_white | pred_delta_WBtest |  0.58946255 | 0.013412904 |  43.9474231 | 1.649654e-124 | Non-British white | 1 |\n",
       "| binomial | s_asian           | pred_delta_WBtest |  0.09488588 | 0.018662079 |   5.0844216 |  6.963999e-07 | South Asian       | 2 |\n",
       "| binomial | e_asian           | pred_delta_WBtest |  0.01143427 | 0.023792621 |   0.4805805 |  6.312599e-01 | East Asian        | 3 |\n",
       "| binomial | african           | pred_delta_WBtest | -0.08279623 | 0.017876985 |  -4.6314427 |  5.696180e-06 | African           | 4 |\n",
       "| gaussian | non_british_white | pred_delta_WBtest |  0.91909897 | 0.006789488 | 135.3708760 |  0.000000e+00 | Non-British white | 1 |\n",
       "| gaussian | s_asian           | pred_delta_WBtest |  0.55952069 | 0.009658784 |  57.9286898 | 2.370329e-248 | South Asian       | 2 |\n",
       "| gaussian | e_asian           | pred_delta_WBtest |  0.47443201 | 0.015425524 |  30.7562976 | 1.446009e-125 | East Asian        | 3 |\n",
       "| gaussian | african           | pred_delta_WBtest |  0.13207352 | 0.011369280 |  11.6167004 |  2.738724e-28 | African           | 4 |\n",
       "\n"
      ],
      "text/plain": [
       "  family   split             variable          estimate    SE         \n",
       "1 binomial non_british_white pred_delta_WBtest  0.58946255 0.013412904\n",
       "2 binomial s_asian           pred_delta_WBtest  0.09488588 0.018662079\n",
       "3 binomial e_asian           pred_delta_WBtest  0.01143427 0.023792621\n",
       "4 binomial african           pred_delta_WBtest -0.08279623 0.017876985\n",
       "5 gaussian non_british_white pred_delta_WBtest  0.91909897 0.006789488\n",
       "6 gaussian s_asian           pred_delta_WBtest  0.55952069 0.009658784\n",
       "7 gaussian e_asian           pred_delta_WBtest  0.47443201 0.015425524\n",
       "8 gaussian african           pred_delta_WBtest  0.13207352 0.011369280\n",
       "  z_or_t_value P             split_plot        split_order\n",
       "1  43.9474231  1.649654e-124 Non-British white 1          \n",
       "2   5.0844216   6.963999e-07 South Asian       2          \n",
       "3   0.4805805   6.312599e-01 East Asian        3          \n",
       "4  -4.6314427   5.696180e-06 African           4          \n",
       "5 135.3708760   0.000000e+00 Non-British white 1          \n",
       "6  57.9286898  2.370329e-248 South Asian       2          \n",
       "7  30.7562976  1.446009e-125 East Asian        3          \n",
       "8  11.6167004   2.738724e-28 African           4          "
      ]
     },
     "metadata": {},
     "output_type": "display_data"
    }
   ],
   "source": [
    "regression_slopes_df"
   ]
  },
  {
   "cell_type": "markdown",
   "metadata": {},
   "source": [
    "### violin plots"
   ]
  },
  {
   "cell_type": "code",
   "execution_count": 39,
   "metadata": {},
   "outputs": [],
   "source": [
    "p_trans_violin_binomial <- transferability_df %>%\n",
    "filter(family == 'binomial', WBtest_is_significant) %>%\n",
    "ggplot(aes(\n",
    "    x=reorder(split_plot, split_order),\n",
    "    y=pred_delta_vs_WBtest,\n",
    "    color=reorder(split_plot, split_order)\n",
    ")) + \n",
    "geom_hline(yintercept = 0, color='gray') +\n",
    "geom_violin() +\n",
    "geom_jitter(height = 0, width = 0.3) +\n",
    "theme_bw(base_size = 16) + \n",
    "scale_color_manual(values=get_split_color_dict()) +\n",
    "labs(\n",
    "    title = 'Binary traits (Binomial model)',\n",
    "    y = 'The difference in incremental AUC compared against white British',\n",
    "    x = 'Ancestry group in UK Biobank'\n",
    ") +\n",
    "theme(legend.position = 'none') +\n",
    "stat_summary(\n",
    "    fun = \"median\",\n",
    "    geom = \"crossbar\", \n",
    "    width = 0.8,\n",
    "    color = \"black\"\n",
    ")\n",
    "\n",
    "\n",
    "p_trans_violin_gaussian <- transferability_df %>%\n",
    "filter(family == 'gaussian', WBtest_is_significant) %>%\n",
    "ggplot(aes(\n",
    "    x=reorder(split_plot, split_order),\n",
    "    y=pred_delta_vs_WBtest,\n",
    "    color=reorder(split_plot, split_order)\n",
    ")) + \n",
    "geom_hline(yintercept = 0, color='gray') +\n",
    "geom_violin() +\n",
    "geom_jitter(height = 0, width = 0.3) +\n",
    "theme_bw(base_size = 16) + \n",
    "scale_color_manual(values=get_split_color_dict()) +\n",
    "labs(\n",
    "    title = 'Quantitative traits (Gaussian model)',\n",
    "    y = latex2exp::TeX('The difference in incremental \\\\textit{R}$^2$ compared against white British') ,\n",
    "    x = 'Ancestry group in UK Biobank'\n",
    ") +\n",
    "theme(legend.position = 'none') +\n",
    "stat_summary(\n",
    "    fun = \"median\",\n",
    "    geom = \"crossbar\", \n",
    "    width = 0.8,\n",
    "    color = \"black\"\n",
    ")\n",
    "\n"
   ]
  },
  {
   "cell_type": "markdown",
   "metadata": {},
   "source": [
    "### scatter plots"
   ]
  },
  {
   "cell_type": "code",
   "execution_count": 40,
   "metadata": {},
   "outputs": [],
   "source": [
    "p_trans_scatter_binomial <- transferability_df %>%\n",
    "filter(family == 'binomial', WBtest_is_significant) %>%\n",
    "ggplot(aes(\n",
    "    x=pred_delta_WBtest,\n",
    "    y=pred_delta_vs_WBtest + pred_delta_WBtest,\n",
    "    color=reorder(split_plot, split_order)\n",
    "))\n",
    "\n",
    "for(split_plot_str in names(get_split_color_dict())){\n",
    "    p_trans_scatter_binomial <- p_trans_scatter_binomial + geom_abline(\n",
    "        color=get_split_color_dict()[[split_plot_str]],\n",
    "        linetype = \"dashed\",\n",
    "        intercept=0,\n",
    "        slope = regression_slopes_df %>%\n",
    "        filter(family == 'binomial', split_plot == split_plot_str) %>%\n",
    "        pull(estimate)\n",
    "    )\n",
    "}\n",
    "p_trans_scatter_binomial <- p_trans_scatter_binomial + \n",
    "geom_point() +\n",
    "theme_bw(base_size = 16) + \n",
    "scale_color_manual(values=get_split_color_dict()) +\n",
    "labs(\n",
    "    title = 'Binary traits (Binomial model)',\n",
    "    x = 'Incremental AUC in white British',\n",
    "    y = 'Incremental AUC',\n",
    "    color = 'Ancestry group in UK Biobank'\n",
    ") +\n",
    "theme(legend.position = c(.28,.85))\n",
    "\n",
    "p_trans_scatter_gaussian <- transferability_df %>%\n",
    "filter(family == 'gaussian', WBtest_is_significant) %>%\n",
    "ggplot(aes(\n",
    "    x=pred_delta_WBtest,\n",
    "    y=pred_delta_vs_WBtest + pred_delta_WBtest,\n",
    "    color=reorder(split_plot, split_order)\n",
    "))\n",
    "\n",
    "for(split_plot_str in names(get_split_color_dict())){\n",
    "    p_trans_scatter_gaussian <- p_trans_scatter_gaussian + geom_abline(\n",
    "        color=get_split_color_dict()[[split_plot_str]],\n",
    "        linetype = \"dashed\",\n",
    "        intercept=0,\n",
    "        slope = regression_slopes_df %>%\n",
    "        filter(family == 'gaussian', split_plot == split_plot_str) %>%\n",
    "        pull(estimate)\n",
    "    )\n",
    "}\n",
    "p_trans_scatter_gaussian <- p_trans_scatter_gaussian + \n",
    "geom_point() +\n",
    "theme_bw(base_size = 16) + \n",
    "scale_color_manual(values=get_split_color_dict()) +\n",
    "labs(\n",
    "    title = 'Quantitative traits (Gaussian model)',\n",
    "    x = latex2exp::TeX('Incremental \\\\textit{R}$^2$ in white British'),\n",
    "    y = latex2exp::TeX('Incremental \\\\textit{R}$^2$'),\n",
    "    color = 'Ancestry group in UK Biobank'\n",
    ") +\n",
    "theme(legend.position = c(.28,.85))\n"
   ]
  },
  {
   "cell_type": "code",
   "execution_count": 41,
   "metadata": {},
   "outputs": [],
   "source": [
    "for(ext in c('png', 'pdf')){ggsave(\n",
    "    sprintf('transferability.%s', ext),\n",
    "    gridExtra::arrangeGrob(\n",
    "        p_trans_violin_binomial,\n",
    "        p_trans_violin_gaussian,\n",
    "        p_trans_scatter_binomial,\n",
    "        p_trans_scatter_gaussian,\n",
    "        ncol=2\n",
    "    ),\n",
    "    width=16, height=16\n",
    ")}\n"
   ]
  },
  {
   "cell_type": "code",
   "execution_count": null,
   "metadata": {},
   "outputs": [],
   "source": []
  }
 ],
 "metadata": {
  "kernelspec": {
   "display_name": "R",
   "language": "R",
   "name": "ir"
  },
  "language_info": {
   "codemirror_mode": "r",
   "file_extension": ".r",
   "mimetype": "text/x-r-source",
   "name": "R",
   "pygments_lexer": "r",
   "version": "3.6.2"
  }
 },
 "nbformat": 4,
 "nbformat_minor": 4
}

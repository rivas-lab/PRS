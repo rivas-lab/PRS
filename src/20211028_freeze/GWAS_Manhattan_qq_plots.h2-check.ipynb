{
 "cells": [
  {
   "cell_type": "code",
   "execution_count": 1,
   "id": "515bb1d3",
   "metadata": {},
   "outputs": [],
   "source": [
    "suppressWarnings(suppressPackageStartupMessages({\n",
    "    library(tidyverse)\n",
    "    library(data.table)\n",
    "}))\n"
   ]
  },
  {
   "cell_type": "code",
   "execution_count": 2,
   "id": "35e1a7f4",
   "metadata": {},
   "outputs": [],
   "source": [
    "source('paths.sh')\n"
   ]
  },
  {
   "cell_type": "code",
   "execution_count": 4,
   "id": "bc3e5077",
   "metadata": {},
   "outputs": [],
   "source": [
    "\"LDSCh2.tsv\" %>%\n",
    "fread() %>%\n",
    "rename_with(\n",
    "    function(x){str_replace(x, '#', '')}, starts_with(\"#\")\n",
    ") -> LDSCh2_df\n",
    "\n"
   ]
  },
  {
   "cell_type": "code",
   "execution_count": 10,
   "id": "9e6e4e3b",
   "metadata": {},
   "outputs": [],
   "source": [
    "LDSCh2_df %>% \n",
    "select(trait, trait_name, h2_obs, h2_obs_se, intercept, intercept_se) %>%\n",
    "filter(trait %in% c(\n",
    "    \"BIN_FC2001747\",\n",
    "    \"BIN_FC1001747\",\n",
    "    \"BIN_FC4001747\",\n",
    "    \"BIN_FC5001747\",\n",
    "    \"HC702\",\n",
    "    \"INI30790\",\n",
    "    \"INI30840\",\n",
    "    \"INI21001\" # BMI (control)\n",
    ")) %>%\n",
    "rename(\"#trait\" = \"trait\") %>%\n",
    "fwrite(\"plots/ukb24983.wb.h2.tsv\", sep=\"\\t\", na = \"NA\", quote=F)\n"
   ]
  },
  {
   "cell_type": "code",
   "execution_count": null,
   "id": "b17d2e4c",
   "metadata": {},
   "outputs": [],
   "source": []
  }
 ],
 "metadata": {
  "kernelspec": {
   "display_name": "R",
   "language": "R",
   "name": "ir"
  },
  "language_info": {
   "codemirror_mode": "r",
   "file_extension": ".r",
   "mimetype": "text/x-r-source",
   "name": "R",
   "pygments_lexer": "r",
   "version": "3.6.2"
  }
 },
 "nbformat": 4,
 "nbformat_minor": 5
}

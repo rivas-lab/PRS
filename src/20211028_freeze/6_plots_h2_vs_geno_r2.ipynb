{
 "cells": [
  {
   "cell_type": "markdown",
   "metadata": {},
   "source": [
    "# PRS map - R2 vs h2 plot\n",
    "\n",
    "Yosuke Tanigawa\n"
   ]
  },
  {
   "cell_type": "markdown",
   "metadata": {},
   "source": [
    "## library, functions, and constants"
   ]
  },
  {
   "cell_type": "code",
   "execution_count": 1,
   "metadata": {},
   "outputs": [],
   "source": [
    "suppressWarnings(suppressPackageStartupMessages({\n",
    "    library(tidyverse)\n",
    "    library(data.table)\n",
    "}))\n"
   ]
  },
  {
   "cell_type": "code",
   "execution_count": 2,
   "metadata": {},
   "outputs": [
    {
     "name": "stderr",
     "output_type": "stream",
     "text": [
      "\u001b[36mℹ\u001b[39m Loading \u001b[34m\u001b[34mcud4\u001b[34m\u001b[39m\n",
      "\n",
      "\u001b[36mℹ\u001b[39m Loading \u001b[34m\u001b[34msnpnet\u001b[34m\u001b[39m\n",
      "\n"
     ]
    }
   ],
   "source": [
    "source('paths.sh')\n",
    "devtools::load_all(cud4_d)\n",
    "devtools::load_all(dirname(dirname(snpnet_helper)))\n",
    "source(snpnet_helper)\n"
   ]
  },
  {
   "cell_type": "code",
   "execution_count": 3,
   "metadata": {},
   "outputs": [],
   "source": [
    "traits_w_metrics_f %>%\n",
    "fread() %>%\n",
    "rename_with(\n",
    "    function(x){str_replace(x, '#', '')}, starts_with(\"#\")\n",
    ") -> traits_w_metrics_df\n",
    "\n",
    "\n",
    "eval_fullwDelta_f %>%\n",
    "fread() %>%\n",
    "rename_with(\n",
    "    function(x){str_replace(x, '#', '')}, starts_with(\"#\")\n",
    ") -> eval_long_df\n"
   ]
  },
  {
   "cell_type": "code",
   "execution_count": 7,
   "metadata": {},
   "outputs": [],
   "source": [
    "# GWAS h2 table (heritability)\n",
    "'LDSCh2.tsv' %>% \n",
    "fread() %>%\n",
    "rename_with(\n",
    "    function(x){str_replace(x, '#', '')}, starts_with(\"#\")\n",
    ") -> GWAS_h2_df\n"
   ]
  },
  {
   "cell_type": "markdown",
   "metadata": {},
   "source": [
    "## R2 vs h2 plot"
   ]
  },
  {
   "cell_type": "code",
   "execution_count": 8,
   "metadata": {},
   "outputs": [],
   "source": [
    "p_h2_vs_geno_labels <- data.frame(\n",
    "    plot_label = c(\n",
    "        # Binary traits\n",
    "        'Started insulin within one year diagnosis of diabetes',\n",
    "        'JCV seropositivity for Human Polyomavirus JCV',\n",
    "        'MCV seropositivity for Merkel Cell Polyomavirus',\n",
    "        'Ease of skin tanning\\n(Never tan, only burn)',\n",
    "        'Hair color (red)',\n",
    "        'Hair color (blonde)',\n",
    "        'Hair color\\n(dark brown)',\n",
    "        'Hair color (brown)',\n",
    "        'Hair color (black)',\n",
    "        'Hair color (light brown)',\n",
    "        'Hypertension',\n",
    "        'High Blood Pressure diagnosed by doctor',\n",
    "        # Quantitative traits\n",
    "        'Platelet distribution width',\n",
    "        'Mean corpuscular volume',\n",
    "        'Platelet count',\n",
    "        '6mm weak meridian (left)',\n",
    "        'Lipoprotein A',\n",
    "        'Total bilirubin',\n",
    "        'Direct billirubin',\n",
    "        'Mean platelet volume',\n",
    "        'EBNA-1 antigen for Epstein-Barr Virus',\n",
    "        'Standing height'\n",
    "    ),\n",
    "    trait = c(\n",
    "        # Binary traits\n",
    "        'BIN_FC10002986',\n",
    "        'BIN23066',\n",
    "        'BIN23067',\n",
    "        'BIN_FC40001727',\n",
    "        'BIN_FC2001747',\n",
    "        'BIN_FC1001747',\n",
    "        'BIN_FC4001747',\n",
    "        'BIN_FC7001747',\n",
    "        'BIN_FC5001747',\n",
    "        'BIN_FC3001747',\n",
    "        'HC215',\n",
    "        'BIN_FC4006150',\n",
    "        # Quantitative traits\n",
    "        'INI30110',\n",
    "        'INI30040',\n",
    "        'INI30080',\n",
    "        'INI5097',\n",
    "        'INI30790',\n",
    "        'INI30840',\n",
    "        'INI30660',\n",
    "        'INI30100',\n",
    "        'INI23004',\n",
    "        'INI50'\n",
    "    ),\n",
    "    stringsAsFactors=F\n",
    ")"
   ]
  },
  {
   "cell_type": "code",
   "execution_count": 9,
   "metadata": {},
   "outputs": [],
   "source": [
    "p_h2_vs_geno_sub_labels <- data.frame(\n",
    "    plot_sub_label = c(\n",
    "        # Binary traits\n",
    "        'Asthma diagnosed by doctor',\n",
    "        'Hayfever rhinitis or eczema diagnosed by doctor',\n",
    "        'Hypothyroidism/myxoedema',\n",
    "        'Hayfever allergic rhinitis or eczema',\n",
    "        'Never Smoker',\n",
    "        'TTE disorders of\\nporphyrin and\\nbilirubin metabolism',\n",
    "        'Coeliac disease',\n",
    "        'Non-melanoma skin cancer',\n",
    "        'Skin cancer',\n",
    "        'Diabetes',\n",
    "        'Psoriasis',\n",
    "#         'Snoring',\n",
    "        'Worrier / anxious feelings',\n",
    "#         'Past tobacco smoking\\n(Smoked at least once)',\n",
    "        \n",
    "        # Quantitative traits\n",
    "        'Apolipoprotein B',\n",
    "        'Mean reticulocyte volume',\n",
    "        'Heel BMD', #bone mineral density\n",
    "#         'Apolipoprotein A',\n",
    "        'IGF-1',\n",
    "        'Red blood cell count',\n",
    "#         'High light scatter\\nreticulocyte count'\n",
    "        'LDL cholesterol',\n",
    "        'Cholesterol',\n",
    "        'Neutrophill %',\n",
    "        'Peak expiratory flow\\npredicted ratio',\n",
    "        'Vitamin D',\n",
    "        'Basophill %'\n",
    "    ),\n",
    "    trait = c(\n",
    "        # Binary traits\n",
    "        'BIN_FC4006152',\n",
    "        'BIN_FC5006152',\n",
    "        'HC219',\n",
    "        'BIN_FC10006152',\n",
    "        'BIN_FC10020116',\n",
    "        'HC702',\n",
    "        'HC303',\n",
    "        'cancer1060',\n",
    "        'cancer1003',    \n",
    "        'HC221',\n",
    "        'HC38',\n",
    "#         'BIN1210',\n",
    "        'BIN1980',\n",
    "#         'BIN_FC40001249',\n",
    "        \n",
    "        # Quantitative traits\n",
    "        'INI30640',\n",
    "        'INI30260',\n",
    "        'INI3148',\n",
    "#         'INI30630',\n",
    "        'INI30770',\n",
    "        'INI30010',\n",
    "#         'INI30300'\n",
    "        'INI30780',\n",
    "        'INI30690',\n",
    "        'INI30200',\n",
    "        'INI1003064',\n",
    "        'INI30890',\n",
    "        'INI30220'\n",
    "    ),\n",
    "    stringsAsFactors=F\n",
    ")"
   ]
  },
  {
   "cell_type": "code",
   "execution_count": 25,
   "metadata": {},
   "outputs": [],
   "source": [
    "h2_vs_geno_df <- eval_long_df %>%\n",
    "filter(\n",
    "    WBtest_is_significant,\n",
    "    model=='PRS',\n",
    "    split == 'test'\n",
    ") %>%\n",
    "left_join(\n",
    "    GWAS_h2_df %>%\n",
    "    select(trait, h2_obs, h2_obs_se, h2_liability, WB_prev, WB_prev_z) %>%\n",
    "    unique %>%\n",
    "    filter(! is.na(h2_obs)),\n",
    "    by=\"trait\"\n",
    ") %>%\n",
    "mutate(\n",
    "    value_liability = value * WB_prev * (1 - WB_prev) / (WB_prev_z * WB_prev_z)\n",
    ") %>%\n",
    "left_join(p_h2_vs_geno_labels, by='trait') %>%\n",
    "left_join(p_h2_vs_geno_sub_labels, by='trait') %>%\n",
    "replace_na(list('plot_label'='', 'plot_sub_label'=''))\n"
   ]
  },
  {
   "cell_type": "markdown",
   "metadata": {},
   "source": [
    "### linear regression (h2 vs R2)"
   ]
  },
  {
   "cell_type": "code",
   "execution_count": 27,
   "metadata": {},
   "outputs": [
    {
     "data": {
      "text/html": [
       "<table class=\"dataframe\">\n",
       "<caption>A data.table: 4 × 3</caption>\n",
       "<thead>\n",
       "\t<tr><th scope=col>family</th><th scope=col>metric</th><th scope=col>n</th></tr>\n",
       "\t<tr><th scope=col>&lt;chr&gt;</th><th scope=col>&lt;chr&gt;</th><th scope=col>&lt;int&gt;</th></tr>\n",
       "</thead>\n",
       "<tbody>\n",
       "\t<tr><td>binomial</td><td>auc         </td><td>244</td></tr>\n",
       "\t<tr><td>binomial</td><td>NagelkerkeR2</td><td>244</td></tr>\n",
       "\t<tr><td>binomial</td><td>TjurR2      </td><td>244</td></tr>\n",
       "\t<tr><td>gaussian</td><td>r2          </td><td>569</td></tr>\n",
       "</tbody>\n",
       "</table>\n"
      ],
      "text/latex": [
       "A data.table: 4 × 3\n",
       "\\begin{tabular}{lll}\n",
       " family & metric & n\\\\\n",
       " <chr> & <chr> & <int>\\\\\n",
       "\\hline\n",
       "\t binomial & auc          & 244\\\\\n",
       "\t binomial & NagelkerkeR2 & 244\\\\\n",
       "\t binomial & TjurR2       & 244\\\\\n",
       "\t gaussian & r2           & 569\\\\\n",
       "\\end{tabular}\n"
      ],
      "text/markdown": [
       "\n",
       "A data.table: 4 × 3\n",
       "\n",
       "| family &lt;chr&gt; | metric &lt;chr&gt; | n &lt;int&gt; |\n",
       "|---|---|---|\n",
       "| binomial | auc          | 244 |\n",
       "| binomial | NagelkerkeR2 | 244 |\n",
       "| binomial | TjurR2       | 244 |\n",
       "| gaussian | r2           | 569 |\n",
       "\n"
      ],
      "text/plain": [
       "  family   metric       n  \n",
       "1 binomial auc          244\n",
       "2 binomial NagelkerkeR2 244\n",
       "3 binomial TjurR2       244\n",
       "4 gaussian r2           569"
      ]
     },
     "metadata": {},
     "output_type": "display_data"
    }
   ],
   "source": [
    "h2_vs_geno_df %>%\n",
    "count(family, metric)"
   ]
  },
  {
   "cell_type": "code",
   "execution_count": 34,
   "metadata": {},
   "outputs": [],
   "source": [
    "h2_vs_geno_df %>%\n",
    "count(family, metric) %>%\n",
    "left_join(\n",
    "    h2_vs_geno_df$metric %>% unique %>%\n",
    "    lapply(function(metric_selected){\n",
    "        glm(\n",
    "            value ~ 0 + h2_obs,\n",
    "            data = h2_vs_geno_df %>% filter(metric == metric_selected)\n",
    "        ) %>%\n",
    "        fit_to_df() %>%\n",
    "        mutate(metric = metric_selected)\n",
    "    }) %>% bind_rows,\n",
    "    by = \"metric\"\n",
    ") %>%\n",
    "bind_rows(\n",
    "    glm(\n",
    "        value_liability ~ 0 + h2_liability,\n",
    "        data = h2_vs_geno_df %>% filter(metric == \"NagelkerkeR2\")\n",
    "    ) %>%\n",
    "    fit_to_df() %>%\n",
    "    mutate(\n",
    "        metric = \"NagelkerkeR2_liability\",\n",
    "        family = \"binomial\",\n",
    "        n = h2_vs_geno_df %>% filter(metric == \"NagelkerkeR2\") %>% nrow()\n",
    "    )\n",
    ") -> h2_vs_geno_regression_df"
   ]
  },
  {
   "cell_type": "code",
   "execution_count": 35,
   "metadata": {},
   "outputs": [
    {
     "data": {
      "text/html": [
       "<table class=\"dataframe\">\n",
       "<caption>A data.table: 5 × 8</caption>\n",
       "<thead>\n",
       "\t<tr><th scope=col>family</th><th scope=col>metric</th><th scope=col>n</th><th scope=col>variable</th><th scope=col>estimate</th><th scope=col>SE</th><th scope=col>z_or_t_value</th><th scope=col>P</th></tr>\n",
       "\t<tr><th scope=col>&lt;chr&gt;</th><th scope=col>&lt;chr&gt;</th><th scope=col>&lt;int&gt;</th><th scope=col>&lt;chr&gt;</th><th scope=col>&lt;dbl&gt;</th><th scope=col>&lt;dbl&gt;</th><th scope=col>&lt;dbl&gt;</th><th scope=col>&lt;dbl&gt;</th></tr>\n",
       "</thead>\n",
       "<tbody>\n",
       "\t<tr><td>binomial</td><td>auc                   </td><td>244</td><td>h2_obs      </td><td>3.6563313</td><td>0.404883231</td><td> 9.030582</td><td>5.416276e-17</td></tr>\n",
       "\t<tr><td>binomial</td><td>NagelkerkeR2          </td><td>244</td><td>h2_obs      </td><td>0.3239797</td><td>0.043020219</td><td> 7.530870</td><td>9.866512e-13</td></tr>\n",
       "\t<tr><td>binomial</td><td>TjurR2                </td><td>244</td><td>h2_obs      </td><td>0.2019018</td><td>0.029154490</td><td> 6.925237</td><td>3.865663e-11</td></tr>\n",
       "\t<tr><td>gaussian</td><td>r2                    </td><td>569</td><td>h2_obs      </td><td>0.1521934</td><td>0.008071877</td><td>18.854775</td><td>6.041847e-62</td></tr>\n",
       "\t<tr><td>binomial</td><td>NagelkerkeR2_liability</td><td>244</td><td>h2_liability</td><td>2.3314287</td><td>0.112978918</td><td>20.635963</td><td>2.398826e-55</td></tr>\n",
       "</tbody>\n",
       "</table>\n"
      ],
      "text/latex": [
       "A data.table: 5 × 8\n",
       "\\begin{tabular}{llllllll}\n",
       " family & metric & n & variable & estimate & SE & z\\_or\\_t\\_value & P\\\\\n",
       " <chr> & <chr> & <int> & <chr> & <dbl> & <dbl> & <dbl> & <dbl>\\\\\n",
       "\\hline\n",
       "\t binomial & auc                    & 244 & h2\\_obs       & 3.6563313 & 0.404883231 &  9.030582 & 5.416276e-17\\\\\n",
       "\t binomial & NagelkerkeR2           & 244 & h2\\_obs       & 0.3239797 & 0.043020219 &  7.530870 & 9.866512e-13\\\\\n",
       "\t binomial & TjurR2                 & 244 & h2\\_obs       & 0.2019018 & 0.029154490 &  6.925237 & 3.865663e-11\\\\\n",
       "\t gaussian & r2                     & 569 & h2\\_obs       & 0.1521934 & 0.008071877 & 18.854775 & 6.041847e-62\\\\\n",
       "\t binomial & NagelkerkeR2\\_liability & 244 & h2\\_liability & 2.3314287 & 0.112978918 & 20.635963 & 2.398826e-55\\\\\n",
       "\\end{tabular}\n"
      ],
      "text/markdown": [
       "\n",
       "A data.table: 5 × 8\n",
       "\n",
       "| family &lt;chr&gt; | metric &lt;chr&gt; | n &lt;int&gt; | variable &lt;chr&gt; | estimate &lt;dbl&gt; | SE &lt;dbl&gt; | z_or_t_value &lt;dbl&gt; | P &lt;dbl&gt; |\n",
       "|---|---|---|---|---|---|---|---|\n",
       "| binomial | auc                    | 244 | h2_obs       | 3.6563313 | 0.404883231 |  9.030582 | 5.416276e-17 |\n",
       "| binomial | NagelkerkeR2           | 244 | h2_obs       | 0.3239797 | 0.043020219 |  7.530870 | 9.866512e-13 |\n",
       "| binomial | TjurR2                 | 244 | h2_obs       | 0.2019018 | 0.029154490 |  6.925237 | 3.865663e-11 |\n",
       "| gaussian | r2                     | 569 | h2_obs       | 0.1521934 | 0.008071877 | 18.854775 | 6.041847e-62 |\n",
       "| binomial | NagelkerkeR2_liability | 244 | h2_liability | 2.3314287 | 0.112978918 | 20.635963 | 2.398826e-55 |\n",
       "\n"
      ],
      "text/plain": [
       "  family   metric                 n   variable     estimate  SE         \n",
       "1 binomial auc                    244 h2_obs       3.6563313 0.404883231\n",
       "2 binomial NagelkerkeR2           244 h2_obs       0.3239797 0.043020219\n",
       "3 binomial TjurR2                 244 h2_obs       0.2019018 0.029154490\n",
       "4 gaussian r2                     569 h2_obs       0.1521934 0.008071877\n",
       "5 binomial NagelkerkeR2_liability 244 h2_liability 2.3314287 0.112978918\n",
       "  z_or_t_value P           \n",
       "1  9.030582    5.416276e-17\n",
       "2  7.530870    9.866512e-13\n",
       "3  6.925237    3.865663e-11\n",
       "4 18.854775    6.041847e-62\n",
       "5 20.635963    2.398826e-55"
      ]
     },
     "metadata": {},
     "output_type": "display_data"
    }
   ],
   "source": [
    "h2_vs_geno_regression_df\n"
   ]
  },
  {
   "cell_type": "markdown",
   "metadata": {},
   "source": [
    "## correlation test"
   ]
  },
  {
   "cell_type": "code",
   "execution_count": 36,
   "metadata": {},
   "outputs": [],
   "source": [
    "cor_test_h2_R2_wrapper <- function(df, cor_test_method){cor.test(\n",
    "    df %>% pull(h2_obs),\n",
    "    df %>% pull(value),\n",
    "    method = cor_test_method\n",
    ")}\n"
   ]
  },
  {
   "cell_type": "code",
   "execution_count": 40,
   "metadata": {},
   "outputs": [],
   "source": [
    "cor_test_h2_R2_liability_wrapper <- function(df, cor_test_method){cor.test(\n",
    "    df %>% pull(h2_liability),\n",
    "    df %>% pull(value_liability),\n",
    "    method = cor_test_method\n",
    ")}\n"
   ]
  },
  {
   "cell_type": "code",
   "execution_count": 37,
   "metadata": {},
   "outputs": [
    {
     "name": "stderr",
     "output_type": "stream",
     "text": [
      "Warning message in cor.test.default(df %>% pull(h2_obs), df %>% pull(value), method = cor_test_method):\n",
      "“Cannot compute exact p-value with ties”\n",
      "Warning message in cor.test.default(df %>% pull(h2_obs), df %>% pull(value), method = cor_test_method):\n",
      "“Cannot compute exact p-value with ties”\n",
      "Warning message in cor.test.default(df %>% pull(h2_obs), df %>% pull(value), method = cor_test_method):\n",
      "“Cannot compute exact p-value with ties”\n",
      "Warning message in cor.test.default(df %>% pull(h2_obs), df %>% pull(value), method = cor_test_method):\n",
      "“Cannot compute exact p-value with ties”\n"
     ]
    }
   ],
   "source": [
    "h2_vs_geno_rho <- list()\n",
    "\n",
    "for(metric_selected in unique(h2_vs_geno_df$metric)){\n",
    "    h2_vs_geno_rho[[metric_selected]] <- h2_vs_geno_df %>%\n",
    "    filter(metric == metric_selected) %>%\n",
    "    cor_test_h2_R2_wrapper(\"spearman\")\n",
    "}\n"
   ]
  },
  {
   "cell_type": "code",
   "execution_count": 38,
   "metadata": {},
   "outputs": [
    {
     "name": "stderr",
     "output_type": "stream",
     "text": [
      "Warning message in cor.test.default(df %>% pull(h2_obs), df %>% pull(value), method = cor_test_method):\n",
      "“Cannot compute exact p-value with ties”\n"
     ]
    }
   ],
   "source": [
    "# focusing on non-biomarker traits only\n",
    "h2_vs_geno_rho[[\"r2noBiomarkers\"]] <- h2_vs_geno_df %>%\n",
    "filter(metric == \"r2\") %>%\n",
    "filter(trait_category != \"Biomarkers\") %>%\n",
    "cor_test_h2_R2_wrapper(\"spearman\")\n"
   ]
  },
  {
   "cell_type": "code",
   "execution_count": 41,
   "metadata": {},
   "outputs": [],
   "source": [
    "# focusing on non-biomarker traits only\n",
    "h2_vs_geno_rho[[\"NagelkerkeR2_liability\"]] <- h2_vs_geno_df %>%\n",
    "filter(metric == \"NagelkerkeR2\") %>%\n",
    "cor_test_h2_R2_liability_wrapper(\"spearman\")\n"
   ]
  },
  {
   "cell_type": "code",
   "execution_count": 42,
   "metadata": {},
   "outputs": [],
   "source": [
    "h2_vs_geno_df %>%\n",
    "count(family, metric) %>%\n",
    "full_join(\n",
    "    h2_vs_geno_rho %>% names() %>%\n",
    "    lapply(function(metric_selected){\n",
    "        h2_vs_geno_rho[[metric_selected]] %>%\n",
    "        broom::tidy() %>% as.data.frame() %>%\n",
    "        mutate(metric = metric_selected)\n",
    "    }) %>% bind_rows(),\n",
    "    by = \"metric\"\n",
    ") -> h2_vs_geno_rho_df\n"
   ]
  },
  {
   "cell_type": "code",
   "execution_count": 43,
   "metadata": {},
   "outputs": [
    {
     "data": {
      "text/html": [
       "<table class=\"dataframe\">\n",
       "<caption>A data.table: 6 × 8</caption>\n",
       "<thead>\n",
       "\t<tr><th scope=col>family</th><th scope=col>metric</th><th scope=col>n</th><th scope=col>estimate</th><th scope=col>statistic</th><th scope=col>p.value</th><th scope=col>method</th><th scope=col>alternative</th></tr>\n",
       "\t<tr><th scope=col>&lt;chr&gt;</th><th scope=col>&lt;chr&gt;</th><th scope=col>&lt;int&gt;</th><th scope=col>&lt;dbl&gt;</th><th scope=col>&lt;dbl&gt;</th><th scope=col>&lt;dbl&gt;</th><th scope=col>&lt;chr&gt;</th><th scope=col>&lt;chr&gt;</th></tr>\n",
       "</thead>\n",
       "<tbody>\n",
       "\t<tr><td>binomial</td><td>auc                   </td><td>244</td><td>0.2225175</td><td> 1882355.2</td><td>4.617919e-04</td><td>Spearman's rank correlation rho</td><td>two.sided</td></tr>\n",
       "\t<tr><td>binomial</td><td>NagelkerkeR2          </td><td>244</td><td>0.4436029</td><td> 1347087.5</td><td>3.470153e-13</td><td>Spearman's rank correlation rho</td><td>two.sided</td></tr>\n",
       "\t<tr><td>binomial</td><td>TjurR2                </td><td>244</td><td>0.7694916</td><td>  558081.5</td><td>4.976507e-49</td><td>Spearman's rank correlation rho</td><td>two.sided</td></tr>\n",
       "\t<tr><td>gaussian</td><td>r2                    </td><td>569</td><td>0.4630409</td><td>16486384.8</td><td>1.396781e-31</td><td>Spearman's rank correlation rho</td><td>two.sided</td></tr>\n",
       "\t<tr><td>NA      </td><td>r2noBiomarkers        </td><td> NA</td><td>0.5432095</td><td>11658043.3</td><td>2.144479e-42</td><td>Spearman's rank correlation rho</td><td>two.sided</td></tr>\n",
       "\t<tr><td>NA      </td><td>NagelkerkeR2_liability</td><td> NA</td><td>0.8288647</td><td>  414334.0</td><td>0.000000e+00</td><td>Spearman's rank correlation rho</td><td>two.sided</td></tr>\n",
       "</tbody>\n",
       "</table>\n"
      ],
      "text/latex": [
       "A data.table: 6 × 8\n",
       "\\begin{tabular}{llllllll}\n",
       " family & metric & n & estimate & statistic & p.value & method & alternative\\\\\n",
       " <chr> & <chr> & <int> & <dbl> & <dbl> & <dbl> & <chr> & <chr>\\\\\n",
       "\\hline\n",
       "\t binomial & auc                    & 244 & 0.2225175 &  1882355.2 & 4.617919e-04 & Spearman's rank correlation rho & two.sided\\\\\n",
       "\t binomial & NagelkerkeR2           & 244 & 0.4436029 &  1347087.5 & 3.470153e-13 & Spearman's rank correlation rho & two.sided\\\\\n",
       "\t binomial & TjurR2                 & 244 & 0.7694916 &   558081.5 & 4.976507e-49 & Spearman's rank correlation rho & two.sided\\\\\n",
       "\t gaussian & r2                     & 569 & 0.4630409 & 16486384.8 & 1.396781e-31 & Spearman's rank correlation rho & two.sided\\\\\n",
       "\t NA       & r2noBiomarkers         &  NA & 0.5432095 & 11658043.3 & 2.144479e-42 & Spearman's rank correlation rho & two.sided\\\\\n",
       "\t NA       & NagelkerkeR2\\_liability &  NA & 0.8288647 &   414334.0 & 0.000000e+00 & Spearman's rank correlation rho & two.sided\\\\\n",
       "\\end{tabular}\n"
      ],
      "text/markdown": [
       "\n",
       "A data.table: 6 × 8\n",
       "\n",
       "| family &lt;chr&gt; | metric &lt;chr&gt; | n &lt;int&gt; | estimate &lt;dbl&gt; | statistic &lt;dbl&gt; | p.value &lt;dbl&gt; | method &lt;chr&gt; | alternative &lt;chr&gt; |\n",
       "|---|---|---|---|---|---|---|---|\n",
       "| binomial | auc                    | 244 | 0.2225175 |  1882355.2 | 4.617919e-04 | Spearman's rank correlation rho | two.sided |\n",
       "| binomial | NagelkerkeR2           | 244 | 0.4436029 |  1347087.5 | 3.470153e-13 | Spearman's rank correlation rho | two.sided |\n",
       "| binomial | TjurR2                 | 244 | 0.7694916 |   558081.5 | 4.976507e-49 | Spearman's rank correlation rho | two.sided |\n",
       "| gaussian | r2                     | 569 | 0.4630409 | 16486384.8 | 1.396781e-31 | Spearman's rank correlation rho | two.sided |\n",
       "| NA       | r2noBiomarkers         |  NA | 0.5432095 | 11658043.3 | 2.144479e-42 | Spearman's rank correlation rho | two.sided |\n",
       "| NA       | NagelkerkeR2_liability |  NA | 0.8288647 |   414334.0 | 0.000000e+00 | Spearman's rank correlation rho | two.sided |\n",
       "\n"
      ],
      "text/plain": [
       "  family   metric                 n   estimate  statistic  p.value     \n",
       "1 binomial auc                    244 0.2225175  1882355.2 4.617919e-04\n",
       "2 binomial NagelkerkeR2           244 0.4436029  1347087.5 3.470153e-13\n",
       "3 binomial TjurR2                 244 0.7694916   558081.5 4.976507e-49\n",
       "4 gaussian r2                     569 0.4630409 16486384.8 1.396781e-31\n",
       "5 NA       r2noBiomarkers          NA 0.5432095 11658043.3 2.144479e-42\n",
       "6 NA       NagelkerkeR2_liability  NA 0.8288647   414334.0 0.000000e+00\n",
       "  method                          alternative\n",
       "1 Spearman's rank correlation rho two.sided  \n",
       "2 Spearman's rank correlation rho two.sided  \n",
       "3 Spearman's rank correlation rho two.sided  \n",
       "4 Spearman's rank correlation rho two.sided  \n",
       "5 Spearman's rank correlation rho two.sided  \n",
       "6 Spearman's rank correlation rho two.sided  "
      ]
     },
     "metadata": {},
     "output_type": "display_data"
    }
   ],
   "source": [
    "h2_vs_geno_rho_df\n"
   ]
  },
  {
   "cell_type": "markdown",
   "metadata": {},
   "source": [
    "## plots"
   ]
  },
  {
   "cell_type": "code",
   "execution_count": 44,
   "metadata": {},
   "outputs": [],
   "source": [
    "plot_h2_vs_geno <- function(h2_vs_geno_df, metric_selected){\n",
    "    h2_vs_geno_df %>%\n",
    "    filter(metric == metric_selected) %>%\n",
    "    ggplot(aes(x  = h2_obs, y = value, color=trait_category_plot, label=trait_label)) +\n",
    "    geom_errorbarh(aes(xmin = h2_obs - h2_obs_se, xmax = h2_obs + h2_obs_se), alpha=.2) +\n",
    "    # geom_abline(\n",
    "    #     intercept=0,\n",
    "    #     slope=h2_vs_geno_regression_df %>% filter(family == 'binomial') %>% pull(estimate),\n",
    "    #     color='gray',\n",
    "    #     linetype = \"dashed\"\n",
    "    # ) +\n",
    "    geom_abline(intercept=0, slope=1, color='gray') +\n",
    "    geom_point(alpha=.5) +\n",
    "    theme_bw(base_size = 16) +\n",
    "    labs(\n",
    "        x = 'Estimated SNP-based heritability [SE]',\n",
    "        color = 'Trait category'\n",
    "    ) + \n",
    "    theme(legend.position = 'bottom') +\n",
    "    guides(\n",
    "      color = guide_legend(\n",
    "        title = 'Trait category',\n",
    "        override.aes = aes(label = \"\", alpha=1),\n",
    "        ncol=2\n",
    "      )\n",
    "    )\n",
    "}\n",
    "\n"
   ]
  },
  {
   "cell_type": "code",
   "execution_count": 56,
   "metadata": {},
   "outputs": [],
   "source": [
    "plot_h2_vs_geno_liability <- function(h2_vs_geno_df, metric_selected){\n",
    "    h2_vs_geno_df %>%\n",
    "    filter(metric == metric_selected) %>%\n",
    "    ggplot(aes(x  = h2_liability, y = value_liability, color=trait_category_plot, label=trait_label)) +\n",
    "    geom_abline(intercept=0, slope=1, color='gray') +\n",
    "    geom_point(alpha=.5) +\n",
    "    theme_bw(base_size = 16) +\n",
    "    labs(\n",
    "        x = 'Estimated SNP-based heritability [SE]',\n",
    "        color = 'Trait category'\n",
    "    ) + \n",
    "    theme(legend.position = 'bottom') +\n",
    "    guides(\n",
    "      color = guide_legend(\n",
    "        title = 'Trait category',\n",
    "        override.aes = aes(label = \"\", alpha=1),\n",
    "        ncol=2\n",
    "      )\n",
    "    )\n",
    "}\n",
    "\n"
   ]
  },
  {
   "cell_type": "code",
   "execution_count": 46,
   "metadata": {},
   "outputs": [],
   "source": [
    "plot_h2_vs_geno_annotate_rho <- function(plot_obj, rho_df, metric_selected, ypos = c(.48, .46)){\n",
    "    plot_obj +\n",
    "    annotate(\n",
    "        geom=\"text\", x = -0.02, y = ypos[1], color=\"black\",\n",
    "        hjust = 0, parse = TRUE, size = 7,\n",
    "        label=sprintf(\n",
    "            \"\\\"Spearman's\\\" ~ rho == %0.2f\",\n",
    "            round(rho_df %>% filter(metric == metric_selected) %>% pull(estimate), 2)\n",
    "        ),\n",
    "    ) + \n",
    "    annotate(\n",
    "        geom=\"text\", x = -0.02, y = ypos[2],color=\"black\",\n",
    "        hjust = 0, parse = TRUE, size = 7,\n",
    "        label = sprintf(\n",
    "            \"\\\"(p-value: \\\" * %.1e * \\\")\\\"\",\n",
    "            rho_df %>% filter(metric == metric_selected) %>% pull(p.value)\n",
    "        )\n",
    "    )\n",
    "}\n"
   ]
  },
  {
   "cell_type": "code",
   "execution_count": 47,
   "metadata": {},
   "outputs": [
    {
     "name": "stderr",
     "output_type": "stream",
     "text": [
      "Warning message:\n",
      "“Removed 172 rows containing missing values (geom_errorbarh).”\n",
      "Warning message:\n",
      "“Removed 113 rows containing missing values (geom_point).”\n",
      "Warning message:\n",
      "“Removed 113 rows containing missing values (geom_text_repel).”\n"
     ]
    }
   ],
   "source": [
    "p_h2_vs_geno_r2 <- (\n",
    "    h2_vs_geno_df %>%\n",
    "    filter(family == \"gaussian\") %>%\n",
    "    plot_h2_vs_geno(\"r2\") +\n",
    "    labs(\n",
    "        title = 'Quantitative traits (Gaussian model)',\n",
    "        y = latex2exp::TeX('Predictive performance (\\\\textit{R}$^2$)'),\n",
    "    ) +\n",
    "    annotation_custom(\n",
    "        ggplotGrob(\n",
    "            h2_vs_geno_df %>%\n",
    "            filter(family == \"gaussian\") %>%\n",
    "            plot_h2_vs_geno(\"r2\")  +\n",
    "            theme(\n",
    "                legend.position = 'none',\n",
    "                axis.title.x=element_blank(),\n",
    "                axis.title.y=element_blank(),\n",
    "                title=element_blank()\n",
    "            ) +\n",
    "            xlim(0, 0.3) + ylim(0, 0.15) +\n",
    "            ggrepel::geom_text_repel(max.overlaps=30, force=20, mapping = aes(label = plot_sub_label))\n",
    "        ), \n",
    "        xmin = .5, xmax = 1.28, ymin = .16, ymax = 0.56\n",
    "    ) +\n",
    "    geom_rect(mapping=aes(xmin=0, xmax=.3, ymin=0, ymax=0.15), color=\"black\", alpha=0, size=.1)\n",
    ") %>%\n",
    "plot_h2_vs_geno_annotate_rho(h2_vs_geno_rho_df, \"r2\") +        \n",
    "ggrepel::geom_text_repel(max.overlaps=30, force=20, mapping = aes(label = plot_label))"
   ]
  },
  {
   "cell_type": "code",
   "execution_count": 48,
   "metadata": {},
   "outputs": [
    {
     "name": "stderr",
     "output_type": "stream",
     "text": [
      "Warning message:\n",
      "“Removed 167 rows containing missing values (geom_errorbarh).”\n",
      "Warning message:\n",
      "“Removed 108 rows containing missing values (geom_point).”\n",
      "Warning message:\n",
      "“Removed 108 rows containing missing values (geom_text_repel).”\n"
     ]
    }
   ],
   "source": [
    "p_h2_vs_geno_r2noBiomarkers <- (\n",
    "    h2_vs_geno_df %>%\n",
    "    filter(family == \"gaussian\") %>%\n",
    "    filter(trait_category != \"Biomarkers\") %>%\n",
    "    plot_h2_vs_geno(\"r2\") +\n",
    "    labs(\n",
    "        title = 'Quantitative traits (Gaussian model)\\n(non-biomarker traits only)',\n",
    "        y = latex2exp::TeX('Predictive performance (\\\\textit{R}$^2$)'),\n",
    "    ) +\n",
    "    annotation_custom(\n",
    "        ggplotGrob(\n",
    "            h2_vs_geno_df %>%\n",
    "            filter(family == \"gaussian\") %>%\n",
    "            filter(trait_category != \"Biomarkers\") %>%\n",
    "            plot_h2_vs_geno(\"r2\")  +\n",
    "            theme(\n",
    "                legend.position = 'none',\n",
    "                axis.title.x=element_blank(),\n",
    "                axis.title.y=element_blank(),\n",
    "                title=element_blank()\n",
    "            ) +\n",
    "            xlim(0, 0.3) + ylim(0, 0.15) +\n",
    "            ggrepel::geom_text_repel(max.overlaps=30, force=20, mapping = aes(label = plot_sub_label))\n",
    "        ), \n",
    "        xmin = .55, xmax = 1.28, ymin = .16, ymax = 0.37\n",
    "    ) +\n",
    "    geom_rect(mapping=aes(xmin=0, xmax=.3, ymin=0, ymax=0.15), color=\"black\", alpha=0, size=.1)\n",
    ") %>%\n",
    "plot_h2_vs_geno_annotate_rho(h2_vs_geno_rho_df, \"r2noBiomarkers\", ypos = c(.34, .32)) +        \n",
    "ggrepel::geom_text_repel(max.overlaps=30, force=20, mapping = aes(label = plot_label))"
   ]
  },
  {
   "cell_type": "code",
   "execution_count": 49,
   "metadata": {},
   "outputs": [
    {
     "name": "stderr",
     "output_type": "stream",
     "text": [
      "Warning message:\n",
      "“Removed 21 rows containing missing values (geom_errorbarh).”\n",
      "Warning message:\n",
      "“Removed 20 rows containing missing values (geom_point).”\n",
      "Warning message:\n",
      "“Removed 20 rows containing missing values (geom_text_repel).”\n"
     ]
    }
   ],
   "source": [
    "p_h2_vs_geno_NagelkerkeR2 <- (\n",
    "    h2_vs_geno_df %>%\n",
    "    filter(family == \"binomial\") %>%\n",
    "    plot_h2_vs_geno(\"NagelkerkeR2\") +\n",
    "    labs(\n",
    "        title = 'Binary traits (Binomial model)',\n",
    "        y = latex2exp::TeX('Predictive performance (Nagelkerke\\'s pseudo \\\\textit{R}$^2$)'),\n",
    "    ) +\n",
    "    annotation_custom(\n",
    "        ggplotGrob(\n",
    "            h2_vs_geno_df %>%\n",
    "            filter(family == \"binomial\") %>%\n",
    "            plot_h2_vs_geno(\"NagelkerkeR2\") +\n",
    "            theme(\n",
    "                legend.position = 'none',\n",
    "                axis.title.x=element_blank(),\n",
    "                axis.title.y=element_blank(),\n",
    "                title=element_blank()\n",
    "            ) +\n",
    "            xlim(0, 0.118) + ylim(0, 0.075) +\n",
    "            ggrepel::geom_text_repel(max.overlaps=30, force=20, mapping = aes(label = plot_sub_label))\n",
    "        ), \n",
    "        xmin = .3, xmax = 1.15, ymin = .15, ymax = 0.61\n",
    "    ) +\n",
    "    geom_rect(mapping=aes(xmin=0, xmax=.118, ymin=0, ymax=0.075), color=\"black\", alpha=0, size=.1)\n",
    ") %>%\n",
    "plot_h2_vs_geno_annotate_rho(h2_vs_geno_rho_df, \"NagelkerkeR2\", ypos = c(.55, .52)) +        \n",
    "ggrepel::geom_text_repel(max.overlaps=30, force=20, mapping = aes(label = plot_label))"
   ]
  },
  {
   "cell_type": "code",
   "execution_count": 50,
   "metadata": {},
   "outputs": [
    {
     "name": "stderr",
     "output_type": "stream",
     "text": [
      "Warning message:\n",
      "“Removed 14 rows containing missing values (geom_errorbarh).”\n",
      "Warning message:\n",
      "“Removed 14 rows containing missing values (geom_point).”\n",
      "Warning message:\n",
      "“Removed 14 rows containing missing values (geom_text_repel).”\n"
     ]
    }
   ],
   "source": [
    "p_h2_vs_geno_TjurR2 <- (\n",
    "    h2_vs_geno_df %>%\n",
    "    filter(family == \"binomial\") %>%\n",
    "    plot_h2_vs_geno(\"TjurR2\") +\n",
    "    labs(\n",
    "        title = 'Binary traits (Binomial model)',\n",
    "        y = latex2exp::TeX('Predictive performance (Tjur\\'s pseudo \\\\textit{R}$^2$)'),\n",
    "    ) +\n",
    "    annotation_custom(\n",
    "        ggplotGrob(\n",
    "            h2_vs_geno_df %>%\n",
    "            filter(family == \"binomial\") %>%\n",
    "            plot_h2_vs_geno(\"TjurR2\") +\n",
    "            theme(\n",
    "                legend.position = 'none',\n",
    "                axis.title.x=element_blank(),\n",
    "                axis.title.y=element_blank(),\n",
    "                title=element_blank()\n",
    "            ) +\n",
    "            xlim(0, 0.15) + ylim(0, 0.038) +\n",
    "            ggrepel::geom_text_repel(max.overlaps=30, force=20, mapping = aes(label = plot_sub_label))\n",
    "        ), \n",
    "        xmin = .3, xmax = 1.15, ymin = .12, ymax = 0.48\n",
    "    ) +\n",
    "    geom_rect(mapping=aes(xmin=0, xmax=.15, ymin=0, ymax=0.038), color=\"black\", alpha=0, size=.1)\n",
    ") %>%\n",
    "plot_h2_vs_geno_annotate_rho(h2_vs_geno_rho_df, \"TjurR2\", ypos = c(.45, .425)) +        \n",
    "ggrepel::geom_text_repel(max.overlaps=30, force=20, mapping = aes(label = plot_label))"
   ]
  },
  {
   "cell_type": "code",
   "execution_count": 51,
   "metadata": {},
   "outputs": [
    {
     "name": "stderr",
     "output_type": "stream",
     "text": [
      "Warning message:\n",
      "“Removed 21 rows containing missing values (geom_errorbarh).”\n",
      "Warning message:\n",
      "“Removed 20 rows containing missing values (geom_point).”\n",
      "Warning message:\n",
      "“Removed 20 rows containing missing values (geom_text_repel).”\n"
     ]
    }
   ],
   "source": [
    "p_h2_vs_geno_NagelkerkeR2_liability <- (\n",
    "    h2_vs_geno_df %>%\n",
    "    filter(family == \"binomial\") %>%\n",
    "    plot_h2_vs_geno_liability(\"NagelkerkeR2\") +\n",
    "    labs(\n",
    "        title = 'Binary traits (Binomial model)',\n",
    "        y = latex2exp::TeX('Predictive performance (Nagelkerke\\'s pseudo \\\\textit{R}$^2$)'),\n",
    "    ) +\n",
    "    annotation_custom(\n",
    "        ggplotGrob(\n",
    "            h2_vs_geno_df %>%\n",
    "            filter(family == \"binomial\") %>%\n",
    "            plot_h2_vs_geno(\"NagelkerkeR2\") +\n",
    "            theme(\n",
    "                legend.position = 'none',\n",
    "                axis.title.x=element_blank(),\n",
    "                axis.title.y=element_blank(),\n",
    "                title=element_blank()\n",
    "            ) +\n",
    "            xlim(0, 0.118) + ylim(0, 0.075) +\n",
    "            ggrepel::geom_text_repel(max.overlaps=30, force=20, mapping = aes(label = plot_sub_label))\n",
    "        ), \n",
    "        xmin = .3, xmax = 1.15, ymin = .15, ymax = 0.61\n",
    "    ) +\n",
    "    geom_rect(mapping=aes(xmin=0, xmax=.118, ymin=0, ymax=0.075), color=\"black\", alpha=0, size=.1)\n",
    ") %>%\n",
    "plot_h2_vs_geno_annotate_rho(h2_vs_geno_rho_df, \"NagelkerkeR2\", ypos = c(.55, .52)) +        \n",
    "ggrepel::geom_text_repel(max.overlaps=30, force=20, mapping = aes(label = plot_label))"
   ]
  },
  {
   "cell_type": "code",
   "execution_count": 95,
   "metadata": {},
   "outputs": [],
   "source": [
    "p_h2_vs_geno_NagelkerkeR2_liability_full <- (\n",
    "    h2_vs_geno_df %>%\n",
    "    filter(family == \"binomial\", metric == \"NagelkerkeR2\") %>%\n",
    "    mutate(\n",
    "        plot_label = if_else(\n",
    "            (rank(-value_liability) <= 12) |\n",
    "            (rank(-h2_liability) <= 12),\n",
    "            trait_name, \"\"\n",
    "        )\n",
    "    ) %>%\n",
    "    plot_h2_vs_geno_liability(\"NagelkerkeR2\") +\n",
    "    labs(\n",
    "        title = 'Binary traits (Binomial model), liability-scale',\n",
    "        y = latex2exp::TeX('Predictive performance (Nagelkerke\\'s pseudo \\\\textit{R}$^2$)'),\n",
    "    )\n",
    ") %>%\n",
    "plot_h2_vs_geno_annotate_rho(h2_vs_geno_rho_df, \"NagelkerkeR2_liability\", ypos = c(15, 14)) +\n",
    "ggrepel::geom_text_repel(max.overlaps=30, force=20, mapping = aes(label = plot_label))"
   ]
  },
  {
   "cell_type": "code",
   "execution_count": 102,
   "metadata": {},
   "outputs": [],
   "source": [
    "p_h2_vs_geno_NagelkerkeR2_liability_zoom <- (\n",
    "    h2_vs_geno_df %>%\n",
    "    filter(family == \"binomial\", metric == \"NagelkerkeR2\") %>%\n",
    "    filter(value_liability < .5, h2_liability < .5) %>%\n",
    "    mutate(\n",
    "        plot_label = if_else(\n",
    "            (rank(-value_liability) <= 27) |\n",
    "            (rank(-h2_liability) <= 20),\n",
    "            trait_name, \"\"\n",
    "        )\n",
    "    ) %>%\n",
    "    plot_h2_vs_geno_liability(\"NagelkerkeR2\") +\n",
    "    labs(\n",
    "        title = 'Binary traits (Binomial model), liability-scale',\n",
    "        y = latex2exp::TeX('Predictive performance (Nagelkerke\\'s pseudo \\\\textit{R}$^2$)'),\n",
    "    )\n",
    ") +\n",
    "ggrepel::geom_text_repel(max.overlaps=30, force=20, mapping = aes(label = plot_label))\n"
   ]
  },
  {
   "cell_type": "code",
   "execution_count": 105,
   "metadata": {},
   "outputs": [],
   "source": [
    "for(ext in c('png', 'pdf')){\n",
    "    ggsave(\n",
    "        file.path(\"plots\", sprintf('h2_vs_geno_liability.%s', ext)),\n",
    "        gridExtra::arrangeGrob(\n",
    "            p_h2_vs_geno_NagelkerkeR2_liability_full +\n",
    "            geom_rect(\n",
    "                mapping=aes(xmin=0, xmax=0.5, ymin=0, ymax=0.5),\n",
    "                color=\"black\", alpha=0, size=.5\n",
    "            ),\n",
    "            p_h2_vs_geno_NagelkerkeR2_liability_zoom,\n",
    "            # format\n",
    "            ncol=2\n",
    "        ),\n",
    "        width=20, height=11\n",
    "    )\n",
    "}\n"
   ]
  },
  {
   "cell_type": "code",
   "execution_count": 146,
   "metadata": {},
   "outputs": [],
   "source": [
    "for(ext in c('png', 'pdf')){\n",
    "    ggsave(\n",
    "        file.path(\"plots\", sprintf('h2_vs_geno.%s', ext)),\n",
    "        gridExtra::arrangeGrob(\n",
    "            p_h2_vs_geno_NagelkerkeR2,\n",
    "            p_h2_vs_geno_r2,\n",
    "            # format\n",
    "            ncol=2\n",
    "        ),\n",
    "        width=20, height=11\n",
    "    )\n",
    "    ggsave(\n",
    "        file.path(\"plots\", sprintf('h2_vs_geno_NagelkerkeR2.%s', ext)),\n",
    "        p_h2_vs_geno_NagelkerkeR2,\n",
    "        width=10, height=11\n",
    "    )\n",
    "    ggsave(\n",
    "        file.path(\"plots\", sprintf('h2_vs_geno_gaussian.%s', ext)),\n",
    "        p_h2_vs_geno_r2,\n",
    "        width=10, height=11\n",
    "    )\n",
    "    ggsave(\n",
    "        file.path(\"plots\", sprintf('h2_vs_geno_gaussian_noBiomarkers.%s', ext)),\n",
    "        p_h2_vs_geno_r2noBiomarkers,\n",
    "        width=10, height=11\n",
    "    )\n",
    "    ggsave(\n",
    "        file.path(\"plots\", sprintf('h2_vs_geno_TjurR2.%s', ext)),\n",
    "        p_h2_vs_geno_TjurR2,\n",
    "        width=10, height=11\n",
    "    )\n",
    "\n",
    "}\n"
   ]
  },
  {
   "cell_type": "code",
   "execution_count": 131,
   "metadata": {},
   "outputs": [],
   "source": [
    "htmlwidgets::saveWidget(\n",
    "    (\n",
    "        h2_vs_geno_df %>%\n",
    "        filter(family == \"binomial\") %>%\n",
    "        plot_h2_vs_geno(\"NagelkerkeR2\") +\n",
    "        labs(\n",
    "            title = 'Binary traits (Binomial model)',\n",
    "            y = \"Predictive performance (Nagelkerke's pseudo-R^2)\",\n",
    "        )\n",
    "    ) %>% plotly::ggplotly(),\n",
    "    'ggplotly/h2_vs_geno_NagelkerkeR2.html'\n",
    ")\n",
    "\n",
    "htmlwidgets::saveWidget(\n",
    "    (\n",
    "        \n",
    "        h2_vs_geno_df %>%\n",
    "        filter(family == \"gaussian\") %>%\n",
    "        plot_h2_vs_geno(\"r2\") +\n",
    "        labs(\n",
    "            title = 'Quantitative traits (Gaussian model)',\n",
    "            y = \"Predictive performance (R^2)\",\n",
    "        )\n",
    "    ) %>% plotly::ggplotly(),\n",
    "    'ggplotly/h2_vs_geno_gaussian.html'\n",
    ")\n",
    "\n",
    "htmlwidgets::saveWidget(\n",
    "    (\n",
    "        h2_vs_geno_df %>%\n",
    "        filter(family == \"binomial\") %>%\n",
    "        plot_h2_vs_geno(\"TjurR2\") +\n",
    "        labs(\n",
    "            title = 'Binary traits (Binomial model)',\n",
    "            y = \"Predictive performance (Tjur's pseudo-R^2)\",\n",
    "        )\n",
    "    ) %>% plotly::ggplotly(),\n",
    "    'ggplotly/h2_vs_geno_TjurR2.html'\n",
    ")\n"
   ]
  },
  {
   "cell_type": "code",
   "execution_count": null,
   "metadata": {},
   "outputs": [],
   "source": []
  }
 ],
 "metadata": {
  "kernelspec": {
   "display_name": "R",
   "language": "R",
   "name": "ir"
  },
  "language_info": {
   "codemirror_mode": "r",
   "file_extension": ".r",
   "mimetype": "text/x-r-source",
   "name": "R",
   "pygments_lexer": "r",
   "version": "4.1.2"
  }
 },
 "nbformat": 4,
 "nbformat_minor": 4
}

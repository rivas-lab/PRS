{
 "cells": [
  {
   "cell_type": "markdown",
   "metadata": {},
   "source": [
    "# PRS map - summary plots\n"
   ]
  },
  {
   "cell_type": "markdown",
   "metadata": {},
   "source": [
    "## Predictive performance vs. model size plot\n",
    "\n",
    "- x-axis: log10(number of variants in the PRS model),\n",
    "- y-axis: the delta in predictive performance (do color coding by gaussian, binomial, etc family)\n"
   ]
  },
  {
   "cell_type": "markdown",
   "metadata": {},
   "source": [
    "## library, functions, and constants"
   ]
  },
  {
   "cell_type": "code",
   "execution_count": 1,
   "metadata": {},
   "outputs": [],
   "source": [
    "suppressWarnings(suppressPackageStartupMessages({\n",
    "    library(tidyverse)\n",
    "    library(data.table)\n",
    "}))\n"
   ]
  },
  {
   "cell_type": "code",
   "execution_count": 2,
   "metadata": {},
   "outputs": [
    {
     "name": "stderr",
     "output_type": "stream",
     "text": [
      "\u001b[36mℹ\u001b[39m Loading \u001b[34m\u001b[34mcud4\u001b[34m\u001b[39m\n",
      "\n",
      "\u001b[36mℹ\u001b[39m Loading \u001b[34m\u001b[34msnpnet\u001b[34m\u001b[39m\n",
      "\n"
     ]
    }
   ],
   "source": [
    "source('paths.sh')\n",
    "devtools::load_all(cud4_d)\n",
    "devtools::load_all(dirname(dirname(snpnet_helper)))\n",
    "source(snpnet_helper)\n"
   ]
  },
  {
   "cell_type": "code",
   "execution_count": 3,
   "metadata": {},
   "outputs": [],
   "source": [
    "traits_w_metrics_f %>%\n",
    "fread() %>%\n",
    "rename_with(\n",
    "    function(x){str_replace(x, '#', '')}, starts_with(\"#\")\n",
    ") -> traits_w_metrics_df\n",
    "\n",
    "\n",
    "eval_fullwDelta_f %>%\n",
    "fread() %>%\n",
    "rename_with(\n",
    "    function(x){str_replace(x, '#', '')}, starts_with(\"#\")\n",
    ") -> eval_long_df\n"
   ]
  },
  {
   "cell_type": "markdown",
   "metadata": {},
   "source": [
    "## relationship between the two variables"
   ]
  },
  {
   "cell_type": "code",
   "execution_count": 4,
   "metadata": {},
   "outputs": [],
   "source": [
    "cor_test_wrapper <- function(df, cor_test_method){cor.test(\n",
    "    df %>% pull(value),\n",
    "    df %>% pull(n_variables),\n",
    "    method = cor_test_method\n",
    ")}\n"
   ]
  },
  {
   "cell_type": "code",
   "execution_count": 6,
   "metadata": {},
   "outputs": [
    {
     "data": {
      "text/html": [
       "<table class=\"dataframe\">\n",
       "<caption>A data.table: 4 × 3</caption>\n",
       "<thead>\n",
       "\t<tr><th scope=col>family</th><th scope=col>metric</th><th scope=col>n</th></tr>\n",
       "\t<tr><th scope=col>&lt;chr&gt;</th><th scope=col>&lt;chr&gt;</th><th scope=col>&lt;int&gt;</th></tr>\n",
       "</thead>\n",
       "<tbody>\n",
       "\t<tr><td>binomial</td><td>auc         </td><td>244</td></tr>\n",
       "\t<tr><td>binomial</td><td>NagelkerkeR2</td><td>244</td></tr>\n",
       "\t<tr><td>binomial</td><td>TjurR2      </td><td>244</td></tr>\n",
       "\t<tr><td>gaussian</td><td>r2          </td><td>569</td></tr>\n",
       "</tbody>\n",
       "</table>\n"
      ],
      "text/latex": [
       "A data.table: 4 × 3\n",
       "\\begin{tabular}{lll}\n",
       " family & metric & n\\\\\n",
       " <chr> & <chr> & <int>\\\\\n",
       "\\hline\n",
       "\t binomial & auc          & 244\\\\\n",
       "\t binomial & NagelkerkeR2 & 244\\\\\n",
       "\t binomial & TjurR2       & 244\\\\\n",
       "\t gaussian & r2           & 569\\\\\n",
       "\\end{tabular}\n"
      ],
      "text/markdown": [
       "\n",
       "A data.table: 4 × 3\n",
       "\n",
       "| family &lt;chr&gt; | metric &lt;chr&gt; | n &lt;int&gt; |\n",
       "|---|---|---|\n",
       "| binomial | auc          | 244 |\n",
       "| binomial | NagelkerkeR2 | 244 |\n",
       "| binomial | TjurR2       | 244 |\n",
       "| gaussian | r2           | 569 |\n",
       "\n"
      ],
      "text/plain": [
       "  family   metric       n  \n",
       "1 binomial auc          244\n",
       "2 binomial NagelkerkeR2 244\n",
       "3 binomial TjurR2       244\n",
       "4 gaussian r2           569"
      ]
     },
     "metadata": {},
     "output_type": "display_data"
    }
   ],
   "source": [
    "eval_long_df %>%\n",
    "filter(\n",
    "    WBtest_is_significant,\n",
    "    split == \"test\",\n",
    "    model == \"delta\"\n",
    ") %>%\n",
    "count(family, metric)"
   ]
  },
  {
   "cell_type": "code",
   "execution_count": 8,
   "metadata": {},
   "outputs": [
    {
     "name": "stderr",
     "output_type": "stream",
     "text": [
      "Warning message in cor.test.default(df %>% pull(value), df %>% pull(n_variables), :\n",
      "“Cannot compute exact p-value with ties”\n",
      "Warning message in cor.test.default(df %>% pull(value), df %>% pull(n_variables), :\n",
      "“Cannot compute exact p-value with ties”\n",
      "Warning message in cor.test.default(df %>% pull(value), df %>% pull(n_variables), :\n",
      "“Cannot compute exact p-value with ties”\n",
      "Warning message in cor.test.default(df %>% pull(value), df %>% pull(n_variables), :\n",
      "“Cannot compute exact p-value with ties”\n"
     ]
    }
   ],
   "source": [
    "size_vs_delta_rho <- list()\n",
    "\n",
    "for(metric_selected in c(\"r2\", \"auc\", \"NagelkerkeR2\", \"TjurR2\")){\n",
    "    size_vs_delta_rho[[metric_selected]] <- eval_long_df %>%\n",
    "    filter(\n",
    "        WBtest_is_significant,\n",
    "        split == \"test\",\n",
    "        model == \"delta\"\n",
    "    ) %>%\n",
    "    filter(metric == metric_selected) %>%\n",
    "    cor_test_wrapper(\"spearman\")\n",
    "}\n"
   ]
  },
  {
   "cell_type": "code",
   "execution_count": 50,
   "metadata": {},
   "outputs": [
    {
     "name": "stderr",
     "output_type": "stream",
     "text": [
      "Warning message in cor.test.default(df %>% pull(value), df %>% pull(n_variables), :\n",
      "“Cannot compute exact p-value with ties”\n"
     ]
    }
   ],
   "source": [
    "# focusing on non-biomarker traits only\n",
    "size_vs_delta_rho[[\"r2noBiomarkers\"]] <- eval_long_df %>%\n",
    "filter(trait_category != \"Biomarkers\") %>%\n",
    "filter(\n",
    "    WBtest_is_significant,\n",
    "    split == \"test\",\n",
    "    model == \"delta\"\n",
    ") %>%\n",
    "filter(metric == \"r2\") %>%\n",
    "cor_test_wrapper(\"spearman\")\n"
   ]
  },
  {
   "cell_type": "code",
   "execution_count": 51,
   "metadata": {},
   "outputs": [],
   "source": [
    "eval_long_df %>%\n",
    "filter(\n",
    "    WBtest_is_significant,\n",
    "    split == \"test\",\n",
    "    model == \"delta\"\n",
    ") %>%\n",
    "count(family, metric) %>%\n",
    "full_join(\n",
    "    size_vs_delta_rho %>% names() %>%\n",
    "    lapply(function(metric_selected){\n",
    "        size_vs_delta_rho[[metric_selected]] %>%\n",
    "        broom::tidy() %>% as.data.frame() %>%\n",
    "        mutate(metric = metric_selected)\n",
    "    }) %>% bind_rows(),\n",
    "    by = \"metric\"\n",
    ") -> size_vs_delta_rho_df\n"
   ]
  },
  {
   "cell_type": "code",
   "execution_count": 52,
   "metadata": {},
   "outputs": [
    {
     "data": {
      "text/html": [
       "<table class=\"dataframe\">\n",
       "<caption>A data.table: 5 × 8</caption>\n",
       "<thead>\n",
       "\t<tr><th scope=col>family</th><th scope=col>metric</th><th scope=col>n</th><th scope=col>estimate</th><th scope=col>statistic</th><th scope=col>p.value</th><th scope=col>method</th><th scope=col>alternative</th></tr>\n",
       "\t<tr><th scope=col>&lt;chr&gt;</th><th scope=col>&lt;chr&gt;</th><th scope=col>&lt;int&gt;</th><th scope=col>&lt;dbl&gt;</th><th scope=col>&lt;dbl&gt;</th><th scope=col>&lt;dbl&gt;</th><th scope=col>&lt;chr&gt;</th><th scope=col>&lt;chr&gt;</th></tr>\n",
       "</thead>\n",
       "<tbody>\n",
       "\t<tr><td>binomial</td><td>auc           </td><td>244</td><td>0.02992588</td><td> 2348636.8</td><td>6.418162e-01</td><td>Spearman's rank correlation rho</td><td>two.sided</td></tr>\n",
       "\t<tr><td>binomial</td><td>NagelkerkeR2  </td><td>244</td><td>0.21002801</td><td> 1912593.3</td><td>9.641340e-04</td><td>Spearman's rank correlation rho</td><td>two.sided</td></tr>\n",
       "\t<tr><td>binomial</td><td>TjurR2        </td><td>244</td><td>0.60544347</td><td>  955256.9</td><td>8.525138e-26</td><td>Spearman's rank correlation rho</td><td>two.sided</td></tr>\n",
       "\t<tr><td>gaussian</td><td>r2            </td><td>569</td><td>0.61039907</td><td>11962010.7</td><td>2.210457e-59</td><td>Spearman's rank correlation rho</td><td>two.sided</td></tr>\n",
       "\t<tr><td>NA      </td><td>r2noBiomarkers</td><td> NA</td><td>0.68493676</td><td> 8040930.7</td><td>2.566473e-75</td><td>Spearman's rank correlation rho</td><td>two.sided</td></tr>\n",
       "</tbody>\n",
       "</table>\n"
      ],
      "text/latex": [
       "A data.table: 5 × 8\n",
       "\\begin{tabular}{llllllll}\n",
       " family & metric & n & estimate & statistic & p.value & method & alternative\\\\\n",
       " <chr> & <chr> & <int> & <dbl> & <dbl> & <dbl> & <chr> & <chr>\\\\\n",
       "\\hline\n",
       "\t binomial & auc            & 244 & 0.02992588 &  2348636.8 & 6.418162e-01 & Spearman's rank correlation rho & two.sided\\\\\n",
       "\t binomial & NagelkerkeR2   & 244 & 0.21002801 &  1912593.3 & 9.641340e-04 & Spearman's rank correlation rho & two.sided\\\\\n",
       "\t binomial & TjurR2         & 244 & 0.60544347 &   955256.9 & 8.525138e-26 & Spearman's rank correlation rho & two.sided\\\\\n",
       "\t gaussian & r2             & 569 & 0.61039907 & 11962010.7 & 2.210457e-59 & Spearman's rank correlation rho & two.sided\\\\\n",
       "\t NA       & r2noBiomarkers &  NA & 0.68493676 &  8040930.7 & 2.566473e-75 & Spearman's rank correlation rho & two.sided\\\\\n",
       "\\end{tabular}\n"
      ],
      "text/markdown": [
       "\n",
       "A data.table: 5 × 8\n",
       "\n",
       "| family &lt;chr&gt; | metric &lt;chr&gt; | n &lt;int&gt; | estimate &lt;dbl&gt; | statistic &lt;dbl&gt; | p.value &lt;dbl&gt; | method &lt;chr&gt; | alternative &lt;chr&gt; |\n",
       "|---|---|---|---|---|---|---|---|\n",
       "| binomial | auc            | 244 | 0.02992588 |  2348636.8 | 6.418162e-01 | Spearman's rank correlation rho | two.sided |\n",
       "| binomial | NagelkerkeR2   | 244 | 0.21002801 |  1912593.3 | 9.641340e-04 | Spearman's rank correlation rho | two.sided |\n",
       "| binomial | TjurR2         | 244 | 0.60544347 |   955256.9 | 8.525138e-26 | Spearman's rank correlation rho | two.sided |\n",
       "| gaussian | r2             | 569 | 0.61039907 | 11962010.7 | 2.210457e-59 | Spearman's rank correlation rho | two.sided |\n",
       "| NA       | r2noBiomarkers |  NA | 0.68493676 |  8040930.7 | 2.566473e-75 | Spearman's rank correlation rho | two.sided |\n",
       "\n"
      ],
      "text/plain": [
       "  family   metric         n   estimate   statistic  p.value     \n",
       "1 binomial auc            244 0.02992588  2348636.8 6.418162e-01\n",
       "2 binomial NagelkerkeR2   244 0.21002801  1912593.3 9.641340e-04\n",
       "3 binomial TjurR2         244 0.60544347   955256.9 8.525138e-26\n",
       "4 gaussian r2             569 0.61039907 11962010.7 2.210457e-59\n",
       "5 NA       r2noBiomarkers  NA 0.68493676  8040930.7 2.566473e-75\n",
       "  method                          alternative\n",
       "1 Spearman's rank correlation rho two.sided  \n",
       "2 Spearman's rank correlation rho two.sided  \n",
       "3 Spearman's rank correlation rho two.sided  \n",
       "4 Spearman's rank correlation rho two.sided  \n",
       "5 Spearman's rank correlation rho two.sided  "
      ]
     },
     "metadata": {},
     "output_type": "display_data"
    }
   ],
   "source": [
    "size_vs_delta_rho_df\n"
   ]
  },
  {
   "cell_type": "markdown",
   "metadata": {},
   "source": [
    "### list of traits to annotate in the plot"
   ]
  },
  {
   "cell_type": "code",
   "execution_count": 13,
   "metadata": {},
   "outputs": [],
   "source": [
    "p_delta_vs_size_labels <- data.frame(\n",
    "    plot_label = c(\n",
    "        # Binary traits\n",
    "        'Iritis',\n",
    "        'Porphyrin and\\nbilirubin metabolism\\ndisorders (TTE)',\n",
    "        'Hair color (red)',\n",
    "        'Hair color (blonde)',\n",
    "        'Hair color (dark brown)',\n",
    "        'Celiac disease',\n",
    "        'Genetic\\nhematological\\ndisorder',\n",
    "        'Type 1 diabetes',\n",
    "        'Ankylosing\\nspondylitis',\n",
    "        'Other coagulation\\ndefects (TTE)',\n",
    "        'Intestinal malabsorption (TTE)',\n",
    "#         'Never Smoker',\n",
    "        # Quantitative traits\n",
    "        'Lipoprotein A',\n",
    "        'Total bilirubin',\n",
    "        'Direct billirubin',\n",
    "        'Mean platelet volume',\n",
    "        'Apolipoprotein B',\n",
    "        'EBNA-1 antigen for\\nEpstein-Barr Virus',\n",
    "        'Standing\\nheight',\n",
    "        'Heel bone mineral density'\n",
    "    ),\n",
    "    trait = c(\n",
    "        # Binary traits\n",
    "        'HC26',\n",
    "        'HC702',\n",
    "        'BIN_FC2001747',\n",
    "        'BIN_FC1001747',\n",
    "        'BIN_FC4001747',\n",
    "        'HC303',\n",
    "        'HC413',\n",
    "        'HC337',\n",
    "        'HC422',\n",
    "        'HC624',\n",
    "        'HC1132',\n",
    "#         'BIN_FC10020116',\n",
    "        # Quantitative traits\n",
    "        'INI30790',\n",
    "        'INI30840',\n",
    "        'INI30660',\n",
    "        'INI30100',\n",
    "        'INI30640',\n",
    "        'INI23004',\n",
    "        'INI50',\n",
    "        'INI3148'\n",
    "    ),\n",
    "    stringsAsFactors=F\n",
    ")\n"
   ]
  },
  {
   "cell_type": "markdown",
   "metadata": {},
   "source": [
    "## plots"
   ]
  },
  {
   "cell_type": "code",
   "execution_count": 21,
   "metadata": {},
   "outputs": [],
   "source": [
    "plot_delta_vs_size <- function(eval_long_df, p_delta_vs_size_labels, metric_selected){\n",
    "    eval_long_df %>%\n",
    "    filter(\n",
    "        WBtest_is_significant,\n",
    "        metric == metric_selected,\n",
    "        split == \"test\",\n",
    "        model == \"delta\"\n",
    "    ) %>%\n",
    "    left_join(p_delta_vs_size_labels, by='trait') %>%\n",
    "    replace_na(list('plot_label'='')) %>%\n",
    "    ggplot(aes(x  = n_variables, y = value, color=trait_category_plot, label=trait_label)) +\n",
    "    geom_point(alpha=.5) + scale_x_continuous(trans='log10') +\n",
    "    theme_bw(base_size = 16) +\n",
    "    labs(\n",
    "        x = 'Number of genetic variants',\n",
    "        color = 'Trait category'\n",
    "    ) + \n",
    "    theme(legend.position = 'bottom') +\n",
    "    guides(\n",
    "      color = guide_legend(\n",
    "        title = 'Trait category',\n",
    "        override.aes = aes(label = \"\", alpha=1),\n",
    "        ncol=2\n",
    "      )\n",
    "    )\n",
    "}\n"
   ]
  },
  {
   "cell_type": "code",
   "execution_count": 39,
   "metadata": {},
   "outputs": [],
   "source": [
    "plot_delta_vs_size_annotate_rho <- function(plot_obj, size_vs_delta_rho_df, metric_selected, ypos = c(.35, .32)){\n",
    "    plot_obj +\n",
    "    annotate(\n",
    "        geom=\"text\", x = 1, y = ypos[1], color=\"black\",\n",
    "        hjust = 0, parse = TRUE, size = 7,\n",
    "        label=sprintf(\n",
    "            \"\\\"Spearman's\\\" ~ rho == %0.2f\",\n",
    "            round(size_vs_delta_rho_df %>% filter(metric == metric_selected) %>% pull(estimate), 2)\n",
    "        ),\n",
    "    ) + \n",
    "    annotate(\n",
    "        geom=\"text\", x = 1, y = ypos[2],color=\"black\",\n",
    "        hjust = 0, parse = TRUE, size = 7,\n",
    "        label = sprintf(\n",
    "            \"\\\"(p-value: \\\" * %.1e * \\\")\\\"\",\n",
    "            size_vs_delta_rho_df %>% filter(metric == metric_selected) %>% pull(p.value)\n",
    "        )\n",
    "    )\n",
    "}\n"
   ]
  },
  {
   "cell_type": "code",
   "execution_count": 40,
   "metadata": {},
   "outputs": [
    {
     "name": "stderr",
     "output_type": "stream",
     "text": [
      "Warning message:\n",
      "“ggrepel: 1 unlabeled data points (too many overlaps). Consider increasing max.overlaps”\n",
      "Warning message:\n",
      "“ggrepel: 1 unlabeled data points (too many overlaps). Consider increasing max.overlaps”\n"
     ]
    }
   ],
   "source": [
    "for(ext in c('png', 'pdf')){ggsave(\n",
    "    file.path(\"plots\", sprintf('size_vs_delta.%s', ext)),\n",
    "    gridExtra::arrangeGrob(\n",
    "        # Nagelkerke's pseudo-R2\n",
    "        (\n",
    "            eval_long_df %>%\n",
    "            filter(family == 'binomial') %>%\n",
    "            plot_delta_vs_size(p_delta_vs_size_labels, \"NagelkerkeR2\") +\n",
    "            labs(\n",
    "                title = 'Binary traits (Binomial model)',\n",
    "                y = latex2exp::TeX(\"Incremental Nagelkerke's $\\\\\\\\textit{R}^{2}$\")\n",
    "            )\n",
    "        ) %>%\n",
    "        plot_delta_vs_size_annotate_rho(size_vs_delta_rho_df, \"NagelkerkeR2\", ypos = c(.58, .53)) +\n",
    "        ggrepel::geom_text_repel(force=20, mapping = aes(label = plot_label)),\n",
    "        # quantitative traits (R2)\n",
    "        (\n",
    "            eval_long_df %>%\n",
    "            filter(family == 'gaussian') %>%\n",
    "            plot_delta_vs_size(p_delta_vs_size_labels, \"r2\") +\n",
    "            labs(\n",
    "                title = 'Quantitative traits (Gaussian model)',\n",
    "                y = latex2exp::TeX('Incremental \\\\textit{R}$^2$')\n",
    "            )\n",
    "        ) %>%\n",
    "        plot_delta_vs_size_annotate_rho(size_vs_delta_rho_df, \"r2\")+\n",
    "        ggrepel::geom_text_repel(force=20, mapping = aes(label = plot_label)),\n",
    "        ncol=2\n",
    "    ),\n",
    "    width=16, height=8\n",
    ")}\n"
   ]
  },
  {
   "cell_type": "code",
   "execution_count": 53,
   "metadata": {},
   "outputs": [
    {
     "name": "stderr",
     "output_type": "stream",
     "text": [
      "Warning message:\n",
      "“ggrepel: 1 unlabeled data points (too many overlaps). Consider increasing max.overlaps”\n",
      "Warning message:\n",
      "“ggrepel: 5 unlabeled data points (too many overlaps). Consider increasing max.overlaps”\n",
      "Warning message:\n",
      "“ggrepel: 1 unlabeled data points (too many overlaps). Consider increasing max.overlaps”\n",
      "Warning message:\n",
      "“ggrepel: 5 unlabeled data points (too many overlaps). Consider increasing max.overlaps”\n"
     ]
    }
   ],
   "source": [
    "for(ext in c('png', 'pdf')){\n",
    "    ggsave(\n",
    "        file.path(\"plots\", sprintf('size_vs_delta_NagelkerkeR2.%s', ext)),\n",
    "        # Nagelkerke's pseudo-R2\n",
    "        (\n",
    "            eval_long_df %>%\n",
    "            filter(family == 'binomial') %>%\n",
    "            plot_delta_vs_size(p_delta_vs_size_labels, \"NagelkerkeR2\") +\n",
    "            labs(\n",
    "                title = 'Binary traits (Binomial model)',\n",
    "                y = latex2exp::TeX(\"Incremental Nagelkerke's $\\\\\\\\textit{R}^{2}$\")\n",
    "            )\n",
    "        ) %>%\n",
    "        plot_delta_vs_size_annotate_rho(size_vs_delta_rho_df, \"NagelkerkeR2\", ypos = c(.58, .53)) +\n",
    "        ggrepel::geom_text_repel(force=20, mapping = aes(label = plot_label)),\n",
    "        width=8, height=9\n",
    "    )\n",
    "    ggsave(\n",
    "        file.path(\"plots\", sprintf('size_vs_delta_gaussian.%s', ext)),  \n",
    "        # quantitative traits (R2)\n",
    "        (\n",
    "            eval_long_df %>%\n",
    "            filter(family == 'gaussian') %>%\n",
    "            plot_delta_vs_size(p_delta_vs_size_labels, \"r2\") +\n",
    "            labs(\n",
    "                title = 'Quantitative traits (Gaussian model)',\n",
    "                y = latex2exp::TeX('Incremental \\\\textit{R}$^2$')\n",
    "            )\n",
    "        ) %>%\n",
    "        plot_delta_vs_size_annotate_rho(size_vs_delta_rho_df, \"r2\")+\n",
    "        ggrepel::geom_text_repel(force=20, mapping = aes(label = plot_label)),\n",
    "        width=8, height=9\n",
    "    )\n",
    "    \n",
    "    ggsave(\n",
    "        file.path(\"plots\", sprintf('size_vs_delta_gaussian_noBiomarkers.%s', ext)),  \n",
    "        # quantitative traits (R2), non-biomarker traits only\n",
    "        (\n",
    "            eval_long_df %>%\n",
    "            filter(family == 'gaussian') %>%\n",
    "            filter(trait_category != \"Biomarkers\") %>%\n",
    "            plot_delta_vs_size(p_delta_vs_size_labels, \"r2\") +\n",
    "            labs(\n",
    "                title = 'Quantitative traits (Gaussian model)\\n(non-biomarker traits only)',\n",
    "                y = latex2exp::TeX('Incremental \\\\textit{R}$^2$')\n",
    "            )\n",
    "        ) %>%\n",
    "        plot_delta_vs_size_annotate_rho(size_vs_delta_rho_df, \"r2noBiomarkers\")+\n",
    "        ggrepel::geom_text_repel(force=20, mapping = aes(label = plot_label)),\n",
    "        width=8, height=9\n",
    "    )\n",
    "    \n",
    "    ggsave(\n",
    "        file.path(\"plots\", sprintf('size_vs_delta_AUC.%s', ext)),\n",
    "        # binomial traits (AUC)\n",
    "        (\n",
    "            eval_long_df %>%\n",
    "            filter(family == 'binomial') %>%\n",
    "            plot_delta_vs_size(p_delta_vs_size_labels, \"auc\") +\n",
    "            labs(\n",
    "                title = 'Binary traits (Binomial model)',\n",
    "                y = latex2exp::TeX(\"Incremental AUC\")\n",
    "            )\n",
    "        ) %>%\n",
    "        plot_delta_vs_size_annotate_rho(size_vs_delta_rho_df, \"auc\", ypos = c(.38, .35)) +\n",
    "        ggrepel::geom_text_repel(force=20, mapping = aes(label = plot_label)),\n",
    "        width=8, height=9\n",
    "    )\n",
    "    \n",
    "    ggsave(\n",
    "        file.path(\"plots\", sprintf('size_vs_delta_TjurR2.%s', ext)),\n",
    "        # Tjur's pseudo-R2\n",
    "        (\n",
    "            eval_long_df %>%\n",
    "            filter(family == 'binomial') %>%\n",
    "            plot_delta_vs_size(p_delta_vs_size_labels, \"TjurR2\") +\n",
    "            labs(\n",
    "                title = 'Binary traits (Binomial model)',\n",
    "                y = latex2exp::TeX(\"Incremental Tjur's $\\\\\\\\textit{R}^{2}$\")\n",
    "            )\n",
    "        ) %>%\n",
    "        plot_delta_vs_size_annotate_rho(size_vs_delta_rho_df, \"TjurR2\", ypos = c(.48, .43)) +\n",
    "        ggrepel::geom_text_repel(force=20, mapping = aes(label = plot_label)),\n",
    "        width=8, height=9\n",
    "    )\n",
    "    \n",
    "}\n"
   ]
  },
  {
   "cell_type": "markdown",
   "metadata": {},
   "source": [
    "### export them to plotly plots\n",
    "Those files are now hosted on AFS (/afs/ir.stanford.edu/users/y/t/ytanigaw/WWW/PRSmap)\n",
    "- http://web.stanford.edu/~ytanigaw/PRSmap/\n",
    "\n"
   ]
  },
  {
   "cell_type": "code",
   "execution_count": 44,
   "metadata": {},
   "outputs": [],
   "source": [
    "htmlwidgets::saveWidget(\n",
    "    (\n",
    "        eval_long_df %>%\n",
    "        filter(family == 'binomial') %>%\n",
    "        plot_delta_vs_size(p_delta_vs_size_labels, \"NagelkerkeR2\") +\n",
    "        labs(\n",
    "            title = 'Binary traits (Binomial model)',\n",
    "            y = \"Incremental Nagelkerke's R^2\"\n",
    "        )\n",
    "    ) %>%\n",
    "    plotly::ggplotly(),\n",
    "    'ggplotly/size_vs_delta_binomial.html'\n",
    ")\n",
    "\n",
    "htmlwidgets::saveWidget(\n",
    "    (\n",
    "        eval_long_df %>%\n",
    "        filter(family == 'gaussian') %>%\n",
    "        plot_delta_vs_size(p_delta_vs_size_labels, \"r2\") +\n",
    "        labs(\n",
    "            title = 'Quantitative traits (Gaussian model)',\n",
    "            y = 'Incremental R^2'\n",
    "        )\n",
    "    ) %>%\n",
    "    plotly::ggplotly(),\n",
    "    'ggplotly/size_vs_delta_gaussian.html'\n",
    ")\n"
   ]
  },
  {
   "cell_type": "code",
   "execution_count": null,
   "metadata": {},
   "outputs": [],
   "source": []
  }
 ],
 "metadata": {
  "kernelspec": {
   "display_name": "R",
   "language": "R",
   "name": "ir"
  },
  "language_info": {
   "codemirror_mode": "r",
   "file_extension": ".r",
   "mimetype": "text/x-r-source",
   "name": "R",
   "pygments_lexer": "r",
   "version": "3.6.2"
  }
 },
 "nbformat": 4,
 "nbformat_minor": 4
}

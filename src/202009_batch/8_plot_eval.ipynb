{
 "cells": [
  {
   "cell_type": "code",
   "execution_count": 1,
   "metadata": {},
   "outputs": [],
   "source": [
    "suppressWarnings(suppressPackageStartupMessages({\n",
    "    library(tidyverse)\n",
    "    library(data.table)\n",
    "}))\n"
   ]
  },
  {
   "cell_type": "code",
   "execution_count": 2,
   "metadata": {},
   "outputs": [],
   "source": [
    "res_d <- '/scratch/groups/mrivas/projects/PRS/private_output/202009_batch'\n"
   ]
  },
  {
   "cell_type": "code",
   "execution_count": 3,
   "metadata": {},
   "outputs": [],
   "source": [
    "eval_1_df <- fread(file.path(res_d, 'snpnet.eval.1_fit_w_val.tsv')) %>% rename('GBE_ID'='#GBE_ID')\n",
    "eval_2_df <- fread(file.path(res_d, 'snpnet.eval.2_refit.tsv')) %>% rename('GBE_ID'='#GBE_ID')"
   ]
  },
  {
   "cell_type": "code",
   "execution_count": 4,
   "metadata": {},
   "outputs": [],
   "source": [
    "bind_rows(\n",
    "    eval_1_df %>% mutate(run_idx = '1_fit_w_val'),\n",
    "    eval_2_df %>% mutate(run_idx = '2_refit')\n",
    ") %>%\n",
    "filter(split == 'test', n_variables>0) %>%\n",
    "rename('metric'='geno_covar') %>%\n",
    "select(GBE_ID, family, run_idx, metric) %>%\n",
    "unique() %>% spread(run_idx, metric) -> df"
   ]
  },
  {
   "cell_type": "code",
   "execution_count": 5,
   "metadata": {},
   "outputs": [],
   "source": [
    "plots <- list()\n",
    "for(f in c('binomial', 'gaussian')) {\n",
    "    df %>% drop_na(`1_fit_w_val`, `2_refit`) %>%\n",
    "    filter(family == f) %>%\n",
    "    ggplot(aes(x = `1_fit_w_val`, y = `2_refit`)) + \n",
    "    geom_abline(slope=1, intercept=0, color='red') + \n",
    "    geom_point(alpha=.3) + theme_bw()+\n",
    "    labs(\n",
    "        title=ifelse(\n",
    "            f == 'binomial', \n",
    "            'Binary phenotypes (family: Binomial)', \n",
    "            'Quantitative phenotypes (family: Gaussian)'\n",
    "        ),\n",
    "        x = 'Model performance trainined on training (70%) and validation (10%) sets',\n",
    "        y = 'Model performance trainined on the combined (70% + 10%) set'\n",
    "    ) +\n",
    "    geom_vline(xintercept = ifelse(f == 'binomial', 0.5, 0), color='gray') + \n",
    "    geom_hline(yintercept = ifelse(f == 'binomial', 0.5, 0), color='gray') -> plots[[f]]\n",
    "}\n"
   ]
  },
  {
   "cell_type": "code",
   "execution_count": 6,
   "metadata": {},
   "outputs": [],
   "source": [
    "ggsave('8_plot_eval.png', gridExtra::arrangeGrob(plots[['binomial']], plots[['gaussian']], ncol=2), width=12, height=6)"
   ]
  },
  {
   "cell_type": "code",
   "execution_count": 7,
   "metadata": {},
   "outputs": [
    {
     "data": {
      "text/html": [
       "<table>\n",
       "<caption>A matrix: 1 × 4 of type dbl</caption>\n",
       "<thead>\n",
       "\t<tr><th></th><th scope=col>Estimate</th><th scope=col>Std. Error</th><th scope=col>t value</th><th scope=col>Pr(&gt;|t|)</th></tr>\n",
       "</thead>\n",
       "<tbody>\n",
       "\t<tr><th scope=row>`1_fit_w_val`</th><td>1.002266</td><td>0.0003903395</td><td>2567.678</td><td>0</td></tr>\n",
       "</tbody>\n",
       "</table>\n"
      ],
      "text/latex": [
       "A matrix: 1 × 4 of type dbl\n",
       "\\begin{tabular}{r|llll}\n",
       "  & Estimate & Std. Error & t value & Pr(>\\textbar{}t\\textbar{})\\\\\n",
       "\\hline\n",
       "\t`1\\_fit\\_w\\_val` & 1.002266 & 0.0003903395 & 2567.678 & 0\\\\\n",
       "\\end{tabular}\n"
      ],
      "text/markdown": [
       "\n",
       "A matrix: 1 × 4 of type dbl\n",
       "\n",
       "| <!--/--> | Estimate | Std. Error | t value | Pr(&gt;|t|) |\n",
       "|---|---|---|---|---|\n",
       "| `1_fit_w_val` | 1.002266 | 0.0003903395 | 2567.678 | 0 |\n",
       "\n"
      ],
      "text/plain": [
       "              Estimate Std. Error   t value  Pr(>|t|)\n",
       "`1_fit_w_val` 1.002266 0.0003903395 2567.678 0       "
      ]
     },
     "metadata": {},
     "output_type": "display_data"
    }
   ],
   "source": [
    "summary(lm(`2_refit` ~ 0 + `1_fit_w_val`, df %>% drop_na(`1_fit_w_val`, `2_refit`) %>% filter(family == 'binomial')))$coefficients\n"
   ]
  },
  {
   "cell_type": "code",
   "execution_count": 8,
   "metadata": {},
   "outputs": [
    {
     "data": {
      "text/html": [
       "<table>\n",
       "<caption>A matrix: 1 × 4 of type dbl</caption>\n",
       "<thead>\n",
       "\t<tr><th></th><th scope=col>Estimate</th><th scope=col>Std. Error</th><th scope=col>t value</th><th scope=col>Pr(&gt;|t|)</th></tr>\n",
       "</thead>\n",
       "<tbody>\n",
       "\t<tr><th scope=row>`1_fit_w_val`</th><td>1.006895</td><td>0.0004027447</td><td>2500.083</td><td>0</td></tr>\n",
       "</tbody>\n",
       "</table>\n"
      ],
      "text/latex": [
       "A matrix: 1 × 4 of type dbl\n",
       "\\begin{tabular}{r|llll}\n",
       "  & Estimate & Std. Error & t value & Pr(>\\textbar{}t\\textbar{})\\\\\n",
       "\\hline\n",
       "\t`1\\_fit\\_w\\_val` & 1.006895 & 0.0004027447 & 2500.083 & 0\\\\\n",
       "\\end{tabular}\n"
      ],
      "text/markdown": [
       "\n",
       "A matrix: 1 × 4 of type dbl\n",
       "\n",
       "| <!--/--> | Estimate | Std. Error | t value | Pr(&gt;|t|) |\n",
       "|---|---|---|---|---|\n",
       "| `1_fit_w_val` | 1.006895 | 0.0004027447 | 2500.083 | 0 |\n",
       "\n"
      ],
      "text/plain": [
       "              Estimate Std. Error   t value  Pr(>|t|)\n",
       "`1_fit_w_val` 1.006895 0.0004027447 2500.083 0       "
      ]
     },
     "metadata": {},
     "output_type": "display_data"
    }
   ],
   "source": [
    "summary(lm(`2_refit` ~ 0 + `1_fit_w_val`, df %>% drop_na(`1_fit_w_val`, `2_refit`) %>% filter(family == 'gaussian')))$coefficients\n"
   ]
  },
  {
   "cell_type": "code",
   "execution_count": null,
   "metadata": {},
   "outputs": [],
   "source": []
  }
 ],
 "metadata": {
  "kernelspec": {
   "display_name": "R",
   "language": "R",
   "name": "ir"
  },
  "language_info": {
   "codemirror_mode": "r",
   "file_extension": ".r",
   "mimetype": "text/x-r-source",
   "name": "R",
   "pygments_lexer": "r",
   "version": "3.6.2"
  }
 },
 "nbformat": 4,
 "nbformat_minor": 4
}

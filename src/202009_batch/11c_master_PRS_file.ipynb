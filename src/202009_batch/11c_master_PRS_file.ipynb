{
 "cells": [
  {
   "cell_type": "code",
   "execution_count": 1,
   "metadata": {},
   "outputs": [],
   "source": [
    "suppressWarnings(suppressPackageStartupMessages({\n",
    "    library(tidyverse)\n",
    "    library(data.table)\n",
    "}))\n"
   ]
  },
  {
   "cell_type": "code",
   "execution_count": 2,
   "metadata": {},
   "outputs": [],
   "source": [
    "# input\n",
    "PRS_d='/scratch/groups/mrivas/projects/PRS/private_output/202009_batch'\n",
    "covar_f='/oak/stanford/groups/mrivas/ukbb24983/sqc/population_stratification_w24983_20200828/ukb24983_GWAS_covar.20200828.phe'\n",
    "PRS_test_run_f='/oak/stanford/groups/mrivas/projects/PRS/private_output/20200908_PRS_map_test/7_pfactor_v5/%s/2_refit/%s.sscore.zst'\n",
    "\n",
    "# output\n",
    "master_PRS_f=file.path(PRS_d, 'ukb24983_GWAS_covar.20200828.PRSs.phe')\n"
   ]
  },
  {
   "cell_type": "code",
   "execution_count": 13,
   "metadata": {},
   "outputs": [],
   "source": [
    "source('/oak/stanford/groups/mrivas/users/ytanigaw/repos/rivas-lab/snpnet/helpers/snpnet_misc.R')\n"
   ]
  },
  {
   "cell_type": "code",
   "execution_count": 9,
   "metadata": {},
   "outputs": [],
   "source": [
    "system(paste('find', PRS_d, '-maxdepth 2 -name \"snpnet.2_refit.PRSs.*.phe\" | sort -V'), intern=T) %>%\n",
    "lapply(function(f){\n",
    "    fread(f, colClasses = c('#FID'='character', 'IID'='character')) %>%\n",
    "    rename('FID'='#FID')\n",
    "}) %>% reduce(function(x, y){inner_join(x, y, by=c('FID', 'IID'))}) -> PRS_df\n"
   ]
  },
  {
   "cell_type": "code",
   "execution_count": 10,
   "metadata": {},
   "outputs": [
    {
     "data": {
      "text/html": [
       "<style>\n",
       ".list-inline {list-style: none; margin:0; padding: 0}\n",
       ".list-inline>li {display: inline-block}\n",
       ".list-inline>li:not(:last-child)::after {content: \"\\00b7\"; padding: 0 .5ex}\n",
       "</style>\n",
       "<ol class=list-inline><li>488377</li><li>1770</li></ol>\n"
      ],
      "text/latex": [
       "\\begin{enumerate*}\n",
       "\\item 488377\n",
       "\\item 1770\n",
       "\\end{enumerate*}\n"
      ],
      "text/markdown": [
       "1. 488377\n",
       "2. 1770\n",
       "\n",
       "\n"
      ],
      "text/plain": [
       "[1] 488377   1770"
      ]
     },
     "metadata": {},
     "output_type": "display_data"
    }
   ],
   "source": [
    "PRS_df %>% dim()"
   ]
  },
  {
   "cell_type": "code",
   "execution_count": 11,
   "metadata": {},
   "outputs": [],
   "source": [
    "covar_f %>% fread(colClasses = c('#FID'='character', 'IID'='character')) %>%\n",
    "rename('FID'='#FID') -> covar_df\n"
   ]
  },
  {
   "cell_type": "code",
   "execution_count": 14,
   "metadata": {},
   "outputs": [],
   "source": [
    "c('INI50', 'INI21001', 'HC269', 'HC382') %>%\n",
    "lapply(function(gbeid){\n",
    "    read_PRS(sprintf(PRS_test_run_f, gbeid, gbeid)) %>% rename(!!sprintf('PRS_%s', gbeid) := 'geno_score')\n",
    "}) %>% reduce(function(x, y){inner_join(x, y, by=c('FID', 'IID'))}) -> PRS_test_run_df\n"
   ]
  },
  {
   "cell_type": "code",
   "execution_count": 15,
   "metadata": {},
   "outputs": [],
   "source": [
    "covar_df %>% \n",
    "left_join(PRS_test_run_df, by=c('FID', 'IID')) %>%\n",
    "left_join(PRS_df, by=c('FID', 'IID')) -> full_df\n"
   ]
  },
  {
   "cell_type": "code",
   "execution_count": 16,
   "metadata": {},
   "outputs": [
    {
     "data": {
      "text/html": [
       "<style>\n",
       ".list-inline {list-style: none; margin:0; padding: 0}\n",
       ".list-inline>li {display: inline-block}\n",
       ".list-inline>li:not(:last-child)::after {content: \"\\00b7\"; padding: 0 .5ex}\n",
       "</style>\n",
       "<ol class=list-inline><li>488377</li><li>1866</li></ol>\n"
      ],
      "text/latex": [
       "\\begin{enumerate*}\n",
       "\\item 488377\n",
       "\\item 1866\n",
       "\\end{enumerate*}\n"
      ],
      "text/markdown": [
       "1. 488377\n",
       "2. 1866\n",
       "\n",
       "\n"
      ],
      "text/plain": [
       "[1] 488377   1866"
      ]
     },
     "metadata": {},
     "output_type": "display_data"
    }
   ],
   "source": [
    "full_df %>% dim()"
   ]
  },
  {
   "cell_type": "code",
   "execution_count": 17,
   "metadata": {},
   "outputs": [],
   "source": [
    "full_df %>%\n",
    "rename('#FID' = 'FID') %>%\n",
    "fwrite(master_PRS_f, sep='\\t', na = \"NA\", quote=F)\n"
   ]
  },
  {
   "cell_type": "code",
   "execution_count": null,
   "metadata": {},
   "outputs": [],
   "source": []
  }
 ],
 "metadata": {
  "kernelspec": {
   "display_name": "R",
   "language": "R",
   "name": "ir"
  },
  "language_info": {
   "codemirror_mode": "r",
   "file_extension": ".r",
   "mimetype": "text/x-r-source",
   "name": "R",
   "pygments_lexer": "r",
   "version": "3.6.2"
  }
 },
 "nbformat": 4,
 "nbformat_minor": 4
}

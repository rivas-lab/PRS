{
 "cells": [
  {
   "cell_type": "code",
   "execution_count": 38,
   "metadata": {},
   "outputs": [],
   "source": [
    "suppressWarnings(suppressPackageStartupMessages({\n",
    "    library(tidyverse)\n",
    "    library(data.table)\n",
    "    library(googlesheets)\n",
    "}))\n"
   ]
  },
  {
   "cell_type": "code",
   "execution_count": 39,
   "metadata": {},
   "outputs": [],
   "source": [
    "source('0_parameters.sh')\n"
   ]
  },
  {
   "cell_type": "code",
   "execution_count": 40,
   "metadata": {},
   "outputs": [],
   "source": [
    "file.path(res_d, 'snpnet.sscore.2_refit.tsv') %>%\n",
    "fread(select=c(1), head=F) %>% pull() %>% c('INI50', 'INI21001', 'HC269', 'HC382') -> traits\n"
   ]
  },
  {
   "cell_type": "code",
   "execution_count": 32,
   "metadata": {},
   "outputs": [
    {
     "data": {
      "text/html": [
       "1772"
      ],
      "text/latex": [
       "1772"
      ],
      "text/markdown": [
       "1772"
      ],
      "text/plain": [
       "[1] 1772"
      ]
     },
     "metadata": {},
     "output_type": "display_data"
    }
   ],
   "source": [
    "length(traits)"
   ]
  },
  {
   "cell_type": "code",
   "execution_count": 42,
   "metadata": {},
   "outputs": [],
   "source": [
    "ukb_phe_info='/oak/stanford/groups/mrivas/users/ytanigaw/repos/rivas-lab/ukbb-tools/05_gbe/extras/20200812_GBE_category/GBE_category.20201024.tsv'\n"
   ]
  },
  {
   "cell_type": "code",
   "execution_count": 46,
   "metadata": {},
   "outputs": [],
   "source": [
    "ukb_phe_info %>% fread() %>% filter(GBE_ID %in% traits) %>%\n",
    "fwrite(file.path(data_d, 'trait_info.tsv'))\n"
   ]
  },
  {
   "cell_type": "code",
   "execution_count": 57,
   "metadata": {},
   "outputs": [],
   "source": [
    "for(basename in c('snpnet.eval.1_fit_w_val.tsv', 'snpnet.eval.2_refit.tsv')){\n",
    "    file.path(res_d, basename) %>%\n",
    "    fread(colClasses = c('#GBE_ID'='character')) %>%\n",
    "    rename('GBE_ID'='#GBE_ID') %>%\n",
    "    filter(GBE_ID %in% traits) %>%\n",
    "    select(-GBE_ID_prefix, -GBE_category, -GBE_N, -GBE_NAME, -GBE_short_name, -Units_of_measurement, -rank_geno_delta_per_family) %>%\n",
    "    unique() %>%\n",
    "    rename('#GBE_ID' = 'GBE_ID') %>%\n",
    "    fwrite(file.path(data_d, basename), sep='\\t', na = \"NA\", quote=F)\n",
    "}\n"
   ]
  },
  {
   "cell_type": "code",
   "execution_count": null,
   "metadata": {},
   "outputs": [],
   "source": []
  }
 ],
 "metadata": {
  "kernelspec": {
   "display_name": "R",
   "language": "R",
   "name": "ir"
  },
  "language_info": {
   "codemirror_mode": "r",
   "file_extension": ".r",
   "mimetype": "text/x-r-source",
   "name": "R",
   "pygments_lexer": "r",
   "version": "3.6.2"
  }
 },
 "nbformat": 4,
 "nbformat_minor": 4
}

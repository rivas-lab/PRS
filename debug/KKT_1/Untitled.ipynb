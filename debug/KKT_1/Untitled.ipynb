{
 "cells": [
  {
   "cell_type": "code",
   "execution_count": 1,
   "metadata": {},
   "outputs": [],
   "source": [
    "suppressPackageStartupMessages(require(tidyverse))\n",
    "suppressPackageStartupMessages(require(data.table))\n",
    "suppressPackageStartupMessages(require(glmnet))\n"
   ]
  },
  {
   "cell_type": "code",
   "execution_count": 2,
   "metadata": {},
   "outputs": [],
   "source": [
    "snpnet_dir<-'/oak/stanford/groups/mrivas/software/snpnet'\n",
    "mem2bufferSizeDivisionFactor<-4\n",
    "cpu<-6\n",
    "mem<-60000\n",
    "niter<-100\n",
    "genotype_dir<-'/scratch/users/ytanigaw/tmp/snpnet/geno/array_imp_combined'\n",
    "data_dir_root<-'/oak/stanford/groups/mrivas/users/ytanigaw/repos/rivas-lab/public-resources/uk_biobank/biomarkers/snpnet/data_array_imp'\n",
    "phenotype_file<-'biomarkers_covar.phe'\n",
    "phenotype_name<-'Cystatin_C'\n",
    "family<-'gaussian'\n",
    "prevIter<-0\n"
   ]
  },
  {
   "cell_type": "code",
   "execution_count": 3,
   "metadata": {},
   "outputs": [
    {
     "name": "stderr",
     "output_type": "stream",
     "text": [
      "Loading snpnet\n"
     ]
    }
   ],
   "source": [
    "# load snpnet\n",
    "devtools::load_all(snpnet_dir)\n"
   ]
  },
  {
   "cell_type": "code",
   "execution_count": 4,
   "metadata": {},
   "outputs": [
    {
     "name": "stdout",
     "output_type": "stream",
     "text": [
      "[1] ‘2.0.20’\n"
     ]
    }
   ],
   "source": [
    "# please check if glmnet version is >= 2.0.20\n",
    "print(packageVersion(\"glmnet\"))\n"
   ]
  },
  {
   "cell_type": "code",
   "execution_count": 5,
   "metadata": {},
   "outputs": [
    {
     "name": "stdout",
     "output_type": "stream",
     "text": [
      "[1] \"Cystatin_C\"\n"
     ]
    }
   ],
   "source": [
    "# configue parameters\n",
    "data_dir_root  <- data_dir_root\n",
    "phenotype.name <- phenotype_name\n",
    "phenotype.file <- file.path(data_dir_root, phenotype_file)\n",
    "results.dir    <- file.path(data_dir_root, phenotype.name, 'results')\n",
    "covariates     <- c()\n",
    "\n",
    "print(phenotype.name)\n"
   ]
  },
  {
   "cell_type": "code",
   "execution_count": 11,
   "metadata": {},
   "outputs": [],
   "source": [
    "genotype.dir = genotype_dir"
   ]
  },
  {
   "cell_type": "code",
   "execution_count": 6,
   "metadata": {},
   "outputs": [],
   "source": [
    "phenotype = phenotype.name\n",
    "nlambda = 100\n",
    "lambda.min.ratio = NULL\n",
    "num.snps.batch = 1000\n",
    "increase.size = num.snps.batch/2\n",
    "standardize.variant = FALSE\n",
    "use.glmnetPlus = (family == \"gaussian\")\n",
    "stopping.lag = 2\n",
    "early.stopping = TRUE\n",
    "glmnet.thresh = 1E-7\n",
    "\n",
    "configs = list(\n",
    "    missing.rate = 0.1,\n",
    "    MAF.thresh = 0.001,\n",
    "    nCores = cpu,\n",
    "    bufferSize = mem / mem2bufferSizeDivisionFactor,\n",
    "    meta.dir = \"meta\",\n",
    "    nlams.init = 10,\n",
    "    nlams.delta = 5\n",
    ")\n",
    "verbose = T\n",
    "KKT.verbose = T\n",
    "buffer.verbose = T\n",
    "validation = T\n",
    "save = F # we don't want to overwrite the original output during the debug\n"
   ]
  },
  {
   "cell_type": "code",
   "execution_count": 7,
   "metadata": {},
   "outputs": [
    {
     "name": "stdout",
     "output_type": "stream",
     "text": [
      "Start snpnet: 2019-09-30 17:55:11 \n"
     ]
    }
   ],
   "source": [
    "if (prevIter >= niter) stop(\"prevIter is greater or equal to the total number of iterations.\")\n",
    "configs <- setup_configs_directories(configs, covariates, standardize.variant, early.stopping,\n",
    "                       stopping.lag, save, results.dir)\n",
    "\n",
    "start.time.tot <- Sys.time()\n",
    "cat(\"Start snpnet:\", as.character(start.time.tot), \"\\n\")"
   ]
  },
  {
   "cell_type": "code",
   "execution_count": 8,
   "metadata": {},
   "outputs": [
    {
     "name": "stdout",
     "output_type": "stream",
     "text": [
      "Preprocessing start: 2019-09-30 17:55:29 \n"
     ]
    }
   ],
   "source": [
    "### --- Process phenotypes --- ###\n",
    "  cat(\"Preprocessing start:\", as.character(Sys.time()), \"\\n\")\n",
    "  phe.master <- data.table::fread(phenotype.file, colClasses = c(\"FID\" = \"character\", \"IID\" = \"character\"), select = c(\"FID\", \"IID\", covariates, phenotype))\n",
    "  cat_ids <- paste(phe.master$FID, phe.master$IID, sep = \"_\")\n",
    "  # rownames(phe.master) <- phe.master$ID\n",
    "  if (is.null(family)) {\n",
    "    if (all(unique(phe.master[[phenotype]] %in% c(0, 1, 2, -9)))) {\n",
    "      family <- \"binomial\"\n",
    "    } else {\n",
    "      family <- \"gaussian\"\n",
    "    }\n",
    "  }\n",
    "  if (family == \"binomial\") phe.master[[phenotype]] <- phe.master[[phenotype]] - 1"
   ]
  },
  {
   "cell_type": "code",
   "execution_count": 9,
   "metadata": {},
   "outputs": [
    {
     "name": "stderr",
     "output_type": "stream",
     "text": [
      "Loading required namespace: glmnetPlus\n"
     ]
    }
   ],
   "source": [
    "### --- Check whether to use glmnet or glmnetPlus --- ###\n",
    "  use.glmnetPlus <- checkGlmnetPlus(use.glmnetPlus, family)\n",
    "  if (use.glmnetPlus) {\n",
    "    glmnet.settings <- glmnetPlus::glmnet.control()\n",
    "    on.exit(do.call(glmnetPlus::glmnet.control, glmnet.settings))\n",
    "    glmnetPlus::glmnet.control(fdev = 0, devmax = 1)\n",
    "  } else {\n",
    "    glmnet.settings <- glmnet::glmnet.control()\n",
    "    on.exit(do.call(glmnet::glmnet.control, glmnet.settings))\n",
    "    glmnet::glmnet.control(fdev = 0, devmax = 1)\n",
    "  }"
   ]
  },
  {
   "cell_type": "code",
   "execution_count": 12,
   "metadata": {},
   "outputs": [
    {
     "name": "stderr",
     "output_type": "stream",
     "text": [
      "Extracting number of samples and rownames from train.fam...\n",
      "Extracting number of variants and colnames from train.bim...\n",
      "Extracting number of samples and rownames from val.fam...\n",
      "Extracting number of variants and colnames from val.bim...\n"
     ]
    }
   ],
   "source": [
    "### --- Process genotypes --- ###\n",
    "  chr.train <- BEDMatrixPlus(file.path(genotype.dir, \"train.bed\"))\n",
    "  n.chr.train <- nrow(chr.train)\n",
    "  ids.chr.train <- rownames(chr.train)\n",
    "\n",
    "  if (validation) {\n",
    "    chr.val <- BEDMatrixPlus(file.path(genotype.dir, \"val.bed\"))\n",
    "    n.chr.val <- nrow(chr.val)\n",
    "    ids.chr.val <- rownames(chr.val)\n",
    "  }"
   ]
  },
  {
   "cell_type": "code",
   "execution_count": null,
   "metadata": {},
   "outputs": [],
   "source": [
    "### --- Prepare the feature matrix --- ###\n",
    "  rowIdx.subset.train <- which(ids.chr.train %in% cat_ids[phe.master[[phenotype]] != -9])  # missing phenotypes are encoded with -9\n",
    "  n.subset.train <- length(rowIdx.subset.train)\n",
    "  stats <- computeStats(chr.train, rowIdx.subset.train, stat = c(\"pnas\", \"means\", \"sds\"),\n",
    "                        path = file.path(results.dir, configs[[\"meta.dir\"]]), save = save, configs = configs, verbose = verbose, buffer.verbose = buffer.verbose)\n",
    "  phe.train <- phe.master[match(ids.chr.train, cat_ids), ]\n",
    "  if (length(covariates) > 0) {\n",
    "    features.train <- phe.train[, covariates, with = F]\n",
    "    features.train <- features.train[rowIdx.subset.train, ]\n",
    "  } else {\n",
    "    features.train <- NULL\n",
    "  }\n",
    "  if (validation) {\n",
    "    rowIdx.subset.val <- which(ids.chr.val %in% cat_ids[phe.master[[phenotype]] != -9])  # missing phenotypes are encoded with -9\n",
    "    n.subset.val <- length(rowIdx.subset.val)\n",
    "    phe.val <- phe.master[match(ids.chr.val, cat_ids), ]\n",
    "    if (length(covariates) > 0) {\n",
    "      features.val <- phe.val[, covariates, with = F]\n",
    "      features.val <- features.val[rowIdx.subset.val, ]\n",
    "    } else {\n",
    "      features.val <- NULL\n",
    "    }\n",
    "  }\n"
   ]
  },
  {
   "cell_type": "code",
   "execution_count": null,
   "metadata": {},
   "outputs": [],
   "source": []
  }
 ],
 "metadata": {
  "kernelspec": {
   "display_name": "R",
   "language": "R",
   "name": "ir"
  },
  "language_info": {
   "codemirror_mode": "r",
   "file_extension": ".r",
   "mimetype": "text/x-r-source",
   "name": "R",
   "pygments_lexer": "r",
   "version": "3.5.1"
  }
 },
 "nbformat": 4,
 "nbformat_minor": 2
}

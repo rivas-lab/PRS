{
 "cells": [
  {
   "cell_type": "code",
   "execution_count": 1,
   "metadata": {},
   "outputs": [],
   "source": [
    "suppressPackageStartupMessages(require(tidyverse))\n",
    "suppressPackageStartupMessages(require(data.table))\n"
   ]
  },
  {
   "cell_type": "code",
   "execution_count": 2,
   "metadata": {},
   "outputs": [],
   "source": [
    "load('data/output_iter_100.RData')\n"
   ]
  },
  {
   "cell_type": "code",
   "execution_count": 3,
   "metadata": {},
   "outputs": [
    {
     "data": {
      "text/html": [
       "<ol class=list-inline>\n",
       "\t<li>'a0'</li>\n",
       "\t<li>'beta'</li>\n",
       "\t<li>'configs'</li>\n",
       "\t<li>'features.to.keep'</li>\n",
       "\t<li>'full.lams'</li>\n",
       "\t<li>'glmnet.results'</li>\n",
       "\t<li>'increase.snp.size'</li>\n",
       "\t<li>'lambda.idx'</li>\n",
       "\t<li>'max.valid.idx'</li>\n",
       "\t<li>'metric.train'</li>\n",
       "\t<li>'metric.val'</li>\n",
       "\t<li>'num.lams'</li>\n",
       "\t<li>'num.new.valid'</li>\n",
       "\t<li>'prev.beta'</li>\n",
       "\t<li>'score'</li>\n",
       "</ol>\n"
      ],
      "text/latex": [
       "\\begin{enumerate*}\n",
       "\\item 'a0'\n",
       "\\item 'beta'\n",
       "\\item 'configs'\n",
       "\\item 'features.to.keep'\n",
       "\\item 'full.lams'\n",
       "\\item 'glmnet.results'\n",
       "\\item 'increase.snp.size'\n",
       "\\item 'lambda.idx'\n",
       "\\item 'max.valid.idx'\n",
       "\\item 'metric.train'\n",
       "\\item 'metric.val'\n",
       "\\item 'num.lams'\n",
       "\\item 'num.new.valid'\n",
       "\\item 'prev.beta'\n",
       "\\item 'score'\n",
       "\\end{enumerate*}\n"
      ],
      "text/markdown": [
       "1. 'a0'\n",
       "2. 'beta'\n",
       "3. 'configs'\n",
       "4. 'features.to.keep'\n",
       "5. 'full.lams'\n",
       "6. 'glmnet.results'\n",
       "7. 'increase.snp.size'\n",
       "8. 'lambda.idx'\n",
       "9. 'max.valid.idx'\n",
       "10. 'metric.train'\n",
       "11. 'metric.val'\n",
       "12. 'num.lams'\n",
       "13. 'num.new.valid'\n",
       "14. 'prev.beta'\n",
       "15. 'score'\n",
       "\n",
       "\n"
      ],
      "text/plain": [
       " [1] \"a0\"                \"beta\"              \"configs\"          \n",
       " [4] \"features.to.keep\"  \"full.lams\"         \"glmnet.results\"   \n",
       " [7] \"increase.snp.size\" \"lambda.idx\"        \"max.valid.idx\"    \n",
       "[10] \"metric.train\"      \"metric.val\"        \"num.lams\"         \n",
       "[13] \"num.new.valid\"     \"prev.beta\"         \"score\"            "
      ]
     },
     "metadata": {},
     "output_type": "display_data"
    }
   ],
   "source": [
    "ls()"
   ]
  },
  {
   "cell_type": "code",
   "execution_count": 10,
   "metadata": {},
   "outputs": [
    {
     "data": {
      "text/html": [
       "36"
      ],
      "text/latex": [
       "36"
      ],
      "text/markdown": [
       "36"
      ],
      "text/plain": [
       "[1] 36"
      ]
     },
     "metadata": {},
     "output_type": "display_data"
    }
   ],
   "source": [
    "length(beta)"
   ]
  },
  {
   "cell_type": "code",
   "execution_count": 4,
   "metadata": {},
   "outputs": [
    {
     "data": {
      "text/html": [
       "1"
      ],
      "text/latex": [
       "1"
      ],
      "text/markdown": [
       "1"
      ],
      "text/plain": [
       "[1] 1"
      ]
     },
     "metadata": {},
     "output_type": "display_data"
    }
   ],
   "source": [
    "length(max.valid.idx)"
   ]
  },
  {
   "cell_type": "code",
   "execution_count": 5,
   "metadata": {},
   "outputs": [
    {
     "data": {
      "text/html": [
       "36"
      ],
      "text/latex": [
       "36"
      ],
      "text/markdown": [
       "36"
      ],
      "text/plain": [
       "[1] 36"
      ]
     },
     "metadata": {},
     "output_type": "display_data"
    }
   ],
   "source": [
    "max.valid.idx"
   ]
  },
  {
   "cell_type": "code",
   "execution_count": 9,
   "metadata": {},
   "outputs": [
    {
     "data": {
      "image/png": "[encoded data removed]",
      "text/plain": [
       "plot without title"
      ]
     },
     "metadata": {},
     "output_type": "display_data"
    }
   ],
   "source": [
    "plot(metric.val)"
   ]
  },
  {
   "cell_type": "code",
   "execution_count": null,
   "metadata": {},
   "outputs": [],
   "source": []
  }
 ],
 "metadata": {
  "kernelspec": {
   "display_name": "R",
   "language": "R",
   "name": "ir"
  },
  "language_info": {
   "codemirror_mode": "r",
   "file_extension": ".r",
   "mimetype": "text/x-r-source",
   "name": "R",
   "pygments_lexer": "r",
   "version": "3.6.1"
  }
 },
 "nbformat": 4,
 "nbformat_minor": 4
}

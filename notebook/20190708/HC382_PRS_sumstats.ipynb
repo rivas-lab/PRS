{
 "cells": [
  {
   "cell_type": "code",
   "execution_count": 1,
   "metadata": {},
   "outputs": [
    {
     "name": "stderr",
     "output_type": "stream",
     "text": [
      "Loading required package: tidyverse\n",
      "── Attaching packages ─────────────────────────────────────── tidyverse 1.2.1 ──\n",
      "✔ ggplot2 3.1.0       ✔ purrr   0.3.1  \n",
      "✔ tibble  2.0.1       ✔ dplyr   0.8.0.1\n",
      "✔ tidyr   0.8.3       ✔ stringr 1.4.0  \n",
      "✔ readr   1.3.1       ✔ forcats 0.4.0  \n",
      "── Conflicts ────────────────────────────────────────── tidyverse_conflicts() ──\n",
      "✖ dplyr::filter() masks stats::filter()\n",
      "✖ dplyr::lag()    masks stats::lag()\n",
      "Loading required package: data.table\n",
      "\n",
      "Attaching package: ‘data.table’\n",
      "\n",
      "The following objects are masked from ‘package:dplyr’:\n",
      "\n",
      "    between, first, last\n",
      "\n",
      "The following object is masked from ‘package:purrr’:\n",
      "\n",
      "    transpose\n",
      "\n"
     ]
    }
   ],
   "source": [
    "require(tidyverse)\n",
    "require(data.table)"
   ]
  },
  {
   "cell_type": "code",
   "execution_count": 2,
   "metadata": {},
   "outputs": [],
   "source": [
    "sscore_f <- '/oak/stanford/groups/mrivas/projects/PRS/private_output/snpnet_PRS/HC_20190303/8_score_all/HC382.sscore'\n",
    "sscore_df <- fread(\n",
    "    cmd=paste0('cat ', sscore_f, ' | cut -f2,6'), sep='\\t', data.table=F\n",
    ")\n"
   ]
  },
  {
   "cell_type": "code",
   "execution_count": 5,
   "metadata": {},
   "outputs": [],
   "source": [
    "phe_f <- '/oak/stanford/groups/mrivas/ukbb24983/phenotypedata/extras/highconfidenceqc/phe/HC382.phe'\n",
    "phe_df <- fread(\n",
    "    cmd=paste0('cat ', phe_f, ' | cut -f2,3'), sep='\\t', data.table=F\n",
    ")\n",
    "colnames(phe_df) <- c('IID', 'HC382')\n"
   ]
  },
  {
   "cell_type": "code",
   "execution_count": 31,
   "metadata": {},
   "outputs": [],
   "source": [
    "combined_df <- sscore_df %>% rename(snpnet_PRS = SCORE1_AVG) %>% \n",
    "left_join(phe_df, by='IID') %>%\n",
    "rename(outcome = HC382) %>% \n",
    "filter(outcome != -9) %>%\n",
    "drop_na() %>%\n",
    "mutate(Percentile = rank(-snpnet_PRS) / n())\n"
   ]
  },
  {
   "cell_type": "code",
   "execution_count": 32,
   "metadata": {},
   "outputs": [
    {
     "data": {
      "text/html": [
       "<ol class=list-inline>\n",
       "\t<li>488374</li>\n",
       "\t<li>4</li>\n",
       "</ol>\n"
      ],
      "text/latex": [
       "\\begin{enumerate*}\n",
       "\\item 488374\n",
       "\\item 4\n",
       "\\end{enumerate*}\n"
      ],
      "text/markdown": [
       "1. 488374\n",
       "2. 4\n",
       "\n",
       "\n"
      ],
      "text/plain": [
       "[1] 488374      4"
      ]
     },
     "metadata": {},
     "output_type": "display_data"
    }
   ],
   "source": [
    "combined_df %>% dim()"
   ]
  },
  {
   "cell_type": "code",
   "execution_count": 34,
   "metadata": {},
   "outputs": [],
   "source": [
    "cnt_middle <- combined_df %>% \n",
    "filter(0.4 <= Percentile, Percentile <= 0.6) %>% \n",
    "count(outcome) %>% rename(n_40_60 = n)"
   ]
  },
  {
   "cell_type": "code",
   "execution_count": 35,
   "metadata": {},
   "outputs": [
    {
     "data": {
      "text/html": [
       "<table>\n",
       "<thead><tr><th scope=col>outcome</th><th scope=col>n_40_60</th></tr></thead>\n",
       "<tbody>\n",
       "\t<tr><td>1    </td><td>87152</td></tr>\n",
       "\t<tr><td>2    </td><td>10522</td></tr>\n",
       "</tbody>\n",
       "</table>\n"
      ],
      "text/latex": [
       "\\begin{tabular}{r|ll}\n",
       " outcome & n\\_40\\_60\\\\\n",
       "\\hline\n",
       "\t 1     & 87152\\\\\n",
       "\t 2     & 10522\\\\\n",
       "\\end{tabular}\n"
      ],
      "text/markdown": [
       "\n",
       "| outcome | n_40_60 |\n",
       "|---|---|\n",
       "| 1     | 87152 |\n",
       "| 2     | 10522 |\n",
       "\n"
      ],
      "text/plain": [
       "  outcome n_40_60\n",
       "1 1       87152  \n",
       "2 2       10522  "
      ]
     },
     "metadata": {},
     "output_type": "display_data"
    }
   ],
   "source": [
    "cnt_middle"
   ]
  },
  {
   "cell_type": "code",
   "execution_count": 106,
   "metadata": {},
   "outputs": [],
   "source": [
    "compute_or <- function(df){\n",
    "    joined_df <- df %>% count(outcome) %>% inner_join(cnt_middle, by='outcome') %>% gather(bin, cnt, -outcome)\n",
    "    n_TP <- joined_df %>% filter(bin == 'n', outcome == 2) %>% select(cnt) %>% pull()\n",
    "    n_TN <- joined_df %>% filter(bin != 'n', outcome == 1) %>% select(cnt) %>% pull()\n",
    "    n_FP <- joined_df %>% filter(bin != 'n', outcome == 2) %>% select(cnt) %>% pull()\n",
    "    n_FN <- joined_df %>% filter(bin == 'n', outcome == 1) %>% select(cnt) %>% pull()\n",
    "    or <- (n_TP * n_TN) / (n_FP * n_FN)\n",
    "    lor <- log(or)\n",
    "    se_lor <- sqrt((1/n_TP) + (1/n_TN) + (1/n_FP) + (1/n_FN))\n",
    "    lor <- exp(lor) - 1.96 * se_lor\n",
    "    uor <- exp(lor) + 1.96 * se_lor\n",
    "    c(or, lor, uor, n_TP / (n_TP + n_FN), n_TP, n_FN)\n",
    "#     %>% print()    \n",
    "}"
   ]
  },
  {
   "cell_type": "code",
   "execution_count": 121,
   "metadata": {},
   "outputs": [],
   "source": [
    "compute_or_wrapper <- function(idx, df){\n",
    "    bin_u = 1 - idx * 0.1\n",
    "    bin_l = 1 - (idx + 1) * 0.1\n",
    "    c(\n",
    "        1 - bin_u, 1 - bin_l, \n",
    "        df %>% filter(bin_l < Percentile, Percentile <= bin_u) \n",
    "        %>% compute_or()\n",
    "    )    \n",
    "}"
   ]
  },
  {
   "cell_type": "code",
   "execution_count": 122,
   "metadata": {},
   "outputs": [],
   "source": [
    "res <- lapply(0:9, compute_or_wrapper, combined_df)"
   ]
  },
  {
   "cell_type": "code",
   "execution_count": 123,
   "metadata": {},
   "outputs": [],
   "source": [
    "df <- as.data.frame(res) \n",
    "colnames(df) <- lapply(0:9, function(x){x * 10 + 5})\n",
    "rownames(df) <- c(\n",
    "    'l', 'u', 'OR', 'OR_l', 'OR_u', \n",
    "    'Prevalence', \n",
    "    'n_cases', 'n_conts'\n",
    ")\n",
    "dff <- df %>%\n",
    "rownames_to_column('id')"
   ]
  },
  {
   "cell_type": "code",
   "execution_count": 124,
   "metadata": {},
   "outputs": [],
   "source": [
    "dff %>% fwrite('HC382.csv', col.names=T)"
   ]
  },
  {
   "cell_type": "code",
   "execution_count": 126,
   "metadata": {},
   "outputs": [
    {
     "data": {
      "text/html": [
       "<table>\n",
       "<thead><tr><th scope=col>id</th><th scope=col>5</th><th scope=col>15</th><th scope=col>25</th><th scope=col>35</th><th scope=col>45</th><th scope=col>55</th><th scope=col>65</th><th scope=col>75</th><th scope=col>85</th><th scope=col>95</th></tr></thead>\n",
       "<tbody>\n",
       "\t<tr><td>l           </td><td>0.000000e+00</td><td>1.000000e-01</td><td>2.000000e-01</td><td>3.000000e-01</td><td>4.000000e-01</td><td>5.000000e-01</td><td>6.000000e-01</td><td>7.000000e-01</td><td>8.000000e-01</td><td>9.000000e-01</td></tr>\n",
       "\t<tr><td>u           </td><td>1.000000e-01</td><td>2.000000e-01</td><td>3.000000e-01</td><td>4.000000e-01</td><td>5.000000e-01</td><td>6.000000e-01</td><td>7.000000e-01</td><td>8.000000e-01</td><td>9.000000e-01</td><td>1.000000e+00</td></tr>\n",
       "\t<tr><td>OR          </td><td>4.350180e-01</td><td>5.670122e-01</td><td>6.944641e-01</td><td>8.041877e-01</td><td>9.161921e-01</td><td>1.085349e+00</td><td>1.259013e+00</td><td>1.576222e+00</td><td>2.073254e+00</td><td>3.757193e+00</td></tr>\n",
       "\t<tr><td>OR_l        </td><td>3.895391e-01</td><td>5.255277e-01</td><td>6.555891e-01</td><td>7.669812e-01</td><td>8.803264e-01</td><td>1.051040e+00</td><td>1.225908e+00</td><td>1.544681e+00</td><td>2.043246e+00</td><td>3.729344e+00</td></tr>\n",
       "\t<tr><td>OR_u        </td><td>1.521779e+00</td><td>1.732836e+00</td><td>1.965152e+00</td><td>2.190463e+00</td><td>2.447552e+00</td><td>2.894933e+00</td><td>3.440363e+00</td><td>4.718018e+00</td><td>7.745622e+00</td><td>4.167961e+01</td></tr>\n",
       "\t<tr><td>Prevalence  </td><td>4.989967e-02</td><td>6.407027e-02</td><td>7.735780e-02</td><td>8.849847e-02</td><td>9.959662e-02</td><td>1.158548e-01</td><td>1.319464e-01</td><td>1.598755e-01</td><td>2.001966e-01</td><td>3.120585e-01</td></tr>\n",
       "\t<tr><td>n_cases     </td><td>2.437000e+03</td><td>3.129000e+03</td><td>3.778000e+03</td><td>4.322000e+03</td><td>4.864000e+03</td><td>5.658000e+03</td><td>6.444000e+03</td><td>7.808000e+03</td><td>9.777000e+03</td><td>1.524000e+04</td></tr>\n",
       "\t<tr><td>n_conts     </td><td>4.640100e+04</td><td>4.570800e+04</td><td>4.506000e+04</td><td>4.451500e+04</td><td>4.397300e+04</td><td>4.317900e+04</td><td>4.239400e+04</td><td>4.103000e+04</td><td>3.906000e+04</td><td>3.359700e+04</td></tr>\n",
       "</tbody>\n",
       "</table>\n"
      ],
      "text/latex": [
       "\\begin{tabular}{r|lllllllllll}\n",
       " id & 5 & 15 & 25 & 35 & 45 & 55 & 65 & 75 & 85 & 95\\\\\n",
       "\\hline\n",
       "\t l            & 0.000000e+00 & 1.000000e-01 & 2.000000e-01 & 3.000000e-01 & 4.000000e-01 & 5.000000e-01 & 6.000000e-01 & 7.000000e-01 & 8.000000e-01 & 9.000000e-01\\\\\n",
       "\t u            & 1.000000e-01 & 2.000000e-01 & 3.000000e-01 & 4.000000e-01 & 5.000000e-01 & 6.000000e-01 & 7.000000e-01 & 8.000000e-01 & 9.000000e-01 & 1.000000e+00\\\\\n",
       "\t OR           & 4.350180e-01 & 5.670122e-01 & 6.944641e-01 & 8.041877e-01 & 9.161921e-01 & 1.085349e+00 & 1.259013e+00 & 1.576222e+00 & 2.073254e+00 & 3.757193e+00\\\\\n",
       "\t OR\\_l       & 3.895391e-01 & 5.255277e-01 & 6.555891e-01 & 7.669812e-01 & 8.803264e-01 & 1.051040e+00 & 1.225908e+00 & 1.544681e+00 & 2.043246e+00 & 3.729344e+00\\\\\n",
       "\t OR\\_u       & 1.521779e+00 & 1.732836e+00 & 1.965152e+00 & 2.190463e+00 & 2.447552e+00 & 2.894933e+00 & 3.440363e+00 & 4.718018e+00 & 7.745622e+00 & 4.167961e+01\\\\\n",
       "\t Prevalence   & 4.989967e-02 & 6.407027e-02 & 7.735780e-02 & 8.849847e-02 & 9.959662e-02 & 1.158548e-01 & 1.319464e-01 & 1.598755e-01 & 2.001966e-01 & 3.120585e-01\\\\\n",
       "\t n\\_cases    & 2.437000e+03 & 3.129000e+03 & 3.778000e+03 & 4.322000e+03 & 4.864000e+03 & 5.658000e+03 & 6.444000e+03 & 7.808000e+03 & 9.777000e+03 & 1.524000e+04\\\\\n",
       "\t n\\_conts    & 4.640100e+04 & 4.570800e+04 & 4.506000e+04 & 4.451500e+04 & 4.397300e+04 & 4.317900e+04 & 4.239400e+04 & 4.103000e+04 & 3.906000e+04 & 3.359700e+04\\\\\n",
       "\\end{tabular}\n"
      ],
      "text/markdown": [
       "\n",
       "| id | 5 | 15 | 25 | 35 | 45 | 55 | 65 | 75 | 85 | 95 |\n",
       "|---|---|---|---|---|---|---|---|---|---|---|\n",
       "| l            | 0.000000e+00 | 1.000000e-01 | 2.000000e-01 | 3.000000e-01 | 4.000000e-01 | 5.000000e-01 | 6.000000e-01 | 7.000000e-01 | 8.000000e-01 | 9.000000e-01 |\n",
       "| u            | 1.000000e-01 | 2.000000e-01 | 3.000000e-01 | 4.000000e-01 | 5.000000e-01 | 6.000000e-01 | 7.000000e-01 | 8.000000e-01 | 9.000000e-01 | 1.000000e+00 |\n",
       "| OR           | 4.350180e-01 | 5.670122e-01 | 6.944641e-01 | 8.041877e-01 | 9.161921e-01 | 1.085349e+00 | 1.259013e+00 | 1.576222e+00 | 2.073254e+00 | 3.757193e+00 |\n",
       "| OR_l         | 3.895391e-01 | 5.255277e-01 | 6.555891e-01 | 7.669812e-01 | 8.803264e-01 | 1.051040e+00 | 1.225908e+00 | 1.544681e+00 | 2.043246e+00 | 3.729344e+00 |\n",
       "| OR_u         | 1.521779e+00 | 1.732836e+00 | 1.965152e+00 | 2.190463e+00 | 2.447552e+00 | 2.894933e+00 | 3.440363e+00 | 4.718018e+00 | 7.745622e+00 | 4.167961e+01 |\n",
       "| Prevalence   | 4.989967e-02 | 6.407027e-02 | 7.735780e-02 | 8.849847e-02 | 9.959662e-02 | 1.158548e-01 | 1.319464e-01 | 1.598755e-01 | 2.001966e-01 | 3.120585e-01 |\n",
       "| n_cases      | 2.437000e+03 | 3.129000e+03 | 3.778000e+03 | 4.322000e+03 | 4.864000e+03 | 5.658000e+03 | 6.444000e+03 | 7.808000e+03 | 9.777000e+03 | 1.524000e+04 |\n",
       "| n_conts      | 4.640100e+04 | 4.570800e+04 | 4.506000e+04 | 4.451500e+04 | 4.397300e+04 | 4.317900e+04 | 4.239400e+04 | 4.103000e+04 | 3.906000e+04 | 3.359700e+04 |\n",
       "\n"
      ],
      "text/plain": [
       "  id         5            15           25           35           45          \n",
       "1 l          0.000000e+00 1.000000e-01 2.000000e-01 3.000000e-01 4.000000e-01\n",
       "2 u          1.000000e-01 2.000000e-01 3.000000e-01 4.000000e-01 5.000000e-01\n",
       "3 OR         4.350180e-01 5.670122e-01 6.944641e-01 8.041877e-01 9.161921e-01\n",
       "4 OR_l       3.895391e-01 5.255277e-01 6.555891e-01 7.669812e-01 8.803264e-01\n",
       "5 OR_u       1.521779e+00 1.732836e+00 1.965152e+00 2.190463e+00 2.447552e+00\n",
       "6 Prevalence 4.989967e-02 6.407027e-02 7.735780e-02 8.849847e-02 9.959662e-02\n",
       "7 n_cases    2.437000e+03 3.129000e+03 3.778000e+03 4.322000e+03 4.864000e+03\n",
       "8 n_conts    4.640100e+04 4.570800e+04 4.506000e+04 4.451500e+04 4.397300e+04\n",
       "  55           65           75           85           95          \n",
       "1 5.000000e-01 6.000000e-01 7.000000e-01 8.000000e-01 9.000000e-01\n",
       "2 6.000000e-01 7.000000e-01 8.000000e-01 9.000000e-01 1.000000e+00\n",
       "3 1.085349e+00 1.259013e+00 1.576222e+00 2.073254e+00 3.757193e+00\n",
       "4 1.051040e+00 1.225908e+00 1.544681e+00 2.043246e+00 3.729344e+00\n",
       "5 2.894933e+00 3.440363e+00 4.718018e+00 7.745622e+00 4.167961e+01\n",
       "6 1.158548e-01 1.319464e-01 1.598755e-01 2.001966e-01 3.120585e-01\n",
       "7 5.658000e+03 6.444000e+03 7.808000e+03 9.777000e+03 1.524000e+04\n",
       "8 4.317900e+04 4.239400e+04 4.103000e+04 3.906000e+04 3.359700e+04"
      ]
     },
     "metadata": {},
     "output_type": "display_data"
    }
   ],
   "source": [
    "dff"
   ]
  },
  {
   "cell_type": "code",
   "execution_count": null,
   "metadata": {},
   "outputs": [],
   "source": []
  }
 ],
 "metadata": {
  "kernelspec": {
   "display_name": "R 3.5 (module)",
   "language": "R",
   "name": "ir35ml"
  },
  "language_info": {
   "codemirror_mode": "r",
   "file_extension": ".r",
   "mimetype": "text/x-r-source",
   "name": "R",
   "pygments_lexer": "r",
   "version": "3.5.1"
  }
 },
 "nbformat": 4,
 "nbformat_minor": 2
}

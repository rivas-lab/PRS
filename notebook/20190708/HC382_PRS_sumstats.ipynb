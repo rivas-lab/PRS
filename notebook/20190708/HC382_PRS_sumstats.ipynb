{
 "cells": [
  {
   "cell_type": "code",
   "execution_count": 1,
   "metadata": {},
   "outputs": [
    {
     "name": "stderr",
     "output_type": "stream",
     "text": [
      "Loading required package: tidyverse\n",
      "── Attaching packages ─────────────────────────────────────── tidyverse 1.2.1 ──\n",
      "✔ ggplot2 3.1.0       ✔ purrr   0.3.1  \n",
      "✔ tibble  2.0.1       ✔ dplyr   0.8.0.1\n",
      "✔ tidyr   0.8.3       ✔ stringr 1.4.0  \n",
      "✔ readr   1.3.1       ✔ forcats 0.4.0  \n",
      "── Conflicts ────────────────────────────────────────── tidyverse_conflicts() ──\n",
      "✖ dplyr::filter() masks stats::filter()\n",
      "✖ dplyr::lag()    masks stats::lag()\n",
      "Loading required package: data.table\n",
      "\n",
      "Attaching package: ‘data.table’\n",
      "\n",
      "The following objects are masked from ‘package:dplyr’:\n",
      "\n",
      "    between, first, last\n",
      "\n",
      "The following object is masked from ‘package:purrr’:\n",
      "\n",
      "    transpose\n",
      "\n"
     ]
    }
   ],
   "source": [
    "require(tidyverse)\n",
    "require(data.table)"
   ]
  },
  {
   "cell_type": "code",
   "execution_count": 2,
   "metadata": {},
   "outputs": [],
   "source": [
    "sscore_f <- '/oak/stanford/groups/mrivas/projects/PRS/private_output/snpnet_PRS/HC_20190303/8_score_all/HC382.sscore'\n",
    "sscore_df <- fread(\n",
    "    cmd=paste0('cat ', sscore_f, ' | cut -f2,6'), sep='\\t', data.table=F\n",
    ")\n"
   ]
  },
  {
   "cell_type": "code",
   "execution_count": 5,
   "metadata": {},
   "outputs": [],
   "source": [
    "phe_f <- '/oak/stanford/groups/mrivas/ukbb24983/phenotypedata/extras/highconfidenceqc/phe/HC382.phe'\n",
    "phe_df <- fread(\n",
    "    cmd=paste0('cat ', phe_f, ' | cut -f2,3'), sep='\\t', data.table=F\n",
    ")\n",
    "colnames(phe_df) <- c('IID', 'HC382')\n"
   ]
  },
  {
   "cell_type": "code",
   "execution_count": 31,
   "metadata": {},
   "outputs": [],
   "source": [
    "combined_df <- sscore_df %>% rename(snpnet_PRS = SCORE1_AVG) %>% \n",
    "left_join(phe_df, by='IID') %>%\n",
    "rename(outcome = HC382) %>% \n",
    "filter(outcome != -9) %>%\n",
    "drop_na() %>%\n",
    "mutate(Percentile = rank(-snpnet_PRS) / n())\n"
   ]
  },
  {
   "cell_type": "code",
   "execution_count": 32,
   "metadata": {},
   "outputs": [
    {
     "data": {
      "text/html": [
       "<ol class=list-inline>\n",
       "\t<li>488374</li>\n",
       "\t<li>4</li>\n",
       "</ol>\n"
      ],
      "text/latex": [
       "\\begin{enumerate*}\n",
       "\\item 488374\n",
       "\\item 4\n",
       "\\end{enumerate*}\n"
      ],
      "text/markdown": [
       "1. 488374\n",
       "2. 4\n",
       "\n",
       "\n"
      ],
      "text/plain": [
       "[1] 488374      4"
      ]
     },
     "metadata": {},
     "output_type": "display_data"
    }
   ],
   "source": [
    "combined_df %>% dim()"
   ]
  },
  {
   "cell_type": "code",
   "execution_count": 34,
   "metadata": {},
   "outputs": [],
   "source": [
    "cnt_middle <- combined_df %>% \n",
    "filter(0.4 <= Percentile, Percentile <= 0.6) %>% \n",
    "count(outcome) %>% rename(n_40_60 = n)"
   ]
  },
  {
   "cell_type": "code",
   "execution_count": 35,
   "metadata": {},
   "outputs": [
    {
     "data": {
      "text/html": [
       "<table>\n",
       "<thead><tr><th scope=col>outcome</th><th scope=col>n_40_60</th></tr></thead>\n",
       "<tbody>\n",
       "\t<tr><td>1    </td><td>87152</td></tr>\n",
       "\t<tr><td>2    </td><td>10522</td></tr>\n",
       "</tbody>\n",
       "</table>\n"
      ],
      "text/latex": [
       "\\begin{tabular}{r|ll}\n",
       " outcome & n\\_40\\_60\\\\\n",
       "\\hline\n",
       "\t 1     & 87152\\\\\n",
       "\t 2     & 10522\\\\\n",
       "\\end{tabular}\n"
      ],
      "text/markdown": [
       "\n",
       "| outcome | n_40_60 |\n",
       "|---|---|\n",
       "| 1     | 87152 |\n",
       "| 2     | 10522 |\n",
       "\n"
      ],
      "text/plain": [
       "  outcome n_40_60\n",
       "1 1       87152  \n",
       "2 2       10522  "
      ]
     },
     "metadata": {},
     "output_type": "display_data"
    }
   ],
   "source": [
    "cnt_middle"
   ]
  },
  {
   "cell_type": "code",
   "execution_count": 45,
   "metadata": {},
   "outputs": [],
   "source": [
    "compute_or <- function(df){\n",
    "    joined_df <- df %>% count(outcome) %>% inner_join(cnt_middle, by='outcome') %>% gather(bin, cnt, -outcome)\n",
    "    n_TP <- joined_df %>% filter(bin == 'n', outcome == 2) %>% select(cnt) %>% pull()\n",
    "    n_TN <- joined_df %>% filter(bin != 'n', outcome == 1) %>% select(cnt) %>% pull()\n",
    "    n_FP <- joined_df %>% filter(bin != 'n', outcome == 2) %>% select(cnt) %>% pull()\n",
    "    n_FN <- joined_df %>% filter(bin == 'n', outcome == 1) %>% select(cnt) %>% pull()\n",
    "    or <- (n_TP * n_TN) / (n_FP * n_FN)\n",
    "    lor <- log(or)\n",
    "    se_lor <- sqrt((1/n_TP) + (1/n_TN) + (1/n_FP) + (1/n_FN))\n",
    "    lor <- exp(lor - 1.96 * se_lor)\n",
    "    uor <- exp(lor + 1.96 * se_lor)\n",
    "    c(or, lor, uor) \n",
    "#     %>% print()    \n",
    "}"
   ]
  },
  {
   "cell_type": "code",
   "execution_count": 48,
   "metadata": {},
   "outputs": [
    {
     "data": {
      "text/html": [
       "<table>\n",
       "<thead><tr><th scope=col>IID</th><th scope=col>snpnet_PRS</th><th scope=col>outcome</th><th scope=col>Percentile</th></tr></thead>\n",
       "<tbody>\n",
       "\t<tr><td>4237947    </td><td>-0.00014146</td><td>1          </td><td>1          </td></tr>\n",
       "</tbody>\n",
       "</table>\n"
      ],
      "text/latex": [
       "\\begin{tabular}{r|llll}\n",
       " IID & snpnet\\_PRS & outcome & Percentile\\\\\n",
       "\\hline\n",
       "\t 4237947     & -0.00014146 & 1           & 1          \\\\\n",
       "\\end{tabular}\n"
      ],
      "text/markdown": [
       "\n",
       "| IID | snpnet_PRS | outcome | Percentile |\n",
       "|---|---|---|---|\n",
       "| 4237947     | -0.00014146 | 1           | 1           |\n",
       "\n"
      ],
      "text/plain": [
       "  IID     snpnet_PRS  outcome Percentile\n",
       "1 4237947 -0.00014146 1       1         "
      ]
     },
     "metadata": {},
     "output_type": "display_data"
    }
   ],
   "source": [
    "idx * 0.Percentile == 1\n",
    "combined_df %>% filter(idx * 0.Percentile == 1) "
   ]
  },
  {
   "cell_type": "code",
   "execution_count": 51,
   "metadata": {},
   "outputs": [],
   "source": [
    "compute_or_wrapper <- function(idx, df){\n",
    "    bin_l = idx * 0.1\n",
    "    bin_u = (idx + 1) * 0.1\n",
    "    c(\n",
    "        bin_l, bin_u, \n",
    "        df %>% filter(bin_l < Percentile, Percentile <= bin_u) \n",
    "        %>% compute_or()\n",
    "    )    \n",
    "}"
   ]
  },
  {
   "cell_type": "code",
   "execution_count": 57,
   "metadata": {},
   "outputs": [],
   "source": [
    "res <- lapply(0:9, compute_or_wrapper, combined_df)"
   ]
  },
  {
   "cell_type": "code",
   "execution_count": 62,
   "metadata": {},
   "outputs": [],
   "source": [
    "dff <- as.data.frame(res) \n",
    "colnames(dff) <- lapply(0:9, function(x){x * 10 + 5})\n"
   ]
  },
  {
   "cell_type": "code",
   "execution_count": 65,
   "metadata": {},
   "outputs": [],
   "source": [
    "rownames(dff) <- c(\n",
    "    'l', 'u', 'OR', 'OR_l', 'OR_u'\n",
    ")"
   ]
  },
  {
   "cell_type": "code",
   "execution_count": 66,
   "metadata": {},
   "outputs": [
    {
     "data": {
      "text/html": [
       "<table>\n",
       "<thead><tr><th></th><th scope=col>5</th><th scope=col>15</th><th scope=col>25</th><th scope=col>35</th><th scope=col>45</th><th scope=col>55</th><th scope=col>65</th><th scope=col>75</th><th scope=col>85</th><th scope=col>95</th></tr></thead>\n",
       "<tbody>\n",
       "\t<tr><th scope=row>l</th><td> 0.000000</td><td>0.100000 </td><td>0.200000 </td><td>0.300000 </td><td>0.400000 </td><td>0.5000000</td><td>0.6000000</td><td>0.7000000</td><td>0.8000000</td><td>0.900000 </td></tr>\n",
       "\t<tr><th scope=row>u</th><td> 0.100000</td><td>0.200000 </td><td>0.300000 </td><td>0.400000 </td><td>0.500000 </td><td>0.6000000</td><td>0.7000000</td><td>0.8000000</td><td>0.9000000</td><td>1.000000 </td></tr>\n",
       "\t<tr><th scope=row>OR</th><td> 3.757193</td><td>2.073254 </td><td>1.576222 </td><td>1.259013 </td><td>1.085349 </td><td>0.9161921</td><td>0.8041877</td><td>0.6944641</td><td>0.5670122</td><td>0.435018 </td></tr>\n",
       "\t<tr><th scope=row>OR_l</th><td> 3.654001</td><td>2.011964 </td><td>1.527283 </td><td>1.218016 </td><td>1.048743 </td><td>0.8839145</td><td>0.7748165</td><td>0.6679848</td><td>0.5439712</td><td>0.415677 </td></tr>\n",
       "\t<tr><th scope=row>OR_u</th><td>39.719815</td><td>7.705791 </td><td>4.753225 </td><td>3.494257 </td><td>2.953681 </td><td>2.5087389</td><td>2.2524602</td><td>2.0276143</td><td>1.7958092</td><td>1.585906 </td></tr>\n",
       "</tbody>\n",
       "</table>\n"
      ],
      "text/latex": [
       "\\begin{tabular}{r|llllllllll}\n",
       "  & 5 & 15 & 25 & 35 & 45 & 55 & 65 & 75 & 85 & 95\\\\\n",
       "\\hline\n",
       "\tl &  0.000000 & 0.100000  & 0.200000  & 0.300000  & 0.400000  & 0.5000000 & 0.6000000 & 0.7000000 & 0.8000000 & 0.900000 \\\\\n",
       "\tu &  0.100000 & 0.200000  & 0.300000  & 0.400000  & 0.500000  & 0.6000000 & 0.7000000 & 0.8000000 & 0.9000000 & 1.000000 \\\\\n",
       "\tOR &  3.757193 & 2.073254  & 1.576222  & 1.259013  & 1.085349  & 0.9161921 & 0.8041877 & 0.6944641 & 0.5670122 & 0.435018 \\\\\n",
       "\tOR\\_l &  3.654001 & 2.011964  & 1.527283  & 1.218016  & 1.048743  & 0.8839145 & 0.7748165 & 0.6679848 & 0.5439712 & 0.415677 \\\\\n",
       "\tOR\\_u & 39.719815 & 7.705791  & 4.753225  & 3.494257  & 2.953681  & 2.5087389 & 2.2524602 & 2.0276143 & 1.7958092 & 1.585906 \\\\\n",
       "\\end{tabular}\n"
      ],
      "text/markdown": [
       "\n",
       "| <!--/--> | 5 | 15 | 25 | 35 | 45 | 55 | 65 | 75 | 85 | 95 |\n",
       "|---|---|---|---|---|---|---|---|---|---|---|\n",
       "| l |  0.000000 | 0.100000  | 0.200000  | 0.300000  | 0.400000  | 0.5000000 | 0.6000000 | 0.7000000 | 0.8000000 | 0.900000  |\n",
       "| u |  0.100000 | 0.200000  | 0.300000  | 0.400000  | 0.500000  | 0.6000000 | 0.7000000 | 0.8000000 | 0.9000000 | 1.000000  |\n",
       "| OR |  3.757193 | 2.073254  | 1.576222  | 1.259013  | 1.085349  | 0.9161921 | 0.8041877 | 0.6944641 | 0.5670122 | 0.435018  |\n",
       "| OR_l |  3.654001 | 2.011964  | 1.527283  | 1.218016  | 1.048743  | 0.8839145 | 0.7748165 | 0.6679848 | 0.5439712 | 0.415677  |\n",
       "| OR_u | 39.719815 | 7.705791  | 4.753225  | 3.494257  | 2.953681  | 2.5087389 | 2.2524602 | 2.0276143 | 1.7958092 | 1.585906  |\n",
       "\n"
      ],
      "text/plain": [
       "     5         15       25       35       45       55        65       \n",
       "l     0.000000 0.100000 0.200000 0.300000 0.400000 0.5000000 0.6000000\n",
       "u     0.100000 0.200000 0.300000 0.400000 0.500000 0.6000000 0.7000000\n",
       "OR    3.757193 2.073254 1.576222 1.259013 1.085349 0.9161921 0.8041877\n",
       "OR_l  3.654001 2.011964 1.527283 1.218016 1.048743 0.8839145 0.7748165\n",
       "OR_u 39.719815 7.705791 4.753225 3.494257 2.953681 2.5087389 2.2524602\n",
       "     75        85        95      \n",
       "l    0.7000000 0.8000000 0.900000\n",
       "u    0.8000000 0.9000000 1.000000\n",
       "OR   0.6944641 0.5670122 0.435018\n",
       "OR_l 0.6679848 0.5439712 0.415677\n",
       "OR_u 2.0276143 1.7958092 1.585906"
      ]
     },
     "metadata": {},
     "output_type": "display_data"
    }
   ],
   "source": [
    "dff"
   ]
  },
  {
   "cell_type": "code",
   "execution_count": 68,
   "metadata": {},
   "outputs": [],
   "source": [
    "dff %>% fwrite('HC382.csv', row.names = T, col.names=T)"
   ]
  }
 ],
 "metadata": {
  "kernelspec": {
   "display_name": "R 3.5 (module)",
   "language": "R",
   "name": "ir35ml"
  },
  "language_info": {
   "codemirror_mode": "r",
   "file_extension": ".r",
   "mimetype": "text/x-r-source",
   "name": "R",
   "pygments_lexer": "r",
   "version": "3.5.1"
  }
 },
 "nbformat": 4,
 "nbformat_minor": 2
}

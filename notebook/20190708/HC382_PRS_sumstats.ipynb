{
 "cells": [
  {
   "cell_type": "code",
   "execution_count": 1,
   "metadata": {},
   "outputs": [
    {
     "name": "stderr",
     "output_type": "stream",
     "text": [
      "Loading required package: tidyverse\n",
      "── Attaching packages ─────────────────────────────────────── tidyverse 1.2.1 ──\n",
      "✔ ggplot2 3.1.0       ✔ purrr   0.3.1  \n",
      "✔ tibble  2.0.1       ✔ dplyr   0.8.0.1\n",
      "✔ tidyr   0.8.3       ✔ stringr 1.4.0  \n",
      "✔ readr   1.3.1       ✔ forcats 0.4.0  \n",
      "── Conflicts ────────────────────────────────────────── tidyverse_conflicts() ──\n",
      "✖ dplyr::filter() masks stats::filter()\n",
      "✖ dplyr::lag()    masks stats::lag()\n",
      "Loading required package: data.table\n",
      "\n",
      "Attaching package: ‘data.table’\n",
      "\n",
      "The following objects are masked from ‘package:dplyr’:\n",
      "\n",
      "    between, first, last\n",
      "\n",
      "The following object is masked from ‘package:purrr’:\n",
      "\n",
      "    transpose\n",
      "\n"
     ]
    }
   ],
   "source": [
    "require(tidyverse)\n",
    "require(data.table)"
   ]
  },
  {
   "cell_type": "code",
   "execution_count": 2,
   "metadata": {},
   "outputs": [],
   "source": [
    "sscore_f <- '/oak/stanford/groups/mrivas/projects/PRS/private_output/snpnet_PRS/HC_20190303/8_score_all/HC382.sscore'\n",
    "sscore_df <- fread(\n",
    "    cmd=paste0('cat ', sscore_f, ' | cut -f2,6'), sep='\\t', data.table=F\n",
    ")\n"
   ]
  },
  {
   "cell_type": "code",
   "execution_count": 5,
   "metadata": {},
   "outputs": [],
   "source": [
    "phe_f <- '/oak/stanford/groups/mrivas/ukbb24983/phenotypedata/extras/highconfidenceqc/phe/HC382.phe'\n",
    "phe_df <- fread(\n",
    "    cmd=paste0('cat ', phe_f, ' | cut -f2,3'), sep='\\t', data.table=F\n",
    ")\n",
    "colnames(phe_df) <- c('IID', 'HC382')\n"
   ]
  },
  {
   "cell_type": "code",
   "execution_count": 31,
   "metadata": {},
   "outputs": [],
   "source": [
    "combined_df <- sscore_df %>% rename(snpnet_PRS = SCORE1_AVG) %>% \n",
    "left_join(phe_df, by='IID') %>%\n",
    "rename(outcome = HC382) %>% \n",
    "filter(outcome != -9) %>%\n",
    "drop_na() %>%\n",
    "mutate(Percentile = rank(-snpnet_PRS) / n())\n"
   ]
  },
  {
   "cell_type": "code",
   "execution_count": 32,
   "metadata": {},
   "outputs": [
    {
     "data": {
      "text/html": [
       "<ol class=list-inline>\n",
       "\t<li>488374</li>\n",
       "\t<li>4</li>\n",
       "</ol>\n"
      ],
      "text/latex": [
       "\\begin{enumerate*}\n",
       "\\item 488374\n",
       "\\item 4\n",
       "\\end{enumerate*}\n"
      ],
      "text/markdown": [
       "1. 488374\n",
       "2. 4\n",
       "\n",
       "\n"
      ],
      "text/plain": [
       "[1] 488374      4"
      ]
     },
     "metadata": {},
     "output_type": "display_data"
    }
   ],
   "source": [
    "combined_df %>% dim()"
   ]
  },
  {
   "cell_type": "code",
   "execution_count": 34,
   "metadata": {},
   "outputs": [],
   "source": [
    "cnt_middle <- combined_df %>% \n",
    "filter(0.4 <= Percentile, Percentile <= 0.6) %>% \n",
    "count(outcome) %>% rename(n_40_60 = n)"
   ]
  },
  {
   "cell_type": "code",
   "execution_count": 35,
   "metadata": {},
   "outputs": [
    {
     "data": {
      "text/html": [
       "<table>\n",
       "<thead><tr><th scope=col>outcome</th><th scope=col>n_40_60</th></tr></thead>\n",
       "<tbody>\n",
       "\t<tr><td>1    </td><td>87152</td></tr>\n",
       "\t<tr><td>2    </td><td>10522</td></tr>\n",
       "</tbody>\n",
       "</table>\n"
      ],
      "text/latex": [
       "\\begin{tabular}{r|ll}\n",
       " outcome & n\\_40\\_60\\\\\n",
       "\\hline\n",
       "\t 1     & 87152\\\\\n",
       "\t 2     & 10522\\\\\n",
       "\\end{tabular}\n"
      ],
      "text/markdown": [
       "\n",
       "| outcome | n_40_60 |\n",
       "|---|---|\n",
       "| 1     | 87152 |\n",
       "| 2     | 10522 |\n",
       "\n"
      ],
      "text/plain": [
       "  outcome n_40_60\n",
       "1 1       87152  \n",
       "2 2       10522  "
      ]
     },
     "metadata": {},
     "output_type": "display_data"
    }
   ],
   "source": [
    "cnt_middle"
   ]
  },
  {
   "cell_type": "code",
   "execution_count": 96,
   "metadata": {},
   "outputs": [],
   "source": [
    "compute_or <- function(df){\n",
    "    joined_df <- df %>% count(outcome) %>% inner_join(cnt_middle, by='outcome') %>% gather(bin, cnt, -outcome)\n",
    "    n_TP <- joined_df %>% filter(bin == 'n', outcome == 2) %>% select(cnt) %>% pull()\n",
    "    n_TN <- joined_df %>% filter(bin != 'n', outcome == 1) %>% select(cnt) %>% pull()\n",
    "    n_FP <- joined_df %>% filter(bin != 'n', outcome == 2) %>% select(cnt) %>% pull()\n",
    "    n_FN <- joined_df %>% filter(bin == 'n', outcome == 1) %>% select(cnt) %>% pull()\n",
    "    or <- (n_TP * n_TN) / (n_FP * n_FN)\n",
    "    lor <- log(or)\n",
    "    se_lor <- sqrt((1/n_TP) + (1/n_TN) + (1/n_FP) + (1/n_FN))\n",
    "    lor <- exp(lor - 1.96 * se_lor)\n",
    "    uor <- exp(lor + 1.96 * se_lor)\n",
    "    c(or, lor, uor, n_TP / (n_TP + n_FN), n_TP, n_FN)\n",
    "#     %>% print()    \n",
    "}"
   ]
  },
  {
   "cell_type": "code",
   "execution_count": 99,
   "metadata": {},
   "outputs": [],
   "source": [
    "compute_or_wrapper <- function(idx, df){\n",
    "    bin_l = idx * 0.1\n",
    "    bin_u = (idx + 1) * 0.1\n",
    "    c(\n",
    "        bin_l, bin_u, \n",
    "        df %>% filter(bin_l < Percentile, Percentile <= bin_u) \n",
    "        %>% compute_or()\n",
    "    )    \n",
    "}"
   ]
  },
  {
   "cell_type": "code",
   "execution_count": 100,
   "metadata": {},
   "outputs": [],
   "source": [
    "res <- lapply(0:9, compute_or_wrapper, combined_df)"
   ]
  },
  {
   "cell_type": "code",
   "execution_count": 101,
   "metadata": {},
   "outputs": [],
   "source": [
    "dff <- as.data.frame(res) \n",
    "colnames(dff) <- lapply(0:9, function(x){x * 10 + 5})\n"
   ]
  },
  {
   "cell_type": "code",
   "execution_count": 102,
   "metadata": {},
   "outputs": [],
   "source": [
    "rownames(dff) <- c(\n",
    "    'l', 'u', 'OR', 'OR_l', 'OR_u', \n",
    "    'Prevalence', \n",
    "    'n_cases', 'n_conts'\n",
    ")"
   ]
  },
  {
   "cell_type": "code",
   "execution_count": 103,
   "metadata": {},
   "outputs": [
    {
     "data": {
      "text/html": [
       "<table>\n",
       "<thead><tr><th></th><th scope=col>5</th><th scope=col>15</th><th scope=col>25</th><th scope=col>35</th><th scope=col>45</th><th scope=col>55</th><th scope=col>65</th><th scope=col>75</th><th scope=col>85</th><th scope=col>95</th></tr></thead>\n",
       "<tbody>\n",
       "\t<tr><th scope=row>l</th><td>0.000000e+00</td><td>1.000000e-01</td><td>2.000000e-01</td><td>3.000000e-01</td><td>4.000000e-01</td><td>5.000000e-01</td><td>6.000000e-01</td><td>7.000000e-01</td><td>8.000000e-01</td><td>9.000000e-01</td></tr>\n",
       "\t<tr><th scope=row>u</th><td>1.000000e-01</td><td>2.000000e-01</td><td>3.000000e-01</td><td>4.000000e-01</td><td>5.000000e-01</td><td>6.000000e-01</td><td>7.000000e-01</td><td>8.000000e-01</td><td>9.000000e-01</td><td>1.000000e+00</td></tr>\n",
       "\t<tr><th scope=row>OR</th><td>3.757193e+00</td><td>2.073254e+00</td><td>1.576222e+00</td><td>1.259013e+00</td><td>1.085349e+00</td><td>9.161921e-01</td><td>8.041877e-01</td><td>6.944641e-01</td><td>5.670122e-01</td><td>4.350180e-01</td></tr>\n",
       "\t<tr><th scope=row>OR_l</th><td>3.654001e+00</td><td>2.011964e+00</td><td>1.527283e+00</td><td>1.218016e+00</td><td>1.048743e+00</td><td>8.839145e-01</td><td>7.748165e-01</td><td>6.679848e-01</td><td>5.439712e-01</td><td>4.156770e-01</td></tr>\n",
       "\t<tr><th scope=row>OR_u</th><td>3.971982e+01</td><td>7.705791e+00</td><td>4.753225e+00</td><td>3.494257e+00</td><td>2.953681e+00</td><td>2.508739e+00</td><td>2.252460e+00</td><td>2.027614e+00</td><td>1.795809e+00</td><td>1.585906e+00</td></tr>\n",
       "\t<tr><th scope=row>Prevalence</th><td>3.120585e-01</td><td>2.001966e-01</td><td>1.598755e-01</td><td>1.319464e-01</td><td>1.158548e-01</td><td>9.959662e-02</td><td>8.849847e-02</td><td>7.735780e-02</td><td>6.407027e-02</td><td>4.989967e-02</td></tr>\n",
       "\t<tr><th scope=row>n_cases</th><td>1.524000e+04</td><td>9.777000e+03</td><td>7.808000e+03</td><td>6.444000e+03</td><td>5.658000e+03</td><td>4.864000e+03</td><td>4.322000e+03</td><td>3.778000e+03</td><td>3.129000e+03</td><td>2.437000e+03</td></tr>\n",
       "\t<tr><th scope=row>n_conts</th><td>3.359700e+04</td><td>3.906000e+04</td><td>4.103000e+04</td><td>4.239400e+04</td><td>4.317900e+04</td><td>4.397300e+04</td><td>4.451500e+04</td><td>4.506000e+04</td><td>4.570800e+04</td><td>4.640100e+04</td></tr>\n",
       "</tbody>\n",
       "</table>\n"
      ],
      "text/latex": [
       "\\begin{tabular}{r|llllllllll}\n",
       "  & 5 & 15 & 25 & 35 & 45 & 55 & 65 & 75 & 85 & 95\\\\\n",
       "\\hline\n",
       "\tl & 0.000000e+00 & 1.000000e-01 & 2.000000e-01 & 3.000000e-01 & 4.000000e-01 & 5.000000e-01 & 6.000000e-01 & 7.000000e-01 & 8.000000e-01 & 9.000000e-01\\\\\n",
       "\tu & 1.000000e-01 & 2.000000e-01 & 3.000000e-01 & 4.000000e-01 & 5.000000e-01 & 6.000000e-01 & 7.000000e-01 & 8.000000e-01 & 9.000000e-01 & 1.000000e+00\\\\\n",
       "\tOR & 3.757193e+00 & 2.073254e+00 & 1.576222e+00 & 1.259013e+00 & 1.085349e+00 & 9.161921e-01 & 8.041877e-01 & 6.944641e-01 & 5.670122e-01 & 4.350180e-01\\\\\n",
       "\tOR\\_l & 3.654001e+00 & 2.011964e+00 & 1.527283e+00 & 1.218016e+00 & 1.048743e+00 & 8.839145e-01 & 7.748165e-01 & 6.679848e-01 & 5.439712e-01 & 4.156770e-01\\\\\n",
       "\tOR\\_u & 3.971982e+01 & 7.705791e+00 & 4.753225e+00 & 3.494257e+00 & 2.953681e+00 & 2.508739e+00 & 2.252460e+00 & 2.027614e+00 & 1.795809e+00 & 1.585906e+00\\\\\n",
       "\tPrevalence & 3.120585e-01 & 2.001966e-01 & 1.598755e-01 & 1.319464e-01 & 1.158548e-01 & 9.959662e-02 & 8.849847e-02 & 7.735780e-02 & 6.407027e-02 & 4.989967e-02\\\\\n",
       "\tn\\_cases & 1.524000e+04 & 9.777000e+03 & 7.808000e+03 & 6.444000e+03 & 5.658000e+03 & 4.864000e+03 & 4.322000e+03 & 3.778000e+03 & 3.129000e+03 & 2.437000e+03\\\\\n",
       "\tn\\_conts & 3.359700e+04 & 3.906000e+04 & 4.103000e+04 & 4.239400e+04 & 4.317900e+04 & 4.397300e+04 & 4.451500e+04 & 4.506000e+04 & 4.570800e+04 & 4.640100e+04\\\\\n",
       "\\end{tabular}\n"
      ],
      "text/markdown": [
       "\n",
       "| <!--/--> | 5 | 15 | 25 | 35 | 45 | 55 | 65 | 75 | 85 | 95 |\n",
       "|---|---|---|---|---|---|---|---|---|---|---|\n",
       "| l | 0.000000e+00 | 1.000000e-01 | 2.000000e-01 | 3.000000e-01 | 4.000000e-01 | 5.000000e-01 | 6.000000e-01 | 7.000000e-01 | 8.000000e-01 | 9.000000e-01 |\n",
       "| u | 1.000000e-01 | 2.000000e-01 | 3.000000e-01 | 4.000000e-01 | 5.000000e-01 | 6.000000e-01 | 7.000000e-01 | 8.000000e-01 | 9.000000e-01 | 1.000000e+00 |\n",
       "| OR | 3.757193e+00 | 2.073254e+00 | 1.576222e+00 | 1.259013e+00 | 1.085349e+00 | 9.161921e-01 | 8.041877e-01 | 6.944641e-01 | 5.670122e-01 | 4.350180e-01 |\n",
       "| OR_l | 3.654001e+00 | 2.011964e+00 | 1.527283e+00 | 1.218016e+00 | 1.048743e+00 | 8.839145e-01 | 7.748165e-01 | 6.679848e-01 | 5.439712e-01 | 4.156770e-01 |\n",
       "| OR_u | 3.971982e+01 | 7.705791e+00 | 4.753225e+00 | 3.494257e+00 | 2.953681e+00 | 2.508739e+00 | 2.252460e+00 | 2.027614e+00 | 1.795809e+00 | 1.585906e+00 |\n",
       "| Prevalence | 3.120585e-01 | 2.001966e-01 | 1.598755e-01 | 1.319464e-01 | 1.158548e-01 | 9.959662e-02 | 8.849847e-02 | 7.735780e-02 | 6.407027e-02 | 4.989967e-02 |\n",
       "| n_cases | 1.524000e+04 | 9.777000e+03 | 7.808000e+03 | 6.444000e+03 | 5.658000e+03 | 4.864000e+03 | 4.322000e+03 | 3.778000e+03 | 3.129000e+03 | 2.437000e+03 |\n",
       "| n_conts | 3.359700e+04 | 3.906000e+04 | 4.103000e+04 | 4.239400e+04 | 4.317900e+04 | 4.397300e+04 | 4.451500e+04 | 4.506000e+04 | 4.570800e+04 | 4.640100e+04 |\n",
       "\n"
      ],
      "text/plain": [
       "           5            15           25           35           45          \n",
       "l          0.000000e+00 1.000000e-01 2.000000e-01 3.000000e-01 4.000000e-01\n",
       "u          1.000000e-01 2.000000e-01 3.000000e-01 4.000000e-01 5.000000e-01\n",
       "OR         3.757193e+00 2.073254e+00 1.576222e+00 1.259013e+00 1.085349e+00\n",
       "OR_l       3.654001e+00 2.011964e+00 1.527283e+00 1.218016e+00 1.048743e+00\n",
       "OR_u       3.971982e+01 7.705791e+00 4.753225e+00 3.494257e+00 2.953681e+00\n",
       "Prevalence 3.120585e-01 2.001966e-01 1.598755e-01 1.319464e-01 1.158548e-01\n",
       "n_cases    1.524000e+04 9.777000e+03 7.808000e+03 6.444000e+03 5.658000e+03\n",
       "n_conts    3.359700e+04 3.906000e+04 4.103000e+04 4.239400e+04 4.317900e+04\n",
       "           55           65           75           85           95          \n",
       "l          5.000000e-01 6.000000e-01 7.000000e-01 8.000000e-01 9.000000e-01\n",
       "u          6.000000e-01 7.000000e-01 8.000000e-01 9.000000e-01 1.000000e+00\n",
       "OR         9.161921e-01 8.041877e-01 6.944641e-01 5.670122e-01 4.350180e-01\n",
       "OR_l       8.839145e-01 7.748165e-01 6.679848e-01 5.439712e-01 4.156770e-01\n",
       "OR_u       2.508739e+00 2.252460e+00 2.027614e+00 1.795809e+00 1.585906e+00\n",
       "Prevalence 9.959662e-02 8.849847e-02 7.735780e-02 6.407027e-02 4.989967e-02\n",
       "n_cases    4.864000e+03 4.322000e+03 3.778000e+03 3.129000e+03 2.437000e+03\n",
       "n_conts    4.397300e+04 4.451500e+04 4.506000e+04 4.570800e+04 4.640100e+04"
      ]
     },
     "metadata": {},
     "output_type": "display_data"
    }
   ],
   "source": [
    "dff"
   ]
  },
  {
   "cell_type": "code",
   "execution_count": 104,
   "metadata": {},
   "outputs": [],
   "source": [
    "dff %>% fwrite('HC382.csv', row.names = T, col.names=T)"
   ]
  },
  {
   "cell_type": "code",
   "execution_count": 105,
   "metadata": {},
   "outputs": [
    {
     "name": "stdout",
     "output_type": "stream",
     "text": [
      "[1] 1.576222e+00 1.527283e+00 4.753225e+00 1.598755e-01 7.808000e+03\n",
      "[6] 4.103000e+04\n"
     ]
    }
   ],
   "source": [
    "combined_df %>% filter(\n",
    "    .2 < Percentile, Percentile <= .3\n",
    ")  %>% compute_or() %>% print()"
   ]
  },
  {
   "cell_type": "code",
   "execution_count": 85,
   "metadata": {},
   "outputs": [
    {
     "data": {
      "text/html": [
       "<table>\n",
       "<thead><tr><th scope=col>outcome</th><th scope=col>n</th></tr></thead>\n",
       "<tbody>\n",
       "\t<tr><td>1    </td><td>41030</td></tr>\n",
       "\t<tr><td>2    </td><td> 7808</td></tr>\n",
       "</tbody>\n",
       "</table>\n"
      ],
      "text/latex": [
       "\\begin{tabular}{r|ll}\n",
       " outcome & n\\\\\n",
       "\\hline\n",
       "\t 1     & 41030\\\\\n",
       "\t 2     &  7808\\\\\n",
       "\\end{tabular}\n"
      ],
      "text/markdown": [
       "\n",
       "| outcome | n |\n",
       "|---|---|\n",
       "| 1     | 41030 |\n",
       "| 2     |  7808 |\n",
       "\n"
      ],
      "text/plain": [
       "  outcome n    \n",
       "1 1       41030\n",
       "2 2        7808"
      ]
     },
     "metadata": {},
     "output_type": "display_data"
    }
   ],
   "source": [
    "combined_df %>% filter(\n",
    "    .2 < Percentile, Percentile <= .3\n",
    ") %>% count(outcome)"
   ]
  },
  {
   "cell_type": "code",
   "execution_count": 77,
   "metadata": {},
   "outputs": [
    {
     "data": {
      "text/html": [
       "<table>\n",
       "<thead><tr><th scope=col>outcome</th><th scope=col>bin</th><th scope=col>cnt</th></tr></thead>\n",
       "<tbody>\n",
       "\t<tr><td>1      </td><td>n      </td><td>41030  </td></tr>\n",
       "\t<tr><td>2      </td><td>n      </td><td> 7808  </td></tr>\n",
       "\t<tr><td>1      </td><td>n_40_60</td><td>87152  </td></tr>\n",
       "\t<tr><td>2      </td><td>n_40_60</td><td>10522  </td></tr>\n",
       "</tbody>\n",
       "</table>\n"
      ],
      "text/latex": [
       "\\begin{tabular}{r|lll}\n",
       " outcome & bin & cnt\\\\\n",
       "\\hline\n",
       "\t 1       & n       & 41030  \\\\\n",
       "\t 2       & n       &  7808  \\\\\n",
       "\t 1           & n\\_40\\_60 & 87152      \\\\\n",
       "\t 2           & n\\_40\\_60 & 10522      \\\\\n",
       "\\end{tabular}\n"
      ],
      "text/markdown": [
       "\n",
       "| outcome | bin | cnt |\n",
       "|---|---|---|\n",
       "| 1       | n       | 41030   |\n",
       "| 2       | n       |  7808   |\n",
       "| 1       | n_40_60 | 87152   |\n",
       "| 2       | n_40_60 | 10522   |\n",
       "\n"
      ],
      "text/plain": [
       "  outcome bin     cnt  \n",
       "1 1       n       41030\n",
       "2 2       n        7808\n",
       "3 1       n_40_60 87152\n",
       "4 2       n_40_60 10522"
      ]
     },
     "metadata": {},
     "output_type": "display_data"
    }
   ],
   "source": [
    "combined_df %>% filter(\n",
    "    .2 < Percentile, Percentile <= .3\n",
    ") %>%  count(outcome) %>% inner_join(cnt_middle, by='outcome') %>% gather(bin, cnt, -outcome)"
   ]
  },
  {
   "cell_type": "code",
   "execution_count": null,
   "metadata": {},
   "outputs": [],
   "source": []
  }
 ],
 "metadata": {
  "kernelspec": {
   "display_name": "R 3.5 (module)",
   "language": "R",
   "name": "ir35ml"
  },
  "language_info": {
   "codemirror_mode": "r",
   "file_extension": ".r",
   "mimetype": "text/x-r-source",
   "name": "R",
   "pygments_lexer": "r",
   "version": "3.5.1"
  }
 },
 "nbformat": 4,
 "nbformat_minor": 2
}

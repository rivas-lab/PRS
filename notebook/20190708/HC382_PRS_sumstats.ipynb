{
 "cells": [
  {
   "cell_type": "code",
   "execution_count": 1,
   "metadata": {},
   "outputs": [
    {
     "name": "stderr",
     "output_type": "stream",
     "text": [
      "Loading required package: tidyverse\n",
      "── Attaching packages ─────────────────────────────────────── tidyverse 1.2.1 ──\n",
      "✔ ggplot2 3.1.0       ✔ purrr   0.3.1  \n",
      "✔ tibble  2.0.1       ✔ dplyr   0.8.0.1\n",
      "✔ tidyr   0.8.3       ✔ stringr 1.4.0  \n",
      "✔ readr   1.3.1       ✔ forcats 0.4.0  \n",
      "── Conflicts ────────────────────────────────────────── tidyverse_conflicts() ──\n",
      "✖ dplyr::filter() masks stats::filter()\n",
      "✖ dplyr::lag()    masks stats::lag()\n",
      "Loading required package: data.table\n",
      "\n",
      "Attaching package: ‘data.table’\n",
      "\n",
      "The following objects are masked from ‘package:dplyr’:\n",
      "\n",
      "    between, first, last\n",
      "\n",
      "The following object is masked from ‘package:purrr’:\n",
      "\n",
      "    transpose\n",
      "\n"
     ]
    }
   ],
   "source": [
    "require(tidyverse)\n",
    "require(data.table)"
   ]
  },
  {
   "cell_type": "code",
   "execution_count": 2,
   "metadata": {},
   "outputs": [],
   "source": [
    "sscore_f <- '/oak/stanford/groups/mrivas/projects/PRS/private_output/snpnet_PRS/HC_20190303/8_score_all/HC382.sscore'\n",
    "sscore_df <- fread(\n",
    "    cmd=paste0('cat ', sscore_f, ' | cut -f2,6'), sep='\\t', data.table=F\n",
    ")\n"
   ]
  },
  {
   "cell_type": "code",
   "execution_count": 5,
   "metadata": {},
   "outputs": [],
   "source": [
    "phe_f <- '/oak/stanford/groups/mrivas/ukbb24983/phenotypedata/extras/highconfidenceqc/phe/HC382.phe'\n",
    "phe_df <- fread(\n",
    "    cmd=paste0('cat ', phe_f, ' | cut -f2,3'), sep='\\t', data.table=F\n",
    ")\n",
    "colnames(phe_df) <- c('IID', 'HC382')\n"
   ]
  },
  {
   "cell_type": "code",
   "execution_count": 31,
   "metadata": {},
   "outputs": [],
   "source": [
    "combined_df <- sscore_df %>% rename(snpnet_PRS = SCORE1_AVG) %>% \n",
    "left_join(phe_df, by='IID') %>%\n",
    "rename(outcome = HC382) %>% \n",
    "filter(outcome != -9) %>%\n",
    "drop_na() %>%\n",
    "mutate(Percentile = rank(-snpnet_PRS) / n())\n"
   ]
  },
  {
   "cell_type": "code",
   "execution_count": 32,
   "metadata": {},
   "outputs": [
    {
     "data": {
      "text/html": [
       "<ol class=list-inline>\n",
       "\t<li>488374</li>\n",
       "\t<li>4</li>\n",
       "</ol>\n"
      ],
      "text/latex": [
       "\\begin{enumerate*}\n",
       "\\item 488374\n",
       "\\item 4\n",
       "\\end{enumerate*}\n"
      ],
      "text/markdown": [
       "1. 488374\n",
       "2. 4\n",
       "\n",
       "\n"
      ],
      "text/plain": [
       "[1] 488374      4"
      ]
     },
     "metadata": {},
     "output_type": "display_data"
    }
   ],
   "source": [
    "combined_df %>% dim()"
   ]
  },
  {
   "cell_type": "code",
   "execution_count": 34,
   "metadata": {},
   "outputs": [],
   "source": [
    "cnt_middle <- combined_df %>% \n",
    "filter(0.4 <= Percentile, Percentile <= 0.6) %>% \n",
    "count(outcome) %>% rename(n_40_60 = n)"
   ]
  },
  {
   "cell_type": "code",
   "execution_count": 35,
   "metadata": {},
   "outputs": [
    {
     "data": {
      "text/html": [
       "<table>\n",
       "<thead><tr><th scope=col>outcome</th><th scope=col>n_40_60</th></tr></thead>\n",
       "<tbody>\n",
       "\t<tr><td>1    </td><td>87152</td></tr>\n",
       "\t<tr><td>2    </td><td>10522</td></tr>\n",
       "</tbody>\n",
       "</table>\n"
      ],
      "text/latex": [
       "\\begin{tabular}{r|ll}\n",
       " outcome & n\\_40\\_60\\\\\n",
       "\\hline\n",
       "\t 1     & 87152\\\\\n",
       "\t 2     & 10522\\\\\n",
       "\\end{tabular}\n"
      ],
      "text/markdown": [
       "\n",
       "| outcome | n_40_60 |\n",
       "|---|---|\n",
       "| 1     | 87152 |\n",
       "| 2     | 10522 |\n",
       "\n"
      ],
      "text/plain": [
       "  outcome n_40_60\n",
       "1 1       87152  \n",
       "2 2       10522  "
      ]
     },
     "metadata": {},
     "output_type": "display_data"
    }
   ],
   "source": [
    "cnt_middle"
   ]
  },
  {
   "cell_type": "code",
   "execution_count": 154,
   "metadata": {},
   "outputs": [],
   "source": [
    "compute_or <- function(df){\n",
    "    joined_df <- df %>% count(outcome) %>% inner_join(cnt_middle, by='outcome') %>% gather(bin, cnt, -outcome)\n",
    "    n_TP <- .5 + joined_df %>% filter(bin == 'n', outcome == 2) %>% select(cnt) %>% pull()\n",
    "    n_TN <- .5 + joined_df %>% filter(bin != 'n', outcome == 1) %>% select(cnt) %>% pull()\n",
    "    n_FP <- .5 + joined_df %>% filter(bin != 'n', outcome == 2) %>% select(cnt) %>% pull()\n",
    "    n_FN <- .5 + joined_df %>% filter(bin == 'n', outcome == 1) %>% select(cnt) %>% pull()\n",
    "    or <- (n_TP * n_TN) / (n_FP * n_FN)\n",
    "    lor <- log(or)\n",
    "    se_lor <- sqrt((1/n_TP) + (1/n_TN) + (1/n_FP) + (1/n_FN))\n",
    "    OR_l <- exp(lor - 1.96 * se_lor)\n",
    "    OR_u <- exp(lor + 1.96 * se_lor)\n",
    "    c(or, OR_l, OR_u, n_TP / (n_TP + n_FN), n_TP, n_FN)\n",
    "#     %>% print()    \n",
    "}"
   ]
  },
  {
   "cell_type": "code",
   "execution_count": 155,
   "metadata": {},
   "outputs": [],
   "source": [
    "compute_or_wrapper <- function(idx, df){\n",
    "    bin_u = 1 - idx * 0.1\n",
    "    bin_l = 1 - (idx + 1) * 0.1\n",
    "    c(\n",
    "        1 - bin_u, 1 - bin_l, \n",
    "        df %>% filter(bin_l < Percentile, Percentile <= bin_u) \n",
    "        %>% compute_or()\n",
    "    )    \n",
    "}"
   ]
  },
  {
   "cell_type": "code",
   "execution_count": 156,
   "metadata": {},
   "outputs": [],
   "source": [
    "res <- lapply(0:9, compute_or_wrapper, combined_df)"
   ]
  },
  {
   "cell_type": "code",
   "execution_count": 157,
   "metadata": {},
   "outputs": [],
   "source": [
    "df <- as.data.frame(res) \n",
    "colnames(df) <- lapply(0:9, function(x){x * 10 + 5})\n",
    "rownames(df) <- c(\n",
    "    'l', 'u', 'OR', 'OR_l', 'OR_u', \n",
    "    'Prevalence', \n",
    "    'n_cases', 'n_conts'\n",
    ")\n",
    "dff <- df %>%\n",
    "rownames_to_column('id')"
   ]
  },
  {
   "cell_type": "code",
   "execution_count": 158,
   "metadata": {},
   "outputs": [],
   "source": [
    "dff %>% fwrite('HC382.csv', col.names=T)"
   ]
  },
  {
   "cell_type": "code",
   "execution_count": 159,
   "metadata": {},
   "outputs": [
    {
     "data": {
      "text/html": [
       "<table>\n",
       "<thead><tr><th scope=col>id</th><th scope=col>5</th><th scope=col>15</th><th scope=col>25</th><th scope=col>35</th><th scope=col>45</th><th scope=col>55</th><th scope=col>65</th><th scope=col>75</th><th scope=col>85</th><th scope=col>95</th></tr></thead>\n",
       "<tbody>\n",
       "\t<tr><td>l           </td><td>0.000000e+00</td><td>1.000000e-01</td><td>2.000000e-01</td><td>3.000000e-01</td><td>4.000000e-01</td><td>5.000000e-01</td><td>    0.600000</td><td>7.000000e-01</td><td>8.000000e-01</td><td>9.000000e-01</td></tr>\n",
       "\t<tr><td>u           </td><td>1.000000e-01</td><td>2.000000e-01</td><td>3.000000e-01</td><td>4.000000e-01</td><td>5.000000e-01</td><td>6.000000e-01</td><td>    0.700000</td><td>8.000000e-01</td><td>9.000000e-01</td><td>1.000000e+00</td></tr>\n",
       "\t<tr><td>OR          </td><td>4.350844e-01</td><td>5.670729e-01</td><td>6.945193e-01</td><td>8.042381e-01</td><td>9.162376e-01</td><td>1.085387e+00</td><td>    1.259043</td><td>1.576238e+00</td><td>2.073247e+00</td><td>3.757104e+00</td></tr>\n",
       "\t<tr><td>OR_l        </td><td>4.157420e-01</td><td>5.440308e-01</td><td>6.680392e-01</td><td>7.748663e-01</td><td>8.839596e-01</td><td>1.048781e+00</td><td>    1.218046</td><td>1.527299e+00</td><td>2.011959e+00</td><td>3.653915e+00</td></tr>\n",
       "\t<tr><td>OR_u        </td><td>4.553267e-01</td><td>5.910909e-01</td><td>7.220491e-01</td><td>8.347233e-01</td><td>9.496941e-01</td><td>1.123271e+00</td><td>    1.301420</td><td>1.626744e+00</td><td>2.136401e+00</td><td>3.863206e+00</td></tr>\n",
       "\t<tr><td>Prevalence  </td><td>4.990888e-02</td><td>6.407920e-02</td><td>7.736645e-02</td><td>8.850690e-02</td><td>9.960482e-02</td><td>1.158626e-01</td><td>    0.131954</td><td>1.598825e-01</td><td>2.002027e-01</td><td>3.120623e-01</td></tr>\n",
       "\t<tr><td>n_cases     </td><td>2.437500e+03</td><td>3.129500e+03</td><td>3.778500e+03</td><td>4.322500e+03</td><td>4.864500e+03</td><td>5.658500e+03</td><td> 6444.500000</td><td>7.808500e+03</td><td>9.777500e+03</td><td>1.524050e+04</td></tr>\n",
       "\t<tr><td>n_conts     </td><td>4.640150e+04</td><td>4.570850e+04</td><td>4.506050e+04</td><td>4.451550e+04</td><td>4.397350e+04</td><td>4.317950e+04</td><td>42394.500000</td><td>4.103050e+04</td><td>3.906050e+04</td><td>3.359750e+04</td></tr>\n",
       "</tbody>\n",
       "</table>\n"
      ],
      "text/latex": [
       "\\begin{tabular}{r|lllllllllll}\n",
       " id & 5 & 15 & 25 & 35 & 45 & 55 & 65 & 75 & 85 & 95\\\\\n",
       "\\hline\n",
       "\t l            & 0.000000e+00 & 1.000000e-01 & 2.000000e-01 & 3.000000e-01 & 4.000000e-01 & 5.000000e-01 &     0.600000 & 7.000000e-01 & 8.000000e-01 & 9.000000e-01\\\\\n",
       "\t u            & 1.000000e-01 & 2.000000e-01 & 3.000000e-01 & 4.000000e-01 & 5.000000e-01 & 6.000000e-01 &     0.700000 & 8.000000e-01 & 9.000000e-01 & 1.000000e+00\\\\\n",
       "\t OR           & 4.350844e-01 & 5.670729e-01 & 6.945193e-01 & 8.042381e-01 & 9.162376e-01 & 1.085387e+00 &     1.259043 & 1.576238e+00 & 2.073247e+00 & 3.757104e+00\\\\\n",
       "\t OR\\_l       & 4.157420e-01 & 5.440308e-01 & 6.680392e-01 & 7.748663e-01 & 8.839596e-01 & 1.048781e+00 &     1.218046 & 1.527299e+00 & 2.011959e+00 & 3.653915e+00\\\\\n",
       "\t OR\\_u       & 4.553267e-01 & 5.910909e-01 & 7.220491e-01 & 8.347233e-01 & 9.496941e-01 & 1.123271e+00 &     1.301420 & 1.626744e+00 & 2.136401e+00 & 3.863206e+00\\\\\n",
       "\t Prevalence   & 4.990888e-02 & 6.407920e-02 & 7.736645e-02 & 8.850690e-02 & 9.960482e-02 & 1.158626e-01 &     0.131954 & 1.598825e-01 & 2.002027e-01 & 3.120623e-01\\\\\n",
       "\t n\\_cases    & 2.437500e+03 & 3.129500e+03 & 3.778500e+03 & 4.322500e+03 & 4.864500e+03 & 5.658500e+03 &  6444.500000 & 7.808500e+03 & 9.777500e+03 & 1.524050e+04\\\\\n",
       "\t n\\_conts    & 4.640150e+04 & 4.570850e+04 & 4.506050e+04 & 4.451550e+04 & 4.397350e+04 & 4.317950e+04 & 42394.500000 & 4.103050e+04 & 3.906050e+04 & 3.359750e+04\\\\\n",
       "\\end{tabular}\n"
      ],
      "text/markdown": [
       "\n",
       "| id | 5 | 15 | 25 | 35 | 45 | 55 | 65 | 75 | 85 | 95 |\n",
       "|---|---|---|---|---|---|---|---|---|---|---|\n",
       "| l            | 0.000000e+00 | 1.000000e-01 | 2.000000e-01 | 3.000000e-01 | 4.000000e-01 | 5.000000e-01 |     0.600000 | 7.000000e-01 | 8.000000e-01 | 9.000000e-01 |\n",
       "| u            | 1.000000e-01 | 2.000000e-01 | 3.000000e-01 | 4.000000e-01 | 5.000000e-01 | 6.000000e-01 |     0.700000 | 8.000000e-01 | 9.000000e-01 | 1.000000e+00 |\n",
       "| OR           | 4.350844e-01 | 5.670729e-01 | 6.945193e-01 | 8.042381e-01 | 9.162376e-01 | 1.085387e+00 |     1.259043 | 1.576238e+00 | 2.073247e+00 | 3.757104e+00 |\n",
       "| OR_l         | 4.157420e-01 | 5.440308e-01 | 6.680392e-01 | 7.748663e-01 | 8.839596e-01 | 1.048781e+00 |     1.218046 | 1.527299e+00 | 2.011959e+00 | 3.653915e+00 |\n",
       "| OR_u         | 4.553267e-01 | 5.910909e-01 | 7.220491e-01 | 8.347233e-01 | 9.496941e-01 | 1.123271e+00 |     1.301420 | 1.626744e+00 | 2.136401e+00 | 3.863206e+00 |\n",
       "| Prevalence   | 4.990888e-02 | 6.407920e-02 | 7.736645e-02 | 8.850690e-02 | 9.960482e-02 | 1.158626e-01 |     0.131954 | 1.598825e-01 | 2.002027e-01 | 3.120623e-01 |\n",
       "| n_cases      | 2.437500e+03 | 3.129500e+03 | 3.778500e+03 | 4.322500e+03 | 4.864500e+03 | 5.658500e+03 |  6444.500000 | 7.808500e+03 | 9.777500e+03 | 1.524050e+04 |\n",
       "| n_conts      | 4.640150e+04 | 4.570850e+04 | 4.506050e+04 | 4.451550e+04 | 4.397350e+04 | 4.317950e+04 | 42394.500000 | 4.103050e+04 | 3.906050e+04 | 3.359750e+04 |\n",
       "\n"
      ],
      "text/plain": [
       "  id         5            15           25           35           45          \n",
       "1 l          0.000000e+00 1.000000e-01 2.000000e-01 3.000000e-01 4.000000e-01\n",
       "2 u          1.000000e-01 2.000000e-01 3.000000e-01 4.000000e-01 5.000000e-01\n",
       "3 OR         4.350844e-01 5.670729e-01 6.945193e-01 8.042381e-01 9.162376e-01\n",
       "4 OR_l       4.157420e-01 5.440308e-01 6.680392e-01 7.748663e-01 8.839596e-01\n",
       "5 OR_u       4.553267e-01 5.910909e-01 7.220491e-01 8.347233e-01 9.496941e-01\n",
       "6 Prevalence 4.990888e-02 6.407920e-02 7.736645e-02 8.850690e-02 9.960482e-02\n",
       "7 n_cases    2.437500e+03 3.129500e+03 3.778500e+03 4.322500e+03 4.864500e+03\n",
       "8 n_conts    4.640150e+04 4.570850e+04 4.506050e+04 4.451550e+04 4.397350e+04\n",
       "  55           65           75           85           95          \n",
       "1 5.000000e-01     0.600000 7.000000e-01 8.000000e-01 9.000000e-01\n",
       "2 6.000000e-01     0.700000 8.000000e-01 9.000000e-01 1.000000e+00\n",
       "3 1.085387e+00     1.259043 1.576238e+00 2.073247e+00 3.757104e+00\n",
       "4 1.048781e+00     1.218046 1.527299e+00 2.011959e+00 3.653915e+00\n",
       "5 1.123271e+00     1.301420 1.626744e+00 2.136401e+00 3.863206e+00\n",
       "6 1.158626e-01     0.131954 1.598825e-01 2.002027e-01 3.120623e-01\n",
       "7 5.658500e+03  6444.500000 7.808500e+03 9.777500e+03 1.524050e+04\n",
       "8 4.317950e+04 42394.500000 4.103050e+04 3.906050e+04 3.359750e+04"
      ]
     },
     "metadata": {},
     "output_type": "display_data"
    }
   ],
   "source": [
    "dff"
   ]
  },
  {
   "cell_type": "code",
   "execution_count": null,
   "metadata": {},
   "outputs": [],
   "source": []
  }
 ],
 "metadata": {
  "kernelspec": {
   "display_name": "R 3.5 (module)",
   "language": "R",
   "name": "ir35ml"
  },
  "language_info": {
   "codemirror_mode": "r",
   "file_extension": ".r",
   "mimetype": "text/x-r-source",
   "name": "R",
   "pygments_lexer": "r",
   "version": "3.5.1"
  }
 },
 "nbformat": 4,
 "nbformat_minor": 2
}

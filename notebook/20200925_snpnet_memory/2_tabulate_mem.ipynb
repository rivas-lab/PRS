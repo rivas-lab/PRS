{
 "cells": [
  {
   "cell_type": "markdown",
   "metadata": {},
   "source": [
    "```\n",
    "bash 1_extract_memory_info.sh /oak/stanford/groups/mrivas/projects/PRS/private_output/20200908_PRS_map_test/7_pfactor_v5/INI50/2_refit/snpnet.log > INI50_pfactor_v5_refit.log\n",
    "```"
   ]
  },
  {
   "cell_type": "code",
   "execution_count": 1,
   "metadata": {},
   "outputs": [],
   "source": [
    "import numpy as np\n",
    "import pandas as pd"
   ]
  },
  {
   "cell_type": "code",
   "execution_count": 36,
   "metadata": {},
   "outputs": [],
   "source": [
    "log='INI50_pfactor_v5_refit.log'\n",
    "out_tsv='INI50_pfactor_v5_refit.mem.tsv'"
   ]
  },
  {
   "cell_type": "code",
   "execution_count": 3,
   "metadata": {},
   "outputs": [],
   "source": [
    "with open(log) as f:\n",
    "    lines=f.read().splitlines()"
   ]
  },
  {
   "cell_type": "code",
   "execution_count": 32,
   "metadata": {},
   "outputs": [],
   "source": [
    "def get_numbers(lines, keyword, colidx=-1):\n",
    "    iteration_idx = np.where([keyword in lines[x] for x in range(len(lines))])[0]    \n",
    "    return np.array([\n",
    "        iteration_idx,        \n",
    "        np.array([float(lines[x].split()[colidx]) for x in iteration_idx])\n",
    "    ]).transpose()\n",
    "\n",
    "def get_iteration_idx(lines):\n",
    "    return np.array(get_numbers(lines, 'Iteration'), dtype=np.int)\n",
    "\n",
    "def get_num_variables(lines):\n",
    "    return np.array(get_numbers([x.replace('.', '') for x in lines], 'strong set'), dtype=np.int)\n",
    "\n",
    "def get_Nmem(lines):\n",
    "    return get_numbers(lines, 'Ncells', colidx=2)\n",
    "\n",
    "def get_Vmem(lines):\n",
    "    return get_numbers(lines, 'Vcells', colidx=2)\n",
    "\n",
    "def filter_df(df):\n",
    "    return df[[True] + list(np.array(list(df['lambda_idx'][1:])) - np.array(list(df['lambda_idx'][:-1])) == 1)]    "
   ]
  },
  {
   "cell_type": "code",
   "execution_count": 22,
   "metadata": {},
   "outputs": [],
   "source": [
    "iteration_idx = get_iteration_idx(lines)\n"
   ]
  },
  {
   "cell_type": "code",
   "execution_count": 23,
   "metadata": {},
   "outputs": [],
   "source": [
    "iteration_idx_d = dict(iteration_idx)\n",
    "for i in range(len(lines)):\n",
    "    if not i in iteration_idx_d:\n",
    "        iteration_idx_d[i] = iteration_idx_d[i-1]"
   ]
  },
  {
   "cell_type": "code",
   "execution_count": 24,
   "metadata": {},
   "outputs": [],
   "source": [
    "nv_df = pd.DataFrame(get_num_variables(lines), columns=['line', 'num_variables'])\n",
    "nmem_df = pd.DataFrame(get_Nmem(lines), columns=['line', 'Ncells'])\n",
    "vmem_df = pd.DataFrame(get_Vmem(lines), columns=['line', 'Vcells'])\n"
   ]
  },
  {
   "cell_type": "code",
   "execution_count": 25,
   "metadata": {},
   "outputs": [],
   "source": [
    "for df in [nv_df, nmem_df, vmem_df]:\n",
    "    df['lambda_idx'] = df['line'].map(lambda x: iteration_idx_d[x])\n",
    "    "
   ]
  },
  {
   "cell_type": "code",
   "execution_count": 33,
   "metadata": {},
   "outputs": [],
   "source": [
    "merged_df = filter_df(nv_df)[['lambda_idx', 'num_variables']].merge(\n",
    "    filter_df(nmem_df)[['lambda_idx', 'Ncells']]\n",
    ").merge(\n",
    "    filter_df(vmem_df)[['lambda_idx', 'Vcells']]\n",
    ")\n",
    "merged_df['mem'] = merged_df['Ncells'] + merged_df['Vcells']\n"
   ]
  },
  {
   "cell_type": "code",
   "execution_count": 37,
   "metadata": {},
   "outputs": [],
   "source": [
    "merged_df.to_csv(out_tsv, sep='\\t', index=False)"
   ]
  },
  {
   "cell_type": "code",
   "execution_count": 38,
   "metadata": {},
   "outputs": [
    {
     "data": {
      "text/html": [
       "<div>\n",
       "<style scoped>\n",
       "    .dataframe tbody tr th:only-of-type {\n",
       "        vertical-align: middle;\n",
       "    }\n",
       "\n",
       "    .dataframe tbody tr th {\n",
       "        vertical-align: top;\n",
       "    }\n",
       "\n",
       "    .dataframe thead th {\n",
       "        text-align: right;\n",
       "    }\n",
       "</style>\n",
       "<table border=\"1\" class=\"dataframe\">\n",
       "  <thead>\n",
       "    <tr style=\"text-align: right;\">\n",
       "      <th></th>\n",
       "      <th>lambda_idx</th>\n",
       "      <th>num_variables</th>\n",
       "      <th>Ncells</th>\n",
       "      <th>Vcells</th>\n",
       "      <th>mem</th>\n",
       "    </tr>\n",
       "  </thead>\n",
       "  <tbody>\n",
       "    <tr>\n",
       "      <th>0</th>\n",
       "      <td>1</td>\n",
       "      <td>1012</td>\n",
       "      <td>210.4</td>\n",
       "      <td>2460.3</td>\n",
       "      <td>2670.7</td>\n",
       "    </tr>\n",
       "    <tr>\n",
       "      <th>1</th>\n",
       "      <td>2</td>\n",
       "      <td>1017</td>\n",
       "      <td>210.9</td>\n",
       "      <td>2487.1</td>\n",
       "      <td>2698.0</td>\n",
       "    </tr>\n",
       "    <tr>\n",
       "      <th>2</th>\n",
       "      <td>3</td>\n",
       "      <td>1030</td>\n",
       "      <td>210.9</td>\n",
       "      <td>2531.9</td>\n",
       "      <td>2742.8</td>\n",
       "    </tr>\n",
       "    <tr>\n",
       "      <th>3</th>\n",
       "      <td>4</td>\n",
       "      <td>1064</td>\n",
       "      <td>211.0</td>\n",
       "      <td>2619.9</td>\n",
       "      <td>2830.9</td>\n",
       "    </tr>\n",
       "    <tr>\n",
       "      <th>4</th>\n",
       "      <td>5</td>\n",
       "      <td>1126</td>\n",
       "      <td>211.0</td>\n",
       "      <td>2765.4</td>\n",
       "      <td>2976.4</td>\n",
       "    </tr>\n",
       "    <tr>\n",
       "      <th>...</th>\n",
       "      <td>...</td>\n",
       "      <td>...</td>\n",
       "      <td>...</td>\n",
       "      <td>...</td>\n",
       "      <td>...</td>\n",
       "    </tr>\n",
       "    <tr>\n",
       "      <th>88</th>\n",
       "      <td>89</td>\n",
       "      <td>115333</td>\n",
       "      <td>216.9</td>\n",
       "      <td>237767.3</td>\n",
       "      <td>237984.2</td>\n",
       "    </tr>\n",
       "    <tr>\n",
       "      <th>89</th>\n",
       "      <td>90</td>\n",
       "      <td>120333</td>\n",
       "      <td>217.1</td>\n",
       "      <td>248040.7</td>\n",
       "      <td>248257.8</td>\n",
       "    </tr>\n",
       "    <tr>\n",
       "      <th>90</th>\n",
       "      <td>91</td>\n",
       "      <td>125833</td>\n",
       "      <td>217.4</td>\n",
       "      <td>259348.3</td>\n",
       "      <td>259565.7</td>\n",
       "    </tr>\n",
       "    <tr>\n",
       "      <th>91</th>\n",
       "      <td>92</td>\n",
       "      <td>126333</td>\n",
       "      <td>217.5</td>\n",
       "      <td>260399.3</td>\n",
       "      <td>260616.8</td>\n",
       "    </tr>\n",
       "    <tr>\n",
       "      <th>92</th>\n",
       "      <td>93</td>\n",
       "      <td>126333</td>\n",
       "      <td>217.5</td>\n",
       "      <td>260411.6</td>\n",
       "      <td>260629.1</td>\n",
       "    </tr>\n",
       "  </tbody>\n",
       "</table>\n",
       "<p>93 rows × 5 columns</p>\n",
       "</div>"
      ],
      "text/plain": [
       "    lambda_idx  num_variables  Ncells    Vcells       mem\n",
       "0            1           1012   210.4    2460.3    2670.7\n",
       "1            2           1017   210.9    2487.1    2698.0\n",
       "2            3           1030   210.9    2531.9    2742.8\n",
       "3            4           1064   211.0    2619.9    2830.9\n",
       "4            5           1126   211.0    2765.4    2976.4\n",
       "..         ...            ...     ...       ...       ...\n",
       "88          89         115333   216.9  237767.3  237984.2\n",
       "89          90         120333   217.1  248040.7  248257.8\n",
       "90          91         125833   217.4  259348.3  259565.7\n",
       "91          92         126333   217.5  260399.3  260616.8\n",
       "92          93         126333   217.5  260411.6  260629.1\n",
       "\n",
       "[93 rows x 5 columns]"
      ]
     },
     "execution_count": 38,
     "metadata": {},
     "output_type": "execute_result"
    }
   ],
   "source": [
    "merged_df"
   ]
  },
  {
   "cell_type": "code",
   "execution_count": null,
   "metadata": {},
   "outputs": [],
   "source": []
  }
 ],
 "metadata": {
  "kernelspec": {
   "display_name": "Python 3",
   "language": "python",
   "name": "python3"
  },
  "language_info": {
   "codemirror_mode": {
    "name": "ipython",
    "version": 3
   },
   "file_extension": ".py",
   "mimetype": "text/x-python",
   "name": "python",
   "nbconvert_exporter": "python",
   "pygments_lexer": "ipython3",
   "version": "3.7.8"
  }
 },
 "nbformat": 4,
 "nbformat_minor": 4
}

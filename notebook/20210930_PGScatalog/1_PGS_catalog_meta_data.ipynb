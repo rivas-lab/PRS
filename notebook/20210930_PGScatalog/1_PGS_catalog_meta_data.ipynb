{
 "cells": [
  {
   "cell_type": "code",
   "execution_count": 1,
   "id": "taken-kernel",
   "metadata": {},
   "outputs": [],
   "source": [
    "suppressWarnings(suppressPackageStartupMessages({\n",
    "    library(tidyverse)\n",
    "    library(data.table)\n",
    "}))\n"
   ]
  },
  {
   "cell_type": "code",
   "execution_count": 2,
   "id": "characteristic-portland",
   "metadata": {},
   "outputs": [],
   "source": [
    "source('0_parameters.sh')\n"
   ]
  },
  {
   "cell_type": "code",
   "execution_count": 7,
   "id": "naughty-syracuse",
   "metadata": {},
   "outputs": [],
   "source": [
    "file.path(data_d, 'eval_full.tsv') %>%\n",
    "fread() %>%\n",
    "rename_with(function(x){str_replace(x, '#', '')}, starts_with(\"#\")) %>%\n",
    "filter(is_significant_in_WB) -> eval_full_df\n"
   ]
  },
  {
   "cell_type": "markdown",
   "id": "quantitative-understanding",
   "metadata": {},
   "source": [
    "## scores table"
   ]
  },
  {
   "cell_type": "code",
   "execution_count": 26,
   "id": "activated-serum",
   "metadata": {},
   "outputs": [],
   "source": [
    "eval_full_df %>%\n",
    "select(trait, trait_name, n_variables) %>%\n",
    "unique() %>%\n",
    "mutate(\n",
    "    URL = paste0('https://biobankengine.stanford.edu/RIVAS_HG19/snpnet/', trait),\n",
    "    trait = paste0('GBE_', trait)\n",
    ") %>% \n",
    "select(trait, trait_name, URL, n_variables) -> PGS_scores_df"
   ]
  },
  {
   "cell_type": "code",
   "execution_count": 96,
   "id": "graduate-austria",
   "metadata": {},
   "outputs": [],
   "source": [
    "PGS_scores_df %>% \n",
    "rename('#trait' = 'trait') %>%\n",
    "fwrite('PGS_scores.tsv', sep='\\t', na = \"NA\", quote=F)\n"
   ]
  },
  {
   "cell_type": "markdown",
   "id": "driving-conflict",
   "metadata": {},
   "source": [
    "## Performance table"
   ]
  },
  {
   "cell_type": "code",
   "execution_count": 56,
   "id": "engaging-basketball",
   "metadata": {},
   "outputs": [],
   "source": [
    "get_split_order_df <- function(){\n",
    "    data.frame(\n",
    "        split = c('train', 'val', 'train_val', 'test', 'non_british_white', 's_asian', 'e_asian', 'african'),\n",
    "        split_order=1:8, stringsAsFactors=F\n",
    "    )\n",
    "}"
   ]
  },
  {
   "cell_type": "code",
   "execution_count": 61,
   "id": "afraid-electric",
   "metadata": {},
   "outputs": [],
   "source": [
    "eval_full_df %>%\n",
    "filter(split != 'train_val') %>%\n",
    "left_join(get_split_order_df(), by='split') %>%\n",
    "mutate(\n",
    "    split = paste0(trait, '_', split),\n",
    "    trait = paste0('GBE_', trait)\n",
    ") %>%\n",
    "select(\n",
    "    trait, split, split_order, trait_name, family, geno, geno_covar, geno_delta\n",
    ") -> performance_master_df\n"
   ]
  },
  {
   "cell_type": "code",
   "execution_count": 69,
   "id": "regulation-fellowship",
   "metadata": {},
   "outputs": [],
   "source": [
    "bind_rows(\n",
    "    performance_master_df %>%\n",
    "    filter(family == 'gaussian') %>%\n",
    "    mutate(covariates = 'age, sex Genotype PCs') %>%\n",
    "    mutate(geno_delta = paste0('Diff R2 (full-covars) = ', geno_delta, '')) %>%\n",
    "    rename('R2'='geno_covar', 'other_metric'='geno_delta') %>%\n",
    "    select(\n",
    "        trait, split, split_order, trait_name, R2, other_metric, covariates\n",
    "    ),\n",
    "    \n",
    "    performance_master_df %>% \n",
    "    filter(family == 'gaussian') %>%\n",
    "    mutate(covariates = '', other_metric='') %>%\n",
    "    rename('R2'='geno') %>%\n",
    "    select(trait, split, split_order, trait_name, R2, other_metric, covariates)\n",
    ") %>%\n",
    "left_join(\n",
    "    performance_master_df %>% select(trait) %>% unique() %>%\n",
    "    mutate(trait_order = 1:n()), by='trait'\n",
    ") %>%\n",
    "arrange(trait_order, covariates, split_order) %>%\n",
    "select(-trait_order, -split_order) -> performance_gaussian_df\n"
   ]
  },
  {
   "cell_type": "code",
   "execution_count": 70,
   "id": "lonely-hartford",
   "metadata": {},
   "outputs": [],
   "source": [
    "bind_rows(\n",
    "    performance_master_df %>%\n",
    "    filter(family == 'binomial') %>%\n",
    "    mutate(covariates = 'age, sex Genotype PCs') %>%\n",
    "    mutate(geno_delta = paste0('Diff R2 (full-covars) = ', geno_delta, '')) %>%\n",
    "    rename('AUROC'='geno_covar', 'other_metric'='geno_delta') %>%\n",
    "    select(\n",
    "        trait, split, split_order, trait_name, AUROC, other_metric, covariates\n",
    "    ),\n",
    "    \n",
    "    performance_master_df %>% \n",
    "    filter(family == 'binomial') %>%\n",
    "    mutate(covariates = '', other_metric='') %>%\n",
    "    rename('AUROC'='geno') %>%\n",
    "    select(trait, split, split_order, trait_name, AUROC, other_metric, covariates)\n",
    ") %>%\n",
    "left_join(\n",
    "    performance_master_df %>% select(trait) %>% unique() %>%\n",
    "    mutate(trait_order = 1:n()), by='trait'\n",
    ") %>%\n",
    "arrange(trait_order, covariates, split_order) %>%\n",
    "select(-trait_order, -split_order) -> performance_binomial_df\n"
   ]
  },
  {
   "cell_type": "code",
   "execution_count": 99,
   "id": "growing-concrete",
   "metadata": {},
   "outputs": [],
   "source": [
    "performance_gaussian_df %>% \n",
    "rename('#trait' = 'trait') %>%\n",
    "fwrite('PGS_performance_gaussian.tsv', sep='\\t', na = \"NA\", quote=F)\n"
   ]
  },
  {
   "cell_type": "code",
   "execution_count": 100,
   "id": "caroline-presentation",
   "metadata": {},
   "outputs": [],
   "source": [
    "performance_binomial_df %>% \n",
    "rename('#trait' = 'trait') %>%\n",
    "fwrite('PGS_performance_binomial.tsv', sep='\\t', na = \"NA\", quote=F)\n"
   ]
  },
  {
   "cell_type": "markdown",
   "id": "indoor-patch",
   "metadata": {},
   "source": [
    "## Sample table"
   ]
  },
  {
   "cell_type": "code",
   "execution_count": 11,
   "id": "other-adult",
   "metadata": {},
   "outputs": [
    {
     "data": {
      "text/html": [
       "<style>\n",
       ".list-inline {list-style: none; margin:0; padding: 0}\n",
       ".list-inline>li {display: inline-block}\n",
       ".list-inline>li:not(:last-child)::after {content: \"\\00b7\"; padding: 0 .5ex}\n",
       "</style>\n",
       "<ol class=list-inline><li>'trait_category'</li><li>'trait'</li><li>'trait_name'</li><li>'family'</li><li>'split'</li><li>'geno'</li><li>'covar'</li><li>'geno_covar'</li><li>'geno_delta'</li><li>'n_variables'</li><li>'WB_test_P'</li><li>'is_significant_in_WB'</li></ol>\n"
      ],
      "text/latex": [
       "\\begin{enumerate*}\n",
       "\\item 'trait\\_category'\n",
       "\\item 'trait'\n",
       "\\item 'trait\\_name'\n",
       "\\item 'family'\n",
       "\\item 'split'\n",
       "\\item 'geno'\n",
       "\\item 'covar'\n",
       "\\item 'geno\\_covar'\n",
       "\\item 'geno\\_delta'\n",
       "\\item 'n\\_variables'\n",
       "\\item 'WB\\_test\\_P'\n",
       "\\item 'is\\_significant\\_in\\_WB'\n",
       "\\end{enumerate*}\n"
      ],
      "text/markdown": [
       "1. 'trait_category'\n",
       "2. 'trait'\n",
       "3. 'trait_name'\n",
       "4. 'family'\n",
       "5. 'split'\n",
       "6. 'geno'\n",
       "7. 'covar'\n",
       "8. 'geno_covar'\n",
       "9. 'geno_delta'\n",
       "10. 'n_variables'\n",
       "11. 'WB_test_P'\n",
       "12. 'is_significant_in_WB'\n",
       "\n",
       "\n"
      ],
      "text/plain": [
       " [1] \"trait_category\"       \"trait\"                \"trait_name\"          \n",
       " [4] \"family\"               \"split\"                \"geno\"                \n",
       " [7] \"covar\"                \"geno_covar\"           \"geno_delta\"          \n",
       "[10] \"n_variables\"          \"WB_test_P\"            \"is_significant_in_WB\""
      ]
     },
     "metadata": {},
     "output_type": "display_data"
    }
   ],
   "source": [
    "eval_full_df %>% colnames"
   ]
  },
  {
   "cell_type": "code",
   "execution_count": 80,
   "id": "latest-organic",
   "metadata": {},
   "outputs": [],
   "source": [
    "eval_full_df %>%\n",
    "filter(family == 'gaussian') %>%\n",
    "pull(trait) %>% unique() %>%\n",
    "lapply(function(t){\n",
    "    file.path(\n",
    "        GBE_data_d, sprintf('%s.eval.tsv', t)\n",
    "    ) %>% fread(select=c('#phenotype_name', 'split', 'n'))    \n",
    "}) %>% bind_rows() %>%\n",
    "rename_with(\n",
    "    function(x){str_replace(x, '#', '')}, starts_with(\"#\")\n",
    ") -> sample_gaussian_df\n"
   ]
  },
  {
   "cell_type": "code",
   "execution_count": 81,
   "id": "sound-diagram",
   "metadata": {},
   "outputs": [],
   "source": [
    "eval_full_df %>%\n",
    "filter(family == 'binomial') %>%\n",
    "pull(trait) %>% unique() %>%\n",
    "lapply(function(t){\n",
    "    file.path(\n",
    "        GBE_data_d, sprintf('%s.eval.tsv', t)\n",
    "    ) %>% fread(select=c('#phenotype_name', 'split', 'case_n', 'control_n'))    \n",
    "}) %>% bind_rows() %>%\n",
    "rename_with(\n",
    "    function(x){str_replace(x, '#', '')}, starts_with(\"#\")\n",
    ") -> sample_binomial_df\n"
   ]
  },
  {
   "cell_type": "code",
   "execution_count": 103,
   "id": "authentic-substance",
   "metadata": {},
   "outputs": [],
   "source": [
    "get_ancestry_df <- function(){\n",
    "    data.frame(\n",
    "        split = c('train', 'val', 'train_val', 'test', 'non_british_white', 's_asian', 'e_asian', 'african'),\n",
    "        broad_ancestral_category=c(        \n",
    "            'European',\n",
    "            'European',\n",
    "            'European',\n",
    "            'European',\n",
    "            'European',\n",
    "            'South Asian',\n",
    "            'East Asian',\n",
    "            'African unspecified'\n",
    "        ),\n",
    "        additional_ancestry_description = c(\n",
    "            'white British ancestry',\n",
    "            'white British ancestry',\n",
    "            'white British ancestry',\n",
    "            'white British ancestry',\n",
    "            'non-white British ancestry',\n",
    "            '','',''\n",
    "        ),\n",
    "        additional_sample_cohort_information = c(\n",
    "            'Training cohort (train)',\n",
    "            'Validation cohort (val) to optimize sparsity',            \n",
    "            'Training + validation cohort (train_val)',\n",
    "            'Testing cohort (heldout set)',\n",
    "            '',\n",
    "            '',\n",
    "            '',\n",
    "            ''\n",
    "        ),\n",
    "        stringsAsFactors=F\n",
    "    )\n",
    "}"
   ]
  },
  {
   "cell_type": "code",
   "execution_count": 117,
   "id": "serial-livestock",
   "metadata": {},
   "outputs": [],
   "source": [
    "bind_rows(\n",
    "    sample_gaussian_df,\n",
    "    sample_binomial_df %>% mutate(n = case_n + control_n)\n",
    ") %>% \n",
    "left_join(get_ancestry_df(), by='split') %>%\n",
    "mutate(\n",
    "    study_stage = if_else(split == 'train_val', 'Score development', 'Testing'),\n",
    "    sample_set = if_else(split == 'train_val', '', paste0(phenotype_name, '_', split)),\n",
    "    associated_score_name = paste0('GBE_', phenotype_name),\n",
    "    country_of_recruitment = 'UK',\n",
    "    cohort='UKB'\n",
    ") %>%\n",
    "select(\n",
    "    associated_score_name, study_stage, sample_set,\n",
    "    n, case_n, control_n,\n",
    "    broad_ancestral_category,\n",
    "    country_of_recruitment,\n",
    "    additional_ancestry_description,\n",
    "    cohort,\n",
    "    additional_sample_cohort_information\n",
    ") -> sample_df\n",
    "\n"
   ]
  },
  {
   "cell_type": "code",
   "execution_count": 118,
   "id": "federal-secretariat",
   "metadata": {},
   "outputs": [],
   "source": [
    "sample_df %>% \n",
    "rename('#associated_score_name' = 'associated_score_name') %>%\n",
    "fwrite('PGS_sample.tsv', sep='\\t', na = \"NA\", quote=F)\n"
   ]
  },
  {
   "cell_type": "code",
   "execution_count": null,
   "id": "russian-sherman",
   "metadata": {},
   "outputs": [],
   "source": []
  }
 ],
 "metadata": {
  "kernelspec": {
   "display_name": "R",
   "language": "R",
   "name": "ir"
  },
  "language_info": {
   "codemirror_mode": "r",
   "file_extension": ".r",
   "mimetype": "text/x-r-source",
   "name": "R",
   "pygments_lexer": "r",
   "version": "3.6.2"
  }
 },
 "nbformat": 4,
 "nbformat_minor": 5
}

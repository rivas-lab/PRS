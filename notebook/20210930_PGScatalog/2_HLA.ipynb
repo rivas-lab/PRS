{
 "cells": [
  {
   "cell_type": "code",
   "execution_count": 1,
   "id": "needed-knife",
   "metadata": {},
   "outputs": [],
   "source": [
    "suppressWarnings(suppressPackageStartupMessages({\n",
    "    library(tidyverse)\n",
    "    library(data.table)\n",
    "}))\n"
   ]
  },
  {
   "cell_type": "code",
   "execution_count": 2,
   "id": "presidential-probe",
   "metadata": {},
   "outputs": [],
   "source": [
    "source('0_parameters.sh')\n"
   ]
  },
  {
   "cell_type": "code",
   "execution_count": 20,
   "id": "established-paradise",
   "metadata": {},
   "outputs": [],
   "source": [
    "ukb24983_hla_pvar %>%\n",
    "fread(colClasses = c('#CHROM'='character')) %>%\n",
    "rename_with(function(x){str_replace(x, '#', '')}, starts_with(\"#\")) %>%\n",
    "rename('GBE_Var_ID'='ID') %>%\n",
    "separate(\"GBE_Var_ID\", c(\"HLA_gene\", \"HLA_star_allele\"), sep = \"_\", extra='merge', fill='left', remove=F) %>%\n",
    "mutate(\n",
    "    HLA_gene = paste0('HLA-', HLA_gene),\n",
    "    HLA_star_allele = sprintf('*%04d', as.integer(HLA_star_allele)),\n",
    "    PGS_Var_ID = paste0(HLA_gene, HLA_star_allele)\n",
    ") %>%\n",
    "select(CHROM, POS, GBE_Var_ID, PGS_Var_ID, REF, ALT) -> hla_df\n"
   ]
  },
  {
   "cell_type": "code",
   "execution_count": 21,
   "id": "occupied-potter",
   "metadata": {},
   "outputs": [],
   "source": [
    "hla_df %>%\n",
    "rename('#CHROM' = 'CHROM') %>%\n",
    "fwrite('PGS_GBE_HLA_allellotype.tsv', sep='\\t', na = \"NA\", quote=F)\n"
   ]
  },
  {
   "cell_type": "code",
   "execution_count": null,
   "id": "silent-recall",
   "metadata": {},
   "outputs": [],
   "source": []
  }
 ],
 "metadata": {
  "kernelspec": {
   "display_name": "R",
   "language": "R",
   "name": "ir"
  },
  "language_info": {
   "codemirror_mode": "r",
   "file_extension": ".r",
   "mimetype": "text/x-r-source",
   "name": "R",
   "pygments_lexer": "r",
   "version": "3.6.2"
  }
 },
 "nbformat": 4,
 "nbformat_minor": 5
}

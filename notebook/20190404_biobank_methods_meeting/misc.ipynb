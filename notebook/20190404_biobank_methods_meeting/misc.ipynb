{
 "cells": [
  {
   "cell_type": "code",
   "execution_count": 1,
   "metadata": {},
   "outputs": [],
   "source": [
    "%load_ext autoreload\n",
    "%autoreload 1\n",
    "%matplotlib inline"
   ]
  },
  {
   "cell_type": "code",
   "execution_count": 2,
   "metadata": {},
   "outputs": [],
   "source": [
    "import numpy as np\n",
    "import pandas as pd\n",
    "import matplotlib, collections, itertools, os, re, textwrap, logging\n",
    "import matplotlib.pyplot as plt\n",
    "import matplotlib.gridspec as gridspec\n",
    "import matplotlib.patches as mpatches\n",
    "from matplotlib_venn import venn3\n",
    "from functools import reduce\n",
    "\n",
    "matplotlib.rc('font',**{'size':16, 'family':'sans-serif','sans-serif':['HelveticaNeue', 'Helvetica']})\n"
   ]
  },
  {
   "cell_type": "code",
   "execution_count": 10,
   "metadata": {},
   "outputs": [],
   "source": [
    "import sys"
   ]
  },
  {
   "cell_type": "code",
   "execution_count": 36,
   "metadata": {},
   "outputs": [],
   "source": [
    "import re"
   ]
  },
  {
   "cell_type": "code",
   "execution_count": 11,
   "metadata": {},
   "outputs": [],
   "source": [
    "sys.path.append('../../helper/')"
   ]
  },
  {
   "cell_type": "code",
   "execution_count": 12,
   "metadata": {},
   "outputs": [],
   "source": [
    "from rivaslab_PRS_misc import pd_read_csv_usecols_by_key"
   ]
  },
  {
   "cell_type": "code",
   "execution_count": null,
   "metadata": {},
   "outputs": [],
   "source": [
    "class sumstats():\n",
    "    def __init__(self, file_name):\n",
    "        self.file_name = file_name\n",
    "        self.linear = (file_gwas.endswith('glm.linear.gz') or file_gwas.endswith('glm.linear'))\n",
    "        \n",
    "    "
   ]
  },
  {
   "cell_type": "code",
   "execution_count": 80,
   "metadata": {},
   "outputs": [],
   "source": [
    "def read_GWAS(file_gwas):\n",
    "    if file_gwas.endswith('glm.logistic.hybrid.gz'):\n",
    "        BETA_or_OR = 'OR'\n",
    "    elif file_gwas.endswith('glm.linear.gz'):\n",
    "        BETA_or_OR = 'BETA'\n",
    "    else:\n",
    "        BETA_or_OR = None\n",
    "    return pd_read_csv_usecols_by_key(\n",
    "        file_gwas, \n",
    "        cols=['ID', 'P', BETA_or_OR, 'SE', 'REF', 'ALT', 'A1'],\n",
    "        compression='gzip', sep='\\t'\n",
    "    )    \n",
    "\n",
    "def read_clumped(file_clumped):\n",
    "    df = pd_read_csv_usecols_by_key(\n",
    "        file_clumped, \n",
    "        cols=['SNP', 'SP2'],\n",
    "        compression='gzip', sep='\\s+', \n",
    "    )\n",
    "    df['SP2_list'] = df['SP2'].map(\n",
    "        lambda x: [] if x == 'NONE' else \n",
    "        [re.sub('\\(\\d\\)$', '', z) for z in x.split(',')]\n",
    "    )\n",
    "    df['SNPs'] = [\n",
    "        [x[0]] + x[1] for x in zip(\n",
    "            df['SNP'], df['SP2_list']\n",
    "        )\n",
    "    ]    \n",
    "    dict_clumped_SNPs_to_tag_SNPs = dict(\n",
    "        itertools.chain.from_iterable(\n",
    "            [zip(x[1], [x[0]] * len(x[1])) \n",
    "             for x in zip(df['SNP'], df['SNPs'])]\n",
    "        )\n",
    "    )\n",
    "    return(dict_clumped_SNPs_to_tag_SNPs)\n",
    "    "
   ]
  },
  {
   "cell_type": "code",
   "execution_count": 3,
   "metadata": {},
   "outputs": [],
   "source": [
    "file_gwas = '../../private_output/vanilla_PRS/HC_20190302/2_GWAS/ukb16698_v2.HC276.PHENO1.glm.logistic.hybrid.gz'\n"
   ]
  },
  {
   "cell_type": "code",
   "execution_count": 78,
   "metadata": {},
   "outputs": [
    {
     "data": {
      "text/plain": [
       "True"
      ]
     },
     "execution_count": 78,
     "metadata": {},
     "output_type": "execute_result"
    }
   ],
   "source": []
  },
  {
   "cell_type": "code",
   "execution_count": 70,
   "metadata": {},
   "outputs": [],
   "source": [
    "file_clumped = '../../private_output/vanilla_PRS/HC_20190302/3_clump/1e-3/ukb16698_v2.HC276.PHENO1.glm.logistic.hybrid.clumped.gz'\n",
    "\n"
   ]
  },
  {
   "cell_type": "code",
   "execution_count": 75,
   "metadata": {},
   "outputs": [],
   "source": [
    "file_snpnet = '../../private_output/snpnet_PRS/HC_20190303/3_snpnet/HC276.tsv.gz'"
   ]
  },
  {
   "cell_type": "code",
   "execution_count": 81,
   "metadata": {},
   "outputs": [],
   "source": [
    "df_gwas = read_GWAS(file_gwas)"
   ]
  },
  {
   "cell_type": "code",
   "execution_count": 83,
   "metadata": {},
   "outputs": [
    {
     "data": {
      "text/plain": [
       "(778731, 7)"
      ]
     },
     "execution_count": 83,
     "metadata": {},
     "output_type": "execute_result"
    }
   ],
   "source": [
    "df_gwas.shape"
   ]
  },
  {
   "cell_type": "code",
   "execution_count": 84,
   "metadata": {},
   "outputs": [
    {
     "data": {
      "text/plain": [
       "(778731, 7)"
      ]
     },
     "execution_count": 84,
     "metadata": {},
     "output_type": "execute_result"
    }
   ],
   "source": [
    "df_gwas.dropna().shape"
   ]
  },
  {
   "cell_type": "code",
   "execution_count": 73,
   "metadata": {},
   "outputs": [],
   "source": [
    "dict_clumped = read_clumped(file_clumped)"
   ]
  },
  {
   "cell_type": "code",
   "execution_count": 76,
   "metadata": {},
   "outputs": [],
   "source": [
    "df_snpnet = pd.read_csv(file_snpnet, sep='\\t', compression='gzip')"
   ]
  },
  {
   "cell_type": "code",
   "execution_count": 77,
   "metadata": {},
   "outputs": [
    {
     "data": {
      "text/html": [
       "<div>\n",
       "<style scoped>\n",
       "    .dataframe tbody tr th:only-of-type {\n",
       "        vertical-align: middle;\n",
       "    }\n",
       "\n",
       "    .dataframe tbody tr th {\n",
       "        vertical-align: top;\n",
       "    }\n",
       "\n",
       "    .dataframe thead th {\n",
       "        text-align: right;\n",
       "    }\n",
       "</style>\n",
       "<table border=\"1\" class=\"dataframe\">\n",
       "  <thead>\n",
       "    <tr style=\"text-align: right;\">\n",
       "      <th></th>\n",
       "      <th>#CHROM</th>\n",
       "      <th>POS</th>\n",
       "      <th>ID</th>\n",
       "      <th>REF</th>\n",
       "      <th>ALT</th>\n",
       "      <th>A1</th>\n",
       "      <th>BETA</th>\n",
       "    </tr>\n",
       "  </thead>\n",
       "  <tbody>\n",
       "    <tr>\n",
       "      <th>0</th>\n",
       "      <td>1</td>\n",
       "      <td>2338126</td>\n",
       "      <td>rs3795269</td>\n",
       "      <td>C</td>\n",
       "      <td>A</td>\n",
       "      <td>A</td>\n",
       "      <td>0.000000</td>\n",
       "    </tr>\n",
       "    <tr>\n",
       "      <th>1</th>\n",
       "      <td>1</td>\n",
       "      <td>2416357</td>\n",
       "      <td>rs4648639</td>\n",
       "      <td>A</td>\n",
       "      <td>G</td>\n",
       "      <td>G</td>\n",
       "      <td>0.002009</td>\n",
       "    </tr>\n",
       "    <tr>\n",
       "      <th>2</th>\n",
       "      <td>1</td>\n",
       "      <td>2443655</td>\n",
       "      <td>rs733307</td>\n",
       "      <td>G</td>\n",
       "      <td>A</td>\n",
       "      <td>A</td>\n",
       "      <td>0.000000</td>\n",
       "    </tr>\n",
       "    <tr>\n",
       "      <th>3</th>\n",
       "      <td>1</td>\n",
       "      <td>3038623</td>\n",
       "      <td>rs2742672</td>\n",
       "      <td>A</td>\n",
       "      <td>G</td>\n",
       "      <td>G</td>\n",
       "      <td>0.000000</td>\n",
       "    </tr>\n",
       "    <tr>\n",
       "      <th>4</th>\n",
       "      <td>1</td>\n",
       "      <td>3168462</td>\n",
       "      <td>rs12143201</td>\n",
       "      <td>T</td>\n",
       "      <td>C</td>\n",
       "      <td>C</td>\n",
       "      <td>0.000000</td>\n",
       "    </tr>\n",
       "  </tbody>\n",
       "</table>\n",
       "</div>"
      ],
      "text/plain": [
       "   #CHROM      POS          ID REF ALT A1      BETA\n",
       "0       1  2338126   rs3795269   C   A  A  0.000000\n",
       "1       1  2416357   rs4648639   A   G  G  0.002009\n",
       "2       1  2443655    rs733307   G   A  A  0.000000\n",
       "3       1  3038623   rs2742672   A   G  G  0.000000\n",
       "4       1  3168462  rs12143201   T   C  C  0.000000"
      ]
     },
     "execution_count": 77,
     "metadata": {},
     "output_type": "execute_result"
    }
   ],
   "source": [
    "df_snpnet.head()"
   ]
  },
  {
   "cell_type": "code",
   "execution_count": null,
   "metadata": {},
   "outputs": [],
   "source": []
  },
  {
   "cell_type": "code",
   "execution_count": 31,
   "metadata": {},
   "outputs": [],
   "source": [
    "df = pd.read_csv(\n",
    "    file_clump, \n",
    "    compression='gzip', sep='\\s+', nrows=10\n",
    ")"
   ]
  },
  {
   "cell_type": "code",
   "execution_count": 38,
   "metadata": {},
   "outputs": [
    {
     "data": {
      "text/plain": [
       "'snp'"
      ]
     },
     "execution_count": 38,
     "metadata": {},
     "output_type": "execute_result"
    }
   ],
   "source": [
    "re.sub('\\(1\\)', '', 'snp(1)')"
   ]
  },
  {
   "cell_type": "code",
   "execution_count": 41,
   "metadata": {},
   "outputs": [],
   "source": [
    "df['SP2_list'] = df['SP2'].map(\n",
    "    lambda x: [] if x == 'NONE' else \n",
    "    [re.sub('\\(\\d\\)$', '', z) for z in x.split(',')]\n",
    ")\n",
    "\n"
   ]
  },
  {
   "cell_type": "code",
   "execution_count": 42,
   "metadata": {},
   "outputs": [],
   "source": [
    "df['SNPs'] = [\n",
    "    [x[0]] + x[1] for x in zip(\n",
    "        df['SNP'], df['SP2_list']\n",
    "    )\n",
    "]"
   ]
  },
  {
   "cell_type": "code",
   "execution_count": 44,
   "metadata": {},
   "outputs": [
    {
     "data": {
      "text/html": [
       "<div>\n",
       "<style scoped>\n",
       "    .dataframe tbody tr th:only-of-type {\n",
       "        vertical-align: middle;\n",
       "    }\n",
       "\n",
       "    .dataframe tbody tr th {\n",
       "        vertical-align: top;\n",
       "    }\n",
       "\n",
       "    .dataframe thead th {\n",
       "        text-align: right;\n",
       "    }\n",
       "</style>\n",
       "<table border=\"1\" class=\"dataframe\">\n",
       "  <thead>\n",
       "    <tr style=\"text-align: right;\">\n",
       "      <th></th>\n",
       "      <th>SNP</th>\n",
       "      <th>SP2_list</th>\n",
       "      <th>SNPs</th>\n",
       "    </tr>\n",
       "  </thead>\n",
       "  <tbody>\n",
       "    <tr>\n",
       "      <th>0</th>\n",
       "      <td>rs4656461</td>\n",
       "      <td>[rs7555523]</td>\n",
       "      <td>[rs4656461, rs7555523]</td>\n",
       "    </tr>\n",
       "    <tr>\n",
       "      <th>1</th>\n",
       "      <td>rs7865618</td>\n",
       "      <td>[rs1063192, rs573687, rs523096, rs10965215, rs...</td>\n",
       "      <td>[rs7865618, rs1063192, rs573687, rs523096, rs1...</td>\n",
       "    </tr>\n",
       "    <tr>\n",
       "      <th>2</th>\n",
       "      <td>rs4552460</td>\n",
       "      <td>[rs28503942]</td>\n",
       "      <td>[rs4552460, rs28503942]</td>\n",
       "    </tr>\n",
       "    <tr>\n",
       "      <th>3</th>\n",
       "      <td>rs3217992</td>\n",
       "      <td>[]</td>\n",
       "      <td>[rs3217992]</td>\n",
       "    </tr>\n",
       "    <tr>\n",
       "      <th>4</th>\n",
       "      <td>rs6811851</td>\n",
       "      <td>[]</td>\n",
       "      <td>[rs6811851]</td>\n",
       "    </tr>\n",
       "    <tr>\n",
       "      <th>5</th>\n",
       "      <td>rs12150284</td>\n",
       "      <td>[rs9893168, rs9914258]</td>\n",
       "      <td>[rs12150284, rs9893168, rs9914258]</td>\n",
       "    </tr>\n",
       "    <tr>\n",
       "      <th>6</th>\n",
       "      <td>rs6475606</td>\n",
       "      <td>[rs1333040, rs10757272, rs10757274, rs4977574,...</td>\n",
       "      <td>[rs6475606, rs1333040, rs10757272, rs10757274,...</td>\n",
       "    </tr>\n",
       "    <tr>\n",
       "      <th>7</th>\n",
       "      <td>rs2437819</td>\n",
       "      <td>[rs1890883]</td>\n",
       "      <td>[rs2437819, rs1890883]</td>\n",
       "    </tr>\n",
       "    <tr>\n",
       "      <th>8</th>\n",
       "      <td>rs33912345</td>\n",
       "      <td>[rs1254282, rs10483727, rs17834412]</td>\n",
       "      <td>[rs33912345, rs1254282, rs10483727, rs17834412]</td>\n",
       "    </tr>\n",
       "    <tr>\n",
       "      <th>9</th>\n",
       "      <td>rs72760779</td>\n",
       "      <td>[rs55795058]</td>\n",
       "      <td>[rs72760779, rs55795058]</td>\n",
       "    </tr>\n",
       "  </tbody>\n",
       "</table>\n",
       "</div>"
      ],
      "text/plain": [
       "          SNP                                           SP2_list  \\\n",
       "0   rs4656461                                        [rs7555523]   \n",
       "1   rs7865618  [rs1063192, rs573687, rs523096, rs10965215, rs...   \n",
       "2   rs4552460                                       [rs28503942]   \n",
       "3   rs3217992                                                 []   \n",
       "4   rs6811851                                                 []   \n",
       "5  rs12150284                             [rs9893168, rs9914258]   \n",
       "6   rs6475606  [rs1333040, rs10757272, rs10757274, rs4977574,...   \n",
       "7   rs2437819                                        [rs1890883]   \n",
       "8  rs33912345                [rs1254282, rs10483727, rs17834412]   \n",
       "9  rs72760779                                       [rs55795058]   \n",
       "\n",
       "                                                SNPs  \n",
       "0                             [rs4656461, rs7555523]  \n",
       "1  [rs7865618, rs1063192, rs573687, rs523096, rs1...  \n",
       "2                            [rs4552460, rs28503942]  \n",
       "3                                        [rs3217992]  \n",
       "4                                        [rs6811851]  \n",
       "5                 [rs12150284, rs9893168, rs9914258]  \n",
       "6  [rs6475606, rs1333040, rs10757272, rs10757274,...  \n",
       "7                             [rs2437819, rs1890883]  \n",
       "8    [rs33912345, rs1254282, rs10483727, rs17834412]  \n",
       "9                           [rs72760779, rs55795058]  "
      ]
     },
     "execution_count": 44,
     "metadata": {},
     "output_type": "execute_result"
    }
   ],
   "source": [
    "df[['SNP', 'SP2_list', 'SNPs']]"
   ]
  },
  {
   "cell_type": "code",
   "execution_count": 64,
   "metadata": {},
   "outputs": [],
   "source": [
    "d = dict(\n",
    "    itertools.chain.from_iterable(\n",
    "        [zip(x[1], [x[0]] * len(x[1])) \n",
    "         for x in zip(df['SNP'], df['SNPs'])]\n",
    "    )\n",
    ")"
   ]
  },
  {
   "cell_type": "code",
   "execution_count": 67,
   "metadata": {},
   "outputs": [
    {
     "data": {
      "text/plain": [
       "10"
      ]
     },
     "execution_count": 67,
     "metadata": {},
     "output_type": "execute_result"
    }
   ],
   "source": [
    "len(set(d.values()))"
   ]
  },
  {
   "cell_type": "code",
   "execution_count": null,
   "metadata": {},
   "outputs": [],
   "source": [
    "file_gwas <-   '../../private_output/vanilla_PRS/HC_20190302/2_GWAS/ukb16698_v2.HC276.PHENO1.glm.logistic.hybrid.gz'\n",
    "file_clump <-  '../../private_output/vanilla_PRS/HC_20190302/3 4_clumped_GWAS/1e-3/ukb16698_v2.HC276.PHENO1.glm.logistic.hybrid.gz'\n",
    "\n"
   ]
  }
 ],
 "metadata": {
  "kernelspec": {
   "display_name": "Python 3",
   "language": "python",
   "name": "python3"
  },
  "language_info": {
   "codemirror_mode": {
    "name": "ipython",
    "version": 3
   },
   "file_extension": ".py",
   "mimetype": "text/x-python",
   "name": "python",
   "nbconvert_exporter": "python",
   "pygments_lexer": "ipython3",
   "version": "3.7.1"
  }
 },
 "nbformat": 4,
 "nbformat_minor": 2
}

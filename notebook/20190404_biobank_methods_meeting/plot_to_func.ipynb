{
 "cells": [
  {
   "cell_type": "code",
   "execution_count": 1,
   "metadata": {},
   "outputs": [
    {
     "name": "stderr",
     "output_type": "stream",
     "text": [
      "── Attaching packages ─────────────────────────────────────── tidyverse 1.2.1 ──\n",
      "✔ ggplot2 2.2.1     ✔ purrr   0.2.4\n",
      "✔ tibble  1.4.2     ✔ dplyr   0.7.4\n",
      "✔ tidyr   0.7.2     ✔ stringr 1.2.0\n",
      "✔ readr   1.1.1     ✔ forcats 0.2.0\n",
      "── Conflicts ────────────────────────────────────────── tidyverse_conflicts() ──\n",
      "✖ dplyr::filter() masks stats::filter()\n",
      "✖ dplyr::lag()    masks stats::lag()\n",
      "\n",
      "Attaching package: ‘data.table’\n",
      "\n",
      "The following objects are masked from ‘package:dplyr’:\n",
      "\n",
      "    between, first, last\n",
      "\n",
      "The following object is masked from ‘package:purrr’:\n",
      "\n",
      "    transpose\n",
      "\n",
      "Loading required package: grid\n",
      "Loading required package: futile.logger\n"
     ]
    }
   ],
   "source": [
    "library(tidyverse)\n",
    "library(data.table)\n",
    "library(VennDiagram)"
   ]
  },
  {
   "cell_type": "code",
   "execution_count": 4,
   "metadata": {},
   "outputs": [],
   "source": [
    "read_snpnet <- function(file){\n",
    "    df <- fread(\n",
    "        paste0('zcat <', file, ' | sed -e \"s/^#//g\"'), \n",
    "        data.table=FALSE\n",
    "    ) %>%\n",
    "    filter(BETA != 0)\n",
    "    return(df)\n",
    "}\n",
    "\n",
    "read_plink <- function(file){\n",
    "    df <- fread(\n",
    "        paste0('zcat <', file, ' | sed -e \"s/^#//g\"'), \n",
    "        data.table=FALSE\n",
    "    ) \n",
    "    return(df)\n",
    "}\n",
    "\n",
    "get_IDs <- function(df){\n",
    "    return(as.list(df %>% select(ID))$ID)\n",
    "}\n",
    "\n",
    "get_basename_logit <- function(GBE_ID, app_id = 24983){\n",
    "    return(paste0('ukb', app_id, '_v2.', GBE_ID, '.PHENO1.glm.logistic.hybrid.gz'))\n",
    "}\n",
    "\n",
    "get_basename_linear <- function(GBE_ID, app_id = 24983){\n",
    "    return(paste0('ukb', app_id, '_v2.', GBE_ID, '.PHENO1.glm.linear.gz'))\n",
    "}\n",
    "\n",
    "get_vanilla_PRS\n"
   ]
  },
  {
   "cell_type": "code",
   "execution_count": 3,
   "metadata": {},
   "outputs": [],
   "source": [
    "data_dir <- file.path('..', 'private_output', )"
   ]
  },
  {
   "cell_type": "code",
   "execution_count": null,
   "metadata": {},
   "outputs": [],
   "source": [
    "file_gwas <-   file.path(data_dir, 'vanilla_PRS', )/HC_20190302/2_GWAS/ukb16698_v2.HC276.PHENO1.glm.logistic.hybrid.gz'\n",
    "file_clump <-  '../private_output/vanilla_PRS/HC_20190302/4_clumped_GWAS/1e-3/ukb16698_v2.HC276.PHENO1.glm.logistic.hybrid.gz'\n",
    "file_snpnet <- '../private_output/snpnet_PRS/HC_20190303/3_snpnet/HC276.tsv.gz'\n"
   ]
  },
  {
   "cell_type": "code",
   "execution_count": null,
   "metadata": {},
   "outputs": [],
   "source": [
    "file_gwas <-   '../private_output/vanilla_PRS/HC_20190302/2_GWAS/ukb16698_v2.HC276.PHENO1.glm.logistic.hybrid.gz'\n",
    "file_clump <-  '../private_output/vanilla_PRS/HC_20190302/4_clumped_GWAS/1e-3/ukb16698_v2.HC276.PHENO1.glm.logistic.hybrid.gz'\n",
    "file_snpnet <- '../private_output/snpnet_PRS/HC_20190303/3_snpnet/HC276.tsv.gz'\n"
   ]
  }
 ],
 "metadata": {
  "kernelspec": {
   "display_name": "R",
   "language": "R",
   "name": "ir"
  },
  "language_info": {
   "codemirror_mode": "r",
   "file_extension": ".r",
   "mimetype": "text/x-r-source",
   "name": "R",
   "pygments_lexer": "r",
   "version": "3.4.2"
  }
 },
 "nbformat": 4,
 "nbformat_minor": 2
}

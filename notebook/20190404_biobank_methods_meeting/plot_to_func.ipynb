{
 "cells": [
  {
   "cell_type": "code",
   "execution_count": 1,
   "metadata": {},
   "outputs": [
    {
     "ename": "ERROR",
     "evalue": "Error: package or namespace load failed for ‘tidyverse’ in dyn.load(file, DLLpath = DLLpath, ...):\n unable to load shared object '/home/users/ytanigaw/R/x86_64-pc-linux-gnu-library/3.5/stringi/libs/stringi.so':\n  libicui18n.so.59: cannot open shared object file: No such file or directory\n",
     "execution_count": 1,
     "output_type": "error",
     "traceback": [
      "Error: package or namespace load failed for ‘tidyverse’ in dyn.load(file, DLLpath = DLLpath, ...):\n unable to load shared object '/home/users/ytanigaw/R/x86_64-pc-linux-gnu-library/3.5/stringi/libs/stringi.so':\n  libicui18n.so.59: cannot open shared object file: No such file or directory\nTraceback:\n",
      "1. library(tidyverse)",
      "2. tryCatch({\n .     attr(package, \"LibPath\") <- which.lib.loc\n .     ns <- loadNamespace(package, lib.loc)\n .     env <- attachNamespace(ns, pos = pos, deps)\n . }, error = function(e) {\n .     P <- if (!is.null(cc <- conditionCall(e))) \n .         paste(\" in\", deparse(cc)[1L])\n .     else \"\"\n .     msg <- gettextf(\"package or namespace load failed for %s%s:\\n %s\", \n .         sQuote(package), P, conditionMessage(e))\n .     if (logical.return) \n .         message(paste(\"Error:\", msg), domain = NA)\n .     else stop(msg, call. = FALSE, domain = NA)\n . })",
      "3. tryCatchList(expr, classes, parentenv, handlers)",
      "4. tryCatchOne(expr, names, parentenv, handlers[[1L]])",
      "5. value[[3L]](cond)",
      "6. stop(msg, call. = FALSE, domain = NA)"
     ]
    }
   ],
   "source": [
    "library(tidyverse)\n",
    "library(data.table)\n",
    "library(VennDiagram)"
   ]
  },
  {
   "cell_type": "code",
   "execution_count": 4,
   "metadata": {},
   "outputs": [],
   "source": [
    "read_snpnet <- function(file){\n",
    "    df <- fread(\n",
    "        paste0('zcat <', file, ' | sed -e \"s/^#//g\"'), \n",
    "        data.table=FALSE\n",
    "    ) %>%\n",
    "    filter(BETA != 0)\n",
    "    return(df)\n",
    "}\n",
    "\n",
    "read_plink <- function(file){\n",
    "    df <- fread(\n",
    "        paste0('zcat <', file, ' | sed -e \"s/^#//g\"'), \n",
    "        data.table=FALSE\n",
    "    ) \n",
    "    return(df)\n",
    "}\n",
    "\n",
    "get_IDs <- function(df){\n",
    "    return(as.list(df %>% select(ID))$ID)\n",
    "}\n",
    "\n",
    "get_basename_logit <- function(GBE_ID, app_id = 24983){\n",
    "    return(paste0('ukb', app_id, '_v2.', GBE_ID, '.PHENO1.glm.logistic.hybrid.gz'))\n",
    "}\n",
    "\n",
    "get_basename_linear <- function(GBE_ID, app_id = 24983){\n",
    "    return(paste0('ukb', app_id, '_v2.', GBE_ID, '.PHENO1.glm.linear.gz'))\n",
    "}\n",
    "\n",
    "get_vanilla_PRS\n"
   ]
  },
  {
   "cell_type": "code",
   "execution_count": 3,
   "metadata": {},
   "outputs": [],
   "source": [
    "data_dir <- file.path('..', 'private_output', )"
   ]
  },
  {
   "cell_type": "code",
   "execution_count": null,
   "metadata": {},
   "outputs": [],
   "source": [
    "file_gwas <-   file.path(data_dir, 'vanilla_PRS', )/HC_20190302/2_GWAS/ukb16698_v2.HC276.PHENO1.glm.logistic.hybrid.gz'\n",
    "file_clump <-  '../private_output/vanilla_PRS/HC_20190302/4_clumped_GWAS/1e-3/ukb16698_v2.HC276.PHENO1.glm.logistic.hybrid.gz'\n",
    "file_snpnet <- '../private_output/snpnet_PRS/HC_20190303/3_snpnet/HC276.tsv.gz'\n"
   ]
  },
  {
   "cell_type": "code",
   "execution_count": null,
   "metadata": {},
   "outputs": [],
   "source": [
    "file_gwas <-   '../private_output/vanilla_PRS/HC_20190302/2_GWAS/ukb16698_v2.HC276.PHENO1.glm.logistic.hybrid.gz'\n",
    "file_clump <-  '../private_output/vanilla_PRS/HC_20190302/4_clumped_GWAS/1e-3/ukb16698_v2.HC276.PHENO1.glm.logistic.hybrid.gz'\n",
    "file_snpnet <- '../private_output/snpnet_PRS/HC_20190303/3_snpnet/HC276.tsv.gz'\n"
   ]
  }
 ],
 "metadata": {
  "kernelspec": {
   "display_name": "R",
   "language": "R",
   "name": "ir"
  },
  "language_info": {
   "codemirror_mode": "r",
   "file_extension": ".r",
   "mimetype": "text/x-r-source",
   "name": "R",
   "pygments_lexer": "r",
   "version": "3.5.1"
  }
 },
 "nbformat": 4,
 "nbformat_minor": 2
}

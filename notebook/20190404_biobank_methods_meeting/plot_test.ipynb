{
 "cells": [
  {
   "cell_type": "code",
   "execution_count": 1,
   "metadata": {},
   "outputs": [
    {
     "name": "stderr",
     "output_type": "stream",
     "text": [
      "── Attaching packages ─────────────────────────────────────── tidyverse 1.2.1 ──\n",
      "✔ ggplot2 2.2.1     ✔ purrr   0.2.4\n",
      "✔ tibble  1.4.2     ✔ dplyr   0.7.4\n",
      "✔ tidyr   0.7.2     ✔ stringr 1.2.0\n",
      "✔ readr   1.1.1     ✔ forcats 0.2.0\n",
      "── Conflicts ────────────────────────────────────────── tidyverse_conflicts() ──\n",
      "✖ dplyr::filter() masks stats::filter()\n",
      "✖ dplyr::lag()    masks stats::lag()\n",
      "\n",
      "Attaching package: ‘data.table’\n",
      "\n",
      "The following objects are masked from ‘package:dplyr’:\n",
      "\n",
      "    between, first, last\n",
      "\n",
      "The following object is masked from ‘package:purrr’:\n",
      "\n",
      "    transpose\n",
      "\n"
     ]
    }
   ],
   "source": [
    "library(tidyverse)\n",
    "library(data.table)"
   ]
  },
  {
   "cell_type": "code",
   "execution_count": 29,
   "metadata": {},
   "outputs": [
    {
     "name": "stderr",
     "output_type": "stream",
     "text": [
      "Loading required package: grid\n",
      "Loading required package: futile.logger\n"
     ]
    }
   ],
   "source": [
    "library(VennDiagram)"
   ]
  },
  {
   "cell_type": "code",
   "execution_count": 2,
   "metadata": {},
   "outputs": [],
   "source": [
    "file_gwas <-   '../private_output/vanilla_PRS/HC_20190302/2_GWAS/ukb16698_v2.HC276.PHENO1.glm.logistic.hybrid.gz'\n",
    "file_clump <-  '../private_output/vanilla_PRS/HC_20190302/4_clumped_GWAS/1e-3/ukb16698_v2.HC276.PHENO1.glm.logistic.hybrid.gz'\n",
    "file_snpnet <- '../private_output/snpnet_PRS/HC_20190303/3_snpnet/HC276.tsv.gz'\n"
   ]
  },
  {
   "cell_type": "code",
   "execution_count": 33,
   "metadata": {},
   "outputs": [],
   "source": [
    "GWAS_Bonferroni <- 0.05 / 784256"
   ]
  },
  {
   "cell_type": "code",
   "execution_count": 24,
   "metadata": {},
   "outputs": [],
   "source": [
    "read_snpnet <- function(file){\n",
    "    df <- fread(\n",
    "        paste0('zcat <', file, ' | sed -e \"s/^#//g\"'), \n",
    "        data.table=FALSE\n",
    "    ) %>%\n",
    "    filter(BETA != 0)\n",
    "    return(df)\n",
    "}"
   ]
  },
  {
   "cell_type": "code",
   "execution_count": 20,
   "metadata": {},
   "outputs": [],
   "source": [
    "read_plink <- function(file){\n",
    "    df <- fread(\n",
    "        paste0('zcat <', file, ' | sed -e \"s/^#//g\"'), \n",
    "        data.table=FALSE\n",
    "    ) \n",
    "    return(df)\n",
    "}"
   ]
  },
  {
   "cell_type": "code",
   "execution_count": 52,
   "metadata": {},
   "outputs": [],
   "source": [
    "get_IDs <- function(df){\n",
    "    return(as.list(df %>% select(ID))$ID)\n",
    "}"
   ]
  },
  {
   "cell_type": "code",
   "execution_count": null,
   "metadata": {},
   "outputs": [],
   "source": []
  },
  {
   "cell_type": "code",
   "execution_count": 55,
   "metadata": {},
   "outputs": [],
   "source": [
    "df_gwas <- read_plink(file_gwas)"
   ]
  },
  {
   "cell_type": "code",
   "execution_count": 35,
   "metadata": {},
   "outputs": [],
   "source": [
    "df_clump <- read_plink(file_clump)"
   ]
  },
  {
   "cell_type": "code",
   "execution_count": 102,
   "metadata": {},
   "outputs": [
    {
     "data": {
      "text/html": [
       "<table>\n",
       "<thead><tr><th scope=col>CHROM</th><th scope=col>POS</th><th scope=col>ID</th><th scope=col>REF</th><th scope=col>ALT</th><th scope=col>A1</th><th scope=col>FIRTH?</th><th scope=col>TEST</th><th scope=col>OBS_CT</th><th scope=col>OR</th><th scope=col>SE</th><th scope=col>Z_STAT</th><th scope=col>P</th></tr></thead>\n",
       "<tbody>\n",
       "\t<tr><td>1          </td><td> 1115461   </td><td>rs116383664</td><td>T          </td><td>C          </td><td>T          </td><td>N          </td><td>ADD        </td><td>259332     </td><td>2.141050   </td><td>0.2242320  </td><td> 3.39512   </td><td>0.000685993</td></tr>\n",
       "\t<tr><td>1          </td><td> 1337334   </td><td>rs1171     </td><td>T          </td><td>G          </td><td>T          </td><td>N          </td><td>ADD        </td><td>269549     </td><td>0.882804   </td><td>0.0345877  </td><td>-3.60394   </td><td>0.000313424</td></tr>\n",
       "\t<tr><td>1          </td><td> 5643543   </td><td>rs61762122 </td><td>A          </td><td>G          </td><td>A          </td><td>N          </td><td>ADD        </td><td>268882     </td><td>0.897106   </td><td>0.0295289  </td><td>-3.67711   </td><td>0.000235891</td></tr>\n",
       "\t<tr><td>1          </td><td> 5645443   </td><td>rs4845804  </td><td>A          </td><td>G          </td><td>A          </td><td>N          </td><td>ADD        </td><td>246525     </td><td>0.928359   </td><td>0.0224432  </td><td>-3.31222   </td><td>0.000925576</td></tr>\n",
       "\t<tr><td>1          </td><td>11253684   </td><td>rs28991009 </td><td>T          </td><td>G          </td><td>T          </td><td>N          </td><td>ADD        </td><td>269394     </td><td>0.594745   </td><td>0.1487170  </td><td>-3.49404   </td><td>0.000475774</td></tr>\n",
       "\t<tr><td>1          </td><td>14978743   </td><td>rs12568088 </td><td>A          </td><td>G          </td><td>A          </td><td>N          </td><td>ADD        </td><td>269289     </td><td>1.080400   </td><td>0.0233246  </td><td> 3.31554   </td><td>0.000914649</td></tr>\n",
       "</tbody>\n",
       "</table>\n"
      ],
      "text/latex": [
       "\\begin{tabular}{r|lllllllllllll}\n",
       " CHROM & POS & ID & REF & ALT & A1 & FIRTH? & TEST & OBS\\_CT & OR & SE & Z\\_STAT & P\\\\\n",
       "\\hline\n",
       "\t 1           &  1115461    & rs116383664 & T           & C           & T           & N           & ADD         & 259332      & 2.141050    & 0.2242320   &  3.39512    & 0.000685993\\\\\n",
       "\t 1           &  1337334    & rs1171      & T           & G           & T           & N           & ADD         & 269549      & 0.882804    & 0.0345877   & -3.60394    & 0.000313424\\\\\n",
       "\t 1           &  5643543    & rs61762122  & A           & G           & A           & N           & ADD         & 268882      & 0.897106    & 0.0295289   & -3.67711    & 0.000235891\\\\\n",
       "\t 1           &  5645443    & rs4845804   & A           & G           & A           & N           & ADD         & 246525      & 0.928359    & 0.0224432   & -3.31222    & 0.000925576\\\\\n",
       "\t 1           & 11253684    & rs28991009  & T           & G           & T           & N           & ADD         & 269394      & 0.594745    & 0.1487170   & -3.49404    & 0.000475774\\\\\n",
       "\t 1           & 14978743    & rs12568088  & A           & G           & A           & N           & ADD         & 269289      & 1.080400    & 0.0233246   &  3.31554    & 0.000914649\\\\\n",
       "\\end{tabular}\n"
      ],
      "text/markdown": [
       "\n",
       "CHROM | POS | ID | REF | ALT | A1 | FIRTH? | TEST | OBS_CT | OR | SE | Z_STAT | P | \n",
       "|---|---|---|---|---|---|\n",
       "| 1           |  1115461    | rs116383664 | T           | C           | T           | N           | ADD         | 259332      | 2.141050    | 0.2242320   |  3.39512    | 0.000685993 | \n",
       "| 1           |  1337334    | rs1171      | T           | G           | T           | N           | ADD         | 269549      | 0.882804    | 0.0345877   | -3.60394    | 0.000313424 | \n",
       "| 1           |  5643543    | rs61762122  | A           | G           | A           | N           | ADD         | 268882      | 0.897106    | 0.0295289   | -3.67711    | 0.000235891 | \n",
       "| 1           |  5645443    | rs4845804   | A           | G           | A           | N           | ADD         | 246525      | 0.928359    | 0.0224432   | -3.31222    | 0.000925576 | \n",
       "| 1           | 11253684    | rs28991009  | T           | G           | T           | N           | ADD         | 269394      | 0.594745    | 0.1487170   | -3.49404    | 0.000475774 | \n",
       "| 1           | 14978743    | rs12568088  | A           | G           | A           | N           | ADD         | 269289      | 1.080400    | 0.0233246   |  3.31554    | 0.000914649 | \n",
       "\n",
       "\n"
      ],
      "text/plain": [
       "  CHROM POS      ID          REF ALT A1 FIRTH? TEST OBS_CT OR       SE       \n",
       "1 1      1115461 rs116383664 T   C   T  N      ADD  259332 2.141050 0.2242320\n",
       "2 1      1337334 rs1171      T   G   T  N      ADD  269549 0.882804 0.0345877\n",
       "3 1      5643543 rs61762122  A   G   A  N      ADD  268882 0.897106 0.0295289\n",
       "4 1      5645443 rs4845804   A   G   A  N      ADD  246525 0.928359 0.0224432\n",
       "5 1     11253684 rs28991009  T   G   T  N      ADD  269394 0.594745 0.1487170\n",
       "6 1     14978743 rs12568088  A   G   A  N      ADD  269289 1.080400 0.0233246\n",
       "  Z_STAT   P          \n",
       "1  3.39512 0.000685993\n",
       "2 -3.60394 0.000313424\n",
       "3 -3.67711 0.000235891\n",
       "4 -3.31222 0.000925576\n",
       "5 -3.49404 0.000475774\n",
       "6  3.31554 0.000914649"
      ]
     },
     "metadata": {},
     "output_type": "display_data"
    }
   ],
   "source": [
    "df_clump %>% head()"
   ]
  },
  {
   "cell_type": "code",
   "execution_count": 36,
   "metadata": {},
   "outputs": [],
   "source": [
    "df_snpnet <- read_snpnet(file_snpnet)"
   ]
  },
  {
   "cell_type": "code",
   "execution_count": 38,
   "metadata": {},
   "outputs": [
    {
     "data": {
      "text/html": [
       "<ol class=list-inline>\n",
       "\t<li>1100</li>\n",
       "\t<li>13</li>\n",
       "</ol>\n"
      ],
      "text/latex": [
       "\\begin{enumerate*}\n",
       "\\item 1100\n",
       "\\item 13\n",
       "\\end{enumerate*}\n"
      ],
      "text/markdown": [
       "1. 1100\n",
       "2. 13\n",
       "\n",
       "\n"
      ],
      "text/plain": [
       "[1] 1100   13"
      ]
     },
     "metadata": {},
     "output_type": "display_data"
    }
   ],
   "source": [
    "df_clump %>% dim()"
   ]
  },
  {
   "cell_type": "code",
   "execution_count": 37,
   "metadata": {},
   "outputs": [
    {
     "data": {
      "text/html": [
       "<ol class=list-inline>\n",
       "\t<li>40</li>\n",
       "\t<li>13</li>\n",
       "</ol>\n"
      ],
      "text/latex": [
       "\\begin{enumerate*}\n",
       "\\item 40\n",
       "\\item 13\n",
       "\\end{enumerate*}\n"
      ],
      "text/markdown": [
       "1. 40\n",
       "2. 13\n",
       "\n",
       "\n"
      ],
      "text/plain": [
       "[1] 40 13"
      ]
     },
     "metadata": {},
     "output_type": "display_data"
    }
   ],
   "source": [
    "df_gwas %>% dim()"
   ]
  },
  {
   "cell_type": "code",
   "execution_count": 39,
   "metadata": {},
   "outputs": [
    {
     "data": {
      "text/html": [
       "<ol class=list-inline>\n",
       "\t<li>982</li>\n",
       "\t<li>7</li>\n",
       "</ol>\n"
      ],
      "text/latex": [
       "\\begin{enumerate*}\n",
       "\\item 982\n",
       "\\item 7\n",
       "\\end{enumerate*}\n"
      ],
      "text/markdown": [
       "1. 982\n",
       "2. 7\n",
       "\n",
       "\n"
      ],
      "text/plain": [
       "[1] 982   7"
      ]
     },
     "metadata": {},
     "output_type": "display_data"
    }
   ],
   "source": [
    "df_snpnet %>% dim()"
   ]
  },
  {
   "cell_type": "code",
   "execution_count": 63,
   "metadata": {},
   "outputs": [
    {
     "data": {
      "text/html": [
       "1"
      ],
      "text/latex": [
       "1"
      ],
      "text/markdown": [
       "1"
      ],
      "text/plain": [
       "[1] 1"
      ]
     },
     "metadata": {},
     "output_type": "display_data"
    }
   ],
   "source": [
    "venn.diagram(\n",
    "    x = list(\n",
    "        df_snpnet %>% get_IDs(), \n",
    "        df_gwas %>% filter(P <= GWAS_Bonferroni) %>%  get_IDs(), \n",
    "        df_clump %>% get_IDs()\n",
    "    ),\n",
    "    category.names = c(\"snpnet\" , \"GWAS\" , \"LD clumping\"),\n",
    "    filename = 'test.png',\n",
    "    output = TRUE ,\n",
    "    imagetype=\"png\" ,\n",
    "    height = 480 , \n",
    "    width = 480 , \n",
    "    resolution = 300,\n",
    "    compression = \"lzw\",\n",
    "    lwd = 2,\n",
    "    lty = 'blank',\n",
    "    fill = c('yellow', 'purple', 'green'),\n",
    "    cex = 1,\n",
    "    fontface = \"bold\",\n",
    "    fontfamily = \"sans\",\n",
    "    cat.cex = 0.6,\n",
    "    cat.fontface = \"bold\",\n",
    "    cat.default.pos = \"outer\",\n",
    "    cat.pos = c(-27, 27, 135),\n",
    "    cat.dist = c(0.055, 0.055, 0.085),\n",
    "    cat.fontfamily = \"sans\",\n",
    "    rotation = 1\n",
    ")"
   ]
  },
  {
   "cell_type": "code",
   "execution_count": 62,
   "metadata": {},
   "outputs": [
    {
     "data": {
      "text/html": [
       "<dl>\n",
       "\t<dt>$a5</dt>\n",
       "\t\t<dd>10</dd>\n",
       "\t<dt>$a2</dt>\n",
       "\t\t<dd>4</dd>\n",
       "\t<dt>$a4</dt>\n",
       "\t\t<dd>80</dd>\n",
       "\t<dt>$a6</dt>\n",
       "\t\t<dd>8</dd>\n",
       "\t<dt>$a1</dt>\n",
       "\t\t<dd>888</dd>\n",
       "\t<dt>$a3</dt>\n",
       "\t\t<dd>18</dd>\n",
       "\t<dt>$a7</dt>\n",
       "\t\t<dd>1002</dd>\n",
       "</dl>\n"
      ],
      "text/latex": [
       "\\begin{description}\n",
       "\\item[\\$a5] 10\n",
       "\\item[\\$a2] 4\n",
       "\\item[\\$a4] 80\n",
       "\\item[\\$a6] 8\n",
       "\\item[\\$a1] 888\n",
       "\\item[\\$a3] 18\n",
       "\\item[\\$a7] 1002\n",
       "\\end{description}\n"
      ],
      "text/markdown": [
       "$a5\n",
       ":   10\n",
       "$a2\n",
       ":   4\n",
       "$a4\n",
       ":   80\n",
       "$a6\n",
       ":   8\n",
       "$a1\n",
       ":   888\n",
       "$a3\n",
       ":   18\n",
       "$a7\n",
       ":   1002\n",
       "\n",
       "\n"
      ],
      "text/plain": [
       "$a5\n",
       "[1] 10\n",
       "\n",
       "$a2\n",
       "[1] 4\n",
       "\n",
       "$a4\n",
       "[1] 80\n",
       "\n",
       "$a6\n",
       "[1] 8\n",
       "\n",
       "$a1\n",
       "[1] 888\n",
       "\n",
       "$a3\n",
       "[1] 18\n",
       "\n",
       "$a7\n",
       "[1] 1002\n"
      ]
     },
     "metadata": {},
     "output_type": "display_data"
    }
   ],
   "source": [
    "calculate.overlap(\n",
    "    list(\n",
    "        df_snpnet %>% get_IDs(), \n",
    "        df_gwas %>% filter(P <= GWAS_Bonferroni) %>%  get_IDs(), \n",
    "        df_clump %>% get_IDs()        \n",
    "    )\n",
    ") %>% lapply(length)"
   ]
  },
  {
   "cell_type": "code",
   "execution_count": 78,
   "metadata": {},
   "outputs": [
    {
     "data": {
      "text/html": [
       "1"
      ],
      "text/latex": [
       "1"
      ],
      "text/markdown": [
       "1"
      ],
      "text/plain": [
       "[1] 1"
      ]
     },
     "metadata": {},
     "output_type": "display_data"
    }
   ],
   "source": [
    "venn.diagram(\n",
    "    x = list(\n",
    "        df_snpnet %>% get_IDs(), \n",
    "        df_gwas %>% filter(P <= GWAS_Bonferroni) %>%  get_IDs(), \n",
    "        df_clump %>% get_IDs()\n",
    "    ),\n",
    "    category.names = c(\"snpnet\" , \"GWAS\" , \"LD clumping\"),\n",
    "    filename = 'foo.png',\n",
    "    output = TRUE ,\n",
    "    imagetype=\"png\" ,\n",
    "    height = 480 , \n",
    "    width = 480 , \n",
    "    resolution = 300,\n",
    "    compression = \"lzw\",\n",
    "    lwd = 2,\n",
    "    lty = 'blank',\n",
    "    fill = c('yellow', 'purple', 'green'),\n",
    "    cex = 1,\n",
    "    fontface = \"bold\",\n",
    "    fontfamily = \"sans\",\n",
    "    cat.cex = 0.6,\n",
    "    cat.fontface = \"bold\",\n",
    "    cat.default.pos = \"outer\",\n",
    "    cat.pos = c(-27, 27, 135),\n",
    "    cat.dist = c(0.055, 0.055, 0.085),\n",
    "    cat.fontfamily = \"sans\",\n",
    "    rotation = 1,\n",
    "    area.vector = c(\n",
    "        0,0,0,0,0,0,0\n",
    "    )    \n",
    ")\n"
   ]
  },
  {
   "cell_type": "code",
   "execution_count": 100,
   "metadata": {},
   "outputs": [],
   "source": [
    "sA <- df_snpnet %>% get_IDs()\n",
    "sB <- df_gwas %>% filter(P <= GWAS_Bonferroni) %>%  get_IDs()\n",
    "sC <- df_clump %>% get_IDs()        \n",
    "sAB <- intersect(sA, sB)\n",
    "sAC <- intersect(sA, sC)\n",
    "sBC <- intersect(sB, sC)\n",
    "sABC <- intersect(sAB, sC)\n",
    "nA <- length(sA) - length(sAB) - length(sAC) + length(sABC)\n",
    "nB <- length(sB) - length(sAB) - length(sBC) + length(sABC)\n",
    "nC <- length(sC) - length(sBC) - length(sAC) + length(sABC)\n",
    "nAB <- length(sAB) - length(sABC)\n",
    "nBC <- length(sBC) - length(sABC)\n",
    "nAC <- length(sAC) - length(sABC)\n",
    "nABC <- length(sABC)"
   ]
  },
  {
   "cell_type": "code",
   "execution_count": 101,
   "metadata": {},
   "outputs": [
    {
     "name": "stdout",
     "output_type": "stream",
     "text": [
      "[1]  888   18 1002    4    8   80   10\n"
     ]
    }
   ],
   "source": [
    "print(c(nA, nB, nC, nAB, nBC, nAC, nABC))"
   ]
  },
  {
   "cell_type": "code",
   "execution_count": 66,
   "metadata": {},
   "outputs": [
    {
     "data": {
      "text/html": [
       "14"
      ],
      "text/latex": [
       "14"
      ],
      "text/markdown": [
       "14"
      ],
      "text/plain": [
       "[1] 14"
      ]
     },
     "metadata": {},
     "output_type": "display_data"
    }
   ],
   "source": [
    "intersect(\n",
    "    df_snpnet %>% get_IDs(), \n",
    "    df_gwas %>% filter(P <= GWAS_Bonferroni) %>%  get_IDs()   \n",
    ") %>% length()"
   ]
  },
  {
   "cell_type": "code",
   "execution_count": 70,
   "metadata": {},
   "outputs": [
    {
     "data": {
      "text/html": [
       "10"
      ],
      "text/latex": [
       "10"
      ],
      "text/markdown": [
       "10"
      ],
      "text/plain": [
       "[1] 10"
      ]
     },
     "metadata": {},
     "output_type": "display_data"
    }
   ],
   "source": [
    "intersect(\n",
    "    intersect(\n",
    "        df_snpnet %>% get_IDs(), \n",
    "        df_gwas %>% filter(P <= GWAS_Bonferroni) %>%  get_IDs()   \n",
    "    ),    \n",
    "    df_clump %>% get_IDs()        \n",
    ") %>% length()"
   ]
  },
  {
   "cell_type": "code",
   "execution_count": null,
   "metadata": {},
   "outputs": [],
   "source": []
  }
 ],
 "metadata": {
  "kernelspec": {
   "display_name": "R",
   "language": "R",
   "name": "ir"
  },
  "language_info": {
   "codemirror_mode": "r",
   "file_extension": ".r",
   "mimetype": "text/x-r-source",
   "name": "R",
   "pygments_lexer": "r",
   "version": "3.5.1"
  }
 },
 "nbformat": 4,
 "nbformat_minor": 2
}

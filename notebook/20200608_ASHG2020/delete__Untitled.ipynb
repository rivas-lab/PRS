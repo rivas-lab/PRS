{
 "cells": [
  {
   "cell_type": "code",
   "execution_count": 1,
   "metadata": {},
   "outputs": [],
   "source": [
    "suppressWarnings(suppressPackageStartupMessages({\n",
    "    library(tidyverse)\n",
    "    library(data.table)\n",
    "}))\n"
   ]
  },
  {
   "cell_type": "code",
   "execution_count": 34,
   "metadata": {},
   "outputs": [],
   "source": [
    "# input\n",
    "data_d <- '/oak/stanford/groups/mrivas/projects/PRS/private_output/20200528-batch'\n",
    "phe_f  <- '/oak/stanford/groups/mrivas/ukbb24983/phenotypedata/master_phe/master.20200522.phe'\n",
    "\n",
    "# constants\n",
    "covars <- c('age', 'sex', paste0('PC', 1:10))\n",
    "\n",
    "# output\n",
    "out_f <- 'snpnet-weighted.eval.tsv'"
   ]
  },
  {
   "cell_type": "code",
   "execution_count": 19,
   "metadata": {},
   "outputs": [],
   "source": [
    "read_PRS <- function(GBE_ID, data_dir=data_d){\n",
    "    sscore_f <- file.path(data_dir, GBE_ID, sprintf('%s.sscore.zst', GBE_ID))\n",
    "    \n",
    "    fread(\n",
    "        cmd=paste('zstdcat', sscore_f),\n",
    "        select=c('#FID', 'IID', 'SCORE1_SUM'),\n",
    "        colClasses=c('#FID'='character', 'IID'='character')\n",
    "    ) %>%\n",
    "    rename('FID'='#FID', 'geno_score'='SCORE1_SUM')\n",
    "}\n"
   ]
  },
  {
   "cell_type": "code",
   "execution_count": 20,
   "metadata": {},
   "outputs": [],
   "source": [
    "read_covars <- function(GBE_ID, data_dir=data_d){\n",
    "    file.path(data_dir, GBE_ID, 'snpnet.covars.tsv') %>%\n",
    "    fread(colClasses=c('ID'='character')) %>%\n",
    "    column_to_rownames('ID')\n",
    "}\n"
   ]
  },
  {
   "cell_type": "code",
   "execution_count": 21,
   "metadata": {},
   "outputs": [],
   "source": [
    "read_BETAs <- function(GBE_ID, data_dir=data_d){\n",
    "    file.path(data_dir, GBE_ID, 'snpnet.tsv') %>%\n",
    "    fread(colClasses=c('ID'='character'))\n",
    "}\n"
   ]
  },
  {
   "cell_type": "code",
   "execution_count": 43,
   "metadata": {},
   "outputs": [],
   "source": [
    "read_predicted_scores <- function(phe_df, GBE_ID, covariates=covars){\n",
    "    covar_df <- read_covars(GBE_ID)\n",
    "    as.matrix(\n",
    "        phe_df %>% select(all_of(covariates))\n",
    "    ) %*% as.matrix(covar_df) %>%\n",
    "    as.data.frame() %>%\n",
    "    rownames_to_column('ID') %>%\n",
    "    separate(ID, c('FID', 'IID'), sep='_') %>% \n",
    "    rename('covar_score'='BETA') %>%\n",
    "    left_join(\n",
    "        phe_df %>% select(FID, IID, split, all_of(GBE_ID)),\n",
    "        by=c('FID', 'IID')\n",
    "    ) %>%\n",
    "    left_join(\n",
    "        read_PRS(GBE_ID),\n",
    "        by=c('FID', 'IID')\n",
    "    ) %>%\n",
    "    mutate(\n",
    "        geno_covar_score = geno_score + covar_score\n",
    "    )\n",
    "}\n"
   ]
  },
  {
   "cell_type": "code",
   "execution_count": 29,
   "metadata": {},
   "outputs": [],
   "source": [
    "perform_eval <- function(response, pred, metric.type){\n",
    "    if(metric.type == 'r2'){\n",
    "        summary(lm(response ~ 1 + pred))$r.squared\n",
    "    }else{\n",
    "#         pROC::auc(pROC::roc(response, pred))        \n",
    "        pred.obj <- ROCR::prediction(pred, factor(response - 1))\n",
    "        auc.obj <- ROCR::performance(pred.obj, measure = 'auc')\n",
    "        auc.obj@y.values[[1]]\n",
    "    }\n",
    "}"
   ]
  },
  {
   "cell_type": "code",
   "execution_count": 57,
   "metadata": {},
   "outputs": [],
   "source": [
    "build_eval_df_line <- function(phe_df, GBE_ID, split_string, metric.type){\n",
    "    score_test_df <- phe_df %>%\n",
    "    read_predicted_scores(GBE_ID) %>%\n",
    "    filter(split == split_string) %>%\n",
    "    drop_na(all_of(GBE_ID)) %>%\n",
    "    filter(GBE_ID != -9)\n",
    "\n",
    "    data.frame(\n",
    "        GBE_ID     = GBE_ID,\n",
    "        n_variables = read_BETAs(GBE_ID) %>% nrow(),\n",
    "        geno       = perform_eval(\n",
    "            score_test_df[[GBE_ID]],\n",
    "            score_test_df$geno_score,\n",
    "            metric.type\n",
    "        ),\n",
    "        covar      = perform_eval(\n",
    "            score_test_df[[GBE_ID]],\n",
    "            score_test_df$covar_score,\n",
    "            metric.type\n",
    "        ),\n",
    "        geno_covar = perform_eval(\n",
    "            score_test_df[[GBE_ID]],\n",
    "            score_test_df$geno_covar_score,\n",
    "            metric.type\n",
    "        ),\n",
    "        stringsAsFactors = F\n",
    "    )    \n",
    "}\n"
   ]
  },
  {
   "cell_type": "code",
   "execution_count": 65,
   "metadata": {},
   "outputs": [],
   "source": [
    "build_eval_df <- function(phe_df, GBE_ID, split_strings){\n",
    "    lapply(split_strings, function(s){tryCatch({ \n",
    "        build_eval_df_line(phe_df, GBE_ID, s, 'auc') %>% mutate(split = s)\n",
    "    }, error=function(e){})}) %>%\n",
    "    bind_rows() %>%\n",
    "    mutate(\n",
    "        covar      = if_else(str_detect(split, 'white_british'), covar, 0),\n",
    "        geno_covar = if_else(str_detect(split, 'white_british'), geno_covar, 0)\n",
    "    )  %>%\n",
    "    mutate(\n",
    "        covar = na_if(covar, 0),\n",
    "        geno_covar = na_if(geno_covar, 0),\n",
    "        geno_delta = geno_covar - covar\n",
    "    ) %>%\n",
    "    select(GBE_ID, n_variables, split, geno, covar, geno_covar, geno_delta)\n",
    "}\n"
   ]
  },
  {
   "cell_type": "code",
   "execution_count": null,
   "metadata": {},
   "outputs": [],
   "source": []
  },
  {
   "cell_type": "code",
   "execution_count": 12,
   "metadata": {},
   "outputs": [],
   "source": [
    "GBE_ID <- 'HC1'"
   ]
  },
  {
   "cell_type": "code",
   "execution_count": 16,
   "metadata": {},
   "outputs": [],
   "source": [
    "phe_df <- fread(\n",
    "    phe_f,\n",
    "    colClasses=c('#FID'='character', 'IID'='character'),\n",
    "    select=c('#FID','IID','split', 'population', GBE_ID, covars)\n",
    ") %>%\n",
    "rename('FID'='#FID') %>%\n",
    "drop_na(population) %>%\n",
    "filter(!str_detect(population, 'outlier')) %>%\n",
    "mutate(\n",
    "    split = if_else(is.na(split), population, paste(population, split, sep=':'))\n",
    ") %>%\n",
    "mutate(ID = paste(FID, IID, sep='_')) %>%\n",
    "column_to_rownames('ID')\n"
   ]
  },
  {
   "cell_type": "code",
   "execution_count": 17,
   "metadata": {},
   "outputs": [
    {
     "data": {
      "text/html": [
       "<table>\n",
       "<caption>A tibble: 8 × 2</caption>\n",
       "<thead>\n",
       "\t<tr><th scope=col>split</th><th scope=col>n</th></tr>\n",
       "\t<tr><th scope=col>&lt;chr&gt;</th><th scope=col>&lt;int&gt;</th></tr>\n",
       "</thead>\n",
       "<tbody>\n",
       "\t<tr><td>african            </td><td>  6497</td></tr>\n",
       "\t<tr><td>e_asian            </td><td>  1154</td></tr>\n",
       "\t<tr><td>non_british_white  </td><td> 24905</td></tr>\n",
       "\t<tr><td>others             </td><td> 28467</td></tr>\n",
       "\t<tr><td>s_asian            </td><td>  7885</td></tr>\n",
       "\t<tr><td>white_british:test </td><td> 67427</td></tr>\n",
       "\t<tr><td>white_british:train</td><td>235997</td></tr>\n",
       "\t<tr><td>white_british:val  </td><td> 33714</td></tr>\n",
       "</tbody>\n",
       "</table>\n"
      ],
      "text/latex": [
       "A tibble: 8 × 2\n",
       "\\begin{tabular}{ll}\n",
       " split & n\\\\\n",
       " <chr> & <int>\\\\\n",
       "\\hline\n",
       "\t african             &   6497\\\\\n",
       "\t e\\_asian             &   1154\\\\\n",
       "\t non\\_british\\_white   &  24905\\\\\n",
       "\t others              &  28467\\\\\n",
       "\t s\\_asian             &   7885\\\\\n",
       "\t white\\_british:test  &  67427\\\\\n",
       "\t white\\_british:train & 235997\\\\\n",
       "\t white\\_british:val   &  33714\\\\\n",
       "\\end{tabular}\n"
      ],
      "text/markdown": [
       "\n",
       "A tibble: 8 × 2\n",
       "\n",
       "| split &lt;chr&gt; | n &lt;int&gt; |\n",
       "|---|---|\n",
       "| african             |   6497 |\n",
       "| e_asian             |   1154 |\n",
       "| non_british_white   |  24905 |\n",
       "| others              |  28467 |\n",
       "| s_asian             |   7885 |\n",
       "| white_british:test  |  67427 |\n",
       "| white_british:train | 235997 |\n",
       "| white_british:val   |  33714 |\n",
       "\n"
      ],
      "text/plain": [
       "  split               n     \n",
       "1 african               6497\n",
       "2 e_asian               1154\n",
       "3 non_british_white    24905\n",
       "4 others               28467\n",
       "5 s_asian               7885\n",
       "6 white_british:test   67427\n",
       "7 white_british:train 235997\n",
       "8 white_british:val    33714"
      ]
     },
     "metadata": {},
     "output_type": "display_data"
    }
   ],
   "source": [
    "phe_df %>% count(split)"
   ]
  },
  {
   "cell_type": "code",
   "execution_count": 59,
   "metadata": {},
   "outputs": [],
   "source": [
    "split_strings <- phe_df %>%\n",
    "pull(split) %>%\n",
    "unique() %>%\n",
    "sort()\n"
   ]
  },
  {
   "cell_type": "code",
   "execution_count": 61,
   "metadata": {},
   "outputs": [
    {
     "data": {
      "text/html": [
       "<style>\n",
       ".list-inline {list-style: none; margin:0; padding: 0}\n",
       ".list-inline>li {display: inline-block}\n",
       ".list-inline>li:not(:last-child)::after {content: \"\\00b7\"; padding: 0 .5ex}\n",
       "</style>\n",
       "<ol class=list-inline><li>'african'</li><li>'e_asian'</li><li>'non_british_white'</li><li>'others'</li><li>'s_asian'</li><li>'white_british:test'</li><li>'white_british:train'</li><li>'white_british:val'</li></ol>\n"
      ],
      "text/latex": [
       "\\begin{enumerate*}\n",
       "\\item 'african'\n",
       "\\item 'e\\_asian'\n",
       "\\item 'non\\_british\\_white'\n",
       "\\item 'others'\n",
       "\\item 's\\_asian'\n",
       "\\item 'white\\_british:test'\n",
       "\\item 'white\\_british:train'\n",
       "\\item 'white\\_british:val'\n",
       "\\end{enumerate*}\n"
      ],
      "text/markdown": [
       "1. 'african'\n",
       "2. 'e_asian'\n",
       "3. 'non_british_white'\n",
       "4. 'others'\n",
       "5. 's_asian'\n",
       "6. 'white_british:test'\n",
       "7. 'white_british:train'\n",
       "8. 'white_british:val'\n",
       "\n",
       "\n"
      ],
      "text/plain": [
       "[1] \"african\"             \"e_asian\"             \"non_british_white\"  \n",
       "[4] \"others\"              \"s_asian\"             \"white_british:test\" \n",
       "[7] \"white_british:train\" \"white_british:val\"  "
      ]
     },
     "metadata": {},
     "output_type": "display_data"
    }
   ],
   "source": [
    "split_strings"
   ]
  },
  {
   "cell_type": "code",
   "execution_count": 66,
   "metadata": {},
   "outputs": [
    {
     "data": {
      "text/html": [
       "<table>\n",
       "<caption>A data.frame: 7 × 7</caption>\n",
       "<thead>\n",
       "\t<tr><th scope=col>GBE_ID</th><th scope=col>n_variables</th><th scope=col>split</th><th scope=col>geno</th><th scope=col>covar</th><th scope=col>geno_covar</th><th scope=col>geno_delta</th></tr>\n",
       "\t<tr><th scope=col>&lt;chr&gt;</th><th scope=col>&lt;int&gt;</th><th scope=col>&lt;chr&gt;</th><th scope=col>&lt;dbl&gt;</th><th scope=col>&lt;dbl&gt;</th><th scope=col>&lt;dbl&gt;</th><th scope=col>&lt;dbl&gt;</th></tr>\n",
       "</thead>\n",
       "<tbody>\n",
       "\t<tr><td>HC1</td><td>1</td><td>african            </td><td>0.4950328</td><td>       NA</td><td>       NA</td><td>NA</td></tr>\n",
       "\t<tr><td>HC1</td><td>1</td><td>e_asian            </td><td>0.3308631</td><td>       NA</td><td>       NA</td><td>NA</td></tr>\n",
       "\t<tr><td>HC1</td><td>1</td><td>non_british_white  </td><td>0.5076179</td><td>       NA</td><td>       NA</td><td>NA</td></tr>\n",
       "\t<tr><td>HC1</td><td>1</td><td>s_asian            </td><td>0.4888557</td><td>       NA</td><td>       NA</td><td>NA</td></tr>\n",
       "\t<tr><td>HC1</td><td>1</td><td>white_british:test </td><td>0.5031645</td><td>0.6030854</td><td>0.6030854</td><td> 0</td></tr>\n",
       "\t<tr><td>HC1</td><td>1</td><td>white_british:train</td><td>0.5146609</td><td>0.6145205</td><td>0.6145205</td><td> 0</td></tr>\n",
       "\t<tr><td>HC1</td><td>1</td><td>white_british:val  </td><td>0.4990828</td><td>0.6215128</td><td>0.6215128</td><td> 0</td></tr>\n",
       "</tbody>\n",
       "</table>\n"
      ],
      "text/latex": [
       "A data.frame: 7 × 7\n",
       "\\begin{tabular}{lllllll}\n",
       " GBE\\_ID & n\\_variables & split & geno & covar & geno\\_covar & geno\\_delta\\\\\n",
       " <chr> & <int> & <chr> & <dbl> & <dbl> & <dbl> & <dbl>\\\\\n",
       "\\hline\n",
       "\t HC1 & 1 & african             & 0.4950328 &        NA &        NA & NA\\\\\n",
       "\t HC1 & 1 & e\\_asian             & 0.3308631 &        NA &        NA & NA\\\\\n",
       "\t HC1 & 1 & non\\_british\\_white   & 0.5076179 &        NA &        NA & NA\\\\\n",
       "\t HC1 & 1 & s\\_asian             & 0.4888557 &        NA &        NA & NA\\\\\n",
       "\t HC1 & 1 & white\\_british:test  & 0.5031645 & 0.6030854 & 0.6030854 &  0\\\\\n",
       "\t HC1 & 1 & white\\_british:train & 0.5146609 & 0.6145205 & 0.6145205 &  0\\\\\n",
       "\t HC1 & 1 & white\\_british:val   & 0.4990828 & 0.6215128 & 0.6215128 &  0\\\\\n",
       "\\end{tabular}\n"
      ],
      "text/markdown": [
       "\n",
       "A data.frame: 7 × 7\n",
       "\n",
       "| GBE_ID &lt;chr&gt; | n_variables &lt;int&gt; | split &lt;chr&gt; | geno &lt;dbl&gt; | covar &lt;dbl&gt; | geno_covar &lt;dbl&gt; | geno_delta &lt;dbl&gt; |\n",
       "|---|---|---|---|---|---|---|\n",
       "| HC1 | 1 | african             | 0.4950328 |        NA |        NA | NA |\n",
       "| HC1 | 1 | e_asian             | 0.3308631 |        NA |        NA | NA |\n",
       "| HC1 | 1 | non_british_white   | 0.5076179 |        NA |        NA | NA |\n",
       "| HC1 | 1 | s_asian             | 0.4888557 |        NA |        NA | NA |\n",
       "| HC1 | 1 | white_british:test  | 0.5031645 | 0.6030854 | 0.6030854 |  0 |\n",
       "| HC1 | 1 | white_british:train | 0.5146609 | 0.6145205 | 0.6145205 |  0 |\n",
       "| HC1 | 1 | white_british:val   | 0.4990828 | 0.6215128 | 0.6215128 |  0 |\n",
       "\n"
      ],
      "text/plain": [
       "  GBE_ID n_variables split               geno      covar     geno_covar\n",
       "1 HC1    1           african             0.4950328        NA        NA \n",
       "2 HC1    1           e_asian             0.3308631        NA        NA \n",
       "3 HC1    1           non_british_white   0.5076179        NA        NA \n",
       "4 HC1    1           s_asian             0.4888557        NA        NA \n",
       "5 HC1    1           white_british:test  0.5031645 0.6030854 0.6030854 \n",
       "6 HC1    1           white_british:train 0.5146609 0.6145205 0.6145205 \n",
       "7 HC1    1           white_british:val   0.4990828 0.6215128 0.6215128 \n",
       "  geno_delta\n",
       "1 NA        \n",
       "2 NA        \n",
       "3 NA        \n",
       "4 NA        \n",
       "5  0        \n",
       "6  0        \n",
       "7  0        "
      ]
     },
     "metadata": {},
     "output_type": "display_data"
    }
   ],
   "source": [
    "build_eval_df(phe_df, GBE_ID, split_strings)"
   ]
  },
  {
   "cell_type": "code",
   "execution_count": null,
   "metadata": {},
   "outputs": [],
   "source": []
  }
 ],
 "metadata": {
  "kernelspec": {
   "display_name": "R",
   "language": "R",
   "name": "ir"
  },
  "language_info": {
   "codemirror_mode": "r",
   "file_extension": ".r",
   "mimetype": "text/x-r-source",
   "name": "R",
   "pygments_lexer": "r",
   "version": "3.6.1"
  }
 },
 "nbformat": 4,
 "nbformat_minor": 4
}

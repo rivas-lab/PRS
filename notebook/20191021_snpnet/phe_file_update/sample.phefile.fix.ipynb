{
 "cells": [
  {
   "cell_type": "code",
   "execution_count": 1,
   "metadata": {},
   "outputs": [
    {
     "name": "stderr",
     "output_type": "stream",
     "text": [
      "Loading required package: tidyverse\n",
      "── \u001b[1mAttaching packages\u001b[22m ─────────────────────────────────────── tidyverse 1.2.1 ──\n",
      "\u001b[32m✔\u001b[39m \u001b[34mggplot2\u001b[39m 3.2.1     \u001b[32m✔\u001b[39m \u001b[34mpurrr  \u001b[39m 0.3.2\n",
      "\u001b[32m✔\u001b[39m \u001b[34mtibble \u001b[39m 2.1.3     \u001b[32m✔\u001b[39m \u001b[34mdplyr  \u001b[39m 0.8.3\n",
      "\u001b[32m✔\u001b[39m \u001b[34mtidyr  \u001b[39m 1.0.0     \u001b[32m✔\u001b[39m \u001b[34mstringr\u001b[39m 1.4.0\n",
      "\u001b[32m✔\u001b[39m \u001b[34mreadr  \u001b[39m 1.3.1     \u001b[32m✔\u001b[39m \u001b[34mforcats\u001b[39m 0.4.0\n",
      "── \u001b[1mConflicts\u001b[22m ────────────────────────────────────────── tidyverse_conflicts() ──\n",
      "\u001b[31m✖\u001b[39m \u001b[34mdplyr\u001b[39m::\u001b[32mfilter()\u001b[39m masks \u001b[34mstats\u001b[39m::filter()\n",
      "\u001b[31m✖\u001b[39m \u001b[34mdplyr\u001b[39m::\u001b[32mlag()\u001b[39m    masks \u001b[34mstats\u001b[39m::lag()\n",
      "Loading required package: data.table\n",
      "\n",
      "Attaching package: ‘data.table’\n",
      "\n",
      "The following objects are masked from ‘package:dplyr’:\n",
      "\n",
      "    between, first, last\n",
      "\n",
      "The following object is masked from ‘package:purrr’:\n",
      "\n",
      "    transpose\n",
      "\n"
     ]
    }
   ],
   "source": [
    "require(tidyverse)\n",
    "require(data.table)\n"
   ]
  },
  {
   "cell_type": "code",
   "execution_count": 2,
   "metadata": {},
   "outputs": [],
   "source": [
    "phe_f   <- '/oak/stanford/groups/mrivas/projects/snpnet/sample_data/sample_phe.phe'\n",
    "train_f <- '/oak/stanford/groups/mrivas/projects/snpnet/sample_data/train.psam'\n",
    "val_f   <- '/oak/stanford/groups/mrivas/projects/snpnet/sample_data/val.psam'\n",
    "all_f   <- '/oak/stanford/groups/mrivas/projects/snpnet/sample_data/all.psam'"
   ]
  },
  {
   "cell_type": "code",
   "execution_count": 6,
   "metadata": {},
   "outputs": [],
   "source": [
    "phe_df <- fread(phe_f)\n",
    "train_df <- fread(train_f) %>% rename('FID' = '#FID')\n",
    "val_df   <- fread(val_f)   %>% rename('FID' = '#FID')\n",
    "all_df   <- fread(all_f)   %>% rename('FID' = '#FID')\n"
   ]
  },
  {
   "cell_type": "code",
   "execution_count": 11,
   "metadata": {},
   "outputs": [],
   "source": [
    "phe_df %>% \n",
    "select(-split) %>%\n",
    "left_join(\n",
    "    bind_rows(\n",
    "        train_df %>% select(FID, IID) %>% mutate(split = 'train'),\n",
    "        val_df   %>% select(FID, IID) %>% mutate(split = 'val')        \n",
    "    ), \n",
    "    by=c('FID', 'IID')\n",
    ") %>%\n",
    "fwrite('/oak/stanford/groups/mrivas/projects/snpnet/sample_data/sample.phe')"
   ]
  },
  {
   "cell_type": "code",
   "execution_count": 8,
   "metadata": {},
   "outputs": [
    {
     "data": {
      "text/html": [
       "<table>\n",
       "<caption>A data.table: 6 × 4</caption>\n",
       "<thead>\n",
       "\t<tr><th scope=col>FID</th><th scope=col>IID</th><th scope=col>SEX</th><th scope=col>PHENO1</th></tr>\n",
       "\t<tr><th scope=col>&lt;chr&gt;</th><th scope=col>&lt;chr&gt;</th><th scope=col>&lt;int&gt;</th><th scope=col>&lt;dbl&gt;</th></tr>\n",
       "</thead>\n",
       "<tbody>\n",
       "\t<tr><td>per0</td><td>per0</td><td>2</td><td>-0.832928</td></tr>\n",
       "\t<tr><td>per1</td><td>per1</td><td>2</td><td>-1.013160</td></tr>\n",
       "\t<tr><td>per2</td><td>per2</td><td>2</td><td> 1.051990</td></tr>\n",
       "\t<tr><td>per3</td><td>per3</td><td>2</td><td>-1.460000</td></tr>\n",
       "\t<tr><td>per5</td><td>per5</td><td>2</td><td>-0.152931</td></tr>\n",
       "\t<tr><td>per6</td><td>per6</td><td>2</td><td> 0.225121</td></tr>\n",
       "</tbody>\n",
       "</table>\n"
      ],
      "text/latex": [
       "A data.table: 6 × 4\n",
       "\\begin{tabular}{r|llll}\n",
       " FID & IID & SEX & PHENO1\\\\\n",
       " <chr> & <chr> & <int> & <dbl>\\\\\n",
       "\\hline\n",
       "\t per0 & per0 & 2 & -0.832928\\\\\n",
       "\t per1 & per1 & 2 & -1.013160\\\\\n",
       "\t per2 & per2 & 2 &  1.051990\\\\\n",
       "\t per3 & per3 & 2 & -1.460000\\\\\n",
       "\t per5 & per5 & 2 & -0.152931\\\\\n",
       "\t per6 & per6 & 2 &  0.225121\\\\\n",
       "\\end{tabular}\n"
      ],
      "text/markdown": [
       "\n",
       "A data.table: 6 × 4\n",
       "\n",
       "| FID &lt;chr&gt; | IID &lt;chr&gt; | SEX &lt;int&gt; | PHENO1 &lt;dbl&gt; |\n",
       "|---|---|---|---|\n",
       "| per0 | per0 | 2 | -0.832928 |\n",
       "| per1 | per1 | 2 | -1.013160 |\n",
       "| per2 | per2 | 2 |  1.051990 |\n",
       "| per3 | per3 | 2 | -1.460000 |\n",
       "| per5 | per5 | 2 | -0.152931 |\n",
       "| per6 | per6 | 2 |  0.225121 |\n",
       "\n"
      ],
      "text/plain": [
       "  FID  IID  SEX PHENO1   \n",
       "1 per0 per0 2   -0.832928\n",
       "2 per1 per1 2   -1.013160\n",
       "3 per2 per2 2    1.051990\n",
       "4 per3 per3 2   -1.460000\n",
       "5 per5 per5 2   -0.152931\n",
       "6 per6 per6 2    0.225121"
      ]
     },
     "metadata": {},
     "output_type": "display_data"
    }
   ],
   "source": [
    "train_df %>% head()"
   ]
  },
  {
   "cell_type": "code",
   "execution_count": 6,
   "metadata": {},
   "outputs": [
    {
     "data": {
      "text/html": [
       "<table>\n",
       "<caption>A tibble: 2 × 2</caption>\n",
       "<thead>\n",
       "\t<tr><th scope=col>split</th><th scope=col>n</th></tr>\n",
       "\t<tr><th scope=col>&lt;chr&gt;</th><th scope=col>&lt;int&gt;</th></tr>\n",
       "</thead>\n",
       "<tbody>\n",
       "\t<tr><td>train</td><td>1600</td></tr>\n",
       "\t<tr><td>val  </td><td> 400</td></tr>\n",
       "</tbody>\n",
       "</table>\n"
      ],
      "text/latex": [
       "A tibble: 2 × 2\n",
       "\\begin{tabular}{r|ll}\n",
       " split & n\\\\\n",
       " <chr> & <int>\\\\\n",
       "\\hline\n",
       "\t train & 1600\\\\\n",
       "\t val   &  400\\\\\n",
       "\\end{tabular}\n"
      ],
      "text/markdown": [
       "\n",
       "A tibble: 2 × 2\n",
       "\n",
       "| split &lt;chr&gt; | n &lt;int&gt; |\n",
       "|---|---|\n",
       "| train | 1600 |\n",
       "| val   |  400 |\n",
       "\n"
      ],
      "text/plain": [
       "  split n   \n",
       "1 train 1600\n",
       "2 val    400"
      ]
     },
     "metadata": {},
     "output_type": "display_data"
    }
   ],
   "source": [
    "phe_df %>% count(split)"
   ]
  },
  {
   "cell_type": "code",
   "execution_count": 7,
   "metadata": {},
   "outputs": [
    {
     "data": {
      "text/html": [
       "1600"
      ],
      "text/latex": [
       "1600"
      ],
      "text/markdown": [
       "1600"
      ],
      "text/plain": [
       "[1] 1600"
      ]
     },
     "metadata": {},
     "output_type": "display_data"
    }
   ],
   "source": [
    "length(which(phe_df$split == 'train'))"
   ]
  },
  {
   "cell_type": "code",
   "execution_count": 9,
   "metadata": {},
   "outputs": [],
   "source": [
    "read_IDs_from_psam <- function(psam){\n",
    "    df <- data.table::fread(psam) %>%\n",
    "    dplyr::rename('FID' = '#FID') %>%\n",
    "    dplyr::mutate(ID = paste(FID, IID, sep='_'))\n",
    "    df$ID\n",
    "}"
   ]
  },
  {
   "cell_type": "code",
   "execution_count": 19,
   "metadata": {},
   "outputs": [],
   "source": [
    "all<-read_IDs_from_psam(all_f)"
   ]
  },
  {
   "cell_type": "code",
   "execution_count": 20,
   "metadata": {},
   "outputs": [],
   "source": [
    "train_g<-read_IDs_from_psam(train_f)"
   ]
  },
  {
   "cell_type": "code",
   "execution_count": 28,
   "metadata": {},
   "outputs": [],
   "source": [
    "train <- all[phe_df$ID %in% all]"
   ]
  },
  {
   "cell_type": "code",
   "execution_count": 29,
   "metadata": {},
   "outputs": [
    {
     "data": {
      "text/html": [
       "TRUE"
      ],
      "text/latex": [
       "TRUE"
      ],
      "text/markdown": [
       "TRUE"
      ],
      "text/plain": [
       "[1] TRUE"
      ]
     },
     "metadata": {},
     "output_type": "display_data"
    }
   ],
   "source": [
    "all(train == train_g)"
   ]
  },
  {
   "cell_type": "code",
   "execution_count": 30,
   "metadata": {},
   "outputs": [
    {
     "data": {
      "text/html": [
       "0"
      ],
      "text/latex": [
       "0"
      ],
      "text/markdown": [
       "0"
      ],
      "text/plain": [
       "[1] 0"
      ]
     },
     "metadata": {},
     "output_type": "display_data"
    }
   ],
   "source": [
    "length(train)"
   ]
  },
  {
   "cell_type": "code",
   "execution_count": 31,
   "metadata": {},
   "outputs": [
    {
     "data": {
      "text/html": [
       "1600"
      ],
      "text/latex": [
       "1600"
      ],
      "text/markdown": [
       "1600"
      ],
      "text/plain": [
       "[1] 1600"
      ]
     },
     "metadata": {},
     "output_type": "display_data"
    }
   ],
   "source": [
    "length(train_g)"
   ]
  },
  {
   "cell_type": "code",
   "execution_count": 32,
   "metadata": {},
   "outputs": [
    {
     "data": {
      "text/html": [],
      "text/latex": [],
      "text/markdown": [],
      "text/plain": [
       "character(0)"
      ]
     },
     "metadata": {},
     "output_type": "display_data"
    }
   ],
   "source": [
    "train"
   ]
  },
  {
   "cell_type": "code",
   "execution_count": 33,
   "metadata": {},
   "outputs": [
    {
     "data": {
      "text/html": [],
      "text/latex": [],
      "text/markdown": [],
      "text/plain": [
       "character(0)"
      ]
     },
     "metadata": {},
     "output_type": "display_data"
    }
   ],
   "source": [
    "train"
   ]
  },
  {
   "cell_type": "code",
   "execution_count": 36,
   "metadata": {},
   "outputs": [
    {
     "data": {
      "text/html": [
       "0"
      ],
      "text/latex": [
       "0"
      ],
      "text/markdown": [
       "0"
      ],
      "text/plain": [
       "[1] 0"
      ]
     },
     "metadata": {},
     "output_type": "display_data"
    }
   ],
   "source": [
    "length(phe_df$ID[phe_df$split == 'train'])"
   ]
  },
  {
   "cell_type": "code",
   "execution_count": 38,
   "metadata": {},
   "outputs": [
    {
     "data": {
      "text/html": [
       "<ol class=list-inline>\n",
       "\t<li>'per0'</li>\n",
       "\t<li>'per1'</li>\n",
       "\t<li>'per2'</li>\n",
       "\t<li>'per4'</li>\n",
       "\t<li>'per5'</li>\n",
       "\t<li>'per6'</li>\n",
       "</ol>\n"
      ],
      "text/latex": [
       "\\begin{enumerate*}\n",
       "\\item 'per0'\n",
       "\\item 'per1'\n",
       "\\item 'per2'\n",
       "\\item 'per4'\n",
       "\\item 'per5'\n",
       "\\item 'per6'\n",
       "\\end{enumerate*}\n"
      ],
      "text/markdown": [
       "1. 'per0'\n",
       "2. 'per1'\n",
       "3. 'per2'\n",
       "4. 'per4'\n",
       "5. 'per5'\n",
       "6. 'per6'\n",
       "\n",
       "\n"
      ],
      "text/plain": [
       "[1] \"per0\" \"per1\" \"per2\" \"per4\" \"per5\" \"per6\""
      ]
     },
     "metadata": {},
     "output_type": "display_data"
    }
   ],
   "source": [
    "phe_df$IID[which(phe_df$split == 'train')] %>% head()"
   ]
  },
  {
   "cell_type": "code",
   "execution_count": 42,
   "metadata": {},
   "outputs": [
    {
     "data": {
      "text/html": [
       "<ol class=list-inline>\n",
       "\t<li>FALSE</li>\n",
       "\t<li>TRUE</li>\n",
       "\t<li>FALSE</li>\n",
       "</ol>\n"
      ],
      "text/latex": [
       "\\begin{enumerate*}\n",
       "\\item FALSE\n",
       "\\item TRUE\n",
       "\\item FALSE\n",
       "\\end{enumerate*}\n"
      ],
      "text/markdown": [
       "1. FALSE\n",
       "2. TRUE\n",
       "3. FALSE\n",
       "\n",
       "\n"
      ],
      "text/plain": [
       "[1] FALSE  TRUE FALSE"
      ]
     },
     "metadata": {},
     "output_type": "display_data"
    }
   ],
   "source": [
    "(!c(T, F, T)) & c(F, T, T)"
   ]
  },
  {
   "cell_type": "code",
   "execution_count": 46,
   "metadata": {},
   "outputs": [
    {
     "data": {
      "text/html": [
       "-5.24082386136416"
      ],
      "text/latex": [
       "-5.24082386136416"
      ],
      "text/markdown": [
       "-5.24082386136416"
      ],
      "text/plain": [
       "[1] -5.240824"
      ]
     },
     "metadata": {},
     "output_type": "display_data"
    }
   ],
   "source": [
    "min(phe_df$QPHE)"
   ]
  },
  {
   "cell_type": "code",
   "execution_count": 45,
   "metadata": {},
   "outputs": [
    {
     "data": {
      "image/png": "[encoded data removed]",
      "text/plain": [
       "Plot with title “Histogram of phe_df$QPHE”"
      ]
     },
     "metadata": {},
     "output_type": "display_data"
    }
   ],
   "source": [
    "hist(phe_df$QPHE)"
   ]
  },
  {
   "cell_type": "code",
   "execution_count": null,
   "metadata": {},
   "outputs": [],
   "source": []
  }
 ],
 "metadata": {
  "kernelspec": {
   "display_name": "R",
   "language": "R",
   "name": "ir"
  },
  "language_info": {
   "codemirror_mode": "r",
   "file_extension": ".r",
   "mimetype": "text/x-r-source",
   "name": "R",
   "pygments_lexer": "r",
   "version": "3.6.1"
  }
 },
 "nbformat": 4,
 "nbformat_minor": 4
}

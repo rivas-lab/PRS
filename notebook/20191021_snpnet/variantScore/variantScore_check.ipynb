{
 "cells": [
  {
   "cell_type": "code",
   "execution_count": 1,
   "metadata": {},
   "outputs": [
    {
     "name": "stderr",
     "output_type": "stream",
     "text": [
      "Loading required package: tidyverse\n",
      "── \u001b[1mAttaching packages\u001b[22m ─────────────────────────────────────── tidyverse 1.2.1 ──\n",
      "\u001b[32m✔\u001b[39m \u001b[34mggplot2\u001b[39m 3.2.1     \u001b[32m✔\u001b[39m \u001b[34mpurrr  \u001b[39m 0.3.2\n",
      "\u001b[32m✔\u001b[39m \u001b[34mtibble \u001b[39m 2.1.3     \u001b[32m✔\u001b[39m \u001b[34mdplyr  \u001b[39m 0.8.3\n",
      "\u001b[32m✔\u001b[39m \u001b[34mtidyr  \u001b[39m 1.0.0     \u001b[32m✔\u001b[39m \u001b[34mstringr\u001b[39m 1.4.0\n",
      "\u001b[32m✔\u001b[39m \u001b[34mreadr  \u001b[39m 1.3.1     \u001b[32m✔\u001b[39m \u001b[34mforcats\u001b[39m 0.4.0\n",
      "── \u001b[1mConflicts\u001b[22m ────────────────────────────────────────── tidyverse_conflicts() ──\n",
      "\u001b[31m✖\u001b[39m \u001b[34mdplyr\u001b[39m::\u001b[32mfilter()\u001b[39m masks \u001b[34mstats\u001b[39m::filter()\n",
      "\u001b[31m✖\u001b[39m \u001b[34mdplyr\u001b[39m::\u001b[32mlag()\u001b[39m    masks \u001b[34mstats\u001b[39m::lag()\n",
      "Loading required package: data.table\n",
      "\n",
      "Attaching package: ‘data.table’\n",
      "\n",
      "The following objects are masked from ‘package:dplyr’:\n",
      "\n",
      "    between, first, last\n",
      "\n",
      "The following object is masked from ‘package:purrr’:\n",
      "\n",
      "    transpose\n",
      "\n"
     ]
    }
   ],
   "source": [
    "require(tidyverse)\n",
    "require(data.table)\n"
   ]
  },
  {
   "cell_type": "code",
   "execution_count": 2,
   "metadata": {},
   "outputs": [],
   "source": [
    "gcount_df <- fread(\n",
    "    '/oak/stanford/groups/mrivas/users/ytanigaw/repos/rivas-lab/PRS/notebook/20191021_snpnet/private_out/9/QPHE/results/meta/train.subset.gcount.tsv'\n",
    ")"
   ]
  },
  {
   "cell_type": "code",
   "execution_count": 3,
   "metadata": {},
   "outputs": [],
   "source": [
    "out <- list()\n",
    "out[[\"pnas\"]]  <- gcount_df %>% select(stats_pNAs) %>% pull()\n",
    "out[[\"means\"]] <- gcount_df %>% select(stats_means) %>% pull()\n",
    "out[[\"sds\"]]   <- gcount_df %>% select(stats_SDs) %>% pull()\n",
    "\n",
    "for(key in names(out)){\n",
    "names(out[[key]]) <- gcount_df %>% select(ID) %>% pull()\n",
    "}    \n",
    "out[[\"excludeSNP\"]] <- names(out[[\"means\"]])[(out[[\"pnas\"]] > 0.1) | (out[[\"means\"]] < 2 * 0.001)]\n",
    "\n",
    "stats <- out"
   ]
  },
  {
   "cell_type": "code",
   "execution_count": 4,
   "metadata": {},
   "outputs": [],
   "source": [
    "res <- fread(\n",
    "    '/oak/stanford/groups/mrivas/users/ytanigaw/repos/rivas-lab/PRS/notebook/20191021_snpnet/private_out/9/QPHE/results/debug/residuals_iter_5.tsv', \n",
    "    sep='\\t', head=T\n",
    ") %>% rename('ID' = 'V1')\n"
   ]
  },
  {
   "cell_type": "code",
   "execution_count": 6,
   "metadata": {},
   "outputs": [],
   "source": [
    "pfile <- '/oak/stanford/groups/mrivas/projects/snpnet/sample_data/train'\n"
   ]
  },
  {
   "cell_type": "code",
   "execution_count": 7,
   "metadata": {},
   "outputs": [],
   "source": [
    "traw <- fread(paste0(pfile, '.traw'))\n"
   ]
  },
  {
   "cell_type": "code",
   "execution_count": 9,
   "metadata": {},
   "outputs": [],
   "source": [
    "sample_IDs <- traw %>% colnames() %>% tail(length(colnames(traw)) -6)\n",
    "variant_IDs <- traw %>% mutate(ID = paste0(SNP, '_', ALT)) %>% select(ID) %>% pull()\n",
    "\n",
    "geno_mat <- as.matrix(2 - traw %>% select(-CHR, -SNP, -'(C)M', -POS, -COUNTED, -ALT))\n",
    "rownames(geno_mat) <- variant_IDs\n"
   ]
  },
  {
   "cell_type": "code",
   "execution_count": 10,
   "metadata": {},
   "outputs": [],
   "source": [
    "means <- lapply(1:length(variant_IDs), function(i){mean(geno_mat[i, ], na.rm=TRUE)})\n",
    "names(means) <- variant_IDs\n"
   ]
  },
  {
   "cell_type": "code",
   "execution_count": 11,
   "metadata": {},
   "outputs": [
    {
     "data": {
      "text/html": [
       "4.88498130835069e-15"
      ],
      "text/latex": [
       "4.88498130835069e-15"
      ],
      "text/markdown": [
       "4.88498130835069e-15"
      ],
      "text/plain": [
       "[1] 4.884981e-15"
      ]
     },
     "metadata": {},
     "output_type": "display_data"
    }
   ],
   "source": [
    "max(abs(as.numeric(means) - as.numeric(stats[['means']])))\n"
   ]
  },
  {
   "cell_type": "code",
   "execution_count": 12,
   "metadata": {},
   "outputs": [
    {
     "data": {
      "image/png": "[encoded data removed]",
      "text/plain": [
       "plot without title"
      ]
     },
     "metadata": {},
     "output_type": "display_data"
    }
   ],
   "source": [
    "plot(means, stats[['means']])\n"
   ]
  },
  {
   "cell_type": "code",
   "execution_count": 13,
   "metadata": {},
   "outputs": [
    {
     "data": {
      "text/html": [
       "8000"
      ],
      "text/latex": [
       "8000"
      ],
      "text/markdown": [
       "8000"
      ],
      "text/plain": [
       "[1] 8000"
      ]
     },
     "metadata": {},
     "output_type": "display_data"
    },
    {
     "data": {
      "text/html": [
       "1600"
      ],
      "text/latex": [
       "1600"
      ],
      "text/markdown": [
       "1600"
      ],
      "text/plain": [
       "[1] 1600"
      ]
     },
     "metadata": {},
     "output_type": "display_data"
    }
   ],
   "source": [
    "length(variant_IDs)\n",
    "length(sample_IDs)\n"
   ]
  },
  {
   "cell_type": "code",
   "execution_count": 14,
   "metadata": {},
   "outputs": [],
   "source": [
    "res26 <- res %>% select('26') %>% pull()\n"
   ]
  },
  {
   "cell_type": "code",
   "execution_count": 15,
   "metadata": {},
   "outputs": [
    {
     "data": {
      "text/html": [
       "<ol class=list-inline>\n",
       "\t<li>8000</li>\n",
       "\t<li>1600</li>\n",
       "</ol>\n"
      ],
      "text/latex": [
       "\\begin{enumerate*}\n",
       "\\item 8000\n",
       "\\item 1600\n",
       "\\end{enumerate*}\n"
      ],
      "text/markdown": [
       "1. 8000\n",
       "2. 1600\n",
       "\n",
       "\n"
      ],
      "text/plain": [
       "[1] 8000 1600"
      ]
     },
     "metadata": {},
     "output_type": "display_data"
    }
   ],
   "source": [
    "geno_mat %>% dim()"
   ]
  },
  {
   "cell_type": "code",
   "execution_count": 31,
   "metadata": {},
   "outputs": [],
   "source": [
    "# for(i in 1:length(variant_IDs)){\n",
    "for(i in 1:10){\n",
    "    geno_mat[i, is.na(geno_mat[i, ])] <- mean(geno_mat[i, ], na.rm=T)\n",
    "}\n"
   ]
  },
  {
   "cell_type": "code",
   "execution_count": 33,
   "metadata": {},
   "outputs": [
    {
     "data": {
      "text/html": [
       "<table>\n",
       "<caption>A matrix: 10 × 1 of type dbl</caption>\n",
       "<tbody>\n",
       "\t<tr><th scope=row>null_0_L</th><td>-61.115945</td></tr>\n",
       "\t<tr><th scope=row>null_1_L</th><td> 41.390474</td></tr>\n",
       "\t<tr><th scope=row>null_2_L</th><td> 25.476100</td></tr>\n",
       "\t<tr><th scope=row>null_3_H</th><td> 31.177572</td></tr>\n",
       "\t<tr><th scope=row>null_4_H</th><td> -1.395682</td></tr>\n",
       "\t<tr><th scope=row>null_5_L</th><td>-61.113177</td></tr>\n",
       "\t<tr><th scope=row>null_6_L</th><td> -4.152888</td></tr>\n",
       "\t<tr><th scope=row>null_7_H</th><td>-44.183023</td></tr>\n",
       "\t<tr><th scope=row>null_8_L</th><td>  2.456228</td></tr>\n",
       "\t<tr><th scope=row>null_9_H</th><td> -4.633246</td></tr>\n",
       "</tbody>\n",
       "</table>\n"
      ],
      "text/latex": [
       "A matrix: 10 × 1 of type dbl\n",
       "\\begin{tabular}{r|l}\n",
       "\tnull\\_0\\_L & -61.115945\\\\\n",
       "\tnull\\_1\\_L &  41.390474\\\\\n",
       "\tnull\\_2\\_L &  25.476100\\\\\n",
       "\tnull\\_3\\_H &  31.177572\\\\\n",
       "\tnull\\_4\\_H &  -1.395682\\\\\n",
       "\tnull\\_5\\_L & -61.113177\\\\\n",
       "\tnull\\_6\\_L &  -4.152888\\\\\n",
       "\tnull\\_7\\_H & -44.183023\\\\\n",
       "\tnull\\_8\\_L &   2.456228\\\\\n",
       "\tnull\\_9\\_H &  -4.633246\\\\\n",
       "\\end{tabular}\n"
      ],
      "text/markdown": [
       "\n",
       "A matrix: 10 × 1 of type dbl\n",
       "\n",
       "| null_0_L | -61.115945 |\n",
       "| null_1_L |  41.390474 |\n",
       "| null_2_L |  25.476100 |\n",
       "| null_3_H |  31.177572 |\n",
       "| null_4_H |  -1.395682 |\n",
       "| null_5_L | -61.113177 |\n",
       "| null_6_L |  -4.152888 |\n",
       "| null_7_H | -44.183023 |\n",
       "| null_8_L |   2.456228 |\n",
       "| null_9_H |  -4.633246 |\n",
       "\n"
      ],
      "text/plain": [
       "         [,1]      \n",
       "null_0_L -61.115945\n",
       "null_1_L  41.390474\n",
       "null_2_L  25.476100\n",
       "null_3_H  31.177572\n",
       "null_4_H  -1.395682\n",
       "null_5_L -61.113177\n",
       "null_6_L  -4.152888\n",
       "null_7_H -44.183023\n",
       "null_8_L   2.456228\n",
       "null_9_H  -4.633246"
      ]
     },
     "metadata": {},
     "output_type": "display_data"
    }
   ],
   "source": [
    "(geno_mat[1:10, ] %*% matrix(res26, ncol=1) )"
   ]
  },
  {
   "cell_type": "code",
   "execution_count": 28,
   "metadata": {},
   "outputs": [
    {
     "data": {
      "text/html": [
       "<ol class=list-inline>\n",
       "\t<li>1600</li>\n",
       "\t<li>1</li>\n",
       "</ol>\n"
      ],
      "text/latex": [
       "\\begin{enumerate*}\n",
       "\\item 1600\n",
       "\\item 1\n",
       "\\end{enumerate*}\n"
      ],
      "text/markdown": [
       "1. 1600\n",
       "2. 1\n",
       "\n",
       "\n"
      ],
      "text/plain": [
       "[1] 1600    1"
      ]
     },
     "metadata": {},
     "output_type": "display_data"
    }
   ],
   "source": [
    " %>% dim()"
   ]
  },
  {
   "cell_type": "code",
   "execution_count": null,
   "metadata": {},
   "outputs": [],
   "source": [
    "compute_dot_with_NAs <- function(vec, geno, varIdx){\n",
    "    gv <- geno[varIdx, ]\n",
    "    gv[is.na(gv)] <- mean(gv, na.rm = T)\n",
    "    vec %*% gv\n",
    "}"
   ]
  },
  {
   "cell_type": "code",
   "execution_count": null,
   "metadata": {},
   "outputs": [],
   "source": [
    "matrix(res26, ncol=1)"
   ]
  },
  {
   "cell_type": "code",
   "execution_count": null,
   "metadata": {},
   "outputs": [],
   "source": []
  },
  {
   "cell_type": "code",
   "execution_count": 141,
   "metadata": {},
   "outputs": [],
   "source": [
    "raw <- fread(paste0(pfile, '.raw'))\n"
   ]
  },
  {
   "cell_type": "code",
   "execution_count": 142,
   "metadata": {},
   "outputs": [
    {
     "data": {
      "text/html": [
       "<ol class=list-inline>\n",
       "\t<li>'FID'</li>\n",
       "\t<li>'IID'</li>\n",
       "\t<li>'PAT'</li>\n",
       "\t<li>'MAT'</li>\n",
       "\t<li>'SEX'</li>\n",
       "\t<li>'PHENOTYPE'</li>\n",
       "\t<li>'null_0_H'</li>\n",
       "\t<li>'null_1_H'</li>\n",
       "\t<li>'null_2_H'</li>\n",
       "\t<li>'null_3_L'</li>\n",
       "</ol>\n"
      ],
      "text/latex": [
       "\\begin{enumerate*}\n",
       "\\item 'FID'\n",
       "\\item 'IID'\n",
       "\\item 'PAT'\n",
       "\\item 'MAT'\n",
       "\\item 'SEX'\n",
       "\\item 'PHENOTYPE'\n",
       "\\item 'null\\_0\\_H'\n",
       "\\item 'null\\_1\\_H'\n",
       "\\item 'null\\_2\\_H'\n",
       "\\item 'null\\_3\\_L'\n",
       "\\end{enumerate*}\n"
      ],
      "text/markdown": [
       "1. 'FID'\n",
       "2. 'IID'\n",
       "3. 'PAT'\n",
       "4. 'MAT'\n",
       "5. 'SEX'\n",
       "6. 'PHENOTYPE'\n",
       "7. 'null_0_H'\n",
       "8. 'null_1_H'\n",
       "9. 'null_2_H'\n",
       "10. 'null_3_L'\n",
       "\n",
       "\n"
      ],
      "text/plain": [
       " [1] \"FID\"       \"IID\"       \"PAT\"       \"MAT\"       \"SEX\"       \"PHENOTYPE\"\n",
       " [7] \"null_0_H\"  \"null_1_H\"  \"null_2_H\"  \"null_3_L\" "
      ]
     },
     "metadata": {},
     "output_type": "display_data"
    }
   ],
   "source": [
    "raw %>% colnames() %>% head(10)"
   ]
  },
  {
   "cell_type": "code",
   "execution_count": 143,
   "metadata": {},
   "outputs": [],
   "source": []
  },
  {
   "cell_type": "code",
   "execution_count": 45,
   "metadata": {},
   "outputs": [
    {
     "data": {
      "text/html": [
       "8000"
      ],
      "text/latex": [
       "8000"
      ],
      "text/markdown": [
       "8000"
      ],
      "text/plain": [
       "[1] 8000"
      ]
     },
     "metadata": {},
     "output_type": "display_data"
    },
    {
     "data": {
      "text/html": [
       "1600"
      ],
      "text/latex": [
       "1600"
      ],
      "text/markdown": [
       "1600"
      ],
      "text/plain": [
       "[1] 1600"
      ]
     },
     "metadata": {},
     "output_type": "display_data"
    }
   ],
   "source": []
  },
  {
   "cell_type": "code",
   "execution_count": 150,
   "metadata": {},
   "outputs": [],
   "source": []
  },
  {
   "cell_type": "code",
   "execution_count": 151,
   "metadata": {},
   "outputs": [],
   "source": []
  },
  {
   "cell_type": "code",
   "execution_count": 111,
   "metadata": {},
   "outputs": [],
   "source": []
  },
  {
   "cell_type": "code",
   "execution_count": 113,
   "metadata": {},
   "outputs": [],
   "source": []
  },
  {
   "cell_type": "code",
   "execution_count": 123,
   "metadata": {},
   "outputs": [
    {
     "data": {
      "image/png": "[encoded data removed]",
      "text/plain": [
       "Plot with title “Histogram of res26”"
      ]
     },
     "metadata": {},
     "output_type": "display_data"
    }
   ],
   "source": [
    "hist(res26)"
   ]
  },
  {
   "cell_type": "code",
   "execution_count": 133,
   "metadata": {},
   "outputs": [],
   "source": [
    "geno_mat_imputed<- geno_mat\n",
    "for(i in 1:length(variant_IDs)){\n",
    "    geno_mat_imputed[i, is.na(geno_mat_imputed[i, ])] <- mean(geno_mat_imputed[i, ], rm.na = T)\n",
    "}\n"
   ]
  },
  {
   "cell_type": "code",
   "execution_count": 134,
   "metadata": {},
   "outputs": [
    {
     "data": {
      "text/html": [
       "<table>\n",
       "<caption>A matrix: 1 × 1 of type dbl</caption>\n",
       "<tbody>\n",
       "\t<tr><td>-61.11595</td></tr>\n",
       "</tbody>\n",
       "</table>\n"
      ],
      "text/latex": [
       "A matrix: 1 × 1 of type dbl\n",
       "\\begin{tabular}{l}\n",
       "\t -61.11595\\\\\n",
       "\\end{tabular}\n"
      ],
      "text/markdown": [
       "\n",
       "A matrix: 1 × 1 of type dbl\n",
       "\n",
       "| -61.11595 |\n",
       "\n"
      ],
      "text/plain": [
       "     [,1]     \n",
       "[1,] -61.11595"
      ]
     },
     "metadata": {},
     "output_type": "display_data"
    }
   ],
   "source": [
    "compute_dot_with_NAs(res26, geno_mat, 1)"
   ]
  },
  {
   "cell_type": "code",
   "execution_count": 135,
   "metadata": {},
   "outputs": [],
   "source": [
    "require(pgenlibr)"
   ]
  },
  {
   "cell_type": "code",
   "execution_count": 137,
   "metadata": {},
   "outputs": [
    {
     "data": {
      "text/html": [
       "'/oak/stanford/groups/mrivas/users/ytanigaw/repos/rivas-lab/PRS/notebook/20191021_snpnet'"
      ],
      "text/latex": [
       "'/oak/stanford/groups/mrivas/users/ytanigaw/repos/rivas-lab/PRS/notebook/20191021\\_snpnet'"
      ],
      "text/markdown": [
       "'/oak/stanford/groups/mrivas/users/ytanigaw/repos/rivas-lab/PRS/notebook/20191021_snpnet'"
      ],
      "text/plain": [
       "[1] \"/oak/stanford/groups/mrivas/users/ytanigaw/repos/rivas-lab/PRS/notebook/20191021_snpnet\""
      ]
     },
     "metadata": {},
     "output_type": "display_data"
    }
   ],
   "source": [
    "getwd()"
   ]
  },
  {
   "cell_type": "code",
   "execution_count": 138,
   "metadata": {},
   "outputs": [
    {
     "ename": "ERROR",
     "evalue": "Error in VariantScores(pgen, res26): could not find function \"VariantScores\"\n",
     "output_type": "error",
     "traceback": [
      "Error in VariantScores(pgen, res26): could not find function \"VariantScores\"\nTraceback:\n",
      "1. matrix(VariantScores(pgen, res26), ncol = 1)"
     ]
    }
   ],
   "source": [
    "vscores <- matrix(VariantScores(pgen, res26), ncol=1)"
   ]
  },
  {
   "cell_type": "code",
   "execution_count": null,
   "metadata": {},
   "outputs": [],
   "source": []
  },
  {
   "cell_type": "code",
   "execution_count": null,
   "metadata": {},
   "outputs": [],
   "source": [
    "variantIdx <- 1\n",
    "geon_vec[i, is.na(data[i,])] <- mean(data[,i], na.rm = TRUE)\n",
    "geon_vec <- data[is.na(data[,i]), i] <- mean(data[,i], na.rm = TRUE)"
   ]
  },
  {
   "cell_type": "code",
   "execution_count": 102,
   "metadata": {},
   "outputs": [
    {
     "data": {
      "text/html": [
       "<table>\n",
       "<caption>A matrix: 1 × 1 of type dbl</caption>\n",
       "<tbody>\n",
       "\t<tr><td>NA</td></tr>\n",
       "</tbody>\n",
       "</table>\n"
      ],
      "text/latex": [
       "A matrix: 1 × 1 of type dbl\n",
       "\\begin{tabular}{l}\n",
       "\t NA\\\\\n",
       "\\end{tabular}\n"
      ],
      "text/markdown": [
       "\n",
       "A matrix: 1 × 1 of type dbl\n",
       "\n",
       "| NA |\n",
       "\n"
      ],
      "text/plain": [
       "     [,1]\n",
       "[1,] NA  "
      ]
     },
     "metadata": {},
     "output_type": "display_data"
    }
   ],
   "source": [
    "geno_mat[1, ] %*% ()"
   ]
  },
  {
   "cell_type": "code",
   "execution_count": 100,
   "metadata": {},
   "outputs": [
    {
     "data": {
      "text/html": [
       "<table>\n",
       "<caption>A matrix: 1 × 1 of type dbl</caption>\n",
       "<tbody>\n",
       "\t<tr><td>55</td></tr>\n",
       "</tbody>\n",
       "</table>\n"
      ],
      "text/latex": [
       "A matrix: 1 × 1 of type dbl\n",
       "\\begin{tabular}{l}\n",
       "\t 55\\\\\n",
       "\\end{tabular}\n"
      ],
      "text/markdown": [
       "\n",
       "A matrix: 1 × 1 of type dbl\n",
       "\n",
       "| 55 |\n",
       "\n"
      ],
      "text/plain": [
       "     [,1]\n",
       "[1,] 55  "
      ]
     },
     "metadata": {},
     "output_type": "display_data"
    }
   ],
   "source": [
    "1:5 %*% 1:5"
   ]
  },
  {
   "cell_type": "code",
   "execution_count": 101,
   "metadata": {},
   "outputs": [
    {
     "data": {
      "text/html": [
       "55"
      ],
      "text/latex": [
       "55"
      ],
      "text/markdown": [
       "55"
      ],
      "text/plain": [
       "[1] 55"
      ]
     },
     "metadata": {},
     "output_type": "display_data"
    }
   ],
   "source": [
    "1 + 2 * 2 + 3 * 3 + 4 * 4 + 5 * 5"
   ]
  },
  {
   "cell_type": "code",
   "execution_count": null,
   "metadata": {},
   "outputs": [],
   "source": []
  }
 ],
 "metadata": {
  "kernelspec": {
   "display_name": "R",
   "language": "R",
   "name": "ir"
  },
  "language_info": {
   "codemirror_mode": "r",
   "file_extension": ".r",
   "mimetype": "text/x-r-source",
   "name": "R",
   "pygments_lexer": "r",
   "version": "3.6.1"
  }
 },
 "nbformat": 4,
 "nbformat_minor": 4
}

{
 "cells": [
  {
   "cell_type": "code",
   "execution_count": 1,
   "metadata": {},
   "outputs": [],
   "source": [
    "suppressWarnings(suppressPackageStartupMessages({\n",
    "    library(tidyverse)\n",
    "    library(data.table)\n",
    "}))\n"
   ]
  },
  {
   "cell_type": "code",
   "execution_count": 2,
   "metadata": {},
   "outputs": [],
   "source": [
    "project_dir=file.path('/oak/stanford/groups/mrivas/projects/PRS/private_output', basename(getwd()))"
   ]
  },
  {
   "cell_type": "code",
   "execution_count": 3,
   "metadata": {},
   "outputs": [],
   "source": [
    "GBE_IDs <- c('INI50', 'INI21001', 'HC269', 'HC382')\n",
    "runs <- c('1_fit_w_val', '2_refit')"
   ]
  },
  {
   "cell_type": "code",
   "execution_count": 4,
   "metadata": {},
   "outputs": [],
   "source": [
    "runs %>% lapply(function(run){\n",
    "    GBE_IDs %>% lapply(function(gbeid){\n",
    "        eval_f <- file.path(project_dir, gbeid, run, 'snpnet.eval.tsv')\n",
    "        if(file.exists(eval_f)) fread(eval_f)\n",
    "    }) %>% bind_rows() %>% mutate(run = run) \n",
    "}) %>% bind_rows() -> df\n"
   ]
  },
  {
   "cell_type": "code",
   "execution_count": 5,
   "metadata": {},
   "outputs": [],
   "source": [
    "df %>%\n",
    "fwrite('3_eval_aggregate.tsv', sep='\\t', na = \"NA\", quote=F)\n"
   ]
  },
  {
   "cell_type": "code",
   "execution_count": 6,
   "metadata": {},
   "outputs": [
    {
     "data": {
      "text/html": [
       "<table>\n",
       "<caption>A data.table: 8 × 11</caption>\n",
       "<thead>\n",
       "\t<tr><th scope=col>#phenotype_name</th><th scope=col>split</th><th scope=col>geno</th><th scope=col>covar</th><th scope=col>geno_covar</th><th scope=col>geno_delta</th><th scope=col>n_variables</th><th scope=col>n</th><th scope=col>case_n</th><th scope=col>control_n</th><th scope=col>run</th></tr>\n",
       "\t<tr><th scope=col>&lt;chr&gt;</th><th scope=col>&lt;chr&gt;</th><th scope=col>&lt;dbl&gt;</th><th scope=col>&lt;dbl&gt;</th><th scope=col>&lt;dbl&gt;</th><th scope=col>&lt;dbl&gt;</th><th scope=col>&lt;int&gt;</th><th scope=col>&lt;int&gt;</th><th scope=col>&lt;int&gt;</th><th scope=col>&lt;int&gt;</th><th scope=col>&lt;chr&gt;</th></tr>\n",
       "</thead>\n",
       "<tbody>\n",
       "\t<tr><td>HC269   </td><td>test</td><td>0.6153885</td><td>0.69264235</td><td>0.7258690</td><td>0.03322666</td><td> 7143</td><td>   NA</td><td>8999</td><td>58426</td><td>1_fit_w_val</td></tr>\n",
       "\t<tr><td>HC269   </td><td>test</td><td>0.6196020</td><td>0.69263367</td><td>0.7276487</td><td>0.03501498</td><td> 5981</td><td>   NA</td><td>8999</td><td>58426</td><td>2_refit    </td></tr>\n",
       "\t<tr><td>HC382   </td><td>test</td><td>0.6116628</td><td>0.53526193</td><td>0.6161877</td><td>0.08092573</td><td> 7595</td><td>   NA</td><td>8934</td><td>58491</td><td>1_fit_w_val</td></tr>\n",
       "\t<tr><td>HC382   </td><td>test</td><td>0.6164627</td><td>0.53491046</td><td>0.6204628</td><td>0.08555233</td><td> 6420</td><td>   NA</td><td>8934</td><td>58491</td><td>2_refit    </td></tr>\n",
       "\t<tr><td>INI21001</td><td>test</td><td>0.1054709</td><td>0.01043889</td><td>0.1148880</td><td>0.10444912</td><td>28724</td><td>67235</td><td>  NA</td><td>   NA</td><td>1_fit_w_val</td></tr>\n",
       "\t<tr><td>INI21001</td><td>test</td><td>0.1105698</td><td>0.01054355</td><td>0.1200273</td><td>0.10948375</td><td>27303</td><td>67235</td><td>  NA</td><td>   NA</td><td>2_refit    </td></tr>\n",
       "\t<tr><td>INI50   </td><td>test</td><td>0.1718523</td><td>0.53714646</td><td>0.7122956</td><td>0.17514914</td><td>52377</td><td>67298</td><td>  NA</td><td>   NA</td><td>1_fit_w_val</td></tr>\n",
       "\t<tr><td>INI50   </td><td>test</td><td>0.1776387</td><td>0.53707515</td><td>0.7181941</td><td>0.18111892</td><td>51209</td><td>67298</td><td>  NA</td><td>   NA</td><td>2_refit    </td></tr>\n",
       "</tbody>\n",
       "</table>\n"
      ],
      "text/latex": [
       "A data.table: 8 × 11\n",
       "\\begin{tabular}{lllllllllll}\n",
       " \\#phenotype\\_name & split & geno & covar & geno\\_covar & geno\\_delta & n\\_variables & n & case\\_n & control\\_n & run\\\\\n",
       " <chr> & <chr> & <dbl> & <dbl> & <dbl> & <dbl> & <int> & <int> & <int> & <int> & <chr>\\\\\n",
       "\\hline\n",
       "\t HC269    & test & 0.6153885 & 0.69264235 & 0.7258690 & 0.03322666 &  7143 &    NA & 8999 & 58426 & 1\\_fit\\_w\\_val\\\\\n",
       "\t HC269    & test & 0.6196020 & 0.69263367 & 0.7276487 & 0.03501498 &  5981 &    NA & 8999 & 58426 & 2\\_refit    \\\\\n",
       "\t HC382    & test & 0.6116628 & 0.53526193 & 0.6161877 & 0.08092573 &  7595 &    NA & 8934 & 58491 & 1\\_fit\\_w\\_val\\\\\n",
       "\t HC382    & test & 0.6164627 & 0.53491046 & 0.6204628 & 0.08555233 &  6420 &    NA & 8934 & 58491 & 2\\_refit    \\\\\n",
       "\t INI21001 & test & 0.1054709 & 0.01043889 & 0.1148880 & 0.10444912 & 28724 & 67235 &   NA &    NA & 1\\_fit\\_w\\_val\\\\\n",
       "\t INI21001 & test & 0.1105698 & 0.01054355 & 0.1200273 & 0.10948375 & 27303 & 67235 &   NA &    NA & 2\\_refit    \\\\\n",
       "\t INI50    & test & 0.1718523 & 0.53714646 & 0.7122956 & 0.17514914 & 52377 & 67298 &   NA &    NA & 1\\_fit\\_w\\_val\\\\\n",
       "\t INI50    & test & 0.1776387 & 0.53707515 & 0.7181941 & 0.18111892 & 51209 & 67298 &   NA &    NA & 2\\_refit    \\\\\n",
       "\\end{tabular}\n"
      ],
      "text/markdown": [
       "\n",
       "A data.table: 8 × 11\n",
       "\n",
       "| #phenotype_name &lt;chr&gt; | split &lt;chr&gt; | geno &lt;dbl&gt; | covar &lt;dbl&gt; | geno_covar &lt;dbl&gt; | geno_delta &lt;dbl&gt; | n_variables &lt;int&gt; | n &lt;int&gt; | case_n &lt;int&gt; | control_n &lt;int&gt; | run &lt;chr&gt; |\n",
       "|---|---|---|---|---|---|---|---|---|---|---|\n",
       "| HC269    | test | 0.6153885 | 0.69264235 | 0.7258690 | 0.03322666 |  7143 |    NA | 8999 | 58426 | 1_fit_w_val |\n",
       "| HC269    | test | 0.6196020 | 0.69263367 | 0.7276487 | 0.03501498 |  5981 |    NA | 8999 | 58426 | 2_refit     |\n",
       "| HC382    | test | 0.6116628 | 0.53526193 | 0.6161877 | 0.08092573 |  7595 |    NA | 8934 | 58491 | 1_fit_w_val |\n",
       "| HC382    | test | 0.6164627 | 0.53491046 | 0.6204628 | 0.08555233 |  6420 |    NA | 8934 | 58491 | 2_refit     |\n",
       "| INI21001 | test | 0.1054709 | 0.01043889 | 0.1148880 | 0.10444912 | 28724 | 67235 |   NA |    NA | 1_fit_w_val |\n",
       "| INI21001 | test | 0.1105698 | 0.01054355 | 0.1200273 | 0.10948375 | 27303 | 67235 |   NA |    NA | 2_refit     |\n",
       "| INI50    | test | 0.1718523 | 0.53714646 | 0.7122956 | 0.17514914 | 52377 | 67298 |   NA |    NA | 1_fit_w_val |\n",
       "| INI50    | test | 0.1776387 | 0.53707515 | 0.7181941 | 0.18111892 | 51209 | 67298 |   NA |    NA | 2_refit     |\n",
       "\n"
      ],
      "text/plain": [
       "  #phenotype_name split geno      covar      geno_covar geno_delta n_variables\n",
       "1 HC269           test  0.6153885 0.69264235 0.7258690  0.03322666  7143      \n",
       "2 HC269           test  0.6196020 0.69263367 0.7276487  0.03501498  5981      \n",
       "3 HC382           test  0.6116628 0.53526193 0.6161877  0.08092573  7595      \n",
       "4 HC382           test  0.6164627 0.53491046 0.6204628  0.08555233  6420      \n",
       "5 INI21001        test  0.1054709 0.01043889 0.1148880  0.10444912 28724      \n",
       "6 INI21001        test  0.1105698 0.01054355 0.1200273  0.10948375 27303      \n",
       "7 INI50           test  0.1718523 0.53714646 0.7122956  0.17514914 52377      \n",
       "8 INI50           test  0.1776387 0.53707515 0.7181941  0.18111892 51209      \n",
       "  n     case_n control_n run        \n",
       "1    NA 8999   58426     1_fit_w_val\n",
       "2    NA 8999   58426     2_refit    \n",
       "3    NA 8934   58491     1_fit_w_val\n",
       "4    NA 8934   58491     2_refit    \n",
       "5 67235   NA      NA     1_fit_w_val\n",
       "6 67235   NA      NA     2_refit    \n",
       "7 67298   NA      NA     1_fit_w_val\n",
       "8 67298   NA      NA     2_refit    "
      ]
     },
     "metadata": {},
     "output_type": "display_data"
    }
   ],
   "source": [
    "df %>%\n",
    "filter(split == 'test') %>%\n",
    "arrange(`#phenotype_name`, run)"
   ]
  },
  {
   "cell_type": "code",
   "execution_count": null,
   "metadata": {},
   "outputs": [],
   "source": []
  }
 ],
 "metadata": {
  "kernelspec": {
   "display_name": "R",
   "language": "R",
   "name": "ir"
  },
  "language_info": {
   "codemirror_mode": "r",
   "file_extension": ".r",
   "mimetype": "text/x-r-source",
   "name": "R",
   "pygments_lexer": "r",
   "version": "3.6.2"
  }
 },
 "nbformat": 4,
 "nbformat_minor": 4
}

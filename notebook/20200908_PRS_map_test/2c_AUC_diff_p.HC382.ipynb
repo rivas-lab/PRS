{
 "cells": [
  {
   "cell_type": "code",
   "execution_count": 1,
   "metadata": {},
   "outputs": [],
   "source": [
    "suppressWarnings(suppressPackageStartupMessages({\n",
    "    library(tidyverse)\n",
    "    library(data.table)\n",
    "}))\n"
   ]
  },
  {
   "cell_type": "code",
   "execution_count": 2,
   "metadata": {},
   "outputs": [
    {
     "name": "stderr",
     "output_type": "stream",
     "text": [
      "Type 'citation(\"pROC\")' for a citation.\n",
      "\n",
      "\n",
      "Attaching package: ‘pROC’\n",
      "\n",
      "\n",
      "The following objects are masked from ‘package:stats’:\n",
      "\n",
      "    cov, smooth, var\n",
      "\n",
      "\n"
     ]
    }
   ],
   "source": [
    "library(pROC)"
   ]
  },
  {
   "cell_type": "code",
   "execution_count": 3,
   "metadata": {},
   "outputs": [],
   "source": [
    "phenotype <- 'HC382'\n",
    "data_d    <- '/oak/stanford/groups/mrivas/projects/PRS/private_output/20200908_PRS_map_test/1_p_factor_v1/HC382/1_fit_w_val'\n",
    "refit <- F\n",
    "\n",
    "#\n",
    "p_val_f <- 'AUC_diff_p.HC382.tsv'"
   ]
  },
  {
   "cell_type": "code",
   "execution_count": 5,
   "metadata": {},
   "outputs": [],
   "source": [
    "# input and parameters\n",
    "\n",
    "#data_d <- '/oak/stanford/groups/mrivas/projects/PRS/private_output/20200908_PRS_map_test'\n",
    "phe_f <- '/scratch/groups/mrivas/ukbb24983/phenotypedata/master_phe/master.20200828.phe.zst'\n",
    "covariates       <- c('age', 'sex', paste0('PC', 1:10))\n",
    "refit_split_strs <- c('non_british_white', 'african', 's_asian', 'e_asian')\n",
    "sscore_f             <- file.path(data_d, '__PHENOTYPE__.sscore.zst')\n",
    "snpnet_BETAs_f       <- file.path(data_d, 'snpnet.tsv')\n",
    "snpnet_covar_BETAs_f <- file.path(data_d, 'snpnet.covars.tsv')\n",
    "family <- ifelse((startsWith(phenotype, 'INI') | startsWith(phenotype, 'QT_FC')), 'gaussian', 'binomial')\n",
    "\n",
    "# output\n",
    "eval_f <- file.path(data_d, 'snpnet.eval.tsv')\n",
    "plot_f <- file.path(data_d, 'snpnet.plot.pdf')\n",
    "percentile_f <- file.path(data_d, 'snpnet.percentile.tsv')\n"
   ]
  },
  {
   "cell_type": "code",
   "execution_count": 6,
   "metadata": {},
   "outputs": [
    {
     "name": "stderr",
     "output_type": "stream",
     "text": [
      "Warning message:\n",
      "“glm.fit: fitted probabilities numerically 0 or 1 occurred”\n"
     ]
    }
   ],
   "source": [
    "source('/oak/stanford/groups/mrivas/users/ytanigaw/repos/rivas-lab/snpnet/helpers/snpnet_misc.R')\n",
    "\n",
    "# read the raw phenotype file\n",
    "fread(\n",
    "    cmd=paste(cat_or_zcat(phe_f), phe_f,  '|', 'sed -e \"s/^#//g\"'),\n",
    "    select=c('FID', 'IID', 'split', covariates, phenotype),\n",
    "    colClasses = c('FID'='character', 'IID'='character'),\n",
    "    data.table=F\n",
    ") -> phe_df\n",
    "\n",
    "if(refit){\n",
    "    phe_df %>%\n",
    "    mutate(\n",
    "        split = if_else(split %in% c('train', 'val'), 'train_val', split)\n",
    "    ) -> phe_df\n",
    "}\n",
    "\n",
    "# read PRS and covariate-based score\n",
    "phe_df %>%\n",
    "compute_phe_score_df(\n",
    "    phenotype,\n",
    "    str_replace_all(sscore_f, '__PHENOTYPE__', phenotype),\n",
    "    str_replace_all(snpnet_covar_BETAs_f, '__PHENOTYPE__', phenotype),\n",
    "    covariates, family, refit_split_strs\n",
    ") -> phe_score_df\n"
   ]
  },
  {
   "cell_type": "code",
   "execution_count": 7,
   "metadata": {},
   "outputs": [],
   "source": [
    "1:60 %>%\n",
    "lapply(function(lambda_idx){\n",
    "    file.path(data_d, 'results', sprintf('snpnet.lambda%d.sscore.zst', lambda_idx)) %>%\n",
    "    read_PRS() %>%\n",
    "    rename(!!sprintf('geno_%d', lambda_idx) := 'geno_score')\n",
    "}) %>%\n",
    "reduce(function(x, y){inner_join(x, y, by=c('FID', 'IID'))}) -> geno_score_intermediates_df\n"
   ]
  },
  {
   "cell_type": "code",
   "execution_count": 8,
   "metadata": {},
   "outputs": [],
   "source": [
    "phe_score_df %>% \n",
    "left_join(geno_score_intermediates_df, by=c('FID', 'IID')) -> phe_score_intermediate_df\n"
   ]
  },
  {
   "cell_type": "code",
   "execution_count": 9,
   "metadata": {},
   "outputs": [],
   "source": [
    "phe_score_intermediate_df %>%\n",
    "filter(split == 'val') %>%\n",
    "mutate(geno_covar_score = geno_score + covar_score) -> sdf\n"
   ]
  },
  {
   "cell_type": "code",
   "execution_count": 10,
   "metadata": {},
   "outputs": [],
   "source": [
    "roc_tests <- list()\n"
   ]
  },
  {
   "cell_type": "code",
   "execution_count": 11,
   "metadata": {},
   "outputs": [],
   "source": [
    "roc.test(\n",
    "    roc(sdf$phe, sdf[['covar_score']], levels=c('control'=1, 'case'=2), direction='<'),\n",
    "    roc(sdf$phe, sdf[['geno_covar_score']], levels=c('control'=1, 'case'=2), direction='<')\n",
    ") -> roc_tests[['geno_covar_vs_covar']]\n"
   ]
  },
  {
   "cell_type": "code",
   "execution_count": 12,
   "metadata": {},
   "outputs": [],
   "source": [
    "roc.test(\n",
    "    roc(sdf$phe, sdf[['covar_score']], levels=c('control'=1, 'case'=2), direction='<'),\n",
    "    roc(sdf$phe, sdf[['geno_1']], levels=c('control'=1, 'case'=2), direction='<')\n",
    ") -> roc_tests[['geno_1_vs_covar']]\n"
   ]
  },
  {
   "cell_type": "code",
   "execution_count": 13,
   "metadata": {},
   "outputs": [],
   "source": [
    "for(lambda_idx in 2:60){\n",
    "    roc.test(\n",
    "        roc(sdf$phe, sdf[[sprintf('geno_%d', lambda_idx - 1)]], levels=c('control'=1, 'case'=2), direction='<'),\n",
    "        roc(sdf$phe, sdf[[sprintf('geno_%d', lambda_idx    )]], levels=c('control'=1, 'case'=2), direction='<')\n",
    "    ) -> roc_tests[[sprintf('geno_%d_vs_geno_%d', lambda_idx, lambda_idx - 1)]]\n",
    "    \n",
    "}\n"
   ]
  },
  {
   "cell_type": "code",
   "execution_count": 14,
   "metadata": {},
   "outputs": [],
   "source": [
    "roc_p_vals <- data.frame(\n",
    "    name = names(roc_tests),\n",
    "    p = names(roc_tests) %>%\n",
    "    lapply(function(k){\n",
    "        (roc_tests[[k]])$p.value\n",
    "    }) %>% simplify(),\n",
    "    stringsAsFactors=F\n",
    ") %>%\n",
    "separate(name, c('score2', 'score1'), sep='_vs_', remove=F) %>%\n",
    "select(name, score1, score2, p)\n"
   ]
  },
  {
   "cell_type": "code",
   "execution_count": 15,
   "metadata": {},
   "outputs": [],
   "source": [
    "roc_p_vals %>%\n",
    "rename('#name' = 'name') %>%\n",
    "fwrite(p_val_f, sep='\\t', na = \"NA\", quote=F)\n"
   ]
  },
  {
   "cell_type": "code",
   "execution_count": 16,
   "metadata": {},
   "outputs": [
    {
     "data": {
      "text/plain": [
       "\n",
       "\tDeLong's test for two correlated ROC curves\n",
       "\n",
       "data:  roc(sdf$phe, sdf[[\"covar_score\"]], levels = c(control = 1, case = 2),  and roc(sdf$phe, sdf[[\"geno_covar_score\"]], levels = c(control = 1,     direction = \"<\") and     case = 2), direction = \"<\")\n",
       "Z = -16.507, p-value < 2.2e-16\n",
       "alternative hypothesis: true difference in AUC is not equal to 0\n",
       "sample estimates:\n",
       "AUC of roc1 AUC of roc2 \n",
       "  0.5281458   0.6189194 \n"
      ]
     },
     "metadata": {},
     "output_type": "display_data"
    }
   ],
   "source": [
    "roc_tests[['geno_covar_vs_covar']]"
   ]
  },
  {
   "cell_type": "code",
   "execution_count": 17,
   "metadata": {},
   "outputs": [
    {
     "data": {
      "text/html": [
       "<table>\n",
       "<caption>A data.frame: 6 × 4</caption>\n",
       "<thead>\n",
       "\t<tr><th></th><th scope=col>name</th><th scope=col>score1</th><th scope=col>score2</th><th scope=col>p</th></tr>\n",
       "\t<tr><th></th><th scope=col>&lt;chr&gt;</th><th scope=col>&lt;chr&gt;</th><th scope=col>&lt;chr&gt;</th><th scope=col>&lt;dbl&gt;</th></tr>\n",
       "</thead>\n",
       "<tbody>\n",
       "\t<tr><th scope=row>56</th><td>geno_55_vs_geno_54</td><td>geno_54</td><td>geno_55</td><td>0.01316363</td></tr>\n",
       "\t<tr><th scope=row>57</th><td>geno_56_vs_geno_55</td><td>geno_55</td><td>geno_56</td><td>0.10500133</td></tr>\n",
       "\t<tr><th scope=row>58</th><td>geno_57_vs_geno_56</td><td>geno_56</td><td>geno_57</td><td>0.17819255</td></tr>\n",
       "\t<tr><th scope=row>59</th><td>geno_58_vs_geno_57</td><td>geno_57</td><td>geno_58</td><td>0.35657788</td></tr>\n",
       "\t<tr><th scope=row>60</th><td>geno_59_vs_geno_58</td><td>geno_58</td><td>geno_59</td><td>0.76033081</td></tr>\n",
       "\t<tr><th scope=row>61</th><td>geno_60_vs_geno_59</td><td>geno_59</td><td>geno_60</td><td>0.36920904</td></tr>\n",
       "</tbody>\n",
       "</table>\n"
      ],
      "text/latex": [
       "A data.frame: 6 × 4\n",
       "\\begin{tabular}{r|llll}\n",
       "  & name & score1 & score2 & p\\\\\n",
       "  & <chr> & <chr> & <chr> & <dbl>\\\\\n",
       "\\hline\n",
       "\t56 & geno\\_55\\_vs\\_geno\\_54 & geno\\_54 & geno\\_55 & 0.01316363\\\\\n",
       "\t57 & geno\\_56\\_vs\\_geno\\_55 & geno\\_55 & geno\\_56 & 0.10500133\\\\\n",
       "\t58 & geno\\_57\\_vs\\_geno\\_56 & geno\\_56 & geno\\_57 & 0.17819255\\\\\n",
       "\t59 & geno\\_58\\_vs\\_geno\\_57 & geno\\_57 & geno\\_58 & 0.35657788\\\\\n",
       "\t60 & geno\\_59\\_vs\\_geno\\_58 & geno\\_58 & geno\\_59 & 0.76033081\\\\\n",
       "\t61 & geno\\_60\\_vs\\_geno\\_59 & geno\\_59 & geno\\_60 & 0.36920904\\\\\n",
       "\\end{tabular}\n"
      ],
      "text/markdown": [
       "\n",
       "A data.frame: 6 × 4\n",
       "\n",
       "| <!--/--> | name &lt;chr&gt; | score1 &lt;chr&gt; | score2 &lt;chr&gt; | p &lt;dbl&gt; |\n",
       "|---|---|---|---|---|\n",
       "| 56 | geno_55_vs_geno_54 | geno_54 | geno_55 | 0.01316363 |\n",
       "| 57 | geno_56_vs_geno_55 | geno_55 | geno_56 | 0.10500133 |\n",
       "| 58 | geno_57_vs_geno_56 | geno_56 | geno_57 | 0.17819255 |\n",
       "| 59 | geno_58_vs_geno_57 | geno_57 | geno_58 | 0.35657788 |\n",
       "| 60 | geno_59_vs_geno_58 | geno_58 | geno_59 | 0.76033081 |\n",
       "| 61 | geno_60_vs_geno_59 | geno_59 | geno_60 | 0.36920904 |\n",
       "\n"
      ],
      "text/plain": [
       "   name               score1  score2  p         \n",
       "56 geno_55_vs_geno_54 geno_54 geno_55 0.01316363\n",
       "57 geno_56_vs_geno_55 geno_55 geno_56 0.10500133\n",
       "58 geno_57_vs_geno_56 geno_56 geno_57 0.17819255\n",
       "59 geno_58_vs_geno_57 geno_57 geno_58 0.35657788\n",
       "60 geno_59_vs_geno_58 geno_58 geno_59 0.76033081\n",
       "61 geno_60_vs_geno_59 geno_59 geno_60 0.36920904"
      ]
     },
     "metadata": {},
     "output_type": "display_data"
    }
   ],
   "source": [
    "roc_p_vals %>%\n",
    "tail()"
   ]
  },
  {
   "cell_type": "markdown",
   "metadata": {},
   "source": [
    "- We currently have `lambda idx = 58` as the best model\n",
    "- `lambda idx = 55` may be the optimal"
   ]
  },
  {
   "cell_type": "code",
   "execution_count": 22,
   "metadata": {},
   "outputs": [],
   "source": [
    "# evaluate the predictive performance\n",
    "phe_score_intermediate_df %>%\n",
    "eval_performance(\n",
    "    phenotype,\n",
    "    str_replace_all(snpnet_BETAs_f, '__PHENOTYPE__', phenotype),\n",
    "    family\n",
    ") -> eval_58_df\n"
   ]
  },
  {
   "cell_type": "code",
   "execution_count": 28,
   "metadata": {},
   "outputs": [],
   "source": [
    "phe_score_intermediate_df %>%\n",
    "select(-geno_score) %>%\n",
    "rename(geno_score = geno_55) %>%\n",
    "eval_performance(\n",
    "    phenotype,\n",
    "    file.path(data_d, 'results', 'snpnet.lambda55.tsv'),\n",
    "    family\n",
    ") -> eval_55_df\n"
   ]
  },
  {
   "cell_type": "code",
   "execution_count": 29,
   "metadata": {},
   "outputs": [
    {
     "data": {
      "text/html": [
       "<table>\n",
       "<caption>A data.frame: 7 × 9</caption>\n",
       "<thead>\n",
       "\t<tr><th scope=col>phenotype_name</th><th scope=col>split</th><th scope=col>geno</th><th scope=col>covar</th><th scope=col>geno_covar</th><th scope=col>geno_delta</th><th scope=col>n_variables</th><th scope=col>case_n</th><th scope=col>control_n</th></tr>\n",
       "\t<tr><th scope=col>&lt;chr&gt;</th><th scope=col>&lt;chr&gt;</th><th scope=col>&lt;dbl&gt;</th><th scope=col>&lt;dbl&gt;</th><th scope=col>&lt;dbl&gt;</th><th scope=col>&lt;dbl&gt;</th><th scope=col>&lt;int&gt;</th><th scope=col>&lt;int&gt;</th><th scope=col>&lt;int&gt;</th></tr>\n",
       "</thead>\n",
       "<tbody>\n",
       "\t<tr><td>HC382</td><td>train            </td><td>0.7731822</td><td>0.5387748</td><td>0.7722529</td><td> 0.233478152</td><td>7595</td><td>31741</td><td>204250</td></tr>\n",
       "\t<tr><td>HC382</td><td>test             </td><td>0.6116628</td><td>0.5352619</td><td>0.6161877</td><td> 0.080925727</td><td>7595</td><td> 8934</td><td> 58491</td></tr>\n",
       "\t<tr><td>HC382</td><td>val              </td><td>0.6153153</td><td>0.5281458</td><td>0.6189194</td><td> 0.090773671</td><td>7595</td><td> 4553</td><td> 29160</td></tr>\n",
       "\t<tr><td>HC382</td><td>non_british_white</td><td>0.6110596</td><td>0.5676678</td><td>0.6276089</td><td> 0.059941082</td><td>7595</td><td> 3243</td><td> 21662</td></tr>\n",
       "\t<tr><td>HC382</td><td>s_asian          </td><td>0.5784973</td><td>0.5760666</td><td>0.6068172</td><td> 0.030750520</td><td>7595</td><td> 1171</td><td>  6660</td></tr>\n",
       "\t<tr><td>HC382</td><td>african          </td><td>0.5530495</td><td>0.6095357</td><td>0.6150603</td><td> 0.005524621</td><td>7595</td><td>  871</td><td>  5626</td></tr>\n",
       "\t<tr><td>HC382</td><td>e_asian          </td><td>0.4973209</td><td>0.5933069</td><td>0.5660849</td><td>-0.027222022</td><td>7595</td><td>  166</td><td>  1538</td></tr>\n",
       "</tbody>\n",
       "</table>\n"
      ],
      "text/latex": [
       "A data.frame: 7 × 9\n",
       "\\begin{tabular}{lllllllll}\n",
       " phenotype\\_name & split & geno & covar & geno\\_covar & geno\\_delta & n\\_variables & case\\_n & control\\_n\\\\\n",
       " <chr> & <chr> & <dbl> & <dbl> & <dbl> & <dbl> & <int> & <int> & <int>\\\\\n",
       "\\hline\n",
       "\t HC382 & train             & 0.7731822 & 0.5387748 & 0.7722529 &  0.233478152 & 7595 & 31741 & 204250\\\\\n",
       "\t HC382 & test              & 0.6116628 & 0.5352619 & 0.6161877 &  0.080925727 & 7595 &  8934 &  58491\\\\\n",
       "\t HC382 & val               & 0.6153153 & 0.5281458 & 0.6189194 &  0.090773671 & 7595 &  4553 &  29160\\\\\n",
       "\t HC382 & non\\_british\\_white & 0.6110596 & 0.5676678 & 0.6276089 &  0.059941082 & 7595 &  3243 &  21662\\\\\n",
       "\t HC382 & s\\_asian           & 0.5784973 & 0.5760666 & 0.6068172 &  0.030750520 & 7595 &  1171 &   6660\\\\\n",
       "\t HC382 & african           & 0.5530495 & 0.6095357 & 0.6150603 &  0.005524621 & 7595 &   871 &   5626\\\\\n",
       "\t HC382 & e\\_asian           & 0.4973209 & 0.5933069 & 0.5660849 & -0.027222022 & 7595 &   166 &   1538\\\\\n",
       "\\end{tabular}\n"
      ],
      "text/markdown": [
       "\n",
       "A data.frame: 7 × 9\n",
       "\n",
       "| phenotype_name &lt;chr&gt; | split &lt;chr&gt; | geno &lt;dbl&gt; | covar &lt;dbl&gt; | geno_covar &lt;dbl&gt; | geno_delta &lt;dbl&gt; | n_variables &lt;int&gt; | case_n &lt;int&gt; | control_n &lt;int&gt; |\n",
       "|---|---|---|---|---|---|---|---|---|\n",
       "| HC382 | train             | 0.7731822 | 0.5387748 | 0.7722529 |  0.233478152 | 7595 | 31741 | 204250 |\n",
       "| HC382 | test              | 0.6116628 | 0.5352619 | 0.6161877 |  0.080925727 | 7595 |  8934 |  58491 |\n",
       "| HC382 | val               | 0.6153153 | 0.5281458 | 0.6189194 |  0.090773671 | 7595 |  4553 |  29160 |\n",
       "| HC382 | non_british_white | 0.6110596 | 0.5676678 | 0.6276089 |  0.059941082 | 7595 |  3243 |  21662 |\n",
       "| HC382 | s_asian           | 0.5784973 | 0.5760666 | 0.6068172 |  0.030750520 | 7595 |  1171 |   6660 |\n",
       "| HC382 | african           | 0.5530495 | 0.6095357 | 0.6150603 |  0.005524621 | 7595 |   871 |   5626 |\n",
       "| HC382 | e_asian           | 0.4973209 | 0.5933069 | 0.5660849 | -0.027222022 | 7595 |   166 |   1538 |\n",
       "\n"
      ],
      "text/plain": [
       "  phenotype_name split             geno      covar     geno_covar geno_delta  \n",
       "1 HC382          train             0.7731822 0.5387748 0.7722529   0.233478152\n",
       "2 HC382          test              0.6116628 0.5352619 0.6161877   0.080925727\n",
       "3 HC382          val               0.6153153 0.5281458 0.6189194   0.090773671\n",
       "4 HC382          non_british_white 0.6110596 0.5676678 0.6276089   0.059941082\n",
       "5 HC382          s_asian           0.5784973 0.5760666 0.6068172   0.030750520\n",
       "6 HC382          african           0.5530495 0.6095357 0.6150603   0.005524621\n",
       "7 HC382          e_asian           0.4973209 0.5933069 0.5660849  -0.027222022\n",
       "  n_variables case_n control_n\n",
       "1 7595        31741  204250   \n",
       "2 7595         8934   58491   \n",
       "3 7595         4553   29160   \n",
       "4 7595         3243   21662   \n",
       "5 7595         1171    6660   \n",
       "6 7595          871    5626   \n",
       "7 7595          166    1538   "
      ]
     },
     "metadata": {},
     "output_type": "display_data"
    }
   ],
   "source": [
    "eval_58_df"
   ]
  },
  {
   "cell_type": "code",
   "execution_count": 30,
   "metadata": {},
   "outputs": [
    {
     "data": {
      "text/html": [
       "<table>\n",
       "<caption>A data.frame: 7 × 9</caption>\n",
       "<thead>\n",
       "\t<tr><th scope=col>phenotype_name</th><th scope=col>split</th><th scope=col>geno</th><th scope=col>covar</th><th scope=col>geno_covar</th><th scope=col>geno_delta</th><th scope=col>n_variables</th><th scope=col>case_n</th><th scope=col>control_n</th></tr>\n",
       "\t<tr><th scope=col>&lt;chr&gt;</th><th scope=col>&lt;chr&gt;</th><th scope=col>&lt;dbl&gt;</th><th scope=col>&lt;dbl&gt;</th><th scope=col>&lt;dbl&gt;</th><th scope=col>&lt;dbl&gt;</th><th scope=col>&lt;int&gt;</th><th scope=col>&lt;int&gt;</th><th scope=col>&lt;int&gt;</th></tr>\n",
       "</thead>\n",
       "<tbody>\n",
       "\t<tr><td>HC382</td><td>train            </td><td>0.7323389</td><td>0.5387748</td><td>0.7312488</td><td> 0.19247405</td><td>4764</td><td>31741</td><td>204250</td></tr>\n",
       "\t<tr><td>HC382</td><td>test             </td><td>0.6120284</td><td>0.5352619</td><td>0.6163027</td><td> 0.08104073</td><td>4764</td><td> 8934</td><td> 58491</td></tr>\n",
       "\t<tr><td>HC382</td><td>val              </td><td>0.6139289</td><td>0.5281458</td><td>0.6172363</td><td> 0.08909049</td><td>4764</td><td> 4553</td><td> 29160</td></tr>\n",
       "\t<tr><td>HC382</td><td>non_british_white</td><td>0.6093796</td><td>0.5676678</td><td>0.6265839</td><td> 0.05891606</td><td>4764</td><td> 3243</td><td> 21662</td></tr>\n",
       "\t<tr><td>HC382</td><td>s_asian          </td><td>0.5801543</td><td>0.5760666</td><td>0.6076715</td><td> 0.03160488</td><td>4764</td><td> 1171</td><td>  6660</td></tr>\n",
       "\t<tr><td>HC382</td><td>african          </td><td>0.5543122</td><td>0.6095357</td><td>0.6185394</td><td> 0.00900363</td><td>4764</td><td>  871</td><td>  5626</td></tr>\n",
       "\t<tr><td>HC382</td><td>e_asian          </td><td>0.5086445</td><td>0.5933069</td><td>0.5790888</td><td>-0.01421812</td><td>4764</td><td>  166</td><td>  1538</td></tr>\n",
       "</tbody>\n",
       "</table>\n"
      ],
      "text/latex": [
       "A data.frame: 7 × 9\n",
       "\\begin{tabular}{lllllllll}\n",
       " phenotype\\_name & split & geno & covar & geno\\_covar & geno\\_delta & n\\_variables & case\\_n & control\\_n\\\\\n",
       " <chr> & <chr> & <dbl> & <dbl> & <dbl> & <dbl> & <int> & <int> & <int>\\\\\n",
       "\\hline\n",
       "\t HC382 & train             & 0.7323389 & 0.5387748 & 0.7312488 &  0.19247405 & 4764 & 31741 & 204250\\\\\n",
       "\t HC382 & test              & 0.6120284 & 0.5352619 & 0.6163027 &  0.08104073 & 4764 &  8934 &  58491\\\\\n",
       "\t HC382 & val               & 0.6139289 & 0.5281458 & 0.6172363 &  0.08909049 & 4764 &  4553 &  29160\\\\\n",
       "\t HC382 & non\\_british\\_white & 0.6093796 & 0.5676678 & 0.6265839 &  0.05891606 & 4764 &  3243 &  21662\\\\\n",
       "\t HC382 & s\\_asian           & 0.5801543 & 0.5760666 & 0.6076715 &  0.03160488 & 4764 &  1171 &   6660\\\\\n",
       "\t HC382 & african           & 0.5543122 & 0.6095357 & 0.6185394 &  0.00900363 & 4764 &   871 &   5626\\\\\n",
       "\t HC382 & e\\_asian           & 0.5086445 & 0.5933069 & 0.5790888 & -0.01421812 & 4764 &   166 &   1538\\\\\n",
       "\\end{tabular}\n"
      ],
      "text/markdown": [
       "\n",
       "A data.frame: 7 × 9\n",
       "\n",
       "| phenotype_name &lt;chr&gt; | split &lt;chr&gt; | geno &lt;dbl&gt; | covar &lt;dbl&gt; | geno_covar &lt;dbl&gt; | geno_delta &lt;dbl&gt; | n_variables &lt;int&gt; | case_n &lt;int&gt; | control_n &lt;int&gt; |\n",
       "|---|---|---|---|---|---|---|---|---|\n",
       "| HC382 | train             | 0.7323389 | 0.5387748 | 0.7312488 |  0.19247405 | 4764 | 31741 | 204250 |\n",
       "| HC382 | test              | 0.6120284 | 0.5352619 | 0.6163027 |  0.08104073 | 4764 |  8934 |  58491 |\n",
       "| HC382 | val               | 0.6139289 | 0.5281458 | 0.6172363 |  0.08909049 | 4764 |  4553 |  29160 |\n",
       "| HC382 | non_british_white | 0.6093796 | 0.5676678 | 0.6265839 |  0.05891606 | 4764 |  3243 |  21662 |\n",
       "| HC382 | s_asian           | 0.5801543 | 0.5760666 | 0.6076715 |  0.03160488 | 4764 |  1171 |   6660 |\n",
       "| HC382 | african           | 0.5543122 | 0.6095357 | 0.6185394 |  0.00900363 | 4764 |   871 |   5626 |\n",
       "| HC382 | e_asian           | 0.5086445 | 0.5933069 | 0.5790888 | -0.01421812 | 4764 |   166 |   1538 |\n",
       "\n"
      ],
      "text/plain": [
       "  phenotype_name split             geno      covar     geno_covar geno_delta \n",
       "1 HC382          train             0.7323389 0.5387748 0.7312488   0.19247405\n",
       "2 HC382          test              0.6120284 0.5352619 0.6163027   0.08104073\n",
       "3 HC382          val               0.6139289 0.5281458 0.6172363   0.08909049\n",
       "4 HC382          non_british_white 0.6093796 0.5676678 0.6265839   0.05891606\n",
       "5 HC382          s_asian           0.5801543 0.5760666 0.6076715   0.03160488\n",
       "6 HC382          african           0.5543122 0.6095357 0.6185394   0.00900363\n",
       "7 HC382          e_asian           0.5086445 0.5933069 0.5790888  -0.01421812\n",
       "  n_variables case_n control_n\n",
       "1 4764        31741  204250   \n",
       "2 4764         8934   58491   \n",
       "3 4764         4553   29160   \n",
       "4 4764         3243   21662   \n",
       "5 4764         1171    6660   \n",
       "6 4764          871    5626   \n",
       "7 4764          166    1538   "
      ]
     },
     "metadata": {},
     "output_type": "display_data"
    }
   ],
   "source": [
    "eval_55_df"
   ]
  },
  {
   "cell_type": "code",
   "execution_count": null,
   "metadata": {},
   "outputs": [],
   "source": []
  }
 ],
 "metadata": {
  "kernelspec": {
   "display_name": "R",
   "language": "R",
   "name": "ir"
  },
  "language_info": {
   "codemirror_mode": "r",
   "file_extension": ".r",
   "mimetype": "text/x-r-source",
   "name": "R",
   "pygments_lexer": "r",
   "version": "3.6.2"
  }
 },
 "nbformat": 4,
 "nbformat_minor": 4
}

{
 "cells": [
  {
   "cell_type": "code",
   "execution_count": 1,
   "metadata": {},
   "outputs": [],
   "source": [
    "suppressWarnings(suppressPackageStartupMessages({\n",
    "    library(tidyverse)\n",
    "    library(data.table)\n",
    "}))\n"
   ]
  },
  {
   "cell_type": "code",
   "execution_count": 2,
   "metadata": {},
   "outputs": [],
   "source": [
    "metric_f <- 'metric_df.tsv'\n"
   ]
  },
  {
   "cell_type": "code",
   "execution_count": 3,
   "metadata": {},
   "outputs": [],
   "source": [
    "metric_f %>% fread() %>% rename('run_name'='#run_name') -> metric_all_df\n"
   ]
  },
  {
   "cell_type": "code",
   "execution_count": 7,
   "metadata": {},
   "outputs": [
    {
     "name": "stderr",
     "output_type": "stream",
     "text": [
      "Saving 6.67 x 6.67 in image\n",
      "\n",
      "Saving 6.67 x 6.67 in image\n",
      "\n"
     ]
    }
   ],
   "source": [
    "for(GBE_ID in c('HC269', 'HC382')){\n",
    "\n",
    "metric_all_df %>%\n",
    "filter(\n",
    "    fit_or_refit == '1_fit_w_val',\n",
    "    phenotype == GBE_ID\n",
    ") -> metric_df\n",
    "\n",
    "metric_df %>%\n",
    "ggplot(aes(x=train, y=val, color=run_name)) +\n",
    "geom_point(shape=4) + theme_bw() +\n",
    "xlim(min(metric_df %>% select(train, val)), max(metric_df %>% select(train, val))) +\n",
    "ylim(min(metric_df %>% select(train, val)), max(metric_df %>% select(train, val))) +\n",
    "geom_abline(slope=1, intercept=0, color='gray') +\n",
    "labs(\n",
    "    title = sprintf('Training set AUC vs validation set AUC, %s', GBE_ID),\n",
    "    x = 'training set AUC',\n",
    "    y = 'validation set AUC'\n",
    ") +\n",
    "theme(legend.position = c(.2, .8))-> p\n",
    "\n",
    "ggsave(sprintf('metric_viz.%s.pdf', GBE_ID), p)\n",
    "    \n",
    "}"
   ]
  },
  {
   "cell_type": "code",
   "execution_count": null,
   "metadata": {},
   "outputs": [],
   "source": []
  }
 ],
 "metadata": {
  "kernelspec": {
   "display_name": "R",
   "language": "R",
   "name": "ir"
  },
  "language_info": {
   "codemirror_mode": "r",
   "file_extension": ".r",
   "mimetype": "text/x-r-source",
   "name": "R",
   "pygments_lexer": "r",
   "version": "3.6.2"
  }
 },
 "nbformat": 4,
 "nbformat_minor": 4
}

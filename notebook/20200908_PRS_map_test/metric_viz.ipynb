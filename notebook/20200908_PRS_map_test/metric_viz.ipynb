{
 "cells": [
  {
   "cell_type": "code",
   "execution_count": 1,
   "metadata": {},
   "outputs": [],
   "source": [
    "suppressWarnings(suppressPackageStartupMessages({\n",
    "    library(tidyverse)\n",
    "    library(data.table)\n",
    "}))\n"
   ]
  },
  {
   "cell_type": "code",
   "execution_count": 9,
   "metadata": {},
   "outputs": [],
   "source": [
    "metric_f <- 'metric_df.tsv'\n",
    "eval_f <- 'eval_df.tsv'\n"
   ]
  },
  {
   "cell_type": "code",
   "execution_count": 3,
   "metadata": {},
   "outputs": [],
   "source": [
    "metric_f %>% fread() %>% rename('run_name'='#run_name') -> metric_all_df\n"
   ]
  },
  {
   "cell_type": "code",
   "execution_count": 10,
   "metadata": {},
   "outputs": [
    {
     "name": "stderr",
     "output_type": "stream",
     "text": [
      "Saving 6.67 x 6.67 in image\n",
      "\n",
      "Saving 6.67 x 6.67 in image\n",
      "\n",
      "Saving 6.67 x 6.67 in image\n",
      "\n",
      "Saving 6.67 x 6.67 in image\n",
      "\n",
      "Saving 6.67 x 6.67 in image\n",
      "\n",
      "Saving 6.67 x 6.67 in image\n",
      "\n",
      "Saving 6.67 x 6.67 in image\n",
      "\n",
      "Saving 6.67 x 6.67 in image\n",
      "\n"
     ]
    }
   ],
   "source": [
    "for(GBE_ID in c('HC269', 'HC382', 'INI50', 'INI21001')){\n",
    "\n",
    "metric_all_df %>%\n",
    "filter(\n",
    "    fit_or_refit == '1_fit_w_val',\n",
    "    phenotype == GBE_ID\n",
    ") -> metric_df\n",
    "\n",
    "metric_name <- ifelse(startsWith(GBE_ID, 'HC'), 'AUC', 'r2')\n",
    "    \n",
    "metric_df %>%\n",
    "ggplot(aes(x=train, y=val, color=run_name)) +\n",
    "geom_point(shape=4) + theme_bw() +\n",
    "xlim(min(metric_df %>% select(train, val)), max(metric_df %>% select(train, val))) +\n",
    "ylim(min(metric_df %>% select(train, val)), max(metric_df %>% select(train, val))) +\n",
    "geom_abline(slope=1, intercept=0, color='gray') +\n",
    "labs(\n",
    "    title = sprintf('Training set %s vs validation set %s, %s', metric_name, metric_name, GBE_ID),\n",
    "    x = sprintf('training set %s', metric_name),\n",
    "    y = sprintf('validation set %s', metric_name)\n",
    ") +\n",
    "theme(legend.position = c(.2, .8))-> p\n",
    "\n",
    "ggsave(sprintf('metric_viz_plots/metric_viz.%s.pdf', GBE_ID), p)\n",
    "ggsave(sprintf('metric_viz_plots/metric_viz.%s.png', GBE_ID), p)\n",
    "    \n",
    "}"
   ]
  },
  {
   "cell_type": "code",
   "execution_count": 15,
   "metadata": {},
   "outputs": [],
   "source": [
    "eval_f %>% fread() %>% rename('phenotype_name'='#phenotype_name') -> eval_df"
   ]
  },
  {
   "cell_type": "code",
   "execution_count": 17,
   "metadata": {},
   "outputs": [
    {
     "data": {
      "text/html": [
       "<table>\n",
       "<caption>A data.table: 13 × 10</caption>\n",
       "<thead>\n",
       "\t<tr><th scope=col>phenotype_name</th><th scope=col>run_name</th><th scope=col>geno</th><th scope=col>covar</th><th scope=col>geno_covar</th><th scope=col>geno_delta</th><th scope=col>n_variables</th><th scope=col>n</th><th scope=col>case_n</th><th scope=col>control_n</th></tr>\n",
       "\t<tr><th scope=col>&lt;chr&gt;</th><th scope=col>&lt;chr&gt;</th><th scope=col>&lt;dbl&gt;</th><th scope=col>&lt;dbl&gt;</th><th scope=col>&lt;dbl&gt;</th><th scope=col>&lt;dbl&gt;</th><th scope=col>&lt;int&gt;</th><th scope=col>&lt;int&gt;</th><th scope=col>&lt;int&gt;</th><th scope=col>&lt;int&gt;</th></tr>\n",
       "</thead>\n",
       "<tbody>\n",
       "\t<tr><td>HC269   </td><td>1_p_factor_v1       </td><td>0.6134598</td><td>0.68148668</td><td>0.7149091</td><td>0.03342237</td><td> 7143</td><td>   NA</td><td>4517</td><td>29196</td></tr>\n",
       "\t<tr><td>HC269   </td><td>2_p_factor_v2       </td><td>0.6134641</td><td>0.68148755</td><td>0.7149098</td><td>0.03342226</td><td> 7147</td><td>   NA</td><td>4517</td><td>29196</td></tr>\n",
       "\t<tr><td>HC269   </td><td>5_regDoms_pfactor_v4</td><td>0.6138144</td><td>0.68149311</td><td>0.7150870</td><td>0.03359394</td><td> 7407</td><td>   NA</td><td>4517</td><td>29196</td></tr>\n",
       "\t<tr><td>HC269   </td><td>6_pfactor_v4        </td><td>0.6134692</td><td>0.68148814</td><td>0.7149119</td><td>0.03342374</td><td> 7175</td><td>   NA</td><td>4517</td><td>29196</td></tr>\n",
       "\t<tr><td>HC382   </td><td>1_p_factor_v1       </td><td>0.6153153</td><td>0.52814576</td><td>0.6189194</td><td>0.09077367</td><td> 7595</td><td>   NA</td><td>4553</td><td>29160</td></tr>\n",
       "\t<tr><td>HC382   </td><td>2_p_factor_v2       </td><td>0.6154758</td><td>0.52816121</td><td>0.6191031</td><td>0.09094190</td><td> 7600</td><td>   NA</td><td>4553</td><td>29160</td></tr>\n",
       "\t<tr><td>HC382   </td><td>5_regDoms_pfactor_v4</td><td>0.6153647</td><td>0.52817400</td><td>0.6189874</td><td>0.09081339</td><td> 7627</td><td>   NA</td><td>4553</td><td>29160</td></tr>\n",
       "\t<tr><td>HC382   </td><td>6_pfactor_v4        </td><td>0.6153723</td><td>0.52816792</td><td>0.6190126</td><td>0.09084466</td><td> 7615</td><td>   NA</td><td>4553</td><td>29160</td></tr>\n",
       "\t<tr><td>INI21001</td><td>1_p_factor_v1       </td><td>0.1053199</td><td>0.01127417</td><td>0.1153801</td><td>0.10410589</td><td>28724</td><td>33609</td><td>  NA</td><td>   NA</td></tr>\n",
       "\t<tr><td>INI21001</td><td>2_p_factor_v2       </td><td>0.1053061</td><td>0.01127513</td><td>0.1153681</td><td>0.10409301</td><td>28716</td><td>33609</td><td>  NA</td><td>   NA</td></tr>\n",
       "\t<tr><td>INI21001</td><td>6_pfactor_v4        </td><td>0.1060081</td><td>0.01124840</td><td>0.1160372</td><td>0.10478884</td><td>30826</td><td>33609</td><td>  NA</td><td>   NA</td></tr>\n",
       "\t<tr><td>INI50   </td><td>1_p_factor_v1       </td><td>0.1740740</td><td>0.53510096</td><td>0.7105196</td><td>0.17541865</td><td>52377</td><td>33639</td><td>  NA</td><td>   NA</td></tr>\n",
       "\t<tr><td>INI50   </td><td>2_p_factor_v2       </td><td>0.1740671</td><td>0.53510283</td><td>0.7105244</td><td>0.17542156</td><td>52379</td><td>33639</td><td>  NA</td><td>   NA</td></tr>\n",
       "</tbody>\n",
       "</table>\n"
      ],
      "text/latex": [
       "A data.table: 13 × 10\n",
       "\\begin{tabular}{llllllllll}\n",
       " phenotype\\_name & run\\_name & geno & covar & geno\\_covar & geno\\_delta & n\\_variables & n & case\\_n & control\\_n\\\\\n",
       " <chr> & <chr> & <dbl> & <dbl> & <dbl> & <dbl> & <int> & <int> & <int> & <int>\\\\\n",
       "\\hline\n",
       "\t HC269    & 1\\_p\\_factor\\_v1        & 0.6134598 & 0.68148668 & 0.7149091 & 0.03342237 &  7143 &    NA & 4517 & 29196\\\\\n",
       "\t HC269    & 2\\_p\\_factor\\_v2        & 0.6134641 & 0.68148755 & 0.7149098 & 0.03342226 &  7147 &    NA & 4517 & 29196\\\\\n",
       "\t HC269    & 5\\_regDoms\\_pfactor\\_v4 & 0.6138144 & 0.68149311 & 0.7150870 & 0.03359394 &  7407 &    NA & 4517 & 29196\\\\\n",
       "\t HC269    & 6\\_pfactor\\_v4         & 0.6134692 & 0.68148814 & 0.7149119 & 0.03342374 &  7175 &    NA & 4517 & 29196\\\\\n",
       "\t HC382    & 1\\_p\\_factor\\_v1        & 0.6153153 & 0.52814576 & 0.6189194 & 0.09077367 &  7595 &    NA & 4553 & 29160\\\\\n",
       "\t HC382    & 2\\_p\\_factor\\_v2        & 0.6154758 & 0.52816121 & 0.6191031 & 0.09094190 &  7600 &    NA & 4553 & 29160\\\\\n",
       "\t HC382    & 5\\_regDoms\\_pfactor\\_v4 & 0.6153647 & 0.52817400 & 0.6189874 & 0.09081339 &  7627 &    NA & 4553 & 29160\\\\\n",
       "\t HC382    & 6\\_pfactor\\_v4         & 0.6153723 & 0.52816792 & 0.6190126 & 0.09084466 &  7615 &    NA & 4553 & 29160\\\\\n",
       "\t INI21001 & 1\\_p\\_factor\\_v1        & 0.1053199 & 0.01127417 & 0.1153801 & 0.10410589 & 28724 & 33609 &   NA &    NA\\\\\n",
       "\t INI21001 & 2\\_p\\_factor\\_v2        & 0.1053061 & 0.01127513 & 0.1153681 & 0.10409301 & 28716 & 33609 &   NA &    NA\\\\\n",
       "\t INI21001 & 6\\_pfactor\\_v4         & 0.1060081 & 0.01124840 & 0.1160372 & 0.10478884 & 30826 & 33609 &   NA &    NA\\\\\n",
       "\t INI50    & 1\\_p\\_factor\\_v1        & 0.1740740 & 0.53510096 & 0.7105196 & 0.17541865 & 52377 & 33639 &   NA &    NA\\\\\n",
       "\t INI50    & 2\\_p\\_factor\\_v2        & 0.1740671 & 0.53510283 & 0.7105244 & 0.17542156 & 52379 & 33639 &   NA &    NA\\\\\n",
       "\\end{tabular}\n"
      ],
      "text/markdown": [
       "\n",
       "A data.table: 13 × 10\n",
       "\n",
       "| phenotype_name &lt;chr&gt; | run_name &lt;chr&gt; | geno &lt;dbl&gt; | covar &lt;dbl&gt; | geno_covar &lt;dbl&gt; | geno_delta &lt;dbl&gt; | n_variables &lt;int&gt; | n &lt;int&gt; | case_n &lt;int&gt; | control_n &lt;int&gt; |\n",
       "|---|---|---|---|---|---|---|---|---|---|\n",
       "| HC269    | 1_p_factor_v1        | 0.6134598 | 0.68148668 | 0.7149091 | 0.03342237 |  7143 |    NA | 4517 | 29196 |\n",
       "| HC269    | 2_p_factor_v2        | 0.6134641 | 0.68148755 | 0.7149098 | 0.03342226 |  7147 |    NA | 4517 | 29196 |\n",
       "| HC269    | 5_regDoms_pfactor_v4 | 0.6138144 | 0.68149311 | 0.7150870 | 0.03359394 |  7407 |    NA | 4517 | 29196 |\n",
       "| HC269    | 6_pfactor_v4         | 0.6134692 | 0.68148814 | 0.7149119 | 0.03342374 |  7175 |    NA | 4517 | 29196 |\n",
       "| HC382    | 1_p_factor_v1        | 0.6153153 | 0.52814576 | 0.6189194 | 0.09077367 |  7595 |    NA | 4553 | 29160 |\n",
       "| HC382    | 2_p_factor_v2        | 0.6154758 | 0.52816121 | 0.6191031 | 0.09094190 |  7600 |    NA | 4553 | 29160 |\n",
       "| HC382    | 5_regDoms_pfactor_v4 | 0.6153647 | 0.52817400 | 0.6189874 | 0.09081339 |  7627 |    NA | 4553 | 29160 |\n",
       "| HC382    | 6_pfactor_v4         | 0.6153723 | 0.52816792 | 0.6190126 | 0.09084466 |  7615 |    NA | 4553 | 29160 |\n",
       "| INI21001 | 1_p_factor_v1        | 0.1053199 | 0.01127417 | 0.1153801 | 0.10410589 | 28724 | 33609 |   NA |    NA |\n",
       "| INI21001 | 2_p_factor_v2        | 0.1053061 | 0.01127513 | 0.1153681 | 0.10409301 | 28716 | 33609 |   NA |    NA |\n",
       "| INI21001 | 6_pfactor_v4         | 0.1060081 | 0.01124840 | 0.1160372 | 0.10478884 | 30826 | 33609 |   NA |    NA |\n",
       "| INI50    | 1_p_factor_v1        | 0.1740740 | 0.53510096 | 0.7105196 | 0.17541865 | 52377 | 33639 |   NA |    NA |\n",
       "| INI50    | 2_p_factor_v2        | 0.1740671 | 0.53510283 | 0.7105244 | 0.17542156 | 52379 | 33639 |   NA |    NA |\n",
       "\n"
      ],
      "text/plain": [
       "   phenotype_name run_name             geno      covar      geno_covar\n",
       "1  HC269          1_p_factor_v1        0.6134598 0.68148668 0.7149091 \n",
       "2  HC269          2_p_factor_v2        0.6134641 0.68148755 0.7149098 \n",
       "3  HC269          5_regDoms_pfactor_v4 0.6138144 0.68149311 0.7150870 \n",
       "4  HC269          6_pfactor_v4         0.6134692 0.68148814 0.7149119 \n",
       "5  HC382          1_p_factor_v1        0.6153153 0.52814576 0.6189194 \n",
       "6  HC382          2_p_factor_v2        0.6154758 0.52816121 0.6191031 \n",
       "7  HC382          5_regDoms_pfactor_v4 0.6153647 0.52817400 0.6189874 \n",
       "8  HC382          6_pfactor_v4         0.6153723 0.52816792 0.6190126 \n",
       "9  INI21001       1_p_factor_v1        0.1053199 0.01127417 0.1153801 \n",
       "10 INI21001       2_p_factor_v2        0.1053061 0.01127513 0.1153681 \n",
       "11 INI21001       6_pfactor_v4         0.1060081 0.01124840 0.1160372 \n",
       "12 INI50          1_p_factor_v1        0.1740740 0.53510096 0.7105196 \n",
       "13 INI50          2_p_factor_v2        0.1740671 0.53510283 0.7105244 \n",
       "   geno_delta n_variables n     case_n control_n\n",
       "1  0.03342237  7143          NA 4517   29196    \n",
       "2  0.03342226  7147          NA 4517   29196    \n",
       "3  0.03359394  7407          NA 4517   29196    \n",
       "4  0.03342374  7175          NA 4517   29196    \n",
       "5  0.09077367  7595          NA 4553   29160    \n",
       "6  0.09094190  7600          NA 4553   29160    \n",
       "7  0.09081339  7627          NA 4553   29160    \n",
       "8  0.09084466  7615          NA 4553   29160    \n",
       "9  0.10410589 28724       33609   NA      NA    \n",
       "10 0.10409301 28716       33609   NA      NA    \n",
       "11 0.10478884 30826       33609   NA      NA    \n",
       "12 0.17541865 52377       33639   NA      NA    \n",
       "13 0.17542156 52379       33639   NA      NA    "
      ]
     },
     "metadata": {},
     "output_type": "display_data"
    }
   ],
   "source": [
    "eval_df %>% filter(split == 'val') %>%\n",
    "arrange(phenotype_name) %>%\n",
    "select(-fit_or_refit, -split)"
   ]
  },
  {
   "cell_type": "code",
   "execution_count": null,
   "metadata": {},
   "outputs": [],
   "source": []
  }
 ],
 "metadata": {
  "kernelspec": {
   "display_name": "R",
   "language": "R",
   "name": "ir"
  },
  "language_info": {
   "codemirror_mode": "r",
   "file_extension": ".r",
   "mimetype": "text/x-r-source",
   "name": "R",
   "pygments_lexer": "r",
   "version": "3.6.2"
  }
 },
 "nbformat": 4,
 "nbformat_minor": 4
}

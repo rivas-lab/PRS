{
 "cells": [
  {
   "cell_type": "code",
   "execution_count": 1,
   "metadata": {},
   "outputs": [],
   "source": [
    "suppressWarnings(suppressPackageStartupMessages({\n",
    "    library(tidyverse)\n",
    "    library(data.table)\n",
    "}))\n"
   ]
  },
  {
   "cell_type": "code",
   "execution_count": 2,
   "metadata": {},
   "outputs": [],
   "source": [
    "run_name <- '1_p_factor_v1'\n",
    "phenotype <- 'HC382'\n"
   ]
  },
  {
   "cell_type": "code",
   "execution_count": 3,
   "metadata": {},
   "outputs": [],
   "source": [
    "load(file.path(\n",
    "    '/oak/stanford/groups/mrivas/projects/PRS/private_output/20200908_PRS_map_test', \n",
    "    run_name, phenotype, '1_fit_w_val', 'snpnet.RData'\n",
    "))\n"
   ]
  },
  {
   "cell_type": "code",
   "execution_count": 4,
   "metadata": {},
   "outputs": [],
   "source": [
    "data.frame(train = fit$metric.train, val = fit$metric.val) %>%\n",
    "drop_na() -> metric_df\n"
   ]
  },
  {
   "cell_type": "code",
   "execution_count": 5,
   "metadata": {},
   "outputs": [
    {
     "data": {
      "text/html": [
       "<table>\n",
       "<caption>A data.frame: 6 × 3</caption>\n",
       "<thead>\n",
       "\t<tr><th></th><th scope=col>train</th><th scope=col>val</th><th scope=col>val_rank</th></tr>\n",
       "\t<tr><th></th><th scope=col>&lt;dbl&gt;</th><th scope=col>&lt;dbl&gt;</th><th scope=col>&lt;dbl&gt;</th></tr>\n",
       "</thead>\n",
       "<tbody>\n",
       "\t<tr><th scope=row>55</th><td>0.7313220</td><td>0.6172663</td><td>6</td></tr>\n",
       "\t<tr><th scope=row>56</th><td>0.7451864</td><td>0.6180006</td><td>5</td></tr>\n",
       "\t<tr><th scope=row>57</th><td>0.7588526</td><td>0.6186105</td><td>3</td></tr>\n",
       "\t<tr><th scope=row>58</th><td>0.7722732</td><td>0.6189426</td><td>1</td></tr>\n",
       "\t<tr><th scope=row>59</th><td>0.7853118</td><td>0.6188705</td><td>2</td></tr>\n",
       "\t<tr><th scope=row>60</th><td>0.7979389</td><td>0.6185562</td><td>4</td></tr>\n",
       "</tbody>\n",
       "</table>\n"
      ],
      "text/latex": [
       "A data.frame: 6 × 3\n",
       "\\begin{tabular}{r|lll}\n",
       "  & train & val & val\\_rank\\\\\n",
       "  & <dbl> & <dbl> & <dbl>\\\\\n",
       "\\hline\n",
       "\t55 & 0.7313220 & 0.6172663 & 6\\\\\n",
       "\t56 & 0.7451864 & 0.6180006 & 5\\\\\n",
       "\t57 & 0.7588526 & 0.6186105 & 3\\\\\n",
       "\t58 & 0.7722732 & 0.6189426 & 1\\\\\n",
       "\t59 & 0.7853118 & 0.6188705 & 2\\\\\n",
       "\t60 & 0.7979389 & 0.6185562 & 4\\\\\n",
       "\\end{tabular}\n"
      ],
      "text/markdown": [
       "\n",
       "A data.frame: 6 × 3\n",
       "\n",
       "| <!--/--> | train &lt;dbl&gt; | val &lt;dbl&gt; | val_rank &lt;dbl&gt; |\n",
       "|---|---|---|---|\n",
       "| 55 | 0.7313220 | 0.6172663 | 6 |\n",
       "| 56 | 0.7451864 | 0.6180006 | 5 |\n",
       "| 57 | 0.7588526 | 0.6186105 | 3 |\n",
       "| 58 | 0.7722732 | 0.6189426 | 1 |\n",
       "| 59 | 0.7853118 | 0.6188705 | 2 |\n",
       "| 60 | 0.7979389 | 0.6185562 | 4 |\n",
       "\n"
      ],
      "text/plain": [
       "   train     val       val_rank\n",
       "55 0.7313220 0.6172663 6       \n",
       "56 0.7451864 0.6180006 5       \n",
       "57 0.7588526 0.6186105 3       \n",
       "58 0.7722732 0.6189426 1       \n",
       "59 0.7853118 0.6188705 2       \n",
       "60 0.7979389 0.6185562 4       "
      ]
     },
     "metadata": {},
     "output_type": "display_data"
    }
   ],
   "source": [
    "metric_df %>%\n",
    "mutate(val_rank = rank(-val)) %>%\n",
    "tail()"
   ]
  },
  {
   "cell_type": "code",
   "execution_count": 6,
   "metadata": {},
   "outputs": [],
   "source": [
    "metric_df %>%\n",
    "ggplot(aes(x=train, y=val)) +\n",
    "geom_point() +\n",
    "theme_bw() +\n",
    "xlim(min(metric_df), max(metric_df)) +\n",
    "ylim(min(metric_df), max(metric_df)) +\n",
    "geom_abline(slope=1, intercept=0, color='gray') +\n",
    "labs(\n",
    "    title = 'Training set AUC vs validation set AUC, HC382, p.factor_v1',\n",
    "    x = 'training set AUC',\n",
    "    y = 'validation set AUC'\n",
    ") -> p\n"
   ]
  },
  {
   "cell_type": "code",
   "execution_count": 7,
   "metadata": {},
   "outputs": [
    {
     "name": "stderr",
     "output_type": "stream",
     "text": [
      "Saving 6.67 x 6.67 in image\n",
      "\n",
      "Saving 6.67 x 6.67 in image\n",
      "\n"
     ]
    }
   ],
   "source": [
    "for(ext in c('png', 'pdf')){\n",
    "    ggsave(sprintf('AUC_viz.%s.%s', phenotype, ext), p)    \n",
    "}\n"
   ]
  },
  {
   "cell_type": "code",
   "execution_count": null,
   "metadata": {},
   "outputs": [],
   "source": []
  }
 ],
 "metadata": {
  "kernelspec": {
   "display_name": "R",
   "language": "R",
   "name": "ir"
  },
  "language_info": {
   "codemirror_mode": "r",
   "file_extension": ".r",
   "mimetype": "text/x-r-source",
   "name": "R",
   "pygments_lexer": "r",
   "version": "3.6.2"
  }
 },
 "nbformat": 4,
 "nbformat_minor": 4
}

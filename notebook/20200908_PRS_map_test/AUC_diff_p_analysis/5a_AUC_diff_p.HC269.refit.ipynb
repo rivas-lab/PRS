{
 "cells": [
  {
   "cell_type": "code",
   "execution_count": 1,
   "metadata": {},
   "outputs": [],
   "source": [
    "suppressWarnings(suppressPackageStartupMessages({\n",
    "    library(tidyverse)\n",
    "    library(data.table)\n",
    "}))\n"
   ]
  },
  {
   "cell_type": "code",
   "execution_count": 2,
   "metadata": {},
   "outputs": [],
   "source": [
    "run_name <- '1_p_factor_v1'\n",
    "phenotype <- 'HC269'\n",
    "refit <- T\n",
    "lambda_idx <- 50\n",
    "\n",
    "data_d <- file.path(\n",
    "    '/oak/stanford/groups/mrivas/projects/PRS/private_output/20200908_PRS_map_test', \n",
    "    run_name, phenotype, ifelse(refit, '2_refit', '1_fit_w_val')\n",
    ")\n"
   ]
  },
  {
   "cell_type": "code",
   "execution_count": 3,
   "metadata": {},
   "outputs": [],
   "source": [
    "# input and parameters\n",
    "\n",
    "#data_d <- '/oak/stanford/groups/mrivas/projects/PRS/private_output/20200908_PRS_map_test'\n",
    "phe_f <- '/scratch/groups/mrivas/ukbb24983/phenotypedata/master_phe/master.20200828.phe.zst'\n",
    "covariates       <- c('age', 'sex', paste0('PC', 1:10))\n",
    "refit_split_strs <- c('non_british_white', 'african', 's_asian', 'e_asian')\n",
    "sscore_f             <- file.path(data_d, 'results', sprintf('snpnet.lambda%d.sscore.zst', lambda_idx))\n",
    "snpnet_BETAs_f       <- file.path(data_d, 'results', sprintf('snpnet.lambda%d.tsv', lambda_idx))\n",
    "snpnet_covar_BETAs_f <- file.path(data_d, 'results', sprintf('snpnet.lambda%d.covars.tsv', lambda_idx))\n",
    "family <- ifelse((startsWith(phenotype, 'INI') | startsWith(phenotype, 'QT_FC')), 'gaussian', 'binomial')\n",
    "\n",
    "# output\n",
    "eval_f <- file.path(data_d, 'snpnet.AUCp.eval.tsv')\n",
    "plot_f <- file.path(data_d, 'snpnet.AUCp.plot.pdf')\n",
    "percentile_f <- file.path(data_d, 'snpnet.AUCp.percentile.tsv')\n",
    "\n",
    "eval_f <- sprintf('AUC_diff_p_eval-refit.%s.tsv', phenotype)"
   ]
  },
  {
   "cell_type": "code",
   "execution_count": 4,
   "metadata": {},
   "outputs": [],
   "source": [
    "source('/oak/stanford/groups/mrivas/users/ytanigaw/repos/rivas-lab/snpnet/helpers/snpnet_misc.R')\n",
    "\n",
    "# read the raw phenotype file\n",
    "fread(\n",
    "    cmd=paste(cat_or_zcat(phe_f), phe_f,  '|', 'sed -e \"s/^#//g\"'),\n",
    "    select=c('FID', 'IID', 'split', covariates, phenotype),\n",
    "    colClasses = c('FID'='character', 'IID'='character'),\n",
    "    data.table=F\n",
    ") -> phe_df\n",
    "\n",
    "if(refit){\n",
    "    phe_df %>%\n",
    "    mutate(\n",
    "        split = if_else(split %in% c('train', 'val'), 'train_val', split)\n",
    "    ) -> phe_df\n",
    "}\n",
    "\n",
    "# read PRS and covariate-based score\n",
    "phe_df %>%\n",
    "compute_phe_score_df(\n",
    "    phenotype,\n",
    "    str_replace_all(sscore_f, '__PHENOTYPE__', phenotype),\n",
    "    str_replace_all(snpnet_covar_BETAs_f, '__PHENOTYPE__', phenotype),\n",
    "    covariates, family, refit_split_strs\n",
    ") -> phe_score_df\n"
   ]
  },
  {
   "cell_type": "code",
   "execution_count": 5,
   "metadata": {},
   "outputs": [],
   "source": [
    "# evaluate the predictive performance\n",
    "phe_score_df  %>%\n",
    "eval_performance(\n",
    "    phenotype,\n",
    "    str_replace_all(snpnet_BETAs_f, '__PHENOTYPE__', phenotype),\n",
    "    family\n",
    ") -> eval_df\n",
    "\n",
    "eval_df %>%\n",
    "rename('#phenotype_name' = 'phenotype_name') %>%\n",
    "fwrite(str_replace_all(eval_f, '__PHENOTYPE__', phenotype), sep='\\t', na = \"NA\", quote=F)\n"
   ]
  },
  {
   "cell_type": "code",
   "execution_count": 6,
   "metadata": {},
   "outputs": [
    {
     "name": "stderr",
     "output_type": "stream",
     "text": [
      "Note: Using an external vector in selections is ambiguous.\n",
      "\u001b[34mℹ\u001b[39m Use `all_of(percentile_col)` instead of `percentile_col` to silence this message.\n",
      "\u001b[34mℹ\u001b[39m See <https://tidyselect.r-lib.org/reference/faq-external-vector.html>.\n",
      "\u001b[90mThis message is displayed once per session.\u001b[39m\n",
      "\n",
      "Note: Using an external vector in selections is ambiguous.\n",
      "\u001b[34mℹ\u001b[39m Use `all_of(phe_col)` instead of `phe_col` to silence this message.\n",
      "\u001b[34mℹ\u001b[39m See <https://tidyselect.r-lib.org/reference/faq-external-vector.html>.\n",
      "\u001b[90mThis message is displayed once per session.\u001b[39m\n",
      "\n"
     ]
    }
   ],
   "source": [
    "# prepare data frames for the plots\n",
    "phe_score_df %>%\n",
    "filter(split == 'test') %>% drop_na(geno_score, phe) %>%\n",
    "mutate(\n",
    "    geno_score_percentile = rank(-geno_score) / n()\n",
    ") -> plot_df\n",
    "\n",
    "summary_plot_df <- plot_df %>%\n",
    "compute_summary_df('geno_score_percentile', 'phe', family=family)\n",
    "\n",
    "summary_plot_df %>%\n",
    "rename('#l_bin' = 'l_bin') %>%\n",
    "fwrite(percentile_f, sep='\\t', na = \"NA\", quote=F)\n"
   ]
  },
  {
   "cell_type": "code",
   "execution_count": 7,
   "metadata": {},
   "outputs": [
    {
     "name": "stderr",
     "output_type": "stream",
     "text": [
      "Note: Using an external vector in selections is ambiguous.\n",
      "\u001b[34mℹ\u001b[39m Use `all_of(geno_score_col)` instead of `geno_score_col` to silence this message.\n",
      "\u001b[34mℹ\u001b[39m See <https://tidyselect.r-lib.org/reference/faq-external-vector.html>.\n",
      "\u001b[90mThis message is displayed once per session.\u001b[39m\n",
      "\n"
     ]
    }
   ],
   "source": [
    "if(family == 'gaussian'){\n",
    "    p1 <- plot_df %>% plot_PRS_vs_phe() +\n",
    "    theme(legend.position=c(.1, .8))+\n",
    "    labs(title = phenotype, y = phenotype)\n",
    "\n",
    "    p2 <- summary_plot_df %>%\n",
    "    plot_PRS_bin_vs_phe(mean(plot_df$phe))+\n",
    "    labs(title = phenotype, y = phenotype)\n",
    "}else if(family == 'binomial'){\n",
    "    p1 <- plot_df %>% plot_PRS_binomial() +\n",
    "    labs(title = phenotype, x = phenotype)\n",
    "\n",
    "    p2 <- summary_plot_df %>% plot_PRS_bin_vs_OR() +\n",
    "    labs(title = phenotype)\n",
    "}else{\n",
    "    stop(sprintf('%s family is not supported!', family))\n",
    "}\n"
   ]
  },
  {
   "cell_type": "code",
   "execution_count": 8,
   "metadata": {},
   "outputs": [],
   "source": [
    "g <- gridExtra::arrangeGrob(p1, p2, ncol=2)\n",
    "ggsave(plot_f, g, width=12, height=6)\n",
    "ggsave(str_replace(plot_f, '.pdf$', '.png'), g, width=12, height=6)\n"
   ]
  },
  {
   "cell_type": "code",
   "execution_count": 9,
   "metadata": {},
   "outputs": [
    {
     "data": {
      "text/html": [
       "<table>\n",
       "<caption>A data.frame: 6 × 9</caption>\n",
       "<thead>\n",
       "\t<tr><th scope=col>phenotype_name</th><th scope=col>split</th><th scope=col>geno</th><th scope=col>covar</th><th scope=col>geno_covar</th><th scope=col>geno_delta</th><th scope=col>n_variables</th><th scope=col>case_n</th><th scope=col>control_n</th></tr>\n",
       "\t<tr><th scope=col>&lt;chr&gt;</th><th scope=col>&lt;chr&gt;</th><th scope=col>&lt;dbl&gt;</th><th scope=col>&lt;dbl&gt;</th><th scope=col>&lt;dbl&gt;</th><th scope=col>&lt;dbl&gt;</th><th scope=col>&lt;int&gt;</th><th scope=col>&lt;int&gt;</th><th scope=col>&lt;int&gt;</th></tr>\n",
       "</thead>\n",
       "<tbody>\n",
       "\t<tr><td>HC269</td><td>train_val        </td><td>0.6855246</td><td>0.6887982</td><td>0.7532788</td><td>0.064480562</td><td>2888</td><td>36227</td><td>233477</td></tr>\n",
       "\t<tr><td>HC269</td><td>test             </td><td>0.6196377</td><td>0.6926436</td><td>0.7264104</td><td>0.033766825</td><td>2888</td><td> 8999</td><td> 58426</td></tr>\n",
       "\t<tr><td>HC269</td><td>non_british_white</td><td>0.6234629</td><td>0.7042144</td><td>0.7363782</td><td>0.032163777</td><td>2888</td><td> 2910</td><td> 21995</td></tr>\n",
       "\t<tr><td>HC269</td><td>s_asian          </td><td>0.5790516</td><td>0.6688482</td><td>0.6874646</td><td>0.018616405</td><td>2888</td><td> 1551</td><td>  6280</td></tr>\n",
       "\t<tr><td>HC269</td><td>african          </td><td>0.5588566</td><td>0.7144893</td><td>0.7216193</td><td>0.007130081</td><td>2888</td><td>  718</td><td>  5779</td></tr>\n",
       "\t<tr><td>HC269</td><td>e_asian          </td><td>0.5900024</td><td>0.7022054</td><td>0.7248575</td><td>0.022652043</td><td>2888</td><td>  164</td><td>  1540</td></tr>\n",
       "</tbody>\n",
       "</table>\n"
      ],
      "text/latex": [
       "A data.frame: 6 × 9\n",
       "\\begin{tabular}{lllllllll}\n",
       " phenotype\\_name & split & geno & covar & geno\\_covar & geno\\_delta & n\\_variables & case\\_n & control\\_n\\\\\n",
       " <chr> & <chr> & <dbl> & <dbl> & <dbl> & <dbl> & <int> & <int> & <int>\\\\\n",
       "\\hline\n",
       "\t HC269 & train\\_val         & 0.6855246 & 0.6887982 & 0.7532788 & 0.064480562 & 2888 & 36227 & 233477\\\\\n",
       "\t HC269 & test              & 0.6196377 & 0.6926436 & 0.7264104 & 0.033766825 & 2888 &  8999 &  58426\\\\\n",
       "\t HC269 & non\\_british\\_white & 0.6234629 & 0.7042144 & 0.7363782 & 0.032163777 & 2888 &  2910 &  21995\\\\\n",
       "\t HC269 & s\\_asian           & 0.5790516 & 0.6688482 & 0.6874646 & 0.018616405 & 2888 &  1551 &   6280\\\\\n",
       "\t HC269 & african           & 0.5588566 & 0.7144893 & 0.7216193 & 0.007130081 & 2888 &   718 &   5779\\\\\n",
       "\t HC269 & e\\_asian           & 0.5900024 & 0.7022054 & 0.7248575 & 0.022652043 & 2888 &   164 &   1540\\\\\n",
       "\\end{tabular}\n"
      ],
      "text/markdown": [
       "\n",
       "A data.frame: 6 × 9\n",
       "\n",
       "| phenotype_name &lt;chr&gt; | split &lt;chr&gt; | geno &lt;dbl&gt; | covar &lt;dbl&gt; | geno_covar &lt;dbl&gt; | geno_delta &lt;dbl&gt; | n_variables &lt;int&gt; | case_n &lt;int&gt; | control_n &lt;int&gt; |\n",
       "|---|---|---|---|---|---|---|---|---|\n",
       "| HC269 | train_val         | 0.6855246 | 0.6887982 | 0.7532788 | 0.064480562 | 2888 | 36227 | 233477 |\n",
       "| HC269 | test              | 0.6196377 | 0.6926436 | 0.7264104 | 0.033766825 | 2888 |  8999 |  58426 |\n",
       "| HC269 | non_british_white | 0.6234629 | 0.7042144 | 0.7363782 | 0.032163777 | 2888 |  2910 |  21995 |\n",
       "| HC269 | s_asian           | 0.5790516 | 0.6688482 | 0.6874646 | 0.018616405 | 2888 |  1551 |   6280 |\n",
       "| HC269 | african           | 0.5588566 | 0.7144893 | 0.7216193 | 0.007130081 | 2888 |   718 |   5779 |\n",
       "| HC269 | e_asian           | 0.5900024 | 0.7022054 | 0.7248575 | 0.022652043 | 2888 |   164 |   1540 |\n",
       "\n"
      ],
      "text/plain": [
       "  phenotype_name split             geno      covar     geno_covar geno_delta \n",
       "1 HC269          train_val         0.6855246 0.6887982 0.7532788  0.064480562\n",
       "2 HC269          test              0.6196377 0.6926436 0.7264104  0.033766825\n",
       "3 HC269          non_british_white 0.6234629 0.7042144 0.7363782  0.032163777\n",
       "4 HC269          s_asian           0.5790516 0.6688482 0.6874646  0.018616405\n",
       "5 HC269          african           0.5588566 0.7144893 0.7216193  0.007130081\n",
       "6 HC269          e_asian           0.5900024 0.7022054 0.7248575  0.022652043\n",
       "  n_variables case_n control_n\n",
       "1 2888        36227  233477   \n",
       "2 2888         8999   58426   \n",
       "3 2888         2910   21995   \n",
       "4 2888         1551    6280   \n",
       "5 2888          718    5779   \n",
       "6 2888          164    1540   "
      ]
     },
     "metadata": {},
     "output_type": "display_data"
    }
   ],
   "source": [
    "eval_df"
   ]
  },
  {
   "cell_type": "code",
   "execution_count": null,
   "metadata": {},
   "outputs": [],
   "source": []
  }
 ],
 "metadata": {
  "kernelspec": {
   "display_name": "R",
   "language": "R",
   "name": "ir"
  },
  "language_info": {
   "codemirror_mode": "r",
   "file_extension": ".r",
   "mimetype": "text/x-r-source",
   "name": "R",
   "pygments_lexer": "r",
   "version": "3.6.2"
  }
 },
 "nbformat": 4,
 "nbformat_minor": 4
}

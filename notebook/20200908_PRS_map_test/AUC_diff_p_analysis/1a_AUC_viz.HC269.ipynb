{
 "cells": [
  {
   "cell_type": "code",
   "execution_count": 1,
   "metadata": {},
   "outputs": [],
   "source": [
    "suppressWarnings(suppressPackageStartupMessages({\n",
    "    library(tidyverse)\n",
    "    library(data.table)\n",
    "}))\n"
   ]
  },
  {
   "cell_type": "code",
   "execution_count": 2,
   "metadata": {},
   "outputs": [],
   "source": [
    "run_name <- '1_p_factor_v1'\n",
    "phenotype <- 'HC269'\n"
   ]
  },
  {
   "cell_type": "code",
   "execution_count": 3,
   "metadata": {},
   "outputs": [],
   "source": [
    "load(file.path(\n",
    "    '/oak/stanford/groups/mrivas/projects/PRS/private_output/20200908_PRS_map_test', \n",
    "    run_name, phenotype, '1_fit_w_val', 'snpnet.RData'\n",
    "))\n"
   ]
  },
  {
   "cell_type": "code",
   "execution_count": 4,
   "metadata": {},
   "outputs": [],
   "source": [
    "data.frame(train = fit$metric.train, val = fit$metric.val) %>%\n",
    "drop_na() -> metric_df\n"
   ]
  },
  {
   "cell_type": "code",
   "execution_count": 5,
   "metadata": {},
   "outputs": [
    {
     "data": {
      "text/html": [
       "<table>\n",
       "<caption>A data.frame: 6 × 3</caption>\n",
       "<thead>\n",
       "\t<tr><th></th><th scope=col>train</th><th scope=col>val</th><th scope=col>val_rank</th></tr>\n",
       "\t<tr><th></th><th scope=col>&lt;dbl&gt;</th><th scope=col>&lt;dbl&gt;</th><th scope=col>&lt;dbl&gt;</th></tr>\n",
       "</thead>\n",
       "<tbody>\n",
       "\t<tr><th scope=row>51</th><td>0.7737673</td><td>0.7143457</td><td>5</td></tr>\n",
       "\t<tr><th scope=row>52</th><td>0.7823647</td><td>0.7146414</td><td>4</td></tr>\n",
       "\t<tr><th scope=row>53</th><td>0.7913276</td><td>0.7148526</td><td>2</td></tr>\n",
       "\t<tr><th scope=row>54</th><td>0.8005768</td><td>0.7149121</td><td>1</td></tr>\n",
       "\t<tr><th scope=row>55</th><td>0.8101049</td><td>0.7146884</td><td>3</td></tr>\n",
       "\t<tr><th scope=row>56</th><td>0.8197465</td><td>0.7142011</td><td>6</td></tr>\n",
       "</tbody>\n",
       "</table>\n"
      ],
      "text/latex": [
       "A data.frame: 6 × 3\n",
       "\\begin{tabular}{r|lll}\n",
       "  & train & val & val\\_rank\\\\\n",
       "  & <dbl> & <dbl> & <dbl>\\\\\n",
       "\\hline\n",
       "\t51 & 0.7737673 & 0.7143457 & 5\\\\\n",
       "\t52 & 0.7823647 & 0.7146414 & 4\\\\\n",
       "\t53 & 0.7913276 & 0.7148526 & 2\\\\\n",
       "\t54 & 0.8005768 & 0.7149121 & 1\\\\\n",
       "\t55 & 0.8101049 & 0.7146884 & 3\\\\\n",
       "\t56 & 0.8197465 & 0.7142011 & 6\\\\\n",
       "\\end{tabular}\n"
      ],
      "text/markdown": [
       "\n",
       "A data.frame: 6 × 3\n",
       "\n",
       "| <!--/--> | train &lt;dbl&gt; | val &lt;dbl&gt; | val_rank &lt;dbl&gt; |\n",
       "|---|---|---|---|\n",
       "| 51 | 0.7737673 | 0.7143457 | 5 |\n",
       "| 52 | 0.7823647 | 0.7146414 | 4 |\n",
       "| 53 | 0.7913276 | 0.7148526 | 2 |\n",
       "| 54 | 0.8005768 | 0.7149121 | 1 |\n",
       "| 55 | 0.8101049 | 0.7146884 | 3 |\n",
       "| 56 | 0.8197465 | 0.7142011 | 6 |\n",
       "\n"
      ],
      "text/plain": [
       "   train     val       val_rank\n",
       "51 0.7737673 0.7143457 5       \n",
       "52 0.7823647 0.7146414 4       \n",
       "53 0.7913276 0.7148526 2       \n",
       "54 0.8005768 0.7149121 1       \n",
       "55 0.8101049 0.7146884 3       \n",
       "56 0.8197465 0.7142011 6       "
      ]
     },
     "metadata": {},
     "output_type": "display_data"
    }
   ],
   "source": [
    "metric_df %>%\n",
    "mutate(val_rank = rank(-val)) %>%\n",
    "tail()"
   ]
  },
  {
   "cell_type": "code",
   "execution_count": 6,
   "metadata": {},
   "outputs": [],
   "source": [
    "metric_df %>%\n",
    "ggplot(aes(x=train, y=val)) +\n",
    "geom_point() +\n",
    "theme_bw() +\n",
    "xlim(min(metric_df), max(metric_df)) +\n",
    "ylim(min(metric_df), max(metric_df)) +\n",
    "geom_abline(slope=1, intercept=0, color='gray') +\n",
    "labs(\n",
    "    title = 'Training set AUC vs validation set AUC, HC382, p.factor_v1',\n",
    "    x = 'training set AUC',\n",
    "    y = 'validation set AUC'\n",
    ") -> p\n"
   ]
  },
  {
   "cell_type": "code",
   "execution_count": 7,
   "metadata": {},
   "outputs": [
    {
     "name": "stderr",
     "output_type": "stream",
     "text": [
      "Saving 6.67 x 6.67 in image\n",
      "\n",
      "Saving 6.67 x 6.67 in image\n",
      "\n"
     ]
    }
   ],
   "source": [
    "for(ext in c('png', 'pdf')){\n",
    "    ggsave(sprintf('AUC_viz.%s.%s', phenotype, ext), p)    \n",
    "}\n"
   ]
  },
  {
   "cell_type": "code",
   "execution_count": null,
   "metadata": {},
   "outputs": [],
   "source": []
  }
 ],
 "metadata": {
  "kernelspec": {
   "display_name": "R",
   "language": "R",
   "name": "ir"
  },
  "language_info": {
   "codemirror_mode": "r",
   "file_extension": ".r",
   "mimetype": "text/x-r-source",
   "name": "R",
   "pygments_lexer": "r",
   "version": "3.6.2"
  }
 },
 "nbformat": 4,
 "nbformat_minor": 4
}

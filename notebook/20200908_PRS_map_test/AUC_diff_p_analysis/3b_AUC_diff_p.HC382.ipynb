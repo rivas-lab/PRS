{
 "cells": [
  {
   "cell_type": "code",
   "execution_count": 1,
   "metadata": {},
   "outputs": [],
   "source": [
    "suppressWarnings(suppressPackageStartupMessages({\n",
    "    library(tidyverse)\n",
    "    library(data.table)\n",
    "    library(pROC)\n",
    "}))\n"
   ]
  },
  {
   "cell_type": "code",
   "execution_count": 2,
   "metadata": {},
   "outputs": [],
   "source": [
    "run_name <- '1_p_factor_v1'\n",
    "phenotype <- 'HC382'\n",
    "\n",
    "data_d <- file.path(\n",
    "    '/oak/stanford/groups/mrivas/projects/PRS/private_output/20200908_PRS_map_test', \n",
    "    run_name, phenotype, '1_fit_w_val'\n",
    ")\n",
    "refit <- F\n",
    "\n",
    "# output\n",
    "p_val_f <- sprintf('AUC_diff_p.%s.tsv', phenotype)\n"
   ]
  },
  {
   "cell_type": "code",
   "execution_count": 3,
   "metadata": {},
   "outputs": [],
   "source": [
    "# input and parameters\n",
    "\n",
    "#data_d <- '/oak/stanford/groups/mrivas/projects/PRS/private_output/20200908_PRS_map_test'\n",
    "phe_f <- '/scratch/groups/mrivas/ukbb24983/phenotypedata/master_phe/master.20200828.phe.zst'\n",
    "covariates       <- c('age', 'sex', paste0('PC', 1:10))\n",
    "refit_split_strs <- c('non_british_white', 'african', 's_asian', 'e_asian')\n",
    "sscore_f             <- file.path(data_d, '__PHENOTYPE__.sscore.zst')\n",
    "snpnet_BETAs_f       <- file.path(data_d, 'snpnet.tsv')\n",
    "snpnet_covar_BETAs_f <- file.path(data_d, 'snpnet.covars.tsv')\n",
    "family <- ifelse((startsWith(phenotype, 'INI') | startsWith(phenotype, 'QT_FC')), 'gaussian', 'binomial')\n",
    "\n",
    "# output\n",
    "eval_f <- file.path(data_d, 'snpnet.eval.tsv')\n",
    "plot_f <- file.path(data_d, 'snpnet.plot.pdf')\n",
    "percentile_f <- file.path(data_d, 'snpnet.percentile.tsv')\n"
   ]
  },
  {
   "cell_type": "code",
   "execution_count": 4,
   "metadata": {},
   "outputs": [
    {
     "name": "stderr",
     "output_type": "stream",
     "text": [
      "Warning message:\n",
      "“glm.fit: fitted probabilities numerically 0 or 1 occurred”\n"
     ]
    }
   ],
   "source": [
    "source('/oak/stanford/groups/mrivas/users/ytanigaw/repos/rivas-lab/snpnet/helpers/snpnet_misc.R')\n",
    "\n",
    "# read the raw phenotype file\n",
    "fread(\n",
    "    cmd=paste(cat_or_zcat(phe_f), phe_f,  '|', 'sed -e \"s/^#//g\"'),\n",
    "    select=c('FID', 'IID', 'split', covariates, phenotype),\n",
    "    colClasses = c('FID'='character', 'IID'='character'),\n",
    "    data.table=F\n",
    ") -> phe_df\n",
    "\n",
    "if(refit){\n",
    "    phe_df %>%\n",
    "    mutate(\n",
    "        split = if_else(split %in% c('train', 'val'), 'train_val', split)\n",
    "    ) -> phe_df\n",
    "}\n",
    "\n",
    "# read PRS and covariate-based score\n",
    "phe_df %>%\n",
    "compute_phe_score_df(\n",
    "    phenotype,\n",
    "    str_replace_all(sscore_f, '__PHENOTYPE__', phenotype),\n",
    "    str_replace_all(snpnet_covar_BETAs_f, '__PHENOTYPE__', phenotype),\n",
    "    covariates, family, refit_split_strs\n",
    ") -> phe_score_df\n"
   ]
  },
  {
   "cell_type": "code",
   "execution_count": 21,
   "metadata": {},
   "outputs": [],
   "source": [
    "Sys.glob(file.path(data_d, 'results', '*.sscore.zst'), dirmark = FALSE) %>%\n",
    "lapply(function(x){as.integer(str_replace_all(basename(x), '^snpnet.lambda|.sscore.zst$', ''))}) %>%\n",
    "simplify() %>% sort() -> lambda_idxs \n"
   ]
  },
  {
   "cell_type": "code",
   "execution_count": 43,
   "metadata": {},
   "outputs": [
    {
     "data": {
      "text/html": [
       "<style>\n",
       ".list-inline {list-style: none; margin:0; padding: 0}\n",
       ".list-inline>li {display: inline-block}\n",
       ".list-inline>li:not(:last-child)::after {content: \"\\00b7\"; padding: 0 .5ex}\n",
       "</style>\n",
       "<ol class=list-inline><li>1</li><li>2</li><li>3</li><li>4</li><li>5</li><li>6</li><li>7</li><li>8</li><li>9</li><li>10</li><li>11</li><li>12</li><li>13</li><li>14</li><li>15</li><li>16</li><li>17</li><li>18</li><li>19</li><li>20</li><li>21</li><li>22</li><li>23</li><li>24</li><li>25</li><li>26</li><li>27</li><li>28</li><li>29</li><li>30</li><li>31</li><li>32</li><li>33</li><li>34</li><li>35</li><li>36</li><li>37</li><li>38</li><li>39</li><li>40</li><li>41</li><li>42</li><li>43</li><li>44</li><li>45</li><li>46</li><li>47</li><li>48</li><li>49</li><li>50</li><li>51</li><li>52</li><li>53</li><li>54</li><li>55</li><li>56</li><li>57</li><li>58</li><li>59</li><li>60</li></ol>\n"
      ],
      "text/latex": [
       "\\begin{enumerate*}\n",
       "\\item 1\n",
       "\\item 2\n",
       "\\item 3\n",
       "\\item 4\n",
       "\\item 5\n",
       "\\item 6\n",
       "\\item 7\n",
       "\\item 8\n",
       "\\item 9\n",
       "\\item 10\n",
       "\\item 11\n",
       "\\item 12\n",
       "\\item 13\n",
       "\\item 14\n",
       "\\item 15\n",
       "\\item 16\n",
       "\\item 17\n",
       "\\item 18\n",
       "\\item 19\n",
       "\\item 20\n",
       "\\item 21\n",
       "\\item 22\n",
       "\\item 23\n",
       "\\item 24\n",
       "\\item 25\n",
       "\\item 26\n",
       "\\item 27\n",
       "\\item 28\n",
       "\\item 29\n",
       "\\item 30\n",
       "\\item 31\n",
       "\\item 32\n",
       "\\item 33\n",
       "\\item 34\n",
       "\\item 35\n",
       "\\item 36\n",
       "\\item 37\n",
       "\\item 38\n",
       "\\item 39\n",
       "\\item 40\n",
       "\\item 41\n",
       "\\item 42\n",
       "\\item 43\n",
       "\\item 44\n",
       "\\item 45\n",
       "\\item 46\n",
       "\\item 47\n",
       "\\item 48\n",
       "\\item 49\n",
       "\\item 50\n",
       "\\item 51\n",
       "\\item 52\n",
       "\\item 53\n",
       "\\item 54\n",
       "\\item 55\n",
       "\\item 56\n",
       "\\item 57\n",
       "\\item 58\n",
       "\\item 59\n",
       "\\item 60\n",
       "\\end{enumerate*}\n"
      ],
      "text/markdown": [
       "1. 1\n",
       "2. 2\n",
       "3. 3\n",
       "4. 4\n",
       "5. 5\n",
       "6. 6\n",
       "7. 7\n",
       "8. 8\n",
       "9. 9\n",
       "10. 10\n",
       "11. 11\n",
       "12. 12\n",
       "13. 13\n",
       "14. 14\n",
       "15. 15\n",
       "16. 16\n",
       "17. 17\n",
       "18. 18\n",
       "19. 19\n",
       "20. 20\n",
       "21. 21\n",
       "22. 22\n",
       "23. 23\n",
       "24. 24\n",
       "25. 25\n",
       "26. 26\n",
       "27. 27\n",
       "28. 28\n",
       "29. 29\n",
       "30. 30\n",
       "31. 31\n",
       "32. 32\n",
       "33. 33\n",
       "34. 34\n",
       "35. 35\n",
       "36. 36\n",
       "37. 37\n",
       "38. 38\n",
       "39. 39\n",
       "40. 40\n",
       "41. 41\n",
       "42. 42\n",
       "43. 43\n",
       "44. 44\n",
       "45. 45\n",
       "46. 46\n",
       "47. 47\n",
       "48. 48\n",
       "49. 49\n",
       "50. 50\n",
       "51. 51\n",
       "52. 52\n",
       "53. 53\n",
       "54. 54\n",
       "55. 55\n",
       "56. 56\n",
       "57. 57\n",
       "58. 58\n",
       "59. 59\n",
       "60. 60\n",
       "\n",
       "\n"
      ],
      "text/plain": [
       " [1]  1  2  3  4  5  6  7  8  9 10 11 12 13 14 15 16 17 18 19 20 21 22 23 24 25\n",
       "[26] 26 27 28 29 30 31 32 33 34 35 36 37 38 39 40 41 42 43 44 45 46 47 48 49 50\n",
       "[51] 51 52 53 54 55 56 57 58 59 60"
      ]
     },
     "metadata": {},
     "output_type": "display_data"
    }
   ],
   "source": [
    "lambda_idxs "
   ]
  },
  {
   "cell_type": "code",
   "execution_count": 5,
   "metadata": {},
   "outputs": [],
   "source": [
    "lambda_idxs %>%\n",
    "lapply(function(lambda_idx){\n",
    "    file.path(data_d, 'results', sprintf('snpnet.lambda%d.sscore.zst', lambda_idx)) %>%\n",
    "    read_PRS() %>%\n",
    "    rename(!!sprintf('geno_%d', lambda_idx) := 'geno_score')\n",
    "}) %>%\n",
    "reduce(function(x, y){inner_join(x, y, by=c('FID', 'IID'))}) -> geno_score_intermediates_df\n"
   ]
  },
  {
   "cell_type": "code",
   "execution_count": 25,
   "metadata": {},
   "outputs": [],
   "source": [
    "phe_score_df %>% \n",
    "left_join(geno_score_intermediates_df, by=c('FID', 'IID')) -> phe_score_intermediate_df\n"
   ]
  },
  {
   "cell_type": "code",
   "execution_count": 26,
   "metadata": {},
   "outputs": [],
   "source": [
    "phe_score_intermediate_df %>%\n",
    "filter(split == 'val') %>%\n",
    "mutate(geno_covar_score = geno_score + covar_score) -> sdf\n"
   ]
  },
  {
   "cell_type": "code",
   "execution_count": 27,
   "metadata": {},
   "outputs": [],
   "source": [
    "roc_tests <- list()\n"
   ]
  },
  {
   "cell_type": "code",
   "execution_count": 28,
   "metadata": {},
   "outputs": [],
   "source": [
    "roc.test(\n",
    "    roc(sdf$phe, sdf[['covar_score']], levels=c('control'=1, 'case'=2), direction='<'),\n",
    "    roc(sdf$phe, sdf[['geno_covar_score']], levels=c('control'=1, 'case'=2), direction='<')\n",
    ") -> roc_tests[['geno_covar_vs_covar']]\n"
   ]
  },
  {
   "cell_type": "code",
   "execution_count": 29,
   "metadata": {},
   "outputs": [],
   "source": [
    "roc.test(\n",
    "    roc(sdf$phe, sdf[['covar_score']], levels=c('control'=1, 'case'=2), direction='<'),\n",
    "    roc(sdf$phe, sdf[['geno_1']], levels=c('control'=1, 'case'=2), direction='<')\n",
    ") -> roc_tests[['geno_1_vs_covar']]\n"
   ]
  },
  {
   "cell_type": "code",
   "execution_count": 32,
   "metadata": {},
   "outputs": [],
   "source": [
    "for(lambda_idx in lambda_idxs[lambda_idxs != 1]){\n",
    "    roc.test(\n",
    "        roc(sdf$phe, sdf[[sprintf('geno_%d', lambda_idx - 1)]], levels=c('control'=1, 'case'=2), direction='<'),\n",
    "        roc(sdf$phe, sdf[[sprintf('geno_%d', lambda_idx    )]], levels=c('control'=1, 'case'=2), direction='<')\n",
    "    ) -> roc_tests[[sprintf('geno_%d_vs_geno_%d', lambda_idx, lambda_idx - 1)]]\n",
    "}\n"
   ]
  },
  {
   "cell_type": "code",
   "execution_count": 33,
   "metadata": {},
   "outputs": [],
   "source": [
    "roc_p_vals <- data.frame(\n",
    "    name = names(roc_tests),\n",
    "    p = names(roc_tests) %>%\n",
    "    lapply(function(k){\n",
    "        (roc_tests[[k]])$p.value\n",
    "    }) %>% simplify(),\n",
    "    stringsAsFactors=F\n",
    ") %>%\n",
    "separate(name, c('score2', 'score1'), sep='_vs_', remove=F) %>%\n",
    "select(name, score1, score2, p)\n"
   ]
  },
  {
   "cell_type": "code",
   "execution_count": 34,
   "metadata": {},
   "outputs": [],
   "source": [
    "roc_p_vals %>%\n",
    "rename('#name' = 'name') %>%\n",
    "fwrite(p_val_f, sep='\\t', na = \"NA\", quote=F)\n"
   ]
  },
  {
   "cell_type": "code",
   "execution_count": 35,
   "metadata": {},
   "outputs": [
    {
     "data": {
      "text/plain": [
       "\n",
       "\tDeLong's test for two correlated ROC curves\n",
       "\n",
       "data:  roc(sdf$phe, sdf[[\"covar_score\"]], levels = c(control = 1, case = 2),  and roc(sdf$phe, sdf[[\"geno_covar_score\"]], levels = c(control = 1,     direction = \"<\") and     case = 2), direction = \"<\")\n",
       "Z = -16.507, p-value < 2.2e-16\n",
       "alternative hypothesis: true difference in AUC is not equal to 0\n",
       "sample estimates:\n",
       "AUC of roc1 AUC of roc2 \n",
       "  0.5281458   0.6189194 \n"
      ]
     },
     "metadata": {},
     "output_type": "display_data"
    }
   ],
   "source": [
    "roc_tests[['geno_covar_vs_covar']]"
   ]
  },
  {
   "cell_type": "code",
   "execution_count": 36,
   "metadata": {},
   "outputs": [
    {
     "data": {
      "text/html": [
       "<table>\n",
       "<caption>A data.frame: 6 × 4</caption>\n",
       "<thead>\n",
       "\t<tr><th></th><th scope=col>name</th><th scope=col>score1</th><th scope=col>score2</th><th scope=col>p</th></tr>\n",
       "\t<tr><th></th><th scope=col>&lt;chr&gt;</th><th scope=col>&lt;chr&gt;</th><th scope=col>&lt;chr&gt;</th><th scope=col>&lt;dbl&gt;</th></tr>\n",
       "</thead>\n",
       "<tbody>\n",
       "\t<tr><th scope=row>56</th><td>geno_55_vs_geno_54</td><td>geno_54</td><td>geno_55</td><td>0.01316363</td></tr>\n",
       "\t<tr><th scope=row>57</th><td>geno_56_vs_geno_55</td><td>geno_55</td><td>geno_56</td><td>0.10500133</td></tr>\n",
       "\t<tr><th scope=row>58</th><td>geno_57_vs_geno_56</td><td>geno_56</td><td>geno_57</td><td>0.17819255</td></tr>\n",
       "\t<tr><th scope=row>59</th><td>geno_58_vs_geno_57</td><td>geno_57</td><td>geno_58</td><td>0.35657788</td></tr>\n",
       "\t<tr><th scope=row>60</th><td>geno_59_vs_geno_58</td><td>geno_58</td><td>geno_59</td><td>0.76033081</td></tr>\n",
       "\t<tr><th scope=row>61</th><td>geno_60_vs_geno_59</td><td>geno_59</td><td>geno_60</td><td>0.36920904</td></tr>\n",
       "</tbody>\n",
       "</table>\n"
      ],
      "text/latex": [
       "A data.frame: 6 × 4\n",
       "\\begin{tabular}{r|llll}\n",
       "  & name & score1 & score2 & p\\\\\n",
       "  & <chr> & <chr> & <chr> & <dbl>\\\\\n",
       "\\hline\n",
       "\t56 & geno\\_55\\_vs\\_geno\\_54 & geno\\_54 & geno\\_55 & 0.01316363\\\\\n",
       "\t57 & geno\\_56\\_vs\\_geno\\_55 & geno\\_55 & geno\\_56 & 0.10500133\\\\\n",
       "\t58 & geno\\_57\\_vs\\_geno\\_56 & geno\\_56 & geno\\_57 & 0.17819255\\\\\n",
       "\t59 & geno\\_58\\_vs\\_geno\\_57 & geno\\_57 & geno\\_58 & 0.35657788\\\\\n",
       "\t60 & geno\\_59\\_vs\\_geno\\_58 & geno\\_58 & geno\\_59 & 0.76033081\\\\\n",
       "\t61 & geno\\_60\\_vs\\_geno\\_59 & geno\\_59 & geno\\_60 & 0.36920904\\\\\n",
       "\\end{tabular}\n"
      ],
      "text/markdown": [
       "\n",
       "A data.frame: 6 × 4\n",
       "\n",
       "| <!--/--> | name &lt;chr&gt; | score1 &lt;chr&gt; | score2 &lt;chr&gt; | p &lt;dbl&gt; |\n",
       "|---|---|---|---|---|\n",
       "| 56 | geno_55_vs_geno_54 | geno_54 | geno_55 | 0.01316363 |\n",
       "| 57 | geno_56_vs_geno_55 | geno_55 | geno_56 | 0.10500133 |\n",
       "| 58 | geno_57_vs_geno_56 | geno_56 | geno_57 | 0.17819255 |\n",
       "| 59 | geno_58_vs_geno_57 | geno_57 | geno_58 | 0.35657788 |\n",
       "| 60 | geno_59_vs_geno_58 | geno_58 | geno_59 | 0.76033081 |\n",
       "| 61 | geno_60_vs_geno_59 | geno_59 | geno_60 | 0.36920904 |\n",
       "\n"
      ],
      "text/plain": [
       "   name               score1  score2  p         \n",
       "56 geno_55_vs_geno_54 geno_54 geno_55 0.01316363\n",
       "57 geno_56_vs_geno_55 geno_55 geno_56 0.10500133\n",
       "58 geno_57_vs_geno_56 geno_56 geno_57 0.17819255\n",
       "59 geno_58_vs_geno_57 geno_57 geno_58 0.35657788\n",
       "60 geno_59_vs_geno_58 geno_58 geno_59 0.76033081\n",
       "61 geno_60_vs_geno_59 geno_59 geno_60 0.36920904"
      ]
     },
     "metadata": {},
     "output_type": "display_data"
    }
   ],
   "source": [
    "roc_p_vals %>%\n",
    "tail()"
   ]
  },
  {
   "cell_type": "markdown",
   "metadata": {},
   "source": [
    "- We currently have `lambda idx = 58` as the best model\n",
    "- `lambda idx = 55` may be the optimal"
   ]
  },
  {
   "cell_type": "code",
   "execution_count": 37,
   "metadata": {},
   "outputs": [],
   "source": [
    "# evaluate the predictive performance\n",
    "phe_score_intermediate_df %>%\n",
    "eval_performance(\n",
    "    phenotype,\n",
    "    str_replace_all(snpnet_BETAs_f, '__PHENOTYPE__', phenotype),\n",
    "    family\n",
    ") -> eval_58_df\n"
   ]
  },
  {
   "cell_type": "code",
   "execution_count": 38,
   "metadata": {},
   "outputs": [],
   "source": [
    "phe_score_intermediate_df %>%\n",
    "select(-geno_score) %>%\n",
    "rename(geno_score = geno_55) %>%\n",
    "eval_performance(\n",
    "    phenotype,\n",
    "    file.path(data_d, 'results', 'snpnet.lambda55.tsv'),\n",
    "    family\n",
    ") -> eval_55_df\n"
   ]
  },
  {
   "cell_type": "code",
   "execution_count": 39,
   "metadata": {},
   "outputs": [
    {
     "data": {
      "text/html": [
       "<table>\n",
       "<caption>A data.frame: 7 × 9</caption>\n",
       "<thead>\n",
       "\t<tr><th scope=col>phenotype_name</th><th scope=col>split</th><th scope=col>geno</th><th scope=col>covar</th><th scope=col>geno_covar</th><th scope=col>geno_delta</th><th scope=col>n_variables</th><th scope=col>case_n</th><th scope=col>control_n</th></tr>\n",
       "\t<tr><th scope=col>&lt;chr&gt;</th><th scope=col>&lt;chr&gt;</th><th scope=col>&lt;dbl&gt;</th><th scope=col>&lt;dbl&gt;</th><th scope=col>&lt;dbl&gt;</th><th scope=col>&lt;dbl&gt;</th><th scope=col>&lt;int&gt;</th><th scope=col>&lt;int&gt;</th><th scope=col>&lt;int&gt;</th></tr>\n",
       "</thead>\n",
       "<tbody>\n",
       "\t<tr><td>HC382</td><td>train            </td><td>0.7731822</td><td>0.5387748</td><td>0.7722529</td><td> 0.233478152</td><td>7595</td><td>31741</td><td>204250</td></tr>\n",
       "\t<tr><td>HC382</td><td>test             </td><td>0.6116628</td><td>0.5352619</td><td>0.6161877</td><td> 0.080925727</td><td>7595</td><td> 8934</td><td> 58491</td></tr>\n",
       "\t<tr><td>HC382</td><td>val              </td><td>0.6153153</td><td>0.5281458</td><td>0.6189194</td><td> 0.090773671</td><td>7595</td><td> 4553</td><td> 29160</td></tr>\n",
       "\t<tr><td>HC382</td><td>non_british_white</td><td>0.6110596</td><td>0.5676678</td><td>0.6276089</td><td> 0.059941082</td><td>7595</td><td> 3243</td><td> 21662</td></tr>\n",
       "\t<tr><td>HC382</td><td>s_asian          </td><td>0.5784973</td><td>0.5760666</td><td>0.6068172</td><td> 0.030750520</td><td>7595</td><td> 1171</td><td>  6660</td></tr>\n",
       "\t<tr><td>HC382</td><td>african          </td><td>0.5530495</td><td>0.6095357</td><td>0.6150603</td><td> 0.005524621</td><td>7595</td><td>  871</td><td>  5626</td></tr>\n",
       "\t<tr><td>HC382</td><td>e_asian          </td><td>0.4973209</td><td>0.5933069</td><td>0.5660849</td><td>-0.027222022</td><td>7595</td><td>  166</td><td>  1538</td></tr>\n",
       "</tbody>\n",
       "</table>\n"
      ],
      "text/latex": [
       "A data.frame: 7 × 9\n",
       "\\begin{tabular}{lllllllll}\n",
       " phenotype\\_name & split & geno & covar & geno\\_covar & geno\\_delta & n\\_variables & case\\_n & control\\_n\\\\\n",
       " <chr> & <chr> & <dbl> & <dbl> & <dbl> & <dbl> & <int> & <int> & <int>\\\\\n",
       "\\hline\n",
       "\t HC382 & train             & 0.7731822 & 0.5387748 & 0.7722529 &  0.233478152 & 7595 & 31741 & 204250\\\\\n",
       "\t HC382 & test              & 0.6116628 & 0.5352619 & 0.6161877 &  0.080925727 & 7595 &  8934 &  58491\\\\\n",
       "\t HC382 & val               & 0.6153153 & 0.5281458 & 0.6189194 &  0.090773671 & 7595 &  4553 &  29160\\\\\n",
       "\t HC382 & non\\_british\\_white & 0.6110596 & 0.5676678 & 0.6276089 &  0.059941082 & 7595 &  3243 &  21662\\\\\n",
       "\t HC382 & s\\_asian           & 0.5784973 & 0.5760666 & 0.6068172 &  0.030750520 & 7595 &  1171 &   6660\\\\\n",
       "\t HC382 & african           & 0.5530495 & 0.6095357 & 0.6150603 &  0.005524621 & 7595 &   871 &   5626\\\\\n",
       "\t HC382 & e\\_asian           & 0.4973209 & 0.5933069 & 0.5660849 & -0.027222022 & 7595 &   166 &   1538\\\\\n",
       "\\end{tabular}\n"
      ],
      "text/markdown": [
       "\n",
       "A data.frame: 7 × 9\n",
       "\n",
       "| phenotype_name &lt;chr&gt; | split &lt;chr&gt; | geno &lt;dbl&gt; | covar &lt;dbl&gt; | geno_covar &lt;dbl&gt; | geno_delta &lt;dbl&gt; | n_variables &lt;int&gt; | case_n &lt;int&gt; | control_n &lt;int&gt; |\n",
       "|---|---|---|---|---|---|---|---|---|\n",
       "| HC382 | train             | 0.7731822 | 0.5387748 | 0.7722529 |  0.233478152 | 7595 | 31741 | 204250 |\n",
       "| HC382 | test              | 0.6116628 | 0.5352619 | 0.6161877 |  0.080925727 | 7595 |  8934 |  58491 |\n",
       "| HC382 | val               | 0.6153153 | 0.5281458 | 0.6189194 |  0.090773671 | 7595 |  4553 |  29160 |\n",
       "| HC382 | non_british_white | 0.6110596 | 0.5676678 | 0.6276089 |  0.059941082 | 7595 |  3243 |  21662 |\n",
       "| HC382 | s_asian           | 0.5784973 | 0.5760666 | 0.6068172 |  0.030750520 | 7595 |  1171 |   6660 |\n",
       "| HC382 | african           | 0.5530495 | 0.6095357 | 0.6150603 |  0.005524621 | 7595 |   871 |   5626 |\n",
       "| HC382 | e_asian           | 0.4973209 | 0.5933069 | 0.5660849 | -0.027222022 | 7595 |   166 |   1538 |\n",
       "\n"
      ],
      "text/plain": [
       "  phenotype_name split             geno      covar     geno_covar geno_delta  \n",
       "1 HC382          train             0.7731822 0.5387748 0.7722529   0.233478152\n",
       "2 HC382          test              0.6116628 0.5352619 0.6161877   0.080925727\n",
       "3 HC382          val               0.6153153 0.5281458 0.6189194   0.090773671\n",
       "4 HC382          non_british_white 0.6110596 0.5676678 0.6276089   0.059941082\n",
       "5 HC382          s_asian           0.5784973 0.5760666 0.6068172   0.030750520\n",
       "6 HC382          african           0.5530495 0.6095357 0.6150603   0.005524621\n",
       "7 HC382          e_asian           0.4973209 0.5933069 0.5660849  -0.027222022\n",
       "  n_variables case_n control_n\n",
       "1 7595        31741  204250   \n",
       "2 7595         8934   58491   \n",
       "3 7595         4553   29160   \n",
       "4 7595         3243   21662   \n",
       "5 7595         1171    6660   \n",
       "6 7595          871    5626   \n",
       "7 7595          166    1538   "
      ]
     },
     "metadata": {},
     "output_type": "display_data"
    }
   ],
   "source": [
    "eval_58_df"
   ]
  },
  {
   "cell_type": "code",
   "execution_count": 46,
   "metadata": {},
   "outputs": [
    {
     "data": {
      "text/html": [
       "<table>\n",
       "<caption>A data.frame: 7 × 9</caption>\n",
       "<thead>\n",
       "\t<tr><th scope=col>phenotype_name</th><th scope=col>split</th><th scope=col>geno</th><th scope=col>covar</th><th scope=col>geno_covar</th><th scope=col>geno_delta</th><th scope=col>n_variables</th><th scope=col>case_n</th><th scope=col>control_n</th></tr>\n",
       "\t<tr><th scope=col>&lt;chr&gt;</th><th scope=col>&lt;chr&gt;</th><th scope=col>&lt;dbl&gt;</th><th scope=col>&lt;dbl&gt;</th><th scope=col>&lt;dbl&gt;</th><th scope=col>&lt;dbl&gt;</th><th scope=col>&lt;int&gt;</th><th scope=col>&lt;int&gt;</th><th scope=col>&lt;int&gt;</th></tr>\n",
       "</thead>\n",
       "<tbody>\n",
       "\t<tr><td>HC382</td><td>train            </td><td>0.7598510</td><td>0.5387748</td><td>0.7588080</td><td> 0.220033257</td><td>6564</td><td>31741</td><td>204250</td></tr>\n",
       "\t<tr><td>HC382</td><td>test             </td><td>0.6122056</td><td>0.5352619</td><td>0.6166757</td><td> 0.081413781</td><td>6564</td><td> 8934</td><td> 58491</td></tr>\n",
       "\t<tr><td>HC382</td><td>val              </td><td>0.6149959</td><td>0.5281458</td><td>0.6185883</td><td> 0.090442561</td><td>6564</td><td> 4553</td><td> 29160</td></tr>\n",
       "\t<tr><td>HC382</td><td>non_british_white</td><td>0.6106912</td><td>0.5676678</td><td>0.6274338</td><td> 0.059766007</td><td>6564</td><td> 3243</td><td> 21662</td></tr>\n",
       "\t<tr><td>HC382</td><td>s_asian          </td><td>0.5793712</td><td>0.5760666</td><td>0.6075215</td><td> 0.031454854</td><td>6564</td><td> 1171</td><td>  6660</td></tr>\n",
       "\t<tr><td>HC382</td><td>african          </td><td>0.5535575</td><td>0.6095357</td><td>0.6164705</td><td> 0.006934754</td><td>6564</td><td>  871</td><td>  5626</td></tr>\n",
       "\t<tr><td>HC382</td><td>e_asian          </td><td>0.5007736</td><td>0.5933069</td><td>0.5706519</td><td>-0.022654989</td><td>6564</td><td>  166</td><td>  1538</td></tr>\n",
       "</tbody>\n",
       "</table>\n"
      ],
      "text/latex": [
       "A data.frame: 7 × 9\n",
       "\\begin{tabular}{lllllllll}\n",
       " phenotype\\_name & split & geno & covar & geno\\_covar & geno\\_delta & n\\_variables & case\\_n & control\\_n\\\\\n",
       " <chr> & <chr> & <dbl> & <dbl> & <dbl> & <dbl> & <int> & <int> & <int>\\\\\n",
       "\\hline\n",
       "\t HC382 & train             & 0.7598510 & 0.5387748 & 0.7588080 &  0.220033257 & 6564 & 31741 & 204250\\\\\n",
       "\t HC382 & test              & 0.6122056 & 0.5352619 & 0.6166757 &  0.081413781 & 6564 &  8934 &  58491\\\\\n",
       "\t HC382 & val               & 0.6149959 & 0.5281458 & 0.6185883 &  0.090442561 & 6564 &  4553 &  29160\\\\\n",
       "\t HC382 & non\\_british\\_white & 0.6106912 & 0.5676678 & 0.6274338 &  0.059766007 & 6564 &  3243 &  21662\\\\\n",
       "\t HC382 & s\\_asian           & 0.5793712 & 0.5760666 & 0.6075215 &  0.031454854 & 6564 &  1171 &   6660\\\\\n",
       "\t HC382 & african           & 0.5535575 & 0.6095357 & 0.6164705 &  0.006934754 & 6564 &   871 &   5626\\\\\n",
       "\t HC382 & e\\_asian           & 0.5007736 & 0.5933069 & 0.5706519 & -0.022654989 & 6564 &   166 &   1538\\\\\n",
       "\\end{tabular}\n"
      ],
      "text/markdown": [
       "\n",
       "A data.frame: 7 × 9\n",
       "\n",
       "| phenotype_name &lt;chr&gt; | split &lt;chr&gt; | geno &lt;dbl&gt; | covar &lt;dbl&gt; | geno_covar &lt;dbl&gt; | geno_delta &lt;dbl&gt; | n_variables &lt;int&gt; | case_n &lt;int&gt; | control_n &lt;int&gt; |\n",
       "|---|---|---|---|---|---|---|---|---|\n",
       "| HC382 | train             | 0.7598510 | 0.5387748 | 0.7588080 |  0.220033257 | 6564 | 31741 | 204250 |\n",
       "| HC382 | test              | 0.6122056 | 0.5352619 | 0.6166757 |  0.081413781 | 6564 |  8934 |  58491 |\n",
       "| HC382 | val               | 0.6149959 | 0.5281458 | 0.6185883 |  0.090442561 | 6564 |  4553 |  29160 |\n",
       "| HC382 | non_british_white | 0.6106912 | 0.5676678 | 0.6274338 |  0.059766007 | 6564 |  3243 |  21662 |\n",
       "| HC382 | s_asian           | 0.5793712 | 0.5760666 | 0.6075215 |  0.031454854 | 6564 |  1171 |   6660 |\n",
       "| HC382 | african           | 0.5535575 | 0.6095357 | 0.6164705 |  0.006934754 | 6564 |   871 |   5626 |\n",
       "| HC382 | e_asian           | 0.5007736 | 0.5933069 | 0.5706519 | -0.022654989 | 6564 |   166 |   1538 |\n",
       "\n"
      ],
      "text/plain": [
       "  phenotype_name split             geno      covar     geno_covar geno_delta  \n",
       "1 HC382          train             0.7598510 0.5387748 0.7588080   0.220033257\n",
       "2 HC382          test              0.6122056 0.5352619 0.6166757   0.081413781\n",
       "3 HC382          val               0.6149959 0.5281458 0.6185883   0.090442561\n",
       "4 HC382          non_british_white 0.6106912 0.5676678 0.6274338   0.059766007\n",
       "5 HC382          s_asian           0.5793712 0.5760666 0.6075215   0.031454854\n",
       "6 HC382          african           0.5535575 0.6095357 0.6164705   0.006934754\n",
       "7 HC382          e_asian           0.5007736 0.5933069 0.5706519  -0.022654989\n",
       "  n_variables case_n control_n\n",
       "1 6564        31741  204250   \n",
       "2 6564         8934   58491   \n",
       "3 6564         4553   29160   \n",
       "4 6564         3243   21662   \n",
       "5 6564         1171    6660   \n",
       "6 6564          871    5626   \n",
       "7 6564          166    1538   "
      ]
     },
     "metadata": {},
     "output_type": "display_data"
    }
   ],
   "source": [
    "phe_score_intermediate_df %>%\n",
    "select(-geno_score) %>%\n",
    "rename(geno_score = geno_57) %>%\n",
    "eval_performance(\n",
    "    phenotype,\n",
    "    file.path(data_d, 'results', 'snpnet.lambda57.tsv'),\n",
    "    family\n",
    ")\n"
   ]
  },
  {
   "cell_type": "code",
   "execution_count": 47,
   "metadata": {},
   "outputs": [
    {
     "data": {
      "text/html": [
       "<table>\n",
       "<caption>A data.frame: 7 × 9</caption>\n",
       "<thead>\n",
       "\t<tr><th scope=col>phenotype_name</th><th scope=col>split</th><th scope=col>geno</th><th scope=col>covar</th><th scope=col>geno_covar</th><th scope=col>geno_delta</th><th scope=col>n_variables</th><th scope=col>case_n</th><th scope=col>control_n</th></tr>\n",
       "\t<tr><th scope=col>&lt;chr&gt;</th><th scope=col>&lt;chr&gt;</th><th scope=col>&lt;dbl&gt;</th><th scope=col>&lt;dbl&gt;</th><th scope=col>&lt;dbl&gt;</th><th scope=col>&lt;dbl&gt;</th><th scope=col>&lt;int&gt;</th><th scope=col>&lt;int&gt;</th><th scope=col>&lt;int&gt;</th></tr>\n",
       "</thead>\n",
       "<tbody>\n",
       "\t<tr><td>HC382</td><td>train            </td><td>0.7462311</td><td>0.5387748</td><td>0.7451270</td><td> 0.206352251</td><td>5631</td><td>31741</td><td>204250</td></tr>\n",
       "\t<tr><td>HC382</td><td>test             </td><td>0.6122403</td><td>0.5352619</td><td>0.6166296</td><td> 0.081367675</td><td>5631</td><td> 8934</td><td> 58491</td></tr>\n",
       "\t<tr><td>HC382</td><td>val              </td><td>0.6145204</td><td>0.5281458</td><td>0.6179748</td><td> 0.089829013</td><td>5631</td><td> 4553</td><td> 29160</td></tr>\n",
       "\t<tr><td>HC382</td><td>non_british_white</td><td>0.6101182</td><td>0.5676678</td><td>0.6270997</td><td> 0.059431843</td><td>5631</td><td> 3243</td><td> 21662</td></tr>\n",
       "\t<tr><td>HC382</td><td>s_asian          </td><td>0.5796964</td><td>0.5760666</td><td>0.6076018</td><td> 0.031535122</td><td>5631</td><td> 1171</td><td>  6660</td></tr>\n",
       "\t<tr><td>HC382</td><td>african          </td><td>0.5541298</td><td>0.6095357</td><td>0.6176065</td><td> 0.008070819</td><td>5631</td><td>  871</td><td>  5626</td></tr>\n",
       "\t<tr><td>HC382</td><td>e_asian          </td><td>0.5041597</td><td>0.5933069</td><td>0.5749448</td><td>-0.018362135</td><td>5631</td><td>  166</td><td>  1538</td></tr>\n",
       "</tbody>\n",
       "</table>\n"
      ],
      "text/latex": [
       "A data.frame: 7 × 9\n",
       "\\begin{tabular}{lllllllll}\n",
       " phenotype\\_name & split & geno & covar & geno\\_covar & geno\\_delta & n\\_variables & case\\_n & control\\_n\\\\\n",
       " <chr> & <chr> & <dbl> & <dbl> & <dbl> & <dbl> & <int> & <int> & <int>\\\\\n",
       "\\hline\n",
       "\t HC382 & train             & 0.7462311 & 0.5387748 & 0.7451270 &  0.206352251 & 5631 & 31741 & 204250\\\\\n",
       "\t HC382 & test              & 0.6122403 & 0.5352619 & 0.6166296 &  0.081367675 & 5631 &  8934 &  58491\\\\\n",
       "\t HC382 & val               & 0.6145204 & 0.5281458 & 0.6179748 &  0.089829013 & 5631 &  4553 &  29160\\\\\n",
       "\t HC382 & non\\_british\\_white & 0.6101182 & 0.5676678 & 0.6270997 &  0.059431843 & 5631 &  3243 &  21662\\\\\n",
       "\t HC382 & s\\_asian           & 0.5796964 & 0.5760666 & 0.6076018 &  0.031535122 & 5631 &  1171 &   6660\\\\\n",
       "\t HC382 & african           & 0.5541298 & 0.6095357 & 0.6176065 &  0.008070819 & 5631 &   871 &   5626\\\\\n",
       "\t HC382 & e\\_asian           & 0.5041597 & 0.5933069 & 0.5749448 & -0.018362135 & 5631 &   166 &   1538\\\\\n",
       "\\end{tabular}\n"
      ],
      "text/markdown": [
       "\n",
       "A data.frame: 7 × 9\n",
       "\n",
       "| phenotype_name &lt;chr&gt; | split &lt;chr&gt; | geno &lt;dbl&gt; | covar &lt;dbl&gt; | geno_covar &lt;dbl&gt; | geno_delta &lt;dbl&gt; | n_variables &lt;int&gt; | case_n &lt;int&gt; | control_n &lt;int&gt; |\n",
       "|---|---|---|---|---|---|---|---|---|\n",
       "| HC382 | train             | 0.7462311 | 0.5387748 | 0.7451270 |  0.206352251 | 5631 | 31741 | 204250 |\n",
       "| HC382 | test              | 0.6122403 | 0.5352619 | 0.6166296 |  0.081367675 | 5631 |  8934 |  58491 |\n",
       "| HC382 | val               | 0.6145204 | 0.5281458 | 0.6179748 |  0.089829013 | 5631 |  4553 |  29160 |\n",
       "| HC382 | non_british_white | 0.6101182 | 0.5676678 | 0.6270997 |  0.059431843 | 5631 |  3243 |  21662 |\n",
       "| HC382 | s_asian           | 0.5796964 | 0.5760666 | 0.6076018 |  0.031535122 | 5631 |  1171 |   6660 |\n",
       "| HC382 | african           | 0.5541298 | 0.6095357 | 0.6176065 |  0.008070819 | 5631 |   871 |   5626 |\n",
       "| HC382 | e_asian           | 0.5041597 | 0.5933069 | 0.5749448 | -0.018362135 | 5631 |   166 |   1538 |\n",
       "\n"
      ],
      "text/plain": [
       "  phenotype_name split             geno      covar     geno_covar geno_delta  \n",
       "1 HC382          train             0.7462311 0.5387748 0.7451270   0.206352251\n",
       "2 HC382          test              0.6122403 0.5352619 0.6166296   0.081367675\n",
       "3 HC382          val               0.6145204 0.5281458 0.6179748   0.089829013\n",
       "4 HC382          non_british_white 0.6101182 0.5676678 0.6270997   0.059431843\n",
       "5 HC382          s_asian           0.5796964 0.5760666 0.6076018   0.031535122\n",
       "6 HC382          african           0.5541298 0.6095357 0.6176065   0.008070819\n",
       "7 HC382          e_asian           0.5041597 0.5933069 0.5749448  -0.018362135\n",
       "  n_variables case_n control_n\n",
       "1 5631        31741  204250   \n",
       "2 5631         8934   58491   \n",
       "3 5631         4553   29160   \n",
       "4 5631         3243   21662   \n",
       "5 5631         1171    6660   \n",
       "6 5631          871    5626   \n",
       "7 5631          166    1538   "
      ]
     },
     "metadata": {},
     "output_type": "display_data"
    }
   ],
   "source": [
    "phe_score_intermediate_df %>%\n",
    "select(-geno_score) %>%\n",
    "rename(geno_score = geno_56) %>%\n",
    "eval_performance(\n",
    "    phenotype,\n",
    "    file.path(data_d, 'results', 'snpnet.lambda56.tsv'),\n",
    "    family\n",
    ")\n"
   ]
  },
  {
   "cell_type": "code",
   "execution_count": 40,
   "metadata": {},
   "outputs": [
    {
     "data": {
      "text/html": [
       "<table>\n",
       "<caption>A data.frame: 7 × 9</caption>\n",
       "<thead>\n",
       "\t<tr><th scope=col>phenotype_name</th><th scope=col>split</th><th scope=col>geno</th><th scope=col>covar</th><th scope=col>geno_covar</th><th scope=col>geno_delta</th><th scope=col>n_variables</th><th scope=col>case_n</th><th scope=col>control_n</th></tr>\n",
       "\t<tr><th scope=col>&lt;chr&gt;</th><th scope=col>&lt;chr&gt;</th><th scope=col>&lt;dbl&gt;</th><th scope=col>&lt;dbl&gt;</th><th scope=col>&lt;dbl&gt;</th><th scope=col>&lt;dbl&gt;</th><th scope=col>&lt;int&gt;</th><th scope=col>&lt;int&gt;</th><th scope=col>&lt;int&gt;</th></tr>\n",
       "</thead>\n",
       "<tbody>\n",
       "\t<tr><td>HC382</td><td>train            </td><td>0.7323389</td><td>0.5387748</td><td>0.7312488</td><td> 0.19247405</td><td>4764</td><td>31741</td><td>204250</td></tr>\n",
       "\t<tr><td>HC382</td><td>test             </td><td>0.6120284</td><td>0.5352619</td><td>0.6163027</td><td> 0.08104073</td><td>4764</td><td> 8934</td><td> 58491</td></tr>\n",
       "\t<tr><td>HC382</td><td>val              </td><td>0.6139289</td><td>0.5281458</td><td>0.6172363</td><td> 0.08909049</td><td>4764</td><td> 4553</td><td> 29160</td></tr>\n",
       "\t<tr><td>HC382</td><td>non_british_white</td><td>0.6093796</td><td>0.5676678</td><td>0.6265839</td><td> 0.05891606</td><td>4764</td><td> 3243</td><td> 21662</td></tr>\n",
       "\t<tr><td>HC382</td><td>s_asian          </td><td>0.5801543</td><td>0.5760666</td><td>0.6076715</td><td> 0.03160488</td><td>4764</td><td> 1171</td><td>  6660</td></tr>\n",
       "\t<tr><td>HC382</td><td>african          </td><td>0.5543122</td><td>0.6095357</td><td>0.6185394</td><td> 0.00900363</td><td>4764</td><td>  871</td><td>  5626</td></tr>\n",
       "\t<tr><td>HC382</td><td>e_asian          </td><td>0.5086445</td><td>0.5933069</td><td>0.5790888</td><td>-0.01421812</td><td>4764</td><td>  166</td><td>  1538</td></tr>\n",
       "</tbody>\n",
       "</table>\n"
      ],
      "text/latex": [
       "A data.frame: 7 × 9\n",
       "\\begin{tabular}{lllllllll}\n",
       " phenotype\\_name & split & geno & covar & geno\\_covar & geno\\_delta & n\\_variables & case\\_n & control\\_n\\\\\n",
       " <chr> & <chr> & <dbl> & <dbl> & <dbl> & <dbl> & <int> & <int> & <int>\\\\\n",
       "\\hline\n",
       "\t HC382 & train             & 0.7323389 & 0.5387748 & 0.7312488 &  0.19247405 & 4764 & 31741 & 204250\\\\\n",
       "\t HC382 & test              & 0.6120284 & 0.5352619 & 0.6163027 &  0.08104073 & 4764 &  8934 &  58491\\\\\n",
       "\t HC382 & val               & 0.6139289 & 0.5281458 & 0.6172363 &  0.08909049 & 4764 &  4553 &  29160\\\\\n",
       "\t HC382 & non\\_british\\_white & 0.6093796 & 0.5676678 & 0.6265839 &  0.05891606 & 4764 &  3243 &  21662\\\\\n",
       "\t HC382 & s\\_asian           & 0.5801543 & 0.5760666 & 0.6076715 &  0.03160488 & 4764 &  1171 &   6660\\\\\n",
       "\t HC382 & african           & 0.5543122 & 0.6095357 & 0.6185394 &  0.00900363 & 4764 &   871 &   5626\\\\\n",
       "\t HC382 & e\\_asian           & 0.5086445 & 0.5933069 & 0.5790888 & -0.01421812 & 4764 &   166 &   1538\\\\\n",
       "\\end{tabular}\n"
      ],
      "text/markdown": [
       "\n",
       "A data.frame: 7 × 9\n",
       "\n",
       "| phenotype_name &lt;chr&gt; | split &lt;chr&gt; | geno &lt;dbl&gt; | covar &lt;dbl&gt; | geno_covar &lt;dbl&gt; | geno_delta &lt;dbl&gt; | n_variables &lt;int&gt; | case_n &lt;int&gt; | control_n &lt;int&gt; |\n",
       "|---|---|---|---|---|---|---|---|---|\n",
       "| HC382 | train             | 0.7323389 | 0.5387748 | 0.7312488 |  0.19247405 | 4764 | 31741 | 204250 |\n",
       "| HC382 | test              | 0.6120284 | 0.5352619 | 0.6163027 |  0.08104073 | 4764 |  8934 |  58491 |\n",
       "| HC382 | val               | 0.6139289 | 0.5281458 | 0.6172363 |  0.08909049 | 4764 |  4553 |  29160 |\n",
       "| HC382 | non_british_white | 0.6093796 | 0.5676678 | 0.6265839 |  0.05891606 | 4764 |  3243 |  21662 |\n",
       "| HC382 | s_asian           | 0.5801543 | 0.5760666 | 0.6076715 |  0.03160488 | 4764 |  1171 |   6660 |\n",
       "| HC382 | african           | 0.5543122 | 0.6095357 | 0.6185394 |  0.00900363 | 4764 |   871 |   5626 |\n",
       "| HC382 | e_asian           | 0.5086445 | 0.5933069 | 0.5790888 | -0.01421812 | 4764 |   166 |   1538 |\n",
       "\n"
      ],
      "text/plain": [
       "  phenotype_name split             geno      covar     geno_covar geno_delta \n",
       "1 HC382          train             0.7323389 0.5387748 0.7312488   0.19247405\n",
       "2 HC382          test              0.6120284 0.5352619 0.6163027   0.08104073\n",
       "3 HC382          val               0.6139289 0.5281458 0.6172363   0.08909049\n",
       "4 HC382          non_british_white 0.6093796 0.5676678 0.6265839   0.05891606\n",
       "5 HC382          s_asian           0.5801543 0.5760666 0.6076715   0.03160488\n",
       "6 HC382          african           0.5543122 0.6095357 0.6185394   0.00900363\n",
       "7 HC382          e_asian           0.5086445 0.5933069 0.5790888  -0.01421812\n",
       "  n_variables case_n control_n\n",
       "1 4764        31741  204250   \n",
       "2 4764         8934   58491   \n",
       "3 4764         4553   29160   \n",
       "4 4764         3243   21662   \n",
       "5 4764         1171    6660   \n",
       "6 4764          871    5626   \n",
       "7 4764          166    1538   "
      ]
     },
     "metadata": {},
     "output_type": "display_data"
    }
   ],
   "source": [
    "eval_55_df"
   ]
  },
  {
   "cell_type": "code",
   "execution_count": 42,
   "metadata": {},
   "outputs": [
    {
     "data": {
      "text/plain": [
       "\n",
       "\tDeLong's test for two correlated ROC curves\n",
       "\n",
       "data:  roc(sdf$phe, sdf[[sprintf(\"geno_%d\", lambda_idx - 1)]], levels = c(control = 1,  and roc(sdf$phe, sdf[[sprintf(\"geno_%d\", lambda_idx)]], levels = c(control = 1,     case = 2), direction = \"<\") and     case = 2), direction = \"<\")\n",
       "Z = -1.6211, p-value = 0.105\n",
       "alternative hypothesis: true difference in AUC is not equal to 0\n",
       "sample estimates:\n",
       "AUC of roc1 AUC of roc2 \n",
       "  0.6139289   0.6145204 \n"
      ]
     },
     "metadata": {},
     "output_type": "display_data"
    }
   ],
   "source": [
    "roc_tests[['geno_56_vs_geno_55']]"
   ]
  },
  {
   "cell_type": "code",
   "execution_count": null,
   "metadata": {},
   "outputs": [],
   "source": []
  }
 ],
 "metadata": {
  "kernelspec": {
   "display_name": "R",
   "language": "R",
   "name": "ir"
  },
  "language_info": {
   "codemirror_mode": "r",
   "file_extension": ".r",
   "mimetype": "text/x-r-source",
   "name": "R",
   "pygments_lexer": "r",
   "version": "3.6.2"
  }
 },
 "nbformat": 4,
 "nbformat_minor": 4
}

{
 "cells": [
  {
   "cell_type": "code",
   "execution_count": 1,
   "metadata": {},
   "outputs": [],
   "source": [
    "suppressWarnings(suppressPackageStartupMessages({\n",
    "    library(tidyverse)\n",
    "    library(data.table)\n",
    "    library(pROC)\n",
    "}))\n"
   ]
  },
  {
   "cell_type": "code",
   "execution_count": 2,
   "metadata": {},
   "outputs": [],
   "source": [
    "run_name <- '1_p_factor_v1'\n",
    "phenotype <- 'HC382'\n",
    "\n",
    "data_d <- file.path(\n",
    "    '/oak/stanford/groups/mrivas/projects/PRS/private_output/20200908_PRS_map_test', \n",
    "    run_name, phenotype, '1_fit_w_val'\n",
    ")\n",
    "refit <- F\n",
    "\n",
    "# output\n",
    "p_val_f <- sprintf('AUC_diff_p.%s.tsv', phenotype)\n",
    "eval_f <- sprintf('AUC_diff_p_eval.%s.tsv', phenotype)\n"
   ]
  },
  {
   "cell_type": "code",
   "execution_count": 3,
   "metadata": {},
   "outputs": [],
   "source": [
    "# input and parameters\n",
    "\n",
    "#data_d <- '/oak/stanford/groups/mrivas/projects/PRS/private_output/20200908_PRS_map_test'\n",
    "phe_f <- '/scratch/groups/mrivas/ukbb24983/phenotypedata/master_phe/master.20200828.phe.zst'\n",
    "covariates       <- c('age', 'sex', paste0('PC', 1:10))\n",
    "refit_split_strs <- c('non_british_white', 'african', 's_asian', 'e_asian')\n",
    "sscore_f             <- file.path(data_d, '__PHENOTYPE__.sscore.zst')\n",
    "snpnet_BETAs_f       <- file.path(data_d, 'snpnet.tsv')\n",
    "snpnet_covar_BETAs_f <- file.path(data_d, 'snpnet.covars.tsv')\n",
    "family <- ifelse((startsWith(phenotype, 'INI') | startsWith(phenotype, 'QT_FC')), 'gaussian', 'binomial')\n",
    "\n",
    "# output\n",
    "eval_f <- file.path(data_d, 'snpnet.eval.tsv')\n",
    "plot_f <- file.path(data_d, 'snpnet.plot.pdf')\n",
    "percentile_f <- file.path(data_d, 'snpnet.percentile.tsv')\n"
   ]
  },
  {
   "cell_type": "code",
   "execution_count": 4,
   "metadata": {},
   "outputs": [
    {
     "name": "stderr",
     "output_type": "stream",
     "text": [
      "Warning message:\n",
      "“glm.fit: fitted probabilities numerically 0 or 1 occurred”\n"
     ]
    }
   ],
   "source": [
    "source('/oak/stanford/groups/mrivas/users/ytanigaw/repos/rivas-lab/snpnet/helpers/snpnet_misc.R')\n",
    "\n",
    "# read the raw phenotype file\n",
    "fread(\n",
    "    cmd=paste(cat_or_zcat(phe_f), phe_f,  '|', 'sed -e \"s/^#//g\"'),\n",
    "    select=c('FID', 'IID', 'split', covariates, phenotype),\n",
    "    colClasses = c('FID'='character', 'IID'='character'),\n",
    "    data.table=F\n",
    ") -> phe_df\n",
    "\n",
    "if(refit){\n",
    "    phe_df %>%\n",
    "    mutate(\n",
    "        split = if_else(split %in% c('train', 'val'), 'train_val', split)\n",
    "    ) -> phe_df\n",
    "}\n",
    "\n",
    "# read PRS and covariate-based score\n",
    "phe_df %>%\n",
    "compute_phe_score_df(\n",
    "    phenotype,\n",
    "    str_replace_all(sscore_f, '__PHENOTYPE__', phenotype),\n",
    "    str_replace_all(snpnet_covar_BETAs_f, '__PHENOTYPE__', phenotype),\n",
    "    covariates, family, refit_split_strs\n",
    ") -> phe_score_df\n"
   ]
  },
  {
   "cell_type": "code",
   "execution_count": 5,
   "metadata": {},
   "outputs": [],
   "source": [
    "Sys.glob(file.path(data_d, 'results', '*.sscore.zst'), dirmark = FALSE) %>%\n",
    "lapply(function(x){as.integer(str_replace_all(basename(x), '^snpnet.lambda|.sscore.zst$', ''))}) %>%\n",
    "simplify() %>% sort() -> lambda_idxs \n"
   ]
  },
  {
   "cell_type": "code",
   "execution_count": 6,
   "metadata": {},
   "outputs": [
    {
     "data": {
      "text/html": [
       "<style>\n",
       ".list-inline {list-style: none; margin:0; padding: 0}\n",
       ".list-inline>li {display: inline-block}\n",
       ".list-inline>li:not(:last-child)::after {content: \"\\00b7\"; padding: 0 .5ex}\n",
       "</style>\n",
       "<ol class=list-inline><li>1</li><li>2</li><li>3</li><li>4</li><li>5</li><li>6</li><li>7</li><li>8</li><li>9</li><li>10</li><li>11</li><li>12</li><li>13</li><li>14</li><li>15</li><li>16</li><li>17</li><li>18</li><li>19</li><li>20</li><li>21</li><li>22</li><li>23</li><li>24</li><li>25</li><li>26</li><li>27</li><li>28</li><li>29</li><li>30</li><li>31</li><li>32</li><li>33</li><li>34</li><li>35</li><li>36</li><li>37</li><li>38</li><li>39</li><li>40</li><li>41</li><li>42</li><li>43</li><li>44</li><li>45</li><li>46</li><li>47</li><li>48</li><li>49</li><li>50</li><li>51</li><li>52</li><li>53</li><li>54</li><li>55</li><li>56</li><li>57</li><li>58</li><li>59</li><li>60</li></ol>\n"
      ],
      "text/latex": [
       "\\begin{enumerate*}\n",
       "\\item 1\n",
       "\\item 2\n",
       "\\item 3\n",
       "\\item 4\n",
       "\\item 5\n",
       "\\item 6\n",
       "\\item 7\n",
       "\\item 8\n",
       "\\item 9\n",
       "\\item 10\n",
       "\\item 11\n",
       "\\item 12\n",
       "\\item 13\n",
       "\\item 14\n",
       "\\item 15\n",
       "\\item 16\n",
       "\\item 17\n",
       "\\item 18\n",
       "\\item 19\n",
       "\\item 20\n",
       "\\item 21\n",
       "\\item 22\n",
       "\\item 23\n",
       "\\item 24\n",
       "\\item 25\n",
       "\\item 26\n",
       "\\item 27\n",
       "\\item 28\n",
       "\\item 29\n",
       "\\item 30\n",
       "\\item 31\n",
       "\\item 32\n",
       "\\item 33\n",
       "\\item 34\n",
       "\\item 35\n",
       "\\item 36\n",
       "\\item 37\n",
       "\\item 38\n",
       "\\item 39\n",
       "\\item 40\n",
       "\\item 41\n",
       "\\item 42\n",
       "\\item 43\n",
       "\\item 44\n",
       "\\item 45\n",
       "\\item 46\n",
       "\\item 47\n",
       "\\item 48\n",
       "\\item 49\n",
       "\\item 50\n",
       "\\item 51\n",
       "\\item 52\n",
       "\\item 53\n",
       "\\item 54\n",
       "\\item 55\n",
       "\\item 56\n",
       "\\item 57\n",
       "\\item 58\n",
       "\\item 59\n",
       "\\item 60\n",
       "\\end{enumerate*}\n"
      ],
      "text/markdown": [
       "1. 1\n",
       "2. 2\n",
       "3. 3\n",
       "4. 4\n",
       "5. 5\n",
       "6. 6\n",
       "7. 7\n",
       "8. 8\n",
       "9. 9\n",
       "10. 10\n",
       "11. 11\n",
       "12. 12\n",
       "13. 13\n",
       "14. 14\n",
       "15. 15\n",
       "16. 16\n",
       "17. 17\n",
       "18. 18\n",
       "19. 19\n",
       "20. 20\n",
       "21. 21\n",
       "22. 22\n",
       "23. 23\n",
       "24. 24\n",
       "25. 25\n",
       "26. 26\n",
       "27. 27\n",
       "28. 28\n",
       "29. 29\n",
       "30. 30\n",
       "31. 31\n",
       "32. 32\n",
       "33. 33\n",
       "34. 34\n",
       "35. 35\n",
       "36. 36\n",
       "37. 37\n",
       "38. 38\n",
       "39. 39\n",
       "40. 40\n",
       "41. 41\n",
       "42. 42\n",
       "43. 43\n",
       "44. 44\n",
       "45. 45\n",
       "46. 46\n",
       "47. 47\n",
       "48. 48\n",
       "49. 49\n",
       "50. 50\n",
       "51. 51\n",
       "52. 52\n",
       "53. 53\n",
       "54. 54\n",
       "55. 55\n",
       "56. 56\n",
       "57. 57\n",
       "58. 58\n",
       "59. 59\n",
       "60. 60\n",
       "\n",
       "\n"
      ],
      "text/plain": [
       " [1]  1  2  3  4  5  6  7  8  9 10 11 12 13 14 15 16 17 18 19 20 21 22 23 24 25\n",
       "[26] 26 27 28 29 30 31 32 33 34 35 36 37 38 39 40 41 42 43 44 45 46 47 48 49 50\n",
       "[51] 51 52 53 54 55 56 57 58 59 60"
      ]
     },
     "metadata": {},
     "output_type": "display_data"
    }
   ],
   "source": [
    "lambda_idxs "
   ]
  },
  {
   "cell_type": "code",
   "execution_count": 7,
   "metadata": {},
   "outputs": [],
   "source": [
    "lambda_idxs %>%\n",
    "lapply(function(lambda_idx){\n",
    "    file.path(data_d, 'results', sprintf('snpnet.lambda%d.sscore.zst', lambda_idx)) %>%\n",
    "    read_PRS() %>%\n",
    "    rename(!!sprintf('geno_%d', lambda_idx) := 'geno_score')\n",
    "}) %>%\n",
    "reduce(function(x, y){inner_join(x, y, by=c('FID', 'IID'))}) -> geno_score_intermediates_df\n"
   ]
  },
  {
   "cell_type": "code",
   "execution_count": 8,
   "metadata": {},
   "outputs": [],
   "source": [
    "phe_score_df %>% \n",
    "left_join(geno_score_intermediates_df, by=c('FID', 'IID')) -> phe_score_intermediate_df\n"
   ]
  },
  {
   "cell_type": "code",
   "execution_count": 9,
   "metadata": {},
   "outputs": [],
   "source": [
    "phe_score_intermediate_df %>%\n",
    "filter(split == 'val') %>%\n",
    "mutate(geno_covar_score = geno_score + covar_score) -> sdf\n"
   ]
  },
  {
   "cell_type": "code",
   "execution_count": 10,
   "metadata": {},
   "outputs": [],
   "source": [
    "roc_tests <- list()\n"
   ]
  },
  {
   "cell_type": "code",
   "execution_count": 11,
   "metadata": {},
   "outputs": [],
   "source": [
    "roc.test(\n",
    "    roc(sdf$phe, sdf[['covar_score']], levels=c('control'=1, 'case'=2), direction='<'),\n",
    "    roc(sdf$phe, sdf[['geno_covar_score']], levels=c('control'=1, 'case'=2), direction='<')\n",
    ") -> roc_tests[['geno_covar_vs_covar']]\n"
   ]
  },
  {
   "cell_type": "code",
   "execution_count": 12,
   "metadata": {},
   "outputs": [],
   "source": [
    "roc.test(\n",
    "    roc(sdf$phe, sdf[['covar_score']], levels=c('control'=1, 'case'=2), direction='<'),\n",
    "    roc(sdf$phe, sdf[['geno_1']], levels=c('control'=1, 'case'=2), direction='<')\n",
    ") -> roc_tests[['geno_1_vs_covar']]\n"
   ]
  },
  {
   "cell_type": "code",
   "execution_count": 13,
   "metadata": {},
   "outputs": [],
   "source": [
    "for(lambda_idx in lambda_idxs[lambda_idxs != 1]){\n",
    "    roc.test(\n",
    "        roc(sdf$phe, sdf[[sprintf('geno_%d', lambda_idx - 1)]], levels=c('control'=1, 'case'=2), direction='<'),\n",
    "        roc(sdf$phe, sdf[[sprintf('geno_%d', lambda_idx    )]], levels=c('control'=1, 'case'=2), direction='<')\n",
    "    ) -> roc_tests[[sprintf('geno_%d_vs_geno_%d', lambda_idx, lambda_idx - 1)]]\n",
    "}\n"
   ]
  },
  {
   "cell_type": "code",
   "execution_count": 14,
   "metadata": {},
   "outputs": [],
   "source": [
    "roc_p_vals <- data.frame(\n",
    "    name = names(roc_tests),\n",
    "    p = names(roc_tests) %>%\n",
    "    lapply(function(k){\n",
    "        (roc_tests[[k]])$p.value\n",
    "    }) %>% simplify(),\n",
    "    stringsAsFactors=F\n",
    ") %>%\n",
    "separate(name, c('score2', 'score1'), sep='_vs_', remove=F) %>%\n",
    "select(name, score1, score2, p)\n"
   ]
  },
  {
   "cell_type": "code",
   "execution_count": 15,
   "metadata": {},
   "outputs": [],
   "source": [
    "roc_p_vals %>%\n",
    "rename('#name' = 'name') %>%\n",
    "fwrite(p_val_f, sep='\\t', na = \"NA\", quote=F)\n"
   ]
  },
  {
   "cell_type": "code",
   "execution_count": 16,
   "metadata": {},
   "outputs": [
    {
     "data": {
      "text/plain": [
       "\n",
       "\tDeLong's test for two correlated ROC curves\n",
       "\n",
       "data:  roc(sdf$phe, sdf[[\"covar_score\"]], levels = c(control = 1, case = 2),  and roc(sdf$phe, sdf[[\"geno_covar_score\"]], levels = c(control = 1,     direction = \"<\") and     case = 2), direction = \"<\")\n",
       "Z = -16.507, p-value < 2.2e-16\n",
       "alternative hypothesis: true difference in AUC is not equal to 0\n",
       "sample estimates:\n",
       "AUC of roc1 AUC of roc2 \n",
       "  0.5281458   0.6189194 \n"
      ]
     },
     "metadata": {},
     "output_type": "display_data"
    }
   ],
   "source": [
    "roc_tests[['geno_covar_vs_covar']]"
   ]
  },
  {
   "cell_type": "code",
   "execution_count": 17,
   "metadata": {},
   "outputs": [
    {
     "data": {
      "text/html": [
       "<table>\n",
       "<caption>A data.frame: 6 × 4</caption>\n",
       "<thead>\n",
       "\t<tr><th></th><th scope=col>name</th><th scope=col>score1</th><th scope=col>score2</th><th scope=col>p</th></tr>\n",
       "\t<tr><th></th><th scope=col>&lt;chr&gt;</th><th scope=col>&lt;chr&gt;</th><th scope=col>&lt;chr&gt;</th><th scope=col>&lt;dbl&gt;</th></tr>\n",
       "</thead>\n",
       "<tbody>\n",
       "\t<tr><th scope=row>56</th><td>geno_55_vs_geno_54</td><td>geno_54</td><td>geno_55</td><td>0.01316363</td></tr>\n",
       "\t<tr><th scope=row>57</th><td>geno_56_vs_geno_55</td><td>geno_55</td><td>geno_56</td><td>0.10500133</td></tr>\n",
       "\t<tr><th scope=row>58</th><td>geno_57_vs_geno_56</td><td>geno_56</td><td>geno_57</td><td>0.17819255</td></tr>\n",
       "\t<tr><th scope=row>59</th><td>geno_58_vs_geno_57</td><td>geno_57</td><td>geno_58</td><td>0.35657788</td></tr>\n",
       "\t<tr><th scope=row>60</th><td>geno_59_vs_geno_58</td><td>geno_58</td><td>geno_59</td><td>0.76033081</td></tr>\n",
       "\t<tr><th scope=row>61</th><td>geno_60_vs_geno_59</td><td>geno_59</td><td>geno_60</td><td>0.36920904</td></tr>\n",
       "</tbody>\n",
       "</table>\n"
      ],
      "text/latex": [
       "A data.frame: 6 × 4\n",
       "\\begin{tabular}{r|llll}\n",
       "  & name & score1 & score2 & p\\\\\n",
       "  & <chr> & <chr> & <chr> & <dbl>\\\\\n",
       "\\hline\n",
       "\t56 & geno\\_55\\_vs\\_geno\\_54 & geno\\_54 & geno\\_55 & 0.01316363\\\\\n",
       "\t57 & geno\\_56\\_vs\\_geno\\_55 & geno\\_55 & geno\\_56 & 0.10500133\\\\\n",
       "\t58 & geno\\_57\\_vs\\_geno\\_56 & geno\\_56 & geno\\_57 & 0.17819255\\\\\n",
       "\t59 & geno\\_58\\_vs\\_geno\\_57 & geno\\_57 & geno\\_58 & 0.35657788\\\\\n",
       "\t60 & geno\\_59\\_vs\\_geno\\_58 & geno\\_58 & geno\\_59 & 0.76033081\\\\\n",
       "\t61 & geno\\_60\\_vs\\_geno\\_59 & geno\\_59 & geno\\_60 & 0.36920904\\\\\n",
       "\\end{tabular}\n"
      ],
      "text/markdown": [
       "\n",
       "A data.frame: 6 × 4\n",
       "\n",
       "| <!--/--> | name &lt;chr&gt; | score1 &lt;chr&gt; | score2 &lt;chr&gt; | p &lt;dbl&gt; |\n",
       "|---|---|---|---|---|\n",
       "| 56 | geno_55_vs_geno_54 | geno_54 | geno_55 | 0.01316363 |\n",
       "| 57 | geno_56_vs_geno_55 | geno_55 | geno_56 | 0.10500133 |\n",
       "| 58 | geno_57_vs_geno_56 | geno_56 | geno_57 | 0.17819255 |\n",
       "| 59 | geno_58_vs_geno_57 | geno_57 | geno_58 | 0.35657788 |\n",
       "| 60 | geno_59_vs_geno_58 | geno_58 | geno_59 | 0.76033081 |\n",
       "| 61 | geno_60_vs_geno_59 | geno_59 | geno_60 | 0.36920904 |\n",
       "\n"
      ],
      "text/plain": [
       "   name               score1  score2  p         \n",
       "56 geno_55_vs_geno_54 geno_54 geno_55 0.01316363\n",
       "57 geno_56_vs_geno_55 geno_55 geno_56 0.10500133\n",
       "58 geno_57_vs_geno_56 geno_56 geno_57 0.17819255\n",
       "59 geno_58_vs_geno_57 geno_57 geno_58 0.35657788\n",
       "60 geno_59_vs_geno_58 geno_58 geno_59 0.76033081\n",
       "61 geno_60_vs_geno_59 geno_59 geno_60 0.36920904"
      ]
     },
     "metadata": {},
     "output_type": "display_data"
    }
   ],
   "source": [
    "roc_p_vals %>%\n",
    "tail()"
   ]
  },
  {
   "cell_type": "markdown",
   "metadata": {},
   "source": [
    "- We currently have `lambda idx = 58` as the best model\n",
    "- `lambda idx = 55` may be the optimal"
   ]
  },
  {
   "cell_type": "code",
   "execution_count": 18,
   "metadata": {},
   "outputs": [],
   "source": [
    "# evaluate the predictive performance\n",
    "55:60 %>% lapply(function(la_idx){\n",
    "    phe_score_intermediate_df %>%\n",
    "    select(-geno_score) %>%\n",
    "    rename('geno_score'=sprintf('geno_%d', la_idx)) %>%\n",
    "    eval_performance(\n",
    "        phenotype,\n",
    "        file.path(data_d, 'results', sprintf('snpnet.lambda%d.tsv', la_idx)),\n",
    "        family\n",
    "    ) %>%\n",
    "    mutate(\n",
    "        lambda_idx = la_idx\n",
    "    ) %>%\n",
    "    select(phenotype_name, split, lambda_idx, geno, covar, geno_covar, geno_delta, n_variables, case_n, control_n)\n",
    "}) %>% bind_rows() -> eval_intermediate_df\n"
   ]
  },
  {
   "cell_type": "code",
   "execution_count": 19,
   "metadata": {},
   "outputs": [],
   "source": [
    "eval_intermediate_df %>%\n",
    "rename('#phenotype_name' = 'phenotype_name') %>%\n",
    "fwrite(eval_f, sep='\\t', na = \"NA\", quote=F)\n"
   ]
  },
  {
   "cell_type": "code",
   "execution_count": 20,
   "metadata": {},
   "outputs": [
    {
     "data": {
      "text/html": [
       "<table>\n",
       "<caption>A data.frame: 18 × 10</caption>\n",
       "<thead>\n",
       "\t<tr><th scope=col>phenotype_name</th><th scope=col>split</th><th scope=col>lambda_idx</th><th scope=col>geno</th><th scope=col>covar</th><th scope=col>geno_covar</th><th scope=col>geno_delta</th><th scope=col>n_variables</th><th scope=col>case_n</th><th scope=col>control_n</th></tr>\n",
       "\t<tr><th scope=col>&lt;chr&gt;</th><th scope=col>&lt;chr&gt;</th><th scope=col>&lt;int&gt;</th><th scope=col>&lt;dbl&gt;</th><th scope=col>&lt;dbl&gt;</th><th scope=col>&lt;dbl&gt;</th><th scope=col>&lt;dbl&gt;</th><th scope=col>&lt;int&gt;</th><th scope=col>&lt;int&gt;</th><th scope=col>&lt;int&gt;</th></tr>\n",
       "</thead>\n",
       "<tbody>\n",
       "\t<tr><td>HC382</td><td>train</td><td>55</td><td>0.7323389</td><td>0.5387748</td><td>0.7312488</td><td>0.19247405</td><td>4764</td><td>31741</td><td>204250</td></tr>\n",
       "\t<tr><td>HC382</td><td>val  </td><td>55</td><td>0.6139289</td><td>0.5281458</td><td>0.6172363</td><td>0.08909049</td><td>4764</td><td> 4553</td><td> 29160</td></tr>\n",
       "\t<tr><td>HC382</td><td>test </td><td>55</td><td>0.6120284</td><td>0.5352619</td><td>0.6163027</td><td>0.08104073</td><td>4764</td><td> 8934</td><td> 58491</td></tr>\n",
       "\t<tr><td>HC382</td><td>train</td><td>56</td><td>0.7462311</td><td>0.5387748</td><td>0.7451270</td><td>0.20635225</td><td>5631</td><td>31741</td><td>204250</td></tr>\n",
       "\t<tr><td>HC382</td><td>val  </td><td>56</td><td>0.6145204</td><td>0.5281458</td><td>0.6179748</td><td>0.08982901</td><td>5631</td><td> 4553</td><td> 29160</td></tr>\n",
       "\t<tr><td>HC382</td><td>test </td><td>56</td><td>0.6122403</td><td>0.5352619</td><td>0.6166296</td><td>0.08136768</td><td>5631</td><td> 8934</td><td> 58491</td></tr>\n",
       "\t<tr><td>HC382</td><td>train</td><td>57</td><td>0.7598510</td><td>0.5387748</td><td>0.7588080</td><td>0.22003326</td><td>6564</td><td>31741</td><td>204250</td></tr>\n",
       "\t<tr><td>HC382</td><td>val  </td><td>57</td><td>0.6149959</td><td>0.5281458</td><td>0.6185883</td><td>0.09044256</td><td>6564</td><td> 4553</td><td> 29160</td></tr>\n",
       "\t<tr><td>HC382</td><td>test </td><td>57</td><td>0.6122056</td><td>0.5352619</td><td>0.6166757</td><td>0.08141378</td><td>6564</td><td> 8934</td><td> 58491</td></tr>\n",
       "\t<tr><td>HC382</td><td>train</td><td>58</td><td>0.7731822</td><td>0.5387748</td><td>0.7722529</td><td>0.23347815</td><td>7595</td><td>31741</td><td>204250</td></tr>\n",
       "\t<tr><td>HC382</td><td>val  </td><td>58</td><td>0.6153153</td><td>0.5281458</td><td>0.6189194</td><td>0.09077367</td><td>7595</td><td> 4553</td><td> 29160</td></tr>\n",
       "\t<tr><td>HC382</td><td>test </td><td>58</td><td>0.6116628</td><td>0.5352619</td><td>0.6161877</td><td>0.08092573</td><td>7595</td><td> 8934</td><td> 58491</td></tr>\n",
       "\t<tr><td>HC382</td><td>train</td><td>59</td><td>0.7860830</td><td>0.5387748</td><td>0.7852986</td><td>0.24652380</td><td>8701</td><td>31741</td><td>204250</td></tr>\n",
       "\t<tr><td>HC382</td><td>val  </td><td>59</td><td>0.6152139</td><td>0.5281458</td><td>0.6188428</td><td>0.09069708</td><td>8701</td><td> 4553</td><td> 29160</td></tr>\n",
       "\t<tr><td>HC382</td><td>test </td><td>59</td><td>0.6110146</td><td>0.5352619</td><td>0.6155427</td><td>0.08028081</td><td>8701</td><td> 8934</td><td> 58491</td></tr>\n",
       "\t<tr><td>HC382</td><td>train</td><td>60</td><td>0.7985620</td><td>0.5387748</td><td>0.7979302</td><td>0.25915542</td><td>9920</td><td>31741</td><td>204250</td></tr>\n",
       "\t<tr><td>HC382</td><td>val  </td><td>60</td><td>0.6149297</td><td>0.5281458</td><td>0.6185107</td><td>0.09036495</td><td>9920</td><td> 4553</td><td> 29160</td></tr>\n",
       "\t<tr><td>HC382</td><td>test </td><td>60</td><td>0.6103258</td><td>0.5352619</td><td>0.6148360</td><td>0.07957403</td><td>9920</td><td> 8934</td><td> 58491</td></tr>\n",
       "</tbody>\n",
       "</table>\n"
      ],
      "text/latex": [
       "A data.frame: 18 × 10\n",
       "\\begin{tabular}{llllllllll}\n",
       " phenotype\\_name & split & lambda\\_idx & geno & covar & geno\\_covar & geno\\_delta & n\\_variables & case\\_n & control\\_n\\\\\n",
       " <chr> & <chr> & <int> & <dbl> & <dbl> & <dbl> & <dbl> & <int> & <int> & <int>\\\\\n",
       "\\hline\n",
       "\t HC382 & train & 55 & 0.7323389 & 0.5387748 & 0.7312488 & 0.19247405 & 4764 & 31741 & 204250\\\\\n",
       "\t HC382 & val   & 55 & 0.6139289 & 0.5281458 & 0.6172363 & 0.08909049 & 4764 &  4553 &  29160\\\\\n",
       "\t HC382 & test  & 55 & 0.6120284 & 0.5352619 & 0.6163027 & 0.08104073 & 4764 &  8934 &  58491\\\\\n",
       "\t HC382 & train & 56 & 0.7462311 & 0.5387748 & 0.7451270 & 0.20635225 & 5631 & 31741 & 204250\\\\\n",
       "\t HC382 & val   & 56 & 0.6145204 & 0.5281458 & 0.6179748 & 0.08982901 & 5631 &  4553 &  29160\\\\\n",
       "\t HC382 & test  & 56 & 0.6122403 & 0.5352619 & 0.6166296 & 0.08136768 & 5631 &  8934 &  58491\\\\\n",
       "\t HC382 & train & 57 & 0.7598510 & 0.5387748 & 0.7588080 & 0.22003326 & 6564 & 31741 & 204250\\\\\n",
       "\t HC382 & val   & 57 & 0.6149959 & 0.5281458 & 0.6185883 & 0.09044256 & 6564 &  4553 &  29160\\\\\n",
       "\t HC382 & test  & 57 & 0.6122056 & 0.5352619 & 0.6166757 & 0.08141378 & 6564 &  8934 &  58491\\\\\n",
       "\t HC382 & train & 58 & 0.7731822 & 0.5387748 & 0.7722529 & 0.23347815 & 7595 & 31741 & 204250\\\\\n",
       "\t HC382 & val   & 58 & 0.6153153 & 0.5281458 & 0.6189194 & 0.09077367 & 7595 &  4553 &  29160\\\\\n",
       "\t HC382 & test  & 58 & 0.6116628 & 0.5352619 & 0.6161877 & 0.08092573 & 7595 &  8934 &  58491\\\\\n",
       "\t HC382 & train & 59 & 0.7860830 & 0.5387748 & 0.7852986 & 0.24652380 & 8701 & 31741 & 204250\\\\\n",
       "\t HC382 & val   & 59 & 0.6152139 & 0.5281458 & 0.6188428 & 0.09069708 & 8701 &  4553 &  29160\\\\\n",
       "\t HC382 & test  & 59 & 0.6110146 & 0.5352619 & 0.6155427 & 0.08028081 & 8701 &  8934 &  58491\\\\\n",
       "\t HC382 & train & 60 & 0.7985620 & 0.5387748 & 0.7979302 & 0.25915542 & 9920 & 31741 & 204250\\\\\n",
       "\t HC382 & val   & 60 & 0.6149297 & 0.5281458 & 0.6185107 & 0.09036495 & 9920 &  4553 &  29160\\\\\n",
       "\t HC382 & test  & 60 & 0.6103258 & 0.5352619 & 0.6148360 & 0.07957403 & 9920 &  8934 &  58491\\\\\n",
       "\\end{tabular}\n"
      ],
      "text/markdown": [
       "\n",
       "A data.frame: 18 × 10\n",
       "\n",
       "| phenotype_name &lt;chr&gt; | split &lt;chr&gt; | lambda_idx &lt;int&gt; | geno &lt;dbl&gt; | covar &lt;dbl&gt; | geno_covar &lt;dbl&gt; | geno_delta &lt;dbl&gt; | n_variables &lt;int&gt; | case_n &lt;int&gt; | control_n &lt;int&gt; |\n",
       "|---|---|---|---|---|---|---|---|---|---|\n",
       "| HC382 | train | 55 | 0.7323389 | 0.5387748 | 0.7312488 | 0.19247405 | 4764 | 31741 | 204250 |\n",
       "| HC382 | val   | 55 | 0.6139289 | 0.5281458 | 0.6172363 | 0.08909049 | 4764 |  4553 |  29160 |\n",
       "| HC382 | test  | 55 | 0.6120284 | 0.5352619 | 0.6163027 | 0.08104073 | 4764 |  8934 |  58491 |\n",
       "| HC382 | train | 56 | 0.7462311 | 0.5387748 | 0.7451270 | 0.20635225 | 5631 | 31741 | 204250 |\n",
       "| HC382 | val   | 56 | 0.6145204 | 0.5281458 | 0.6179748 | 0.08982901 | 5631 |  4553 |  29160 |\n",
       "| HC382 | test  | 56 | 0.6122403 | 0.5352619 | 0.6166296 | 0.08136768 | 5631 |  8934 |  58491 |\n",
       "| HC382 | train | 57 | 0.7598510 | 0.5387748 | 0.7588080 | 0.22003326 | 6564 | 31741 | 204250 |\n",
       "| HC382 | val   | 57 | 0.6149959 | 0.5281458 | 0.6185883 | 0.09044256 | 6564 |  4553 |  29160 |\n",
       "| HC382 | test  | 57 | 0.6122056 | 0.5352619 | 0.6166757 | 0.08141378 | 6564 |  8934 |  58491 |\n",
       "| HC382 | train | 58 | 0.7731822 | 0.5387748 | 0.7722529 | 0.23347815 | 7595 | 31741 | 204250 |\n",
       "| HC382 | val   | 58 | 0.6153153 | 0.5281458 | 0.6189194 | 0.09077367 | 7595 |  4553 |  29160 |\n",
       "| HC382 | test  | 58 | 0.6116628 | 0.5352619 | 0.6161877 | 0.08092573 | 7595 |  8934 |  58491 |\n",
       "| HC382 | train | 59 | 0.7860830 | 0.5387748 | 0.7852986 | 0.24652380 | 8701 | 31741 | 204250 |\n",
       "| HC382 | val   | 59 | 0.6152139 | 0.5281458 | 0.6188428 | 0.09069708 | 8701 |  4553 |  29160 |\n",
       "| HC382 | test  | 59 | 0.6110146 | 0.5352619 | 0.6155427 | 0.08028081 | 8701 |  8934 |  58491 |\n",
       "| HC382 | train | 60 | 0.7985620 | 0.5387748 | 0.7979302 | 0.25915542 | 9920 | 31741 | 204250 |\n",
       "| HC382 | val   | 60 | 0.6149297 | 0.5281458 | 0.6185107 | 0.09036495 | 9920 |  4553 |  29160 |\n",
       "| HC382 | test  | 60 | 0.6103258 | 0.5352619 | 0.6148360 | 0.07957403 | 9920 |  8934 |  58491 |\n",
       "\n"
      ],
      "text/plain": [
       "   phenotype_name split lambda_idx geno      covar     geno_covar geno_delta\n",
       "1  HC382          train 55         0.7323389 0.5387748 0.7312488  0.19247405\n",
       "2  HC382          val   55         0.6139289 0.5281458 0.6172363  0.08909049\n",
       "3  HC382          test  55         0.6120284 0.5352619 0.6163027  0.08104073\n",
       "4  HC382          train 56         0.7462311 0.5387748 0.7451270  0.20635225\n",
       "5  HC382          val   56         0.6145204 0.5281458 0.6179748  0.08982901\n",
       "6  HC382          test  56         0.6122403 0.5352619 0.6166296  0.08136768\n",
       "7  HC382          train 57         0.7598510 0.5387748 0.7588080  0.22003326\n",
       "8  HC382          val   57         0.6149959 0.5281458 0.6185883  0.09044256\n",
       "9  HC382          test  57         0.6122056 0.5352619 0.6166757  0.08141378\n",
       "10 HC382          train 58         0.7731822 0.5387748 0.7722529  0.23347815\n",
       "11 HC382          val   58         0.6153153 0.5281458 0.6189194  0.09077367\n",
       "12 HC382          test  58         0.6116628 0.5352619 0.6161877  0.08092573\n",
       "13 HC382          train 59         0.7860830 0.5387748 0.7852986  0.24652380\n",
       "14 HC382          val   59         0.6152139 0.5281458 0.6188428  0.09069708\n",
       "15 HC382          test  59         0.6110146 0.5352619 0.6155427  0.08028081\n",
       "16 HC382          train 60         0.7985620 0.5387748 0.7979302  0.25915542\n",
       "17 HC382          val   60         0.6149297 0.5281458 0.6185107  0.09036495\n",
       "18 HC382          test  60         0.6103258 0.5352619 0.6148360  0.07957403\n",
       "   n_variables case_n control_n\n",
       "1  4764        31741  204250   \n",
       "2  4764         4553   29160   \n",
       "3  4764         8934   58491   \n",
       "4  5631        31741  204250   \n",
       "5  5631         4553   29160   \n",
       "6  5631         8934   58491   \n",
       "7  6564        31741  204250   \n",
       "8  6564         4553   29160   \n",
       "9  6564         8934   58491   \n",
       "10 7595        31741  204250   \n",
       "11 7595         4553   29160   \n",
       "12 7595         8934   58491   \n",
       "13 8701        31741  204250   \n",
       "14 8701         4553   29160   \n",
       "15 8701         8934   58491   \n",
       "16 9920        31741  204250   \n",
       "17 9920         4553   29160   \n",
       "18 9920         8934   58491   "
      ]
     },
     "metadata": {},
     "output_type": "display_data"
    }
   ],
   "source": [
    "eval_intermediate_df %>%\n",
    "filter(split %in% c('train', 'test', 'val')) %>%\n",
    "left_join(data.frame(split=c('train', 'val', 'test'), order=1:3, stringsAsFactors=F), by='split') %>%\n",
    "arrange(lambda_idx, order) %>% select(-order)"
   ]
  },
  {
   "cell_type": "code",
   "execution_count": 21,
   "metadata": {},
   "outputs": [
    {
     "data": {
      "text/plain": [
       "\n",
       "\tDeLong's test for two correlated ROC curves\n",
       "\n",
       "data:  roc(sdf$phe, sdf[[sprintf(\"geno_%d\", lambda_idx - 1)]], levels = c(control = 1,  and roc(sdf$phe, sdf[[sprintf(\"geno_%d\", lambda_idx)]], levels = c(control = 1,     case = 2), direction = \"<\") and     case = 2), direction = \"<\")\n",
       "Z = -1.6211, p-value = 0.105\n",
       "alternative hypothesis: true difference in AUC is not equal to 0\n",
       "sample estimates:\n",
       "AUC of roc1 AUC of roc2 \n",
       "  0.6139289   0.6145204 \n"
      ]
     },
     "metadata": {},
     "output_type": "display_data"
    }
   ],
   "source": [
    "roc_tests[['geno_56_vs_geno_55']]"
   ]
  },
  {
   "cell_type": "code",
   "execution_count": null,
   "metadata": {},
   "outputs": [],
   "source": []
  }
 ],
 "metadata": {
  "kernelspec": {
   "display_name": "R",
   "language": "R",
   "name": "ir"
  },
  "language_info": {
   "codemirror_mode": "r",
   "file_extension": ".r",
   "mimetype": "text/x-r-source",
   "name": "R",
   "pygments_lexer": "r",
   "version": "3.6.2"
  }
 },
 "nbformat": 4,
 "nbformat_minor": 4
}

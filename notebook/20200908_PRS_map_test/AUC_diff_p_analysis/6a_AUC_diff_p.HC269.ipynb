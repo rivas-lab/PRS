{
 "cells": [
  {
   "cell_type": "code",
   "execution_count": 2,
   "metadata": {},
   "outputs": [],
   "source": [
    "suppressWarnings(suppressPackageStartupMessages({\n",
    "    library(tidyverse)\n",
    "    library(data.table)\n",
    "    library(pROC)\n",
    "}))\n"
   ]
  },
  {
   "cell_type": "code",
   "execution_count": 3,
   "metadata": {},
   "outputs": [],
   "source": [
    "run_name <- '1_p_factor_v1'\n",
    "phenotype <- 'HC269'\n",
    "refit <- T\n",
    "\n",
    "data_d <- file.path(\n",
    "    '/oak/stanford/groups/mrivas/projects/PRS/private_output/20200908_PRS_map_test', \n",
    "    run_name, phenotype, ifelse(refit, '2_refit', '1_fit_w_val')\n",
    ")\n",
    "refit <- F\n",
    "\n",
    "# output\n",
    "eval_f <- sprintf('AUC_diff_p_eval-refit.%s.tsv', phenotype)"
   ]
  },
  {
   "cell_type": "code",
   "execution_count": 4,
   "metadata": {},
   "outputs": [],
   "source": [
    "# input and parameters\n",
    "\n",
    "#data_d <- '/oak/stanford/groups/mrivas/projects/PRS/private_output/20200908_PRS_map_test'\n",
    "phe_f <- '/scratch/groups/mrivas/ukbb24983/phenotypedata/master_phe/master.20200828.phe.zst'\n",
    "covariates       <- c('age', 'sex', paste0('PC', 1:10))\n",
    "refit_split_strs <- c('non_british_white', 'african', 's_asian', 'e_asian')\n",
    "sscore_f             <- file.path(data_d, '__PHENOTYPE__.sscore.zst')\n",
    "snpnet_BETAs_f       <- file.path(data_d, 'snpnet.tsv')\n",
    "snpnet_covar_BETAs_f <- file.path(data_d, 'snpnet.covars.tsv')\n",
    "family <- ifelse((startsWith(phenotype, 'INI') | startsWith(phenotype, 'QT_FC')), 'gaussian', 'binomial')\n",
    "\n",
    "# output\n",
    "eval_f <- file.path(data_d, 'snpnet.eval.tsv')\n",
    "plot_f <- file.path(data_d, 'snpnet.plot.pdf')\n",
    "percentile_f <- file.path(data_d, 'snpnet.percentile.tsv')\n"
   ]
  },
  {
   "cell_type": "code",
   "execution_count": 5,
   "metadata": {},
   "outputs": [],
   "source": [
    "source('/oak/stanford/groups/mrivas/users/ytanigaw/repos/rivas-lab/snpnet/helpers/snpnet_misc.R')\n",
    "\n",
    "# read the raw phenotype file\n",
    "fread(\n",
    "    cmd=paste(cat_or_zcat(phe_f), phe_f,  '|', 'sed -e \"s/^#//g\"'),\n",
    "    select=c('FID', 'IID', 'split', covariates, phenotype),\n",
    "    colClasses = c('FID'='character', 'IID'='character'),\n",
    "    data.table=F\n",
    ") -> phe_df\n",
    "\n",
    "if(refit){\n",
    "    phe_df %>%\n",
    "    mutate(\n",
    "        split = if_else(split %in% c('train', 'val'), 'train_val', split)\n",
    "    ) -> phe_df\n",
    "}\n",
    "\n",
    "# read PRS and covariate-based score\n",
    "phe_df %>%\n",
    "compute_phe_score_df(\n",
    "    phenotype,\n",
    "    str_replace_all(sscore_f, '__PHENOTYPE__', phenotype),\n",
    "    str_replace_all(snpnet_covar_BETAs_f, '__PHENOTYPE__', phenotype),\n",
    "    covariates, family, refit_split_strs\n",
    ") -> phe_score_df\n"
   ]
  },
  {
   "cell_type": "code",
   "execution_count": 5,
   "metadata": {},
   "outputs": [],
   "source": [
    "Sys.glob(file.path(data_d, 'results', '*.sscore.zst'), dirmark = FALSE) %>%\n",
    "lapply(function(x){as.integer(str_replace_all(basename(x), '^snpnet.lambda|.sscore.zst$', ''))}) %>%\n",
    "simplify() %>% sort() -> lambda_idxs \n"
   ]
  },
  {
   "cell_type": "code",
   "execution_count": 6,
   "metadata": {},
   "outputs": [
    {
     "data": {
      "text/html": [
       "<style>\n",
       ".list-inline {list-style: none; margin:0; padding: 0}\n",
       ".list-inline>li {display: inline-block}\n",
       ".list-inline>li:not(:last-child)::after {content: \"\\00b7\"; padding: 0 .5ex}\n",
       "</style>\n",
       "<ol class=list-inline><li>2</li><li>3</li><li>4</li><li>5</li><li>6</li><li>7</li><li>8</li><li>9</li><li>10</li><li>11</li><li>12</li><li>13</li><li>14</li><li>15</li><li>16</li><li>17</li><li>18</li><li>19</li><li>20</li><li>21</li><li>22</li><li>23</li><li>24</li><li>25</li><li>26</li><li>27</li><li>28</li><li>29</li><li>30</li><li>31</li><li>32</li><li>33</li><li>34</li><li>35</li><li>36</li><li>37</li><li>38</li><li>39</li><li>40</li><li>41</li><li>42</li><li>43</li><li>44</li><li>45</li><li>46</li><li>47</li><li>48</li><li>49</li><li>50</li><li>51</li><li>52</li><li>53</li><li>54</li><li>55</li><li>56</li></ol>\n"
      ],
      "text/latex": [
       "\\begin{enumerate*}\n",
       "\\item 2\n",
       "\\item 3\n",
       "\\item 4\n",
       "\\item 5\n",
       "\\item 6\n",
       "\\item 7\n",
       "\\item 8\n",
       "\\item 9\n",
       "\\item 10\n",
       "\\item 11\n",
       "\\item 12\n",
       "\\item 13\n",
       "\\item 14\n",
       "\\item 15\n",
       "\\item 16\n",
       "\\item 17\n",
       "\\item 18\n",
       "\\item 19\n",
       "\\item 20\n",
       "\\item 21\n",
       "\\item 22\n",
       "\\item 23\n",
       "\\item 24\n",
       "\\item 25\n",
       "\\item 26\n",
       "\\item 27\n",
       "\\item 28\n",
       "\\item 29\n",
       "\\item 30\n",
       "\\item 31\n",
       "\\item 32\n",
       "\\item 33\n",
       "\\item 34\n",
       "\\item 35\n",
       "\\item 36\n",
       "\\item 37\n",
       "\\item 38\n",
       "\\item 39\n",
       "\\item 40\n",
       "\\item 41\n",
       "\\item 42\n",
       "\\item 43\n",
       "\\item 44\n",
       "\\item 45\n",
       "\\item 46\n",
       "\\item 47\n",
       "\\item 48\n",
       "\\item 49\n",
       "\\item 50\n",
       "\\item 51\n",
       "\\item 52\n",
       "\\item 53\n",
       "\\item 54\n",
       "\\item 55\n",
       "\\item 56\n",
       "\\end{enumerate*}\n"
      ],
      "text/markdown": [
       "1. 2\n",
       "2. 3\n",
       "3. 4\n",
       "4. 5\n",
       "5. 6\n",
       "6. 7\n",
       "7. 8\n",
       "8. 9\n",
       "9. 10\n",
       "10. 11\n",
       "11. 12\n",
       "12. 13\n",
       "13. 14\n",
       "14. 15\n",
       "15. 16\n",
       "16. 17\n",
       "17. 18\n",
       "18. 19\n",
       "19. 20\n",
       "20. 21\n",
       "21. 22\n",
       "22. 23\n",
       "23. 24\n",
       "24. 25\n",
       "25. 26\n",
       "26. 27\n",
       "27. 28\n",
       "28. 29\n",
       "29. 30\n",
       "30. 31\n",
       "31. 32\n",
       "32. 33\n",
       "33. 34\n",
       "34. 35\n",
       "35. 36\n",
       "36. 37\n",
       "37. 38\n",
       "38. 39\n",
       "39. 40\n",
       "40. 41\n",
       "41. 42\n",
       "42. 43\n",
       "43. 44\n",
       "44. 45\n",
       "45. 46\n",
       "46. 47\n",
       "47. 48\n",
       "48. 49\n",
       "49. 50\n",
       "50. 51\n",
       "51. 52\n",
       "52. 53\n",
       "53. 54\n",
       "54. 55\n",
       "55. 56\n",
       "\n",
       "\n"
      ],
      "text/plain": [
       " [1]  2  3  4  5  6  7  8  9 10 11 12 13 14 15 16 17 18 19 20 21 22 23 24 25 26\n",
       "[26] 27 28 29 30 31 32 33 34 35 36 37 38 39 40 41 42 43 44 45 46 47 48 49 50 51\n",
       "[51] 52 53 54 55 56"
      ]
     },
     "metadata": {},
     "output_type": "display_data"
    }
   ],
   "source": [
    "lambda_idxs "
   ]
  },
  {
   "cell_type": "code",
   "execution_count": 7,
   "metadata": {},
   "outputs": [],
   "source": [
    "lambda_idxs %>%\n",
    "lapply(function(lambda_idx){\n",
    "    file.path(data_d, 'results', sprintf('snpnet.lambda%d.sscore.zst', lambda_idx)) %>%\n",
    "    read_PRS() %>%\n",
    "    rename(!!sprintf('geno_%d', lambda_idx) := 'geno_score')\n",
    "}) %>%\n",
    "reduce(function(x, y){inner_join(x, y, by=c('FID', 'IID'))}) -> geno_score_intermediates_df\n"
   ]
  },
  {
   "cell_type": "code",
   "execution_count": 8,
   "metadata": {},
   "outputs": [],
   "source": [
    "phe_score_df %>% \n",
    "left_join(geno_score_intermediates_df, by=c('FID', 'IID')) -> phe_score_intermediate_df\n"
   ]
  },
  {
   "cell_type": "code",
   "execution_count": 9,
   "metadata": {},
   "outputs": [],
   "source": [
    "phe_score_intermediate_df %>%\n",
    "filter(split == 'val') %>%\n",
    "mutate(geno_covar_score = geno_score + covar_score) -> sdf\n"
   ]
  },
  {
   "cell_type": "code",
   "execution_count": 10,
   "metadata": {},
   "outputs": [],
   "source": [
    "roc_tests <- list()\n"
   ]
  },
  {
   "cell_type": "code",
   "execution_count": 11,
   "metadata": {},
   "outputs": [],
   "source": [
    "roc.test(\n",
    "    roc(sdf$phe, sdf[['covar_score']], levels=c('control'=1, 'case'=2), direction='<'),\n",
    "    roc(sdf$phe, sdf[['geno_covar_score']], levels=c('control'=1, 'case'=2), direction='<')\n",
    ") -> roc_tests[['geno_covar_vs_covar']]\n"
   ]
  },
  {
   "cell_type": "code",
   "execution_count": 12,
   "metadata": {},
   "outputs": [],
   "source": [
    "roc.test(\n",
    "    roc(sdf$phe, sdf[['covar_score']], levels=c('control'=1, 'case'=2), direction='<'),\n",
    "    roc(sdf$phe, sdf[['geno_2']], levels=c('control'=1, 'case'=2), direction='<')\n",
    ") -> roc_tests[['geno_2_vs_covar']]\n"
   ]
  },
  {
   "cell_type": "code",
   "execution_count": 13,
   "metadata": {},
   "outputs": [],
   "source": [
    "for(lambda_idx in lambda_idxs[lambda_idxs != 2]){\n",
    "    roc.test(\n",
    "        roc(sdf$phe, sdf[[sprintf('geno_%d', lambda_idx - 1)]], levels=c('control'=1, 'case'=2), direction='<'),\n",
    "        roc(sdf$phe, sdf[[sprintf('geno_%d', lambda_idx    )]], levels=c('control'=1, 'case'=2), direction='<')\n",
    "    ) -> roc_tests[[sprintf('geno_%d_vs_geno_%d', lambda_idx, lambda_idx - 1)]]\n",
    "}\n"
   ]
  },
  {
   "cell_type": "code",
   "execution_count": 14,
   "metadata": {},
   "outputs": [],
   "source": [
    "roc_p_vals <- data.frame(\n",
    "    name = names(roc_tests),\n",
    "    p = names(roc_tests) %>%\n",
    "    lapply(function(k){\n",
    "        (roc_tests[[k]])$p.value\n",
    "    }) %>% simplify(),\n",
    "    stringsAsFactors=F\n",
    ") %>%\n",
    "separate(name, c('score2', 'score1'), sep='_vs_', remove=F) %>%\n",
    "select(name, score1, score2, p)\n"
   ]
  },
  {
   "cell_type": "code",
   "execution_count": 16,
   "metadata": {},
   "outputs": [],
   "source": [
    "roc_p_vals %>%\n",
    "rename('#name' = 'name') %>%\n",
    "fwrite(p_val_f, sep='\\t', na = \"NA\", quote=F)\n"
   ]
  },
  {
   "cell_type": "code",
   "execution_count": 15,
   "metadata": {},
   "outputs": [
    {
     "data": {
      "text/plain": [
       "\n",
       "\tDeLong's test for two correlated ROC curves\n",
       "\n",
       "data:  roc(sdf$phe, sdf[[\"covar_score\"]], levels = c(control = 1, case = 2),  and roc(sdf$phe, sdf[[\"geno_covar_score\"]], levels = c(control = 1,     direction = \"<\") and     case = 2), direction = \"<\")\n",
       "Z = -13.391, p-value < 2.2e-16\n",
       "alternative hypothesis: true difference in AUC is not equal to 0\n",
       "sample estimates:\n",
       "AUC of roc1 AUC of roc2 \n",
       "  0.6814867   0.7149091 \n"
      ]
     },
     "metadata": {},
     "output_type": "display_data"
    }
   ],
   "source": [
    "roc_tests[['geno_covar_vs_covar']]"
   ]
  },
  {
   "cell_type": "code",
   "execution_count": 16,
   "metadata": {},
   "outputs": [
    {
     "data": {
      "text/html": [
       "<table>\n",
       "<caption>A data.frame: 10 × 4</caption>\n",
       "<thead>\n",
       "\t<tr><th></th><th scope=col>name</th><th scope=col>score1</th><th scope=col>score2</th><th scope=col>p</th></tr>\n",
       "\t<tr><th></th><th scope=col>&lt;chr&gt;</th><th scope=col>&lt;chr&gt;</th><th scope=col>&lt;chr&gt;</th><th scope=col>&lt;dbl&gt;</th></tr>\n",
       "</thead>\n",
       "<tbody>\n",
       "\t<tr><th scope=row>47</th><td>geno_47_vs_geno_46</td><td>geno_46</td><td>geno_47</td><td>0.004039150</td></tr>\n",
       "\t<tr><th scope=row>48</th><td>geno_48_vs_geno_47</td><td>geno_47</td><td>geno_48</td><td>0.008727713</td></tr>\n",
       "\t<tr><th scope=row>49</th><td>geno_49_vs_geno_48</td><td>geno_48</td><td>geno_49</td><td>0.011980257</td></tr>\n",
       "\t<tr><th scope=row>50</th><td>geno_50_vs_geno_49</td><td>geno_49</td><td>geno_50</td><td>0.016299960</td></tr>\n",
       "\t<tr><th scope=row>51</th><td>geno_51_vs_geno_50</td><td>geno_50</td><td>geno_51</td><td>0.120738613</td></tr>\n",
       "\t<tr><th scope=row>52</th><td>geno_52_vs_geno_51</td><td>geno_51</td><td>geno_52</td><td>0.565755808</td></tr>\n",
       "\t<tr><th scope=row>53</th><td>geno_53_vs_geno_52</td><td>geno_52</td><td>geno_53</td><td>0.711787302</td></tr>\n",
       "\t<tr><th scope=row>54</th><td>geno_54_vs_geno_53</td><td>geno_53</td><td>geno_54</td><td>0.965750323</td></tr>\n",
       "\t<tr><th scope=row>55</th><td>geno_55_vs_geno_54</td><td>geno_54</td><td>geno_55</td><td>0.472972236</td></tr>\n",
       "\t<tr><th scope=row>56</th><td>geno_56_vs_geno_55</td><td>geno_55</td><td>geno_56</td><td>0.179458603</td></tr>\n",
       "</tbody>\n",
       "</table>\n"
      ],
      "text/latex": [
       "A data.frame: 10 × 4\n",
       "\\begin{tabular}{r|llll}\n",
       "  & name & score1 & score2 & p\\\\\n",
       "  & <chr> & <chr> & <chr> & <dbl>\\\\\n",
       "\\hline\n",
       "\t47 & geno\\_47\\_vs\\_geno\\_46 & geno\\_46 & geno\\_47 & 0.004039150\\\\\n",
       "\t48 & geno\\_48\\_vs\\_geno\\_47 & geno\\_47 & geno\\_48 & 0.008727713\\\\\n",
       "\t49 & geno\\_49\\_vs\\_geno\\_48 & geno\\_48 & geno\\_49 & 0.011980257\\\\\n",
       "\t50 & geno\\_50\\_vs\\_geno\\_49 & geno\\_49 & geno\\_50 & 0.016299960\\\\\n",
       "\t51 & geno\\_51\\_vs\\_geno\\_50 & geno\\_50 & geno\\_51 & 0.120738613\\\\\n",
       "\t52 & geno\\_52\\_vs\\_geno\\_51 & geno\\_51 & geno\\_52 & 0.565755808\\\\\n",
       "\t53 & geno\\_53\\_vs\\_geno\\_52 & geno\\_52 & geno\\_53 & 0.711787302\\\\\n",
       "\t54 & geno\\_54\\_vs\\_geno\\_53 & geno\\_53 & geno\\_54 & 0.965750323\\\\\n",
       "\t55 & geno\\_55\\_vs\\_geno\\_54 & geno\\_54 & geno\\_55 & 0.472972236\\\\\n",
       "\t56 & geno\\_56\\_vs\\_geno\\_55 & geno\\_55 & geno\\_56 & 0.179458603\\\\\n",
       "\\end{tabular}\n"
      ],
      "text/markdown": [
       "\n",
       "A data.frame: 10 × 4\n",
       "\n",
       "| <!--/--> | name &lt;chr&gt; | score1 &lt;chr&gt; | score2 &lt;chr&gt; | p &lt;dbl&gt; |\n",
       "|---|---|---|---|---|\n",
       "| 47 | geno_47_vs_geno_46 | geno_46 | geno_47 | 0.004039150 |\n",
       "| 48 | geno_48_vs_geno_47 | geno_47 | geno_48 | 0.008727713 |\n",
       "| 49 | geno_49_vs_geno_48 | geno_48 | geno_49 | 0.011980257 |\n",
       "| 50 | geno_50_vs_geno_49 | geno_49 | geno_50 | 0.016299960 |\n",
       "| 51 | geno_51_vs_geno_50 | geno_50 | geno_51 | 0.120738613 |\n",
       "| 52 | geno_52_vs_geno_51 | geno_51 | geno_52 | 0.565755808 |\n",
       "| 53 | geno_53_vs_geno_52 | geno_52 | geno_53 | 0.711787302 |\n",
       "| 54 | geno_54_vs_geno_53 | geno_53 | geno_54 | 0.965750323 |\n",
       "| 55 | geno_55_vs_geno_54 | geno_54 | geno_55 | 0.472972236 |\n",
       "| 56 | geno_56_vs_geno_55 | geno_55 | geno_56 | 0.179458603 |\n",
       "\n"
      ],
      "text/plain": [
       "   name               score1  score2  p          \n",
       "47 geno_47_vs_geno_46 geno_46 geno_47 0.004039150\n",
       "48 geno_48_vs_geno_47 geno_47 geno_48 0.008727713\n",
       "49 geno_49_vs_geno_48 geno_48 geno_49 0.011980257\n",
       "50 geno_50_vs_geno_49 geno_49 geno_50 0.016299960\n",
       "51 geno_51_vs_geno_50 geno_50 geno_51 0.120738613\n",
       "52 geno_52_vs_geno_51 geno_51 geno_52 0.565755808\n",
       "53 geno_53_vs_geno_52 geno_52 geno_53 0.711787302\n",
       "54 geno_54_vs_geno_53 geno_53 geno_54 0.965750323\n",
       "55 geno_55_vs_geno_54 geno_54 geno_55 0.472972236\n",
       "56 geno_56_vs_geno_55 geno_55 geno_56 0.179458603"
      ]
     },
     "metadata": {},
     "output_type": "display_data"
    }
   ],
   "source": [
    "roc_p_vals %>%\n",
    "tail(10)"
   ]
  },
  {
   "cell_type": "markdown",
   "metadata": {},
   "source": [
    "- We currently have `lambda idx = 54` as the best model\n",
    "- `lambda idx = 50` may be the optimal"
   ]
  },
  {
   "cell_type": "code",
   "execution_count": 18,
   "metadata": {},
   "outputs": [],
   "source": [
    "# evaluate the predictive performance\n",
    "50:56 %>% lapply(function(la_idx){\n",
    "    phe_score_intermediate_df %>%\n",
    "    select(-geno_score) %>%\n",
    "    rename('geno_score'=sprintf('geno_%d', la_idx)) %>%\n",
    "    eval_performance(\n",
    "        phenotype,\n",
    "        file.path(data_d, 'results', sprintf('snpnet.lambda%d.tsv', la_idx)),\n",
    "        family\n",
    "    ) %>%\n",
    "    mutate(\n",
    "        lambda_idx = la_idx\n",
    "    ) %>%\n",
    "    select(phenotype_name, split, lambda_idx, geno, covar, geno_covar, geno_delta, n_variables, case_n, control_n)\n",
    "}) %>% bind_rows() -> eval_intermediate_df\n"
   ]
  },
  {
   "cell_type": "code",
   "execution_count": 21,
   "metadata": {},
   "outputs": [],
   "source": [
    "eval_intermediate_df %>%\n",
    "rename('#phenotype_name' = 'phenotype_name') %>%\n",
    "fwrite(eval_f, sep='\\t', na = \"NA\", quote=F)\n"
   ]
  },
  {
   "cell_type": "code",
   "execution_count": 26,
   "metadata": {},
   "outputs": [
    {
     "data": {
      "text/html": [
       "<table>\n",
       "<caption>A data.frame: 21 × 10</caption>\n",
       "<thead>\n",
       "\t<tr><th scope=col>phenotype_name</th><th scope=col>split</th><th scope=col>lambda_idx</th><th scope=col>geno</th><th scope=col>covar</th><th scope=col>geno_covar</th><th scope=col>geno_delta</th><th scope=col>n_variables</th><th scope=col>case_n</th><th scope=col>control_n</th></tr>\n",
       "\t<tr><th scope=col>&lt;chr&gt;</th><th scope=col>&lt;chr&gt;</th><th scope=col>&lt;int&gt;</th><th scope=col>&lt;dbl&gt;</th><th scope=col>&lt;dbl&gt;</th><th scope=col>&lt;dbl&gt;</th><th scope=col>&lt;dbl&gt;</th><th scope=col>&lt;int&gt;</th><th scope=col>&lt;int&gt;</th><th scope=col>&lt;int&gt;</th></tr>\n",
       "</thead>\n",
       "<tbody>\n",
       "\t<tr><td>HC269</td><td>train</td><td>50</td><td>0.7064346</td><td>0.6897751</td><td>0.7652736</td><td>0.07549851</td><td>3653</td><td>31710</td><td>204281</td></tr>\n",
       "\t<tr><td>HC269</td><td>val  </td><td>50</td><td>0.6125953</td><td>0.6814867</td><td>0.7137185</td><td>0.03223179</td><td>3653</td><td> 4517</td><td> 29196</td></tr>\n",
       "\t<tr><td>HC269</td><td>test </td><td>50</td><td>0.6162160</td><td>0.6926424</td><td>0.7258807</td><td>0.03323835</td><td>3653</td><td> 8999</td><td> 58426</td></tr>\n",
       "\t<tr><td>HC269</td><td>train</td><td>51</td><td>0.7195777</td><td>0.6897751</td><td>0.7734151</td><td>0.08363995</td><td>4401</td><td>31710</td><td>204281</td></tr>\n",
       "\t<tr><td>HC269</td><td>val  </td><td>51</td><td>0.6131447</td><td>0.6814867</td><td>0.7143009</td><td>0.03281424</td><td>4401</td><td> 4517</td><td> 29196</td></tr>\n",
       "\t<tr><td>HC269</td><td>test </td><td>51</td><td>0.6163943</td><td>0.6926424</td><td>0.7262443</td><td>0.03360190</td><td>4401</td><td> 8999</td><td> 58426</td></tr>\n",
       "\t<tr><td>HC269</td><td>train</td><td>52</td><td>0.7329157</td><td>0.6897751</td><td>0.7820876</td><td>0.09231251</td><td>5250</td><td>31710</td><td>204281</td></tr>\n",
       "\t<tr><td>HC269</td><td>val  </td><td>52</td><td>0.6133462</td><td>0.6814867</td><td>0.7146238</td><td>0.03313711</td><td>5250</td><td> 4517</td><td> 29196</td></tr>\n",
       "\t<tr><td>HC269</td><td>test </td><td>52</td><td>0.6164060</td><td>0.6926424</td><td>0.7264053</td><td>0.03376293</td><td>5250</td><td> 8999</td><td> 58426</td></tr>\n",
       "\t<tr><td>HC269</td><td>train</td><td>53</td><td>0.7462051</td><td>0.6897751</td><td>0.7911850</td><td>0.10140992</td><td>6152</td><td>31710</td><td>204281</td></tr>\n",
       "\t<tr><td>HC269</td><td>val  </td><td>53</td><td>0.6134744</td><td>0.6814867</td><td>0.7148496</td><td>0.03336291</td><td>6152</td><td> 4517</td><td> 29196</td></tr>\n",
       "\t<tr><td>HC269</td><td>test </td><td>53</td><td>0.6160186</td><td>0.6926424</td><td>0.7262825</td><td>0.03364018</td><td>6152</td><td> 8999</td><td> 58426</td></tr>\n",
       "\t<tr><td>HC269</td><td>train</td><td>54</td><td>0.7592353</td><td>0.6897751</td><td>0.8005698</td><td>0.11079468</td><td>7143</td><td>31710</td><td>204281</td></tr>\n",
       "\t<tr><td>HC269</td><td>val  </td><td>54</td><td>0.6134598</td><td>0.6814867</td><td>0.7149091</td><td>0.03342237</td><td>7143</td><td> 4517</td><td> 29196</td></tr>\n",
       "\t<tr><td>HC269</td><td>test </td><td>54</td><td>0.6153885</td><td>0.6926424</td><td>0.7258690</td><td>0.03322666</td><td>7143</td><td> 8999</td><td> 58426</td></tr>\n",
       "\t<tr><td>HC269</td><td>train</td><td>55</td><td>0.7721382</td><td>0.6897751</td><td>0.8103032</td><td>0.12052807</td><td>8272</td><td>31710</td><td>204281</td></tr>\n",
       "\t<tr><td>HC269</td><td>val  </td><td>55</td><td>0.6132187</td><td>0.6814867</td><td>0.7146765</td><td>0.03318983</td><td>8272</td><td> 4517</td><td> 29196</td></tr>\n",
       "\t<tr><td>HC269</td><td>test </td><td>55</td><td>0.6145205</td><td>0.6926424</td><td>0.7251884</td><td>0.03254607</td><td>8272</td><td> 8999</td><td> 58426</td></tr>\n",
       "\t<tr><td>HC269</td><td>train</td><td>56</td><td>0.7846369</td><td>0.6897751</td><td>0.8201589</td><td>0.13038383</td><td>9374</td><td>31710</td><td>204281</td></tr>\n",
       "\t<tr><td>HC269</td><td>val  </td><td>56</td><td>0.6127807</td><td>0.6814867</td><td>0.7141464</td><td>0.03265972</td><td>9374</td><td> 4517</td><td> 29196</td></tr>\n",
       "\t<tr><td>HC269</td><td>test </td><td>56</td><td>0.6136608</td><td>0.6926424</td><td>0.7243124</td><td>0.03167009</td><td>9374</td><td> 8999</td><td> 58426</td></tr>\n",
       "</tbody>\n",
       "</table>\n"
      ],
      "text/latex": [
       "A data.frame: 21 × 10\n",
       "\\begin{tabular}{llllllllll}\n",
       " phenotype\\_name & split & lambda\\_idx & geno & covar & geno\\_covar & geno\\_delta & n\\_variables & case\\_n & control\\_n\\\\\n",
       " <chr> & <chr> & <int> & <dbl> & <dbl> & <dbl> & <dbl> & <int> & <int> & <int>\\\\\n",
       "\\hline\n",
       "\t HC269 & train & 50 & 0.7064346 & 0.6897751 & 0.7652736 & 0.07549851 & 3653 & 31710 & 204281\\\\\n",
       "\t HC269 & val   & 50 & 0.6125953 & 0.6814867 & 0.7137185 & 0.03223179 & 3653 &  4517 &  29196\\\\\n",
       "\t HC269 & test  & 50 & 0.6162160 & 0.6926424 & 0.7258807 & 0.03323835 & 3653 &  8999 &  58426\\\\\n",
       "\t HC269 & train & 51 & 0.7195777 & 0.6897751 & 0.7734151 & 0.08363995 & 4401 & 31710 & 204281\\\\\n",
       "\t HC269 & val   & 51 & 0.6131447 & 0.6814867 & 0.7143009 & 0.03281424 & 4401 &  4517 &  29196\\\\\n",
       "\t HC269 & test  & 51 & 0.6163943 & 0.6926424 & 0.7262443 & 0.03360190 & 4401 &  8999 &  58426\\\\\n",
       "\t HC269 & train & 52 & 0.7329157 & 0.6897751 & 0.7820876 & 0.09231251 & 5250 & 31710 & 204281\\\\\n",
       "\t HC269 & val   & 52 & 0.6133462 & 0.6814867 & 0.7146238 & 0.03313711 & 5250 &  4517 &  29196\\\\\n",
       "\t HC269 & test  & 52 & 0.6164060 & 0.6926424 & 0.7264053 & 0.03376293 & 5250 &  8999 &  58426\\\\\n",
       "\t HC269 & train & 53 & 0.7462051 & 0.6897751 & 0.7911850 & 0.10140992 & 6152 & 31710 & 204281\\\\\n",
       "\t HC269 & val   & 53 & 0.6134744 & 0.6814867 & 0.7148496 & 0.03336291 & 6152 &  4517 &  29196\\\\\n",
       "\t HC269 & test  & 53 & 0.6160186 & 0.6926424 & 0.7262825 & 0.03364018 & 6152 &  8999 &  58426\\\\\n",
       "\t HC269 & train & 54 & 0.7592353 & 0.6897751 & 0.8005698 & 0.11079468 & 7143 & 31710 & 204281\\\\\n",
       "\t HC269 & val   & 54 & 0.6134598 & 0.6814867 & 0.7149091 & 0.03342237 & 7143 &  4517 &  29196\\\\\n",
       "\t HC269 & test  & 54 & 0.6153885 & 0.6926424 & 0.7258690 & 0.03322666 & 7143 &  8999 &  58426\\\\\n",
       "\t HC269 & train & 55 & 0.7721382 & 0.6897751 & 0.8103032 & 0.12052807 & 8272 & 31710 & 204281\\\\\n",
       "\t HC269 & val   & 55 & 0.6132187 & 0.6814867 & 0.7146765 & 0.03318983 & 8272 &  4517 &  29196\\\\\n",
       "\t HC269 & test  & 55 & 0.6145205 & 0.6926424 & 0.7251884 & 0.03254607 & 8272 &  8999 &  58426\\\\\n",
       "\t HC269 & train & 56 & 0.7846369 & 0.6897751 & 0.8201589 & 0.13038383 & 9374 & 31710 & 204281\\\\\n",
       "\t HC269 & val   & 56 & 0.6127807 & 0.6814867 & 0.7141464 & 0.03265972 & 9374 &  4517 &  29196\\\\\n",
       "\t HC269 & test  & 56 & 0.6136608 & 0.6926424 & 0.7243124 & 0.03167009 & 9374 &  8999 &  58426\\\\\n",
       "\\end{tabular}\n"
      ],
      "text/markdown": [
       "\n",
       "A data.frame: 21 × 10\n",
       "\n",
       "| phenotype_name &lt;chr&gt; | split &lt;chr&gt; | lambda_idx &lt;int&gt; | geno &lt;dbl&gt; | covar &lt;dbl&gt; | geno_covar &lt;dbl&gt; | geno_delta &lt;dbl&gt; | n_variables &lt;int&gt; | case_n &lt;int&gt; | control_n &lt;int&gt; |\n",
       "|---|---|---|---|---|---|---|---|---|---|\n",
       "| HC269 | train | 50 | 0.7064346 | 0.6897751 | 0.7652736 | 0.07549851 | 3653 | 31710 | 204281 |\n",
       "| HC269 | val   | 50 | 0.6125953 | 0.6814867 | 0.7137185 | 0.03223179 | 3653 |  4517 |  29196 |\n",
       "| HC269 | test  | 50 | 0.6162160 | 0.6926424 | 0.7258807 | 0.03323835 | 3653 |  8999 |  58426 |\n",
       "| HC269 | train | 51 | 0.7195777 | 0.6897751 | 0.7734151 | 0.08363995 | 4401 | 31710 | 204281 |\n",
       "| HC269 | val   | 51 | 0.6131447 | 0.6814867 | 0.7143009 | 0.03281424 | 4401 |  4517 |  29196 |\n",
       "| HC269 | test  | 51 | 0.6163943 | 0.6926424 | 0.7262443 | 0.03360190 | 4401 |  8999 |  58426 |\n",
       "| HC269 | train | 52 | 0.7329157 | 0.6897751 | 0.7820876 | 0.09231251 | 5250 | 31710 | 204281 |\n",
       "| HC269 | val   | 52 | 0.6133462 | 0.6814867 | 0.7146238 | 0.03313711 | 5250 |  4517 |  29196 |\n",
       "| HC269 | test  | 52 | 0.6164060 | 0.6926424 | 0.7264053 | 0.03376293 | 5250 |  8999 |  58426 |\n",
       "| HC269 | train | 53 | 0.7462051 | 0.6897751 | 0.7911850 | 0.10140992 | 6152 | 31710 | 204281 |\n",
       "| HC269 | val   | 53 | 0.6134744 | 0.6814867 | 0.7148496 | 0.03336291 | 6152 |  4517 |  29196 |\n",
       "| HC269 | test  | 53 | 0.6160186 | 0.6926424 | 0.7262825 | 0.03364018 | 6152 |  8999 |  58426 |\n",
       "| HC269 | train | 54 | 0.7592353 | 0.6897751 | 0.8005698 | 0.11079468 | 7143 | 31710 | 204281 |\n",
       "| HC269 | val   | 54 | 0.6134598 | 0.6814867 | 0.7149091 | 0.03342237 | 7143 |  4517 |  29196 |\n",
       "| HC269 | test  | 54 | 0.6153885 | 0.6926424 | 0.7258690 | 0.03322666 | 7143 |  8999 |  58426 |\n",
       "| HC269 | train | 55 | 0.7721382 | 0.6897751 | 0.8103032 | 0.12052807 | 8272 | 31710 | 204281 |\n",
       "| HC269 | val   | 55 | 0.6132187 | 0.6814867 | 0.7146765 | 0.03318983 | 8272 |  4517 |  29196 |\n",
       "| HC269 | test  | 55 | 0.6145205 | 0.6926424 | 0.7251884 | 0.03254607 | 8272 |  8999 |  58426 |\n",
       "| HC269 | train | 56 | 0.7846369 | 0.6897751 | 0.8201589 | 0.13038383 | 9374 | 31710 | 204281 |\n",
       "| HC269 | val   | 56 | 0.6127807 | 0.6814867 | 0.7141464 | 0.03265972 | 9374 |  4517 |  29196 |\n",
       "| HC269 | test  | 56 | 0.6136608 | 0.6926424 | 0.7243124 | 0.03167009 | 9374 |  8999 |  58426 |\n",
       "\n"
      ],
      "text/plain": [
       "   phenotype_name split lambda_idx geno      covar     geno_covar geno_delta\n",
       "1  HC269          train 50         0.7064346 0.6897751 0.7652736  0.07549851\n",
       "2  HC269          val   50         0.6125953 0.6814867 0.7137185  0.03223179\n",
       "3  HC269          test  50         0.6162160 0.6926424 0.7258807  0.03323835\n",
       "4  HC269          train 51         0.7195777 0.6897751 0.7734151  0.08363995\n",
       "5  HC269          val   51         0.6131447 0.6814867 0.7143009  0.03281424\n",
       "6  HC269          test  51         0.6163943 0.6926424 0.7262443  0.03360190\n",
       "7  HC269          train 52         0.7329157 0.6897751 0.7820876  0.09231251\n",
       "8  HC269          val   52         0.6133462 0.6814867 0.7146238  0.03313711\n",
       "9  HC269          test  52         0.6164060 0.6926424 0.7264053  0.03376293\n",
       "10 HC269          train 53         0.7462051 0.6897751 0.7911850  0.10140992\n",
       "11 HC269          val   53         0.6134744 0.6814867 0.7148496  0.03336291\n",
       "12 HC269          test  53         0.6160186 0.6926424 0.7262825  0.03364018\n",
       "13 HC269          train 54         0.7592353 0.6897751 0.8005698  0.11079468\n",
       "14 HC269          val   54         0.6134598 0.6814867 0.7149091  0.03342237\n",
       "15 HC269          test  54         0.6153885 0.6926424 0.7258690  0.03322666\n",
       "16 HC269          train 55         0.7721382 0.6897751 0.8103032  0.12052807\n",
       "17 HC269          val   55         0.6132187 0.6814867 0.7146765  0.03318983\n",
       "18 HC269          test  55         0.6145205 0.6926424 0.7251884  0.03254607\n",
       "19 HC269          train 56         0.7846369 0.6897751 0.8201589  0.13038383\n",
       "20 HC269          val   56         0.6127807 0.6814867 0.7141464  0.03265972\n",
       "21 HC269          test  56         0.6136608 0.6926424 0.7243124  0.03167009\n",
       "   n_variables case_n control_n\n",
       "1  3653        31710  204281   \n",
       "2  3653         4517   29196   \n",
       "3  3653         8999   58426   \n",
       "4  4401        31710  204281   \n",
       "5  4401         4517   29196   \n",
       "6  4401         8999   58426   \n",
       "7  5250        31710  204281   \n",
       "8  5250         4517   29196   \n",
       "9  5250         8999   58426   \n",
       "10 6152        31710  204281   \n",
       "11 6152         4517   29196   \n",
       "12 6152         8999   58426   \n",
       "13 7143        31710  204281   \n",
       "14 7143         4517   29196   \n",
       "15 7143         8999   58426   \n",
       "16 8272        31710  204281   \n",
       "17 8272         4517   29196   \n",
       "18 8272         8999   58426   \n",
       "19 9374        31710  204281   \n",
       "20 9374         4517   29196   \n",
       "21 9374         8999   58426   "
      ]
     },
     "metadata": {},
     "output_type": "display_data"
    }
   ],
   "source": [
    "eval_intermediate_df %>%\n",
    "filter(split %in% c('train', 'test', 'val')) %>%\n",
    "left_join(data.frame(split=c('train', 'val', 'test'), order=1:3, stringsAsFactors=F), by='split') %>%\n",
    "arrange(lambda_idx, order) %>% select(-order)"
   ]
  },
  {
   "cell_type": "code",
   "execution_count": 28,
   "metadata": {},
   "outputs": [
    {
     "data": {
      "text/plain": [
       "\n",
       "\tDeLong's test for two correlated ROC curves\n",
       "\n",
       "data:  roc(sdf$phe, sdf[[sprintf(\"geno_%d\", lambda_idx - 1)]], levels = c(control = 1,  and roc(sdf$phe, sdf[[sprintf(\"geno_%d\", lambda_idx)]], levels = c(control = 1,     case = 2), direction = \"<\") and     case = 2), direction = \"<\")\n",
       "Z = -1.5517, p-value = 0.1207\n",
       "alternative hypothesis: true difference in AUC is not equal to 0\n",
       "sample estimates:\n",
       "AUC of roc1 AUC of roc2 \n",
       "  0.6125953   0.6131447 \n"
      ]
     },
     "metadata": {},
     "output_type": "display_data"
    }
   ],
   "source": [
    "roc_tests[['geno_51_vs_geno_50']]\n"
   ]
  },
  {
   "cell_type": "code",
   "execution_count": null,
   "metadata": {},
   "outputs": [],
   "source": []
  }
 ],
 "metadata": {
  "kernelspec": {
   "display_name": "R",
   "language": "R",
   "name": "ir"
  },
  "language_info": {
   "codemirror_mode": "r",
   "file_extension": ".r",
   "mimetype": "text/x-r-source",
   "name": "R",
   "pygments_lexer": "r",
   "version": "3.6.2"
  }
 },
 "nbformat": 4,
 "nbformat_minor": 4
}

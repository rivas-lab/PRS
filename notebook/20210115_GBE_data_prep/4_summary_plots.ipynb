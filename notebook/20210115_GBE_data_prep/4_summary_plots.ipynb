{
 "cells": [
  {
   "cell_type": "code",
   "execution_count": 6,
   "metadata": {},
   "outputs": [],
   "source": [
    "suppressWarnings(suppressPackageStartupMessages({\n",
    "    library(tidyverse)\n",
    "    library(data.table)\n",
    "}))\n"
   ]
  },
  {
   "cell_type": "code",
   "execution_count": 7,
   "metadata": {},
   "outputs": [],
   "source": [
    "source('0_parameters.sh')\n"
   ]
  },
  {
   "cell_type": "code",
   "execution_count": 3,
   "metadata": {},
   "outputs": [
    {
     "name": "stderr",
     "output_type": "stream",
     "text": [
      "Loading cud4\n",
      "\n"
     ]
    }
   ],
   "source": [
    "devtools::load_all('/oak/stanford/groups/mrivas/users/ytanigaw/repos/yk-tanigawa/cud4')\n"
   ]
  },
  {
   "cell_type": "code",
   "execution_count": 4,
   "metadata": {},
   "outputs": [],
   "source": [
    "file.path(data_d, 'trait_info.tsv') %>%\n",
    "fread() %>% rename('GBE_category'='#GBE_category') -> trait_info_df\n"
   ]
  },
  {
   "cell_type": "code",
   "execution_count": 5,
   "metadata": {},
   "outputs": [
    {
     "data": {
      "text/html": [
       "<style>\n",
       ".list-inline {list-style: none; margin:0; padding: 0}\n",
       ".list-inline>li {display: inline-block}\n",
       ".list-inline>li:not(:last-child)::after {content: \"\\00b7\"; padding: 0 .5ex}\n",
       "</style>\n",
       "<ol class=list-inline><li>'GBE_category'</li><li>'GBE_ID'</li><li>'N'</li><li>'N_GBE'</li><li>'N_NBW'</li><li>'N_AFR'</li><li>'N_SAS'</li><li>'N_EAS'</li><li>'N_SMR'</li><li>'N_OTH'</li><li>'N_META'</li><li>'GBE_NAME'</li><li>'GBE_short_name'</li><li>'GBE_short_name_len'</li></ol>\n"
      ],
      "text/latex": [
       "\\begin{enumerate*}\n",
       "\\item 'GBE\\_category'\n",
       "\\item 'GBE\\_ID'\n",
       "\\item 'N'\n",
       "\\item 'N\\_GBE'\n",
       "\\item 'N\\_NBW'\n",
       "\\item 'N\\_AFR'\n",
       "\\item 'N\\_SAS'\n",
       "\\item 'N\\_EAS'\n",
       "\\item 'N\\_SMR'\n",
       "\\item 'N\\_OTH'\n",
       "\\item 'N\\_META'\n",
       "\\item 'GBE\\_NAME'\n",
       "\\item 'GBE\\_short\\_name'\n",
       "\\item 'GBE\\_short\\_name\\_len'\n",
       "\\end{enumerate*}\n"
      ],
      "text/markdown": [
       "1. 'GBE_category'\n",
       "2. 'GBE_ID'\n",
       "3. 'N'\n",
       "4. 'N_GBE'\n",
       "5. 'N_NBW'\n",
       "6. 'N_AFR'\n",
       "7. 'N_SAS'\n",
       "8. 'N_EAS'\n",
       "9. 'N_SMR'\n",
       "10. 'N_OTH'\n",
       "11. 'N_META'\n",
       "12. 'GBE_NAME'\n",
       "13. 'GBE_short_name'\n",
       "14. 'GBE_short_name_len'\n",
       "\n",
       "\n"
      ],
      "text/plain": [
       " [1] \"GBE_category\"       \"GBE_ID\"             \"N\"                 \n",
       " [4] \"N_GBE\"              \"N_NBW\"              \"N_AFR\"             \n",
       " [7] \"N_SAS\"              \"N_EAS\"              \"N_SMR\"             \n",
       "[10] \"N_OTH\"              \"N_META\"             \"GBE_NAME\"          \n",
       "[13] \"GBE_short_name\"     \"GBE_short_name_len\""
      ]
     },
     "metadata": {},
     "output_type": "display_data"
    }
   ],
   "source": [
    "trait_info_df %>% colnames()"
   ]
  },
  {
   "cell_type": "code",
   "execution_count": 10,
   "metadata": {},
   "outputs": [],
   "source": [
    "mrp_blacklist_f %>% fread(head=F) %>% pull() -> mrp_blacklist\n"
   ]
  },
  {
   "cell_type": "code",
   "execution_count": 24,
   "metadata": {},
   "outputs": [],
   "source": [
    "file.path(data_d, 'snpnet.eval.2_refit.tsv') %>%\n",
    "fread(colClasses = c('#GBE_ID'='character')) %>%\n",
    "rename('GBE_ID'='#GBE_ID') %>%\n",
    "filter(GBE_ID %in% trait_info_df$GBE_ID) %>%\n",
    "left_join(trait_info_df %>% select(GBE_ID, GBE_category, GBE_short_name), by='GBE_ID') %>%\n",
    "filter(!GBE_ID %in% mrp_blacklist) -> eval_df\n"
   ]
  },
  {
   "cell_type": "code",
   "execution_count": 25,
   "metadata": {},
   "outputs": [
    {
     "data": {
      "text/html": [
       "<style>\n",
       ".list-inline {list-style: none; margin:0; padding: 0}\n",
       ".list-inline>li {display: inline-block}\n",
       ".list-inline>li:not(:last-child)::after {content: \"\\00b7\"; padding: 0 .5ex}\n",
       "</style>\n",
       "<ol class=list-inline><li>1626</li><li>13</li></ol>\n"
      ],
      "text/latex": [
       "\\begin{enumerate*}\n",
       "\\item 1626\n",
       "\\item 13\n",
       "\\end{enumerate*}\n"
      ],
      "text/markdown": [
       "1. 1626\n",
       "2. 13\n",
       "\n",
       "\n"
      ],
      "text/plain": [
       "[1] 1626   13"
      ]
     },
     "metadata": {},
     "output_type": "display_data"
    }
   ],
   "source": [
    "eval_df %>% filter(split == 'test') %>% dim()"
   ]
  },
  {
   "cell_type": "code",
   "execution_count": 26,
   "metadata": {},
   "outputs": [
    {
     "data": {
      "text/html": [
       "<table class=\"dataframe\">\n",
       "<caption>A data.table: 1 × 13</caption>\n",
       "<thead>\n",
       "\t<tr><th scope=col>GBE_ID</th><th scope=col>split</th><th scope=col>geno</th><th scope=col>covar</th><th scope=col>geno_covar</th><th scope=col>geno_delta</th><th scope=col>n_variables</th><th scope=col>family</th><th scope=col>n</th><th scope=col>case_n</th><th scope=col>control_n</th><th scope=col>GBE_category</th><th scope=col>GBE_short_name</th></tr>\n",
       "\t<tr><th scope=col>&lt;chr&gt;</th><th scope=col>&lt;chr&gt;</th><th scope=col>&lt;dbl&gt;</th><th scope=col>&lt;dbl&gt;</th><th scope=col>&lt;dbl&gt;</th><th scope=col>&lt;dbl&gt;</th><th scope=col>&lt;int&gt;</th><th scope=col>&lt;chr&gt;</th><th scope=col>&lt;int&gt;</th><th scope=col>&lt;int&gt;</th><th scope=col>&lt;int&gt;</th><th scope=col>&lt;chr&gt;</th><th scope=col>&lt;chr&gt;</th></tr>\n",
       "</thead>\n",
       "<tbody>\n",
       "\t<tr><td>QT_FC10003476</td><td>test</td><td>0.005611895</td><td>0.002398618</td><td>0.004517332</td><td>0.002118714</td><td>1</td><td>gaussian</td><td>4595</td><td>NA</td><td>NA</td><td>Lifestyle_and_environment</td><td>Difficulty not smoking for 1 day</td></tr>\n",
       "</tbody>\n",
       "</table>\n"
      ],
      "text/latex": [
       "A data.table: 1 × 13\n",
       "\\begin{tabular}{lllllllllllll}\n",
       " GBE\\_ID & split & geno & covar & geno\\_covar & geno\\_delta & n\\_variables & family & n & case\\_n & control\\_n & GBE\\_category & GBE\\_short\\_name\\\\\n",
       " <chr> & <chr> & <dbl> & <dbl> & <dbl> & <dbl> & <int> & <chr> & <int> & <int> & <int> & <chr> & <chr>\\\\\n",
       "\\hline\n",
       "\t QT\\_FC10003476 & test & 0.005611895 & 0.002398618 & 0.004517332 & 0.002118714 & 1 & gaussian & 4595 & NA & NA & Lifestyle\\_and\\_environment & Difficulty not smoking for 1 day\\\\\n",
       "\\end{tabular}\n"
      ],
      "text/markdown": [
       "\n",
       "A data.table: 1 × 13\n",
       "\n",
       "| GBE_ID &lt;chr&gt; | split &lt;chr&gt; | geno &lt;dbl&gt; | covar &lt;dbl&gt; | geno_covar &lt;dbl&gt; | geno_delta &lt;dbl&gt; | n_variables &lt;int&gt; | family &lt;chr&gt; | n &lt;int&gt; | case_n &lt;int&gt; | control_n &lt;int&gt; | GBE_category &lt;chr&gt; | GBE_short_name &lt;chr&gt; |\n",
       "|---|---|---|---|---|---|---|---|---|---|---|---|---|\n",
       "| QT_FC10003476 | test | 0.005611895 | 0.002398618 | 0.004517332 | 0.002118714 | 1 | gaussian | 4595 | NA | NA | Lifestyle_and_environment | Difficulty not smoking for 1 day |\n",
       "\n"
      ],
      "text/plain": [
       "  GBE_ID        split geno        covar       geno_covar  geno_delta \n",
       "1 QT_FC10003476 test  0.005611895 0.002398618 0.004517332 0.002118714\n",
       "  n_variables family   n    case_n control_n GBE_category             \n",
       "1 1           gaussian 4595 NA     NA        Lifestyle_and_environment\n",
       "  GBE_short_name                  \n",
       "1 Difficulty not smoking for 1 day"
      ]
     },
     "metadata": {},
     "output_type": "display_data"
    }
   ],
   "source": [
    "eval_df %>% filter(split == 'test') %>% \n",
    "filter(GBE_ID %in% c(\n",
    "    'BIN_FC20020488', \n",
    "    'QT_FC10021057', 'QT_FC21057', \n",
    "    'QT_FC10003476', 'QT_FC1003476',\n",
    "    'BIN3571', 'BIN_FC10003571'\n",
    "))"
   ]
  },
  {
   "cell_type": "code",
   "execution_count": 27,
   "metadata": {},
   "outputs": [
    {
     "data": {
      "text/html": [
       "<table class=\"dataframe\">\n",
       "<caption>A data.table: 2 × 2</caption>\n",
       "<thead>\n",
       "\t<tr><th></th><th scope=col>family</th><th scope=col>n</th></tr>\n",
       "\t<tr><th></th><th scope=col>&lt;chr&gt;</th><th scope=col>&lt;int&gt;</th></tr>\n",
       "</thead>\n",
       "<tbody>\n",
       "\t<tr><th scope=row>1</th><td>binomial</td><td>717</td></tr>\n",
       "\t<tr><th scope=row>2</th><td>gaussian</td><td>909</td></tr>\n",
       "</tbody>\n",
       "</table>\n"
      ],
      "text/latex": [
       "A data.table: 2 × 2\n",
       "\\begin{tabular}{r|ll}\n",
       "  & family & n\\\\\n",
       "  & <chr> & <int>\\\\\n",
       "\\hline\n",
       "\t1 & binomial & 717\\\\\n",
       "\t2 & gaussian & 909\\\\\n",
       "\\end{tabular}\n"
      ],
      "text/markdown": [
       "\n",
       "A data.table: 2 × 2\n",
       "\n",
       "| <!--/--> | family &lt;chr&gt; | n &lt;int&gt; |\n",
       "|---|---|---|\n",
       "| 1 | binomial | 717 |\n",
       "| 2 | gaussian | 909 |\n",
       "\n"
      ],
      "text/plain": [
       "  family   n  \n",
       "1 binomial 717\n",
       "2 gaussian 909"
      ]
     },
     "metadata": {},
     "output_type": "display_data"
    }
   ],
   "source": [
    "eval_df %>% filter(split == 'test') %>% count(family)"
   ]
  },
  {
   "cell_type": "code",
   "execution_count": 28,
   "metadata": {},
   "outputs": [
    {
     "data": {
      "text/html": [
       "<table class=\"dataframe\">\n",
       "<caption>A data.table: 19 × 2</caption>\n",
       "<thead>\n",
       "\t<tr><th scope=col>GBE_category</th><th scope=col>n</th></tr>\n",
       "\t<tr><th scope=col>&lt;chr&gt;</th><th scope=col>&lt;int&gt;</th></tr>\n",
       "</thead>\n",
       "<tbody>\n",
       "\t<tr><td>Disease_outcome           </td><td>457</td></tr>\n",
       "\t<tr><td>Health_and_medical_history</td><td> 71</td></tr>\n",
       "\t<tr><td>Lifestyle_and_environment </td><td> 49</td></tr>\n",
       "\t<tr><td>Mental_health             </td><td> 41</td></tr>\n",
       "\t<tr><td>cancer                    </td><td> 19</td></tr>\n",
       "\t<tr><td>Blood_assays              </td><td> 14</td></tr>\n",
       "\t<tr><td>Psychosocial_factors      </td><td> 12</td></tr>\n",
       "\t<tr><td>Family_history            </td><td> 11</td></tr>\n",
       "\t<tr><td>Work_environment          </td><td>  8</td></tr>\n",
       "\t<tr><td>Digestive_health          </td><td>  7</td></tr>\n",
       "\t<tr><td>Diet_by_24-hour_recall    </td><td>  6</td></tr>\n",
       "\t<tr><td>Eye_measures              </td><td>  6</td></tr>\n",
       "\t<tr><td>Cognitive_function        </td><td>  5</td></tr>\n",
       "\t<tr><td>Others                    </td><td>  4</td></tr>\n",
       "\t<tr><td>Brain_MRI                 </td><td>  3</td></tr>\n",
       "\t<tr><td>Bone-densitometry_of_heel </td><td>  1</td></tr>\n",
       "\t<tr><td>Early_life_factors        </td><td>  1</td></tr>\n",
       "\t<tr><td>ECG_at_rest,_12-lead      </td><td>  1</td></tr>\n",
       "\t<tr><td>Hospital_inpatient        </td><td>  1</td></tr>\n",
       "</tbody>\n",
       "</table>\n"
      ],
      "text/latex": [
       "A data.table: 19 × 2\n",
       "\\begin{tabular}{ll}\n",
       " GBE\\_category & n\\\\\n",
       " <chr> & <int>\\\\\n",
       "\\hline\n",
       "\t Disease\\_outcome            & 457\\\\\n",
       "\t Health\\_and\\_medical\\_history &  71\\\\\n",
       "\t Lifestyle\\_and\\_environment  &  49\\\\\n",
       "\t Mental\\_health              &  41\\\\\n",
       "\t cancer                     &  19\\\\\n",
       "\t Blood\\_assays               &  14\\\\\n",
       "\t Psychosocial\\_factors       &  12\\\\\n",
       "\t Family\\_history             &  11\\\\\n",
       "\t Work\\_environment           &   8\\\\\n",
       "\t Digestive\\_health           &   7\\\\\n",
       "\t Diet\\_by\\_24-hour\\_recall     &   6\\\\\n",
       "\t Eye\\_measures               &   6\\\\\n",
       "\t Cognitive\\_function         &   5\\\\\n",
       "\t Others                     &   4\\\\\n",
       "\t Brain\\_MRI                  &   3\\\\\n",
       "\t Bone-densitometry\\_of\\_heel  &   1\\\\\n",
       "\t Early\\_life\\_factors         &   1\\\\\n",
       "\t ECG\\_at\\_rest,\\_12-lead       &   1\\\\\n",
       "\t Hospital\\_inpatient         &   1\\\\\n",
       "\\end{tabular}\n"
      ],
      "text/markdown": [
       "\n",
       "A data.table: 19 × 2\n",
       "\n",
       "| GBE_category &lt;chr&gt; | n &lt;int&gt; |\n",
       "|---|---|\n",
       "| Disease_outcome            | 457 |\n",
       "| Health_and_medical_history |  71 |\n",
       "| Lifestyle_and_environment  |  49 |\n",
       "| Mental_health              |  41 |\n",
       "| cancer                     |  19 |\n",
       "| Blood_assays               |  14 |\n",
       "| Psychosocial_factors       |  12 |\n",
       "| Family_history             |  11 |\n",
       "| Work_environment           |   8 |\n",
       "| Digestive_health           |   7 |\n",
       "| Diet_by_24-hour_recall     |   6 |\n",
       "| Eye_measures               |   6 |\n",
       "| Cognitive_function         |   5 |\n",
       "| Others                     |   4 |\n",
       "| Brain_MRI                  |   3 |\n",
       "| Bone-densitometry_of_heel  |   1 |\n",
       "| Early_life_factors         |   1 |\n",
       "| ECG_at_rest,_12-lead       |   1 |\n",
       "| Hospital_inpatient         |   1 |\n",
       "\n"
      ],
      "text/plain": [
       "   GBE_category               n  \n",
       "1  Disease_outcome            457\n",
       "2  Health_and_medical_history  71\n",
       "3  Lifestyle_and_environment   49\n",
       "4  Mental_health               41\n",
       "5  cancer                      19\n",
       "6  Blood_assays                14\n",
       "7  Psychosocial_factors        12\n",
       "8  Family_history              11\n",
       "9  Work_environment             8\n",
       "10 Digestive_health             7\n",
       "11 Diet_by_24-hour_recall       6\n",
       "12 Eye_measures                 6\n",
       "13 Cognitive_function           5\n",
       "14 Others                       4\n",
       "15 Brain_MRI                    3\n",
       "16 Bone-densitometry_of_heel    1\n",
       "17 Early_life_factors           1\n",
       "18 ECG_at_rest,_12-lead         1\n",
       "19 Hospital_inpatient           1"
      ]
     },
     "metadata": {},
     "output_type": "display_data"
    }
   ],
   "source": [
    "eval_df %>% \n",
    "filter(split == 'test', family == 'binomial') %>% count(GBE_category) %>% arrange(-n)"
   ]
  },
  {
   "cell_type": "markdown",
   "metadata": {},
   "source": [
    "## Predictive performance vs. model size plot\n",
    "\n",
    "- x-axis: log10(number of variants in the PRS model), \n",
    "- y-axis: the delta in predictive performance (do color coding by gaussian, binomial, etc family)\n"
   ]
  },
  {
   "cell_type": "code",
   "execution_count": 158,
   "metadata": {},
   "outputs": [],
   "source": [
    "eval_df %>%\n",
    "filter(split == 'test', family == 'binomial') %>%\n",
    "ggplot(aes(x  = n_variables, y = geno_delta)) +\n",
    "geom_hline(yintercept = 0.05, color='red') +\n",
    "geom_point() + scale_x_continuous(trans='log10') +\n",
    "theme_bw(base_size = 16) + labs(\n",
    "    title = 'Binomial models', x = 'Number of genetic variants', y = 'Incremental AUC'\n",
    ") -> p_geno_delta_vs_size_binomial\n"
   ]
  },
  {
   "cell_type": "code",
   "execution_count": 159,
   "metadata": {},
   "outputs": [],
   "source": [
    "eval_df %>%\n",
    "filter(split == 'test', family == 'gaussian') %>%\n",
    "ggplot(aes(x  = n_variables, y = geno_delta)) +\n",
    "geom_hline(yintercept = 0.05, color='red') +\n",
    "geom_point() + scale_x_continuous(trans='log10') +\n",
    "theme_bw(base_size = 16) + labs(\n",
    "    title = 'Gaussian models', x = 'Number of genetic variants', y = latex2exp::TeX('Incremental r^2') \n",
    ") -> p_geno_delta_vs_size_gaussian\n"
   ]
  },
  {
   "cell_type": "code",
   "execution_count": 160,
   "metadata": {},
   "outputs": [],
   "source": [
    "for(ext in c('png', 'pdf')){ggsave(\n",
    "    sprintf('%s.%s', 'test_set_performance_vs_size', ext),\n",
    "    gridExtra::arrangeGrob(p_geno_delta_vs_size_binomial, p_geno_delta_vs_size_gaussian, ncol=2),\n",
    "    width=16, height=8\n",
    ")}\n"
   ]
  },
  {
   "cell_type": "markdown",
   "metadata": {},
   "source": [
    "## Trans-ethnic transferability\n",
    "\n",
    "Violin plot for fraction performance in each population split relative to test split performance in WB\n",
    "(so you’d have non-british white, s-asian, e-asian, african)"
   ]
  },
  {
   "cell_type": "code",
   "execution_count": 172,
   "metadata": {},
   "outputs": [],
   "source": [
    "eval_to_transethnic_eval_df <- function(eval_df, metric_col){\n",
    "    eval_df %>% filter(split != 'train_val') %>%\n",
    "    rename(!!'metric_col__' := all_of(metric_col)) %>%\n",
    "    select(GBE_ID, metric_col__, split) %>%\n",
    "    spread(split,  metric_col__) %>%\n",
    "    mutate(\n",
    "        non_british_white = non_british_white / test,\n",
    "        african           = african / test,\n",
    "        s_asian           = s_asian / test,\n",
    "        e_asian           = e_asian / test\n",
    "    ) %>% select(-test) %>%\n",
    "    gather(split, eval_relative, -GBE_ID) %>% drop_na() %>%\n",
    "    left_join(data.frame(\n",
    "        split = c('non_british_white', 's_asian', 'e_asian', 'african'),\n",
    "        split_plot = c('Non-British white', 'South Asian', 'East Asian', 'African'),\n",
    "        split_order=1:4, stringsAsFactors=F\n",
    "    ), by='split') %>% \n",
    "    left_join(\n",
    "        eval_df %>% select(GBE_ID, split, geno, covar, geno_covar, geno_delta, family),\n",
    "        by=c('GBE_ID', 'split')\n",
    "    ) %>%\n",
    "    rename(!!sprintf('%s_relative', metric_col) :=eval_relative)    \n",
    "}\n"
   ]
  },
  {
   "cell_type": "code",
   "execution_count": 173,
   "metadata": {},
   "outputs": [],
   "source": [
    "get_filtered_GBE_IDs <- function(eval_df, metric_col, metric_threshold){\n",
    "    eval_df %>% \n",
    "    rename(!!'metric_col__' := all_of(metric_col)) %>%\n",
    "    filter(split == 'test', metric_col__ > metric_threshold) %>%\n",
    "    pull(GBE_ID)\n",
    "}\n"
   ]
  },
  {
   "cell_type": "code",
   "execution_count": 187,
   "metadata": {},
   "outputs": [],
   "source": [
    "plot_violin <- function(transethnic_df, metric_col){\n",
    "    transethnic_df %>%\n",
    "    rename(!!'metric_col__' := sprintf('%s_relative', metric_col)) %>%\n",
    "    ggplot(aes(x=reorder(split_plot, split_order), y=metric_col__)) + \n",
    "    geom_hline(yintercept = 1, color='gray') +\n",
    "    geom_violin() + geom_jitter(height = 0, width = 0.3, alpha=.2) +\n",
    "    theme_bw(base_size = 16) + labs(x = 'Ancestry group in UK Biobank', y = metric_col)\n",
    "}"
   ]
  },
  {
   "cell_type": "code",
   "execution_count": 199,
   "metadata": {},
   "outputs": [],
   "source": [
    "plot_scatter <- function(eval_df, metric_col){\n",
    "    eval_df %>%\n",
    "    rename(!!'metric_col__' := all_of(metric_col)) %>%\n",
    "    select(GBE_ID, metric_col__, split) %>%\n",
    "    spread(split, metric_col__) %>% \n",
    "    gather(split, metric_col__, -GBE_ID, -test) %>% drop_na() %>%\n",
    "    left_join(data.frame(\n",
    "        split = c('non_british_white', 's_asian', 'e_asian', 'african'),\n",
    "        split_plot = c('Non-British white', 'South Asian', 'East Asian', 'African')\n",
    "    ), by='split') %>%\n",
    "    ggplot(aes(x = test, y = metric_col__, color=split_plot)) +\n",
    "    geom_point(alpha = .3) + theme_bw(base_size = 16) + labs(\n",
    "        x = 'Incremental predictive performance in WB',\n",
    "        y = metric_col,\n",
    "        color = 'Ancestry group in UK Biobank'\n",
    "    ) + theme(legend.position = c(.3, .85)) +\n",
    "    scale_color_manual(values=setNames(\n",
    "        c(cud4_colors()['gray'], cud4_colors()['green'], cud4_colors()['sky_blue'], cud4_colors()['red'] ),\n",
    "        c('Non-British white', 'South Asian', 'East Asian', 'African')\n",
    "    ))\n",
    "}\n"
   ]
  },
  {
   "cell_type": "code",
   "execution_count": 208,
   "metadata": {},
   "outputs": [],
   "source": [
    "plot_histogram <- function(eval_df, metric_col, metric_threshold){\n",
    "    eval_df %>%\n",
    "    rename(!!'metric_col__' := all_of(metric_col)) %>%    \n",
    "    ggplot(aes(x = metric_col__)) +\n",
    "    geom_vline(xintercept = metric_threshold, color='red') +\n",
    "    geom_histogram(bins=30) + theme_bw(base_size = 16) + labs(x = metric_col)\n",
    "}\n"
   ]
  },
  {
   "cell_type": "code",
   "execution_count": null,
   "metadata": {},
   "outputs": [],
   "source": []
  },
  {
   "cell_type": "code",
   "execution_count": 189,
   "metadata": {},
   "outputs": [
    {
     "data": {
      "text/html": [
       "<table class=\"dataframe\">\n",
       "<caption>A data.frame: 8 × 3</caption>\n",
       "<thead>\n",
       "\t<tr><th scope=col>family</th><th scope=col>split</th><th scope=col>n</th></tr>\n",
       "\t<tr><th scope=col>&lt;chr&gt;</th><th scope=col>&lt;chr&gt;</th><th scope=col>&lt;int&gt;</th></tr>\n",
       "</thead>\n",
       "<tbody>\n",
       "\t<tr><td>binomial</td><td>african          </td><td> 63</td></tr>\n",
       "\t<tr><td>binomial</td><td>e_asian          </td><td> 47</td></tr>\n",
       "\t<tr><td>binomial</td><td>non_british_white</td><td> 64</td></tr>\n",
       "\t<tr><td>binomial</td><td>s_asian          </td><td> 64</td></tr>\n",
       "\t<tr><td>gaussian</td><td>african          </td><td>149</td></tr>\n",
       "\t<tr><td>gaussian</td><td>e_asian          </td><td>149</td></tr>\n",
       "\t<tr><td>gaussian</td><td>non_british_white</td><td>149</td></tr>\n",
       "\t<tr><td>gaussian</td><td>s_asian          </td><td>149</td></tr>\n",
       "</tbody>\n",
       "</table>\n"
      ],
      "text/latex": [
       "A data.frame: 8 × 3\n",
       "\\begin{tabular}{lll}\n",
       " family & split & n\\\\\n",
       " <chr> & <chr> & <int>\\\\\n",
       "\\hline\n",
       "\t binomial & african           &  63\\\\\n",
       "\t binomial & e\\_asian           &  47\\\\\n",
       "\t binomial & non\\_british\\_white &  64\\\\\n",
       "\t binomial & s\\_asian           &  64\\\\\n",
       "\t gaussian & african           & 149\\\\\n",
       "\t gaussian & e\\_asian           & 149\\\\\n",
       "\t gaussian & non\\_british\\_white & 149\\\\\n",
       "\t gaussian & s\\_asian           & 149\\\\\n",
       "\\end{tabular}\n"
      ],
      "text/markdown": [
       "\n",
       "A data.frame: 8 × 3\n",
       "\n",
       "| family &lt;chr&gt; | split &lt;chr&gt; | n &lt;int&gt; |\n",
       "|---|---|---|\n",
       "| binomial | african           |  63 |\n",
       "| binomial | e_asian           |  47 |\n",
       "| binomial | non_british_white |  64 |\n",
       "| binomial | s_asian           |  64 |\n",
       "| gaussian | african           | 149 |\n",
       "| gaussian | e_asian           | 149 |\n",
       "| gaussian | non_british_white | 149 |\n",
       "| gaussian | s_asian           | 149 |\n",
       "\n"
      ],
      "text/plain": [
       "  family   split             n  \n",
       "1 binomial african            63\n",
       "2 binomial e_asian            47\n",
       "3 binomial non_british_white  64\n",
       "4 binomial s_asian            64\n",
       "5 gaussian african           149\n",
       "6 gaussian e_asian           149\n",
       "7 gaussian non_british_white 149\n",
       "8 gaussian s_asian           149"
      ]
     },
     "metadata": {},
     "output_type": "display_data"
    }
   ],
   "source": [
    "eval_df %>% \n",
    "eval_to_transethnic_eval_df('geno_delta') %>%\n",
    "filter(GBE_ID %in% get_filtered_GBE_IDs(eval_df, 'geno_delta', 0.05)) %>%\n",
    "count(family, split)"
   ]
  },
  {
   "cell_type": "code",
   "execution_count": 194,
   "metadata": {},
   "outputs": [],
   "source": [
    "for(metric in c('geno_delta', 'geno', 'geno_covar', 'covar')){\n",
    "    for(ext in c('png', 'pdf')){ggsave(\n",
    "        sprintf('%s.%s', sprintf('trans-ethnic_%s_violin', metric), ext),\n",
    "        gridExtra::arrangeGrob(\n",
    "            eval_df %>% \n",
    "            eval_to_transethnic_eval_df(metric) %>%\n",
    "            filter(GBE_ID %in% get_filtered_GBE_IDs(eval_df, metric, 0.05)) %>%\n",
    "            filter(family == 'binomial') %>%\n",
    "            plot_violin(metric) + labs(\n",
    "                title = 'Binomial models',\n",
    "                y = latex2exp::TeX('Incremental AUC relative to WB') \n",
    "            ),\n",
    "\n",
    "            eval_df %>% \n",
    "            eval_to_transethnic_eval_df(metric) %>%\n",
    "            filter(GBE_ID %in% get_filtered_GBE_IDs(eval_df, metric, 0.05)) %>%\n",
    "            filter(family == 'gaussian') %>%\n",
    "            plot_violin(metric) + labs(\n",
    "                title = 'Gaussian models',\n",
    "                y = latex2exp::TeX('Incremental r^2 relative to WB') \n",
    "            ),\n",
    "\n",
    "            ncol=2\n",
    "        ),\n",
    "        width=16, height=8\n",
    "    )}    \n",
    "}\n"
   ]
  },
  {
   "cell_type": "code",
   "execution_count": 195,
   "metadata": {},
   "outputs": [
    {
     "data": {
      "text/html": [
       "<table class=\"dataframe\">\n",
       "<caption>A data.frame: 8 × 3</caption>\n",
       "<thead>\n",
       "\t<tr><th scope=col>family</th><th scope=col>split</th><th scope=col>n</th></tr>\n",
       "\t<tr><th scope=col>&lt;chr&gt;</th><th scope=col>&lt;chr&gt;</th><th scope=col>&lt;int&gt;</th></tr>\n",
       "</thead>\n",
       "<tbody>\n",
       "\t<tr><td>binomial</td><td>african          </td><td>707</td></tr>\n",
       "\t<tr><td>binomial</td><td>e_asian          </td><td>628</td></tr>\n",
       "\t<tr><td>binomial</td><td>non_british_white</td><td>717</td></tr>\n",
       "\t<tr><td>binomial</td><td>s_asian          </td><td>715</td></tr>\n",
       "\t<tr><td>gaussian</td><td>african          </td><td>909</td></tr>\n",
       "\t<tr><td>gaussian</td><td>e_asian          </td><td>909</td></tr>\n",
       "\t<tr><td>gaussian</td><td>non_british_white</td><td>909</td></tr>\n",
       "\t<tr><td>gaussian</td><td>s_asian          </td><td>909</td></tr>\n",
       "</tbody>\n",
       "</table>\n"
      ],
      "text/latex": [
       "A data.frame: 8 × 3\n",
       "\\begin{tabular}{lll}\n",
       " family & split & n\\\\\n",
       " <chr> & <chr> & <int>\\\\\n",
       "\\hline\n",
       "\t binomial & african           & 707\\\\\n",
       "\t binomial & e\\_asian           & 628\\\\\n",
       "\t binomial & non\\_british\\_white & 717\\\\\n",
       "\t binomial & s\\_asian           & 715\\\\\n",
       "\t gaussian & african           & 909\\\\\n",
       "\t gaussian & e\\_asian           & 909\\\\\n",
       "\t gaussian & non\\_british\\_white & 909\\\\\n",
       "\t gaussian & s\\_asian           & 909\\\\\n",
       "\\end{tabular}\n"
      ],
      "text/markdown": [
       "\n",
       "A data.frame: 8 × 3\n",
       "\n",
       "| family &lt;chr&gt; | split &lt;chr&gt; | n &lt;int&gt; |\n",
       "|---|---|---|\n",
       "| binomial | african           | 707 |\n",
       "| binomial | e_asian           | 628 |\n",
       "| binomial | non_british_white | 717 |\n",
       "| binomial | s_asian           | 715 |\n",
       "| gaussian | african           | 909 |\n",
       "| gaussian | e_asian           | 909 |\n",
       "| gaussian | non_british_white | 909 |\n",
       "| gaussian | s_asian           | 909 |\n",
       "\n"
      ],
      "text/plain": [
       "  family   split             n  \n",
       "1 binomial african           707\n",
       "2 binomial e_asian           628\n",
       "3 binomial non_british_white 717\n",
       "4 binomial s_asian           715\n",
       "5 gaussian african           909\n",
       "6 gaussian e_asian           909\n",
       "7 gaussian non_british_white 909\n",
       "8 gaussian s_asian           909"
      ]
     },
     "metadata": {},
     "output_type": "display_data"
    }
   ],
   "source": [
    "eval_df %>% \n",
    "eval_to_transethnic_eval_df('geno_delta') %>%\n",
    "count(family, split)\n"
   ]
  },
  {
   "cell_type": "code",
   "execution_count": 196,
   "metadata": {},
   "outputs": [],
   "source": [
    "metric <- 'geno_delta'\n",
    "for(ext in c('png', 'pdf')){ggsave(\n",
    "    sprintf('%s.%s', sprintf('trans_ethnic_%s_full_violin', metric), ext),\n",
    "    gridExtra::arrangeGrob(\n",
    "        eval_df %>% \n",
    "        eval_to_transethnic_eval_df(metric) %>%\n",
    "        filter(family == 'binomial') %>%\n",
    "        plot_violin(metric) + labs(\n",
    "            title = 'Binomial models',\n",
    "            y = latex2exp::TeX('Incremental AUC relative to WB') \n",
    "        ),\n",
    "\n",
    "        eval_df %>% \n",
    "        eval_to_transethnic_eval_df(metric) %>%\n",
    "        filter(family == 'gaussian') %>%\n",
    "        plot_violin(metric) + labs(\n",
    "            title = 'Gaussian models',\n",
    "            y = latex2exp::TeX('Incremental r^2 relative to WB') \n",
    "        ),\n",
    "\n",
    "        ncol=2\n",
    "    ),\n",
    "    width=16, height=8\n",
    ")}    \n"
   ]
  },
  {
   "cell_type": "code",
   "execution_count": 202,
   "metadata": {},
   "outputs": [],
   "source": [
    "metric <- 'geno_delta'\n",
    "for(ext in c('png', 'pdf')){ggsave(\n",
    "    sprintf('%s.%s', sprintf('trans_ethnic_%s_scatter', metric), ext),\n",
    "    gridExtra::arrangeGrob(\n",
    "        eval_df %>% filter(split != 'train_val', family == 'binomial') %>%\n",
    "        filter(GBE_ID %in% get_filtered_GBE_IDs(eval_df, metric, 0.05)) %>%\n",
    "        plot_scatter('geno_delta') + labs(\n",
    "            title = 'Binomial models',\n",
    "            x = latex2exp::TeX('Incremental AUC in WB'),\n",
    "            y = latex2exp::TeX('Trans-ethnic incremental AUC')\n",
    "        ),\n",
    "\n",
    "        eval_df %>% filter(split != 'train_val', family == 'gaussian') %>%\n",
    "        filter(GBE_ID %in% get_filtered_GBE_IDs(eval_df, metric, 0.05)) %>%\n",
    "        plot_scatter('geno_delta') + labs(\n",
    "            title = 'Gaussian models',\n",
    "            x = latex2exp::TeX('Incremental r^2 in WB'),\n",
    "            y = latex2exp::TeX('Trans-ethnic incremental r^2')\n",
    "        ),\n",
    "        \n",
    "        ncol=2\n",
    "    ),\n",
    "    width=16, height=8\n",
    ")}    \n"
   ]
  },
  {
   "cell_type": "markdown",
   "metadata": {},
   "source": [
    "## Predictive performance\n",
    "\n",
    "- histogram of the delta performance across the traits (maybe split for binary and gaussian)\n"
   ]
  },
  {
   "cell_type": "code",
   "execution_count": 211,
   "metadata": {},
   "outputs": [],
   "source": [
    "metric <- 'geno_delta'\n",
    "for(ext in c('png', 'pdf')){ggsave(\n",
    "    sprintf('%s.%s', sprintf('test_set_%s', metric), ext),\n",
    "    gridExtra::arrangeGrob(\n",
    "        eval_df %>%\n",
    "        filter(split == 'test', family == 'binomial') %>%\n",
    "        plot_histogram(metric, 0.05) + labs(\n",
    "            title = 'Binomial models',\n",
    "            x = latex2exp::TeX('Incremental AUC')\n",
    "        ),\n",
    "\n",
    "        eval_df %>%\n",
    "        filter(split == 'test', family == 'gaussian') %>%\n",
    "        plot_histogram(metric, 0.05) + labs(\n",
    "            title = 'Gaussian models',\n",
    "            x = latex2exp::TeX('Incremental r^2')\n",
    "        ),\n",
    "        \n",
    "        ncol=2\n",
    "    ),\n",
    "    width=16, height=8\n",
    ")}    \n"
   ]
  },
  {
   "cell_type": "code",
   "execution_count": null,
   "metadata": {},
   "outputs": [],
   "source": []
  }
 ],
 "metadata": {
  "kernelspec": {
   "display_name": "R",
   "language": "R",
   "name": "ir"
  },
  "language_info": {
   "codemirror_mode": "r",
   "file_extension": ".r",
   "mimetype": "text/x-r-source",
   "name": "R",
   "pygments_lexer": "r",
   "version": "3.6.2"
  }
 },
 "nbformat": 4,
 "nbformat_minor": 4
}

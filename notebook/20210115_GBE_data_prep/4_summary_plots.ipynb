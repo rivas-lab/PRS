{
 "cells": [
  {
   "cell_type": "markdown",
   "metadata": {},
   "source": [
    "# PRS map - summary plots\n",
    "\n",
    "Yosuke Tanigawa\n"
   ]
  },
  {
   "cell_type": "markdown",
   "metadata": {},
   "source": [
    "## library, functions, and constants"
   ]
  },
  {
   "cell_type": "code",
   "execution_count": 1,
   "metadata": {},
   "outputs": [],
   "source": [
    "suppressWarnings(suppressPackageStartupMessages({\n",
    "    library(tidyverse)\n",
    "    library(data.table)\n",
    "}))\n"
   ]
  },
  {
   "cell_type": "code",
   "execution_count": 2,
   "metadata": {},
   "outputs": [],
   "source": [
    "source('0_parameters.sh')\n"
   ]
  },
  {
   "cell_type": "code",
   "execution_count": 3,
   "metadata": {},
   "outputs": [
    {
     "name": "stderr",
     "output_type": "stream",
     "text": [
      "Loading cud4\n",
      "\n"
     ]
    }
   ],
   "source": [
    "devtools::load_all('/oak/stanford/groups/mrivas/users/ytanigaw/repos/yk-tanigawa/cud4')\n"
   ]
  },
  {
   "cell_type": "code",
   "execution_count": 4,
   "metadata": {},
   "outputs": [],
   "source": [
    "#' Transform the evaluation metric data frame to \n",
    "#' the multi-ethnic transferability metric against WB test set\n",
    "#'\n",
    "#' @param eval_df a data frae containing the predictive performance metric. \n",
    "#' Each row has the predictive performance of phenotype for a given pair of trait and ethnic group\n",
    "#' We assume the table has 'trait' and 'split' columns\n",
    "#' @param metric_col a string specifying the column name that contains the predictive performance measure\n",
    "#' @param trans_ethnic_eval_func a function that takes two arguments \n",
    "#' (a metric in non-WB pop and the correspondig metric in WB test set) and returns a transferability measure\n",
    "#' example: function(x, x_WB){ x - x_WB }\n",
    "#' @return a new data frame containing three columns: trait, split, <metric_col>_vs_WBtest\n",
    "#' @examples\n",
    "#' eval_to_transethnic_eval_df(eval_df, 'geno_delta', function(x, x_WB){ x - x_WB })\n",
    "eval_to_transethnic_eval_df <- function(eval_df, metric_col, trans_ethnic_eval_func){\n",
    "    eval_df %>%\n",
    "    rename(!!'metric_col__' := all_of(metric_col)) %>%\n",
    "    select(trait, split, metric_col__) %>%\n",
    "    spread(split, metric_col__) %>%\n",
    "    mutate(across(\n",
    "        c('non_british_white', 'african', 's_asian', 'e_asian'),\n",
    "        function(x){ trans_ethnic_eval_func(x, test) }\n",
    "    )) %>%\n",
    "    select(-train_val, -test) %>%\n",
    "    gather(split, metric_col__, -trait) %>% drop_na() %>%\n",
    "    rename(!!sprintf('%s_vs_WBtest', metric_col) := metric_col__)\n",
    "}\n"
   ]
  },
  {
   "cell_type": "code",
   "execution_count": 5,
   "metadata": {},
   "outputs": [],
   "source": [
    "get_split_color_dict <- function(){\n",
    "    setNames(\n",
    "        c(cud4_colors()['gray'], cud4_colors()['green'], cud4_colors()['sky_blue'], cud4_colors()['red'] ),\n",
    "        c('Non-British white', 'South Asian', 'East Asian', 'African')\n",
    "    )\n",
    "}\n"
   ]
  },
  {
   "cell_type": "code",
   "execution_count": 6,
   "metadata": {},
   "outputs": [],
   "source": [
    "get_split_order_df <- function(){\n",
    "    data.frame(\n",
    "        split = c('non_british_white', 's_asian', 'e_asian', 'african'),\n",
    "        split_plot = c('Non-British white', 'South Asian', 'East Asian', 'African'),\n",
    "        split_order=1:4, stringsAsFactors=F\n",
    "    )\n",
    "}\n"
   ]
  },
  {
   "cell_type": "code",
   "execution_count": 7,
   "metadata": {},
   "outputs": [],
   "source": [
    "get_filtered_GBE_IDs <- function(eval_df, metric_col, metric_threshold){\n",
    "    eval_df %>% \n",
    "    rename(!!'metric_col__' := all_of(metric_col)) %>%\n",
    "    filter(split == 'test', metric_col__ > metric_threshold) %>%\n",
    "    pull(trait)\n",
    "}\n"
   ]
  },
  {
   "cell_type": "code",
   "execution_count": 28,
   "metadata": {},
   "outputs": [],
   "source": [
    "plot_violin <- function(transethnic_df, metric_col){\n",
    "    transethnic_df %>%\n",
    "    rename(!!'metric_col__' := sprintf('%s_vs_WBtest', metric_col)) %>%\n",
    "    ggplot(aes(x=reorder(split_plot, split_order), y=metric_col__, color=reorder(split_plot, split_order))) + \n",
    "    geom_hline(yintercept = 0, color='gray') +\n",
    "    geom_violin() + geom_jitter(height = 0, width = 0.3) +\n",
    "    theme_bw(base_size = 16) + \n",
    "    scale_color_manual(values=get_split_color_dict()) +\n",
    "    labs(x = 'Ancestry group in UK Biobank', y = metric_col) +\n",
    "    theme(legend.position = 'none')\n",
    "}\n"
   ]
  },
  {
   "cell_type": "code",
   "execution_count": 9,
   "metadata": {},
   "outputs": [],
   "source": [
    "plot_scatter <- function(eval_trans_plot_df){\n",
    "    slope_dict <- list()\n",
    "    for(split_plot_str in names(get_split_color_dict())){\n",
    "        slope_dict[[split_plot_str]] <- summary(glm(\n",
    "            geno_delta ~ 0 + geno_delta_WBtest, \n",
    "            data = eval_trans_plot_df %>% filter(split_plot == split_plot_str)\n",
    "        ))$coeff['geno_delta_WBtest', 'Estimate']\n",
    "    }\n",
    "\n",
    "    print(slope_dict)\n",
    "\n",
    "    eval_trans_plot_df %>%\n",
    "    ggplot(aes(\n",
    "        x = geno_delta_WBtest,\n",
    "        y = geno_delta,\n",
    "        color=reorder(split_plot, split_order)\n",
    "    )) -> p\n",
    "\n",
    "    for(split_plot_str in names(get_split_color_dict())){\n",
    "        p <- p + geom_abline(\n",
    "            intercept=0,\n",
    "            slope = slope_dict[[split_plot_str]],\n",
    "            color=get_split_color_dict()[[split_plot_str]],\n",
    "            linetype = \"dashed\"\n",
    "        )\n",
    "    }\n",
    "\n",
    "    p +\n",
    "    geom_point() +\n",
    "    theme_bw(base_size = 16) +\n",
    "    scale_color_manual(values=get_split_color_dict()) +\n",
    "    labs(\n",
    "        x = 'Incremental predictive performance in white British',\n",
    "        y = 'Incremental predictive performance',\n",
    "        color = 'Ancestry group'\n",
    "    ) +\n",
    "    theme(legend.position = c(.2,.85))\n",
    "}\n"
   ]
  },
  {
   "cell_type": "code",
   "execution_count": 10,
   "metadata": {},
   "outputs": [],
   "source": [
    "plot_histogram <- function(eval_df, metric_col, metric_threshold){\n",
    "    eval_df %>%\n",
    "    rename(!!'metric_col__' := all_of(metric_col)) %>%    \n",
    "    ggplot(aes(x = metric_col__)) +\n",
    "    geom_vline(xintercept = metric_threshold, color='red') +\n",
    "    geom_histogram(bins=30) + theme_bw(base_size = 16) + labs(x = metric_col)\n",
    "}\n"
   ]
  },
  {
   "cell_type": "code",
   "execution_count": 11,
   "metadata": {},
   "outputs": [],
   "source": [
    "# for visualization, we collapse some of the trait categories as 'Others'\n",
    "# here, we list the categories that we'd like to keep\n",
    "trait_categories_to_keep <- setNames(\n",
    "    list( \n",
    "        c(\n",
    "            # binary traits (binomial family)\n",
    "            'Disease_outcome',\n",
    "            'Lifestyle_and_environment',\n",
    "            'Health_and_medical_history',\n",
    "            'cancer',\n",
    "            'Psychosocial_factors',\n",
    "            'Family_history'\n",
    "        ),\n",
    "        c(\n",
    "            # quantitative traits (Gaussian family)\n",
    "            'Blood_assays',\n",
    "            'Anthropometry',\n",
    "            'Lifestyle_and_environment',\n",
    "            'Biomarkers',\n",
    "            'Bone-densitometry_of_heel'\n",
    "        )\n",
    "    ),\n",
    "    c('binomial', 'gaussian')\n",
    ")\n"
   ]
  },
  {
   "cell_type": "markdown",
   "metadata": {},
   "source": [
    "## read the full input data"
   ]
  },
  {
   "cell_type": "code",
   "execution_count": 12,
   "metadata": {},
   "outputs": [],
   "source": [
    "file.path(data_d, 'eval_full.tsv') %>%\n",
    "fread() %>% rename('trait_category'='#trait_category') %>%\n",
    "mutate(\n",
    "    trait_label=sprintf('%s (%s)', trait_name, trait),\n",
    "    \n",
    "    trait_category_plot = if_else(\n",
    "        ((family == 'binomial') & (trait_category %in% trait_categories_to_keep[['binomial']])) |\n",
    "        ((family == 'gaussian') & (trait_category %in% trait_categories_to_keep[['gaussian']])),\n",
    "        str_replace_all(trait_category, '_', ' '),\n",
    "        'Others'\n",
    "    )\n",
    "\n",
    ") -> eval_full_df\n"
   ]
  },
  {
   "cell_type": "markdown",
   "metadata": {},
   "source": [
    "### how many traits do we have?"
   ]
  },
  {
   "cell_type": "code",
   "execution_count": 13,
   "metadata": {},
   "outputs": [
    {
     "data": {
      "text/html": [
       "<table class=\"dataframe\">\n",
       "<caption>A data.table: 2 × 3</caption>\n",
       "<thead>\n",
       "\t<tr><th scope=col>is_significant_in_WB</th><th scope=col>binomial</th><th scope=col>gaussian</th></tr>\n",
       "\t<tr><th scope=col>&lt;lgl&gt;</th><th scope=col>&lt;int&gt;</th><th scope=col>&lt;int&gt;</th></tr>\n",
       "</thead>\n",
       "<tbody>\n",
       "\t<tr><td> TRUE</td><td>242</td><td>186</td></tr>\n",
       "\t<tr><td>FALSE</td><td>466</td><td>723</td></tr>\n",
       "</tbody>\n",
       "</table>\n"
      ],
      "text/latex": [
       "A data.table: 2 × 3\n",
       "\\begin{tabular}{lll}\n",
       " is\\_significant\\_in\\_WB & binomial & gaussian\\\\\n",
       " <lgl> & <int> & <int>\\\\\n",
       "\\hline\n",
       "\t  TRUE & 242 & 186\\\\\n",
       "\t FALSE & 466 & 723\\\\\n",
       "\\end{tabular}\n"
      ],
      "text/markdown": [
       "\n",
       "A data.table: 2 × 3\n",
       "\n",
       "| is_significant_in_WB &lt;lgl&gt; | binomial &lt;int&gt; | gaussian &lt;int&gt; |\n",
       "|---|---|---|\n",
       "|  TRUE | 242 | 186 |\n",
       "| FALSE | 466 | 723 |\n",
       "\n"
      ],
      "text/plain": [
       "  is_significant_in_WB binomial gaussian\n",
       "1  TRUE                242      186     \n",
       "2 FALSE                466      723     "
      ]
     },
     "metadata": {},
     "output_type": "display_data"
    }
   ],
   "source": [
    "eval_full_df %>% filter(split == 'test') %>%\n",
    "count(is_significant_in_WB, family) %>%\n",
    "spread(family, n) %>%\n",
    "arrange(-is_significant_in_WB)"
   ]
  },
  {
   "cell_type": "code",
   "execution_count": 14,
   "metadata": {},
   "outputs": [],
   "source": [
    "# focus on the test set metric across significant PRSs\n",
    "eval_full_df %>% filter(split == 'test') %>%\n",
    "select(-split) %>%\n",
    "filter(is_significant_in_WB) %>%\n",
    "select(-is_significant_in_WB) -> summary_sig_df\n"
   ]
  },
  {
   "cell_type": "markdown",
   "metadata": {},
   "source": [
    "## check the trait category\n",
    "\n",
    "For plotting purpose, we expanded 'others' group so that we have a managable number of colors in the plot"
   ]
  },
  {
   "cell_type": "code",
   "execution_count": 15,
   "metadata": {},
   "outputs": [
    {
     "data": {
      "text/html": [
       "<table class=\"dataframe\">\n",
       "<caption>A data.table: 30 × 4</caption>\n",
       "<thead>\n",
       "\t<tr><th scope=col>family</th><th scope=col>trait_category</th><th scope=col>trait_category_plot</th><th scope=col>n</th></tr>\n",
       "\t<tr><th scope=col>&lt;chr&gt;</th><th scope=col>&lt;chr&gt;</th><th scope=col>&lt;chr&gt;</th><th scope=col>&lt;int&gt;</th></tr>\n",
       "</thead>\n",
       "<tbody>\n",
       "\t<tr><td>binomial</td><td>Disease_outcome           </td><td>Disease outcome           </td><td>138</td></tr>\n",
       "\t<tr><td>binomial</td><td>Lifestyle_and_environment </td><td>Lifestyle and environment </td><td> 35</td></tr>\n",
       "\t<tr><td>binomial</td><td>Health_and_medical_history</td><td>Health and medical history</td><td> 31</td></tr>\n",
       "\t<tr><td>binomial</td><td>cancer                    </td><td>cancer                    </td><td>  9</td></tr>\n",
       "\t<tr><td>binomial</td><td>Psychosocial_factors      </td><td>Psychosocial factors      </td><td>  9</td></tr>\n",
       "\t<tr><td>binomial</td><td>Family_history            </td><td>Family history            </td><td>  7</td></tr>\n",
       "\t<tr><td>binomial</td><td>Others                    </td><td>Others                    </td><td>  4</td></tr>\n",
       "\t<tr><td>binomial</td><td>Work_environment          </td><td>Others                    </td><td>  3</td></tr>\n",
       "\t<tr><td>binomial</td><td>Blood_assays              </td><td>Others                    </td><td>  2</td></tr>\n",
       "\t<tr><td>binomial</td><td>Diet_by_24-hour_recall    </td><td>Others                    </td><td>  2</td></tr>\n",
       "\t<tr><td>binomial</td><td>Digestive_health          </td><td>Others                    </td><td>  1</td></tr>\n",
       "\t<tr><td>binomial</td><td>Mental_health             </td><td>Others                    </td><td>  1</td></tr>\n",
       "\t<tr><td>gaussian</td><td>Blood_assays              </td><td>Blood assays              </td><td> 48</td></tr>\n",
       "\t<tr><td>gaussian</td><td>Anthropometry             </td><td>Anthropometry             </td><td> 36</td></tr>\n",
       "\t<tr><td>gaussian</td><td>Lifestyle_and_environment </td><td>Lifestyle and environment </td><td> 34</td></tr>\n",
       "\t<tr><td>gaussian</td><td>Biomarkers                </td><td>Biomarkers                </td><td> 25</td></tr>\n",
       "\t<tr><td>gaussian</td><td>Bone-densitometry_of_heel </td><td>Bone-densitometry of heel </td><td> 12</td></tr>\n",
       "\t<tr><td>gaussian</td><td>Health_and_medical_history</td><td>Others                    </td><td>  4</td></tr>\n",
       "\t<tr><td>gaussian</td><td>Blood_pressure            </td><td>Others                    </td><td>  3</td></tr>\n",
       "\t<tr><td>gaussian</td><td>Early_life_factors        </td><td>Others                    </td><td>  3</td></tr>\n",
       "\t<tr><td>gaussian</td><td>Eye_measures              </td><td>Others                    </td><td>  3</td></tr>\n",
       "\t<tr><td>gaussian</td><td>Spirometry                </td><td>Others                    </td><td>  3</td></tr>\n",
       "\t<tr><td>gaussian</td><td>T1_structural_brain_MRI   </td><td>Others                    </td><td>  3</td></tr>\n",
       "\t<tr><td>gaussian</td><td>Cognitive_function        </td><td>Others                    </td><td>  2</td></tr>\n",
       "\t<tr><td>gaussian</td><td>Hand_grip_strength        </td><td>Others                    </td><td>  2</td></tr>\n",
       "\t<tr><td>gaussian</td><td>Medical_conditions        </td><td>Others                    </td><td>  2</td></tr>\n",
       "\t<tr><td>gaussian</td><td>Others                    </td><td>Others                    </td><td>  2</td></tr>\n",
       "\t<tr><td>gaussian</td><td>Urine_assays              </td><td>Others                    </td><td>  2</td></tr>\n",
       "\t<tr><td>gaussian</td><td>Medications               </td><td>Others                    </td><td>  1</td></tr>\n",
       "\t<tr><td>gaussian</td><td>Psychosocial_factors      </td><td>Others                    </td><td>  1</td></tr>\n",
       "</tbody>\n",
       "</table>\n"
      ],
      "text/latex": [
       "A data.table: 30 × 4\n",
       "\\begin{tabular}{llll}\n",
       " family & trait\\_category & trait\\_category\\_plot & n\\\\\n",
       " <chr> & <chr> & <chr> & <int>\\\\\n",
       "\\hline\n",
       "\t binomial & Disease\\_outcome            & Disease outcome            & 138\\\\\n",
       "\t binomial & Lifestyle\\_and\\_environment  & Lifestyle and environment  &  35\\\\\n",
       "\t binomial & Health\\_and\\_medical\\_history & Health and medical history &  31\\\\\n",
       "\t binomial & cancer                     & cancer                     &   9\\\\\n",
       "\t binomial & Psychosocial\\_factors       & Psychosocial factors       &   9\\\\\n",
       "\t binomial & Family\\_history             & Family history             &   7\\\\\n",
       "\t binomial & Others                     & Others                     &   4\\\\\n",
       "\t binomial & Work\\_environment           & Others                     &   3\\\\\n",
       "\t binomial & Blood\\_assays               & Others                     &   2\\\\\n",
       "\t binomial & Diet\\_by\\_24-hour\\_recall     & Others                     &   2\\\\\n",
       "\t binomial & Digestive\\_health           & Others                     &   1\\\\\n",
       "\t binomial & Mental\\_health              & Others                     &   1\\\\\n",
       "\t gaussian & Blood\\_assays               & Blood assays               &  48\\\\\n",
       "\t gaussian & Anthropometry              & Anthropometry              &  36\\\\\n",
       "\t gaussian & Lifestyle\\_and\\_environment  & Lifestyle and environment  &  34\\\\\n",
       "\t gaussian & Biomarkers                 & Biomarkers                 &  25\\\\\n",
       "\t gaussian & Bone-densitometry\\_of\\_heel  & Bone-densitometry of heel  &  12\\\\\n",
       "\t gaussian & Health\\_and\\_medical\\_history & Others                     &   4\\\\\n",
       "\t gaussian & Blood\\_pressure             & Others                     &   3\\\\\n",
       "\t gaussian & Early\\_life\\_factors         & Others                     &   3\\\\\n",
       "\t gaussian & Eye\\_measures               & Others                     &   3\\\\\n",
       "\t gaussian & Spirometry                 & Others                     &   3\\\\\n",
       "\t gaussian & T1\\_structural\\_brain\\_MRI    & Others                     &   3\\\\\n",
       "\t gaussian & Cognitive\\_function         & Others                     &   2\\\\\n",
       "\t gaussian & Hand\\_grip\\_strength         & Others                     &   2\\\\\n",
       "\t gaussian & Medical\\_conditions         & Others                     &   2\\\\\n",
       "\t gaussian & Others                     & Others                     &   2\\\\\n",
       "\t gaussian & Urine\\_assays               & Others                     &   2\\\\\n",
       "\t gaussian & Medications                & Others                     &   1\\\\\n",
       "\t gaussian & Psychosocial\\_factors       & Others                     &   1\\\\\n",
       "\\end{tabular}\n"
      ],
      "text/markdown": [
       "\n",
       "A data.table: 30 × 4\n",
       "\n",
       "| family &lt;chr&gt; | trait_category &lt;chr&gt; | trait_category_plot &lt;chr&gt; | n &lt;int&gt; |\n",
       "|---|---|---|---|\n",
       "| binomial | Disease_outcome            | Disease outcome            | 138 |\n",
       "| binomial | Lifestyle_and_environment  | Lifestyle and environment  |  35 |\n",
       "| binomial | Health_and_medical_history | Health and medical history |  31 |\n",
       "| binomial | cancer                     | cancer                     |   9 |\n",
       "| binomial | Psychosocial_factors       | Psychosocial factors       |   9 |\n",
       "| binomial | Family_history             | Family history             |   7 |\n",
       "| binomial | Others                     | Others                     |   4 |\n",
       "| binomial | Work_environment           | Others                     |   3 |\n",
       "| binomial | Blood_assays               | Others                     |   2 |\n",
       "| binomial | Diet_by_24-hour_recall     | Others                     |   2 |\n",
       "| binomial | Digestive_health           | Others                     |   1 |\n",
       "| binomial | Mental_health              | Others                     |   1 |\n",
       "| gaussian | Blood_assays               | Blood assays               |  48 |\n",
       "| gaussian | Anthropometry              | Anthropometry              |  36 |\n",
       "| gaussian | Lifestyle_and_environment  | Lifestyle and environment  |  34 |\n",
       "| gaussian | Biomarkers                 | Biomarkers                 |  25 |\n",
       "| gaussian | Bone-densitometry_of_heel  | Bone-densitometry of heel  |  12 |\n",
       "| gaussian | Health_and_medical_history | Others                     |   4 |\n",
       "| gaussian | Blood_pressure             | Others                     |   3 |\n",
       "| gaussian | Early_life_factors         | Others                     |   3 |\n",
       "| gaussian | Eye_measures               | Others                     |   3 |\n",
       "| gaussian | Spirometry                 | Others                     |   3 |\n",
       "| gaussian | T1_structural_brain_MRI    | Others                     |   3 |\n",
       "| gaussian | Cognitive_function         | Others                     |   2 |\n",
       "| gaussian | Hand_grip_strength         | Others                     |   2 |\n",
       "| gaussian | Medical_conditions         | Others                     |   2 |\n",
       "| gaussian | Others                     | Others                     |   2 |\n",
       "| gaussian | Urine_assays               | Others                     |   2 |\n",
       "| gaussian | Medications                | Others                     |   1 |\n",
       "| gaussian | Psychosocial_factors       | Others                     |   1 |\n",
       "\n"
      ],
      "text/plain": [
       "   family   trait_category             trait_category_plot        n  \n",
       "1  binomial Disease_outcome            Disease outcome            138\n",
       "2  binomial Lifestyle_and_environment  Lifestyle and environment   35\n",
       "3  binomial Health_and_medical_history Health and medical history  31\n",
       "4  binomial cancer                     cancer                       9\n",
       "5  binomial Psychosocial_factors       Psychosocial factors         9\n",
       "6  binomial Family_history             Family history               7\n",
       "7  binomial Others                     Others                       4\n",
       "8  binomial Work_environment           Others                       3\n",
       "9  binomial Blood_assays               Others                       2\n",
       "10 binomial Diet_by_24-hour_recall     Others                       2\n",
       "11 binomial Digestive_health           Others                       1\n",
       "12 binomial Mental_health              Others                       1\n",
       "13 gaussian Blood_assays               Blood assays                48\n",
       "14 gaussian Anthropometry              Anthropometry               36\n",
       "15 gaussian Lifestyle_and_environment  Lifestyle and environment   34\n",
       "16 gaussian Biomarkers                 Biomarkers                  25\n",
       "17 gaussian Bone-densitometry_of_heel  Bone-densitometry of heel   12\n",
       "18 gaussian Health_and_medical_history Others                       4\n",
       "19 gaussian Blood_pressure             Others                       3\n",
       "20 gaussian Early_life_factors         Others                       3\n",
       "21 gaussian Eye_measures               Others                       3\n",
       "22 gaussian Spirometry                 Others                       3\n",
       "23 gaussian T1_structural_brain_MRI    Others                       3\n",
       "24 gaussian Cognitive_function         Others                       2\n",
       "25 gaussian Hand_grip_strength         Others                       2\n",
       "26 gaussian Medical_conditions         Others                       2\n",
       "27 gaussian Others                     Others                       2\n",
       "28 gaussian Urine_assays               Others                       2\n",
       "29 gaussian Medications                Others                       1\n",
       "30 gaussian Psychosocial_factors       Others                       1"
      ]
     },
     "metadata": {},
     "output_type": "display_data"
    }
   ],
   "source": [
    "summary_sig_df %>%\n",
    "count(family, trait_category, trait_category_plot) %>% arrange(family, -n)"
   ]
  },
  {
   "cell_type": "markdown",
   "metadata": {},
   "source": [
    "## Predictive performance (incremental AUC, incremantal r2)"
   ]
  },
  {
   "cell_type": "code",
   "execution_count": 16,
   "metadata": {},
   "outputs": [],
   "source": [
    "metric <- 'geno_delta'\n",
    "for(ext in c('png', 'pdf')){ggsave(\n",
    "    sprintf('%s.%s', sprintf('test_set_%s', metric), ext),\n",
    "    gridExtra::arrangeGrob(\n",
    "        summary_sig_df %>%\n",
    "        filter(family == 'binomial') %>%\n",
    "        plot_histogram(metric, 0.00) + labs(\n",
    "            title = 'Binary traits (Binomial models)',\n",
    "            x = latex2exp::TeX('Incremental AUC'),\n",
    "            y = 'Number of traits'\n",
    "        ),\n",
    "\n",
    "        summary_sig_df %>%\n",
    "        filter(family == 'gaussian') %>%\n",
    "        plot_histogram(metric, 0.00) + labs(\n",
    "            title = 'Quantitative traits (Gaussian models)',\n",
    "            x = latex2exp::TeX('Incremental r^2'),\n",
    "            y = 'Number of traits'\n",
    "        ),\n",
    "        \n",
    "        ncol=2\n",
    "    ),\n",
    "    width=16, height=8\n",
    ")}"
   ]
  },
  {
   "cell_type": "markdown",
   "metadata": {},
   "source": [
    "## Predictive performance vs. model size plot\n",
    "\n",
    "- x-axis: log10(number of variants in the PRS model), \n",
    "- y-axis: the delta in predictive performance (do color coding by gaussian, binomial, etc family)\n"
   ]
  },
  {
   "cell_type": "code",
   "execution_count": 17,
   "metadata": {},
   "outputs": [],
   "source": [
    "summary_sig_df %>%\n",
    "filter(family == 'binomial') %>%\n",
    "ggplot(aes(x  = n_variables, y = geno_delta, color=trait_category_plot, label=trait_label)) +\n",
    "geom_point() + scale_x_continuous(trans='log10') +\n",
    "theme_bw(base_size = 16) + labs(\n",
    "    title = 'Binary traits (Binomial models)',\n",
    "    x = 'Number of genetic variants',\n",
    "    y = 'Incremental AUC',\n",
    "    color = 'Trait category'\n",
    ") + \n",
    "theme(legend.position = 'bottom') +\n",
    "guides(color=guide_legend(ncol=2)) -> p_geno_delta_vs_size_binomial\n"
   ]
  },
  {
   "cell_type": "code",
   "execution_count": 18,
   "metadata": {},
   "outputs": [],
   "source": [
    "summary_sig_df %>%\n",
    "filter(family == 'gaussian') %>%\n",
    "ggplot(aes(x  = n_variables, y = geno_delta, color=trait_category_plot, label=trait_label)) +\n",
    "geom_point() + scale_x_continuous(trans='log10') +\n",
    "theme_bw(base_size = 16) + labs(\n",
    "    title = 'Quantitative traits (Gaussian models)',\n",
    "    x = 'Number of genetic variants',\n",
    "    y = latex2exp::TeX('Incremental r^2'),\n",
    "    color = 'Trait category'\n",
    ") +\n",
    "theme(legend.position = 'bottom') +\n",
    "guides(color=guide_legend(ncol=2)) -> p_geno_delta_vs_size_gaussian\n"
   ]
  },
  {
   "cell_type": "code",
   "execution_count": 19,
   "metadata": {},
   "outputs": [],
   "source": [
    "for(ext in c('png', 'pdf')){ggsave(\n",
    "    sprintf('%s.%s', 'test_set_performance_vs_size', ext),\n",
    "    gridExtra::arrangeGrob(p_geno_delta_vs_size_binomial, p_geno_delta_vs_size_gaussian, ncol=2),\n",
    "    width=16, height=9\n",
    ")}\n"
   ]
  },
  {
   "cell_type": "markdown",
   "metadata": {},
   "source": [
    "### export them to plotly plots\n",
    "\n",
    "- Those files are now hosted on AFS (/afs/ir.stanford.edu/users/y/t/ytanigaw/WWW/PRSmap)\n",
    "  - http://web.stanford.edu/~ytanigaw/PRSmap/delta_vs_size_binomial.html\n",
    "  - http://web.stanford.edu/~ytanigaw/PRSmap/delta_vs_size_gaussian.html\n"
   ]
  },
  {
   "cell_type": "code",
   "execution_count": 20,
   "metadata": {},
   "outputs": [],
   "source": [
    "htmlwidgets::saveWidget(\n",
    "    p_geno_delta_vs_size_binomial %>% plotly::ggplotly(),\n",
    "    'ggplotly/delta_vs_size_binomial.html'\n",
    ")\n",
    "\n",
    "htmlwidgets::saveWidget(\n",
    "    (p_geno_delta_vs_size_gaussian +\n",
    "     # ggplotly does not support LaTex equation\n",
    "    labs(y = 'Incremental r^2') )%>% plotly::ggplotly(),\n",
    "    'ggplotly/delta_vs_size_gaussian.html'\n",
    ")\n"
   ]
  },
  {
   "cell_type": "code",
   "execution_count": 35,
   "metadata": {},
   "outputs": [
    {
     "data": {
      "text/plain": [
       "\n",
       "Call:\n",
       "glm(formula = geno_delta ~ 0 + n_variables, data = summary_sig_df %>% \n",
       "    filter(family == \"binomial\"))\n",
       "\n",
       "Deviance Residuals: \n",
       "     Min        1Q    Median        3Q       Max  \n",
       "-0.06152  -0.00150   0.00939   0.03580   0.39256  \n",
       "\n",
       "Coefficients:\n",
       "             Estimate Std. Error t value Pr(>|t|)    \n",
       "n_variables 7.688e-06  1.249e-06   6.157 3.07e-09 ***\n",
       "---\n",
       "Signif. codes:  0 ‘***’ 0.001 ‘**’ 0.01 ‘*’ 0.05 ‘.’ 0.1 ‘ ’ 1\n",
       "\n",
       "(Dispersion parameter for gaussian family taken to be 0.004294607)\n",
       "\n",
       "    Null deviance: 1.1978  on 242  degrees of freedom\n",
       "Residual deviance: 1.0350  on 241  degrees of freedom\n",
       "AIC: -629.23\n",
       "\n",
       "Number of Fisher Scoring iterations: 2\n"
      ]
     },
     "metadata": {},
     "output_type": "display_data"
    }
   ],
   "source": [
    "glm(\n",
    "    geno_delta ~ 0 + n_variables,\n",
    "    data = summary_sig_df %>%\n",
    "    filter(family == 'binomial')\n",
    ") %>% \n",
    "summary()"
   ]
  },
  {
   "cell_type": "code",
   "execution_count": 40,
   "metadata": {},
   "outputs": [],
   "source": [
    "?cor.test"
   ]
  },
  {
   "cell_type": "code",
   "execution_count": 42,
   "metadata": {},
   "outputs": [],
   "source": [
    "cor_test_wrapper<-function(df, cor_test_method){cor.test(\n",
    "    df %>% pull(geno_delta),\n",
    "    df %>% pull(n_variables),\n",
    "    method = cor_test_method\n",
    ")}"
   ]
  },
  {
   "cell_type": "code",
   "execution_count": 46,
   "metadata": {},
   "outputs": [
    {
     "name": "stderr",
     "output_type": "stream",
     "text": [
      "Warning message in cor.test.default(df %>% pull(geno_delta), df %>% pull(n_variables), :\n",
      "“Cannot compute exact p-value with ties”\n"
     ]
    },
    {
     "data": {
      "text/plain": [
       "\n",
       "\tSpearman's rank correlation rho\n",
       "\n",
       "data:  df %>% pull(geno_delta) and df %>% pull(n_variables)\n",
       "S = 2222200, p-value = 0.3591\n",
       "alternative hypothesis: true rho is not equal to 0\n",
       "sample estimates:\n",
       "       rho \n",
       "0.05920362 \n"
      ]
     },
     "metadata": {},
     "output_type": "display_data"
    }
   ],
   "source": [
    "summary_sig_df %>%\n",
    "filter(family == 'binomial') %>%\n",
    "cor_test_wrapper('spearman') "
   ]
  },
  {
   "cell_type": "code",
   "execution_count": 45,
   "metadata": {},
   "outputs": [
    {
     "name": "stderr",
     "output_type": "stream",
     "text": [
      "Warning message in cor.test.default(df %>% pull(geno_delta), df %>% pull(n_variables), :\n",
      "“Cannot compute exact p-value with ties”\n"
     ]
    },
    {
     "data": {
      "text/plain": [
       "\n",
       "\tSpearman's rank correlation rho\n",
       "\n",
       "data:  df %>% pull(geno_delta) and df %>% pull(n_variables)\n",
       "S = 491152, p-value = 1.353e-15\n",
       "alternative hypothesis: true rho is not equal to 0\n",
       "sample estimates:\n",
       "      rho \n",
       "0.5420262 \n"
      ]
     },
     "metadata": {},
     "output_type": "display_data"
    }
   ],
   "source": [
    "summary_sig_df %>%\n",
    "filter(family == 'gaussian') %>%\n",
    "cor_test_wrapper('spearman') "
   ]
  },
  {
   "cell_type": "markdown",
   "metadata": {},
   "source": [
    "## Trans-ethnic transferability\n",
    "\n",
    "Violin plot for fraction performance in each population split relative to test split performance in WB\n",
    "(so you’d have non-british white, s-asian, e-asian, african)"
   ]
  },
  {
   "cell_type": "code",
   "execution_count": 21,
   "metadata": {},
   "outputs": [],
   "source": [
    "metric_col <- 'geno_delta'\n",
    "trans_ethnic_eval_func <- function(ancestry_group_metric, WB_test_set_metric){\n",
    "    ancestry_group_metric - WB_test_set_metric\n",
    "}\n",
    "\n",
    "eval_full_df %>%\n",
    "select(all_of(c('trait', 'family', 'split', metric_col, 'is_significant_in_WB'))) %>%\n",
    "inner_join(\n",
    "    eval_full_df %>%\n",
    "    eval_to_transethnic_eval_df(metric_col, trans_ethnic_eval_func),\n",
    "    by=c('trait', 'split')\n",
    ") %>%\n",
    "left_join(get_split_order_df(), by='split') %>%\n",
    "left_join(\n",
    "    eval_full_df %>% filter(split == 'test') %>%\n",
    "    select(all_of(c('trait', metric_col))) %>%\n",
    "    rename(!!sprintf('%s_WBtest', metric_col) := all_of(metric_col)),\n",
    "    by='trait'\n",
    ") -> eval_trans_df\n"
   ]
  },
  {
   "cell_type": "markdown",
   "metadata": {},
   "source": [
    "### how many traits do we have across ancestry groups?\n",
    "\n",
    "For some traits (with low case N), we don't get the trans-ethnic evaluation"
   ]
  },
  {
   "cell_type": "code",
   "execution_count": 22,
   "metadata": {},
   "outputs": [
    {
     "data": {
      "text/html": [
       "<table class=\"dataframe\">\n",
       "<caption>A data.table: 4 × 3</caption>\n",
       "<thead>\n",
       "\t<tr><th scope=col>split_plot</th><th scope=col>binomial</th><th scope=col>gaussian</th></tr>\n",
       "\t<tr><th scope=col>&lt;chr&gt;</th><th scope=col>&lt;int&gt;</th><th scope=col>&lt;int&gt;</th></tr>\n",
       "</thead>\n",
       "<tbody>\n",
       "\t<tr><td>Non-British white</td><td>242</td><td>186</td></tr>\n",
       "\t<tr><td>South Asian      </td><td>241</td><td>186</td></tr>\n",
       "\t<tr><td>East Asian       </td><td>227</td><td>186</td></tr>\n",
       "\t<tr><td>African          </td><td>242</td><td>186</td></tr>\n",
       "</tbody>\n",
       "</table>\n"
      ],
      "text/latex": [
       "A data.table: 4 × 3\n",
       "\\begin{tabular}{lll}\n",
       " split\\_plot & binomial & gaussian\\\\\n",
       " <chr> & <int> & <int>\\\\\n",
       "\\hline\n",
       "\t Non-British white & 242 & 186\\\\\n",
       "\t South Asian       & 241 & 186\\\\\n",
       "\t East Asian        & 227 & 186\\\\\n",
       "\t African           & 242 & 186\\\\\n",
       "\\end{tabular}\n"
      ],
      "text/markdown": [
       "\n",
       "A data.table: 4 × 3\n",
       "\n",
       "| split_plot &lt;chr&gt; | binomial &lt;int&gt; | gaussian &lt;int&gt; |\n",
       "|---|---|---|\n",
       "| Non-British white | 242 | 186 |\n",
       "| South Asian       | 241 | 186 |\n",
       "| East Asian        | 227 | 186 |\n",
       "| African           | 242 | 186 |\n",
       "\n"
      ],
      "text/plain": [
       "  split_plot        binomial gaussian\n",
       "1 Non-British white 242      186     \n",
       "2 South Asian       241      186     \n",
       "3 East Asian        227      186     \n",
       "4 African           242      186     "
      ]
     },
     "metadata": {},
     "output_type": "display_data"
    }
   ],
   "source": [
    "eval_trans_df %>% filter(is_significant_in_WB) %>%\n",
    "count(family, split_plot, split_order) %>% spread(family, n) %>%\n",
    "arrange(split_order) %>% select(-split_order)"
   ]
  },
  {
   "cell_type": "code",
   "execution_count": 32,
   "metadata": {},
   "outputs": [],
   "source": [
    "eval_trans_df %>%\n",
    "filter(is_significant_in_WB, family=='binomial') %>%\n",
    "plot_violin(metric) + labs(\n",
    "    title = 'Binary traits (Binomial models)',\n",
    "    y = latex2exp::TeX('The difference in incremental AUC compared against white British') \n",
    ") -> p_trans_violin_binomial\n"
   ]
  },
  {
   "cell_type": "code",
   "execution_count": 33,
   "metadata": {},
   "outputs": [],
   "source": [
    "eval_trans_df %>%\n",
    "filter(is_significant_in_WB, family=='gaussian') %>%\n",
    "plot_violin(metric) + labs(\n",
    "    title = 'Quantitative traits (Gaussian models)',\n",
    "    y = latex2exp::TeX('The difference in incremental r^2 compared against white British') \n",
    ") -> p_trans_violin_gaussian\n"
   ]
  },
  {
   "cell_type": "code",
   "execution_count": 25,
   "metadata": {},
   "outputs": [
    {
     "name": "stdout",
     "output_type": "stream",
     "text": [
      "$`Non-British white`\n",
      "[1] 0.5863159\n",
      "\n",
      "$`South Asian`\n",
      "[1] 0.07657731\n",
      "\n",
      "$`East Asian`\n",
      "[1] -0.001134061\n",
      "\n",
      "$African\n",
      "[1] -0.07865199\n",
      "\n"
     ]
    }
   ],
   "source": [
    "eval_trans_df %>%\n",
    "filter(is_significant_in_WB, family=='binomial') %>%\n",
    "plot_scatter() + labs(\n",
    "    title = 'Binary traits (Binomial models)',\n",
    "    x = latex2exp::TeX('Incremental AUC in white British'),\n",
    "    y = latex2exp::TeX('Incremental AUC') \n",
    ") -> p_trans_scatter_binomial\n"
   ]
  },
  {
   "cell_type": "code",
   "execution_count": 26,
   "metadata": {},
   "outputs": [
    {
     "name": "stdout",
     "output_type": "stream",
     "text": [
      "$`Non-British white`\n",
      "[1] 0.9354429\n",
      "\n",
      "$`South Asian`\n",
      "[1] 0.5508495\n",
      "\n",
      "$`East Asian`\n",
      "[1] 0.3632301\n",
      "\n",
      "$African\n",
      "[1] 0.250069\n",
      "\n"
     ]
    }
   ],
   "source": [
    "eval_trans_df %>%\n",
    "filter(is_significant_in_WB, family=='gaussian') %>%\n",
    "plot_scatter() + labs(\n",
    "    title = 'Quantitative traits (Gaussian models)',\n",
    "    x = latex2exp::TeX('Incremental r^2 in white British'),\n",
    "    y = latex2exp::TeX('Incremental r^2') \n",
    ") -> p_trans_scatter_gaussian\n"
   ]
  },
  {
   "cell_type": "code",
   "execution_count": 34,
   "metadata": {},
   "outputs": [],
   "source": [
    "for(ext in c('png', 'pdf')){ggsave(\n",
    "    sprintf('%s.%s', 'trans-ethnic', ext),\n",
    "    gridExtra::arrangeGrob(\n",
    "        p_trans_violin_binomial,\n",
    "        p_trans_violin_gaussian,\n",
    "        p_trans_scatter_binomial,\n",
    "        p_trans_scatter_gaussian,\n",
    "        ncol=2\n",
    "    ),\n",
    "    width=16, height=16\n",
    ")}\n"
   ]
  },
  {
   "cell_type": "code",
   "execution_count": null,
   "metadata": {},
   "outputs": [],
   "source": []
  }
 ],
 "metadata": {
  "kernelspec": {
   "display_name": "R",
   "language": "R",
   "name": "ir"
  },
  "language_info": {
   "codemirror_mode": "r",
   "file_extension": ".r",
   "mimetype": "text/x-r-source",
   "name": "R",
   "pygments_lexer": "r",
   "version": "3.6.2"
  }
 },
 "nbformat": 4,
 "nbformat_minor": 4
}

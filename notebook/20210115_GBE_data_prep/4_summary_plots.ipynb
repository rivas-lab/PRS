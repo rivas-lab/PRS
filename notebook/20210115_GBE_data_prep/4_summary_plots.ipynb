{
 "cells": [
  {
   "cell_type": "code",
   "execution_count": 1,
   "metadata": {},
   "outputs": [],
   "source": [
    "suppressWarnings(suppressPackageStartupMessages({\n",
    "    library(tidyverse)\n",
    "    library(data.table)\n",
    "}))\n"
   ]
  },
  {
   "cell_type": "code",
   "execution_count": 2,
   "metadata": {},
   "outputs": [],
   "source": [
    "source('0_parameters.sh')\n"
   ]
  },
  {
   "cell_type": "code",
   "execution_count": 13,
   "metadata": {},
   "outputs": [
    {
     "name": "stderr",
     "output_type": "stream",
     "text": [
      "Loading cud4\n",
      "\n"
     ]
    }
   ],
   "source": [
    "devtools::load_all('/oak/stanford/groups/mrivas/users/ytanigaw/repos/yk-tanigawa/cud4')\n"
   ]
  },
  {
   "cell_type": "code",
   "execution_count": 7,
   "metadata": {},
   "outputs": [],
   "source": [
    "file.path(data_d, 'trait_info.tsv') %>%\n",
    "fread() %>% rename('GBE_category'='#GBE_category') -> trait_info_df\n"
   ]
  },
  {
   "cell_type": "code",
   "execution_count": 31,
   "metadata": {},
   "outputs": [
    {
     "data": {
      "text/html": [
       "<style>\n",
       ".list-inline {list-style: none; margin:0; padding: 0}\n",
       ".list-inline>li {display: inline-block}\n",
       ".list-inline>li:not(:last-child)::after {content: \"\\00b7\"; padding: 0 .5ex}\n",
       "</style>\n",
       "<ol class=list-inline><li>'GBE_category'</li><li>'GBE_ID'</li><li>'N'</li><li>'N_GBE'</li><li>'N_NBW'</li><li>'N_AFR'</li><li>'N_SAS'</li><li>'N_EAS'</li><li>'N_SMR'</li><li>'N_OTH'</li><li>'N_META'</li><li>'GBE_NAME'</li><li>'GBE_short_name'</li><li>'GBE_short_name_len'</li></ol>\n"
      ],
      "text/latex": [
       "\\begin{enumerate*}\n",
       "\\item 'GBE\\_category'\n",
       "\\item 'GBE\\_ID'\n",
       "\\item 'N'\n",
       "\\item 'N\\_GBE'\n",
       "\\item 'N\\_NBW'\n",
       "\\item 'N\\_AFR'\n",
       "\\item 'N\\_SAS'\n",
       "\\item 'N\\_EAS'\n",
       "\\item 'N\\_SMR'\n",
       "\\item 'N\\_OTH'\n",
       "\\item 'N\\_META'\n",
       "\\item 'GBE\\_NAME'\n",
       "\\item 'GBE\\_short\\_name'\n",
       "\\item 'GBE\\_short\\_name\\_len'\n",
       "\\end{enumerate*}\n"
      ],
      "text/markdown": [
       "1. 'GBE_category'\n",
       "2. 'GBE_ID'\n",
       "3. 'N'\n",
       "4. 'N_GBE'\n",
       "5. 'N_NBW'\n",
       "6. 'N_AFR'\n",
       "7. 'N_SAS'\n",
       "8. 'N_EAS'\n",
       "9. 'N_SMR'\n",
       "10. 'N_OTH'\n",
       "11. 'N_META'\n",
       "12. 'GBE_NAME'\n",
       "13. 'GBE_short_name'\n",
       "14. 'GBE_short_name_len'\n",
       "\n",
       "\n"
      ],
      "text/plain": [
       " [1] \"GBE_category\"       \"GBE_ID\"             \"N\"                 \n",
       " [4] \"N_GBE\"              \"N_NBW\"              \"N_AFR\"             \n",
       " [7] \"N_SAS\"              \"N_EAS\"              \"N_SMR\"             \n",
       "[10] \"N_OTH\"              \"N_META\"             \"GBE_NAME\"          \n",
       "[13] \"GBE_short_name\"     \"GBE_short_name_len\""
      ]
     },
     "metadata": {},
     "output_type": "display_data"
    }
   ],
   "source": [
    "trait_info_df %>% colnames()"
   ]
  },
  {
   "cell_type": "code",
   "execution_count": 32,
   "metadata": {},
   "outputs": [],
   "source": [
    "file.path(data_d, 'snpnet.eval.2_refit.tsv') %>%\n",
    "fread(colClasses = c('#GBE_ID'='character')) %>%\n",
    "rename('GBE_ID'='#GBE_ID') %>%\n",
    "filter(GBE_ID %in% trait_info_df$GBE_ID) %>%\n",
    "left_join(trait_info_df %>% select(GBE_ID, GBE_category, GBE_short_name), by='GBE_ID') -> eval_df\n"
   ]
  },
  {
   "cell_type": "code",
   "execution_count": 33,
   "metadata": {},
   "outputs": [
    {
     "data": {
      "text/html": [
       "<style>\n",
       ".list-inline {list-style: none; margin:0; padding: 0}\n",
       ".list-inline>li {display: inline-block}\n",
       ".list-inline>li:not(:last-child)::after {content: \"\\00b7\"; padding: 0 .5ex}\n",
       "</style>\n",
       "<ol class=list-inline><li>1772</li><li>13</li></ol>\n"
      ],
      "text/latex": [
       "\\begin{enumerate*}\n",
       "\\item 1772\n",
       "\\item 13\n",
       "\\end{enumerate*}\n"
      ],
      "text/markdown": [
       "1. 1772\n",
       "2. 13\n",
       "\n",
       "\n"
      ],
      "text/plain": [
       "[1] 1772   13"
      ]
     },
     "metadata": {},
     "output_type": "display_data"
    }
   ],
   "source": [
    "eval_df %>% filter(split == 'test') %>% dim()"
   ]
  },
  {
   "cell_type": "code",
   "execution_count": 34,
   "metadata": {},
   "outputs": [
    {
     "data": {
      "text/html": [
       "<table>\n",
       "<caption>A data.table: 2 × 2</caption>\n",
       "<thead>\n",
       "\t<tr><th scope=col>family</th><th scope=col>n</th></tr>\n",
       "\t<tr><th scope=col>&lt;chr&gt;</th><th scope=col>&lt;int&gt;</th></tr>\n",
       "</thead>\n",
       "<tbody>\n",
       "\t<tr><td>binomial</td><td> 742</td></tr>\n",
       "\t<tr><td>gaussian</td><td>1030</td></tr>\n",
       "</tbody>\n",
       "</table>\n"
      ],
      "text/latex": [
       "A data.table: 2 × 2\n",
       "\\begin{tabular}{ll}\n",
       " family & n\\\\\n",
       " <chr> & <int>\\\\\n",
       "\\hline\n",
       "\t binomial &  742\\\\\n",
       "\t gaussian & 1030\\\\\n",
       "\\end{tabular}\n"
      ],
      "text/markdown": [
       "\n",
       "A data.table: 2 × 2\n",
       "\n",
       "| family &lt;chr&gt; | n &lt;int&gt; |\n",
       "|---|---|\n",
       "| binomial |  742 |\n",
       "| gaussian | 1030 |\n",
       "\n"
      ],
      "text/plain": [
       "  family   n   \n",
       "1 binomial  742\n",
       "2 gaussian 1030"
      ]
     },
     "metadata": {},
     "output_type": "display_data"
    }
   ],
   "source": [
    "eval_df %>% filter(split == 'test') %>% count(family)"
   ]
  },
  {
   "cell_type": "code",
   "execution_count": 28,
   "metadata": {},
   "outputs": [
    {
     "data": {
      "text/html": [
       "<table>\n",
       "<caption>A data.table: 19 × 2</caption>\n",
       "<thead>\n",
       "\t<tr><th scope=col>GBE_category</th><th scope=col>n</th></tr>\n",
       "\t<tr><th scope=col>&lt;chr&gt;</th><th scope=col>&lt;int&gt;</th></tr>\n",
       "</thead>\n",
       "<tbody>\n",
       "\t<tr><td>Disease_outcome           </td><td>457</td></tr>\n",
       "\t<tr><td>Health_and_medical_history</td><td> 84</td></tr>\n",
       "\t<tr><td>Lifestyle_and_environment </td><td> 49</td></tr>\n",
       "\t<tr><td>Mental_health             </td><td> 41</td></tr>\n",
       "\t<tr><td>cancer                    </td><td> 19</td></tr>\n",
       "\t<tr><td>Psychosocial_factors      </td><td> 18</td></tr>\n",
       "\t<tr><td>Blood_assays              </td><td> 14</td></tr>\n",
       "\t<tr><td>Diet_by_24-hour_recall    </td><td> 12</td></tr>\n",
       "\t<tr><td>Family_history            </td><td> 11</td></tr>\n",
       "\t<tr><td>Work_environment          </td><td>  8</td></tr>\n",
       "\t<tr><td>Digestive_health          </td><td>  7</td></tr>\n",
       "\t<tr><td>Eye_measures              </td><td>  6</td></tr>\n",
       "\t<tr><td>Cognitive_function        </td><td>  5</td></tr>\n",
       "\t<tr><td>Others                    </td><td>  4</td></tr>\n",
       "\t<tr><td>Brain_MRI                 </td><td>  3</td></tr>\n",
       "\t<tr><td>Bone-densitometry_of_heel </td><td>  1</td></tr>\n",
       "\t<tr><td>Early_life_factors        </td><td>  1</td></tr>\n",
       "\t<tr><td>ECG_at_rest,_12-lead      </td><td>  1</td></tr>\n",
       "\t<tr><td>Hospital_inpatient        </td><td>  1</td></tr>\n",
       "</tbody>\n",
       "</table>\n"
      ],
      "text/latex": [
       "A data.table: 19 × 2\n",
       "\\begin{tabular}{ll}\n",
       " GBE\\_category & n\\\\\n",
       " <chr> & <int>\\\\\n",
       "\\hline\n",
       "\t Disease\\_outcome            & 457\\\\\n",
       "\t Health\\_and\\_medical\\_history &  84\\\\\n",
       "\t Lifestyle\\_and\\_environment  &  49\\\\\n",
       "\t Mental\\_health              &  41\\\\\n",
       "\t cancer                     &  19\\\\\n",
       "\t Psychosocial\\_factors       &  18\\\\\n",
       "\t Blood\\_assays               &  14\\\\\n",
       "\t Diet\\_by\\_24-hour\\_recall     &  12\\\\\n",
       "\t Family\\_history             &  11\\\\\n",
       "\t Work\\_environment           &   8\\\\\n",
       "\t Digestive\\_health           &   7\\\\\n",
       "\t Eye\\_measures               &   6\\\\\n",
       "\t Cognitive\\_function         &   5\\\\\n",
       "\t Others                     &   4\\\\\n",
       "\t Brain\\_MRI                  &   3\\\\\n",
       "\t Bone-densitometry\\_of\\_heel  &   1\\\\\n",
       "\t Early\\_life\\_factors         &   1\\\\\n",
       "\t ECG\\_at\\_rest,\\_12-lead       &   1\\\\\n",
       "\t Hospital\\_inpatient         &   1\\\\\n",
       "\\end{tabular}\n"
      ],
      "text/markdown": [
       "\n",
       "A data.table: 19 × 2\n",
       "\n",
       "| GBE_category &lt;chr&gt; | n &lt;int&gt; |\n",
       "|---|---|\n",
       "| Disease_outcome            | 457 |\n",
       "| Health_and_medical_history |  84 |\n",
       "| Lifestyle_and_environment  |  49 |\n",
       "| Mental_health              |  41 |\n",
       "| cancer                     |  19 |\n",
       "| Psychosocial_factors       |  18 |\n",
       "| Blood_assays               |  14 |\n",
       "| Diet_by_24-hour_recall     |  12 |\n",
       "| Family_history             |  11 |\n",
       "| Work_environment           |   8 |\n",
       "| Digestive_health           |   7 |\n",
       "| Eye_measures               |   6 |\n",
       "| Cognitive_function         |   5 |\n",
       "| Others                     |   4 |\n",
       "| Brain_MRI                  |   3 |\n",
       "| Bone-densitometry_of_heel  |   1 |\n",
       "| Early_life_factors         |   1 |\n",
       "| ECG_at_rest,_12-lead       |   1 |\n",
       "| Hospital_inpatient         |   1 |\n",
       "\n"
      ],
      "text/plain": [
       "   GBE_category               n  \n",
       "1  Disease_outcome            457\n",
       "2  Health_and_medical_history  84\n",
       "3  Lifestyle_and_environment   49\n",
       "4  Mental_health               41\n",
       "5  cancer                      19\n",
       "6  Psychosocial_factors        18\n",
       "7  Blood_assays                14\n",
       "8  Diet_by_24-hour_recall      12\n",
       "9  Family_history              11\n",
       "10 Work_environment             8\n",
       "11 Digestive_health             7\n",
       "12 Eye_measures                 6\n",
       "13 Cognitive_function           5\n",
       "14 Others                       4\n",
       "15 Brain_MRI                    3\n",
       "16 Bone-densitometry_of_heel    1\n",
       "17 Early_life_factors           1\n",
       "18 ECG_at_rest,_12-lead         1\n",
       "19 Hospital_inpatient           1"
      ]
     },
     "metadata": {},
     "output_type": "display_data"
    }
   ],
   "source": [
    "eval_df %>% \n",
    "filter(split == 'test', family == 'binomial') %>% count(GBE_category) %>% arrange(-n)"
   ]
  },
  {
   "cell_type": "markdown",
   "metadata": {},
   "source": [
    "## Predictive performance vs. model size plot\n",
    "\n",
    "- x-axis: log10(number of variants in the PRS model), \n",
    "- y-axis: the delta in predictive performance (do color coding by gaussian, binomial, etc family)\n"
   ]
  },
  {
   "cell_type": "code",
   "execution_count": 124,
   "metadata": {},
   "outputs": [],
   "source": [
    "eval_df %>%\n",
    "filter(split == 'test', family == 'binomial') %>%\n",
    "ggplot(aes(x  = n_variables, y = geno_delta)) +\n",
    "geom_point() + scale_x_continuous(trans='log10') +\n",
    "theme_bw(base_size = 16) + labs(\n",
    "    title = 'Binomial models', x = 'Number of genetic variants', y = 'Incremental AUC'\n",
    ") -> p_geno_delta_vs_size_binomial\n"
   ]
  },
  {
   "cell_type": "code",
   "execution_count": 125,
   "metadata": {},
   "outputs": [],
   "source": [
    "eval_df %>%\n",
    "filter(split == 'test', family == 'gaussian') %>%\n",
    "ggplot(aes(x  = n_variables, y = geno_delta)) +\n",
    "geom_point() + scale_x_continuous(trans='log10') +\n",
    "theme_bw(base_size = 16) + labs(\n",
    "    title = 'Gaussian models', x = 'Number of genetic variants', y = latex2exp::TeX('Incremental r^2') \n",
    ") -> p_geno_delta_vs_size_gaussian\n"
   ]
  },
  {
   "cell_type": "code",
   "execution_count": 126,
   "metadata": {},
   "outputs": [],
   "source": [
    "for(ext in c('png', 'pdf')){ggsave(\n",
    "    sprintf('%s.%s', 'test_set_performance_vs_size', ext),\n",
    "    gridExtra::arrangeGrob(p_geno_delta_vs_size_binomial, p_geno_delta_vs_size_gaussian, ncol=2),\n",
    "    width=16, height=8\n",
    ")}\n"
   ]
  },
  {
   "cell_type": "markdown",
   "metadata": {},
   "source": [
    "## Trans-ethnic transferability\n",
    "\n",
    "Violin plot for fraction performance in each population split relative to test split performance in WB\n",
    "(so you’d have non-british white, s-asian, e-asian, african)"
   ]
  },
  {
   "cell_type": "code",
   "execution_count": 103,
   "metadata": {},
   "outputs": [],
   "source": [
    "eval_df %>% filter(split != 'train_val') %>% filter(geno_delta > 0.05) %>%\n",
    "select(GBE_ID, geno_delta, split) %>%\n",
    "spread(split, geno_delta) %>% mutate(\n",
    "    non_british_white = non_british_white / test,\n",
    "    african           = african / test,\n",
    "    s_asian           = s_asian / test,\n",
    "    e_asian           = e_asian / test\n",
    ") %>% select(-test) %>%\n",
    "gather(split, geno_delta_relative, -GBE_ID) %>% drop_na() %>%\n",
    "left_join(data.frame(\n",
    "    split = c('non_british_white', 's_asian', 'e_asian', 'african'),\n",
    "    split_plot = c('Non-British white', 'South Asian', 'East Asian', 'African'),\n",
    "    split_order=1:4, stringAsFactors=F\n",
    "), by='split') %>%\n",
    "ggplot(aes(x=reorder(split_plot, split_order), y=geno_delta_relative)) + \n",
    "geom_violin() + theme_bw(base_size = 16) + labs(\n",
    "    title = 'Trans-ethnic predictive performance',\n",
    "    x = 'Ancestry group in UK Biobank',\n",
    "    y = latex2exp::TeX('Incremental predictive performance relative to WB') \n",
    ") -> p_trans_ethnic\n"
   ]
  },
  {
   "cell_type": "code",
   "execution_count": 104,
   "metadata": {},
   "outputs": [],
   "source": [
    "eval_df %>% filter(split != 'train_val') %>%\n",
    "select(GBE_ID, geno_delta, split) %>%\n",
    "spread(split, geno_delta) %>% mutate(\n",
    "    non_british_white = non_british_white / test,\n",
    "    african           = african / test,\n",
    "    s_asian           = s_asian / test,\n",
    "    e_asian           = e_asian / test\n",
    ") %>% select(-test) %>%\n",
    "gather(split, geno_delta_relative, -GBE_ID) %>% drop_na() %>%\n",
    "left_join(data.frame(\n",
    "    split = c('non_british_white', 's_asian', 'e_asian', 'african'),\n",
    "    split_plot = c('Non-British white', 'South Asian', 'East Asian', 'African'),\n",
    "    split_order=1:4, stringAsFactors=F\n",
    "), by='split') %>%\n",
    "ggplot(aes(x=reorder(split_plot, split_order), y=geno_delta_relative)) + \n",
    "geom_violin() + theme_bw(base_size = 16) + labs(\n",
    "    title = 'Trans-ethnic predictive performance',\n",
    "    x = 'Ancestry group in UK Biobank',\n",
    "    y = latex2exp::TeX('Incremental predictive performance relative to WB') \n",
    ") -> p_trans_ethnic_full\n"
   ]
  },
  {
   "cell_type": "code",
   "execution_count": 121,
   "metadata": {},
   "outputs": [],
   "source": [
    "eval_df %>% filter(split != 'train_val') %>%\n",
    "select(GBE_ID, geno_delta, split) %>%\n",
    "spread(split, geno_delta) %>% \n",
    "gather(split, geno_delta, -GBE_ID, -test) %>% drop_na() %>%\n",
    "left_join(data.frame(\n",
    "    split = c('non_british_white', 's_asian', 'e_asian', 'african'),\n",
    "    split_plot = c('Non-British white', 'South Asian', 'East Asian', 'African')\n",
    "), by='split') %>%\n",
    "ggplot(aes(x = test, y = geno_delta, color=split_plot)) +\n",
    "geom_point(alpha = .5) + theme_bw(base_size = 16) + labs(\n",
    "    title = 'Trans-ethnic predictive performance',\n",
    "    x = 'Incremental predictive performance in WB',\n",
    "    y = latex2exp::TeX('Trans-ethnic incremental predictive performance'),\n",
    "    color = 'Ancestry group in UK Biobank'\n",
    ") + theme(legend.position = c(.3, .85)) +\n",
    "scale_color_manual(values=setNames(\n",
    "    c(cud4_colors()['gray'], cud4_colors()['green'], cud4_colors()['sky_blue'], cud4_colors()['red'] ),\n",
    "    c('Non-British white', 'South Asian', 'East Asian', 'African')\n",
    ")) -> p_trans_ethnic_scatter\n"
   ]
  },
  {
   "cell_type": "code",
   "execution_count": 105,
   "metadata": {},
   "outputs": [],
   "source": [
    "for(ext in c('png', 'pdf')){ggsave(\n",
    "    sprintf('%s.%s', 'trans_ethnic_violin', ext),\n",
    "    p_trans_ethnic,\n",
    "    width=8, height=8\n",
    ")}\n"
   ]
  },
  {
   "cell_type": "code",
   "execution_count": 106,
   "metadata": {},
   "outputs": [],
   "source": [
    "for(ext in c('png', 'pdf')){ggsave(\n",
    "    sprintf('%s.%s', 'trans_ethnic_full_violin', ext),\n",
    "    p_trans_ethnic_full,\n",
    "    width=8, height=8\n",
    ")}\n"
   ]
  },
  {
   "cell_type": "code",
   "execution_count": 122,
   "metadata": {},
   "outputs": [],
   "source": [
    "for(ext in c('png', 'pdf')){ggsave(\n",
    "    sprintf('%s.%s', 'trans_ethnic_scatter', ext),\n",
    "    p_trans_ethnic_scatter,\n",
    "    width=8, height=8\n",
    ")}\n"
   ]
  },
  {
   "cell_type": "markdown",
   "metadata": {},
   "source": [
    "## Predictive performance\n",
    "\n",
    "- histogram of the delta performance across the traits (maybe split for binary and gaussian)\n"
   ]
  },
  {
   "cell_type": "code",
   "execution_count": 128,
   "metadata": {},
   "outputs": [],
   "source": [
    "eval_df %>%\n",
    "filter(split == 'test', family == 'binomial') %>%\n",
    "ggplot(aes(x = geno_delta)) +\n",
    "geom_histogram(bins=30) + theme_bw(base_size = 16) + labs(\n",
    "    title = 'Binomial models', x = 'Incremental AUC'\n",
    ") -> p_geno_delta_binomial\n"
   ]
  },
  {
   "cell_type": "code",
   "execution_count": 130,
   "metadata": {},
   "outputs": [],
   "source": [
    "eval_df %>%\n",
    "filter(split == 'test', family == 'gaussian') %>%\n",
    "ggplot(aes(x = geno_delta)) +\n",
    "geom_histogram(bins=30) + theme_bw(base_size = 16) + labs(\n",
    "    title = 'Gaussian models', x = 'Number of genetic variants', y = latex2exp::TeX('Incremental r^2') \n",
    ") -> p_geno_delta_gaussian\n"
   ]
  },
  {
   "cell_type": "code",
   "execution_count": 132,
   "metadata": {},
   "outputs": [],
   "source": [
    "for(ext in c('png', 'pdf')){ggsave(\n",
    "    sprintf('%s.%s', 'test_set_performance', ext),\n",
    "    gridExtra::arrangeGrob(p_geno_delta_binomial, p_geno_delta_gaussian, ncol=2),\n",
    "    width=16, height=8\n",
    ")}\n"
   ]
  },
  {
   "cell_type": "code",
   "execution_count": null,
   "metadata": {},
   "outputs": [],
   "source": []
  }
 ],
 "metadata": {
  "kernelspec": {
   "display_name": "R",
   "language": "R",
   "name": "ir"
  },
  "language_info": {
   "codemirror_mode": "r",
   "file_extension": ".r",
   "mimetype": "text/x-r-source",
   "name": "R",
   "pygments_lexer": "r",
   "version": "3.6.2"
  }
 },
 "nbformat": 4,
 "nbformat_minor": 4
}

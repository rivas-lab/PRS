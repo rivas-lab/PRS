{
 "cells": [
  {
   "cell_type": "code",
   "execution_count": 1,
   "metadata": {},
   "outputs": [],
   "source": [
    "suppressWarnings(suppressPackageStartupMessages({\n",
    "    library(tidyverse)\n",
    "    library(data.table)\n",
    "}))\n"
   ]
  },
  {
   "cell_type": "code",
   "execution_count": 2,
   "metadata": {},
   "outputs": [],
   "source": [
    "source('0_parameters.sh')\n"
   ]
  },
  {
   "cell_type": "code",
   "execution_count": 3,
   "metadata": {},
   "outputs": [
    {
     "name": "stderr",
     "output_type": "stream",
     "text": [
      "Loading cud4\n",
      "\n"
     ]
    }
   ],
   "source": [
    "devtools::load_all('/oak/stanford/groups/mrivas/users/ytanigaw/repos/yk-tanigawa/cud4')\n"
   ]
  },
  {
   "cell_type": "code",
   "execution_count": 4,
   "metadata": {},
   "outputs": [],
   "source": [
    "file.path(data_d, 'trait_info.tsv') %>%\n",
    "fread() %>% rename('GBE_category'='#GBE_category') -> trait_info_df\n"
   ]
  },
  {
   "cell_type": "code",
   "execution_count": 5,
   "metadata": {},
   "outputs": [
    {
     "data": {
      "text/html": [
       "<style>\n",
       ".list-inline {list-style: none; margin:0; padding: 0}\n",
       ".list-inline>li {display: inline-block}\n",
       ".list-inline>li:not(:last-child)::after {content: \"\\00b7\"; padding: 0 .5ex}\n",
       "</style>\n",
       "<ol class=list-inline><li>'GBE_category'</li><li>'GBE_ID'</li><li>'N'</li><li>'N_GBE'</li><li>'N_NBW'</li><li>'N_AFR'</li><li>'N_SAS'</li><li>'N_EAS'</li><li>'N_SMR'</li><li>'N_OTH'</li><li>'N_META'</li><li>'GBE_NAME'</li><li>'GBE_short_name'</li><li>'GBE_short_name_len'</li></ol>\n"
      ],
      "text/latex": [
       "\\begin{enumerate*}\n",
       "\\item 'GBE\\_category'\n",
       "\\item 'GBE\\_ID'\n",
       "\\item 'N'\n",
       "\\item 'N\\_GBE'\n",
       "\\item 'N\\_NBW'\n",
       "\\item 'N\\_AFR'\n",
       "\\item 'N\\_SAS'\n",
       "\\item 'N\\_EAS'\n",
       "\\item 'N\\_SMR'\n",
       "\\item 'N\\_OTH'\n",
       "\\item 'N\\_META'\n",
       "\\item 'GBE\\_NAME'\n",
       "\\item 'GBE\\_short\\_name'\n",
       "\\item 'GBE\\_short\\_name\\_len'\n",
       "\\end{enumerate*}\n"
      ],
      "text/markdown": [
       "1. 'GBE_category'\n",
       "2. 'GBE_ID'\n",
       "3. 'N'\n",
       "4. 'N_GBE'\n",
       "5. 'N_NBW'\n",
       "6. 'N_AFR'\n",
       "7. 'N_SAS'\n",
       "8. 'N_EAS'\n",
       "9. 'N_SMR'\n",
       "10. 'N_OTH'\n",
       "11. 'N_META'\n",
       "12. 'GBE_NAME'\n",
       "13. 'GBE_short_name'\n",
       "14. 'GBE_short_name_len'\n",
       "\n",
       "\n"
      ],
      "text/plain": [
       " [1] \"GBE_category\"       \"GBE_ID\"             \"N\"                 \n",
       " [4] \"N_GBE\"              \"N_NBW\"              \"N_AFR\"             \n",
       " [7] \"N_SAS\"              \"N_EAS\"              \"N_SMR\"             \n",
       "[10] \"N_OTH\"              \"N_META\"             \"GBE_NAME\"          \n",
       "[13] \"GBE_short_name\"     \"GBE_short_name_len\""
      ]
     },
     "metadata": {},
     "output_type": "display_data"
    }
   ],
   "source": [
    "trait_info_df %>% colnames()"
   ]
  },
  {
   "cell_type": "code",
   "execution_count": 6,
   "metadata": {},
   "outputs": [],
   "source": [
    "mrp_blacklist_f %>% fread(head=F) %>% pull() -> mrp_blacklist\n"
   ]
  },
  {
   "cell_type": "code",
   "execution_count": 7,
   "metadata": {},
   "outputs": [],
   "source": [
    "file.path(res_d, PRS_pval_f) %>% fread() %>%\n",
    "rename('phe'='#phe') -> PRS_pval_df\n"
   ]
  },
  {
   "cell_type": "code",
   "execution_count": 34,
   "metadata": {},
   "outputs": [],
   "source": [
    "file.path(data_d, 'snpnet.eval.2_refit.tsv') %>%\n",
    "fread(colClasses = c('#GBE_ID'='character')) %>%\n",
    "rename('GBE_ID'='#GBE_ID') %>%\n",
    "filter(GBE_ID %in% trait_info_df$GBE_ID) %>%\n",
    "left_join(\n",
    "    PRS_pval_df %>% filter(variable == 'PRS') %>%\n",
    "    select(phe, P) %>% rename('WB_test_P' = 'P'),\n",
    "    by=c('GBE_ID'='phe')\n",
    ") %>%\n",
    "left_join(trait_info_df %>% select(GBE_ID, GBE_category, GBE_short_name), by='GBE_ID') %>%\n",
    "filter(!GBE_ID %in% mrp_blacklist) -> eval_full_df\n"
   ]
  },
  {
   "cell_type": "code",
   "execution_count": 35,
   "metadata": {},
   "outputs": [
    {
     "data": {
      "text/html": [
       "<table class=\"dataframe\">\n",
       "<caption>A data.table: 2 × 2</caption>\n",
       "<thead>\n",
       "\t<tr><th></th><th scope=col>family</th><th scope=col>n</th></tr>\n",
       "\t<tr><th></th><th scope=col>&lt;chr&gt;</th><th scope=col>&lt;int&gt;</th></tr>\n",
       "</thead>\n",
       "<tbody>\n",
       "\t<tr><th scope=row>1</th><td>binomial</td><td>708</td></tr>\n",
       "\t<tr><th scope=row>2</th><td>gaussian</td><td>909</td></tr>\n",
       "</tbody>\n",
       "</table>\n"
      ],
      "text/latex": [
       "A data.table: 2 × 2\n",
       "\\begin{tabular}{r|ll}\n",
       "  & family & n\\\\\n",
       "  & <chr> & <int>\\\\\n",
       "\\hline\n",
       "\t1 & binomial & 708\\\\\n",
       "\t2 & gaussian & 909\\\\\n",
       "\\end{tabular}\n"
      ],
      "text/markdown": [
       "\n",
       "A data.table: 2 × 2\n",
       "\n",
       "| <!--/--> | family &lt;chr&gt; | n &lt;int&gt; |\n",
       "|---|---|---|\n",
       "| 1 | binomial | 708 |\n",
       "| 2 | gaussian | 909 |\n",
       "\n"
      ],
      "text/plain": [
       "  family   n  \n",
       "1 binomial 708\n",
       "2 gaussian 909"
      ]
     },
     "metadata": {},
     "output_type": "display_data"
    }
   ],
   "source": [
    "eval_full_df %>% filter(split == 'test') %>% count(family)"
   ]
  },
  {
   "cell_type": "code",
   "execution_count": 36,
   "metadata": {},
   "outputs": [
    {
     "data": {
      "text/html": [
       "<table class=\"dataframe\">\n",
       "<caption>A data.table: 2 × 2</caption>\n",
       "<thead>\n",
       "\t<tr><th></th><th scope=col>family</th><th scope=col>n</th></tr>\n",
       "\t<tr><th></th><th scope=col>&lt;chr&gt;</th><th scope=col>&lt;int&gt;</th></tr>\n",
       "</thead>\n",
       "<tbody>\n",
       "\t<tr><th scope=row>1</th><td>binomial</td><td>242</td></tr>\n",
       "\t<tr><th scope=row>2</th><td>gaussian</td><td>186</td></tr>\n",
       "</tbody>\n",
       "</table>\n"
      ],
      "text/latex": [
       "A data.table: 2 × 2\n",
       "\\begin{tabular}{r|ll}\n",
       "  & family & n\\\\\n",
       "  & <chr> & <int>\\\\\n",
       "\\hline\n",
       "\t1 & binomial & 242\\\\\n",
       "\t2 & gaussian & 186\\\\\n",
       "\\end{tabular}\n"
      ],
      "text/markdown": [
       "\n",
       "A data.table: 2 × 2\n",
       "\n",
       "| <!--/--> | family &lt;chr&gt; | n &lt;int&gt; |\n",
       "|---|---|---|\n",
       "| 1 | binomial | 242 |\n",
       "| 2 | gaussian | 186 |\n",
       "\n"
      ],
      "text/plain": [
       "  family   n  \n",
       "1 binomial 242\n",
       "2 gaussian 186"
      ]
     },
     "metadata": {},
     "output_type": "display_data"
    }
   ],
   "source": [
    "eval_full_df %>% filter(WB_test_P < (0.05 / 2000)) %>% filter(split == 'test') %>% count(family)"
   ]
  },
  {
   "cell_type": "code",
   "execution_count": 37,
   "metadata": {},
   "outputs": [],
   "source": [
    "eval_full_df %>% filter(WB_test_P < (0.05 / 2000)) -> eval_df\n"
   ]
  },
  {
   "cell_type": "code",
   "execution_count": 38,
   "metadata": {},
   "outputs": [
    {
     "data": {
      "text/html": [
       "<table class=\"dataframe\">\n",
       "<caption>A data.table: 0 × 14</caption>\n",
       "<thead>\n",
       "\t<tr><th scope=col>GBE_ID</th><th scope=col>split</th><th scope=col>geno</th><th scope=col>covar</th><th scope=col>geno_covar</th><th scope=col>geno_delta</th><th scope=col>n_variables</th><th scope=col>family</th><th scope=col>n</th><th scope=col>case_n</th><th scope=col>control_n</th><th scope=col>WB_test_P</th><th scope=col>GBE_category</th><th scope=col>GBE_short_name</th></tr>\n",
       "\t<tr><th scope=col>&lt;chr&gt;</th><th scope=col>&lt;chr&gt;</th><th scope=col>&lt;dbl&gt;</th><th scope=col>&lt;dbl&gt;</th><th scope=col>&lt;dbl&gt;</th><th scope=col>&lt;dbl&gt;</th><th scope=col>&lt;int&gt;</th><th scope=col>&lt;chr&gt;</th><th scope=col>&lt;int&gt;</th><th scope=col>&lt;int&gt;</th><th scope=col>&lt;int&gt;</th><th scope=col>&lt;dbl&gt;</th><th scope=col>&lt;chr&gt;</th><th scope=col>&lt;chr&gt;</th></tr>\n",
       "</thead>\n",
       "<tbody>\n",
       "</tbody>\n",
       "</table>\n"
      ],
      "text/latex": [
       "A data.table: 0 × 14\n",
       "\\begin{tabular}{llllllllllllll}\n",
       " GBE\\_ID & split & geno & covar & geno\\_covar & geno\\_delta & n\\_variables & family & n & case\\_n & control\\_n & WB\\_test\\_P & GBE\\_category & GBE\\_short\\_name\\\\\n",
       " <chr> & <chr> & <dbl> & <dbl> & <dbl> & <dbl> & <int> & <chr> & <int> & <int> & <int> & <dbl> & <chr> & <chr>\\\\\n",
       "\\hline\n",
       "\\end{tabular}\n"
      ],
      "text/markdown": [
       "\n",
       "A data.table: 0 × 14\n",
       "\n",
       "| GBE_ID &lt;chr&gt; | split &lt;chr&gt; | geno &lt;dbl&gt; | covar &lt;dbl&gt; | geno_covar &lt;dbl&gt; | geno_delta &lt;dbl&gt; | n_variables &lt;int&gt; | family &lt;chr&gt; | n &lt;int&gt; | case_n &lt;int&gt; | control_n &lt;int&gt; | WB_test_P &lt;dbl&gt; | GBE_category &lt;chr&gt; | GBE_short_name &lt;chr&gt; |\n",
       "|---|---|---|---|---|---|---|---|---|---|---|---|---|---|\n",
       "\n"
      ],
      "text/plain": [
       "     GBE_ID split geno covar geno_covar geno_delta n_variables family n case_n\n",
       "     control_n WB_test_P GBE_category GBE_short_name"
      ]
     },
     "metadata": {},
     "output_type": "display_data"
    }
   ],
   "source": [
    "eval_df %>% filter(split == 'test') %>% \n",
    "filter(GBE_ID %in% c(\n",
    "    'BIN_FC20020488', \n",
    "    'QT_FC10021057', 'QT_FC21057', \n",
    "    'QT_FC10003476', 'QT_FC1003476',\n",
    "    'BIN3571', 'BIN_FC10003571'\n",
    "))"
   ]
  },
  {
   "cell_type": "code",
   "execution_count": 39,
   "metadata": {},
   "outputs": [
    {
     "data": {
      "text/html": [
       "<table class=\"dataframe\">\n",
       "<caption>A data.table: 12 × 2</caption>\n",
       "<thead>\n",
       "\t<tr><th scope=col>GBE_category</th><th scope=col>n</th></tr>\n",
       "\t<tr><th scope=col>&lt;chr&gt;</th><th scope=col>&lt;int&gt;</th></tr>\n",
       "</thead>\n",
       "<tbody>\n",
       "\t<tr><td>Disease_outcome           </td><td>138</td></tr>\n",
       "\t<tr><td>Lifestyle_and_environment </td><td> 35</td></tr>\n",
       "\t<tr><td>Health_and_medical_history</td><td> 31</td></tr>\n",
       "\t<tr><td>cancer                    </td><td>  9</td></tr>\n",
       "\t<tr><td>Psychosocial_factors      </td><td>  9</td></tr>\n",
       "\t<tr><td>Family_history            </td><td>  7</td></tr>\n",
       "\t<tr><td>Others                    </td><td>  4</td></tr>\n",
       "\t<tr><td>Work_environment          </td><td>  3</td></tr>\n",
       "\t<tr><td>Blood_assays              </td><td>  2</td></tr>\n",
       "\t<tr><td>Diet_by_24-hour_recall    </td><td>  2</td></tr>\n",
       "\t<tr><td>Digestive_health          </td><td>  1</td></tr>\n",
       "\t<tr><td>Mental_health             </td><td>  1</td></tr>\n",
       "</tbody>\n",
       "</table>\n"
      ],
      "text/latex": [
       "A data.table: 12 × 2\n",
       "\\begin{tabular}{ll}\n",
       " GBE\\_category & n\\\\\n",
       " <chr> & <int>\\\\\n",
       "\\hline\n",
       "\t Disease\\_outcome            & 138\\\\\n",
       "\t Lifestyle\\_and\\_environment  &  35\\\\\n",
       "\t Health\\_and\\_medical\\_history &  31\\\\\n",
       "\t cancer                     &   9\\\\\n",
       "\t Psychosocial\\_factors       &   9\\\\\n",
       "\t Family\\_history             &   7\\\\\n",
       "\t Others                     &   4\\\\\n",
       "\t Work\\_environment           &   3\\\\\n",
       "\t Blood\\_assays               &   2\\\\\n",
       "\t Diet\\_by\\_24-hour\\_recall     &   2\\\\\n",
       "\t Digestive\\_health           &   1\\\\\n",
       "\t Mental\\_health              &   1\\\\\n",
       "\\end{tabular}\n"
      ],
      "text/markdown": [
       "\n",
       "A data.table: 12 × 2\n",
       "\n",
       "| GBE_category &lt;chr&gt; | n &lt;int&gt; |\n",
       "|---|---|\n",
       "| Disease_outcome            | 138 |\n",
       "| Lifestyle_and_environment  |  35 |\n",
       "| Health_and_medical_history |  31 |\n",
       "| cancer                     |   9 |\n",
       "| Psychosocial_factors       |   9 |\n",
       "| Family_history             |   7 |\n",
       "| Others                     |   4 |\n",
       "| Work_environment           |   3 |\n",
       "| Blood_assays               |   2 |\n",
       "| Diet_by_24-hour_recall     |   2 |\n",
       "| Digestive_health           |   1 |\n",
       "| Mental_health              |   1 |\n",
       "\n"
      ],
      "text/plain": [
       "   GBE_category               n  \n",
       "1  Disease_outcome            138\n",
       "2  Lifestyle_and_environment   35\n",
       "3  Health_and_medical_history  31\n",
       "4  cancer                       9\n",
       "5  Psychosocial_factors         9\n",
       "6  Family_history               7\n",
       "7  Others                       4\n",
       "8  Work_environment             3\n",
       "9  Blood_assays                 2\n",
       "10 Diet_by_24-hour_recall       2\n",
       "11 Digestive_health             1\n",
       "12 Mental_health                1"
      ]
     },
     "metadata": {},
     "output_type": "display_data"
    }
   ],
   "source": [
    "eval_df %>% \n",
    "filter(split == 'test', family == 'binomial') %>%\n",
    "count(GBE_category) %>% arrange(-n)\n"
   ]
  },
  {
   "cell_type": "markdown",
   "metadata": {},
   "source": [
    "## Predictive performance vs. model size plot\n",
    "\n",
    "- x-axis: log10(number of variants in the PRS model), \n",
    "- y-axis: the delta in predictive performance (do color coding by gaussian, binomial, etc family)\n"
   ]
  },
  {
   "cell_type": "code",
   "execution_count": 40,
   "metadata": {},
   "outputs": [],
   "source": [
    "eval_df %>%\n",
    "filter(split == 'test', family == 'binomial') %>%\n",
    "ggplot(aes(x  = n_variables, y = geno_delta)) +\n",
    "geom_hline(yintercept = 0.05, color='red') +\n",
    "geom_point() + scale_x_continuous(trans='log10') +\n",
    "theme_bw(base_size = 16) + labs(\n",
    "    title = 'Binomial models', x = 'Number of genetic variants', y = 'Incremental AUC'\n",
    ") -> p_geno_delta_vs_size_binomial\n"
   ]
  },
  {
   "cell_type": "code",
   "execution_count": 42,
   "metadata": {},
   "outputs": [],
   "source": [
    "eval_df %>%\n",
    "filter(split == 'test', family == 'gaussian') %>%\n",
    "ggplot(aes(x  = n_variables, y = geno_delta)) +\n",
    "geom_hline(yintercept = 0.05, color='red') +\n",
    "geom_point() + scale_x_continuous(trans='log10') +\n",
    "theme_bw(base_size = 16) + labs(\n",
    "    title = 'Gaussian models', x = 'Number of genetic variants', y = latex2exp::TeX('Incremental r^2') \n",
    ") -> p_geno_delta_vs_size_gaussian\n"
   ]
  },
  {
   "cell_type": "code",
   "execution_count": 50,
   "metadata": {},
   "outputs": [],
   "source": [
    "for(ext in c('png', 'pdf')){ggsave(\n",
    "    sprintf('%s.%s', 'test_set_performance_vs_size', ext),\n",
    "    gridExtra::arrangeGrob(p_geno_delta_vs_size_binomial, p_geno_delta_vs_size_gaussian, ncol=2),\n",
    "    width=16, height=8\n",
    ")}\n"
   ]
  },
  {
   "cell_type": "markdown",
   "metadata": {},
   "source": [
    "## Trans-ethnic transferability\n",
    "\n",
    "Violin plot for fraction performance in each population split relative to test split performance in WB\n",
    "(so you’d have non-british white, s-asian, e-asian, african)"
   ]
  },
  {
   "cell_type": "code",
   "execution_count": 29,
   "metadata": {},
   "outputs": [],
   "source": [
    "eval_to_transethnic_eval_df <- function(eval_df, metric_col){\n",
    "    eval_df %>% filter(split != 'train_val') %>%\n",
    "    rename(!!'metric_col__' := all_of(metric_col)) %>%\n",
    "    select(GBE_ID, metric_col__, split) %>%\n",
    "    spread(split,  metric_col__) %>%\n",
    "    mutate(\n",
    "        non_british_white = non_british_white / test,\n",
    "        african           = african / test,\n",
    "        s_asian           = s_asian / test,\n",
    "        e_asian           = e_asian / test\n",
    "    ) %>% select(-test) %>%\n",
    "    gather(split, eval_relative, -GBE_ID) %>% drop_na() %>%\n",
    "    left_join(data.frame(\n",
    "        split = c('non_british_white', 's_asian', 'e_asian', 'african'),\n",
    "        split_plot = c('Non-British white', 'South Asian', 'East Asian', 'African'),\n",
    "        split_order=1:4, stringsAsFactors=F\n",
    "    ), by='split') %>% \n",
    "    left_join(\n",
    "        eval_df %>% select(GBE_ID, split, geno, covar, geno_covar, geno_delta, family),\n",
    "        by=c('GBE_ID', 'split')\n",
    "    ) %>%\n",
    "    rename(!!sprintf('%s_relative', metric_col) :=eval_relative)    \n",
    "}\n"
   ]
  },
  {
   "cell_type": "code",
   "execution_count": 30,
   "metadata": {},
   "outputs": [],
   "source": [
    "get_filtered_GBE_IDs <- function(eval_df, metric_col, metric_threshold){\n",
    "    eval_df %>% \n",
    "    rename(!!'metric_col__' := all_of(metric_col)) %>%\n",
    "    filter(split == 'test', metric_col__ > metric_threshold) %>%\n",
    "    pull(GBE_ID)\n",
    "}\n"
   ]
  },
  {
   "cell_type": "code",
   "execution_count": 31,
   "metadata": {},
   "outputs": [],
   "source": [
    "plot_violin <- function(transethnic_df, metric_col){\n",
    "    transethnic_df %>%\n",
    "    rename(!!'metric_col__' := sprintf('%s_relative', metric_col)) %>%\n",
    "    ggplot(aes(x=reorder(split_plot, split_order), y=metric_col__)) + \n",
    "    geom_hline(yintercept = 1, color='gray') +\n",
    "    geom_violin() + geom_jitter(height = 0, width = 0.3, alpha=.2) +\n",
    "    theme_bw(base_size = 16) + labs(x = 'Ancestry group in UK Biobank', y = metric_col)\n",
    "}"
   ]
  },
  {
   "cell_type": "code",
   "execution_count": 32,
   "metadata": {},
   "outputs": [],
   "source": [
    "plot_scatter <- function(eval_df, metric_col){\n",
    "    eval_df %>%\n",
    "    rename(!!'metric_col__' := all_of(metric_col)) %>%\n",
    "    select(GBE_ID, metric_col__, split) %>%\n",
    "    spread(split, metric_col__) %>% \n",
    "    gather(split, metric_col__, -GBE_ID, -test) %>% drop_na() %>%\n",
    "    left_join(data.frame(\n",
    "        split = c('non_british_white', 's_asian', 'e_asian', 'african'),\n",
    "        split_plot = c('Non-British white', 'South Asian', 'East Asian', 'African')\n",
    "    ), by='split') %>%\n",
    "    ggplot(aes(x = test, y = metric_col__, color=split_plot)) +\n",
    "    geom_point(alpha = .3) + theme_bw(base_size = 16) + labs(\n",
    "        x = 'Incremental predictive performance in WB',\n",
    "        y = metric_col,\n",
    "        color = 'Ancestry group in UK Biobank'\n",
    "    ) + theme(legend.position = c(.3, .85)) +\n",
    "    scale_color_manual(values=setNames(\n",
    "        c(cud4_colors()['gray'], cud4_colors()['green'], cud4_colors()['sky_blue'], cud4_colors()['red'] ),\n",
    "        c('Non-British white', 'South Asian', 'East Asian', 'African')\n",
    "    ))\n",
    "}\n"
   ]
  },
  {
   "cell_type": "code",
   "execution_count": 33,
   "metadata": {},
   "outputs": [],
   "source": [
    "plot_histogram <- function(eval_df, metric_col, metric_threshold){\n",
    "    eval_df %>%\n",
    "    rename(!!'metric_col__' := all_of(metric_col)) %>%    \n",
    "    ggplot(aes(x = metric_col__)) +\n",
    "    geom_vline(xintercept = metric_threshold, color='red') +\n",
    "    geom_histogram(bins=30) + theme_bw(base_size = 16) + labs(x = metric_col)\n",
    "}\n"
   ]
  },
  {
   "cell_type": "code",
   "execution_count": 46,
   "metadata": {},
   "outputs": [
    {
     "data": {
      "text/html": [
       "<table class=\"dataframe\">\n",
       "<caption>A data.frame: 8 × 3</caption>\n",
       "<thead>\n",
       "\t<tr><th scope=col>family</th><th scope=col>split</th><th scope=col>n</th></tr>\n",
       "\t<tr><th scope=col>&lt;chr&gt;</th><th scope=col>&lt;chr&gt;</th><th scope=col>&lt;int&gt;</th></tr>\n",
       "</thead>\n",
       "<tbody>\n",
       "\t<tr><td>binomial</td><td>african          </td><td>242</td></tr>\n",
       "\t<tr><td>binomial</td><td>e_asian          </td><td>227</td></tr>\n",
       "\t<tr><td>binomial</td><td>non_british_white</td><td>242</td></tr>\n",
       "\t<tr><td>binomial</td><td>s_asian          </td><td>241</td></tr>\n",
       "\t<tr><td>gaussian</td><td>african          </td><td>186</td></tr>\n",
       "\t<tr><td>gaussian</td><td>e_asian          </td><td>186</td></tr>\n",
       "\t<tr><td>gaussian</td><td>non_british_white</td><td>186</td></tr>\n",
       "\t<tr><td>gaussian</td><td>s_asian          </td><td>186</td></tr>\n",
       "</tbody>\n",
       "</table>\n"
      ],
      "text/latex": [
       "A data.frame: 8 × 3\n",
       "\\begin{tabular}{lll}\n",
       " family & split & n\\\\\n",
       " <chr> & <chr> & <int>\\\\\n",
       "\\hline\n",
       "\t binomial & african           & 242\\\\\n",
       "\t binomial & e\\_asian           & 227\\\\\n",
       "\t binomial & non\\_british\\_white & 242\\\\\n",
       "\t binomial & s\\_asian           & 241\\\\\n",
       "\t gaussian & african           & 186\\\\\n",
       "\t gaussian & e\\_asian           & 186\\\\\n",
       "\t gaussian & non\\_british\\_white & 186\\\\\n",
       "\t gaussian & s\\_asian           & 186\\\\\n",
       "\\end{tabular}\n"
      ],
      "text/markdown": [
       "\n",
       "A data.frame: 8 × 3\n",
       "\n",
       "| family &lt;chr&gt; | split &lt;chr&gt; | n &lt;int&gt; |\n",
       "|---|---|---|\n",
       "| binomial | african           | 242 |\n",
       "| binomial | e_asian           | 227 |\n",
       "| binomial | non_british_white | 242 |\n",
       "| binomial | s_asian           | 241 |\n",
       "| gaussian | african           | 186 |\n",
       "| gaussian | e_asian           | 186 |\n",
       "| gaussian | non_british_white | 186 |\n",
       "| gaussian | s_asian           | 186 |\n",
       "\n"
      ],
      "text/plain": [
       "  family   split             n  \n",
       "1 binomial african           242\n",
       "2 binomial e_asian           227\n",
       "3 binomial non_british_white 242\n",
       "4 binomial s_asian           241\n",
       "5 gaussian african           186\n",
       "6 gaussian e_asian           186\n",
       "7 gaussian non_british_white 186\n",
       "8 gaussian s_asian           186"
      ]
     },
     "metadata": {},
     "output_type": "display_data"
    }
   ],
   "source": [
    "eval_df %>% \n",
    "eval_to_transethnic_eval_df('geno_delta') %>%\n",
    "count(family, split)"
   ]
  },
  {
   "cell_type": "code",
   "execution_count": 44,
   "metadata": {},
   "outputs": [
    {
     "data": {
      "text/html": [
       "<table class=\"dataframe\">\n",
       "<caption>A data.frame: 8 × 3</caption>\n",
       "<thead>\n",
       "\t<tr><th scope=col>family</th><th scope=col>split</th><th scope=col>n</th></tr>\n",
       "\t<tr><th scope=col>&lt;chr&gt;</th><th scope=col>&lt;chr&gt;</th><th scope=col>&lt;int&gt;</th></tr>\n",
       "</thead>\n",
       "<tbody>\n",
       "\t<tr><td>binomial</td><td>african          </td><td> 59</td></tr>\n",
       "\t<tr><td>binomial</td><td>e_asian          </td><td> 46</td></tr>\n",
       "\t<tr><td>binomial</td><td>non_british_white</td><td> 59</td></tr>\n",
       "\t<tr><td>binomial</td><td>s_asian          </td><td> 59</td></tr>\n",
       "\t<tr><td>gaussian</td><td>african          </td><td>100</td></tr>\n",
       "\t<tr><td>gaussian</td><td>e_asian          </td><td>100</td></tr>\n",
       "\t<tr><td>gaussian</td><td>non_british_white</td><td>100</td></tr>\n",
       "\t<tr><td>gaussian</td><td>s_asian          </td><td>100</td></tr>\n",
       "</tbody>\n",
       "</table>\n"
      ],
      "text/latex": [
       "A data.frame: 8 × 3\n",
       "\\begin{tabular}{lll}\n",
       " family & split & n\\\\\n",
       " <chr> & <chr> & <int>\\\\\n",
       "\\hline\n",
       "\t binomial & african           &  59\\\\\n",
       "\t binomial & e\\_asian           &  46\\\\\n",
       "\t binomial & non\\_british\\_white &  59\\\\\n",
       "\t binomial & s\\_asian           &  59\\\\\n",
       "\t gaussian & african           & 100\\\\\n",
       "\t gaussian & e\\_asian           & 100\\\\\n",
       "\t gaussian & non\\_british\\_white & 100\\\\\n",
       "\t gaussian & s\\_asian           & 100\\\\\n",
       "\\end{tabular}\n"
      ],
      "text/markdown": [
       "\n",
       "A data.frame: 8 × 3\n",
       "\n",
       "| family &lt;chr&gt; | split &lt;chr&gt; | n &lt;int&gt; |\n",
       "|---|---|---|\n",
       "| binomial | african           |  59 |\n",
       "| binomial | e_asian           |  46 |\n",
       "| binomial | non_british_white |  59 |\n",
       "| binomial | s_asian           |  59 |\n",
       "| gaussian | african           | 100 |\n",
       "| gaussian | e_asian           | 100 |\n",
       "| gaussian | non_british_white | 100 |\n",
       "| gaussian | s_asian           | 100 |\n",
       "\n"
      ],
      "text/plain": [
       "  family   split             n  \n",
       "1 binomial african            59\n",
       "2 binomial e_asian            46\n",
       "3 binomial non_british_white  59\n",
       "4 binomial s_asian            59\n",
       "5 gaussian african           100\n",
       "6 gaussian e_asian           100\n",
       "7 gaussian non_british_white 100\n",
       "8 gaussian s_asian           100"
      ]
     },
     "metadata": {},
     "output_type": "display_data"
    }
   ],
   "source": [
    "eval_df %>% \n",
    "eval_to_transethnic_eval_df('geno_delta') %>%\n",
    "filter(GBE_ID %in% get_filtered_GBE_IDs(eval_df, 'geno_delta', 0.05)) %>%\n",
    "count(family, split)"
   ]
  },
  {
   "cell_type": "code",
   "execution_count": 48,
   "metadata": {},
   "outputs": [],
   "source": [
    "for(metric in c('geno_delta', 'geno', 'geno_covar', 'covar')){\n",
    "    for(ext in c('png', 'pdf')){ggsave(\n",
    "        sprintf('%s.%s', sprintf('trans-ethnic_%s_violin', metric), ext),\n",
    "        gridExtra::arrangeGrob(\n",
    "            eval_df %>% \n",
    "            eval_to_transethnic_eval_df(metric) %>%\n",
    "            filter(GBE_ID %in% get_filtered_GBE_IDs(eval_df, metric, 0.05)) %>%\n",
    "            filter(family == 'binomial') %>%\n",
    "            plot_violin(metric) + labs(\n",
    "                title = 'Binomial models',\n",
    "                y = latex2exp::TeX('Incremental AUC relative to WB') \n",
    "            ),\n",
    "\n",
    "            eval_df %>% \n",
    "            eval_to_transethnic_eval_df(metric) %>%\n",
    "            filter(GBE_ID %in% get_filtered_GBE_IDs(eval_df, metric, 0.05)) %>%\n",
    "            filter(family == 'gaussian') %>%\n",
    "            plot_violin(metric) + labs(\n",
    "                title = 'Gaussian models',\n",
    "                y = latex2exp::TeX('Incremental r^2 relative to WB') \n",
    "            ),\n",
    "\n",
    "            ncol=2\n",
    "        ),\n",
    "        width=16, height=8\n",
    "    )}    \n",
    "}\n"
   ]
  },
  {
   "cell_type": "code",
   "execution_count": 49,
   "metadata": {},
   "outputs": [
    {
     "data": {
      "text/html": [
       "<table class=\"dataframe\">\n",
       "<caption>A data.frame: 8 × 3</caption>\n",
       "<thead>\n",
       "\t<tr><th scope=col>family</th><th scope=col>split</th><th scope=col>n</th></tr>\n",
       "\t<tr><th scope=col>&lt;chr&gt;</th><th scope=col>&lt;chr&gt;</th><th scope=col>&lt;int&gt;</th></tr>\n",
       "</thead>\n",
       "<tbody>\n",
       "\t<tr><td>binomial</td><td>african          </td><td>242</td></tr>\n",
       "\t<tr><td>binomial</td><td>e_asian          </td><td>227</td></tr>\n",
       "\t<tr><td>binomial</td><td>non_british_white</td><td>242</td></tr>\n",
       "\t<tr><td>binomial</td><td>s_asian          </td><td>241</td></tr>\n",
       "\t<tr><td>gaussian</td><td>african          </td><td>186</td></tr>\n",
       "\t<tr><td>gaussian</td><td>e_asian          </td><td>186</td></tr>\n",
       "\t<tr><td>gaussian</td><td>non_british_white</td><td>186</td></tr>\n",
       "\t<tr><td>gaussian</td><td>s_asian          </td><td>186</td></tr>\n",
       "</tbody>\n",
       "</table>\n"
      ],
      "text/latex": [
       "A data.frame: 8 × 3\n",
       "\\begin{tabular}{lll}\n",
       " family & split & n\\\\\n",
       " <chr> & <chr> & <int>\\\\\n",
       "\\hline\n",
       "\t binomial & african           & 242\\\\\n",
       "\t binomial & e\\_asian           & 227\\\\\n",
       "\t binomial & non\\_british\\_white & 242\\\\\n",
       "\t binomial & s\\_asian           & 241\\\\\n",
       "\t gaussian & african           & 186\\\\\n",
       "\t gaussian & e\\_asian           & 186\\\\\n",
       "\t gaussian & non\\_british\\_white & 186\\\\\n",
       "\t gaussian & s\\_asian           & 186\\\\\n",
       "\\end{tabular}\n"
      ],
      "text/markdown": [
       "\n",
       "A data.frame: 8 × 3\n",
       "\n",
       "| family &lt;chr&gt; | split &lt;chr&gt; | n &lt;int&gt; |\n",
       "|---|---|---|\n",
       "| binomial | african           | 242 |\n",
       "| binomial | e_asian           | 227 |\n",
       "| binomial | non_british_white | 242 |\n",
       "| binomial | s_asian           | 241 |\n",
       "| gaussian | african           | 186 |\n",
       "| gaussian | e_asian           | 186 |\n",
       "| gaussian | non_british_white | 186 |\n",
       "| gaussian | s_asian           | 186 |\n",
       "\n"
      ],
      "text/plain": [
       "  family   split             n  \n",
       "1 binomial african           242\n",
       "2 binomial e_asian           227\n",
       "3 binomial non_british_white 242\n",
       "4 binomial s_asian           241\n",
       "5 gaussian african           186\n",
       "6 gaussian e_asian           186\n",
       "7 gaussian non_british_white 186\n",
       "8 gaussian s_asian           186"
      ]
     },
     "metadata": {},
     "output_type": "display_data"
    }
   ],
   "source": [
    "eval_df %>% \n",
    "eval_to_transethnic_eval_df('geno_delta') %>%\n",
    "count(family, split)\n"
   ]
  },
  {
   "cell_type": "code",
   "execution_count": 51,
   "metadata": {},
   "outputs": [],
   "source": [
    "metric <- 'geno_delta'\n",
    "for(ext in c('png', 'pdf')){ggsave(\n",
    "    sprintf('%s.%s', sprintf('trans_ethnic_%s_full_violin', metric), ext),\n",
    "    gridExtra::arrangeGrob(\n",
    "        eval_df %>% \n",
    "        eval_to_transethnic_eval_df(metric) %>%\n",
    "        filter(family == 'binomial') %>%\n",
    "        plot_violin(metric) + labs(\n",
    "            title = 'Binomial models',\n",
    "            y = latex2exp::TeX('Incremental AUC relative to WB') \n",
    "        ),\n",
    "\n",
    "        eval_df %>% \n",
    "        eval_to_transethnic_eval_df(metric) %>%\n",
    "        filter(family == 'gaussian') %>%\n",
    "        plot_violin(metric) + labs(\n",
    "            title = 'Gaussian models',\n",
    "            y = latex2exp::TeX('Incremental r^2 relative to WB') \n",
    "        ),\n",
    "\n",
    "        ncol=2\n",
    "    ),\n",
    "    width=16, height=8\n",
    ")}    \n"
   ]
  },
  {
   "cell_type": "code",
   "execution_count": 52,
   "metadata": {},
   "outputs": [],
   "source": [
    "metric <- 'geno_delta'\n",
    "for(ext in c('png', 'pdf')){ggsave(\n",
    "    sprintf('%s.%s', sprintf('trans_ethnic_%s_scatter', metric), ext),\n",
    "    gridExtra::arrangeGrob(\n",
    "        eval_df %>% filter(split != 'train_val', family == 'binomial') %>%\n",
    "        filter(GBE_ID %in% get_filtered_GBE_IDs(eval_df, metric, 0.05)) %>%\n",
    "        plot_scatter('geno_delta') + labs(\n",
    "            title = 'Binomial models',\n",
    "            x = latex2exp::TeX('Incremental AUC in WB'),\n",
    "            y = latex2exp::TeX('Trans-ethnic incremental AUC')\n",
    "        ),\n",
    "\n",
    "        eval_df %>% filter(split != 'train_val', family == 'gaussian') %>%\n",
    "        filter(GBE_ID %in% get_filtered_GBE_IDs(eval_df, metric, 0.05)) %>%\n",
    "        plot_scatter('geno_delta') + labs(\n",
    "            title = 'Gaussian models',\n",
    "            x = latex2exp::TeX('Incremental r^2 in WB'),\n",
    "            y = latex2exp::TeX('Trans-ethnic incremental r^2')\n",
    "        ),\n",
    "        \n",
    "        ncol=2\n",
    "    ),\n",
    "    width=16, height=8\n",
    ")}    \n"
   ]
  },
  {
   "cell_type": "markdown",
   "metadata": {},
   "source": [
    "## Predictive performance\n",
    "\n",
    "- histogram of the delta performance across the traits (maybe split for binary and gaussian)\n"
   ]
  },
  {
   "cell_type": "code",
   "execution_count": 53,
   "metadata": {},
   "outputs": [],
   "source": [
    "metric <- 'geno_delta'\n",
    "for(ext in c('png', 'pdf')){ggsave(\n",
    "    sprintf('%s.%s', sprintf('test_set_%s', metric), ext),\n",
    "    gridExtra::arrangeGrob(\n",
    "        eval_df %>%\n",
    "        filter(split == 'test', family == 'binomial') %>%\n",
    "        plot_histogram(metric, 0.05) + labs(\n",
    "            title = 'Binomial models',\n",
    "            x = latex2exp::TeX('Incremental AUC')\n",
    "        ),\n",
    "\n",
    "        eval_df %>%\n",
    "        filter(split == 'test', family == 'gaussian') %>%\n",
    "        plot_histogram(metric, 0.05) + labs(\n",
    "            title = 'Gaussian models',\n",
    "            x = latex2exp::TeX('Incremental r^2')\n",
    "        ),\n",
    "        \n",
    "        ncol=2\n",
    "    ),\n",
    "    width=16, height=8\n",
    ")}    \n"
   ]
  },
  {
   "cell_type": "code",
   "execution_count": null,
   "metadata": {},
   "outputs": [],
   "source": []
  }
 ],
 "metadata": {
  "kernelspec": {
   "display_name": "R",
   "language": "R",
   "name": "ir"
  },
  "language_info": {
   "codemirror_mode": "r",
   "file_extension": ".r",
   "mimetype": "text/x-r-source",
   "name": "R",
   "pygments_lexer": "r",
   "version": "3.6.2"
  }
 },
 "nbformat": 4,
 "nbformat_minor": 4
}

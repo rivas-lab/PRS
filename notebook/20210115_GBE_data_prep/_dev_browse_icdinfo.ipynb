{
 "cells": [
  {
   "cell_type": "code",
   "execution_count": 2,
   "id": "neural-hypothetical",
   "metadata": {},
   "outputs": [],
   "source": [
    "suppressWarnings(suppressPackageStartupMessages({\n",
    "    library(tidyverse)\n",
    "    library(data.table)\n",
    "}))\n"
   ]
  },
  {
   "cell_type": "code",
   "execution_count": 1,
   "id": "enormous-blues",
   "metadata": {},
   "outputs": [],
   "source": [
    "icdinfo_f<-'/oak/stanford/groups/mrivas/users/ytanigaw/repos/rivas-lab/ukbb-tools/05_gbe/array-combined/icdinfo.array.white_british.tsv'\n"
   ]
  },
  {
   "cell_type": "code",
   "execution_count": 3,
   "id": "significant-rolling",
   "metadata": {},
   "outputs": [],
   "source": [
    "icdinfo_f %>%\n",
    "fread() %>%\n",
    "rename_with(function(x){str_replace(x, '#', '')}, starts_with(\"#\")) -> icdinfo_df"
   ]
  },
  {
   "cell_type": "code",
   "execution_count": 4,
   "id": "ruled-customer",
   "metadata": {},
   "outputs": [],
   "source": [
    "source('0_parameters.sh')\n"
   ]
  },
  {
   "cell_type": "code",
   "execution_count": 5,
   "id": "closed-pharmaceutical",
   "metadata": {},
   "outputs": [],
   "source": [
    "file.path(data_d, 'eval_full.tsv') %>%\n",
    "fread() %>% rename('trait_category'='#trait_category') -> df\n"
   ]
  },
  {
   "cell_type": "code",
   "execution_count": 7,
   "id": "apparent-cancer",
   "metadata": {},
   "outputs": [],
   "source": [
    "df %>% pull(trait) %>% unique() -> traits"
   ]
  },
  {
   "cell_type": "code",
   "execution_count": 8,
   "id": "postal-nepal",
   "metadata": {},
   "outputs": [
    {
     "data": {
      "text/html": [
       "1617"
      ],
      "text/latex": [
       "1617"
      ],
      "text/markdown": [
       "1617"
      ],
      "text/plain": [
       "[1] 1617"
      ]
     },
     "metadata": {},
     "output_type": "display_data"
    }
   ],
   "source": [
    "length(traits)"
   ]
  },
  {
   "cell_type": "code",
   "execution_count": 12,
   "id": "arctic-cloud",
   "metadata": {},
   "outputs": [
    {
     "data": {
      "text/html": [
       "<table class=\"dataframe\">\n",
       "<caption>A data.table: 6 × 6</caption>\n",
       "<thead>\n",
       "\t<tr><th scope=col>GBE_category</th><th scope=col>GBE_ID</th><th scope=col>N</th><th scope=col>GBE_NAME</th><th scope=col>GBE_short_name</th><th scope=col>GBE_short_name_len</th></tr>\n",
       "\t<tr><th scope=col>&lt;chr&gt;</th><th scope=col>&lt;chr&gt;</th><th scope=col>&lt;int&gt;</th><th scope=col>&lt;chr&gt;</th><th scope=col>&lt;chr&gt;</th><th scope=col>&lt;int&gt;</th></tr>\n",
       "</thead>\n",
       "<tbody>\n",
       "\t<tr><td>BIN</td><td>BIN23063</td><td>102</td><td>HTLV-1_seropositivity_for_Human_T-Lymphotropic_Virus_1                                    </td><td>HTLV-1 seropositivity for Human T-Lymphotropic Virus 1                                    </td><td>54</td></tr>\n",
       "\t<tr><td>HC </td><td>HC784   </td><td>105</td><td>TTE_other_behavioural_and_emotional_disorders_with_onset_usually_occurring_in_childhood_an</td><td>TTE other behavioural and emotional disorders with onset usually occurring in childhood an</td><td>90</td></tr>\n",
       "\t<tr><td>HC </td><td>HC1013  </td><td>109</td><td>TTE_pneumonia_due_to_haemophilus_influenzae                                               </td><td>TTE pneumonia due to haemophilus influenzae                                               </td><td>43</td></tr>\n",
       "\t<tr><td>HC </td><td>HC1240  </td><td>109</td><td>TTE_spinal_osteochondrosis                                                                </td><td>TTE spinal osteochondrosis                                                                </td><td>26</td></tr>\n",
       "\t<tr><td>HC </td><td>HC388   </td><td>110</td><td>diabetic_neuropathy/ulcers                                                                </td><td>Diabetic neuropathy/ulcers                                                                </td><td>26</td></tr>\n",
       "\t<tr><td>BIN</td><td>BIN5326 </td><td>118</td><td>Ever_had_surgery_for_glaucoma_or_high_eye_pressure                                        </td><td>Ever had surgery for glaucoma or high eye pressure                                        </td><td>50</td></tr>\n",
       "</tbody>\n",
       "</table>\n"
      ],
      "text/latex": [
       "A data.table: 6 × 6\n",
       "\\begin{tabular}{llllll}\n",
       " GBE\\_category & GBE\\_ID & N & GBE\\_NAME & GBE\\_short\\_name & GBE\\_short\\_name\\_len\\\\\n",
       " <chr> & <chr> & <int> & <chr> & <chr> & <int>\\\\\n",
       "\\hline\n",
       "\t BIN & BIN23063 & 102 & HTLV-1\\_seropositivity\\_for\\_Human\\_T-Lymphotropic\\_Virus\\_1                                     & HTLV-1 seropositivity for Human T-Lymphotropic Virus 1                                     & 54\\\\\n",
       "\t HC  & HC784    & 105 & TTE\\_other\\_behavioural\\_and\\_emotional\\_disorders\\_with\\_onset\\_usually\\_occurring\\_in\\_childhood\\_an & TTE other behavioural and emotional disorders with onset usually occurring in childhood an & 90\\\\\n",
       "\t HC  & HC1013   & 109 & TTE\\_pneumonia\\_due\\_to\\_haemophilus\\_influenzae                                                & TTE pneumonia due to haemophilus influenzae                                                & 43\\\\\n",
       "\t HC  & HC1240   & 109 & TTE\\_spinal\\_osteochondrosis                                                                 & TTE spinal osteochondrosis                                                                 & 26\\\\\n",
       "\t HC  & HC388    & 110 & diabetic\\_neuropathy/ulcers                                                                 & Diabetic neuropathy/ulcers                                                                 & 26\\\\\n",
       "\t BIN & BIN5326  & 118 & Ever\\_had\\_surgery\\_for\\_glaucoma\\_or\\_high\\_eye\\_pressure                                         & Ever had surgery for glaucoma or high eye pressure                                         & 50\\\\\n",
       "\\end{tabular}\n"
      ],
      "text/markdown": [
       "\n",
       "A data.table: 6 × 6\n",
       "\n",
       "| GBE_category &lt;chr&gt; | GBE_ID &lt;chr&gt; | N &lt;int&gt; | GBE_NAME &lt;chr&gt; | GBE_short_name &lt;chr&gt; | GBE_short_name_len &lt;int&gt; |\n",
       "|---|---|---|---|---|---|\n",
       "| BIN | BIN23063 | 102 | HTLV-1_seropositivity_for_Human_T-Lymphotropic_Virus_1                                     | HTLV-1 seropositivity for Human T-Lymphotropic Virus 1                                     | 54 |\n",
       "| HC  | HC784    | 105 | TTE_other_behavioural_and_emotional_disorders_with_onset_usually_occurring_in_childhood_an | TTE other behavioural and emotional disorders with onset usually occurring in childhood an | 90 |\n",
       "| HC  | HC1013   | 109 | TTE_pneumonia_due_to_haemophilus_influenzae                                                | TTE pneumonia due to haemophilus influenzae                                                | 43 |\n",
       "| HC  | HC1240   | 109 | TTE_spinal_osteochondrosis                                                                 | TTE spinal osteochondrosis                                                                 | 26 |\n",
       "| HC  | HC388    | 110 | diabetic_neuropathy/ulcers                                                                 | Diabetic neuropathy/ulcers                                                                 | 26 |\n",
       "| BIN | BIN5326  | 118 | Ever_had_surgery_for_glaucoma_or_high_eye_pressure                                         | Ever had surgery for glaucoma or high eye pressure                                         | 50 |\n",
       "\n"
      ],
      "text/plain": [
       "  GBE_category GBE_ID   N  \n",
       "1 BIN          BIN23063 102\n",
       "2 HC           HC784    105\n",
       "3 HC           HC1013   109\n",
       "4 HC           HC1240   109\n",
       "5 HC           HC388    110\n",
       "6 BIN          BIN5326  118\n",
       "  GBE_NAME                                                                                  \n",
       "1 HTLV-1_seropositivity_for_Human_T-Lymphotropic_Virus_1                                    \n",
       "2 TTE_other_behavioural_and_emotional_disorders_with_onset_usually_occurring_in_childhood_an\n",
       "3 TTE_pneumonia_due_to_haemophilus_influenzae                                               \n",
       "4 TTE_spinal_osteochondrosis                                                                \n",
       "5 diabetic_neuropathy/ulcers                                                                \n",
       "6 Ever_had_surgery_for_glaucoma_or_high_eye_pressure                                        \n",
       "  GBE_short_name                                                                            \n",
       "1 HTLV-1 seropositivity for Human T-Lymphotropic Virus 1                                    \n",
       "2 TTE other behavioural and emotional disorders with onset usually occurring in childhood an\n",
       "3 TTE pneumonia due to haemophilus influenzae                                               \n",
       "4 TTE spinal osteochondrosis                                                                \n",
       "5 Diabetic neuropathy/ulcers                                                                \n",
       "6 Ever had surgery for glaucoma or high eye pressure                                        \n",
       "  GBE_short_name_len\n",
       "1 54                \n",
       "2 90                \n",
       "3 43                \n",
       "4 26                \n",
       "5 26                \n",
       "6 50                "
      ]
     },
     "metadata": {},
     "output_type": "display_data"
    }
   ],
   "source": [
    "icdinfo_df %>% filter(GBE_ID %in% traits) %>% arrange(N) %>% head"
   ]
  },
  {
   "cell_type": "code",
   "execution_count": null,
   "id": "brutal-commerce",
   "metadata": {},
   "outputs": [],
   "source": []
  }
 ],
 "metadata": {
  "kernelspec": {
   "display_name": "R",
   "language": "R",
   "name": "ir"
  },
  "language_info": {
   "codemirror_mode": "r",
   "file_extension": ".r",
   "mimetype": "text/x-r-source",
   "name": "R",
   "pygments_lexer": "r",
   "version": "3.6.2"
  }
 },
 "nbformat": 4,
 "nbformat_minor": 5
}

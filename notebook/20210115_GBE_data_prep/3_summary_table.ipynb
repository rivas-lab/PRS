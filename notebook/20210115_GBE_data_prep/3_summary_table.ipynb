{
 "cells": [
  {
   "cell_type": "code",
   "execution_count": 1,
   "metadata": {},
   "outputs": [],
   "source": [
    "suppressWarnings(suppressPackageStartupMessages({\n",
    "    library(tidyverse)\n",
    "    library(data.table)\n",
    "}))\n"
   ]
  },
  {
   "cell_type": "code",
   "execution_count": 3,
   "metadata": {},
   "outputs": [],
   "source": [
    "source('0_parameters.sh')"
   ]
  },
  {
   "cell_type": "code",
   "execution_count": 4,
   "metadata": {},
   "outputs": [],
   "source": [
    "f <- '/oak/stanford/groups/mrivas/projects/PRS/private_output/202009_batch/snpnet.eval.2_refit.tsv'\n",
    "lst_f <- 'GBE_ID.lst'\n",
    "cat_f <- '/oak/stanford/groups/mrivas/users/ytanigaw/repos/rivas-lab/ukbb-tools/05_gbe/extras/20200812_GBE_category/GBE_category.20201024.tsv'\n",
    "\n",
    "# output\n",
    "\n",
    "summary_f <- '/oak/stanford/groups/mrivas/projects/PRS/GBE_data/traits.tsv'\n"
   ]
  },
  {
   "cell_type": "code",
   "execution_count": 5,
   "metadata": {},
   "outputs": [],
   "source": [
    "lst_f %>% fread(head=F) %>% pull() -> lst\n"
   ]
  },
  {
   "cell_type": "code",
   "execution_count": 6,
   "metadata": {},
   "outputs": [],
   "source": [
    "cat_f %>% \n",
    "fread(\n",
    "    colClasses = c('#GBE_category'='character', 'GBE_ID'='character'),\n",
    "    select=c('#GBE_category', 'GBE_ID', 'GBE_short_name')\n",
    ") %>%\n",
    "rename('GBE_category'='#GBE_category') %>%\n",
    "rename('trait_name'='GBE_short_name', 'trait_category'='GBE_category') -> cat_df\n"
   ]
  },
  {
   "cell_type": "code",
   "execution_count": 15,
   "metadata": {},
   "outputs": [],
   "source": [
    "file.path(res_d, PRS_pval_f) %>% fread() %>%\n",
    "rename('phe'='#phe') -> PRS_pval_df\n"
   ]
  },
  {
   "cell_type": "code",
   "execution_count": 16,
   "metadata": {},
   "outputs": [
    {
     "data": {
      "text/html": [],
      "text/latex": [],
      "text/markdown": [],
      "text/plain": [
       "character(0)"
      ]
     },
     "metadata": {},
     "output_type": "display_data"
    }
   ],
   "source": [
    "setdiff(\n",
    "lst, PRS_pval_df %>% filter(variable == 'PRS') %>% pull(phe) \n",
    ")"
   ]
  },
  {
   "cell_type": "code",
   "execution_count": 23,
   "metadata": {},
   "outputs": [],
   "source": [
    "f %>%\n",
    "fread(\n",
    "    colClasses = c('#GBE_ID'='character'),\n",
    "    select = c(\n",
    "        '#GBE_ID', 'split', 'geno', 'covar', 'geno_covar', 'geno_delta', 'n_variables', 'family'\n",
    "    )\n",
    ") %>%\n",
    "rename('GBE_ID'='#GBE_ID') %>%\n",
    "filter(split == 'test', GBE_ID %in% lst) %>% \n",
    "unique() %>% select(-split) %>%\n",
    "left_join(cat_df, by='GBE_ID') %>%\n",
    "rename('trait'='GBE_ID') %>%\n",
    "left_join(\n",
    "    PRS_pval_df %>% filter(variable == 'PRS') %>%\n",
    "    select(phe, P) %>% rename('WB_test_P' = 'P'),\n",
    "    by=c('trait'='phe')\n",
    ") %>%\n",
    "select(\n",
    "    trait_category, trait, trait_name, family,\n",
    "    geno, covar, geno_covar, geno_delta, n_variables, WB_test_P\n",
    ") %>% arrange(-geno_delta) -> df \n"
   ]
  },
  {
   "cell_type": "code",
   "execution_count": 24,
   "metadata": {},
   "outputs": [
    {
     "data": {
      "text/html": [
       "1772"
      ],
      "text/latex": [
       "1772"
      ],
      "text/markdown": [
       "1772"
      ],
      "text/plain": [
       "[1] 1772"
      ]
     },
     "metadata": {},
     "output_type": "display_data"
    }
   ],
   "source": [
    "length(lst)"
   ]
  },
  {
   "cell_type": "code",
   "execution_count": 25,
   "metadata": {},
   "outputs": [
    {
     "data": {
      "text/html": [
       "<style>\n",
       ".list-inline {list-style: none; margin:0; padding: 0}\n",
       ".list-inline>li {display: inline-block}\n",
       ".list-inline>li:not(:last-child)::after {content: \"\\00b7\"; padding: 0 .5ex}\n",
       "</style>\n",
       "<ol class=list-inline><li>1772</li><li>10</li></ol>\n"
      ],
      "text/latex": [
       "\\begin{enumerate*}\n",
       "\\item 1772\n",
       "\\item 10\n",
       "\\end{enumerate*}\n"
      ],
      "text/markdown": [
       "1. 1772\n",
       "2. 10\n",
       "\n",
       "\n"
      ],
      "text/plain": [
       "[1] 1772   10"
      ]
     },
     "metadata": {},
     "output_type": "display_data"
    }
   ],
   "source": [
    "df %>% dim()\n"
   ]
  },
  {
   "cell_type": "code",
   "execution_count": 26,
   "metadata": {},
   "outputs": [
    {
     "data": {
      "text/html": [
       "<table class=\"dataframe\">\n",
       "<caption>A data.table: 6 × 10</caption>\n",
       "<thead>\n",
       "\t<tr><th scope=col>trait_category</th><th scope=col>trait</th><th scope=col>trait_name</th><th scope=col>family</th><th scope=col>geno</th><th scope=col>covar</th><th scope=col>geno_covar</th><th scope=col>geno_delta</th><th scope=col>n_variables</th><th scope=col>WB_test_P</th></tr>\n",
       "\t<tr><th scope=col>&lt;chr&gt;</th><th scope=col>&lt;chr&gt;</th><th scope=col>&lt;chr&gt;</th><th scope=col>&lt;chr&gt;</th><th scope=col>&lt;dbl&gt;</th><th scope=col>&lt;dbl&gt;</th><th scope=col>&lt;dbl&gt;</th><th scope=col>&lt;dbl&gt;</th><th scope=col>&lt;int&gt;</th><th scope=col>&lt;dbl&gt;</th></tr>\n",
       "</thead>\n",
       "<tbody>\n",
       "\t<tr><td>Blood_assays             </td><td>INI30790     </td><td>Lipoprotein A                               </td><td>gaussian</td><td>0.5654911</td><td>2.867887e-04</td><td>0.5679085</td><td>0.5676217</td><td> 2861</td><td> 0.000000e+00</td></tr>\n",
       "\t<tr><td>Biomarkers               </td><td>INI10030790  </td><td>Lipoprotein A                               </td><td>gaussian</td><td>0.5167727</td><td>1.715521e-05</td><td>0.5178684</td><td>0.5178512</td><td> 7148</td><td> 6.274963e-51</td></tr>\n",
       "\t<tr><td>Lifestyle_and_environment</td><td>BIN_FC2001747</td><td>Hair colour (natural, before greying) red   </td><td>binomial</td><td>0.9606803</td><td>5.563726e-01</td><td>0.9613973</td><td>0.4050248</td><td> 1621</td><td> 0.000000e+00</td></tr>\n",
       "\t<tr><td>Blood_assays             </td><td>INI30100     </td><td>Mean platelet volume                        </td><td>gaussian</td><td>0.3602352</td><td>1.785971e-03</td><td>0.3619998</td><td>0.3602139</td><td>24114</td><td> 0.000000e+00</td></tr>\n",
       "\t<tr><td>Biomarkers               </td><td>INI10030840  </td><td>Total bilirubin                             </td><td>gaussian</td><td>0.3560721</td><td>1.627515e-05</td><td>0.3562139</td><td>0.3561976</td><td>  544</td><td>2.104588e-145</td></tr>\n",
       "\t<tr><td>Lifestyle_and_environment</td><td>BIN_FC1001747</td><td>Hair colour (natural, before greying) blonde</td><td>binomial</td><td>0.8475395</td><td>5.314784e-01</td><td>0.8493170</td><td>0.3178386</td><td> 6970</td><td> 0.000000e+00</td></tr>\n",
       "</tbody>\n",
       "</table>\n"
      ],
      "text/latex": [
       "A data.table: 6 × 10\n",
       "\\begin{tabular}{llllllllll}\n",
       " trait\\_category & trait & trait\\_name & family & geno & covar & geno\\_covar & geno\\_delta & n\\_variables & WB\\_test\\_P\\\\\n",
       " <chr> & <chr> & <chr> & <chr> & <dbl> & <dbl> & <dbl> & <dbl> & <int> & <dbl>\\\\\n",
       "\\hline\n",
       "\t Blood\\_assays              & INI30790      & Lipoprotein A                                & gaussian & 0.5654911 & 2.867887e-04 & 0.5679085 & 0.5676217 &  2861 &  0.000000e+00\\\\\n",
       "\t Biomarkers                & INI10030790   & Lipoprotein A                                & gaussian & 0.5167727 & 1.715521e-05 & 0.5178684 & 0.5178512 &  7148 &  6.274963e-51\\\\\n",
       "\t Lifestyle\\_and\\_environment & BIN\\_FC2001747 & Hair colour (natural, before greying) red    & binomial & 0.9606803 & 5.563726e-01 & 0.9613973 & 0.4050248 &  1621 &  0.000000e+00\\\\\n",
       "\t Blood\\_assays              & INI30100      & Mean platelet volume                         & gaussian & 0.3602352 & 1.785971e-03 & 0.3619998 & 0.3602139 & 24114 &  0.000000e+00\\\\\n",
       "\t Biomarkers                & INI10030840   & Total bilirubin                              & gaussian & 0.3560721 & 1.627515e-05 & 0.3562139 & 0.3561976 &   544 & 2.104588e-145\\\\\n",
       "\t Lifestyle\\_and\\_environment & BIN\\_FC1001747 & Hair colour (natural, before greying) blonde & binomial & 0.8475395 & 5.314784e-01 & 0.8493170 & 0.3178386 &  6970 &  0.000000e+00\\\\\n",
       "\\end{tabular}\n"
      ],
      "text/markdown": [
       "\n",
       "A data.table: 6 × 10\n",
       "\n",
       "| trait_category &lt;chr&gt; | trait &lt;chr&gt; | trait_name &lt;chr&gt; | family &lt;chr&gt; | geno &lt;dbl&gt; | covar &lt;dbl&gt; | geno_covar &lt;dbl&gt; | geno_delta &lt;dbl&gt; | n_variables &lt;int&gt; | WB_test_P &lt;dbl&gt; |\n",
       "|---|---|---|---|---|---|---|---|---|---|\n",
       "| Blood_assays              | INI30790      | Lipoprotein A                                | gaussian | 0.5654911 | 2.867887e-04 | 0.5679085 | 0.5676217 |  2861 |  0.000000e+00 |\n",
       "| Biomarkers                | INI10030790   | Lipoprotein A                                | gaussian | 0.5167727 | 1.715521e-05 | 0.5178684 | 0.5178512 |  7148 |  6.274963e-51 |\n",
       "| Lifestyle_and_environment | BIN_FC2001747 | Hair colour (natural, before greying) red    | binomial | 0.9606803 | 5.563726e-01 | 0.9613973 | 0.4050248 |  1621 |  0.000000e+00 |\n",
       "| Blood_assays              | INI30100      | Mean platelet volume                         | gaussian | 0.3602352 | 1.785971e-03 | 0.3619998 | 0.3602139 | 24114 |  0.000000e+00 |\n",
       "| Biomarkers                | INI10030840   | Total bilirubin                              | gaussian | 0.3560721 | 1.627515e-05 | 0.3562139 | 0.3561976 |   544 | 2.104588e-145 |\n",
       "| Lifestyle_and_environment | BIN_FC1001747 | Hair colour (natural, before greying) blonde | binomial | 0.8475395 | 5.314784e-01 | 0.8493170 | 0.3178386 |  6970 |  0.000000e+00 |\n",
       "\n"
      ],
      "text/plain": [
       "  trait_category            trait        \n",
       "1 Blood_assays              INI30790     \n",
       "2 Biomarkers                INI10030790  \n",
       "3 Lifestyle_and_environment BIN_FC2001747\n",
       "4 Blood_assays              INI30100     \n",
       "5 Biomarkers                INI10030840  \n",
       "6 Lifestyle_and_environment BIN_FC1001747\n",
       "  trait_name                                   family   geno      covar       \n",
       "1 Lipoprotein A                                gaussian 0.5654911 2.867887e-04\n",
       "2 Lipoprotein A                                gaussian 0.5167727 1.715521e-05\n",
       "3 Hair colour (natural, before greying) red    binomial 0.9606803 5.563726e-01\n",
       "4 Mean platelet volume                         gaussian 0.3602352 1.785971e-03\n",
       "5 Total bilirubin                              gaussian 0.3560721 1.627515e-05\n",
       "6 Hair colour (natural, before greying) blonde binomial 0.8475395 5.314784e-01\n",
       "  geno_covar geno_delta n_variables WB_test_P    \n",
       "1 0.5679085  0.5676217   2861        0.000000e+00\n",
       "2 0.5178684  0.5178512   7148        6.274963e-51\n",
       "3 0.9613973  0.4050248   1621        0.000000e+00\n",
       "4 0.3619998  0.3602139  24114        0.000000e+00\n",
       "5 0.3562139  0.3561976    544       2.104588e-145\n",
       "6 0.8493170  0.3178386   6970        0.000000e+00"
      ]
     },
     "metadata": {},
     "output_type": "display_data"
    }
   ],
   "source": [
    "df %>% head()"
   ]
  },
  {
   "cell_type": "code",
   "execution_count": 27,
   "metadata": {},
   "outputs": [],
   "source": [
    "df %>%\n",
    "rename('#trait_category' = 'trait_category') %>%\n",
    "fwrite(summary_f, sep='\\t', na = \"NA\", quote=F)\n"
   ]
  },
  {
   "cell_type": "code",
   "execution_count": 28,
   "metadata": {},
   "outputs": [
    {
     "data": {
      "text/html": [
       "'/oak/stanford/groups/mrivas/projects/PRS/GBE_data/traits.tsv'"
      ],
      "text/latex": [
       "'/oak/stanford/groups/mrivas/projects/PRS/GBE\\_data/traits.tsv'"
      ],
      "text/markdown": [
       "'/oak/stanford/groups/mrivas/projects/PRS/GBE_data/traits.tsv'"
      ],
      "text/plain": [
       "[1] \"/oak/stanford/groups/mrivas/projects/PRS/GBE_data/traits.tsv\""
      ]
     },
     "metadata": {},
     "output_type": "display_data"
    }
   ],
   "source": [
    "summary_f"
   ]
  },
  {
   "cell_type": "code",
   "execution_count": null,
   "metadata": {},
   "outputs": [],
   "source": []
  }
 ],
 "metadata": {
  "kernelspec": {
   "display_name": "R",
   "language": "R",
   "name": "ir"
  },
  "language_info": {
   "codemirror_mode": "r",
   "file_extension": ".r",
   "mimetype": "text/x-r-source",
   "name": "R",
   "pygments_lexer": "r",
   "version": "3.6.2"
  }
 },
 "nbformat": 4,
 "nbformat_minor": 4
}

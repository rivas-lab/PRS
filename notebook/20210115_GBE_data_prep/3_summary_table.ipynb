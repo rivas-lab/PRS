{
 "cells": [
  {
   "cell_type": "code",
   "execution_count": 1,
   "metadata": {},
   "outputs": [],
   "source": [
    "suppressWarnings(suppressPackageStartupMessages({\n",
    "    library(tidyverse)\n",
    "    library(data.table)\n",
    "}))\n"
   ]
  },
  {
   "cell_type": "code",
   "execution_count": 2,
   "metadata": {},
   "outputs": [],
   "source": [
    "source('0_parameters.sh')\n"
   ]
  },
  {
   "cell_type": "markdown",
   "metadata": {},
   "source": [
    "# Aggregate the predictive performance of the PRS models\n",
    "\n",
    "\n",
    "- Read the predictive performance table stored in the raw output file: `snpnet.eavl.2_refit.tsv`\n",
    "- Apply filter and keep the traits that are \n",
    "  - Present in the `GBE_ID.lst`\n",
    "  - NOT present in the MRP blacklist traits\n",
    "  - Present in the trait category file (removal of the duplicated traits)\n",
    "- Join with\n",
    "  - The trait info (trait names and trait category)\n",
    "  - The significance of the incremental predictive performance\n",
    "- We save the following 3 files\n",
    "  - All the results across population groups\n",
    "  - The WB test set predictive performance table\n",
    "  - The WB test set predictive performance table for the traits with significant predictive performance\n"
   ]
  },
  {
   "cell_type": "code",
   "execution_count": 102,
   "metadata": {},
   "outputs": [],
   "source": [
    "f <- '/oak/stanford/groups/mrivas/projects/PRS/private_output/202009_batch/snpnet.eval.2_refit.tsv'\n",
    "lst_f <- 'GBE_ID.lst'\n",
    "cat_f <- '/oak/stanford/groups/mrivas/users/ytanigaw/repos/rivas-lab/ukbb-tools/05_gbe/extras/20200812_GBE_category/GBE_category.20201024.tsv'\n",
    "\n",
    "# output\n",
    "\n",
    "eval_full_f <- file.path(data_d, 'eval_full.tsv')\n",
    "summary_f <- file.path(data_d, 'traits.tsv')\n",
    "summary_sig_f <- file.path(data_d, 'traits_significant.tsv')\n",
    "# we also copy the results to the OAK directory as well as the GBE server\n"
   ]
  },
  {
   "cell_type": "markdown",
   "metadata": {},
   "source": [
    "## read the reference datasets\n",
    "\n",
    "### list of traits of our interest\n"
   ]
  },
  {
   "cell_type": "code",
   "execution_count": 26,
   "metadata": {},
   "outputs": [],
   "source": [
    "lst_f %>% fread(head=F) %>% pull() -> lst\n"
   ]
  },
  {
   "cell_type": "code",
   "execution_count": 27,
   "metadata": {},
   "outputs": [
    {
     "data": {
      "text/html": [
       "1772"
      ],
      "text/latex": [
       "1772"
      ],
      "text/markdown": [
       "1772"
      ],
      "text/plain": [
       "[1] 1772"
      ]
     },
     "metadata": {},
     "output_type": "display_data"
    }
   ],
   "source": [
    "lst %>% length()"
   ]
  },
  {
   "cell_type": "markdown",
   "metadata": {},
   "source": [
    "### MRP blacklist"
   ]
  },
  {
   "cell_type": "code",
   "execution_count": 24,
   "metadata": {},
   "outputs": [],
   "source": [
    "mrp_blacklist_f %>% fread(head=F) %>% pull() -> mrp_blacklist\n"
   ]
  },
  {
   "cell_type": "code",
   "execution_count": 25,
   "metadata": {},
   "outputs": [
    {
     "data": {
      "text/html": [
       "469"
      ],
      "text/latex": [
       "469"
      ],
      "text/markdown": [
       "469"
      ],
      "text/plain": [
       "[1] 469"
      ]
     },
     "metadata": {},
     "output_type": "display_data"
    }
   ],
   "source": [
    "mrp_blacklist %>% length()"
   ]
  },
  {
   "cell_type": "code",
   "execution_count": 29,
   "metadata": {},
   "outputs": [
    {
     "data": {
      "text/html": [
       "1626"
      ],
      "text/latex": [
       "1626"
      ],
      "text/markdown": [
       "1626"
      ],
      "text/plain": [
       "[1] 1626"
      ]
     },
     "metadata": {},
     "output_type": "display_data"
    }
   ],
   "source": [
    "setdiff(lst, mrp_blacklist) %>% length()"
   ]
  },
  {
   "cell_type": "markdown",
   "metadata": {},
   "source": [
    "### trait category info\n",
    "\n",
    "- some of the duplicated phenotypes present in the lst_f file was removed in the latest version of the GBE category file.\n",
    "- Because of this, we apply inner_join here instead of left_join so that we have non-redundant set of traits in our results\n",
    "- For more information on the GBE category, please look at the following documentation\n",
    "- https://github.com/rivas-lab/ukbb-tools/tree/master/05_gbe/extras/20200812_GBE_category\n"
   ]
  },
  {
   "cell_type": "code",
   "execution_count": 30,
   "metadata": {},
   "outputs": [],
   "source": [
    "cat_f %>% \n",
    "fread(\n",
    "    colClasses = c('#GBE_category'='character', 'GBE_ID'='character'),\n",
    "    select=c('#GBE_category', 'GBE_ID', 'GBE_short_name')\n",
    ") %>%\n",
    "rename('GBE_category'='#GBE_category') %>%\n",
    "rename('trait_name'='GBE_short_name', 'trait_category'='GBE_category') -> cat_df\n"
   ]
  },
  {
   "cell_type": "code",
   "execution_count": 33,
   "metadata": {},
   "outputs": [
    {
     "data": {
      "text/html": [
       "1617"
      ],
      "text/latex": [
       "1617"
      ],
      "text/markdown": [
       "1617"
      ],
      "text/plain": [
       "[1] 1617"
      ]
     },
     "metadata": {},
     "output_type": "display_data"
    }
   ],
   "source": [
    "lst %>% setdiff(mrp_blacklist) %>% intersect(cat_df %>% pull(GBE_ID)) -> final_list_of_traits\n",
    "\n",
    "final_list_of_traits %>% length()\n"
   ]
  },
  {
   "cell_type": "markdown",
   "metadata": {},
   "source": [
    "### Significance of the PRS (P-values)"
   ]
  },
  {
   "cell_type": "code",
   "execution_count": 34,
   "metadata": {},
   "outputs": [],
   "source": [
    "file.path(res_d, PRS_pval_f) %>% fread() %>%\n",
    "rename('phe'='#phe') -> PRS_pval_df\n"
   ]
  },
  {
   "cell_type": "code",
   "execution_count": 35,
   "metadata": {},
   "outputs": [
    {
     "data": {
      "text/html": [],
      "text/latex": [],
      "text/markdown": [],
      "text/plain": [
       "character(0)"
      ]
     },
     "metadata": {},
     "output_type": "display_data"
    }
   ],
   "source": [
    "setdiff(\n",
    "final_list_of_traits, PRS_pval_df %>% filter(variable == 'PRS') %>% pull(phe) \n",
    ")"
   ]
  },
  {
   "cell_type": "markdown",
   "metadata": {},
   "source": [
    "## PRS performance table\n",
    "\n",
    "Read it, filter it, and join with the WB test set p-value and trait category\n"
   ]
  },
  {
   "cell_type": "code",
   "execution_count": 86,
   "metadata": {},
   "outputs": [],
   "source": [
    "f %>%\n",
    "fread(\n",
    "    colClasses = c('#GBE_ID'='character'),\n",
    "    select = c(\n",
    "        '#GBE_ID', 'split', 'geno', 'covar', 'geno_covar', 'geno_delta', 'n_variables', 'family'\n",
    "    )\n",
    ") %>%\n",
    "rename('GBE_ID'='#GBE_ID') %>%\n",
    "filter(GBE_ID %in% final_list_of_traits) %>% unique() %>%\n",
    "left_join(cat_df, by='GBE_ID') %>%\n",
    "left_join(\n",
    "    PRS_pval_df %>% filter(variable == 'PRS') %>%\n",
    "    select(phe, P) %>% rename('WB_test_P' = 'P'),\n",
    "    by=c('GBE_ID'='phe')\n",
    ") %>%\n",
    "rename('trait'='GBE_ID') %>%\n",
    "select(\n",
    "    trait_category, trait, trait_name, family,\n",
    "    split, geno, covar, geno_covar, geno_delta,\n",
    "    n_variables, WB_test_P\n",
    ") %>%\n",
    "arrange(WB_test_P, -n_variables) %>%\n",
    "mutate(\n",
    "    is_significant_in_WB = WB_test_P < (0.05/2000)\n",
    ") -> eval_full_df\n"
   ]
  },
  {
   "cell_type": "markdown",
   "metadata": {},
   "source": [
    "How may traits we have across each population group?\n"
   ]
  },
  {
   "cell_type": "code",
   "execution_count": 87,
   "metadata": {},
   "outputs": [
    {
     "data": {
      "text/html": [
       "<table class=\"dataframe\">\n",
       "<caption>A data.table: 6 × 2</caption>\n",
       "<thead>\n",
       "\t<tr><th scope=col>split</th><th scope=col>n</th></tr>\n",
       "\t<tr><th scope=col>&lt;chr&gt;</th><th scope=col>&lt;int&gt;</th></tr>\n",
       "</thead>\n",
       "<tbody>\n",
       "\t<tr><td>non_british_white</td><td>1617</td></tr>\n",
       "\t<tr><td>test             </td><td>1617</td></tr>\n",
       "\t<tr><td>train_val        </td><td>1617</td></tr>\n",
       "\t<tr><td>s_asian          </td><td>1615</td></tr>\n",
       "\t<tr><td>african          </td><td>1607</td></tr>\n",
       "\t<tr><td>e_asian          </td><td>1528</td></tr>\n",
       "</tbody>\n",
       "</table>\n"
      ],
      "text/latex": [
       "A data.table: 6 × 2\n",
       "\\begin{tabular}{ll}\n",
       " split & n\\\\\n",
       " <chr> & <int>\\\\\n",
       "\\hline\n",
       "\t non\\_british\\_white & 1617\\\\\n",
       "\t test              & 1617\\\\\n",
       "\t train\\_val         & 1617\\\\\n",
       "\t s\\_asian           & 1615\\\\\n",
       "\t african           & 1607\\\\\n",
       "\t e\\_asian           & 1528\\\\\n",
       "\\end{tabular}\n"
      ],
      "text/markdown": [
       "\n",
       "A data.table: 6 × 2\n",
       "\n",
       "| split &lt;chr&gt; | n &lt;int&gt; |\n",
       "|---|---|\n",
       "| non_british_white | 1617 |\n",
       "| test              | 1617 |\n",
       "| train_val         | 1617 |\n",
       "| s_asian           | 1615 |\n",
       "| african           | 1607 |\n",
       "| e_asian           | 1528 |\n",
       "\n"
      ],
      "text/plain": [
       "  split             n   \n",
       "1 non_british_white 1617\n",
       "2 test              1617\n",
       "3 train_val         1617\n",
       "4 s_asian           1615\n",
       "5 african           1607\n",
       "6 e_asian           1528"
      ]
     },
     "metadata": {},
     "output_type": "display_data"
    }
   ],
   "source": [
    "eval_full_df %>% count(split) %>% arrange(-n)"
   ]
  },
  {
   "cell_type": "markdown",
   "metadata": {},
   "source": [
    "### Generate filtered set of tables"
   ]
  },
  {
   "cell_type": "code",
   "execution_count": 88,
   "metadata": {},
   "outputs": [],
   "source": [
    "eval_full_df %>%\n",
    "filter(split == 'test') %>%\n",
    "select(-split) -> summary_df\n"
   ]
  },
  {
   "cell_type": "code",
   "execution_count": 92,
   "metadata": {},
   "outputs": [],
   "source": [
    "summary_df %>%\n",
    "filter(is_significant_in_WB) %>%\n",
    "select(-is_significant_in_WB) -> summary_sig_df\n"
   ]
  },
  {
   "cell_type": "code",
   "execution_count": 94,
   "metadata": {},
   "outputs": [
    {
     "name": "stdout",
     "output_type": "stream",
     "text": [
      "[1] 9601   12\n",
      "[1] 1617   11\n",
      "[1] 428  10\n"
     ]
    }
   ],
   "source": [
    "eval_full_df %>% dim() %>% print()\n",
    "summary_df %>% dim() %>% print()\n",
    "summary_sig_df %>% dim() %>% print()\n"
   ]
  },
  {
   "cell_type": "markdown",
   "metadata": {},
   "source": [
    "### write the results to files"
   ]
  },
  {
   "cell_type": "code",
   "execution_count": 99,
   "metadata": {},
   "outputs": [],
   "source": [
    "eval_full_df %>%\n",
    "rename('#trait_category' = 'trait_category') %>%\n",
    "fwrite(eval_full_f, sep='\\t', na = \"NA\", quote=F)\n"
   ]
  },
  {
   "cell_type": "code",
   "execution_count": 100,
   "metadata": {},
   "outputs": [],
   "source": [
    "summary_df %>%\n",
    "rename('#trait_category' = 'trait_category') %>%\n",
    "fwrite(summary_f, sep='\\t', na = \"NA\", quote=F)\n"
   ]
  },
  {
   "cell_type": "code",
   "execution_count": 101,
   "metadata": {},
   "outputs": [],
   "source": [
    "summary_sig_df %>%\n",
    "rename('#trait_category' = 'trait_category') %>%\n",
    "fwrite(summary_sig_f, sep='\\t', na = \"NA\", quote=F)\n"
   ]
  },
  {
   "cell_type": "code",
   "execution_count": null,
   "metadata": {},
   "outputs": [],
   "source": []
  }
 ],
 "metadata": {
  "kernelspec": {
   "display_name": "R",
   "language": "R",
   "name": "ir"
  },
  "language_info": {
   "codemirror_mode": "r",
   "file_extension": ".r",
   "mimetype": "text/x-r-source",
   "name": "R",
   "pygments_lexer": "r",
   "version": "3.6.2"
  }
 },
 "nbformat": 4,
 "nbformat_minor": 4
}

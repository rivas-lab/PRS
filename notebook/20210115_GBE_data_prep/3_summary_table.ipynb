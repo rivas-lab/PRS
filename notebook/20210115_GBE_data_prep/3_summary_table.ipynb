{
 "cells": [
  {
   "cell_type": "code",
   "execution_count": 1,
   "metadata": {},
   "outputs": [],
   "source": [
    "suppressWarnings(suppressPackageStartupMessages({\n",
    "    library(tidyverse)\n",
    "    library(data.table)\n",
    "}))\n"
   ]
  },
  {
   "cell_type": "code",
   "execution_count": 56,
   "metadata": {},
   "outputs": [],
   "source": [
    "f <- '/oak/stanford/groups/mrivas/projects/PRS/private_output/202009_batch/snpnet.eval.2_refit.tsv'\n",
    "lst_f <- 'GBE_ID.lst'\n",
    "cat_f <- '/oak/stanford/groups/mrivas/users/ytanigaw/repos/rivas-lab/ukbb-tools/05_gbe/extras/20200812_GBE_category/GBE_category.20201024.tsv'\n",
    "\n",
    "# output\n",
    "\n",
    "summary_f <- '/scratch/groups/mrivas/projects/PRS/GBE_data/traits.tsv'\n"
   ]
  },
  {
   "cell_type": "code",
   "execution_count": 39,
   "metadata": {},
   "outputs": [],
   "source": [
    "lst_f %>% fread(head=F) %>% pull() -> lst\n"
   ]
  },
  {
   "cell_type": "code",
   "execution_count": 41,
   "metadata": {},
   "outputs": [],
   "source": [
    "cat_f %>% \n",
    "fread(\n",
    "    colClasses = c('#GBE_category'='character', 'GBE_ID'='character'),\n",
    "    select=c('#GBE_category', 'GBE_ID', 'GBE_short_name')\n",
    ") %>%\n",
    "rename('GBE_category'='#GBE_category') %>%\n",
    "rename('trait_name'='GBE_short_name', 'trait_category'='GBE_category') -> cat_df\n"
   ]
  },
  {
   "cell_type": "code",
   "execution_count": 52,
   "metadata": {},
   "outputs": [],
   "source": [
    "f %>%\n",
    "fread(\n",
    "    colClasses = c('#GBE_ID'='character'),\n",
    "    select = c(\n",
    "        '#GBE_ID', 'split', 'geno', 'covar', 'geno_covar', 'geno_delta', 'n_variables', 'family'\n",
    "    )\n",
    ") %>%\n",
    "rename('GBE_ID'='#GBE_ID') %>%\n",
    "filter(split == 'test', GBE_ID %in% lst) %>% \n",
    "unique() %>% select(-split) %>%\n",
    "left_join(cat_df, by='GBE_ID') %>%\n",
    "rename('trait'='GBE_ID') %>%\n",
    "select(\n",
    "    trait_category, trait, trait_name, family,\n",
    "    geno, covar, geno_covar, geno_delta, n_variables\n",
    ") %>% arrange(-geno_delta) -> df \n"
   ]
  },
  {
   "cell_type": "code",
   "execution_count": 53,
   "metadata": {},
   "outputs": [
    {
     "data": {
      "text/html": [
       "1772"
      ],
      "text/latex": [
       "1772"
      ],
      "text/markdown": [
       "1772"
      ],
      "text/plain": [
       "[1] 1772"
      ]
     },
     "metadata": {},
     "output_type": "display_data"
    }
   ],
   "source": [
    "length(lst)"
   ]
  },
  {
   "cell_type": "code",
   "execution_count": 55,
   "metadata": {},
   "outputs": [
    {
     "data": {
      "text/html": [
       "<style>\n",
       ".list-inline {list-style: none; margin:0; padding: 0}\n",
       ".list-inline>li {display: inline-block}\n",
       ".list-inline>li:not(:last-child)::after {content: \"\\00b7\"; padding: 0 .5ex}\n",
       "</style>\n",
       "<ol class=list-inline><li>1772</li><li>9</li></ol>\n"
      ],
      "text/latex": [
       "\\begin{enumerate*}\n",
       "\\item 1772\n",
       "\\item 9\n",
       "\\end{enumerate*}\n"
      ],
      "text/markdown": [
       "1. 1772\n",
       "2. 9\n",
       "\n",
       "\n"
      ],
      "text/plain": [
       "[1] 1772    9"
      ]
     },
     "metadata": {},
     "output_type": "display_data"
    }
   ],
   "source": [
    "df %>% dim()\n"
   ]
  },
  {
   "cell_type": "code",
   "execution_count": 58,
   "metadata": {},
   "outputs": [],
   "source": [
    "df %>%\n",
    "rename('#trait_category' = 'trait_category') %>%\n",
    "fwrite(summary_f, sep='\\t', na = \"NA\", quote=F)\n"
   ]
  },
  {
   "cell_type": "code",
   "execution_count": 59,
   "metadata": {},
   "outputs": [
    {
     "data": {
      "text/html": [
       "'/scratch/groups/mrivas/projects/PRS/GBE_data/traits.tsv'"
      ],
      "text/latex": [
       "'/scratch/groups/mrivas/projects/PRS/GBE\\_data/traits.tsv'"
      ],
      "text/markdown": [
       "'/scratch/groups/mrivas/projects/PRS/GBE_data/traits.tsv'"
      ],
      "text/plain": [
       "[1] \"/scratch/groups/mrivas/projects/PRS/GBE_data/traits.tsv\""
      ]
     },
     "metadata": {},
     "output_type": "display_data"
    }
   ],
   "source": [
    "summary_f"
   ]
  },
  {
   "cell_type": "code",
   "execution_count": null,
   "metadata": {},
   "outputs": [],
   "source": []
  }
 ],
 "metadata": {
  "kernelspec": {
   "display_name": "R",
   "language": "R",
   "name": "ir"
  },
  "language_info": {
   "codemirror_mode": "r",
   "file_extension": ".r",
   "mimetype": "text/x-r-source",
   "name": "R",
   "pygments_lexer": "r",
   "version": "3.6.2"
  }
 },
 "nbformat": 4,
 "nbformat_minor": 4
}

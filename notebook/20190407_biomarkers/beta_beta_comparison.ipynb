{
 "cells": [
  {
   "cell_type": "code",
   "execution_count": 1,
   "metadata": {},
   "outputs": [
    {
     "name": "stderr",
     "output_type": "stream",
     "text": [
      "── Attaching packages ─────────────────────────────────────── tidyverse 1.2.1 ──\n",
      "✔ ggplot2 3.1.0       ✔ purrr   0.3.1  \n",
      "✔ tibble  2.0.1       ✔ dplyr   0.8.0.1\n",
      "✔ tidyr   0.8.3       ✔ stringr 1.4.0  \n",
      "✔ readr   1.3.1       ✔ forcats 0.4.0  \n",
      "── Conflicts ────────────────────────────────────────── tidyverse_conflicts() ──\n",
      "✖ dplyr::filter() masks stats::filter()\n",
      "✖ dplyr::lag()    masks stats::lag()\n",
      "\n",
      "Attaching package: ‘data.table’\n",
      "\n",
      "The following objects are masked from ‘package:dplyr’:\n",
      "\n",
      "    between, first, last\n",
      "\n",
      "The following object is masked from ‘package:purrr’:\n",
      "\n",
      "    transpose\n",
      "\n"
     ]
    }
   ],
   "source": [
    "library(tidyverse)\n",
    "library(data.table)\n"
   ]
  },
  {
   "cell_type": "code",
   "execution_count": 8,
   "metadata": {},
   "outputs": [],
   "source": [
    "repo_dir <- '/oak/stanford/groups/mrivas/projects/PRS'"
   ]
  },
  {
   "cell_type": "code",
   "execution_count": 9,
   "metadata": {},
   "outputs": [],
   "source": [
    "read_beta <- function(\n",
    "    phe_name,\n",
    "    task_name,\n",
    "    pipeline_name = 'snpnet_biomarker_PRS',\n",
    "    repo_dir = '/oak/stanford/groups/mrivas/projects/PRS'    \n",
    "){    \n",
    "    beta_file_name <- file.path(\n",
    "        repo_dir, 'private_output', pipeline_name, task_name, '3_snpnet', paste0(phe_name, '.tsv.gz')\n",
    "    )\n",
    "    print(beta_file_name)\n",
    "    fread(\n",
    "        cmd=paste0('zcat ', beta_file_name, '| sed -e \"s/^#//g\"')\n",
    "    )\n",
    "}"
   ]
  },
  {
   "cell_type": "code",
   "execution_count": 10,
   "metadata": {},
   "outputs": [
    {
     "name": "stdout",
     "output_type": "stream",
     "text": [
      "[1] \"/oak/stanford/groups/mrivas/projects/PRS/private_output/snpnet_biomarker_PRS/biomarkers_20190407_INT/3_snpnet/Lipoprotein_A.adjust.statins.tsv.gz\"\n"
     ]
    }
   ],
   "source": [
    "beta_INT_df <- read_beta(\n",
    "    phe_name = 'Lipoprotein_A.adjust.statins',\n",
    "    task_name = 'biomarkers_20190407_INT'\n",
    ")"
   ]
  },
  {
   "cell_type": "code",
   "execution_count": 11,
   "metadata": {},
   "outputs": [
    {
     "name": "stdout",
     "output_type": "stream",
     "text": [
      "[1] \"/oak/stanford/groups/mrivas/projects/PRS/private_output/snpnet_biomarker_PRS/biomarkers_20190407/3_snpnet/Lipoprotein_A_adjstatins.tsv.gz\"\n"
     ]
    }
   ],
   "source": [
    "beta_df <- read_beta(\n",
    "    phe_name = 'Lipoprotein_A_adjstatins',\n",
    "    task_name = 'biomarkers_20190407'\n",
    ")"
   ]
  },
  {
   "cell_type": "code",
   "execution_count": 12,
   "metadata": {},
   "outputs": [],
   "source": [
    "beta_joined <- beta_df %>% select(ID, BETA) %>%\n",
    "full_join(\n",
    "    beta_INT_df %>% select(ID, BETA) %>% rename(BETA_INT = BETA),\n",
    "    by='ID'\n",
    ")"
   ]
  },
  {
   "cell_type": "code",
   "execution_count": 13,
   "metadata": {},
   "outputs": [
    {
     "data": {
      "text/html": [
       "<table>\n",
       "<thead><tr><th scope=col>n</th><th scope=col>n_BETA</th><th scope=col>n_BETA_INT</th></tr></thead>\n",
       "<tbody>\n",
       "\t<tr><td>11614</td><td>3885 </td><td>8643 </td></tr>\n",
       "</tbody>\n",
       "</table>\n"
      ],
      "text/latex": [
       "\\begin{tabular}{r|lll}\n",
       " n & n\\_BETA & n\\_BETA\\_INT\\\\\n",
       "\\hline\n",
       "\t 11614 & 3885  & 8643 \\\\\n",
       "\\end{tabular}\n"
      ],
      "text/markdown": [
       "\n",
       "| n | n_BETA | n_BETA_INT |\n",
       "|---|---|---|\n",
       "| 11614 | 3885  | 8643  |\n",
       "\n"
      ],
      "text/plain": [
       "  n     n_BETA n_BETA_INT\n",
       "1 11614 3885   8643      "
      ]
     },
     "metadata": {},
     "output_type": "display_data"
    }
   ],
   "source": [
    "beta_joined %>% summarise(\n",
    "    n = n(),\n",
    "    n_BETA = sum(!is.na(BETA)),\n",
    "    n_BETA_INT = sum(!is.na(BETA_INT))\n",
    ")"
   ]
  },
  {
   "cell_type": "code",
   "execution_count": 14,
   "metadata": {},
   "outputs": [
    {
     "data": {
      "text/html": [
       "<ol class=list-inline>\n",
       "\t<li>914</li>\n",
       "\t<li>3</li>\n",
       "</ol>\n"
      ],
      "text/latex": [
       "\\begin{enumerate*}\n",
       "\\item 914\n",
       "\\item 3\n",
       "\\end{enumerate*}\n"
      ],
      "text/markdown": [
       "1. 914\n",
       "2. 3\n",
       "\n",
       "\n"
      ],
      "text/plain": [
       "[1] 914   3"
      ]
     },
     "metadata": {},
     "output_type": "display_data"
    }
   ],
   "source": [
    "beta_joined %>% drop_na() %>% dim()"
   ]
  },
  {
   "cell_type": "code",
   "execution_count": 15,
   "metadata": {},
   "outputs": [
    {
     "data": {
      "image/png": "[encoded data removed]",
      "text/plain": [
       "plot without title"
      ]
     },
     "metadata": {},
     "output_type": "display_data"
    }
   ],
   "source": [
    "beta_joined %>% drop_na() %>% \n",
    "ggplot(aes(x=BETA, y=BETA_INT))+ \n",
    "# geom_abline(intercept=0, slope=1, color='red') + \n",
    "# geom_abline(intercept=lm1$coefficients[1], slope=lm1$coefficients[2], \n",
    "#             color='gray', size=.5, linetype = \"dashed\") + \n",
    "geom_point(stat = 'identity') +\n",
    "theme_bw() + \n",
    "# xlim(-max, max) + ylim(-max, max)+ \n",
    "labs(x = 'BETA from snpnet for the original response', y = 'BETA from snpnet for INT')     "
   ]
  },
  {
   "cell_type": "code",
   "execution_count": null,
   "metadata": {},
   "outputs": [],
   "source": []
  }
 ],
 "metadata": {
  "kernelspec": {
   "display_name": "R 3.5 (module)",
   "language": "R",
   "name": "ir35ml"
  },
  "language_info": {
   "codemirror_mode": "r",
   "file_extension": ".r",
   "mimetype": "text/x-r-source",
   "name": "R",
   "pygments_lexer": "r",
   "version": "3.5.1"
  }
 },
 "nbformat": 4,
 "nbformat_minor": 2
}

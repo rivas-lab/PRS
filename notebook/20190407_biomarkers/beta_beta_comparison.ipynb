{
 "cells": [
  {
   "cell_type": "code",
   "execution_count": 1,
   "metadata": {},
   "outputs": [
    {
     "name": "stderr",
     "output_type": "stream",
     "text": [
      "── Attaching packages ─────────────────────────────────────── tidyverse 1.2.1 ──\n",
      "✔ ggplot2 3.1.0       ✔ purrr   0.3.1  \n",
      "✔ tibble  2.0.1       ✔ dplyr   0.8.0.1\n",
      "✔ tidyr   0.8.3       ✔ stringr 1.4.0  \n",
      "✔ readr   1.3.1       ✔ forcats 0.4.0  \n",
      "── Conflicts ────────────────────────────────────────── tidyverse_conflicts() ──\n",
      "✖ dplyr::filter() masks stats::filter()\n",
      "✖ dplyr::lag()    masks stats::lag()\n",
      "\n",
      "Attaching package: ‘data.table’\n",
      "\n",
      "The following objects are masked from ‘package:dplyr’:\n",
      "\n",
      "    between, first, last\n",
      "\n",
      "The following object is masked from ‘package:purrr’:\n",
      "\n",
      "    transpose\n",
      "\n"
     ]
    }
   ],
   "source": [
    "library(tidyverse)\n",
    "library(data.table)\n"
   ]
  },
  {
   "cell_type": "code",
   "execution_count": 2,
   "metadata": {},
   "outputs": [],
   "source": [
    "repo_dir <- '/oak/stanford/groups/mrivas/projects/PRS'"
   ]
  },
  {
   "cell_type": "code",
   "execution_count": 3,
   "metadata": {},
   "outputs": [],
   "source": [
    "read_beta <- function(\n",
    "    phe_name,\n",
    "    task_name,\n",
    "    pipeline_name = 'snpnet_biomarker_PRS',\n",
    "    repo_dir = '/oak/stanford/groups/mrivas/projects/PRS'    \n",
    "){    \n",
    "    beta_file_name <- file.path(\n",
    "        repo_dir, 'private_output', pipeline_name, task_name, '3_snpnet', paste0(phe_name, '.tsv.gz')\n",
    "    )\n",
    "    print(beta_file_name)\n",
    "    fread(\n",
    "        cmd=paste0('zcat ', beta_file_name, '| sed -e \"s/^#//g\"')\n",
    "    )\n",
    "}"
   ]
  },
  {
   "cell_type": "code",
   "execution_count": 4,
   "metadata": {},
   "outputs": [
    {
     "name": "stdout",
     "output_type": "stream",
     "text": [
      "[1] \"/oak/stanford/groups/mrivas/projects/PRS/private_output/snpnet_biomarker_PRS/biomarkers_20190407_INT/3_snpnet/Lipoprotein_A.adjust.statins.tsv.gz\"\n"
     ]
    }
   ],
   "source": [
    "beta_INT_df <- read_beta(\n",
    "    phe_name = 'Lipoprotein_A.adjust.statins',\n",
    "    task_name = 'biomarkers_20190407_INT'\n",
    ")"
   ]
  },
  {
   "cell_type": "code",
   "execution_count": 5,
   "metadata": {},
   "outputs": [
    {
     "name": "stdout",
     "output_type": "stream",
     "text": [
      "[1] \"/oak/stanford/groups/mrivas/projects/PRS/private_output/snpnet_biomarker_PRS/biomarkers_20190407/3_snpnet/Lipoprotein_A_adjstatins.tsv.gz\"\n"
     ]
    }
   ],
   "source": [
    "beta_df <- read_beta(\n",
    "    phe_name = 'Lipoprotein_A_adjstatins',\n",
    "    task_name = 'biomarkers_20190407'\n",
    ")"
   ]
  },
  {
   "cell_type": "code",
   "execution_count": 25,
   "metadata": {},
   "outputs": [],
   "source": [
    "beta_joined <- beta_df %>% select(ID, BETA) %>%\n",
    "full_join(\n",
    "    beta_INT_df %>% select(ID, BETA) %>% rename(BETA_INT = BETA),\n",
    "    by='ID'\n",
    ") %>% \n",
    "replace_na(list(BETA = 0, BETA_INT = 0))  %>%\n",
    "mutate(\n",
    "    INT_only = (BETA == 0),\n",
    "    original_only = (BETA_INT == 0),\n",
    "    is_SNP_shared = if_else(\n",
    "        INT_only, 'INT only (7729)',\n",
    "        if_else(\n",
    "            original_only, 'original only (2971)', 'captured in both (914)'\n",
    "        )\n",
    "    )\n",
    ")"
   ]
  },
  {
   "cell_type": "code",
   "execution_count": 26,
   "metadata": {},
   "outputs": [
    {
     "data": {
      "text/html": [
       "<table>\n",
       "<thead><tr><th scope=col>is_SNP_shared</th><th scope=col>n</th></tr></thead>\n",
       "<tbody>\n",
       "\t<tr><td>captured in both (914)</td><td> 914                  </td></tr>\n",
       "\t<tr><td>INT only (7729)       </td><td>7729                  </td></tr>\n",
       "\t<tr><td>original only (2971)  </td><td>2971                  </td></tr>\n",
       "</tbody>\n",
       "</table>\n"
      ],
      "text/latex": [
       "\\begin{tabular}{r|ll}\n",
       " is\\_SNP\\_shared & n\\\\\n",
       "\\hline\n",
       "\t captured in both (914) &  914                  \\\\\n",
       "\t INT only (7729)        & 7729                  \\\\\n",
       "\t original only (2971)   & 2971                  \\\\\n",
       "\\end{tabular}\n"
      ],
      "text/markdown": [
       "\n",
       "| is_SNP_shared | n |\n",
       "|---|---|\n",
       "| captured in both (914) |  914                   |\n",
       "| INT only (7729)        | 7729                   |\n",
       "| original only (2971)   | 2971                   |\n",
       "\n"
      ],
      "text/plain": [
       "  is_SNP_shared          n   \n",
       "1 captured in both (914)  914\n",
       "2 INT only (7729)        7729\n",
       "3 original only (2971)   2971"
      ]
     },
     "metadata": {},
     "output_type": "display_data"
    }
   ],
   "source": [
    "beta_joined %>% count(is_SNP_shared)"
   ]
  },
  {
   "cell_type": "code",
   "execution_count": 27,
   "metadata": {},
   "outputs": [
    {
     "data": {
      "image/png": "[encoded data removed]",
      "text/plain": [
       "plot without title"
      ]
     },
     "metadata": {},
     "output_type": "display_data"
    }
   ],
   "source": [
    "beta_joined %>% \n",
    "ggplot(aes(x=BETA, y=BETA_INT, color=is_SNP_shared))+ \n",
    "# geom_abline(intercept=0, slope=1, color='red') + \n",
    "# geom_abline(intercept=lm1$coefficients[1], slope=lm1$coefficients[2], \n",
    "#             color='gray', size=.5, linetype = \"dashed\") + \n",
    "geom_point(stat = 'identity') +\n",
    "theme_bw() + \n",
    "# xlim(-max, max) + ylim(-max, max)+ \n",
    "labs(\n",
    "    title = 'Comparison of BETAs of snpnet runs with/without INT (Lipoprotein A)',\n",
    "    x = 'BETA from snpnet for the original response', \n",
    "    y = 'BETA from snpnet for phenotypes with inverse-normal transformation (INT)'\n",
    ") + \n",
    "theme(legend.position = c(0.2, 0.8))"
   ]
  },
  {
   "cell_type": "code",
   "execution_count": 28,
   "metadata": {},
   "outputs": [
    {
     "name": "stderr",
     "output_type": "stream",
     "text": [
      "Saving 6.67 x 6.67 in image\n"
     ]
    }
   ],
   "source": [
    "ggsave('beta_beta_comparison.LpA.png')"
   ]
  },
  {
   "cell_type": "code",
   "execution_count": null,
   "metadata": {},
   "outputs": [],
   "source": []
  }
 ],
 "metadata": {
  "kernelspec": {
   "display_name": "R 3.5 (module)",
   "language": "R",
   "name": "ir35ml"
  },
  "language_info": {
   "codemirror_mode": "r",
   "file_extension": ".r",
   "mimetype": "text/x-r-source",
   "name": "R",
   "pygments_lexer": "r",
   "version": "3.5.1"
  }
 },
 "nbformat": 4,
 "nbformat_minor": 2
}

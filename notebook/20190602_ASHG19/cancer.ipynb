{
 "cells": [
  {
   "cell_type": "code",
   "execution_count": 1,
   "metadata": {},
   "outputs": [],
   "source": [
    "suppressPackageStartupMessages(require(tidyverse))\n",
    "suppressPackageStartupMessages(require(data.table))\n"
   ]
  },
  {
   "cell_type": "code",
   "execution_count": 6,
   "metadata": {},
   "outputs": [],
   "source": [
    "snpnet_scores_f <- '/home/users/ytanigaw/repos/rivas-lab/PRS/public_output/snpnet_PRS/cancer_20190303.tsv'"
   ]
  },
  {
   "cell_type": "code",
   "execution_count": 7,
   "metadata": {},
   "outputs": [],
   "source": [
    "snpnet_scores_df <- fread(\n",
    "    cmd=paste0('cat ', snpnet_scores_f, ' | sed -e \"s/^#//g\"'), sep='\\t'\n",
    ")"
   ]
  },
  {
   "cell_type": "code",
   "execution_count": 8,
   "metadata": {},
   "outputs": [
    {
     "data": {
      "text/html": [
       "<table>\n",
       "<caption>A data.frame: 20 × 10</caption>\n",
       "<thead>\n",
       "\t<tr><th scope=col>GBE_ID</th><th scope=col>PRS_model</th><th scope=col>phe_type</th><th scope=col>phe_name</th><th scope=col>N</th><th scope=col>Covariates_only</th><th scope=col>Genotype_and_covariates</th><th scope=col>Genotype_only</th><th scope=col>delta</th><th scope=col>rank_geno</th></tr>\n",
       "\t<tr><th scope=col>&lt;chr&gt;</th><th scope=col>&lt;chr&gt;</th><th scope=col>&lt;chr&gt;</th><th scope=col>&lt;chr&gt;</th><th scope=col>&lt;int&gt;</th><th scope=col>&lt;dbl&gt;</th><th scope=col>&lt;dbl&gt;</th><th scope=col>&lt;dbl&gt;</th><th scope=col>&lt;dbl&gt;</th><th scope=col>&lt;dbl&gt;</th></tr>\n",
       "</thead>\n",
       "<tbody>\n",
       "\t<tr><td>cancer1003</td><td>snpnet_PRS</td><td>bin</td><td>skin_cancer                         </td><td>19170</td><td>0.6473527</td><td>0.6867887</td><td>0.6157386</td><td> 0.0394360</td><td> 3</td></tr>\n",
       "\t<tr><td>cancer1060</td><td>snpnet_PRS</td><td>bin</td><td>non-melanoma_skin_cancer            </td><td>16791</td><td>0.6658344</td><td>0.7042109</td><td>0.6249735</td><td> 0.0383765</td><td> 2</td></tr>\n",
       "\t<tr><td>cancer1059</td><td>snpnet_PRS</td><td>bin</td><td>malignant_melanoma                  </td><td> 4099</td><td>0.5689306</td><td>0.6066221</td><td>0.5998252</td><td> 0.0376915</td><td> 4</td></tr>\n",
       "\t<tr><td>cancer1044</td><td>snpnet_PRS</td><td>bin</td><td>prostate_cancer                     </td><td> 6460</td><td>0.8800511</td><td>0.8975619</td><td>0.6417883</td><td> 0.0175108</td><td> 1</td></tr>\n",
       "\t<tr><td>cancer1002</td><td>snpnet_PRS</td><td>bin</td><td>breast_cancer                       </td><td>11243</td><td>0.7998432</td><td>0.8167989</td><td>0.5902129</td><td> 0.0169557</td><td> 5</td></tr>\n",
       "\t<tr><td>cancer1038</td><td>snpnet_PRS</td><td>bin</td><td>male_genital_tract_cancer           </td><td> 3449</td><td>0.8505162</td><td>0.8581265</td><td>0.5897118</td><td> 0.0076103</td><td> 6</td></tr>\n",
       "\t<tr><td>cancer1020</td><td>snpnet_PRS</td><td>bin</td><td>large_bowel_cancer/colorectal_cancer</td><td> 4382</td><td>0.6849862</td><td>0.6888996</td><td>0.5490780</td><td> 0.0039134</td><td> 7</td></tr>\n",
       "\t<tr><td>cancer1053</td><td>snpnet_PRS</td><td>bin</td><td>non-hodgkins_lymphoma               </td><td> 1429</td><td>0.6325762</td><td>0.6357175</td><td>0.5283092</td><td> 0.0031413</td><td>11</td></tr>\n",
       "\t<tr><td>cancer1041</td><td>snpnet_PRS</td><td>bin</td><td>cervical_cancer                     </td><td> 2815</td><td>0.7595289</td><td>0.7623187</td><td>0.5241428</td><td> 0.0027898</td><td>13</td></tr>\n",
       "\t<tr><td>cancer1040</td><td>snpnet_PRS</td><td>bin</td><td>uterine/endometrial_cancer          </td><td> 1610</td><td>0.8060713</td><td>0.8078349</td><td>0.5478750</td><td> 0.0017636</td><td> 8</td></tr>\n",
       "\t<tr><td>cancer1022</td><td>snpnet_PRS</td><td>bin</td><td>colon_cancer/sigmoid_cancer         </td><td> 3251</td><td>0.6916376</td><td>0.6933844</td><td>0.5324778</td><td> 0.0017468</td><td>10</td></tr>\n",
       "\t<tr><td>cancer1047</td><td>snpnet_PRS</td><td>bin</td><td>lymphoma                            </td><td> 1852</td><td>0.5831537</td><td>0.5842057</td><td>0.5134216</td><td> 0.0010520</td><td>17</td></tr>\n",
       "\t<tr><td>cancer1023</td><td>snpnet_PRS</td><td>bin</td><td>rectal_cancer                       </td><td> 2026</td><td>0.6738540</td><td>0.6745183</td><td>0.5473436</td><td> 0.0006643</td><td> 9</td></tr>\n",
       "\t<tr><td>cancer1001</td><td>snpnet_PRS</td><td>bin</td><td>lung_cancer                         </td><td> 1981</td><td>0.7051802</td><td>0.7057319</td><td>0.5229068</td><td> 0.0005517</td><td>14</td></tr>\n",
       "\t<tr><td>cancer1035</td><td>snpnet_PRS</td><td>bin</td><td>bladder_cancer                      </td><td> 1997</td><td>0.7905972</td><td>0.7907293</td><td>0.5247282</td><td> 0.0001321</td><td>12</td></tr>\n",
       "\t<tr><td>cancer1084</td><td>snpnet_PRS</td><td>bin</td><td>respiratory_/_intrathoracic_cancer  </td><td> 2392</td><td>0.6845019</td><td>0.6843601</td><td>0.5197211</td><td>-0.0001418</td><td>16</td></tr>\n",
       "\t<tr><td>cancer1085</td><td>snpnet_PRS</td><td>bin</td><td>bone_metastases_/_bony_secondaries  </td><td> 1780</td><td>0.6795475</td><td>0.6779866</td><td>0.5050749</td><td>-0.0015609</td><td>20</td></tr>\n",
       "\t<tr><td>cancer1037</td><td>snpnet_PRS</td><td>bin</td><td>female_genital_tract_cancer         </td><td> 4947</td><td>0.7566946</td><td>0.7548820</td><td>0.5110647</td><td>-0.0018126</td><td>18</td></tr>\n",
       "\t<tr><td>cancer1034</td><td>snpnet_PRS</td><td>bin</td><td>kidney/renal_cell_cancer            </td><td> 1093</td><td>0.6876275</td><td>0.6853677</td><td>0.5055564</td><td>-0.0022598</td><td>19</td></tr>\n",
       "\t<tr><td>cancer1039</td><td>snpnet_PRS</td><td>bin</td><td>ovarian_cancer                      </td><td> 1208</td><td>0.7846115</td><td>0.7822347</td><td>0.5197532</td><td>-0.0023768</td><td>15</td></tr>\n",
       "</tbody>\n",
       "</table>\n"
      ],
      "text/latex": [
       "A data.frame: 20 × 10\n",
       "\\begin{tabular}{r|llllllllll}\n",
       " GBE\\_ID & PRS\\_model & phe\\_type & phe\\_name & N & Covariates\\_only & Genotype\\_and\\_covariates & Genotype\\_only & delta & rank\\_geno\\\\\n",
       " <chr> & <chr> & <chr> & <chr> & <int> & <dbl> & <dbl> & <dbl> & <dbl> & <dbl>\\\\\n",
       "\\hline\n",
       "\t cancer1003 & snpnet\\_PRS & bin & skin\\_cancer                          & 19170 & 0.6473527 & 0.6867887 & 0.6157386 &  0.0394360 &  3\\\\\n",
       "\t cancer1060 & snpnet\\_PRS & bin & non-melanoma\\_skin\\_cancer             & 16791 & 0.6658344 & 0.7042109 & 0.6249735 &  0.0383765 &  2\\\\\n",
       "\t cancer1059 & snpnet\\_PRS & bin & malignant\\_melanoma                   &  4099 & 0.5689306 & 0.6066221 & 0.5998252 &  0.0376915 &  4\\\\\n",
       "\t cancer1044 & snpnet\\_PRS & bin & prostate\\_cancer                      &  6460 & 0.8800511 & 0.8975619 & 0.6417883 &  0.0175108 &  1\\\\\n",
       "\t cancer1002 & snpnet\\_PRS & bin & breast\\_cancer                        & 11243 & 0.7998432 & 0.8167989 & 0.5902129 &  0.0169557 &  5\\\\\n",
       "\t cancer1038 & snpnet\\_PRS & bin & male\\_genital\\_tract\\_cancer            &  3449 & 0.8505162 & 0.8581265 & 0.5897118 &  0.0076103 &  6\\\\\n",
       "\t cancer1020 & snpnet\\_PRS & bin & large\\_bowel\\_cancer/colorectal\\_cancer &  4382 & 0.6849862 & 0.6888996 & 0.5490780 &  0.0039134 &  7\\\\\n",
       "\t cancer1053 & snpnet\\_PRS & bin & non-hodgkins\\_lymphoma                &  1429 & 0.6325762 & 0.6357175 & 0.5283092 &  0.0031413 & 11\\\\\n",
       "\t cancer1041 & snpnet\\_PRS & bin & cervical\\_cancer                      &  2815 & 0.7595289 & 0.7623187 & 0.5241428 &  0.0027898 & 13\\\\\n",
       "\t cancer1040 & snpnet\\_PRS & bin & uterine/endometrial\\_cancer           &  1610 & 0.8060713 & 0.8078349 & 0.5478750 &  0.0017636 &  8\\\\\n",
       "\t cancer1022 & snpnet\\_PRS & bin & colon\\_cancer/sigmoid\\_cancer          &  3251 & 0.6916376 & 0.6933844 & 0.5324778 &  0.0017468 & 10\\\\\n",
       "\t cancer1047 & snpnet\\_PRS & bin & lymphoma                             &  1852 & 0.5831537 & 0.5842057 & 0.5134216 &  0.0010520 & 17\\\\\n",
       "\t cancer1023 & snpnet\\_PRS & bin & rectal\\_cancer                        &  2026 & 0.6738540 & 0.6745183 & 0.5473436 &  0.0006643 &  9\\\\\n",
       "\t cancer1001 & snpnet\\_PRS & bin & lung\\_cancer                          &  1981 & 0.7051802 & 0.7057319 & 0.5229068 &  0.0005517 & 14\\\\\n",
       "\t cancer1035 & snpnet\\_PRS & bin & bladder\\_cancer                       &  1997 & 0.7905972 & 0.7907293 & 0.5247282 &  0.0001321 & 12\\\\\n",
       "\t cancer1084 & snpnet\\_PRS & bin & respiratory\\_/\\_intrathoracic\\_cancer   &  2392 & 0.6845019 & 0.6843601 & 0.5197211 & -0.0001418 & 16\\\\\n",
       "\t cancer1085 & snpnet\\_PRS & bin & bone\\_metastases\\_/\\_bony\\_secondaries   &  1780 & 0.6795475 & 0.6779866 & 0.5050749 & -0.0015609 & 20\\\\\n",
       "\t cancer1037 & snpnet\\_PRS & bin & female\\_genital\\_tract\\_cancer          &  4947 & 0.7566946 & 0.7548820 & 0.5110647 & -0.0018126 & 18\\\\\n",
       "\t cancer1034 & snpnet\\_PRS & bin & kidney/renal\\_cell\\_cancer             &  1093 & 0.6876275 & 0.6853677 & 0.5055564 & -0.0022598 & 19\\\\\n",
       "\t cancer1039 & snpnet\\_PRS & bin & ovarian\\_cancer                       &  1208 & 0.7846115 & 0.7822347 & 0.5197532 & -0.0023768 & 15\\\\\n",
       "\\end{tabular}\n"
      ],
      "text/markdown": [
       "\n",
       "A data.frame: 20 × 10\n",
       "\n",
       "| GBE_ID &lt;chr&gt; | PRS_model &lt;chr&gt; | phe_type &lt;chr&gt; | phe_name &lt;chr&gt; | N &lt;int&gt; | Covariates_only &lt;dbl&gt; | Genotype_and_covariates &lt;dbl&gt; | Genotype_only &lt;dbl&gt; | delta &lt;dbl&gt; | rank_geno &lt;dbl&gt; |\n",
       "|---|---|---|---|---|---|---|---|---|---|\n",
       "| cancer1003 | snpnet_PRS | bin | skin_cancer                          | 19170 | 0.6473527 | 0.6867887 | 0.6157386 |  0.0394360 |  3 |\n",
       "| cancer1060 | snpnet_PRS | bin | non-melanoma_skin_cancer             | 16791 | 0.6658344 | 0.7042109 | 0.6249735 |  0.0383765 |  2 |\n",
       "| cancer1059 | snpnet_PRS | bin | malignant_melanoma                   |  4099 | 0.5689306 | 0.6066221 | 0.5998252 |  0.0376915 |  4 |\n",
       "| cancer1044 | snpnet_PRS | bin | prostate_cancer                      |  6460 | 0.8800511 | 0.8975619 | 0.6417883 |  0.0175108 |  1 |\n",
       "| cancer1002 | snpnet_PRS | bin | breast_cancer                        | 11243 | 0.7998432 | 0.8167989 | 0.5902129 |  0.0169557 |  5 |\n",
       "| cancer1038 | snpnet_PRS | bin | male_genital_tract_cancer            |  3449 | 0.8505162 | 0.8581265 | 0.5897118 |  0.0076103 |  6 |\n",
       "| cancer1020 | snpnet_PRS | bin | large_bowel_cancer/colorectal_cancer |  4382 | 0.6849862 | 0.6888996 | 0.5490780 |  0.0039134 |  7 |\n",
       "| cancer1053 | snpnet_PRS | bin | non-hodgkins_lymphoma                |  1429 | 0.6325762 | 0.6357175 | 0.5283092 |  0.0031413 | 11 |\n",
       "| cancer1041 | snpnet_PRS | bin | cervical_cancer                      |  2815 | 0.7595289 | 0.7623187 | 0.5241428 |  0.0027898 | 13 |\n",
       "| cancer1040 | snpnet_PRS | bin | uterine/endometrial_cancer           |  1610 | 0.8060713 | 0.8078349 | 0.5478750 |  0.0017636 |  8 |\n",
       "| cancer1022 | snpnet_PRS | bin | colon_cancer/sigmoid_cancer          |  3251 | 0.6916376 | 0.6933844 | 0.5324778 |  0.0017468 | 10 |\n",
       "| cancer1047 | snpnet_PRS | bin | lymphoma                             |  1852 | 0.5831537 | 0.5842057 | 0.5134216 |  0.0010520 | 17 |\n",
       "| cancer1023 | snpnet_PRS | bin | rectal_cancer                        |  2026 | 0.6738540 | 0.6745183 | 0.5473436 |  0.0006643 |  9 |\n",
       "| cancer1001 | snpnet_PRS | bin | lung_cancer                          |  1981 | 0.7051802 | 0.7057319 | 0.5229068 |  0.0005517 | 14 |\n",
       "| cancer1035 | snpnet_PRS | bin | bladder_cancer                       |  1997 | 0.7905972 | 0.7907293 | 0.5247282 |  0.0001321 | 12 |\n",
       "| cancer1084 | snpnet_PRS | bin | respiratory_/_intrathoracic_cancer   |  2392 | 0.6845019 | 0.6843601 | 0.5197211 | -0.0001418 | 16 |\n",
       "| cancer1085 | snpnet_PRS | bin | bone_metastases_/_bony_secondaries   |  1780 | 0.6795475 | 0.6779866 | 0.5050749 | -0.0015609 | 20 |\n",
       "| cancer1037 | snpnet_PRS | bin | female_genital_tract_cancer          |  4947 | 0.7566946 | 0.7548820 | 0.5110647 | -0.0018126 | 18 |\n",
       "| cancer1034 | snpnet_PRS | bin | kidney/renal_cell_cancer             |  1093 | 0.6876275 | 0.6853677 | 0.5055564 | -0.0022598 | 19 |\n",
       "| cancer1039 | snpnet_PRS | bin | ovarian_cancer                       |  1208 | 0.7846115 | 0.7822347 | 0.5197532 | -0.0023768 | 15 |\n",
       "\n"
      ],
      "text/plain": [
       "   GBE_ID     PRS_model  phe_type phe_name                             N    \n",
       "1  cancer1003 snpnet_PRS bin      skin_cancer                          19170\n",
       "2  cancer1060 snpnet_PRS bin      non-melanoma_skin_cancer             16791\n",
       "3  cancer1059 snpnet_PRS bin      malignant_melanoma                    4099\n",
       "4  cancer1044 snpnet_PRS bin      prostate_cancer                       6460\n",
       "5  cancer1002 snpnet_PRS bin      breast_cancer                        11243\n",
       "6  cancer1038 snpnet_PRS bin      male_genital_tract_cancer             3449\n",
       "7  cancer1020 snpnet_PRS bin      large_bowel_cancer/colorectal_cancer  4382\n",
       "8  cancer1053 snpnet_PRS bin      non-hodgkins_lymphoma                 1429\n",
       "9  cancer1041 snpnet_PRS bin      cervical_cancer                       2815\n",
       "10 cancer1040 snpnet_PRS bin      uterine/endometrial_cancer            1610\n",
       "11 cancer1022 snpnet_PRS bin      colon_cancer/sigmoid_cancer           3251\n",
       "12 cancer1047 snpnet_PRS bin      lymphoma                              1852\n",
       "13 cancer1023 snpnet_PRS bin      rectal_cancer                         2026\n",
       "14 cancer1001 snpnet_PRS bin      lung_cancer                           1981\n",
       "15 cancer1035 snpnet_PRS bin      bladder_cancer                        1997\n",
       "16 cancer1084 snpnet_PRS bin      respiratory_/_intrathoracic_cancer    2392\n",
       "17 cancer1085 snpnet_PRS bin      bone_metastases_/_bony_secondaries    1780\n",
       "18 cancer1037 snpnet_PRS bin      female_genital_tract_cancer           4947\n",
       "19 cancer1034 snpnet_PRS bin      kidney/renal_cell_cancer              1093\n",
       "20 cancer1039 snpnet_PRS bin      ovarian_cancer                        1208\n",
       "   Covariates_only Genotype_and_covariates Genotype_only delta      rank_geno\n",
       "1  0.6473527       0.6867887               0.6157386      0.0394360  3       \n",
       "2  0.6658344       0.7042109               0.6249735      0.0383765  2       \n",
       "3  0.5689306       0.6066221               0.5998252      0.0376915  4       \n",
       "4  0.8800511       0.8975619               0.6417883      0.0175108  1       \n",
       "5  0.7998432       0.8167989               0.5902129      0.0169557  5       \n",
       "6  0.8505162       0.8581265               0.5897118      0.0076103  6       \n",
       "7  0.6849862       0.6888996               0.5490780      0.0039134  7       \n",
       "8  0.6325762       0.6357175               0.5283092      0.0031413 11       \n",
       "9  0.7595289       0.7623187               0.5241428      0.0027898 13       \n",
       "10 0.8060713       0.8078349               0.5478750      0.0017636  8       \n",
       "11 0.6916376       0.6933844               0.5324778      0.0017468 10       \n",
       "12 0.5831537       0.5842057               0.5134216      0.0010520 17       \n",
       "13 0.6738540       0.6745183               0.5473436      0.0006643  9       \n",
       "14 0.7051802       0.7057319               0.5229068      0.0005517 14       \n",
       "15 0.7905972       0.7907293               0.5247282      0.0001321 12       \n",
       "16 0.6845019       0.6843601               0.5197211     -0.0001418 16       \n",
       "17 0.6795475       0.6779866               0.5050749     -0.0015609 20       \n",
       "18 0.7566946       0.7548820               0.5110647     -0.0018126 18       \n",
       "19 0.6876275       0.6853677               0.5055564     -0.0022598 19       \n",
       "20 0.7846115       0.7822347               0.5197532     -0.0023768 15       "
      ]
     },
     "metadata": {},
     "output_type": "display_data"
    }
   ],
   "source": [
    "snpnet_scores_df %>% \n",
    "rename(AUC = R_or_AUC) %>%\n",
    "filter(\n",
    "    N > 1000\n",
    "#     phe_name %in% c(\n",
    "#         'lung_cancer', 'breast_cancer', 'bladder_cancer'\n",
    "#     )\n",
    ") %>%\n",
    "spread(features, AUC) %>%\n",
    "mutate(\n",
    "    delta = Genotype_and_covariates - Covariates_only,\n",
    "    rank_geno = rank(-Genotype_only)\n",
    ") %>%\n",
    "arrange(-delta)"
   ]
  },
  {
   "cell_type": "code",
   "execution_count": 5,
   "metadata": {},
   "outputs": [],
   "source": [
    "vanilla_scores_f <- '~/repos/rivas-lab/PRS/public_output/vanilla_PRS/cancer_20190302.tsv'"
   ]
  },
  {
   "cell_type": "code",
   "execution_count": 6,
   "metadata": {},
   "outputs": [],
   "source": [
    "vanilla_scores_df <- fread(\n",
    "    cmd=paste('cat', vanilla_scores_f, '| sed -e \"s/^#//g\"', sep=' '), sep='\\t'\n",
    ")"
   ]
  },
  {
   "cell_type": "code",
   "execution_count": 7,
   "metadata": {},
   "outputs": [
    {
     "data": {
      "text/html": [
       "<table>\n",
       "<thead><tr><th scope=col>GBE_ID</th><th scope=col>PRS_model</th><th scope=col>phe_type</th><th scope=col>features</th><th scope=col>R_or_AUC</th><th scope=col>phe_name</th><th scope=col>N</th></tr></thead>\n",
       "<tbody>\n",
       "\t<tr><td>cancer1001      </td><td>vanilla_PRS_1e-3</td><td>bin             </td><td>covars          </td><td>0.7137014       </td><td>lung_cancer     </td><td>1981            </td></tr>\n",
       "\t<tr><td>cancer1001      </td><td>vanilla_PRS_1e-3</td><td>bin             </td><td>PRS             </td><td>0.5113273       </td><td>lung_cancer     </td><td>1981            </td></tr>\n",
       "\t<tr><td>cancer1001      </td><td>vanilla_PRS_1e-3</td><td>bin             </td><td>PRS_and_covars  </td><td>0.7137625       </td><td>lung_cancer     </td><td>1981            </td></tr>\n",
       "\t<tr><td>cancer1001      </td><td>vanilla_PRS_1e-4</td><td>bin             </td><td>covars          </td><td>0.7137014       </td><td>lung_cancer     </td><td>1981            </td></tr>\n",
       "\t<tr><td>cancer1001      </td><td>vanilla_PRS_1e-4</td><td>bin             </td><td>PRS             </td><td>0.5025617       </td><td>lung_cancer     </td><td>1981            </td></tr>\n",
       "\t<tr><td>cancer1001      </td><td>vanilla_PRS_1e-4</td><td>bin             </td><td>PRS_and_covars  </td><td>0.7136916       </td><td>lung_cancer     </td><td>1981            </td></tr>\n",
       "</tbody>\n",
       "</table>\n"
      ],
      "text/latex": [
       "\\begin{tabular}{r|lllllll}\n",
       " GBE\\_ID & PRS\\_model & phe\\_type & features & R\\_or\\_AUC & phe\\_name & N\\\\\n",
       "\\hline\n",
       "\t cancer1001           & vanilla\\_PRS\\_1e-3 & bin                  & covars               & 0.7137014            & lung\\_cancer        & 1981                \\\\\n",
       "\t cancer1001           & vanilla\\_PRS\\_1e-3 & bin                  & PRS                  & 0.5113273            & lung\\_cancer        & 1981                \\\\\n",
       "\t cancer1001           & vanilla\\_PRS\\_1e-3 & bin                  & PRS\\_and\\_covars   & 0.7137625            & lung\\_cancer        & 1981                \\\\\n",
       "\t cancer1001           & vanilla\\_PRS\\_1e-4 & bin                  & covars               & 0.7137014            & lung\\_cancer        & 1981                \\\\\n",
       "\t cancer1001           & vanilla\\_PRS\\_1e-4 & bin                  & PRS                  & 0.5025617            & lung\\_cancer        & 1981                \\\\\n",
       "\t cancer1001           & vanilla\\_PRS\\_1e-4 & bin                  & PRS\\_and\\_covars   & 0.7136916            & lung\\_cancer        & 1981                \\\\\n",
       "\\end{tabular}\n"
      ],
      "text/markdown": [
       "\n",
       "| GBE_ID | PRS_model | phe_type | features | R_or_AUC | phe_name | N |\n",
       "|---|---|---|---|---|---|---|\n",
       "| cancer1001       | vanilla_PRS_1e-3 | bin              | covars           | 0.7137014        | lung_cancer      | 1981             |\n",
       "| cancer1001       | vanilla_PRS_1e-3 | bin              | PRS              | 0.5113273        | lung_cancer      | 1981             |\n",
       "| cancer1001       | vanilla_PRS_1e-3 | bin              | PRS_and_covars   | 0.7137625        | lung_cancer      | 1981             |\n",
       "| cancer1001       | vanilla_PRS_1e-4 | bin              | covars           | 0.7137014        | lung_cancer      | 1981             |\n",
       "| cancer1001       | vanilla_PRS_1e-4 | bin              | PRS              | 0.5025617        | lung_cancer      | 1981             |\n",
       "| cancer1001       | vanilla_PRS_1e-4 | bin              | PRS_and_covars   | 0.7136916        | lung_cancer      | 1981             |\n",
       "\n"
      ],
      "text/plain": [
       "  GBE_ID     PRS_model        phe_type features       R_or_AUC  phe_name   \n",
       "1 cancer1001 vanilla_PRS_1e-3 bin      covars         0.7137014 lung_cancer\n",
       "2 cancer1001 vanilla_PRS_1e-3 bin      PRS            0.5113273 lung_cancer\n",
       "3 cancer1001 vanilla_PRS_1e-3 bin      PRS_and_covars 0.7137625 lung_cancer\n",
       "4 cancer1001 vanilla_PRS_1e-4 bin      covars         0.7137014 lung_cancer\n",
       "5 cancer1001 vanilla_PRS_1e-4 bin      PRS            0.5025617 lung_cancer\n",
       "6 cancer1001 vanilla_PRS_1e-4 bin      PRS_and_covars 0.7136916 lung_cancer\n",
       "  N   \n",
       "1 1981\n",
       "2 1981\n",
       "3 1981\n",
       "4 1981\n",
       "5 1981\n",
       "6 1981"
      ]
     },
     "metadata": {},
     "output_type": "display_data"
    }
   ],
   "source": [
    "vanilla_scores_df %>% head()"
   ]
  },
  {
   "cell_type": "code",
   "execution_count": 8,
   "metadata": {},
   "outputs": [
    {
     "data": {
      "text/html": [
       "<table>\n",
       "<thead><tr><th scope=col>GBE_ID</th><th scope=col>PRS_model</th><th scope=col>phe_type</th><th scope=col>phe_name</th><th scope=col>N</th><th scope=col>covars</th><th scope=col>PRS</th><th scope=col>PRS_and_covars</th><th scope=col>delta</th><th scope=col>rank</th><th scope=col>rank_geno</th></tr></thead>\n",
       "<tbody>\n",
       "\t<tr><td>cancer1059                          </td><td>vanilla_PRS_1e-5                    </td><td>bin                                 </td><td>malignant_melanoma                  </td><td> 4099                               </td><td>0.6059452                           </td><td>0.5665012                           </td><td>0.6219040                           </td><td> 0.0159588                          </td><td>1                                   </td><td> 1                                  </td></tr>\n",
       "\t<tr><td>cancer1003                          </td><td>vanilla_PRS_1e-5                    </td><td>bin                                 </td><td>skin_cancer                         </td><td>19170                               </td><td>0.6579614                           </td><td>0.5331719                           </td><td>0.6610340                           </td><td> 0.0030726                          </td><td>1                                   </td><td> 3                                  </td></tr>\n",
       "\t<tr><td>cancer1060                          </td><td>vanilla_PRS_1e-4                    </td><td>bin                                 </td><td>non-melanoma_skin_cancer            </td><td>16791                               </td><td>0.6681120                           </td><td>0.5287930                           </td><td>0.6697051                           </td><td> 0.0015931                          </td><td>1                                   </td><td> 5                                  </td></tr>\n",
       "\t<tr><td>cancer1037                          </td><td>vanilla_PRS_1e-5                    </td><td>bin                                 </td><td>female_genital_tract_cancer         </td><td> 4947                               </td><td>0.7519547                           </td><td>0.5282809                           </td><td>0.7534631                           </td><td> 0.0015084                          </td><td>1                                   </td><td> 6                                  </td></tr>\n",
       "\t<tr><td>cancer1053                          </td><td>vanilla_PRS_1e-4                    </td><td>bin                                 </td><td>non-hodgkins_lymphoma               </td><td> 1429                               </td><td>0.6742310                           </td><td>0.5305150                           </td><td>0.6747827                           </td><td> 0.0005517                          </td><td>1                                   </td><td> 4                                  </td></tr>\n",
       "\t<tr><td>cancer1020                          </td><td>vanilla_PRS_1e-5                    </td><td>bin                                 </td><td>large_bowel_cancer/colorectal_cancer</td><td> 4382                               </td><td>0.6815953                           </td><td>0.5241036                           </td><td>0.6820920                           </td><td> 0.0004967                          </td><td>1                                   </td><td> 9                                  </td></tr>\n",
       "\t<tr><td>cancer1084                          </td><td>vanilla_PRS_1e-4                    </td><td>bin                                 </td><td>respiratory_/_intrathoracic_cancer  </td><td> 2392                               </td><td>0.6904843                           </td><td>0.5247704                           </td><td>0.6907894                           </td><td> 0.0003051                          </td><td>1                                   </td><td> 7                                  </td></tr>\n",
       "\t<tr><td>cancer1002                          </td><td>vanilla_PRS_1e-4                    </td><td>bin                                 </td><td>breast_cancer                       </td><td>11243                               </td><td>0.7917622                           </td><td>0.5210834                           </td><td>0.7920586                           </td><td> 0.0002964                          </td><td>1                                   </td><td>10                                  </td></tr>\n",
       "\t<tr><td>cancer1041                          </td><td>vanilla_PRS_1e-3                    </td><td>bin                                 </td><td>cervical_cancer                     </td><td> 2815                               </td><td>0.7592505                           </td><td>0.5042031                           </td><td>0.7594719                           </td><td> 0.0002214                          </td><td>1                                   </td><td>16                                  </td></tr>\n",
       "\t<tr><td>cancer1023                          </td><td>vanilla_PRS_1e-5                    </td><td>bin                                 </td><td>rectal_cancer                       </td><td> 2026                               </td><td>0.6956243                           </td><td>0.5206163                           </td><td>0.6957484                           </td><td> 0.0001241                          </td><td>1                                   </td><td>11                                  </td></tr>\n",
       "\t<tr><td>cancer1035                          </td><td>vanilla_PRS_1e-3                    </td><td>bin                                 </td><td>bladder_cancer                      </td><td> 1997                               </td><td>0.7513329                           </td><td>0.5050326                           </td><td>0.7513952                           </td><td> 0.0000623                          </td><td>1                                   </td><td>15                                  </td></tr>\n",
       "\t<tr><td>cancer1001                          </td><td>vanilla_PRS_1e-3                    </td><td>bin                                 </td><td>lung_cancer                         </td><td> 1981                               </td><td>0.7137014                           </td><td>0.5113273                           </td><td>0.7137625                           </td><td> 0.0000611                          </td><td>1                                   </td><td>13                                  </td></tr>\n",
       "\t<tr><td>cancer1044                          </td><td>vanilla_PRS_1e-4                    </td><td>bin                                 </td><td>prostate_cancer                     </td><td> 6460                               </td><td>0.8826559                           </td><td>0.5024543                           </td><td>0.8827129                           </td><td> 0.0000570                          </td><td>1                                   </td><td>18                                  </td></tr>\n",
       "\t<tr><td>cancer1085                          </td><td>vanilla_PRS_1e-3                    </td><td>bin                                 </td><td>bone_metastases_/_bony_secondaries  </td><td> 1780                               </td><td>0.6666151                           </td><td>0.5027367                           </td><td>0.6666698                           </td><td> 0.0000547                          </td><td>1                                   </td><td>17                                  </td></tr>\n",
       "\t<tr><td>cancer1034                          </td><td>vanilla_PRS_1e-3                    </td><td>bin                                 </td><td>kidney/renal_cell_cancer            </td><td> 1093                               </td><td>0.6996255                           </td><td>0.5415811                           </td><td>0.6996326                           </td><td> 0.0000071                          </td><td>1                                   </td><td> 2                                  </td></tr>\n",
       "\t<tr><td>cancer1022                          </td><td>vanilla_PRS_1e-5                    </td><td>bin                                 </td><td>colon_cancer/sigmoid_cancer         </td><td> 3251                               </td><td>0.6820133                           </td><td>0.5066793                           </td><td>0.6819574                           </td><td>-0.0000559                          </td><td>1                                   </td><td>14                                  </td></tr>\n",
       "\t<tr><td>cancer1039                          </td><td>vanilla_PRS_1e-4                    </td><td>bin                                 </td><td>ovarian_cancer                      </td><td> 1208                               </td><td>0.7896246                           </td><td>0.5244113                           </td><td>0.7895497                           </td><td>-0.0000749                          </td><td>1                                   </td><td> 8                                  </td></tr>\n",
       "\t<tr><td>cancer1047                          </td><td>vanilla_PRS_1e-5                    </td><td>bin                                 </td><td>lymphoma                            </td><td> 1852                               </td><td>0.6231117                           </td><td>0.5169430                           </td><td>0.6229548                           </td><td>-0.0001569                          </td><td>1                                   </td><td>12                                  </td></tr>\n",
       "</tbody>\n",
       "</table>\n"
      ],
      "text/latex": [
       "\\begin{tabular}{r|lllllllllll}\n",
       " GBE\\_ID & PRS\\_model & phe\\_type & phe\\_name & N & covars & PRS & PRS\\_and\\_covars & delta & rank & rank\\_geno\\\\\n",
       "\\hline\n",
       "\t cancer1059                             & vanilla\\_PRS\\_1e-5                   & bin                                    & malignant\\_melanoma                   &  4099                                  & 0.6059452                              & 0.5665012                              & 0.6219040                              &  0.0159588                             & 1                                      &  1                                    \\\\\n",
       "\t cancer1003                             & vanilla\\_PRS\\_1e-5                   & bin                                    & skin\\_cancer                          & 19170                                  & 0.6579614                              & 0.5331719                              & 0.6610340                              &  0.0030726                             & 1                                      &  3                                    \\\\\n",
       "\t cancer1060                               & vanilla\\_PRS\\_1e-4                     & bin                                      & non-melanoma\\_skin\\_cancer             & 16791                                    & 0.6681120                                & 0.5287930                                & 0.6697051                                &  0.0015931                               & 1                                        &  5                                      \\\\\n",
       "\t cancer1037                                 & vanilla\\_PRS\\_1e-5                       & bin                                        & female\\_genital\\_tract\\_cancer          &  4947                                      & 0.7519547                                  & 0.5282809                                  & 0.7534631                                  &  0.0015084                                 & 1                                          &  6                                        \\\\\n",
       "\t cancer1053                             & vanilla\\_PRS\\_1e-4                   & bin                                    & non-hodgkins\\_lymphoma                &  1429                                  & 0.6742310                              & 0.5305150                              & 0.6747827                              &  0.0005517                             & 1                                      &  4                                    \\\\\n",
       "\t cancer1020                                 & vanilla\\_PRS\\_1e-5                       & bin                                        & large\\_bowel\\_cancer/colorectal\\_cancer &  4382                                      & 0.6815953                                  & 0.5241036                                  & 0.6820920                                  &  0.0004967                                 & 1                                          &  9                                        \\\\\n",
       "\t cancer1084                                 & vanilla\\_PRS\\_1e-4                       & bin                                        & respiratory\\_/\\_intrathoracic\\_cancer   &  2392                                      & 0.6904843                                  & 0.5247704                                  & 0.6907894                                  &  0.0003051                                 & 1                                          &  7                                        \\\\\n",
       "\t cancer1002                             & vanilla\\_PRS\\_1e-4                   & bin                                    & breast\\_cancer                        & 11243                                  & 0.7917622                              & 0.5210834                              & 0.7920586                              &  0.0002964                             & 1                                      & 10                                    \\\\\n",
       "\t cancer1041                             & vanilla\\_PRS\\_1e-3                   & bin                                    & cervical\\_cancer                      &  2815                                  & 0.7592505                              & 0.5042031                              & 0.7594719                              &  0.0002214                             & 1                                      & 16                                    \\\\\n",
       "\t cancer1023                             & vanilla\\_PRS\\_1e-5                   & bin                                    & rectal\\_cancer                        &  2026                                  & 0.6956243                              & 0.5206163                              & 0.6957484                              &  0.0001241                             & 1                                      & 11                                    \\\\\n",
       "\t cancer1035                             & vanilla\\_PRS\\_1e-3                   & bin                                    & bladder\\_cancer                       &  1997                                  & 0.7513329                              & 0.5050326                              & 0.7513952                              &  0.0000623                             & 1                                      & 15                                    \\\\\n",
       "\t cancer1001                             & vanilla\\_PRS\\_1e-3                   & bin                                    & lung\\_cancer                          &  1981                                  & 0.7137014                              & 0.5113273                              & 0.7137625                              &  0.0000611                             & 1                                      & 13                                    \\\\\n",
       "\t cancer1044                             & vanilla\\_PRS\\_1e-4                   & bin                                    & prostate\\_cancer                      &  6460                                  & 0.8826559                              & 0.5024543                              & 0.8827129                              &  0.0000570                             & 1                                      & 18                                    \\\\\n",
       "\t cancer1085                                   & vanilla\\_PRS\\_1e-3                         & bin                                          & bone\\_metastases\\_/\\_bony\\_secondaries   &  1780                                        & 0.6666151                                    & 0.5027367                                    & 0.6666698                                    &  0.0000547                                   & 1                                            & 17                                          \\\\\n",
       "\t cancer1034                               & vanilla\\_PRS\\_1e-3                     & bin                                      & kidney/renal\\_cell\\_cancer             &  1093                                    & 0.6996255                                & 0.5415811                                & 0.6996326                                &  0.0000071                               & 1                                        &  2                                      \\\\\n",
       "\t cancer1022                               & vanilla\\_PRS\\_1e-5                     & bin                                      & colon\\_cancer/sigmoid\\_cancer          &  3251                                    & 0.6820133                                & 0.5066793                                & 0.6819574                                & -0.0000559                               & 1                                        & 14                                      \\\\\n",
       "\t cancer1039                             & vanilla\\_PRS\\_1e-4                   & bin                                    & ovarian\\_cancer                       &  1208                                  & 0.7896246                              & 0.5244113                              & 0.7895497                              & -0.0000749                             & 1                                      &  8                                    \\\\\n",
       "\t cancer1047                           & vanilla\\_PRS\\_1e-5                 & bin                                  & lymphoma                             &  1852                                & 0.6231117                            & 0.5169430                            & 0.6229548                            & -0.0001569                           & 1                                    & 12                                  \\\\\n",
       "\\end{tabular}\n"
      ],
      "text/markdown": [
       "\n",
       "| GBE_ID | PRS_model | phe_type | phe_name | N | covars | PRS | PRS_and_covars | delta | rank | rank_geno |\n",
       "|---|---|---|---|---|---|---|---|---|---|---|\n",
       "| cancer1059                           | vanilla_PRS_1e-5                     | bin                                  | malignant_melanoma                   |  4099                                | 0.6059452                            | 0.5665012                            | 0.6219040                            |  0.0159588                           | 1                                    |  1                                   |\n",
       "| cancer1003                           | vanilla_PRS_1e-5                     | bin                                  | skin_cancer                          | 19170                                | 0.6579614                            | 0.5331719                            | 0.6610340                            |  0.0030726                           | 1                                    |  3                                   |\n",
       "| cancer1060                           | vanilla_PRS_1e-4                     | bin                                  | non-melanoma_skin_cancer             | 16791                                | 0.6681120                            | 0.5287930                            | 0.6697051                            |  0.0015931                           | 1                                    |  5                                   |\n",
       "| cancer1037                           | vanilla_PRS_1e-5                     | bin                                  | female_genital_tract_cancer          |  4947                                | 0.7519547                            | 0.5282809                            | 0.7534631                            |  0.0015084                           | 1                                    |  6                                   |\n",
       "| cancer1053                           | vanilla_PRS_1e-4                     | bin                                  | non-hodgkins_lymphoma                |  1429                                | 0.6742310                            | 0.5305150                            | 0.6747827                            |  0.0005517                           | 1                                    |  4                                   |\n",
       "| cancer1020                           | vanilla_PRS_1e-5                     | bin                                  | large_bowel_cancer/colorectal_cancer |  4382                                | 0.6815953                            | 0.5241036                            | 0.6820920                            |  0.0004967                           | 1                                    |  9                                   |\n",
       "| cancer1084                           | vanilla_PRS_1e-4                     | bin                                  | respiratory_/_intrathoracic_cancer   |  2392                                | 0.6904843                            | 0.5247704                            | 0.6907894                            |  0.0003051                           | 1                                    |  7                                   |\n",
       "| cancer1002                           | vanilla_PRS_1e-4                     | bin                                  | breast_cancer                        | 11243                                | 0.7917622                            | 0.5210834                            | 0.7920586                            |  0.0002964                           | 1                                    | 10                                   |\n",
       "| cancer1041                           | vanilla_PRS_1e-3                     | bin                                  | cervical_cancer                      |  2815                                | 0.7592505                            | 0.5042031                            | 0.7594719                            |  0.0002214                           | 1                                    | 16                                   |\n",
       "| cancer1023                           | vanilla_PRS_1e-5                     | bin                                  | rectal_cancer                        |  2026                                | 0.6956243                            | 0.5206163                            | 0.6957484                            |  0.0001241                           | 1                                    | 11                                   |\n",
       "| cancer1035                           | vanilla_PRS_1e-3                     | bin                                  | bladder_cancer                       |  1997                                | 0.7513329                            | 0.5050326                            | 0.7513952                            |  0.0000623                           | 1                                    | 15                                   |\n",
       "| cancer1001                           | vanilla_PRS_1e-3                     | bin                                  | lung_cancer                          |  1981                                | 0.7137014                            | 0.5113273                            | 0.7137625                            |  0.0000611                           | 1                                    | 13                                   |\n",
       "| cancer1044                           | vanilla_PRS_1e-4                     | bin                                  | prostate_cancer                      |  6460                                | 0.8826559                            | 0.5024543                            | 0.8827129                            |  0.0000570                           | 1                                    | 18                                   |\n",
       "| cancer1085                           | vanilla_PRS_1e-3                     | bin                                  | bone_metastases_/_bony_secondaries   |  1780                                | 0.6666151                            | 0.5027367                            | 0.6666698                            |  0.0000547                           | 1                                    | 17                                   |\n",
       "| cancer1034                           | vanilla_PRS_1e-3                     | bin                                  | kidney/renal_cell_cancer             |  1093                                | 0.6996255                            | 0.5415811                            | 0.6996326                            |  0.0000071                           | 1                                    |  2                                   |\n",
       "| cancer1022                           | vanilla_PRS_1e-5                     | bin                                  | colon_cancer/sigmoid_cancer          |  3251                                | 0.6820133                            | 0.5066793                            | 0.6819574                            | -0.0000559                           | 1                                    | 14                                   |\n",
       "| cancer1039                           | vanilla_PRS_1e-4                     | bin                                  | ovarian_cancer                       |  1208                                | 0.7896246                            | 0.5244113                            | 0.7895497                            | -0.0000749                           | 1                                    |  8                                   |\n",
       "| cancer1047                           | vanilla_PRS_1e-5                     | bin                                  | lymphoma                             |  1852                                | 0.6231117                            | 0.5169430                            | 0.6229548                            | -0.0001569                           | 1                                    | 12                                   |\n",
       "\n"
      ],
      "text/plain": [
       "   GBE_ID     PRS_model        phe_type phe_name                            \n",
       "1  cancer1059 vanilla_PRS_1e-5 bin      malignant_melanoma                  \n",
       "2  cancer1003 vanilla_PRS_1e-5 bin      skin_cancer                         \n",
       "3  cancer1060 vanilla_PRS_1e-4 bin      non-melanoma_skin_cancer            \n",
       "4  cancer1037 vanilla_PRS_1e-5 bin      female_genital_tract_cancer         \n",
       "5  cancer1053 vanilla_PRS_1e-4 bin      non-hodgkins_lymphoma               \n",
       "6  cancer1020 vanilla_PRS_1e-5 bin      large_bowel_cancer/colorectal_cancer\n",
       "7  cancer1084 vanilla_PRS_1e-4 bin      respiratory_/_intrathoracic_cancer  \n",
       "8  cancer1002 vanilla_PRS_1e-4 bin      breast_cancer                       \n",
       "9  cancer1041 vanilla_PRS_1e-3 bin      cervical_cancer                     \n",
       "10 cancer1023 vanilla_PRS_1e-5 bin      rectal_cancer                       \n",
       "11 cancer1035 vanilla_PRS_1e-3 bin      bladder_cancer                      \n",
       "12 cancer1001 vanilla_PRS_1e-3 bin      lung_cancer                         \n",
       "13 cancer1044 vanilla_PRS_1e-4 bin      prostate_cancer                     \n",
       "14 cancer1085 vanilla_PRS_1e-3 bin      bone_metastases_/_bony_secondaries  \n",
       "15 cancer1034 vanilla_PRS_1e-3 bin      kidney/renal_cell_cancer            \n",
       "16 cancer1022 vanilla_PRS_1e-5 bin      colon_cancer/sigmoid_cancer         \n",
       "17 cancer1039 vanilla_PRS_1e-4 bin      ovarian_cancer                      \n",
       "18 cancer1047 vanilla_PRS_1e-5 bin      lymphoma                            \n",
       "   N     covars    PRS       PRS_and_covars delta      rank rank_geno\n",
       "1   4099 0.6059452 0.5665012 0.6219040       0.0159588 1     1       \n",
       "2  19170 0.6579614 0.5331719 0.6610340       0.0030726 1     3       \n",
       "3  16791 0.6681120 0.5287930 0.6697051       0.0015931 1     5       \n",
       "4   4947 0.7519547 0.5282809 0.7534631       0.0015084 1     6       \n",
       "5   1429 0.6742310 0.5305150 0.6747827       0.0005517 1     4       \n",
       "6   4382 0.6815953 0.5241036 0.6820920       0.0004967 1     9       \n",
       "7   2392 0.6904843 0.5247704 0.6907894       0.0003051 1     7       \n",
       "8  11243 0.7917622 0.5210834 0.7920586       0.0002964 1    10       \n",
       "9   2815 0.7592505 0.5042031 0.7594719       0.0002214 1    16       \n",
       "10  2026 0.6956243 0.5206163 0.6957484       0.0001241 1    11       \n",
       "11  1997 0.7513329 0.5050326 0.7513952       0.0000623 1    15       \n",
       "12  1981 0.7137014 0.5113273 0.7137625       0.0000611 1    13       \n",
       "13  6460 0.8826559 0.5024543 0.8827129       0.0000570 1    18       \n",
       "14  1780 0.6666151 0.5027367 0.6666698       0.0000547 1    17       \n",
       "15  1093 0.6996255 0.5415811 0.6996326       0.0000071 1     2       \n",
       "16  3251 0.6820133 0.5066793 0.6819574      -0.0000559 1    14       \n",
       "17  1208 0.7896246 0.5244113 0.7895497      -0.0000749 1     8       \n",
       "18  1852 0.6231117 0.5169430 0.6229548      -0.0001569 1    12       "
      ]
     },
     "metadata": {},
     "output_type": "display_data"
    }
   ],
   "source": [
    "vanilla_scores_df %>% \n",
    "rename(AUC = R_or_AUC) %>%\n",
    "filter(\n",
    "    N > 1000\n",
    "#     phe_name %in% c(\n",
    "#         'lung_cancer', 'breast_cancer', 'bladder_cancer'\n",
    "#     )\n",
    ") %>%\n",
    "spread(features, AUC) %>%\n",
    "mutate(delta = PRS_and_covars - covars) %>%\n",
    "group_by(GBE_ID) %>%\n",
    "mutate(\n",
    "    rank = rank(-delta)\n",
    ") %>%\n",
    "ungroup()%>%\n",
    "filter(rank == 1) %>%\n",
    "mutate(\n",
    "    rank_geno = rank(-PRS)\n",
    ") %>%\n",
    "arrange(-delta)\n"
   ]
  },
  {
   "cell_type": "code",
   "execution_count": 9,
   "metadata": {},
   "outputs": [],
   "source": [
    "sscore_f <- '/oak/stanford/groups/mrivas/projects/PRS/private_output/snpnet_PRS/cancer_20190303/4_score/cancer1060.sscore'\n",
    "sscore_df <- fread(\n",
    "    cmd=paste0('cat ', sscore_f, ' | cut -f2,6'), sep='\\t', data.table=F\n",
    ")"
   ]
  },
  {
   "cell_type": "code",
   "execution_count": 12,
   "metadata": {},
   "outputs": [],
   "source": [
    "master_phe_f <- '/oak/stanford/groups/mrivas/ukbb24983/phenotypedata/master_phe/master.20190509.phe'\n",
    "phe_df <- fread(\n",
    "    cmd=paste0('cat ', master_phe_f, ' | cut -f2,2154'), sep='\\t', data.table=F\n",
    ")"
   ]
  },
  {
   "cell_type": "code",
   "execution_count": 13,
   "metadata": {},
   "outputs": [
    {
     "data": {
      "text/html": [
       "<table>\n",
       "<thead><tr><th scope=col>IID</th><th scope=col>cancer1060</th></tr></thead>\n",
       "<tbody>\n",
       "\t<tr><td>-1</td><td> 1</td></tr>\n",
       "\t<tr><td>-2</td><td> 1</td></tr>\n",
       "\t<tr><td>-3</td><td>-9</td></tr>\n",
       "\t<tr><td>-4</td><td>-9</td></tr>\n",
       "\t<tr><td>-5</td><td> 1</td></tr>\n",
       "\t<tr><td>-6</td><td> 1</td></tr>\n",
       "</tbody>\n",
       "</table>\n"
      ],
      "text/latex": [
       "\\begin{tabular}{r|ll}\n",
       " IID & cancer1060\\\\\n",
       "\\hline\n",
       "\t -1 &  1\\\\\n",
       "\t -2 &  1\\\\\n",
       "\t -3 & -9\\\\\n",
       "\t -4 & -9\\\\\n",
       "\t -5 &  1\\\\\n",
       "\t -6 &  1\\\\\n",
       "\\end{tabular}\n"
      ],
      "text/markdown": [
       "\n",
       "| IID | cancer1060 |\n",
       "|---|---|\n",
       "| -1 |  1 |\n",
       "| -2 |  1 |\n",
       "| -3 | -9 |\n",
       "| -4 | -9 |\n",
       "| -5 |  1 |\n",
       "| -6 |  1 |\n",
       "\n"
      ],
      "text/plain": [
       "  IID cancer1060\n",
       "1 -1   1        \n",
       "2 -2   1        \n",
       "3 -3  -9        \n",
       "4 -4  -9        \n",
       "5 -5   1        \n",
       "6 -6   1        "
      ]
     },
     "metadata": {},
     "output_type": "display_data"
    }
   ],
   "source": [
    "phe_df %>% head()"
   ]
  },
  {
   "cell_type": "code",
   "execution_count": 56,
   "metadata": {},
   "outputs": [],
   "source": [
    "combined_df <- sscore_df %>% rename(snpnet_PRS = SCORE1_AVG) %>% \n",
    "left_join(phe_df, by='IID') %>%\n",
    "mutate(Percentile = rank(-snpnet_PRS) / n()) %>% rename(outcome = cancer1060)"
   ]
  },
  {
   "cell_type": "code",
   "execution_count": 58,
   "metadata": {},
   "outputs": [],
   "source": [
    "cnt_middle <- combined_df %>% filter(0.4 <= Percentile && Percentile <= 0.6) %>% count(outcome) %>% \n",
    "filter(outcome != -9) %>% rename(n_40_60 = n)"
   ]
  },
  {
   "cell_type": "code",
   "execution_count": 59,
   "metadata": {},
   "outputs": [
    {
     "data": {
      "text/html": [
       "<table>\n",
       "<thead><tr><th scope=col>outcome</th><th scope=col>n_40_60</th></tr></thead>\n",
       "<tbody>\n",
       "\t<tr><td>1     </td><td>320407</td></tr>\n",
       "\t<tr><td>2     </td><td> 16791</td></tr>\n",
       "</tbody>\n",
       "</table>\n"
      ],
      "text/latex": [
       "\\begin{tabular}{r|ll}\n",
       " outcome & n\\_40\\_60\\\\\n",
       "\\hline\n",
       "\t 1      & 320407\\\\\n",
       "\t 2      &  16791\\\\\n",
       "\\end{tabular}\n"
      ],
      "text/markdown": [
       "\n",
       "| outcome | n_40_60 |\n",
       "|---|---|\n",
       "| 1      | 320407 |\n",
       "| 2      |  16791 |\n",
       "\n"
      ],
      "text/plain": [
       "  outcome n_40_60\n",
       "1 1       320407 \n",
       "2 2        16791 "
      ]
     },
     "metadata": {},
     "output_type": "display_data"
    }
   ],
   "source": [
    "cnt_middle "
   ]
  },
  {
   "cell_type": "code",
   "execution_count": null,
   "metadata": {},
   "outputs": [],
   "source": []
  },
  {
   "cell_type": "code",
   "execution_count": 36,
   "metadata": {},
   "outputs": [
    {
     "data": {
      "text/html": [
       "<table>\n",
       "<thead><tr><th scope=col>cancer1060</th><th scope=col>n</th><th scope=col>n_40_60</th></tr></thead>\n",
       "<tbody>\n",
       "\t<tr><td>2     </td><td> 811  </td><td> 16791</td></tr>\n",
       "\t<tr><td>1     </td><td>2560  </td><td>320407</td></tr>\n",
       "</tbody>\n",
       "</table>\n"
      ],
      "text/latex": [
       "\\begin{tabular}{r|lll}\n",
       " cancer1060 & n & n\\_40\\_60\\\\\n",
       "\\hline\n",
       "\t 2      &  811   &  16791\\\\\n",
       "\t 1      & 2560   & 320407\\\\\n",
       "\\end{tabular}\n"
      ],
      "text/markdown": [
       "\n",
       "| cancer1060 | n | n_40_60 |\n",
       "|---|---|---|\n",
       "| 2      |  811   |  16791 |\n",
       "| 1      | 2560   | 320407 |\n",
       "\n"
      ],
      "text/plain": [
       "  cancer1060 n    n_40_60\n",
       "1 2           811  16791 \n",
       "2 1          2560 320407 "
      ]
     },
     "metadata": {},
     "output_type": "display_data"
    }
   ],
   "source": [
    "combined_df %>% filter(Percentile <= 0.01) %>% count(cancer1060) %>% inner_join(cnt_middle, by='cancer1060') %>% arrange(-cancer1060)"
   ]
  },
  {
   "cell_type": "code",
   "execution_count": 38,
   "metadata": {},
   "outputs": [
    {
     "data": {
      "text/html": [
       "6.04513943946906"
      ],
      "text/latex": [
       "6.04513943946906"
      ],
      "text/markdown": [
       "6.04513943946906"
      ],
      "text/plain": [
       "[1] 6.045139"
      ]
     },
     "metadata": {},
     "output_type": "display_data"
    }
   ],
   "source": [
    "(811 * 320407) / (16791 * 2560)"
   ]
  },
  {
   "cell_type": "code",
   "execution_count": 39,
   "metadata": {},
   "outputs": [
    {
     "data": {
      "text/html": [
       "<table>\n",
       "<thead><tr><th scope=col>cancer1060</th><th scope=col>n</th><th scope=col>n_40_60</th></tr></thead>\n",
       "<tbody>\n",
       "\t<tr><td>2     </td><td> 2900 </td><td> 16791</td></tr>\n",
       "\t<tr><td>1     </td><td>13959 </td><td>320407</td></tr>\n",
       "</tbody>\n",
       "</table>\n"
      ],
      "text/latex": [
       "\\begin{tabular}{r|lll}\n",
       " cancer1060 & n & n\\_40\\_60\\\\\n",
       "\\hline\n",
       "\t 2      &  2900  &  16791\\\\\n",
       "\t 1      & 13959  & 320407\\\\\n",
       "\\end{tabular}\n"
      ],
      "text/markdown": [
       "\n",
       "| cancer1060 | n | n_40_60 |\n",
       "|---|---|---|\n",
       "| 2      |  2900  |  16791 |\n",
       "| 1      | 13959  | 320407 |\n",
       "\n"
      ],
      "text/plain": [
       "  cancer1060 n     n_40_60\n",
       "1 2           2900  16791 \n",
       "2 1          13959 320407 "
      ]
     },
     "metadata": {},
     "output_type": "display_data"
    }
   ],
   "source": [
    "combined_df %>% filter(Percentile <= 0.05) %>% count(cancer1060) %>% inner_join(cnt_middle, by='cancer1060') %>% arrange(-cancer1060)"
   ]
  },
  {
   "cell_type": "code",
   "execution_count": 40,
   "metadata": {},
   "outputs": [
    {
     "data": {
      "text/html": [
       "3.96432384452816"
      ],
      "text/latex": [
       "3.96432384452816"
      ],
      "text/markdown": [
       "3.96432384452816"
      ],
      "text/plain": [
       "[1] 3.964324"
      ]
     },
     "metadata": {},
     "output_type": "display_data"
    }
   ],
   "source": [
    "(2900 * 320407) / (16791 * 13959)"
   ]
  },
  {
   "cell_type": "code",
   "execution_count": 46,
   "metadata": {},
   "outputs": [
    {
     "data": {
      "text/html": [
       "<table>\n",
       "<thead><tr><th scope=col>cancer1060</th><th scope=col>n</th><th scope=col>n_40_60</th></tr></thead>\n",
       "<tbody>\n",
       "\t<tr><td>2     </td><td> 2089 </td><td> 16791</td></tr>\n",
       "\t<tr><td>1     </td><td>11399 </td><td>320407</td></tr>\n",
       "</tbody>\n",
       "</table>\n"
      ],
      "text/latex": [
       "\\begin{tabular}{r|lll}\n",
       " cancer1060 & n & n\\_40\\_60\\\\\n",
       "\\hline\n",
       "\t 2      &  2089  &  16791\\\\\n",
       "\t 1      & 11399  & 320407\\\\\n",
       "\\end{tabular}\n"
      ],
      "text/markdown": [
       "\n",
       "| cancer1060 | n | n_40_60 |\n",
       "|---|---|---|\n",
       "| 2      |  2089  |  16791 |\n",
       "| 1      | 11399  | 320407 |\n",
       "\n"
      ],
      "text/plain": [
       "  cancer1060 n     n_40_60\n",
       "1 2           2089  16791 \n",
       "2 1          11399 320407 "
      ]
     },
     "metadata": {},
     "output_type": "display_data"
    }
   ],
   "source": [
    "combined_df %>% filter(0.01 < Percentile & Percentile <= 0.05) %>% count(cancer1060) %>% inner_join(cnt_middle, by='cancer1060') %>% arrange(-cancer1060)"
   ]
  },
  {
   "cell_type": "code",
   "execution_count": 47,
   "metadata": {},
   "outputs": [
    {
     "data": {
      "text/html": [
       "3.49701198181663"
      ],
      "text/latex": [
       "3.49701198181663"
      ],
      "text/markdown": [
       "3.49701198181663"
      ],
      "text/plain": [
       "[1] 3.497012"
      ]
     },
     "metadata": {},
     "output_type": "display_data"
    }
   ],
   "source": [
    "(2089 * 320407) / (16791 * 11399)"
   ]
  },
  {
   "cell_type": "code",
   "execution_count": 41,
   "metadata": {},
   "outputs": [
    {
     "data": {
      "text/html": [
       "<table>\n",
       "<thead><tr><th scope=col>cancer1060</th><th scope=col>n</th><th scope=col>n_40_60</th></tr></thead>\n",
       "<tbody>\n",
       "\t<tr><td>2     </td><td>  200 </td><td> 16791</td></tr>\n",
       "\t<tr><td>1     </td><td>16660 </td><td>320407</td></tr>\n",
       "</tbody>\n",
       "</table>\n"
      ],
      "text/latex": [
       "\\begin{tabular}{r|lll}\n",
       " cancer1060 & n & n\\_40\\_60\\\\\n",
       "\\hline\n",
       "\t 2      &   200  &  16791\\\\\n",
       "\t 1      & 16660  & 320407\\\\\n",
       "\\end{tabular}\n"
      ],
      "text/markdown": [
       "\n",
       "| cancer1060 | n | n_40_60 |\n",
       "|---|---|---|\n",
       "| 2      |   200  |  16791 |\n",
       "| 1      | 16660  | 320407 |\n",
       "\n"
      ],
      "text/plain": [
       "  cancer1060 n     n_40_60\n",
       "1 2            200  16791 \n",
       "2 1          16660 320407 "
      ]
     },
     "metadata": {},
     "output_type": "display_data"
    }
   ],
   "source": [
    "combined_df %>% filter(0.95 <= Percentile) %>% count(cancer1060) %>% inner_join(cnt_middle, by='cancer1060') %>% arrange(-cancer1060)"
   ]
  },
  {
   "cell_type": "code",
   "execution_count": 42,
   "metadata": {},
   "outputs": [
    {
     "data": {
      "text/html": [
       "0.229076443870384"
      ],
      "text/latex": [
       "0.229076443870384"
      ],
      "text/markdown": [
       "0.229076443870384"
      ],
      "text/plain": [
       "[1] 0.2290764"
      ]
     },
     "metadata": {},
     "output_type": "display_data"
    }
   ],
   "source": [
    "(200 * 320407) / (16791 * 16660)"
   ]
  },
  {
   "cell_type": "code",
   "execution_count": 43,
   "metadata": {},
   "outputs": [
    {
     "data": {
      "text/html": [
       "<table>\n",
       "<thead><tr><th scope=col>cancer1060</th><th scope=col>n</th><th scope=col>n_40_60</th></tr></thead>\n",
       "<tbody>\n",
       "\t<tr><td>2     </td><td>  29  </td><td> 16791</td></tr>\n",
       "\t<tr><td>1     </td><td>3343  </td><td>320407</td></tr>\n",
       "</tbody>\n",
       "</table>\n"
      ],
      "text/latex": [
       "\\begin{tabular}{r|lll}\n",
       " cancer1060 & n & n\\_40\\_60\\\\\n",
       "\\hline\n",
       "\t 2      &   29   &  16791\\\\\n",
       "\t 1      & 3343   & 320407\\\\\n",
       "\\end{tabular}\n"
      ],
      "text/markdown": [
       "\n",
       "| cancer1060 | n | n_40_60 |\n",
       "|---|---|---|\n",
       "| 2      |   29   |  16791 |\n",
       "| 1      | 3343   | 320407 |\n",
       "\n"
      ],
      "text/plain": [
       "  cancer1060 n    n_40_60\n",
       "1 2            29  16791 \n",
       "2 1          3343 320407 "
      ]
     },
     "metadata": {},
     "output_type": "display_data"
    }
   ],
   "source": [
    "combined_df %>% filter(0.99 <= Percentile) %>% count(cancer1060) %>% inner_join(cnt_middle, by='cancer1060') %>% arrange(-cancer1060)"
   ]
  },
  {
   "cell_type": "code",
   "execution_count": 44,
   "metadata": {},
   "outputs": [
    {
     "data": {
      "text/html": [
       "0.165533941207803"
      ],
      "text/latex": [
       "0.165533941207803"
      ],
      "text/markdown": [
       "0.165533941207803"
      ],
      "text/plain": [
       "[1] 0.1655339"
      ]
     },
     "metadata": {},
     "output_type": "display_data"
    }
   ],
   "source": [
    "(29 * 320407) / (16791 * 3343)"
   ]
  },
  {
   "cell_type": "code",
   "execution_count": 48,
   "metadata": {},
   "outputs": [
    {
     "data": {
      "text/html": [
       "<table>\n",
       "<thead><tr><th scope=col>cancer1060</th><th scope=col>n</th><th scope=col>n_40_60</th></tr></thead>\n",
       "<tbody>\n",
       "\t<tr><td>2     </td><td>  171 </td><td> 16791</td></tr>\n",
       "\t<tr><td>1     </td><td>13317 </td><td>320407</td></tr>\n",
       "</tbody>\n",
       "</table>\n"
      ],
      "text/latex": [
       "\\begin{tabular}{r|lll}\n",
       " cancer1060 & n & n\\_40\\_60\\\\\n",
       "\\hline\n",
       "\t 2      &   171  &  16791\\\\\n",
       "\t 1      & 13317  & 320407\\\\\n",
       "\\end{tabular}\n"
      ],
      "text/markdown": [
       "\n",
       "| cancer1060 | n | n_40_60 |\n",
       "|---|---|---|\n",
       "| 2      |   171  |  16791 |\n",
       "| 1      | 13317  | 320407 |\n",
       "\n"
      ],
      "text/plain": [
       "  cancer1060 n     n_40_60\n",
       "1 2            171  16791 \n",
       "2 1          13317 320407 "
      ]
     },
     "metadata": {},
     "output_type": "display_data"
    }
   ],
   "source": [
    "combined_df %>% filter(0.95 <= Percentile & Percentile < 0.99) %>% count(cancer1060) %>% inner_join(cnt_middle, by='cancer1060') %>% arrange(-cancer1060)"
   ]
  },
  {
   "cell_type": "code",
   "execution_count": 49,
   "metadata": {},
   "outputs": [
    {
     "data": {
      "text/html": [
       "0.245027678112406"
      ],
      "text/latex": [
       "0.245027678112406"
      ],
      "text/markdown": [
       "0.245027678112406"
      ],
      "text/plain": [
       "[1] 0.2450277"
      ]
     },
     "metadata": {},
     "output_type": "display_data"
    }
   ],
   "source": [
    "(171 * 320407) / (16791 * 13317)"
   ]
  },
  {
   "cell_type": "code",
   "execution_count": null,
   "metadata": {},
   "outputs": [],
   "source": [
    "combined_df %>% filter(Percentile <= 0.01) %>% count(cancer1060) %>% inner_join(cnt_middle, by='cancer1060') %>% arrange(-cancer1060)"
   ]
  },
  {
   "cell_type": "code",
   "execution_count": 62,
   "metadata": {},
   "outputs": [],
   "source": [
    "joined_df <- combined_df %>% filter(Percentile <= 0.01) %>% \n",
    "count(outcome) %>% inner_join(cnt_middle, by='outcome') %>%\n",
    "gather(bin, cnt, -outcome)\n"
   ]
  },
  {
   "cell_type": "code",
   "execution_count": 81,
   "metadata": {},
   "outputs": [],
   "source": [
    "compute_or <- function(df){\n",
    "    joined_df <- df %>% count(outcome) %>% inner_join(cnt_middle, by='outcome') %>% gather(bin, cnt, -outcome)\n",
    "    n_TP <- joined_df %>% filter(bin == 'n', outcome == 2) %>% select(cnt) %>% pull()\n",
    "    n_TN <- joined_df %>% filter(bin != 'n', outcome == 1) %>% select(cnt) %>% pull()\n",
    "    n_FP <- joined_df %>% filter(bin != 'n', outcome == 2) %>% select(cnt) %>% pull()\n",
    "    n_FN <- joined_df %>% filter(bin == 'n', outcome == 1) %>% select(cnt) %>% pull()\n",
    "    or <- (n_TP * n_TN) / (n_FP * n_FN)\n",
    "    lor <- log(or)\n",
    "    se_lor <- sqrt((1/n_TP) + (1/n_TN) + (1/n_FP) + (1/n_FN))\n",
    "    lor <- exp(lor - 1.96 * se_lor)\n",
    "    uor <- exp(lor + 1.96 * se_lor)\n",
    "    c(or, lor, uor) %>% print()    \n",
    "}"
   ]
  },
  {
   "cell_type": "code",
   "execution_count": 82,
   "metadata": {},
   "outputs": [
    {
     "name": "stdout",
     "output_type": "stream",
     "text": [
      "[1]   6.045139   5.577646 286.613262\n"
     ]
    }
   ],
   "source": [
    "combined_df %>% filter(Percentile <= 0.01) %>% compute_or()"
   ]
  },
  {
   "cell_type": "code",
   "execution_count": 83,
   "metadata": {},
   "outputs": [
    {
     "name": "stdout",
     "output_type": "stream",
     "text": [
      "[1]  3.964324  3.797839 46.560014\n"
     ]
    }
   ],
   "source": [
    "combined_df %>% filter(Percentile <= 0.05) %>% compute_or()"
   ]
  },
  {
   "cell_type": "code",
   "execution_count": 84,
   "metadata": {},
   "outputs": [
    {
     "name": "stdout",
     "output_type": "stream",
     "text": [
      "[1]  3.497012  3.329254 29.324252\n"
     ]
    }
   ],
   "source": [
    "combined_df %>% filter(0.01 < Percentile & Percentile <= 0.05) %>% compute_or()"
   ]
  },
  {
   "cell_type": "code",
   "execution_count": 87,
   "metadata": {},
   "outputs": [
    {
     "name": "stdout",
     "output_type": "stream",
     "text": [
      "[1] 0.2450277 0.2105516 1.4364745\n"
     ]
    }
   ],
   "source": [
    "combined_df %>% filter(0.95 <= Percentile & Percentile < 0.99) %>% compute_or()"
   ]
  },
  {
   "cell_type": "code",
   "execution_count": 85,
   "metadata": {},
   "outputs": [
    {
     "name": "stdout",
     "output_type": "stream",
     "text": [
      "[1] 0.2290764 0.1990931 1.4040716\n"
     ]
    }
   ],
   "source": [
    "combined_df %>% filter(0.95 <= Percentile) %>% compute_or()"
   ]
  },
  {
   "cell_type": "code",
   "execution_count": 86,
   "metadata": {},
   "outputs": [
    {
     "name": "stdout",
     "output_type": "stream",
     "text": [
      "[1] 0.1655339 0.1148135 1.6171750\n"
     ]
    }
   ],
   "source": [
    "combined_df %>% filter(0.99 <= Percentile) %>% compute_or()"
   ]
  },
  {
   "cell_type": "code",
   "execution_count": null,
   "metadata": {},
   "outputs": [],
   "source": []
  }
 ],
 "metadata": {
  "kernelspec": {
   "display_name": "R",
   "language": "R",
   "name": "ir"
  },
  "language_info": {
   "codemirror_mode": "r",
   "file_extension": ".r",
   "mimetype": "text/x-r-source",
   "name": "R",
   "pygments_lexer": "r",
   "version": "3.6.1"
  }
 },
 "nbformat": 4,
 "nbformat_minor": 4
}

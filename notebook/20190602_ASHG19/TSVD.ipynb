{
 "cells": [
  {
   "cell_type": "code",
   "execution_count": 1,
   "metadata": {},
   "outputs": [],
   "source": [
    "import numpy as np\n",
    "import pandas as pd\n",
    "from sklearn.decomposition import TruncatedSVD\n",
    "from sklearn import preprocessing"
   ]
  },
  {
   "cell_type": "code",
   "execution_count": 41,
   "metadata": {},
   "outputs": [],
   "source": [
    "import re"
   ]
  },
  {
   "cell_type": "code",
   "execution_count": 47,
   "metadata": {},
   "outputs": [],
   "source": [
    "import collections"
   ]
  },
  {
   "cell_type": "code",
   "execution_count": 12,
   "metadata": {},
   "outputs": [],
   "source": [
    "%load_ext autoreload\n",
    "%autoreload 1\n",
    "%matplotlib inline\n"
   ]
  },
  {
   "cell_type": "code",
   "execution_count": 105,
   "metadata": {},
   "outputs": [],
   "source": [
    "import matplotlib\n",
    "import matplotlib.pyplot as plt"
   ]
  },
  {
   "cell_type": "code",
   "execution_count": 23,
   "metadata": {},
   "outputs": [],
   "source": [
    "in_mat_df_file = 'Biomarkers_snpnet_PRSs.tsv.gz'\n",
    "out_PC_df_file = 'Biomarkers_snpnet_PRSs.PCs.tsv.gz'"
   ]
  },
  {
   "cell_type": "code",
   "execution_count": 3,
   "metadata": {},
   "outputs": [],
   "source": [
    "in_mat_df = pd.read_csv(in_mat_df_file, compression='gzip', sep='\\t')\n",
    "in_mat = in_mat_df.values[:, 1:]\n"
   ]
  },
  {
   "cell_type": "code",
   "execution_count": 4,
   "metadata": {},
   "outputs": [],
   "source": [
    "X = preprocessing.scale(in_mat)\n"
   ]
  },
  {
   "cell_type": "code",
   "execution_count": 5,
   "metadata": {},
   "outputs": [
    {
     "name": "stdout",
     "output_type": "stream",
     "text": [
      "[ 5.47131788e-05  2.13818474e-04  2.75076985e-05 -1.85793465e-04\n",
      " -2.76534141e-07  1.74533224e-02  6.05582712e-04  1.63604858e-04\n",
      "  4.18545137e-04 -1.19995573e-05  1.23069446e-03 -1.10402007e-04\n",
      " -2.69858855e-05  1.97365189e-05  5.19742793e-05  2.67570627e-06\n",
      " -2.08846848e-06  1.61833486e-04  7.25067979e-05 -1.61828225e-05\n",
      "  8.09373967e-07 -3.63699028e-06  1.97930433e-04 -1.31266074e-04\n",
      "  2.01153314e-06  6.01385977e-04  6.25754670e-05  2.97326360e-06\n",
      " -2.35818886e-05 -4.81005114e-06  1.91332754e-03 -1.52563505e-06\n",
      "  4.30386855e-04 -4.24820848e-06 -2.74286284e-05 -8.84054790e-07\n",
      " -1.88411442e-04  8.79229823e-06]\n",
      "[8.27802605e-05 2.49699851e-04 5.49199988e-05 1.27487565e-04\n",
      " 2.14672991e-07 6.10665699e-02 3.99656085e-04 4.73625064e-04\n",
      " 3.58443766e-04 2.72319007e-05 1.07684818e-03 8.66680510e-04\n",
      " 3.77075498e-05 2.60870671e-05 1.92634700e-04 2.87349046e-06\n",
      " 3.69657837e-06 1.83470085e-04 5.12831539e-05 1.46689098e-05\n",
      " 1.07845629e-06 1.43598769e-05 1.58940940e-04 1.04259546e-04\n",
      " 1.76722987e-06 6.10729935e-04 7.94380928e-05 4.09644265e-06\n",
      " 4.83034839e-05 1.29343965e-05 5.08275275e-03 1.79923223e-06\n",
      " 3.18038707e-04 4.47461222e-05 3.97577979e-05 1.19010171e-05\n",
      " 2.84195444e-04 1.01526639e-04]\n"
     ]
    }
   ],
   "source": [
    "print(in_mat.mean(axis=0))\n",
    "print(in_mat.std(axis=0))"
   ]
  },
  {
   "cell_type": "code",
   "execution_count": 6,
   "metadata": {},
   "outputs": [
    {
     "name": "stdout",
     "output_type": "stream",
     "text": [
      "[-1.45353662e-16  2.39389915e-16  1.91149444e-17 -4.22984004e-16\n",
      " -7.45546056e-16 -5.60381887e-17 -1.45248287e-16 -1.56291541e-16\n",
      "  1.69357986e-16 -1.38325179e-16 -1.81518209e-16 -4.25080957e-17\n",
      "  2.00211656e-17  2.47598593e-16 -4.71867260e-17  1.56734114e-16\n",
      " -8.38280933e-17 -3.60971078e-16 -4.20233728e-17  4.17198940e-16\n",
      "  1.23140706e-16  1.09715987e-16 -4.50507837e-16 -1.15137508e-16\n",
      "  2.62066520e-17  1.85901791e-16 -2.39252928e-16  2.36655446e-16\n",
      " -8.86832260e-17  7.18391033e-17  2.80296318e-17  1.96881820e-16\n",
      "  1.67935429e-16 -7.37621889e-19  5.30218420e-17 -1.29821452e-17\n",
      "  1.58335807e-16  1.22919419e-17]\n",
      "[1. 1. 1. 1. 1. 1. 1. 1. 1. 1. 1. 1. 1. 1. 1. 1. 1. 1. 1. 1. 1. 1. 1. 1.\n",
      " 1. 1. 1. 1. 1. 1. 1. 1. 1. 1. 1. 1. 1. 1.]\n"
     ]
    }
   ],
   "source": [
    "print(X.mean(axis=0))\n",
    "print(X.std(axis=0))"
   ]
  },
  {
   "cell_type": "code",
   "execution_count": 7,
   "metadata": {},
   "outputs": [],
   "source": [
    "svd = TruncatedSVD(n_components=20, n_iter=20, random_state=20190602)\n",
    "Z = svd.fit_transform(X)\n"
   ]
  },
  {
   "cell_type": "code",
   "execution_count": 8,
   "metadata": {},
   "outputs": [
    {
     "data": {
      "text/plain": [
       "0.7600300058885109"
      ]
     },
     "execution_count": 8,
     "metadata": {},
     "output_type": "execute_result"
    }
   ],
   "source": [
    "svd.explained_variance_ratio_.sum()"
   ]
  },
  {
   "cell_type": "code",
   "execution_count": 9,
   "metadata": {},
   "outputs": [
    {
     "data": {
      "text/plain": [
       "array([0.08169697, 0.14363705, 0.19840622, 0.25024629, 0.29920217,\n",
       "       0.34161391, 0.38166153, 0.41884197, 0.45530472, 0.48909125,\n",
       "       0.522069  , 0.55249717, 0.58144927, 0.60837857, 0.63475922,\n",
       "       0.6610008 , 0.68674069, 0.71154532, 0.7361408 , 0.76003001])"
      ]
     },
     "execution_count": 9,
     "metadata": {},
     "output_type": "execute_result"
    }
   ],
   "source": [
    "np.cumsum(svd.explained_variance_ratio_)"
   ]
  },
  {
   "cell_type": "code",
   "execution_count": 10,
   "metadata": {},
   "outputs": [
    {
     "data": {
      "text/plain": [
       "array([0.08169697, 0.06194008, 0.05476916, 0.05184007, 0.04895588,\n",
       "       0.04241174, 0.04004762, 0.03718044, 0.03646274, 0.03378653,\n",
       "       0.03297775, 0.03042817, 0.0289521 , 0.0269293 , 0.02638065,\n",
       "       0.02624158, 0.02573989, 0.02480463, 0.02459548, 0.02388921])"
      ]
     },
     "execution_count": 10,
     "metadata": {},
     "output_type": "execute_result"
    }
   ],
   "source": [
    "svd.explained_variance_ratio_"
   ]
  },
  {
   "cell_type": "code",
   "execution_count": 11,
   "metadata": {},
   "outputs": [
    {
     "data": {
      "text/plain": [
       "(337151, 20)"
      ]
     },
     "execution_count": 11,
     "metadata": {},
     "output_type": "execute_result"
    }
   ],
   "source": [
    "Z.shape\n"
   ]
  },
  {
   "cell_type": "code",
   "execution_count": 21,
   "metadata": {},
   "outputs": [],
   "source": [
    "Z_df = pd.DataFrame(\n",
    "    Z, \n",
    "    columns=['PC{}'.format(x+1) for x in range(Z.shape[1])],\n",
    "    index=list(in_mat_df['IID'])\n",
    ")\n"
   ]
  },
  {
   "cell_type": "code",
   "execution_count": 24,
   "metadata": {},
   "outputs": [],
   "source": [
    "Z_df.to_csv(\n",
    "    out_PC_df_file,\n",
    "    sep='\\t', index=True, compression='gzip'\n",
    ")"
   ]
  },
  {
   "cell_type": "code",
   "execution_count": 25,
   "metadata": {},
   "outputs": [
    {
     "data": {
      "text/plain": [
       "1"
      ]
     },
     "execution_count": 25,
     "metadata": {},
     "output_type": "execute_result"
    }
   ],
   "source": [
    "1"
   ]
  },
  {
   "cell_type": "code",
   "execution_count": 26,
   "metadata": {},
   "outputs": [
    {
     "data": {
      "text/plain": [
       "TruncatedSVD(algorithm='randomized', n_components=20, n_iter=20,\n",
       "       random_state=20190602, tol=0.0)"
      ]
     },
     "execution_count": 26,
     "metadata": {},
     "output_type": "execute_result"
    }
   ],
   "source": [
    "svd"
   ]
  },
  {
   "cell_type": "code",
   "execution_count": null,
   "metadata": {},
   "outputs": [],
   "source": []
  },
  {
   "cell_type": "code",
   "execution_count": 54,
   "metadata": {},
   "outputs": [],
   "source": [
    "tsvd_factorization = collections.OrderedDict()\n",
    "tsvd_factorization['Sigma'] = svd.singular_values_[np.newaxis, :]\n",
    "tsvd_factorization['V'] = svd.components_.T\n",
    "tsvd_factorization['U'] = Z / svd.singular_values_\n"
   ]
  },
  {
   "cell_type": "code",
   "execution_count": 55,
   "metadata": {},
   "outputs": [
    {
     "name": "stdout",
     "output_type": "stream",
     "text": [
      "V (38, 20)\n",
      "U (337151, 20)\n",
      "Sigma (1, 20)\n"
     ]
    }
   ],
   "source": [
    "for k, v in tsvd_factorization.items():\n",
    "    print(k, v.shape)"
   ]
  },
  {
   "cell_type": "code",
   "execution_count": 61,
   "metadata": {},
   "outputs": [],
   "source": [
    "tsvd_factorization_idx = collections.OrderedDict()\n",
    "tsvd_factorization_idx['Sigma'] = ['Sigma']\n",
    "tsvd_factorization_idx['V'] = list(in_mat_df.columns[1:])\n",
    "tsvd_factorization_idx['U'] = list(in_mat_df['IID'])\n"
   ]
  },
  {
   "cell_type": "code",
   "execution_count": 62,
   "metadata": {},
   "outputs": [
    {
     "name": "stdout",
     "output_type": "stream",
     "text": [
      "V (38, 20)\n",
      "U (337151, 20)\n",
      "Sigma (1, 20)\n"
     ]
    }
   ],
   "source": [
    "for k, v in tsvd_factorization.items():\n",
    "    print(k, v.shape)\n",
    "    pd.DataFrame(\n",
    "        v, \n",
    "        columns=['PC{}'.format(x+1) for x in range(v.shape[1])],\n",
    "        index=tsvd_factorization_idx[k]\n",
    "    ).to_csv(\n",
    "        re.sub('PCs', k, out_PC_df_file),\n",
    "        sep='\\t', index=True, compression='gzip'\n",
    "    )\n"
   ]
  },
  {
   "cell_type": "code",
   "execution_count": 69,
   "metadata": {},
   "outputs": [
    {
     "data": {
      "text/plain": [
       "(20, 20)"
      ]
     },
     "execution_count": 69,
     "metadata": {},
     "output_type": "execute_result"
    }
   ],
   "source": [
    "np.dot(V.T, V).shape"
   ]
  },
  {
   "cell_type": "code",
   "execution_count": 78,
   "metadata": {},
   "outputs": [
    {
     "data": {
      "text/plain": [
       "array([1., 1., 1., 1., 1., 1., 1., 1., 1., 1., 1., 1., 1., 1., 1., 1., 1.,\n",
       "       1., 1., 1.])"
      ]
     },
     "execution_count": 78,
     "metadata": {},
     "output_type": "execute_result"
    }
   ],
   "source": [
    "np.diag(np.dot(V.T, V))"
   ]
  },
  {
   "cell_type": "code",
   "execution_count": 81,
   "metadata": {},
   "outputs": [
    {
     "data": {
      "text/plain": [
       "(8.123646850574592e-16, 0.0)"
      ]
     },
     "execution_count": 81,
     "metadata": {},
     "output_type": "execute_result"
    }
   ],
   "source": [
    "np.max(np.abs(np.triu(np.dot(V.T, V), 1))), np.median(np.triu(np.dot(V.T, V), 1))"
   ]
  },
  {
   "cell_type": "code",
   "execution_count": 74,
   "metadata": {},
   "outputs": [],
   "source": [
    "VS = V * Sigma[0]"
   ]
  },
  {
   "cell_type": "code",
   "execution_count": 89,
   "metadata": {},
   "outputs": [],
   "source": [
    "VS_norm = VS / np.sqrt(np.sum(VS ** 2, axis=1))[:, np.newaxis]"
   ]
  },
  {
   "cell_type": "code",
   "execution_count": 102,
   "metadata": {},
   "outputs": [],
   "source": [
    "cos_sim = np.dot(VS_norm, VS_norm.T)"
   ]
  },
  {
   "cell_type": "code",
   "execution_count": 103,
   "metadata": {},
   "outputs": [
    {
     "data": {
      "text/plain": [
       "array([[ 1.        ,  0.98366573, -0.01582352, ...,  0.00357159,\n",
       "         0.00808126,  0.00673321],\n",
       "       [ 0.98366573,  1.        ,  0.00814278, ...,  0.04479318,\n",
       "         0.00948595, -0.00669304],\n",
       "       [-0.01582352,  0.00814278,  1.        , ...,  0.09381104,\n",
       "         0.03748517, -0.03090798],\n",
       "       ...,\n",
       "       [ 0.00357159,  0.04479318,  0.09381104, ...,  1.        ,\n",
       "        -0.39825633,  0.06109249],\n",
       "       [ 0.00808126,  0.00948595,  0.03748517, ..., -0.39825633,\n",
       "         1.        , -0.00429078],\n",
       "       [ 0.00673321, -0.00669304, -0.03090798, ...,  0.06109249,\n",
       "        -0.00429078,  1.        ]])"
      ]
     },
     "execution_count": 103,
     "metadata": {},
     "output_type": "execute_result"
    }
   ],
   "source": [
    "cos_sim"
   ]
  },
  {
   "cell_type": "code",
   "execution_count": 111,
   "metadata": {},
   "outputs": [],
   "source": [
    "cos_sim_df = pd.DataFrame(\n",
    "    cos_sim, \n",
    "    columns=tsvd_factorization_idx['V'],\n",
    "    index=tsvd_factorization_idx['V']    \n",
    ")"
   ]
  },
  {
   "cell_type": "code",
   "execution_count": 114,
   "metadata": {},
   "outputs": [],
   "source": [
    "cos_sim_df.to_csv(\n",
    "    re.sub('PCs', 'cos_sim', out_PC_df_file),\n",
    "    sep='\\t', index=True, compression='gzip'\n",
    ")"
   ]
  },
  {
   "cell_type": "code",
   "execution_count": null,
   "metadata": {},
   "outputs": [],
   "source": []
  }
 ],
 "metadata": {
  "kernelspec": {
   "display_name": "Python 3",
   "language": "python",
   "name": "python3"
  },
  "language_info": {
   "codemirror_mode": {
    "name": "ipython",
    "version": 3
   },
   "file_extension": ".py",
   "mimetype": "text/x-python",
   "name": "python",
   "nbconvert_exporter": "python",
   "pygments_lexer": "ipython3",
   "version": "3.7.1"
  }
 },
 "nbformat": 4,
 "nbformat_minor": 2
}

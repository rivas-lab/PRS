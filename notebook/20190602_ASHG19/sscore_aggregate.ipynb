{
 "cells": [
  {
   "cell_type": "code",
   "execution_count": 1,
   "metadata": {},
   "outputs": [
    {
     "name": "stderr",
     "output_type": "stream",
     "text": [
      "Loading required package: tidyverse\n",
      "── Attaching packages ─────────────────────────────────────── tidyverse 1.2.1 ──\n",
      "✔ ggplot2 3.1.0       ✔ purrr   0.3.1  \n",
      "✔ tibble  2.0.1       ✔ dplyr   0.8.0.1\n",
      "✔ tidyr   0.8.3       ✔ stringr 1.4.0  \n",
      "✔ readr   1.3.1       ✔ forcats 0.4.0  \n",
      "── Conflicts ────────────────────────────────────────── tidyverse_conflicts() ──\n",
      "✖ dplyr::filter() masks stats::filter()\n",
      "✖ dplyr::lag()    masks stats::lag()\n",
      "Loading required package: data.table\n",
      "\n",
      "Attaching package: ‘data.table’\n",
      "\n",
      "The following objects are masked from ‘package:dplyr’:\n",
      "\n",
      "    between, first, last\n",
      "\n",
      "The following object is masked from ‘package:purrr’:\n",
      "\n",
      "    transpose\n",
      "\n"
     ]
    }
   ],
   "source": [
    "require(tidyverse)\n",
    "require(data.table)"
   ]
  },
  {
   "cell_type": "code",
   "execution_count": 48,
   "metadata": {},
   "outputs": [],
   "source": [
    "score_dir <- '/oak/stanford/groups/mrivas/projects/PRS/private_output/snpnet_biomarker_PRS/biomarkers_20190407/8_score_all'\n",
    "phe_info_f <- 'Biomarker_PRSs.tsv'\n",
    "phe_info <- fread(\n",
    "    cmd=paste('cat ', phe_info_f, ' |sed -e \"s/^#//g\"'), sep='\\t', data.table=F\n",
    ")"
   ]
  },
  {
   "cell_type": "code",
   "execution_count": 49,
   "metadata": {},
   "outputs": [],
   "source": [
    "population_f <- '/oak/stanford/groups/mrivas/ukbb24983/sqc/population_stratification/ukb24983_white_british.phe'\n",
    "population_df <- fread(population_f, head=F, data.table=F, sep='\\t')\n",
    "colnames(population_df) <- c('FID', 'IID')"
   ]
  },
  {
   "cell_type": "code",
   "execution_count": 50,
   "metadata": {},
   "outputs": [],
   "source": [
    "read_sscore <- function(score_file, GBE_id){\n",
    "    fread(\n",
    "        cmd=paste0('cat ', score_file, ' | cut -f2,6', ' |sed -e \"s/^#//g\"'), \n",
    "        sep='\\t', data.table=F\n",
    "    ) %>% \n",
    "    mutate(\n",
    "        GBE_ID = GBE_id\n",
    "    ) %>%\n",
    "    rename(\n",
    "        Score = SCORE1_AVG\n",
    "    )\n",
    "}"
   ]
  },
  {
   "cell_type": "code",
   "execution_count": 51,
   "metadata": {},
   "outputs": [],
   "source": [
    "read_sscore_wrapper <- function(GBE_id, phenotype_info = phe_info, score_d = score_dir){\n",
    "    score_f_basename <- phenotype_info %>% filter(GBE_ID == GBE_id) %>%  \n",
    "    select(sscore_file) %>% pull()\n",
    "    score_f <- file.path(score_d, score_f_basename)\n",
    "    read_sscore(score_f, GBE_id)\n",
    "}"
   ]
  },
  {
   "cell_type": "code",
   "execution_count": 52,
   "metadata": {},
   "outputs": [],
   "source": [
    "read_sscore_all <- function(phenotype_info){\n",
    "    phenotype_info %>% select(GBE_ID) %>% pull() %>% \n",
    "    lapply(read_sscore_wrapper) %>% reduce(bind_rows)\n",
    "}"
   ]
  },
  {
   "cell_type": "code",
   "execution_count": 53,
   "metadata": {},
   "outputs": [],
   "source": [
    "scores_all_df <- read_sscore_all(phe_info)"
   ]
  },
  {
   "cell_type": "code",
   "execution_count": 57,
   "metadata": {},
   "outputs": [],
   "source": [
    "scores_long_df <- scores_all_df %>% \n",
    "right_join(\n",
    "    population_df %>% select(IID), by = 'IID'\n",
    ")"
   ]
  },
  {
   "cell_type": "code",
   "execution_count": 61,
   "metadata": {},
   "outputs": [
    {
     "name": "stdout",
     "output_type": "stream",
     "text": [
      "[1] 18558326        3\n",
      "[1] 12811738        3\n",
      "[1] 488377      1\n",
      "[1] 337151      1\n",
      "[1] 38  1\n",
      "[1] 38  1\n"
     ]
    }
   ],
   "source": [
    "scores_all_df  %>% dim() %>% print()\n",
    "scores_long_df %>% dim() %>% print()\n",
    "scores_all_df  %>% select(IID) %>% unique() %>% dim() %>% print()\n",
    "scores_long_df %>% select(IID) %>% unique() %>% dim() %>% print()\n",
    "scores_all_df  %>% select(GBE_ID) %>% unique() %>% dim() %>% print()\n",
    "scores_long_df %>% select(GBE_ID) %>% unique() %>% dim() %>% print()"
   ]
  },
  {
   "cell_type": "code",
   "execution_count": 62,
   "metadata": {},
   "outputs": [
    {
     "data": {
      "text/html": [
       "12811738"
      ],
      "text/latex": [
       "12811738"
      ],
      "text/markdown": [
       "12811738"
      ],
      "text/plain": [
       "[1] 12811738"
      ]
     },
     "metadata": {},
     "output_type": "display_data"
    }
   ],
   "source": [
    "337151 * 38"
   ]
  },
  {
   "cell_type": "code",
   "execution_count": 67,
   "metadata": {},
   "outputs": [],
   "source": [
    "scores_wide_df <- scores_long_df %>% spread(GBE_ID, Score, fill=0)\n"
   ]
  },
  {
   "cell_type": "code",
   "execution_count": 68,
   "metadata": {},
   "outputs": [
    {
     "data": {
      "text/html": [
       "<ol class=list-inline>\n",
       "\t<li>337151</li>\n",
       "\t<li>39</li>\n",
       "</ol>\n"
      ],
      "text/latex": [
       "\\begin{enumerate*}\n",
       "\\item 337151\n",
       "\\item 39\n",
       "\\end{enumerate*}\n"
      ],
      "text/markdown": [
       "1. 337151\n",
       "2. 39\n",
       "\n",
       "\n"
      ],
      "text/plain": [
       "[1] 337151     39"
      ]
     },
     "metadata": {},
     "output_type": "display_data"
    }
   ],
   "source": [
    "scores_wide_df %>% dim()"
   ]
  },
  {
   "cell_type": "code",
   "execution_count": 69,
   "metadata": {},
   "outputs": [],
   "source": [
    "scores_wide_df %>% \n",
    "fwrite(\n",
    "    'Biomarkers_snpnet_PRSs.tsv', sep='\\t'\n",
    ")"
   ]
  },
  {
   "cell_type": "markdown",
   "metadata": {},
   "source": [
    "```\n",
    "$ gzip -9 Biomarkers_snpnet_PRSs.tsv\n",
    "```"
   ]
  },
  {
   "cell_type": "code",
   "execution_count": null,
   "metadata": {},
   "outputs": [],
   "source": []
  }
 ],
 "metadata": {
  "kernelspec": {
   "display_name": "R 3.5 (module)",
   "language": "R",
   "name": "ir35ml"
  },
  "language_info": {
   "codemirror_mode": "r",
   "file_extension": ".r",
   "mimetype": "text/x-r-source",
   "name": "R",
   "pygments_lexer": "r",
   "version": "3.5.1"
  }
 },
 "nbformat": 4,
 "nbformat_minor": 2
}

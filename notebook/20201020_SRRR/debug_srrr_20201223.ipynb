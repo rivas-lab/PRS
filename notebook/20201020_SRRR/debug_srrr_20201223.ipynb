{
 "cells": [
  {
   "cell_type": "code",
   "execution_count": 1,
   "metadata": {},
   "outputs": [],
   "source": [
    "suppressWarnings(suppressPackageStartupMessages({\n",
    "    library(tidyverse)\n",
    "    library(data.table)\n",
    "}))\n"
   ]
  },
  {
   "cell_type": "code",
   "execution_count": 63,
   "metadata": {},
   "outputs": [],
   "source": [
    "'/oak/stanford/groups/mrivas/users/ytanigaw/repos/rivas-lab/PRS/notebook/20201020_SRRR/SRRR.GBE_ID.lst' %>%\n",
    "fread(header = F) %>% pull() -> phenotype\n"
   ]
  },
  {
   "cell_type": "code",
   "execution_count": 64,
   "metadata": {},
   "outputs": [
    {
     "data": {
      "text/html": [
       "<style>\n",
       ".list-inline {list-style: none; margin:0; padding: 0}\n",
       ".list-inline>li {display: inline-block}\n",
       ".list-inline>li:not(:last-child)::after {content: \"\\00b7\"; padding: 0 .5ex}\n",
       "</style>\n",
       "<ol class=list-inline><li>'INI50'</li><li>'INI21001'</li><li>'HC269'</li><li>'HC382'</li><li>'BIN1210'</li><li>'BIN1950'</li></ol>\n"
      ],
      "text/latex": [
       "\\begin{enumerate*}\n",
       "\\item 'INI50'\n",
       "\\item 'INI21001'\n",
       "\\item 'HC269'\n",
       "\\item 'HC382'\n",
       "\\item 'BIN1210'\n",
       "\\item 'BIN1950'\n",
       "\\end{enumerate*}\n"
      ],
      "text/markdown": [
       "1. 'INI50'\n",
       "2. 'INI21001'\n",
       "3. 'HC269'\n",
       "4. 'HC382'\n",
       "5. 'BIN1210'\n",
       "6. 'BIN1950'\n",
       "\n",
       "\n"
      ],
      "text/plain": [
       "[1] \"INI50\"    \"INI21001\" \"HC269\"    \"HC382\"    \"BIN1210\"  \"BIN1950\" "
      ]
     },
     "metadata": {},
     "output_type": "display_data"
    }
   ],
   "source": [
    "head(phenotype)"
   ]
  },
  {
   "cell_type": "code",
   "execution_count": 65,
   "metadata": {},
   "outputs": [
    {
     "data": {
      "text/html": [
       "<style>\n",
       ".list-inline {list-style: none; margin:0; padding: 0}\n",
       ".list-inline>li {display: inline-block}\n",
       ".list-inline>li:not(:last-child)::after {content: \"\\00b7\"; padding: 0 .5ex}\n",
       "</style>\n",
       "<ol class=list-inline><li>'cancer1045'</li><li>'cancer1059'</li><li>'cancer1060'</li><li>'cancer1065'</li><li>'cancer1068'</li><li>'cancer1074'</li></ol>\n"
      ],
      "text/latex": [
       "\\begin{enumerate*}\n",
       "\\item 'cancer1045'\n",
       "\\item 'cancer1059'\n",
       "\\item 'cancer1060'\n",
       "\\item 'cancer1065'\n",
       "\\item 'cancer1068'\n",
       "\\item 'cancer1074'\n",
       "\\end{enumerate*}\n"
      ],
      "text/markdown": [
       "1. 'cancer1045'\n",
       "2. 'cancer1059'\n",
       "3. 'cancer1060'\n",
       "4. 'cancer1065'\n",
       "5. 'cancer1068'\n",
       "6. 'cancer1074'\n",
       "\n",
       "\n"
      ],
      "text/plain": [
       "[1] \"cancer1045\" \"cancer1059\" \"cancer1060\" \"cancer1065\" \"cancer1068\"\n",
       "[6] \"cancer1074\""
      ]
     },
     "metadata": {},
     "output_type": "display_data"
    }
   ],
   "source": [
    "tail(phenotype)"
   ]
  },
  {
   "cell_type": "code",
   "execution_count": 66,
   "metadata": {},
   "outputs": [
    {
     "data": {
      "text/html": [
       "1772"
      ],
      "text/latex": [
       "1772"
      ],
      "text/markdown": [
       "1772"
      ],
      "text/plain": [
       "[1] 1772"
      ]
     },
     "metadata": {},
     "output_type": "display_data"
    }
   ],
   "source": [
    "length(phenotype)"
   ]
  },
  {
   "cell_type": "code",
   "execution_count": 10,
   "metadata": {},
   "outputs": [],
   "source": [
    "'/scratch/groups/mrivas/ukbb24983/phenotypedata/master_phe/master.20200828.phe.info.tsv' %>%\n",
    "fread() %>%\n",
    "rename('GBE_ID' = '#GBE_ID') -> df"
   ]
  },
  {
   "cell_type": "code",
   "execution_count": 12,
   "metadata": {},
   "outputs": [],
   "source": [
    "df %>% pull(GBE_ID) -> GBE_IDs\n"
   ]
  },
  {
   "cell_type": "code",
   "execution_count": 52,
   "metadata": {},
   "outputs": [],
   "source": [
    "phenotype_file <- '/scratch/groups/mrivas/ukbb24983/phenotypedata/master_phe/master.20200828.patch20201223.phe'\n"
   ]
  },
  {
   "cell_type": "code",
   "execution_count": 53,
   "metadata": {},
   "outputs": [],
   "source": [
    "c(head(GBE_IDs), 'INI2005254', 'INI2005255') -> phenotype\n"
   ]
  },
  {
   "cell_type": "code",
   "execution_count": 54,
   "metadata": {},
   "outputs": [
    {
     "data": {
      "text/html": [
       "<style>\n",
       ".list-inline {list-style: none; margin:0; padding: 0}\n",
       ".list-inline>li {display: inline-block}\n",
       ".list-inline>li:not(:last-child)::after {content: \"\\00b7\"; padding: 0 .5ex}\n",
       "</style>\n",
       "<ol class=list-inline><li>'BIN100020'</li><li>'BIN100240'</li><li>'BIN100260'</li><li>'BIN100280'</li><li>'BIN10030500'</li><li>'BIN10030800'</li><li>'INI2005254'</li><li>'INI2005255'</li></ol>\n"
      ],
      "text/latex": [
       "\\begin{enumerate*}\n",
       "\\item 'BIN100020'\n",
       "\\item 'BIN100240'\n",
       "\\item 'BIN100260'\n",
       "\\item 'BIN100280'\n",
       "\\item 'BIN10030500'\n",
       "\\item 'BIN10030800'\n",
       "\\item 'INI2005254'\n",
       "\\item 'INI2005255'\n",
       "\\end{enumerate*}\n"
      ],
      "text/markdown": [
       "1. 'BIN100020'\n",
       "2. 'BIN100240'\n",
       "3. 'BIN100260'\n",
       "4. 'BIN100280'\n",
       "5. 'BIN10030500'\n",
       "6. 'BIN10030800'\n",
       "7. 'INI2005254'\n",
       "8. 'INI2005255'\n",
       "\n",
       "\n"
      ],
      "text/plain": [
       "[1] \"BIN100020\"   \"BIN100240\"   \"BIN100260\"   \"BIN100280\"   \"BIN10030500\"\n",
       "[6] \"BIN10030800\" \"INI2005254\"  \"INI2005255\" "
      ]
     },
     "metadata": {},
     "output_type": "display_data"
    }
   ],
   "source": [
    "phenotype"
   ]
  },
  {
   "cell_type": "code",
   "execution_count": 55,
   "metadata": {},
   "outputs": [
    {
     "data": {
      "text/html": [
       "<style>\n",
       ".dl-inline {width: auto; margin:0; padding: 0}\n",
       ".dl-inline>dt, .dl-inline>dd {float: none; width: auto; display: inline-block}\n",
       ".dl-inline>dt::after {content: \":\\0020\"; padding-right: .5ex}\n",
       ".dl-inline>dt:not(:first-of-type) {padding-left: .5ex}\n",
       "</style><dl class=dl-inline><dt>#FID</dt><dd>'character'</dd><dt>IID</dt><dd>'character'</dd><dt>BIN100020</dt><dd>'numeric'</dd><dt>BIN100240</dt><dd>'numeric'</dd><dt>BIN100260</dt><dd>'numeric'</dd><dt>BIN100280</dt><dd>'numeric'</dd><dt>BIN10030500</dt><dd>'numeric'</dd><dt>BIN10030800</dt><dd>'numeric'</dd><dt>INI2005254</dt><dd>'numeric'</dd><dt>INI2005255</dt><dd>'numeric'</dd></dl>\n"
      ],
      "text/latex": [
       "\\begin{description*}\n",
       "\\item[\\textbackslash{}\\#FID] 'character'\n",
       "\\item[IID] 'character'\n",
       "\\item[BIN100020] 'numeric'\n",
       "\\item[BIN100240] 'numeric'\n",
       "\\item[BIN100260] 'numeric'\n",
       "\\item[BIN100280] 'numeric'\n",
       "\\item[BIN10030500] 'numeric'\n",
       "\\item[BIN10030800] 'numeric'\n",
       "\\item[INI2005254] 'numeric'\n",
       "\\item[INI2005255] 'numeric'\n",
       "\\end{description*}\n"
      ],
      "text/markdown": [
       "#FID\n",
       ":   'character'IID\n",
       ":   'character'BIN100020\n",
       ":   'numeric'BIN100240\n",
       ":   'numeric'BIN100260\n",
       ":   'numeric'BIN100280\n",
       ":   'numeric'BIN10030500\n",
       ":   'numeric'BIN10030800\n",
       ":   'numeric'INI2005254\n",
       ":   'numeric'INI2005255\n",
       ":   'numeric'\n",
       "\n"
      ],
      "text/plain": [
       "       #FID         IID   BIN100020   BIN100240   BIN100260   BIN100280 \n",
       "\"character\" \"character\"   \"numeric\"   \"numeric\"   \"numeric\"   \"numeric\" \n",
       "BIN10030500 BIN10030800  INI2005254  INI2005255 \n",
       "  \"numeric\"   \"numeric\"   \"numeric\"   \"numeric\" "
      ]
     },
     "metadata": {},
     "output_type": "display_data"
    }
   ],
   "source": [
    "c('#FID'='character', 'IID'='character', setNames(rep('numeric', length(phenotype)), phenotype))"
   ]
  },
  {
   "cell_type": "code",
   "execution_count": 56,
   "metadata": {},
   "outputs": [],
   "source": [
    "phenotype_file %>% \n",
    "fread(\n",
    "    colClasses = c('#FID'='character', 'IID'='character', setNames(rep('numeric', length(phenotype)), phenotype)),\n",
    "    select=c('#FID', 'IID', phenotype)\n",
    "#     ,\n",
    "#     nrows=10\n",
    ") %>%\n",
    "rename('FID'='#FID') -> phe_df\n"
   ]
  },
  {
   "cell_type": "code",
   "execution_count": 57,
   "metadata": {},
   "outputs": [
    {
     "data": {
      "text/html": [
       "<style>\n",
       ".list-inline {list-style: none; margin:0; padding: 0}\n",
       ".list-inline>li {display: inline-block}\n",
       ".list-inline>li:not(:last-child)::after {content: \"\\00b7\"; padding: 0 .5ex}\n",
       "</style>\n",
       "<ol class=list-inline><li>'FID'</li><li>'IID'</li><li>'BIN100020'</li><li>'BIN100240'</li><li>'BIN100260'</li><li>'BIN100280'</li><li>'BIN10030500'</li><li>'BIN10030800'</li><li>'INI2005254'</li><li>'INI2005255'</li></ol>\n"
      ],
      "text/latex": [
       "\\begin{enumerate*}\n",
       "\\item 'FID'\n",
       "\\item 'IID'\n",
       "\\item 'BIN100020'\n",
       "\\item 'BIN100240'\n",
       "\\item 'BIN100260'\n",
       "\\item 'BIN100280'\n",
       "\\item 'BIN10030500'\n",
       "\\item 'BIN10030800'\n",
       "\\item 'INI2005254'\n",
       "\\item 'INI2005255'\n",
       "\\end{enumerate*}\n"
      ],
      "text/markdown": [
       "1. 'FID'\n",
       "2. 'IID'\n",
       "3. 'BIN100020'\n",
       "4. 'BIN100240'\n",
       "5. 'BIN100260'\n",
       "6. 'BIN100280'\n",
       "7. 'BIN10030500'\n",
       "8. 'BIN10030800'\n",
       "9. 'INI2005254'\n",
       "10. 'INI2005255'\n",
       "\n",
       "\n"
      ],
      "text/plain": [
       " [1] \"FID\"         \"IID\"         \"BIN100020\"   \"BIN100240\"   \"BIN100260\"  \n",
       " [6] \"BIN100280\"   \"BIN10030500\" \"BIN10030800\" \"INI2005254\"  \"INI2005255\" "
      ]
     },
     "metadata": {},
     "output_type": "display_data"
    }
   ],
   "source": [
    "phe_df %>% colnames()"
   ]
  },
  {
   "cell_type": "code",
   "execution_count": 58,
   "metadata": {},
   "outputs": [
    {
     "data": {
      "text/html": [
       "<table>\n",
       "<caption>A data.table: 0 × 10</caption>\n",
       "<thead>\n",
       "\t<tr><th scope=col>FID</th><th scope=col>IID</th><th scope=col>BIN100020</th><th scope=col>BIN100240</th><th scope=col>BIN100260</th><th scope=col>BIN100280</th><th scope=col>BIN10030500</th><th scope=col>BIN10030800</th><th scope=col>INI2005254</th><th scope=col>INI2005255</th></tr>\n",
       "\t<tr><th scope=col>&lt;chr&gt;</th><th scope=col>&lt;chr&gt;</th><th scope=col>&lt;dbl&gt;</th><th scope=col>&lt;dbl&gt;</th><th scope=col>&lt;dbl&gt;</th><th scope=col>&lt;dbl&gt;</th><th scope=col>&lt;dbl&gt;</th><th scope=col>&lt;dbl&gt;</th><th scope=col>&lt;dbl&gt;</th><th scope=col>&lt;dbl&gt;</th></tr>\n",
       "</thead>\n",
       "<tbody>\n",
       "</tbody>\n",
       "</table>\n"
      ],
      "text/latex": [
       "A data.table: 0 × 10\n",
       "\\begin{tabular}{llllllllll}\n",
       " FID & IID & BIN100020 & BIN100240 & BIN100260 & BIN100280 & BIN10030500 & BIN10030800 & INI2005254 & INI2005255\\\\\n",
       " <chr> & <chr> & <dbl> & <dbl> & <dbl> & <dbl> & <dbl> & <dbl> & <dbl> & <dbl>\\\\\n",
       "\\hline\n",
       "\\end{tabular}\n"
      ],
      "text/markdown": [
       "\n",
       "A data.table: 0 × 10\n",
       "\n",
       "| FID &lt;chr&gt; | IID &lt;chr&gt; | BIN100020 &lt;dbl&gt; | BIN100240 &lt;dbl&gt; | BIN100260 &lt;dbl&gt; | BIN100280 &lt;dbl&gt; | BIN10030500 &lt;dbl&gt; | BIN10030800 &lt;dbl&gt; | INI2005254 &lt;dbl&gt; | INI2005255 &lt;dbl&gt; |\n",
       "|---|---|---|---|---|---|---|---|---|---|\n",
       "\n"
      ],
      "text/plain": [
       "     FID IID BIN100020 BIN100240 BIN100260 BIN100280 BIN10030500 BIN10030800\n",
       "     INI2005254 INI2005255"
      ]
     },
     "metadata": {},
     "output_type": "display_data"
    }
   ],
   "source": [
    "phe_df %>%\n",
    "filter(INI2005254 == 'INI2005254')"
   ]
  },
  {
   "cell_type": "code",
   "execution_count": null,
   "metadata": {},
   "outputs": [],
   "source": []
  }
 ],
 "metadata": {
  "kernelspec": {
   "display_name": "R",
   "language": "R",
   "name": "ir"
  },
  "language_info": {
   "codemirror_mode": "r",
   "file_extension": ".r",
   "mimetype": "text/x-r-source",
   "name": "R",
   "pygments_lexer": "r",
   "version": "3.6.2"
  }
 },
 "nbformat": 4,
 "nbformat_minor": 4
}

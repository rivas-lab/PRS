{
 "cells": [
  {
   "cell_type": "code",
   "execution_count": 1,
   "metadata": {},
   "outputs": [
    {
     "name": "stderr",
     "output_type": "stream",
     "text": [
      "── Attaching packages ─────────────────────────────────────── tidyverse 1.2.1 ──\n",
      "✔ ggplot2 3.1.0       ✔ purrr   0.3.1  \n",
      "✔ tibble  2.0.1       ✔ dplyr   0.8.0.1\n",
      "✔ tidyr   0.8.3       ✔ stringr 1.4.0  \n",
      "✔ readr   1.3.1       ✔ forcats 0.4.0  \n",
      "── Conflicts ────────────────────────────────────────── tidyverse_conflicts() ──\n",
      "✖ dplyr::filter() masks stats::filter()\n",
      "✖ dplyr::lag()    masks stats::lag()\n",
      "\n",
      "Attaching package: ‘data.table’\n",
      "\n",
      "The following objects are masked from ‘package:dplyr’:\n",
      "\n",
      "    between, first, last\n",
      "\n",
      "The following object is masked from ‘package:purrr’:\n",
      "\n",
      "    transpose\n",
      "\n"
     ]
    }
   ],
   "source": [
    "library(tidyverse)\n",
    "library(data.table)"
   ]
  },
  {
   "cell_type": "code",
   "execution_count": 2,
   "metadata": {},
   "outputs": [],
   "source": [
    "phe_file <- '/oak/stanford/groups/mrivas/projects/biomarkers/covariate_corrected/output/phenotypes/full.table.phe'"
   ]
  },
  {
   "cell_type": "code",
   "execution_count": 3,
   "metadata": {},
   "outputs": [],
   "source": [
    "phe_file_cols <- fread(\n",
    "    cmd=paste0('cat ', phe_file, '| awk \"NR == 1\"', '| tr \"\\t\" \"\\n\"'),\n",
    "    head=FALSE\n",
    ")"
   ]
  },
  {
   "cell_type": "code",
   "execution_count": 4,
   "metadata": {},
   "outputs": [],
   "source": [
    "covar_list <- fread(\n",
    "    'covar.list', head=FALSE\n",
    ")"
   ]
  },
  {
   "cell_type": "code",
   "execution_count": 5,
   "metadata": {},
   "outputs": [
    {
     "data": {
      "text/html": [
       "<ol class=list-inline>\n",
       "\t<li>222</li>\n",
       "\t<li>1</li>\n",
       "</ol>\n"
      ],
      "text/latex": [
       "\\begin{enumerate*}\n",
       "\\item 222\n",
       "\\item 1\n",
       "\\end{enumerate*}\n"
      ],
      "text/markdown": [
       "1. 222\n",
       "2. 1\n",
       "\n",
       "\n"
      ],
      "text/plain": [
       "[1] 222   1"
      ]
     },
     "metadata": {},
     "output_type": "display_data"
    }
   ],
   "source": [
    "phe_file_cols %>% dim()"
   ]
  },
  {
   "cell_type": "code",
   "execution_count": 6,
   "metadata": {},
   "outputs": [
    {
     "data": {
      "text/html": [
       "<table>\n",
       "<thead><tr><th scope=col>V1</th><th scope=col>col_idx</th></tr></thead>\n",
       "<tbody>\n",
       "\t<tr><td>FID  </td><td>1    </td></tr>\n",
       "\t<tr><td>IID  </td><td>2    </td></tr>\n",
       "\t<tr><td>age  </td><td>3    </td></tr>\n",
       "\t<tr><td>sex  </td><td>4    </td></tr>\n",
       "\t<tr><td>Array</td><td>5    </td></tr>\n",
       "\t<tr><td>PC1  </td><td>6    </td></tr>\n",
       "</tbody>\n",
       "</table>\n"
      ],
      "text/latex": [
       "\\begin{tabular}{r|ll}\n",
       " V1 & col\\_idx\\\\\n",
       "\\hline\n",
       "\t FID   & 1    \\\\\n",
       "\t IID   & 2    \\\\\n",
       "\t age   & 3    \\\\\n",
       "\t sex   & 4    \\\\\n",
       "\t Array & 5    \\\\\n",
       "\t PC1   & 6    \\\\\n",
       "\\end{tabular}\n"
      ],
      "text/markdown": [
       "\n",
       "| V1 | col_idx |\n",
       "|---|---|\n",
       "| FID   | 1     |\n",
       "| IID   | 2     |\n",
       "| age   | 3     |\n",
       "| sex   | 4     |\n",
       "| Array | 5     |\n",
       "| PC1   | 6     |\n",
       "\n"
      ],
      "text/plain": [
       "  V1    col_idx\n",
       "1 FID   1      \n",
       "2 IID   2      \n",
       "3 age   3      \n",
       "4 sex   4      \n",
       "5 Array 5      \n",
       "6 PC1   6      "
      ]
     },
     "metadata": {},
     "output_type": "display_data"
    }
   ],
   "source": [
    "phe_file_cols %>% \n",
    "mutate(\n",
    "    col_idx = row_number()\n",
    ") %>%\n",
    "head()"
   ]
  },
  {
   "cell_type": "code",
   "execution_count": 7,
   "metadata": {},
   "outputs": [
    {
     "data": {
      "text/html": [
       "<ol class=list-inline>\n",
       "\t<li>127</li>\n",
       "\t<li>1</li>\n",
       "</ol>\n"
      ],
      "text/latex": [
       "\\begin{enumerate*}\n",
       "\\item 127\n",
       "\\item 1\n",
       "\\end{enumerate*}\n"
      ],
      "text/markdown": [
       "1. 127\n",
       "2. 1\n",
       "\n",
       "\n"
      ],
      "text/plain": [
       "[1] 127   1"
      ]
     },
     "metadata": {},
     "output_type": "display_data"
    }
   ],
   "source": [
    "covar_list %>% dim()"
   ]
  },
  {
   "cell_type": "code",
   "execution_count": 8,
   "metadata": {},
   "outputs": [
    {
     "data": {
      "text/html": [
       "<ol class=list-inline>\n",
       "\t<li>112</li>\n",
       "\t<li>1</li>\n",
       "</ol>\n"
      ],
      "text/latex": [
       "\\begin{enumerate*}\n",
       "\\item 112\n",
       "\\item 1\n",
       "\\end{enumerate*}\n"
      ],
      "text/markdown": [
       "1. 112\n",
       "2. 1\n",
       "\n",
       "\n"
      ],
      "text/plain": [
       "[1] 112   1"
      ]
     },
     "metadata": {},
     "output_type": "display_data"
    }
   ],
   "source": [
    "covar_list %>% filter(\n",
    "    str_detect(V1, '[*]', negate = TRUE)\n",
    ") %>% dim()\n"
   ]
  },
  {
   "cell_type": "code",
   "execution_count": 9,
   "metadata": {},
   "outputs": [
    {
     "name": "stderr",
     "output_type": "stream",
     "text": [
      "Joining, by = \"V1\"\n"
     ]
    },
    {
     "data": {
      "text/html": [
       "'3:114'"
      ],
      "text/latex": [
       "'3:114'"
      ],
      "text/markdown": [
       "'3:114'"
      ],
      "text/plain": [
       "[1] \"3:114\""
      ]
     },
     "metadata": {},
     "output_type": "display_data"
    }
   ],
   "source": [
    "covar_list %>% filter(\n",
    "    str_detect(V1, '[*]', negate = TRUE)\n",
    ") %>% left_join(\n",
    "    phe_file_cols %>% \n",
    "    mutate(\n",
    "        col_idx = row_number()\n",
    "    ),\n",
    "    on='V1'\n",
    ") %>% \n",
    "select(\n",
    "    col_idx\n",
    ") %>% as.list() %>% paste0()"
   ]
  },
  {
   "cell_type": "markdown",
   "metadata": {},
   "source": [
    "### the 1st order covariates are in columns 3-114. With FID and IID, we need to read cols 1-114"
   ]
  },
  {
   "cell_type": "code",
   "execution_count": 10,
   "metadata": {},
   "outputs": [],
   "source": [
    "phe_df <- fread(\n",
    "    cmd=paste0('cat ', phe_file, '| cut -f1-114'),\n",
    "    head=TRUE\n",
    ")"
   ]
  },
  {
   "cell_type": "code",
   "execution_count": 11,
   "metadata": {},
   "outputs": [
    {
     "data": {
      "text/html": [
       "<table>\n",
       "<thead><tr><th scope=col>V3</th></tr></thead>\n",
       "<tbody>\n",
       "\t<tr><td>age_age = age * age                                                                    </td></tr>\n",
       "\t<tr><td>age_sex = age * sex                                                                    </td></tr>\n",
       "\t<tr><td>sex_DrawTime = sex * DrawTime                                                          </td></tr>\n",
       "\t<tr><td>age_DrawTime = age * DrawTime                                                          </td></tr>\n",
       "\t<tr><td>sex_UrineSampleMinutes = sex * UrineSampleMinutes                                      </td></tr>\n",
       "\t<tr><td>age_UrineSampleMinutes = age * UrineSampleMinutes                                      </td></tr>\n",
       "\t<tr><td>DrawTime_DrawTime = DrawTime * DrawTime                                                </td></tr>\n",
       "\t<tr><td>FastingTime_FastingTime = FastingTime * FastingTime                                    </td></tr>\n",
       "\t<tr><td>UrineSampleMinutes_UrineSampleMinutes = UrineSampleMinutes * UrineSampleMinutes        </td></tr>\n",
       "\t<tr><td>DilutionFactorTimeZero_DrawTime = DilutionFactorTimeZero * DrawTime                    </td></tr>\n",
       "\t<tr><td>DilutionFactorTimeZero_UrineSampleMinutes = DilutionFactorTimeZero * UrineSampleMinutes</td></tr>\n",
       "\t<tr><td>sex_FastingTime = sex * FastingTime                                                    </td></tr>\n",
       "\t<tr><td>age_FastingTime = age * FastingTime                                                    </td></tr>\n",
       "\t<tr><td>age_TDI = age * TDI                                                                    </td></tr>\n",
       "\t<tr><td>sex_TDI = sex * TDI                                                                    </td></tr>\n",
       "</tbody>\n",
       "</table>\n"
      ],
      "text/latex": [
       "\\begin{tabular}{r|l}\n",
       " V3\\\\\n",
       "\\hline\n",
       "\t age\\_age = age * age                                                                    \\\\\n",
       "\t age\\_sex = age * sex                                                                    \\\\\n",
       "\t sex\\_DrawTime = sex * DrawTime                                                          \\\\\n",
       "\t age\\_DrawTime = age * DrawTime                                                          \\\\\n",
       "\t sex\\_UrineSampleMinutes = sex * UrineSampleMinutes                                      \\\\\n",
       "\t age\\_UrineSampleMinutes = age * UrineSampleMinutes                                      \\\\\n",
       "\t DrawTime\\_DrawTime = DrawTime * DrawTime                                                \\\\\n",
       "\t FastingTime\\_FastingTime = FastingTime * FastingTime                                    \\\\\n",
       "\t UrineSampleMinutes\\_UrineSampleMinutes = UrineSampleMinutes * UrineSampleMinutes        \\\\\n",
       "\t DilutionFactorTimeZero\\_DrawTime = DilutionFactorTimeZero * DrawTime                    \\\\\n",
       "\t DilutionFactorTimeZero\\_UrineSampleMinutes = DilutionFactorTimeZero * UrineSampleMinutes\\\\\n",
       "\t sex\\_FastingTime = sex * FastingTime                                                    \\\\\n",
       "\t age\\_FastingTime = age * FastingTime                                                    \\\\\n",
       "\t age\\_TDI = age * TDI                                                                    \\\\\n",
       "\t sex\\_TDI = sex * TDI                                                                    \\\\\n",
       "\\end{tabular}\n"
      ],
      "text/markdown": [
       "\n",
       "| V3 |\n",
       "|---|\n",
       "| age_age = age * age                                                                     |\n",
       "| age_sex = age * sex                                                                     |\n",
       "| sex_DrawTime = sex * DrawTime                                                           |\n",
       "| age_DrawTime = age * DrawTime                                                           |\n",
       "| sex_UrineSampleMinutes = sex * UrineSampleMinutes                                       |\n",
       "| age_UrineSampleMinutes = age * UrineSampleMinutes                                       |\n",
       "| DrawTime_DrawTime = DrawTime * DrawTime                                                 |\n",
       "| FastingTime_FastingTime = FastingTime * FastingTime                                     |\n",
       "| UrineSampleMinutes_UrineSampleMinutes = UrineSampleMinutes * UrineSampleMinutes         |\n",
       "| DilutionFactorTimeZero_DrawTime = DilutionFactorTimeZero * DrawTime                     |\n",
       "| DilutionFactorTimeZero_UrineSampleMinutes = DilutionFactorTimeZero * UrineSampleMinutes |\n",
       "| sex_FastingTime = sex * FastingTime                                                     |\n",
       "| age_FastingTime = age * FastingTime                                                     |\n",
       "| age_TDI = age * TDI                                                                     |\n",
       "| sex_TDI = sex * TDI                                                                     |\n",
       "\n"
      ],
      "text/plain": [
       "   V3                                                                                     \n",
       "1  age_age = age * age                                                                    \n",
       "2  age_sex = age * sex                                                                    \n",
       "3  sex_DrawTime = sex * DrawTime                                                          \n",
       "4  age_DrawTime = age * DrawTime                                                          \n",
       "5  sex_UrineSampleMinutes = sex * UrineSampleMinutes                                      \n",
       "6  age_UrineSampleMinutes = age * UrineSampleMinutes                                      \n",
       "7  DrawTime_DrawTime = DrawTime * DrawTime                                                \n",
       "8  FastingTime_FastingTime = FastingTime * FastingTime                                    \n",
       "9  UrineSampleMinutes_UrineSampleMinutes = UrineSampleMinutes * UrineSampleMinutes        \n",
       "10 DilutionFactorTimeZero_DrawTime = DilutionFactorTimeZero * DrawTime                    \n",
       "11 DilutionFactorTimeZero_UrineSampleMinutes = DilutionFactorTimeZero * UrineSampleMinutes\n",
       "12 sex_FastingTime = sex * FastingTime                                                    \n",
       "13 age_FastingTime = age * FastingTime                                                    \n",
       "14 age_TDI = age * TDI                                                                    \n",
       "15 sex_TDI = sex * TDI                                                                    "
      ]
     },
     "metadata": {},
     "output_type": "display_data"
    }
   ],
   "source": [
    "covar_list %>% filter(\n",
    "    str_detect(V1, '[*]', negate = FALSE)\n",
    ") %>% mutate(\n",
    "    V2 = str_replace(V1, ' [*] ', '_')\n",
    ") %>% mutate(\n",
    "    V3 = paste(V2, V1, sep=' = ')\n",
    ") %>% select(V3)\n"
   ]
  },
  {
   "cell_type": "code",
   "execution_count": 12,
   "metadata": {},
   "outputs": [],
   "source": [
    "phe_computed_df <- phe_df %>% mutate(\n",
    "    age_age = age * age,\n",
    "    age_sex = age * sex,\n",
    "    sex_DrawTime = sex * DrawTime,\n",
    "    age_DrawTime = age * DrawTime,\n",
    "    sex_UrineSampleMinutes = sex * UrineSampleMinutes,\n",
    "    age_UrineSampleMinutes = age * UrineSampleMinutes,\n",
    "    DrawTime_DrawTime = DrawTime * DrawTime,\n",
    "    FastingTime_FastingTime = FastingTime * FastingTime,\n",
    "    UrineSampleMinutes_UrineSampleMinutes = UrineSampleMinutes * UrineSampleMinutes,\n",
    "    DilutionFactorTimeZero_DrawTime = DilutionFactorTimeZero * DrawTime,\n",
    "    DilutionFactorTimeZero_UrineSampleMinutes = DilutionFactorTimeZero * UrineSampleMinutes,\n",
    "    sex_FastingTime = sex * FastingTime,\n",
    "    age_FastingTime = age * FastingTime,\n",
    "    age_TDI = age * TDI,\n",
    "    sex_TDI = sex * TDI\n",
    ") "
   ]
  },
  {
   "cell_type": "code",
   "execution_count": 13,
   "metadata": {},
   "outputs": [
    {
     "data": {
      "text/html": [
       "<ol class=list-inline>\n",
       "\t<li>461984</li>\n",
       "\t<li>129</li>\n",
       "</ol>\n"
      ],
      "text/latex": [
       "\\begin{enumerate*}\n",
       "\\item 461984\n",
       "\\item 129\n",
       "\\end{enumerate*}\n"
      ],
      "text/markdown": [
       "1. 461984\n",
       "2. 129\n",
       "\n",
       "\n"
      ],
      "text/plain": [
       "[1] 461984    129"
      ]
     },
     "metadata": {},
     "output_type": "display_data"
    }
   ],
   "source": [
    "phe_computed_df %>% dim()"
   ]
  },
  {
   "cell_type": "code",
   "execution_count": 14,
   "metadata": {},
   "outputs": [],
   "source": [
    "phe_computed_df %>% \n",
    "fwrite(\n",
    "    'biomarker_covar.tsv', sep='\\t'\n",
    ")"
   ]
  },
  {
   "cell_type": "code",
   "execution_count": 19,
   "metadata": {},
   "outputs": [],
   "source": [
    "covar_list %>% \n",
    "mutate(\n",
    "    V2 = str_replace(V1, ' [*] ', '_')\n",
    ") %>% select(V2) %>%\n",
    "fwrite(\n",
    "    'biomarker_covar.colnames',\n",
    "    col.names = FALSE\n",
    ")\n"
   ]
  },
  {
   "cell_type": "code",
   "execution_count": 25,
   "metadata": {},
   "outputs": [
    {
     "name": "stderr",
     "output_type": "stream",
     "text": [
      "Joining, by = \"V1\"\n",
      "Warning message:\n",
      "“Column `V1` joining character vector and factor, coercing into character vector”"
     ]
    },
    {
     "data": {
      "text/html": [
       "<table>\n",
       "<thead><tr><th scope=col>V1</th><th scope=col>beta</th></tr></thead>\n",
       "<tbody>\n",
       "\t<tr><td>age</td><td>1  </td></tr>\n",
       "\t<tr><td>sex</td><td>2  </td></tr>\n",
       "</tbody>\n",
       "</table>\n"
      ],
      "text/latex": [
       "\\begin{tabular}{r|ll}\n",
       " V1 & beta\\\\\n",
       "\\hline\n",
       "\t age & 1  \\\\\n",
       "\t sex & 2  \\\\\n",
       "\\end{tabular}\n"
      ],
      "text/markdown": [
       "\n",
       "| V1 | beta |\n",
       "|---|---|\n",
       "| age | 1   |\n",
       "| sex | 2   |\n",
       "\n"
      ],
      "text/plain": [
       "  V1  beta\n",
       "1 age 1   \n",
       "2 sex 2   "
      ]
     },
     "metadata": {},
     "output_type": "display_data"
    }
   ],
   "source": [
    "covar_list %>% mutate(\n",
    "    beta = row_number()\n",
    ") %>% \n",
    "# foo\n",
    "right_join(\n",
    "    data.frame(V1 = c('age', 'sex')),\n",
    "    on='ID'\n",
    ")"
   ]
  },
  {
   "cell_type": "code",
   "execution_count": 26,
   "metadata": {},
   "outputs": [
    {
     "ename": "ERROR",
     "evalue": "Error in eval(expr, envir, enclos): object 'pwd' not found\n",
     "output_type": "error",
     "traceback": [
      "Error in eval(expr, envir, enclos): object 'pwd' not found\nTraceback:\n"
     ]
    }
   ],
   "source": [
    "!pwd"
   ]
  },
  {
   "cell_type": "code",
   "execution_count": null,
   "metadata": {},
   "outputs": [],
   "source": []
  }
 ],
 "metadata": {
  "kernelspec": {
   "display_name": "r_env",
   "language": "R",
   "name": "ir"
  },
  "language_info": {
   "codemirror_mode": "r",
   "file_extension": ".r",
   "mimetype": "text/x-r-source",
   "name": "R",
   "pygments_lexer": "r",
   "version": "3.5.1"
  }
 },
 "nbformat": 4,
 "nbformat_minor": 2
}

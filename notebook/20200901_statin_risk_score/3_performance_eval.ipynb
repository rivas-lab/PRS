{
 "cells": [
  {
   "cell_type": "code",
   "execution_count": 1,
   "metadata": {},
   "outputs": [],
   "source": [
    "suppressWarnings(suppressPackageStartupMessages({\n",
    "    library(tidyverse)\n",
    "    library(data.table)\n",
    "}))\n"
   ]
  },
  {
   "cell_type": "code",
   "execution_count": 2,
   "metadata": {},
   "outputs": [],
   "source": [
    "# input and parameters\n",
    "\n",
    "data_d <- '/oak/stanford/groups/mrivas/users/gmcinnes/statin_risk_score'\n",
    "phe_f <- file.path(data_d, 'statin_PRS_all.phe')\n",
    "sscore_f <- file.path(data_d, '__PHENOTYPE__', '__PHENOTYPE__.sscore.zst')\n",
    "snpnet_BETAs_f <- file.path(data_d, '__PHENOTYPE__', 'snpnet.tsv')\n",
    "snpnet_covar_BETAs_f <- file.path(data_d, '__PHENOTYPE__', 'snpnet.covars.tsv')\n",
    "covariates <- c('age', 'sex', paste0('PC', 1:10))\n",
    "refit_split_strs <- c('non_british_white', 'african', 's_asian', 'e_asian')\n",
    "\n",
    "# output\n",
    "eval_f <- '3_performance_eval.tsv'\n"
   ]
  },
  {
   "cell_type": "code",
   "execution_count": 3,
   "metadata": {},
   "outputs": [],
   "source": [
    "eval_phe <- function(phe_df, phenotype, sscore_f, snpnet_BETAs_f, snpnet_covar_BETAs_f, covariates, family, refit_split_strs=NULL){\n",
    "    metric.type <- ifelse(family=='binomial', 'auc', 'r2')\n",
    "    phe_df %>% read_predicted_scores(\n",
    "        str_replace_all(sscore_f, '__PHENOTYPE__', phenotype),\n",
    "        str_replace_all(snpnet_covar_BETAs_f, '__PHENOTYPE__', phenotype),\n",
    "        covariates\n",
    "    ) %>%\n",
    "    drop_na(geno_score, covar_score) %>%\n",
    "    inner_join(\n",
    "        phe_df %>% rename(!!'phe':= all_of(phenotype)) %>% select(FID, IID, phe, split, all_of(covariates)),\n",
    "        by=c('FID', 'IID')\n",
    "    ) %>%\n",
    "    drop_na(split, phe) %>% filter(phe != -9) -> phe_score_before_refit_df\n",
    "\n",
    "    if(is.null(refit_split_strs)){\n",
    "        phe_score_before_refit_df %>%\n",
    "        select(FID, IID, split, phe, geno_score, covar_score) -> phe_score_df\n",
    "    }else{\n",
    "        # refit covar models for non-WB populations\n",
    "        refit_split_strs %>%\n",
    "        lapply(function(split_str){\n",
    "            phe_score_before_refit_df %>%\n",
    "            filter(split == split_str) %>%\n",
    "            compute_covar_score('phe', covariates, family)\n",
    "        }) %>% bind_rows() %>%\n",
    "        select(FID, IID, covar_score) -> refit_df\n",
    "\n",
    "        bind_rows(\n",
    "            # the ones without refit\n",
    "            phe_score_before_refit_df %>%\n",
    "            filter(!split %in% refit_split_strs) %>%\n",
    "            select(FID, IID, split, phe, geno_score, covar_score),\n",
    "\n",
    "            # the ones from refit\n",
    "            phe_score_before_refit_df %>%\n",
    "            select(FID, IID, split, phe, geno_score) %>%\n",
    "            inner_join(refit_df, by=c('FID', 'IID'))            \n",
    "        )  -> phe_score_df\n",
    "    }\n",
    "    \n",
    "    phe_score_df %>% count(split, phe) %>%\n",
    "    mutate(phe = if_else(phe==2, 'case_n', 'control_n')) %>%\n",
    "    spread(phe, n) %>% filter(control_n>0, case_n>0) %>%\n",
    "    arrange(-case_n) -> split_cnt_df\n",
    "\n",
    "    phe_score_df %>% build_eval_df((split_cnt_df %>% pull(split)), metric.type) %>%\n",
    "    mutate(\n",
    "        geno_delta = geno_covar - covar,\n",
    "        phenotype_name = phenotype,\n",
    "        n_variables = read_BETAs(str_replace_all(snpnet_BETAs_f, '__PHENOTYPE__', phenotype)) %>% nrow()\n",
    "    ) %>%\n",
    "    left_join(split_cnt_df, by='split') %>%\n",
    "    select(phenotype_name, split, geno, covar, geno_covar, geno_delta, n_variables, case_n, control_n)    \n",
    "}\n"
   ]
  },
  {
   "cell_type": "code",
   "execution_count": 4,
   "metadata": {},
   "outputs": [],
   "source": [
    "source('/oak/stanford/groups/mrivas/users/ytanigaw/repos/rivas-lab/snpnet/helpers/snpnet_misc.R')\n"
   ]
  },
  {
   "cell_type": "code",
   "execution_count": 5,
   "metadata": {},
   "outputs": [],
   "source": [
    "phe_f %>% \n",
    "fread(colClasses = c('FID'='character', 'IID'='character'), data.table=F) %>%\n",
    "mutate(\n",
    "    split = if_else(is.na(split), population, paste('WB', split, sep=':'))\n",
    ") -> phe_df\n"
   ]
  },
  {
   "cell_type": "code",
   "execution_count": 6,
   "metadata": {},
   "outputs": [],
   "source": [
    "eval_df <- bind_rows(\n",
    "    eval_phe(\n",
    "        phe_df, 'atorvastatin_v_hc_and_Ostatin',\n",
    "        sscore_f, snpnet_BETAs_f, snpnet_covar_BETAs_f,\n",
    "        covariates, 'binomial', refit_split_strs\n",
    "    ),\n",
    "    eval_phe(\n",
    "        phe_df, 'simvastatin_v_hc_and_Ostatin',\n",
    "        sscore_f, snpnet_BETAs_f, snpnet_covar_BETAs_f,\n",
    "        covariates, 'binomial', refit_split_strs\n",
    "    )\n",
    ")\n"
   ]
  },
  {
   "cell_type": "code",
   "execution_count": 7,
   "metadata": {},
   "outputs": [],
   "source": [
    "eval_df %>%\n",
    "rename('#phenotype_name' = 'phenotype_name') %>%\n",
    "fwrite(eval_f, sep='\\t', na = \"NA\", quote=F)\n"
   ]
  },
  {
   "cell_type": "code",
   "execution_count": 8,
   "metadata": {},
   "outputs": [],
   "source": [
    "plot_order <- data.frame(\n",
    "    split=c('WB:train', 'WB:val', 'WB:test', 'non_british_white', 'african', 's_asian', 'e_asian'),\n",
    "    order=1:7\n",
    ") "
   ]
  },
  {
   "cell_type": "code",
   "execution_count": 9,
   "metadata": {},
   "outputs": [],
   "source": [
    "p1_delta <- eval_df %>%\n",
    "left_join(plot_order, by='split') %>%\n",
    "ggplot(aes(x=reorder(as.factor(split), -order), y=geno_delta)) +\n",
    "geom_bar(stat=\"identity\") +\n",
    "theme_bw() + coord_flip() +\n",
    "geom_hline(yintercept = 0, color='gray') + \n",
    "labs(\n",
    "    title='Incremental predictive performance of snpnet PRS',\n",
    "    x='training/validation/test split or population',\n",
    "    y='incremental AUC (full model - covariate-only model)'\n",
    ") +\n",
    "facet_wrap(~phenotype_name)\n"
   ]
  },
  {
   "cell_type": "code",
   "execution_count": 10,
   "metadata": {},
   "outputs": [],
   "source": [
    "p2_covar <- eval_df %>%\n",
    "left_join(plot_order, by='split') %>%\n",
    "ggplot(aes(x=reorder(as.factor(split), -order), y=covar)) +\n",
    "geom_bar(stat=\"identity\") +\n",
    "theme_bw() + coord_flip() +\n",
    "geom_hline(yintercept = 0, color='gray') + \n",
    "labs(\n",
    "    title='Predictive performance of covariate-only model',\n",
    "    x='training/validation/test split or population',\n",
    "    y='AUC of the covariate-only model'\n",
    ") +\n",
    "facet_wrap(~phenotype_name)\n"
   ]
  },
  {
   "cell_type": "code",
   "execution_count": 11,
   "metadata": {},
   "outputs": [],
   "source": [
    "ggsave('3_performance_eval.incremental_AUC.png', p1_delta, width=8, height=4)\n",
    "ggsave('3_performance_eval.covar_AUC.png', p2_covar, width=8, height=4)\n"
   ]
  },
  {
   "cell_type": "code",
   "execution_count": null,
   "metadata": {},
   "outputs": [],
   "source": []
  }
 ],
 "metadata": {
  "kernelspec": {
   "display_name": "R",
   "language": "R",
   "name": "ir"
  },
  "language_info": {
   "codemirror_mode": "r",
   "file_extension": ".r",
   "mimetype": "text/x-r-source",
   "name": "R",
   "pygments_lexer": "r",
   "version": "3.6.2"
  }
 },
 "nbformat": 4,
 "nbformat_minor": 4
}

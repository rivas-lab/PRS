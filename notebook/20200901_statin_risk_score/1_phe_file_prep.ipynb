{
 "cells": [
  {
   "cell_type": "code",
   "execution_count": 1,
   "metadata": {},
   "outputs": [],
   "source": [
    "suppressWarnings(suppressPackageStartupMessages({\n",
    "    library(tidyverse)\n",
    "    library(data.table)\n",
    "}))\n"
   ]
  },
  {
   "cell_type": "code",
   "execution_count": 44,
   "metadata": {},
   "outputs": [],
   "source": [
    "data_d <- '/oak/stanford/groups/mrivas/users/gmcinnes/statin_risk_score'\n",
    "phe_all_file <- file.path(data_d, 'statin_PRS_all.phe')\n",
    "phe_minimum_file <- file.path(data_d, 'statin_PRS_snpnet.phe')\n"
   ]
  },
  {
   "cell_type": "code",
   "execution_count": 2,
   "metadata": {},
   "outputs": [],
   "source": [
    "GWAS_covar_f <- '/oak/stanford/groups/mrivas/ukbb24983/sqc/population_stratification_w24983_20200313/ukb24983_GWAS_covar.20200313.phe'\n",
    "phe_fs <- c(\n",
    "    '/oak/stanford/groups/mrivas/users/gmcinnes/atorvastatin_v_hc_and_Ostatin.phe',\n",
    "    '/oak/stanford/groups/mrivas/users/gmcinnes/simvastatin_v_hc_and_Ostatin.phe'\n",
    ")\n"
   ]
  },
  {
   "cell_type": "code",
   "execution_count": 34,
   "metadata": {},
   "outputs": [],
   "source": [
    "phe_fs %>% lapply(function(phe_f){\n",
    "    fread(\n",
    "        phe_f,\n",
    "        col.names=c('FID', 'IID', str_replace(basename(phe_f), '.phe$' , '')),\n",
    "        colClasses=c('character', 'character', 'integer')\n",
    "    )\n",
    "}) %>%\n",
    "reduce(function(x, y){\n",
    "    inner_join(x, y, by=c('FID', 'IID'))\n",
    "}) %>% \n",
    "inner_join(\n",
    "    fread(\n",
    "        GWAS_covar_f,\n",
    "        colClasses=c('FID'='character', 'IID'='character', 'split'='character')\n",
    "    ), by=c('FID', 'IID')\n",
    ") -> phe_df\n"
   ]
  },
  {
   "cell_type": "code",
   "execution_count": 36,
   "metadata": {},
   "outputs": [
    {
     "data": {
      "text/html": [
       "<table>\n",
       "<caption>A data.table: 4 × 3</caption>\n",
       "<thead>\n",
       "\t<tr><th scope=col>atorvastatin_v_hc_and_Ostatin</th><th scope=col>simvastatin_v_hc_and_Ostatin</th><th scope=col>n</th></tr>\n",
       "\t<tr><th scope=col>&lt;int&gt;</th><th scope=col>&lt;int&gt;</th><th scope=col>&lt;int&gt;</th></tr>\n",
       "</thead>\n",
       "<tbody>\n",
       "\t<tr><td>1</td><td>1</td><td> 4773</td></tr>\n",
       "\t<tr><td>1</td><td>2</td><td>43994</td></tr>\n",
       "\t<tr><td>2</td><td>1</td><td>15379</td></tr>\n",
       "\t<tr><td>2</td><td>2</td><td>  941</td></tr>\n",
       "</tbody>\n",
       "</table>\n"
      ],
      "text/latex": [
       "A data.table: 4 × 3\n",
       "\\begin{tabular}{lll}\n",
       " atorvastatin\\_v\\_hc\\_and\\_Ostatin & simvastatin\\_v\\_hc\\_and\\_Ostatin & n\\\\\n",
       " <int> & <int> & <int>\\\\\n",
       "\\hline\n",
       "\t 1 & 1 &  4773\\\\\n",
       "\t 1 & 2 & 43994\\\\\n",
       "\t 2 & 1 & 15379\\\\\n",
       "\t 2 & 2 &   941\\\\\n",
       "\\end{tabular}\n"
      ],
      "text/markdown": [
       "\n",
       "A data.table: 4 × 3\n",
       "\n",
       "| atorvastatin_v_hc_and_Ostatin &lt;int&gt; | simvastatin_v_hc_and_Ostatin &lt;int&gt; | n &lt;int&gt; |\n",
       "|---|---|---|\n",
       "| 1 | 1 |  4773 |\n",
       "| 1 | 2 | 43994 |\n",
       "| 2 | 1 | 15379 |\n",
       "| 2 | 2 |   941 |\n",
       "\n"
      ],
      "text/plain": [
       "  atorvastatin_v_hc_and_Ostatin simvastatin_v_hc_and_Ostatin n    \n",
       "1 1                             1                             4773\n",
       "2 1                             2                            43994\n",
       "3 2                             1                            15379\n",
       "4 2                             2                              941"
      ]
     },
     "metadata": {},
     "output_type": "display_data"
    }
   ],
   "source": [
    "phe_df %>% count(atorvastatin_v_hc_and_Ostatin, simvastatin_v_hc_and_Ostatin)"
   ]
  },
  {
   "cell_type": "code",
   "execution_count": 38,
   "metadata": {},
   "outputs": [
    {
     "data": {
      "text/html": [
       "<table>\n",
       "<caption>A data.table: 8 × 2</caption>\n",
       "<thead>\n",
       "\t<tr><th scope=col>population</th><th scope=col>n</th></tr>\n",
       "\t<tr><th scope=col>&lt;chr&gt;</th><th scope=col>&lt;int&gt;</th></tr>\n",
       "</thead>\n",
       "<tbody>\n",
       "\t<tr><td>african          </td><td>  707</td></tr>\n",
       "\t<tr><td>e_asian          </td><td>   88</td></tr>\n",
       "\t<tr><td>e_asian_outlier  </td><td>   51</td></tr>\n",
       "\t<tr><td>non_british_white</td><td> 2810</td></tr>\n",
       "\t<tr><td>s_asian          </td><td> 1703</td></tr>\n",
       "\t<tr><td>s_asian_outlier  </td><td>   15</td></tr>\n",
       "\t<tr><td>white_british    </td><td>44774</td></tr>\n",
       "\t<tr><td>NA               </td><td>14939</td></tr>\n",
       "</tbody>\n",
       "</table>\n"
      ],
      "text/latex": [
       "A data.table: 8 × 2\n",
       "\\begin{tabular}{ll}\n",
       " population & n\\\\\n",
       " <chr> & <int>\\\\\n",
       "\\hline\n",
       "\t african           &   707\\\\\n",
       "\t e\\_asian           &    88\\\\\n",
       "\t e\\_asian\\_outlier   &    51\\\\\n",
       "\t non\\_british\\_white &  2810\\\\\n",
       "\t s\\_asian           &  1703\\\\\n",
       "\t s\\_asian\\_outlier   &    15\\\\\n",
       "\t white\\_british     & 44774\\\\\n",
       "\t NA                & 14939\\\\\n",
       "\\end{tabular}\n"
      ],
      "text/markdown": [
       "\n",
       "A data.table: 8 × 2\n",
       "\n",
       "| population &lt;chr&gt; | n &lt;int&gt; |\n",
       "|---|---|\n",
       "| african           |   707 |\n",
       "| e_asian           |    88 |\n",
       "| e_asian_outlier   |    51 |\n",
       "| non_british_white |  2810 |\n",
       "| s_asian           |  1703 |\n",
       "| s_asian_outlier   |    15 |\n",
       "| white_british     | 44774 |\n",
       "| NA                | 14939 |\n",
       "\n"
      ],
      "text/plain": [
       "  population        n    \n",
       "1 african             707\n",
       "2 e_asian              88\n",
       "3 e_asian_outlier      51\n",
       "4 non_british_white  2810\n",
       "5 s_asian            1703\n",
       "6 s_asian_outlier      15\n",
       "7 white_british     44774\n",
       "8 NA                14939"
      ]
     },
     "metadata": {},
     "output_type": "display_data"
    }
   ],
   "source": [
    "phe_df %>% count(population)"
   ]
  },
  {
   "cell_type": "code",
   "execution_count": 42,
   "metadata": {},
   "outputs": [
    {
     "data": {
      "text/html": [
       "<table>\n",
       "<caption>A data.table: 4 × 2</caption>\n",
       "<thead>\n",
       "\t<tr><th scope=col>split</th><th scope=col>n</th></tr>\n",
       "\t<tr><th scope=col>&lt;chr&gt;</th><th scope=col>&lt;int&gt;</th></tr>\n",
       "</thead>\n",
       "<tbody>\n",
       "\t<tr><td>test </td><td> 8971</td></tr>\n",
       "\t<tr><td>train</td><td>31368</td></tr>\n",
       "\t<tr><td>val  </td><td> 4437</td></tr>\n",
       "\t<tr><td>NA   </td><td>20311</td></tr>\n",
       "</tbody>\n",
       "</table>\n"
      ],
      "text/latex": [
       "A data.table: 4 × 2\n",
       "\\begin{tabular}{ll}\n",
       " split & n\\\\\n",
       " <chr> & <int>\\\\\n",
       "\\hline\n",
       "\t test  &  8971\\\\\n",
       "\t train & 31368\\\\\n",
       "\t val   &  4437\\\\\n",
       "\t NA    & 20311\\\\\n",
       "\\end{tabular}\n"
      ],
      "text/markdown": [
       "\n",
       "A data.table: 4 × 2\n",
       "\n",
       "| split &lt;chr&gt; | n &lt;int&gt; |\n",
       "|---|---|\n",
       "| test  |  8971 |\n",
       "| train | 31368 |\n",
       "| val   |  4437 |\n",
       "| NA    | 20311 |\n",
       "\n"
      ],
      "text/plain": [
       "  split n    \n",
       "1 test   8971\n",
       "2 train 31368\n",
       "3 val    4437\n",
       "4 NA    20311"
      ]
     },
     "metadata": {},
     "output_type": "display_data"
    }
   ],
   "source": [
    "phe_df %>% count(split)"
   ]
  },
  {
   "cell_type": "code",
   "execution_count": 46,
   "metadata": {},
   "outputs": [
    {
     "data": {
      "text/html": [
       "<style>\n",
       ".list-inline {list-style: none; margin:0; padding: 0}\n",
       ".list-inline>li {display: inline-block}\n",
       ".list-inline>li:not(:last-child)::after {content: \"\\00b7\"; padding: 0 .5ex}\n",
       "</style>\n",
       "<ol class=list-inline><li>'FID'</li><li>'IID'</li><li>'atorvastatin_v_hc_and_Ostatin'</li><li>'simvastatin_v_hc_and_Ostatin'</li><li>'population'</li><li>'split'</li><li>'age'</li><li>'age0'</li><li>'age1'</li><li>'age2'</li><li>'age3'</li><li>'sex'</li><li>'BMI'</li><li>'N_CNV'</li><li>'LEN_CNV'</li><li>'Array'</li><li>'PC1'</li><li>'PC2'</li><li>'PC3'</li><li>'PC4'</li><li>'PC5'</li><li>'PC6'</li><li>'PC7'</li><li>'PC8'</li><li>'PC9'</li><li>'PC10'</li><li>'PC11'</li><li>'PC12'</li><li>'PC13'</li><li>'PC14'</li><li>'PC15'</li><li>'PC16'</li><li>'PC17'</li><li>'PC18'</li><li>'PC19'</li><li>'PC20'</li><li>'PC21'</li><li>'PC22'</li><li>'PC23'</li><li>'PC24'</li><li>'PC25'</li><li>'PC26'</li><li>'PC27'</li><li>'PC28'</li><li>'PC29'</li><li>'PC30'</li><li>'PC31'</li><li>'PC32'</li><li>'PC33'</li><li>'PC34'</li><li>'PC35'</li><li>'PC36'</li><li>'PC37'</li><li>'PC38'</li><li>'PC39'</li><li>'PC40'</li><li>'Global_PC1'</li><li>'Global_PC2'</li><li>'Global_PC3'</li><li>'Global_PC4'</li><li>'Global_PC5'</li><li>'Global_PC6'</li><li>'Global_PC7'</li><li>'Global_PC8'</li><li>'Global_PC9'</li><li>'Global_PC10'</li><li>'Global_PC11'</li><li>'Global_PC12'</li><li>'Global_PC13'</li><li>'Global_PC14'</li><li>'Global_PC15'</li><li>'Global_PC16'</li><li>'Global_PC17'</li><li>'Global_PC18'</li><li>'Global_PC19'</li><li>'Global_PC20'</li><li>'Global_PC21'</li><li>'Global_PC22'</li><li>'Global_PC23'</li><li>'Global_PC24'</li><li>'Global_PC25'</li><li>'Global_PC26'</li><li>'Global_PC27'</li><li>'Global_PC28'</li><li>'Global_PC29'</li><li>'Global_PC30'</li><li>'Global_PC31'</li><li>'Global_PC32'</li><li>'Global_PC33'</li><li>'Global_PC34'</li><li>'Global_PC35'</li><li>'Global_PC36'</li><li>'Global_PC37'</li><li>'Global_PC38'</li><li>'Global_PC39'</li><li>'Global_PC40'</li></ol>\n"
      ],
      "text/latex": [
       "\\begin{enumerate*}\n",
       "\\item 'FID'\n",
       "\\item 'IID'\n",
       "\\item 'atorvastatin\\_v\\_hc\\_and\\_Ostatin'\n",
       "\\item 'simvastatin\\_v\\_hc\\_and\\_Ostatin'\n",
       "\\item 'population'\n",
       "\\item 'split'\n",
       "\\item 'age'\n",
       "\\item 'age0'\n",
       "\\item 'age1'\n",
       "\\item 'age2'\n",
       "\\item 'age3'\n",
       "\\item 'sex'\n",
       "\\item 'BMI'\n",
       "\\item 'N\\_CNV'\n",
       "\\item 'LEN\\_CNV'\n",
       "\\item 'Array'\n",
       "\\item 'PC1'\n",
       "\\item 'PC2'\n",
       "\\item 'PC3'\n",
       "\\item 'PC4'\n",
       "\\item 'PC5'\n",
       "\\item 'PC6'\n",
       "\\item 'PC7'\n",
       "\\item 'PC8'\n",
       "\\item 'PC9'\n",
       "\\item 'PC10'\n",
       "\\item 'PC11'\n",
       "\\item 'PC12'\n",
       "\\item 'PC13'\n",
       "\\item 'PC14'\n",
       "\\item 'PC15'\n",
       "\\item 'PC16'\n",
       "\\item 'PC17'\n",
       "\\item 'PC18'\n",
       "\\item 'PC19'\n",
       "\\item 'PC20'\n",
       "\\item 'PC21'\n",
       "\\item 'PC22'\n",
       "\\item 'PC23'\n",
       "\\item 'PC24'\n",
       "\\item 'PC25'\n",
       "\\item 'PC26'\n",
       "\\item 'PC27'\n",
       "\\item 'PC28'\n",
       "\\item 'PC29'\n",
       "\\item 'PC30'\n",
       "\\item 'PC31'\n",
       "\\item 'PC32'\n",
       "\\item 'PC33'\n",
       "\\item 'PC34'\n",
       "\\item 'PC35'\n",
       "\\item 'PC36'\n",
       "\\item 'PC37'\n",
       "\\item 'PC38'\n",
       "\\item 'PC39'\n",
       "\\item 'PC40'\n",
       "\\item 'Global\\_PC1'\n",
       "\\item 'Global\\_PC2'\n",
       "\\item 'Global\\_PC3'\n",
       "\\item 'Global\\_PC4'\n",
       "\\item 'Global\\_PC5'\n",
       "\\item 'Global\\_PC6'\n",
       "\\item 'Global\\_PC7'\n",
       "\\item 'Global\\_PC8'\n",
       "\\item 'Global\\_PC9'\n",
       "\\item 'Global\\_PC10'\n",
       "\\item 'Global\\_PC11'\n",
       "\\item 'Global\\_PC12'\n",
       "\\item 'Global\\_PC13'\n",
       "\\item 'Global\\_PC14'\n",
       "\\item 'Global\\_PC15'\n",
       "\\item 'Global\\_PC16'\n",
       "\\item 'Global\\_PC17'\n",
       "\\item 'Global\\_PC18'\n",
       "\\item 'Global\\_PC19'\n",
       "\\item 'Global\\_PC20'\n",
       "\\item 'Global\\_PC21'\n",
       "\\item 'Global\\_PC22'\n",
       "\\item 'Global\\_PC23'\n",
       "\\item 'Global\\_PC24'\n",
       "\\item 'Global\\_PC25'\n",
       "\\item 'Global\\_PC26'\n",
       "\\item 'Global\\_PC27'\n",
       "\\item 'Global\\_PC28'\n",
       "\\item 'Global\\_PC29'\n",
       "\\item 'Global\\_PC30'\n",
       "\\item 'Global\\_PC31'\n",
       "\\item 'Global\\_PC32'\n",
       "\\item 'Global\\_PC33'\n",
       "\\item 'Global\\_PC34'\n",
       "\\item 'Global\\_PC35'\n",
       "\\item 'Global\\_PC36'\n",
       "\\item 'Global\\_PC37'\n",
       "\\item 'Global\\_PC38'\n",
       "\\item 'Global\\_PC39'\n",
       "\\item 'Global\\_PC40'\n",
       "\\end{enumerate*}\n"
      ],
      "text/markdown": [
       "1. 'FID'\n",
       "2. 'IID'\n",
       "3. 'atorvastatin_v_hc_and_Ostatin'\n",
       "4. 'simvastatin_v_hc_and_Ostatin'\n",
       "5. 'population'\n",
       "6. 'split'\n",
       "7. 'age'\n",
       "8. 'age0'\n",
       "9. 'age1'\n",
       "10. 'age2'\n",
       "11. 'age3'\n",
       "12. 'sex'\n",
       "13. 'BMI'\n",
       "14. 'N_CNV'\n",
       "15. 'LEN_CNV'\n",
       "16. 'Array'\n",
       "17. 'PC1'\n",
       "18. 'PC2'\n",
       "19. 'PC3'\n",
       "20. 'PC4'\n",
       "21. 'PC5'\n",
       "22. 'PC6'\n",
       "23. 'PC7'\n",
       "24. 'PC8'\n",
       "25. 'PC9'\n",
       "26. 'PC10'\n",
       "27. 'PC11'\n",
       "28. 'PC12'\n",
       "29. 'PC13'\n",
       "30. 'PC14'\n",
       "31. 'PC15'\n",
       "32. 'PC16'\n",
       "33. 'PC17'\n",
       "34. 'PC18'\n",
       "35. 'PC19'\n",
       "36. 'PC20'\n",
       "37. 'PC21'\n",
       "38. 'PC22'\n",
       "39. 'PC23'\n",
       "40. 'PC24'\n",
       "41. 'PC25'\n",
       "42. 'PC26'\n",
       "43. 'PC27'\n",
       "44. 'PC28'\n",
       "45. 'PC29'\n",
       "46. 'PC30'\n",
       "47. 'PC31'\n",
       "48. 'PC32'\n",
       "49. 'PC33'\n",
       "50. 'PC34'\n",
       "51. 'PC35'\n",
       "52. 'PC36'\n",
       "53. 'PC37'\n",
       "54. 'PC38'\n",
       "55. 'PC39'\n",
       "56. 'PC40'\n",
       "57. 'Global_PC1'\n",
       "58. 'Global_PC2'\n",
       "59. 'Global_PC3'\n",
       "60. 'Global_PC4'\n",
       "61. 'Global_PC5'\n",
       "62. 'Global_PC6'\n",
       "63. 'Global_PC7'\n",
       "64. 'Global_PC8'\n",
       "65. 'Global_PC9'\n",
       "66. 'Global_PC10'\n",
       "67. 'Global_PC11'\n",
       "68. 'Global_PC12'\n",
       "69. 'Global_PC13'\n",
       "70. 'Global_PC14'\n",
       "71. 'Global_PC15'\n",
       "72. 'Global_PC16'\n",
       "73. 'Global_PC17'\n",
       "74. 'Global_PC18'\n",
       "75. 'Global_PC19'\n",
       "76. 'Global_PC20'\n",
       "77. 'Global_PC21'\n",
       "78. 'Global_PC22'\n",
       "79. 'Global_PC23'\n",
       "80. 'Global_PC24'\n",
       "81. 'Global_PC25'\n",
       "82. 'Global_PC26'\n",
       "83. 'Global_PC27'\n",
       "84. 'Global_PC28'\n",
       "85. 'Global_PC29'\n",
       "86. 'Global_PC30'\n",
       "87. 'Global_PC31'\n",
       "88. 'Global_PC32'\n",
       "89. 'Global_PC33'\n",
       "90. 'Global_PC34'\n",
       "91. 'Global_PC35'\n",
       "92. 'Global_PC36'\n",
       "93. 'Global_PC37'\n",
       "94. 'Global_PC38'\n",
       "95. 'Global_PC39'\n",
       "96. 'Global_PC40'\n",
       "\n",
       "\n"
      ],
      "text/plain": [
       " [1] \"FID\"                           \"IID\"                          \n",
       " [3] \"atorvastatin_v_hc_and_Ostatin\" \"simvastatin_v_hc_and_Ostatin\" \n",
       " [5] \"population\"                    \"split\"                        \n",
       " [7] \"age\"                           \"age0\"                         \n",
       " [9] \"age1\"                          \"age2\"                         \n",
       "[11] \"age3\"                          \"sex\"                          \n",
       "[13] \"BMI\"                           \"N_CNV\"                        \n",
       "[15] \"LEN_CNV\"                       \"Array\"                        \n",
       "[17] \"PC1\"                           \"PC2\"                          \n",
       "[19] \"PC3\"                           \"PC4\"                          \n",
       "[21] \"PC5\"                           \"PC6\"                          \n",
       "[23] \"PC7\"                           \"PC8\"                          \n",
       "[25] \"PC9\"                           \"PC10\"                         \n",
       "[27] \"PC11\"                          \"PC12\"                         \n",
       "[29] \"PC13\"                          \"PC14\"                         \n",
       "[31] \"PC15\"                          \"PC16\"                         \n",
       "[33] \"PC17\"                          \"PC18\"                         \n",
       "[35] \"PC19\"                          \"PC20\"                         \n",
       "[37] \"PC21\"                          \"PC22\"                         \n",
       "[39] \"PC23\"                          \"PC24\"                         \n",
       "[41] \"PC25\"                          \"PC26\"                         \n",
       "[43] \"PC27\"                          \"PC28\"                         \n",
       "[45] \"PC29\"                          \"PC30\"                         \n",
       "[47] \"PC31\"                          \"PC32\"                         \n",
       "[49] \"PC33\"                          \"PC34\"                         \n",
       "[51] \"PC35\"                          \"PC36\"                         \n",
       "[53] \"PC37\"                          \"PC38\"                         \n",
       "[55] \"PC39\"                          \"PC40\"                         \n",
       "[57] \"Global_PC1\"                    \"Global_PC2\"                   \n",
       "[59] \"Global_PC3\"                    \"Global_PC4\"                   \n",
       "[61] \"Global_PC5\"                    \"Global_PC6\"                   \n",
       "[63] \"Global_PC7\"                    \"Global_PC8\"                   \n",
       "[65] \"Global_PC9\"                    \"Global_PC10\"                  \n",
       "[67] \"Global_PC11\"                   \"Global_PC12\"                  \n",
       "[69] \"Global_PC13\"                   \"Global_PC14\"                  \n",
       "[71] \"Global_PC15\"                   \"Global_PC16\"                  \n",
       "[73] \"Global_PC17\"                   \"Global_PC18\"                  \n",
       "[75] \"Global_PC19\"                   \"Global_PC20\"                  \n",
       "[77] \"Global_PC21\"                   \"Global_PC22\"                  \n",
       "[79] \"Global_PC23\"                   \"Global_PC24\"                  \n",
       "[81] \"Global_PC25\"                   \"Global_PC26\"                  \n",
       "[83] \"Global_PC27\"                   \"Global_PC28\"                  \n",
       "[85] \"Global_PC29\"                   \"Global_PC30\"                  \n",
       "[87] \"Global_PC31\"                   \"Global_PC32\"                  \n",
       "[89] \"Global_PC33\"                   \"Global_PC34\"                  \n",
       "[91] \"Global_PC35\"                   \"Global_PC36\"                  \n",
       "[93] \"Global_PC37\"                   \"Global_PC38\"                  \n",
       "[95] \"Global_PC39\"                   \"Global_PC40\"                  "
      ]
     },
     "metadata": {},
     "output_type": "display_data"
    }
   ],
   "source": [
    "colnames(phe_df)"
   ]
  },
  {
   "cell_type": "code",
   "execution_count": 47,
   "metadata": {},
   "outputs": [],
   "source": [
    "phe_df %>% \n",
    "fwrite(phe_all_file, sep='\\t', na = \"NA\", quote=F)\n"
   ]
  },
  {
   "cell_type": "code",
   "execution_count": 51,
   "metadata": {},
   "outputs": [],
   "source": [
    "phe_df %>% \n",
    "filter(split %in% c('train', 'val')) %>%\n",
    "select(\n",
    "    FID, IID, age, sex, paste0('PC', 1:10), split,\n",
    "    atorvastatin_v_hc_and_Ostatin, simvastatin_v_hc_and_Ostatin\n",
    ") %>%\n",
    "fwrite(phe_minimum_file, sep='\\t', na = \"NA\", quote=F)\n"
   ]
  },
  {
   "cell_type": "code",
   "execution_count": 52,
   "metadata": {},
   "outputs": [
    {
     "data": {
      "text/html": [
       "'/oak/stanford/groups/mrivas/users/gmcinnes/statin_risk_score/statin_PRS_snpnet.phe'"
      ],
      "text/latex": [
       "'/oak/stanford/groups/mrivas/users/gmcinnes/statin\\_risk\\_score/statin\\_PRS\\_snpnet.phe'"
      ],
      "text/markdown": [
       "'/oak/stanford/groups/mrivas/users/gmcinnes/statin_risk_score/statin_PRS_snpnet.phe'"
      ],
      "text/plain": [
       "[1] \"/oak/stanford/groups/mrivas/users/gmcinnes/statin_risk_score/statin_PRS_snpnet.phe\""
      ]
     },
     "metadata": {},
     "output_type": "display_data"
    }
   ],
   "source": [
    "phe_minimum_file"
   ]
  },
  {
   "cell_type": "code",
   "execution_count": null,
   "metadata": {},
   "outputs": [],
   "source": []
  }
 ],
 "metadata": {
  "kernelspec": {
   "display_name": "R",
   "language": "R",
   "name": "ir"
  },
  "language_info": {
   "codemirror_mode": "r",
   "file_extension": ".r",
   "mimetype": "text/x-r-source",
   "name": "R",
   "pygments_lexer": "r",
   "version": "3.6.2"
  }
 },
 "nbformat": 4,
 "nbformat_minor": 4
}

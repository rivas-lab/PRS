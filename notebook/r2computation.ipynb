{
 "cells": [
  {
   "cell_type": "code",
   "execution_count": 33,
   "metadata": {},
   "outputs": [],
   "source": [
    "%load_ext autoreload\n",
    "%autoreload 1\n",
    "%matplotlib inline"
   ]
  },
  {
   "cell_type": "code",
   "execution_count": 34,
   "metadata": {},
   "outputs": [],
   "source": [
    "import numpy as np\n",
    "import pandas as pd\n",
    "import matplotlib, collections, itertools, os, re, textwrap, logging\n",
    "import matplotlib.pyplot as plt\n",
    "import matplotlib.gridspec as gridspec\n",
    "import matplotlib.patches as mpatches\n",
    "from functools import reduce"
   ]
  },
  {
   "cell_type": "code",
   "execution_count": 49,
   "metadata": {},
   "outputs": [],
   "source": [
    "import scipy"
   ]
  },
  {
   "cell_type": "code",
   "execution_count": 45,
   "metadata": {},
   "outputs": [],
   "source": [
    "def rsquared(x, y):\n",
    "    \"\"\" Return R^2 where x and y are array-like.\"\"\"\n",
    "\n",
    "    slope, intercept, r_value, p_value, std_err = scipy.stats.linregress(x, y)\n",
    "    return r_value**2"
   ]
  },
  {
   "cell_type": "code",
   "execution_count": 53,
   "metadata": {},
   "outputs": [],
   "source": [
    "covar_phe='/oak/stanford/groups/mrivas/private_data/ukbb/24983/sqc/ukb24983_GWAS_covar.phe'"
   ]
  },
  {
   "cell_type": "code",
   "execution_count": 4,
   "metadata": {},
   "outputs": [],
   "source": [
    "score_file='../private_output/plink_score_INI50_test.sscore'\n",
    "phe_file='/oak/stanford/groups/mrivas/private_data/ukbb/24983/phenotypedata/ukb9797_20170818_qt/INI50.phe'\n"
   ]
  },
  {
   "cell_type": "code",
   "execution_count": 60,
   "metadata": {},
   "outputs": [],
   "source": [
    "covar_df = pd.read_csv(\n",
    "    covar_phe, sep='\\t', usecols=[1,2,3,5,6,7,8]\n",
    ")"
   ]
  },
  {
   "cell_type": "code",
   "execution_count": 26,
   "metadata": {},
   "outputs": [],
   "source": [
    "score_df = pd.read_csv(score_file, usecols=[1,2,3,4], sep='\\t')"
   ]
  },
  {
   "cell_type": "code",
   "execution_count": 27,
   "metadata": {},
   "outputs": [],
   "source": [
    "phe_df = pd.read_csv(phe_file, sep='\\t', usecols=[1,2], names=['IID', 'phe'])"
   ]
  },
  {
   "cell_type": "code",
   "execution_count": 28,
   "metadata": {},
   "outputs": [],
   "source": [
    "merged_df = score_df.merge(\n",
    "    phe_df, on='IID'\n",
    ")"
   ]
  },
  {
   "cell_type": "code",
   "execution_count": 31,
   "metadata": {},
   "outputs": [
    {
     "data": {
      "text/html": [
       "<div>\n",
       "<style scoped>\n",
       "    .dataframe tbody tr th:only-of-type {\n",
       "        vertical-align: middle;\n",
       "    }\n",
       "\n",
       "    .dataframe tbody tr th {\n",
       "        vertical-align: top;\n",
       "    }\n",
       "\n",
       "    .dataframe thead th {\n",
       "        text-align: right;\n",
       "    }\n",
       "</style>\n",
       "<table border=\"1\" class=\"dataframe\">\n",
       "  <thead>\n",
       "    <tr style=\"text-align: right;\">\n",
       "      <th></th>\n",
       "      <th>IID</th>\n",
       "      <th>NMISS_ALLELE_CT</th>\n",
       "      <th>NAMED_ALLELE_DOSAGE_SUM</th>\n",
       "      <th>SCORE1_AVG</th>\n",
       "      <th>phe</th>\n",
       "    </tr>\n",
       "  </thead>\n",
       "  <tbody>\n",
       "    <tr>\n",
       "      <th>0</th>\n",
       "      <td>1000028</td>\n",
       "      <td>27000</td>\n",
       "      <td>5338</td>\n",
       "      <td>0.000070</td>\n",
       "      <td>176.0</td>\n",
       "    </tr>\n",
       "    <tr>\n",
       "      <th>1</th>\n",
       "      <td>1000034</td>\n",
       "      <td>26434</td>\n",
       "      <td>5241</td>\n",
       "      <td>0.000082</td>\n",
       "      <td>182.0</td>\n",
       "    </tr>\n",
       "    <tr>\n",
       "      <th>2</th>\n",
       "      <td>1000045</td>\n",
       "      <td>27096</td>\n",
       "      <td>5394</td>\n",
       "      <td>-0.000040</td>\n",
       "      <td>156.0</td>\n",
       "    </tr>\n",
       "    <tr>\n",
       "      <th>3</th>\n",
       "      <td>1000052</td>\n",
       "      <td>27034</td>\n",
       "      <td>5370</td>\n",
       "      <td>0.000079</td>\n",
       "      <td>159.0</td>\n",
       "    </tr>\n",
       "    <tr>\n",
       "      <th>4</th>\n",
       "      <td>1000076</td>\n",
       "      <td>26986</td>\n",
       "      <td>5425</td>\n",
       "      <td>0.000127</td>\n",
       "      <td>175.0</td>\n",
       "    </tr>\n",
       "  </tbody>\n",
       "</table>\n",
       "</div>"
      ],
      "text/plain": [
       "       IID  NMISS_ALLELE_CT  NAMED_ALLELE_DOSAGE_SUM  SCORE1_AVG    phe\n",
       "0  1000028            27000                     5338    0.000070  176.0\n",
       "1  1000034            26434                     5241    0.000082  182.0\n",
       "2  1000045            27096                     5394   -0.000040  156.0\n",
       "3  1000052            27034                     5370    0.000079  159.0\n",
       "4  1000076            26986                     5425    0.000127  175.0"
      ]
     },
     "execution_count": 31,
     "metadata": {},
     "output_type": "execute_result"
    }
   ],
   "source": [
    "merged_df.head()"
   ]
  },
  {
   "cell_type": "code",
   "execution_count": 48,
   "metadata": {},
   "outputs": [
    {
     "data": {
      "text/plain": [
       "0.06094146620992523"
      ]
     },
     "execution_count": 48,
     "metadata": {},
     "output_type": "execute_result"
    }
   ],
   "source": [
    "rsquared(\n",
    "    merged_df['SCORE1_AVG'], merged_df['phe']\n",
    ")"
   ]
  },
  {
   "cell_type": "code",
   "execution_count": 35,
   "metadata": {},
   "outputs": [
    {
     "data": {
      "text/plain": [
       "(array([4.20000e+01, 9.36000e+02, 1.02090e+04, 5.04640e+04, 1.08954e+05,\n",
       "        1.07412e+05, 4.82420e+04, 1.00300e+04, 8.70000e+02, 3.90000e+01]),\n",
       " array([-3.469690e-04, -2.719941e-04, -1.970192e-04, -1.220443e-04,\n",
       "        -4.706940e-05,  2.790550e-05,  1.028804e-04,  1.778553e-04,\n",
       "         2.528302e-04,  3.278051e-04,  4.027800e-04]),\n",
       " <a list of 10 Patch objects>)"
      ]
     },
     "execution_count": 35,
     "metadata": {},
     "output_type": "execute_result"
    },
    {
     "data": {
      "image/png": "[encoded data removed]",
      "text/plain": [
       "<Figure size 432x288 with 1 Axes>"
      ]
     },
     "metadata": {
      "needs_background": "light"
     },
     "output_type": "display_data"
    }
   ],
   "source": [
    "plt.hist(merged_df['SCORE1_AVG'])"
   ]
  },
  {
   "cell_type": "code",
   "execution_count": 36,
   "metadata": {},
   "outputs": [
    {
     "data": {
      "text/plain": [
       "(array([7.01000e+02, 0.00000e+00, 0.00000e+00, 1.00000e+00, 0.00000e+00,\n",
       "        4.00000e+00, 2.17000e+02, 1.31479e+05, 1.97832e+05, 6.96400e+03]),\n",
       " array([ -9. ,  12.8,  34.6,  56.4,  78.2, 100. , 121.8, 143.6, 165.4,\n",
       "        187.2, 209. ]),\n",
       " <a list of 10 Patch objects>)"
      ]
     },
     "execution_count": 36,
     "metadata": {},
     "output_type": "execute_result"
    },
    {
     "data": {
      "image/png": "[encoded data removed]",
      "text/plain": [
       "<Figure size 432x288 with 1 Axes>"
      ]
     },
     "metadata": {
      "needs_background": "light"
     },
     "output_type": "display_data"
    }
   ],
   "source": [
    "plt.hist(merged_df['phe'])"
   ]
  },
  {
   "cell_type": "code",
   "execution_count": 37,
   "metadata": {},
   "outputs": [
    {
     "data": {
      "text/plain": [
       "<matplotlib.collections.PathCollection at 0x7fd38ed203c8>"
      ]
     },
     "execution_count": 37,
     "metadata": {},
     "output_type": "execute_result"
    },
    {
     "data": {
      "image/png": "[encoded data removed]",
      "text/plain": [
       "<Figure size 432x288 with 1 Axes>"
      ]
     },
     "metadata": {
      "needs_background": "light"
     },
     "output_type": "display_data"
    }
   ],
   "source": [
    "plt.scatter(\n",
    "    merged_df['SCORE1_AVG'],\n",
    "    merged_df['phe']\n",
    ")"
   ]
  },
  {
   "cell_type": "code",
   "execution_count": 38,
   "metadata": {},
   "outputs": [
    {
     "data": {
      "text/plain": [
       "<matplotlib.collections.PathCollection at 0x7fd38eb4ab38>"
      ]
     },
     "execution_count": 38,
     "metadata": {},
     "output_type": "execute_result"
    },
    {
     "data": {
      "image/png": "[encoded data removed]",
      "text/plain": [
       "<Figure size 432x288 with 1 Axes>"
      ]
     },
     "metadata": {
      "needs_background": "light"
     },
     "output_type": "display_data"
    }
   ],
   "source": [
    "plt.scatter(\n",
    "    merged_df[merged_df['phe'] > 100]['SCORE1_AVG'],\n",
    "    merged_df[merged_df['phe'] > 100]['phe']\n",
    ")"
   ]
  },
  {
   "cell_type": "code",
   "execution_count": 50,
   "metadata": {},
   "outputs": [
    {
     "data": {
      "text/plain": [
       "0.10784323289546859"
      ]
     },
     "execution_count": 50,
     "metadata": {},
     "output_type": "execute_result"
    }
   ],
   "source": [
    "rsquared(\n",
    "    merged_df[merged_df['phe'] > 100]['SCORE1_AVG'],\n",
    "    merged_df[merged_df['phe'] > 100]['phe']\n",
    ")"
   ]
  },
  {
   "cell_type": "code",
   "execution_count": 61,
   "metadata": {},
   "outputs": [],
   "source": [
    "merged2 = merged_df.merge(\n",
    "    covar_df, on='IID'\n",
    ")"
   ]
  },
  {
   "cell_type": "code",
   "execution_count": 63,
   "metadata": {},
   "outputs": [
    {
     "data": {
      "text/html": [
       "<div>\n",
       "<style scoped>\n",
       "    .dataframe tbody tr th:only-of-type {\n",
       "        vertical-align: middle;\n",
       "    }\n",
       "\n",
       "    .dataframe tbody tr th {\n",
       "        vertical-align: top;\n",
       "    }\n",
       "\n",
       "    .dataframe thead th {\n",
       "        text-align: right;\n",
       "    }\n",
       "</style>\n",
       "<table border=\"1\" class=\"dataframe\">\n",
       "  <thead>\n",
       "    <tr style=\"text-align: right;\">\n",
       "      <th></th>\n",
       "      <th>IID</th>\n",
       "      <th>NMISS_ALLELE_CT</th>\n",
       "      <th>NAMED_ALLELE_DOSAGE_SUM</th>\n",
       "      <th>SCORE1_AVG</th>\n",
       "      <th>phe</th>\n",
       "      <th>age</th>\n",
       "      <th>sex</th>\n",
       "      <th>PC1</th>\n",
       "      <th>PC2</th>\n",
       "      <th>PC3</th>\n",
       "      <th>PC4</th>\n",
       "    </tr>\n",
       "  </thead>\n",
       "  <tbody>\n",
       "    <tr>\n",
       "      <th>0</th>\n",
       "      <td>1000028</td>\n",
       "      <td>27000</td>\n",
       "      <td>5338</td>\n",
       "      <td>0.000070</td>\n",
       "      <td>176.0</td>\n",
       "      <td>54.0</td>\n",
       "      <td>0</td>\n",
       "      <td>-13.9881</td>\n",
       "      <td>3.69742</td>\n",
       "      <td>-0.379325</td>\n",
       "      <td>2.415610</td>\n",
       "    </tr>\n",
       "    <tr>\n",
       "      <th>1</th>\n",
       "      <td>1000034</td>\n",
       "      <td>26434</td>\n",
       "      <td>5241</td>\n",
       "      <td>0.000082</td>\n",
       "      <td>182.0</td>\n",
       "      <td>68.0</td>\n",
       "      <td>1</td>\n",
       "      <td>-12.8332</td>\n",
       "      <td>2.76107</td>\n",
       "      <td>-1.569210</td>\n",
       "      <td>0.666705</td>\n",
       "    </tr>\n",
       "    <tr>\n",
       "      <th>2</th>\n",
       "      <td>1000045</td>\n",
       "      <td>27096</td>\n",
       "      <td>5394</td>\n",
       "      <td>-0.000040</td>\n",
       "      <td>156.0</td>\n",
       "      <td>79.0</td>\n",
       "      <td>0</td>\n",
       "      <td>-14.0366</td>\n",
       "      <td>6.47430</td>\n",
       "      <td>-0.437916</td>\n",
       "      <td>4.497090</td>\n",
       "    </tr>\n",
       "    <tr>\n",
       "      <th>3</th>\n",
       "      <td>1000052</td>\n",
       "      <td>27034</td>\n",
       "      <td>5370</td>\n",
       "      <td>0.000079</td>\n",
       "      <td>159.0</td>\n",
       "      <td>72.0</td>\n",
       "      <td>0</td>\n",
       "      <td>-15.4658</td>\n",
       "      <td>3.81758</td>\n",
       "      <td>-0.301443</td>\n",
       "      <td>-0.635698</td>\n",
       "    </tr>\n",
       "    <tr>\n",
       "      <th>4</th>\n",
       "      <td>1000076</td>\n",
       "      <td>26986</td>\n",
       "      <td>5425</td>\n",
       "      <td>0.000127</td>\n",
       "      <td>175.0</td>\n",
       "      <td>72.0</td>\n",
       "      <td>1</td>\n",
       "      <td>-11.1046</td>\n",
       "      <td>1.52203</td>\n",
       "      <td>-1.565340</td>\n",
       "      <td>5.450450</td>\n",
       "    </tr>\n",
       "  </tbody>\n",
       "</table>\n",
       "</div>"
      ],
      "text/plain": [
       "       IID  NMISS_ALLELE_CT  NAMED_ALLELE_DOSAGE_SUM  SCORE1_AVG    phe   age  \\\n",
       "0  1000028            27000                     5338    0.000070  176.0  54.0   \n",
       "1  1000034            26434                     5241    0.000082  182.0  68.0   \n",
       "2  1000045            27096                     5394   -0.000040  156.0  79.0   \n",
       "3  1000052            27034                     5370    0.000079  159.0  72.0   \n",
       "4  1000076            26986                     5425    0.000127  175.0  72.0   \n",
       "\n",
       "   sex      PC1      PC2       PC3       PC4  \n",
       "0    0 -13.9881  3.69742 -0.379325  2.415610  \n",
       "1    1 -12.8332  2.76107 -1.569210  0.666705  \n",
       "2    0 -14.0366  6.47430 -0.437916  4.497090  \n",
       "3    0 -15.4658  3.81758 -0.301443 -0.635698  \n",
       "4    1 -11.1046  1.52203 -1.565340  5.450450  "
      ]
     },
     "execution_count": 63,
     "metadata": {},
     "output_type": "execute_result"
    }
   ],
   "source": [
    "merged2.head()"
   ]
  },
  {
   "cell_type": "code",
   "execution_count": 64,
   "metadata": {},
   "outputs": [],
   "source": [
    "from sklearn.linear_model import LinearRegression"
   ]
  },
  {
   "cell_type": "code",
   "execution_count": 67,
   "metadata": {},
   "outputs": [],
   "source": [
    "X = merged2[['age', 'sex', 'PC1', 'PC2', 'PC3', 'PC4']].values"
   ]
  },
  {
   "cell_type": "code",
   "execution_count": 70,
   "metadata": {},
   "outputs": [],
   "source": [
    "y = np.array(merged2['phe'])"
   ]
  },
  {
   "cell_type": "code",
   "execution_count": 71,
   "metadata": {},
   "outputs": [],
   "source": [
    "reg = LinearRegression().fit(X, y)"
   ]
  },
  {
   "cell_type": "code",
   "execution_count": 72,
   "metadata": {},
   "outputs": [
    {
     "data": {
      "text/plain": [
       "array([-1.63201178e-01,  1.32173668e+01,  4.01935167e-02, -4.93185741e-03,\n",
       "        2.78813948e-04, -1.47628213e-01])"
      ]
     },
     "execution_count": 72,
     "metadata": {},
     "output_type": "execute_result"
    }
   ],
   "source": [
    "reg.coef_"
   ]
  },
  {
   "cell_type": "code",
   "execution_count": 73,
   "metadata": {},
   "outputs": [],
   "source": [
    "merged2['residuals'] = y - reg.predict(X)"
   ]
  },
  {
   "cell_type": "code",
   "execution_count": 75,
   "metadata": {},
   "outputs": [
    {
     "data": {
      "text/plain": [
       "<matplotlib.collections.PathCollection at 0x7fd38bb2ba58>"
      ]
     },
     "execution_count": 75,
     "metadata": {},
     "output_type": "execute_result"
    },
    {
     "data": {
      "image/png": "[encoded data removed]",
      "text/plain": [
       "<Figure size 432x288 with 1 Axes>"
      ]
     },
     "metadata": {
      "needs_background": "light"
     },
     "output_type": "display_data"
    }
   ],
   "source": [
    "plt.scatter(\n",
    "    merged2['SCORE1_AVG'],\n",
    "    merged2['residuals']\n",
    ")"
   ]
  },
  {
   "cell_type": "code",
   "execution_count": 76,
   "metadata": {},
   "outputs": [
    {
     "data": {
      "text/plain": [
       "0.08529141174296834"
      ]
     },
     "execution_count": 76,
     "metadata": {},
     "output_type": "execute_result"
    }
   ],
   "source": [
    "rsquared(\n",
    "    merged2['SCORE1_AVG'],\n",
    "    merged2['residuals']\n",
    "\n",
    ")"
   ]
  },
  {
   "cell_type": "code",
   "execution_count": 82,
   "metadata": {},
   "outputs": [],
   "source": [
    "full_model = LinearRegression().fit(\n",
    "    merged2[merged2['phe'] != -9][['age', 'sex', 'PC1', 'PC2', 'PC3', 'PC4', 'SCORE1_AVG']].values,\n",
    "    np.array(merged2[merged2['phe'] != -9]['phe'])\n",
    ")\n"
   ]
  },
  {
   "cell_type": "code",
   "execution_count": 83,
   "metadata": {},
   "outputs": [
    {
     "data": {
      "text/plain": [
       "0.638325979670902"
      ]
     },
     "execution_count": 83,
     "metadata": {},
     "output_type": "execute_result"
    }
   ],
   "source": [
    "full_model.score(\n",
    "    merged2[merged2['phe'] != -9][['age', 'sex', 'PC1', 'PC2', 'PC3', 'PC4', 'SCORE1_AVG']].values,\n",
    "    np.array(merged2[merged2['phe'] != -9]['phe'])    \n",
    ")"
   ]
  },
  {
   "cell_type": "code",
   "execution_count": null,
   "metadata": {},
   "outputs": [],
   "source": []
  }
 ],
 "metadata": {
  "kernelspec": {
   "display_name": "Python 3",
   "language": "python",
   "name": "python3"
  },
  "language_info": {
   "codemirror_mode": {
    "name": "ipython",
    "version": 3
   },
   "file_extension": ".py",
   "mimetype": "text/x-python",
   "name": "python",
   "nbconvert_exporter": "python",
   "pygments_lexer": "ipython3",
   "version": "3.6.8"
  }
 },
 "nbformat": 4,
 "nbformat_minor": 2
}

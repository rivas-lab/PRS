{
 "cells": [
  {
   "cell_type": "code",
   "execution_count": 1,
   "metadata": {},
   "outputs": [],
   "source": [
    "import argparse, os, collections\n",
    "\n",
    "\n",
    "import numpy as np\n",
    "import pandas as pd\n",
    "from sklearn.linear_model import LinearRegression, LogisticRegression\n",
    "from sklearn.metrics import roc_auc_score"
   ]
  },
  {
   "cell_type": "code",
   "execution_count": 2,
   "metadata": {},
   "outputs": [
    {
     "name": "stdout",
     "output_type": "stream",
     "text": [
      "_README_ = '''\n",
      "-------------------------------------------------------------------------\n",
      "compute_r_or_auc.py\n",
      "\n",
      "Evaluation script for PRS score by computing r or AUC\n",
      "\n",
      "Author: Yosuke Tanigawa (ytanigaw@stanford.edu)\n",
      "Date: 2019/02/25\n",
      "-------------------------------------------------------------------------\n",
      "'''\n",
      "\n",
      "\n",
      "import argparse, os, collections\n",
      "\n",
      "\n",
      "import numpy as np\n",
      "import pandas as pd\n",
      "from sklearn.linear_model import LinearRegression, LogisticRegression\n",
      "from sklearn.metrics import roc_auc_score\n",
      "\n",
      "\n",
      "def read_seed(seed_file):\n",
      "    with open(seed_file) as f:\n",
      "        s = int(f.read().splitlines()[0])    \n",
      "    return s\n",
      "\n",
      "\n",
      "def read_data(in_score, phe, covar_phe, keep=None):\n",
      "    df = pd.read_csv(\n",
      "        in_score, sep='\\t', usecols=[1,4]\n",
      "    ).merge(\n",
      "        pd.read_csv(\n",
      "            phe, sep='\\t', usecols=[1,2], names=['IID', 'phe']\n",
      "        ),\n",
      "        on='IID'\n",
      "    ).merge(\n",
      "        pd.read_csv(\n",
      "            covar_phe, sep='\\t', usecols=[1,2,3,5,6,7,8]\n",
      "        ),\n",
      "        on='IID'\n",
      "    )\n",
      "    df_non_missing=df[df['phe'] != 9]\n",
      "    if keep is None:\n",
      "        return df_non_missing\n",
      "    else:\n",
      "        return df_non_missing.merge(\n",
      "            pd.read_csv(\n",
      "                keep, sep='\\t', usecols=[0], names=['IID']\n",
      "            ),\n",
      "            on='IID',\n",
      "            how='inner'\n",
      "        )\n",
      "\n",
      "    \n",
      "def compute_r(x, y):\n",
      "    lm = LinearRegression().fit(x, y)    \n",
      "    return np.corrcoef(y, lm.predict(x))[0, 1]\n",
      "\n",
      "\n",
      "def compute_auc(x, y, seed=None):\n",
      "    lm = LogisticRegression(\n",
      "        random_state=seed, solver='lbfgs'\n",
      "    ).fit(x, y)\n",
      "    roc_auc = roc_auc_score(y, lm.predict_log_proba(x)[:, 1])\n",
      "    return max(roc_auc, 1 - roc_auc)    \n",
      "\n",
      "\n",
      "def compute_r_or_auc_main(in_score, phe, phe_type, covar_phe, keep, out_file, seed_file=None):    \n",
      "    df = read_data(in_score=in_score, phe=phe, covar_phe=covar_phe, keep=keep)\n",
      "    \n",
      "    covars=['age', 'sex']+['PC{}'.format(x+1) for x in range(4)]\n",
      "    X1 = df[['SCORE1_AVG']].values\n",
      "    X2 = df[covars].values\n",
      "    X3 = df[covars + ['SCORE1_AVG']].values\n",
      "    Y  = np.array(df['phe'])\n",
      "    \n",
      "    if phe_type in set(['linear', 'qt']):\n",
      "        eval1 = compute_r(X1, Y)\n",
      "        eval2 = compute_r(X2, Y)\n",
      "        eval3 = compute_r(X3, Y)\n",
      "        \n",
      "    elif phe_type in set(['binary', 'bin']):\n",
      "        print(collections.Counter(Y))        \n",
      "        if seed_file is None:\n",
      "            seed = None\n",
      "        else: \n",
      "            seed = read_seed(seed_file)\n",
      "            \n",
      "        eval1 = compute_auc(X1, Y, seed)\n",
      "        eval2 = compute_auc(X2, Y, seed)\n",
      "        eval3 = compute_auc(X3, Y, seed)\n",
      "\n",
      "    results_str='\\n'.join(\n",
      "        ['\\t'.join(\n",
      "\t    [in_score, phe_type, features, '{:.6e}'.format(score)]\n",
      "\t) for features, score \n",
      "\tin zip(['PRS', 'covars', 'PRS_and_covars'], [eval1, eval2, eval3] ) ]\n",
      "    )\n",
      "    with open(out_file, 'w') as fw:        \n",
      "        fw.write(results_str + '\\n')        \n",
      "    print(results_str)\n",
      "\n",
      "    \n",
      "def main():    \n",
      "    parser = argparse.ArgumentParser(\n",
      "        formatter_class=argparse.RawDescriptionHelpFormatter,\n",
      "        description=_README_\n",
      "    )\n",
      "\n",
      "    default_covar=os.path.join(\n",
      "        '/oak/stanford/groups/mrivas',\n",
      "        'private_data/ukbb/24983/sqc/ukb24983_GWAS_covar.phe'\n",
      "    )\n",
      "    default_seed_file=os.path.join(os.path.dirname(os.path.abspath(__file__)), 'rand.seed.txt')\n",
      "\n",
      "    parser.add_argument('-i', metavar='i', required=True,\n",
      "                        help='in_score')    \n",
      "    parser.add_argument('-p', metavar='p', required=True,\n",
      "                        help='phenotype')        \n",
      "    parser.add_argument('-o', metavar='o', required=True,\n",
      "                        help='out_file')\n",
      "    parser.add_argument('-b', metavar='b', \n",
      "                        help='BETA file for covariates')\n",
      "    parser.add_argument('-c', metavar='c', default=default_covar,\n",
      "                        help='covariate_file (default: {})'.format(default_covar))\n",
      "    parser.add_argument('-k', metavar='k', default=None,\n",
      "                        help='keep_file')\n",
      "    parser.add_argument('-t', metavar='t', required=True,\n",
      "                        help='type [bin | qt]')\n",
      "    parser.add_argument('-s', metavar='s', default=default_seed_file,\n",
      "                        help='seed_file (default: {})'.format(default_seed_file))\n",
      "    \n",
      "    args = parser.parse_args()\n",
      "    in_score=os.path.abspath(args.i)\n",
      "    phe=os.path.abspath(args.p) \n",
      "    phe_type=args.t\n",
      "    covar_phe=os.path.abspath(args.c)\n",
      "    out_file=os.path.abspath(args.o)    \n",
      "    if(args.k is not None):\n",
      "        keep=os.path.abspath(args.k)\n",
      "    else:\n",
      "        keep=None\n",
      "    seed_file=os.path.abspath(args.s)    \n",
      "    \n",
      "    assert(phe_type in set(['bin', 'qt']))\n",
      "        \n",
      "    compute_r_or_auc_main(in_score, phe, phe_type, covar_phe, keep, out_file, seed_file)\n",
      "    \n",
      "    \n",
      "if __name__ == \"__main__\":\n",
      "    main()\n"
     ]
    }
   ],
   "source": [
    "!cat /oak/stanford/groups/mrivas/users/ytanigaw/repos/rivas-lab/PRS/helper/compute_r_or_auc.py"
   ]
  },
  {
   "cell_type": "code",
   "execution_count": 3,
   "metadata": {},
   "outputs": [],
   "source": []
  },
  {
   "cell_type": "code",
   "execution_count": 41,
   "metadata": {},
   "outputs": [],
   "source": [
    "def compute_score_for_covariates(df, betas, center=False, Z=False):\n",
    "    betas_df=pd.read_csv(betas, compression='gzip', sep='\\t')\n",
    "    covar_mat = df[list(betas_df['ID'])].values\n",
    "    \n",
    "    betas_vec = np.array(betas_df['BETA'])[:,np.newaxis]\n",
    "    \n",
    "    if 'mean' in set(betas_df.columns) and (center or Z):\n",
    "        covar_mat_centered = (covar_mat - np.array(betas_df['mean'])[np.newaxis, :])\n",
    "        if 'Z' in set(betas_df.columns) and Z:\n",
    "            covar_mat_Z = (covar_mat_centered / np.array(betas_df['std'])[np.newaxis, :])\n",
    "            return np.dot(covar_mat_Z, betas_vec)\n",
    "        else:\n",
    "            return np.dot(covar_mat_centered, betas_vec)\n",
    "    else:            \n",
    "        return np.dot(covar_mat, betas_vec)\n"
   ]
  },
  {
   "cell_type": "code",
   "execution_count": 4,
   "metadata": {},
   "outputs": [],
   "source": [
    "import sys\n",
    "sys.path.append(\"/home/users/ytanigaw/repos/rivas-lab/PRS/helper/\")"
   ]
  },
  {
   "cell_type": "code",
   "execution_count": 5,
   "metadata": {},
   "outputs": [],
   "source": [
    "from rivaslab_PRS_misc import *"
   ]
  },
  {
   "cell_type": "code",
   "execution_count": 6,
   "metadata": {},
   "outputs": [],
   "source": [
    "default_seed_file=os.path.realpath(os.path.join('../helper', 'rand.seed.txt'))\n",
    "seed_file = default_seed_file\n",
    "\n",
    "in_score='/oak/stanford/groups/mrivas/projects/PRS/private_output/snpnet_PRS/test/4_score/INI5255.sscore'\n",
    "keep='/oak/stanford/groups/mrivas/projects/PRS/private_output/snpnet_PRS/test/1_split/INI5255.test'\n",
    "phe='/oak/stanford/groups/mrivas/projects/PRS/private_output/snpnet_PRS/test/0_input/INI5255.phe'\n",
    "phe_type='qt'\n",
    "covar_phe='/oak/stanford/groups/mrivas/private_data/ukbb/24983/sqc/ukb24983_GWAS_covar.phe'\n",
    "betas='/oak/stanford/groups/mrivas/projects/PRS/private_output/snpnet_PRS/test/3_snpnet/INI5255.covars.tsv.gz'\n",
    "out_file=None\n",
    "\n"
   ]
  },
  {
   "cell_type": "code",
   "execution_count": 8,
   "metadata": {},
   "outputs": [],
   "source": [
    "def compute_r_or_auc_main(in_score, phe, phe_type, covar_phe, keep, out_file, seed_file=None):    \n",
    "    df = read_data_for_eval(in_score=in_score, phe=phe, covar_phe=covar_phe, keep=keep)\n",
    "    \n",
    "    PRS = collections.OrderedDict()\n",
    "    \n",
    "    PRS['Genotype_only'] = df[['SCORE1_SUM']].values\n",
    "    PRS['Covariates_only'] = compute_score_for_covariates(df, betas)\n",
    "    PRS['Covariates_only_center'] = compute_score_for_covariates(df, betas, center=True)\n",
    "    PRS['Covariates_only_Z'] = compute_score_for_covariates(df, betas, Z=True)\n",
    "    PRS['Genotype_and_covariates'] = PRS['Genotype_only'] + PRS['Covariates_only']\n",
    "    PRS['Genotype_and_covariates_center'] = PRS['Genotype_only'] + PRS['Covariates_only_center']\n",
    "    PRS['Genotype_and_covariates_Z'] = PRS['Genotype_only'] + PRS['Covariates_only_Z']\n",
    "\n",
    "    Y  = np.array(df['phe'])\n",
    "    prs_eval = PRS_eval(phe_type, seed_file)\n",
    "    for k,v in PRS.items():\n",
    "        prs_eval.compute_r_or_auc(k, v, Y)    \n",
    "\n",
    "    info_str='\\t'.join([in_score, phe_type])\n",
    "    results_str = prs_eval.format_metrics(info_str)\n",
    "    with open(out_file, 'w') as fw:        \n",
    "        fw.write(results_str + '\\n')        \n",
    "    print(results_str)"
   ]
  },
  {
   "cell_type": "code",
   "execution_count": 53,
   "metadata": {},
   "outputs": [],
   "source": []
  },
  {
   "cell_type": "code",
   "execution_count": 50,
   "metadata": {},
   "outputs": [],
   "source": []
  },
  {
   "cell_type": "code",
   "execution_count": 57,
   "metadata": {},
   "outputs": [
    {
     "name": "stdout",
     "output_type": "stream",
     "text": [
      "Genotype_only\t3.809480e-01\n",
      "Covariates_only\t7.316330e-02\n",
      "Covariates_only_center\t7.316330e-02\n",
      "Covariates_only_Z\t7.316330e-02\n",
      "Genotype_and_covariates\t3.784929e-01\n",
      "Genotype_and_covariates_center\t3.784929e-01\n",
      "Genotype_and_covariates_Z\t3.784929e-01\n"
     ]
    }
   ],
   "source": [
    "print(prs_eval.format_metrics())"
   ]
  },
  {
   "cell_type": "code",
   "execution_count": 77,
   "metadata": {},
   "outputs": [
    {
     "data": {
      "text/plain": [
       "'/oak/stanford/groups/mrivas/projects/PRS/private_output/snpnet_PRS/test/3_snpnet/INI5255.covars.tsv.gz'"
      ]
     },
     "execution_count": 77,
     "metadata": {},
     "output_type": "execute_result"
    }
   ],
   "source": [
    "betas"
   ]
  },
  {
   "cell_type": "code",
   "execution_count": null,
   "metadata": {},
   "outputs": [],
   "source": [
    "compute_covar_Z_transform(covar_phe, keep=None, covars=None)"
   ]
  },
  {
   "cell_type": "code",
   "execution_count": null,
   "metadata": {},
   "outputs": [],
   "source": []
  },
  {
   "cell_type": "code",
   "execution_count": null,
   "metadata": {},
   "outputs": [],
   "source": []
  },
  {
   "cell_type": "code",
   "execution_count": 231,
   "metadata": {},
   "outputs": [],
   "source": [
    "dff = compute_covar_Z_transform(\n",
    "    covar_phe, '{}.train'.format(keep[:-5]), )"
   ]
  },
  {
   "cell_type": "code",
   "execution_count": 227,
   "metadata": {},
   "outputs": [],
   "source": [
    "dff = compute_covar_Z_transform(\n",
    "    covar_phe, '{}.train'.format(keep[:-5]), \n",
    "    ['age', 'sex'] + ['PC{}'.format(x + 1) for x in range(10)]\n",
    ")"
   ]
  },
  {
   "cell_type": "code",
   "execution_count": 4,
   "metadata": {},
   "outputs": [],
   "source": []
  },
  {
   "cell_type": "code",
   "execution_count": 16,
   "metadata": {},
   "outputs": [],
   "source": [
    "in_score='/oak/stanford/groups/mrivas/projects/PRS/private_output/snpnet_PRS/test/4_score/INI5255.sscore'\n",
    "keep='/oak/stanford/groups/mrivas/projects/PRS/private_output/snpnet_PRS/test/1_split/INI5255.test'\n",
    "phe='/oak/stanford/groups/mrivas/projects/PRS/private_output/snpnet_PRS/test/0_input/INI5255.phe'\n",
    "phe_type='qt'\n",
    "covar_phe='/oak/stanford/groups/mrivas/private_data/ukbb/24983/sqc/ukb24983_GWAS_covar.phe'\n",
    "betas='/oak/stanford/groups/mrivas/projects/PRS/private_output/snpnet_PRS/test/3_snpnet/INI5255.covars.tsv.gz'\n",
    "out_file=None\n"
   ]
  },
  {
   "cell_type": "code",
   "execution_count": 5,
   "metadata": {},
   "outputs": [],
   "source": [
    "def compute_r_or_auc_main(in_score, phe, phe_type, covar_phe, keep, out_file, seed_file=None):    \n",
    "    df = read_data(in_score=in_score, phe=phe, covar_phe=covar_phe, keep=keep)\n",
    "    \n",
    "    covars=['age', 'sex']+['PC{}'.format(x+1) for x in range(4)]\n",
    "    X1 = df[['SCORE1_SUM']].values\n",
    "    X2 = df[covars].values\n",
    "    X3 = df[covars + ['SCORE1_AVG']].values\n",
    "    Y  = np.array(df['phe'])\n",
    "    \n",
    "    if phe_type in set(['linear', 'qt']):\n",
    "        eval1 = compute_r(X1, Y)\n",
    "        eval2 = compute_r(X2, Y)\n",
    "        eval3 = compute_r(X3, Y)\n",
    "        \n",
    "    elif phe_type in set(['binary', 'bin']):\n",
    "        print(collections.Counter(Y))        \n",
    "        if seed_file is None:\n",
    "            seed = None\n",
    "        else: \n",
    "            seed = int(np.loadtxt(seed_file))\n",
    "            \n",
    "        eval1 = compute_auc(X1, Y, seed)\n",
    "        eval2 = compute_auc(X2, Y, seed)\n",
    "        eval3 = compute_auc(X3, Y, seed)\n",
    "\n",
    "    results_str='\\n'.join(\n",
    "        ['\\t'.join(\n",
    "\t    [in_score, phe_type, features, '{:.6e}'.format(score)]\n",
    "\t) for features, score \n",
    "\tin zip(['PRS', 'covars', 'PRS_and_covars'], [eval1, eval2, eval3] ) ]\n",
    "    )\n",
    "    with open(out_file, 'w') as fw:        \n",
    "        fw.write(results_str + '\\n')        \n",
    "    print(results_str)"
   ]
  },
  {
   "cell_type": "code",
   "execution_count": 122,
   "metadata": {},
   "outputs": [],
   "source": [
    "df = read_data(in_score=in_score, phe=phe, covar_phe=covar_phe, keep=keep)\n"
   ]
  },
  {
   "cell_type": "code",
   "execution_count": 123,
   "metadata": {},
   "outputs": [
    {
     "data": {
      "text/html": [
       "<div>\n",
       "<style scoped>\n",
       "    .dataframe tbody tr th:only-of-type {\n",
       "        vertical-align: middle;\n",
       "    }\n",
       "\n",
       "    .dataframe tbody tr th {\n",
       "        vertical-align: top;\n",
       "    }\n",
       "\n",
       "    .dataframe thead th {\n",
       "        text-align: right;\n",
       "    }\n",
       "</style>\n",
       "<table border=\"1\" class=\"dataframe\">\n",
       "  <thead>\n",
       "    <tr style=\"text-align: right;\">\n",
       "      <th></th>\n",
       "      <th>IID</th>\n",
       "      <th>SCORE1_SUM</th>\n",
       "      <th>phe</th>\n",
       "      <th>FID</th>\n",
       "      <th>age</th>\n",
       "      <th>sex</th>\n",
       "      <th>Array</th>\n",
       "      <th>PC1</th>\n",
       "      <th>PC2</th>\n",
       "      <th>PC3</th>\n",
       "      <th>...</th>\n",
       "      <th>PC31</th>\n",
       "      <th>PC32</th>\n",
       "      <th>PC33</th>\n",
       "      <th>PC34</th>\n",
       "      <th>PC35</th>\n",
       "      <th>PC36</th>\n",
       "      <th>PC37</th>\n",
       "      <th>PC38</th>\n",
       "      <th>PC39</th>\n",
       "      <th>PC40</th>\n",
       "    </tr>\n",
       "  </thead>\n",
       "  <tbody>\n",
       "    <tr>\n",
       "      <th>0</th>\n",
       "      <td>1000133</td>\n",
       "      <td>-1.237130</td>\n",
       "      <td>15.98</td>\n",
       "      <td>1000133</td>\n",
       "      <td>63.0</td>\n",
       "      <td>1</td>\n",
       "      <td>1</td>\n",
       "      <td>-13.8153</td>\n",
       "      <td>6.02267</td>\n",
       "      <td>-2.615060</td>\n",
       "      <td>...</td>\n",
       "      <td>-3.968920</td>\n",
       "      <td>-0.056698</td>\n",
       "      <td>0.591308</td>\n",
       "      <td>0.294467</td>\n",
       "      <td>3.442910</td>\n",
       "      <td>0.564697</td>\n",
       "      <td>-0.717647</td>\n",
       "      <td>-0.792077</td>\n",
       "      <td>7.06351</td>\n",
       "      <td>3.03296</td>\n",
       "    </tr>\n",
       "    <tr>\n",
       "      <th>1</th>\n",
       "      <td>1000655</td>\n",
       "      <td>-1.659550</td>\n",
       "      <td>16.57</td>\n",
       "      <td>1000655</td>\n",
       "      <td>61.0</td>\n",
       "      <td>0</td>\n",
       "      <td>1</td>\n",
       "      <td>-10.5851</td>\n",
       "      <td>2.37132</td>\n",
       "      <td>-1.162400</td>\n",
       "      <td>...</td>\n",
       "      <td>1.768540</td>\n",
       "      <td>5.789810</td>\n",
       "      <td>-1.769310</td>\n",
       "      <td>-2.649860</td>\n",
       "      <td>-1.332750</td>\n",
       "      <td>3.003170</td>\n",
       "      <td>2.418410</td>\n",
       "      <td>-7.429700</td>\n",
       "      <td>-5.47440</td>\n",
       "      <td>-4.47614</td>\n",
       "    </tr>\n",
       "    <tr>\n",
       "      <th>2</th>\n",
       "      <td>1001228</td>\n",
       "      <td>-1.327700</td>\n",
       "      <td>21.97</td>\n",
       "      <td>1001228</td>\n",
       "      <td>75.0</td>\n",
       "      <td>0</td>\n",
       "      <td>0</td>\n",
       "      <td>-10.1370</td>\n",
       "      <td>4.22757</td>\n",
       "      <td>-0.513486</td>\n",
       "      <td>...</td>\n",
       "      <td>4.520870</td>\n",
       "      <td>-2.016920</td>\n",
       "      <td>-3.367390</td>\n",
       "      <td>4.862630</td>\n",
       "      <td>-2.828880</td>\n",
       "      <td>-5.933400</td>\n",
       "      <td>0.826748</td>\n",
       "      <td>4.931200</td>\n",
       "      <td>-1.71861</td>\n",
       "      <td>-4.92662</td>\n",
       "    </tr>\n",
       "    <tr>\n",
       "      <th>3</th>\n",
       "      <td>1001530</td>\n",
       "      <td>-0.641403</td>\n",
       "      <td>12.82</td>\n",
       "      <td>1001530</td>\n",
       "      <td>56.0</td>\n",
       "      <td>0</td>\n",
       "      <td>1</td>\n",
       "      <td>-11.9339</td>\n",
       "      <td>2.91273</td>\n",
       "      <td>-1.275990</td>\n",
       "      <td>...</td>\n",
       "      <td>0.764844</td>\n",
       "      <td>-4.047970</td>\n",
       "      <td>-2.466990</td>\n",
       "      <td>-2.330550</td>\n",
       "      <td>0.204806</td>\n",
       "      <td>1.406940</td>\n",
       "      <td>5.412000</td>\n",
       "      <td>-1.945510</td>\n",
       "      <td>2.72020</td>\n",
       "      <td>-6.10042</td>\n",
       "    </tr>\n",
       "    <tr>\n",
       "      <th>4</th>\n",
       "      <td>1001996</td>\n",
       "      <td>-2.466370</td>\n",
       "      <td>12.50</td>\n",
       "      <td>1001996</td>\n",
       "      <td>67.0</td>\n",
       "      <td>0</td>\n",
       "      <td>1</td>\n",
       "      <td>-13.4106</td>\n",
       "      <td>4.41931</td>\n",
       "      <td>0.411471</td>\n",
       "      <td>...</td>\n",
       "      <td>-0.593947</td>\n",
       "      <td>0.771685</td>\n",
       "      <td>2.494230</td>\n",
       "      <td>1.187790</td>\n",
       "      <td>1.754240</td>\n",
       "      <td>-2.096500</td>\n",
       "      <td>-2.513970</td>\n",
       "      <td>-2.662650</td>\n",
       "      <td>2.08631</td>\n",
       "      <td>2.20632</td>\n",
       "    </tr>\n",
       "  </tbody>\n",
       "</table>\n",
       "<p>5 rows × 47 columns</p>\n",
       "</div>"
      ],
      "text/plain": [
       "       IID  SCORE1_SUM    phe      FID   age  sex  Array      PC1      PC2  \\\n",
       "0  1000133   -1.237130  15.98  1000133  63.0    1      1 -13.8153  6.02267   \n",
       "1  1000655   -1.659550  16.57  1000655  61.0    0      1 -10.5851  2.37132   \n",
       "2  1001228   -1.327700  21.97  1001228  75.0    0      0 -10.1370  4.22757   \n",
       "3  1001530   -0.641403  12.82  1001530  56.0    0      1 -11.9339  2.91273   \n",
       "4  1001996   -2.466370  12.50  1001996  67.0    0      1 -13.4106  4.41931   \n",
       "\n",
       "        PC3  ...      PC31      PC32      PC33      PC34      PC35      PC36  \\\n",
       "0 -2.615060  ... -3.968920 -0.056698  0.591308  0.294467  3.442910  0.564697   \n",
       "1 -1.162400  ...  1.768540  5.789810 -1.769310 -2.649860 -1.332750  3.003170   \n",
       "2 -0.513486  ...  4.520870 -2.016920 -3.367390  4.862630 -2.828880 -5.933400   \n",
       "3 -1.275990  ...  0.764844 -4.047970 -2.466990 -2.330550  0.204806  1.406940   \n",
       "4  0.411471  ... -0.593947  0.771685  2.494230  1.187790  1.754240 -2.096500   \n",
       "\n",
       "       PC37      PC38     PC39     PC40  \n",
       "0 -0.717647 -0.792077  7.06351  3.03296  \n",
       "1  2.418410 -7.429700 -5.47440 -4.47614  \n",
       "2  0.826748  4.931200 -1.71861 -4.92662  \n",
       "3  5.412000 -1.945510  2.72020 -6.10042  \n",
       "4 -2.513970 -2.662650  2.08631  2.20632  \n",
       "\n",
       "[5 rows x 47 columns]"
      ]
     },
     "execution_count": 123,
     "metadata": {},
     "output_type": "execute_result"
    }
   ],
   "source": [
    "df.head()"
   ]
  },
  {
   "cell_type": "code",
   "execution_count": 124,
   "metadata": {},
   "outputs": [],
   "source": [
    "df_train = read_data(in_score=in_score, phe=phe, covar_phe=covar_phe, keep='{}.train'.format(keep[:-5]))\n"
   ]
  },
  {
   "cell_type": "code",
   "execution_count": 125,
   "metadata": {},
   "outputs": [],
   "source": [
    "betas_df=pd.read_csv(betas, compression='gzip', sep='\\t')"
   ]
  },
  {
   "cell_type": "code",
   "execution_count": 126,
   "metadata": {},
   "outputs": [
    {
     "data": {
      "text/html": [
       "<div>\n",
       "<style scoped>\n",
       "    .dataframe tbody tr th:only-of-type {\n",
       "        vertical-align: middle;\n",
       "    }\n",
       "\n",
       "    .dataframe tbody tr th {\n",
       "        vertical-align: top;\n",
       "    }\n",
       "\n",
       "    .dataframe thead th {\n",
       "        text-align: right;\n",
       "    }\n",
       "</style>\n",
       "<table border=\"1\" class=\"dataframe\">\n",
       "  <thead>\n",
       "    <tr style=\"text-align: right;\">\n",
       "      <th></th>\n",
       "      <th>ID</th>\n",
       "      <th>BETA</th>\n",
       "    </tr>\n",
       "  </thead>\n",
       "  <tbody>\n",
       "    <tr>\n",
       "      <th>0</th>\n",
       "      <td>age</td>\n",
       "      <td>0.041458</td>\n",
       "    </tr>\n",
       "    <tr>\n",
       "      <th>1</th>\n",
       "      <td>sex</td>\n",
       "      <td>0.119146</td>\n",
       "    </tr>\n",
       "    <tr>\n",
       "      <th>2</th>\n",
       "      <td>PC1</td>\n",
       "      <td>-0.030971</td>\n",
       "    </tr>\n",
       "    <tr>\n",
       "      <th>3</th>\n",
       "      <td>PC2</td>\n",
       "      <td>0.021378</td>\n",
       "    </tr>\n",
       "    <tr>\n",
       "      <th>4</th>\n",
       "      <td>PC3</td>\n",
       "      <td>0.016889</td>\n",
       "    </tr>\n",
       "    <tr>\n",
       "      <th>5</th>\n",
       "      <td>PC4</td>\n",
       "      <td>-0.001608</td>\n",
       "    </tr>\n",
       "    <tr>\n",
       "      <th>6</th>\n",
       "      <td>PC5</td>\n",
       "      <td>0.001510</td>\n",
       "    </tr>\n",
       "    <tr>\n",
       "      <th>7</th>\n",
       "      <td>PC6</td>\n",
       "      <td>0.009285</td>\n",
       "    </tr>\n",
       "    <tr>\n",
       "      <th>8</th>\n",
       "      <td>PC7</td>\n",
       "      <td>-0.011646</td>\n",
       "    </tr>\n",
       "    <tr>\n",
       "      <th>9</th>\n",
       "      <td>PC8</td>\n",
       "      <td>-0.002345</td>\n",
       "    </tr>\n",
       "    <tr>\n",
       "      <th>10</th>\n",
       "      <td>PC9</td>\n",
       "      <td>0.009004</td>\n",
       "    </tr>\n",
       "    <tr>\n",
       "      <th>11</th>\n",
       "      <td>PC10</td>\n",
       "      <td>0.005771</td>\n",
       "    </tr>\n",
       "  </tbody>\n",
       "</table>\n",
       "</div>"
      ],
      "text/plain": [
       "      ID      BETA\n",
       "0    age  0.041458\n",
       "1    sex  0.119146\n",
       "2    PC1 -0.030971\n",
       "3    PC2  0.021378\n",
       "4    PC3  0.016889\n",
       "5    PC4 -0.001608\n",
       "6    PC5  0.001510\n",
       "7    PC6  0.009285\n",
       "8    PC7 -0.011646\n",
       "9    PC8 -0.002345\n",
       "10   PC9  0.009004\n",
       "11  PC10  0.005771"
      ]
     },
     "execution_count": 126,
     "metadata": {},
     "output_type": "execute_result"
    }
   ],
   "source": [
    "betas_df"
   ]
  },
  {
   "cell_type": "code",
   "execution_count": 139,
   "metadata": {},
   "outputs": [],
   "source": [
    "covar_mat = df[list(betas_df['ID'])].values"
   ]
  },
  {
   "cell_type": "code",
   "execution_count": 140,
   "metadata": {},
   "outputs": [],
   "source": [
    "covar_train = df_train[list(betas_df['ID'])].values\n",
    "(covar_mat - covar_train.mean(axis=0)[np.newaxis,:])"
   ]
  },
  {
   "cell_type": "code",
   "execution_count": 141,
   "metadata": {},
   "outputs": [],
   "source": [
    "covar_mat_Z = ((covar_mat - covar_train.mean(axis=0)[np.newaxis,:]) / covar_train.std(axis=0)[np.newaxis,:])"
   ]
  },
  {
   "cell_type": "code",
   "execution_count": 142,
   "metadata": {},
   "outputs": [
    {
     "data": {
      "text/plain": [
       "(16303, 12)"
      ]
     },
     "execution_count": 142,
     "metadata": {},
     "output_type": "execute_result"
    }
   ],
   "source": [
    "covar_mat_Z.shape"
   ]
  },
  {
   "cell_type": "code",
   "execution_count": 143,
   "metadata": {},
   "outputs": [],
   "source": [
    "pred_Z = np.dot(\n",
    "        covar_mat_Z,\n",
    "        np.array(list(betas_df['BETA']))[:,np.newaxis]\n",
    "    )    "
   ]
  },
  {
   "cell_type": "code",
   "execution_count": 144,
   "metadata": {},
   "outputs": [],
   "source": [
    "pred = np.dot(\n",
    "        covar_mat,\n",
    "        np.array(list(betas_df['BETA']))[:,np.newaxis]\n",
    "    )    "
   ]
  },
  {
   "cell_type": "code",
   "execution_count": 145,
   "metadata": {},
   "outputs": [
    {
     "data": {
      "text/plain": [
       "(16303, 1)"
      ]
     },
     "execution_count": 145,
     "metadata": {},
     "output_type": "execute_result"
    }
   ],
   "source": [
    "pred.shape"
   ]
  },
  {
   "cell_type": "code",
   "execution_count": 146,
   "metadata": {},
   "outputs": [],
   "source": [
    "def compute_score_for_covariates(df, betas):\n",
    "    betas_df=pd.read_csv(betas, compression='gzip', sep='\\t')\n",
    "    covar_mat = df[list(betas_df['ID'])].values\n",
    "    return "
   ]
  },
  {
   "cell_type": "code",
   "execution_count": 147,
   "metadata": {},
   "outputs": [
    {
     "data": {
      "text/plain": [
       "(16303, 12)"
      ]
     },
     "execution_count": 147,
     "metadata": {},
     "output_type": "execute_result"
    }
   ],
   "source": [
    "covar_mat.shape"
   ]
  },
  {
   "cell_type": "code",
   "execution_count": 148,
   "metadata": {},
   "outputs": [
    {
     "data": {
      "text/plain": [
       "(12,)"
      ]
     },
     "execution_count": 148,
     "metadata": {},
     "output_type": "execute_result"
    }
   ],
   "source": [
    "covar_mat.mean(axis=0).shape"
   ]
  },
  {
   "cell_type": "code",
   "execution_count": 150,
   "metadata": {},
   "outputs": [
    {
     "data": {
      "text/plain": [
       "(array([  28.,  171.,  794., 2515., 4521., 4656., 2645.,  822.,  143.,\n",
       "           8.]),\n",
       " array([-1.99053 , -0.837363,  0.315804,  1.468971,  2.622138,  3.775305,\n",
       "         4.928472,  6.081639,  7.234806,  8.387973,  9.54114 ]),\n",
       " <a list of 10 Patch objects>)"
      ]
     },
     "execution_count": 150,
     "metadata": {},
     "output_type": "execute_result"
    },
    {
     "data": {
      "image/png": "[encoded data removed]",
      "text/plain": [
       "<Figure size 432x288 with 1 Axes>"
      ]
     },
     "metadata": {
      "needs_background": "light"
     },
     "output_type": "display_data"
    }
   ],
   "source": [
    "plt.hist(covar_mat[:, 3])"
   ]
  },
  {
   "cell_type": "code",
   "execution_count": 100,
   "metadata": {},
   "outputs": [
    {
     "data": {
      "text/plain": [
       "array([ 1.55087768e-02, -4.20537170e-03, -1.22619662e-02, -7.77058311e-03,\n",
       "       -1.98238028e-02,  1.40361650e-02,  7.74132330e-05,  7.15122607e-03,\n",
       "       -8.56347755e-03, -4.19439141e-04,  3.30182967e-03,  5.39700517e-03])"
      ]
     },
     "execution_count": 100,
     "metadata": {},
     "output_type": "execute_result"
    }
   ],
   "source": [
    "covar_mat_Z.mean(axis=0)"
   ]
  },
  {
   "cell_type": "code",
   "execution_count": 72,
   "metadata": {},
   "outputs": [
    {
     "data": {
      "text/plain": [
       "(array([  28.,  171.,  794., 2515., 4521., 4656., 2645.,  822.,  143.,\n",
       "           8.]),\n",
       " array([-1.99053 , -0.837363,  0.315804,  1.468971,  2.622138,  3.775305,\n",
       "         4.928472,  6.081639,  7.234806,  8.387973,  9.54114 ]),\n",
       " <a list of 10 Patch objects>)"
      ]
     },
     "execution_count": 72,
     "metadata": {},
     "output_type": "execute_result"
    },
    {
     "data": {
      "image/png": "[encoded data removed]",
      "text/plain": [
       "<Figure size 432x288 with 1 Axes>"
      ]
     },
     "metadata": {
      "needs_background": "light"
     },
     "output_type": "display_data"
    }
   ],
   "source": [
    "plt.hist(covar_mat[:, 3])"
   ]
  },
  {
   "cell_type": "code",
   "execution_count": 151,
   "metadata": {},
   "outputs": [],
   "source": [
    "df['SCORE_COVARS']= pred"
   ]
  },
  {
   "cell_type": "code",
   "execution_count": 152,
   "metadata": {},
   "outputs": [],
   "source": [
    "import matplotlib.pyplot as plt"
   ]
  },
  {
   "cell_type": "code",
   "execution_count": 153,
   "metadata": {},
   "outputs": [
    {
     "data": {
      "text/plain": [
       "(array([  45.,  538., 2075., 3446., 2248., 1052., 2169., 3085., 1501.,\n",
       "         144.]),\n",
       " array([-0.33505172, -0.27096771, -0.2068837 , -0.14279969, -0.07871568,\n",
       "        -0.01463167,  0.04945234,  0.11353635,  0.17762036,  0.24170437,\n",
       "         0.30578838]),\n",
       " <a list of 10 Patch objects>)"
      ]
     },
     "execution_count": 153,
     "metadata": {},
     "output_type": "execute_result"
    },
    {
     "data": {
      "image/png": "[encoded data removed]",
      "text/plain": [
       "<Figure size 432x288 with 1 Axes>"
      ]
     },
     "metadata": {
      "needs_background": "light"
     },
     "output_type": "display_data"
    }
   ],
   "source": [
    "plt.hist(X2)"
   ]
  },
  {
   "cell_type": "code",
   "execution_count": 154,
   "metadata": {},
   "outputs": [],
   "source": [
    "df['SCORE_GEN_COVAR'] = df['SCORE1_SUM'] + df['SCORE_COVARS']\n",
    "Y  = np.array(df['phe'])\n",
    "X1 = df[['SCORE1_SUM']].values\n",
    "X2 = df[['SCORE_COVARS']].values\n",
    "X3 = df[['SCORE_GEN_COVAR']].values\n"
   ]
  },
  {
   "cell_type": "code",
   "execution_count": 155,
   "metadata": {},
   "outputs": [],
   "source": [
    "if phe_type in set(['linear', 'qt']):\n",
    "    eval1 = compute_r(X1, Y)\n",
    "    eval2 = compute_r(X2, Y)\n",
    "    eval3 = compute_r(X3, Y)\n",
    "\n",
    "elif phe_type in set(['binary', 'bin']):\n",
    "    print(collections.Counter(Y))        \n",
    "    if seed_file is None:\n",
    "        seed = None\n",
    "    else: \n",
    "        seed = read_seed(seed_file)\n",
    "\n",
    "    eval1 = compute_auc(X1, Y, seed)\n",
    "    eval2 = compute_auc(X2, Y, seed)\n",
    "    eval3 = compute_auc(X3, Y, seed)\n"
   ]
  },
  {
   "cell_type": "code",
   "execution_count": 156,
   "metadata": {},
   "outputs": [],
   "source": [
    "results_str='\\n'.join(\n",
    "    ['\\t'.join(\n",
    "    [in_score, phe_type, features, '{:.6e}'.format(score)]\n",
    ") for features, score \n",
    "in zip(['PRS', 'covars', 'PRS_and_covars'], [eval1, eval2, eval3] ) ]\n",
    ")"
   ]
  },
  {
   "cell_type": "code",
   "execution_count": 157,
   "metadata": {},
   "outputs": [
    {
     "name": "stdout",
     "output_type": "stream",
     "text": [
      "/oak/stanford/groups/mrivas/projects/PRS/private_output/snpnet_PRS/test/4_score/INI5255.sscore\tqt\tPRS\t3.809480e-01\n",
      "/oak/stanford/groups/mrivas/projects/PRS/private_output/snpnet_PRS/test/4_score/INI5255.sscore\tqt\tcovars\t7.316330e-02\n",
      "/oak/stanford/groups/mrivas/projects/PRS/private_output/snpnet_PRS/test/4_score/INI5255.sscore\tqt\tPRS_and_covars\t3.784929e-01\n"
     ]
    }
   ],
   "source": [
    "print(results_str)"
   ]
  },
  {
   "cell_type": "code",
   "execution_count": 136,
   "metadata": {},
   "outputs": [
    {
     "name": "stdout",
     "output_type": "stream",
     "text": [
      "/oak/stanford/groups/mrivas/projects/PRS/private_output/snpnet_PRS/test/4_score/INI5255.sscore\tqt\tPRS\t3.809480e-01\n",
      "/oak/stanford/groups/mrivas/projects/PRS/private_output/snpnet_PRS/test/4_score/INI5255.sscore\tqt\tcovars\t3.721723e-02\n",
      "/oak/stanford/groups/mrivas/projects/PRS/private_output/snpnet_PRS/test/4_score/INI5255.sscore\tqt\tPRS_and_covars\t3.823290e-01\n"
     ]
    }
   ],
   "source": [
    "print(results_str)"
   ]
  },
  {
   "cell_type": "code",
   "execution_count": 97,
   "metadata": {},
   "outputs": [
    {
     "name": "stdout",
     "output_type": "stream",
     "text": [
      "/oak/stanford/groups/mrivas/projects/PRS/private_output/snpnet_PRS/test/4_score/INI5255.sscore\tqt\tPRS\t3.809480e-01\n",
      "/oak/stanford/groups/mrivas/projects/PRS/private_output/snpnet_PRS/test/4_score/INI5255.sscore\tqt\tcovars\t3.721723e-02\n",
      "/oak/stanford/groups/mrivas/projects/PRS/private_output/snpnet_PRS/test/4_score/INI5255.sscore\tqt\tPRS_and_covars\t3.746690e-02\n"
     ]
    }
   ],
   "source": [
    "print(results_str)"
   ]
  },
  {
   "cell_type": "code",
   "execution_count": 33,
   "metadata": {},
   "outputs": [],
   "source": [
    "in_score='/oak/stanford/groups/mrivas/projects/PRS/private_output/vanilla_PRS/5_score/1e-5/ukb16698_v2.1001.PHENO1.glm.logistic.hybrid.sscore'\n",
    "phe='/oak/stanford/groups/mrivas/projects/PRS/private_output/vanilla_PRS/0_input/1001.phe'\n",
    "phe_type='bin'\n",
    "covar_phe=os.path.join(\n",
    "        '/oak/stanford/groups/mrivas',\n",
    "        'private_data/ukbb/16698/sqc/ukb16698_GWAS_covar.phe'\n",
    "    )\n",
    "seed_file='/oak/stanford/groups/mrivas/users/ytanigaw/repos/rivas-lab/PRS/helper/rand.seed.txt'\n",
    "keep='/oak/stanford/groups/mrivas/projects/PRS/private_output/vanilla_PRS/1_split/1001.test'\n",
    "out_file='/oak/stanford/groups/mrivas/projects/PRS/private_output/vanilla_PRS/6_eval/1e-5/ukb16698_v2.1001.PHENO1.glm.logistic.hybrid.sscore.eval'\n",
    "\n"
   ]
  },
  {
   "cell_type": "code",
   "execution_count": 34,
   "metadata": {},
   "outputs": [],
   "source": [
    "df = read_data(in_score=in_score, phe=phe, covar_phe=covar_phe, keep=keep)"
   ]
  },
  {
   "cell_type": "code",
   "execution_count": 36,
   "metadata": {},
   "outputs": [
    {
     "data": {
      "text/plain": [
       "(67439, 9)"
      ]
     },
     "execution_count": 36,
     "metadata": {},
     "output_type": "execute_result"
    }
   ],
   "source": [
    "df.shape"
   ]
  },
  {
   "cell_type": "code",
   "execution_count": 37,
   "metadata": {},
   "outputs": [],
   "source": [
    "covars=['age', 'sex']+['PC{}'.format(x+1) for x in range(4)]\n",
    "X1 = df[['SCORE1_AVG']].values\n",
    "X2 = df[covars + ['SCORE1_AVG']].values\n",
    "Y  = np.array(df['phe'])"
   ]
  },
  {
   "cell_type": "code",
   "execution_count": 38,
   "metadata": {},
   "outputs": [],
   "source": [
    "import collections"
   ]
  },
  {
   "cell_type": "code",
   "execution_count": 39,
   "metadata": {},
   "outputs": [
    {
     "data": {
      "text/plain": [
       "Counter({1: 67043, 2: 396})"
      ]
     },
     "execution_count": 39,
     "metadata": {},
     "output_type": "execute_result"
    }
   ],
   "source": [
    "collections.Counter(Y)"
   ]
  },
  {
   "cell_type": "code",
   "execution_count": 40,
   "metadata": {},
   "outputs": [],
   "source": [
    "seed = read_seed(seed_file)        "
   ]
  },
  {
   "cell_type": "code",
   "execution_count": 41,
   "metadata": {},
   "outputs": [
    {
     "data": {
      "text/plain": [
       "20190213"
      ]
     },
     "execution_count": 41,
     "metadata": {},
     "output_type": "execute_result"
    }
   ],
   "source": [
    "seed"
   ]
  },
  {
   "cell_type": "code",
   "execution_count": 43,
   "metadata": {},
   "outputs": [],
   "source": [
    "def compute_auc(x, y, seed=None):\n",
    "    lm = LogisticRegression(\n",
    "        random_state=seed, solver='lbfgs'\n",
    "    ).fit(x, y)\n",
    "    roc_auc = roc_auc_score(y, lm.predict_log_proba(x)[:, 1])\n",
    "    return max(roc_auc, 1 - roc_auc)    \n"
   ]
  },
  {
   "cell_type": "code",
   "execution_count": 44,
   "metadata": {},
   "outputs": [],
   "source": [
    "eval1 = compute_auc(X1, Y, seed)"
   ]
  },
  {
   "cell_type": "code",
   "execution_count": 45,
   "metadata": {},
   "outputs": [
    {
     "data": {
      "text/plain": [
       "0.5165949013274611"
      ]
     },
     "execution_count": 45,
     "metadata": {},
     "output_type": "execute_result"
    }
   ],
   "source": [
    "eval1"
   ]
  },
  {
   "cell_type": "code",
   "execution_count": 21,
   "metadata": {},
   "outputs": [
    {
     "name": "stdout",
     "output_type": "stream",
     "text": [
      "/oak/stanford/groups/mrivas/private_data/ukbb/16698/sqc/ukb16698_GWAS_covar.phe\n"
     ]
    }
   ],
   "source": [
    "!ls $covar_phe"
   ]
  },
  {
   "cell_type": "code",
   "execution_count": 35,
   "metadata": {},
   "outputs": [],
   "source": [
    "s = read_seed(seed_file='../helper/rand.seed.txt')"
   ]
  },
  {
   "cell_type": "code",
   "execution_count": null,
   "metadata": {},
   "outputs": [],
   "source": [
    "os."
   ]
  },
  {
   "cell_type": "code",
   "execution_count": 24,
   "metadata": {},
   "outputs": [],
   "source": [
    "xs = np.arange(10).reshape(10, 1)"
   ]
  },
  {
   "cell_type": "code",
   "execution_count": 25,
   "metadata": {},
   "outputs": [],
   "source": [
    "ys = np.array([0, 0, 0, 1, 0, 1, 1, 1, 0, 1])"
   ]
  },
  {
   "cell_type": "code",
   "execution_count": 36,
   "metadata": {},
   "outputs": [],
   "source": [
    "lm = LogisticRegression(random_state=s, solver='lbfgs').fit(xs, ys)"
   ]
  },
  {
   "cell_type": "code",
   "execution_count": 38,
   "metadata": {},
   "outputs": [
    {
     "data": {
      "text/plain": [
       "array([0.86298863, 0.80711525, 0.7354417 , 0.6487264 , 0.55094303,\n",
       "       0.44905681, 0.35127345, 0.26455818, 0.19288465, 0.1370113 ])"
      ]
     },
     "execution_count": 38,
     "metadata": {},
     "output_type": "execute_result"
    }
   ],
   "source": [
    "lm.predict_proba(xs)[:, 0]"
   ]
  },
  {
   "cell_type": "code",
   "execution_count": 39,
   "metadata": {},
   "outputs": [
    {
     "data": {
      "text/plain": [
       "0.19999999999999998"
      ]
     },
     "execution_count": 39,
     "metadata": {},
     "output_type": "execute_result"
    }
   ],
   "source": [
    "roc_auc_score(ys, lm.predict_proba(xs)[:, 0])"
   ]
  },
  {
   "cell_type": "code",
   "execution_count": 42,
   "metadata": {},
   "outputs": [
    {
     "data": {
      "text/plain": [
       "0.8"
      ]
     },
     "execution_count": 42,
     "metadata": {},
     "output_type": "execute_result"
    }
   ],
   "source": [
    "roc_auc_score(ys, lm.predict_log_proba(xs)[:, 1])"
   ]
  },
  {
   "cell_type": "code",
   "execution_count": 14,
   "metadata": {},
   "outputs": [],
   "source": [
    "in_score='/oak/stanford/groups/mrivas/projects/PRS/private_output/vanilla_PRS/5_score/1e-3/ukb24983_v2.INI30150.PHENO1.glm.linear.sscore'\n",
    "keep='/oak/stanford/groups/mrivas/projects/PRS/private_output/vanilla_PRS/1_split/INI30150.test'\n",
    "phe='/oak/stanford/groups/mrivas/projects/PRS/private_output/vanilla_PRS/0_input/INI30150.phe'\n",
    "out_file='/oak/stanford/groups/mrivas/projects/PRS/private_output/vanilla_PRS/6_eval/1e-3/ukb24983_v2.INI30150.PHENO1.glm.linear.sscore.eval'\n",
    "phe_type='linear'\n",
    "\n",
    "covar_phe='/oak/stanford/groups/mrivas/private_data/ukbb/24983/sqc/ukb24983_GWAS_covar.phe'\n"
   ]
  },
  {
   "cell_type": "code",
   "execution_count": 5,
   "metadata": {},
   "outputs": [],
   "source": [
    "df = read_data(in_score=in_score, phe=phe, covar_phe=covar_phe, keep=keep)\n"
   ]
  },
  {
   "cell_type": "code",
   "execution_count": 6,
   "metadata": {},
   "outputs": [],
   "source": [
    "covars=['age', 'sex']+['PC{}'.format(x+1) for x in range(4)]\n",
    "X1 = df[['SCORE1_AVG']].values\n",
    "X2 = df[covars + ['SCORE1_AVG']].values\n",
    "Y  = np.array(df['phe'])\n"
   ]
  },
  {
   "cell_type": "code",
   "execution_count": 15,
   "metadata": {},
   "outputs": [],
   "source": [
    "if phe_type in set(['linear', 'qt']):\n",
    "    results_str='{:.6e}\\t{:.6e}'.format(compute_r(X1, Y), compute_r(X2, Y))\n",
    "elif phe_type in set(['binary', 'bin']):\n",
    "    results_str='{:.6e}\\t{:.6e}'.format(compute_auc(X1, Y), compute_auc(X2, Y))\n",
    "    "
   ]
  },
  {
   "cell_type": "code",
   "execution_count": 16,
   "metadata": {},
   "outputs": [],
   "source": [
    "with open(out_file, 'w') as fw:\n",
    "    fw.write(results_str)"
   ]
  },
  {
   "cell_type": "code",
   "execution_count": 8,
   "metadata": {},
   "outputs": [
    {
     "data": {
      "text/plain": [
       "(0.00031338317218780896, 0.09304982034208101)"
      ]
     },
     "execution_count": 8,
     "metadata": {},
     "output_type": "execute_result"
    }
   ],
   "source": [
    "r1, r2"
   ]
  },
  {
   "cell_type": "code",
   "execution_count": null,
   "metadata": {},
   "outputs": [],
   "source": []
  },
  {
   "cell_type": "code",
   "execution_count": 2,
   "metadata": {},
   "outputs": [],
   "source": [
    "import numpy as np\n",
    "import pandas as pd\n",
    "import scipy\n",
    "import matplotlib, collections, itertools, os, re, textwrap, logging\n",
    "import matplotlib.pyplot as plt\n",
    "import matplotlib.gridspec as gridspec\n",
    "import matplotlib.patches as mpatches\n",
    "from functools import reduce"
   ]
  },
  {
   "cell_type": "code",
   "execution_count": 3,
   "metadata": {},
   "outputs": [],
   "source": [
    "in_score='/oak/stanford/groups/mrivas/projects/PRS/private_output/vanilla_PRS/5_score/1e-3/ukb24983_v2.INI30150.PHENO1.glm.linear.sscore'\n",
    "keep='/oak/stanford/groups/mrivas/projects/PRS/private_output/vanilla_PRS/1_split/INI30150.test'\n",
    "phe='/oak/stanford/groups/mrivas/projects/PRS/private_output/vanilla_PRS/0_input/INI30150.phe'\n",
    "out_file='/oak/stanford/groups/mrivas/projects/PRS/private_output/vanilla_PRS/6_eval/1e-3/ukb24983_v2.INI30150.PHENO1.glm.linear.sscore.eval'\n",
    "\n",
    "covar_phe='/oak/stanford/groups/mrivas/private_data/ukbb/24983/sqc/ukb24983_GWAS_covar.phe'"
   ]
  },
  {
   "cell_type": "code",
   "execution_count": 4,
   "metadata": {},
   "outputs": [],
   "source": []
  },
  {
   "cell_type": "code",
   "execution_count": 32,
   "metadata": {},
   "outputs": [],
   "source": [
    "def read_data(in_score, phe, covar_phe, keep=None):\n",
    "    df = pd.read_csv(\n",
    "        in_score, sep='\\t', usecols=[1,4]\n",
    "    ).merge(\n",
    "        pd.read_csv(\n",
    "            phe, sep='\\t', usecols=[1,2], names=['IID', 'phe']\n",
    "        ),\n",
    "        on='IID'\n",
    "    ).merge(\n",
    "        pd.read_csv(\n",
    "            covar_phe, sep='\\t', usecols=[1,2,3,5,6,7,8]\n",
    "        ),\n",
    "        on='IID'\n",
    "    )\n",
    "    df_non_missing=df[df['phe'] != 9]\n",
    "    if keep is None:\n",
    "        return df_non_missing\n",
    "    else:\n",
    "        return df_non_missing.merge(\n",
    "            pd.read_csv(\n",
    "                keep, sep=' ', usecols=[0], names=['IID']\n",
    "            ),\n",
    "            on='IID',\n",
    "            how='inner'\n",
    "        )"
   ]
  },
  {
   "cell_type": "code",
   "execution_count": 33,
   "metadata": {},
   "outputs": [],
   "source": [
    "df = read_data(in_score, phe, covar_phe, keep=keep)"
   ]
  },
  {
   "cell_type": "code",
   "execution_count": 27,
   "metadata": {},
   "outputs": [],
   "source": [
    "from sklearn.linear_model import LinearRegression"
   ]
  },
  {
   "cell_type": "code",
   "execution_count": 42,
   "metadata": {},
   "outputs": [],
   "source": [
    "covars=['age', 'sex']+['PC{}'.format(x+1) for x in range(4)]"
   ]
  },
  {
   "cell_type": "code",
   "execution_count": 60,
   "metadata": {},
   "outputs": [],
   "source": [
    "X1 = df[['SCORE1_AVG']].values\n",
    "X2 = df[covars + ['SCORE1_AVG']].values\n",
    "Y  = np.array(df['phe'])\n"
   ]
  },
  {
   "cell_type": "code",
   "execution_count": 61,
   "metadata": {},
   "outputs": [],
   "source": [
    "lm1 = LinearRegression().fit(X1, Y)\n",
    "lm2 = LinearRegression().fit(X2, Y)"
   ]
  },
  {
   "cell_type": "code",
   "execution_count": 75,
   "metadata": {},
   "outputs": [],
   "source": [
    "r1 = np.corrcoef(Y, lm1.predict(X1))[0, 1]\n",
    "r2 = np.corrcoef(Y, lm2.predict(X2))[0, 1]"
   ]
  },
  {
   "cell_type": "code",
   "execution_count": 76,
   "metadata": {},
   "outputs": [
    {
     "data": {
      "text/plain": [
       "(0.00031338317218780896, 0.09304982034208101)"
      ]
     },
     "execution_count": 76,
     "metadata": {},
     "output_type": "execute_result"
    }
   ],
   "source": [
    "r1, r2"
   ]
  },
  {
   "cell_type": "code",
   "execution_count": 77,
   "metadata": {},
   "outputs": [],
   "source": [
    "with open(out_file, 'w') as fw:\n",
    "    fw.write('{:.4e}\\t{:.4e}'.format(r1, r2))"
   ]
  },
  {
   "cell_type": "code",
   "execution_count": 78,
   "metadata": {},
   "outputs": [
    {
     "name": "stdout",
     "output_type": "stream",
     "text": [
      "3.1338e-04\t9.3050e-02"
     ]
    }
   ],
   "source": [
    "!cat $out_file"
   ]
  },
  {
   "cell_type": "code",
   "execution_count": 47,
   "metadata": {},
   "outputs": [
    {
     "data": {
      "text/plain": [
       "array([[ 6.80000e+01,  1.00000e+00, -1.28332e+01, ..., -1.56921e+00,\n",
       "         6.66705e-01,  6.90431e+04],\n",
       "       [ 6.90000e+01,  0.00000e+00, -1.04515e+01, ..., -3.33649e+00,\n",
       "         5.72834e-01,  6.92104e+04],\n",
       "       [ 7.10000e+01,  0.00000e+00, -1.35059e+01, ..., -2.51258e+00,\n",
       "         2.05912e+00,  6.95568e+04],\n",
       "       ...,\n",
       "       [ 5.00000e+01,  1.00000e+00, -1.30382e+01, ..., -1.94583e+00,\n",
       "         7.62227e-01,  6.86158e+04],\n",
       "       [ 6.40000e+01,  0.00000e+00, -1.45310e+01, ..., -2.87338e+00,\n",
       "        -3.33143e+00,  6.92368e+04],\n",
       "       [ 7.50000e+01,  1.00000e+00, -1.29570e+01, ..., -2.09221e+00,\n",
       "         1.85859e+00,  7.26215e+04]])"
      ]
     },
     "execution_count": 47,
     "metadata": {},
     "output_type": "execute_result"
    }
   ],
   "source": [
    "df[covars + ['SCORE1_AVG']].values"
   ]
  },
  {
   "cell_type": "code",
   "execution_count": 43,
   "metadata": {},
   "outputs": [
    {
     "data": {
      "text/plain": [
       "['age', 'sex', 'PC1', 'PC2', 'PC3', 'PC4']"
      ]
     },
     "execution_count": 43,
     "metadata": {},
     "output_type": "execute_result"
    }
   ],
   "source": [
    "covars"
   ]
  },
  {
   "cell_type": "code",
   "execution_count": 40,
   "metadata": {},
   "outputs": [
    {
     "data": {
      "text/plain": [
       "['SCORE1_AVG', 'age', 'sex', 'PC1', 'PC2', 'PC3', 'PC4']"
      ]
     },
     "execution_count": 40,
     "metadata": {},
     "output_type": "execute_result"
    }
   ],
   "source": [
    "[x for x in df.columns if x not in set(['IID', 'phe'])]"
   ]
  },
  {
   "cell_type": "code",
   "execution_count": 45,
   "metadata": {},
   "outputs": [],
   "source": [
    "def rsquared(x, y):\n",
    "    \"\"\" Return R^2 where x and y are array-like.\"\"\"\n",
    "\n",
    "    slope, intercept, r_value, p_value, std_err = scipy.stats.linregress(x, y)\n",
    "    return r_value**2"
   ]
  },
  {
   "cell_type": "code",
   "execution_count": 53,
   "metadata": {},
   "outputs": [],
   "source": []
  },
  {
   "cell_type": "code",
   "execution_count": 4,
   "metadata": {},
   "outputs": [],
   "source": [
    "score_file='../private_output/plink_score_INI50_test.sscore'\n",
    "phe_file='/oak/stanford/groups/mrivas/private_data/ukbb/24983/phenotypedata/ukb9797_20170818_qt/INI50.phe'\n"
   ]
  },
  {
   "cell_type": "code",
   "execution_count": 60,
   "metadata": {},
   "outputs": [],
   "source": [
    "covar_df = pd.read_csv(\n",
    "    covar_phe, sep='\\t', usecols=[1,2,3,5,6,7,8]\n",
    ")"
   ]
  },
  {
   "cell_type": "code",
   "execution_count": 26,
   "metadata": {},
   "outputs": [],
   "source": [
    "score_df = pd.read_csv(score_file, usecols=[1,2,3,4], sep='\\t')"
   ]
  },
  {
   "cell_type": "code",
   "execution_count": 27,
   "metadata": {},
   "outputs": [],
   "source": [
    "phe_df = pd.read_csv(phe_file, sep='\\t', usecols=[1,2], names=['IID', 'phe'])"
   ]
  },
  {
   "cell_type": "code",
   "execution_count": 28,
   "metadata": {},
   "outputs": [],
   "source": [
    "merged_df = score_df.merge(\n",
    "    phe_df, on='IID'\n",
    ")"
   ]
  },
  {
   "cell_type": "code",
   "execution_count": 31,
   "metadata": {},
   "outputs": [
    {
     "data": {
      "text/html": [
       "<div>\n",
       "<style scoped>\n",
       "    .dataframe tbody tr th:only-of-type {\n",
       "        vertical-align: middle;\n",
       "    }\n",
       "\n",
       "    .dataframe tbody tr th {\n",
       "        vertical-align: top;\n",
       "    }\n",
       "\n",
       "    .dataframe thead th {\n",
       "        text-align: right;\n",
       "    }\n",
       "</style>\n",
       "<table border=\"1\" class=\"dataframe\">\n",
       "  <thead>\n",
       "    <tr style=\"text-align: right;\">\n",
       "      <th></th>\n",
       "      <th>IID</th>\n",
       "      <th>NMISS_ALLELE_CT</th>\n",
       "      <th>NAMED_ALLELE_DOSAGE_SUM</th>\n",
       "      <th>SCORE1_AVG</th>\n",
       "      <th>phe</th>\n",
       "    </tr>\n",
       "  </thead>\n",
       "  <tbody>\n",
       "    <tr>\n",
       "      <th>0</th>\n",
       "      <td>1000028</td>\n",
       "      <td>27000</td>\n",
       "      <td>5338</td>\n",
       "      <td>0.000070</td>\n",
       "      <td>176.0</td>\n",
       "    </tr>\n",
       "    <tr>\n",
       "      <th>1</th>\n",
       "      <td>1000034</td>\n",
       "      <td>26434</td>\n",
       "      <td>5241</td>\n",
       "      <td>0.000082</td>\n",
       "      <td>182.0</td>\n",
       "    </tr>\n",
       "    <tr>\n",
       "      <th>2</th>\n",
       "      <td>1000045</td>\n",
       "      <td>27096</td>\n",
       "      <td>5394</td>\n",
       "      <td>-0.000040</td>\n",
       "      <td>156.0</td>\n",
       "    </tr>\n",
       "    <tr>\n",
       "      <th>3</th>\n",
       "      <td>1000052</td>\n",
       "      <td>27034</td>\n",
       "      <td>5370</td>\n",
       "      <td>0.000079</td>\n",
       "      <td>159.0</td>\n",
       "    </tr>\n",
       "    <tr>\n",
       "      <th>4</th>\n",
       "      <td>1000076</td>\n",
       "      <td>26986</td>\n",
       "      <td>5425</td>\n",
       "      <td>0.000127</td>\n",
       "      <td>175.0</td>\n",
       "    </tr>\n",
       "  </tbody>\n",
       "</table>\n",
       "</div>"
      ],
      "text/plain": [
       "       IID  NMISS_ALLELE_CT  NAMED_ALLELE_DOSAGE_SUM  SCORE1_AVG    phe\n",
       "0  1000028            27000                     5338    0.000070  176.0\n",
       "1  1000034            26434                     5241    0.000082  182.0\n",
       "2  1000045            27096                     5394   -0.000040  156.0\n",
       "3  1000052            27034                     5370    0.000079  159.0\n",
       "4  1000076            26986                     5425    0.000127  175.0"
      ]
     },
     "execution_count": 31,
     "metadata": {},
     "output_type": "execute_result"
    }
   ],
   "source": [
    "merged_df.head()"
   ]
  },
  {
   "cell_type": "code",
   "execution_count": 48,
   "metadata": {},
   "outputs": [
    {
     "data": {
      "text/plain": [
       "0.06094146620992523"
      ]
     },
     "execution_count": 48,
     "metadata": {},
     "output_type": "execute_result"
    }
   ],
   "source": [
    "rsquared(\n",
    "    merged_df['SCORE1_AVG'], merged_df['phe']\n",
    ")"
   ]
  },
  {
   "cell_type": "code",
   "execution_count": 35,
   "metadata": {},
   "outputs": [
    {
     "data": {
      "text/plain": [
       "(array([4.20000e+01, 9.36000e+02, 1.02090e+04, 5.04640e+04, 1.08954e+05,\n",
       "        1.07412e+05, 4.82420e+04, 1.00300e+04, 8.70000e+02, 3.90000e+01]),\n",
       " array([-3.469690e-04, -2.719941e-04, -1.970192e-04, -1.220443e-04,\n",
       "        -4.706940e-05,  2.790550e-05,  1.028804e-04,  1.778553e-04,\n",
       "         2.528302e-04,  3.278051e-04,  4.027800e-04]),\n",
       " <a list of 10 Patch objects>)"
      ]
     },
     "execution_count": 35,
     "metadata": {},
     "output_type": "execute_result"
    },
    {
     "data": {
      "image/png": "[encoded data removed]",
      "text/plain": [
       "<Figure size 432x288 with 1 Axes>"
      ]
     },
     "metadata": {
      "needs_background": "light"
     },
     "output_type": "display_data"
    }
   ],
   "source": [
    "plt.hist(merged_df['SCORE1_AVG'])"
   ]
  },
  {
   "cell_type": "code",
   "execution_count": 36,
   "metadata": {},
   "outputs": [
    {
     "data": {
      "text/plain": [
       "(array([7.01000e+02, 0.00000e+00, 0.00000e+00, 1.00000e+00, 0.00000e+00,\n",
       "        4.00000e+00, 2.17000e+02, 1.31479e+05, 1.97832e+05, 6.96400e+03]),\n",
       " array([ -9. ,  12.8,  34.6,  56.4,  78.2, 100. , 121.8, 143.6, 165.4,\n",
       "        187.2, 209. ]),\n",
       " <a list of 10 Patch objects>)"
      ]
     },
     "execution_count": 36,
     "metadata": {},
     "output_type": "execute_result"
    },
    {
     "data": {
      "image/png": "[encoded data removed]",
      "text/plain": [
       "<Figure size 432x288 with 1 Axes>"
      ]
     },
     "metadata": {
      "needs_background": "light"
     },
     "output_type": "display_data"
    }
   ],
   "source": [
    "plt.hist(merged_df['phe'])"
   ]
  },
  {
   "cell_type": "code",
   "execution_count": 37,
   "metadata": {},
   "outputs": [
    {
     "data": {
      "text/plain": [
       "<matplotlib.collections.PathCollection at 0x7fd38ed203c8>"
      ]
     },
     "execution_count": 37,
     "metadata": {},
     "output_type": "execute_result"
    },
    {
     "data": {
      "image/png": "[encoded data removed]",
      "text/plain": [
       "<Figure size 432x288 with 1 Axes>"
      ]
     },
     "metadata": {
      "needs_background": "light"
     },
     "output_type": "display_data"
    }
   ],
   "source": [
    "plt.scatter(\n",
    "    merged_df['SCORE1_AVG'],\n",
    "    merged_df['phe']\n",
    ")"
   ]
  },
  {
   "cell_type": "code",
   "execution_count": 38,
   "metadata": {},
   "outputs": [
    {
     "data": {
      "text/plain": [
       "<matplotlib.collections.PathCollection at 0x7fd38eb4ab38>"
      ]
     },
     "execution_count": 38,
     "metadata": {},
     "output_type": "execute_result"
    },
    {
     "data": {
      "image/png": "[encoded data removed]",
      "text/plain": [
       "<Figure size 432x288 with 1 Axes>"
      ]
     },
     "metadata": {
      "needs_background": "light"
     },
     "output_type": "display_data"
    }
   ],
   "source": [
    "plt.scatter(\n",
    "    merged_df[merged_df['phe'] > 100]['SCORE1_AVG'],\n",
    "    merged_df[merged_df['phe'] > 100]['phe']\n",
    ")"
   ]
  },
  {
   "cell_type": "code",
   "execution_count": 50,
   "metadata": {},
   "outputs": [
    {
     "data": {
      "text/plain": [
       "0.10784323289546859"
      ]
     },
     "execution_count": 50,
     "metadata": {},
     "output_type": "execute_result"
    }
   ],
   "source": [
    "rsquared(\n",
    "    merged_df[merged_df['phe'] > 100]['SCORE1_AVG'],\n",
    "    merged_df[merged_df['phe'] > 100]['phe']\n",
    ")"
   ]
  },
  {
   "cell_type": "code",
   "execution_count": 61,
   "metadata": {},
   "outputs": [],
   "source": [
    "merged2 = merged_df.merge(\n",
    "    covar_df, on='IID'\n",
    ")"
   ]
  },
  {
   "cell_type": "code",
   "execution_count": 63,
   "metadata": {},
   "outputs": [
    {
     "data": {
      "text/html": [
       "<div>\n",
       "<style scoped>\n",
       "    .dataframe tbody tr th:only-of-type {\n",
       "        vertical-align: middle;\n",
       "    }\n",
       "\n",
       "    .dataframe tbody tr th {\n",
       "        vertical-align: top;\n",
       "    }\n",
       "\n",
       "    .dataframe thead th {\n",
       "        text-align: right;\n",
       "    }\n",
       "</style>\n",
       "<table border=\"1\" class=\"dataframe\">\n",
       "  <thead>\n",
       "    <tr style=\"text-align: right;\">\n",
       "      <th></th>\n",
       "      <th>IID</th>\n",
       "      <th>NMISS_ALLELE_CT</th>\n",
       "      <th>NAMED_ALLELE_DOSAGE_SUM</th>\n",
       "      <th>SCORE1_AVG</th>\n",
       "      <th>phe</th>\n",
       "      <th>age</th>\n",
       "      <th>sex</th>\n",
       "      <th>PC1</th>\n",
       "      <th>PC2</th>\n",
       "      <th>PC3</th>\n",
       "      <th>PC4</th>\n",
       "    </tr>\n",
       "  </thead>\n",
       "  <tbody>\n",
       "    <tr>\n",
       "      <th>0</th>\n",
       "      <td>1000028</td>\n",
       "      <td>27000</td>\n",
       "      <td>5338</td>\n",
       "      <td>0.000070</td>\n",
       "      <td>176.0</td>\n",
       "      <td>54.0</td>\n",
       "      <td>0</td>\n",
       "      <td>-13.9881</td>\n",
       "      <td>3.69742</td>\n",
       "      <td>-0.379325</td>\n",
       "      <td>2.415610</td>\n",
       "    </tr>\n",
       "    <tr>\n",
       "      <th>1</th>\n",
       "      <td>1000034</td>\n",
       "      <td>26434</td>\n",
       "      <td>5241</td>\n",
       "      <td>0.000082</td>\n",
       "      <td>182.0</td>\n",
       "      <td>68.0</td>\n",
       "      <td>1</td>\n",
       "      <td>-12.8332</td>\n",
       "      <td>2.76107</td>\n",
       "      <td>-1.569210</td>\n",
       "      <td>0.666705</td>\n",
       "    </tr>\n",
       "    <tr>\n",
       "      <th>2</th>\n",
       "      <td>1000045</td>\n",
       "      <td>27096</td>\n",
       "      <td>5394</td>\n",
       "      <td>-0.000040</td>\n",
       "      <td>156.0</td>\n",
       "      <td>79.0</td>\n",
       "      <td>0</td>\n",
       "      <td>-14.0366</td>\n",
       "      <td>6.47430</td>\n",
       "      <td>-0.437916</td>\n",
       "      <td>4.497090</td>\n",
       "    </tr>\n",
       "    <tr>\n",
       "      <th>3</th>\n",
       "      <td>1000052</td>\n",
       "      <td>27034</td>\n",
       "      <td>5370</td>\n",
       "      <td>0.000079</td>\n",
       "      <td>159.0</td>\n",
       "      <td>72.0</td>\n",
       "      <td>0</td>\n",
       "      <td>-15.4658</td>\n",
       "      <td>3.81758</td>\n",
       "      <td>-0.301443</td>\n",
       "      <td>-0.635698</td>\n",
       "    </tr>\n",
       "    <tr>\n",
       "      <th>4</th>\n",
       "      <td>1000076</td>\n",
       "      <td>26986</td>\n",
       "      <td>5425</td>\n",
       "      <td>0.000127</td>\n",
       "      <td>175.0</td>\n",
       "      <td>72.0</td>\n",
       "      <td>1</td>\n",
       "      <td>-11.1046</td>\n",
       "      <td>1.52203</td>\n",
       "      <td>-1.565340</td>\n",
       "      <td>5.450450</td>\n",
       "    </tr>\n",
       "  </tbody>\n",
       "</table>\n",
       "</div>"
      ],
      "text/plain": [
       "       IID  NMISS_ALLELE_CT  NAMED_ALLELE_DOSAGE_SUM  SCORE1_AVG    phe   age  \\\n",
       "0  1000028            27000                     5338    0.000070  176.0  54.0   \n",
       "1  1000034            26434                     5241    0.000082  182.0  68.0   \n",
       "2  1000045            27096                     5394   -0.000040  156.0  79.0   \n",
       "3  1000052            27034                     5370    0.000079  159.0  72.0   \n",
       "4  1000076            26986                     5425    0.000127  175.0  72.0   \n",
       "\n",
       "   sex      PC1      PC2       PC3       PC4  \n",
       "0    0 -13.9881  3.69742 -0.379325  2.415610  \n",
       "1    1 -12.8332  2.76107 -1.569210  0.666705  \n",
       "2    0 -14.0366  6.47430 -0.437916  4.497090  \n",
       "3    0 -15.4658  3.81758 -0.301443 -0.635698  \n",
       "4    1 -11.1046  1.52203 -1.565340  5.450450  "
      ]
     },
     "execution_count": 63,
     "metadata": {},
     "output_type": "execute_result"
    }
   ],
   "source": [
    "merged2.head()"
   ]
  },
  {
   "cell_type": "code",
   "execution_count": 64,
   "metadata": {},
   "outputs": [],
   "source": [
    "from sklearn.linear_model import LinearRegression"
   ]
  },
  {
   "cell_type": "code",
   "execution_count": 67,
   "metadata": {},
   "outputs": [],
   "source": [
    "X = merged2[['age', 'sex', 'PC1', 'PC2', 'PC3', 'PC4']].values"
   ]
  },
  {
   "cell_type": "code",
   "execution_count": 70,
   "metadata": {},
   "outputs": [],
   "source": [
    "y = np.array(merged2['phe'])"
   ]
  },
  {
   "cell_type": "code",
   "execution_count": 71,
   "metadata": {},
   "outputs": [],
   "source": [
    "reg = LinearRegression().fit(X, y)"
   ]
  },
  {
   "cell_type": "code",
   "execution_count": 72,
   "metadata": {},
   "outputs": [
    {
     "data": {
      "text/plain": [
       "array([-1.63201178e-01,  1.32173668e+01,  4.01935167e-02, -4.93185741e-03,\n",
       "        2.78813948e-04, -1.47628213e-01])"
      ]
     },
     "execution_count": 72,
     "metadata": {},
     "output_type": "execute_result"
    }
   ],
   "source": [
    "reg.coef_"
   ]
  },
  {
   "cell_type": "code",
   "execution_count": 73,
   "metadata": {},
   "outputs": [],
   "source": [
    "merged2['residuals'] = y - reg.predict(X)"
   ]
  },
  {
   "cell_type": "code",
   "execution_count": 75,
   "metadata": {},
   "outputs": [
    {
     "data": {
      "text/plain": [
       "<matplotlib.collections.PathCollection at 0x7fd38bb2ba58>"
      ]
     },
     "execution_count": 75,
     "metadata": {},
     "output_type": "execute_result"
    },
    {
     "data": {
      "image/png": "[encoded data removed]",
      "text/plain": [
       "<Figure size 432x288 with 1 Axes>"
      ]
     },
     "metadata": {
      "needs_background": "light"
     },
     "output_type": "display_data"
    }
   ],
   "source": [
    "plt.scatter(\n",
    "    merged2['SCORE1_AVG'],\n",
    "    merged2['residuals']\n",
    ")"
   ]
  },
  {
   "cell_type": "code",
   "execution_count": 76,
   "metadata": {},
   "outputs": [
    {
     "data": {
      "text/plain": [
       "0.08529141174296834"
      ]
     },
     "execution_count": 76,
     "metadata": {},
     "output_type": "execute_result"
    }
   ],
   "source": [
    "rsquared(\n",
    "    merged2['SCORE1_AVG'],\n",
    "    merged2['residuals']\n",
    "\n",
    ")"
   ]
  },
  {
   "cell_type": "code",
   "execution_count": 82,
   "metadata": {},
   "outputs": [],
   "source": [
    "full_model = LinearRegression().fit(\n",
    "    merged2[merged2['phe'] != -9][['age', 'sex', 'PC1', 'PC2', 'PC3', 'PC4', 'SCORE1_AVG']].values,\n",
    "    np.array(merged2[merged2['phe'] != -9]['phe'])\n",
    ")\n"
   ]
  },
  {
   "cell_type": "code",
   "execution_count": 83,
   "metadata": {},
   "outputs": [
    {
     "data": {
      "text/plain": [
       "0.638325979670902"
      ]
     },
     "execution_count": 83,
     "metadata": {},
     "output_type": "execute_result"
    }
   ],
   "source": [
    "full_model.score(\n",
    "    merged2[merged2['phe'] != -9][['age', 'sex', 'PC1', 'PC2', 'PC3', 'PC4', 'SCORE1_AVG']].values,\n",
    "    np.array(merged2[merged2['phe'] != -9]['phe'])    \n",
    ")"
   ]
  },
  {
   "cell_type": "code",
   "execution_count": null,
   "metadata": {},
   "outputs": [],
   "source": []
  }
 ],
 "metadata": {
  "kernelspec": {
   "display_name": "Python 3",
   "language": "python",
   "name": "python3"
  },
  "language_info": {
   "codemirror_mode": {
    "name": "ipython",
    "version": 3
   },
   "file_extension": ".py",
   "mimetype": "text/x-python",
   "name": "python",
   "nbconvert_exporter": "python",
   "pygments_lexer": "ipython3",
   "version": "3.7.1"
  }
 },
 "nbformat": 4,
 "nbformat_minor": 2
}

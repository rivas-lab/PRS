{
 "cells": [
  {
   "cell_type": "code",
   "execution_count": 1,
   "metadata": {},
   "outputs": [],
   "source": [
    "suppressWarnings(suppressPackageStartupMessages({\n",
    "    library(tidyverse)\n",
    "    library(data.table)\n",
    "}))\n"
   ]
  },
  {
   "cell_type": "code",
   "execution_count": 2,
   "metadata": {},
   "outputs": [],
   "source": [
    "covar_f='/oak/stanford/groups/mrivas/ukbb24983/sqc/population_stratification_w24983_20200828/ukb24983_GWAS_covar.20200828.phe'\n",
    "PRS_f='/oak/stanford/groups/mrivas/projects/PRS/private_output/20200908_PRS_map_test/7_pfactor_v5/%s/2_refit/%s.sscore.zst'\n",
    "master_PRS_f='/oak/stanford/groups/mrivas/projects/PRS/private_output/20200930_GWAS_rare/ukb24983_GWAS_covar.20200828.PRSs.phe'\n"
   ]
  },
  {
   "cell_type": "code",
   "execution_count": 3,
   "metadata": {},
   "outputs": [],
   "source": [
    "source('/oak/stanford/groups/mrivas/users/ytanigaw/repos/rivas-lab/snpnet/helpers/snpnet_misc.R')\n"
   ]
  },
  {
   "cell_type": "code",
   "execution_count": 4,
   "metadata": {},
   "outputs": [],
   "source": [
    "c('INI50', 'INI21001', 'HC269', 'HC382') %>%\n",
    "lapply(function(gbeid){\n",
    "    read_PRS(sprintf(PRS_f, gbeid, gbeid)) %>% rename(!!sprintf('PRS_%s', gbeid) := 'geno_score')\n",
    "}) %>% reduce(function(x, y){inner_join(x, y, by=c('FID', 'IID'))}) -> PRS_df\n"
   ]
  },
  {
   "cell_type": "code",
   "execution_count": 5,
   "metadata": {},
   "outputs": [],
   "source": [
    "covar_f %>% fread(colClasses = c('#FID'='character', 'IID'='character')) %>%\n",
    "rename('FID'='#FID') -> covar_df\n"
   ]
  },
  {
   "cell_type": "code",
   "execution_count": 6,
   "metadata": {},
   "outputs": [],
   "source": [
    "covar_df %>% left_join(PRS_df, by=c('FID', 'IID')) %>%\n",
    "rename('#FID' = 'FID') %>%\n",
    "fwrite(master_PRS_f, sep='\\t', na = \"NA\", quote=F)\n"
   ]
  },
  {
   "cell_type": "code",
   "execution_count": null,
   "metadata": {},
   "outputs": [],
   "source": []
  }
 ],
 "metadata": {
  "kernelspec": {
   "display_name": "R",
   "language": "R",
   "name": "ir"
  },
  "language_info": {
   "codemirror_mode": "r",
   "file_extension": ".r",
   "mimetype": "text/x-r-source",
   "name": "R",
   "pygments_lexer": "r",
   "version": "3.6.2"
  }
 },
 "nbformat": 4,
 "nbformat_minor": 4
}

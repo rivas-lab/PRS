{
 "cells": [
  {
   "cell_type": "code",
   "execution_count": 1,
   "metadata": {},
   "outputs": [
    {
     "name": "stderr",
     "output_type": "stream",
     "text": [
      "Loading required package: tidyverse\n",
      "── \u001b[1mAttaching packages\u001b[22m ─────────────────────────────────────── tidyverse 1.2.1 ──\n",
      "\u001b[32m✔\u001b[39m \u001b[34mggplot2\u001b[39m 3.2.1     \u001b[32m✔\u001b[39m \u001b[34mpurrr  \u001b[39m 0.3.2\n",
      "\u001b[32m✔\u001b[39m \u001b[34mtibble \u001b[39m 2.1.3     \u001b[32m✔\u001b[39m \u001b[34mdplyr  \u001b[39m 0.8.3\n",
      "\u001b[32m✔\u001b[39m \u001b[34mtidyr  \u001b[39m 1.0.0     \u001b[32m✔\u001b[39m \u001b[34mstringr\u001b[39m 1.4.0\n",
      "\u001b[32m✔\u001b[39m \u001b[34mreadr  \u001b[39m 1.3.1     \u001b[32m✔\u001b[39m \u001b[34mforcats\u001b[39m 0.4.0\n",
      "── \u001b[1mConflicts\u001b[22m ────────────────────────────────────────── tidyverse_conflicts() ──\n",
      "\u001b[31m✖\u001b[39m \u001b[34mdplyr\u001b[39m::\u001b[32mfilter()\u001b[39m masks \u001b[34mstats\u001b[39m::filter()\n",
      "\u001b[31m✖\u001b[39m \u001b[34mdplyr\u001b[39m::\u001b[32mlag()\u001b[39m    masks \u001b[34mstats\u001b[39m::lag()\n",
      "Loading required package: data.table\n",
      "\n",
      "Attaching package: ‘data.table’\n",
      "\n",
      "The following objects are masked from ‘package:dplyr’:\n",
      "\n",
      "    between, first, last\n",
      "\n",
      "The following object is masked from ‘package:purrr’:\n",
      "\n",
      "    transpose\n",
      "\n"
     ]
    }
   ],
   "source": [
    "require(tidyverse)\n",
    "require(data.table)\n"
   ]
  },
  {
   "cell_type": "code",
   "execution_count": 23,
   "metadata": {},
   "outputs": [],
   "source": [
    "compute_covar_score <- function(gwas_covars_df, covar_betas_df){    \n",
    "    gwas_covars_df %>% \n",
    "    select(covar_betas_df %>% select(ID) %>% pull()) %>%\n",
    "    data.matrix() %*% \n",
    "    (covar_betas_df %>% column_to_rownames('ID') %>% data.matrix()) %>%\n",
    "    as.data.frame() %>%\n",
    "    bind_cols(gwas_covars_df %>% select(FID, IID)) %>%\n",
    "    select(FID, IID, BETA) %>%\n",
    "    rename('covar_score' = 'BETA')\n",
    "}"
   ]
  },
  {
   "cell_type": "code",
   "execution_count": 2,
   "metadata": {},
   "outputs": [],
   "source": [
    "scores_f <- '/oak/stanford/groups/mrivas/projects/PRS/private_output/snpnet_PRS/cancer_20190303/8_score_all/cancer1060.sscore'\n",
    "scores_df <- fread(cmd=paste0(\n",
    "    'cat ', scores_f, \" | awk -v OFS='\\t' '{print $1, $2, $NF}'\",\n",
    "    ' | sed -e \"s/^#//g\"'\n",
    "))\n"
   ]
  },
  {
   "cell_type": "code",
   "execution_count": 7,
   "metadata": {},
   "outputs": [],
   "source": [
    "covar_betas_f <- '/oak/stanford/groups/mrivas/projects/PRS/private_output/snpnet_PRS/cancer_20190303/3_snpnet/cancer1060.covars.tsv.gz'\n",
    "covar_betas_df <- fread(cmd=paste0(\n",
    "    'zcat ', covar_betas_f, \" | awk -v OFS='\\t' '{print $1, $2}'\"\n",
    "))\n"
   ]
  },
  {
   "cell_type": "code",
   "execution_count": 10,
   "metadata": {},
   "outputs": [],
   "source": [
    "gwas_covars_f <- '/oak/stanford/groups/mrivas/ukbb24983/sqc/ukb24983_GWAS_covar.pre.20190805.phe'\n",
    "gwas_covars_df <- fread(gwas_covars_f)\n"
   ]
  },
  {
   "cell_type": "code",
   "execution_count": 50,
   "metadata": {},
   "outputs": [],
   "source": [
    "phe_f <- '/oak/stanford/groups/mrivas/projects/PRS/private_output/snpnet_PRS/cancer_20190303/0_input/cancer1060.phe'\n",
    "phe_df <- fread(phe_f)\n",
    "colnames(phe_df) <- c('FID', 'IID', 'phe')\n"
   ]
  },
  {
   "cell_type": "code",
   "execution_count": 51,
   "metadata": {},
   "outputs": [
    {
     "data": {
      "text/html": [
       "<table>\n",
       "<caption>A data.table: 6 × 3</caption>\n",
       "<thead>\n",
       "\t<tr><th scope=col>FID</th><th scope=col>IID</th><th scope=col>phe</th></tr>\n",
       "\t<tr><th scope=col>&lt;chr&gt;</th><th scope=col>&lt;chr&gt;</th><th scope=col>&lt;int&gt;</th></tr>\n",
       "</thead>\n",
       "<tbody>\n",
       "\t<tr><td>-1</td><td>-1</td><td> 1</td></tr>\n",
       "\t<tr><td>-2</td><td>-2</td><td> 1</td></tr>\n",
       "\t<tr><td>-3</td><td>-3</td><td>-9</td></tr>\n",
       "\t<tr><td>-4</td><td>-4</td><td>-9</td></tr>\n",
       "\t<tr><td>-5</td><td>-5</td><td> 1</td></tr>\n",
       "\t<tr><td>-6</td><td>-6</td><td> 1</td></tr>\n",
       "</tbody>\n",
       "</table>\n"
      ],
      "text/latex": [
       "A data.table: 6 × 3\n",
       "\\begin{tabular}{r|lll}\n",
       " FID & IID & phe\\\\\n",
       " <chr> & <chr> & <int>\\\\\n",
       "\\hline\n",
       "\t -1 & -1 &  1\\\\\n",
       "\t -2 & -2 &  1\\\\\n",
       "\t -3 & -3 & -9\\\\\n",
       "\t -4 & -4 & -9\\\\\n",
       "\t -5 & -5 &  1\\\\\n",
       "\t -6 & -6 &  1\\\\\n",
       "\\end{tabular}\n"
      ],
      "text/markdown": [
       "\n",
       "A data.table: 6 × 3\n",
       "\n",
       "| FID &lt;chr&gt; | IID &lt;chr&gt; | phe &lt;int&gt; |\n",
       "|---|---|---|\n",
       "| -1 | -1 |  1 |\n",
       "| -2 | -2 |  1 |\n",
       "| -3 | -3 | -9 |\n",
       "| -4 | -4 | -9 |\n",
       "| -5 | -5 |  1 |\n",
       "| -6 | -6 |  1 |\n",
       "\n"
      ],
      "text/plain": [
       "  FID IID phe\n",
       "1 -1  -1   1 \n",
       "2 -2  -2   1 \n",
       "3 -3  -3  -9 \n",
       "4 -4  -4  -9 \n",
       "5 -5  -5   1 \n",
       "6 -6  -6   1 "
      ]
     },
     "metadata": {},
     "output_type": "display_data"
    }
   ],
   "source": [
    "phe_df %>% head()"
   ]
  },
  {
   "cell_type": "code",
   "execution_count": 52,
   "metadata": {},
   "outputs": [],
   "source": [
    "all_df <- scores_df %>%\n",
    "inner_join(\n",
    "    compute_covar_score(gwas_covars_df, covar_betas_df),\n",
    "    by=c('FID', 'IID')\n",
    ") %>%\n",
    "rename('geno_score' = 'SCORE1_SUM') %>%\n",
    "mutate(FID = as.character(FID), IID = as.character(IID)) %>%\n",
    "inner_join(\n",
    "    phe_df, by=c('FID', 'IID')\n",
    ")\n"
   ]
  },
  {
   "cell_type": "code",
   "execution_count": 53,
   "metadata": {},
   "outputs": [
    {
     "data": {
      "text/html": [
       "<ol class=list-inline>\n",
       "\t<li>488377</li>\n",
       "\t<li>5</li>\n",
       "</ol>\n"
      ],
      "text/latex": [
       "\\begin{enumerate*}\n",
       "\\item 488377\n",
       "\\item 5\n",
       "\\end{enumerate*}\n"
      ],
      "text/markdown": [
       "1. 488377\n",
       "2. 5\n",
       "\n",
       "\n"
      ],
      "text/plain": [
       "[1] 488377      5"
      ]
     },
     "metadata": {},
     "output_type": "display_data"
    }
   ],
   "source": [
    "all_df %>% dim()"
   ]
  },
  {
   "cell_type": "code",
   "execution_count": 54,
   "metadata": {},
   "outputs": [],
   "source": [
    "# pop_test_f <- '/oak/stanford/groups/mrivas/ukbb24983/sqc/population_stratification/split/ukb24983_white_british_test.phe'\n",
    "pop_test_f <- '/oak/stanford/groups/mrivas/projects/PRS/private_output/snpnet_PRS/cancer_20190303/1_split/cancer1060.test'\n"
   ]
  },
  {
   "cell_type": "code",
   "execution_count": 55,
   "metadata": {},
   "outputs": [],
   "source": [
    "pop_test_df <- fread(pop_test_f)\n",
    "colnames(pop_test_df) <- c('FID', 'IID')\n"
   ]
  },
  {
   "cell_type": "code",
   "execution_count": 62,
   "metadata": {},
   "outputs": [],
   "source": [
    "test_df <- all_df %>% \n",
    "inner_join(pop_test_df %>% mutate(FID = as.character(FID), IID = as.character(IID)), by=c('FID', 'IID')) %>%\n",
    "mutate(\n",
    "    phe = phe - 1,\n",
    "    Percentile  = rank(-geno_score) / n(),\n",
    ")\n"
   ]
  },
  {
   "cell_type": "code",
   "execution_count": 64,
   "metadata": {},
   "outputs": [],
   "source": [
    "middle_df <- test_df %>% \n",
    "filter(0.4 < Percentile, Percentile <= 0.6) %>%\n",
    "mutate(PRS = F) %>% \n",
    "select(FID, IID, phe, covar_score, PRS)    \n"
   ]
  },
  {
   "cell_type": "code",
   "execution_count": 77,
   "metadata": {},
   "outputs": [],
   "source": [
    "compute_OR <- function(df, l_bin, u_bin, middle_df){\n",
    "    stratified_df <- df %>% \n",
    "    filter(l_bin < Percentile, Percentile <= u_bin) %>%\n",
    "    mutate(PRS = T) %>% select(FID, IID, phe, covar_score, PRS)    \n",
    "\n",
    "    glmfit <- glm (\n",
    "        phe ~ covar_score + as.factor(PRS),\n",
    "        bind_rows(middle_df, stratified_df),\n",
    "        family=binomial(link=\"logit\")\n",
    "    )\n",
    "    \n",
    "    LOR    <- summary(glmfit)$coefficients[3,1]\n",
    "    se_LOR <- summary(glmfit)$coefficients[3,2]   \n",
    "    OR     <- exp(LOR)    \n",
    "    l_OR   <- exp(LOR - 1.96 * se_LOR)\n",
    "    u_OR   <- exp(LOR + 1.96 * se_LOR)\n",
    "        \n",
    "    data.frame(\n",
    "        l_bin = l_bin,\n",
    "        u_bin = u_bin,\n",
    "        OR   = OR,\n",
    "        SE_LOR = se_LOR,\n",
    "        l_OR = l_OR,\n",
    "        u_OR = u_OR,\n",
    "        OR_str = sprintf('%.3f (%.3f-%.3f)', OR, l_OR, u_OR)\n",
    "    ) %>%\n",
    "    mutate(OR_str = as.character(OR_str))\n",
    "}\n"
   ]
  },
  {
   "cell_type": "code",
   "execution_count": 79,
   "metadata": {},
   "outputs": [],
   "source": [
    "compute_tbl <- function(df, func){\n",
    "    middle_df <- df %>% \n",
    "    filter(0.4 < Percentile, Percentile <= 0.6) %>%\n",
    "    mutate(PRS = F) %>% \n",
    "    select(FID, IID, phe, covar_score, PRS)    \n",
    "\n",
    "    bind_rows(\n",
    "        func(df,   0, .01, middle_df),\n",
    "        func(df, .01, .05, middle_df),\n",
    "        lapply(2:19, function(x){\n",
    "            func(df, (x-1)/20, x/20, middle_df)\n",
    "        }),\n",
    "        func(df, .95, .99, middle_df),\n",
    "        func(df, .99, 1, middle_df),\n",
    "    )    \n",
    "}\n"
   ]
  },
  {
   "cell_type": "code",
   "execution_count": 87,
   "metadata": {},
   "outputs": [],
   "source": [
    "generate_plot <- function(df, GBE_ID, phe_label, middle_line){\n",
    "    p <- df %>%\n",
    "    mutate(\n",
    "        SE_LOR = if_else(SE_LOR > 10, NA_real_, SE_LOR),\n",
    "        l_OR = if_else(SE_LOR > 10, NA_real_, l_OR),\n",
    "        u_OR = if_else(SE_LOR > 10, NA_real_, u_OR),\n",
    "#             l_SE_OR = exp(log(OR) - SE_LOR),\n",
    "#             u_SE_OR = exp(log(OR) + SE_LOR),            \n",
    "        x_ticks_labels = paste0('[', 100 * l_bin, '% - ', 100 * u_bin, '%]')\n",
    "    ) %>%\n",
    "    ggplot(aes(x=reorder(x_ticks_labels, -u_bin), y=OR)) +\n",
    "    geom_point() + \n",
    "#         geom_errorbar(aes(ymin = l_SE_OR, ymax = u_SE_OR)) + \n",
    "    geom_errorbar(aes(ymin = l_OR, ymax = u_OR)) +         \n",
    "#     geom_hline(yintercept = middle_line, color='gray')+\n",
    "    theme_bw() + \n",
    "    theme(\n",
    "        legend.position=c(.15, .9),\n",
    "        axis.text.x = element_text(angle = 90, hjust = 1, vjust=.5)\n",
    "    ) +\n",
    "    labs(\n",
    "        title = sprintf('%s (%s)', GBE_ID, phe_label),\n",
    "        x = 'The polygenic risk score percentile',\n",
    "        y = 'Odds ratio',\n",
    "        color = 'Polygenic risk score'\n",
    "    )\n",
    "        \n",
    "    return(p)\n",
    "}"
   ]
  },
  {
   "cell_type": "code",
   "execution_count": 80,
   "metadata": {},
   "outputs": [],
   "source": [
    "tbl <- compute_tbl(test_df, compute_OR)"
   ]
  },
  {
   "cell_type": "code",
   "execution_count": 93,
   "metadata": {},
   "outputs": [],
   "source": [
    "tbl %>% fwrite('cancer1060.tsv', sep='\\t')"
   ]
  },
  {
   "cell_type": "code",
   "execution_count": 89,
   "metadata": {},
   "outputs": [],
   "source": [
    "p <- generate_plot(\n",
    "    tbl, 'cancer1060', 'non-melanoma skin cancer', \n",
    "    test_df %>% select(phe) %>% pull() %>% mean()\n",
    ")\n"
   ]
  },
  {
   "cell_type": "code",
   "execution_count": 92,
   "metadata": {},
   "outputs": [
    {
     "name": "stderr",
     "output_type": "stream",
     "text": [
      "Saving 6.67 x 6.67 in image\n"
     ]
    },
    {
     "data": {
      "image/png": "[encoded data removed]",
      "text/plain": [
       "plot without title"
      ]
     },
     "metadata": {},
     "output_type": "display_data"
    }
   ],
   "source": [
    "p + ggsave('cancer1060.png')"
   ]
  },
  {
   "cell_type": "code",
   "execution_count": 91,
   "metadata": {},
   "outputs": [
    {
     "data": {
      "text/html": [
       "'/oak/stanford/groups/mrivas/users/ytanigaw/repos/rivas-lab/PRS/notebook/20191009_ASHG-2019-Agarwala-CTLA4'"
      ],
      "text/latex": [
       "'/oak/stanford/groups/mrivas/users/ytanigaw/repos/rivas-lab/PRS/notebook/20191009\\_ASHG-2019-Agarwala-CTLA4'"
      ],
      "text/markdown": [
       "'/oak/stanford/groups/mrivas/users/ytanigaw/repos/rivas-lab/PRS/notebook/20191009_ASHG-2019-Agarwala-CTLA4'"
      ],
      "text/plain": [
       "[1] \"/oak/stanford/groups/mrivas/users/ytanigaw/repos/rivas-lab/PRS/notebook/20191009_ASHG-2019-Agarwala-CTLA4\""
      ]
     },
     "metadata": {},
     "output_type": "display_data"
    }
   ],
   "source": [
    "getwd()"
   ]
  },
  {
   "cell_type": "code",
   "execution_count": 94,
   "metadata": {},
   "outputs": [
    {
     "name": "stderr",
     "output_type": "stream",
     "text": [
      "Saving 6.67 x 6.67 in image\n"
     ]
    },
    {
     "data": {
      "image/png": "[encoded data removed]",
      "text/plain": [
       "plot without title"
      ]
     },
     "metadata": {},
     "output_type": "display_data"
    }
   ],
   "source": [
    "p + ggsave('cancer1060.pdf')"
   ]
  },
  {
   "cell_type": "code",
   "execution_count": null,
   "metadata": {},
   "outputs": [],
   "source": []
  }
 ],
 "metadata": {
  "kernelspec": {
   "display_name": "R",
   "language": "R",
   "name": "ir"
  },
  "language_info": {
   "codemirror_mode": "r",
   "file_extension": ".r",
   "mimetype": "text/x-r-source",
   "name": "R",
   "pygments_lexer": "r",
   "version": "3.6.1"
  }
 },
 "nbformat": 4,
 "nbformat_minor": 4
}

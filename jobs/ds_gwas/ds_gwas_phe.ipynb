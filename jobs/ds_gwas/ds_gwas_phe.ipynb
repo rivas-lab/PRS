{
 "cells": [
  {
   "cell_type": "code",
   "execution_count": 1,
   "metadata": {},
   "outputs": [
    {
     "name": "stderr",
     "output_type": "stream",
     "text": [
      "── Attaching packages ─────────────────────────────────────── tidyverse 1.2.1 ──\n",
      "✔ ggplot2 3.1.0       ✔ purrr   0.3.1  \n",
      "✔ tibble  2.0.1       ✔ dplyr   0.8.0.1\n",
      "✔ tidyr   0.8.3       ✔ stringr 1.4.0  \n",
      "✔ readr   1.3.1       ✔ forcats 0.4.0  \n",
      "── Conflicts ────────────────────────────────────────── tidyverse_conflicts() ──\n",
      "✖ dplyr::filter() masks stats::filter()\n",
      "✖ dplyr::lag()    masks stats::lag()\n",
      "\n",
      "Attaching package: ‘data.table’\n",
      "\n",
      "The following objects are masked from ‘package:dplyr’:\n",
      "\n",
      "    between, first, last\n",
      "\n",
      "The following object is masked from ‘package:purrr’:\n",
      "\n",
      "    transpose\n",
      "\n"
     ]
    }
   ],
   "source": [
    "library(tidyverse)\n",
    "library(data.table)\n"
   ]
  },
  {
   "cell_type": "code",
   "execution_count": 2,
   "metadata": {},
   "outputs": [],
   "source": [
    "GWAS_covar_f <- '/oak/stanford/groups/mrivas/ukbb24983/sqc/population_stratification_w24983_20190809/ukb24983_GWAS_covar.20190809.phe'\n"
   ]
  },
  {
   "cell_type": "code",
   "execution_count": 13,
   "metadata": {},
   "outputs": [],
   "source": [
    "phe_dir <- '/oak/stanford/groups/mrivas/users/gmcinnes/projects/ds_gwas/rivas_ids'\n",
    "phe_fs <- list()\n",
    "phe_fs[['C10AB_v_C10AA']] <- file.path(phe_dir, 'C10AB_case_v_C10AA_control_full.phe')\n",
    "phe_fs[['C10AX_v_C10AA']] <- file.path(phe_dir, 'C10AX_case_v_C10AA_control_full.phe')\n",
    "phe_fs[['N06AA_v_N06AB']] <- file.path(phe_dir, 'N06AA_case_v_N06AB_control_full.phe')\n",
    "phe_fs[['other_v_C10AA']] <- file.path(phe_dir, 'other_case_v_C10AA_control_full.phe')\n"
   ]
  },
  {
   "cell_type": "code",
   "execution_count": 17,
   "metadata": {},
   "outputs": [],
   "source": [
    "read_phe <- function(phe_id, phe_file){\n",
    "    df <- fread(phe_file, sep=' ', data.table=F, stringsAsFactors=F, header=F)\n",
    "    colnames(df) <- c('FID', 'IID', 'phe')\n",
    "    df %>% mutate(phe_id = phe_id)    \n",
    "}\n"
   ]
  },
  {
   "cell_type": "code",
   "execution_count": 7,
   "metadata": {},
   "outputs": [],
   "source": [
    "GWAS_covar_df <- fread(GWAS_covar_f, sep='\\t', data.table=F, stringsAsFactors=F)\n"
   ]
  },
  {
   "cell_type": "code",
   "execution_count": 19,
   "metadata": {},
   "outputs": [],
   "source": [
    "phe_df <- bind_rows(\n",
    "    read_phe('C10AB_v_C10AA', phe_fs[['C10AB_v_C10AA']]),\n",
    "    read_phe('C10AX_v_C10AA', phe_fs[['C10AX_v_C10AA']]),\n",
    "    read_phe('N06AA_v_N06AB', phe_fs[['N06AA_v_N06AB']]),\n",
    "    read_phe('other_v_C10AA', phe_fs[['other_v_C10AA']])\n",
    ") %>% \n",
    "spread(phe_id, phe) %>%\n",
    "inner_join(\n",
    "    GWAS_covar_df, by=c('FID', 'IID')\n",
    ")\n"
   ]
  },
  {
   "cell_type": "code",
   "execution_count": 24,
   "metadata": {},
   "outputs": [],
   "source": [
    "df1 <- read_phe('C10AB_v_C10AA', phe_fs[['C10AB_v_C10AA']])\n",
    "df2 <- read_phe('C10AX_v_C10AA', phe_fs[['C10AX_v_C10AA']])\n",
    "df3 <- read_phe('N06AA_v_N06AB', phe_fs[['N06AA_v_N06AB']])\n",
    "df4 <- read_phe('other_v_C10AA', phe_fs[['other_v_C10AA']])\n"
   ]
  },
  {
   "cell_type": "code",
   "execution_count": 25,
   "metadata": {},
   "outputs": [
    {
     "name": "stdout",
     "output_type": "stream",
     "text": [
      "[1] 41408     4\n",
      "[1] 41646     4\n",
      "[1] 11732     4\n",
      "[1] 41972     4\n"
     ]
    }
   ],
   "source": [
    "df1 %>% dim() %>% print()\n",
    "df2 %>% dim() %>% print()\n",
    "df3 %>% dim() %>% print()\n",
    "df4 %>% dim() %>% print()"
   ]
  },
  {
   "cell_type": "code",
   "execution_count": 26,
   "metadata": {},
   "outputs": [
    {
     "data": {
      "text/html": [
       "<ol class=list-inline>\n",
       "\t<li>51659</li>\n",
       "\t<li>91</li>\n",
       "</ol>\n"
      ],
      "text/latex": [
       "\\begin{enumerate*}\n",
       "\\item 51659\n",
       "\\item 91\n",
       "\\end{enumerate*}\n"
      ],
      "text/markdown": [
       "1. 51659\n",
       "2. 91\n",
       "\n",
       "\n"
      ],
      "text/plain": [
       "[1] 51659    91"
      ]
     },
     "metadata": {},
     "output_type": "display_data"
    }
   ],
   "source": [
    "phe_df %>% dim()"
   ]
  },
  {
   "cell_type": "code",
   "execution_count": 29,
   "metadata": {},
   "outputs": [
    {
     "data": {
      "text/html": [
       "'/oak/stanford/groups/mrivas/users/ytanigaw/repos/rivas-lab/PRS/jobs/ds_gwas'"
      ],
      "text/latex": [
       "'/oak/stanford/groups/mrivas/users/ytanigaw/repos/rivas-lab/PRS/jobs/ds\\_gwas'"
      ],
      "text/markdown": [
       "'/oak/stanford/groups/mrivas/users/ytanigaw/repos/rivas-lab/PRS/jobs/ds_gwas'"
      ],
      "text/plain": [
       "[1] \"/oak/stanford/groups/mrivas/users/ytanigaw/repos/rivas-lab/PRS/jobs/ds_gwas\""
      ]
     },
     "metadata": {},
     "output_type": "display_data"
    }
   ],
   "source": [
    "getwd()"
   ]
  },
  {
   "cell_type": "code",
   "execution_count": null,
   "metadata": {},
   "outputs": [],
   "source": []
  }
 ],
 "metadata": {
  "kernelspec": {
   "display_name": "R 3.5 (module)",
   "language": "R",
   "name": "ir35ml"
  },
  "language_info": {
   "codemirror_mode": "r",
   "file_extension": ".r",
   "mimetype": "text/x-r-source",
   "name": "R",
   "pygments_lexer": "r",
   "version": "3.5.1"
  }
 },
 "nbformat": 4,
 "nbformat_minor": 2
}

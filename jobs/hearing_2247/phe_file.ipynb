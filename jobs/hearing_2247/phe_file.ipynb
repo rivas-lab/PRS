{
 "cells": [
  {
   "cell_type": "code",
   "execution_count": 34,
   "metadata": {},
   "outputs": [],
   "source": [
    "library(tidyverse)\n",
    "library(data.table)\n"
   ]
  },
  {
   "cell_type": "code",
   "execution_count": 35,
   "metadata": {},
   "outputs": [],
   "source": [
    "GWAS_covar_f <- '/oak/stanford/groups/mrivas/ukbb24983/sqc/population_stratification_w24983_20190809/ukb24983_GWAS_covar.20190809.phe'\n"
   ]
  },
  {
   "cell_type": "code",
   "execution_count": 36,
   "metadata": {},
   "outputs": [],
   "source": [
    "phe_fs <- list()\n",
    "phe_fs[['BIN_FC1002247']] <- '/oak/stanford/groups/mrivas/ukbb24983/phenotypedata/9796/24611/phe/BIN_FC1002247.phe'\n",
    "phe_fs[['BIN_FC3002247']] <- '/oak/stanford/groups/mrivas/ukbb24983/phenotypedata/9796/24611/phe/BIN_FC3002247.phe'\n"
   ]
  },
  {
   "cell_type": "code",
   "execution_count": 41,
   "metadata": {},
   "outputs": [],
   "source": [
    "read_phe <- function(phe_id, phe_file){\n",
    "    df <- fread(phe_file, sep='\\t', data.table=F, stringsAsFactors=F)\n",
    "    colnames(df) <- c('FID', 'IID', 'phe')\n",
    "    df %>% mutate(phe_id = phe_id)\n",
    "}"
   ]
  },
  {
   "cell_type": "code",
   "execution_count": 38,
   "metadata": {},
   "outputs": [],
   "source": [
    "GWAS_covar_df <- fread(GWAS_covar_f, sep='\\t', data.table=F, stringsAsFactors=F)\n"
   ]
  },
  {
   "cell_type": "code",
   "execution_count": 57,
   "metadata": {},
   "outputs": [],
   "source": [
    "phe_df <- bind_rows(\n",
    "    read_phe('BIN_FC1002247', phe_fs[['BIN_FC1002247']]),\n",
    "    read_phe('BIN_FC3002247', phe_fs[['BIN_FC3002247']])\n",
    ") %>%\n",
    "# mutate(phe = na_if(phe, -9), phe = phe - 1) %>%\n",
    "# replace_na(list(phe=-9)) %>%\n",
    "spread(phe_id, phe) %>%\n",
    "inner_join(GWAS_covar_df, by=c('FID', 'IID'))\n"
   ]
  },
  {
   "cell_type": "code",
   "execution_count": 58,
   "metadata": {},
   "outputs": [],
   "source": [
    "phe_df %>% fwrite('phe.tsv', sep='\\t', row.names = F, na='NA', quote=F)\n"
   ]
  },
  {
   "cell_type": "code",
   "execution_count": 59,
   "metadata": {},
   "outputs": [
    {
     "data": {
      "text/html": [
       "<table>\n",
       "<thead><tr><th scope=col>BIN_FC1002247</th><th scope=col>n</th></tr></thead>\n",
       "<tbody>\n",
       "\t<tr><td>-9    </td><td> 19181</td></tr>\n",
       "\t<tr><td> 1    </td><td>343948</td></tr>\n",
       "\t<tr><td> 2    </td><td>125166</td></tr>\n",
       "</tbody>\n",
       "</table>\n"
      ],
      "text/latex": [
       "\\begin{tabular}{r|ll}\n",
       " BIN\\_FC1002247 & n\\\\\n",
       "\\hline\n",
       "\t -9     &  19181\\\\\n",
       "\t  1     & 343948\\\\\n",
       "\t  2     & 125166\\\\\n",
       "\\end{tabular}\n"
      ],
      "text/markdown": [
       "\n",
       "| BIN_FC1002247 | n |\n",
       "|---|---|\n",
       "| -9     |  19181 |\n",
       "|  1     | 343948 |\n",
       "|  2     | 125166 |\n",
       "\n"
      ],
      "text/plain": [
       "  BIN_FC1002247 n     \n",
       "1 -9             19181\n",
       "2  1            343948\n",
       "3  2            125166"
      ]
     },
     "metadata": {},
     "output_type": "display_data"
    }
   ],
   "source": [
    "phe_df %>% count(BIN_FC1002247)"
   ]
  },
  {
   "cell_type": "code",
   "execution_count": 60,
   "metadata": {},
   "outputs": [
    {
     "data": {
      "text/html": [
       "<table>\n",
       "<thead><tr><th scope=col>BIN_FC3002247</th><th scope=col>n</th></tr></thead>\n",
       "<tbody>\n",
       "\t<tr><td>-9    </td><td> 19057</td></tr>\n",
       "\t<tr><td> 1    </td><td>343947</td></tr>\n",
       "\t<tr><td> 2    </td><td>125291</td></tr>\n",
       "</tbody>\n",
       "</table>\n"
      ],
      "text/latex": [
       "\\begin{tabular}{r|ll}\n",
       " BIN\\_FC3002247 & n\\\\\n",
       "\\hline\n",
       "\t -9     &  19057\\\\\n",
       "\t  1     & 343947\\\\\n",
       "\t  2     & 125291\\\\\n",
       "\\end{tabular}\n"
      ],
      "text/markdown": [
       "\n",
       "| BIN_FC3002247 | n |\n",
       "|---|---|\n",
       "| -9     |  19057 |\n",
       "|  1     | 343947 |\n",
       "|  2     | 125291 |\n",
       "\n"
      ],
      "text/plain": [
       "  BIN_FC3002247 n     \n",
       "1 -9             19057\n",
       "2  1            343947\n",
       "3  2            125291"
      ]
     },
     "metadata": {},
     "output_type": "display_data"
    }
   ],
   "source": [
    "phe_df %>% count(BIN_FC3002247)"
   ]
  },
  {
   "cell_type": "code",
   "execution_count": 1,
   "metadata": {},
   "outputs": [
    {
     "data": {
      "text/html": [
       "'/oak/stanford/groups/mrivas/users/ytanigaw/repos/rivas-lab/PRS/jobs/hearing_2247'"
      ],
      "text/latex": [
       "'/oak/stanford/groups/mrivas/users/ytanigaw/repos/rivas-lab/PRS/jobs/hearing\\_2247'"
      ],
      "text/markdown": [
       "'/oak/stanford/groups/mrivas/users/ytanigaw/repos/rivas-lab/PRS/jobs/hearing_2247'"
      ],
      "text/plain": [
       "[1] \"/oak/stanford/groups/mrivas/users/ytanigaw/repos/rivas-lab/PRS/jobs/hearing_2247\""
      ]
     },
     "metadata": {},
     "output_type": "display_data"
    }
   ],
   "source": [
    "getwd()"
   ]
  },
  {
   "cell_type": "code",
   "execution_count": null,
   "metadata": {},
   "outputs": [],
   "source": []
  }
 ],
 "metadata": {
  "kernelspec": {
   "display_name": "R 3.5 (module)",
   "language": "R",
   "name": "ir35ml"
  },
  "language_info": {
   "codemirror_mode": "r",
   "file_extension": ".r",
   "mimetype": "text/x-r-source",
   "name": "R",
   "pygments_lexer": "r",
   "version": "3.5.1"
  }
 },
 "nbformat": 4,
 "nbformat_minor": 2
}

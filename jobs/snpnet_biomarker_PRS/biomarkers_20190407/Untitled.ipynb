{
 "cells": [
  {
   "cell_type": "markdown",
   "metadata": {},
   "source": [
    "```\n",
    "python /oak/stanford/groups/mrivas/users/ytanigaw/repos/rivas-lab/PRS/helper/compute_r_or_auc.py -i /oak/stanford/groups/mrivas/projects/PRS/private_output/snpnet_biomarker_PRS/biomarkers_20190406/4_score/Alkaline_phosphatase.sscore -o /oak/stanford/groups/mrivas/projects/PRS/private_output/snpnet_biomarker_PRS/biomarkers_20190406/5_eval/Alkaline_phosphatase.sscore.eval -k /oak/stanford/groups/mrivas/projects/PRS/private_output/snpnet_biomarker_PRS/biomarkers_20190406/1_split/Alkaline_phosphatase.test -p /oak/stanford/groups/mrivas/projects/PRS/private_output/snpnet_biomarker_PRS/biomarkers_20190406/0_input/Alkaline_phosphatase.phe -t qt -c /oak/stanford/groups/mrivas/users/ytanigaw/repos/rivas-lab/PRS/notebook/20190406_biomarker_covar/biomarker_covar.tsv -b /oak/stanford/groups/mrivas/projects/PRS/private_output/snpnet_biomarker_PRS/biomarkers_20190406/3_snpnet/Alkaline_phosphatase.covars.tsv.gz\n",
    "```"
   ]
  },
  {
   "cell_type": "code",
   "execution_count": 20,
   "metadata": {},
   "outputs": [
    {
     "name": "stdout",
     "output_type": "stream",
     "text": [
      "_README_ = '''\n",
      "-------------------------------------------------------------------------\n",
      "compute_r_or_auc.py\n",
      "\n",
      "Evaluation script for PRS score by computing r or AUC\n",
      "\n",
      "Author: Yosuke Tanigawa (ytanigaw@stanford.edu)\n",
      "Date: 2019/02/25 (updated on 2019/3/19)\n",
      "-------------------------------------------------------------------------\n",
      "'''\n",
      "\n",
      "\n",
      "import argparse, os, collections\n",
      "\n",
      "\n",
      "import numpy as np\n",
      "import pandas as pd\n",
      "from sklearn.linear_model import LinearRegression, LogisticRegression\n",
      "from sklearn.metrics import roc_auc_score\n",
      "\n",
      "from rivaslab_PRS_misc import pd_read_csv_usecols_by_key\n",
      "\n",
      "class PRS_eval:\n",
      "    '''\n",
      "    This class computes R or AUC for multiple PRS models\n",
      "    '''\n",
      "    \n",
      "    ######################################################\n",
      "    # Constructor\n",
      "    ######################################################\n",
      "    \n",
      "    def __init__(self, phe_type, seed_file=None):\n",
      "        '''\n",
      "        Constructor for PRS_eval class\n",
      "        \n",
      "        phe_type: [ binary | bin | linear | qt ]\n",
      "        seed_file: optional. used as a seed for logistic regression\n",
      "        '''\n",
      "        self._set_consts()        \n",
      "        self.metrics = collections.OrderedDict()\n",
      "        self.phe_type = phe_type                \n",
      "        assert(self._is_bin() or self._is_qt())\n",
      "        self.seed_file = seed_file\n",
      "        self.seed = self._read_seed()\n",
      "    \n",
      "    ######################################################    \n",
      "    # Private funcs\n",
      "    ######################################################    \n",
      "            \n",
      "    def _set_consts(self):\n",
      "        self.const = collections.OrderedDict()\n",
      "        self.const['phe_type_bin'] = set(['binary', 'bin'])\n",
      "        self.const['phe_type_qt']  = set(['linear', 'qt'])\n",
      "        \n",
      "    def _is_bin(self):\n",
      "        return (self.phe_type in self.const['phe_type_bin'])\n",
      "\n",
      "    def _is_qt(self):\n",
      "        return (self.phe_type in self.const['phe_type_qt'])\n",
      "            \n",
      "    def _read_seed(self):\n",
      "        if self._is_bin() and self.seed_file is not None:\n",
      "            return int(np.loadtxt(self.seed_file))\n",
      "        else: \n",
      "            return None\n",
      "            \n",
      "    def _compute_r(self, x, y):\n",
      "        lm = LinearRegression().fit(x, y)    \n",
      "        return np.corrcoef(y, lm.predict(x))[0, 1]\n",
      "\n",
      "    def _compute_auc(self, x, y, seed=None):\n",
      "        lm = LogisticRegression(\n",
      "            random_state=seed, solver='lbfgs'\n",
      "        ).fit(x, y)\n",
      "        roc_auc = roc_auc_score(y, lm.predict_log_proba(x)[:, 1])\n",
      "        return max(roc_auc, 1 - roc_auc)\n",
      "\n",
      "    ######################################################    \n",
      "    # public funcs\n",
      "    ######################################################    \n",
      "    \n",
      "    def compute_r_or_auc(self, model_name, x, y):\n",
      "        if self._is_qt():\n",
      "            self.metrics[model_name] = self._compute_r(x, y)\n",
      "\n",
      "        elif self._is_bin():\n",
      "            print(collections.Counter(y))        \n",
      "            self.metrics[model_name] = self._compute_auc(x, y, self.seed)\n",
      "        \n",
      "    def get_metrics_str(self):\n",
      "        return ['{}\\t{:.6e}'.format(x[0], x[1]) for x in self.metrics.items()]\n",
      "    \n",
      "    def format_metrics(self, info_str=None):\n",
      "        metrics_str = self.get_metrics_str()\n",
      "        if info_str is None:\n",
      "            return '\\n'.join(metrics_str)\n",
      "        else:\n",
      "            return '\\n'.join(['{}\\t{}'.format(str(info_str), x) for x in metrics_str])\n",
      "        \n",
      "\n",
      "def read_data_for_eval(in_score, phe, covar_phe, keep=None):\n",
      "    print(in_score, phe, covar_phe, keep)\n",
      "    df = pd_read_csv_usecols_by_key(\n",
      "        in_score, cols=['IID', 'SCORE1_SUM'], sep='\\t'\n",
      "    ).merge(\n",
      "        pd.read_csv(\n",
      "            phe, sep='\\t', usecols=[1,2], names=['IID', 'phe'], comment='#'\n",
      "        ),\n",
      "        on='IID'\n",
      "    ).merge(\n",
      "        pd.read_csv(covar_phe, sep='\\t'),\n",
      "        on='IID'\n",
      "    )\n",
      "    df_non_missing=df[df['phe'] != 9]\n",
      "    if keep is None:\n",
      "        return df_non_missing\n",
      "    else:\n",
      "        return df_non_missing.merge(\n",
      "            pd.read_csv(\n",
      "                keep, sep='\\t', usecols=[0], names=['IID']\n",
      "            ),\n",
      "            on='IID',\n",
      "            how='inner'\n",
      "        )\n",
      "    \n",
      "def compute_score_for_covariates(df, betas, center=False, Z=False):\n",
      "    betas_df=pd.read_csv(betas, compression='gzip', sep='\\t')\n",
      "    covar_mat = df[list(betas_df['ID'])].values\n",
      "    \n",
      "    betas_vec = np.array(betas_df['BETA'])[:,np.newaxis]\n",
      "    \n",
      "    if 'mean' in set(betas_df.columns) and (center or Z):\n",
      "        covar_mat_centered = (covar_mat - np.array(betas_df['mean'])[np.newaxis, :])\n",
      "        if 'Z' in set(betas_df.columns) and Z:\n",
      "            covar_mat_Z = (covar_mat_centered / np.array(betas_df['std'])[np.newaxis, :])\n",
      "            return np.dot(covar_mat_Z, betas_vec)\n",
      "        else:\n",
      "            return np.dot(covar_mat_centered, betas_vec)\n",
      "    else:            \n",
      "        return np.dot(covar_mat, betas_vec)\n",
      "    \n",
      "        \n",
      "def compute_r_or_auc_main(in_score, phe, phe_type, covar_phe, betas, keep, out_file, seed_file=None):  \n",
      "    df = read_data_for_eval(in_score=in_score, phe=phe, covar_phe=covar_phe, keep=keep)\n",
      "    \n",
      "    PRS = collections.OrderedDict()\n",
      "    \n",
      "    PRS['Genotype_only'] = df[['SCORE1_SUM']].values\n",
      "    PRS['Covariates_only'] = compute_score_for_covariates(df, betas)\n",
      "#    PRS['Covariates_only_center'] = compute_score_for_covariates(df, betas, center=True)\n",
      "#    PRS['Covariates_only_Z'] = compute_score_for_covariates(df, betas, Z=True)\n",
      "    PRS['Genotype_and_covariates'] = PRS['Genotype_only'] + PRS['Covariates_only']\n",
      "#    PRS['Genotype_and_covariates_center'] = PRS['Genotype_only'] + PRS['Covariates_only_center']\n",
      "#    PRS['Genotype_and_covariates_Z'] = PRS['Genotype_only'] + PRS['Covariates_only_Z']\n",
      "\n",
      "    Y  = np.array(df['phe'])\n",
      "    prs_eval = PRS_eval(phe_type, seed_file)\n",
      "    for k,v in PRS.items():\n",
      "        prs_eval.compute_r_or_auc(k, v, Y)    \n",
      "\n",
      "    info_str='\\t'.join([in_score, phe_type])\n",
      "    results_str = prs_eval.format_metrics(info_str)\n",
      "    with open(out_file, 'w') as fw:        \n",
      "        fw.write(results_str + '\\n')        \n",
      "    print(results_str)\n",
      "\n",
      "    \n",
      "def main():    \n",
      "    parser = argparse.ArgumentParser(\n",
      "        formatter_class=argparse.RawDescriptionHelpFormatter,\n",
      "        description=_README_\n",
      "    )\n",
      "\n",
      "    default_covar=os.path.join(\n",
      "        '/oak/stanford/groups/mrivas',\n",
      "        'private_data/ukbb/24983/sqc/ukb24983_GWAS_covar.phe'\n",
      "    )\n",
      "    default_seed_file=os.path.join(os.path.dirname(os.path.abspath(__file__)), 'rand.seed.txt')\n",
      "\n",
      "    parser.add_argument('-i', metavar='i', required=True,\n",
      "                        help='in_score')    \n",
      "    parser.add_argument('-p', metavar='p', required=True,\n",
      "                        help='phenotype')        \n",
      "    parser.add_argument('-o', metavar='o', required=True,\n",
      "                        help='out_file')\n",
      "    parser.add_argument('-b', metavar='b', \n",
      "                        help='BETA file for covariates')\n",
      "    parser.add_argument('-c', metavar='c', default=default_covar,\n",
      "                        help='covariate_file (default: {})'.format(default_covar))\n",
      "    parser.add_argument('-k', metavar='k', default=None,\n",
      "                        help='keep_file')\n",
      "    parser.add_argument('-t', metavar='t', required=True,\n",
      "                        help='type [bin | qt]')\n",
      "    parser.add_argument('-s', metavar='s', default=default_seed_file,\n",
      "                        help='seed_file (default: {})'.format(default_seed_file))\n",
      "    \n",
      "    args = parser.parse_args()\n",
      "    in_score=os.path.abspath(args.i)\n",
      "    phe=os.path.abspath(args.p) \n",
      "    phe_type=args.t\n",
      "    covar_phe=os.path.abspath(args.c)\n",
      "    betas=args.b\n",
      "    out_file=os.path.abspath(args.o)    \n",
      "    if(args.k is not None):\n",
      "        keep=os.path.abspath(args.k)\n",
      "    else:\n",
      "        keep=None\n",
      "    seed_file=os.path.abspath(args.s)    \n",
      "    \n",
      "    assert(phe_type in set(['bin', 'qt']))\n",
      "        \n",
      "    compute_r_or_auc_main(in_score, phe, phe_type, covar_phe, betas, keep, out_file, seed_file)\n",
      "    \n",
      "    \n",
      "if __name__ == \"__main__\":\n",
      "    main()\n"
     ]
    }
   ],
   "source": [
    "!cat /oak/stanford/groups/mrivas/users/ytanigaw/repos/rivas-lab/PRS/helper/compute_r_or_auc.py"
   ]
  },
  {
   "cell_type": "code",
   "execution_count": 21,
   "metadata": {},
   "outputs": [],
   "source": [
    "import argparse, os, collections\n",
    "\n",
    "import numpy as np\n",
    "import pandas as pd\n",
    "from sklearn.linear_model import LinearRegression, LogisticRegression\n",
    "from sklearn.metrics import roc_auc_score\n",
    "\n",
    "import sys\n",
    "sys.path.append(os.path.abspath(os.path.dirname('/oak/stanford/groups/mrivas/users/ytanigaw/repos/rivas-lab/PRS/helper/compute_r_or_auc.py')))\n",
    "from rivaslab_PRS_misc import pd_read_csv_usecols_by_key\n"
   ]
  },
  {
   "cell_type": "code",
   "execution_count": null,
   "metadata": {},
   "outputs": [],
   "source": [
    "/oak/stanford/groups/mrivas/projects/PRS/private_output/snpnet_biomarker_PRS/biomarkers_20190406/4_score/Alkaline_phosphatase.sscore\n",
    "-o /oak/stanford/groups/mrivas/projects/PRS/private_output/snpnet_biomarker_PRS/biomarkers_20190406/5_eval/Alkaline_phosphatase.sscore.eval \n",
    "-k /oak/stanford/groups/mrivas/projects/PRS/private_output/snpnet_biomarker_PRS/biomarkers_20190406/1_split/Alkaline_phosphatase.test\n",
    "-p /oak/stanford/groups/mrivas/projects/PRS/private_output/snpnet_biomarker_PRS/biomarkers_20190406/0_input/Alkaline_phosphatase.phe \n",
    "-t qt \n",
    "-c /oak/stanford/groups/mrivas/users/ytanigaw/repos/rivas-lab/PRS/notebook/20190406_biomarker_covar/biomarker_covar.tsv \n",
    "-b /oak/stanford/groups/mrivas/projects/PRS/private_output/snpnet_biomarker_PRS/biomarkers_20190406/3_snpnet/Alkaline_phosphatase.covars.tsv.gz\n",
    "\n",
    "\n",
    "\n"
   ]
  },
  {
   "cell_type": "code",
   "execution_count": 7,
   "metadata": {},
   "outputs": [],
   "source": [
    "in_score='/oak/stanford/groups/mrivas/projects/PRS/private_output/snpnet_biomarker_PRS/biomarkers_20190406/4_score/Alkaline_phosphatase.sscore'\n",
    "phe='/oak/stanford/groups/mrivas/projects/PRS/private_output/snpnet_biomarker_PRS/biomarkers_20190406/0_input/Alkaline_phosphatase.phe'\n",
    "phe_type='qt'\n",
    "covar_phe='/oak/stanford/groups/mrivas/users/ytanigaw/repos/rivas-lab/PRS/notebook/20190406_biomarker_covar/biomarker_covar.tsv'\n",
    "betas='/oak/stanford/groups/mrivas/projects/PRS/private_output/snpnet_biomarker_PRS/biomarkers_20190406/3_snpnet/Alkaline_phosphatase.covars.tsv.gz'\n",
    "out_file='/oak/stanford/groups/mrivas/projects/PRS/private_output/snpnet_biomarker_PRS/biomarkers_20190406/5_eval/Alkaline_phosphatase.sscore.eval'\n",
    "keep='/oak/stanford/groups/mrivas/projects/PRS/private_output/snpnet_biomarker_PRS/biomarkers_20190406/1_split/Alkaline_phosphatase.test'\n",
    "seed_file='/oak/stanford/groups/mrivas/users/ytanigaw/repos/rivas-lab/PRS/helper/rand.seed.txt'\n"
   ]
  },
  {
   "cell_type": "code",
   "execution_count": 9,
   "metadata": {},
   "outputs": [],
   "source": [
    "class PRS_eval:\n",
    "    '''\n",
    "    This class computes R or AUC for multiple PRS models\n",
    "    '''\n",
    "    \n",
    "    ######################################################\n",
    "    # Constructor\n",
    "    ######################################################\n",
    "    \n",
    "    def __init__(self, phe_type, seed_file=None):\n",
    "        '''\n",
    "        Constructor for PRS_eval class\n",
    "        \n",
    "        phe_type: [ binary | bin | linear | qt ]\n",
    "        seed_file: optional. used as a seed for logistic regression\n",
    "        '''\n",
    "        self._set_consts()        \n",
    "        self.metrics = collections.OrderedDict()\n",
    "        self.phe_type = phe_type                \n",
    "        assert(self._is_bin() or self._is_qt())\n",
    "        self.seed_file = seed_file\n",
    "        self.seed = self._read_seed()\n",
    "    \n",
    "    ######################################################    \n",
    "    # Private funcs\n",
    "    ######################################################    \n",
    "            \n",
    "    def _set_consts(self):\n",
    "        self.const = collections.OrderedDict()\n",
    "        self.const['phe_type_bin'] = set(['binary', 'bin'])\n",
    "        self.const['phe_type_qt']  = set(['linear', 'qt'])\n",
    "        \n",
    "    def _is_bin(self):\n",
    "        return (self.phe_type in self.const['phe_type_bin'])\n",
    "\n",
    "    def _is_qt(self):\n",
    "        return (self.phe_type in self.const['phe_type_qt'])\n",
    "            \n",
    "    def _read_seed(self):\n",
    "        if self._is_bin() and self.seed_file is not None:\n",
    "            return int(np.loadtxt(self.seed_file))\n",
    "        else: \n",
    "            return None\n",
    "            \n",
    "    def _compute_r(self, x, y):\n",
    "        lm = LinearRegression().fit(x, y)    \n",
    "        return np.corrcoef(y, lm.predict(x))[0, 1]\n",
    "\n",
    "    def _compute_auc(self, x, y, seed=None):\n",
    "        lm = LogisticRegression(\n",
    "            random_state=seed, solver='lbfgs'\n",
    "        ).fit(x, y)\n",
    "        roc_auc = roc_auc_score(y, lm.predict_log_proba(x)[:, 1])\n",
    "        return max(roc_auc, 1 - roc_auc)\n",
    "\n",
    "    ######################################################    \n",
    "    # public funcs\n",
    "    ######################################################    \n",
    "    \n",
    "    def compute_r_or_auc(self, model_name, x, y):\n",
    "        if self._is_qt():\n",
    "            self.metrics[model_name] = self._compute_r(x, y)\n",
    "\n",
    "        elif self._is_bin():\n",
    "            print(collections.Counter(y))        \n",
    "            self.metrics[model_name] = self._compute_auc(x, y, self.seed)\n",
    "        \n",
    "    def get_metrics_str(self):\n",
    "        return ['{}\\t{:.6e}'.format(x[0], x[1]) for x in self.metrics.items()]\n",
    "    \n",
    "    def format_metrics(self, info_str=None):\n",
    "        metrics_str = self.get_metrics_str()\n",
    "        if info_str is None:\n",
    "            return '\\n'.join(metrics_str)\n",
    "        else:\n",
    "            return '\\n'.join(['{}\\t{}'.format(str(info_str), x) for x in metrics_str])"
   ]
  },
  {
   "cell_type": "code",
   "execution_count": 10,
   "metadata": {},
   "outputs": [],
   "source": [
    "def read_data_for_eval(in_score, phe, covar_phe, keep=None):\n",
    "    print(in_score, phe, covar_phe, keep)\n",
    "    df = pd_read_csv_usecols_by_key(\n",
    "        in_score, cols=['IID', 'SCORE1_SUM'], sep='\\t'\n",
    "    ).merge(\n",
    "        pd.read_csv(\n",
    "            phe, sep='\\t', usecols=[1,2], names=['IID', 'phe']\n",
    "        ),\n",
    "        on='IID'\n",
    "    ).merge(\n",
    "        pd.read_csv(covar_phe, sep='\\t'),\n",
    "        on='IID'\n",
    "    )\n",
    "    df_non_missing=df[df['phe'] != 9]\n",
    "    if keep is None:\n",
    "        return df_non_missing\n",
    "    else:\n",
    "        return df_non_missing.merge(\n",
    "            pd.read_csv(\n",
    "                keep, sep='\\t', usecols=[0], names=['IID']\n",
    "            ),\n",
    "            on='IID',\n",
    "            how='inner'\n",
    "        )\n",
    "    "
   ]
  },
  {
   "cell_type": "code",
   "execution_count": 11,
   "metadata": {},
   "outputs": [],
   "source": [
    "def compute_score_for_covariates(df, betas, center=False, Z=False):\n",
    "    betas_df=pd.read_csv(betas, compression='gzip', sep='\\t')\n",
    "    covar_mat = df[list(betas_df['ID'])].values\n",
    "    \n",
    "    betas_vec = np.array(betas_df['BETA'])[:,np.newaxis]\n",
    "    \n",
    "    if 'mean' in set(betas_df.columns) and (center or Z):\n",
    "        covar_mat_centered = (covar_mat - np.array(betas_df['mean'])[np.newaxis, :])\n",
    "        if 'Z' in set(betas_df.columns) and Z:\n",
    "            covar_mat_Z = (covar_mat_centered / np.array(betas_df['std'])[np.newaxis, :])\n",
    "            return np.dot(covar_mat_Z, betas_vec)\n",
    "        else:\n",
    "            return np.dot(covar_mat_centered, betas_vec)\n",
    "    else:            \n",
    "        return np.dot(covar_mat, betas_vec)\n",
    "    \n",
    "        \n"
   ]
  },
  {
   "cell_type": "code",
   "execution_count": 13,
   "metadata": {},
   "outputs": [],
   "source": [
    "def compute_r_or_auc_main(in_score, phe, phe_type, covar_phe, betas, keep, out_file, seed_file=None):  \n",
    "    df = read_data_for_eval(in_score=in_score, phe=phe, covar_phe=covar_phe, keep=keep)\n",
    "    \n",
    "    PRS = collections.OrderedDict()\n",
    "    \n",
    "    PRS['Genotype_only'] = df[['SCORE1_SUM']].values\n",
    "    PRS['Covariates_only'] = compute_score_for_covariates(df, betas)\n",
    "#    PRS['Covariates_only_center'] = compute_score_for_covariates(df, betas, center=True)\n",
    "#    PRS['Covariates_only_Z'] = compute_score_for_covariates(df, betas, Z=True)\n",
    "    PRS['Genotype_and_covariates'] = PRS['Genotype_only'] + PRS['Covariates_only']\n",
    "#    PRS['Genotype_and_covariates_center'] = PRS['Genotype_only'] + PRS['Covariates_only_center']\n",
    "#    PRS['Genotype_and_covariates_Z'] = PRS['Genotype_only'] + PRS['Covariates_only_Z']\n",
    "\n",
    "    Y  = np.array(df['phe'])\n",
    "    prs_eval = PRS_eval(phe_type, seed_file)\n",
    "    for k,v in PRS.items():\n",
    "        prs_eval.compute_r_or_auc(k, v, Y)    \n",
    "\n",
    "    info_str='\\t'.join([in_score, phe_type])\n",
    "    results_str = prs_eval.format_metrics(info_str)\n",
    "    with open(out_file, 'w') as fw:        \n",
    "        fw.write(results_str + '\\n')        \n",
    "    print(results_str)"
   ]
  },
  {
   "cell_type": "code",
   "execution_count": 14,
   "metadata": {},
   "outputs": [
    {
     "name": "stdout",
     "output_type": "stream",
     "text": [
      "/oak/stanford/groups/mrivas/projects/PRS/private_output/snpnet_biomarker_PRS/biomarkers_20190406/4_score/Alkaline_phosphatase.sscore /oak/stanford/groups/mrivas/projects/PRS/private_output/snpnet_biomarker_PRS/biomarkers_20190406/0_input/Alkaline_phosphatase.phe /oak/stanford/groups/mrivas/users/ytanigaw/repos/rivas-lab/PRS/notebook/20190406_biomarker_covar/biomarker_covar.tsv /oak/stanford/groups/mrivas/projects/PRS/private_output/snpnet_biomarker_PRS/biomarkers_20190406/1_split/Alkaline_phosphatase.test\n"
     ]
    },
    {
     "name": "stderr",
     "output_type": "stream",
     "text": [
      "/oak/stanford/groups/mrivas/users/ytanigaw/software/Anaconda3-5.3.0-Linux-x86_64_20181113/lib/python3.7/site-packages/IPython/core/interactiveshell.py:3185: DtypeWarning: Columns (1,2) have mixed types. Specify dtype option on import or set low_memory=False.\n",
      "  if (yield from self.run_code(code, result)):\n"
     ]
    },
    {
     "ename": "ValueError",
     "evalue": "You are trying to merge on int64 and object columns. If you wish to proceed you should use pd.concat",
     "output_type": "error",
     "traceback": [
      "\u001b[0;31m---------------------------------------------------------------------------\u001b[0m",
      "\u001b[0;31mValueError\u001b[0m                                Traceback (most recent call last)",
      "\u001b[0;32m<ipython-input-14-bf5ab648fcb3>\u001b[0m in \u001b[0;36m<module>\u001b[0;34m\u001b[0m\n\u001b[0;32m----> 1\u001b[0;31m \u001b[0mdf\u001b[0m \u001b[0;34m=\u001b[0m \u001b[0mread_data_for_eval\u001b[0m\u001b[0;34m(\u001b[0m\u001b[0min_score\u001b[0m\u001b[0;34m=\u001b[0m\u001b[0min_score\u001b[0m\u001b[0;34m,\u001b[0m \u001b[0mphe\u001b[0m\u001b[0;34m=\u001b[0m\u001b[0mphe\u001b[0m\u001b[0;34m,\u001b[0m \u001b[0mcovar_phe\u001b[0m\u001b[0;34m=\u001b[0m\u001b[0mcovar_phe\u001b[0m\u001b[0;34m,\u001b[0m \u001b[0mkeep\u001b[0m\u001b[0;34m=\u001b[0m\u001b[0mkeep\u001b[0m\u001b[0;34m)\u001b[0m\u001b[0;34m\u001b[0m\u001b[0;34m\u001b[0m\u001b[0m\n\u001b[0m",
      "\u001b[0;32m<ipython-input-10-855de83f6548>\u001b[0m in \u001b[0;36mread_data_for_eval\u001b[0;34m(in_score, phe, covar_phe, keep)\u001b[0m\n\u001b[1;32m      7\u001b[0m             \u001b[0mphe\u001b[0m\u001b[0;34m,\u001b[0m \u001b[0msep\u001b[0m\u001b[0;34m=\u001b[0m\u001b[0;34m'\\t'\u001b[0m\u001b[0;34m,\u001b[0m \u001b[0musecols\u001b[0m\u001b[0;34m=\u001b[0m\u001b[0;34m[\u001b[0m\u001b[0;36m1\u001b[0m\u001b[0;34m,\u001b[0m\u001b[0;36m2\u001b[0m\u001b[0;34m]\u001b[0m\u001b[0;34m,\u001b[0m \u001b[0mnames\u001b[0m\u001b[0;34m=\u001b[0m\u001b[0;34m[\u001b[0m\u001b[0;34m'IID'\u001b[0m\u001b[0;34m,\u001b[0m \u001b[0;34m'phe'\u001b[0m\u001b[0;34m]\u001b[0m\u001b[0;34m\u001b[0m\u001b[0;34m\u001b[0m\u001b[0m\n\u001b[1;32m      8\u001b[0m         ),\n\u001b[0;32m----> 9\u001b[0;31m         \u001b[0mon\u001b[0m\u001b[0;34m=\u001b[0m\u001b[0;34m'IID'\u001b[0m\u001b[0;34m\u001b[0m\u001b[0;34m\u001b[0m\u001b[0m\n\u001b[0m\u001b[1;32m     10\u001b[0m     \u001b[0;34m)\u001b[0m\u001b[0;34m.\u001b[0m\u001b[0mmerge\u001b[0m\u001b[0;34m(\u001b[0m\u001b[0;34m\u001b[0m\u001b[0;34m\u001b[0m\u001b[0m\n\u001b[1;32m     11\u001b[0m         \u001b[0mpd\u001b[0m\u001b[0;34m.\u001b[0m\u001b[0mread_csv\u001b[0m\u001b[0;34m(\u001b[0m\u001b[0mcovar_phe\u001b[0m\u001b[0;34m,\u001b[0m \u001b[0msep\u001b[0m\u001b[0;34m=\u001b[0m\u001b[0;34m'\\t'\u001b[0m\u001b[0;34m)\u001b[0m\u001b[0;34m,\u001b[0m\u001b[0;34m\u001b[0m\u001b[0;34m\u001b[0m\u001b[0m\n",
      "\u001b[0;32m/oak/stanford/groups/mrivas/users/ytanigaw/software/Anaconda3-5.3.0-Linux-x86_64_20181113/lib/python3.7/site-packages/pandas/core/frame.py\u001b[0m in \u001b[0;36mmerge\u001b[0;34m(self, right, how, on, left_on, right_on, left_index, right_index, sort, suffixes, copy, indicator, validate)\u001b[0m\n\u001b[1;32m   6387\u001b[0m                      \u001b[0mright_on\u001b[0m\u001b[0;34m=\u001b[0m\u001b[0mright_on\u001b[0m\u001b[0;34m,\u001b[0m \u001b[0mleft_index\u001b[0m\u001b[0;34m=\u001b[0m\u001b[0mleft_index\u001b[0m\u001b[0;34m,\u001b[0m\u001b[0;34m\u001b[0m\u001b[0;34m\u001b[0m\u001b[0m\n\u001b[1;32m   6388\u001b[0m                      \u001b[0mright_index\u001b[0m\u001b[0;34m=\u001b[0m\u001b[0mright_index\u001b[0m\u001b[0;34m,\u001b[0m \u001b[0msort\u001b[0m\u001b[0;34m=\u001b[0m\u001b[0msort\u001b[0m\u001b[0;34m,\u001b[0m \u001b[0msuffixes\u001b[0m\u001b[0;34m=\u001b[0m\u001b[0msuffixes\u001b[0m\u001b[0;34m,\u001b[0m\u001b[0;34m\u001b[0m\u001b[0;34m\u001b[0m\u001b[0m\n\u001b[0;32m-> 6389\u001b[0;31m                      copy=copy, indicator=indicator, validate=validate)\n\u001b[0m\u001b[1;32m   6390\u001b[0m \u001b[0;34m\u001b[0m\u001b[0m\n\u001b[1;32m   6391\u001b[0m     \u001b[0;32mdef\u001b[0m \u001b[0mround\u001b[0m\u001b[0;34m(\u001b[0m\u001b[0mself\u001b[0m\u001b[0;34m,\u001b[0m \u001b[0mdecimals\u001b[0m\u001b[0;34m=\u001b[0m\u001b[0;36m0\u001b[0m\u001b[0;34m,\u001b[0m \u001b[0;34m*\u001b[0m\u001b[0margs\u001b[0m\u001b[0;34m,\u001b[0m \u001b[0;34m**\u001b[0m\u001b[0mkwargs\u001b[0m\u001b[0;34m)\u001b[0m\u001b[0;34m:\u001b[0m\u001b[0;34m\u001b[0m\u001b[0;34m\u001b[0m\u001b[0m\n",
      "\u001b[0;32m/oak/stanford/groups/mrivas/users/ytanigaw/software/Anaconda3-5.3.0-Linux-x86_64_20181113/lib/python3.7/site-packages/pandas/core/reshape/merge.py\u001b[0m in \u001b[0;36mmerge\u001b[0;34m(left, right, how, on, left_on, right_on, left_index, right_index, sort, suffixes, copy, indicator, validate)\u001b[0m\n\u001b[1;32m     59\u001b[0m                          \u001b[0mright_index\u001b[0m\u001b[0;34m=\u001b[0m\u001b[0mright_index\u001b[0m\u001b[0;34m,\u001b[0m \u001b[0msort\u001b[0m\u001b[0;34m=\u001b[0m\u001b[0msort\u001b[0m\u001b[0;34m,\u001b[0m \u001b[0msuffixes\u001b[0m\u001b[0;34m=\u001b[0m\u001b[0msuffixes\u001b[0m\u001b[0;34m,\u001b[0m\u001b[0;34m\u001b[0m\u001b[0;34m\u001b[0m\u001b[0m\n\u001b[1;32m     60\u001b[0m                          \u001b[0mcopy\u001b[0m\u001b[0;34m=\u001b[0m\u001b[0mcopy\u001b[0m\u001b[0;34m,\u001b[0m \u001b[0mindicator\u001b[0m\u001b[0;34m=\u001b[0m\u001b[0mindicator\u001b[0m\u001b[0;34m,\u001b[0m\u001b[0;34m\u001b[0m\u001b[0;34m\u001b[0m\u001b[0m\n\u001b[0;32m---> 61\u001b[0;31m                          validate=validate)\n\u001b[0m\u001b[1;32m     62\u001b[0m     \u001b[0;32mreturn\u001b[0m \u001b[0mop\u001b[0m\u001b[0;34m.\u001b[0m\u001b[0mget_result\u001b[0m\u001b[0;34m(\u001b[0m\u001b[0;34m)\u001b[0m\u001b[0;34m\u001b[0m\u001b[0;34m\u001b[0m\u001b[0m\n\u001b[1;32m     63\u001b[0m \u001b[0;34m\u001b[0m\u001b[0m\n",
      "\u001b[0;32m/oak/stanford/groups/mrivas/users/ytanigaw/software/Anaconda3-5.3.0-Linux-x86_64_20181113/lib/python3.7/site-packages/pandas/core/reshape/merge.py\u001b[0m in \u001b[0;36m__init__\u001b[0;34m(self, left, right, how, on, left_on, right_on, axis, left_index, right_index, sort, suffixes, copy, indicator, validate)\u001b[0m\n\u001b[1;32m    553\u001b[0m         \u001b[0;31m# validate the merge keys dtypes. We may need to coerce\u001b[0m\u001b[0;34m\u001b[0m\u001b[0;34m\u001b[0m\u001b[0;34m\u001b[0m\u001b[0m\n\u001b[1;32m    554\u001b[0m         \u001b[0;31m# to avoid incompat dtypes\u001b[0m\u001b[0;34m\u001b[0m\u001b[0;34m\u001b[0m\u001b[0;34m\u001b[0m\u001b[0m\n\u001b[0;32m--> 555\u001b[0;31m         \u001b[0mself\u001b[0m\u001b[0;34m.\u001b[0m\u001b[0m_maybe_coerce_merge_keys\u001b[0m\u001b[0;34m(\u001b[0m\u001b[0;34m)\u001b[0m\u001b[0;34m\u001b[0m\u001b[0;34m\u001b[0m\u001b[0m\n\u001b[0m\u001b[1;32m    556\u001b[0m \u001b[0;34m\u001b[0m\u001b[0m\n\u001b[1;32m    557\u001b[0m         \u001b[0;31m# If argument passed to validate,\u001b[0m\u001b[0;34m\u001b[0m\u001b[0;34m\u001b[0m\u001b[0;34m\u001b[0m\u001b[0m\n",
      "\u001b[0;32m/oak/stanford/groups/mrivas/users/ytanigaw/software/Anaconda3-5.3.0-Linux-x86_64_20181113/lib/python3.7/site-packages/pandas/core/reshape/merge.py\u001b[0m in \u001b[0;36m_maybe_coerce_merge_keys\u001b[0;34m(self)\u001b[0m\n\u001b[1;32m    981\u001b[0m             elif ((is_numeric_dtype(lk) and not is_bool_dtype(lk))\n\u001b[1;32m    982\u001b[0m                     and not is_numeric_dtype(rk)):\n\u001b[0;32m--> 983\u001b[0;31m                 \u001b[0;32mraise\u001b[0m \u001b[0mValueError\u001b[0m\u001b[0;34m(\u001b[0m\u001b[0mmsg\u001b[0m\u001b[0;34m)\u001b[0m\u001b[0;34m\u001b[0m\u001b[0;34m\u001b[0m\u001b[0m\n\u001b[0m\u001b[1;32m    984\u001b[0m             elif (not is_numeric_dtype(lk)\n\u001b[1;32m    985\u001b[0m                     and (is_numeric_dtype(rk) and not is_bool_dtype(rk))):\n",
      "\u001b[0;31mValueError\u001b[0m: You are trying to merge on int64 and object columns. If you wish to proceed you should use pd.concat"
     ]
    }
   ],
   "source": [
    "df = read_data_for_eval(in_score=in_score, phe=phe, covar_phe=covar_phe, keep=keep)"
   ]
  },
  {
   "cell_type": "code",
   "execution_count": 15,
   "metadata": {},
   "outputs": [],
   "source": [
    "df = pd_read_csv_usecols_by_key(\n",
    "    in_score, cols=['IID', 'SCORE1_SUM'], sep='\\t'\n",
    ")"
   ]
  },
  {
   "cell_type": "code",
   "execution_count": 17,
   "metadata": {},
   "outputs": [
    {
     "name": "stderr",
     "output_type": "stream",
     "text": [
      "/oak/stanford/groups/mrivas/users/ytanigaw/software/Anaconda3-5.3.0-Linux-x86_64_20181113/lib/python3.7/site-packages/IPython/core/interactiveshell.py:3020: DtypeWarning: Columns (1,2) have mixed types. Specify dtype option on import or set low_memory=False.\n",
      "  interactivity=interactivity, compiler=compiler, result=result)\n"
     ]
    }
   ],
   "source": [
    "phe_df = pd.read_csv(\n",
    "    phe, sep='\\t', usecols=[1,2], names=['IID', 'phe']\n",
    ")\n"
   ]
  },
  {
   "cell_type": "code",
   "execution_count": null,
   "metadata": {},
   "outputs": [],
   "source": [
    " print(in_score, phe, covar_phe, keep)\n",
    "    df = pd_read_csv_usecols_by_key(\n",
    "        in_score, cols=['IID', 'SCORE1_SUM'], sep='\\t'\n",
    "    ).merge(\n",
    "        pd.read_csv(\n",
    "            phe, sep='\\t', usecols=[1,2], names=['IID', 'phe']\n",
    "        ),\n",
    "        on='IID'\n",
    "    ).merge(\n",
    "        pd.read_csv(covar_phe, sep='\\t'),\n",
    "        on='IID'\n",
    "    )\n",
    "    df_non_missing=df[df['phe'] != 9]\n",
    "    if keep is None:\n",
    "        return df_non_missing\n",
    "    else:\n",
    "        return df_non_missing.merge(\n",
    "            pd.read_csv(\n",
    "                keep, sep='\\t', usecols=[0], names=['IID']\n",
    "            ),\n",
    "            on='IID',\n",
    "            how='inner'\n",
    "        )"
   ]
  },
  {
   "cell_type": "code",
   "execution_count": null,
   "metadata": {},
   "outputs": [],
   "source": [
    "```\n",
    "python /oak/stanford/groups/mrivas/users/ytanigaw/repos/rivas-lab/PRS/helper/compute_r_or_auc.py -i /oak/stanford/groups/mrivas/projects/PRS/private_output/snpnet_biomarker_PRS/biomarkers_20190407/4_score/Fasting_glucose.sscore -o /oak/stanford/groups/mrivas/projects/PRS/private_output/snpnet_biomarker_PRS/biomarkers_20190407/5_eval/Fasting_glucose.sscore.eval -k /oak/stanford/groups/mrivas/projects/PRS/private_output/snpnet_biomarker_PRS/biomarkers_20190407/1_split/Fasting_glucose.test -p /oak/stanford/groups/mrivas/projects/PRS/private_output/snpnet_biomarker_PRS/biomarkers_20190407/0_input/Fasting_glucose.phe -t qt -c /oak/stanford/groups/mrivas/users/ytanigaw/repos/rivas-lab/PRS/notebook/20190406_biomarker_covar/biomarker_covar.tsv -b /oak/stanford/groups/mrivas/projects/PRS/private_output/snpnet_biomarker_PRS/biomarkers_20190407/3_snpnet/Fasting_glucose.covars.tsv.gz\n",
    "/oak/stanford/groups/mrivas/projects/PRS/private_output/snpnet_biomarker_PRS/biomarkers_20190407/4_score/Fasting_glucose.sscore /oak/stanford/groups/mrivas/projects/PRS/private_output/snpnet_biomarker_PRS/biomarkers_20190407/0_input/Fasting_glucose.phe /oak/stanford/groups/mrivas/users/ytanigaw/repos/rivas-lab/PRS/notebook/20190406_biomarker_covar/biomarker_covar.tsv /oak/stanford/groups/mrivas/projects/PRS/private_output/snpnet_biomarker_PRS/biomarkers_20190407/1_split/Fasting_glucose.test\n",
    "```"
   ]
  },
  {
   "cell_type": "code",
   "execution_count": null,
   "metadata": {},
   "outputs": [],
   "source": [
    "\n",
    "i /oak/stanford/groups/mrivas/projects/PRS/private_output/snpnet_biomarker_PRS/biomarkers_20190407/4_score/Fasting_glucose.sscore\n",
    "o /oak/stanford/groups/mrivas/projects/PRS/private_output/snpnet_biomarker_PRS/biomarkers_20190407/5_eval/Fasting_glucose.sscore.eval\n",
    "k /oak/stanford/groups/mrivas/projects/PRS/private_output/snpnet_biomarker_PRS/biomarkers_20190407/1_split/Fasting_glucose.test\n",
    "p /oak/stanford/groups/mrivas/projects/PRS/private_output/snpnet_biomarker_PRS/biomarkers_20190407/0_input/Fasting_glucose.phe\n",
    "t qt\n",
    "c /oak/stanford/groups/mrivas/users/ytanigaw/repos/rivas-lab/PRS/notebook/20190406_biomarker_covar/biomarker_covar.tsv\n",
    "b /oak/stanford/groups/mrivas/projects/PRS/private_output/snpnet_biomarker_PRS/biomarkers_20190407/3_snpnet/Fasting_glucose.covars.tsv.gz\n",
    "/oak/stanford/groups/mrivas/projects/PRS/private_output/snpnet_biomarker_PRS/biomarkers_20190407/4_score/Fasting_glucose.sscore /oak/stanford/groups/mrivas/projects/PRS/private_output/snpnet_biomarker_PRS/biomarkers_20190407/0_input/Fasting_glucose.phe /oak/stanford/groups/mrivas/users/ytanigaw/repos/rivas-lab/PRS/notebook/20190406_biomarker_covar/biomarker_covar.tsv /oak/stanford/groups/mrivas/projects/PRS/private_output/snpnet_biomarker_PRS/biomarkers_20190407/1_split/Fasting_glucose.test\n",
    "\n",
    "\n",
    "\n"
   ]
  },
  {
   "cell_type": "code",
   "execution_count": 22,
   "metadata": {},
   "outputs": [],
   "source": [
    "in_score='/oak/stanford/groups/mrivas/projects/PRS/private_output/snpnet_biomarker_PRS/biomarkers_20190407/4_score/Fasting_glucose.sscore'\n",
    "phe='/oak/stanford/groups/mrivas/projects/PRS/private_output/snpnet_biomarker_PRS/biomarkers_20190407/0_input/Fasting_glucose.phe'\n",
    "phe_type='qt'\n",
    "covar_phe='/oak/stanford/groups/mrivas/users/ytanigaw/repos/rivas-lab/PRS/notebook/20190406_biomarker_covar/biomarker_covar.tsv'\n",
    "betas='/oak/stanford/groups/mrivas/projects/PRS/private_output/snpnet_biomarker_PRS/biomarkers_20190407/3_snpnet/Fasting_glucose.covars.tsv.gz'\n",
    "out_file='/oak/stanford/groups/mrivas/projects/PRS/private_output/snpnet_biomarker_PRS/biomarkers_20190407/5_eval/Fasting_glucose.sscore.eval'\n",
    "keep='/oak/stanford/groups/mrivas/projects/PRS/private_output/snpnet_biomarker_PRS/biomarkers_20190407/1_split/Fasting_glucose.test'\n",
    "seed_file='/oak/stanford/groups/mrivas/users/ytanigaw/repos/rivas-lab/PRS/helper/rand.seed.txt'\n"
   ]
  },
  {
   "cell_type": "code",
   "execution_count": 23,
   "metadata": {},
   "outputs": [
    {
     "name": "stdout",
     "output_type": "stream",
     "text": [
      "/oak/stanford/groups/mrivas/projects/PRS/private_output/snpnet_biomarker_PRS/biomarkers_20190407/4_score/Fasting_glucose.sscore /oak/stanford/groups/mrivas/projects/PRS/private_output/snpnet_biomarker_PRS/biomarkers_20190407/0_input/Fasting_glucose.phe /oak/stanford/groups/mrivas/users/ytanigaw/repos/rivas-lab/PRS/notebook/20190406_biomarker_covar/biomarker_covar.tsv /oak/stanford/groups/mrivas/projects/PRS/private_output/snpnet_biomarker_PRS/biomarkers_20190407/1_split/Fasting_glucose.test\n"
     ]
    },
    {
     "ename": "ValueError",
     "evalue": "You are trying to merge on int64 and object columns. If you wish to proceed you should use pd.concat",
     "output_type": "error",
     "traceback": [
      "\u001b[0;31m---------------------------------------------------------------------------\u001b[0m",
      "\u001b[0;31mValueError\u001b[0m                                Traceback (most recent call last)",
      "\u001b[0;32m<ipython-input-23-bf5ab648fcb3>\u001b[0m in \u001b[0;36m<module>\u001b[0;34m\u001b[0m\n\u001b[0;32m----> 1\u001b[0;31m \u001b[0mdf\u001b[0m \u001b[0;34m=\u001b[0m \u001b[0mread_data_for_eval\u001b[0m\u001b[0;34m(\u001b[0m\u001b[0min_score\u001b[0m\u001b[0;34m=\u001b[0m\u001b[0min_score\u001b[0m\u001b[0;34m,\u001b[0m \u001b[0mphe\u001b[0m\u001b[0;34m=\u001b[0m\u001b[0mphe\u001b[0m\u001b[0;34m,\u001b[0m \u001b[0mcovar_phe\u001b[0m\u001b[0;34m=\u001b[0m\u001b[0mcovar_phe\u001b[0m\u001b[0;34m,\u001b[0m \u001b[0mkeep\u001b[0m\u001b[0;34m=\u001b[0m\u001b[0mkeep\u001b[0m\u001b[0;34m)\u001b[0m\u001b[0;34m\u001b[0m\u001b[0;34m\u001b[0m\u001b[0m\n\u001b[0m",
      "\u001b[0;32m<ipython-input-10-855de83f6548>\u001b[0m in \u001b[0;36mread_data_for_eval\u001b[0;34m(in_score, phe, covar_phe, keep)\u001b[0m\n\u001b[1;32m      7\u001b[0m             \u001b[0mphe\u001b[0m\u001b[0;34m,\u001b[0m \u001b[0msep\u001b[0m\u001b[0;34m=\u001b[0m\u001b[0;34m'\\t'\u001b[0m\u001b[0;34m,\u001b[0m \u001b[0musecols\u001b[0m\u001b[0;34m=\u001b[0m\u001b[0;34m[\u001b[0m\u001b[0;36m1\u001b[0m\u001b[0;34m,\u001b[0m\u001b[0;36m2\u001b[0m\u001b[0;34m]\u001b[0m\u001b[0;34m,\u001b[0m \u001b[0mnames\u001b[0m\u001b[0;34m=\u001b[0m\u001b[0;34m[\u001b[0m\u001b[0;34m'IID'\u001b[0m\u001b[0;34m,\u001b[0m \u001b[0;34m'phe'\u001b[0m\u001b[0;34m]\u001b[0m\u001b[0;34m\u001b[0m\u001b[0;34m\u001b[0m\u001b[0m\n\u001b[1;32m      8\u001b[0m         ),\n\u001b[0;32m----> 9\u001b[0;31m         \u001b[0mon\u001b[0m\u001b[0;34m=\u001b[0m\u001b[0;34m'IID'\u001b[0m\u001b[0;34m\u001b[0m\u001b[0;34m\u001b[0m\u001b[0m\n\u001b[0m\u001b[1;32m     10\u001b[0m     \u001b[0;34m)\u001b[0m\u001b[0;34m.\u001b[0m\u001b[0mmerge\u001b[0m\u001b[0;34m(\u001b[0m\u001b[0;34m\u001b[0m\u001b[0;34m\u001b[0m\u001b[0m\n\u001b[1;32m     11\u001b[0m         \u001b[0mpd\u001b[0m\u001b[0;34m.\u001b[0m\u001b[0mread_csv\u001b[0m\u001b[0;34m(\u001b[0m\u001b[0mcovar_phe\u001b[0m\u001b[0;34m,\u001b[0m \u001b[0msep\u001b[0m\u001b[0;34m=\u001b[0m\u001b[0;34m'\\t'\u001b[0m\u001b[0;34m)\u001b[0m\u001b[0;34m,\u001b[0m\u001b[0;34m\u001b[0m\u001b[0;34m\u001b[0m\u001b[0m\n",
      "\u001b[0;32m/oak/stanford/groups/mrivas/users/ytanigaw/software/Anaconda3-5.3.0-Linux-x86_64_20181113/lib/python3.7/site-packages/pandas/core/frame.py\u001b[0m in \u001b[0;36mmerge\u001b[0;34m(self, right, how, on, left_on, right_on, left_index, right_index, sort, suffixes, copy, indicator, validate)\u001b[0m\n\u001b[1;32m   6387\u001b[0m                      \u001b[0mright_on\u001b[0m\u001b[0;34m=\u001b[0m\u001b[0mright_on\u001b[0m\u001b[0;34m,\u001b[0m \u001b[0mleft_index\u001b[0m\u001b[0;34m=\u001b[0m\u001b[0mleft_index\u001b[0m\u001b[0;34m,\u001b[0m\u001b[0;34m\u001b[0m\u001b[0;34m\u001b[0m\u001b[0m\n\u001b[1;32m   6388\u001b[0m                      \u001b[0mright_index\u001b[0m\u001b[0;34m=\u001b[0m\u001b[0mright_index\u001b[0m\u001b[0;34m,\u001b[0m \u001b[0msort\u001b[0m\u001b[0;34m=\u001b[0m\u001b[0msort\u001b[0m\u001b[0;34m,\u001b[0m \u001b[0msuffixes\u001b[0m\u001b[0;34m=\u001b[0m\u001b[0msuffixes\u001b[0m\u001b[0;34m,\u001b[0m\u001b[0;34m\u001b[0m\u001b[0;34m\u001b[0m\u001b[0m\n\u001b[0;32m-> 6389\u001b[0;31m                      copy=copy, indicator=indicator, validate=validate)\n\u001b[0m\u001b[1;32m   6390\u001b[0m \u001b[0;34m\u001b[0m\u001b[0m\n\u001b[1;32m   6391\u001b[0m     \u001b[0;32mdef\u001b[0m \u001b[0mround\u001b[0m\u001b[0;34m(\u001b[0m\u001b[0mself\u001b[0m\u001b[0;34m,\u001b[0m \u001b[0mdecimals\u001b[0m\u001b[0;34m=\u001b[0m\u001b[0;36m0\u001b[0m\u001b[0;34m,\u001b[0m \u001b[0;34m*\u001b[0m\u001b[0margs\u001b[0m\u001b[0;34m,\u001b[0m \u001b[0;34m**\u001b[0m\u001b[0mkwargs\u001b[0m\u001b[0;34m)\u001b[0m\u001b[0;34m:\u001b[0m\u001b[0;34m\u001b[0m\u001b[0;34m\u001b[0m\u001b[0m\n",
      "\u001b[0;32m/oak/stanford/groups/mrivas/users/ytanigaw/software/Anaconda3-5.3.0-Linux-x86_64_20181113/lib/python3.7/site-packages/pandas/core/reshape/merge.py\u001b[0m in \u001b[0;36mmerge\u001b[0;34m(left, right, how, on, left_on, right_on, left_index, right_index, sort, suffixes, copy, indicator, validate)\u001b[0m\n\u001b[1;32m     59\u001b[0m                          \u001b[0mright_index\u001b[0m\u001b[0;34m=\u001b[0m\u001b[0mright_index\u001b[0m\u001b[0;34m,\u001b[0m \u001b[0msort\u001b[0m\u001b[0;34m=\u001b[0m\u001b[0msort\u001b[0m\u001b[0;34m,\u001b[0m \u001b[0msuffixes\u001b[0m\u001b[0;34m=\u001b[0m\u001b[0msuffixes\u001b[0m\u001b[0;34m,\u001b[0m\u001b[0;34m\u001b[0m\u001b[0;34m\u001b[0m\u001b[0m\n\u001b[1;32m     60\u001b[0m                          \u001b[0mcopy\u001b[0m\u001b[0;34m=\u001b[0m\u001b[0mcopy\u001b[0m\u001b[0;34m,\u001b[0m \u001b[0mindicator\u001b[0m\u001b[0;34m=\u001b[0m\u001b[0mindicator\u001b[0m\u001b[0;34m,\u001b[0m\u001b[0;34m\u001b[0m\u001b[0;34m\u001b[0m\u001b[0m\n\u001b[0;32m---> 61\u001b[0;31m                          validate=validate)\n\u001b[0m\u001b[1;32m     62\u001b[0m     \u001b[0;32mreturn\u001b[0m \u001b[0mop\u001b[0m\u001b[0;34m.\u001b[0m\u001b[0mget_result\u001b[0m\u001b[0;34m(\u001b[0m\u001b[0;34m)\u001b[0m\u001b[0;34m\u001b[0m\u001b[0;34m\u001b[0m\u001b[0m\n\u001b[1;32m     63\u001b[0m \u001b[0;34m\u001b[0m\u001b[0m\n",
      "\u001b[0;32m/oak/stanford/groups/mrivas/users/ytanigaw/software/Anaconda3-5.3.0-Linux-x86_64_20181113/lib/python3.7/site-packages/pandas/core/reshape/merge.py\u001b[0m in \u001b[0;36m__init__\u001b[0;34m(self, left, right, how, on, left_on, right_on, axis, left_index, right_index, sort, suffixes, copy, indicator, validate)\u001b[0m\n\u001b[1;32m    553\u001b[0m         \u001b[0;31m# validate the merge keys dtypes. We may need to coerce\u001b[0m\u001b[0;34m\u001b[0m\u001b[0;34m\u001b[0m\u001b[0;34m\u001b[0m\u001b[0m\n\u001b[1;32m    554\u001b[0m         \u001b[0;31m# to avoid incompat dtypes\u001b[0m\u001b[0;34m\u001b[0m\u001b[0;34m\u001b[0m\u001b[0;34m\u001b[0m\u001b[0m\n\u001b[0;32m--> 555\u001b[0;31m         \u001b[0mself\u001b[0m\u001b[0;34m.\u001b[0m\u001b[0m_maybe_coerce_merge_keys\u001b[0m\u001b[0;34m(\u001b[0m\u001b[0;34m)\u001b[0m\u001b[0;34m\u001b[0m\u001b[0;34m\u001b[0m\u001b[0m\n\u001b[0m\u001b[1;32m    556\u001b[0m \u001b[0;34m\u001b[0m\u001b[0m\n\u001b[1;32m    557\u001b[0m         \u001b[0;31m# If argument passed to validate,\u001b[0m\u001b[0;34m\u001b[0m\u001b[0;34m\u001b[0m\u001b[0;34m\u001b[0m\u001b[0m\n",
      "\u001b[0;32m/oak/stanford/groups/mrivas/users/ytanigaw/software/Anaconda3-5.3.0-Linux-x86_64_20181113/lib/python3.7/site-packages/pandas/core/reshape/merge.py\u001b[0m in \u001b[0;36m_maybe_coerce_merge_keys\u001b[0;34m(self)\u001b[0m\n\u001b[1;32m    981\u001b[0m             elif ((is_numeric_dtype(lk) and not is_bool_dtype(lk))\n\u001b[1;32m    982\u001b[0m                     and not is_numeric_dtype(rk)):\n\u001b[0;32m--> 983\u001b[0;31m                 \u001b[0;32mraise\u001b[0m \u001b[0mValueError\u001b[0m\u001b[0;34m(\u001b[0m\u001b[0mmsg\u001b[0m\u001b[0;34m)\u001b[0m\u001b[0;34m\u001b[0m\u001b[0;34m\u001b[0m\u001b[0m\n\u001b[0m\u001b[1;32m    984\u001b[0m             elif (not is_numeric_dtype(lk)\n\u001b[1;32m    985\u001b[0m                     and (is_numeric_dtype(rk) and not is_bool_dtype(rk))):\n",
      "\u001b[0;31mValueError\u001b[0m: You are trying to merge on int64 and object columns. If you wish to proceed you should use pd.concat"
     ]
    }
   ],
   "source": [
    "df = read_data_for_eval(in_score=in_score, phe=phe, covar_phe=covar_phe, keep=keep)"
   ]
  },
  {
   "cell_type": "code",
   "execution_count": 24,
   "metadata": {},
   "outputs": [],
   "source": [
    "def read_data_for_eval(in_score, phe, covar_phe, keep=None):\n",
    "    print(in_score, phe, covar_phe, keep)\n",
    "    df = pd_read_csv_usecols_by_key(\n",
    "        in_score, cols=['IID', 'SCORE1_SUM'], sep='\\t'\n",
    "    ).merge(\n",
    "        pd.read_csv(\n",
    "            phe, sep='\\t', usecols=[1,2], names=['IID', 'phe'], comment='#'\n",
    "        ),\n",
    "        on='IID'\n",
    "    ).merge(\n",
    "        pd.read_csv(covar_phe, sep='\\t'),\n",
    "        on='IID'\n",
    "    )\n",
    "    df_non_missing=df[df['phe'] != 9]\n",
    "    if keep is None:\n",
    "        return df_non_missing\n",
    "    else:\n",
    "        return df_non_missing.merge(\n",
    "            pd.read_csv(\n",
    "                keep, sep='\\t', usecols=[0], names=['IID']\n",
    "            ),\n",
    "            on='IID',\n",
    "            how='inner'\n",
    "        )"
   ]
  },
  {
   "cell_type": "code",
   "execution_count": 25,
   "metadata": {},
   "outputs": [],
   "source": [
    "phe_df = pd.read_csv(\n",
    "            phe, sep='\\t', usecols=[1,2], names=['IID', 'phe'], comment='#'\n",
    "        )"
   ]
  },
  {
   "cell_type": "code",
   "execution_count": 26,
   "metadata": {},
   "outputs": [
    {
     "data": {
      "text/plain": [
       "(461984, 2)"
      ]
     },
     "execution_count": 26,
     "metadata": {},
     "output_type": "execute_result"
    }
   ],
   "source": [
    "phe_df.shape"
   ]
  },
  {
   "cell_type": "code",
   "execution_count": 27,
   "metadata": {},
   "outputs": [],
   "source": [
    "score_df = pd_read_csv_usecols_by_key(\n",
    "        in_score, cols=['IID', 'SCORE1_SUM'], sep='\\t'\n",
    "    )"
   ]
  },
  {
   "cell_type": "code",
   "execution_count": 28,
   "metadata": {},
   "outputs": [
    {
     "data": {
      "text/plain": [
       "(337151, 2)"
      ]
     },
     "execution_count": 28,
     "metadata": {},
     "output_type": "execute_result"
    }
   ],
   "source": [
    "score_df.shape"
   ]
  },
  {
   "cell_type": "code",
   "execution_count": 29,
   "metadata": {},
   "outputs": [],
   "source": [
    "covar_df = pd.read_csv(covar_phe, sep='\\t')"
   ]
  },
  {
   "cell_type": "code",
   "execution_count": 30,
   "metadata": {},
   "outputs": [
    {
     "data": {
      "text/plain": [
       "(461984, 129)"
      ]
     },
     "execution_count": 30,
     "metadata": {},
     "output_type": "execute_result"
    }
   ],
   "source": [
    "covar_df.shape"
   ]
  },
  {
   "cell_type": "code",
   "execution_count": 37,
   "metadata": {},
   "outputs": [],
   "source": [
    "df = score_df.merge(\n",
    "    phe_df,\n",
    "    on='IID'\n",
    ").merge(\n",
    "    covar_df,\n",
    "    on='IID'\n",
    ")"
   ]
  },
  {
   "cell_type": "code",
   "execution_count": 41,
   "metadata": {},
   "outputs": [],
   "source": [
    "def read_data_for_eval(in_score, phe, covar_phe, keep=None):\n",
    "    print(in_score, phe, covar_phe, keep)\n",
    "    score_df = pd_read_csv_usecols_by_key(\n",
    "        in_score, cols=['IID', 'SCORE1_SUM'], sep='\\t'\n",
    "    )    \n",
    "    phe_df = pd.read_csv(\n",
    "        phe, sep='\\t', usecols=[1,2], names=['IID', 'phe'], comment='#'\n",
    "    )    \n",
    "    covar_df = pd.read_csv(covar_phe, sep='\\t')    \n",
    "    df = score_df.merge(\n",
    "        phe_df, on='IID'\n",
    "    ).merge(\n",
    "        covar_df, on='IID'\n",
    "    )\n",
    "    df_non_missing=df[df['phe'] != 9]\n",
    "    if keep is None:\n",
    "        return df_non_missing\n",
    "    else:\n",
    "        return df_non_missing.merge(\n",
    "            pd.read_csv(\n",
    "                keep, sep='\\t', usecols=[0], names=['IID']\n",
    "            ),\n",
    "            on='IID',\n",
    "            how='inner'\n",
    "        )"
   ]
  },
  {
   "cell_type": "code",
   "execution_count": 42,
   "metadata": {},
   "outputs": [
    {
     "name": "stdout",
     "output_type": "stream",
     "text": [
      "/oak/stanford/groups/mrivas/projects/PRS/private_output/snpnet_biomarker_PRS/biomarkers_20190407/4_score/Fasting_glucose.sscore /oak/stanford/groups/mrivas/projects/PRS/private_output/snpnet_biomarker_PRS/biomarkers_20190407/0_input/Fasting_glucose.phe /oak/stanford/groups/mrivas/users/ytanigaw/repos/rivas-lab/PRS/notebook/20190406_biomarker_covar/biomarker_covar.tsv /oak/stanford/groups/mrivas/projects/PRS/private_output/snpnet_biomarker_PRS/biomarkers_20190407/1_split/Fasting_glucose.test\n"
     ]
    }
   ],
   "source": [
    "df = read_data_for_eval(in_score=in_score, phe=phe, covar_phe=covar_phe, keep=keep)"
   ]
  },
  {
   "cell_type": "code",
   "execution_count": null,
   "metadata": {},
   "outputs": [],
   "source": []
  }
 ],
 "metadata": {
  "kernelspec": {
   "display_name": "Python 3",
   "language": "python",
   "name": "python3"
  },
  "language_info": {
   "codemirror_mode": {
    "name": "ipython",
    "version": 3
   },
   "file_extension": ".py",
   "mimetype": "text/x-python",
   "name": "python",
   "nbconvert_exporter": "python",
   "pygments_lexer": "ipython3",
   "version": "3.7.3"
  }
 },
 "nbformat": 4,
 "nbformat_minor": 4
}

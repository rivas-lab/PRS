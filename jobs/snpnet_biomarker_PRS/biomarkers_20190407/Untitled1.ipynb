{
 "cells": [
  {
   "cell_type": "code",
   "execution_count": 1,
   "metadata": {},
   "outputs": [
    {
     "name": "stderr",
     "output_type": "stream",
     "text": [
      "\n",
      "Attaching package: ‘dplyr’\n",
      "\n",
      "The following objects are masked from ‘package:data.table’:\n",
      "\n",
      "    between, first, last\n",
      "\n",
      "The following objects are masked from ‘package:stats’:\n",
      "\n",
      "    filter, lag\n",
      "\n",
      "The following objects are masked from ‘package:base’:\n",
      "\n",
      "    intersect, setdiff, setequal, union\n",
      "\n"
     ]
    }
   ],
   "source": [
    "library(data.table)\n",
    "library(dplyr)"
   ]
  },
  {
   "cell_type": "code",
   "execution_count": 2,
   "metadata": {},
   "outputs": [],
   "source": [
    "rda <- '/oak/stanford/groups/mrivas/projects/PRS/private_output/snpnet_biomarker_PRS/biomarkers_20190406/3_snpnet/Alkaline_phosphatase/results/output_iter_1.rda'\n"
   ]
  },
  {
   "cell_type": "code",
   "execution_count": 3,
   "metadata": {},
   "outputs": [],
   "source": [
    "fit <- readRDS(rda)"
   ]
  },
  {
   "cell_type": "code",
   "execution_count": 5,
   "metadata": {},
   "outputs": [
    {
     "name": "stderr",
     "output_type": "stream",
     "text": [
      "Loading snpnet\n",
      "Loading required package: Rcpp\n"
     ]
    },
    {
     "ename": "ERROR",
     "evalue": "Error in .stop(output, \"parse error:\"): parse error:\nusage: PROGRAM [-h] -p P -n N -g G -o O [-b b] [-f f] [--covarsList C]\n               [--cpu t] [--mem m] [--nPCs c] [--prevIter i] [--bim B]\n               [--rds r]\nPROGRAM: error: the following arguments are required: -p, -n, -g, -o\n",
     "execution_count": 5,
     "output_type": "error",
     "traceback": [
      "Error in .stop(output, \"parse error:\"): parse error:\nusage: PROGRAM [-h] -p P -n N -g G -o O [-b b] [-f f] [--covarsList C]\n               [--cpu t] [--mem m] [--nPCs c] [--prevIter i] [--bim B]\n               [--rds r]\nPROGRAM: error: the following arguments are required: -p, -n, -g, -o\nTraceback:\n",
      "1. source(\"/oak/stanford/groups/mrivas/users/ytanigaw/repos/rivas-lab/PRS/helper/snpnet-fit.R\")",
      "2. withVisible(eval(ei, envir))",
      "3. eval(ei, envir)",
      "4. eval(ei, envir)",
      "5. parser$parse_args(cmdargs)",
      "6. .stop(output, \"parse error:\")",
      "7. stop(paste(r_note, paste(message, collapse = \"\\n\"), sep = \"\\n\"))"
     ]
    }
   ],
   "source": [
    "source('/oak/stanford/groups/mrivas/users/ytanigaw/repos/rivas-lab/PRS/helper/snpnet-fit.R')"
   ]
  },
  {
   "cell_type": "code",
   "execution_count": 6,
   "metadata": {},
   "outputs": [
    {
     "name": "stderr",
     "output_type": "stream",
     "text": [
      "Warning message:\n",
      "“Expected 2 pieces. Missing pieces filled with `NA` in 48 rows [1, 2, 3, 4, 5, 6, 7, 8, 9, 10, 11, 12, 13, 14, 15, 16, 17, 18, 19, 20, ...].”"
     ]
    }
   ],
   "source": [
    "df <- snpnet_fit2table(fit)"
   ]
  },
  {
   "cell_type": "code",
   "execution_count": 8,
   "metadata": {},
   "outputs": [
    {
     "data": {
      "text/html": [
       "<ol class=list-inline>\n",
       "\t<li>1127</li>\n",
       "\t<li>3</li>\n",
       "</ol>\n"
      ],
      "text/latex": [
       "\\begin{enumerate*}\n",
       "\\item 1127\n",
       "\\item 3\n",
       "\\end{enumerate*}\n"
      ],
      "text/markdown": [
       "1. 1127\n",
       "2. 3\n",
       "\n",
       "\n"
      ],
      "text/plain": [
       "[1] 1127    3"
      ]
     },
     "metadata": {},
     "output_type": "display_data"
    }
   ],
   "source": [
    "df %>% dim()"
   ]
  },
  {
   "cell_type": "code",
   "execution_count": 9,
   "metadata": {},
   "outputs": [
    {
     "data": {
      "text/html": [
       "<table>\n",
       "<thead><tr><th></th><th scope=col>ID</th><th scope=col>A1</th><th scope=col>BETA</th></tr></thead>\n",
       "<tbody>\n",
       "\t<tr><th scope=row>1122</th><td>rs616718  </td><td>A         </td><td>0         </td></tr>\n",
       "\t<tr><th scope=row>1123</th><td>rs4581844 </td><td>C         </td><td>0         </td></tr>\n",
       "\t<tr><th scope=row>1124</th><td>rs12624577</td><td>C         </td><td>0         </td></tr>\n",
       "\t<tr><th scope=row>1125</th><td>rs2414078 </td><td>G         </td><td>0         </td></tr>\n",
       "\t<tr><th scope=row>1126</th><td>rs5832844 </td><td>T         </td><td>0         </td></tr>\n",
       "\t<tr><th scope=row>1127</th><td>rs2202955 </td><td>G         </td><td>0         </td></tr>\n",
       "</tbody>\n",
       "</table>\n"
      ],
      "text/latex": [
       "\\begin{tabular}{r|lll}\n",
       "  & ID & A1 & BETA\\\\\n",
       "\\hline\n",
       "\t1122 & rs616718   & A          & 0         \\\\\n",
       "\t1123 & rs4581844  & C          & 0         \\\\\n",
       "\t1124 & rs12624577 & C          & 0         \\\\\n",
       "\t1125 & rs2414078  & G          & 0         \\\\\n",
       "\t1126 & rs5832844  & T          & 0         \\\\\n",
       "\t1127 & rs2202955  & G          & 0         \\\\\n",
       "\\end{tabular}\n"
      ],
      "text/markdown": [
       "\n",
       "| <!--/--> | ID | A1 | BETA |\n",
       "|---|---|---|---|\n",
       "| 1122 | rs616718   | A          | 0          |\n",
       "| 1123 | rs4581844  | C          | 0          |\n",
       "| 1124 | rs12624577 | C          | 0          |\n",
       "| 1125 | rs2414078  | G          | 0          |\n",
       "| 1126 | rs5832844  | T          | 0          |\n",
       "| 1127 | rs2202955  | G          | 0          |\n",
       "\n"
      ],
      "text/plain": [
       "     ID         A1 BETA\n",
       "1122 rs616718   A  0   \n",
       "1123 rs4581844  C  0   \n",
       "1124 rs12624577 C  0   \n",
       "1125 rs2414078  G  0   \n",
       "1126 rs5832844  T  0   \n",
       "1127 rs2202955  G  0   "
      ]
     },
     "metadata": {},
     "output_type": "display_data"
    }
   ],
   "source": [
    "df %>% tail()"
   ]
  },
  {
   "cell_type": "code",
   "execution_count": 10,
   "metadata": {},
   "outputs": [
    {
     "data": {
      "text/html": [
       "<ol class=list-inline>\n",
       "\t<li>123</li>\n",
       "\t<li>3</li>\n",
       "</ol>\n"
      ],
      "text/latex": [
       "\\begin{enumerate*}\n",
       "\\item 123\n",
       "\\item 3\n",
       "\\end{enumerate*}\n"
      ],
      "text/markdown": [
       "1. 123\n",
       "2. 3\n",
       "\n",
       "\n"
      ],
      "text/plain": [
       "[1] 123   3"
      ]
     },
     "metadata": {},
     "output_type": "display_data"
    }
   ],
   "source": [
    "df %>% filter(BETA != 0) %>% dim()"
   ]
  },
  {
   "cell_type": "code",
   "execution_count": 11,
   "metadata": {},
   "outputs": [
    {
     "ename": "ERROR",
     "evalue": "Error in data.frame(ID = covariates): object 'covariates' not found\n",
     "execution_count": 11,
     "output_type": "error",
     "traceback": [
      "Error in data.frame(ID = covariates): object 'covariates' not found\nTraceback:\n",
      "1. snpnet_extract_covars(df, covariates)",
      "2. df %>% right_join(data.frame(ID = covariates), on = \"ID\") %>% \n .     select(ID, BETA)",
      "3. withVisible(eval(quote(`_fseq`(`_lhs`)), env, env))",
      "4. eval(quote(`_fseq`(`_lhs`)), env, env)",
      "5. eval(quote(`_fseq`(`_lhs`)), env, env)",
      "6. `_fseq`(`_lhs`)",
      "7. freduce(value, `_function_list`)",
      "8. function_list[[i]](value)",
      "9. right_join(., data.frame(ID = covariates), on = \"ID\")",
      "10. right_join.data.frame(., data.frame(ID = covariates), on = \"ID\")",
      "11. as.data.frame(right_join(tbl_df(x), y, by = by, copy = copy, \n  .     ...))",
      "12. right_join(tbl_df(x), y, by = by, copy = copy, ...)",
      "13. right_join.tbl_df(tbl_df(x), y, by = by, copy = copy, ...)",
      "14. check_valid_names(tbl_vars(y))",
      "15. tbl_vars(y)",
      "16. data.frame(ID = covariates)"
     ]
    }
   ],
   "source": [
    "# beta for covariates\n",
    "df_covars <- snpnet_extract_covars(df, covariates)    \n",
    "# df_covars %>% write.table(\n",
    "#     paste0(args$b, '.covars.tsv'), \n",
    "#     quote=FALSE, row.names=FALSE, sep='\\t'\n",
    "# )    \n"
   ]
  },
  {
   "cell_type": "code",
   "execution_count": 13,
   "metadata": {},
   "outputs": [],
   "source": [
    "covariates <- read_file_as_list('/oak/stanford/groups/mrivas/users/ytanigaw/repos/rivas-lab/PRS/notebook/20190406_biomarker_covar/biomarker_covar.colnames')\n",
    "\n"
   ]
  },
  {
   "cell_type": "code",
   "execution_count": 15,
   "metadata": {},
   "outputs": [
    {
     "name": "stderr",
     "output_type": "stream",
     "text": [
      "Joining, by = \"ID\"\n",
      "Warning message:\n",
      "“Column `ID` joining character vector and factor, coercing into character vector”"
     ]
    }
   ],
   "source": [
    "# beta for covariates\n",
    "df_covars <- snpnet_extract_covars(df, covariates)    \n",
    "# df_covars %>% write.table(\n",
    "#     paste0(args$b, '.covars.tsv'), \n",
    "#     quote=FALSE, row.names=FALSE, sep='\\t'\n",
    "# )    \n"
   ]
  },
  {
   "cell_type": "code",
   "execution_count": 21,
   "metadata": {},
   "outputs": [],
   "source": [
    "snpnet_fit2table <- function(fit) {\n",
    "    df <- fit$beta[which.max(fit$metric.val)] %>% data.frame()\n",
    "    colnames(df) <- 'BETA'\n",
    "\n",
    "    df_separated <- df %>%\n",
    "    rownames_to_column(\"feature\") %>%\n",
    "    separate(feature, into=c('ID', 'A1'), sep='_')\n",
    "\n",
    "    return(df_separated)\n",
    "}"
   ]
  },
  {
   "cell_type": "code",
   "execution_count": 27,
   "metadata": {},
   "outputs": [],
   "source": [
    "df <- fit$beta[which.max(fit$metric.val)] %>% data.frame()\n",
    "colnames(df) <- 'BETA'\n",
    "df <- df %>% rownames_to_column(\"feature\")"
   ]
  },
  {
   "cell_type": "code",
   "execution_count": 35,
   "metadata": {},
   "outputs": [],
   "source": [
    "snpnet_fit2table <- function(fit) {\n",
    "    df <- fit$beta[which.max(fit$metric.val)] %>% data.frame()\n",
    "    colnames(df) <- 'BETA'\n",
    "    df %>%\n",
    "    rownames_to_column(\"ID\") \n",
    "}"
   ]
  },
  {
   "cell_type": "code",
   "execution_count": 36,
   "metadata": {},
   "outputs": [],
   "source": [
    "df <- snpnet_fit2table(fit)"
   ]
  },
  {
   "cell_type": "code",
   "execution_count": 37,
   "metadata": {},
   "outputs": [
    {
     "data": {
      "text/html": [
       "<ol class=list-inline>\n",
       "\t<li>127</li>\n",
       "\t<li>2</li>\n",
       "</ol>\n"
      ],
      "text/latex": [
       "\\begin{enumerate*}\n",
       "\\item 127\n",
       "\\item 2\n",
       "\\end{enumerate*}\n"
      ],
      "text/markdown": [
       "1. 127\n",
       "2. 2\n",
       "\n",
       "\n"
      ],
      "text/plain": [
       "[1] 127   2"
      ]
     },
     "metadata": {},
     "output_type": "display_data"
    }
   ],
   "source": [
    "df %>% filter(\n",
    "    ID %in% covariates\n",
    ") %>% dim()\n"
   ]
  },
  {
   "cell_type": "code",
   "execution_count": 39,
   "metadata": {},
   "outputs": [
    {
     "data": {
      "text/html": [
       "<table>\n",
       "<thead><tr><th scope=col>ID</th><th scope=col>A1</th><th scope=col>BETA</th></tr></thead>\n",
       "<tbody>\n",
       "\t<tr><td>rs1135173  </td><td>A          </td><td>0.001283684</td></tr>\n",
       "</tbody>\n",
       "</table>\n"
      ],
      "text/latex": [
       "\\begin{tabular}{r|lll}\n",
       " ID & A1 & BETA\\\\\n",
       "\\hline\n",
       "\t rs1135173   & A           & 0.001283684\\\\\n",
       "\\end{tabular}\n"
      ],
      "text/markdown": [
       "\n",
       "| ID | A1 | BETA |\n",
       "|---|---|---|\n",
       "| rs1135173   | A           | 0.001283684 |\n",
       "\n"
      ],
      "text/plain": [
       "  ID        A1 BETA       \n",
       "1 rs1135173 A  0.001283684"
      ]
     },
     "metadata": {},
     "output_type": "display_data"
    }
   ],
   "source": [
    "df %>% filter(\n",
    "    ! ID %in% covariates\n",
    ") %>% filter(\n",
    "    BETA != 0\n",
    ") %>% separate(\n",
    "    ID, into=c('ID', 'A1'), sep='_'\n",
    ")\n"
   ]
  },
  {
   "cell_type": "code",
   "execution_count": 42,
   "metadata": {},
   "outputs": [],
   "source": [
    "bim.file <- '/oak/stanford/groups/mrivas/ukbb24983/cal/pgen/ukb24983_cal_cALL_v2.bim'\n"
   ]
  },
  {
   "cell_type": "code",
   "execution_count": null,
   "metadata": {},
   "outputs": [],
   "source": [
    "    # beta for genotypes\n",
    "    df_genotypes <- snpnet_join_with_bim(df, args$bim)\n",
    "    df_genotypes %>% write.table(\n",
    "        paste0(args$b, '.tsv'), \n",
    "        quote=FALSE, row.names=FALSE, sep='\\t'\n",
    "    )\n",
    "    # beta for covariates\n",
    "    df_covars <- snpnet_extract_covars(df, covariates)    \n",
    "    df_covars %>% write.table(\n",
    "        paste0(args$b, '.covars.tsv'), \n",
    "        quote=FALSE, row.names=FALSE, sep='\\t'\n",
    "    )    "
   ]
  },
  {
   "cell_type": "code",
   "execution_count": 43,
   "metadata": {},
   "outputs": [],
   "source": [
    "# Define constants\n",
    "bim.cols <- c('CHROM', 'ID', 'CM', 'POS', 'ALT', 'REF')\n",
    "out.cols <- c('CHROM', 'POS', 'ID', 'REF', 'ALT', 'A1', 'BETA')\n",
    "# read PLINK bim file\n",
    "bim.df <- fread(bim.file, data.table = FALSE)\n",
    "colnames(bim.df) <- bim.cols\n"
   ]
  },
  {
   "cell_type": "code",
   "execution_count": 47,
   "metadata": {},
   "outputs": [],
   "source": [
    "snpnet_join_with_bim <- function(df, covariates, bim.file) {\n",
    "# Define constants\n",
    "    bim.cols <- c('CHROM', 'ID', 'CM', 'POS', 'ALT', 'REF')\n",
    "    out.cols <- c('CHROM', 'POS', 'ID', 'REF', 'ALT', 'A1', 'BETA')\n",
    "# read PLINK bim file\n",
    "    bim.df <- fread(bim.file, data.table = FALSE)\n",
    "    colnames(bim.df) <- bim.cols\n",
    "# process the given data frame (join w/ bim)\n",
    "    df_joined <- df %>%\n",
    "    filter(\n",
    "        ! ID %in% covariates\n",
    "    ) %>% filter(\n",
    "        BETA != 0\n",
    "    ) %>% separate(\n",
    "        ID, into=c('ID', 'A1'), sep='_'\n",
    "    ) %>%\n",
    "    drop_na() %>%\n",
    "    left_join(bim.df, on='ID') %>%\n",
    "    select(out.cols) %>%\n",
    "    arrange(CHROM, POS)\n",
    "# return\n",
    "    return(df_joined)\n",
    "}"
   ]
  },
  {
   "cell_type": "code",
   "execution_count": 48,
   "metadata": {},
   "outputs": [
    {
     "name": "stderr",
     "output_type": "stream",
     "text": [
      "Joining, by = \"ID\"\n"
     ]
    },
    {
     "data": {
      "text/html": [
       "<table>\n",
       "<thead><tr><th scope=col>CHROM</th><th scope=col>POS</th><th scope=col>ID</th><th scope=col>REF</th><th scope=col>ALT</th><th scope=col>A1</th><th scope=col>BETA</th></tr></thead>\n",
       "<tbody>\n",
       "\t<tr><td>2          </td><td>234054873  </td><td>rs1135173  </td><td>G          </td><td>A          </td><td>A          </td><td>0.001283684</td></tr>\n",
       "</tbody>\n",
       "</table>\n"
      ],
      "text/latex": [
       "\\begin{tabular}{r|lllllll}\n",
       " CHROM & POS & ID & REF & ALT & A1 & BETA\\\\\n",
       "\\hline\n",
       "\t 2           & 234054873   & rs1135173   & G           & A           & A           & 0.001283684\\\\\n",
       "\\end{tabular}\n"
      ],
      "text/markdown": [
       "\n",
       "| CHROM | POS | ID | REF | ALT | A1 | BETA |\n",
       "|---|---|---|---|---|---|---|\n",
       "| 2           | 234054873   | rs1135173   | G           | A           | A           | 0.001283684 |\n",
       "\n"
      ],
      "text/plain": [
       "  CHROM POS       ID        REF ALT A1 BETA       \n",
       "1 2     234054873 rs1135173 G   A   A  0.001283684"
      ]
     },
     "metadata": {},
     "output_type": "display_data"
    }
   ],
   "source": [
    "df %>% snpnet_join_with_bim(covariates, bim.file)"
   ]
  },
  {
   "cell_type": "code",
   "execution_count": null,
   "metadata": {},
   "outputs": [],
   "source": []
  }
 ],
 "metadata": {
  "kernelspec": {
   "display_name": "R",
   "language": "R",
   "name": "ir"
  },
  "language_info": {
   "codemirror_mode": "r",
   "file_extension": ".r",
   "mimetype": "text/x-r-source",
   "name": "R",
   "pygments_lexer": "r",
   "version": "3.6.1"
  }
 },
 "nbformat": 4,
 "nbformat_minor": 4
}

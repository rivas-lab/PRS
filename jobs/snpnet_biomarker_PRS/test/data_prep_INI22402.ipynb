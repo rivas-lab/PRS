{
 "cells": [
  {
   "cell_type": "code",
   "execution_count": 2,
   "metadata": {},
   "outputs": [],
   "source": [
    "library(data.table)\n"
   ]
  },
  {
   "cell_type": "code",
   "execution_count": 3,
   "metadata": {},
   "outputs": [],
   "source": [
    "phe <- fread('INI22402.tsv', sep='\\t', data.table=F)"
   ]
  },
  {
   "cell_type": "code",
   "execution_count": 4,
   "metadata": {},
   "outputs": [],
   "source": [
    "covars <- fread(\n",
    "'/oak/stanford/groups/mrivas/projects/biomarkers/covariate_corrected/covariates/fatty_liver_mri.covariates.noNormTDI.phe',\n",
    "sep='\\t',\n",
    "data.table=F\n",
    ")"
   ]
  },
  {
   "cell_type": "code",
   "execution_count": 5,
   "metadata": {},
   "outputs": [
    {
     "data": {
      "text/html": [
       "<table>\n",
       "<thead><tr><th scope=col>FID</th><th scope=col>IID</th><th scope=col>age</th><th scope=col>sex</th><th scope=col>Array</th><th scope=col>PC1</th><th scope=col>PC2</th><th scope=col>PC3</th><th scope=col>PC4</th><th scope=col>PC5</th><th scope=col>⋯</th><th scope=col>PC37</th><th scope=col>PC38</th><th scope=col>PC39</th><th scope=col>PC40</th><th scope=col>agesquared</th><th scope=col>alcohol</th><th scope=col>TDI</th><th scope=col>age_sex</th><th scope=col>age_alcohol</th><th scope=col>sex_alcohol</th></tr></thead>\n",
       "<tbody>\n",
       "\t<tr><td>5873991  </td><td>5873991  </td><td>65       </td><td>0        </td><td>1        </td><td>-11.3679 </td><td> 0.777251</td><td>-0.858586</td><td> 2.21528 </td><td>-5.915690</td><td>⋯        </td><td>-6.014370</td><td>-3.633080</td><td> 2.782900</td><td> 0.949963</td><td>4225     </td><td>1.0      </td><td>-5.38678 </td><td> 0       </td><td>65.0     </td><td>0        </td></tr>\n",
       "\t<tr><td>2892098  </td><td>2892098  </td><td>69       </td><td>0        </td><td>1        </td><td>-11.8021 </td><td>-0.376470</td><td>-2.649280</td><td>-0.27651 </td><td>-5.916140</td><td>⋯        </td><td>-4.544080</td><td>-0.106667</td><td> 0.908469</td><td> 5.307500</td><td>4761     </td><td>0.5      </td><td>-4.46698 </td><td> 0       </td><td>34.5     </td><td>0        </td></tr>\n",
       "\t<tr><td>2735732  </td><td>2735732  </td><td>58       </td><td>1        </td><td>1        </td><td>-13.2630 </td><td> 1.520770</td><td>-1.424390</td><td> 2.24802 </td><td>-0.682897</td><td>⋯        </td><td> 2.626880</td><td> 0.462941</td><td> 5.548500</td><td> 2.072990</td><td>3364     </td><td>0.0      </td><td>-1.38113 </td><td>58       </td><td> 0.0     </td><td>0        </td></tr>\n",
       "\t<tr><td>3457781  </td><td>3457781  </td><td>62       </td><td>1        </td><td>1        </td><td>-10.8227 </td><td> 5.071960</td><td>-2.164900</td><td> 5.15150 </td><td>-7.712850</td><td>⋯        </td><td>-0.877694</td><td>-1.570900</td><td> 2.309040</td><td>-3.886400</td><td>3844     </td><td>1.0      </td><td> 0.49465 </td><td>62       </td><td>62.0     </td><td>1        </td></tr>\n",
       "\t<tr><td>5223342  </td><td>5223342  </td><td>59       </td><td>1        </td><td>1        </td><td>-11.8500 </td><td> 5.339670</td><td>-4.323510</td><td> 4.11514 </td><td>-0.824634</td><td>⋯        </td><td>-1.908150</td><td>-1.821220</td><td>-2.917320</td><td>-1.047090</td><td>3481     </td><td>1.0      </td><td>-4.78062 </td><td>59       </td><td>59.0     </td><td>1        </td></tr>\n",
       "\t<tr><td>4948463  </td><td>4948463  </td><td>65       </td><td>1        </td><td>1        </td><td>-11.2271 </td><td> 4.647990</td><td>-4.505350</td><td> 1.11392 </td><td>-3.678600</td><td>⋯        </td><td> 0.442056</td><td> 2.736750</td><td> 1.787420</td><td>-2.239350</td><td>4225     </td><td>1.0      </td><td>-4.43758 </td><td>65       </td><td>65.0     </td><td>1        </td></tr>\n",
       "</tbody>\n",
       "</table>\n"
      ],
      "text/latex": [
       "\\begin{tabular}{r|lllllllllllllllllllllllllllllllllllllllllllllllllll}\n",
       " FID & IID & age & sex & Array & PC1 & PC2 & PC3 & PC4 & PC5 & ⋯ & PC37 & PC38 & PC39 & PC40 & agesquared & alcohol & TDI & age\\_sex & age\\_alcohol & sex\\_alcohol\\\\\n",
       "\\hline\n",
       "\t 5873991   & 5873991   & 65        & 0         & 1         & -11.3679  &  0.777251 & -0.858586 &  2.21528  & -5.915690 & ⋯         & -6.014370 & -3.633080 &  2.782900 &  0.949963 & 4225      & 1.0       & -5.38678  &  0        & 65.0      & 0        \\\\\n",
       "\t 2892098   & 2892098   & 69        & 0         & 1         & -11.8021  & -0.376470 & -2.649280 & -0.27651  & -5.916140 & ⋯         & -4.544080 & -0.106667 &  0.908469 &  5.307500 & 4761      & 0.5       & -4.46698  &  0        & 34.5      & 0        \\\\\n",
       "\t 2735732   & 2735732   & 58        & 1         & 1         & -13.2630  &  1.520770 & -1.424390 &  2.24802  & -0.682897 & ⋯         &  2.626880 &  0.462941 &  5.548500 &  2.072990 & 3364      & 0.0       & -1.38113  & 58        &  0.0      & 0        \\\\\n",
       "\t 3457781   & 3457781   & 62        & 1         & 1         & -10.8227  &  5.071960 & -2.164900 &  5.15150  & -7.712850 & ⋯         & -0.877694 & -1.570900 &  2.309040 & -3.886400 & 3844      & 1.0       &  0.49465  & 62        & 62.0      & 1        \\\\\n",
       "\t 5223342   & 5223342   & 59        & 1         & 1         & -11.8500  &  5.339670 & -4.323510 &  4.11514  & -0.824634 & ⋯         & -1.908150 & -1.821220 & -2.917320 & -1.047090 & 3481      & 1.0       & -4.78062  & 59        & 59.0      & 1        \\\\\n",
       "\t 4948463   & 4948463   & 65        & 1         & 1         & -11.2271  &  4.647990 & -4.505350 &  1.11392  & -3.678600 & ⋯         &  0.442056 &  2.736750 &  1.787420 & -2.239350 & 4225      & 1.0       & -4.43758  & 65        & 65.0      & 1        \\\\\n",
       "\\end{tabular}\n"
      ],
      "text/markdown": [
       "\n",
       "| FID | IID | age | sex | Array | PC1 | PC2 | PC3 | PC4 | PC5 | ⋯ | PC37 | PC38 | PC39 | PC40 | agesquared | alcohol | TDI | age_sex | age_alcohol | sex_alcohol |\n",
       "|---|---|---|---|---|---|---|---|---|---|---|---|---|---|---|---|---|---|---|---|---|\n",
       "| 5873991   | 5873991   | 65        | 0         | 1         | -11.3679  |  0.777251 | -0.858586 |  2.21528  | -5.915690 | ⋯         | -6.014370 | -3.633080 |  2.782900 |  0.949963 | 4225      | 1.0       | -5.38678  |  0        | 65.0      | 0         |\n",
       "| 2892098   | 2892098   | 69        | 0         | 1         | -11.8021  | -0.376470 | -2.649280 | -0.27651  | -5.916140 | ⋯         | -4.544080 | -0.106667 |  0.908469 |  5.307500 | 4761      | 0.5       | -4.46698  |  0        | 34.5      | 0         |\n",
       "| 2735732   | 2735732   | 58        | 1         | 1         | -13.2630  |  1.520770 | -1.424390 |  2.24802  | -0.682897 | ⋯         |  2.626880 |  0.462941 |  5.548500 |  2.072990 | 3364      | 0.0       | -1.38113  | 58        |  0.0      | 0         |\n",
       "| 3457781   | 3457781   | 62        | 1         | 1         | -10.8227  |  5.071960 | -2.164900 |  5.15150  | -7.712850 | ⋯         | -0.877694 | -1.570900 |  2.309040 | -3.886400 | 3844      | 1.0       |  0.49465  | 62        | 62.0      | 1         |\n",
       "| 5223342   | 5223342   | 59        | 1         | 1         | -11.8500  |  5.339670 | -4.323510 |  4.11514  | -0.824634 | ⋯         | -1.908150 | -1.821220 | -2.917320 | -1.047090 | 3481      | 1.0       | -4.78062  | 59        | 59.0      | 1         |\n",
       "| 4948463   | 4948463   | 65        | 1         | 1         | -11.2271  |  4.647990 | -4.505350 |  1.11392  | -3.678600 | ⋯         |  0.442056 |  2.736750 |  1.787420 | -2.239350 | 4225      | 1.0       | -4.43758  | 65        | 65.0      | 1         |\n",
       "\n"
      ],
      "text/plain": [
       "  FID     IID     age sex Array PC1      PC2       PC3       PC4      PC5      \n",
       "1 5873991 5873991 65  0   1     -11.3679  0.777251 -0.858586  2.21528 -5.915690\n",
       "2 2892098 2892098 69  0   1     -11.8021 -0.376470 -2.649280 -0.27651 -5.916140\n",
       "3 2735732 2735732 58  1   1     -13.2630  1.520770 -1.424390  2.24802 -0.682897\n",
       "4 3457781 3457781 62  1   1     -10.8227  5.071960 -2.164900  5.15150 -7.712850\n",
       "5 5223342 5223342 59  1   1     -11.8500  5.339670 -4.323510  4.11514 -0.824634\n",
       "6 4948463 4948463 65  1   1     -11.2271  4.647990 -4.505350  1.11392 -3.678600\n",
       "  ⋯ PC37      PC38      PC39      PC40      agesquared alcohol TDI      age_sex\n",
       "1 ⋯ -6.014370 -3.633080  2.782900  0.949963 4225       1.0     -5.38678  0     \n",
       "2 ⋯ -4.544080 -0.106667  0.908469  5.307500 4761       0.5     -4.46698  0     \n",
       "3 ⋯  2.626880  0.462941  5.548500  2.072990 3364       0.0     -1.38113 58     \n",
       "4 ⋯ -0.877694 -1.570900  2.309040 -3.886400 3844       1.0      0.49465 62     \n",
       "5 ⋯ -1.908150 -1.821220 -2.917320 -1.047090 3481       1.0     -4.78062 59     \n",
       "6 ⋯  0.442056  2.736750  1.787420 -2.239350 4225       1.0     -4.43758 65     \n",
       "  age_alcohol sex_alcohol\n",
       "1 65.0        0          \n",
       "2 34.5        0          \n",
       "3  0.0        0          \n",
       "4 62.0        1          \n",
       "5 59.0        1          \n",
       "6 65.0        1          "
      ]
     },
     "metadata": {},
     "output_type": "display_data"
    }
   ],
   "source": [
    "head(covars)"
   ]
  },
  {
   "cell_type": "code",
   "execution_count": 9,
   "metadata": {},
   "outputs": [],
   "source": [
    "phe_filtered <- phe %>% filter(\n",
    "IID >= 0,\n",
    "INI22402 != -9\n",
    ") "
   ]
  },
  {
   "cell_type": "code",
   "execution_count": 10,
   "metadata": {},
   "outputs": [
    {
     "data": {
      "text/html": [
       "<ol class=list-inline>\n",
       "\t<li>516885</li>\n",
       "\t<li>2</li>\n",
       "</ol>\n"
      ],
      "text/latex": [
       "\\begin{enumerate*}\n",
       "\\item 516885\n",
       "\\item 2\n",
       "\\end{enumerate*}\n"
      ],
      "text/markdown": [
       "1. 516885\n",
       "2. 2\n",
       "\n",
       "\n"
      ],
      "text/plain": [
       "[1] 516885      2"
      ]
     },
     "metadata": {},
     "output_type": "display_data"
    },
    {
     "data": {
      "text/html": [
       "<ol class=list-inline>\n",
       "\t<li>4617</li>\n",
       "\t<li>2</li>\n",
       "</ol>\n"
      ],
      "text/latex": [
       "\\begin{enumerate*}\n",
       "\\item 4617\n",
       "\\item 2\n",
       "\\end{enumerate*}\n"
      ],
      "text/markdown": [
       "1. 4617\n",
       "2. 2\n",
       "\n",
       "\n"
      ],
      "text/plain": [
       "[1] 4617    2"
      ]
     },
     "metadata": {},
     "output_type": "display_data"
    }
   ],
   "source": [
    "phe %>% dim()\n",
    "phe_filtered %>% dim()"
   ]
  },
  {
   "cell_type": "code",
   "execution_count": 6,
   "metadata": {},
   "outputs": [
    {
     "name": "stderr",
     "output_type": "stream",
     "text": [
      "\n",
      "Attaching package: ‘dplyr’\n",
      "\n",
      "The following objects are masked from ‘package:data.table’:\n",
      "\n",
      "    between, first, last\n",
      "\n",
      "The following objects are masked from ‘package:stats’:\n",
      "\n",
      "    filter, lag\n",
      "\n",
      "The following objects are masked from ‘package:base’:\n",
      "\n",
      "    intersect, setdiff, setequal, union\n",
      "\n"
     ]
    }
   ],
   "source": [
    "library(dplyr)"
   ]
  },
  {
   "cell_type": "code",
   "execution_count": 11,
   "metadata": {},
   "outputs": [
    {
     "data": {
      "text/html": [
       "<table>\n",
       "<thead><tr><th scope=col>FID</th><th scope=col>IID</th><th scope=col>age</th><th scope=col>sex</th><th scope=col>Array</th><th scope=col>PC1</th><th scope=col>PC2</th><th scope=col>PC3</th><th scope=col>PC4</th><th scope=col>PC5</th><th scope=col>⋯</th><th scope=col>PC37</th><th scope=col>PC38</th><th scope=col>PC39</th><th scope=col>PC40</th><th scope=col>agesquared</th><th scope=col>alcohol</th><th scope=col>TDI</th><th scope=col>age_sex</th><th scope=col>age_alcohol</th><th scope=col>sex_alcohol</th></tr></thead>\n",
       "<tbody>\n",
       "\t<tr><td>5873991  </td><td>5873991  </td><td>65       </td><td>0        </td><td>1        </td><td>-11.3679 </td><td> 0.777251</td><td>-0.858586</td><td> 2.21528 </td><td>-5.915690</td><td>⋯        </td><td>-6.014370</td><td>-3.633080</td><td> 2.782900</td><td> 0.949963</td><td>4225     </td><td>1.0      </td><td>-5.38678 </td><td> 0       </td><td>65.0     </td><td>0        </td></tr>\n",
       "\t<tr><td>2892098  </td><td>2892098  </td><td>69       </td><td>0        </td><td>1        </td><td>-11.8021 </td><td>-0.376470</td><td>-2.649280</td><td>-0.27651 </td><td>-5.916140</td><td>⋯        </td><td>-4.544080</td><td>-0.106667</td><td> 0.908469</td><td> 5.307500</td><td>4761     </td><td>0.5      </td><td>-4.46698 </td><td> 0       </td><td>34.5     </td><td>0        </td></tr>\n",
       "\t<tr><td>2735732  </td><td>2735732  </td><td>58       </td><td>1        </td><td>1        </td><td>-13.2630 </td><td> 1.520770</td><td>-1.424390</td><td> 2.24802 </td><td>-0.682897</td><td>⋯        </td><td> 2.626880</td><td> 0.462941</td><td> 5.548500</td><td> 2.072990</td><td>3364     </td><td>0.0      </td><td>-1.38113 </td><td>58       </td><td> 0.0     </td><td>0        </td></tr>\n",
       "\t<tr><td>3457781  </td><td>3457781  </td><td>62       </td><td>1        </td><td>1        </td><td>-10.8227 </td><td> 5.071960</td><td>-2.164900</td><td> 5.15150 </td><td>-7.712850</td><td>⋯        </td><td>-0.877694</td><td>-1.570900</td><td> 2.309040</td><td>-3.886400</td><td>3844     </td><td>1.0      </td><td> 0.49465 </td><td>62       </td><td>62.0     </td><td>1        </td></tr>\n",
       "\t<tr><td>5223342  </td><td>5223342  </td><td>59       </td><td>1        </td><td>1        </td><td>-11.8500 </td><td> 5.339670</td><td>-4.323510</td><td> 4.11514 </td><td>-0.824634</td><td>⋯        </td><td>-1.908150</td><td>-1.821220</td><td>-2.917320</td><td>-1.047090</td><td>3481     </td><td>1.0      </td><td>-4.78062 </td><td>59       </td><td>59.0     </td><td>1        </td></tr>\n",
       "\t<tr><td>4948463  </td><td>4948463  </td><td>65       </td><td>1        </td><td>1        </td><td>-11.2271 </td><td> 4.647990</td><td>-4.505350</td><td> 1.11392 </td><td>-3.678600</td><td>⋯        </td><td> 0.442056</td><td> 2.736750</td><td> 1.787420</td><td>-2.239350</td><td>4225     </td><td>1.0      </td><td>-4.43758 </td><td>65       </td><td>65.0     </td><td>1        </td></tr>\n",
       "</tbody>\n",
       "</table>\n"
      ],
      "text/latex": [
       "\\begin{tabular}{r|lllllllllllllllllllllllllllllllllllllllllllllllllll}\n",
       " FID & IID & age & sex & Array & PC1 & PC2 & PC3 & PC4 & PC5 & ⋯ & PC37 & PC38 & PC39 & PC40 & agesquared & alcohol & TDI & age\\_sex & age\\_alcohol & sex\\_alcohol\\\\\n",
       "\\hline\n",
       "\t 5873991   & 5873991   & 65        & 0         & 1         & -11.3679  &  0.777251 & -0.858586 &  2.21528  & -5.915690 & ⋯         & -6.014370 & -3.633080 &  2.782900 &  0.949963 & 4225      & 1.0       & -5.38678  &  0        & 65.0      & 0        \\\\\n",
       "\t 2892098   & 2892098   & 69        & 0         & 1         & -11.8021  & -0.376470 & -2.649280 & -0.27651  & -5.916140 & ⋯         & -4.544080 & -0.106667 &  0.908469 &  5.307500 & 4761      & 0.5       & -4.46698  &  0        & 34.5      & 0        \\\\\n",
       "\t 2735732   & 2735732   & 58        & 1         & 1         & -13.2630  &  1.520770 & -1.424390 &  2.24802  & -0.682897 & ⋯         &  2.626880 &  0.462941 &  5.548500 &  2.072990 & 3364      & 0.0       & -1.38113  & 58        &  0.0      & 0        \\\\\n",
       "\t 3457781   & 3457781   & 62        & 1         & 1         & -10.8227  &  5.071960 & -2.164900 &  5.15150  & -7.712850 & ⋯         & -0.877694 & -1.570900 &  2.309040 & -3.886400 & 3844      & 1.0       &  0.49465  & 62        & 62.0      & 1        \\\\\n",
       "\t 5223342   & 5223342   & 59        & 1         & 1         & -11.8500  &  5.339670 & -4.323510 &  4.11514  & -0.824634 & ⋯         & -1.908150 & -1.821220 & -2.917320 & -1.047090 & 3481      & 1.0       & -4.78062  & 59        & 59.0      & 1        \\\\\n",
       "\t 4948463   & 4948463   & 65        & 1         & 1         & -11.2271  &  4.647990 & -4.505350 &  1.11392  & -3.678600 & ⋯         &  0.442056 &  2.736750 &  1.787420 & -2.239350 & 4225      & 1.0       & -4.43758  & 65        & 65.0      & 1        \\\\\n",
       "\\end{tabular}\n"
      ],
      "text/markdown": [
       "\n",
       "| FID | IID | age | sex | Array | PC1 | PC2 | PC3 | PC4 | PC5 | ⋯ | PC37 | PC38 | PC39 | PC40 | agesquared | alcohol | TDI | age_sex | age_alcohol | sex_alcohol |\n",
       "|---|---|---|---|---|---|---|---|---|---|---|---|---|---|---|---|---|---|---|---|---|\n",
       "| 5873991   | 5873991   | 65        | 0         | 1         | -11.3679  |  0.777251 | -0.858586 |  2.21528  | -5.915690 | ⋯         | -6.014370 | -3.633080 |  2.782900 |  0.949963 | 4225      | 1.0       | -5.38678  |  0        | 65.0      | 0         |\n",
       "| 2892098   | 2892098   | 69        | 0         | 1         | -11.8021  | -0.376470 | -2.649280 | -0.27651  | -5.916140 | ⋯         | -4.544080 | -0.106667 |  0.908469 |  5.307500 | 4761      | 0.5       | -4.46698  |  0        | 34.5      | 0         |\n",
       "| 2735732   | 2735732   | 58        | 1         | 1         | -13.2630  |  1.520770 | -1.424390 |  2.24802  | -0.682897 | ⋯         |  2.626880 |  0.462941 |  5.548500 |  2.072990 | 3364      | 0.0       | -1.38113  | 58        |  0.0      | 0         |\n",
       "| 3457781   | 3457781   | 62        | 1         | 1         | -10.8227  |  5.071960 | -2.164900 |  5.15150  | -7.712850 | ⋯         | -0.877694 | -1.570900 |  2.309040 | -3.886400 | 3844      | 1.0       |  0.49465  | 62        | 62.0      | 1         |\n",
       "| 5223342   | 5223342   | 59        | 1         | 1         | -11.8500  |  5.339670 | -4.323510 |  4.11514  | -0.824634 | ⋯         | -1.908150 | -1.821220 | -2.917320 | -1.047090 | 3481      | 1.0       | -4.78062  | 59        | 59.0      | 1         |\n",
       "| 4948463   | 4948463   | 65        | 1         | 1         | -11.2271  |  4.647990 | -4.505350 |  1.11392  | -3.678600 | ⋯         |  0.442056 |  2.736750 |  1.787420 | -2.239350 | 4225      | 1.0       | -4.43758  | 65        | 65.0      | 1         |\n",
       "\n"
      ],
      "text/plain": [
       "  FID     IID     age sex Array PC1      PC2       PC3       PC4      PC5      \n",
       "1 5873991 5873991 65  0   1     -11.3679  0.777251 -0.858586  2.21528 -5.915690\n",
       "2 2892098 2892098 69  0   1     -11.8021 -0.376470 -2.649280 -0.27651 -5.916140\n",
       "3 2735732 2735732 58  1   1     -13.2630  1.520770 -1.424390  2.24802 -0.682897\n",
       "4 3457781 3457781 62  1   1     -10.8227  5.071960 -2.164900  5.15150 -7.712850\n",
       "5 5223342 5223342 59  1   1     -11.8500  5.339670 -4.323510  4.11514 -0.824634\n",
       "6 4948463 4948463 65  1   1     -11.2271  4.647990 -4.505350  1.11392 -3.678600\n",
       "  ⋯ PC37      PC38      PC39      PC40      agesquared alcohol TDI      age_sex\n",
       "1 ⋯ -6.014370 -3.633080  2.782900  0.949963 4225       1.0     -5.38678  0     \n",
       "2 ⋯ -4.544080 -0.106667  0.908469  5.307500 4761       0.5     -4.46698  0     \n",
       "3 ⋯  2.626880  0.462941  5.548500  2.072990 3364       0.0     -1.38113 58     \n",
       "4 ⋯ -0.877694 -1.570900  2.309040 -3.886400 3844       1.0      0.49465 62     \n",
       "5 ⋯ -1.908150 -1.821220 -2.917320 -1.047090 3481       1.0     -4.78062 59     \n",
       "6 ⋯  0.442056  2.736750  1.787420 -2.239350 4225       1.0     -4.43758 65     \n",
       "  age_alcohol sex_alcohol\n",
       "1 65.0        0          \n",
       "2 34.5        0          \n",
       "3  0.0        0          \n",
       "4 62.0        1          \n",
       "5 59.0        1          \n",
       "6 65.0        1          "
      ]
     },
     "metadata": {},
     "output_type": "display_data"
    }
   ],
   "source": [
    "covars %>% head()"
   ]
  },
  {
   "cell_type": "code",
   "execution_count": 15,
   "metadata": {},
   "outputs": [],
   "source": [
    "joined_tbl <- phe_filtered %>% \n",
    "mutate(\n",
    "IID = as.character(IID)\n",
    ") %>%\n",
    "inner_join(\n",
    "    covars %>% mutate(IID = as.character(IID)),\n",
    "by='IID'\n",
    ")"
   ]
  },
  {
   "cell_type": "code",
   "execution_count": 16,
   "metadata": {},
   "outputs": [
    {
     "data": {
      "text/html": [
       "<table>\n",
       "<thead><tr><th scope=col>IID</th><th scope=col>INI22402</th><th scope=col>FID</th><th scope=col>age</th><th scope=col>sex</th><th scope=col>Array</th><th scope=col>PC1</th><th scope=col>PC2</th><th scope=col>PC3</th><th scope=col>PC4</th><th scope=col>⋯</th><th scope=col>PC37</th><th scope=col>PC38</th><th scope=col>PC39</th><th scope=col>PC40</th><th scope=col>agesquared</th><th scope=col>alcohol</th><th scope=col>TDI</th><th scope=col>age_sex</th><th scope=col>age_alcohol</th><th scope=col>sex_alcohol</th></tr></thead>\n",
       "<tbody>\n",
       "\t<tr><td>1001137   </td><td> 3.108    </td><td>1001137   </td><td>61        </td><td>1         </td><td>0         </td><td>-13.01490 </td><td> 3.338600 </td><td>-2.264860 </td><td> -0.349837</td><td>⋯         </td><td> 0.869919 </td><td> 3.201310 </td><td>-2.579360 </td><td>-0.6747010</td><td>3721      </td><td>1.0       </td><td>-0.806215 </td><td>61        </td><td>61.0      </td><td>1.0       </td></tr>\n",
       "\t<tr><td>1002448   </td><td> 2.581    </td><td>1002448   </td><td>60        </td><td>0         </td><td>1         </td><td>-10.17620 </td><td> 5.052790 </td><td>-0.694340 </td><td> -2.060610</td><td>⋯         </td><td> 2.261130 </td><td> 0.171075 </td><td> 1.797810 </td><td>-0.0810296</td><td>3600      </td><td>1.0       </td><td>-3.861450 </td><td> 0        </td><td>60.0      </td><td>0.0       </td></tr>\n",
       "\t<tr><td>1006073   </td><td> 1.233    </td><td>1006073   </td><td>61        </td><td>1         </td><td>1         </td><td> -1.42252 </td><td>-0.538327 </td><td> 7.508550 </td><td>-20.944000</td><td>⋯         </td><td> 1.106320 </td><td>-0.553876 </td><td> 0.133054 </td><td> 0.9059680</td><td>3721      </td><td>0.5       </td><td>-3.831880 </td><td>61        </td><td>30.5      </td><td>0.5       </td></tr>\n",
       "\t<tr><td>1007099   </td><td>10.606    </td><td>1007099   </td><td>67        </td><td>1         </td><td>1         </td><td>-11.32750 </td><td> 3.051870 </td><td>-1.202120 </td><td>  3.556140</td><td>⋯         </td><td>-0.412356 </td><td> 1.364850 </td><td>-1.017230 </td><td> 3.6320100</td><td>4489      </td><td>0.5       </td><td>-5.925960 </td><td>67        </td><td>33.5      </td><td>0.5       </td></tr>\n",
       "\t<tr><td>1008936   </td><td> 6.608    </td><td>1008936   </td><td>57        </td><td>0         </td><td>1         </td><td>-13.30260 </td><td> 1.273490 </td><td>-2.444740 </td><td>  5.384620</td><td>⋯         </td><td>-2.533430 </td><td> 3.269990 </td><td> 1.844400 </td><td> 2.4987700</td><td>3249      </td><td>1.0       </td><td>-4.442870 </td><td> 0        </td><td>57.0      </td><td>0.0       </td></tr>\n",
       "\t<tr><td>1009951   </td><td> 1.242    </td><td>1009951   </td><td>65        </td><td>1         </td><td>1         </td><td>-12.31130 </td><td> 4.887340 </td><td> 0.288938 </td><td>  1.435570</td><td>⋯         </td><td> 4.688960 </td><td>-0.861781 </td><td> 6.447690 </td><td>-1.0310500</td><td>4225      </td><td>0.5       </td><td> 1.183550 </td><td>65        </td><td>32.5      </td><td>0.5       </td></tr>\n",
       "</tbody>\n",
       "</table>\n"
      ],
      "text/latex": [
       "\\begin{tabular}{r|llllllllllllllllllllllllllllllllllllllllllllllllllll}\n",
       " IID & INI22402 & FID & age & sex & Array & PC1 & PC2 & PC3 & PC4 & ⋯ & PC37 & PC38 & PC39 & PC40 & agesquared & alcohol & TDI & age\\_sex & age\\_alcohol & sex\\_alcohol\\\\\n",
       "\\hline\n",
       "\t 1001137    &  3.108     & 1001137    & 61         & 1          & 0          & -13.01490  &  3.338600  & -2.264860  &  -0.349837 & ⋯          &  0.869919  &  3.201310  & -2.579360  & -0.6747010 & 3721       & 1.0        & -0.806215  & 61         & 61.0       & 1.0       \\\\\n",
       "\t 1002448    &  2.581     & 1002448    & 60         & 0          & 1          & -10.17620  &  5.052790  & -0.694340  &  -2.060610 & ⋯          &  2.261130  &  0.171075  &  1.797810  & -0.0810296 & 3600       & 1.0        & -3.861450  &  0         & 60.0       & 0.0       \\\\\n",
       "\t 1006073    &  1.233     & 1006073    & 61         & 1          & 1          &  -1.42252  & -0.538327  &  7.508550  & -20.944000 & ⋯          &  1.106320  & -0.553876  &  0.133054  &  0.9059680 & 3721       & 0.5        & -3.831880  & 61         & 30.5       & 0.5       \\\\\n",
       "\t 1007099    & 10.606     & 1007099    & 67         & 1          & 1          & -11.32750  &  3.051870  & -1.202120  &   3.556140 & ⋯          & -0.412356  &  1.364850  & -1.017230  &  3.6320100 & 4489       & 0.5        & -5.925960  & 67         & 33.5       & 0.5       \\\\\n",
       "\t 1008936    &  6.608     & 1008936    & 57         & 0          & 1          & -13.30260  &  1.273490  & -2.444740  &   5.384620 & ⋯          & -2.533430  &  3.269990  &  1.844400  &  2.4987700 & 3249       & 1.0        & -4.442870  &  0         & 57.0       & 0.0       \\\\\n",
       "\t 1009951    &  1.242     & 1009951    & 65         & 1          & 1          & -12.31130  &  4.887340  &  0.288938  &   1.435570 & ⋯          &  4.688960  & -0.861781  &  6.447690  & -1.0310500 & 4225       & 0.5        &  1.183550  & 65         & 32.5       & 0.5       \\\\\n",
       "\\end{tabular}\n"
      ],
      "text/markdown": [
       "\n",
       "| IID | INI22402 | FID | age | sex | Array | PC1 | PC2 | PC3 | PC4 | ⋯ | PC37 | PC38 | PC39 | PC40 | agesquared | alcohol | TDI | age_sex | age_alcohol | sex_alcohol |\n",
       "|---|---|---|---|---|---|---|---|---|---|---|---|---|---|---|---|---|---|---|---|---|\n",
       "| 1001137    |  3.108     | 1001137    | 61         | 1          | 0          | -13.01490  |  3.338600  | -2.264860  |  -0.349837 | ⋯          |  0.869919  |  3.201310  | -2.579360  | -0.6747010 | 3721       | 1.0        | -0.806215  | 61         | 61.0       | 1.0        |\n",
       "| 1002448    |  2.581     | 1002448    | 60         | 0          | 1          | -10.17620  |  5.052790  | -0.694340  |  -2.060610 | ⋯          |  2.261130  |  0.171075  |  1.797810  | -0.0810296 | 3600       | 1.0        | -3.861450  |  0         | 60.0       | 0.0        |\n",
       "| 1006073    |  1.233     | 1006073    | 61         | 1          | 1          |  -1.42252  | -0.538327  |  7.508550  | -20.944000 | ⋯          |  1.106320  | -0.553876  |  0.133054  |  0.9059680 | 3721       | 0.5        | -3.831880  | 61         | 30.5       | 0.5        |\n",
       "| 1007099    | 10.606     | 1007099    | 67         | 1          | 1          | -11.32750  |  3.051870  | -1.202120  |   3.556140 | ⋯          | -0.412356  |  1.364850  | -1.017230  |  3.6320100 | 4489       | 0.5        | -5.925960  | 67         | 33.5       | 0.5        |\n",
       "| 1008936    |  6.608     | 1008936    | 57         | 0          | 1          | -13.30260  |  1.273490  | -2.444740  |   5.384620 | ⋯          | -2.533430  |  3.269990  |  1.844400  |  2.4987700 | 3249       | 1.0        | -4.442870  |  0         | 57.0       | 0.0        |\n",
       "| 1009951    |  1.242     | 1009951    | 65         | 1          | 1          | -12.31130  |  4.887340  |  0.288938  |   1.435570 | ⋯          |  4.688960  | -0.861781  |  6.447690  | -1.0310500 | 4225       | 0.5        |  1.183550  | 65         | 32.5       | 0.5        |\n",
       "\n"
      ],
      "text/plain": [
       "  IID     INI22402 FID     age sex Array PC1       PC2       PC3      \n",
       "1 1001137  3.108   1001137 61  1   0     -13.01490  3.338600 -2.264860\n",
       "2 1002448  2.581   1002448 60  0   1     -10.17620  5.052790 -0.694340\n",
       "3 1006073  1.233   1006073 61  1   1      -1.42252 -0.538327  7.508550\n",
       "4 1007099 10.606   1007099 67  1   1     -11.32750  3.051870 -1.202120\n",
       "5 1008936  6.608   1008936 57  0   1     -13.30260  1.273490 -2.444740\n",
       "6 1009951  1.242   1009951 65  1   1     -12.31130  4.887340  0.288938\n",
       "  PC4        ⋯ PC37      PC38      PC39      PC40       agesquared alcohol\n",
       "1  -0.349837 ⋯  0.869919  3.201310 -2.579360 -0.6747010 3721       1.0    \n",
       "2  -2.060610 ⋯  2.261130  0.171075  1.797810 -0.0810296 3600       1.0    \n",
       "3 -20.944000 ⋯  1.106320 -0.553876  0.133054  0.9059680 3721       0.5    \n",
       "4   3.556140 ⋯ -0.412356  1.364850 -1.017230  3.6320100 4489       0.5    \n",
       "5   5.384620 ⋯ -2.533430  3.269990  1.844400  2.4987700 3249       1.0    \n",
       "6   1.435570 ⋯  4.688960 -0.861781  6.447690 -1.0310500 4225       0.5    \n",
       "  TDI       age_sex age_alcohol sex_alcohol\n",
       "1 -0.806215 61      61.0        1.0        \n",
       "2 -3.861450  0      60.0        0.0        \n",
       "3 -3.831880 61      30.5        0.5        \n",
       "4 -5.925960 67      33.5        0.5        \n",
       "5 -4.442870  0      57.0        0.0        \n",
       "6  1.183550 65      32.5        0.5        "
      ]
     },
     "metadata": {},
     "output_type": "display_data"
    }
   ],
   "source": [
    "joined_tbl %>% head()"
   ]
  },
  {
   "cell_type": "code",
   "execution_count": 17,
   "metadata": {},
   "outputs": [
    {
     "data": {
      "text/html": [
       "<ol class=list-inline>\n",
       "\t<li>'IID'</li>\n",
       "\t<li>'INI22402'</li>\n",
       "\t<li>'FID'</li>\n",
       "\t<li>'age'</li>\n",
       "\t<li>'sex'</li>\n",
       "\t<li>'Array'</li>\n",
       "\t<li>'PC1'</li>\n",
       "\t<li>'PC2'</li>\n",
       "\t<li>'PC3'</li>\n",
       "\t<li>'PC4'</li>\n",
       "\t<li>'PC5'</li>\n",
       "\t<li>'PC6'</li>\n",
       "\t<li>'PC7'</li>\n",
       "\t<li>'PC8'</li>\n",
       "\t<li>'PC9'</li>\n",
       "\t<li>'PC10'</li>\n",
       "\t<li>'PC11'</li>\n",
       "\t<li>'PC12'</li>\n",
       "\t<li>'PC13'</li>\n",
       "\t<li>'PC14'</li>\n",
       "\t<li>'PC15'</li>\n",
       "\t<li>'PC16'</li>\n",
       "\t<li>'PC17'</li>\n",
       "\t<li>'PC18'</li>\n",
       "\t<li>'PC19'</li>\n",
       "\t<li>'PC20'</li>\n",
       "\t<li>'PC21'</li>\n",
       "\t<li>'PC22'</li>\n",
       "\t<li>'PC23'</li>\n",
       "\t<li>'PC24'</li>\n",
       "\t<li>'PC25'</li>\n",
       "\t<li>'PC26'</li>\n",
       "\t<li>'PC27'</li>\n",
       "\t<li>'PC28'</li>\n",
       "\t<li>'PC29'</li>\n",
       "\t<li>'PC30'</li>\n",
       "\t<li>'PC31'</li>\n",
       "\t<li>'PC32'</li>\n",
       "\t<li>'PC33'</li>\n",
       "\t<li>'PC34'</li>\n",
       "\t<li>'PC35'</li>\n",
       "\t<li>'PC36'</li>\n",
       "\t<li>'PC37'</li>\n",
       "\t<li>'PC38'</li>\n",
       "\t<li>'PC39'</li>\n",
       "\t<li>'PC40'</li>\n",
       "\t<li>'agesquared'</li>\n",
       "\t<li>'alcohol'</li>\n",
       "\t<li>'TDI'</li>\n",
       "\t<li>'age_sex'</li>\n",
       "\t<li>'age_alcohol'</li>\n",
       "\t<li>'sex_alcohol'</li>\n",
       "</ol>\n"
      ],
      "text/latex": [
       "\\begin{enumerate*}\n",
       "\\item 'IID'\n",
       "\\item 'INI22402'\n",
       "\\item 'FID'\n",
       "\\item 'age'\n",
       "\\item 'sex'\n",
       "\\item 'Array'\n",
       "\\item 'PC1'\n",
       "\\item 'PC2'\n",
       "\\item 'PC3'\n",
       "\\item 'PC4'\n",
       "\\item 'PC5'\n",
       "\\item 'PC6'\n",
       "\\item 'PC7'\n",
       "\\item 'PC8'\n",
       "\\item 'PC9'\n",
       "\\item 'PC10'\n",
       "\\item 'PC11'\n",
       "\\item 'PC12'\n",
       "\\item 'PC13'\n",
       "\\item 'PC14'\n",
       "\\item 'PC15'\n",
       "\\item 'PC16'\n",
       "\\item 'PC17'\n",
       "\\item 'PC18'\n",
       "\\item 'PC19'\n",
       "\\item 'PC20'\n",
       "\\item 'PC21'\n",
       "\\item 'PC22'\n",
       "\\item 'PC23'\n",
       "\\item 'PC24'\n",
       "\\item 'PC25'\n",
       "\\item 'PC26'\n",
       "\\item 'PC27'\n",
       "\\item 'PC28'\n",
       "\\item 'PC29'\n",
       "\\item 'PC30'\n",
       "\\item 'PC31'\n",
       "\\item 'PC32'\n",
       "\\item 'PC33'\n",
       "\\item 'PC34'\n",
       "\\item 'PC35'\n",
       "\\item 'PC36'\n",
       "\\item 'PC37'\n",
       "\\item 'PC38'\n",
       "\\item 'PC39'\n",
       "\\item 'PC40'\n",
       "\\item 'agesquared'\n",
       "\\item 'alcohol'\n",
       "\\item 'TDI'\n",
       "\\item 'age\\_sex'\n",
       "\\item 'age\\_alcohol'\n",
       "\\item 'sex\\_alcohol'\n",
       "\\end{enumerate*}\n"
      ],
      "text/markdown": [
       "1. 'IID'\n",
       "2. 'INI22402'\n",
       "3. 'FID'\n",
       "4. 'age'\n",
       "5. 'sex'\n",
       "6. 'Array'\n",
       "7. 'PC1'\n",
       "8. 'PC2'\n",
       "9. 'PC3'\n",
       "10. 'PC4'\n",
       "11. 'PC5'\n",
       "12. 'PC6'\n",
       "13. 'PC7'\n",
       "14. 'PC8'\n",
       "15. 'PC9'\n",
       "16. 'PC10'\n",
       "17. 'PC11'\n",
       "18. 'PC12'\n",
       "19. 'PC13'\n",
       "20. 'PC14'\n",
       "21. 'PC15'\n",
       "22. 'PC16'\n",
       "23. 'PC17'\n",
       "24. 'PC18'\n",
       "25. 'PC19'\n",
       "26. 'PC20'\n",
       "27. 'PC21'\n",
       "28. 'PC22'\n",
       "29. 'PC23'\n",
       "30. 'PC24'\n",
       "31. 'PC25'\n",
       "32. 'PC26'\n",
       "33. 'PC27'\n",
       "34. 'PC28'\n",
       "35. 'PC29'\n",
       "36. 'PC30'\n",
       "37. 'PC31'\n",
       "38. 'PC32'\n",
       "39. 'PC33'\n",
       "40. 'PC34'\n",
       "41. 'PC35'\n",
       "42. 'PC36'\n",
       "43. 'PC37'\n",
       "44. 'PC38'\n",
       "45. 'PC39'\n",
       "46. 'PC40'\n",
       "47. 'agesquared'\n",
       "48. 'alcohol'\n",
       "49. 'TDI'\n",
       "50. 'age_sex'\n",
       "51. 'age_alcohol'\n",
       "52. 'sex_alcohol'\n",
       "\n",
       "\n"
      ],
      "text/plain": [
       " [1] \"IID\"         \"INI22402\"    \"FID\"         \"age\"         \"sex\"        \n",
       " [6] \"Array\"       \"PC1\"         \"PC2\"         \"PC3\"         \"PC4\"        \n",
       "[11] \"PC5\"         \"PC6\"         \"PC7\"         \"PC8\"         \"PC9\"        \n",
       "[16] \"PC10\"        \"PC11\"        \"PC12\"        \"PC13\"        \"PC14\"       \n",
       "[21] \"PC15\"        \"PC16\"        \"PC17\"        \"PC18\"        \"PC19\"       \n",
       "[26] \"PC20\"        \"PC21\"        \"PC22\"        \"PC23\"        \"PC24\"       \n",
       "[31] \"PC25\"        \"PC26\"        \"PC27\"        \"PC28\"        \"PC29\"       \n",
       "[36] \"PC30\"        \"PC31\"        \"PC32\"        \"PC33\"        \"PC34\"       \n",
       "[41] \"PC35\"        \"PC36\"        \"PC37\"        \"PC38\"        \"PC39\"       \n",
       "[46] \"PC40\"        \"agesquared\"  \"alcohol\"     \"TDI\"         \"age_sex\"    \n",
       "[51] \"age_alcohol\" \"sex_alcohol\""
      ]
     },
     "metadata": {},
     "output_type": "display_data"
    }
   ],
   "source": [
    "colnames(joined_tbl)"
   ]
  },
  {
   "cell_type": "code",
   "execution_count": 20,
   "metadata": {},
   "outputs": [],
   "source": [
    "cols <- c('FID', 'IID', 'INI22402', 'age', 'sex', 'Array', paste0('PC', 1:40),'agesquared','alcohol','TDI', 'age_sex', 'age_alcohol', 'sex_alcohol')"
   ]
  },
  {
   "cell_type": "code",
   "execution_count": 21,
   "metadata": {},
   "outputs": [
    {
     "data": {
      "text/html": [
       "52"
      ],
      "text/latex": [
       "52"
      ],
      "text/markdown": [
       "52"
      ],
      "text/plain": [
       "[1] 52"
      ]
     },
     "metadata": {},
     "output_type": "display_data"
    }
   ],
   "source": [
    "length(cols)"
   ]
  },
  {
   "cell_type": "code",
   "execution_count": 22,
   "metadata": {},
   "outputs": [
    {
     "data": {
      "text/html": [
       "<table>\n",
       "<thead><tr><th scope=col>FID</th><th scope=col>IID</th><th scope=col>INI22402</th><th scope=col>age</th><th scope=col>sex</th><th scope=col>Array</th><th scope=col>PC1</th><th scope=col>PC2</th><th scope=col>PC3</th><th scope=col>PC4</th><th scope=col>⋯</th><th scope=col>PC37</th><th scope=col>PC38</th><th scope=col>PC39</th><th scope=col>PC40</th><th scope=col>agesquared</th><th scope=col>alcohol</th><th scope=col>TDI</th><th scope=col>age_sex</th><th scope=col>age_alcohol</th><th scope=col>sex_alcohol</th></tr></thead>\n",
       "<tbody>\n",
       "\t<tr><td>1001137   </td><td>1001137   </td><td> 3.108    </td><td>61        </td><td>1         </td><td>0         </td><td>-13.01490 </td><td> 3.338600 </td><td>-2.264860 </td><td> -0.349837</td><td>⋯         </td><td> 0.869919 </td><td> 3.201310 </td><td>-2.579360 </td><td>-0.6747010</td><td>3721      </td><td>1.0       </td><td>-0.806215 </td><td>61        </td><td>61.0      </td><td>1.0       </td></tr>\n",
       "\t<tr><td>1002448   </td><td>1002448   </td><td> 2.581    </td><td>60        </td><td>0         </td><td>1         </td><td>-10.17620 </td><td> 5.052790 </td><td>-0.694340 </td><td> -2.060610</td><td>⋯         </td><td> 2.261130 </td><td> 0.171075 </td><td> 1.797810 </td><td>-0.0810296</td><td>3600      </td><td>1.0       </td><td>-3.861450 </td><td> 0        </td><td>60.0      </td><td>0.0       </td></tr>\n",
       "\t<tr><td>1006073   </td><td>1006073   </td><td> 1.233    </td><td>61        </td><td>1         </td><td>1         </td><td> -1.42252 </td><td>-0.538327 </td><td> 7.508550 </td><td>-20.944000</td><td>⋯         </td><td> 1.106320 </td><td>-0.553876 </td><td> 0.133054 </td><td> 0.9059680</td><td>3721      </td><td>0.5       </td><td>-3.831880 </td><td>61        </td><td>30.5      </td><td>0.5       </td></tr>\n",
       "\t<tr><td>1007099   </td><td>1007099   </td><td>10.606    </td><td>67        </td><td>1         </td><td>1         </td><td>-11.32750 </td><td> 3.051870 </td><td>-1.202120 </td><td>  3.556140</td><td>⋯         </td><td>-0.412356 </td><td> 1.364850 </td><td>-1.017230 </td><td> 3.6320100</td><td>4489      </td><td>0.5       </td><td>-5.925960 </td><td>67        </td><td>33.5      </td><td>0.5       </td></tr>\n",
       "\t<tr><td>1008936   </td><td>1008936   </td><td> 6.608    </td><td>57        </td><td>0         </td><td>1         </td><td>-13.30260 </td><td> 1.273490 </td><td>-2.444740 </td><td>  5.384620</td><td>⋯         </td><td>-2.533430 </td><td> 3.269990 </td><td> 1.844400 </td><td> 2.4987700</td><td>3249      </td><td>1.0       </td><td>-4.442870 </td><td> 0        </td><td>57.0      </td><td>0.0       </td></tr>\n",
       "\t<tr><td>1009951   </td><td>1009951   </td><td> 1.242    </td><td>65        </td><td>1         </td><td>1         </td><td>-12.31130 </td><td> 4.887340 </td><td> 0.288938 </td><td>  1.435570</td><td>⋯         </td><td> 4.688960 </td><td>-0.861781 </td><td> 6.447690 </td><td>-1.0310500</td><td>4225      </td><td>0.5       </td><td> 1.183550 </td><td>65        </td><td>32.5      </td><td>0.5       </td></tr>\n",
       "</tbody>\n",
       "</table>\n"
      ],
      "text/latex": [
       "\\begin{tabular}{r|llllllllllllllllllllllllllllllllllllllllllllllllllll}\n",
       " FID & IID & INI22402 & age & sex & Array & PC1 & PC2 & PC3 & PC4 & ⋯ & PC37 & PC38 & PC39 & PC40 & agesquared & alcohol & TDI & age\\_sex & age\\_alcohol & sex\\_alcohol\\\\\n",
       "\\hline\n",
       "\t 1001137    & 1001137    &  3.108     & 61         & 1          & 0          & -13.01490  &  3.338600  & -2.264860  &  -0.349837 & ⋯          &  0.869919  &  3.201310  & -2.579360  & -0.6747010 & 3721       & 1.0        & -0.806215  & 61         & 61.0       & 1.0       \\\\\n",
       "\t 1002448    & 1002448    &  2.581     & 60         & 0          & 1          & -10.17620  &  5.052790  & -0.694340  &  -2.060610 & ⋯          &  2.261130  &  0.171075  &  1.797810  & -0.0810296 & 3600       & 1.0        & -3.861450  &  0         & 60.0       & 0.0       \\\\\n",
       "\t 1006073    & 1006073    &  1.233     & 61         & 1          & 1          &  -1.42252  & -0.538327  &  7.508550  & -20.944000 & ⋯          &  1.106320  & -0.553876  &  0.133054  &  0.9059680 & 3721       & 0.5        & -3.831880  & 61         & 30.5       & 0.5       \\\\\n",
       "\t 1007099    & 1007099    & 10.606     & 67         & 1          & 1          & -11.32750  &  3.051870  & -1.202120  &   3.556140 & ⋯          & -0.412356  &  1.364850  & -1.017230  &  3.6320100 & 4489       & 0.5        & -5.925960  & 67         & 33.5       & 0.5       \\\\\n",
       "\t 1008936    & 1008936    &  6.608     & 57         & 0          & 1          & -13.30260  &  1.273490  & -2.444740  &   5.384620 & ⋯          & -2.533430  &  3.269990  &  1.844400  &  2.4987700 & 3249       & 1.0        & -4.442870  &  0         & 57.0       & 0.0       \\\\\n",
       "\t 1009951    & 1009951    &  1.242     & 65         & 1          & 1          & -12.31130  &  4.887340  &  0.288938  &   1.435570 & ⋯          &  4.688960  & -0.861781  &  6.447690  & -1.0310500 & 4225       & 0.5        &  1.183550  & 65         & 32.5       & 0.5       \\\\\n",
       "\\end{tabular}\n"
      ],
      "text/markdown": [
       "\n",
       "| FID | IID | INI22402 | age | sex | Array | PC1 | PC2 | PC3 | PC4 | ⋯ | PC37 | PC38 | PC39 | PC40 | agesquared | alcohol | TDI | age_sex | age_alcohol | sex_alcohol |\n",
       "|---|---|---|---|---|---|---|---|---|---|---|---|---|---|---|---|---|---|---|---|---|\n",
       "| 1001137    | 1001137    |  3.108     | 61         | 1          | 0          | -13.01490  |  3.338600  | -2.264860  |  -0.349837 | ⋯          |  0.869919  |  3.201310  | -2.579360  | -0.6747010 | 3721       | 1.0        | -0.806215  | 61         | 61.0       | 1.0        |\n",
       "| 1002448    | 1002448    |  2.581     | 60         | 0          | 1          | -10.17620  |  5.052790  | -0.694340  |  -2.060610 | ⋯          |  2.261130  |  0.171075  |  1.797810  | -0.0810296 | 3600       | 1.0        | -3.861450  |  0         | 60.0       | 0.0        |\n",
       "| 1006073    | 1006073    |  1.233     | 61         | 1          | 1          |  -1.42252  | -0.538327  |  7.508550  | -20.944000 | ⋯          |  1.106320  | -0.553876  |  0.133054  |  0.9059680 | 3721       | 0.5        | -3.831880  | 61         | 30.5       | 0.5        |\n",
       "| 1007099    | 1007099    | 10.606     | 67         | 1          | 1          | -11.32750  |  3.051870  | -1.202120  |   3.556140 | ⋯          | -0.412356  |  1.364850  | -1.017230  |  3.6320100 | 4489       | 0.5        | -5.925960  | 67         | 33.5       | 0.5        |\n",
       "| 1008936    | 1008936    |  6.608     | 57         | 0          | 1          | -13.30260  |  1.273490  | -2.444740  |   5.384620 | ⋯          | -2.533430  |  3.269990  |  1.844400  |  2.4987700 | 3249       | 1.0        | -4.442870  |  0         | 57.0       | 0.0        |\n",
       "| 1009951    | 1009951    |  1.242     | 65         | 1          | 1          | -12.31130  |  4.887340  |  0.288938  |   1.435570 | ⋯          |  4.688960  | -0.861781  |  6.447690  | -1.0310500 | 4225       | 0.5        |  1.183550  | 65         | 32.5       | 0.5        |\n",
       "\n"
      ],
      "text/plain": [
       "  FID     IID     INI22402 age sex Array PC1       PC2       PC3      \n",
       "1 1001137 1001137  3.108   61  1   0     -13.01490  3.338600 -2.264860\n",
       "2 1002448 1002448  2.581   60  0   1     -10.17620  5.052790 -0.694340\n",
       "3 1006073 1006073  1.233   61  1   1      -1.42252 -0.538327  7.508550\n",
       "4 1007099 1007099 10.606   67  1   1     -11.32750  3.051870 -1.202120\n",
       "5 1008936 1008936  6.608   57  0   1     -13.30260  1.273490 -2.444740\n",
       "6 1009951 1009951  1.242   65  1   1     -12.31130  4.887340  0.288938\n",
       "  PC4        ⋯ PC37      PC38      PC39      PC40       agesquared alcohol\n",
       "1  -0.349837 ⋯  0.869919  3.201310 -2.579360 -0.6747010 3721       1.0    \n",
       "2  -2.060610 ⋯  2.261130  0.171075  1.797810 -0.0810296 3600       1.0    \n",
       "3 -20.944000 ⋯  1.106320 -0.553876  0.133054  0.9059680 3721       0.5    \n",
       "4   3.556140 ⋯ -0.412356  1.364850 -1.017230  3.6320100 4489       0.5    \n",
       "5   5.384620 ⋯ -2.533430  3.269990  1.844400  2.4987700 3249       1.0    \n",
       "6   1.435570 ⋯  4.688960 -0.861781  6.447690 -1.0310500 4225       0.5    \n",
       "  TDI       age_sex age_alcohol sex_alcohol\n",
       "1 -0.806215 61      61.0        1.0        \n",
       "2 -3.861450  0      60.0        0.0        \n",
       "3 -3.831880 61      30.5        0.5        \n",
       "4 -5.925960 67      33.5        0.5        \n",
       "5 -4.442870  0      57.0        0.0        \n",
       "6  1.183550 65      32.5        0.5        "
      ]
     },
     "metadata": {},
     "output_type": "display_data"
    }
   ],
   "source": [
    "joined_tbl %>% select(cols) %>% head()"
   ]
  },
  {
   "cell_type": "code",
   "execution_count": 24,
   "metadata": {},
   "outputs": [],
   "source": [
    "joined_tbl %>% select(cols) %>% fwrite('INI22402.covars.tsv', sep='\\t')"
   ]
  },
  {
   "cell_type": "code",
   "execution_count": null,
   "metadata": {},
   "outputs": [],
   "source": []
  }
 ],
 "metadata": {
  "kernelspec": {
   "display_name": "R",
   "language": "R",
   "name": "ir"
  },
  "language_info": {
   "name": ""
  }
 },
 "nbformat": 4,
 "nbformat_minor": 2
}
